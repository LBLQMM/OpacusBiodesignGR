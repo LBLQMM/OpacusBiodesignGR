{
 "cells": [
  {
   "cell_type": "code",
   "execution_count": 2,
   "metadata": {},
   "outputs": [],
   "source": [
    "%matplotlib inline\n",
    "from matplotlib import pyplot as plt\n",
    "import numpy as np\n",
    "import pandas as pd\n",
    "import cobra\n",
    "import cplex"
   ]
  },
  {
   "cell_type": "code",
   "execution_count": 3,
   "metadata": {},
   "outputs": [],
   "source": [
    "universal = cobra.io.load_json_model(\"universal_model.json\")\n",
    "model = cobra.io.read_sbml_model(\"Ropacus_carveme.xml\")"
   ]
  },
  {
   "cell_type": "code",
   "execution_count": 4,
   "metadata": {},
   "outputs": [
    {
     "data": {
      "text/html": [
       "\n",
       "        <table>\n",
       "            <tr>\n",
       "                <td><strong>Name</strong></td>\n",
       "                <td>Ropacus_carveme</td>\n",
       "            </tr><tr>\n",
       "                <td><strong>Memory address</strong></td>\n",
       "                <td>0x07f9f2c0a7990</td>\n",
       "            </tr><tr>\n",
       "                <td><strong>Number of metabolites</strong></td>\n",
       "                <td>1563</td>\n",
       "            </tr><tr>\n",
       "                <td><strong>Number of reactions</strong></td>\n",
       "                <td>2363</td>\n",
       "            </tr><tr>\n",
       "                <td><strong>Number of groups</strong></td>\n",
       "                <td>0</td>\n",
       "            </tr><tr>\n",
       "                <td><strong>Objective expression</strong></td>\n",
       "                <td>1.0*Growth - 1.0*Growth_reverse_699ae</td>\n",
       "            </tr><tr>\n",
       "                <td><strong>Compartments</strong></td>\n",
       "                <td>cytosol, periplasm, extracellular space</td>\n",
       "            </tr>\n",
       "          </table>"
      ],
      "text/plain": [
       "<Model Ropacus_carveme at 0x7f9f2c0a7990>"
      ]
     },
     "execution_count": 4,
     "metadata": {},
     "output_type": "execute_result"
    }
   ],
   "source": [
    "model"
   ]
  },
  {
   "cell_type": "code",
   "execution_count": 4,
   "metadata": {},
   "outputs": [],
   "source": [
    "for m in model.metabolites:\n",
    "    if m in universal.metabolites:\n",
    "        m.annotation = universal.metabolites.get_by_id(m.id).annotation"
   ]
  },
  {
   "cell_type": "code",
   "execution_count": 6,
   "metadata": {},
   "outputs": [
    {
     "name": "stdout",
     "output_type": "stream",
     "text": [
      "1562 1563\n"
     ]
    }
   ],
   "source": [
    "i = 0\n",
    "for m in model.metabolites:\n",
    "    if m.annotation != {}:\n",
    "        i += 1\n",
    "#        print(m.id, m.annotation)\n",
    "print(i,len(model.metabolites))"
   ]
  },
  {
   "cell_type": "code",
   "execution_count": 7,
   "metadata": {},
   "outputs": [
    {
     "name": "stdout",
     "output_type": "stream",
     "text": [
      "cysth__L_c {}\n"
     ]
    }
   ],
   "source": [
    "for m in model.metabolites:\n",
    "    if m.annotation == {}:\n",
    "        print(m.id, m.annotation)"
   ]
  },
  {
   "cell_type": "code",
   "execution_count": 5,
   "metadata": {},
   "outputs": [],
   "source": [
    "model2 = cobra.io.load_json_model(\"iJO1366.json\")"
   ]
  },
  {
   "cell_type": "code",
   "execution_count": 9,
   "metadata": {},
   "outputs": [
    {
     "data": {
      "text/html": [
       "\n",
       "        <table>\n",
       "            <tr>\n",
       "                <td><strong>Metabolite identifier</strong></td><td>cyst__L_c</td>\n",
       "            </tr><tr>\n",
       "                <td><strong>Name</strong></td><td>L-Cystathionine</td>\n",
       "            </tr><tr>\n",
       "                <td><strong>Memory address</strong></td>\n",
       "                <td>0x07f4d240e1190</td>\n",
       "            </tr><tr>\n",
       "                <td><strong>Formula</strong></td><td>C7H14N2O4S</td>\n",
       "            </tr><tr>\n",
       "                <td><strong>Compartment</strong></td><td>c</td>\n",
       "            </tr><tr>\n",
       "                <td><strong>In 2 reaction(s)</strong></td><td>\n",
       "                    SHSL1, CYSTL</td>\n",
       "            </tr>\n",
       "        </table>"
      ],
      "text/plain": [
       "<Metabolite cyst__L_c at 0x7f4d240e1190>"
      ]
     },
     "execution_count": 9,
     "metadata": {},
     "output_type": "execute_result"
    }
   ],
   "source": [
    "model2.metabolites.get_by_id('cyst__L_c')"
   ]
  },
  {
   "cell_type": "code",
   "execution_count": 10,
   "metadata": {},
   "outputs": [],
   "source": [
    "model.metabolites.get_by_id('cysth__L_c').annotation = model2.metabolites.get_by_id('cyst__L_c').annotation"
   ]
  },
  {
   "cell_type": "code",
   "execution_count": 11,
   "metadata": {},
   "outputs": [
    {
     "name": "stdout",
     "output_type": "stream",
     "text": [
      "2328 2363\n"
     ]
    }
   ],
   "source": [
    "i = 0\n",
    "for r in model.reactions:\n",
    "    if r in universal.reactions:\n",
    "        i += 1\n",
    "        r.annotation = universal.reactions.get_by_id(r.id).annotation\n",
    "print(i,len(model.reactions)) "
   ]
  },
  {
   "cell_type": "code",
   "execution_count": 12,
   "metadata": {},
   "outputs": [
    {
     "name": "stdout",
     "output_type": "stream",
     "text": [
      "5CM2HMUDI {}\n",
      "ALCD3 {}\n",
      "ASADi {}\n",
      "CYSTGL_1 {}\n",
      "CYSTS_2 {}\n",
      "DHFOR2 {}\n",
      "ECOAH1_2 {}\n",
      "ECOAH5_2 {}\n",
      "FLDO {}\n",
      "H2St {}\n",
      "HACD1_2 {}\n",
      "HMGCOASi {}\n",
      "HOPNTAL3 {}\n",
      "HSDx {}\n",
      "KARA1i {}\n",
      "KAT2 {}\n",
      "KAT3 {}\n",
      "KAT4 {}\n",
      "KAT5 {}\n",
      "KAT6 {}\n",
      "KAT7 {}\n",
      "NIT1b_1 {}\n",
      "PGM_1 {}\n",
      "PPGKr {}\n",
      "PPK2r {}\n",
      "PPKr {}\n",
      "SPMDt3 {}\n",
      "SULRi {}\n",
      "sink_2ohph_c {}\n",
      "sink_4hba_c {}\n",
      "sink_5drib_c {}\n",
      "sink_bmocogdp_c {}\n",
      "sink_lipopb_c {}\n",
      "sink_sheme_c {}\n",
      "Growth {}\n",
      "35\n"
     ]
    }
   ],
   "source": [
    "i = 0\n",
    "for r in model.reactions:\n",
    "    if r.annotation == {}:\n",
    "        i += 1\n",
    "        print(r.id, r.annotation)\n",
    "print(i)"
   ]
  },
  {
   "cell_type": "code",
   "execution_count": 13,
   "metadata": {},
   "outputs": [
    {
     "data": {
      "text/html": [
       "\n",
       "        <table>\n",
       "            <tr>\n",
       "                <td><strong>Reaction identifier</strong></td><td>5CM2HMUDI</td>\n",
       "            </tr><tr>\n",
       "                <td><strong>Name</strong></td><td>5 carboxymethyl 2 hydroxymuconate delta isomerase</td>\n",
       "            </tr><tr>\n",
       "                <td><strong>Memory address</strong></td>\n",
       "                <td>0x07f4dcb7ad350</td>\n",
       "            </tr><tr>\n",
       "                <td><strong>Stoichiometry</strong></td>\n",
       "                <td>\n",
       "                    <p style='text-align:right'>5cmhm_c --> 5cohe_c</p>\n",
       "                    <p style='text-align:right'>5-Carboxymethyl-2-hydroxymuconate --> 5-Carboxy-2-oxohept-3-enedioate</p>\n",
       "                </td>\n",
       "            </tr><tr>\n",
       "                <td><strong>GPR</strong></td><td></td>\n",
       "            </tr><tr>\n",
       "                <td><strong>Lower bound</strong></td><td>0.0</td>\n",
       "            </tr><tr>\n",
       "                <td><strong>Upper bound</strong></td><td>1000.0</td>\n",
       "            </tr>\n",
       "        </table>\n",
       "        "
      ],
      "text/plain": [
       "<Reaction 5CM2HMUDI at 0x7f4dcb7ad350>"
      ]
     },
     "execution_count": 13,
     "metadata": {},
     "output_type": "execute_result"
    }
   ],
   "source": [
    "model.reactions.get_by_id('5CM2HMUDI')"
   ]
  },
  {
   "cell_type": "code",
   "execution_count": 14,
   "metadata": {},
   "outputs": [
    {
     "data": {
      "text/html": [
       "\n",
       "        <table>\n",
       "            <tr>\n",
       "                <td><strong>Reaction identifier</strong></td><td>CMHMI</td>\n",
       "            </tr><tr>\n",
       "                <td><strong>Name</strong></td><td>5 carboxymethyl 2 hydroxymuconate delta isomerase</td>\n",
       "            </tr><tr>\n",
       "                <td><strong>Memory address</strong></td>\n",
       "                <td>0x07f4dd7d8d850</td>\n",
       "            </tr><tr>\n",
       "                <td><strong>Stoichiometry</strong></td>\n",
       "                <td>\n",
       "                    <p style='text-align:right'>5cmhm_c --> 5cohe_c</p>\n",
       "                    <p style='text-align:right'>5-Carboxymethyl-2-hydroxymuconate --> 5-Carboxy-2-oxohept-3-enedioate</p>\n",
       "                </td>\n",
       "            </tr><tr>\n",
       "                <td><strong>GPR</strong></td><td></td>\n",
       "            </tr><tr>\n",
       "                <td><strong>Lower bound</strong></td><td>0.0</td>\n",
       "            </tr><tr>\n",
       "                <td><strong>Upper bound</strong></td><td>1000.0</td>\n",
       "            </tr>\n",
       "        </table>\n",
       "        "
      ],
      "text/plain": [
       "<Reaction CMHMI at 0x7f4dd7d8d850>"
      ]
     },
     "execution_count": 14,
     "metadata": {},
     "output_type": "execute_result"
    }
   ],
   "source": [
    "universal.reactions.get_by_id('CMHMI')"
   ]
  },
  {
   "cell_type": "code",
   "execution_count": 15,
   "metadata": {},
   "outputs": [],
   "source": [
    "model.reactions.get_by_id('5CM2HMUDI').annotation = universal.reactions.get_by_id('CMHMI').annotation"
   ]
  },
  {
   "cell_type": "code",
   "execution_count": 16,
   "metadata": {},
   "outputs": [
    {
     "data": {
      "text/html": [
       "\n",
       "        <table>\n",
       "            <tr>\n",
       "                <td><strong>Reaction identifier</strong></td><td>ALCD3</td>\n",
       "            </tr><tr>\n",
       "                <td><strong>Name</strong></td><td>Alcohol dehydrogenase (propanol)</td>\n",
       "            </tr><tr>\n",
       "                <td><strong>Memory address</strong></td>\n",
       "                <td>0x07f4dcbd11610</td>\n",
       "            </tr><tr>\n",
       "                <td><strong>Stoichiometry</strong></td>\n",
       "                <td>\n",
       "                    <p style='text-align:right'>nad_c + ppoh_c <=> h_c + nadh_c + ppal_c</p>\n",
       "                    <p style='text-align:right'>Nicotinamide adenine dinucleotide + 1-Propanol <=> H+ + Nicotinamide adenine dinucleotide - reduced + Propanal</p>\n",
       "                </td>\n",
       "            </tr><tr>\n",
       "                <td><strong>GPR</strong></td><td>WP_005239439_1 or WP_005239448_1</td>\n",
       "            </tr><tr>\n",
       "                <td><strong>Lower bound</strong></td><td>-1000.0</td>\n",
       "            </tr><tr>\n",
       "                <td><strong>Upper bound</strong></td><td>1000.0</td>\n",
       "            </tr>\n",
       "        </table>\n",
       "        "
      ],
      "text/plain": [
       "<Reaction ALCD3 at 0x7f4dcbd11610>"
      ]
     },
     "execution_count": 16,
     "metadata": {},
     "output_type": "execute_result"
    }
   ],
   "source": [
    "model.reactions.get_by_id('ALCD3')"
   ]
  },
  {
   "cell_type": "code",
   "execution_count": 21,
   "metadata": {},
   "outputs": [
    {
     "data": {
      "text/html": [
       "\n",
       "        <table>\n",
       "            <tr>\n",
       "                <td><strong>Reaction identifier</strong></td><td>ALCD3ir</td>\n",
       "            </tr><tr>\n",
       "                <td><strong>Name</strong></td><td>Alcohol dehydrogenase Propanal </td>\n",
       "            </tr><tr>\n",
       "                <td><strong>Memory address</strong></td>\n",
       "                <td>0x07f4dd7750450</td>\n",
       "            </tr><tr>\n",
       "                <td><strong>Stoichiometry</strong></td>\n",
       "                <td>\n",
       "                    <p style='text-align:right'>h_c + nadh_c + ppal_c --> nad_c + ppoh_c</p>\n",
       "                    <p style='text-align:right'>H+ + Nicotinamide adenine dinucleotide - reduced + Propanal --> Nicotinamide adenine dinucleotide + 1-Propanol</p>\n",
       "                </td>\n",
       "            </tr><tr>\n",
       "                <td><strong>GPR</strong></td><td></td>\n",
       "            </tr><tr>\n",
       "                <td><strong>Lower bound</strong></td><td>0.0</td>\n",
       "            </tr><tr>\n",
       "                <td><strong>Upper bound</strong></td><td>1000.0</td>\n",
       "            </tr>\n",
       "        </table>\n",
       "        "
      ],
      "text/plain": [
       "<Reaction ALCD3ir at 0x7f4dd7750450>"
      ]
     },
     "execution_count": 21,
     "metadata": {},
     "output_type": "execute_result"
    }
   ],
   "source": [
    "universal.reactions.get_by_id('ALCD3ir')"
   ]
  },
  {
   "cell_type": "code",
   "execution_count": 28,
   "metadata": {},
   "outputs": [],
   "source": [
    "model.reactions.get_by_id('ALCD3').annotation = universal.reactions.get_by_id('ALCD3ir').annotation"
   ]
  },
  {
   "cell_type": "code",
   "execution_count": 29,
   "metadata": {},
   "outputs": [
    {
     "data": {
      "text/html": [
       "\n",
       "        <table>\n",
       "            <tr>\n",
       "                <td><strong>Reaction identifier</strong></td><td>ASADi</td>\n",
       "            </tr><tr>\n",
       "                <td><strong>Name</strong></td><td>Aspartate semialdehyde dehydrogenase  irreversible</td>\n",
       "            </tr><tr>\n",
       "                <td><strong>Memory address</strong></td>\n",
       "                <td>0x07f4dcbedd810</td>\n",
       "            </tr><tr>\n",
       "                <td><strong>Stoichiometry</strong></td>\n",
       "                <td>\n",
       "                    <p style='text-align:right'>4pasp_c + h_c + nadph_c --> aspsa_c + nadp_c + pi_c</p>\n",
       "                    <p style='text-align:right'>4-Phospho-L-aspartate + H+ + Nicotinamide adenine dinucleotide phosphate - reduced --> L-Aspartate 4-semialdehyde + Nicotinamide adenine dinucleotide phosphate + Phosphate</p>\n",
       "                </td>\n",
       "            </tr><tr>\n",
       "                <td><strong>GPR</strong></td><td></td>\n",
       "            </tr><tr>\n",
       "                <td><strong>Lower bound</strong></td><td>0.0</td>\n",
       "            </tr><tr>\n",
       "                <td><strong>Upper bound</strong></td><td>1000.0</td>\n",
       "            </tr>\n",
       "        </table>\n",
       "        "
      ],
      "text/plain": [
       "<Reaction ASADi at 0x7f4dcbedd810>"
      ]
     },
     "execution_count": 29,
     "metadata": {},
     "output_type": "execute_result"
    }
   ],
   "source": [
    "model.reactions.get_by_id('ASADi')"
   ]
  },
  {
   "cell_type": "code",
   "execution_count": 30,
   "metadata": {},
   "outputs": [
    {
     "data": {
      "text/html": [
       "\n",
       "        <table>\n",
       "            <tr>\n",
       "                <td><strong>Reaction identifier</strong></td><td>ASAD</td>\n",
       "            </tr><tr>\n",
       "                <td><strong>Name</strong></td><td>Aspartate-semialdehyde dehydrogenase</td>\n",
       "            </tr><tr>\n",
       "                <td><strong>Memory address</strong></td>\n",
       "                <td>0x07f4ddd9ae710</td>\n",
       "            </tr><tr>\n",
       "                <td><strong>Stoichiometry</strong></td>\n",
       "                <td>\n",
       "                    <p style='text-align:right'>aspsa_c + nadp_c + pi_c --> 4pasp_c + h_c + nadph_c</p>\n",
       "                    <p style='text-align:right'>L-Aspartate 4-semialdehyde + Nicotinamide adenine dinucleotide phosphate + Phosphate --> 4-Phospho-L-aspartate + H+ + Nicotinamide adenine dinucleotide phosphate - reduced</p>\n",
       "                </td>\n",
       "            </tr><tr>\n",
       "                <td><strong>GPR</strong></td><td></td>\n",
       "            </tr><tr>\n",
       "                <td><strong>Lower bound</strong></td><td>0.0</td>\n",
       "            </tr><tr>\n",
       "                <td><strong>Upper bound</strong></td><td>1000.0</td>\n",
       "            </tr>\n",
       "        </table>\n",
       "        "
      ],
      "text/plain": [
       "<Reaction ASAD at 0x7f4ddd9ae710>"
      ]
     },
     "execution_count": 30,
     "metadata": {},
     "output_type": "execute_result"
    }
   ],
   "source": [
    "universal.reactions.get_by_id('ASAD')"
   ]
  },
  {
   "cell_type": "code",
   "execution_count": 31,
   "metadata": {},
   "outputs": [],
   "source": [
    "model.reactions.get_by_id('ASADi').annotation = universal.reactions.get_by_id('ASAD').annotation"
   ]
  },
  {
   "cell_type": "code",
   "execution_count": 32,
   "metadata": {},
   "outputs": [
    {
     "data": {
      "text/html": [
       "\n",
       "        <table>\n",
       "            <tr>\n",
       "                <td><strong>Reaction identifier</strong></td><td>CYSTGL_1</td>\n",
       "            </tr><tr>\n",
       "                <td><strong>Name</strong></td><td>Cystathionine g lyase</td>\n",
       "            </tr><tr>\n",
       "                <td><strong>Memory address</strong></td>\n",
       "                <td>0x07f4dcc4d1190</td>\n",
       "            </tr><tr>\n",
       "                <td><strong>Stoichiometry</strong></td>\n",
       "                <td>\n",
       "                    <p style='text-align:right'>cysth__L_c + h2o_c --> 2obut_c + cys__L_c + nh4_c</p>\n",
       "                    <p style='text-align:right'>L Cystathionine C7H14N2O4S + H2O --> 2-Oxobutanoate + L-Cysteine + Ammonium</p>\n",
       "                </td>\n",
       "            </tr><tr>\n",
       "                <td><strong>GPR</strong></td><td>WP_005240414_1</td>\n",
       "            </tr><tr>\n",
       "                <td><strong>Lower bound</strong></td><td>0.0</td>\n",
       "            </tr><tr>\n",
       "                <td><strong>Upper bound</strong></td><td>1000.0</td>\n",
       "            </tr>\n",
       "        </table>\n",
       "        "
      ],
      "text/plain": [
       "<Reaction CYSTGL_1 at 0x7f4dcc4d1190>"
      ]
     },
     "execution_count": 32,
     "metadata": {},
     "output_type": "execute_result"
    }
   ],
   "source": [
    "model.reactions.get_by_id('CYSTGL_1')"
   ]
  },
  {
   "cell_type": "code",
   "execution_count": 33,
   "metadata": {},
   "outputs": [
    {
     "data": {
      "text/html": [
       "\n",
       "        <table>\n",
       "            <tr>\n",
       "                <td><strong>Reaction identifier</strong></td><td>CYSTGL</td>\n",
       "            </tr><tr>\n",
       "                <td><strong>Name</strong></td><td>Cystathionine g lyase</td>\n",
       "            </tr><tr>\n",
       "                <td><strong>Memory address</strong></td>\n",
       "                <td>0x07f4dca753790</td>\n",
       "            </tr><tr>\n",
       "                <td><strong>Stoichiometry</strong></td>\n",
       "                <td>\n",
       "                    <p style='text-align:right'>cyst__L_c + h2o_c --> 2obut_c + cys__L_c + nh4_c</p>\n",
       "                    <p style='text-align:right'>L-Cystathionine + H2O H2O --> 2-Oxobutanoate + L-Cysteine + Ammonium</p>\n",
       "                </td>\n",
       "            </tr><tr>\n",
       "                <td><strong>GPR</strong></td><td></td>\n",
       "            </tr><tr>\n",
       "                <td><strong>Lower bound</strong></td><td>0.0</td>\n",
       "            </tr><tr>\n",
       "                <td><strong>Upper bound</strong></td><td>1000.0</td>\n",
       "            </tr>\n",
       "        </table>\n",
       "        "
      ],
      "text/plain": [
       "<Reaction CYSTGL at 0x7f4dca753790>"
      ]
     },
     "execution_count": 33,
     "metadata": {},
     "output_type": "execute_result"
    }
   ],
   "source": [
    "universal.reactions.get_by_id('CYSTGL')"
   ]
  },
  {
   "cell_type": "code",
   "execution_count": 34,
   "metadata": {},
   "outputs": [],
   "source": [
    "model.reactions.get_by_id('CYSTGL_1').annotation = universal.reactions.get_by_id('CYSTGL').annotation"
   ]
  },
  {
   "cell_type": "code",
   "execution_count": 35,
   "metadata": {},
   "outputs": [
    {
     "data": {
      "text/html": [
       "\n",
       "        <table>\n",
       "            <tr>\n",
       "                <td><strong>Reaction identifier</strong></td><td>CYSTS_2</td>\n",
       "            </tr><tr>\n",
       "                <td><strong>Name</strong></td><td>Cystathionine b synthase</td>\n",
       "            </tr><tr>\n",
       "                <td><strong>Memory address</strong></td>\n",
       "                <td>0x07f4dcc4bb110</td>\n",
       "            </tr><tr>\n",
       "                <td><strong>Stoichiometry</strong></td>\n",
       "                <td>\n",
       "                    <p style='text-align:right'>hcys__L_c + ser__L_c --> cysth__L_c + h2o_c</p>\n",
       "                    <p style='text-align:right'>L-Homocysteine + L-Serine --> L Cystathionine C7H14N2O4S + H2O</p>\n",
       "                </td>\n",
       "            </tr><tr>\n",
       "                <td><strong>GPR</strong></td><td></td>\n",
       "            </tr><tr>\n",
       "                <td><strong>Lower bound</strong></td><td>0.0</td>\n",
       "            </tr><tr>\n",
       "                <td><strong>Upper bound</strong></td><td>1000.0</td>\n",
       "            </tr>\n",
       "        </table>\n",
       "        "
      ],
      "text/plain": [
       "<Reaction CYSTS_2 at 0x7f4dcc4bb110>"
      ]
     },
     "execution_count": 35,
     "metadata": {},
     "output_type": "execute_result"
    }
   ],
   "source": [
    "model.reactions.get_by_id('CYSTS_2')"
   ]
  },
  {
   "cell_type": "code",
   "execution_count": 36,
   "metadata": {},
   "outputs": [
    {
     "data": {
      "text/html": [
       "\n",
       "        <table>\n",
       "            <tr>\n",
       "                <td><strong>Reaction identifier</strong></td><td>CYSTS</td>\n",
       "            </tr><tr>\n",
       "                <td><strong>Name</strong></td><td>Cystathionine beta synthase</td>\n",
       "            </tr><tr>\n",
       "                <td><strong>Memory address</strong></td>\n",
       "                <td>0x07f4ddda475d0</td>\n",
       "            </tr><tr>\n",
       "                <td><strong>Stoichiometry</strong></td>\n",
       "                <td>\n",
       "                    <p style='text-align:right'>hcys__L_c + ser__L_c --> cyst__L_c + h2o_c</p>\n",
       "                    <p style='text-align:right'>L-Homocysteine + L-Serine --> L-Cystathionine + H2O H2O</p>\n",
       "                </td>\n",
       "            </tr><tr>\n",
       "                <td><strong>GPR</strong></td><td></td>\n",
       "            </tr><tr>\n",
       "                <td><strong>Lower bound</strong></td><td>0.0</td>\n",
       "            </tr><tr>\n",
       "                <td><strong>Upper bound</strong></td><td>1000.0</td>\n",
       "            </tr>\n",
       "        </table>\n",
       "        "
      ],
      "text/plain": [
       "<Reaction CYSTS at 0x7f4ddda475d0>"
      ]
     },
     "execution_count": 36,
     "metadata": {},
     "output_type": "execute_result"
    }
   ],
   "source": [
    "universal.reactions.get_by_id('CYSTS')"
   ]
  },
  {
   "cell_type": "code",
   "execution_count": 37,
   "metadata": {},
   "outputs": [],
   "source": [
    "model.reactions.get_by_id('CYSTS_2').annotation = universal.reactions.get_by_id('CYSTS').annotation"
   ]
  },
  {
   "cell_type": "code",
   "execution_count": 38,
   "metadata": {},
   "outputs": [
    {
     "data": {
      "text/html": [
       "\n",
       "        <table>\n",
       "            <tr>\n",
       "                <td><strong>Reaction identifier</strong></td><td>DHFOR2</td>\n",
       "            </tr><tr>\n",
       "                <td><strong>Name</strong></td><td>Dihydrofolate reductase</td>\n",
       "            </tr><tr>\n",
       "                <td><strong>Memory address</strong></td>\n",
       "                <td>0x07f4dcc6f9550</td>\n",
       "            </tr><tr>\n",
       "                <td><strong>Stoichiometry</strong></td>\n",
       "                <td>\n",
       "                    <p style='text-align:right'>dhf_c + nadp_c <=> fol_c + nadph_c</p>\n",
       "                    <p style='text-align:right'>7,8-Dihydrofolate + Nicotinamide adenine dinucleotide phosphate <=> Folate + Nicotinamide adenine dinucleotide phosphate - reduced</p>\n",
       "                </td>\n",
       "            </tr><tr>\n",
       "                <td><strong>GPR</strong></td><td></td>\n",
       "            </tr><tr>\n",
       "                <td><strong>Lower bound</strong></td><td>-1000.0</td>\n",
       "            </tr><tr>\n",
       "                <td><strong>Upper bound</strong></td><td>1000.0</td>\n",
       "            </tr>\n",
       "        </table>\n",
       "        "
      ],
      "text/plain": [
       "<Reaction DHFOR2 at 0x7f4dcc6f9550>"
      ]
     },
     "execution_count": 38,
     "metadata": {},
     "output_type": "execute_result"
    }
   ],
   "source": [
    "model.reactions.get_by_id('DHFOR2')"
   ]
  },
  {
   "cell_type": "code",
   "execution_count": 40,
   "metadata": {},
   "outputs": [
    {
     "data": {
      "text/html": [
       "\n",
       "        <table>\n",
       "            <tr>\n",
       "                <td><strong>Reaction identifier</strong></td><td>FOLR2</td>\n",
       "            </tr><tr>\n",
       "                <td><strong>Name</strong></td><td>Folate reductase</td>\n",
       "            </tr><tr>\n",
       "                <td><strong>Memory address</strong></td>\n",
       "                <td>0x07f4dc76f9f50</td>\n",
       "            </tr><tr>\n",
       "                <td><strong>Stoichiometry</strong></td>\n",
       "                <td>\n",
       "                    <p style='text-align:right'>fol_c + nadph_c --> dhf_c + nadp_c</p>\n",
       "                    <p style='text-align:right'>Folate + Nicotinamide adenine dinucleotide phosphate - reduced --> 7,8-Dihydrofolate + Nicotinamide adenine dinucleotide phosphate</p>\n",
       "                </td>\n",
       "            </tr><tr>\n",
       "                <td><strong>GPR</strong></td><td></td>\n",
       "            </tr><tr>\n",
       "                <td><strong>Lower bound</strong></td><td>0.0</td>\n",
       "            </tr><tr>\n",
       "                <td><strong>Upper bound</strong></td><td>1000.0</td>\n",
       "            </tr>\n",
       "        </table>\n",
       "        "
      ],
      "text/plain": [
       "<Reaction FOLR2 at 0x7f4dc76f9f50>"
      ]
     },
     "execution_count": 40,
     "metadata": {},
     "output_type": "execute_result"
    }
   ],
   "source": [
    "universal.reactions.get_by_id('FOLR2')"
   ]
  },
  {
   "cell_type": "code",
   "execution_count": 41,
   "metadata": {},
   "outputs": [],
   "source": [
    "model.reactions.get_by_id('DHFOR2').annotation = universal.reactions.get_by_id('FOLR2').annotation"
   ]
  },
  {
   "cell_type": "code",
   "execution_count": 42,
   "metadata": {},
   "outputs": [
    {
     "data": {
      "text/html": [
       "\n",
       "        <table>\n",
       "            <tr>\n",
       "                <td><strong>Reaction identifier</strong></td><td>ECOAH1_2</td>\n",
       "            </tr><tr>\n",
       "                <td><strong>Name</strong></td><td>3 hydroxyacyl CoA dehydratase  3 hydroxybutanoyl CoA </td>\n",
       "            </tr><tr>\n",
       "                <td><strong>Memory address</strong></td>\n",
       "                <td>0x07f4dcc963550</td>\n",
       "            </tr><tr>\n",
       "                <td><strong>Stoichiometry</strong></td>\n",
       "                <td>\n",
       "                    <p style='text-align:right'>3hbycoa_c <=> b2coa_c + h2o_c</p>\n",
       "                    <p style='text-align:right'> S  3 Hydroxybutyryl CoA C25H38N7O18P3S <=> Crotonoyl-CoA + H2O</p>\n",
       "                </td>\n",
       "            </tr><tr>\n",
       "                <td><strong>GPR</strong></td><td>WP_005240312_1 or WP_005250878_1</td>\n",
       "            </tr><tr>\n",
       "                <td><strong>Lower bound</strong></td><td>-1000.0</td>\n",
       "            </tr><tr>\n",
       "                <td><strong>Upper bound</strong></td><td>1000.0</td>\n",
       "            </tr>\n",
       "        </table>\n",
       "        "
      ],
      "text/plain": [
       "<Reaction ECOAH1_2 at 0x7f4dcc963550>"
      ]
     },
     "execution_count": 42,
     "metadata": {},
     "output_type": "execute_result"
    }
   ],
   "source": [
    "model.reactions.get_by_id('ECOAH1_2')"
   ]
  },
  {
   "cell_type": "code",
   "execution_count": 43,
   "metadata": {},
   "outputs": [
    {
     "data": {
      "text/html": [
       "\n",
       "        <table>\n",
       "            <tr>\n",
       "                <td><strong>Reaction identifier</strong></td><td>ECOAH1_1</td>\n",
       "            </tr><tr>\n",
       "                <td><strong>Name</strong></td><td>3 hydroxyacyl CoA dehydratase  3 hydroxybutanoyl CoA </td>\n",
       "            </tr><tr>\n",
       "                <td><strong>Memory address</strong></td>\n",
       "                <td>0x07f4dd2afb8d0</td>\n",
       "            </tr><tr>\n",
       "                <td><strong>Stoichiometry</strong></td>\n",
       "                <td>\n",
       "                    <p style='text-align:right'>3hbycoa_c --> b2coa_c + h2o_c</p>\n",
       "                    <p style='text-align:right'> S  3 Hydroxybutyryl CoA C25H38N7O18P3S --> Crotonoyl-CoA + H2O H2O</p>\n",
       "                </td>\n",
       "            </tr><tr>\n",
       "                <td><strong>GPR</strong></td><td></td>\n",
       "            </tr><tr>\n",
       "                <td><strong>Lower bound</strong></td><td>0.0</td>\n",
       "            </tr><tr>\n",
       "                <td><strong>Upper bound</strong></td><td>1000.0</td>\n",
       "            </tr>\n",
       "        </table>\n",
       "        "
      ],
      "text/plain": [
       "<Reaction ECOAH1_1 at 0x7f4dd2afb8d0>"
      ]
     },
     "execution_count": 43,
     "metadata": {},
     "output_type": "execute_result"
    }
   ],
   "source": [
    "universal.reactions.get_by_id('ECOAH1_1')"
   ]
  },
  {
   "cell_type": "code",
   "execution_count": 44,
   "metadata": {},
   "outputs": [],
   "source": [
    "model.reactions.get_by_id('ECOAH1_2').annotation = universal.reactions.get_by_id('ECOAH1_1').annotation"
   ]
  },
  {
   "cell_type": "code",
   "execution_count": 45,
   "metadata": {},
   "outputs": [
    {
     "data": {
      "text/html": [
       "\n",
       "        <table>\n",
       "            <tr>\n",
       "                <td><strong>Reaction identifier</strong></td><td>ECOAH5_2</td>\n",
       "            </tr><tr>\n",
       "                <td><strong>Name</strong></td><td>3 hydroxyacyl CoA dehydratase  3 hydroxydodecanoyl CoA </td>\n",
       "            </tr><tr>\n",
       "                <td><strong>Memory address</strong></td>\n",
       "                <td>0x07f4dcc963a50</td>\n",
       "            </tr><tr>\n",
       "                <td><strong>Stoichiometry</strong></td>\n",
       "                <td>\n",
       "                    <p style='text-align:right'>3hddcoa_c <=> h2o_c + trans_dd2coa_c</p>\n",
       "                    <p style='text-align:right'>(S)-3-Hydroxydodecanoyl-CoA <=> H2O + Trans Dodec 2 enoyl CoA C33H52N7O17P3S</p>\n",
       "                </td>\n",
       "            </tr><tr>\n",
       "                <td><strong>GPR</strong></td><td>WP_005240312_1 or WP_005250878_1</td>\n",
       "            </tr><tr>\n",
       "                <td><strong>Lower bound</strong></td><td>-1000.0</td>\n",
       "            </tr><tr>\n",
       "                <td><strong>Upper bound</strong></td><td>1000.0</td>\n",
       "            </tr>\n",
       "        </table>\n",
       "        "
      ],
      "text/plain": [
       "<Reaction ECOAH5_2 at 0x7f4dcc963a50>"
      ]
     },
     "execution_count": 45,
     "metadata": {},
     "output_type": "execute_result"
    }
   ],
   "source": [
    "model.reactions.get_by_id('ECOAH5_2')"
   ]
  },
  {
   "cell_type": "code",
   "execution_count": 46,
   "metadata": {},
   "outputs": [
    {
     "data": {
      "text/html": [
       "\n",
       "        <table>\n",
       "            <tr>\n",
       "                <td><strong>Reaction identifier</strong></td><td>ECOAH5_1</td>\n",
       "            </tr><tr>\n",
       "                <td><strong>Name</strong></td><td>3 hydroxyacyl CoA dehydratase  3 hydroxydodecanoyl CoA </td>\n",
       "            </tr><tr>\n",
       "                <td><strong>Memory address</strong></td>\n",
       "                <td>0x07f4dd2afbdd0</td>\n",
       "            </tr><tr>\n",
       "                <td><strong>Stoichiometry</strong></td>\n",
       "                <td>\n",
       "                    <p style='text-align:right'>3hddcoa_c --> h2o_c + trans_dd2coa_c</p>\n",
       "                    <p style='text-align:right'>(S)-3-Hydroxydodecanoyl-CoA --> H2O H2O + Trans Dodec 2 enoyl CoA C33H52N7O17P3S</p>\n",
       "                </td>\n",
       "            </tr><tr>\n",
       "                <td><strong>GPR</strong></td><td></td>\n",
       "            </tr><tr>\n",
       "                <td><strong>Lower bound</strong></td><td>0.0</td>\n",
       "            </tr><tr>\n",
       "                <td><strong>Upper bound</strong></td><td>1000.0</td>\n",
       "            </tr>\n",
       "        </table>\n",
       "        "
      ],
      "text/plain": [
       "<Reaction ECOAH5_1 at 0x7f4dd2afbdd0>"
      ]
     },
     "execution_count": 46,
     "metadata": {},
     "output_type": "execute_result"
    }
   ],
   "source": [
    "universal.reactions.get_by_id('ECOAH5_1')"
   ]
  },
  {
   "cell_type": "code",
   "execution_count": 47,
   "metadata": {},
   "outputs": [],
   "source": [
    "model.reactions.get_by_id('ECOAH5_2').annotation = universal.reactions.get_by_id('ECOAH5_1').annotation"
   ]
  },
  {
   "cell_type": "code",
   "execution_count": 48,
   "metadata": {},
   "outputs": [
    {
     "data": {
      "text/html": [
       "\n",
       "        <table>\n",
       "            <tr>\n",
       "                <td><strong>Reaction identifier</strong></td><td>FLDO</td>\n",
       "            </tr><tr>\n",
       "                <td><strong>Name</strong></td><td>NAD(P)H-flavin oxidoreductase</td>\n",
       "            </tr><tr>\n",
       "                <td><strong>Memory address</strong></td>\n",
       "                <td>0x07f4dcced7410</td>\n",
       "            </tr><tr>\n",
       "                <td><strong>Stoichiometry</strong></td>\n",
       "                <td>\n",
       "                    <p style='text-align:right'>fmnh2_c + nadp_c --> fmn_c + h_c + nadph_c</p>\n",
       "                    <p style='text-align:right'>Reduced FMN + Nicotinamide adenine dinucleotide phosphate --> FMN + H+ + Nicotinamide adenine dinucleotide phosphate - reduced</p>\n",
       "                </td>\n",
       "            </tr><tr>\n",
       "                <td><strong>GPR</strong></td><td>WP_005240282_1</td>\n",
       "            </tr><tr>\n",
       "                <td><strong>Lower bound</strong></td><td>0.0</td>\n",
       "            </tr><tr>\n",
       "                <td><strong>Upper bound</strong></td><td>1000.0</td>\n",
       "            </tr>\n",
       "        </table>\n",
       "        "
      ],
      "text/plain": [
       "<Reaction FLDO at 0x7f4dcced7410>"
      ]
     },
     "execution_count": 48,
     "metadata": {},
     "output_type": "execute_result"
    }
   ],
   "source": [
    "model.reactions.get_by_id('FLDO')"
   ]
  },
  {
   "cell_type": "code",
   "execution_count": 61,
   "metadata": {},
   "outputs": [
    {
     "data": {
      "text/html": [
       "\n",
       "        <table>\n",
       "            <tr>\n",
       "                <td><strong>Reaction identifier</strong></td><td>FMNRx2</td>\n",
       "            </tr><tr>\n",
       "                <td><strong>Name</strong></td><td>FMN reductase</td>\n",
       "            </tr><tr>\n",
       "                <td><strong>Memory address</strong></td>\n",
       "                <td>0x07f4dcb482dd0</td>\n",
       "            </tr><tr>\n",
       "                <td><strong>Stoichiometry</strong></td>\n",
       "                <td>\n",
       "                    <p style='text-align:right'>fmn_c + h_c + nadph_c --> fmnh2_c + nadp_c</p>\n",
       "                    <p style='text-align:right'>FMN C17H19N4O9P + H+ + Nicotinamide adenine dinucleotide phosphate - reduced --> Reduced FMN + Nicotinamide adenine dinucleotide phosphate</p>\n",
       "                </td>\n",
       "            </tr><tr>\n",
       "                <td><strong>GPR</strong></td><td></td>\n",
       "            </tr><tr>\n",
       "                <td><strong>Lower bound</strong></td><td>0.0</td>\n",
       "            </tr><tr>\n",
       "                <td><strong>Upper bound</strong></td><td>1000.0</td>\n",
       "            </tr>\n",
       "        </table>\n",
       "        "
      ],
      "text/plain": [
       "<Reaction FMNRx2 at 0x7f4dcb482dd0>"
      ]
     },
     "execution_count": 61,
     "metadata": {},
     "output_type": "execute_result"
    }
   ],
   "source": [
    "universal.reactions.get_by_id('FMNRx2')"
   ]
  },
  {
   "cell_type": "code",
   "execution_count": 62,
   "metadata": {},
   "outputs": [],
   "source": [
    "model.reactions.get_by_id('FLDO').annotation = universal.reactions.get_by_id('FMNRx2').annotation"
   ]
  },
  {
   "cell_type": "code",
   "execution_count": 63,
   "metadata": {},
   "outputs": [
    {
     "data": {
      "text/html": [
       "\n",
       "        <table>\n",
       "            <tr>\n",
       "                <td><strong>Reaction identifier</strong></td><td>H2St</td>\n",
       "            </tr><tr>\n",
       "                <td><strong>Name</strong></td><td>H2St</td>\n",
       "            </tr><tr>\n",
       "                <td><strong>Memory address</strong></td>\n",
       "                <td>0x07f4dcd5ce110</td>\n",
       "            </tr><tr>\n",
       "                <td><strong>Stoichiometry</strong></td>\n",
       "                <td>\n",
       "                    <p style='text-align:right'>h2s_e <=> h2s_c</p>\n",
       "                    <p style='text-align:right'>Hydrogen sulfide <=> Hydrogen sulfide</p>\n",
       "                </td>\n",
       "            </tr><tr>\n",
       "                <td><strong>GPR</strong></td><td>spontaneous</td>\n",
       "            </tr><tr>\n",
       "                <td><strong>Lower bound</strong></td><td>-1000.0</td>\n",
       "            </tr><tr>\n",
       "                <td><strong>Upper bound</strong></td><td>1000.0</td>\n",
       "            </tr>\n",
       "        </table>\n",
       "        "
      ],
      "text/plain": [
       "<Reaction H2St at 0x7f4dcd5ce110>"
      ]
     },
     "execution_count": 63,
     "metadata": {},
     "output_type": "execute_result"
    }
   ],
   "source": [
    "model.reactions.get_by_id('H2St')"
   ]
  },
  {
   "cell_type": "code",
   "execution_count": 64,
   "metadata": {},
   "outputs": [
    {
     "data": {
      "text/html": [
       "\n",
       "        <table>\n",
       "            <tr>\n",
       "                <td><strong>Reaction identifier</strong></td><td>H2St1</td>\n",
       "            </tr><tr>\n",
       "                <td><strong>Name</strong></td><td>H2s transport (diffusion)</td>\n",
       "            </tr><tr>\n",
       "                <td><strong>Memory address</strong></td>\n",
       "                <td>0x07f4dc780c650</td>\n",
       "            </tr><tr>\n",
       "                <td><strong>Stoichiometry</strong></td>\n",
       "                <td>\n",
       "                    <p style='text-align:right'>h2s_c --> h2s_e</p>\n",
       "                    <p style='text-align:right'>Hydrogen sulfide --> Hydrogen sulfide</p>\n",
       "                </td>\n",
       "            </tr><tr>\n",
       "                <td><strong>GPR</strong></td><td></td>\n",
       "            </tr><tr>\n",
       "                <td><strong>Lower bound</strong></td><td>0.0</td>\n",
       "            </tr><tr>\n",
       "                <td><strong>Upper bound</strong></td><td>1000.0</td>\n",
       "            </tr>\n",
       "        </table>\n",
       "        "
      ],
      "text/plain": [
       "<Reaction H2St1 at 0x7f4dc780c650>"
      ]
     },
     "execution_count": 64,
     "metadata": {},
     "output_type": "execute_result"
    }
   ],
   "source": [
    "universal.reactions.get_by_id('H2St1')"
   ]
  },
  {
   "cell_type": "code",
   "execution_count": 65,
   "metadata": {},
   "outputs": [],
   "source": [
    "model.reactions.get_by_id('H2St').annotation = universal.reactions.get_by_id('H2St1').annotation"
   ]
  },
  {
   "cell_type": "code",
   "execution_count": 66,
   "metadata": {},
   "outputs": [
    {
     "data": {
      "text/html": [
       "\n",
       "        <table>\n",
       "            <tr>\n",
       "                <td><strong>Reaction identifier</strong></td><td>HACD1_2</td>\n",
       "            </tr><tr>\n",
       "                <td><strong>Name</strong></td><td>3 hydroxyacyl CoA dehydrogenase  acetoacetyl CoA </td>\n",
       "            </tr><tr>\n",
       "                <td><strong>Memory address</strong></td>\n",
       "                <td>0x07f4dcd5a7fd0</td>\n",
       "            </tr><tr>\n",
       "                <td><strong>Stoichiometry</strong></td>\n",
       "                <td>\n",
       "                    <p style='text-align:right'>aacoa_c + h_c + nadh_c <=> 3hbycoa_c + nad_c</p>\n",
       "                    <p style='text-align:right'>Acetoacetyl-CoA + H+ + Nicotinamide adenine dinucleotide - reduced <=>  S  3 Hydroxybutyryl CoA C25H38N7O18P3S + Nicotinamide adenine dinucleotide</p>\n",
       "                </td>\n",
       "            </tr><tr>\n",
       "                <td><strong>GPR</strong></td><td>WP_005251685_1</td>\n",
       "            </tr><tr>\n",
       "                <td><strong>Lower bound</strong></td><td>-1000.0</td>\n",
       "            </tr><tr>\n",
       "                <td><strong>Upper bound</strong></td><td>1000.0</td>\n",
       "            </tr>\n",
       "        </table>\n",
       "        "
      ],
      "text/plain": [
       "<Reaction HACD1_2 at 0x7f4dcd5a7fd0>"
      ]
     },
     "execution_count": 66,
     "metadata": {},
     "output_type": "execute_result"
    }
   ],
   "source": [
    "model.reactions.get_by_id('HACD1_2')"
   ]
  },
  {
   "cell_type": "code",
   "execution_count": 68,
   "metadata": {},
   "outputs": [
    {
     "data": {
      "text/html": [
       "\n",
       "        <table>\n",
       "            <tr>\n",
       "                <td><strong>Reaction identifier</strong></td><td>HACD1_1</td>\n",
       "            </tr><tr>\n",
       "                <td><strong>Name</strong></td><td>3 hydroxyacyl CoA dehydrogenase  acetoacetyl CoA </td>\n",
       "            </tr><tr>\n",
       "                <td><strong>Memory address</strong></td>\n",
       "                <td>0x07f4dd2a98fd0</td>\n",
       "            </tr><tr>\n",
       "                <td><strong>Stoichiometry</strong></td>\n",
       "                <td>\n",
       "                    <p style='text-align:right'>aacoa_c + h_c + nadh_c --> 3hbycoa_c + nad_c</p>\n",
       "                    <p style='text-align:right'>Acetoacetyl-CoA + H+ + Nicotinamide adenine dinucleotide - reduced -->  S  3 Hydroxybutyryl CoA C25H38N7O18P3S + Nicotinamide adenine dinucleotide</p>\n",
       "                </td>\n",
       "            </tr><tr>\n",
       "                <td><strong>GPR</strong></td><td></td>\n",
       "            </tr><tr>\n",
       "                <td><strong>Lower bound</strong></td><td>0.0</td>\n",
       "            </tr><tr>\n",
       "                <td><strong>Upper bound</strong></td><td>1000.0</td>\n",
       "            </tr>\n",
       "        </table>\n",
       "        "
      ],
      "text/plain": [
       "<Reaction HACD1_1 at 0x7f4dd2a98fd0>"
      ]
     },
     "execution_count": 68,
     "metadata": {},
     "output_type": "execute_result"
    }
   ],
   "source": [
    "universal.reactions.get_by_id('HACD1_1')"
   ]
  },
  {
   "cell_type": "code",
   "execution_count": 69,
   "metadata": {},
   "outputs": [],
   "source": [
    "model.reactions.get_by_id('HACD1_2').annotation = universal.reactions.get_by_id('HACD1_1').annotation"
   ]
  },
  {
   "cell_type": "code",
   "execution_count": 70,
   "metadata": {},
   "outputs": [
    {
     "name": "stdout",
     "output_type": "stream",
     "text": [
      "HMGCOASi {}\n",
      "HOPNTAL3 {}\n",
      "HSDx {}\n",
      "KARA1i {}\n",
      "KAT2 {}\n",
      "KAT3 {}\n",
      "KAT4 {}\n",
      "KAT5 {}\n",
      "KAT6 {}\n",
      "KAT7 {}\n",
      "NIT1b_1 {}\n",
      "PGM_1 {}\n",
      "PPGKr {}\n",
      "PPK2r {}\n",
      "PPKr {}\n",
      "SPMDt3 {}\n",
      "SULRi {}\n",
      "sink_2ohph_c {}\n",
      "sink_4hba_c {}\n",
      "sink_5drib_c {}\n",
      "sink_bmocogdp_c {}\n",
      "sink_lipopb_c {}\n",
      "sink_sheme_c {}\n",
      "Growth {}\n",
      "24\n"
     ]
    }
   ],
   "source": [
    "i = 0\n",
    "for r in model.reactions:\n",
    "    if r.annotation == {}:\n",
    "        i += 1\n",
    "        print(r.id, r.annotation)\n",
    "print(i)"
   ]
  },
  {
   "cell_type": "code",
   "execution_count": 71,
   "metadata": {},
   "outputs": [
    {
     "data": {
      "text/html": [
       "\n",
       "        <table>\n",
       "            <tr>\n",
       "                <td><strong>Reaction identifier</strong></td><td>HMGCOASi</td>\n",
       "            </tr><tr>\n",
       "                <td><strong>Name</strong></td><td>Hydroxymethylglutaryl CoA synthase (ir)</td>\n",
       "            </tr><tr>\n",
       "                <td><strong>Memory address</strong></td>\n",
       "                <td>0x07f4dcd75f0d0</td>\n",
       "            </tr><tr>\n",
       "                <td><strong>Stoichiometry</strong></td>\n",
       "                <td>\n",
       "                    <p style='text-align:right'>aacoa_c + accoa_c + h2o_c --> coa_c + h_c + hmgcoa_c</p>\n",
       "                    <p style='text-align:right'>Acetoacetyl-CoA + Acetyl-CoA + H2O --> Coenzyme A + H+ + Hydroxymethylglutaryl CoA C27H39N7O20P3S</p>\n",
       "                </td>\n",
       "            </tr><tr>\n",
       "                <td><strong>GPR</strong></td><td>WP_005245652_1</td>\n",
       "            </tr><tr>\n",
       "                <td><strong>Lower bound</strong></td><td>0.0</td>\n",
       "            </tr><tr>\n",
       "                <td><strong>Upper bound</strong></td><td>1000.0</td>\n",
       "            </tr>\n",
       "        </table>\n",
       "        "
      ],
      "text/plain": [
       "<Reaction HMGCOASi at 0x7f4dcd75f0d0>"
      ]
     },
     "execution_count": 71,
     "metadata": {},
     "output_type": "execute_result"
    }
   ],
   "source": [
    "model.reactions.get_by_id('HMGCOASi')"
   ]
  },
  {
   "cell_type": "code",
   "execution_count": 72,
   "metadata": {},
   "outputs": [
    {
     "data": {
      "text/html": [
       "\n",
       "        <table>\n",
       "            <tr>\n",
       "                <td><strong>Reaction identifier</strong></td><td>HMGCOAS</td>\n",
       "            </tr><tr>\n",
       "                <td><strong>Name</strong></td><td>Hydroxymethylglutaryl CoA synthase</td>\n",
       "            </tr><tr>\n",
       "                <td><strong>Memory address</strong></td>\n",
       "                <td>0x07f4dd0c50750</td>\n",
       "            </tr><tr>\n",
       "                <td><strong>Stoichiometry</strong></td>\n",
       "                <td>\n",
       "                    <p style='text-align:right'>coa_c + h_c + hmgcoa_c --> aacoa_c + accoa_c + h2o_c</p>\n",
       "                    <p style='text-align:right'>Coenzyme A + H+ + Hydroxymethylglutaryl CoA C27H39N7O20P3S --> Acetoacetyl-CoA + Acetyl-CoA + H2O H2O</p>\n",
       "                </td>\n",
       "            </tr><tr>\n",
       "                <td><strong>GPR</strong></td><td></td>\n",
       "            </tr><tr>\n",
       "                <td><strong>Lower bound</strong></td><td>0.0</td>\n",
       "            </tr><tr>\n",
       "                <td><strong>Upper bound</strong></td><td>1000.0</td>\n",
       "            </tr>\n",
       "        </table>\n",
       "        "
      ],
      "text/plain": [
       "<Reaction HMGCOAS at 0x7f4dd0c50750>"
      ]
     },
     "execution_count": 72,
     "metadata": {},
     "output_type": "execute_result"
    }
   ],
   "source": [
    "universal.reactions.get_by_id('HMGCOAS')"
   ]
  },
  {
   "cell_type": "code",
   "execution_count": 73,
   "metadata": {},
   "outputs": [],
   "source": [
    "model.reactions.get_by_id('HMGCOASi').annotation = universal.reactions.get_by_id('HMGCOAS').annotation"
   ]
  },
  {
   "cell_type": "code",
   "execution_count": 74,
   "metadata": {},
   "outputs": [
    {
     "data": {
      "text/html": [
       "\n",
       "        <table>\n",
       "            <tr>\n",
       "                <td><strong>Reaction identifier</strong></td><td>HOPNTAL3</td>\n",
       "            </tr><tr>\n",
       "                <td><strong>Name</strong></td><td>HOPNTAL3</td>\n",
       "            </tr><tr>\n",
       "                <td><strong>Memory address</strong></td>\n",
       "                <td>0x07f4dcd7c2690</td>\n",
       "            </tr><tr>\n",
       "                <td><strong>Stoichiometry</strong></td>\n",
       "                <td>\n",
       "                    <p style='text-align:right'>4h2opntn_c --> acald_c + pyr_c</p>\n",
       "                    <p style='text-align:right'>4-Hydroxy-2-oxopentanoate --> Acetaldehyde + Pyruvate</p>\n",
       "                </td>\n",
       "            </tr><tr>\n",
       "                <td><strong>GPR</strong></td><td>WP_005245212_1</td>\n",
       "            </tr><tr>\n",
       "                <td><strong>Lower bound</strong></td><td>0.0</td>\n",
       "            </tr><tr>\n",
       "                <td><strong>Upper bound</strong></td><td>1000.0</td>\n",
       "            </tr>\n",
       "        </table>\n",
       "        "
      ],
      "text/plain": [
       "<Reaction HOPNTAL3 at 0x7f4dcd7c2690>"
      ]
     },
     "execution_count": 74,
     "metadata": {},
     "output_type": "execute_result"
    }
   ],
   "source": [
    "model.reactions.get_by_id('HOPNTAL3')"
   ]
  },
  {
   "cell_type": "code",
   "execution_count": 75,
   "metadata": {},
   "outputs": [
    {
     "data": {
      "text/html": [
       "\n",
       "        <table>\n",
       "            <tr>\n",
       "                <td><strong>Reaction identifier</strong></td><td>HOPNTAL</td>\n",
       "            </tr><tr>\n",
       "                <td><strong>Name</strong></td><td>4-hydroxy-2-oxopentanoate aldolase</td>\n",
       "            </tr><tr>\n",
       "                <td><strong>Memory address</strong></td>\n",
       "                <td>0x07f4ddd341990</td>\n",
       "            </tr><tr>\n",
       "                <td><strong>Stoichiometry</strong></td>\n",
       "                <td>\n",
       "                    <p style='text-align:right'>4h2opntn_c --> acald_c + pyr_c</p>\n",
       "                    <p style='text-align:right'>4-Hydroxy-2-oxopentanoate --> Acetaldehyde + Pyruvate</p>\n",
       "                </td>\n",
       "            </tr><tr>\n",
       "                <td><strong>GPR</strong></td><td></td>\n",
       "            </tr><tr>\n",
       "                <td><strong>Lower bound</strong></td><td>0.0</td>\n",
       "            </tr><tr>\n",
       "                <td><strong>Upper bound</strong></td><td>1000.0</td>\n",
       "            </tr>\n",
       "        </table>\n",
       "        "
      ],
      "text/plain": [
       "<Reaction HOPNTAL at 0x7f4ddd341990>"
      ]
     },
     "execution_count": 75,
     "metadata": {},
     "output_type": "execute_result"
    }
   ],
   "source": [
    "universal.reactions.get_by_id('HOPNTAL')"
   ]
  },
  {
   "cell_type": "code",
   "execution_count": 76,
   "metadata": {},
   "outputs": [],
   "source": [
    "model.reactions.get_by_id('HOPNTAL3').annotation = universal.reactions.get_by_id('HOPNTAL').annotation"
   ]
  },
  {
   "cell_type": "code",
   "execution_count": 79,
   "metadata": {},
   "outputs": [
    {
     "data": {
      "text/html": [
       "\n",
       "        <table>\n",
       "            <tr>\n",
       "                <td><strong>Reaction identifier</strong></td><td>HSDx</td>\n",
       "            </tr><tr>\n",
       "                <td><strong>Name</strong></td><td>HSDx</td>\n",
       "            </tr><tr>\n",
       "                <td><strong>Memory address</strong></td>\n",
       "                <td>0x07f4dcd81cf90</td>\n",
       "            </tr><tr>\n",
       "                <td><strong>Stoichiometry</strong></td>\n",
       "                <td>\n",
       "                    <p style='text-align:right'>hom__L_c + nad_c <=> aspsa_c + h_c + nadh_c</p>\n",
       "                    <p style='text-align:right'>L-Homoserine + Nicotinamide adenine dinucleotide <=> L-Aspartate 4-semialdehyde + H+ + Nicotinamide adenine dinucleotide - reduced</p>\n",
       "                </td>\n",
       "            </tr><tr>\n",
       "                <td><strong>GPR</strong></td><td>WP_005252944_1</td>\n",
       "            </tr><tr>\n",
       "                <td><strong>Lower bound</strong></td><td>-1000.0</td>\n",
       "            </tr><tr>\n",
       "                <td><strong>Upper bound</strong></td><td>1000.0</td>\n",
       "            </tr>\n",
       "        </table>\n",
       "        "
      ],
      "text/plain": [
       "<Reaction HSDx at 0x7f4dcd81cf90>"
      ]
     },
     "execution_count": 79,
     "metadata": {},
     "output_type": "execute_result"
    }
   ],
   "source": [
    "model.reactions.get_by_id('HSDx')"
   ]
  },
  {
   "cell_type": "code",
   "execution_count": 80,
   "metadata": {},
   "outputs": [
    {
     "data": {
      "text/html": [
       "\n",
       "        <table>\n",
       "            <tr>\n",
       "                <td><strong>Reaction identifier</strong></td><td>HSDxi</td>\n",
       "            </tr><tr>\n",
       "                <td><strong>Name</strong></td><td>Homoserine dehydrogenase  NADH   irreversible</td>\n",
       "            </tr><tr>\n",
       "                <td><strong>Memory address</strong></td>\n",
       "                <td>0x07f4dda569d90</td>\n",
       "            </tr><tr>\n",
       "                <td><strong>Stoichiometry</strong></td>\n",
       "                <td>\n",
       "                    <p style='text-align:right'>aspsa_c + h_c + nadh_c --> hom__L_c + nad_c</p>\n",
       "                    <p style='text-align:right'>L-Aspartate 4-semialdehyde + H+ + Nicotinamide adenine dinucleotide - reduced --> L-Homoserine + Nicotinamide adenine dinucleotide</p>\n",
       "                </td>\n",
       "            </tr><tr>\n",
       "                <td><strong>GPR</strong></td><td></td>\n",
       "            </tr><tr>\n",
       "                <td><strong>Lower bound</strong></td><td>0.0</td>\n",
       "            </tr><tr>\n",
       "                <td><strong>Upper bound</strong></td><td>1000.0</td>\n",
       "            </tr>\n",
       "        </table>\n",
       "        "
      ],
      "text/plain": [
       "<Reaction HSDxi at 0x7f4dda569d90>"
      ]
     },
     "execution_count": 80,
     "metadata": {},
     "output_type": "execute_result"
    }
   ],
   "source": [
    "universal.reactions.get_by_id('HSDxi')"
   ]
  },
  {
   "cell_type": "code",
   "execution_count": 81,
   "metadata": {},
   "outputs": [],
   "source": [
    "model.reactions.get_by_id('HSDx').annotation = universal.reactions.get_by_id('HSDxi').annotation"
   ]
  },
  {
   "cell_type": "code",
   "execution_count": 83,
   "metadata": {},
   "outputs": [
    {
     "data": {
      "text/html": [
       "\n",
       "        <table>\n",
       "            <tr>\n",
       "                <td><strong>Reaction identifier</strong></td><td>KARA1i</td>\n",
       "            </tr><tr>\n",
       "                <td><strong>Name</strong></td><td>Acetohydroxy acid isomeroreductase</td>\n",
       "            </tr><tr>\n",
       "                <td><strong>Memory address</strong></td>\n",
       "                <td>0x07f4dcda31350</td>\n",
       "            </tr><tr>\n",
       "                <td><strong>Stoichiometry</strong></td>\n",
       "                <td>\n",
       "                    <p style='text-align:right'>alac__S_c + h_c + nadph_c --> 23dhmb_c + nadp_c</p>\n",
       "                    <p style='text-align:right'>(S)-2-Acetolactate + H+ + Nicotinamide adenine dinucleotide phosphate - reduced --> (R)-2,3-Dihydroxy-3-methylbutanoate + Nicotinamide adenine dinucleotide phosphate</p>\n",
       "                </td>\n",
       "            </tr><tr>\n",
       "                <td><strong>GPR</strong></td><td>WP_005247029_1</td>\n",
       "            </tr><tr>\n",
       "                <td><strong>Lower bound</strong></td><td>0.0</td>\n",
       "            </tr><tr>\n",
       "                <td><strong>Upper bound</strong></td><td>1000.0</td>\n",
       "            </tr>\n",
       "        </table>\n",
       "        "
      ],
      "text/plain": [
       "<Reaction KARA1i at 0x7f4dcda31350>"
      ]
     },
     "execution_count": 83,
     "metadata": {},
     "output_type": "execute_result"
    }
   ],
   "source": [
    "model.reactions.get_by_id('KARA1i')"
   ]
  },
  {
   "cell_type": "code",
   "execution_count": 84,
   "metadata": {},
   "outputs": [
    {
     "data": {
      "text/html": [
       "\n",
       "        <table>\n",
       "            <tr>\n",
       "                <td><strong>Reaction identifier</strong></td><td>KARA1</td>\n",
       "            </tr><tr>\n",
       "                <td><strong>Name</strong></td><td>Ketol-acid reductoisomerase (2,3-dihydroxy-3-methylbutanoate)</td>\n",
       "            </tr><tr>\n",
       "                <td><strong>Memory address</strong></td>\n",
       "                <td>0x07f4dcb20af90</td>\n",
       "            </tr><tr>\n",
       "                <td><strong>Stoichiometry</strong></td>\n",
       "                <td>\n",
       "                    <p style='text-align:right'>23dhmb_c + nadp_c --> alac__S_c + h_c + nadph_c</p>\n",
       "                    <p style='text-align:right'>(R)-2,3-Dihydroxy-3-methylbutanoate + Nicotinamide adenine dinucleotide phosphate --> (S)-2-Acetolactate + H+ + Nicotinamide adenine dinucleotide phosphate - reduced</p>\n",
       "                </td>\n",
       "            </tr><tr>\n",
       "                <td><strong>GPR</strong></td><td></td>\n",
       "            </tr><tr>\n",
       "                <td><strong>Lower bound</strong></td><td>0.0</td>\n",
       "            </tr><tr>\n",
       "                <td><strong>Upper bound</strong></td><td>1000.0</td>\n",
       "            </tr>\n",
       "        </table>\n",
       "        "
      ],
      "text/plain": [
       "<Reaction KARA1 at 0x7f4dcb20af90>"
      ]
     },
     "execution_count": 84,
     "metadata": {},
     "output_type": "execute_result"
    }
   ],
   "source": [
    "universal.reactions.get_by_id('KARA1')"
   ]
  },
  {
   "cell_type": "code",
   "execution_count": 85,
   "metadata": {},
   "outputs": [],
   "source": [
    "model.reactions.get_by_id('KARA1i').annotation = universal.reactions.get_by_id('KARA1').annotation"
   ]
  },
  {
   "cell_type": "code",
   "execution_count": 86,
   "metadata": {},
   "outputs": [
    {
     "data": {
      "text/html": [
       "\n",
       "        <table>\n",
       "            <tr>\n",
       "                <td><strong>Reaction identifier</strong></td><td>KAT2</td>\n",
       "            </tr><tr>\n",
       "                <td><strong>Name</strong></td><td>3-ketoacyl-CoA thiolase</td>\n",
       "            </tr><tr>\n",
       "                <td><strong>Memory address</strong></td>\n",
       "                <td>0x07f4dcdb21310</td>\n",
       "            </tr><tr>\n",
       "                <td><strong>Stoichiometry</strong></td>\n",
       "                <td>\n",
       "                    <p style='text-align:right'>3ohcoa_c + coa_c --> accoa_c + btcoa_c</p>\n",
       "                    <p style='text-align:right'>3-Oxohexanoyl-CoA + Coenzyme A --> Acetyl-CoA + Butanoyl-CoA</p>\n",
       "                </td>\n",
       "            </tr><tr>\n",
       "                <td><strong>GPR</strong></td><td>WP_005238450_1 or WP_005242715_1 or WP_005243703_1 or WP_025433311_1</td>\n",
       "            </tr><tr>\n",
       "                <td><strong>Lower bound</strong></td><td>0.0</td>\n",
       "            </tr><tr>\n",
       "                <td><strong>Upper bound</strong></td><td>1000.0</td>\n",
       "            </tr>\n",
       "        </table>\n",
       "        "
      ],
      "text/plain": [
       "<Reaction KAT2 at 0x7f4dcdb21310>"
      ]
     },
     "execution_count": 86,
     "metadata": {},
     "output_type": "execute_result"
    }
   ],
   "source": [
    "model.reactions.get_by_id('KAT2')"
   ]
  },
  {
   "cell_type": "code",
   "execution_count": 87,
   "metadata": {},
   "outputs": [
    {
     "data": {
      "text/html": [
       "\n",
       "        <table>\n",
       "            <tr>\n",
       "                <td><strong>Reaction identifier</strong></td><td>ACACT11</td>\n",
       "            </tr><tr>\n",
       "                <td><strong>Name</strong></td><td>3-ketoacyl-CoA thiolase</td>\n",
       "            </tr><tr>\n",
       "                <td><strong>Memory address</strong></td>\n",
       "                <td>0x07f4dcaa16f90</td>\n",
       "            </tr><tr>\n",
       "                <td><strong>Stoichiometry</strong></td>\n",
       "                <td>\n",
       "                    <p style='text-align:right'>3ohcoa_c + coa_c --> accoa_c + btcoa_c</p>\n",
       "                    <p style='text-align:right'>3-Oxohexanoyl-CoA + Coenzyme A --> Acetyl-CoA + Butanoyl-CoA</p>\n",
       "                </td>\n",
       "            </tr><tr>\n",
       "                <td><strong>GPR</strong></td><td></td>\n",
       "            </tr><tr>\n",
       "                <td><strong>Lower bound</strong></td><td>0.0</td>\n",
       "            </tr><tr>\n",
       "                <td><strong>Upper bound</strong></td><td>1000.0</td>\n",
       "            </tr>\n",
       "        </table>\n",
       "        "
      ],
      "text/plain": [
       "<Reaction ACACT11 at 0x7f4dcaa16f90>"
      ]
     },
     "execution_count": 87,
     "metadata": {},
     "output_type": "execute_result"
    }
   ],
   "source": [
    "universal.reactions.get_by_id('ACACT11')"
   ]
  },
  {
   "cell_type": "code",
   "execution_count": 88,
   "metadata": {},
   "outputs": [],
   "source": [
    "model.reactions.get_by_id('KAT2').annotation = universal.reactions.get_by_id('ACACT11').annotation"
   ]
  },
  {
   "cell_type": "code",
   "execution_count": 89,
   "metadata": {},
   "outputs": [
    {
     "data": {
      "text/html": [
       "\n",
       "        <table>\n",
       "            <tr>\n",
       "                <td><strong>Reaction identifier</strong></td><td>KAT3</td>\n",
       "            </tr><tr>\n",
       "                <td><strong>Name</strong></td><td>3-ketoacyl-CoA thiolase</td>\n",
       "            </tr><tr>\n",
       "                <td><strong>Memory address</strong></td>\n",
       "                <td>0x07f4dcdb21c50</td>\n",
       "            </tr><tr>\n",
       "                <td><strong>Stoichiometry</strong></td>\n",
       "                <td>\n",
       "                    <p style='text-align:right'>3oocoa_c + coa_c --> accoa_c + hxcoa_c</p>\n",
       "                    <p style='text-align:right'>3-Oxooctanoyl-CoA + Coenzyme A --> Acetyl-CoA + Hexanoyl-CoA (n-C6:0CoA)</p>\n",
       "                </td>\n",
       "            </tr><tr>\n",
       "                <td><strong>GPR</strong></td><td>WP_005238450_1 or WP_005242715_1 or WP_005243703_1 or WP_025433311_1</td>\n",
       "            </tr><tr>\n",
       "                <td><strong>Lower bound</strong></td><td>0.0</td>\n",
       "            </tr><tr>\n",
       "                <td><strong>Upper bound</strong></td><td>1000.0</td>\n",
       "            </tr>\n",
       "        </table>\n",
       "        "
      ],
      "text/plain": [
       "<Reaction KAT3 at 0x7f4dcdb21c50>"
      ]
     },
     "execution_count": 89,
     "metadata": {},
     "output_type": "execute_result"
    }
   ],
   "source": [
    "model.reactions.get_by_id('KAT3')"
   ]
  },
  {
   "cell_type": "code",
   "execution_count": 90,
   "metadata": {},
   "outputs": [
    {
     "data": {
      "text/html": [
       "\n",
       "        <table>\n",
       "            <tr>\n",
       "                <td><strong>Reaction identifier</strong></td><td>ACACT8</td>\n",
       "            </tr><tr>\n",
       "                <td><strong>Name</strong></td><td>3-ketoacyl-CoA thiolase</td>\n",
       "            </tr><tr>\n",
       "                <td><strong>Memory address</strong></td>\n",
       "                <td>0x07f4dca9c1790</td>\n",
       "            </tr><tr>\n",
       "                <td><strong>Stoichiometry</strong></td>\n",
       "                <td>\n",
       "                    <p style='text-align:right'>3oocoa_c + coa_c --> accoa_c + hxcoa_c</p>\n",
       "                    <p style='text-align:right'>3-Oxooctanoyl-CoA + Coenzyme A --> Acetyl-CoA + Hexanoyl-CoA (n-C6:0CoA)</p>\n",
       "                </td>\n",
       "            </tr><tr>\n",
       "                <td><strong>GPR</strong></td><td></td>\n",
       "            </tr><tr>\n",
       "                <td><strong>Lower bound</strong></td><td>0.0</td>\n",
       "            </tr><tr>\n",
       "                <td><strong>Upper bound</strong></td><td>1000.0</td>\n",
       "            </tr>\n",
       "        </table>\n",
       "        "
      ],
      "text/plain": [
       "<Reaction ACACT8 at 0x7f4dca9c1790>"
      ]
     },
     "execution_count": 90,
     "metadata": {},
     "output_type": "execute_result"
    }
   ],
   "source": [
    "universal.reactions.get_by_id('ACACT8')"
   ]
  },
  {
   "cell_type": "code",
   "execution_count": 91,
   "metadata": {},
   "outputs": [],
   "source": [
    "model.reactions.get_by_id('KAT3').annotation = universal.reactions.get_by_id('ACACT8').annotation"
   ]
  },
  {
   "cell_type": "code",
   "execution_count": 92,
   "metadata": {},
   "outputs": [
    {
     "data": {
      "text/html": [
       "\n",
       "        <table>\n",
       "            <tr>\n",
       "                <td><strong>Reaction identifier</strong></td><td>KAT4</td>\n",
       "            </tr><tr>\n",
       "                <td><strong>Name</strong></td><td>3-ketoacyl-CoA thiolase</td>\n",
       "            </tr><tr>\n",
       "                <td><strong>Memory address</strong></td>\n",
       "                <td>0x07f4dcdb21b50</td>\n",
       "            </tr><tr>\n",
       "                <td><strong>Stoichiometry</strong></td>\n",
       "                <td>\n",
       "                    <p style='text-align:right'>3odcoa_c + coa_c --> accoa_c + occoa_c</p>\n",
       "                    <p style='text-align:right'>3-Oxodecanoyl-CoA + Coenzyme A --> Acetyl-CoA + Octanoyl-CoA (n-C8:0CoA)</p>\n",
       "                </td>\n",
       "            </tr><tr>\n",
       "                <td><strong>GPR</strong></td><td>WP_005238450_1 or WP_005242715_1 or WP_005243703_1 or WP_025433311_1</td>\n",
       "            </tr><tr>\n",
       "                <td><strong>Lower bound</strong></td><td>0.0</td>\n",
       "            </tr><tr>\n",
       "                <td><strong>Upper bound</strong></td><td>1000.0</td>\n",
       "            </tr>\n",
       "        </table>\n",
       "        "
      ],
      "text/plain": [
       "<Reaction KAT4 at 0x7f4dcdb21b50>"
      ]
     },
     "execution_count": 92,
     "metadata": {},
     "output_type": "execute_result"
    }
   ],
   "source": [
    "model.reactions.get_by_id('KAT4')"
   ]
  },
  {
   "cell_type": "code",
   "execution_count": 93,
   "metadata": {},
   "outputs": [
    {
     "data": {
      "text/html": [
       "\n",
       "        <table>\n",
       "            <tr>\n",
       "                <td><strong>Reaction identifier</strong></td><td>ACACT13</td>\n",
       "            </tr><tr>\n",
       "                <td><strong>Name</strong></td><td>3-ketoacyl-CoA thiolase</td>\n",
       "            </tr><tr>\n",
       "                <td><strong>Memory address</strong></td>\n",
       "                <td>0x07f4dca9c1590</td>\n",
       "            </tr><tr>\n",
       "                <td><strong>Stoichiometry</strong></td>\n",
       "                <td>\n",
       "                    <p style='text-align:right'>3odcoa_c + coa_c --> accoa_c + occoa_c</p>\n",
       "                    <p style='text-align:right'>3-Oxodecanoyl-CoA + Coenzyme A --> Acetyl-CoA + Octanoyl-CoA (n-C8:0CoA)</p>\n",
       "                </td>\n",
       "            </tr><tr>\n",
       "                <td><strong>GPR</strong></td><td></td>\n",
       "            </tr><tr>\n",
       "                <td><strong>Lower bound</strong></td><td>0.0</td>\n",
       "            </tr><tr>\n",
       "                <td><strong>Upper bound</strong></td><td>1000.0</td>\n",
       "            </tr>\n",
       "        </table>\n",
       "        "
      ],
      "text/plain": [
       "<Reaction ACACT13 at 0x7f4dca9c1590>"
      ]
     },
     "execution_count": 93,
     "metadata": {},
     "output_type": "execute_result"
    }
   ],
   "source": [
    "universal.reactions.get_by_id('ACACT13')"
   ]
  },
  {
   "cell_type": "code",
   "execution_count": 94,
   "metadata": {},
   "outputs": [],
   "source": [
    "model.reactions.get_by_id('KAT4').annotation = universal.reactions.get_by_id('ACACT13').annotation"
   ]
  },
  {
   "cell_type": "code",
   "execution_count": 95,
   "metadata": {},
   "outputs": [
    {
     "data": {
      "text/html": [
       "\n",
       "        <table>\n",
       "            <tr>\n",
       "                <td><strong>Reaction identifier</strong></td><td>KAT5</td>\n",
       "            </tr><tr>\n",
       "                <td><strong>Name</strong></td><td>3-ketoacyl-CoA thiolase</td>\n",
       "            </tr><tr>\n",
       "                <td><strong>Memory address</strong></td>\n",
       "                <td>0x07f4dcdaf4890</td>\n",
       "            </tr><tr>\n",
       "                <td><strong>Stoichiometry</strong></td>\n",
       "                <td>\n",
       "                    <p style='text-align:right'>3oddcoa_c + coa_c --> accoa_c + dcacoa_c</p>\n",
       "                    <p style='text-align:right'>3-Oxododecanoyl-CoA + Coenzyme A --> Acetyl-CoA + Decanoyl-CoA (n-C10:0CoA)</p>\n",
       "                </td>\n",
       "            </tr><tr>\n",
       "                <td><strong>GPR</strong></td><td>WP_005238450_1 or WP_005242715_1 or WP_005243703_1 or WP_025433311_1</td>\n",
       "            </tr><tr>\n",
       "                <td><strong>Lower bound</strong></td><td>0.0</td>\n",
       "            </tr><tr>\n",
       "                <td><strong>Upper bound</strong></td><td>1000.0</td>\n",
       "            </tr>\n",
       "        </table>\n",
       "        "
      ],
      "text/plain": [
       "<Reaction KAT5 at 0x7f4dcdaf4890>"
      ]
     },
     "execution_count": 95,
     "metadata": {},
     "output_type": "execute_result"
    }
   ],
   "source": [
    "model.reactions.get_by_id('KAT5')"
   ]
  },
  {
   "cell_type": "code",
   "execution_count": 96,
   "metadata": {},
   "outputs": [
    {
     "data": {
      "text/html": [
       "\n",
       "        <table>\n",
       "            <tr>\n",
       "                <td><strong>Reaction identifier</strong></td><td>ACACT10</td>\n",
       "            </tr><tr>\n",
       "                <td><strong>Name</strong></td><td>3-ketoacyl-CoA thiolase</td>\n",
       "            </tr><tr>\n",
       "                <td><strong>Memory address</strong></td>\n",
       "                <td>0x07f4dca9c1890</td>\n",
       "            </tr><tr>\n",
       "                <td><strong>Stoichiometry</strong></td>\n",
       "                <td>\n",
       "                    <p style='text-align:right'>3oddcoa_c + coa_c --> accoa_c + dcacoa_c</p>\n",
       "                    <p style='text-align:right'>3-Oxododecanoyl-CoA + Coenzyme A --> Acetyl-CoA + Decanoyl-CoA (n-C10:0CoA)</p>\n",
       "                </td>\n",
       "            </tr><tr>\n",
       "                <td><strong>GPR</strong></td><td></td>\n",
       "            </tr><tr>\n",
       "                <td><strong>Lower bound</strong></td><td>0.0</td>\n",
       "            </tr><tr>\n",
       "                <td><strong>Upper bound</strong></td><td>1000.0</td>\n",
       "            </tr>\n",
       "        </table>\n",
       "        "
      ],
      "text/plain": [
       "<Reaction ACACT10 at 0x7f4dca9c1890>"
      ]
     },
     "execution_count": 96,
     "metadata": {},
     "output_type": "execute_result"
    }
   ],
   "source": [
    "universal.reactions.get_by_id('ACACT10')"
   ]
  },
  {
   "cell_type": "code",
   "execution_count": 97,
   "metadata": {},
   "outputs": [],
   "source": [
    "model.reactions.get_by_id('KAT5').annotation = universal.reactions.get_by_id('ACACT10').annotation"
   ]
  },
  {
   "cell_type": "code",
   "execution_count": 98,
   "metadata": {},
   "outputs": [
    {
     "data": {
      "text/html": [
       "\n",
       "        <table>\n",
       "            <tr>\n",
       "                <td><strong>Reaction identifier</strong></td><td>KAT6</td>\n",
       "            </tr><tr>\n",
       "                <td><strong>Name</strong></td><td>3-ketoacyl-CoA thiolase</td>\n",
       "            </tr><tr>\n",
       "                <td><strong>Memory address</strong></td>\n",
       "                <td>0x07f4dcdb21dd0</td>\n",
       "            </tr><tr>\n",
       "                <td><strong>Stoichiometry</strong></td>\n",
       "                <td>\n",
       "                    <p style='text-align:right'>3otdcoa_c + coa_c --> accoa_c + ddcacoa_c</p>\n",
       "                    <p style='text-align:right'>3-Oxotetradecanoyl-CoA + Coenzyme A --> Acetyl-CoA + Dodecanoyl-CoA (n-C12:0CoA)</p>\n",
       "                </td>\n",
       "            </tr><tr>\n",
       "                <td><strong>GPR</strong></td><td>WP_005238450_1 or WP_005242715_1 or WP_005243703_1 or WP_025433311_1</td>\n",
       "            </tr><tr>\n",
       "                <td><strong>Lower bound</strong></td><td>0.0</td>\n",
       "            </tr><tr>\n",
       "                <td><strong>Upper bound</strong></td><td>1000.0</td>\n",
       "            </tr>\n",
       "        </table>\n",
       "        "
      ],
      "text/plain": [
       "<Reaction KAT6 at 0x7f4dcdb21dd0>"
      ]
     },
     "execution_count": 98,
     "metadata": {},
     "output_type": "execute_result"
    }
   ],
   "source": [
    "model.reactions.get_by_id('KAT6')"
   ]
  },
  {
   "cell_type": "code",
   "execution_count": 99,
   "metadata": {},
   "outputs": [
    {
     "data": {
      "text/html": [
       "\n",
       "        <table>\n",
       "            <tr>\n",
       "                <td><strong>Reaction identifier</strong></td><td>ACACT9</td>\n",
       "            </tr><tr>\n",
       "                <td><strong>Name</strong></td><td>3-ketoacyl-CoA thiolase</td>\n",
       "            </tr><tr>\n",
       "                <td><strong>Memory address</strong></td>\n",
       "                <td>0x07f4ddaa8cfd0</td>\n",
       "            </tr><tr>\n",
       "                <td><strong>Stoichiometry</strong></td>\n",
       "                <td>\n",
       "                    <p style='text-align:right'>3otdcoa_c + coa_c --> accoa_c + ddcacoa_c</p>\n",
       "                    <p style='text-align:right'>3-Oxotetradecanoyl-CoA + Coenzyme A --> Acetyl-CoA + Dodecanoyl-CoA (n-C12:0CoA)</p>\n",
       "                </td>\n",
       "            </tr><tr>\n",
       "                <td><strong>GPR</strong></td><td></td>\n",
       "            </tr><tr>\n",
       "                <td><strong>Lower bound</strong></td><td>0.0</td>\n",
       "            </tr><tr>\n",
       "                <td><strong>Upper bound</strong></td><td>1000.0</td>\n",
       "            </tr>\n",
       "        </table>\n",
       "        "
      ],
      "text/plain": [
       "<Reaction ACACT9 at 0x7f4ddaa8cfd0>"
      ]
     },
     "execution_count": 99,
     "metadata": {},
     "output_type": "execute_result"
    }
   ],
   "source": [
    "universal.reactions.get_by_id('ACACT9')"
   ]
  },
  {
   "cell_type": "code",
   "execution_count": 100,
   "metadata": {},
   "outputs": [],
   "source": [
    "model.reactions.get_by_id('KAT6').annotation = universal.reactions.get_by_id('ACACT9').annotation"
   ]
  },
  {
   "cell_type": "code",
   "execution_count": 101,
   "metadata": {},
   "outputs": [
    {
     "data": {
      "text/html": [
       "\n",
       "        <table>\n",
       "            <tr>\n",
       "                <td><strong>Reaction identifier</strong></td><td>KAT7</td>\n",
       "            </tr><tr>\n",
       "                <td><strong>Name</strong></td><td>3-ketoacyl-CoA thiolase</td>\n",
       "            </tr><tr>\n",
       "                <td><strong>Memory address</strong></td>\n",
       "                <td>0x07f4dcdb44650</td>\n",
       "            </tr><tr>\n",
       "                <td><strong>Stoichiometry</strong></td>\n",
       "                <td>\n",
       "                    <p style='text-align:right'>3ohdcoa_c + coa_c --> accoa_c + tdcoa_c</p>\n",
       "                    <p style='text-align:right'>3-Oxohexadecanoyl-CoA + Coenzyme A --> Acetyl-CoA + Tetradecanoyl-CoA (n-C14:0CoA)</p>\n",
       "                </td>\n",
       "            </tr><tr>\n",
       "                <td><strong>GPR</strong></td><td>WP_005238450_1 or WP_005242715_1 or WP_005243703_1 or WP_025433311_1</td>\n",
       "            </tr><tr>\n",
       "                <td><strong>Lower bound</strong></td><td>0.0</td>\n",
       "            </tr><tr>\n",
       "                <td><strong>Upper bound</strong></td><td>1000.0</td>\n",
       "            </tr>\n",
       "        </table>\n",
       "        "
      ],
      "text/plain": [
       "<Reaction KAT7 at 0x7f4dcdb44650>"
      ]
     },
     "execution_count": 101,
     "metadata": {},
     "output_type": "execute_result"
    }
   ],
   "source": [
    "model.reactions.get_by_id('KAT7')"
   ]
  },
  {
   "cell_type": "code",
   "execution_count": 102,
   "metadata": {},
   "outputs": [
    {
     "data": {
      "text/html": [
       "\n",
       "        <table>\n",
       "            <tr>\n",
       "                <td><strong>Reaction identifier</strong></td><td>ACACT12</td>\n",
       "            </tr><tr>\n",
       "                <td><strong>Name</strong></td><td>3-ketoacyl-CoA thiolase</td>\n",
       "            </tr><tr>\n",
       "                <td><strong>Memory address</strong></td>\n",
       "                <td>0x07f4ddaa8cdd0</td>\n",
       "            </tr><tr>\n",
       "                <td><strong>Stoichiometry</strong></td>\n",
       "                <td>\n",
       "                    <p style='text-align:right'>3ohdcoa_c + coa_c --> accoa_c + tdcoa_c</p>\n",
       "                    <p style='text-align:right'>3-Oxohexadecanoyl-CoA + Coenzyme A --> Acetyl-CoA + Tetradecanoyl-CoA (n-C14:0CoA)</p>\n",
       "                </td>\n",
       "            </tr><tr>\n",
       "                <td><strong>GPR</strong></td><td></td>\n",
       "            </tr><tr>\n",
       "                <td><strong>Lower bound</strong></td><td>0.0</td>\n",
       "            </tr><tr>\n",
       "                <td><strong>Upper bound</strong></td><td>1000.0</td>\n",
       "            </tr>\n",
       "        </table>\n",
       "        "
      ],
      "text/plain": [
       "<Reaction ACACT12 at 0x7f4ddaa8cdd0>"
      ]
     },
     "execution_count": 102,
     "metadata": {},
     "output_type": "execute_result"
    }
   ],
   "source": [
    "universal.reactions.get_by_id('ACACT12')"
   ]
  },
  {
   "cell_type": "code",
   "execution_count": 103,
   "metadata": {},
   "outputs": [],
   "source": [
    "model.reactions.get_by_id('KAT7').annotation = universal.reactions.get_by_id('ACACT12').annotation"
   ]
  },
  {
   "cell_type": "code",
   "execution_count": 104,
   "metadata": {},
   "outputs": [
    {
     "name": "stdout",
     "output_type": "stream",
     "text": [
      "NIT1b_1 {}\n",
      "PGM_1 {}\n",
      "PPGKr {}\n",
      "PPK2r {}\n",
      "PPKr {}\n",
      "SPMDt3 {}\n",
      "SULRi {}\n",
      "sink_2ohph_c {}\n",
      "sink_4hba_c {}\n",
      "sink_5drib_c {}\n",
      "sink_bmocogdp_c {}\n",
      "sink_lipopb_c {}\n",
      "sink_sheme_c {}\n",
      "Growth {}\n",
      "14\n"
     ]
    }
   ],
   "source": [
    "i = 0\n",
    "for r in model.reactions:\n",
    "    if r.annotation == {}:\n",
    "        i += 1\n",
    "        print(r.id, r.annotation)\n",
    "print(i)"
   ]
  },
  {
   "cell_type": "code",
   "execution_count": 105,
   "metadata": {},
   "outputs": [
    {
     "data": {
      "text/html": [
       "\n",
       "        <table>\n",
       "            <tr>\n",
       "                <td><strong>Reaction identifier</strong></td><td>NIT1b_1</td>\n",
       "            </tr><tr>\n",
       "                <td><strong>Name</strong></td><td>Nitrogenase</td>\n",
       "            </tr><tr>\n",
       "                <td><strong>Memory address</strong></td>\n",
       "                <td>0x07f4dce3f1810</td>\n",
       "            </tr><tr>\n",
       "                <td><strong>Stoichiometry</strong></td>\n",
       "                <td>\n",
       "                    <p style='text-align:right'>16.0 atp_c + 4.0 fdxr_42_c + 16.0 h2o_c + n2_c --> 16.0 adp_c + 4.0 fdxo_42_c + h2_c + 6.0 h_c + 2.0 nh4_c + 16.0 pi_c</p>\n",
       "                    <p style='text-align:right'>16.0 ATP + 4.0 Ferredoxin (reduced form 4:2) + 16.0 H2O + Nitrogen --> 16.0 ADP + 4.0 Ferredoxin (oxidized form 4:2) + H2 + 6.0 H+ + 2.0 Ammonium + 16.0 Phosphate</p>\n",
       "                </td>\n",
       "            </tr><tr>\n",
       "                <td><strong>GPR</strong></td><td>WP_005243170_1 or WP_005252635_1</td>\n",
       "            </tr><tr>\n",
       "                <td><strong>Lower bound</strong></td><td>0.0</td>\n",
       "            </tr><tr>\n",
       "                <td><strong>Upper bound</strong></td><td>1000.0</td>\n",
       "            </tr>\n",
       "        </table>\n",
       "        "
      ],
      "text/plain": [
       "<Reaction NIT1b_1 at 0x7f4dce3f1810>"
      ]
     },
     "execution_count": 105,
     "metadata": {},
     "output_type": "execute_result"
    }
   ],
   "source": [
    "model.reactions.get_by_id('NIT1b_1')"
   ]
  },
  {
   "cell_type": "code",
   "execution_count": 106,
   "metadata": {},
   "outputs": [
    {
     "data": {
      "text/html": [
       "\n",
       "        <table>\n",
       "            <tr>\n",
       "                <td><strong>Reaction identifier</strong></td><td>NIT1b</td>\n",
       "            </tr><tr>\n",
       "                <td><strong>Name</strong></td><td>Nitrogenase</td>\n",
       "            </tr><tr>\n",
       "                <td><strong>Memory address</strong></td>\n",
       "                <td>0x07f4dddc23190</td>\n",
       "            </tr><tr>\n",
       "                <td><strong>Stoichiometry</strong></td>\n",
       "                <td>\n",
       "                    <p style='text-align:right'>16.0 atp_c + 4.0 fdxr_42_c + 16.0 h2o_c + n2_c --> 16.0 adp_c + 4.0 fdxo_42_c + h2_c + 6.0 h_c + 2.0 nh4_c + 16.0 pi_c</p>\n",
       "                    <p style='text-align:right'>16.0 ATP C10H12N5O13P3 + 4.0 Ferredoxin (reduced form 4:2) + 16.0 H2O H2O + Nitrogen --> 16.0 ADP C10H12N5O10P2 + 4.0 Ferredoxin (oxidized form 4:2) + Hydrogen + 6.0 H+ + 2.0 Ammonium + 16.0 Phosphate</p>\n",
       "                </td>\n",
       "            </tr><tr>\n",
       "                <td><strong>GPR</strong></td><td></td>\n",
       "            </tr><tr>\n",
       "                <td><strong>Lower bound</strong></td><td>0.0</td>\n",
       "            </tr><tr>\n",
       "                <td><strong>Upper bound</strong></td><td>1000.0</td>\n",
       "            </tr>\n",
       "        </table>\n",
       "        "
      ],
      "text/plain": [
       "<Reaction NIT1b at 0x7f4dddc23190>"
      ]
     },
     "execution_count": 106,
     "metadata": {},
     "output_type": "execute_result"
    }
   ],
   "source": [
    "universal.reactions.get_by_id('NIT1b')"
   ]
  },
  {
   "cell_type": "code",
   "execution_count": 107,
   "metadata": {},
   "outputs": [],
   "source": [
    "model.reactions.get_by_id('NIT1b_1').annotation = universal.reactions.get_by_id('NIT1b').annotation"
   ]
  },
  {
   "cell_type": "code",
   "execution_count": 108,
   "metadata": {},
   "outputs": [
    {
     "data": {
      "text/html": [
       "\n",
       "        <table>\n",
       "            <tr>\n",
       "                <td><strong>Reaction identifier</strong></td><td>PGM_1</td>\n",
       "            </tr><tr>\n",
       "                <td><strong>Name</strong></td><td>Phosphoglycerate mutase</td>\n",
       "            </tr><tr>\n",
       "                <td><strong>Memory address</strong></td>\n",
       "                <td>0x07f4dce925810</td>\n",
       "            </tr><tr>\n",
       "                <td><strong>Stoichiometry</strong></td>\n",
       "                <td>\n",
       "                    <p style='text-align:right'>3pg_c <=> 2pg_c</p>\n",
       "                    <p style='text-align:right'>3-Phospho-D-glycerate <=> D-Glycerate 2-phosphate</p>\n",
       "                </td>\n",
       "            </tr><tr>\n",
       "                <td><strong>GPR</strong></td><td>WP_005247800_1</td>\n",
       "            </tr><tr>\n",
       "                <td><strong>Lower bound</strong></td><td>-1000.0</td>\n",
       "            </tr><tr>\n",
       "                <td><strong>Upper bound</strong></td><td>1000.0</td>\n",
       "            </tr>\n",
       "        </table>\n",
       "        "
      ],
      "text/plain": [
       "<Reaction PGM_1 at 0x7f4dce925810>"
      ]
     },
     "execution_count": 108,
     "metadata": {},
     "output_type": "execute_result"
    }
   ],
   "source": [
    "model.reactions.get_by_id('PGM_1')"
   ]
  },
  {
   "cell_type": "code",
   "execution_count": 109,
   "metadata": {},
   "outputs": [
    {
     "data": {
      "text/html": [
       "\n",
       "        <table>\n",
       "            <tr>\n",
       "                <td><strong>Reaction identifier</strong></td><td>PGM</td>\n",
       "            </tr><tr>\n",
       "                <td><strong>Name</strong></td><td>Phosphoglycerate mutase</td>\n",
       "            </tr><tr>\n",
       "                <td><strong>Memory address</strong></td>\n",
       "                <td>0x07f4dcae02fd0</td>\n",
       "            </tr><tr>\n",
       "                <td><strong>Stoichiometry</strong></td>\n",
       "                <td>\n",
       "                    <p style='text-align:right'>2pg_c --> 3pg_c</p>\n",
       "                    <p style='text-align:right'>D-Glycerate 2-phosphate --> 3-Phospho-D-glycerate</p>\n",
       "                </td>\n",
       "            </tr><tr>\n",
       "                <td><strong>GPR</strong></td><td></td>\n",
       "            </tr><tr>\n",
       "                <td><strong>Lower bound</strong></td><td>0.0</td>\n",
       "            </tr><tr>\n",
       "                <td><strong>Upper bound</strong></td><td>1000.0</td>\n",
       "            </tr>\n",
       "        </table>\n",
       "        "
      ],
      "text/plain": [
       "<Reaction PGM at 0x7f4dcae02fd0>"
      ]
     },
     "execution_count": 109,
     "metadata": {},
     "output_type": "execute_result"
    }
   ],
   "source": [
    "universal.reactions.get_by_id('PGM')"
   ]
  },
  {
   "cell_type": "code",
   "execution_count": 110,
   "metadata": {},
   "outputs": [],
   "source": [
    "model.reactions.get_by_id('PGM_1').annotation = universal.reactions.get_by_id('PGM').annotation"
   ]
  },
  {
   "cell_type": "code",
   "execution_count": 111,
   "metadata": {},
   "outputs": [
    {
     "data": {
      "text/html": [
       "\n",
       "        <table>\n",
       "            <tr>\n",
       "                <td><strong>Reaction identifier</strong></td><td>PPGKr</td>\n",
       "            </tr><tr>\n",
       "                <td><strong>Name</strong></td><td>PPGKr</td>\n",
       "            </tr><tr>\n",
       "                <td><strong>Memory address</strong></td>\n",
       "                <td>0x07f4dceb238d0</td>\n",
       "            </tr><tr>\n",
       "                <td><strong>Stoichiometry</strong></td>\n",
       "                <td>\n",
       "                    <p style='text-align:right'>glc__D_c + pi_c <-- g6p_c + h2o_c</p>\n",
       "                    <p style='text-align:right'>D-Glucose + Phosphate <-- D-Glucose 6-phosphate + H2O</p>\n",
       "                </td>\n",
       "            </tr><tr>\n",
       "                <td><strong>GPR</strong></td><td>WP_005240845_1</td>\n",
       "            </tr><tr>\n",
       "                <td><strong>Lower bound</strong></td><td>-1000.0</td>\n",
       "            </tr><tr>\n",
       "                <td><strong>Upper bound</strong></td><td>0.0</td>\n",
       "            </tr>\n",
       "        </table>\n",
       "        "
      ],
      "text/plain": [
       "<Reaction PPGKr at 0x7f4dceb238d0>"
      ]
     },
     "execution_count": 111,
     "metadata": {},
     "output_type": "execute_result"
    }
   ],
   "source": [
    "model.reactions.get_by_id('PPGKr')"
   ]
  },
  {
   "cell_type": "code",
   "execution_count": 113,
   "metadata": {},
   "outputs": [
    {
     "name": "stdout",
     "output_type": "stream",
     "text": [
      "CLB6PH: cellb6p_c --> g6p_c + glc__D_c\n",
      "G6PP: g6p_c + h2o_c --> glc__D_c + pi_c\n",
      "HEX1_1: atp_c + glc__D_c --> adp_c + g6p_c\n",
      "MAL6PG: h2o_c + malt6p_c --> g6p_c + glc__D_c\n",
      "r0354: glc__D_c + itp_c --> g6p_c + h_c + idp_c\n",
      "6PHBG_2: cellb6p_c + h2o_c --> g6p_c + glc__D_c + 2.0 h_c\n",
      "TRE6PH: h2o_c + tre6p_c --> g6p_c + glc__D_c\n",
      "BGLA1: 6pgg_c + h2o_c --> g6p_c + glc__D_c\n",
      "HEX1: atp_c + glc__D_c --> adp_c + g6p_c + h_c\n",
      "GK_adp: adp_c + glc__D_c --> amp_c + g6p_c + h_c\n",
      "BGLK: atp_c + cellb_c + h2o_c --> adp_c + g6p_c + glc__D_c + h_c\n",
      "r0355: datp_c + glc__D_c --> dadp_c + g6p_c + h_c\n",
      "BGLK_1: cellb_c + h2o_c --> g6p_c + glc__D_c\n"
     ]
    }
   ],
   "source": [
    "for r in universal.metabolites.get_by_id('glc__D_c').reactions:\n",
    "    if r in universal.metabolites.get_by_id('g6p_c').reactions:\n",
    "        print(r)"
   ]
  },
  {
   "cell_type": "code",
   "execution_count": 114,
   "metadata": {},
   "outputs": [
    {
     "data": {
      "text/html": [
       "\n",
       "        <table>\n",
       "            <tr>\n",
       "                <td><strong>Reaction identifier</strong></td><td>G6PP</td>\n",
       "            </tr><tr>\n",
       "                <td><strong>Name</strong></td><td>Glucose-6-phosphate phosphatase</td>\n",
       "            </tr><tr>\n",
       "                <td><strong>Memory address</strong></td>\n",
       "                <td>0x07f4ddd52efd0</td>\n",
       "            </tr><tr>\n",
       "                <td><strong>Stoichiometry</strong></td>\n",
       "                <td>\n",
       "                    <p style='text-align:right'>g6p_c + h2o_c --> glc__D_c + pi_c</p>\n",
       "                    <p style='text-align:right'>D-Glucose 6-phosphate + H2O H2O --> D-Glucose + Phosphate</p>\n",
       "                </td>\n",
       "            </tr><tr>\n",
       "                <td><strong>GPR</strong></td><td></td>\n",
       "            </tr><tr>\n",
       "                <td><strong>Lower bound</strong></td><td>0.0</td>\n",
       "            </tr><tr>\n",
       "                <td><strong>Upper bound</strong></td><td>1000.0</td>\n",
       "            </tr>\n",
       "        </table>\n",
       "        "
      ],
      "text/plain": [
       "<Reaction G6PP at 0x7f4ddd52efd0>"
      ]
     },
     "execution_count": 114,
     "metadata": {},
     "output_type": "execute_result"
    }
   ],
   "source": [
    "universal.reactions.get_by_id('G6PP')"
   ]
  },
  {
   "cell_type": "code",
   "execution_count": 115,
   "metadata": {},
   "outputs": [],
   "source": [
    "model.reactions.get_by_id('PPGKr').annotation = universal.reactions.get_by_id('G6PP').annotation"
   ]
  },
  {
   "cell_type": "code",
   "execution_count": 116,
   "metadata": {},
   "outputs": [
    {
     "data": {
      "text/html": [
       "\n",
       "        <table>\n",
       "            <tr>\n",
       "                <td><strong>Reaction identifier</strong></td><td>PPK2r</td>\n",
       "            </tr><tr>\n",
       "                <td><strong>Name</strong></td><td>Polyphosphate kinase</td>\n",
       "            </tr><tr>\n",
       "                <td><strong>Memory address</strong></td>\n",
       "                <td>0x07f4dceb86890</td>\n",
       "            </tr><tr>\n",
       "                <td><strong>Stoichiometry</strong></td>\n",
       "                <td>\n",
       "                    <p style='text-align:right'>atp_c + ppi_c --> adp_c + pppi_c</p>\n",
       "                    <p style='text-align:right'>ATP + Diphosphate --> ADP + Inorganic triphosphate</p>\n",
       "                </td>\n",
       "            </tr><tr>\n",
       "                <td><strong>GPR</strong></td><td>WP_005240409_1 or WP_005251869_1</td>\n",
       "            </tr><tr>\n",
       "                <td><strong>Lower bound</strong></td><td>0.0</td>\n",
       "            </tr><tr>\n",
       "                <td><strong>Upper bound</strong></td><td>1000.0</td>\n",
       "            </tr>\n",
       "        </table>\n",
       "        "
      ],
      "text/plain": [
       "<Reaction PPK2r at 0x7f4dceb86890>"
      ]
     },
     "execution_count": 116,
     "metadata": {},
     "output_type": "execute_result"
    }
   ],
   "source": [
    "model.reactions.get_by_id('PPK2r')"
   ]
  },
  {
   "cell_type": "code",
   "execution_count": 117,
   "metadata": {},
   "outputs": [
    {
     "data": {
      "text/html": [
       "\n",
       "        <table>\n",
       "            <tr>\n",
       "                <td><strong>Reaction identifier</strong></td><td>PPK2</td>\n",
       "            </tr><tr>\n",
       "                <td><strong>Name</strong></td><td>Polyphosphate kinase</td>\n",
       "            </tr><tr>\n",
       "                <td><strong>Memory address</strong></td>\n",
       "                <td>0x07f4ddae0efd0</td>\n",
       "            </tr><tr>\n",
       "                <td><strong>Stoichiometry</strong></td>\n",
       "                <td>\n",
       "                    <p style='text-align:right'>atp_c + ppi_c --> adp_c + pppi_c</p>\n",
       "                    <p style='text-align:right'>ATP C10H12N5O13P3 + Diphosphate --> ADP C10H12N5O10P2 + Inorganic triphosphate</p>\n",
       "                </td>\n",
       "            </tr><tr>\n",
       "                <td><strong>GPR</strong></td><td></td>\n",
       "            </tr><tr>\n",
       "                <td><strong>Lower bound</strong></td><td>0.0</td>\n",
       "            </tr><tr>\n",
       "                <td><strong>Upper bound</strong></td><td>1000.0</td>\n",
       "            </tr>\n",
       "        </table>\n",
       "        "
      ],
      "text/plain": [
       "<Reaction PPK2 at 0x7f4ddae0efd0>"
      ]
     },
     "execution_count": 117,
     "metadata": {},
     "output_type": "execute_result"
    }
   ],
   "source": [
    "universal.reactions.get_by_id('PPK2')"
   ]
  },
  {
   "cell_type": "code",
   "execution_count": 118,
   "metadata": {},
   "outputs": [],
   "source": [
    "model.reactions.get_by_id('PPK2r').annotation = universal.reactions.get_by_id('PPK2').annotation"
   ]
  },
  {
   "cell_type": "code",
   "execution_count": 119,
   "metadata": {},
   "outputs": [
    {
     "data": {
      "text/html": [
       "\n",
       "        <table>\n",
       "            <tr>\n",
       "                <td><strong>Reaction identifier</strong></td><td>PPKr</td>\n",
       "            </tr><tr>\n",
       "                <td><strong>Name</strong></td><td>Polyphosphate kinase</td>\n",
       "            </tr><tr>\n",
       "                <td><strong>Memory address</strong></td>\n",
       "                <td>0x07f4dceb86250</td>\n",
       "            </tr><tr>\n",
       "                <td><strong>Stoichiometry</strong></td>\n",
       "                <td>\n",
       "                    <p style='text-align:right'>atp_c + pi_c --> adp_c + ppi_c</p>\n",
       "                    <p style='text-align:right'>ATP + Phosphate --> ADP + Diphosphate</p>\n",
       "                </td>\n",
       "            </tr><tr>\n",
       "                <td><strong>GPR</strong></td><td>WP_005251869_1</td>\n",
       "            </tr><tr>\n",
       "                <td><strong>Lower bound</strong></td><td>0.0</td>\n",
       "            </tr><tr>\n",
       "                <td><strong>Upper bound</strong></td><td>1000.0</td>\n",
       "            </tr>\n",
       "        </table>\n",
       "        "
      ],
      "text/plain": [
       "<Reaction PPKr at 0x7f4dceb86250>"
      ]
     },
     "execution_count": 119,
     "metadata": {},
     "output_type": "execute_result"
    }
   ],
   "source": [
    "model.reactions.get_by_id('PPKr')"
   ]
  },
  {
   "cell_type": "code",
   "execution_count": 120,
   "metadata": {},
   "outputs": [
    {
     "data": {
      "text/html": [
       "\n",
       "        <table>\n",
       "            <tr>\n",
       "                <td><strong>Reaction identifier</strong></td><td>PPK</td>\n",
       "            </tr><tr>\n",
       "                <td><strong>Name</strong></td><td>Polyphosphate kinase</td>\n",
       "            </tr><tr>\n",
       "                <td><strong>Memory address</strong></td>\n",
       "                <td>0x07f4ddae0ef90</td>\n",
       "            </tr><tr>\n",
       "                <td><strong>Stoichiometry</strong></td>\n",
       "                <td>\n",
       "                    <p style='text-align:right'>atp_c + pi_c --> adp_c + ppi_c</p>\n",
       "                    <p style='text-align:right'>ATP C10H12N5O13P3 + Phosphate --> ADP C10H12N5O10P2 + Diphosphate</p>\n",
       "                </td>\n",
       "            </tr><tr>\n",
       "                <td><strong>GPR</strong></td><td></td>\n",
       "            </tr><tr>\n",
       "                <td><strong>Lower bound</strong></td><td>0.0</td>\n",
       "            </tr><tr>\n",
       "                <td><strong>Upper bound</strong></td><td>1000.0</td>\n",
       "            </tr>\n",
       "        </table>\n",
       "        "
      ],
      "text/plain": [
       "<Reaction PPK at 0x7f4ddae0ef90>"
      ]
     },
     "execution_count": 120,
     "metadata": {},
     "output_type": "execute_result"
    }
   ],
   "source": [
    "universal.reactions.get_by_id('PPK')"
   ]
  },
  {
   "cell_type": "code",
   "execution_count": 121,
   "metadata": {},
   "outputs": [],
   "source": [
    "model.reactions.get_by_id('PPKr').annotation = universal.reactions.get_by_id('PPK').annotation"
   ]
  },
  {
   "cell_type": "code",
   "execution_count": 122,
   "metadata": {},
   "outputs": [
    {
     "name": "stdout",
     "output_type": "stream",
     "text": [
      "SPMDt3 {}\n",
      "SULRi {}\n",
      "sink_2ohph_c {}\n",
      "sink_4hba_c {}\n",
      "sink_5drib_c {}\n",
      "sink_bmocogdp_c {}\n",
      "sink_lipopb_c {}\n",
      "sink_sheme_c {}\n",
      "Growth {}\n",
      "9\n"
     ]
    }
   ],
   "source": [
    "i = 0\n",
    "for r in model.reactions:\n",
    "    if r.annotation == {}:\n",
    "        i += 1\n",
    "        print(r.id, r.annotation)\n",
    "print(i)"
   ]
  },
  {
   "cell_type": "code",
   "execution_count": 123,
   "metadata": {},
   "outputs": [
    {
     "data": {
      "text/html": [
       "\n",
       "        <table>\n",
       "            <tr>\n",
       "                <td><strong>Reaction identifier</strong></td><td>SPMDt3</td>\n",
       "            </tr><tr>\n",
       "                <td><strong>Name</strong></td><td>Spermidine transport out via proton antiport</td>\n",
       "            </tr><tr>\n",
       "                <td><strong>Memory address</strong></td>\n",
       "                <td>0x07f4dcf13d090</td>\n",
       "            </tr><tr>\n",
       "                <td><strong>Stoichiometry</strong></td>\n",
       "                <td>\n",
       "                    <p style='text-align:right'>h_e + spmd_c --> h_c + spmd_e</p>\n",
       "                    <p style='text-align:right'>H+ + Spermidine --> H+ + Spermidine</p>\n",
       "                </td>\n",
       "            </tr><tr>\n",
       "                <td><strong>GPR</strong></td><td>WP_001297013_1</td>\n",
       "            </tr><tr>\n",
       "                <td><strong>Lower bound</strong></td><td>0.0</td>\n",
       "            </tr><tr>\n",
       "                <td><strong>Upper bound</strong></td><td>1000.0</td>\n",
       "            </tr>\n",
       "        </table>\n",
       "        "
      ],
      "text/plain": [
       "<Reaction SPMDt3 at 0x7f4dcf13d090>"
      ]
     },
     "execution_count": 123,
     "metadata": {},
     "output_type": "execute_result"
    }
   ],
   "source": [
    "model.reactions.get_by_id('SPMDt3')"
   ]
  },
  {
   "cell_type": "code",
   "execution_count": 124,
   "metadata": {},
   "outputs": [
    {
     "data": {
      "text/html": [
       "\n",
       "        <table>\n",
       "            <tr>\n",
       "                <td><strong>Reaction identifier</strong></td><td>SPMDt3i</td>\n",
       "            </tr><tr>\n",
       "                <td><strong>Name</strong></td><td>Spermidine transport in via proton antiport</td>\n",
       "            </tr><tr>\n",
       "                <td><strong>Memory address</strong></td>\n",
       "                <td>0x07f4dc81c3b90</td>\n",
       "            </tr><tr>\n",
       "                <td><strong>Stoichiometry</strong></td>\n",
       "                <td>\n",
       "                    <p style='text-align:right'>h_c + spmd_e --> h_e + spmd_c</p>\n",
       "                    <p style='text-align:right'>H+ + Spermidine --> H+ + Spermidine</p>\n",
       "                </td>\n",
       "            </tr><tr>\n",
       "                <td><strong>GPR</strong></td><td></td>\n",
       "            </tr><tr>\n",
       "                <td><strong>Lower bound</strong></td><td>0.0</td>\n",
       "            </tr><tr>\n",
       "                <td><strong>Upper bound</strong></td><td>1000.0</td>\n",
       "            </tr>\n",
       "        </table>\n",
       "        "
      ],
      "text/plain": [
       "<Reaction SPMDt3i at 0x7f4dc81c3b90>"
      ]
     },
     "execution_count": 124,
     "metadata": {},
     "output_type": "execute_result"
    }
   ],
   "source": [
    "universal.reactions.get_by_id('SPMDt3i')"
   ]
  },
  {
   "cell_type": "code",
   "execution_count": 125,
   "metadata": {},
   "outputs": [],
   "source": [
    "model.reactions.get_by_id('SPMDt3').annotation = universal.reactions.get_by_id('SPMDt3i').annotation"
   ]
  },
  {
   "cell_type": "code",
   "execution_count": 126,
   "metadata": {},
   "outputs": [
    {
     "data": {
      "text/html": [
       "\n",
       "        <table>\n",
       "            <tr>\n",
       "                <td><strong>Reaction identifier</strong></td><td>SULRi</td>\n",
       "            </tr><tr>\n",
       "                <td><strong>Name</strong></td><td>Sulfite reductase (NADPH2)</td>\n",
       "            </tr><tr>\n",
       "                <td><strong>Memory address</strong></td>\n",
       "                <td>0x07f4dcf1fba10</td>\n",
       "            </tr><tr>\n",
       "                <td><strong>Stoichiometry</strong></td>\n",
       "                <td>\n",
       "                    <p style='text-align:right'>5.0 h_c + 3.0 nadph_c + so3_c --> 3.0 h2o_c + h2s_c + 3.0 nadp_c</p>\n",
       "                    <p style='text-align:right'>5.0 H+ + 3.0 Nicotinamide adenine dinucleotide phosphate - reduced + Sulfite --> 3.0 H2O + Hydrogen sulfide + 3.0 Nicotinamide adenine dinucleotide phosphate</p>\n",
       "                </td>\n",
       "            </tr><tr>\n",
       "                <td><strong>GPR</strong></td><td>WP_005252413_1 or WP_037182396_1</td>\n",
       "            </tr><tr>\n",
       "                <td><strong>Lower bound</strong></td><td>0.0</td>\n",
       "            </tr><tr>\n",
       "                <td><strong>Upper bound</strong></td><td>1000.0</td>\n",
       "            </tr>\n",
       "        </table>\n",
       "        "
      ],
      "text/plain": [
       "<Reaction SULRi at 0x7f4dcf1fba10>"
      ]
     },
     "execution_count": 126,
     "metadata": {},
     "output_type": "execute_result"
    }
   ],
   "source": [
    "model.reactions.get_by_id('SULRi')"
   ]
  },
  {
   "cell_type": "code",
   "execution_count": 127,
   "metadata": {},
   "outputs": [
    {
     "data": {
      "text/html": [
       "\n",
       "        <table>\n",
       "            <tr>\n",
       "                <td><strong>Reaction identifier</strong></td><td>SULR</td>\n",
       "            </tr><tr>\n",
       "                <td><strong>Name</strong></td><td>Sulfite reductase (NADPH2)</td>\n",
       "            </tr><tr>\n",
       "                <td><strong>Memory address</strong></td>\n",
       "                <td>0x07f4dcabe0f90</td>\n",
       "            </tr><tr>\n",
       "                <td><strong>Stoichiometry</strong></td>\n",
       "                <td>\n",
       "                    <p style='text-align:right'>5.0 h_c + 3.0 nadph_c + so3_c --> 3.0 h2o_c + h2s_c + 3.0 nadp_c</p>\n",
       "                    <p style='text-align:right'>5.0 H+ + 3.0 Nicotinamide adenine dinucleotide phosphate - reduced + Sulfite --> 3.0 H2O H2O + Hydrogen sulfide + 3.0 Nicotinamide adenine dinucleotide phosphate</p>\n",
       "                </td>\n",
       "            </tr><tr>\n",
       "                <td><strong>GPR</strong></td><td></td>\n",
       "            </tr><tr>\n",
       "                <td><strong>Lower bound</strong></td><td>0.0</td>\n",
       "            </tr><tr>\n",
       "                <td><strong>Upper bound</strong></td><td>1000.0</td>\n",
       "            </tr>\n",
       "        </table>\n",
       "        "
      ],
      "text/plain": [
       "<Reaction SULR at 0x7f4dcabe0f90>"
      ]
     },
     "execution_count": 127,
     "metadata": {},
     "output_type": "execute_result"
    }
   ],
   "source": [
    "universal.reactions.get_by_id('SULR')"
   ]
  },
  {
   "cell_type": "code",
   "execution_count": 128,
   "metadata": {},
   "outputs": [],
   "source": [
    "model.reactions.get_by_id('SULRi').annotation = universal.reactions.get_by_id('SULR').annotation"
   ]
  },
  {
   "cell_type": "code",
   "execution_count": 129,
   "metadata": {},
   "outputs": [
    {
     "data": {
      "text/html": [
       "\n",
       "        <table>\n",
       "            <tr>\n",
       "                <td><strong>Reaction identifier</strong></td><td>sink_2ohph_c</td>\n",
       "            </tr><tr>\n",
       "                <td><strong>Name</strong></td><td>R_sink_2ohph_c</td>\n",
       "            </tr><tr>\n",
       "                <td><strong>Memory address</strong></td>\n",
       "                <td>0x07f4dcf864410</td>\n",
       "            </tr><tr>\n",
       "                <td><strong>Stoichiometry</strong></td>\n",
       "                <td>\n",
       "                    <p style='text-align:right'>2ohph_c --> </p>\n",
       "                    <p style='text-align:right'>2-Octaprenyl-6-hydroxyphenol --> </p>\n",
       "                </td>\n",
       "            </tr><tr>\n",
       "                <td><strong>GPR</strong></td><td></td>\n",
       "            </tr><tr>\n",
       "                <td><strong>Lower bound</strong></td><td>0.0</td>\n",
       "            </tr><tr>\n",
       "                <td><strong>Upper bound</strong></td><td>1000.0</td>\n",
       "            </tr>\n",
       "        </table>\n",
       "        "
      ],
      "text/plain": [
       "<Reaction sink_2ohph_c at 0x7f4dcf864410>"
      ]
     },
     "execution_count": 129,
     "metadata": {},
     "output_type": "execute_result"
    }
   ],
   "source": [
    "model.reactions.get_by_id('sink_2ohph_c')"
   ]
  },
  {
   "cell_type": "code",
   "execution_count": 139,
   "metadata": {},
   "outputs": [
    {
     "data": {
      "text/html": [
       "\n",
       "        <table>\n",
       "            <tr>\n",
       "                <td><strong>Reaction identifier</strong></td><td>sink_4hba_c</td>\n",
       "            </tr><tr>\n",
       "                <td><strong>Name</strong></td><td>R_sink_4hba_c</td>\n",
       "            </tr><tr>\n",
       "                <td><strong>Memory address</strong></td>\n",
       "                <td>0x07f4dcf8c2cd0</td>\n",
       "            </tr><tr>\n",
       "                <td><strong>Stoichiometry</strong></td>\n",
       "                <td>\n",
       "                    <p style='text-align:right'>4hba_c --> </p>\n",
       "                    <p style='text-align:right'>4-Hydroxy-benzyl alcohol --> </p>\n",
       "                </td>\n",
       "            </tr><tr>\n",
       "                <td><strong>GPR</strong></td><td></td>\n",
       "            </tr><tr>\n",
       "                <td><strong>Lower bound</strong></td><td>0.0</td>\n",
       "            </tr><tr>\n",
       "                <td><strong>Upper bound</strong></td><td>1000.0</td>\n",
       "            </tr>\n",
       "        </table>\n",
       "        "
      ],
      "text/plain": [
       "<Reaction sink_4hba_c at 0x7f4dcf8c2cd0>"
      ]
     },
     "execution_count": 139,
     "metadata": {},
     "output_type": "execute_result"
    }
   ],
   "source": [
    "model.reactions.get_by_id('sink_4hba_c')"
   ]
  },
  {
   "cell_type": "code",
   "execution_count": 140,
   "metadata": {},
   "outputs": [
    {
     "data": {
      "text/html": [
       "\n",
       "        <table>\n",
       "            <tr>\n",
       "                <td><strong>Reaction identifier</strong></td><td>DM_4hba_c</td>\n",
       "            </tr><tr>\n",
       "                <td><strong>Name</strong></td><td>Sink needed to allow 4-hydroxy-benzoate to leave system</td>\n",
       "            </tr><tr>\n",
       "                <td><strong>Memory address</strong></td>\n",
       "                <td>0x07f4ddaabb790</td>\n",
       "            </tr><tr>\n",
       "                <td><strong>Stoichiometry</strong></td>\n",
       "                <td>\n",
       "                    <p style='text-align:right'>4hba_c --> </p>\n",
       "                    <p style='text-align:right'>4-Hydroxy-benzyl alcohol --> </p>\n",
       "                </td>\n",
       "            </tr><tr>\n",
       "                <td><strong>GPR</strong></td><td></td>\n",
       "            </tr><tr>\n",
       "                <td><strong>Lower bound</strong></td><td>0.0</td>\n",
       "            </tr><tr>\n",
       "                <td><strong>Upper bound</strong></td><td>1000.0</td>\n",
       "            </tr>\n",
       "        </table>\n",
       "        "
      ],
      "text/plain": [
       "<Reaction DM_4hba_c at 0x7f4ddaabb790>"
      ]
     },
     "execution_count": 140,
     "metadata": {},
     "output_type": "execute_result"
    }
   ],
   "source": [
    "universal.reactions.get_by_id('DM_4hba_c')"
   ]
  },
  {
   "cell_type": "code",
   "execution_count": 142,
   "metadata": {},
   "outputs": [],
   "source": [
    "model.reactions.get_by_id('sink_4hba_c').annotation = universal.reactions.get_by_id('DM_4hba_c').annotation"
   ]
  },
  {
   "cell_type": "code",
   "execution_count": 143,
   "metadata": {},
   "outputs": [
    {
     "data": {
      "text/html": [
       "\n",
       "        <table>\n",
       "            <tr>\n",
       "                <td><strong>Reaction identifier</strong></td><td>sink_5drib_c</td>\n",
       "            </tr><tr>\n",
       "                <td><strong>Name</strong></td><td>R_sink_5drib_c</td>\n",
       "            </tr><tr>\n",
       "                <td><strong>Memory address</strong></td>\n",
       "                <td>0x07f4dcf8c2e10</td>\n",
       "            </tr><tr>\n",
       "                <td><strong>Stoichiometry</strong></td>\n",
       "                <td>\n",
       "                    <p style='text-align:right'>5drib_c --> </p>\n",
       "                    <p style='text-align:right'>5'-deoxyribose --> </p>\n",
       "                </td>\n",
       "            </tr><tr>\n",
       "                <td><strong>GPR</strong></td><td></td>\n",
       "            </tr><tr>\n",
       "                <td><strong>Lower bound</strong></td><td>0.0</td>\n",
       "            </tr><tr>\n",
       "                <td><strong>Upper bound</strong></td><td>1000.0</td>\n",
       "            </tr>\n",
       "        </table>\n",
       "        "
      ],
      "text/plain": [
       "<Reaction sink_5drib_c at 0x7f4dcf8c2e10>"
      ]
     },
     "execution_count": 143,
     "metadata": {},
     "output_type": "execute_result"
    }
   ],
   "source": [
    "model.reactions.get_by_id('sink_5drib_c')"
   ]
  },
  {
   "cell_type": "code",
   "execution_count": 144,
   "metadata": {},
   "outputs": [
    {
     "data": {
      "text/html": [
       "\n",
       "        <table>\n",
       "            <tr>\n",
       "                <td><strong>Reaction identifier</strong></td><td>DM_5drib_c</td>\n",
       "            </tr><tr>\n",
       "                <td><strong>Name</strong></td><td>Sink needed to allow 5'-deoxyribose to leave system</td>\n",
       "            </tr><tr>\n",
       "                <td><strong>Memory address</strong></td>\n",
       "                <td>0x07f4dcbbeef90</td>\n",
       "            </tr><tr>\n",
       "                <td><strong>Stoichiometry</strong></td>\n",
       "                <td>\n",
       "                    <p style='text-align:right'>5drib_c --> </p>\n",
       "                    <p style='text-align:right'>5'-deoxyribose --> </p>\n",
       "                </td>\n",
       "            </tr><tr>\n",
       "                <td><strong>GPR</strong></td><td></td>\n",
       "            </tr><tr>\n",
       "                <td><strong>Lower bound</strong></td><td>0.0</td>\n",
       "            </tr><tr>\n",
       "                <td><strong>Upper bound</strong></td><td>1000.0</td>\n",
       "            </tr>\n",
       "        </table>\n",
       "        "
      ],
      "text/plain": [
       "<Reaction DM_5drib_c at 0x7f4dcbbeef90>"
      ]
     },
     "execution_count": 144,
     "metadata": {},
     "output_type": "execute_result"
    }
   ],
   "source": [
    "universal.reactions.get_by_id('DM_5drib_c')"
   ]
  },
  {
   "cell_type": "code",
   "execution_count": 145,
   "metadata": {},
   "outputs": [],
   "source": [
    "model.reactions.get_by_id('sink_5drib_c').annotation = universal.reactions.get_by_id('DM_5drib_c').annotation"
   ]
  },
  {
   "cell_type": "code",
   "execution_count": 146,
   "metadata": {},
   "outputs": [
    {
     "data": {
      "text/html": [
       "\n",
       "        <table>\n",
       "            <tr>\n",
       "                <td><strong>Reaction identifier</strong></td><td>sink_bmocogdp_c</td>\n",
       "            </tr><tr>\n",
       "                <td><strong>Name</strong></td><td>R_sink_bmocogdp_c</td>\n",
       "            </tr><tr>\n",
       "                <td><strong>Memory address</strong></td>\n",
       "                <td>0x07f4dcf8c2850</td>\n",
       "            </tr><tr>\n",
       "                <td><strong>Stoichiometry</strong></td>\n",
       "                <td>\n",
       "                    <p style='text-align:right'>bmocogdp_c --> </p>\n",
       "                    <p style='text-align:right'>Bis-molybdopterin guanine dinucleotide --> </p>\n",
       "                </td>\n",
       "            </tr><tr>\n",
       "                <td><strong>GPR</strong></td><td></td>\n",
       "            </tr><tr>\n",
       "                <td><strong>Lower bound</strong></td><td>0.0</td>\n",
       "            </tr><tr>\n",
       "                <td><strong>Upper bound</strong></td><td>1000.0</td>\n",
       "            </tr>\n",
       "        </table>\n",
       "        "
      ],
      "text/plain": [
       "<Reaction sink_bmocogdp_c at 0x7f4dcf8c2850>"
      ]
     },
     "execution_count": 146,
     "metadata": {},
     "output_type": "execute_result"
    }
   ],
   "source": [
    "model.reactions.get_by_id('sink_bmocogdp_c') "
   ]
  },
  {
   "cell_type": "code",
   "execution_count": 152,
   "metadata": {},
   "outputs": [
    {
     "name": "stdout",
     "output_type": "stream",
     "text": [
      "BIOMASS_KT2440_WT3\n",
      "BIOMASS_Gm_GS15_WT_79p20M\n",
      "BMOGDS2\n",
      "BIOMASS_Ec_iJO1366_WT_53p95M\n",
      "BIOMASS_Ec_iJO1366_core_53p95M\n"
     ]
    }
   ],
   "source": [
    "for r in universal.metabolites.get_by_id('bmocogdp_c').reactions:\n",
    "    print(r.id)"
   ]
  },
  {
   "cell_type": "code",
   "execution_count": 153,
   "metadata": {},
   "outputs": [
    {
     "name": "stdout",
     "output_type": "stream",
     "text": [
      "sink_2ohph_c {}\n",
      "sink_bmocogdp_c {}\n",
      "sink_lipopb_c {}\n",
      "sink_sheme_c {}\n",
      "Growth {}\n",
      "5\n"
     ]
    }
   ],
   "source": [
    "i = 0\n",
    "for r in model.reactions:\n",
    "    if r.annotation == {}:\n",
    "        i += 1\n",
    "        print(r.id, r.annotation)\n",
    "print(i)"
   ]
  },
  {
   "cell_type": "code",
   "execution_count": 154,
   "metadata": {},
   "outputs": [
    {
     "data": {
      "text/html": [
       "\n",
       "        <table>\n",
       "            <tr>\n",
       "                <td><strong>Reaction identifier</strong></td><td>sink_lipopb_c</td>\n",
       "            </tr><tr>\n",
       "                <td><strong>Name</strong></td><td>R_sink_lipopb_c</td>\n",
       "            </tr><tr>\n",
       "                <td><strong>Memory address</strong></td>\n",
       "                <td>0x07f4dcf8c2ed0</td>\n",
       "            </tr><tr>\n",
       "                <td><strong>Stoichiometry</strong></td>\n",
       "                <td>\n",
       "                    <p style='text-align:right'>lipopb_c --> </p>\n",
       "                    <p style='text-align:right'>Lipoate (protein bound) --> </p>\n",
       "                </td>\n",
       "            </tr><tr>\n",
       "                <td><strong>GPR</strong></td><td></td>\n",
       "            </tr><tr>\n",
       "                <td><strong>Lower bound</strong></td><td>0.0</td>\n",
       "            </tr><tr>\n",
       "                <td><strong>Upper bound</strong></td><td>1000.0</td>\n",
       "            </tr>\n",
       "        </table>\n",
       "        "
      ],
      "text/plain": [
       "<Reaction sink_lipopb_c at 0x7f4dcf8c2ed0>"
      ]
     },
     "execution_count": 154,
     "metadata": {},
     "output_type": "execute_result"
    }
   ],
   "source": [
    "model.reactions.get_by_id('sink_lipopb_c')"
   ]
  },
  {
   "cell_type": "code",
   "execution_count": 156,
   "metadata": {},
   "outputs": [
    {
     "name": "stdout",
     "output_type": "stream",
     "text": [
      "BIOMASS_KT2440_WT3: 0.000223 10fthf_c + 0.000223 2fe2s_c + 0.000223 4fe4s_c + 0.000223 5mthf_c + 0.000279 accoa_c + 0.000223 adocbl_c + 0.598267 ala__L_c + 0.000223 amet_c + 0.354251 arg__L_c + 0.158931 asn__L_c + 0.284685 asp__L_c + 46.918883 atp_c + 0.000223 bmocogdp_c + 0.000223 btamp_c + 0.004226 ca2_c + 0.000223 chor_c + 0.004226 cl_c + 1.8e-05 clpn140_p + 0.000578 clpn160_p + 0.002873 clpn161_p + 0.000192 clpn180_p + 0.001309 clpn181_p + 0.000167 coa_c + 0.002817 cobalt2_c + 0.00041 cpe160_c + 0.000226 cpg160_c + 0.159783 ctp_c + 0.002817 cu2_c + 0.055652 cys__L_c + 0.010804 datp_c + 0.01721 dctp_c + 0.017423 dgtp_c + 0.010854 dttp_c + 0.000223 fad_c + 0.00634 fe2_c + 0.00634 fe3_c + 0.251507 gln__L_c + 0.301809 glu__L_c + 0.431309 gly_c + 0.000223 gthrd_c + 0.210704 gtp_c + 41.397362 h2o_c + 0.000223 hemeO_c + 0.126289 his__L_c + 0.244551 ile__L_c + 0.158509 k_c + 0.628769 leu__L_c + 0.000223 lipopb_c + 0.008696 lpspput_e + 0.180336 lys__L_c + 3.1e-05 malcoa_c + 0.122008 met__L_c + 0.007044 mg2_c + 0.000223 mlthf_c + 0.002817 mn2_c + 0.002817 mobd_c + 0.000223 mocogdp_c + 0.001979 murein3p3p_p + 0.000326 murein3px4p_p + 0.007917 murein4p4p_p + 0.002941 murein4px4p_p + 6.6e-05 murein4px4px4p_p + 0.003522 na1_c + 0.001786 nad_c + 4.4e-05 nadh_c + 0.000111 nadp_c + 0.000335 nadph_c + 0.010567 nh4_c + 0.002817 ni2_c + 0.000251 pe140_c + 0.007882 pe160_c + 0.039155 pe161_c + 0.002622 pe180_c + 0.017845 pe181_c + 0.000138 pg140_c + 0.004354 pg160_c + 0.021632 pg161_c + 0.001449 pg180_c + 0.009859 pg181_c + 0.191038 phe__L_c + 0.000223 pheme_c + 0.000223 pqqh2_c + 0.26328 pro__L_c + 0.03327 ptrc_c + 0.000223 pydx5p_c + 0.000223 pyovd_kt_e + 0.000223 q8h2_c + 0.000223 ribflv_c + 0.301274 ser__L_c + 0.000223 sheme_c + 0.003522 so4_c + 9.8e-05 succoa_c + 0.000223 thf_c + 0.000223 thmnp_c + 0.000223 thmpp_c + 0.256324 thr__L_c + 0.077592 trp__L_c + 0.135921 tyr__L_c + 5.5e-05 udcpdp_c + 0.143215 utp_c + 0.389034 val__L_c + 0.002817 zn2_c --> 46.7502 adp_c + 46.7502 h_c + 46.746677 pi_c + 0.73868 ppi_c\n",
      "BIOMASS_COFACTORS: 0.0213 5mthf_c + 0.0043 adocbl_c + 0.022 btamp_c + 0.016 coa_c + 0.0214 fad_c + 0.6518 fe2_c + 0.6518 fe3_c + 1.5013 gthbpt_c + 0.0213 hemeO_c + 0.0013 k_c + 0.022 lipopb_c + 0.0214 mlthf_c + 0.0001 na1_c + 0.1708 nad_c + 0.0043 nadh_c + 0.0107 nadp_c + 0.032 nadph_c + 0.0169 phllqne_c + 0.015 pq_um + 0.0344 ptrc_c + 0.022 pydx5p_c + 0.0213 sheme_c + 0.0736 spmd_c + 0.0214 thf_c + 0.0213 thmpp_c + 0.0096 udcpdp_c --> bm_cofactors_c\n",
      "BIOMASS_Ec_iML1515_WT_75p37M: 0.000223 10fthf_c + 0.000223 2dmmql8_c + 2.5e-05 2fe2s_c + 0.000248 4fe4s_c + 0.000223 5mthf_c + 0.000279 accoa_c + 0.000223 adocbl_c + 0.499149 ala__L_c + 0.000223 amet_c + 0.28742 arg__L_c + 0.234232 asn__L_c + 0.234232 asp__L_c + 75.55223 atp_c + 2e-06 btn_c + 0.004952 ca2_c + 0.000223 chor_c + 0.004952 cl_c + 0.002944 clpn160_p + 0.00229 clpn161_p + 0.00118 clpn181_p + 0.000168 coa_c + 2.4e-05 cobalt2_c + 0.008151 colipa_e + 0.129799 ctp_c + 0.000674 cu2_c + 0.088988 cys__L_c + 0.024805 datp_c + 0.025612 dctp_c + 0.025612 dgtp_c + 0.024805 dttp_c + 0.000223 enter_c + 0.000223 fad_c + 0.006388 fe2_c + 0.007428 fe3_c + 0.255712 gln__L_c + 0.255712 glu__L_c + 0.595297 gly_c + 0.154187 glycogen_c + 0.000223 gthrd_c + 0.209121 gtp_c + 70.028756 h2o_c + 0.000223 hemeO_c + 0.092056 his__L_c + 0.282306 ile__L_c + 0.18569 k_c + 0.437778 leu__L_c + 3e-06 lipopb_c + 0.333448 lys__L_c + 3.1e-05 malcoa_c + 0.149336 met__L_c + 0.008253 mg2_c + 0.000223 mlthf_c + 0.000658 mn2_c + 7e-06 mobd_c + 7e-06 mococdp_c + 7e-06 mocogdp_c + 0.000223 mql8_c + 0.001345 murein3p3p_p + 0.000605 murein3px4p_p + 0.005381 murein4p4p_p + 0.005448 murein4px4p_p + 0.000673 murein4px4px4p_p + 0.001787 nad_c + 4.5e-05 nadh_c + 0.000112 nadp_c + 0.000335 nadph_c + 0.012379 nh4_c + 0.000307 ni2_c + 0.044164 pe160_p + 0.03435 pe161_p + 0.017704 pe181_p + 0.010599 pg160_p + 0.008244 pg161_p + 0.004249 pg181_p + 0.180021 phe__L_c + 0.000223 pheme_c + 0.214798 pro__L_c + 0.03327 ptrc_c + 0.000223 pydx5p_c + 0.000223 q8h2_c + 0.000223 ribflv_c + 0.209684 ser__L_c + 0.000223 sheme_c + 0.004126 so4_c + 0.006744 spmd_c + 9.8e-05 succoa_c + 0.000223 thf_c + 0.000223 thmpp_c + 0.246506 thr__L_c + 0.055234 trp__L_c + 0.133993 tyr__L_c + 5.5e-05 udcpdp_c + 0.140101 utp_c + 0.411184 val__L_c + 0.000324 zn2_c --> 75.37723 adp_c + 75.37723 h_c + 75.37323 pi_c + 0.749831 ppi_c\n",
      "BIOMASS_OtherSOLUTES_reduced: 0.000223 10fthf_c + 2.5e-05 2fe2s_c + 0.000248 4fe4s_c + 0.000223 5mthf_c + 2e-06 btn_c + 0.000223 chor_c + 0.004952 cl_c + 0.006388 fe2_c + 0.007428 fe3_c + 0.18569 k_c + 3e-06 lipopb_c + 0.008253 mg2_c + 0.000658 mn2_c + 1.9895 na1_c + 0.012379 nh4_c + 0.000223 pheme_c + 0.03327 ptrc_c + 0.000223 ribflv_c + 0.004126 so4_c + 0.000223 thm_c + 0.000223 thmpp_c + 0.000324 zn2_c --> 1gOtherSolutes_r_c\n",
      "BIOMASS_Ec_iJO1366_WT_53p95M: 0.000223 10fthf_c + 0.000223 2dmmql8_c + 2.5e-05 2fe2s_c + 0.000248 4fe4s_c + 0.000223 5mthf_c + 0.000279 accoa_c + 0.000223 adocbl_c + 0.499149 ala__L_c + 0.000223 amet_c + 0.28742 arg__L_c + 0.234232 asn__L_c + 0.234232 asp__L_c + 54.119975 atp_c + 0.000116 bmocogdp_c + 2e-06 btn_c + 0.004952 ca2_c + 0.000223 chor_c + 0.004952 cl_c + 0.002944 clpn160_p + 0.00229 clpn161_p + 0.00118 clpn181_p + 0.000168 coa_c + 2.4e-05 cobalt2_c + 0.008151 colipa_e + 0.129799 ctp_c + 0.000674 cu2_c + 0.088988 cys__L_c + 0.024805 datp_c + 0.025612 dctp_c + 0.025612 dgtp_c + 0.024805 dttp_c + 0.000223 enter_c + 0.000223 fad_c + 0.006388 fe2_c + 0.007428 fe3_c + 0.255712 gln__L_c + 0.255712 glu__L_c + 0.595297 gly_c + 0.154187 glycogen_c + 0.000223 gthrd_c + 0.209121 gtp_c + 48.752916 h2o_c + 0.000223 hemeO_c + 0.092056 his__L_c + 0.282306 ile__L_c + 0.18569 k_c + 0.437778 leu__L_c + 3e-06 lipopb_c + 0.333448 lys__L_c + 3.1e-05 malcoa_c + 0.149336 met__L_c + 0.008253 mg2_c + 0.000223 mlthf_c + 0.000658 mn2_c + 7e-06 mobd_c + 7e-06 mococdp_c + 7e-06 mocogdp_c + 0.000223 mql8_c + 0.001345 murein3p3p_p + 0.000605 murein3px4p_p + 0.005381 murein4p4p_p + 0.005448 murein4px4p_p + 0.000673 murein4px4px4p_p + 0.001787 nad_c + 4.5e-05 nadh_c + 0.000112 nadp_c + 0.000335 nadph_c + 0.012379 nh4_c + 0.000307 ni2_c + 0.012366 pe160_c + 0.031798 pe160_p + 0.009618 pe161_c + 0.024732 pe161_p + 0.004957 pe181_c + 0.012747 pe181_p + 0.005707 pg160_c + 0.004892 pg160_p + 0.004439 pg161_c + 0.003805 pg161_p + 0.002288 pg181_c + 0.001961 pg181_p + 0.180021 phe__L_c + 0.000223 pheme_c + 0.214798 pro__L_c + 0.03327 ptrc_c + 0.000223 pydx5p_c + 0.000223 q8h2_c + 0.000223 ribflv_c + 0.209684 ser__L_c + 0.000223 sheme_c + 0.004126 so4_c + 0.006744 spmd_c + 9.8e-05 succoa_c + 0.000223 thf_c + 0.000223 thmpp_c + 0.246506 thr__L_c + 0.055234 trp__L_c + 0.133993 tyr__L_c + 5.5e-05 udcpdp_c + 0.140101 utp_c + 0.411184 val__L_c + 0.000324 zn2_c --> 53.95 adp_c + 53.95 h_c + 53.945874 pi_c + 0.749831 ppi_c\n",
      "LIPAMPL: lipoamp_c --> amp_c + lipopb_c\n",
      "LIPAMPL_1: lipamp_c --> amp_c + lipopb_c\n",
      "BIOMASS_WT_lumped: 0.000223 10fthf_c + 1.22133333333333e-06 25aics_c + 2.5e-05 2fe2s_c + 0.00262322198280426 3g12dgr_MRSA_c + 0.000248 4fe4s_c + 0.000223 5mthf_c + 0.00114134054982119 LTA_MRSA_w + 0.00874624310832839 WTA40rPG_w + 0.00831380373939899 WTA40raPG_w + 0.00762327685818712 WTA40rgPG_w + 0.000251158 accoa_c + 0.00326733653519446 adp_c + 0.000118894666666667 adprib_c + 4.07473333333333e-05 aicar_c + 4.28646666666667e-05 air_c + 0.423632460532057 alatrna_c + 0.000911653304681671 amp_c + 0.0918089359638714 argtrna_c + 0.197581628673794 asntrna_c + 0.218521086057564 asptrna_c + 0.145790969008564 atp_c + 2e-06 btn_c + 0.000832021974702629 cdp_c + 0.000440383666666667 cdpglyc_c + 0.000223 chor_c + 0.004952 cl_c + 0.00286984353246381 clpn_MRSA_c + 0.000600864756467935 cmp_c + 0.000221609784860776 coa_c + 0.066756388073929 ctp_c + 0.0209808370736605 cystrna_c + 1.20343333333333e-05 dadp_c + 0.0109370901007626 dag_MRSA_c + 4.61533333333333e-06 damp_c + 0.0322157042402594 datp_c + 1.35283333333333e-05 dcdp_c + 1.673e-06 dcmp_c + 0.0172721560415041 dctp_c + 0.000109048 dgdp_c + 1e-06 dgmp_c + 0.0149650961239284 dgtp_c + 4.23666666666667e-06 didp_c + 7.46e-07 dimp_c + 8.7751e-05 dtdp_c + 0.0342907422630927 dttp_c + 1.9085e-05 e4p_c + 0.0107578645424233 f6p_c + 4.36053333333333e-05 fad_c + 0.00302503809888867 fdp_c + 0.006388 fe2_c + 0.007428 fe3_c + 1.53733333333333e-05 fmn_c + 0.00656510781868268 g6p_c + 1.01913333333333e-05 gar_c + 0.000140997483565739 gdp_c + 0.126949548237883 glntrna_c + 0.236004222544405 glutrna_c + 0.489884461815628 glytrna_c + 1e-06 gmp_c + 0.0717413508690766 gtp_c + 0.000223 hemeO_c + 0.0602470691980932 histrna_c + 0.265788828846867 iletrna_c + 0.00082713918858427 imp_c + 0.18569 k_c + 0.296137663627832 leutrna_c + 3e-06 lipopb_c + 0.233693369812558 lystrna_c + 0.000143479333333333 malcoa_c + 0.0760398364143866 mettrna_c + 0.008253 mg2_c + 0.000658 mn2_c + 7e-06 mobd_c + 0.00493631043718319 mqn7_c + 1.9895 na1_c + 1.09973333333333e-05 nad_c + 1.83333333333333e-07 nadh_c + 3.29583333333333e-05 nadp_c + 4.0375e-05 nadph_c + 0.012379 nh4_c + 0.0212090493892501 pg_MRSA_c + 0.00236326444528039 pglys_MRSA_c + 0.000223 pheme_c + 0.114289649962229 phetrna_c + 2.39666666666667e-07 pram_c + 0.149974972042654 protrna_c + 0.000192739333333333 prpp_c + 0.03327 ptrc_c + 1.6527e-05 rbflvrd_c + 0.000223 ribflv_c + 0.000204374 s17bp_c + 4.1923e-05 s7p_c + 0.255601998781001 sertrna_c + 0.004126 so4_c + 5.23233333333333e-06 succoa_c + 0.000223 thm_c + 0.000223 thmpp_c + 0.217278545237938 thrtrna_c + 0.0153399263561257 trptrna_c + 0.0762944062187949 tyrtrna_c + 0.000386460666666667 uacgam_c + 1.23583333333333e-05 uacmam_c + 1.07153333333333e-05 uama_c + 6.32866666666667e-06 uamag_c + 7.73333333333333e-08 uamagl_c + 1.3655e-05 uamaglaa_c + 0.000181107333333333 uamr_c + 0.000231240333333333 udcpp_c + 0.000930858135601723 udp_c + 0.000177274 udpg_c + 0.00249409889766259 ump_c + 0.118289050266337 utp_c + 0.286922001834538 valtrna_c + 0.000324 zn2_c --> 0.423632460532057 trnaala_c + 0.0918089359638714 trnaarg_c + 0.197581628673794 trnaasn_c + 0.218521086057564 trnaasp_c + 0.0209808370736605 trnacys_c + 0.362953770782288 trnaglu_c + 0.489884461815628 trnagly_c + 0.0602470691980932 trnahis_c + 0.265788828846867 trnaile_c + 0.296137663627832 trnaleu_c + 0.233693369812558 trnalys_c + 0.0760398364143866 trnamet_c + 0.114289649962229 trnaphe_c + 0.149974972042654 trnapro_c + 0.255601998781001 trnaser_c + 0.217278545237938 trnathr_c + 0.0153399263561257 trnatrp_c + 0.0762944062187949 trnatyr_c + 0.286922001834538 trnaval_c\n",
      "LIPOS2: 2.0 amet_c + 2.0 cys__L_c + 2.0 fdxrd_c + octapb_c --> 2.0 ala__L_c + 2.0 dad_5_c + 2.0 fdxox_c + lipopb_c + 2.0 met__L_c\n",
      "BIOMASS_OtherSOLUTES_wild_type: 0.000223 10fthf_c + 2.5e-05 2fe2s_c + 0.000248 4fe4s_c + 0.000223 5mthf_c + 2e-06 btn_c + 0.000223 chor_c + 0.004952 cl_c + 0.006388 fe2_c + 0.007428 fe3_c + 0.000223 hemeO_c + 0.18569 k_c + 3e-06 lipopb_c + 0.008253 mg2_c + 0.000658 mn2_c + 7e-06 mobd_c + 1.9895 na1_c + 0.012379 nh4_c + 0.000223 pheme_c + 0.03327 ptrc_c + 0.000223 ribflv_c + 0.004126 so4_c + 0.000223 thm_c + 0.000223 thmpp_c + 0.000324 zn2_c --> 1gOtherSolutes2_c\n",
      "BIOMASS_UnmeasuredSOLUTES: 0.000223 10fthf_c + 2.5e-05 2fe2s_c + 0.000248 4fe4s_c + 0.000223 5mthf_c + 2e-06 btn_c + 0.004952 ca2_c + 0.000223 chor_c + 0.004952 cl_c + 2.4e-05 cobalt2_c + 0.000674 cu2_c + 0.006388 fe2_c + 0.007428 fe3_c + 70.028756 h2o_c + 0.000223 hemeO_c + 0.18569 k_c + 3e-06 lipopb_c + 0.008253 mg2_c + 0.000658 mn2_c + 7e-06 mobd_c + 1.9895 na1_c + 0.012379 nh4_c + 0.000307 ni2_c + 0.000223 pheme_c + 0.03327 ptrc_c + 0.000223 ribflv_c + 0.004126 so4_c + 0.000223 thm_c + 0.000223 thmpp_c + 0.000324 zn2_c --> 1gUnmeasuredSolutes_c + 75.37723 h_c + 75.37323 pi_c\n",
      "LIPOS: 4fe4s_c + 2.0 amet_c + h_c + nad_c + octapb_c --> 2fe2s_c + 2.0 dad_5_c + 2.0 fe2_c + lipopb_c + 2.0 met__L_c + nadh_c\n",
      "BIOMASS_KT2440_Core2: 0.000223 10fthf_c + 0.000223 2fe2s_c + 0.000223 4fe4s_c + 0.000223 5mthf_c + 0.000279 accoa_c + 0.598267 ala__L_c + 0.000223 amet_c + 0.354251 arg__L_c + 0.158931 asn__L_c + 0.284685 asp__L_c + 46.918883 atp_c + 0.000223 btamp_c + 0.004226 ca2_c + 0.000223 chor_c + 0.004226 cl_c + 0.000167 coa_c + 0.002817 cobalt2_c + 0.159783 ctp_c + 0.002817 cu2_c + 0.055652 cys__L_c + 0.010804 datp_c + 0.01721 dctp_c + 0.017423 dgtp_c + 0.010854 dttp_c + 0.000223 fad_c + 0.00634 fe2_c + 0.00634 fe3_c + 0.251507 gln__L_c + 0.301809 glu__L_c + 0.431309 gly_c + 0.210704 gtp_c + 41.397362 h2o_c + 0.000223 hemeO_c + 0.126289 his__L_c + 0.244551 ile__L_c + 0.158509 k_c + 0.628769 leu__L_c + 3e-06 lipopb_c + 0.180336 lys__L_c + 3.1e-05 malcoa_c + 0.122008 met__L_c + 0.007044 mg2_c + 0.000223 mlthf_c + 0.002817 mobd_c + 0.012699 murein5px4p_p + 0.003522 na1_c + 0.001786 nad_c + 4.4e-05 nadh_c + 0.000111 nadp_c + 0.000335 nadph_c + 0.010567 nh4_c + 0.002817 ni2_c + 0.00858 pe160_c + 0.042623 pe161_c + 0.002855 pe180_c + 0.019426 pe181_c + 0.004743 pg160_c + 0.023561 pg161_c + 0.001578 pg180_c + 0.010738 pg181_c + 0.191038 phe__L_c + 0.000223 pheme_c + 0.011635 phethapphlipa_c + 0.26328 pro__L_c + 0.03327 ptrc_c + 0.000223 pydx5p_c + 0.000223 q8h2_c + 0.000223 ribflv_c + 0.301274 ser__L_c + 0.000223 sheme_c + 0.003522 so4_c + 9.8e-05 succoa_c + 0.000223 thf_c + 0.256324 thr__L_c + 0.077592 trp__L_c + 0.135921 tyr__L_c + 5.5e-05 udcpdp_c + 0.143215 utp_c + 0.389034 val__L_c + 0.002817 zn2_c --> 46.7502 adp_c + 46.7502 h_c + 46.746677 pi_c + 0.73868 ppi_c\n"
     ]
    }
   ],
   "source": [
    "for r in universal.metabolites.get_by_id('lipopb_c').reactions:\n",
    "    print(r)"
   ]
  },
  {
   "cell_type": "code",
   "execution_count": 157,
   "metadata": {},
   "outputs": [
    {
     "data": {
      "text/html": [
       "\n",
       "        <table>\n",
       "            <tr>\n",
       "                <td><strong>Reaction identifier</strong></td><td>sink_sheme_c</td>\n",
       "            </tr><tr>\n",
       "                <td><strong>Name</strong></td><td>R_sink_sheme_c</td>\n",
       "            </tr><tr>\n",
       "                <td><strong>Memory address</strong></td>\n",
       "                <td>0x07f4dcf8c2a50</td>\n",
       "            </tr><tr>\n",
       "                <td><strong>Stoichiometry</strong></td>\n",
       "                <td>\n",
       "                    <p style='text-align:right'>sheme_c --> </p>\n",
       "                    <p style='text-align:right'>Siroheme --> </p>\n",
       "                </td>\n",
       "            </tr><tr>\n",
       "                <td><strong>GPR</strong></td><td></td>\n",
       "            </tr><tr>\n",
       "                <td><strong>Lower bound</strong></td><td>0.0</td>\n",
       "            </tr><tr>\n",
       "                <td><strong>Upper bound</strong></td><td>1000.0</td>\n",
       "            </tr>\n",
       "        </table>\n",
       "        "
      ],
      "text/plain": [
       "<Reaction sink_sheme_c at 0x7f4dcf8c2a50>"
      ]
     },
     "execution_count": 157,
     "metadata": {},
     "output_type": "execute_result"
    }
   ],
   "source": [
    "model.reactions.get_by_id('sink_sheme_c')"
   ]
  },
  {
   "cell_type": "code",
   "execution_count": 160,
   "metadata": {
    "collapsed": true,
    "jupyter": {
     "outputs_hidden": true
    }
   },
   "outputs": [
    {
     "name": "stdout",
     "output_type": "stream",
     "text": [
      "SHCHF2: fe2_c + scl2_c --> 2.0 h_c + sheme_c\n",
      "BIOMASS_Ec_iML1515_WT_75p37M: 0.000223 10fthf_c + 0.000223 2dmmql8_c + 2.5e-05 2fe2s_c + 0.000248 4fe4s_c + 0.000223 5mthf_c + 0.000279 accoa_c + 0.000223 adocbl_c + 0.499149 ala__L_c + 0.000223 amet_c + 0.28742 arg__L_c + 0.234232 asn__L_c + 0.234232 asp__L_c + 75.55223 atp_c + 2e-06 btn_c + 0.004952 ca2_c + 0.000223 chor_c + 0.004952 cl_c + 0.002944 clpn160_p + 0.00229 clpn161_p + 0.00118 clpn181_p + 0.000168 coa_c + 2.4e-05 cobalt2_c + 0.008151 colipa_e + 0.129799 ctp_c + 0.000674 cu2_c + 0.088988 cys__L_c + 0.024805 datp_c + 0.025612 dctp_c + 0.025612 dgtp_c + 0.024805 dttp_c + 0.000223 enter_c + 0.000223 fad_c + 0.006388 fe2_c + 0.007428 fe3_c + 0.255712 gln__L_c + 0.255712 glu__L_c + 0.595297 gly_c + 0.154187 glycogen_c + 0.000223 gthrd_c + 0.209121 gtp_c + 70.028756 h2o_c + 0.000223 hemeO_c + 0.092056 his__L_c + 0.282306 ile__L_c + 0.18569 k_c + 0.437778 leu__L_c + 3e-06 lipopb_c + 0.333448 lys__L_c + 3.1e-05 malcoa_c + 0.149336 met__L_c + 0.008253 mg2_c + 0.000223 mlthf_c + 0.000658 mn2_c + 7e-06 mobd_c + 7e-06 mococdp_c + 7e-06 mocogdp_c + 0.000223 mql8_c + 0.001345 murein3p3p_p + 0.000605 murein3px4p_p + 0.005381 murein4p4p_p + 0.005448 murein4px4p_p + 0.000673 murein4px4px4p_p + 0.001787 nad_c + 4.5e-05 nadh_c + 0.000112 nadp_c + 0.000335 nadph_c + 0.012379 nh4_c + 0.000307 ni2_c + 0.044164 pe160_p + 0.03435 pe161_p + 0.017704 pe181_p + 0.010599 pg160_p + 0.008244 pg161_p + 0.004249 pg181_p + 0.180021 phe__L_c + 0.000223 pheme_c + 0.214798 pro__L_c + 0.03327 ptrc_c + 0.000223 pydx5p_c + 0.000223 q8h2_c + 0.000223 ribflv_c + 0.209684 ser__L_c + 0.000223 sheme_c + 0.004126 so4_c + 0.006744 spmd_c + 9.8e-05 succoa_c + 0.000223 thf_c + 0.000223 thmpp_c + 0.246506 thr__L_c + 0.055234 trp__L_c + 0.133993 tyr__L_c + 5.5e-05 udcpdp_c + 0.140101 utp_c + 0.411184 val__L_c + 0.000324 zn2_c --> 75.37723 adp_c + 75.37723 h_c + 75.37323 pi_c + 0.749831 ppi_c\n",
      "BIOMASS_COFACTORS: 0.0213 5mthf_c + 0.0043 adocbl_c + 0.022 btamp_c + 0.016 coa_c + 0.0214 fad_c + 0.6518 fe2_c + 0.6518 fe3_c + 1.5013 gthbpt_c + 0.0213 hemeO_c + 0.0013 k_c + 0.022 lipopb_c + 0.0214 mlthf_c + 0.0001 na1_c + 0.1708 nad_c + 0.0043 nadh_c + 0.0107 nadp_c + 0.032 nadph_c + 0.0169 phllqne_c + 0.015 pq_um + 0.0344 ptrc_c + 0.022 pydx5p_c + 0.0213 sheme_c + 0.0736 spmd_c + 0.0214 thf_c + 0.0213 thmpp_c + 0.0096 udcpdp_c --> bm_cofactors_c\n",
      "BIOMASS_Ec_iJO1366_WT_53p95M: 0.000223 10fthf_c + 0.000223 2dmmql8_c + 2.5e-05 2fe2s_c + 0.000248 4fe4s_c + 0.000223 5mthf_c + 0.000279 accoa_c + 0.000223 adocbl_c + 0.499149 ala__L_c + 0.000223 amet_c + 0.28742 arg__L_c + 0.234232 asn__L_c + 0.234232 asp__L_c + 54.119975 atp_c + 0.000116 bmocogdp_c + 2e-06 btn_c + 0.004952 ca2_c + 0.000223 chor_c + 0.004952 cl_c + 0.002944 clpn160_p + 0.00229 clpn161_p + 0.00118 clpn181_p + 0.000168 coa_c + 2.4e-05 cobalt2_c + 0.008151 colipa_e + 0.129799 ctp_c + 0.000674 cu2_c + 0.088988 cys__L_c + 0.024805 datp_c + 0.025612 dctp_c + 0.025612 dgtp_c + 0.024805 dttp_c + 0.000223 enter_c + 0.000223 fad_c + 0.006388 fe2_c + 0.007428 fe3_c + 0.255712 gln__L_c + 0.255712 glu__L_c + 0.595297 gly_c + 0.154187 glycogen_c + 0.000223 gthrd_c + 0.209121 gtp_c + 48.752916 h2o_c + 0.000223 hemeO_c + 0.092056 his__L_c + 0.282306 ile__L_c + 0.18569 k_c + 0.437778 leu__L_c + 3e-06 lipopb_c + 0.333448 lys__L_c + 3.1e-05 malcoa_c + 0.149336 met__L_c + 0.008253 mg2_c + 0.000223 mlthf_c + 0.000658 mn2_c + 7e-06 mobd_c + 7e-06 mococdp_c + 7e-06 mocogdp_c + 0.000223 mql8_c + 0.001345 murein3p3p_p + 0.000605 murein3px4p_p + 0.005381 murein4p4p_p + 0.005448 murein4px4p_p + 0.000673 murein4px4px4p_p + 0.001787 nad_c + 4.5e-05 nadh_c + 0.000112 nadp_c + 0.000335 nadph_c + 0.012379 nh4_c + 0.000307 ni2_c + 0.012366 pe160_c + 0.031798 pe160_p + 0.009618 pe161_c + 0.024732 pe161_p + 0.004957 pe181_c + 0.012747 pe181_p + 0.005707 pg160_c + 0.004892 pg160_p + 0.004439 pg161_c + 0.003805 pg161_p + 0.002288 pg181_c + 0.001961 pg181_p + 0.180021 phe__L_c + 0.000223 pheme_c + 0.214798 pro__L_c + 0.03327 ptrc_c + 0.000223 pydx5p_c + 0.000223 q8h2_c + 0.000223 ribflv_c + 0.209684 ser__L_c + 0.000223 sheme_c + 0.004126 so4_c + 0.006744 spmd_c + 9.8e-05 succoa_c + 0.000223 thf_c + 0.000223 thmpp_c + 0.246506 thr__L_c + 0.055234 trp__L_c + 0.133993 tyr__L_c + 5.5e-05 udcpdp_c + 0.140101 utp_c + 0.411184 val__L_c + 0.000324 zn2_c --> 53.95 adp_c + 53.95 h_c + 53.945874 pi_c + 0.749831 ppi_c\n",
      "BIOMASS_SA_7a: 0.01 10fthf_c + 0.42 12dgr_SA_c + 1.27 26dap_LL_c + 0.01 SA_FREE_FA_c + 1.22 acgam1p_c + 0.38 acgam_c + 6.6 ala__L_c + 3.11 amp_c + 3.88 arg__L_c + 4.48 asn__L_c + 4.48 asp__L_c + 20000.0 atp_c + 2.51 clpn_SA_c + 2.2 cmp_c + 0.79 cys__L_c + 0.76 damp_c + 0.53 dcmp_c + 0.012068 dgdcg_SA2_c + 0.6 dgmp_c + 0.73 dtmp_c + 0.01 fad_c + 0.23 gam1p_c + 5.3 glcp_SA_c + 8.72 gln__L_c + 9.68 glu__L_c + 3.51 gly_c + 4.01 gmp_c + 20000.0 h2o_c + 0.01 hemeO_c + 1.45 his__L_c + 4.06 ile__L_c + 5.21 leu__L_c + 5.45 lys__L_c + 1.94 met__L_c + 0.01 mlthf_c + 0.01 nad_c + 0.01 nadp_c + 0.01 pala_SA2_c + 0.89 pe_SA_c + 2.31 pg_SA_c + 0.01 pgly_SA2_c + 3.33 phe__L_c + 0.01 pleu_SA2_c + 0.15 plys_SA2_c + 2.12 pro__L_c + 0.01 ptrc_c + 2.6 ser__L_c + 0.01 sheme_c + 0.01 spmd_c + 2.86 tcam_c + 0.01 thf_c + 2.54 thr__L_c + 1.27 trp__L_c + 2.3 tyr__L_c + 1.78 uamr_c + 2.39 ump_c + 4.12 val__L_c --> 20000.0 adp_c + 20000.0 h_c + 20000.0 pi_c\n",
      "BIOMASS_Ec_iAF1260_core_59p81M: 0.000223 10fthf_c + 0.000223 2ohph_c + 0.5137 ala__L_c + 0.000223 amet_c + 0.2958 arg__L_c + 0.2411 asn__L_c + 0.2411 asp__L_c + 59.984 atp_c + 0.004737 ca2_c + 0.004737 cl_c + 0.000576 coa_c + 0.003158 cobalt2_c + 0.1335 ctp_c + 0.003158 cu2_c + 0.09158 cys__L_c + 0.02617 datp_c + 0.02702 dctp_c + 0.02702 dgtp_c + 0.02617 dttp_c + 0.000223 fad_c + 0.007106 fe2_c + 0.007106 fe3_c + 0.2632 gln__L_c + 0.2632 glu__L_c + 0.6126 gly_c + 0.2151 gtp_c + 54.462 h2o_c + 0.09474 his__L_c + 0.2905 ile__L_c + 0.1776 k_c + 0.01945 kdo2lipid4_e + 0.4505 leu__L_c + 0.3432 lys__L_c + 0.1537 met__L_c + 0.007895 mg2_c + 0.000223 mlthf_c + 0.003158 mn2_c + 0.003158 mobd_c + 0.01389 murein5px4p_p + 0.001831 nad_c + 0.000447 nadp_c + 0.011843 nh4_c + 0.02233 pe160_c + 0.04148 pe160_p + 0.02632 pe161_c + 0.04889 pe161_p + 0.1759 phe__L_c + 0.000223 pheme_c + 0.2211 pro__L_c + 0.000223 pydx5p_c + 0.000223 ribflv_c + 0.2158 ser__L_c + 0.000223 sheme_c + 0.003948 so4_c + 0.000223 thf_c + 0.000223 thmpp_c + 0.2537 thr__L_c + 0.05684 trp__L_c + 0.1379 tyr__L_c + 5.5e-05 udcpdp_c + 0.1441 utp_c + 0.4232 val__L_c + 0.003158 zn2_c --> 59.81 adp_c + 59.81 h_c + 59.806 pi_c + 0.7739 ppi_c\n",
      "BIOMASS_Ec_iML1515_core_75p37M: 0.000223 10fthf_c + 2.6e-05 2fe2s_c + 0.000223 2ohph_c + 0.00026 4fe4s_c + 0.513689 ala__L_c + 0.000223 amet_c + 0.295792 arg__L_c + 0.241055 asn__L_c + 0.241055 asp__L_c + 75.55223 atp_c + 2e-06 btn_c + 0.005205 ca2_c + 0.005205 cl_c + 0.000576 coa_c + 2.5e-05 cobalt2_c + 0.133508 ctp_c + 0.000709 cu2_c + 0.09158 cys__L_c + 0.026166 datp_c + 0.027017 dctp_c + 0.027017 dgtp_c + 0.026166 dttp_c + 0.000223 fad_c + 0.006715 fe2_c + 0.007808 fe3_c + 0.26316 gln__L_c + 0.26316 glu__L_c + 0.612638 gly_c + 0.215096 gtp_c + 70.028756 h2o_c + 0.094738 his__L_c + 0.290529 ile__L_c + 0.195193 k_c + 0.019456 kdo2lipid4_e + 0.450531 leu__L_c + 0.343161 lys__L_c + 0.153686 met__L_c + 0.008675 mg2_c + 0.000223 mlthf_c + 0.000691 mn2_c + 7e-06 mobd_c + 0.013894 murein5px4p_p + 0.001831 nad_c + 0.000447 nadp_c + 0.013013 nh4_c + 0.000323 ni2_c + 0.063814 pe160_p + 0.075214 pe161_p + 0.185265 phe__L_c + 0.000223 pheme_c + 0.221055 pro__L_c + 0.000223 pydx5p_c + 0.000223 ribflv_c + 0.215792 ser__L_c + 0.000223 sheme_c + 0.004338 so4_c + 9.8e-05 succoa_c + 0.000223 thf_c + 0.000223 thmpp_c + 0.253687 thr__L_c + 0.056843 trp__L_c + 0.137896 tyr__L_c + 5.5e-05 udcpdp_c + 0.144104 utp_c + 0.423162 val__L_c + 0.000341 zn2_c --> 75.37723 adp_c + 75.37723 h_c + 75.37323 pi_c + 0.773903 ppi_c\n",
      "BIOMASS_Ec_iJO1366_core_53p95M: 0.000223 10fthf_c + 2.6e-05 2fe2s_c + 0.000223 2ohph_c + 0.00026 4fe4s_c + 0.513689 ala__L_c + 0.000223 amet_c + 0.295792 arg__L_c + 0.241055 asn__L_c + 0.241055 asp__L_c + 54.124831 atp_c + 0.000122 bmocogdp_c + 2e-06 btn_c + 0.005205 ca2_c + 0.005205 cl_c + 0.000576 coa_c + 2.5e-05 cobalt2_c + 0.133508 ctp_c + 0.000709 cu2_c + 0.09158 cys__L_c + 0.026166 datp_c + 0.027017 dctp_c + 0.027017 dgtp_c + 0.026166 dttp_c + 0.000223 fad_c + 0.006715 fe2_c + 0.007808 fe3_c + 0.26316 gln__L_c + 0.26316 glu__L_c + 0.612638 gly_c + 0.215096 gtp_c + 48.601527 h2o_c + 0.094738 his__L_c + 0.290529 ile__L_c + 0.195193 k_c + 0.019456 kdo2lipid4_e + 0.450531 leu__L_c + 0.343161 lys__L_c + 0.153686 met__L_c + 0.008675 mg2_c + 0.000223 mlthf_c + 0.000691 mn2_c + 7e-06 mobd_c + 0.013894 murein5px4p_p + 0.001831 nad_c + 0.000447 nadp_c + 0.013013 nh4_c + 0.000323 ni2_c + 0.017868 pe160_c + 0.045946 pe160_p + 0.054154 pe161_c + 0.02106 pe161_p + 0.185265 phe__L_c + 0.000223 pheme_c + 0.221055 pro__L_c + 0.000223 pydx5p_c + 0.000223 ribflv_c + 0.215792 ser__L_c + 0.000223 sheme_c + 0.004338 so4_c + 0.000223 thf_c + 0.000223 thmpp_c + 0.253687 thr__L_c + 0.056843 trp__L_c + 0.137896 tyr__L_c + 5.5e-05 udcpdp_c + 0.144104 utp_c + 0.423162 val__L_c + 0.000341 zn2_c --> 53.95 adp_c + 53.95 h_c + 53.945662 pi_c + 0.773903 ppi_c\n",
      "BIOMASS_Gm_GS15_core_79p20M: 0.000223 10fthf_c + 2.5e-05 2fe2s_c + 0.00025 4fe4s_c + 0.5142 ala__L_c + 0.000223 amet_c + 0.2961 arg__L_c + 0.2413 asn__L_c + 0.2413 asp__L_c + 79.302794 atp_c + 2e-06 btn_c + 0.005048 ca2_c + 0.005048 cl_c + 0.000168 coa_c + 2.4e-05 cobalt2_c + 0.0785 ctp_c + 0.000687 cu2_c + 0.09168 cys__L_c + 0.03363 datp_c + 0.04933 dctp_c + 0.04933 dgtp_c + 0.03363 dttp_c + 0.000223 fad_c + 0.014083 fe2_c + 0.2634 gln__L_c + 0.2634 glu__L_c + 0.6133 gly_c + 0.1265 gtp_c + 73.84599 h2o_c + 0.09484 his__L_c + 0.2908 ile__L_c + 0.1893 k_c + 0.02337 kdo2lipid4_e + 0.451 leu__L_c + 0.3435 lys__L_c + 0.1538 met__L_c + 0.008413 mg2_c + 0.000223 mlthf_c + 0.00067 mn2_c + 7e-06 mobd_c + 7e-06 mocogdp_c + 0.000223 mql8_c + 0.01638 murein5px4p_p + 0.001787 nad_c + 0.000112 nadp_c + 0.01262 nh4_c + 0.000313 ni2_c + 0.03673 pe160_c + 0.06821 pe160_p + 0.04192 pe161_c + 0.07785 pe161_p + 0.1855 phe__L_c + 0.000223 pheme_c + 0.2213 pro__L_c + 0.000223 pydx5p_c + 0.000223 ribflv_c + 0.216 ser__L_c + 0.000223 sheme_c + 0.004206 so4_c + 0.000223 thf_c + 0.000223 thmpp_c + 0.2539 thr__L_c + 0.0569 trp__L_c + 0.138 tyr__L_c + 5.5e-05 udcpdp_c + 0.08473 utp_c + 0.4236 val__L_c + 0.000331 zn2_c --> 79.2 adp_c + 79.2 h_c + 79.19579 pi_c + 0.5584 ppi_c\n",
      "BIOMASS_KT2440_WT3: 0.000223 10fthf_c + 0.000223 2fe2s_c + 0.000223 4fe4s_c + 0.000223 5mthf_c + 0.000279 accoa_c + 0.000223 adocbl_c + 0.598267 ala__L_c + 0.000223 amet_c + 0.354251 arg__L_c + 0.158931 asn__L_c + 0.284685 asp__L_c + 46.918883 atp_c + 0.000223 bmocogdp_c + 0.000223 btamp_c + 0.004226 ca2_c + 0.000223 chor_c + 0.004226 cl_c + 1.8e-05 clpn140_p + 0.000578 clpn160_p + 0.002873 clpn161_p + 0.000192 clpn180_p + 0.001309 clpn181_p + 0.000167 coa_c + 0.002817 cobalt2_c + 0.00041 cpe160_c + 0.000226 cpg160_c + 0.159783 ctp_c + 0.002817 cu2_c + 0.055652 cys__L_c + 0.010804 datp_c + 0.01721 dctp_c + 0.017423 dgtp_c + 0.010854 dttp_c + 0.000223 fad_c + 0.00634 fe2_c + 0.00634 fe3_c + 0.251507 gln__L_c + 0.301809 glu__L_c + 0.431309 gly_c + 0.000223 gthrd_c + 0.210704 gtp_c + 41.397362 h2o_c + 0.000223 hemeO_c + 0.126289 his__L_c + 0.244551 ile__L_c + 0.158509 k_c + 0.628769 leu__L_c + 0.000223 lipopb_c + 0.008696 lpspput_e + 0.180336 lys__L_c + 3.1e-05 malcoa_c + 0.122008 met__L_c + 0.007044 mg2_c + 0.000223 mlthf_c + 0.002817 mn2_c + 0.002817 mobd_c + 0.000223 mocogdp_c + 0.001979 murein3p3p_p + 0.000326 murein3px4p_p + 0.007917 murein4p4p_p + 0.002941 murein4px4p_p + 6.6e-05 murein4px4px4p_p + 0.003522 na1_c + 0.001786 nad_c + 4.4e-05 nadh_c + 0.000111 nadp_c + 0.000335 nadph_c + 0.010567 nh4_c + 0.002817 ni2_c + 0.000251 pe140_c + 0.007882 pe160_c + 0.039155 pe161_c + 0.002622 pe180_c + 0.017845 pe181_c + 0.000138 pg140_c + 0.004354 pg160_c + 0.021632 pg161_c + 0.001449 pg180_c + 0.009859 pg181_c + 0.191038 phe__L_c + 0.000223 pheme_c + 0.000223 pqqh2_c + 0.26328 pro__L_c + 0.03327 ptrc_c + 0.000223 pydx5p_c + 0.000223 pyovd_kt_e + 0.000223 q8h2_c + 0.000223 ribflv_c + 0.301274 ser__L_c + 0.000223 sheme_c + 0.003522 so4_c + 9.8e-05 succoa_c + 0.000223 thf_c + 0.000223 thmnp_c + 0.000223 thmpp_c + 0.256324 thr__L_c + 0.077592 trp__L_c + 0.135921 tyr__L_c + 5.5e-05 udcpdp_c + 0.143215 utp_c + 0.389034 val__L_c + 0.002817 zn2_c --> 46.7502 adp_c + 46.7502 h_c + 46.746677 pi_c + 0.73868 ppi_c\n",
      "BIOMASS__2: 0.2352 14glucan_c + 0.001681 Ac1PIM1_c + 0.001488 Ac1PIM2_c + 0.001335 Ac1PIM3_c + 0.001211 Ac1PIM4_c + 0.001274 Ac2PIM2_c + 0.001573 PIM3_c + 0.001403 PIM4_c + 0.001266 PIM5_c + 0.001154 PIM6_c + 0.23018 acgam1p_c + 0.40596 ala__L_c + 0.0347 amet_c + 0.000731 arabinanagalfragund_c + 0.015676 arach_c + 0.12042 arg__L_c + 0.047699 asn__L_c + 0.12031 asp__L_c + 60.0 atp_c + 0.0295 c78mycolatepp_c + 0.005859 clpn160190_c + 0.25095 cmp_c + 0.0132 coa_c + 0.0168 ctp_c + 0.022 cys__L_c + 0.003492 damp_c + 0.0102 datp_c + 0.0194 dctp_c + 0.0194 dgtp_c + 0.0102 dttp_c + 0.0129 fad_c + 0.0008 fdxox_c + 0.0008 fdxrd_c + 0.0008 fe2_c + 0.0008 fe3_c + 0.0222 fmn_c + 0.0001 gdpmann_c + 0.16315 glc__D_c + 0.05812 gln__L_c + 0.090007 glu__L_c + 0.33581 gly_c + 0.0184 glyc_c + 0.2352 glycogen_c + 0.24365 gmp_c + 0.0168 gtp_c + 60.0 h2o_c + 0.23515 hdca_c + 0.01094 hdcea_c + 0.0008 hemeA_c + 0.0008 hemeO_c + 0.058352 hexc_c + 0.074917 his__L_c + 0.0064 hphthiocnylcoa_c + 0.087731 ile__L_c + 0.20471 leu__L_c + 0.03909 lys__L_c + 0.095065 man_c + 0.00784 mbhn_c + 0.034889 met__L_c + 0.095802 mocdca_c + 0.0118 mql8_c + 0.0131 msh_c + 0.0152 nad_c + 0.0136 nadp_c + 0.034837 ocdca_c + 0.009849 ocdcea_c + 0.006798 pa160190_c + 0.00724 pa160_c + 0.006407 pa190190_c + 0.001251 pat_c + 0.004061 pe160_c + 0.01885 peptido_TB1_c + 0.01885 peptido_TB2_c + 0.00613 pg160190_c + 0.006487 pg160_c + 0.00581 pg190_c + 0.006453 phdca_c + 0.048102 phe__L_c + 0.13803 pro__L_c + 0.021723 rib__D_c + 0.2326 ser__L_c + 0.0008 sheme_c + 0.001176 tat_c + 0.0008 thf_c + 0.0008 thmpp_c + 0.13571 thr__L_c + 0.001106 tmha1_c + 0.0011 tmha2_c + 0.001104 tmha3_c + 0.001097 tmha4_c + 0.006491 tre6p_c + 0.00797 tre_c + 0.006474 tres_c + 0.020124 trp__L_c + 0.012193 ttdca_c + 0.031756 tyr__L_c + 0.001008 uaaAgla_c + 0.001008 uaaGgla_c + 0.000986 uaagmda_c + 0.002793 uamr_c + 0.000977 ugagmda_c + 0.0088 utp_c + 0.20583 val__L_c --> 60.0 adp_c + 60.0 h_c + 60.0 pi_c\n",
      "BIOMASS_iRR1083_metals: 0.000188 12dgr2_ST_p + 0.05 5mthf_c + 5e-05 accoa_c + 0.748399 ala__L_c + 0.001 amp_c + 0.130805 arg__L_c + 0.272689 asn__L_c + 0.374015 asp__L_c + 59.964348 atp_c + 0.004737 ca2_c + 0.004737 cl_c + 1.4e-05 clpn2_ST_p + 6e-06 coa_c + 0.003158 cobalt2_c + 0.000937 colipaOA_e + 0.166895 ctp_c + 0.003158 cu2_c + 0.017197 cys__L_c + 0.026137 datp_c + 0.028567 dctp_c + 0.028567 dgtp_c + 0.026137 dttp_c + 1e-05 fad_c + 0.007106 fe2_c + 0.200228 gln__L_c + 0.256058 glu__L_c + 1.498961 gly_c + 0.027476 glycogen_c + 0.186332 gtp_c + 53.303945 h2o_c + 0.067143 his__L_c + 0.087361 ile__L_c + 0.1776 k_c + 0.206491 leu__L_c + 0.311404 lys__L_c + 0.104726 met__L_c + 0.007895 mg2_c + 0.003158 mn2_c + 0.003158 mobd_c + 0.00215 nad_c + 5e-05 nadh_c + 0.00013 nadp_c + 0.0004 nadph_c + 4e-06 pa2_ST_p + 0.001531 pe2_ST_p + 0.049404 peptido_ST_p + 0.00042 pg2_ST_p + 0.13874 phe__L_c + 0.256971 pro__L_c + 4e-06 ps2_ST_p + 0.035 ptrc_c + 0.317225 ser__L_c + 0.000223 sheme_c + 0.007 spmd_c + 3e-06 succoa_c + 0.349831 thr__L_c + 0.087887 trp__L_c + 0.040246 tyr__L_c + 0.003 udpg_c + 0.154549 utp_c + 0.284577 val__L_c + 0.003158 zn2_c --> 59.81 adp_c + 58.266936 h_c + 59.81 pi_c + 0.771532 ppi_c\n",
      "SHCHF_2: fe2_c + srch_c --> 2.0 h_c + sheme_c\n",
      "BIOMASS_KT2440_Core2: 0.000223 10fthf_c + 0.000223 2fe2s_c + 0.000223 4fe4s_c + 0.000223 5mthf_c + 0.000279 accoa_c + 0.598267 ala__L_c + 0.000223 amet_c + 0.354251 arg__L_c + 0.158931 asn__L_c + 0.284685 asp__L_c + 46.918883 atp_c + 0.000223 btamp_c + 0.004226 ca2_c + 0.000223 chor_c + 0.004226 cl_c + 0.000167 coa_c + 0.002817 cobalt2_c + 0.159783 ctp_c + 0.002817 cu2_c + 0.055652 cys__L_c + 0.010804 datp_c + 0.01721 dctp_c + 0.017423 dgtp_c + 0.010854 dttp_c + 0.000223 fad_c + 0.00634 fe2_c + 0.00634 fe3_c + 0.251507 gln__L_c + 0.301809 glu__L_c + 0.431309 gly_c + 0.210704 gtp_c + 41.397362 h2o_c + 0.000223 hemeO_c + 0.126289 his__L_c + 0.244551 ile__L_c + 0.158509 k_c + 0.628769 leu__L_c + 3e-06 lipopb_c + 0.180336 lys__L_c + 3.1e-05 malcoa_c + 0.122008 met__L_c + 0.007044 mg2_c + 0.000223 mlthf_c + 0.002817 mobd_c + 0.012699 murein5px4p_p + 0.003522 na1_c + 0.001786 nad_c + 4.4e-05 nadh_c + 0.000111 nadp_c + 0.000335 nadph_c + 0.010567 nh4_c + 0.002817 ni2_c + 0.00858 pe160_c + 0.042623 pe161_c + 0.002855 pe180_c + 0.019426 pe181_c + 0.004743 pg160_c + 0.023561 pg161_c + 0.001578 pg180_c + 0.010738 pg181_c + 0.191038 phe__L_c + 0.000223 pheme_c + 0.011635 phethapphlipa_c + 0.26328 pro__L_c + 0.03327 ptrc_c + 0.000223 pydx5p_c + 0.000223 q8h2_c + 0.000223 ribflv_c + 0.301274 ser__L_c + 0.000223 sheme_c + 0.003522 so4_c + 9.8e-05 succoa_c + 0.000223 thf_c + 0.256324 thr__L_c + 0.077592 trp__L_c + 0.135921 tyr__L_c + 5.5e-05 udcpdp_c + 0.143215 utp_c + 0.389034 val__L_c + 0.002817 zn2_c --> 46.7502 adp_c + 46.7502 h_c + 46.746677 pi_c + 0.73868 ppi_c\n",
      "BIOMASS_KT_TEMP: 0.05 5mthf_c + 5e-05 accoa_c + 0.488 ala__L_c + 0.001 amp_c + 0.281 arg__L_c + 0.229 asn__L_c + 0.229 asp__L_c + 45.7318 atp_c + 6e-06 coa_c + 0.0005 cpe160_c + 0.0005 cpe180_c + 0.0005 cpg160_c + 0.0005 cpg180_c + 0.126 ctp_c + 0.087 cys__L_c + 0.0247 datp_c + 0.0254 dctp_c + 0.0254 dgtp_c + 0.0247 dttp_c + 1e-05 fad_c + 0.25 gln__L_c + 0.25 glu__L_c + 0.582 gly_c + 0.203 gtp_c + 45.5608 h2o_c + 0.0005 hemeO_c + 0.09 his__L_c + 0.276 ile__L_c + 0.428 leu__L_c + 0.326 lys__L_c + 0.146 met__L_c + 0.00215 nad_c + 5e-05 nadh_c + 0.00013 nadp_c + 0.0004 nadph_c + 0.0005 pe120_c + 0.0005 pe160_c + 0.0005 pe161_c + 0.0005 pe180_c + 0.0005 pe181_c + 0.0005 pg120_c + 0.0005 pg160_c + 0.0005 pg180_c + 0.176 phe__L_c + 0.21 pro__L_c + 0.035 ptrc_c + 0.205 ser__L_c + 0.0005 sheme_c + 3e-06 succoa_c + 0.241 thr__L_c + 0.054 trp__L_c + 0.131 tyr__L_c + 0.003 udpg_c + 0.136 utp_c + 0.402 val__L_c --> 45.5608 adp_c + 45.56035 h_c + 45.5628 pi_c + 0.7302 ppi_c\n",
      "SHCHF: fe2_c + scl_c --> 3.0 h_c + sheme_c\n",
      "SHS1: 2.0 amet_c + fe2_c + nad_c + uppg3_c --> 2.0 ahcys_c + 5.0 h_c + nadh_c + sheme_c\n",
      "BIOMASS_Gm_GS15_WT_79p20M: 0.000223 10fthf_c + 0.000223 2dmmql8_c + 2.5e-05 2fe2s_c + 0.000248 4fe4s_c + 0.000223 5mthf_c + 0.000279 accoa_c + 0.000223 adocbl_c + 0.49649 ala__L_c + 0.000223 amet_c + 0.28589 arg__L_c + 0.23298 asn__L_c + 0.23298 asp__L_c + 79.298747 atp_c + 0.000116 bmocogdp_c + 2e-06 btn_c + 0.004954 ca2_c + 0.000223 chor_c + 0.004954 cl_c + 0.00122 clpn140_p + 0.003683 clpn160_p + 0.005393 clpn161_p + 0.000215 clpn181_p + 0.000168 coa_c + 2.4e-05 cobalt2_c + 0.075407 ctp_c + 0.000675 cu2_c + 0.088513 cys__L_c + 0.032312 datp_c + 0.047392 dctp_c + 0.047392 dgtp_c + 0.032312 dttp_c + 0.000223 fad_c + 0.013822 fe2_c + 0.254349 gln__L_c + 0.254349 glu__L_c + 0.592125 gly_c + 0.185024 glycogen_c + 0.013207 gm1lipa_e + 0.121489 gtp_c + 74.030609 h2o_c + 0.000223 hemeO_c + 0.091566 his__L_c + 0.2808 ile__L_c + 0.18579 k_c + 0.43545 leu__L_c + 0.33167 lys__L_c + 3.1e-05 malcoa_c + 0.14854 met__L_c + 0.008257 mg2_c + 0.000223 mlthf_c + 0.000658 mn2_c + 7e-06 mobd_c + 7e-06 mocogdp_c + 0.000223 mql8_c + 0.001614 murein3p3p_p + 0.000726 murein3px4p_p + 0.006457 murein4p4p_p + 0.006538 murein4px4p_p + 0.000807 murein4px4px4p_p + 0.001787 nad_c + 4.5e-05 nadh_c + 0.000112 nadp_c + 0.000335 nadph_c + 0.012386 nh4_c + 0.000307 ni2_c + 0.005125 pe140_c + 0.013178 pe140_p + 0.015467 pe160_c + 0.039773 pe160_p + 0.022649 pe161_c + 0.058241 pe161_p + 0.002327 pe181_c + 0.000905 pe181_p + 0.002372 pg140_c + 0.002021 pg140_p + 0.007159 pg160_c + 0.006098 pg160_p + 0.010483 pg161_c + 0.00893 pg161_p + 0.000357 pg181_c + 0.000419 pg181_p + 0.179062 phe__L_c + 0.000223 pheme_c + 0.213653 pro__L_c + 0.030683 ptrc_c + 0.000223 pydx5p_c + 0.000223 ribflv_c + 0.208566 ser__L_c + 0.000223 sheme_c + 0.004129 so4_c + 0.00607 spmd_c + 9.8e-05 succoa_c + 0.000223 thf_c + 0.000223 thmpp_c + 0.245193 thr__L_c + 0.054939 trp__L_c + 0.13328 tyr__L_c + 5.5e-05 udcpdp_c + 0.081392 utp_c + 0.408993 val__L_c + 0.000325 zn2_c --> 79.2 adp_c + 79.2 h_c + 79.195871 pi_c + 0.536443 ppi_c\n",
      "BIOMASS_iRR1083_metals_1: 0.000188 12dgr2_ST_p + 0.05 5mthf_c + 5e-05 accoa_c + 0.748399 ala__L_c + 0.001 amp_c + 0.130805 arg__L_c + 0.272689 asn__L_c + 0.374015 asp__L_c + 59.964348 atp_c + 0.004737 ca2_c + 0.004737 cl_c + 1.4e-05 clpn2_ST_p + 6e-06 coa_c + 0.003158 cobalt2_c + 0.000937 colipa_e + 0.166895 ctp_c + 0.003158 cu2_c + 0.017197 cys__L_c + 0.026137 datp_c + 0.028567 dctp_c + 0.028567 dgtp_c + 0.026137 dttp_c + 1e-05 fad_c + 0.007106 fe2_c + 0.200228 gln__L_c + 0.256058 glu__L_c + 1.498961 gly_c + 0.027476 glycogen_c + 0.186332 gtp_c + 53.303945 h2o_c + 0.067143 his__L_c + 0.087361 ile__L_c + 0.1776 k_c + 0.206491 leu__L_c + 0.311404 lys__L_c + 0.104726 met__L_c + 0.007895 mg2_c + 0.003158 mn2_c + 0.003158 mobd_c + 0.00215 nad_c + 5e-05 nadh_c + 0.00013 nadp_c + 0.0004 nadph_c + 4e-06 pa2_ST_p + 0.001531 pe2_ST_p + 0.049404 peptido_ST_p + 0.00042 pg2_ST_p + 0.13874 phe__L_c + 0.256971 pro__L_c + 4e-06 ps2_ST_p + 0.035 ptrc_c + 0.317225 ser__L_c + 0.000223 sheme_c + 0.007 spmd_c + 3e-06 succoa_c + 0.349831 thr__L_c + 0.087887 trp__L_c + 0.040246 tyr__L_c + 0.003 udpg_c + 0.154549 utp_c + 0.284577 val__L_c + 0.003158 zn2_c --> 59.81 adp_c + 58.266936 h_c + 59.81 pi_c + 0.771532 ppi_c\n",
      "BIOMASS_SA_6a: 0.42 12dgr_SA_c + 1.27 26dap_LL_c + 0.01 SA_FREE_FA_c + 1.22 acgam1p_c + 0.38 acgam_c + 6.6 ala__L_c + 3.11 amp_c + 3.88 arg__L_c + 4.48 asn__L_c + 4.48 asp__L_c + 20000.0 atp_c + 2.51 clpn_SA_c + 2.2 cmp_c + 0.79 cys__L_c + 0.76 damp_c + 0.53 dcmp_c + 0.012068 dgdcg_SA2_c + 0.6 dgmp_c + 0.73 dtmp_c + 0.23 gam1p_c + 5.3 glcp_SA_c + 8.72 gln__L_c + 9.68 glu__L_c + 3.51 gly_c + 4.01 gmp_c + 20000.0 h2o_c + 0.01 hemeO_c + 1.45 his__L_c + 4.06 ile__L_c + 5.21 leu__L_c + 5.45 lys__L_c + 1.94 met__L_c + 0.01 pala_SA2_c + 0.89 pe_SA_c + 2.31 pg_SA_c + 0.01 pgly_SA2_c + 3.33 phe__L_c + 0.01 pleu_SA2_c + 0.15 plys_SA2_c + 2.12 pro__L_c + 0.01 ptrc_c + 2.6 ser__L_c + 0.01 sheme_c + 0.01 spmd_c + 2.86 tcam_c + 2.54 thr__L_c + 1.27 trp__L_c + 2.3 tyr__L_c + 1.78 uamr_c + 2.39 ump_c + 4.12 val__L_c --> 20000.0 adp_c + 20000.0 h_c + 20000.0 pi_c\n",
      "SHEME2abcpp: atp_c + h2o_c + sheme_p --> adp_c + h_c + pi_c + sheme_c\n",
      "SHCHF3: fmcbtt_c + scl_c --> 3.0 h_c + mcbtt_c + sheme_c\n",
      "BIOMASS_SA_8a: 0.01 10fthf_c + 0.42 12dgr_SA_c + 1.27 26dap_LL_c + 0.01 SA_FREE_FA_c + 1.22 acgam1p_c + 0.38 acgam_c + 6.6 ala__L_c + 3.11 amp_c + 3.88 arg__L_c + 4.48 asn__L_c + 4.48 asp__L_c + 20000.0 atp_c + 2.51 clpn_SA_c + 2.2 cmp_c + 0.79 cys__L_c + 0.76 damp_c + 0.53 dcmp_c + 0.012068 dgdcg_SA2_c + 0.6 dgmp_c + 0.73 dtmp_c + 0.01 fad_c + 0.23 gam1p_c + 5.3 glcp_SA_c + 8.72 gln__L_c + 9.68 glu__L_c + 3.51 gly_c + 4.01 gmp_c + 20000.0 h2o_c + 0.01 hemeO_c + 1.45 his__L_c + 4.06 ile__L_c + 5.21 leu__L_c + 5.45 lys__L_c + 1.94 met__L_c + 0.01 mlthf_c + 0.01 nad_c + 0.01 nadp_c + 0.01 pala_SA2_c + 0.89 pe_SA_c + 2.31 pg_SA_c + 0.01 pgly_SA2_c + 3.33 phe__L_c + 0.01 pleu_SA2_c + 0.15 plys_SA2_c + 2.12 pro__L_c + 0.01 ptrc_c + 2.6 ser__L_c + 0.01 sheme_c + 0.01 spmd_c + 2.86 tcam_c + 0.01 thf_c + 0.01 thm_c + 2.54 thr__L_c + 1.27 trp__L_c + 2.3 tyr__L_c + 1.78 uamr_c + 2.39 ump_c + 4.12 val__L_c --> 20000.0 adp_c + 20000.0 h_c + 20000.0 pi_c\n"
     ]
    }
   ],
   "source": [
    "for r in universal.metabolites.get_by_id('sheme_c').reactions:\n",
    "    print(r)"
   ]
  },
  {
   "cell_type": "code",
   "execution_count": 161,
   "metadata": {},
   "outputs": [
    {
     "name": "stdout",
     "output_type": "stream",
     "text": [
      "sink_2ohph_c {}\n",
      "sink_bmocogdp_c {}\n",
      "sink_lipopb_c {}\n",
      "sink_sheme_c {}\n",
      "Growth {}\n",
      "5\n"
     ]
    }
   ],
   "source": [
    "i = 0\n",
    "for r in model.reactions:\n",
    "    if r.annotation == {}:\n",
    "        i += 1\n",
    "        print(r.id, r.annotation)\n",
    "print(i)"
   ]
  },
  {
   "cell_type": "code",
   "execution_count": 162,
   "metadata": {},
   "outputs": [
    {
     "data": {
      "text/html": [
       "\n",
       "        <table>\n",
       "            <tr>\n",
       "                <td><strong>Name</strong></td>\n",
       "                <td>iJO1366</td>\n",
       "            </tr><tr>\n",
       "                <td><strong>Memory address</strong></td>\n",
       "                <td>0x07f4d21902450</td>\n",
       "            </tr><tr>\n",
       "                <td><strong>Number of metabolites</strong></td>\n",
       "                <td>1805</td>\n",
       "            </tr><tr>\n",
       "                <td><strong>Number of reactions</strong></td>\n",
       "                <td>2583</td>\n",
       "            </tr><tr>\n",
       "                <td><strong>Number of groups</strong></td>\n",
       "                <td>0</td>\n",
       "            </tr><tr>\n",
       "                <td><strong>Objective expression</strong></td>\n",
       "                <td>1.0*BIOMASS_Ec_iJO1366_core_53p95M - 1.0*BIOMASS_Ec_iJO1366_core_53p95M_reverse_5c8b1</td>\n",
       "            </tr><tr>\n",
       "                <td><strong>Compartments</strong></td>\n",
       "                <td>cytosol, extracellular space, periplasm</td>\n",
       "            </tr>\n",
       "          </table>"
      ],
      "text/plain": [
       "<Model iJO1366 at 0x7f4d21902450>"
      ]
     },
     "execution_count": 162,
     "metadata": {},
     "output_type": "execute_result"
    }
   ],
   "source": [
    "model2"
   ]
  },
  {
   "cell_type": "code",
   "execution_count": 163,
   "metadata": {},
   "outputs": [
    {
     "name": "stdout",
     "output_type": "stream",
     "text": [
      "1190 1563\n"
     ]
    }
   ],
   "source": [
    "i = 0\n",
    "for m in model.metabolites:\n",
    "    if m in model2.metabolites:\n",
    "        i += 1\n",
    "print(i,len(model.metabolites))"
   ]
  },
  {
   "cell_type": "code",
   "execution_count": 164,
   "metadata": {},
   "outputs": [
    {
     "name": "stdout",
     "output_type": "stream",
     "text": [
      "1225 1563\n"
     ]
    }
   ],
   "source": [
    "i = 0\n",
    "for m in model.metabolites:\n",
    "    if m in model3.metabolites:\n",
    "        i += 1\n",
    "print(i,len(model.metabolites))"
   ]
  },
  {
   "cell_type": "code",
   "execution_count": 165,
   "metadata": {},
   "outputs": [
    {
     "name": "stdout",
     "output_type": "stream",
     "text": [
      "843 1563\n"
     ]
    }
   ],
   "source": [
    "i = 0\n",
    "for m in model.metabolites:\n",
    "    if m in model4.metabolites:\n",
    "        i += 1\n",
    "print(i,len(model.metabolites))"
   ]
  },
  {
   "cell_type": "code",
   "execution_count": 166,
   "metadata": {},
   "outputs": [],
   "source": [
    "model5 = cobra.io.read_sbml_model(\"iML1515.xml\")"
   ]
  },
  {
   "cell_type": "code",
   "execution_count": 167,
   "metadata": {},
   "outputs": [
    {
     "name": "stdout",
     "output_type": "stream",
     "text": [
      "1197 1563\n"
     ]
    }
   ],
   "source": [
    "i = 0\n",
    "for m in model.metabolites:\n",
    "    if m in model5.metabolites:\n",
    "        i += 1\n",
    "print(i,len(model.metabolites))"
   ]
  },
  {
   "cell_type": "code",
   "execution_count": 173,
   "metadata": {},
   "outputs": [],
   "source": [
    "import requests"
   ]
  },
  {
   "cell_type": "code",
   "execution_count": 182,
   "metadata": {},
   "outputs": [],
   "source": [
    "list_r = requests.get('http://bigg.ucsd.edu/api/v2/universal/metabolites/glc__D')"
   ]
  },
  {
   "cell_type": "code",
   "execution_count": 184,
   "metadata": {},
   "outputs": [
    {
     "name": "stdout",
     "output_type": "stream",
     "text": [
      "formulae C6H12O6\n",
      "<class 'list'>\n"
     ]
    }
   ],
   "source": [
    "for x in list_r.json():\n",
    "    if x == 'formulae':\n",
    "        print(x, list_r.json()[x][0])\n",
    "        print(type(list_r.json()[x]))"
   ]
  },
  {
   "cell_type": "code",
   "execution_count": 186,
   "metadata": {},
   "outputs": [],
   "source": [
    "cobra.io.save_json_model(model, 'Ropacus_carveme_curation1.json')"
   ]
  },
  {
   "cell_type": "code",
   "execution_count": 6,
   "metadata": {},
   "outputs": [],
   "source": [
    "cmodel = cobra.io.load_json_model(\"Ropacus_carveme_curation1.json\")"
   ]
  },
  {
   "cell_type": "code",
   "execution_count": 7,
   "metadata": {},
   "outputs": [
    {
     "data": {
      "text/html": [
       "\n",
       "        <table>\n",
       "            <tr>\n",
       "                <td><strong>Name</strong></td>\n",
       "                <td>Ropacus_carveme</td>\n",
       "            </tr><tr>\n",
       "                <td><strong>Memory address</strong></td>\n",
       "                <td>0x07f9eeb253190</td>\n",
       "            </tr><tr>\n",
       "                <td><strong>Number of metabolites</strong></td>\n",
       "                <td>1563</td>\n",
       "            </tr><tr>\n",
       "                <td><strong>Number of reactions</strong></td>\n",
       "                <td>2363</td>\n",
       "            </tr><tr>\n",
       "                <td><strong>Number of groups</strong></td>\n",
       "                <td>0</td>\n",
       "            </tr><tr>\n",
       "                <td><strong>Objective expression</strong></td>\n",
       "                <td>1.0*Growth - 1.0*Growth_reverse_699ae</td>\n",
       "            </tr><tr>\n",
       "                <td><strong>Compartments</strong></td>\n",
       "                <td>cytosol, periplasm, extracellular space</td>\n",
       "            </tr>\n",
       "          </table>"
      ],
      "text/plain": [
       "<Model Ropacus_carveme at 0x7f9eeb253190>"
      ]
     },
     "execution_count": 7,
     "metadata": {},
     "output_type": "execute_result"
    }
   ],
   "source": [
    "cmodel"
   ]
  },
  {
   "cell_type": "code",
   "execution_count": 8,
   "metadata": {
    "collapsed": true,
    "jupyter": {
     "outputs_hidden": true
    }
   },
   "outputs": [
    {
     "name": "stdout",
     "output_type": "stream",
     "text": [
      "10fthf_c \n",
      "adp_c \n",
      "atp_c \n",
      "glu__L_c \n",
      "pi_c \n",
      "12dgr120_c \n",
      "12dgr120_p \n",
      "12dgr140_c \n",
      "12dgr140_p \n",
      "12dgr141_c \n",
      "12dgr141_p \n",
      "12dgr160_c \n",
      "12dgr161_c \n",
      "12dgr161_p \n",
      "12dgr180_c \n",
      "12dgr180_p \n",
      "12dgr181_c \n",
      "12dgr181_p \n",
      "12ppd__R_c \n",
      "h2o_c \n",
      "ppal_c \n",
      "12ppd__S_e \n",
      "12ppd__S_p \n",
      "12ppd__S_c \n",
      "glc__D_c \n",
      "glc__D_e \n",
      "h2o_e \n",
      "h2o2_c \n",
      "nh4_c \n",
      "o2_c \n",
      "h_c \n",
      "udp_c \n",
      "udpg_c \n",
      "nad_c \n",
      "nadh_c \n",
      "14glucan_c \n",
      "14glucan_p \n",
      "14glucan_e \n",
      "coa_c \n",
      "nadp_c \n",
      "nadph_c \n",
      "h_p \n",
      "23dhmb_c \n",
      "23dhmp_c \n",
      "dkmpp_c \n",
      "h2o_p \n",
      "23dhdp_c \n",
      "2agpe120_c \n",
      "2agpe120_p \n",
      "2agpe140_c \n",
      "2agpe140_p \n",
      "2agpe141_c \n",
      "2agpe141_p \n",
      "2agpe160_c \n",
      "2agpe160_p \n",
      "2agpe161_c \n",
      "2agpe161_p \n",
      "2agpe180_c \n",
      "2agpe180_p \n",
      "2agpe181_c \n",
      "2agpe181_p \n",
      "amp_c \n",
      "ddca_c \n",
      "pe120_c \n",
      "ppi_c \n",
      "pe140_c \n",
      "ttdca_c \n",
      "pe141_c \n",
      "ttdcea_c \n",
      "hdca_c \n",
      "pe160_c \n",
      "hdcea_c \n",
      "pe161_c \n",
      "ocdca_c \n",
      "pe180_c \n",
      "ocdcea_c \n",
      "pe181_c \n",
      "2agpg120_c \n",
      "2agpg120_p \n",
      "2agpg140_c \n",
      "2agpg140_p \n",
      "2agpg141_c \n",
      "2agpg141_p \n",
      "2agpg160_c \n",
      "2agpg160_p \n",
      "2agpg161_c \n",
      "2agpg161_p \n",
      "2agpg180_c \n",
      "2agpg180_p \n",
      "2agpg181_c \n",
      "2agpg181_p \n",
      "pg120_c \n",
      "pg140_c \n",
      "pg141_c \n",
      "pg160_c \n",
      "pg161_c \n",
      "pg180_c \n",
      "pg181_c \n",
      "pyr_c \n",
      "pap_c \n",
      "paps_c \n",
      "Lcyst_c \n",
      "akg_c \n",
      "2aobut_c \n",
      "2dda7p_c \n",
      "glcn_c \n",
      "2dhglcn_c \n",
      "idon__L_c \n",
      "6p2dhglcn_c \n",
      "2dhglcn_p \n",
      "2dhp_c \n",
      "3mob_c \n",
      "fald_c \n",
      "2dr1p_c \n",
      "drib_c \n",
      "2obut_c \n",
      "h_e \n",
      "hco3_c \n",
      "na1_c \n",
      "na1_e \n",
      "hco3_e \n",
      "2hh24dd_c \n",
      "4h2kpi_c \n",
      "24dhhed_c \n",
      "2hxmp_c \n",
      "2hxmp_e \n",
      "2ins_c \n",
      "2mahmp_c \n",
      "4ampm_c \n",
      "2mb2coa_c \n",
      "2mcit_c \n",
      "2pg_c \n",
      "2pglyc_c \n",
      "2pglyc_e \n",
      "pi_p \n",
      "gdp_c \n",
      "gtp_c \n",
      "lac__L_c \n",
      "2shchc_c \n",
      "co2_c \n",
      "ichor_c \n",
      "34dhpha_c \n",
      "34dhbz_c \n",
      "34dhbz_p \n",
      "34dhcinm_p \n",
      "34dhcinm_e \n",
      "34dhcinm_c \n",
      "5cmhmsa_c \n",
      "ahcys_c \n",
      "amet_c \n",
      "leu__L_c \n",
      "leu__L_e \n",
      "34hpp_c \n",
      "hgentis_c \n",
      "35cgmp_c \n",
      "3amac_c \n",
      "msa_c \n",
      "3c3hmp_c \n",
      "3c4mop_c \n",
      "3hdecACP_c \n",
      "ACP_c \n",
      "R_3hdcoa_c \n",
      "3hddecACP_c \n",
      "R_3hddcoa_c \n",
      "3hcddec5eACP_c \n",
      "R_3hcddec5ecoa_c \n",
      "3hmrsACP_c \n",
      "R_3hmrscoa_c \n",
      "3hcmrs7eACP_c \n",
      "R_3hcmrs7ecoa_c \n",
      "3hhexACP_c \n",
      "R_3hhcoa_c \n",
      "3hoctACP_c \n",
      "R_3hocoa_c \n",
      "tdec2eACP_c \n",
      "tddec2eACP_c \n",
      "t3c5ddeceACP_c \n",
      "tmrs2eACP_c \n",
      "t3c7mrseACP_c \n",
      "3hpalmACP_c \n",
      "tpalm2eACP_c \n",
      "3hcpalm9eACP_c \n",
      "t3c9palmeACP_c \n",
      "3hoctaACP_c \n",
      "toctd2eACP_c \n",
      "3hcvac11eACP_c \n",
      "t3c11vaceACP_c \n",
      "3haACP_c \n",
      "but2eACP_c \n",
      "thex2eACP_c \n",
      "toct2eACP_c \n",
      "3hmp_c \n",
      "3hibutcoa_c \n",
      "3hcinnm_c \n",
      "dhcinnm_c \n",
      "3hoxpac_p \n",
      "3hoxpac_c \n",
      "3hoxpac_e \n",
      "3hpppn_c \n",
      "dhpppn_c \n",
      "3c2hmp_c \n",
      "lpam_c \n",
      "3mop_c \n",
      "3mb_c \n",
      "3mb_p \n",
      "na1_p \n",
      "3mb_e \n",
      "3mbzald_c \n",
      "3mbzalc_c \n",
      "m_tol_c \n",
      "cchoxod_c \n",
      "3mcat_c \n",
      "uri_p \n",
      "cytd_p \n",
      "adn_p \n",
      "gsn_p \n",
      "nh4_p \n",
      "o2_p \n",
      "adn_c \n",
      "uri_c \n",
      "cytd_c \n",
      "gsn_c \n",
      "3hodcoa_c \n",
      "3ohodcoa_c \n",
      "malcoa_c \n",
      "pmtcoa_c \n",
      "oxadpcoa_c \n",
      "succ_c \n",
      "succoa_c \n",
      "3oxoadp_c \n",
      "3odecACP_c \n",
      "3oddecACP_c \n",
      "3ocddec5eACP_c \n",
      "3omrsACP_c \n",
      "3ocmrs7eACP_c \n",
      "3opalmACP_c \n",
      "3ocpalm9eACP_c \n",
      "3ooctdACP_c \n",
      "3ocvac11eACP_c \n",
      "actACP_c \n",
      "3ohexACP_c \n",
      "3ooctACP_c \n",
      "malACP_c \n",
      "ocACP_c \n",
      "dcaACP_c \n",
      "cdec3eACP_c \n",
      "ddcaACP_c \n",
      "cddec5eACP_c \n",
      "myrsACP_c \n",
      "tdeACP_c \n",
      "palmACP_c \n",
      "hdeACP_c \n",
      "butACP_c \n",
      "hexACP_c \n",
      "accoa_c \n",
      "3oxoadp_p \n",
      "LalaDgluMdap_c \n",
      "LalaDgluMdap_p \n",
      "3pg_c \n",
      "h2_c \n",
      "phaccoa_c \n",
      "asp__L_c \n",
      "so3_c \n",
      "4abut_c \n",
      "4abutn_c \n",
      "4abz_c \n",
      "5cmhm_c \n",
      "4cml_c \n",
      "5odhf2a_c \n",
      "sucsal_c \n",
      "4hphac_c \n",
      "4hbald_c \n",
      "4hbald_p \n",
      "4hba_p \n",
      "4hbutcoa_c \n",
      "vaccoa_c \n",
      "4hbz_c \n",
      "4hbzcoa_c \n",
      "benzcoa_c \n",
      "fdxo_42_c \n",
      "fdxr_42_c \n",
      "4hbz_e \n",
      "4hbz_p \n",
      "fad_c \n",
      "fadh2_c \n",
      "4hphac_p \n",
      "ala__L_c \n",
      "ala__L_e \n",
      "4hthr_c \n",
      "phthr_c \n",
      "4izp_c \n",
      "4mop_c \n",
      "4mbzald_c \n",
      "4mbzalc_c \n",
      "p_tol_c \n",
      "hmccms_c \n",
      "4mcat_c \n",
      "for_c \n",
      "op4en_c \n",
      "oxalc_c \n",
      "2hchd_c \n",
      "2omcm_c \n",
      "cl_c \n",
      "cl_e \n",
      "2hmc_c \n",
      "hmccm_c \n",
      "LalaDgluMdapDala_c \n",
      "ala__D_c \n",
      "LalaDgluMdapDala_p \n",
      "ala__D_p \n",
      "5aop_c \n",
      "5cohe_c \n",
      "5dglcn_c \n",
      "5drib_c \n",
      "ade_c \n",
      "dad_5_c \n",
      "prpp_c \n",
      "5fthf_c \n",
      "ribflv_c \n",
      "air_c \n",
      "5mta_c \n",
      "5mthf_c \n",
      "5mtr_c \n",
      "5mtr_e \n",
      "5oxpro_c \n",
      "acald_c \n",
      "ahdt_c \n",
      "pppi_c \n",
      "6pgc_c \n",
      "6pgl_c \n",
      "g6p_c \n",
      "salcn6p_c \n",
      "gln__L_c \n",
      "cys__L_c \n",
      "ser__L_c \n",
      "thr__L_c \n",
      "udpgal_c \n",
      "ara5p_c \n",
      "ru5p__D_c \n",
      "his__L_c \n",
      "ac_c \n",
      "aacoa_c \n",
      "acac_c \n",
      "octeACP_c \n",
      "ocdcaACP_c \n",
      "dca_c \n",
      "octa_c \n",
      "mthgxl_c \n",
      "dtdp_c \n",
      "malthx_c \n",
      "malthx_p \n",
      "arab__L_c \n",
      "tre_c \n",
      "arbt6p_c \n",
      "hqn_c \n",
      "arab__L_e \n",
      "xylu__D_c \n",
      "abt__L_c \n",
      "4abut_p \n",
      "4abut_e \n",
      "acac_e \n",
      "acac_p \n",
      "3ohcoa_c \n",
      "btcoa_c \n",
      "3oocoa_c \n",
      "hxcoa_c \n",
      "3odcoa_c \n",
      "occoa_c \n",
      "3oddcoa_c \n",
      "dcacoa_c \n",
      "dccoa_c \n",
      "3otdcoa_c \n",
      "ddcacoa_c \n",
      "ddcoa_c \n",
      "3ohdcoa_c \n",
      "tdcoa_c \n",
      "actn__R_c \n",
      "acald_e \n",
      "anth_c \n",
      "ppa_c \n",
      "ppcoa_c \n",
      "2kmb_c \n",
      "co_c \n",
      "tag6p__D_c \n",
      "idp_c \n",
      "itp_c \n",
      "pep_c \n",
      "acgam_p \n",
      "acgam_c \n",
      "acmana_c \n",
      "acgam6p_c \n",
      "gam6p_c \n",
      "acgam1p_c \n",
      "uacgam_c \n",
      "udcpp_c \n",
      "ump_c \n",
      "acgam_e \n",
      "acg5p_c \n",
      "acglu_c \n",
      "2ahbut_c \n",
      "ac_e \n",
      "chol_e \n",
      "etoh_c \n",
      "achms_c \n",
      "cit_c \n",
      "oaa_c \n",
      "actp_c \n",
      "alac__S_c \n",
      "thmpp_c \n",
      "acmum6p_c \n",
      "lac__D_c \n",
      "acmanap_c \n",
      "acmana_e \n",
      "man6p_c \n",
      "acnam_c \n",
      "acnam_e \n",
      "ctp_c \n",
      "b2coa_c \n",
      "hx2coa_c \n",
      "2mbcoa_c \n",
      "oc2coa_c \n",
      "dc2coa_c \n",
      "dd2coa_c \n",
      "trans_dd2coa_c \n",
      "td2coa_c \n",
      "hdd2coa_c \n",
      "od2coa_c \n",
      "stcoa_c \n",
      "ibcoa_c \n",
      "2mp2coa_c \n",
      "acACP_c \n",
      "acorn_c \n",
      "orn_c \n",
      "orn__L_c \n",
      "acon_C_c \n",
      "icit_c \n",
      "acg5sa_c \n",
      "pi_e \n",
      "fmn_c \n",
      "ddcap_c \n",
      "ttdcap_c \n",
      "ttdceap_c \n",
      "hdcap_c \n",
      "hdceap_c \n",
      "ocdcap_c \n",
      "ocdceap_c \n",
      "pan4p_c \n",
      "acser_c \n",
      "tsul_c \n",
      "ac_p \n",
      "diact_c \n",
      "acetol_c \n",
      "actn__R_e \n",
      "13dpg_c \n",
      "acysbmn_c \n",
      "acysbmn_e \n",
      "ins_c \n",
      "dcmp_c \n",
      "dcyt_c \n",
      "adn_e \n",
      "ins_e \n",
      "nh4_e \n",
      "4adcho_c \n",
      "adocbi_c \n",
      "chor_c \n",
      "hxan_c \n",
      "dadp_c \n",
      "damp_c \n",
      "datp_c \n",
      "ametam_c \n",
      "camp_c \n",
      "dgdp_c \n",
      "dgtp_c \n",
      "rib__D_c \n",
      "adocbl_c \n",
      "gmp_c \n",
      "26dap_LL_c \n",
      "adpglc_c \n",
      "g1p_c \n",
      "man1p_c \n",
      "adprib_c \n",
      "r5p_c \n",
      "aicar_c \n",
      "crn_c \n",
      "aps_c \n",
      "dcamp_c \n",
      "fum_c \n",
      "25aics_c \n",
      "imp_c \n",
      "ad_e \n",
      "ad_c \n",
      "hdcoa_c \n",
      "odecoa_c \n",
      "cmp_c \n",
      "anhgm_c \n",
      "anhgm3p_c \n",
      "anhgm_p \n",
      "anhgm3p_p \n",
      "anhm3p_c \n",
      "anhgm4p_c \n",
      "anhgm4p_p \n",
      "anhm4p_c \n",
      "agm_c \n",
      "anhm_c \n",
      "adphep_DD_c \n",
      "adphep_LD_c \n",
      "inost_c \n",
      "raffin_c \n",
      "sucr_c \n",
      "ptrc_c \n",
      "agm_p \n",
      "ptrc_p \n",
      "urea_c \n",
      "1ddecg3p_c \n",
      "pa120_c \n",
      "1tdecg3p_c \n",
      "pa140_c \n",
      "1tdec7eg3p_c \n",
      "pa141_c \n",
      "1hdecg3p_c \n",
      "pa160_c \n",
      "pa160190_c \n",
      "1hdec9eg3p_c \n",
      "pa161_c \n",
      "1odecg3p_c \n",
      "pa180_c \n",
      "1odec11eg3p_c \n",
      "pa181_c \n",
      "pa190190_c \n",
      "glx_c \n",
      "gly_c \n",
      "f6p_c \n",
      "hcys__L_c \n",
      "4ahmmp_c \n",
      "gcald_c \n",
      "met__L_c \n",
      "h2s_c \n",
      "trdox_c \n",
      "trdrd_c \n",
      "fprica_c \n",
      "thf_c \n",
      "5aizc_c \n",
      "5caiz_c \n",
      "sdhlam_c \n",
      "dhlam_c \n",
      "mal__L_c \n",
      "akg_e \n",
      "mal__L_e \n",
      "akg_p \n",
      "dhnpt_c \n",
      "glyc__R_c \n",
      "ala__L_p \n",
      "alaala_c \n",
      "alaala_p \n",
      "asn__L_c \n",
      "asn__L_e \n",
      "ala_B_c \n",
      "ala__D_e \n",
      "gln__L_e \n",
      "gly_e \n",
      "LalaDglu_c \n",
      "LalaLglu_c \n",
      "ser__L_e \n",
      "glu__D_c \n",
      "pyam5p_c \n",
      "pydx5p_c \n",
      "thr__L_e \n",
      "arg__L_c \n",
      "arg__L_e \n",
      "meoh_c \n",
      "glyald_c \n",
      "glyc_c \n",
      "lald__D_c \n",
      "lald__L_c \n",
      "pacald_c \n",
      "ppoh_c \n",
      "btal_c \n",
      "btoh_c \n",
      "pac_c \n",
      "aacald_c \n",
      "amacald_c \n",
      "glcr_c \n",
      "but_c \n",
      "hxa_c \n",
      "hxal_c \n",
      "dha_c \n",
      "dhap_c \n",
      "alltt_c \n",
      "urdglyc_c \n",
      "alltn_c \n",
      "alltn_e \n",
      "alltn_p \n",
      "pe160_p \n",
      "pg160_p \n",
      "2ddglcn_c \n",
      "malt_c \n",
      "malttr_c \n",
      "maltttr_c \n",
      "maltpt_c \n",
      "malthp_c \n",
      "man_c \n",
      "4gudbutn_c \n",
      "2dmmql8_c \n",
      "mql8_c \n",
      "mqn6_c \n",
      "mql7_c \n",
      "2dmmq8_c \n",
      "mqn8_c \n",
      "amp_e \n",
      "cgly_c \n",
      "cgly_e \n",
      "pro__L_c \n",
      "progly_c \n",
      "amp_p \n",
      "malt_e \n",
      "malttr_e \n",
      "anhgm_e \n",
      "nmn_c \n",
      "pran_c \n",
      "hisp_c \n",
      "imacp_c \n",
      "ap4a_c \n",
      "thdp_c \n",
      "4ppcys_c \n",
      "5aptn_c \n",
      "5apentam_c \n",
      "nh3_c \n",
      "glyc3p_c \n",
      "lys__L_c \n",
      "dpcoa_c \n",
      "5aprbu_c \n",
      "5apru_c \n",
      "oxptn_c \n",
      "arab__D_c \n",
      "arab__D_e \n",
      "arachcoa_c \n",
      "arach_c \n",
      "arachACP_c \n",
      "rbl__L_c \n",
      "arab__L_p \n",
      "fe3_e \n",
      "fe2_c \n",
      "fmnh2_c \n",
      "rbflvrd_c \n",
      "arbt_e \n",
      "arg__L_p \n",
      "citr__L_c \n",
      "lys__L_e \n",
      "orn_e \n",
      "orn_p \n",
      "argsuc_c \n",
      "phe__L_c \n",
      "so4_c \n",
      "5g2oxpt_c \n",
      "4pasp_c \n",
      "aspsa_c \n",
      "asn__L_p \n",
      "asp__L_e \n",
      "asp__L_p \n",
      "aso3_c \n",
      "aso3_p \n",
      "aso3_e \n",
      "aso4_c \n",
      "aso4_p \n",
      "aso4_e \n",
      "cbasp_c \n",
      "cbp_c \n",
      "k_c \n",
      "k_e \n",
      "iasp_c \n",
      "q8_c \n",
      "q8h2_c \n",
      "pro__L_e \n",
      "gthox_c \n",
      "gthrd_c \n",
      "prbatp_c \n",
      "btn_c \n",
      "ala_B_e \n",
      "ala_B_p \n",
      "mql6_c \n",
      "bz_c \n",
      "hco3_p \n",
      "ile__L_c \n",
      "gdpmann_c \n",
      "betald_c \n",
      "glyb_c \n",
      "suc6p_c \n",
      "cellb_e \n",
      "cellb_c \n",
      "meoh_e \n",
      "madg_e \n",
      "mbdg_e \n",
      "udpglcur_c \n",
      "e4p_c \n",
      "msh_c \n",
      "bmnmsh_c \n",
      "bmn_c \n",
      "bmn_e \n",
      "bmoco_c \n",
      "cu2_c \n",
      "moco_c \n",
      "mptamp_c \n",
      "bmoco1gdp_c \n",
      "bmocogdp_c \n",
      "sbzcoa_c \n",
      "btd_RR_c \n",
      "dtbt_c \n",
      "s_c \n",
      "2fe1s_c \n",
      "2fe2s_c \n",
      "buts_c \n",
      "buts_e \n",
      "butso3_c \n",
      "butso3_p \n",
      "butso3_e \n",
      "but_e \n",
      "but_p \n",
      "bz12diol_c \n",
      "bzalc_c \n",
      "bzal_c \n",
      "catechol_c \n",
      "bzsuccoa_c \n",
      "phitcoa_c \n",
      "bzsucc_c \n",
      "tol_c \n",
      "bz_e \n",
      "bz_p \n",
      "3hdcoa_c \n",
      "3hddcoa_c \n",
      "3htdcoa_c \n",
      "ivcoa_c \n",
      "ca2_c \n",
      "ca2_e \n",
      "ca2_p \n",
      "34dhbald_c \n",
      "caffcoa_c \n",
      "fdxox_c \n",
      "fdxrd_c \n",
      "lys__L_p \n",
      "2hmcnsad_c \n",
      "ccmuac_c \n",
      "pqh2_p \n",
      "pq_p \n",
      "ficytc6_p \n",
      "focytc6_p \n",
      "cbi_c \n",
      "cbl1_c \n",
      "cbm_c \n",
      "cd2_c \n",
      "cd2_e \n",
      "cd2_p \n",
      "k_p \n",
      "cdpdddecg_c \n",
      "cdpdtdecg_c \n",
      "cdpdtdec7eg_c \n",
      "cdpdhdecg_c \n",
      "cdpc16c19g_c \n",
      "cdpdhdec9eg_c \n",
      "cdpdodecg_c \n",
      "cdpdodec11eg_c \n",
      "cdpc19c19g_c \n",
      "pa_Hp_c \n",
      "cdpdag_HP_c \n",
      "flxr_c \n",
      "flxso_c \n",
      "cdigmp_c \n",
      "5pg35pg_c \n",
      "cdp4dh6doglc_c \n",
      "cdp4dh36ddglc_c \n",
      "cdpabeq_c \n",
      "cdpglc_c \n",
      "2p4c2me_c \n",
      "4c2me_c \n",
      "cdp_c \n",
      "ptd1ino160_c \n",
      "pyr_p \n",
      "cgly_p \n",
      "chol_c \n",
      "chol_p \n",
      "chols_c \n",
      "chols_e \n",
      "pphn_c \n",
      "3psme_c \n",
      "cigam_c \n",
      "igam_c \n",
      "cit_e \n",
      "mg2_c \n",
      "mg2_e \n",
      "mn2_c \n",
      "mn2_e \n",
      "ni2_c \n",
      "ni2_e \n",
      "cobalt2_c \n",
      "cobalt2_e \n",
      "zn2_c \n",
      "zn2_e \n",
      "cit_p \n",
      "succ_e \n",
      "succ_p \n",
      "cellb_p \n",
      "lipa_cold_e \n",
      "lipa_cold_p \n",
      "oxa_c \n",
      "pa120_p \n",
      "pg120_p \n",
      "pa140_p \n",
      "pg140_p \n",
      "pa141_p \n",
      "pg141_p \n",
      "pa160_p \n",
      "pa161_p \n",
      "pg161_p \n",
      "pa180_p \n",
      "pg180_p \n",
      "pa181_p \n",
      "pg181_p \n",
      "cl_p \n",
      "fe3_c \n",
      "csn_c \n",
      "cmp_e \n",
      "cmp_p \n",
      "co2_e \n",
      "fer_c \n",
      "cobalt2_p \n",
      "fdox_c \n",
      "fdred_c \n",
      "udcpp_p \n",
      "co_e \n",
      "cpmp_c \n",
      "cpppg3_c \n",
      "pppg9_c \n",
      "4crsol_p \n",
      "4crsol_e \n",
      "crn_e \n",
      "crn_p \n",
      "crncoa_c \n",
      "gbbtn_c \n",
      "ctbt_c \n",
      "ctbtcoa_c \n",
      "crn__D_c \n",
      "crn__D_p \n",
      "gbbtn_e \n",
      "cro4_c \n",
      "cro4_p \n",
      "ura_c \n",
      "csn_e \n",
      "spmd_c \n",
      "ctbt_e \n",
      "ctbt_p \n",
      "tdecoa_c \n",
      "utp_c \n",
      "cu_p \n",
      "cu2_p \n",
      "cu2_e \n",
      "cu_e \n",
      "so3_p \n",
      "tsul_p \n",
      "cynt_c \n",
      "cynt_e \n",
      "focytc_c \n",
      "ficytc_c \n",
      "q_c \n",
      "qh2_c \n",
      "ficytC_c \n",
      "focytC_c \n",
      "mqn7_c \n",
      "cys__L_p \n",
      "o2_e \n",
      "cyst__L_c \n",
      "cysth__L_c \n",
      "glu__L_e \n",
      "cytd_e \n",
      "dcdp_c \n",
      "dctp_c \n",
      "5mcsn_c \n",
      "5d4dglcr_c \n",
      "diact_e \n",
      "dad_2_c \n",
      "din_c \n",
      "dad_2_e \n",
      "din_e \n",
      "dad_2_p \n",
      "damp_e \n",
      "damp_p \n",
      "26dap__M_c \n",
      "arab__D_p \n",
      "ditp_c \n",
      "db4p_c \n",
      "nicrnt_c \n",
      "dca_e \n",
      "dca_p \n",
      "dump_c \n",
      "dcmp_e \n",
      "dcmp_p \n",
      "decdp_tb_c \n",
      "frdp_c \n",
      "ipdp_c \n",
      "dutp_c \n",
      "duri_c \n",
      "dcyt_e \n",
      "dcyt_p \n",
      "ddca_p \n",
      "2dh3dgal_c \n",
      "2dh3dgal6p_c \n",
      "2ddg6p_c \n",
      "g3p_c \n",
      "decdp_c \n",
      "fdxo_2_2_c \n",
      "gal_c \n",
      "dgmp_c \n",
      "dgmp_e \n",
      "dgmp_p \n",
      "dgsn_c \n",
      "dgsn_e \n",
      "dgsn_p \n",
      "dh3mchc_c \n",
      "dh4mchc_c \n",
      "23dhacoa_c \n",
      "3hadpcoa_c \n",
      "2o3mpt_c \n",
      "23ddhb_c \n",
      "23dhb_c \n",
      "23dhba_c \n",
      "23dhbzs_c \n",
      "23dhbzs2_c \n",
      "23dhbzs3_c \n",
      "hkntd_c \n",
      "dhf_c \n",
      "fol_c \n",
      "dhpt_c \n",
      "dhna_c \n",
      "octdp_c \n",
      "14dhncoa_c \n",
      "2ahhmp_c \n",
      "6hmhpt_c \n",
      "dhor__S_c \n",
      "orot_c \n",
      "2dhphaccoa_c \n",
      "dhpmp_c \n",
      "25dhpp_c \n",
      "25drapp_c \n",
      "mlthf_c \n",
      "6hmhptpp_c \n",
      "3dhq_c \n",
      "3dhsk_c \n",
      "dimp_c \n",
      "din_p \n",
      "fdp_c \n",
      "lac__D_p \n",
      "dmpp_c \n",
      "grdp_c \n",
      "4r5au_c \n",
      "h2mb4p_c \n",
      "dnad_c \n",
      "dudp_c \n",
      "dttp_c \n",
      "C100mclPHA_c \n",
      "mclPHAg_c \n",
      "C120mclPHA_c \n",
      "C121mclPHA_c \n",
      "C140mclPHA_c \n",
      "C141mclPHA_c \n",
      "C60mclPHA_c \n",
      "C80mclPHA_c \n",
      "pant__R_c \n",
      "2dr5p_c \n",
      "drib_e \n",
      "gthrd_p \n",
      "dscl_c \n",
      "2amsa_c \n",
      "ser__D_c \n",
      "ser__D_e \n",
      "ser__D_p \n",
      "tartr__D_c \n",
      "dtmp_c \n",
      "dtmp_e \n",
      "dtmp_p \n",
      "thym_c \n",
      "duri_e \n",
      "duri_p \n",
      "2me4p_c \n",
      "dxyl5p_c \n",
      "4per_c \n",
      "udcpdp_c \n",
      "3hbcoa_c \n",
      "3hbycoa_c \n",
      "3hhcoa_c \n",
      "3hocoa_c \n",
      "3hhdcoa_c \n",
      "3hmbcoa_c \n",
      "kdo2lipid4_c \n",
      "kdo2lipid4L_c \n",
      "lipa_c \n",
      "kdo2lipid4p_c \n",
      "lipa_cold_c \n",
      "enlipa_e \n",
      "enlipa_p \n",
      "enter_c \n",
      "seramp_c \n",
      "feenter_c \n",
      "entermg_c \n",
      "salchs4_c \n",
      "enter_p \n",
      "galur_e \n",
      "trp__L_c \n",
      "val__L_c \n",
      "tyr__L_c \n",
      "etha_c \n",
      "etha_e \n",
      "eths_c \n",
      "eths_e \n",
      "ethso3_c \n",
      "ethso3_p \n",
      "ethso3_e \n",
      "fru_c \n",
      "ttdca_p \n",
      "ttdcea_p \n",
      "hdca_p \n",
      "hdcea_p \n",
      "ocdca_p \n",
      "ocdcea_p \n",
      "hxa_p \n",
      "octa_p \n",
      "phdca_c \n",
      "phdcacoa_c \n",
      "prephthcoa_c \n",
      "prephth_c \n",
      "Sfglutth_c \n",
      "hmgth_c \n",
      "mmcoa__S_c \n",
      "mbhn_c \n",
      "dmlgnc_c \n",
      "tmhexc_c \n",
      "tamocta_c \n",
      "phdcaACP_c \n",
      "f1p_c \n",
      "s17bp_c \n",
      "pheme_c \n",
      "ppp9_c \n",
      "forcoa_c \n",
      "ferulcoa_c \n",
      "vanln_c \n",
      "isetac_c \n",
      "fmnRD_c \n",
      "mso3_c \n",
      "hexs_c \n",
      "taur_c \n",
      "sula_c \n",
      "sulfac_c \n",
      "istnt_c \n",
      "fe2_e \n",
      "fe2_p \n",
      "fe3_p \n",
      "fe3dcit_p \n",
      "fe3dcit_e \n",
      "fe3dhbzs_c \n",
      "fe3dhbzs_p \n",
      "fe3dhbzs_e \n",
      "feenter_p \n",
      "enter_e \n",
      "feenter_e \n",
      "fer_e \n",
      "fer_p \n",
      "4fe4s_c \n",
      "n2o_c \n",
      "no_c \n",
      "tre6p_c \n",
      "forglu_c \n",
      "frmd_c \n",
      "fldox_c \n",
      "fldrd_c \n",
      "2ahhmd_c \n",
      "methf_c \n",
      "oxalcoa_c \n",
      "fru_e \n",
      "fru_p \n",
      "fruur_c \n",
      "4fumacac_c \n",
      "fum_e \n",
      "fum_p \n",
      "gam1p_c \n",
      "glc__D_p \n",
      "dtdpglu_c \n",
      "glu1sa_c \n",
      "g3pe_c \n",
      "g3pe_p \n",
      "g3pe_e \n",
      "g3pg_c \n",
      "g3pg_p \n",
      "g3pg_e \n",
      "1pyr5c_c \n",
      "glu5sa_c \n",
      "glu5p_c \n",
      "g6p_B_c \n",
      "glcn_p \n",
      "gal_p \n",
      "gal_e \n",
      "5dh4dglc_c \n",
      "galctn__L_c \n",
      "tagur_c \n",
      "galctn__D_c \n",
      "galctn__L_p \n",
      "galctn__L_e \n",
      "galctn__D_p \n",
      "galctn__D_e \n",
      "gal1p_c \n",
      "galman4_c \n",
      "galman4_e \n",
      "galman6_c \n",
      "galman6_e \n",
      "melib_c \n",
      "galt1p_c \n",
      "galt_e \n",
      "galur_c \n",
      "galur_p \n",
      "gam_e \n",
      "fgam_c \n",
      "gar_c \n",
      "glycogen_c \n",
      "glyclt_c \n",
      "alpro_c \n",
      "lpro_c \n",
      "dhlpro_c \n",
      "gdbtal_c \n",
      "ppgpp_c \n",
      "gdptp_c \n",
      "gg4abut_c \n",
      "ggbutal_c \n",
      "gluala_c \n",
      "ggptrc_c \n",
      "ghb_c \n",
      "bglycogen_c \n",
      "glcur_c \n",
      "glcn_e \n",
      "glcman4_c \n",
      "glcman4_e \n",
      "glcman6_c \n",
      "glcman6_e \n",
      "glutar_c \n",
      "glutcoa_c \n",
      "2h3oppan_c \n",
      "2h3opp_c \n",
      "glcr_e \n",
      "hhlipa_c \n",
      "ghhlipa_c \n",
      "xyl4_c \n",
      "xylan4_c \n",
      "glcur_e \n",
      "glcur_p \n",
      "gln__L_p \n",
      "uaagmda_c \n",
      "glucan4_c \n",
      "glucan6_c \n",
      "glucan6_e \n",
      "glucan4_e \n",
      "glu__L_p \n",
      "glucys_c \n",
      "pram_c \n",
      "glutrna_c \n",
      "trnaglu_c \n",
      "glyc3p_e \n",
      "gly_p \n",
      "glyald_e \n",
      "glyb_e \n",
      "glyb_p \n",
      "glyc3p_p \n",
      "glyclt_p \n",
      "hpyr_c \n",
      "glyc_e \n",
      "lgt__S_c \n",
      "gm1lipa_e \n",
      "hghhlipa_c \n",
      "hghhlipa_p \n",
      "gm1lipa_p \n",
      "gmhep1p_c \n",
      "gmhep17bp_c \n",
      "gmhep7p_c \n",
      "xmp_c \n",
      "gmp_e \n",
      "gmp_p \n",
      "gua_c \n",
      "ser__L_p \n",
      "grxox_c \n",
      "grxrd_c \n",
      "gsn_e \n",
      "xtp_c \n",
      "xan_c \n",
      "gua_e \n",
      "h2co3_c \n",
      "h2s_e \n",
      "2maacoa_c \n",
      "3ophb_c \n",
      "3hcinnm_e \n",
      "3hcinnm_p \n",
      "histd_c \n",
      "dhlplarg_c \n",
      "lplarg_c \n",
      "pheme_e \n",
      "hlipa_c \n",
      "4mpetz_c \n",
      "hexs_e \n",
      "hg2_c \n",
      "hg2_p \n",
      "hg2_e \n",
      "4mlacac_c \n",
      "2ohed_c \n",
      "mmtsa_c \n",
      "his__L_e \n",
      "his__L_p \n",
      "urcan_c \n",
      "hkndd_c \n",
      "hmbil_c \n",
      "ppbng_c \n",
      "hmgcoa_c \n",
      "hmpscoa_c \n",
      "hom__L_c \n",
      "4h2opntn_c \n",
      "4hoxoh_c \n",
      "4hphac_e \n",
      "3hpppn_e \n",
      "3hpppn_p \n",
      "hqn_e \n",
      "phom_c \n",
      "suchms_c \n",
      "hxan_e \n",
      "pydam_c \n",
      "taur_e \n",
      "iscs_c \n",
      "iscssh_c \n",
      "iscu_c \n",
      "iscu_2fe2s_c \n",
      "iscu_2fe2s2_c \n",
      "iscu_4fe4s_c \n",
      "mi1p__D_c \n",
      "icit_p \n",
      "eig3p_c \n",
      "prlp_c \n",
      "2cpr5p_c \n",
      "3ig3p_c \n",
      "ile__L_e \n",
      "ile__L_p \n",
      "2ippm_c \n",
      "imp_e \n",
      "imp_p \n",
      "indole_c \n",
      "indpyr_c \n",
      "ins_p \n",
      "inost_e \n",
      "phpyr_c \n",
      "isetac_p \n",
      "isetac_e \n",
      "istnt_e \n",
      "kdo2lipid4_e \n",
      "kdo2lipid4_p \n",
      "ckdo_c \n",
      "kdo_c \n",
      "kdo8p_c \n",
      "uLa4n_p \n",
      "lcts_e \n",
      "lcts_c \n",
      "lcts_p \n",
      "Lcyst_e \n",
      "leu__L_p \n",
      "lipa_e \n",
      "lipa_p \n",
      "lipopb_c \n",
      "octapb_c \n",
      "lac__L_p \n",
      "lmn2_c \n",
      "lmn2_e \n",
      "lmn30_e \n",
      "lipidAds_c \n",
      "lipidX_c \n",
      "u23ga_c \n",
      "1hdecg3p_p \n",
      "mnl1p_c \n",
      "malt6p_c \n",
      "mal__D_c \n",
      "mal__D_e \n",
      "mal__D_p \n",
      "mal__L_p \n",
      "malt_p \n",
      "malthp_e \n",
      "malthx_e \n",
      "maltpt_e \n",
      "maltttr_e \n",
      "manb_c \n",
      "mantr_c \n",
      "manttr_c \n",
      "man_e \n",
      "mana_c \n",
      "manttr_e \n",
      "micit_c \n",
      "2mcacn_c \n",
      "murein5p5p_p \n",
      "murein5px4p_p \n",
      "murein5px3p_p \n",
      "murein5p5p5p_p \n",
      "murein5px4px4p_p \n",
      "murein4px4p_p \n",
      "murein4px4px4p_p \n",
      "murein5p4p_p \n",
      "murein4p4p_p \n",
      "murein4p3p_p \n",
      "murein5p3p_p \n",
      "murein4px4p4p_p \n",
      "5mdru1p_c \n",
      "2mecdp_c \n",
      "melib_p \n",
      "sbt__D_c \n",
      "met__L_e \n",
      "metsox_S__L_c \n",
      "metsox_R__L_c \n",
      "metox_c \n",
      "metox_e \n",
      "metox__R_c \n",
      "metox__R_e \n",
      "mg2_p \n",
      "murein3p3p_p \n",
      "mmcoa__R_c \n",
      "mn2_p \n",
      "mnl_c \n",
      "mnl_e \n",
      "moadamp_c \n",
      "moadcosh_c \n",
      "kdolipid4_c \n",
      "lipidA_c \n",
      "mobd_c \n",
      "mobd_e \n",
      "motre_c \n",
      "malttre_c \n",
      "g1p_B_c \n",
      "mpt_c \n",
      "uaagmda_e \n",
      "moadcoo_c \n",
      "mso3_e \n",
      "5mdr1p_c \n",
      "mucl_c \n",
      "CCbuttc_c \n",
      "m_xyl_c \n",
      "m_xyl_e \n",
      "m_xyl_p \n",
      "mssg_c \n",
      "n2_c \n",
      "nac_c \n",
      "ncam_c \n",
      "no2_c \n",
      "no2_e \n",
      "no3_c \n",
      "ump_e \n",
      "nh4oh_c \n",
      "ni2_p \n",
      "rnam_c \n",
      "quln_c \n",
      "no2_p \n",
      "no3_p \n",
      "no3_e \n",
      "no_e \n",
      "rdxo_c \n",
      "rdxr_c \n",
      "r1p_c \n",
      "xtsn_c \n",
      "xmp_p \n",
      "xtsn_p \n",
      "uri_e \n",
      "ump_p \n",
      "thymd_c \n",
      "thymd_p \n",
      "ppco_p \n",
      "ppcr_p \n",
      "dtdprmn_c \n",
      "udcpo5_p \n",
      "oaa_e \n",
      "oaa_p \n",
      "udcpo4_c \n",
      "udcpo5_c \n",
      "udcdpgalrmnman_c \n",
      "udcpo5_e \n",
      "octa_e \n",
      "udcdpgal_c \n",
      "ohpb_c \n",
      "2ohph_c \n",
      "udcdpgalrmn_c \n",
      "orot5p_c \n",
      "2oph_c \n",
      "orot_e \n",
      "orot_p \n",
      "2oxpaccoa_c \n",
      "3oxdhscoa_c \n",
      "ssaltpp_c \n",
      "rephaccoa_c \n",
      "pac_e \n",
      "pac_p \n",
      "pnto__R_c \n",
      "uagmda_c \n",
      "ugmda_c \n",
      "adhlam_c \n",
      "phthiocerol_c \n",
      "pdima_c \n",
      "pdima_e \n",
      "pdx5p_c \n",
      "pydxn_c \n",
      "pe120_p \n",
      "pe140_p \n",
      "pe141_p \n",
      "pe161_p \n",
      "pe180_p \n",
      "pe181_p \n",
      "tagdp__D_c \n",
      "s7p_c \n",
      "3php_c \n",
      "pgp120_c \n",
      "pgp120_p \n",
      "pgp140_c \n",
      "pgp140_p \n",
      "pgp141_c \n",
      "pgp141_p \n",
      "pgp160_c \n",
      "pgp160_p \n",
      "pgp161_c \n",
      "pgp161_p \n",
      "pgp180_c \n",
      "pgp180_p \n",
      "pgp181_c \n",
      "pgp181_p \n",
      "phdca_e \n",
      "pheme_p \n",
      "phe__L_p \n",
      "phthdl_c \n",
      "prepphth_c \n",
      "pphthdl_c \n",
      "pphthiocerol_c \n",
      "pnto__R_e \n",
      "4ppan_c \n",
      "poaac_c \n",
      "ppa_p \n",
      "ppa_e \n",
      "ppdima_c \n",
      "ppdima_e \n",
      "fpram_c \n",
      "prbamp_c \n",
      "prfp_c \n",
      "prephthACP_c \n",
      "prepphthACP_c \n",
      "pro__L_p \n",
      "progly_p \n",
      "progly_e \n",
      "ps120_c \n",
      "ps140_c \n",
      "ps141_c \n",
      "ps160_c \n",
      "ps161_c \n",
      "ps180_c \n",
      "ps181_c \n",
      "skm5p_c \n",
      "pser__L_c \n",
      "thr__L_p \n",
      "ptrc_e \n",
      "p_xyl_c \n",
      "p_xyl_e \n",
      "p_xyl_p \n",
      "pydx_c \n",
      "uracp_c \n",
      "quin_c \n",
      "so4_e \n",
      "urate_c \n",
      "trp__L_e \n",
      "tyr__L_e \n",
      "val__L_e \n",
      "rib__D_p \n",
      "raffin_e \n",
      "raffin_p \n",
      "dmlz_c \n",
      "ru5p__L_c \n",
      "xu5p__D_c \n",
      "spmd_e \n",
      "urea_e \n",
      "rib__D_e \n",
      "rml_c \n",
      "rmn_c \n",
      "rml1p_c \n",
      "rmn_e \n",
      "sufbcd_c \n",
      "sufbcd_2fe2s_c \n",
      "sufse_c \n",
      "sufsesh_c \n",
      "sufbcd_2fe2s2_c \n",
      "sufbcd_4fe4s_c \n",
      "salchs4_p \n",
      "salchs4fe_p \n",
      "salchs4fe_c \n",
      "salchs4fe_e \n",
      "salchs4_e \n",
      "salcn_e \n",
      "salcn_p \n",
      "sbt6p_c \n",
      "sbt__D_e \n",
      "sl26da_c \n",
      "sl2a6o_c \n",
      "scl_c \n",
      "scl2_c \n",
      "sheme_c \n",
      "skm_c \n",
      "skm_e \n",
      "skm_p \n",
      "so3_e \n",
      "so4_p \n",
      "spmd_p \n",
      "s_e \n",
      "sucbz_c \n",
      "sucr_e \n",
      "sucr_p \n",
      "tartr__D_p \n",
      "sula_e \n",
      "sulfac_p \n",
      "sulfac_e \n",
      "tartr__L_c \n",
      "tartr__D_e \n",
      "tartr__L_e \n",
      "tartr__L_p \n",
      "thmmp_c \n",
      "dtdp4d6dg_c \n",
      "dtdp4d6dm_c \n",
      "tet_p \n",
      "tet_e \n",
      "thymd_e \n",
      "4hba_c \n",
      "tre_e \n",
      "tre_p \n",
      "trp__L_p \n",
      "tsul_e \n",
      "tyr__L_p \n",
      "u3hga_c \n",
      "uamag_c \n",
      "ugmd_c \n",
      "u3aga_c \n",
      "uaccg_c \n",
      "uama_c \n",
      "uamr_c \n",
      "udpLa4o_c \n",
      "udpLa4n_c \n",
      "uLa4n_c \n",
      "um4p_c \n",
      "uppg3_c \n",
      "ura_e \n",
      "ura_p \n",
      "urea_p \n",
      "val__L_p \n",
      "vanlt_c \n",
      "vanlt_p \n",
      "vanln_p \n",
      "xan_e \n",
      "xmp_e \n",
      "xtsn_e \n",
      "xyl__D_c \n",
      "xylan4_e \n",
      "xyl3_c \n",
      "xyl3_e \n",
      "xyl__D_e \n",
      "xyl__D_p \n",
      "xylb_c \n",
      "xylb_e \n",
      "zn2_p \n"
     ]
    }
   ],
   "source": [
    "for m in cmodel.metabolites:\n",
    "    print(m.id, m.formula)"
   ]
  },
  {
   "cell_type": "code",
   "execution_count": 9,
   "metadata": {},
   "outputs": [
    {
     "ename": "NameError",
     "evalue": "name 'model3' is not defined",
     "output_type": "error",
     "traceback": [
      "\u001b[0;31m---------------------------------------------------------------------------\u001b[0m",
      "\u001b[0;31mNameError\u001b[0m                                 Traceback (most recent call last)",
      "\u001b[0;32m<ipython-input-9-0dfdb961a457>\u001b[0m in \u001b[0;36m<module>\u001b[0;34m\u001b[0m\n\u001b[0;32m----> 1\u001b[0;31m \u001b[0mmodel3\u001b[0m\u001b[0;34m\u001b[0m\u001b[0;34m\u001b[0m\u001b[0m\n\u001b[0m",
      "\u001b[0;31mNameError\u001b[0m: name 'model3' is not defined"
     ]
    }
   ],
   "source": [
    "model3"
   ]
  },
  {
   "cell_type": "code",
   "execution_count": 194,
   "metadata": {},
   "outputs": [],
   "source": [
    "for m in cmodel.metabolites:\n",
    "    if m in model3.metabolites:\n",
    "        m.formula = model3.metabolites.get_by_id(m.id).formula"
   ]
  },
  {
   "cell_type": "code",
   "execution_count": 204,
   "metadata": {},
   "outputs": [
    {
     "name": "stdout",
     "output_type": "stream",
     "text": [
      "338\n",
      "['dkmpp_c', 'Lcyst_c', '2dhglcn_c', '6p2dhglcn_c', '2dhglcn_p', 'drib_c', 'hco3_e', '2hh24dd_c', '4h2kpi_c', '24dhhed_c', '2hxmp_c', '2hxmp_e', '2ins_c', '2mb2coa_c', '2pglyc_e', '34dhpha_c', '34dhbz_c', '34dhbz_p', '34dhcinm_p', '34dhcinm_e', '34dhcinm_c', '5cmhmsa_c', 'hgentis_c', 'R_3hdcoa_c', 'R_3hddcoa_c', 'R_3hcddec5ecoa_c', 'R_3hmrscoa_c', 'R_3hcmrs7ecoa_c', 'R_3hhcoa_c', 'R_3hocoa_c', 'dhcinnm_c', '3hoxpac_c', 'dhpppn_c', '3mb_c', '3mb_p', '3mb_e', '3mbzald_c', '3mbzalc_c', 'm_tol_c', 'cchoxod_c', '3mcat_c', '3oxoadp_c', '3oxoadp_p', 'phaccoa_c', '5cmhm_c', '4cml_c', '5odhf2a_c', '4hbald_c', '4hbald_p', '4hba_p', '4hbutcoa_c', 'vaccoa_c', '4hbzcoa_c', 'benzcoa_c', 'fdxo_42_c', 'fdxr_42_c', '4hbz_e', '4hbz_p', '4mbzald_c', '4mbzalc_c', 'p_tol_c', 'hmccms_c', '4mcat_c', 'op4en_c', 'oxalc_c', '2hchd_c', '2omcm_c', '2hmc_c', 'hmccm_c', '5cohe_c', '5oxpro_c', 'salcn6p_c', 'abt__L_c', 'dccoa_c', 'ddcoa_c', 'actn__R_c', 'co_c', 'achms_c', '2mbcoa_c', 'trans_dd2coa_c', 'ibcoa_c', '2mp2coa_c', 'orn__L_c', 'diact_c', 'actn__R_e', 'acysbmn_c', 'acysbmn_e', 'ad_e', 'ad_c', 'pa160190_c', 'pa190190_c', 'sdhlam_c', 'btoh_c', 'pac_c', 'amacald_c', 'hxal_c', '4gudbutn_c', 'mqn6_c', 'mql7_c', '5apentam_c', 'nh3_c', 'arachcoa_c', 'arach_c', 'arachACP_c', '5g2oxpt_c', 'aso4_p', 'aso4_e', 'mql6_c', 'bz_c', 'hco3_p', 'cellb_c', 'madg_e', 'mbdg_e', 'msh_c', 'bmnmsh_c', 'bmn_c', 'bmn_e', 'btd_RR_c', 's_c', 'buts_c', 'buts_e', 'bz12diol_c', 'bzalc_c', 'bzal_c', 'catechol_c', 'bzsuccoa_c', 'phitcoa_c', 'bzsucc_c', 'tol_c', 'bz_p', 'ivcoa_c', '34dhbald_c', 'caffcoa_c', 'fdxox_c', 'fdxrd_c', '2hmcnsad_c', 'ccmuac_c', 'pqh2_p', 'pq_p', 'ficytc6_p', 'focytc6_p', 'cdpc16c19g_c', 'cdpc19c19g_c', 'pa_Hp_c', 'cdpdag_HP_c', '5pg35pg_c', 'cdp4dh6doglc_c', 'cdp4dh36ddglc_c', 'cdpabeq_c', 'cdpglc_c', 'ptd1ino160_c', 'chols_c', 'chols_e', 'cigam_c', 'igam_c', 'fer_c', 'fdox_c', 'fdred_c', 'co_e', '4crsol_p', '4crsol_e', 'cro4_c', 'cro4_p', 'ctbt_e', 'focytc_c', 'ficytc_c', 'q_c', 'qh2_c', 'ficytC_c', 'focytC_c', 'mqn7_c', 'cysth__L_c', '5mcsn_c', '5d4dglcr_c', 'decdp_tb_c', 'decdp_c', 'fdxo_2_2_c', 'dh3mchc_c', 'dh4mchc_c', '2o3mpt_c', '23dhbzs2_c', 'hkntd_c', 'fol_c', '2ahhmp_c', '2dhphaccoa_c', '25dhpp_c', 'C100mclPHA_c', 'mclPHAg_c', 'C120mclPHA_c', 'C121mclPHA_c', 'C140mclPHA_c', 'C141mclPHA_c', 'C60mclPHA_c', 'C80mclPHA_c', '3hbycoa_c', '3hmbcoa_c', 'entermg_c', 'salchs4_c', 'eths_c', 'eths_e', 'phdca_c', 'phdcacoa_c', 'prephthcoa_c', 'prephth_c', 'mbhn_c', 'dmlgnc_c', 'tmhexc_c', 'tamocta_c', 'phdcaACP_c', 'ferulcoa_c', 'vanln_c', 'fmnRD_c', 'hexs_c', 'sula_c', 'istnt_c', 'fe3dcit_p', 'fer_e', 'fer_p', 'forglu_c', 'frmd_c', '2ahhmd_c', '4fumacac_c', 'g6p_B_c', 'galman4_c', 'galman4_e', 'galman6_c', 'galman6_e', 'alpro_c', 'lpro_c', 'dhlpro_c', 'gdbtal_c', 'gg4abut_c', 'ggbutal_c', 'gluala_c', 'ggptrc_c', 'glcman4_c', 'glcman4_e', 'glcman6_c', 'glcman6_e', '2h3opp_c', 'ghhlipa_c', 'xyl4_c', 'xylan4_c', 'glucan4_c', 'glucan6_c', 'glucan6_e', 'glucan4_e', 'gm1lipa_e', 'hghhlipa_c', 'hghhlipa_p', 'gm1lipa_p', 'h2co3_c', '2maacoa_c', 'dhlplarg_c', 'lplarg_c', 'hexs_e', '4mlacac_c', '2ohed_c', 'mmtsa_c', 'hkndd_c', 'hmgcoa_c', 'hmpscoa_c', '4h2opntn_c', '4hoxoh_c', 'hqn_e', 'istnt_e', 'Lcyst_e', 'lmn2_c', 'lmn2_e', 'lmn30_e', 'malthp_e', 'manb_c', 'mantr_c', 'manttr_c', 'manttr_e', '5mdru1p_c', 'sbt__D_c', 'metox_c', 'metox_e', 'metox__R_c', 'metox__R_e', 'mnl_c', 'motre_c', 'malttre_c', 'g1p_B_c', 'uaagmda_e', '5mdr1p_c', 'mucl_c', 'CCbuttc_c', 'm_xyl_c', 'm_xyl_e', 'm_xyl_p', 'mssg_c', 'n2_c', 'nh4oh_c', 'rdxo_c', 'rdxr_c', 'ppco_p', 'ppcr_p', 'udcpo5_p', 'udcpo4_c', 'udcpo5_c', 'udcdpgalrmnman_c', 'udcdpgal_c', 'udcdpgalrmn_c', '2oxpaccoa_c', '3oxdhscoa_c', 'ssaltpp_c', 'rephaccoa_c', 'adhlam_c', 'phthiocerol_c', 'pdima_c', 'pdima_e', 'phdca_e', 'phthdl_c', 'prepphth_c', 'pphthdl_c', 'pphthiocerol_c', 'ppdima_c', 'ppdima_e', 'prephthACP_c', 'prepphthACP_c', 'p_xyl_c', 'p_xyl_e', 'p_xyl_p', 'salchs4_p', 'scl2_c', 's_e', 'sula_e', 'dtdp4d6dm_c', 'vanlt_c', 'vanlt_p', 'vanln_p', 'xylan4_e', 'xyl3_c', 'xyl3_e', 'xylb_c', 'xylb_e']\n"
     ]
    }
   ],
   "source": [
    "i = 0\n",
    "rem_list = []\n",
    "for m in cmodel.metabolites:\n",
    "    if m.formula == '':\n",
    "        i += 1\n",
    "        rem_list.append(m.id)\n",
    "#        print(m.id,m.formula)\n",
    "print(i)\n",
    "print(rem_list)"
   ]
  },
  {
   "cell_type": "code",
   "execution_count": 208,
   "metadata": {},
   "outputs": [
    {
     "name": "stdout",
     "output_type": "stream",
     "text": [
      "['dkmpp', 'Lcyst', '2dhglcn', '6p2dhglcn', '2dhglcn', 'drib', 'hco3', '2hh24dd', '4h2kpi', '24dhhed', '2hxmp', '2hxmp', '2ins', '2mb2coa', '2pglyc', '34dhpha', '34dhbz', '34dhbz', '34dhcinm', '34dhcinm', '34dhcinm', '5cmhmsa', 'hgentis', 'R_3hdcoa', 'R_3hddcoa', 'R_3hcddec5ecoa', 'R_3hmrscoa', 'R_3hcmrs7ecoa', 'R_3hhcoa', 'R_3hocoa', 'dhcinnm', '3hoxpac', 'dhpppn', '3mb', '3mb', '3mb', '3mbzald', '3mbzalc', 'm_tol', 'cchoxod', '3mcat', '3oxoadp', '3oxoadp', 'phaccoa', '5cmhm', '4cml', '5odhf2a', '4hbald', '4hbald', '4hba', '4hbutcoa', 'vaccoa', '4hbzcoa', 'benzcoa', 'fdxo_42', 'fdxr_42', '4hbz', '4hbz', '4mbzald', '4mbzalc', 'p_tol', 'hmccms', '4mcat', 'op4en', 'oxalc', '2hchd', '2omcm', '2hmc', 'hmccm', '5cohe', '5oxpro', 'salcn6p', 'abt__L', 'dccoa', 'ddcoa', 'actn__R', 'co', 'achms', '2mbcoa', 'trans_dd2coa', 'ibcoa', '2mp2coa', 'orn__L', 'diact', 'actn__R', 'acysbmn', 'acysbmn', 'ad', 'ad', 'pa160190', 'pa190190', 'sdhlam', 'btoh', 'pac', 'amacald', 'hxal', '4gudbutn', 'mqn6', 'mql7', '5apentam', 'nh3', 'arachcoa', 'arach', 'arachACP', '5g2oxpt', 'aso4', 'aso4', 'mql6', 'bz', 'hco3', 'cellb', 'madg', 'mbdg', 'msh', 'bmnmsh', 'bmn', 'bmn', 'btd_RR', 's', 'buts', 'buts', 'bz12diol', 'bzalc', 'bzal', 'catechol', 'bzsuccoa', 'phitcoa', 'bzsucc', 'tol', 'bz', 'ivcoa', '34dhbald', 'caffcoa', 'fdxox', 'fdxrd', '2hmcnsad', 'ccmuac', 'pqh2', 'pq', 'ficytc6', 'focytc6', 'cdpc16c19g', 'cdpc19c19g', 'pa_Hp', 'cdpdag_HP', '5pg35pg', 'cdp4dh6doglc', 'cdp4dh36ddglc', 'cdpabeq', 'cdpglc', 'ptd1ino160', 'chols', 'chols', 'cigam', 'igam', 'fer', 'fdox', 'fdred', 'co', '4crsol', '4crsol', 'cro4', 'cro4', 'ctbt', 'focytc', 'ficytc', 'q', 'qh2', 'ficytC', 'focytC', 'mqn7', 'cysth__L', '5mcsn', '5d4dglcr', 'decdp_tb', 'decdp', 'fdxo_2_2', 'dh3mchc', 'dh4mchc', '2o3mpt', '23dhbzs2', 'hkntd', 'fol', '2ahhmp', '2dhphaccoa', '25dhpp', 'C100mclPHA', 'mclPHAg', 'C120mclPHA', 'C121mclPHA', 'C140mclPHA', 'C141mclPHA', 'C60mclPHA', 'C80mclPHA', '3hbycoa', '3hmbcoa', 'entermg', 'salchs4', 'eths', 'eths', 'phdca', 'phdcacoa', 'prephthcoa', 'prephth', 'mbhn', 'dmlgnc', 'tmhexc', 'tamocta', 'phdcaACP', 'ferulcoa', 'vanln', 'fmnRD', 'hexs', 'sula', 'istnt', 'fe3dcit', 'fer', 'fer', 'forglu', 'frmd', '2ahhmd', '4fumacac', 'g6p_B', 'galman4', 'galman4', 'galman6', 'galman6', 'alpro', 'lpro', 'dhlpro', 'gdbtal', 'gg4abut', 'ggbutal', 'gluala', 'ggptrc', 'glcman4', 'glcman4', 'glcman6', 'glcman6', '2h3opp', 'ghhlipa', 'xyl4', 'xylan4', 'glucan4', 'glucan6', 'glucan6', 'glucan4', 'gm1lipa', 'hghhlipa', 'hghhlipa', 'gm1lipa', 'h2co3', '2maacoa', 'dhlplarg', 'lplarg', 'hexs', '4mlacac', '2ohed', 'mmtsa', 'hkndd', 'hmgcoa', 'hmpscoa', '4h2opntn', '4hoxoh', 'hqn', 'istnt', 'Lcyst', 'lmn2', 'lmn2', 'lmn30', 'malthp', 'manb', 'mantr', 'manttr', 'manttr', '5mdru1p', 'sbt__D', 'metox', 'metox', 'metox__R', 'metox__R', 'mnl', 'motre', 'malttre', 'g1p_B', 'uaagmda', '5mdr1p', 'mucl', 'CCbuttc', 'm_xyl', 'm_xyl', 'm_xyl', 'mssg', 'n2', 'nh4oh', 'rdxo', 'rdxr', 'ppco', 'ppcr', 'udcpo5', 'udcpo4', 'udcpo5', 'udcdpgalrmnman', 'udcdpgal', 'udcdpgalrmn', '2oxpaccoa', '3oxdhscoa', 'ssaltpp', 'rephaccoa', 'adhlam', 'phthiocerol', 'pdima', 'pdima', 'phdca', 'phthdl', 'prepphth', 'pphthdl', 'pphthiocerol', 'ppdima', 'ppdima', 'prephthACP', 'prepphthACP', 'p_xyl', 'p_xyl', 'p_xyl', 'salchs4', 'scl2', 's', 'sula', 'dtdp4d6dm', 'vanlt', 'vanlt', 'vanln', 'xylan4', 'xyl3', 'xyl3', 'xylb', 'xylb']\n"
     ]
    }
   ],
   "source": [
    "for i, obj in enumerate(rem_list):\n",
    "    rem_list[i] = rem_list[i].replace('_c','')\n",
    "    rem_list[i] = rem_list[i].replace('_p','')\n",
    "    rem_list[i] = rem_list[i].replace('_e','')\n",
    "    \n",
    "print(rem_list)"
   ]
  },
  {
   "cell_type": "code",
   "execution_count": 212,
   "metadata": {},
   "outputs": [
    {
     "name": "stdout",
     "output_type": "stream",
     "text": [
      "['dkmpp', 'Lcyst', '2dhglcn', '6p2dhglcn', 'drib', 'hco3', '2hh24dd', '4h2kpi', '24dhhed', '2hxmp', '2ins', '2mb2coa', '2pglyc', '34dhpha', '34dhbz', '34dhcinm', '5cmhmsa', 'hgentis', 'R_3hdcoa', 'R_3hddcoa', 'R_3hcddec5ecoa', 'R_3hmrscoa', 'R_3hcmrs7ecoa', 'R_3hhcoa', 'R_3hocoa', 'dhcinnm', '3hoxpac', 'dhpppn', '3mb', '3mbzald', '3mbzalc', 'm_tol', 'cchoxod', '3mcat', '3oxoadp', 'phaccoa', '5cmhm', '4cml', '5odhf2a', '4hbald', '4hba', '4hbutcoa', 'vaccoa', '4hbzcoa', 'benzcoa', 'fdxo_42', 'fdxr_42', '4hbz', '4mbzald', '4mbzalc', 'p_tol', 'hmccms', '4mcat', 'op4en', 'oxalc', '2hchd', '2omcm', '2hmc', 'hmccm', '5cohe', '5oxpro', 'salcn6p', 'abt__L', 'dccoa', 'ddcoa', 'actn__R', 'co', 'achms', '2mbcoa', 'trans_dd2coa', 'ibcoa', '2mp2coa', 'orn__L', 'diact', 'acysbmn', 'ad', 'pa160190', 'pa190190', 'sdhlam', 'btoh', 'pac', 'amacald', 'hxal', '4gudbutn', 'mqn6', 'mql7', '5apentam', 'nh3', 'arachcoa', 'arach', 'arachACP', '5g2oxpt', 'aso4', 'mql6', 'bz', 'cellb', 'madg', 'mbdg', 'msh', 'bmnmsh', 'bmn', 'btd_RR', 's', 'buts', 'bz12diol', 'bzalc', 'bzal', 'catechol', 'bzsuccoa', 'phitcoa', 'bzsucc', 'tol', 'ivcoa', '34dhbald', 'caffcoa', 'fdxox', 'fdxrd', '2hmcnsad', 'ccmuac', 'pqh2', 'pq', 'ficytc6', 'focytc6', 'cdpc16c19g', 'cdpc19c19g', 'pa_Hp', 'cdpdag_HP', '5pg35pg', 'cdp4dh6doglc', 'cdp4dh36ddglc', 'cdpabeq', 'cdpglc', 'ptd1ino160', 'chols', 'cigam', 'igam', 'fer', 'fdox', 'fdred', '4crsol', 'cro4', 'ctbt', 'focytc', 'ficytc', 'q', 'qh2', 'ficytC', 'focytC', 'mqn7', 'cysth__L', '5mcsn', '5d4dglcr', 'decdp_tb', 'decdp', 'fdxo_2_2', 'dh3mchc', 'dh4mchc', '2o3mpt', '23dhbzs2', 'hkntd', 'fol', '2ahhmp', '2dhphaccoa', '25dhpp', 'C100mclPHA', 'mclPHAg', 'C120mclPHA', 'C121mclPHA', 'C140mclPHA', 'C141mclPHA', 'C60mclPHA', 'C80mclPHA', '3hbycoa', '3hmbcoa', 'entermg', 'salchs4', 'eths', 'phdca', 'phdcacoa', 'prephthcoa', 'prephth', 'mbhn', 'dmlgnc', 'tmhexc', 'tamocta', 'phdcaACP', 'ferulcoa', 'vanln', 'fmnRD', 'hexs', 'sula', 'istnt', 'fe3dcit', 'forglu', 'frmd', '2ahhmd', '4fumacac', 'g6p_B', 'galman4', 'galman6', 'alpro', 'lpro', 'dhlpro', 'gdbtal', 'gg4abut', 'ggbutal', 'gluala', 'ggptrc', 'glcman4', 'glcman6', '2h3opp', 'ghhlipa', 'xyl4', 'xylan4', 'glucan4', 'glucan6', 'gm1lipa', 'hghhlipa', 'h2co3', '2maacoa', 'dhlplarg', 'lplarg', '4mlacac', '2ohed', 'mmtsa', 'hkndd', 'hmgcoa', 'hmpscoa', '4h2opntn', '4hoxoh', 'hqn', 'lmn2', 'lmn30', 'malthp', 'manb', 'mantr', 'manttr', '5mdru1p', 'sbt__D', 'metox', 'metox__R', 'mnl', 'motre', 'malttre', 'g1p_B', 'uaagmda', '5mdr1p', 'mucl', 'CCbuttc', 'm_xyl', 'mssg', 'n2', 'nh4oh', 'rdxo', 'rdxr', 'ppco', 'ppcr', 'udcpo5', 'udcpo4', 'udcdpgalrmnman', 'udcdpgal', 'udcdpgalrmn', '2oxpaccoa', '3oxdhscoa', 'ssaltpp', 'rephaccoa', 'adhlam', 'phthiocerol', 'pdima', 'phthdl', 'prepphth', 'pphthdl', 'pphthiocerol', 'ppdima', 'prephthACP', 'prepphthACP', 'p_xyl', 'scl2', 'dtdp4d6dm', 'vanlt', 'xyl3', 'xylb']\n"
     ]
    }
   ],
   "source": [
    "rem_list2 = []\n",
    "[rem_list2.append(x) for x in rem_list if x not in rem_list2]\n",
    "print(rem_list2)"
   ]
  },
  {
   "cell_type": "code",
   "execution_count": 224,
   "metadata": {},
   "outputs": [
    {
     "name": "stdout",
     "output_type": "stream",
     "text": [
      "dkmpp C6H9O6PS\n",
      "Lcyst C3H6NO5S\n",
      "2dhglcn C6H9O7\n",
      "drib C5H10O4\n",
      "2hh24dd C7H6O5\n",
      "4h2kpi C7H8O6\n",
      "24dhhed C7H8O6\n",
      "2hxmp C7H8O2\n",
      "2ins C6H10O6\n",
      "2mb2coa C26H38N7O17P3S\n",
      "2pglyc C2H2O6P\n",
      "34dhbz C7H5O4\n",
      "34dhcinm C9H7O4\n",
      "5cmhmsa C8H6O6\n",
      "hgentis C8H7O4\n",
      "R_3hdcoa C31H50N7O18P3S\n",
      "R_3hddcoa C33H54N7O18P3S\n",
      "R_3hcddec5ecoa C33H52N7O18P3S\n",
      "R_3hmrscoa C35H58N7O18P3S\n",
      "R_3hcmrs7ecoa C35H56N7O18P3S\n",
      "R_3hhcoa C27H42N7O18P3S\n",
      "R_3hocoa C29H46N7O18P3S\n",
      "dhcinnm C9H7O4\n",
      "3hoxpac C8H8O3\n",
      "dhpppn C9H9O4\n",
      "3mb C5H9O2\n",
      "3mbzald C8H8O\n",
      "3mbzalc C8H10O\n",
      "m_tol C8H7O2\n",
      "cchoxod C7H7O4\n",
      "3mcat C7H8O2\n",
      "3oxoadp C6H6O5\n",
      "phaccoa C29H38N7O17P3S\n",
      "5cmhm C8H5O7\n",
      "5odhf2a C6H5O4\n",
      "4hbald C7H6O2\n",
      "4hba C7H8O2\n",
      "4hbutcoa C25H38N7O18P3S\n",
      "vaccoa C25H36N7O17P3S\n",
      "4hbzcoa C28H36N7O18P3S\n",
      "benzcoa C28H40N7O17P3S\n",
      "4hbz C7H5O3\n",
      "4mbzald C8H8O\n",
      "4mbzalc C8H10O\n",
      "p_tol C8H7O2\n",
      "hmccms C7H7O4\n",
      "4mcat C7H8O2\n",
      "op4en C5H5O3\n",
      "oxalc C6H4O5\n",
      "2hchd C6H7O3\n",
      "2omcm C7H6O5\n",
      "2hmc C6H4O5\n",
      "hmccm C7H6O5\n",
      "5cohe C8H5O7\n",
      "5oxpro C5H6NO3\n",
      "abt__L C5H12O5\n",
      "dccoa C31H50N7O17P3S\n",
      "ddcoa C33H54N7O17P3S\n",
      "actn__R C4H8O2\n",
      "co CO\n",
      "achms C6H11NO4\n",
      "2mbcoa C26H40N7O17P3S\n",
      "trans_dd2coa C33H52N7O17P3S\n",
      "ibcoa C25H38N7O17P3S\n",
      "2mp2coa C25H36N7O17P3S\n",
      "orn__L C5H13N2O2\n",
      "acysbmn C15H18N3O5S\n",
      "pa160190 C38H73O8P\n",
      "pa190190 C41H79O8P\n",
      "sdhlam C12H20NO4S2\n",
      "btoh C4H10O\n",
      "pac C8H7O2\n",
      "amacald C2H5NO\n",
      "hxal C6H12O\n",
      "4gudbutn C5H11N3O2\n",
      "mqn6 C41H56O2\n",
      "mql7 C46H66O2\n",
      "5apentam C5H12N2O\n",
      "nh3 H3N\n",
      "arachcoa C41H70N7O17P3S\n",
      "arach C20H39O2\n",
      "arachACP C31H59N2O8PRS\n",
      "5g2oxpt C6H11N3O3\n",
      "aso4 AsO4\n",
      "mql6 C41H58O2\n",
      "bz C7H5O2\n",
      "cellb C12H22O11\n",
      "madg C7H14O6\n",
      "mbdg C7H14O6\n",
      "msh C17H30N2O12S\n",
      "bmnmsh C27H40N4O14S\n",
      "bmn C10H12N2O2\n",
      "btd_RR C4H10O2\n",
      "s S\n",
      "buts C4H9O3S\n",
      "bz12diol C7H7O4\n",
      "bzalc C7H8O\n",
      "bzal C7H6O\n",
      "catechol C6H6O2\n",
      "bzsuccoa C32H41N7O19P3S\n",
      "phitcoa C32H39N7O19P3S\n",
      "bzsucc C11H10O4\n",
      "tol C7H8\n",
      "ivcoa C26H40N7O17P3S\n",
      "34dhbald C7H6O3\n",
      "caffcoa C30H38N7O19P3S\n",
      "2hmcnsad C6H6O4\n",
      "ccmuac C6H4O4\n",
      "ficytc6 R\n",
      "focytc6 R\n",
      "cdpc16c19g C47H85N3O15P2\n",
      "cdpc19c19g C50H91N3O15P2\n",
      "pa_Hp C36H67O8P\n",
      "cdpdag_HP C45H79N3O15P2\n",
      "5pg35pg C20H23N10O15P2\n",
      "cdp4dh6doglc C15H21N3O15P2\n",
      "cdp4dh36ddglc C15H21N3O14P2\n",
      "cdpabeq C15H23N3O14P2\n",
      "cdpglc C15H23N3O16P2\n",
      "ptd1ino160 C41H78O13P\n",
      "chols C5H13NO4S\n",
      "cigam C15H28N2O11S\n",
      "igam C12H24NO10\n",
      "fer C10H9O4\n",
      "fdox Fe8S8X\n",
      "4crsol C7H8O\n",
      "cro4 CrO4\n",
      "ctbt C7H13NO2\n",
      "q C14H18O4\n",
      "qh2 C14H20O4\n",
      "mqn7 C46H64O2\n",
      "5mcsn C5H7N3O\n",
      "5d4dglcr C6H6O7\n",
      "decdp_tb C50H81O7P2\n",
      "decdp C50H81O7P2\n",
      "fdxo_2_2 Fe2S2X\n",
      "dh3mchc C8H9O4\n",
      "dh4mchc C8H9O4\n",
      "2o3mpt C6H9O3\n",
      "23dhbzs2 C20H20N2O11\n",
      "hkntd C9H6O6\n",
      "2ahhmp C7H9N5O2\n",
      "2dhphaccoa C29H40N7O19P3S\n",
      "25dhpp C9H14N5O8P\n",
      "C100mclPHA C10H18O2R\n",
      "mclPHAg R\n",
      "C120mclPHA C12H22O2R\n",
      "C121mclPHA C12H20O2R\n",
      "C140mclPHA C14H26O2R\n",
      "C141mclPHA C14H24O2R\n",
      "C60mclPHA C6H10O2R\n",
      "C80mclPHA C8H14O2R\n",
      "3hbycoa C25H38N7O18P3S\n",
      "3hmbcoa C26H40N7O18P3S\n",
      "entermg C36H37N3O20\n",
      "salchs4 C42H47N3O25\n",
      "eths C2H5O3S\n",
      "phdca C23H37O3\n",
      "phdcacoa C44H68N7O18P3S\n",
      "prephthcoa C53H92N7O20P3S\n",
      "prephth C32H61O5\n",
      "mbhn C23H45O2\n",
      "dmlgnc C26H51O2\n",
      "tmhexc C29H57O2\n",
      "tamocta C32H63O2\n",
      "phdcaACP C34H57N2O9PRS\n",
      "ferulcoa C31H40N7O19P3S\n",
      "vanln C8H8O3\n",
      "fmnRD C17H21N4O9P\n",
      "hexs C6H13O3S\n",
      "sula C2H2O5S\n",
      "istnt C2H5O4S\n",
      "fe3dcit C12H10FeO14\n",
      "4fumacac C8H6O6\n",
      "g6p_B C6H11O9P\n",
      "galman4 C24H42O21\n",
      "galman6 C36H62O31\n",
      "alpro CH6NS2X\n",
      "lpro S2X\n",
      "dhlpro H2S2X\n",
      "gdbtal C5H12N3O\n",
      "gg4abut C9H15O5N2\n",
      "ggbutal C9H16O4N2\n",
      "gluala C8H13N2O5\n",
      "ggptrc C9H20O3N3\n",
      "glcman4 C24H42O21\n",
      "glcman6 C36H62O31\n",
      "2h3opp C3H3O4\n",
      "ghhlipa C130H230N2O56P2\n",
      "xyl4 C20H34O17\n",
      "xylan4 C26H41O23\n",
      "glucan4 C24H42O21\n",
      "glucan6 C36H62O31\n",
      "gm1lipa C142H253N3O65P2\n",
      "hghhlipa C137H242N2O62P2\n",
      "2maacoa C26H38N7O18P3S\n",
      "dhlplarg XH2\n",
      "lplarg X\n",
      "4mlacac C8H6O6\n",
      "2ohed C7H6O5\n",
      "mmtsa C4H5O3\n",
      "hkndd C9H8O6\n",
      "hmpscoa C32H41N7O20P3S\n",
      "4h2opntn C5H7O4\n",
      "4hoxoh C6H9O4\n",
      "hqn C6H6O2\n",
      "lmn2 C12H22O11\n",
      "lmn30 C180H302O151\n",
      "malthp C42H72O36\n",
      "manb C12H22O11\n",
      "mantr C18H32O16\n",
      "manttr C24H42O21\n",
      "5mdru1p C6H11O7PS\n",
      "sbt__D C6H14O6\n",
      "metox C5H11NO3S\n",
      "metox__R C5H11NO3S\n",
      "mnl C6H14O6\n",
      "motre C42H72O36\n",
      "malttre C24H42O21\n",
      "g1p_B C6H11O9P\n",
      "uaagmda C95H152N8O28P2\n",
      "5mdr1p C6H11O7PS\n",
      "mucl C6H5O4\n",
      "CCbuttc C7H3O6\n",
      "m_xyl C8H10\n",
      "mssg C34H58N4O24S2\n",
      "n2 N2\n",
      "nh4oh H5NO\n",
      "rdxo Fe1S0\n",
      "rdxr Fe1S0\n",
      "ppco C42H54FeN8O6S2\n",
      "ppcr C42H54FeN8O6S2\n",
      "udcpo5 C81H134O25P2\n",
      "udcpo4 C79H132O24P2\n",
      "udcdpgalrmnman C73H120O21P2\n",
      "udcdpgal C61H100O12P2\n",
      "udcdpgalrmn C67H110O16P2\n",
      "2oxpaccoa C29H38N7O18P3S\n",
      "3oxdhscoa C29H39N7O20P3S\n",
      "ssaltpp C16H21N4O10P2S\n",
      "rephaccoa C29H38N7O18P3S\n",
      "adhlam C10H19NO2S2\n",
      "phthiocerol C32H66O3\n",
      "pdima C96H190O5\n",
      "phthdl C31H62O3\n",
      "prepphth C35H59O6\n",
      "pphthdl C34H60O4\n",
      "pphthiocerol C35H64O4\n",
      "ppdima C99H188O6\n",
      "prephthACP C43H81N2O11PRS\n",
      "prepphthACP C46H79N2O12PRS\n",
      "p_xyl C8H10\n",
      "scl2 C42H38N4O16\n",
      "dtdp4d6dm C16H22N2O15P2\n",
      "vanlt C8H7O4\n",
      "xyl3 C15H26O13\n",
      "xylb C10H18O9\n"
     ]
    }
   ],
   "source": [
    "rem_list2_dict = {}\n",
    "rem_list3 = []\n",
    "for x in rem_list2:\n",
    "    x_url = 'http://bigg.ucsd.edu/api/v2/universal/metabolites/' + x\n",
    "    json_x = requests.get(x_url)\n",
    "    for y in json_x.json():\n",
    "        if y == 'formulae':\n",
    "            if len(json_x.json()[y]) == 1:\n",
    "                print(x,json_x.json()[y][0])\n",
    "                rem_list2_dict[x] = json_x.json()[y][0]\n",
    "            else:\n",
    "                rem_list3.append(x)        "
   ]
  },
  {
   "cell_type": "code",
   "execution_count": 226,
   "metadata": {},
   "outputs": [
    {
     "name": "stdout",
     "output_type": "stream",
     "text": [
      "{'dkmpp': 'C6H9O6PS', 'Lcyst': 'C3H6NO5S', '2dhglcn': 'C6H9O7', 'drib': 'C5H10O4', '2hh24dd': 'C7H6O5', '4h2kpi': 'C7H8O6', '24dhhed': 'C7H8O6', '2hxmp': 'C7H8O2', '2ins': 'C6H10O6', '2mb2coa': 'C26H38N7O17P3S', '2pglyc': 'C2H2O6P', '34dhbz': 'C7H5O4', '34dhcinm': 'C9H7O4', '5cmhmsa': 'C8H6O6', 'hgentis': 'C8H7O4', 'R_3hdcoa': 'C31H50N7O18P3S', 'R_3hddcoa': 'C33H54N7O18P3S', 'R_3hcddec5ecoa': 'C33H52N7O18P3S', 'R_3hmrscoa': 'C35H58N7O18P3S', 'R_3hcmrs7ecoa': 'C35H56N7O18P3S', 'R_3hhcoa': 'C27H42N7O18P3S', 'R_3hocoa': 'C29H46N7O18P3S', 'dhcinnm': 'C9H7O4', '3hoxpac': 'C8H8O3', 'dhpppn': 'C9H9O4', '3mb': 'C5H9O2', '3mbzald': 'C8H8O', '3mbzalc': 'C8H10O', 'm_tol': 'C8H7O2', 'cchoxod': 'C7H7O4', '3mcat': 'C7H8O2', '3oxoadp': 'C6H6O5', 'phaccoa': 'C29H38N7O17P3S', '5cmhm': 'C8H5O7', '5odhf2a': 'C6H5O4', '4hbald': 'C7H6O2', '4hba': 'C7H8O2', '4hbutcoa': 'C25H38N7O18P3S', 'vaccoa': 'C25H36N7O17P3S', '4hbzcoa': 'C28H36N7O18P3S', 'benzcoa': 'C28H40N7O17P3S', '4hbz': 'C7H5O3', '4mbzald': 'C8H8O', '4mbzalc': 'C8H10O', 'p_tol': 'C8H7O2', 'hmccms': 'C7H7O4', '4mcat': 'C7H8O2', 'op4en': 'C5H5O3', 'oxalc': 'C6H4O5', '2hchd': 'C6H7O3', '2omcm': 'C7H6O5', '2hmc': 'C6H4O5', 'hmccm': 'C7H6O5', '5cohe': 'C8H5O7', '5oxpro': 'C5H6NO3', 'abt__L': 'C5H12O5', 'dccoa': 'C31H50N7O17P3S', 'ddcoa': 'C33H54N7O17P3S', 'actn__R': 'C4H8O2', 'co': 'CO', 'achms': 'C6H11NO4', '2mbcoa': 'C26H40N7O17P3S', 'trans_dd2coa': 'C33H52N7O17P3S', 'ibcoa': 'C25H38N7O17P3S', '2mp2coa': 'C25H36N7O17P3S', 'orn__L': 'C5H13N2O2', 'acysbmn': 'C15H18N3O5S', 'pa160190': 'C38H73O8P', 'pa190190': 'C41H79O8P', 'sdhlam': 'C12H20NO4S2', 'btoh': 'C4H10O', 'pac': 'C8H7O2', 'amacald': 'C2H5NO', 'hxal': 'C6H12O', '4gudbutn': 'C5H11N3O2', 'mqn6': 'C41H56O2', 'mql7': 'C46H66O2', '5apentam': 'C5H12N2O', 'nh3': 'H3N', 'arachcoa': 'C41H70N7O17P3S', 'arach': 'C20H39O2', 'arachACP': 'C31H59N2O8PRS', '5g2oxpt': 'C6H11N3O3', 'aso4': 'AsO4', 'mql6': 'C41H58O2', 'bz': 'C7H5O2', 'cellb': 'C12H22O11', 'madg': 'C7H14O6', 'mbdg': 'C7H14O6', 'msh': 'C17H30N2O12S', 'bmnmsh': 'C27H40N4O14S', 'bmn': 'C10H12N2O2', 'btd_RR': 'C4H10O2', 's': 'S', 'buts': 'C4H9O3S', 'bz12diol': 'C7H7O4', 'bzalc': 'C7H8O', 'bzal': 'C7H6O', 'catechol': 'C6H6O2', 'bzsuccoa': 'C32H41N7O19P3S', 'phitcoa': 'C32H39N7O19P3S', 'bzsucc': 'C11H10O4', 'tol': 'C7H8', 'ivcoa': 'C26H40N7O17P3S', '34dhbald': 'C7H6O3', 'caffcoa': 'C30H38N7O19P3S', '2hmcnsad': 'C6H6O4', 'ccmuac': 'C6H4O4', 'ficytc6': 'R', 'focytc6': 'R', 'cdpc16c19g': 'C47H85N3O15P2', 'cdpc19c19g': 'C50H91N3O15P2', 'pa_Hp': 'C36H67O8P', 'cdpdag_HP': 'C45H79N3O15P2', '5pg35pg': 'C20H23N10O15P2', 'cdp4dh6doglc': 'C15H21N3O15P2', 'cdp4dh36ddglc': 'C15H21N3O14P2', 'cdpabeq': 'C15H23N3O14P2', 'cdpglc': 'C15H23N3O16P2', 'ptd1ino160': 'C41H78O13P', 'chols': 'C5H13NO4S', 'cigam': 'C15H28N2O11S', 'igam': 'C12H24NO10', 'fer': 'C10H9O4', 'fdox': 'Fe8S8X', '4crsol': 'C7H8O', 'cro4': 'CrO4', 'ctbt': 'C7H13NO2', 'q': 'C14H18O4', 'qh2': 'C14H20O4', 'mqn7': 'C46H64O2', '5mcsn': 'C5H7N3O', '5d4dglcr': 'C6H6O7', 'decdp_tb': 'C50H81O7P2', 'decdp': 'C50H81O7P2', 'fdxo_2_2': 'Fe2S2X', 'dh3mchc': 'C8H9O4', 'dh4mchc': 'C8H9O4', '2o3mpt': 'C6H9O3', '23dhbzs2': 'C20H20N2O11', 'hkntd': 'C9H6O6', '2ahhmp': 'C7H9N5O2', '2dhphaccoa': 'C29H40N7O19P3S', '25dhpp': 'C9H14N5O8P', 'C100mclPHA': 'C10H18O2R', 'mclPHAg': 'R', 'C120mclPHA': 'C12H22O2R', 'C121mclPHA': 'C12H20O2R', 'C140mclPHA': 'C14H26O2R', 'C141mclPHA': 'C14H24O2R', 'C60mclPHA': 'C6H10O2R', 'C80mclPHA': 'C8H14O2R', '3hbycoa': 'C25H38N7O18P3S', '3hmbcoa': 'C26H40N7O18P3S', 'entermg': 'C36H37N3O20', 'salchs4': 'C42H47N3O25', 'eths': 'C2H5O3S', 'phdca': 'C23H37O3', 'phdcacoa': 'C44H68N7O18P3S', 'prephthcoa': 'C53H92N7O20P3S', 'prephth': 'C32H61O5', 'mbhn': 'C23H45O2', 'dmlgnc': 'C26H51O2', 'tmhexc': 'C29H57O2', 'tamocta': 'C32H63O2', 'phdcaACP': 'C34H57N2O9PRS', 'ferulcoa': 'C31H40N7O19P3S', 'vanln': 'C8H8O3', 'fmnRD': 'C17H21N4O9P', 'hexs': 'C6H13O3S', 'sula': 'C2H2O5S', 'istnt': 'C2H5O4S', 'fe3dcit': 'C12H10FeO14', '4fumacac': 'C8H6O6', 'g6p_B': 'C6H11O9P', 'galman4': 'C24H42O21', 'galman6': 'C36H62O31', 'alpro': 'CH6NS2X', 'lpro': 'S2X', 'dhlpro': 'H2S2X', 'gdbtal': 'C5H12N3O', 'gg4abut': 'C9H15O5N2', 'ggbutal': 'C9H16O4N2', 'gluala': 'C8H13N2O5', 'ggptrc': 'C9H20O3N3', 'glcman4': 'C24H42O21', 'glcman6': 'C36H62O31', '2h3opp': 'C3H3O4', 'ghhlipa': 'C130H230N2O56P2', 'xyl4': 'C20H34O17', 'xylan4': 'C26H41O23', 'glucan4': 'C24H42O21', 'glucan6': 'C36H62O31', 'gm1lipa': 'C142H253N3O65P2', 'hghhlipa': 'C137H242N2O62P2', '2maacoa': 'C26H38N7O18P3S', 'dhlplarg': 'XH2', 'lplarg': 'X', '4mlacac': 'C8H6O6', '2ohed': 'C7H6O5', 'mmtsa': 'C4H5O3', 'hkndd': 'C9H8O6', 'hmpscoa': 'C32H41N7O20P3S', '4h2opntn': 'C5H7O4', '4hoxoh': 'C6H9O4', 'hqn': 'C6H6O2', 'lmn2': 'C12H22O11', 'lmn30': 'C180H302O151', 'malthp': 'C42H72O36', 'manb': 'C12H22O11', 'mantr': 'C18H32O16', 'manttr': 'C24H42O21', '5mdru1p': 'C6H11O7PS', 'sbt__D': 'C6H14O6', 'metox': 'C5H11NO3S', 'metox__R': 'C5H11NO3S', 'mnl': 'C6H14O6', 'motre': 'C42H72O36', 'malttre': 'C24H42O21', 'g1p_B': 'C6H11O9P', 'uaagmda': 'C95H152N8O28P2', '5mdr1p': 'C6H11O7PS', 'mucl': 'C6H5O4', 'CCbuttc': 'C7H3O6', 'm_xyl': 'C8H10', 'mssg': 'C34H58N4O24S2', 'n2': 'N2', 'nh4oh': 'H5NO', 'rdxo': 'Fe1S0', 'rdxr': 'Fe1S0', 'ppco': 'C42H54FeN8O6S2', 'ppcr': 'C42H54FeN8O6S2', 'udcpo5': 'C81H134O25P2', 'udcpo4': 'C79H132O24P2', 'udcdpgalrmnman': 'C73H120O21P2', 'udcdpgal': 'C61H100O12P2', 'udcdpgalrmn': 'C67H110O16P2', '2oxpaccoa': 'C29H38N7O18P3S', '3oxdhscoa': 'C29H39N7O20P3S', 'ssaltpp': 'C16H21N4O10P2S', 'rephaccoa': 'C29H38N7O18P3S', 'adhlam': 'C10H19NO2S2', 'phthiocerol': 'C32H66O3', 'pdima': 'C96H190O5', 'phthdl': 'C31H62O3', 'prepphth': 'C35H59O6', 'pphthdl': 'C34H60O4', 'pphthiocerol': 'C35H64O4', 'ppdima': 'C99H188O6', 'prephthACP': 'C43H81N2O11PRS', 'prepphthACP': 'C46H79N2O12PRS', 'p_xyl': 'C8H10', 'scl2': 'C42H38N4O16', 'dtdp4d6dm': 'C16H22N2O15P2', 'vanlt': 'C8H7O4', 'xyl3': 'C15H26O13', 'xylb': 'C10H18O9'}\n",
      "['6p2dhglcn', 'hco3', '34dhpha', '4cml', 'fdxo_42', 'fdxr_42', 'salcn6p', 'diact', 'ad', 'fdxox', 'fdxrd', 'pqh2', 'pq', 'fdred', 'focytc', 'ficytc', 'ficytC', 'focytC', 'cysth__L', 'fol', 'forglu', 'frmd', '2ahhmd', 'h2co3', 'hmgcoa']\n",
      "25\n"
     ]
    }
   ],
   "source": [
    "print(rem_list2_dict)\n",
    "print(rem_list3)\n",
    "print(len(rem_list3))"
   ]
  },
  {
   "cell_type": "code",
   "execution_count": 227,
   "metadata": {},
   "outputs": [],
   "source": [
    "for m in cmodel.metabolites:\n",
    "    obj = m.id\n",
    "    obj = obj.replace('_c','')\n",
    "    obj = obj.replace('_p','')\n",
    "    obj = obj.replace('_e','')\n",
    "    if obj in rem_list2_dict.keys():\n",
    "        m.formula = rem_list2_dict[obj]"
   ]
  },
  {
   "cell_type": "code",
   "execution_count": 231,
   "metadata": {},
   "outputs": [
    {
     "name": "stdout",
     "output_type": "stream",
     "text": [
      "6p2dhglcn_c \n",
      "hco3_e \n",
      "34dhpha_c \n",
      "4cml_c \n",
      "fdxo_42_c \n",
      "fdxr_42_c \n",
      "salcn6p_c \n",
      "diact_c \n",
      "ad_e \n",
      "ad_c \n",
      "hco3_p \n",
      "fdxox_c \n",
      "fdxrd_c \n",
      "pqh2_p \n",
      "pq_p \n",
      "fdred_c \n",
      "focytc_c \n",
      "ficytc_c \n",
      "ficytC_c \n",
      "focytC_c \n",
      "cysth__L_c \n",
      "fol_c \n",
      "forglu_c \n",
      "frmd_c \n",
      "2ahhmd_c \n",
      "h2co3_c \n",
      "hmgcoa_c \n",
      "27\n"
     ]
    }
   ],
   "source": [
    "i = 0\n",
    "for m in cmodel.metabolites:\n",
    "    if m.formula == '':\n",
    "        i += 1\n",
    "        print(m.id, m.formula)\n",
    "print(i)"
   ]
  },
  {
   "cell_type": "code",
   "execution_count": 234,
   "metadata": {},
   "outputs": [
    {
     "name": "stdout",
     "output_type": "stream",
     "text": [
      "PGLCNDH: 6p2dhglcn_c + nadph_c <=> 6pgc_c + 2.0 h_c + nadp_c\n",
      "2DHGLCK: 2dhglcn_c + atp_c + 2.0 h_c --> 6p2dhglcn_c + adp_c\n"
     ]
    }
   ],
   "source": [
    "for r in cmodel.metabolites.get_by_id('6p2dhglcn_c').reactions:\n",
    "    print(r)"
   ]
  },
  {
   "cell_type": "code",
   "execution_count": 238,
   "metadata": {},
   "outputs": [],
   "source": [
    "cmodel.metabolites.get_by_id('6p2dhglcn_c').formula = 'C6H11O10P'\n"
   ]
  },
  {
   "cell_type": "code",
   "execution_count": 239,
   "metadata": {},
   "outputs": [
    {
     "data": {
      "text/plain": [
       "'C6H11O10P'"
      ]
     },
     "execution_count": 239,
     "metadata": {},
     "output_type": "execute_result"
    }
   ],
   "source": [
    "cmodel.metabolites.get_by_id('6p2dhglcn_c').formula"
   ]
  },
  {
   "cell_type": "code",
   "execution_count": 240,
   "metadata": {},
   "outputs": [
    {
     "data": {
      "text/html": [
       "\n",
       "        <table>\n",
       "            <tr>\n",
       "                <td><strong>Metabolite identifier</strong></td><td>hco3_c</td>\n",
       "            </tr><tr>\n",
       "                <td><strong>Name</strong></td><td>Bicarbonate</td>\n",
       "            </tr><tr>\n",
       "                <td><strong>Memory address</strong></td>\n",
       "                <td>0x07f4dc42f2050</td>\n",
       "            </tr><tr>\n",
       "                <td><strong>Formula</strong></td><td>CHO3</td>\n",
       "            </tr><tr>\n",
       "                <td><strong>Compartment</strong></td><td>C_c</td>\n",
       "            </tr><tr>\n",
       "                <td><strong>In 8 reaction(s)</strong></td><td>\n",
       "                    PC, BCT1_syn, CYNTAH, HCO3E, AIRC2, PPCOAC, ACCOAC, CBPS</td>\n",
       "            </tr>\n",
       "        </table>"
      ],
      "text/plain": [
       "<Metabolite hco3_c at 0x7f4dc42f2050>"
      ]
     },
     "execution_count": 240,
     "metadata": {},
     "output_type": "execute_result"
    }
   ],
   "source": [
    "cmodel.metabolites.get_by_id('hco3_c')"
   ]
  },
  {
   "cell_type": "code",
   "execution_count": 241,
   "metadata": {},
   "outputs": [],
   "source": [
    "cmodel.metabolites.get_by_id('hco3_e').formula = cmodel.metabolites.get_by_id('hco3_c').formula\n",
    "cmodel.metabolites.get_by_id('hco3_p').formula = cmodel.metabolites.get_by_id('hco3_c').formula"
   ]
  },
  {
   "cell_type": "code",
   "execution_count": 246,
   "metadata": {},
   "outputs": [
    {
     "data": {
      "text/plain": [
       "0"
      ]
     },
     "execution_count": 246,
     "metadata": {},
     "output_type": "execute_result"
    }
   ],
   "source": [
    "cmodel.metabolites.get_by_id('34dhpha_c').charge"
   ]
  },
  {
   "cell_type": "code",
   "execution_count": 245,
   "metadata": {},
   "outputs": [],
   "source": [
    "cmodel.metabolites.get_by_id('34dhpha_c').formula = 'C8H8O4'"
   ]
  },
  {
   "cell_type": "code",
   "execution_count": 248,
   "metadata": {},
   "outputs": [
    {
     "data": {
      "text/plain": [
       "0"
      ]
     },
     "execution_count": 248,
     "metadata": {},
     "output_type": "execute_result"
    }
   ],
   "source": [
    "cmodel.metabolites.get_by_id('4cml_c').charge"
   ]
  },
  {
   "cell_type": "code",
   "execution_count": 249,
   "metadata": {},
   "outputs": [],
   "source": [
    "cmodel.metabolites.get_by_id('4cml_c').formula = 'C7H6O6'"
   ]
  },
  {
   "cell_type": "code",
   "execution_count": 250,
   "metadata": {},
   "outputs": [
    {
     "data": {
      "text/html": [
       "\n",
       "        <table>\n",
       "            <tr>\n",
       "                <td><strong>Metabolite identifier</strong></td><td>fdxo_42_c</td>\n",
       "            </tr><tr>\n",
       "                <td><strong>Name</strong></td><td>Ferredoxin (oxidized form 4:2)</td>\n",
       "            </tr><tr>\n",
       "                <td><strong>Memory address</strong></td>\n",
       "                <td>0x07f4dc42e0890</td>\n",
       "            </tr><tr>\n",
       "                <td><strong>Formula</strong></td><td></td>\n",
       "            </tr><tr>\n",
       "                <td><strong>Compartment</strong></td><td>C_c</td>\n",
       "            </tr><tr>\n",
       "                <td><strong>In 8 reaction(s)</strong></td><td>\n",
       "                    NADFADOR, IOR2b, FRNDPR2r, VOR1b, HYDFDN2r, NIT1b_1, 4HBZR, MECDPDH4</td>\n",
       "            </tr>\n",
       "        </table>"
      ],
      "text/plain": [
       "<Metabolite fdxo_42_c at 0x7f4dc42e0890>"
      ]
     },
     "execution_count": 250,
     "metadata": {},
     "output_type": "execute_result"
    }
   ],
   "source": [
    "cmodel.metabolites.get_by_id('fdxo_42_c')"
   ]
  },
  {
   "cell_type": "code",
   "execution_count": 251,
   "metadata": {},
   "outputs": [
    {
     "name": "stdout",
     "output_type": "stream",
     "text": [
      "NADFADOR: fadh2_c + fdxr_42_c + 2.0 nad_c <=> fad_c + fdxo_42_c + 2.0 nadh_c\n",
      "IOR2b: coa_c + fdxo_42_c + phpyr_c <=> co2_c + fdxr_42_c + h_c + phaccoa_c\n",
      "FRNDPR2r: fdxr_42_c + h_c + nadh_c + 2.0 nadp_c --> fdxo_42_c + nad_c + 2.0 nadph_c\n",
      "VOR1b: 4mop_c + coa_c + fdxo_42_c <=> co2_c + fdxr_42_c + h_c + ivcoa_c\n",
      "HYDFDN2r: fdxo_42_c + 2.0 h2_c + nadp_c <=> fdxr_42_c + 3.0 h_c + nadph_c\n",
      "NIT1b_1: 16.0 atp_c + 4.0 fdxr_42_c + 16.0 h2o_c + n2_c --> 16.0 adp_c + 4.0 fdxo_42_c + h2_c + 6.0 h_c + 2.0 nh4_c + 16.0 pi_c\n",
      "4HBZR: 4hbzcoa_c + fdxr_42_c + 6.0 h_c --> benzcoa_c + fdxo_42_c + h2o_c\n",
      "MECDPDH4: 2mecdp_c + fdxr_42_c + h_c --> fdxo_42_c + h2mb4p_c + h2o_c\n"
     ]
    }
   ],
   "source": [
    "for r in cmodel.metabolites.get_by_id('fdxo_42_c').reactions:\n",
    "    print(r)"
   ]
  },
  {
   "cell_type": "code",
   "execution_count": 254,
   "metadata": {},
   "outputs": [
    {
     "data": {
      "text/html": [
       "\n",
       "        <table>\n",
       "            <tr>\n",
       "                <td><strong>Name</strong></td>\n",
       "                <td>iAF987</td>\n",
       "            </tr><tr>\n",
       "                <td><strong>Memory address</strong></td>\n",
       "                <td>0x07f4dd441d810</td>\n",
       "            </tr><tr>\n",
       "                <td><strong>Number of metabolites</strong></td>\n",
       "                <td>1109</td>\n",
       "            </tr><tr>\n",
       "                <td><strong>Number of reactions</strong></td>\n",
       "                <td>1285</td>\n",
       "            </tr><tr>\n",
       "                <td><strong>Number of groups</strong></td>\n",
       "                <td>0</td>\n",
       "            </tr><tr>\n",
       "                <td><strong>Objective expression</strong></td>\n",
       "                <td>-0.162090009883159*2AGPEAT120 + 0.162090009883159*2AGPEAT120_reverse_cbf7b - 0.143640740465564*2A...</td>\n",
       "            </tr><tr>\n",
       "                <td><strong>Compartments</strong></td>\n",
       "                <td>cytosol, extracellular space, periplasm</td>\n",
       "            </tr>\n",
       "          </table>"
      ],
      "text/plain": [
       "<Model iAF987 at 0x7f4dd441d810>"
      ]
     },
     "execution_count": 254,
     "metadata": {},
     "output_type": "execute_result"
    }
   ],
   "source": [
    "model4"
   ]
  },
  {
   "cell_type": "code",
   "execution_count": 257,
   "metadata": {},
   "outputs": [
    {
     "data": {
      "text/html": [
       "\n",
       "        <table>\n",
       "            <tr>\n",
       "                <td><strong>Metabolite identifier</strong></td><td>fdxo_42_c</td>\n",
       "            </tr><tr>\n",
       "                <td><strong>Name</strong></td><td>Ferredoxin (oxidized form 4:2)</td>\n",
       "            </tr><tr>\n",
       "                <td><strong>Memory address</strong></td>\n",
       "                <td>0x07f4dd43f4210</td>\n",
       "            </tr><tr>\n",
       "                <td><strong>Formula</strong></td><td>Fe8S8X</td>\n",
       "            </tr><tr>\n",
       "                <td><strong>Compartment</strong></td><td>c</td>\n",
       "            </tr><tr>\n",
       "                <td><strong>In 24 reaction(s)</strong></td><td>\n",
       "                    PPAAFDOR, HDR3, GLUSz, NADFADOR, FRDPPCR2, VOR1b, VOR3b, 4HBZR, ACAFDOR, IOR2b, SULR3, FRNDPR2r, POR3b, OOR2r, BCR6pp, CPPPGOAN2, IOR3b, NIT1b, IORb, CODH4, BUTAFDOR, MECDPDH4, POR, VOR2b</td>\n",
       "            </tr>\n",
       "        </table>"
      ],
      "text/plain": [
       "<Metabolite fdxo_42_c at 0x7f4dd43f4210>"
      ]
     },
     "execution_count": 257,
     "metadata": {},
     "output_type": "execute_result"
    }
   ],
   "source": [
    "model4.metabolites.get_by_id('fdxo_42_c')"
   ]
  },
  {
   "cell_type": "code",
   "execution_count": 258,
   "metadata": {},
   "outputs": [],
   "source": [
    "cmodel.metabolites.get_by_id('fdxo_42_c').formula = model4.metabolites.get_by_id('fdxo_42_c').formula\n",
    "cmodel.metabolites.get_by_id('fdxr_42_c').formula = model4.metabolites.get_by_id('fdxr_42_c').formula"
   ]
  },
  {
   "cell_type": "code",
   "execution_count": 260,
   "metadata": {},
   "outputs": [
    {
     "data": {
      "text/plain": [
       "0"
      ]
     },
     "execution_count": 260,
     "metadata": {},
     "output_type": "execute_result"
    }
   ],
   "source": [
    "cmodel.metabolites.get_by_id('salcn6p_c').charge"
   ]
  },
  {
   "cell_type": "code",
   "execution_count": 261,
   "metadata": {},
   "outputs": [],
   "source": [
    "cmodel.metabolites.get_by_id('salcn6p_c').formula = 'C13H17O10P'"
   ]
  },
  {
   "cell_type": "code",
   "execution_count": 262,
   "metadata": {},
   "outputs": [
    {
     "data": {
      "text/html": [
       "\n",
       "        <table>\n",
       "            <tr>\n",
       "                <td><strong>Metabolite identifier</strong></td><td>diact_c</td>\n",
       "            </tr><tr>\n",
       "                <td><strong>Name</strong></td><td>Diacetyl</td>\n",
       "            </tr><tr>\n",
       "                <td><strong>Memory address</strong></td>\n",
       "                <td>0x07f4dc42cf410</td>\n",
       "            </tr><tr>\n",
       "                <td><strong>Formula</strong></td><td></td>\n",
       "            </tr><tr>\n",
       "                <td><strong>Compartment</strong></td><td>C_c</td>\n",
       "            </tr><tr>\n",
       "                <td><strong>In 3 reaction(s)</strong></td><td>\n",
       "                    ACTDa, DACTt3, ACTD</td>\n",
       "            </tr>\n",
       "        </table>"
      ],
      "text/plain": [
       "<Metabolite diact_c at 0x7f4dc42cf410>"
      ]
     },
     "execution_count": 262,
     "metadata": {},
     "output_type": "execute_result"
    }
   ],
   "source": [
    "cmodel.metabolites.get_by_id('diact_c')"
   ]
  },
  {
   "cell_type": "code",
   "execution_count": 263,
   "metadata": {},
   "outputs": [
    {
     "name": "stdout",
     "output_type": "stream",
     "text": [
      "ACTDa: actn__R_c + nadp_c --> diact_c + h_c + nadph_c\n",
      "DACTt3: diact_c + h_e --> diact_e + h_c\n",
      "ACTD: actn__R_c + nad_c --> diact_c + h_c + nadh_c\n"
     ]
    }
   ],
   "source": [
    "for r in cmodel.metabolites.get_by_id('diact_c').reactions:\n",
    "    print(r)"
   ]
  },
  {
   "cell_type": "code",
   "execution_count": 264,
   "metadata": {},
   "outputs": [],
   "source": [
    "cmodel.metabolites.get_by_id('diact_c').formula = 'C4H6O2'"
   ]
  },
  {
   "cell_type": "code",
   "execution_count": 265,
   "metadata": {},
   "outputs": [
    {
     "data": {
      "text/html": [
       "\n",
       "        <table>\n",
       "            <tr>\n",
       "                <td><strong>Metabolite identifier</strong></td><td>ad_c</td>\n",
       "            </tr><tr>\n",
       "                <td><strong>Name</strong></td><td>Acetamide</td>\n",
       "            </tr><tr>\n",
       "                <td><strong>Memory address</strong></td>\n",
       "                <td>0x07f4dc42cfe10</td>\n",
       "            </tr><tr>\n",
       "                <td><strong>Formula</strong></td><td></td>\n",
       "            </tr><tr>\n",
       "                <td><strong>Compartment</strong></td><td>C_c</td>\n",
       "            </tr><tr>\n",
       "                <td><strong>In 2 reaction(s)</strong></td><td>\n",
       "                    ADtr, AMID4</td>\n",
       "            </tr>\n",
       "        </table>"
      ],
      "text/plain": [
       "<Metabolite ad_c at 0x7f4dc42cfe10>"
      ]
     },
     "execution_count": 265,
     "metadata": {},
     "output_type": "execute_result"
    }
   ],
   "source": [
    "cmodel.metabolites.get_by_id('ad_c')"
   ]
  },
  {
   "cell_type": "code",
   "execution_count": 266,
   "metadata": {},
   "outputs": [],
   "source": [
    "cmodel.metabolites.get_by_id('ad_c').formula = 'C2H5NO'"
   ]
  },
  {
   "cell_type": "code",
   "execution_count": 267,
   "metadata": {},
   "outputs": [],
   "source": [
    "cmodel.metabolites.get_by_id('ad_e').formula = 'C2H5NO'"
   ]
  },
  {
   "cell_type": "code",
   "execution_count": 268,
   "metadata": {},
   "outputs": [
    {
     "data": {
      "text/html": [
       "\n",
       "        <table>\n",
       "            <tr>\n",
       "                <td><strong>Metabolite identifier</strong></td><td>fdxox_c</td>\n",
       "            </tr><tr>\n",
       "                <td><strong>Name</strong></td><td>Oxidized ferredoxin</td>\n",
       "            </tr><tr>\n",
       "                <td><strong>Memory address</strong></td>\n",
       "                <td>0x07f4dc42d5c90</td>\n",
       "            </tr><tr>\n",
       "                <td><strong>Formula</strong></td><td></td>\n",
       "            </tr><tr>\n",
       "                <td><strong>Compartment</strong></td><td>C_c</td>\n",
       "            </tr><tr>\n",
       "                <td><strong>In 2 reaction(s)</strong></td><td>\n",
       "                    OOR3r, FRDO</td>\n",
       "            </tr>\n",
       "        </table>"
      ],
      "text/plain": [
       "<Metabolite fdxox_c at 0x7f4dc42d5c90>"
      ]
     },
     "execution_count": 268,
     "metadata": {},
     "output_type": "execute_result"
    }
   ],
   "source": [
    "cmodel.metabolites.get_by_id('fdxox_c')"
   ]
  },
  {
   "cell_type": "code",
   "execution_count": 269,
   "metadata": {},
   "outputs": [
    {
     "data": {
      "text/plain": [
       "0"
      ]
     },
     "execution_count": 269,
     "metadata": {},
     "output_type": "execute_result"
    }
   ],
   "source": [
    "cmodel.metabolites.get_by_id('fdxox_c').charge"
   ]
  },
  {
   "cell_type": "code",
   "execution_count": 270,
   "metadata": {},
   "outputs": [],
   "source": [
    "cmodel.metabolites.get_by_id('fdxox_c').formula = 'X'"
   ]
  },
  {
   "cell_type": "code",
   "execution_count": 271,
   "metadata": {},
   "outputs": [
    {
     "data": {
      "text/html": [
       "\n",
       "        <table>\n",
       "            <tr>\n",
       "                <td><strong>Metabolite identifier</strong></td><td>fdxrd_c</td>\n",
       "            </tr><tr>\n",
       "                <td><strong>Name</strong></td><td>Reduced ferredoxin</td>\n",
       "            </tr><tr>\n",
       "                <td><strong>Memory address</strong></td>\n",
       "                <td>0x07f4dc42d5cd0</td>\n",
       "            </tr><tr>\n",
       "                <td><strong>Formula</strong></td><td></td>\n",
       "            </tr><tr>\n",
       "                <td><strong>Compartment</strong></td><td>C_c</td>\n",
       "            </tr><tr>\n",
       "                <td><strong>In 5 reaction(s)</strong></td><td>\n",
       "                    GLMS_syn, FNOR, OOR3r, NAR_syn, FRDO</td>\n",
       "            </tr>\n",
       "        </table>"
      ],
      "text/plain": [
       "<Metabolite fdxrd_c at 0x7f4dc42d5cd0>"
      ]
     },
     "execution_count": 271,
     "metadata": {},
     "output_type": "execute_result"
    }
   ],
   "source": [
    "cmodel.metabolites.get_by_id('fdxrd_c')"
   ]
  },
  {
   "cell_type": "code",
   "execution_count": 272,
   "metadata": {},
   "outputs": [
    {
     "data": {
      "text/plain": [
       "0"
      ]
     },
     "execution_count": 272,
     "metadata": {},
     "output_type": "execute_result"
    }
   ],
   "source": [
    "cmodel.metabolites.get_by_id('fdxrd_c').charge"
   ]
  },
  {
   "cell_type": "code",
   "execution_count": 274,
   "metadata": {},
   "outputs": [],
   "source": [
    "for m in cmodel.metabolites:\n",
    "    if m.charge >= 1:\n",
    "        print(m.id, m.charge)"
   ]
  },
  {
   "cell_type": "code",
   "execution_count": 1,
   "metadata": {},
   "outputs": [
    {
     "ename": "NameError",
     "evalue": "name 'cmodel' is not defined",
     "output_type": "error",
     "traceback": [
      "\u001b[0;31m---------------------------------------------------------------------------\u001b[0m",
      "\u001b[0;31mNameError\u001b[0m                                 Traceback (most recent call last)",
      "\u001b[0;32m<ipython-input-1-737307d3bfca>\u001b[0m in \u001b[0;36m<module>\u001b[0;34m\u001b[0m\n\u001b[0;32m----> 1\u001b[0;31m \u001b[0mcmodel\u001b[0m\u001b[0;34m\u001b[0m\u001b[0;34m\u001b[0m\u001b[0m\n\u001b[0m",
      "\u001b[0;31mNameError\u001b[0m: name 'cmodel' is not defined"
     ]
    }
   ],
   "source": [
    "cmodel"
   ]
  },
  {
   "cell_type": "code",
   "execution_count": null,
   "metadata": {},
   "outputs": [],
   "source": []
  }
 ],
 "metadata": {
  "kernelspec": {
   "display_name": "biodesign_3.7",
   "language": "python",
   "name": "biod_3.7"
  },
  "language_info": {
   "codemirror_mode": {
    "name": "ipython",
    "version": 3
   },
   "file_extension": ".py",
   "mimetype": "text/x-python",
   "name": "python",
   "nbconvert_exporter": "python",
   "pygments_lexer": "ipython3",
   "version": "3.7.4"
  }
 },
 "nbformat": 4,
 "nbformat_minor": 4
}

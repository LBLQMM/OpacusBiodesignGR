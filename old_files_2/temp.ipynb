{
 "cells": [
  {
   "cell_type": "code",
   "execution_count": 1,
   "id": "ec3fa677-a56a-4fa0-a9b3-86b368988bb6",
   "metadata": {},
   "outputs": [],
   "source": [
    "import cobra"
   ]
  },
  {
   "cell_type": "code",
   "execution_count": 2,
   "id": "8762d23f-4f07-4040-9616-36b2c4a1f9f9",
   "metadata": {},
   "outputs": [],
   "source": [
    "model = cobra.io.read_sbml_model(\"../GSMs/Ropacus_annotated.xml\")"
   ]
  },
  {
   "cell_type": "code",
   "execution_count": 5,
   "id": "560b6757-992d-402f-943a-92b5ef5123c5",
   "metadata": {},
   "outputs": [
    {
     "name": "stdout",
     "output_type": "stream",
     "text": [
      "1000.0 EX_ca2_e\n",
      "1000.0 EX_cl_e\n",
      "1000.0 EX_cobalt2_e\n",
      "1000.0 EX_cu2_e\n",
      "1000.0 EX_fe2_e\n",
      "1000.0 EX_fe3_e\n",
      "10.0 EX_glc__D_e\n",
      "1000.0 EX_h2o_e\n",
      "1000.0 EX_h_e\n",
      "1000.0 EX_k_e\n",
      "1000.0 EX_mg2_e\n",
      "1000.0 EX_mn2_e\n",
      "1000.0 EX_mobd_e\n",
      "1000.0 EX_nh4_e\n",
      "1000.0 EX_o2_e\n",
      "1000.0 EX_pi_e\n",
      "1000.0 EX_so4_e\n",
      "1000.0 EX_zn2_e\n",
      "10 mmol of glucose can make 0.440 g of biomass\n"
     ]
    }
   ],
   "source": [
    "solution = []\n",
    "# glucose\n",
    "with model:\n",
    "    medium = model.medium\n",
    "    medium[\"EX_glc__D_e\"] = 10.0\n",
    "    medium[\"EX_phenol_e\"] = 0.0\n",
    "    medium[\"EX_vanlt_e\"] = 0.0\n",
    "    medium[\"EX_4hbz_e\"] = 0.0\n",
    "    medium[\"EX_guaiacol_e\"] = 0.0\n",
    "    medium[\"EX_bz_e\"] = 0.0\n",
    "    model.medium = medium\n",
    "    [print(model.medium[m], m) for m in model.medium]\n",
    "    solution = model.optimize()\n",
    "    print(f'10 mmol of glucose can make {solution.objective_value:.3f} g of biomass')"
   ]
  },
  {
   "cell_type": "code",
   "execution_count": 6,
   "id": "ac61e804-7c5d-4b14-8974-d8c0bdb11937",
   "metadata": {},
   "outputs": [
    {
     "data": {
      "text/plain": [
       "12DGR140tipp          0.0\n",
       "13PPDH                0.0\n",
       "1P2CBXLCYCL           0.0\n",
       "1P2CBXLR              0.0\n",
       "23CTI1                0.0\n",
       "                     ... \n",
       "EX_guaiacol_e         0.0\n",
       "guaiacol_transport    0.0\n",
       "GUADEM                0.0\n",
       "Growth_Phenol         0.0\n",
       "Growth_Glucose        0.0\n",
       "Name: fluxes, Length: 3019, dtype: float64"
      ]
     },
     "execution_count": 6,
     "metadata": {},
     "output_type": "execute_result"
    }
   ],
   "source": [
    "solution.fluxes"
   ]
  },
  {
   "cell_type": "code",
   "execution_count": 7,
   "id": "865d77a5-85b5-4d58-9046-b00dd67ed0b2",
   "metadata": {},
   "outputs": [
    {
     "name": "stdout",
     "output_type": "stream",
     "text": [
      "-10.0 EX_glc__D_e: glc__D_e <=> \n",
      "0.0 GLCtex: glc__D_e <=> glc__D_p\n",
      "0.0 GLCabc: atp_c + glc__D_e + h2o_c --> adp_c + glc__D_c + h_c + pi_c\n",
      "0.0 BG_CELLB: cellb_e + h2o_e --> 2.0 glc__D_e\n",
      "10.0 GLCpts: glc__D_e + pep_c --> g6p_c + pyr_c\n"
     ]
    }
   ],
   "source": [
    "for r in model.metabolites.get_by_id('glc__D_e').reactions:\n",
    "    print(solution.fluxes[r.id], r)"
   ]
  },
  {
   "cell_type": "code",
   "execution_count": 9,
   "id": "73c5b0fd-16d8-498f-bc0b-17d79bde9368",
   "metadata": {},
   "outputs": [
    {
     "name": "stdout",
     "output_type": "stream",
     "text": [
      "9.909707708546922 PGI: g6p_c <=> f6p_c\n"
     ]
    }
   ],
   "source": [
    "for r in model.metabolites.get_by_id('g6p_c').reactions:\n",
    "    if model.metabolites.get_by_id('f6p_c') in r.metabolites:\n",
    "        print(solution.fluxes[r.id], r)"
   ]
  },
  {
   "cell_type": "code",
   "execution_count": 14,
   "id": "967a24d8-56c3-4ca6-862b-5ec184d1390c",
   "metadata": {},
   "outputs": [
    {
     "name": "stdout",
     "output_type": "stream",
     "text": [
      "9.81293243056751 PFK: atp_c + f6p_c --> adp_c + fdp_c + h_c\n",
      "0.0 FBP: fdp_c + h2o_c --> f6p_c + pi_c\n"
     ]
    }
   ],
   "source": [
    "for r in model.metabolites.get_by_id('f6p_c').reactions:\n",
    "    if model.metabolites.get_by_id('fdp_c') in r.metabolites:\n",
    "        print(solution.fluxes[r.id], r)"
   ]
  },
  {
   "cell_type": "code",
   "execution_count": 15,
   "id": "d9579b9d-164b-412c-beb1-9b7f061095b9",
   "metadata": {},
   "outputs": [
    {
     "name": "stdout",
     "output_type": "stream",
     "text": [
      "9.81293243056751 FBA: fdp_c <=> dhap_c + g3p_c\n",
      "0.0 FRUK: atp_c + f1p_c --> adp_c + fdp_c + h_c\n",
      "0.0 FBP: fdp_c + h2o_c --> f6p_c + pi_c\n",
      "9.81293243056751 PFK: atp_c + f6p_c --> adp_c + fdp_c + h_c\n"
     ]
    }
   ],
   "source": [
    "for r in model.metabolites.get_by_id('fdp_c').reactions:\n",
    "    if model.metabolites.get_by_id('dhap_c') in r.metabolites:\n",
    "        print(solution.fluxes[r.id], r)"
   ]
  },
  {
   "cell_type": "code",
   "execution_count": 16,
   "id": "35fef884-9c8b-46b6-b9c2-bd7fc28dee02",
   "metadata": {},
   "outputs": [
    {
     "name": "stdout",
     "output_type": "stream",
     "text": [
      "0.0 TGBPA: tagdp__D_c <=> dhap_c + g3p_c\n",
      "9.81293243056751 FBA: fdp_c <=> dhap_c + g3p_c\n",
      "9.532243206603438 TPI: dhap_c <=> g3p_c\n"
     ]
    }
   ],
   "source": [
    "for r in model.metabolites.get_by_id('dhap_c').reactions:\n",
    "    if model.metabolites.get_by_id('g3p_c') in r.metabolites:\n",
    "        print(solution.fluxes[r.id], r)"
   ]
  },
  {
   "cell_type": "code",
   "execution_count": 19,
   "id": "e6879c44-097a-450d-900a-b090d7d7cb00",
   "metadata": {},
   "outputs": [
    {
     "name": "stdout",
     "output_type": "stream",
     "text": [
      "0.0 GAPDi_nadp: 13dpg_c + h_c + nadph_c --> g3p_c + nadp_c + pi_c\n",
      "18.82315537886211 GAPD: g3p_c + nad_c + pi_c <=> 13dpg_c + h_c + nadh_c\n"
     ]
    }
   ],
   "source": [
    "for r in model.metabolites.get_by_id('g3p_c').reactions:\n",
    "    if model.metabolites.get_by_id('13dpg_c') in r.metabolites:\n",
    "        print(solution.fluxes[r.id], r)"
   ]
  },
  {
   "cell_type": "code",
   "execution_count": 22,
   "id": "4e32ccc9-98ef-44dc-8394-715b2746ee2a",
   "metadata": {},
   "outputs": [
    {
     "name": "stdout",
     "output_type": "stream",
     "text": [
      "-18.82315537886211 PGK: 3pg_c + atp_c <=> 13dpg_c + adp_c\n"
     ]
    }
   ],
   "source": [
    "for r in model.metabolites.get_by_id('13dpg_c').reactions:\n",
    "    if model.metabolites.get_by_id('3pg_c') in r.metabolites:\n",
    "        print(solution.fluxes[r.id], r)"
   ]
  },
  {
   "cell_type": "code",
   "execution_count": 24,
   "id": "f1949fcd-07ae-49c1-8c52-4f4226b5208b",
   "metadata": {},
   "outputs": [
    {
     "name": "stdout",
     "output_type": "stream",
     "text": [
      "-18.14741007187831 PGM: 2pg_c <=> 3pg_c\n"
     ]
    }
   ],
   "source": [
    "for r in model.metabolites.get_by_id('3pg_c').reactions:\n",
    "    if model.metabolites.get_by_id('2pg_c') in r.metabolites:\n",
    "        print(solution.fluxes[r.id], r)"
   ]
  },
  {
   "cell_type": "code",
   "execution_count": 25,
   "id": "025e5869-4c2f-4f69-b031-1b75f0055c94",
   "metadata": {},
   "outputs": [
    {
     "name": "stdout",
     "output_type": "stream",
     "text": [
      "18.14741007187831 ENO: 2pg_c <=> h2o_c + pep_c\n"
     ]
    }
   ],
   "source": [
    "for r in model.metabolites.get_by_id('2pg_c').reactions:\n",
    "    if model.metabolites.get_by_id('pep_c') in r.metabolites:\n",
    "        print(solution.fluxes[r.id], r)"
   ]
  },
  {
   "cell_type": "code",
   "execution_count": 34,
   "id": "2aecaa99-f627-4101-8696-a2c49d9f4569",
   "metadata": {},
   "outputs": [
    {
     "name": "stdout",
     "output_type": "stream",
     "text": [
      "ACMANApts\n",
      "reverse_PPS\n",
      "PYK\n",
      "FRUptspp\n",
      "MALTptspp\n",
      "DHAPT\n",
      "SUCpts\n",
      "GLCptspp\n",
      "MNLpts\n",
      "FRUpts2pp\n",
      "SBTpts\n",
      "SUCptspp\n",
      "GLCpts\n",
      "ACGApts\n",
      "FRUpts2\n",
      "GALpts\n",
      "MALTpts\n",
      "GLCADpts\n",
      "MANptspp\n",
      "FRUpts\n",
      "ARBTpts\n",
      "TREptspp\n",
      "GALTpts\n",
      "TREpts\n",
      "ASCBpts\n",
      "GAMpts\n",
      "MANpts\n",
      "ACGAptspp\n",
      "FUCpts\n",
      "ACMANApts or reverse_PPS or PYK or FRUptspp or MALTptspp or DHAPT or SUCpts or GLCptspp or MNLpts or FRUpts2pp or SBTpts or SUCptspp or GLCpts or ACGApts or FRUpts2 or GALpts or MALTpts or GLCADpts or MANptspp or FRUpts or ARBTpts or TREptspp or GALTpts or TREpts or ASCBpts or GAMpts or MANpts or ACGAptspp or FUCpts\n"
     ]
    }
   ],
   "source": [
    "rxns = []\n",
    "for r in model.metabolites.get_by_id('pep_c').reactions:\n",
    "    if model.metabolites.get_by_id('pep_c') in r.reactants and model.metabolites.get_by_id('pyr_c') in r.products:\n",
    "        print(r.id)\n",
    "        rxns.append(r.id)\n",
    "    elif model.metabolites.get_by_id('pep_c') in r.products and model.metabolites.get_by_id('pyr_c') in r.reactants:\n",
    "        print(f'reverse_{r.id}')\n",
    "        rxns.append(f'reverse_{r.id}')\n",
    "\n",
    "print(' or '.join(rxns))"
   ]
  },
  {
   "cell_type": "code",
   "execution_count": 47,
   "id": "c79d1df4-c5eb-4e1f-a824-41bc37347901",
   "metadata": {},
   "outputs": [
    {
     "name": "stdout",
     "output_type": "stream",
     "text": [
      "0.0 GND: 6pgc_c + nadp_c --> co2_c + nadph_c + ru5p__D_c\n"
     ]
    }
   ],
   "source": [
    "for r in model.metabolites.get_by_id('6pgc_c').reactions:\n",
    "    if model.metabolites.get_by_id('ru5p__D_c') in r.metabolites:\n",
    "        print(solution.fluxes[r.id], r)"
   ]
  },
  {
   "cell_type": "code",
   "execution_count": 49,
   "id": "c6d456a3-7d33-4b0a-b693-7da130664930",
   "metadata": {},
   "outputs": [
    {
     "name": "stdout",
     "output_type": "stream",
     "text": [
      "-0.03246954845672967 RPE: ru5p__D_c <=> xu5p__D_c\n"
     ]
    }
   ],
   "source": [
    "for r in model.metabolites.get_by_id('ru5p__D_c').reactions:\n",
    "    if model.metabolites.get_by_id('xu5p__D_c') in r.metabolites:\n",
    "        print(solution.fluxes[r.id], r)"
   ]
  },
  {
   "cell_type": "code",
   "execution_count": 54,
   "id": "6017f341-9587-4d32-b8a5-6b9e417f19a4",
   "metadata": {},
   "outputs": [
    {
     "name": "stdout",
     "output_type": "stream",
     "text": [
      "0.0 PKETX: pi_c + xu5p__D_c --> actp_c + g3p_c + h2o_c\n",
      "0.5140384197443857 TKT1: r5p_c + xu5p__D_c <=> g3p_c + s7p_c\n",
      "-0.5465079682011154 TKT2: e4p_c + xu5p__D_c <=> f6p_c + g3p_c\n"
     ]
    }
   ],
   "source": [
    "for r in model.metabolites.get_by_id('xu5p__D_c').reactions:\n",
    "    if model.metabolites.get_by_id('g3p_c') in r.metabolites:\n",
    "        print(solution.fluxes[r.id], r)"
   ]
  },
  {
   "cell_type": "code",
   "execution_count": 56,
   "id": "9e2c7aad-a1ce-4b2f-a99c-03e5c6e6b274",
   "metadata": {},
   "outputs": [
    {
     "name": "stdout",
     "output_type": "stream",
     "text": [
      "0.5140384197443857 TALA: g3p_c + s7p_c <=> e4p_c + f6p_c\n",
      "0.0 PKETF: f6p_c + pi_c --> actp_c + e4p_c + h2o_c\n",
      "-0.5465079682011154 TKT2: e4p_c + xu5p__D_c <=> f6p_c + g3p_c\n"
     ]
    }
   ],
   "source": [
    "for r in model.metabolites.get_by_id('e4p_c').reactions:\n",
    "    if model.metabolites.get_by_id('f6p_c') in r.metabolites:\n",
    "        print(solution.fluxes[r.id], r)"
   ]
  },
  {
   "cell_type": "code",
   "execution_count": 60,
   "id": "2e9a565c-ff08-4d93-bfe7-de6ac0ab3dd3",
   "metadata": {},
   "outputs": [
    {
     "name": "stdout",
     "output_type": "stream",
     "text": [
      "0.0 G6PDH2r: g6p_c + nadp_c <=> 6pgl_c + h_c + nadph_c\n"
     ]
    }
   ],
   "source": [
    "for r in model.metabolites.get_by_id('g6p_c').reactions:\n",
    "    if model.metabolites.get_by_id('6pgl_c') in r.metabolites:\n",
    "        print(solution.fluxes[r.id], r)"
   ]
  },
  {
   "cell_type": "code",
   "execution_count": 58,
   "id": "db85a2c6-c6fe-4c25-bba2-a93bd6a2aab2",
   "metadata": {},
   "outputs": [
    {
     "name": "stdout",
     "output_type": "stream",
     "text": [
      "0.0 PGL: 6pgl_c + h2o_c --> 6pgc_c + h_c\n"
     ]
    }
   ],
   "source": [
    "for r in model.metabolites.get_by_id('6pgl_c').reactions:\n",
    "    if model.metabolites.get_by_id('6pgc_c') in r.metabolites:\n",
    "        print(solution.fluxes[r.id], r)"
   ]
  },
  {
   "cell_type": "code",
   "execution_count": 62,
   "id": "21b99f17-e47d-4c6c-bbd4-c7a6deb500b7",
   "metadata": {},
   "outputs": [
    {
     "name": "stdout",
     "output_type": "stream",
     "text": [
      "0.0 EDD: 6pgc_c --> 2ddg6p_c + h2o_c\n"
     ]
    }
   ],
   "source": [
    "for r in model.metabolites.get_by_id('6pgc_c').reactions:\n",
    "    if model.metabolites.get_by_id('2ddg6p_c') in r.metabolites:\n",
    "        print(solution.fluxes[r.id], r)"
   ]
  },
  {
   "cell_type": "code",
   "execution_count": 64,
   "id": "3e05b89a-be25-4cdb-81b2-1e1247a3a923",
   "metadata": {},
   "outputs": [
    {
     "name": "stdout",
     "output_type": "stream",
     "text": [
      "0.0 EDA: 2ddg6p_c --> g3p_c + pyr_c\n"
     ]
    }
   ],
   "source": [
    "for r in model.metabolites.get_by_id('2ddg6p_c').reactions:\n",
    "    if model.metabolites.get_by_id('g3p_c') in r.metabolites:\n",
    "        print(solution.fluxes[r.id], r)"
   ]
  },
  {
   "cell_type": "code",
   "execution_count": 65,
   "id": "86c78754-a6be-4b39-9746-e4c505345bd2",
   "metadata": {},
   "outputs": [
    {
     "name": "stdout",
     "output_type": "stream",
     "text": [
      "14.306146518908998 PDH: coa_c + nad_c + pyr_c --> accoa_c + co2_c + nadh_c\n"
     ]
    }
   ],
   "source": [
    "for r in model.metabolites.get_by_id('pyr_c').reactions:\n",
    "    if model.metabolites.get_by_id('accoa_c') in r.metabolites:\n",
    "        print(solution.fluxes[r.id], r)"
   ]
  },
  {
   "cell_type": "code",
   "execution_count": 68,
   "id": "7d490299-579c-47ef-bde6-17ed68d020ff",
   "metadata": {},
   "outputs": [
    {
     "name": "stdout",
     "output_type": "stream",
     "text": [
      "0.0 CITL: cit_c --> ac_c + oaa_c\n",
      "13.888769300541648 CS: accoa_c + h2o_c + oaa_c --> cit_c + coa_c + h_c\n"
     ]
    }
   ],
   "source": [
    "for r in model.metabolites.get_by_id('oaa_c').reactions:\n",
    "    if model.metabolites.get_by_id('cit_c') in r.metabolites:\n",
    "        print(solution.fluxes[r.id], r)"
   ]
  },
  {
   "cell_type": "code",
   "execution_count": 69,
   "id": "1b901baf-b249-4f3d-960c-a082f3ec7f69",
   "metadata": {},
   "outputs": [
    {
     "name": "stdout",
     "output_type": "stream",
     "text": [
      "13.888769300541648 ACONT: cit_c <=> icit_c\n"
     ]
    }
   ],
   "source": [
    "for r in model.metabolites.get_by_id('cit_c').reactions:\n",
    "    if model.metabolites.get_by_id('icit_c') in r.metabolites:\n",
    "        print(solution.fluxes[r.id], r)"
   ]
  },
  {
   "cell_type": "code",
   "execution_count": 73,
   "id": "cf81f88c-d25d-4a1e-b9d6-fc49e677e64d",
   "metadata": {},
   "outputs": [
    {
     "name": "stdout",
     "output_type": "stream",
     "text": [
      "0.0 ICITt4pp: icit_p + na1_p --> icit_c + na1_c\n",
      "13.888769300541648 ICDHx: icit_c + nad_c <=> akg_c + co2_c + nadh_c\n",
      "0.0 ICDHyr: icit_c + nadp_c <=> akg_c + co2_c + nadph_c\n",
      "0.0 ICITtupp: icit_p --> icit_c\n",
      "0.0 ICITt_kt: h_p + icit_p --> h_c + icit_c\n",
      "13.888769300541648 ACONT: cit_c <=> icit_c\n",
      "0.0 ICL: icit_c --> glx_c + succ_c\n",
      "0.0 ACONTb: acon_C_c + h2o_c <=> icit_c\n"
     ]
    }
   ],
   "source": [
    "for r in model.metabolites.get_by_id('icit_c').reactions:\n",
    "    print(solution.fluxes[r.id], r)"
   ]
  },
  {
   "cell_type": "code",
   "execution_count": 76,
   "id": "2b760f06-dcf0-4afd-b6fa-2900cba1fe16",
   "metadata": {},
   "outputs": [
    {
     "name": "stdout",
     "output_type": "stream",
     "text": [
      "-1.2957208093638117 KGD2: co2_c + 2.0 fdxrd_c + h_c + succoa_c <-- akg_c + coa_c + 2.0 fdxox_c\n",
      "12.128842166861293 AKGDH: akg_c + coa_c + nad_c --> co2_c + nadh_c + succoa_c\n"
     ]
    }
   ],
   "source": [
    "for r in model.metabolites.get_by_id('akg_c').reactions:\n",
    "    if model.metabolites.get_by_id('succoa_c') in r.metabolites:\n",
    "        print(solution.fluxes[r.id], r)"
   ]
  },
  {
   "cell_type": "code",
   "execution_count": 82,
   "id": "0c56c84d-8f6c-45c3-a92f-f5d2c2441b11",
   "metadata": {},
   "outputs": [
    {
     "name": "stdout",
     "output_type": "stream",
     "text": [
      "SUCBZT2\n",
      "OCOAT1\n",
      "SUCBZT1\n",
      "reverse_SUCOAS\n",
      "BZSCT\n",
      "OCOAT4\n",
      "3OADPCOAT\n",
      "SUCBZT2 or OCOAT1 or SUCBZT1 or reverse_SUCOAS or BZSCT or OCOAT4 or 3OADPCOAT\n"
     ]
    }
   ],
   "source": [
    "rxns = []\n",
    "for r in model.metabolites.get_by_id('succoa_c').reactions:\n",
    "    if model.metabolites.get_by_id('succoa_c') in r.reactants and model.metabolites.get_by_id('succ_c') in r.products:\n",
    "        print(r.id)\n",
    "        rxns.append(r.id)\n",
    "    elif model.metabolites.get_by_id('succoa_c') in r.products and model.metabolites.get_by_id('succ_c') in r.reactants:\n",
    "        print(f'reverse_{r.id}')\n",
    "        rxns.append(f'reverse_{r.id}')\n",
    "        \n",
    "print(' or '.join(rxns))"
   ]
  },
  {
   "cell_type": "code",
   "execution_count": 85,
   "id": "c13f3031-8327-46a5-bd8c-9e20d28e22c4",
   "metadata": {},
   "outputs": [
    {
     "name": "stdout",
     "output_type": "stream",
     "text": [
      "reverse_FRD3\n",
      "reverse_FRD2\n",
      "reverse_ASPO5\n",
      "reverse_FRD\n",
      "SUCD1\n",
      "reverse_FRDx\n",
      "reverse_FRD3 or reverse_FRD2 or reverse_ASPO5 or reverse_FRD or SUCD1 or reverse_FRDx\n"
     ]
    }
   ],
   "source": [
    "rxns = []\n",
    "for r in model.metabolites.get_by_id('succ_c').reactions:\n",
    "    if model.metabolites.get_by_id('succ_c') in r.reactants and model.metabolites.get_by_id('fum_c') in r.products:\n",
    "        print(r.id)\n",
    "        rxns.append(r.id)\n",
    "    elif model.metabolites.get_by_id('succ_c') in r.products and model.metabolites.get_by_id('fum_c') in r.reactants:\n",
    "        print(f'reverse_{r.id}')\n",
    "        rxns.append(f'reverse_{r.id}')\n",
    "        \n",
    "print(' or '.join(rxns))"
   ]
  },
  {
   "cell_type": "code",
   "execution_count": 88,
   "id": "1925e295-34ff-4255-a949-b22d4b6b1d33",
   "metadata": {},
   "outputs": [
    {
     "name": "stdout",
     "output_type": "stream",
     "text": [
      "13.883765345794314 FUM: fum_c + h2o_c <=> mal__L_c\n"
     ]
    }
   ],
   "source": [
    "for r in model.metabolites.get_by_id('fum_c').reactions:\n",
    "    if model.metabolites.get_by_id('mal__L_c') in r.metabolites:\n",
    "        print(solution.fluxes[r.id], r)"
   ]
  },
  {
   "cell_type": "code",
   "execution_count": 90,
   "id": "60ffd5c2-acc1-4b54-b86a-0b9217374f7b",
   "metadata": {},
   "outputs": [
    {
     "name": "stdout",
     "output_type": "stream",
     "text": [
      "13.2446921428716 DMALRED: fad_c + mal__L_c --> fadh2_c + oaa_c\n",
      "0.0 MDH2: mal__L_c + q8_c --> oaa_c + q8h2_c\n",
      "0.6873936732565692 MDH3: mal__L_c + mqn8_c --> mql8_c + oaa_c\n",
      "0.0 MDH3_1: mal__L_c + mqn7_c --> mql7_c + oaa_c\n",
      "0.0 MDH: mal__L_c + nad_c <=> h_c + nadh_c + oaa_c\n"
     ]
    }
   ],
   "source": [
    "for r in model.metabolites.get_by_id('mal__L_c').reactions:\n",
    "    if model.metabolites.get_by_id('oaa_c') in r.metabolites:\n",
    "        print(solution.fluxes[r.id], r)"
   ]
  },
  {
   "cell_type": "code",
   "execution_count": 91,
   "id": "57ee6454-5fa0-47be-9db3-a9727877e659",
   "metadata": {},
   "outputs": [
    {
     "name": "stdout",
     "output_type": "stream",
     "text": [
      "0.0 ICL: icit_c --> glx_c + succ_c\n"
     ]
    }
   ],
   "source": [
    "for r in model.metabolites.get_by_id('icit_c').reactions:\n",
    "    if model.metabolites.get_by_id('succ_c') in r.metabolites:\n",
    "        print(solution.fluxes[r.id], r)"
   ]
  },
  {
   "cell_type": "code",
   "execution_count": 94,
   "id": "73c099ed-ca27-4d9c-b89e-7a9125d60404",
   "metadata": {},
   "outputs": [
    {
     "name": "stdout",
     "output_type": "stream",
     "text": [
      "0.04832047033385484 MALS: accoa_c + glx_c + h2o_c --> coa_c + h_c + mal__L_c\n"
     ]
    }
   ],
   "source": [
    "for r in model.metabolites.get_by_id('glx_c').reactions:\n",
    "    if model.metabolites.get_by_id('accoa_c') in r.metabolites:\n",
    "        print(solution.fluxes[r.id], r)"
   ]
  },
  {
   "cell_type": "code",
   "execution_count": 97,
   "id": "4d60e486-c8f8-401b-b294-0d38e3845d3c",
   "metadata": {},
   "outputs": [
    {
     "name": "stdout",
     "output_type": "stream",
     "text": [
      "0.0 ME1: mal__L_c + nad_c --> co2_c + nadh_c + pyr_c\n",
      "0.0 ME2: mal__L_c + nadp_c --> co2_c + nadph_c + pyr_c\n"
     ]
    }
   ],
   "source": [
    "for r in model.metabolites.get_by_id('pyr_c').reactions:\n",
    "    if model.metabolites.get_by_id('mal__L_c') in r.metabolites:\n",
    "        print(solution.fluxes[r.id], r)"
   ]
  },
  {
   "cell_type": "code",
   "execution_count": 98,
   "id": "32aa5b80-2f3f-4859-866a-e3a723031cbf",
   "metadata": {},
   "outputs": [
    {
     "name": "stdout",
     "output_type": "stream",
     "text": [
      "1.2471131654981158 PPC: co2_c + h2o_c + pep_c --> h_c + oaa_c + pi_c\n",
      "0.0 PEPCK_re: gtp_c + oaa_c --> co2_c + gdp_c + pep_c\n"
     ]
    }
   ],
   "source": [
    "for r in model.metabolites.get_by_id('pep_c').reactions:\n",
    "    if model.metabolites.get_by_id('oaa_c') in r.metabolites:\n",
    "        print(solution.fluxes[r.id], r)"
   ]
  },
  {
   "cell_type": "code",
   "execution_count": 100,
   "id": "599bfc77-2ea1-41e3-a4ec-405711e2df06",
   "metadata": {},
   "outputs": [
    {
     "name": "stdout",
     "output_type": "stream",
     "text": [
      "0.0 NADTRHD: nad_c + nadph_c --> nadh_c + nadp_c\n"
     ]
    }
   ],
   "source": [
    "for r in model.metabolites.get_by_id('nadh_c').reactions:\n",
    "    if model.metabolites.get_by_id('nadph_c') in r.metabolites:\n",
    "        print(solution.fluxes[r.id], r)"
   ]
  },
  {
   "cell_type": "code",
   "execution_count": null,
   "id": "9d27f2bc-f2da-4301-bc9b-909159a7bcb4",
   "metadata": {},
   "outputs": [],
   "source": []
  },
  {
   "cell_type": "code",
   "execution_count": 112,
   "id": "3090964b-bf48-4a2a-9246-c143fd2f536a",
   "metadata": {},
   "outputs": [
    {
     "name": "stdout",
     "output_type": "stream",
     "text": [
      "-42.89713409954565 CO2t: co2_e <=> co2_c\n",
      "42.89713409954565 EX_co2_e: co2_e --> \n",
      "0.0 CO2tex: co2_e <=> co2_p\n"
     ]
    }
   ],
   "source": [
    "for r in model.metabolites.get_by_id('co2_e').reactions:\n",
    "#     if model.metabolites.get_by_id('nadph_c') in r.metabolites:\n",
    "    print(solution.fluxes[r.id], r)"
   ]
  },
  {
   "cell_type": "code",
   "execution_count": 105,
   "id": "4946b157-ffbb-4755-a458-0b56cf72dd3f",
   "metadata": {},
   "outputs": [
    {
     "ename": "KeyError",
     "evalue": "'O2t'",
     "output_type": "error",
     "traceback": [
      "\u001b[0;31m---------------------------------------------------------------------------\u001b[0m",
      "\u001b[0;31mKeyError\u001b[0m                                  Traceback (most recent call last)",
      "\u001b[0;32m<ipython-input-105-7413239dcad0>\u001b[0m in \u001b[0;36m<module>\u001b[0;34m\u001b[0m\n\u001b[0;32m----> 1\u001b[0;31m \u001b[0mmodel\u001b[0m\u001b[0;34m.\u001b[0m\u001b[0mreactions\u001b[0m\u001b[0;34m.\u001b[0m\u001b[0mget_by_id\u001b[0m\u001b[0;34m(\u001b[0m\u001b[0;34m'O2t'\u001b[0m\u001b[0;34m)\u001b[0m\u001b[0;34m\u001b[0m\u001b[0;34m\u001b[0m\u001b[0m\n\u001b[0m",
      "\u001b[0;32m/usr/local/share/jupyteruser/.pyenv/versions/biod_3.7/lib/python3.7/site-packages/cobra/core/dictlist.py\u001b[0m in \u001b[0;36mget_by_id\u001b[0;34m(self, id)\u001b[0m\n\u001b[1;32m     56\u001b[0m     \u001b[0;32mdef\u001b[0m \u001b[0mget_by_id\u001b[0m\u001b[0;34m(\u001b[0m\u001b[0mself\u001b[0m\u001b[0;34m,\u001b[0m \u001b[0mid\u001b[0m\u001b[0;34m)\u001b[0m\u001b[0;34m:\u001b[0m\u001b[0;34m\u001b[0m\u001b[0;34m\u001b[0m\u001b[0m\n\u001b[1;32m     57\u001b[0m         \u001b[0;34m\"\"\"return the element with a matching id\"\"\"\u001b[0m\u001b[0;34m\u001b[0m\u001b[0;34m\u001b[0m\u001b[0m\n\u001b[0;32m---> 58\u001b[0;31m         \u001b[0;32mreturn\u001b[0m \u001b[0mlist\u001b[0m\u001b[0;34m.\u001b[0m\u001b[0m__getitem__\u001b[0m\u001b[0;34m(\u001b[0m\u001b[0mself\u001b[0m\u001b[0;34m,\u001b[0m \u001b[0mself\u001b[0m\u001b[0;34m.\u001b[0m\u001b[0m_dict\u001b[0m\u001b[0;34m[\u001b[0m\u001b[0mid\u001b[0m\u001b[0;34m]\u001b[0m\u001b[0;34m)\u001b[0m\u001b[0;34m\u001b[0m\u001b[0;34m\u001b[0m\u001b[0m\n\u001b[0m\u001b[1;32m     59\u001b[0m \u001b[0;34m\u001b[0m\u001b[0m\n\u001b[1;32m     60\u001b[0m     \u001b[0;32mdef\u001b[0m \u001b[0mlist_attr\u001b[0m\u001b[0;34m(\u001b[0m\u001b[0mself\u001b[0m\u001b[0;34m,\u001b[0m \u001b[0mattribute\u001b[0m\u001b[0;34m)\u001b[0m\u001b[0;34m:\u001b[0m\u001b[0;34m\u001b[0m\u001b[0;34m\u001b[0m\u001b[0m\n",
      "\u001b[0;31mKeyError\u001b[0m: 'O2t'"
     ]
    }
   ],
   "source": [
    "model.reactions.get_by_id('O2t')"
   ]
  },
  {
   "cell_type": "code",
   "execution_count": null,
   "id": "c957e840-5dde-4128-874d-1d86eee4a27e",
   "metadata": {},
   "outputs": [],
   "source": [
    "model.metabolites."
   ]
  }
 ],
 "metadata": {
  "kernelspec": {
   "display_name": "biodesign_3.7",
   "language": "python",
   "name": "biod_3.7"
  },
  "language_info": {
   "codemirror_mode": {
    "name": "ipython",
    "version": 3
   },
   "file_extension": ".py",
   "mimetype": "text/x-python",
   "name": "python",
   "nbconvert_exporter": "python",
   "pygments_lexer": "ipython3",
   "version": "3.7.4"
  }
 },
 "nbformat": 4,
 "nbformat_minor": 5
}

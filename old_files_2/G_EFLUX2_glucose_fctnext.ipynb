{
 "cells": [
  {
   "cell_type": "markdown",
   "id": "7563604a-2ba5-4e5d-b9e0-309615df0b5b",
   "metadata": {
    "tags": []
   },
   "source": [
    "## **Notebook to make predictions with reprocessed Yoneda data and EFLUX2** \n",
    "\n",
    "By Christina Schenk and Garrett Roell\n",
    "\n",
    "Tested on biodesign_3.7 kernel on jprime"
   ]
  },
  {
   "cell_type": "markdown",
   "id": "8edc3c57-de26-4407-a568-88c6e6d99f02",
   "metadata": {
    "tags": []
   },
   "source": [
    "### EFLUX2 predictions and evaluations\n",
    "This notebook predicts fluxes for R. opacus cultures growing with glucose. The data was published in [Yoneda (2016)](https://academic.oup.com/nar/article/44/5/2240/2465306).\n",
    "\n",
    "\n",
    "\n",
    "#### **Data Labels**:\n",
    "\n",
    "#### Yoneda transcriptomics data: \n",
    "* WT 1.0 g/L Glucose, 0.05g/L ammonium sulfate (**WT-LN-G**) (3 trials)\n",
    "\n",
    "#### Combined with Rhiannon 2018 metabolomics and OD data:\n",
    "* Metabolomics and OD data for WT Glucose (before **WT-G** but now **WT-LN-G**)\n",
    "                                               \n",
    "\n",
    "### Method: \n",
    "<ol>\n",
    "<li>Predict fluxes with EFLUX2</li>\n",
    "<li>Compare predictions with 13CMFA: Scatter plots and flux maps</li>\n",
    "<li>Load file with observed growth rates (Notebook E)</li>\n",
    "<li>Save growth rate predictions to csv file</li>\n",
    "</ol>\n",
    "\n"
   ]
  },
  {
   "cell_type": "markdown",
   "id": "5a6edbe7-d3d0-49ac-9d13-8f43882945f0",
   "metadata": {},
   "source": [
    "##### **Import python packages**"
   ]
  },
  {
   "cell_type": "code",
   "execution_count": 1,
   "id": "5e37f811-1a95-45e0-932f-962edb144307",
   "metadata": {},
   "outputs": [],
   "source": [
    "import os\n",
    "import sys\n",
    "import pandas as pd\n",
    "import numpy as np\n",
    "import cobra\n",
    "import scipy.stats\n",
    "#import cplex\n",
    "%matplotlib inline\n",
    "\n",
    "import matplotlib\n",
    "from matplotlib import pyplot as plt\n",
    "from matplotlib.offsetbox import (TextArea, DrawingArea, OffsetImage,\n",
    "                                  AnnotationBbox)\n",
    "from matplotlib.cbook import get_sample_data\n",
    "import matplotlib.image as mpimg\n",
    "import matplotlib.cm as cm\n",
    "\n",
    "from edd_utils import login, export_study, export_metadata\n",
    "\n",
    "from sklearn.metrics import r2_score\n",
    "\n",
    "SourceDir = '../src'\n",
    "sys.path.append(SourceDir)\n",
    "from ensemblemethods import EFlux2\n",
    "from utils import *\n",
    "\n",
    "output_dir = '../plots/CPM/'\n",
    "from plot import *"
   ]
  },
  {
   "cell_type": "markdown",
   "id": "244d4ba7-9d90-4f21-8de8-18a77f1a87dd",
   "metadata": {},
   "source": [
    "##### **Load data**"
   ]
  },
  {
   "cell_type": "code",
   "execution_count": 2,
   "id": "e8232d35-b2bf-4b51-9625-3a12a76661f3",
   "metadata": {},
   "outputs": [],
   "source": [
    "# # Study to Download\n",
    "# study_slug = 'biodesign_yoneda_set3_reprocessed'\n",
    "# # EDD server\n",
    "# edd_server = 'public-edd.jbei.org'\n",
    "# user       = 'schenkch'"
   ]
  },
  {
   "cell_type": "code",
   "execution_count": 3,
   "id": "b2b03dbf-95d3-49f6-b272-3e35cd07705a",
   "metadata": {},
   "outputs": [],
   "source": [
    "# session = login(edd_server=edd_server, user=user)\n",
    "\n",
    "# df = export_study(session, study_slug, edd_server=edd_server)\n",
    "# #df.head()"
   ]
  },
  {
   "cell_type": "markdown",
   "id": "2f51c4cc-b55f-44ab-8b2c-374350327f29",
   "metadata": {},
   "source": [
    "##### **Filter transcriptomics data from all EDD data into different dataframes**"
   ]
  },
  {
   "cell_type": "code",
   "execution_count": 4,
   "id": "9b399ad9-6558-4eaa-aac6-f57a2c3690dc",
   "metadata": {},
   "outputs": [],
   "source": [
    "# df_Trans = df[df['Protocol'].str.contains('Transcriptomics')]\n",
    "# df_Trans.head()"
   ]
  },
  {
   "cell_type": "code",
   "execution_count": 5,
   "id": "2d85d52a-ed94-4246-86f7-66272bfebe34",
   "metadata": {},
   "outputs": [
    {
     "data": {
      "text/html": [
       "<div>\n",
       "<style scoped>\n",
       "    .dataframe tbody tr th:only-of-type {\n",
       "        vertical-align: middle;\n",
       "    }\n",
       "\n",
       "    .dataframe tbody tr th {\n",
       "        vertical-align: top;\n",
       "    }\n",
       "\n",
       "    .dataframe thead th {\n",
       "        text-align: right;\n",
       "    }\n",
       "</style>\n",
       "<table border=\"1\" class=\"dataframe\">\n",
       "  <thead>\n",
       "    <tr style=\"text-align: right;\">\n",
       "      <th></th>\n",
       "      <th>Line Name</th>\n",
       "      <th>Measurement Type</th>\n",
       "      <th>Time</th>\n",
       "      <th>Count</th>\n",
       "      <th>Units</th>\n",
       "    </tr>\n",
       "  </thead>\n",
       "  <tbody>\n",
       "    <tr>\n",
       "      <th>0</th>\n",
       "      <td>WT-M-R1</td>\n",
       "      <td>WP_005263480_1</td>\n",
       "      <td>20</td>\n",
       "      <td>19.003420</td>\n",
       "      <td>CPM</td>\n",
       "    </tr>\n",
       "    <tr>\n",
       "      <th>1</th>\n",
       "      <td>WT-M-R2</td>\n",
       "      <td>WP_005263480_1</td>\n",
       "      <td>20</td>\n",
       "      <td>16.800668</td>\n",
       "      <td>CPM</td>\n",
       "    </tr>\n",
       "    <tr>\n",
       "      <th>2</th>\n",
       "      <td>WT-M-R3</td>\n",
       "      <td>WP_005263480_1</td>\n",
       "      <td>20</td>\n",
       "      <td>12.955220</td>\n",
       "      <td>CPM</td>\n",
       "    </tr>\n",
       "    <tr>\n",
       "      <th>3</th>\n",
       "      <td>WT-M-R1</td>\n",
       "      <td>WP_005263480_1</td>\n",
       "      <td>32</td>\n",
       "      <td>10.984975</td>\n",
       "      <td>CPM</td>\n",
       "    </tr>\n",
       "    <tr>\n",
       "      <th>4</th>\n",
       "      <td>WT-M-R2</td>\n",
       "      <td>WP_005263480_1</td>\n",
       "      <td>32</td>\n",
       "      <td>9.520107</td>\n",
       "      <td>CPM</td>\n",
       "    </tr>\n",
       "  </tbody>\n",
       "</table>\n",
       "</div>"
      ],
      "text/plain": [
       "  Line Name Measurement Type  Time      Count Units\n",
       "0   WT-M-R1   WP_005263480_1    20  19.003420   CPM\n",
       "1   WT-M-R2   WP_005263480_1    20  16.800668   CPM\n",
       "2   WT-M-R3   WP_005263480_1    20  12.955220   CPM\n",
       "3   WT-M-R1   WP_005263480_1    32  10.984975   CPM\n",
       "4   WT-M-R2   WP_005263480_1    32   9.520107   CPM"
      ]
     },
     "execution_count": 5,
     "metadata": {},
     "output_type": "execute_result"
    }
   ],
   "source": [
    "# df_Trans = transcript_measurements['glucose_cpm'] #fpkm\n",
    "# scratch/OpacusBiodesign/transcript_data/csv/henson_CPM_melted.csv\n",
    "df_trans = pd.read_csv('../transcript_data/csv/henson_CPM_melted.csv')\n",
    "df_trans.head()"
   ]
  },
  {
   "cell_type": "code",
   "execution_count": 6,
   "id": "bca4ac45-6cb6-4172-9ada-1b4f2e662bfe",
   "metadata": {},
   "outputs": [
    {
     "data": {
      "text/html": [
       "<div>\n",
       "<style scoped>\n",
       "    .dataframe tbody tr th:only-of-type {\n",
       "        vertical-align: middle;\n",
       "    }\n",
       "\n",
       "    .dataframe tbody tr th {\n",
       "        vertical-align: top;\n",
       "    }\n",
       "\n",
       "    .dataframe thead th {\n",
       "        text-align: right;\n",
       "    }\n",
       "</style>\n",
       "<table border=\"1\" class=\"dataframe\">\n",
       "  <thead>\n",
       "    <tr style=\"text-align: right;\">\n",
       "      <th></th>\n",
       "      <th>Line Name</th>\n",
       "      <th>Measurement Type</th>\n",
       "      <th>Time</th>\n",
       "      <th>Count</th>\n",
       "      <th>Units</th>\n",
       "    </tr>\n",
       "  </thead>\n",
       "  <tbody>\n",
       "    <tr>\n",
       "      <th>9</th>\n",
       "      <td>WT-Glu-R1</td>\n",
       "      <td>WP_005263480_1</td>\n",
       "      <td>13</td>\n",
       "      <td>15.584245</td>\n",
       "      <td>CPM</td>\n",
       "    </tr>\n",
       "    <tr>\n",
       "      <th>10</th>\n",
       "      <td>WT-Glu-R2</td>\n",
       "      <td>WP_005263480_1</td>\n",
       "      <td>13</td>\n",
       "      <td>22.444427</td>\n",
       "      <td>CPM</td>\n",
       "    </tr>\n",
       "    <tr>\n",
       "      <th>11</th>\n",
       "      <td>WT-Glu-R3</td>\n",
       "      <td>WP_005263480_1</td>\n",
       "      <td>13</td>\n",
       "      <td>20.433310</td>\n",
       "      <td>CPM</td>\n",
       "    </tr>\n",
       "    <tr>\n",
       "      <th>35</th>\n",
       "      <td>PVHG-Glu-R1</td>\n",
       "      <td>WP_005263480_1</td>\n",
       "      <td>13</td>\n",
       "      <td>22.993761</td>\n",
       "      <td>CPM</td>\n",
       "    </tr>\n",
       "    <tr>\n",
       "      <th>36</th>\n",
       "      <td>PVHG-Glu-R2</td>\n",
       "      <td>WP_005263480_1</td>\n",
       "      <td>13</td>\n",
       "      <td>23.797461</td>\n",
       "      <td>CPM</td>\n",
       "    </tr>\n",
       "  </tbody>\n",
       "</table>\n",
       "</div>"
      ],
      "text/plain": [
       "      Line Name Measurement Type  Time      Count Units\n",
       "9     WT-Glu-R1   WP_005263480_1    13  15.584245   CPM\n",
       "10    WT-Glu-R2   WP_005263480_1    13  22.444427   CPM\n",
       "11    WT-Glu-R3   WP_005263480_1    13  20.433310   CPM\n",
       "35  PVHG-Glu-R1   WP_005263480_1    13  22.993761   CPM\n",
       "36  PVHG-Glu-R2   WP_005263480_1    13  23.797461   CPM"
      ]
     },
     "execution_count": 6,
     "metadata": {},
     "output_type": "execute_result"
    }
   ],
   "source": [
    "# time could be 10 or 13\n",
    "df_trans = df_trans[df_trans['Time'] == 13 ]\n",
    "df_trans.head()"
   ]
  },
  {
   "cell_type": "markdown",
   "id": "c7252a93-7cea-4b7c-8375-c03a194a9524",
   "metadata": {},
   "source": [
    "##### **Load Genome Scale Model**"
   ]
  },
  {
   "cell_type": "code",
   "execution_count": 7,
   "id": "6f6b96da-3aaf-49fd-9dec-b674a678d243",
   "metadata": {},
   "outputs": [],
   "source": [
    "model = cobra.io.read_sbml_model(\"../GSMs/Ropacus_annotated.xml\")"
   ]
  },
  {
   "cell_type": "markdown",
   "id": "bf840d01-0772-4d45-b846-06e7d2348652",
   "metadata": {
    "tags": []
   },
   "source": [
    "#### **1. EFLUX2 Predictions for Wild type**"
   ]
  },
  {
   "cell_type": "code",
   "execution_count": 8,
   "id": "968f1478-cee2-4db7-9ff6-106c84370994",
   "metadata": {},
   "outputs": [
    {
     "name": "stdout",
     "output_type": "stream",
     "text": [
      "running first replicate\n",
      "FBA status optimal\n",
      "FBA solution 5.449962846220861\n"
     ]
    },
    {
     "data": {
      "text/plain": [
       "<optlang.cplex_interface.Objective at 0x7fb0cb870210>"
      ]
     },
     "metadata": {},
     "output_type": "display_data"
    },
    {
     "data": {
      "text/plain": [
       "{'EX_ca2_e': 1000.0,\n",
       " 'EX_cl_e': 1000.0,\n",
       " 'EX_cobalt2_e': 1000.0,\n",
       " 'EX_cu2_e': 1000.0,\n",
       " 'EX_fe2_e': 1000.0,\n",
       " 'EX_fe3_e': 1000.0,\n",
       " 'EX_glc__D_e': 1000.0,\n",
       " 'EX_h2o_e': 1000.0,\n",
       " 'EX_h_e': 1000.0,\n",
       " 'EX_k_e': 1000.0,\n",
       " 'EX_mg2_e': 1000.0,\n",
       " 'EX_mn2_e': 1000.0,\n",
       " 'EX_mobd_e': 1000.0,\n",
       " 'EX_nh4_e': 1000.0,\n",
       " 'EX_o2_e': 1000.0,\n",
       " 'EX_pi_e': 1000.0,\n",
       " 'EX_so4_e': 1000.0,\n",
       " 'EX_zn2_e': 1000.0}"
      ]
     },
     "metadata": {},
     "output_type": "display_data"
    },
    {
     "name": "stderr",
     "output_type": "stream",
     "text": [
      "cobra/util/solver.py:416 \u001b[1;31mUserWarning\u001b[0m: solver status is 'infeasible'\n"
     ]
    },
    {
     "name": "stdout",
     "output_type": "stream",
     "text": [
      "EFlux2 status infeasible\n",
      "EFlux2 solution 4686564.305391339\n",
      "running second replicate\n",
      "FBA status optimal\n",
      "FBA solution 5.863649535600088\n"
     ]
    },
    {
     "data": {
      "text/plain": [
       "<optlang.cplex_interface.Objective at 0x7fb0bf63ea10>"
      ]
     },
     "metadata": {},
     "output_type": "display_data"
    },
    {
     "data": {
      "text/plain": [
       "{'EX_ca2_e': 1000.0,\n",
       " 'EX_cl_e': 1000.0,\n",
       " 'EX_cobalt2_e': 1000.0,\n",
       " 'EX_cu2_e': 1000.0,\n",
       " 'EX_fe2_e': 1000.0,\n",
       " 'EX_fe3_e': 1000.0,\n",
       " 'EX_glc__D_e': 1000.0,\n",
       " 'EX_h2o_e': 1000.0,\n",
       " 'EX_h_e': 1000.0,\n",
       " 'EX_k_e': 1000.0,\n",
       " 'EX_mg2_e': 1000.0,\n",
       " 'EX_mn2_e': 1000.0,\n",
       " 'EX_mobd_e': 1000.0,\n",
       " 'EX_nh4_e': 1000.0,\n",
       " 'EX_o2_e': 1000.0,\n",
       " 'EX_pi_e': 1000.0,\n",
       " 'EX_so4_e': 1000.0,\n",
       " 'EX_zn2_e': 1000.0}"
      ]
     },
     "metadata": {},
     "output_type": "display_data"
    },
    {
     "name": "stdout",
     "output_type": "stream",
     "text": [
      "EFlux2 status optimal\n",
      "EFlux2 solution 3472726.739228936\n",
      "running third replicate\n",
      "FBA status optimal\n",
      "FBA solution 7.160901262016422\n"
     ]
    },
    {
     "data": {
      "text/plain": [
       "<optlang.cplex_interface.Objective at 0x7fb0b32a40d0>"
      ]
     },
     "metadata": {},
     "output_type": "display_data"
    },
    {
     "data": {
      "text/plain": [
       "{'EX_ca2_e': 1000.0,\n",
       " 'EX_cl_e': 1000.0,\n",
       " 'EX_cobalt2_e': 1000.0,\n",
       " 'EX_cu2_e': 1000.0,\n",
       " 'EX_fe2_e': 1000.0,\n",
       " 'EX_fe3_e': 1000.0,\n",
       " 'EX_glc__D_e': 1000.0,\n",
       " 'EX_h2o_e': 1000.0,\n",
       " 'EX_h_e': 1000.0,\n",
       " 'EX_k_e': 1000.0,\n",
       " 'EX_mg2_e': 1000.0,\n",
       " 'EX_mn2_e': 1000.0,\n",
       " 'EX_mobd_e': 1000.0,\n",
       " 'EX_nh4_e': 1000.0,\n",
       " 'EX_o2_e': 1000.0,\n",
       " 'EX_pi_e': 1000.0,\n",
       " 'EX_so4_e': 1000.0,\n",
       " 'EX_zn2_e': 1000.0}"
      ]
     },
     "metadata": {},
     "output_type": "display_data"
    },
    {
     "name": "stdout",
     "output_type": "stream",
     "text": [
      "EFlux2 status infeasible\n",
      "EFlux2 solution 5838880.895646621\n"
     ]
    }
   ],
   "source": [
    "eflux2sol, eflux2sol_std = eflux2_pred_for_three_reps(model, df_trans, 'WT-Glu-R1', 'WT-Glu-R2','WT-Glu-R3', 'glucose')"
   ]
  },
  {
   "cell_type": "markdown",
   "id": "8c8642a5-0674-49b5-abcf-550bcef3e26b",
   "metadata": {
    "tags": []
   },
   "source": [
    "##### **Save solution to data frame**"
   ]
  },
  {
   "cell_type": "code",
   "execution_count": 19,
   "id": "bb9986b1-aa25-41f2-a345-2212a9dcfcdd",
   "metadata": {},
   "outputs": [
    {
     "data": {
      "text/plain": [
       "<bound method NDFrame.head of                       fluxes\n",
       "12DGR140tipp        0.000000\n",
       "13PPDH              0.000000\n",
       "1P2CBXLCYCL         0.000000\n",
       "1P2CBXLR            0.472250\n",
       "23CTI1              0.000000\n",
       "...                      ...\n",
       "EX_guaiacol_e       0.000000\n",
       "guaiacol_transport  0.000000\n",
       "GUADEM              0.000000\n",
       "Growth_Phenol       0.000000\n",
       "Growth_Glucose      6.158171\n",
       "\n",
       "[3019 rows x 1 columns]>"
      ]
     },
     "metadata": {},
     "output_type": "display_data"
    }
   ],
   "source": [
    "eflux2soldf = pd.DataFrame(eflux2sol, columns=['fluxes'])\n",
    "eflux2solstddf = pd.DataFrame(eflux2sol_std, columns=['stds'])\n",
    "\n",
    "display(eflux2soldf.head)"
   ]
  },
  {
   "cell_type": "markdown",
   "id": "f2b56330-bf60-462c-b28d-fe23d7d5a536",
   "metadata": {
    "tags": []
   },
   "source": [
    "#### **2. Plot solutions: Comparison of EFLUX2 WT predictions and 13c measurements**"
   ]
  },
  {
   "cell_type": "markdown",
   "id": "2d24cffa-b3b2-4993-babf-1250438387cc",
   "metadata": {
    "tags": []
   },
   "source": [
    "##### **Load 13cdata**"
   ]
  },
  {
   "cell_type": "markdown",
   "id": "88a386ea-554f-465a-9294-139810642178",
   "metadata": {
    "tags": []
   },
   "source": [
    "#####  **Get 13C MFA measured fluxes for glucose**"
   ]
  },
  {
   "cell_type": "code",
   "execution_count": 10,
   "id": "6c11dda6-c5ed-4cb1-843b-c492e7a2d818",
   "metadata": {},
   "outputs": [],
   "source": [
    "# glucose_fluxes = pd.read_csv('../13C_flux_data/13C_glucose_flux_data.csv')\n",
    "\n",
    "# # Remove rows that do not have a mapping to the GSM\n",
    "# glucose_fluxes.dropna(subset = [\"Forward Reactions\"], inplace=True)\n",
    "# print(f'There are {len(glucose_fluxes)} fluxes that can be compared between the MFA and FBA')\n",
    "# glucose_fluxes"
   ]
  },
  {
   "cell_type": "markdown",
   "id": "318b0c67-f202-4eea-b49f-d8c5cb9c99ec",
   "metadata": {
    "tags": []
   },
   "source": [
    "##### **Add Glucose EFLUX2 flux values to phenol fluxes dataframe**"
   ]
  },
  {
   "cell_type": "code",
   "execution_count": 11,
   "id": "c2aa3558-60d8-446c-8990-2d8c62cfdb88",
   "metadata": {},
   "outputs": [],
   "source": [
    "# obspred_fluxes = add_pred_fluxes_to_13c_df(glucose_fluxes, eflux2soldf, eflux2solstddf, 'glucose', 'E-Flux2', 'WT')\n",
    "# obspred_fluxes.to_csv('../13C_flux_data/obspredfluxes_Glucose_EFLUX2_CPM.csv', index=True, header= True)\n",
    "# obspred_fluxes.head()"
   ]
  },
  {
   "cell_type": "markdown",
   "id": "cfc42f0a-79a1-43ae-93af-76517dd05864",
   "metadata": {
    "tags": []
   },
   "source": [
    "### **Plot EFLUX2 vs 13C MFA**"
   ]
  },
  {
   "cell_type": "markdown",
   "id": "d7fbdae0-bcc6-4010-8b24-46b498f2b9bc",
   "metadata": {},
   "source": [
    "##### **Plot 13C MFA observations vs. EFLUX2 predictions**"
   ]
  },
  {
   "cell_type": "markdown",
   "id": "5a63b79e-7390-405d-bc08-1a017d1bcafc",
   "metadata": {
    "tags": []
   },
   "source": [
    "##### Scatter plot: 13CMFA vs. EFLUX2"
   ]
  },
  {
   "cell_type": "code",
   "execution_count": 12,
   "id": "7981aa93-aff8-44b5-b400-768378e1674d",
   "metadata": {},
   "outputs": [],
   "source": [
    "# scatterplotcomp_obs_vs_pred(obspred_fluxes, substrate='glucose', method='E-Flux2', strain='WT')"
   ]
  },
  {
   "cell_type": "markdown",
   "id": "93adc7e9-8db8-4f5e-8216-b0133d0d972e",
   "metadata": {
    "jp-MarkdownHeadingCollapsed": true,
    "tags": []
   },
   "source": [
    "##### **Plot 13C MFA observations vs. EFLUX2 predictions with confidence intervals**"
   ]
  },
  {
   "cell_type": "markdown",
   "id": "77582c94-b742-47ef-a7b2-27be43becba1",
   "metadata": {
    "tags": []
   },
   "source": [
    "##### Scatter plot with standard deviations: 13CMFA vs. EFLUX2"
   ]
  },
  {
   "cell_type": "code",
   "execution_count": 13,
   "id": "5c5cfa60-bd4e-4ae6-b1cc-634e2d7456ec",
   "metadata": {},
   "outputs": [],
   "source": [
    "# scatterplotcomp_obs_vs_pred_withstd(obspred_fluxes, substrate='glucose', method='E-Flux2', strain='WT')"
   ]
  },
  {
   "cell_type": "markdown",
   "id": "7a6840f6-764a-489d-bdf0-3b1994a2f8d4",
   "metadata": {
    "tags": []
   },
   "source": [
    "#### **Glucose EFlux2 WT Flux Map**"
   ]
  },
  {
   "cell_type": "code",
   "execution_count": 14,
   "id": "077613be-02f9-469d-92d0-a35496ab6a0d",
   "metadata": {},
   "outputs": [],
   "source": [
    "# map_flux_results(obspred_fluxes, 'E-Flux2 WT Value')"
   ]
  },
  {
   "cell_type": "markdown",
   "id": "b32ff85d-ad70-4d37-936b-5be00dad769b",
   "metadata": {},
   "source": [
    "### **3. Load File with observed growth rates**"
   ]
  },
  {
   "cell_type": "markdown",
   "id": "2a05d89b-6425-4164-bc13-d6918968c1d2",
   "metadata": {},
   "source": [
    "##### **Load observed growth rates and plot glucose growth rates**"
   ]
  },
  {
   "cell_type": "code",
   "execution_count": 15,
   "id": "e17a85b8-aa3a-4b67-a5d4-b983e8c5c8c7",
   "metadata": {},
   "outputs": [],
   "source": [
    "# consumption_and_growth_data = pd.read_csv('../consumption_and_growth_data/consumption_and_growth_data.csv', index_col=0)\n",
    "# consumption_and_growth_data"
   ]
  },
  {
   "cell_type": "markdown",
   "id": "a0ba2408-7249-4036-a93f-85195968af2b",
   "metadata": {},
   "source": [
    "##### **For comparison of predicted and observed growth rates: scale predicted growth rate by multiplying with (observed substrate uptake / predicted substrate uptake)**"
   ]
  },
  {
   "cell_type": "code",
   "execution_count": 16,
   "id": "9f966e9d-30bf-467e-b441-6cdda31fb2c8",
   "metadata": {},
   "outputs": [],
   "source": [
    "# scaledgrowthrate_wtlng = scale_growth_to_sub(\n",
    "#     eflux2soldf.loc['Growth_Glucose',:].values[0], \n",
    "#     eflux2soldf.loc['EX_glc__D_e',:].values[0],\n",
    "#     consumption_and_growth_data.loc['WT-G', 'substrate consumption rate']\n",
    "# )"
   ]
  },
  {
   "cell_type": "markdown",
   "id": "2e5fe909-1989-4bf5-8a46-e2a296599286",
   "metadata": {},
   "source": [
    "##### **Add scaled values to new dataframe**"
   ]
  },
  {
   "cell_type": "code",
   "execution_count": 17,
   "id": "996b4993-ed60-4b0b-a3f4-d3c54c22f55d",
   "metadata": {},
   "outputs": [],
   "source": [
    "# allgrowthrates=pd.DataFrame(index=['WT-G'], columns=['Growth_Glucose_EFLUX2'], dtype=float)\n",
    "# allgrowthrates.at['WT-G','Growth_Glucose_EFLUX2'] = scaledgrowthrate_wtlng\n",
    "# allgrowthrates"
   ]
  },
  {
   "cell_type": "markdown",
   "id": "fd072f76-397c-4eb5-9cec-a6c022fa7b8a",
   "metadata": {},
   "source": [
    "### **4. Save growth rate predictions to csv file**"
   ]
  },
  {
   "cell_type": "markdown",
   "id": "a5fb7b4a-5c78-4f99-a639-cec8edf57281",
   "metadata": {
    "tags": []
   },
   "source": [
    "##### **Save growth rates as csv file**"
   ]
  },
  {
   "cell_type": "code",
   "execution_count": 18,
   "id": "c4c2463c-132e-482b-adf6-9b147b9bf35c",
   "metadata": {},
   "outputs": [],
   "source": [
    "# allgrowthrates.to_csv('../consumption_and_growth_data/allgrowthratesGlucoseEFLUX2_CPM.csv', index=True, header= True)"
   ]
  },
  {
   "cell_type": "code",
   "execution_count": null,
   "id": "4423a076-6edf-4f46-b521-fbd463e6e9f9",
   "metadata": {},
   "outputs": [],
   "source": []
  }
 ],
 "metadata": {
  "kernelspec": {
   "display_name": "biodesign_3.7",
   "language": "python",
   "name": "biod_3.7"
  },
  "language_info": {
   "codemirror_mode": {
    "name": "ipython",
    "version": 3
   },
   "file_extension": ".py",
   "mimetype": "text/x-python",
   "name": "python",
   "nbconvert_exporter": "python",
   "pygments_lexer": "ipython3",
   "version": "3.7.4"
  }
 },
 "nbformat": 4,
 "nbformat_minor": 5
}

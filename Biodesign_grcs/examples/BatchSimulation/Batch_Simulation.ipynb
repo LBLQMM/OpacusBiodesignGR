{
 "cells": [
  {
   "cell_type": "markdown",
   "metadata": {},
   "source": [
    "# Batch Simulation"
   ]
  },
  {
   "cell_type": "markdown",
   "metadata": {},
   "source": [
    "### Load Libraries"
   ]
  },
  {
   "cell_type": "code",
   "execution_count": 1,
   "metadata": {},
   "outputs": [],
   "source": [
    "%matplotlib inline\n",
    "from matplotlib import pyplot as plt\n",
    "import numpy as np\n",
    "import pandas as pd\n",
    "import cobra\n",
    "import cplex"
   ]
  },
  {
   "cell_type": "code",
   "execution_count": 2,
   "metadata": {},
   "outputs": [],
   "source": [
    "def EFlux2(model, Transcriptomics):\n",
    "    \n",
    "    mets = [m.id for m in model.metabolites]\n",
    "    rxns = [r.id for r in model.reactions]\n",
    "    nrow = len(mets)\n",
    "    ncol = len(rxns)\n",
    "\n",
    "    c = [r.objective_coefficient for r in model.reactions]\n",
    "\n",
    "    gpr_dict = dict()\n",
    "    for r in model.reactions:\n",
    "        if r.gene_reaction_rule:\n",
    "            temp = set()\n",
    "            for x in [x.strip('() ') for x in r.gene_reaction_rule.split(' or ')]:\n",
    "                temp.add(frozenset(y.strip('() ') for y in x.split(' and ')))\n",
    "            gpr_dict[r.id] = temp\n",
    "\n",
    "    for r in model.reactions:\n",
    "        if r.lower_bound == -1000.0:\n",
    "            r.lower_bound = -np.Inf\n",
    "        if r.upper_bound == 1000.0:\n",
    "            r.upper_bound = np.Inf\n",
    "\n",
    "    lb = []\n",
    "    ub = []\n",
    "    for r in model.reactions:\n",
    "        if r.gene_reaction_rule:\n",
    "            t = np.sum([np.min([Transcriptomics.loc[g] if g in Transcriptomics.index \n",
    "                                else np.array([np.Inf]) for g in p])\n",
    "                        for p in gpr_dict[r.id]])\n",
    "            if r.lower_bound < 0.0:\n",
    "                lb.append(-t)\n",
    "            else:\n",
    "                lb.append(r.lower_bound)\n",
    "            if r.upper_bound > 0.0:\n",
    "                ub.append(t)\n",
    "            else:\n",
    "                ub.append(r.upper_bound)\n",
    "        else:\n",
    "            lb.append(r.lower_bound)\n",
    "            ub.append(r.upper_bound)\n",
    "\n",
    "    EFlux2 = cplex.Cplex()\n",
    "    EFlux2.set_results_stream(None)\n",
    "    EFlux2.parameters.simplex.tolerances.optimality.set(1e-9)\n",
    "    EFlux2.parameters.simplex.tolerances.feasibility.set(1e-9)\n",
    "\n",
    "    EFlux2.linear_constraints.add(rhs=[0]*nrow, senses='E'*nrow, names=mets)\n",
    "    EFlux2.variables.add(obj=c, lb=lb, ub=ub, names=rxns)\n",
    "    for r in model.reactions:\n",
    "        for m, v in r.metabolites.items():\n",
    "            EFlux2.linear_constraints.set_coefficients(m.id, r.id, v)\n",
    "\n",
    "    EFlux2.objective.set_sense(EFlux2.objective.sense.maximize)\n",
    "    EFlux2.solve()\n",
    "    \n",
    "    Q = [1.0 for r in model.reactions]\n",
    "    \n",
    "    EFlux2_min = cplex.Cplex()\n",
    "    EFlux2_min.set_results_stream(None)\n",
    "    EFlux2_min.parameters.simplex.tolerances.optimality.set(1e-9)\n",
    "    EFlux2_min.parameters.simplex.tolerances.feasibility.set(1e-9)\n",
    "\n",
    "    EFlux2_min.linear_constraints.add(rhs=[0]*nrow, senses='E'*nrow, names=mets)\n",
    "    EFlux2_min.variables.add(obj=[0]*ncol, lb=lb, ub=ub, names=rxns)\n",
    "    for r in model.reactions:\n",
    "        for m, v in r.metabolites.items():\n",
    "            EFlux2_min.linear_constraints.set_coefficients(m.id, r.id, v)\n",
    "\n",
    "    EFlux2_min.variables.set_lower_bounds(biomass, 1.0*EFlux2.solution.get_objective_value())\n",
    "    EFlux2_min.objective.set_quadratic(Q)\n",
    "    EFlux2_min.objective.set_sense(EFlux2_min.objective.sense.minimize)\n",
    "    EFlux2_min.solve()\n",
    "    \n",
    "    sol = type('',(),{})()\n",
    "    sol = pd.Series(data=EFlux2_min.solution.get_values(), index=rxns)\n",
    "    sol.objective_value = (EFlux2.solution.get_objective_value(),\n",
    "                           EFlux2_min.solution.get_objective_value())\n",
    "    sol.status = (EFlux2.solution.get_status_string(),\n",
    "                  EFlux2_min.solution.get_status_string())\n",
    "    \n",
    "    return(sol)\n",
    "\n",
    "def SPOT(model, Transcriptomics):\n",
    "    \n",
    "    mets = [m.id for m in model.metabolites]\n",
    "    rxns = [r.id for r in model.reactions]\n",
    "    nrow = len(mets)\n",
    "    ncol = len(rxns)\n",
    "\n",
    "    rev_rxns = ['rev_'+r.id for r in model.reactions if r.reversibility]\n",
    "    rev_ncol = len(rev_rxns)\n",
    "\n",
    "    gpr_dict = dict()\n",
    "    for r in model.reactions:\n",
    "        if r.gene_reaction_rule:\n",
    "            temp = set()\n",
    "            for x in [x.strip('() ') for x in r.gene_reaction_rule.split(' or ')]:\n",
    "                temp.add(frozenset(y.strip('() ') for y in x.split(' and ')))\n",
    "            gpr_dict[r.id] = temp\n",
    "\n",
    "    lb = [0.0 if r.reversibility else r.lower_bound for r in model.reactions] + [0.0 for r in model.reactions if r.reversibility]\n",
    "    ub = [r.upper_bound for r in model.reactions] + [-r.lower_bound for r in model.reactions if r.reversibility]\n",
    "        \n",
    "    c = []\n",
    "    for r in model.reactions:\n",
    "        if r.gene_reaction_rule:\n",
    "            t = np.sum([np.min([Transcriptomics.loc[g] if g in Transcriptomics.index \n",
    "                                else np.array([np.Inf]) for g in p])\n",
    "                        for p in gpr_dict[r.id]])\n",
    "            if t == np.Inf:\n",
    "                t = 0\n",
    "            c.append(t)\n",
    "        else:\n",
    "            c.append(0.0)\n",
    "    for r in model.reactions:\n",
    "        if r.reversibility:\n",
    "            if r.gene_reaction_rule:\n",
    "                t = np.sum([np.min([Transcriptomics.loc[g] if g in Transcriptomics.index \n",
    "                                    else np.array([np.Inf]) for g in p])\n",
    "                            for p in gpr_dict[r.id]])\n",
    "                if t == np.Inf:\n",
    "                    t = 0\n",
    "                c.append(t)\n",
    "            else:\n",
    "                c.append(0.0)\n",
    "\n",
    "    SPOT = cplex.Cplex()\n",
    "    SPOT.set_results_stream(None)\n",
    "    SPOT.parameters.simplex.tolerances.optimality.set(1e-9)\n",
    "    SPOT.parameters.simplex.tolerances.feasibility.set(1e-9)\n",
    "\n",
    "    SPOT.linear_constraints.add(rhs=[0]*nrow, senses='E'*nrow, names=mets)\n",
    "    SPOT.variables.add(obj=c, lb=lb, ub=ub, names=rxns+rev_rxns)\n",
    "    for r in model.reactions:\n",
    "        for m, v in r.metabolites.items():\n",
    "            SPOT.linear_constraints.set_coefficients(m.id, r.id, v)\n",
    "    for r in model.reactions:\n",
    "        if r.reversibility:\n",
    "            for m, v in r.metabolites.items():\n",
    "                SPOT.linear_constraints.set_coefficients(m.id, 'rev_'+r.id, -v)\n",
    "    SPOT.quadratic_constraints.add(quad_expr=[rxns+rev_rxns, rxns+rev_rxns, [1]*len(c)],\n",
    "                                   sense='L', rhs=100000.0, name='L2norm')\n",
    "    SPOT.objective.set_sense(SPOT.objective.sense.maximize)\n",
    "    SPOT.solve()\n",
    "    SPOT_sol = SPOT.solution.get_objective_value()\n",
    "\n",
    "    sol = type('',(),{})()\n",
    "    temp = pd.Series(data=SPOT.solution.get_values(), index=rxns+rev_rxns)\n",
    "    flux = temp.loc[rxns]\n",
    "    flux_rev = temp.loc[rev_rxns]\n",
    "    for r in model.reactions:\n",
    "        if r.reversibility:\n",
    "            flux.loc[r.id] = flux.loc[r.id] - flux_rev.loc['rev_'+r.id]\n",
    "    sol = flux\n",
    "    sol.objective_value = SPOT.solution.get_objective_value()\n",
    "    sol.status = SPOT.solution.get_status_string()\n",
    "    \n",
    "    return(sol)"
   ]
  },
  {
   "cell_type": "markdown",
   "metadata": {},
   "source": [
    "### Load a metabolic model"
   ]
  },
  {
   "cell_type": "code",
   "execution_count": 3,
   "metadata": {},
   "outputs": [],
   "source": [
    "model = cobra.io.load_json_model(\"iML1515.json\")"
   ]
  },
  {
   "cell_type": "code",
   "execution_count": 4,
   "metadata": {},
   "outputs": [
    {
     "data": {
      "text/html": [
       "\n",
       "        <table>\n",
       "            <tr>\n",
       "                <td><strong>Name</strong></td>\n",
       "                <td>iML1515</td>\n",
       "            </tr><tr>\n",
       "                <td><strong>Memory address</strong></td>\n",
       "                <td>0x07fcd010f1860</td>\n",
       "            </tr><tr>\n",
       "                <td><strong>Number of metabolites</strong></td>\n",
       "                <td>1877</td>\n",
       "            </tr><tr>\n",
       "                <td><strong>Number of reactions</strong></td>\n",
       "                <td>2712</td>\n",
       "            </tr><tr>\n",
       "                <td><strong>Objective expression</strong></td>\n",
       "                <td>-1.0*BIOMASS_Ec_iML1515_core_75p37M_reverse_35685 + 1.0*BIOMASS_Ec_iML1515_core_75p37M</td>\n",
       "            </tr><tr>\n",
       "                <td><strong>Compartments</strong></td>\n",
       "                <td>cytosol, extracellular space, periplasm</td>\n",
       "            </tr>\n",
       "          </table>"
      ],
      "text/plain": [
       "<Model iML1515 at 0x7fcd010f1860>"
      ]
     },
     "execution_count": 4,
     "metadata": {},
     "output_type": "execute_result"
    }
   ],
   "source": [
    "model"
   ]
  },
  {
   "cell_type": "code",
   "execution_count": 5,
   "metadata": {},
   "outputs": [],
   "source": [
    "biomass = 'BIOMASS_Ec_iML1515_core_75p37M'"
   ]
  },
  {
   "cell_type": "code",
   "execution_count": 6,
   "metadata": {
    "scrolled": true
   },
   "outputs": [
    {
     "data": {
      "text/plain": [
       "{'EX_ca2_e': 1000.0,\n",
       " 'EX_cl_e': 1000.0,\n",
       " 'EX_co2_e': 1000.0,\n",
       " 'EX_cobalt2_e': 1000.0,\n",
       " 'EX_cu2_e': 1000.0,\n",
       " 'EX_fe2_e': 1000.0,\n",
       " 'EX_fe3_e': 1000.0,\n",
       " 'EX_glc__D_e': 10.0,\n",
       " 'EX_h2o_e': 1000.0,\n",
       " 'EX_h_e': 1000.0,\n",
       " 'EX_k_e': 1000.0,\n",
       " 'EX_mg2_e': 1000.0,\n",
       " 'EX_mn2_e': 1000.0,\n",
       " 'EX_mobd_e': 1000.0,\n",
       " 'EX_na1_e': 1000.0,\n",
       " 'EX_nh4_e': 1000.0,\n",
       " 'EX_ni2_e': 1000.0,\n",
       " 'EX_o2_e': 1000.0,\n",
       " 'EX_pi_e': 1000.0,\n",
       " 'EX_sel_e': 1000.0,\n",
       " 'EX_slnt_e': 1000.0,\n",
       " 'EX_so4_e': 1000.0,\n",
       " 'EX_tungs_e': 1000.0,\n",
       " 'EX_zn2_e': 1000.0}"
      ]
     },
     "execution_count": 6,
     "metadata": {},
     "output_type": "execute_result"
    }
   ],
   "source": [
    "model.medium"
   ]
  },
  {
   "cell_type": "code",
   "execution_count": 7,
   "metadata": {},
   "outputs": [
    {
     "data": {
      "text/plain": [
       "<optlang.glpk_interface.Model at 0x7fcd010f1908>"
      ]
     },
     "execution_count": 7,
     "metadata": {},
     "output_type": "execute_result"
    }
   ],
   "source": [
    "model.solver"
   ]
  },
  {
   "cell_type": "code",
   "execution_count": 8,
   "metadata": {},
   "outputs": [
    {
     "name": "stdout",
     "output_type": "stream",
     "text": [
      "optimal 0.876997214426973\n"
     ]
    }
   ],
   "source": [
    "model.solver = 'cplex'\n",
    "sol = model.optimize()\n",
    "print(sol.status, sol.objective_value)"
   ]
  },
  {
   "cell_type": "code",
   "execution_count": 9,
   "metadata": {},
   "outputs": [
    {
     "name": "stdout",
     "output_type": "stream",
     "text": [
      "optimal 0.876997214426973\n"
     ]
    }
   ],
   "source": [
    "sol = cobra.flux_analysis.pfba(model)\n",
    "print(sol.status, sol[biomass])"
   ]
  },
  {
   "cell_type": "code",
   "execution_count": 10,
   "metadata": {},
   "outputs": [
    {
     "data": {
      "text/html": [
       "<div>\n",
       "<style scoped>\n",
       "    .dataframe tbody tr th:only-of-type {\n",
       "        vertical-align: middle;\n",
       "    }\n",
       "\n",
       "    .dataframe tbody tr th {\n",
       "        vertical-align: top;\n",
       "    }\n",
       "\n",
       "    .dataframe thead th {\n",
       "        text-align: right;\n",
       "    }\n",
       "</style>\n",
       "<table border=\"1\" class=\"dataframe\">\n",
       "  <thead>\n",
       "    <tr style=\"text-align: right;\">\n",
       "      <th></th>\n",
       "      <th>1</th>\n",
       "    </tr>\n",
       "    <tr>\n",
       "      <th>0</th>\n",
       "      <th></th>\n",
       "    </tr>\n",
       "  </thead>\n",
       "  <tbody>\n",
       "    <tr>\n",
       "      <th>b0957</th>\n",
       "      <td>45.278681</td>\n",
       "    </tr>\n",
       "    <tr>\n",
       "      <th>b0929</th>\n",
       "      <td>42.173087</td>\n",
       "    </tr>\n",
       "    <tr>\n",
       "      <th>b1480</th>\n",
       "      <td>38.351485</td>\n",
       "    </tr>\n",
       "    <tr>\n",
       "      <th>b3299</th>\n",
       "      <td>29.201456</td>\n",
       "    </tr>\n",
       "    <tr>\n",
       "      <th>b2093</th>\n",
       "      <td>36.778437</td>\n",
       "    </tr>\n",
       "  </tbody>\n",
       "</table>\n",
       "</div>"
      ],
      "text/plain": [
       "               1\n",
       "0               \n",
       "b0957  45.278681\n",
       "b0929  42.173087\n",
       "b1480  38.351485\n",
       "b3299  29.201456\n",
       "b2093  36.778437"
      ]
     },
     "execution_count": 10,
     "metadata": {},
     "output_type": "execute_result"
    }
   ],
   "source": [
    "Transcriptomics = pd.read_csv('ishii-trans-1.csv', index_col=0, header=None)\n",
    "Transcriptomics.head()"
   ]
  },
  {
   "cell_type": "code",
   "execution_count": 11,
   "metadata": {},
   "outputs": [
    {
     "name": "stdout",
     "output_type": "stream",
     "text": [
      "('optimal', 'optimal') (0.21407999833428526, 988.7483913155061)\n"
     ]
    }
   ],
   "source": [
    "sol = EFlux2(model,Transcriptomics[1])\n",
    "print(sol.status, sol.objective_value)"
   ]
  },
  {
   "cell_type": "code",
   "execution_count": 12,
   "metadata": {},
   "outputs": [
    {
     "name": "stdout",
     "output_type": "stream",
     "text": [
      "optimal -1.1006196102415449e-06 494551.1644285894\n"
     ]
    }
   ],
   "source": [
    "sol = SPOT(model,Transcriptomics[1])\n",
    "print(sol.status, sol[biomass], sol.objective_value)"
   ]
  },
  {
   "cell_type": "code",
   "execution_count": 13,
   "metadata": {},
   "outputs": [
    {
     "name": "stdout",
     "output_type": "stream",
     "text": [
      "Uptake rates\n",
      "EX_fe2_e -0.3855336033134979\n",
      "EX_glc__D_e -1.2143225160296032\n",
      "EX_dgsn_e -1.0131261304096836e-06\n",
      "EX_din_e -1.002453364891099e-06\n",
      "EX_amp_e -1.0331307150116402e-06\n",
      "EX_gthrd_e -1.0098151992833501e-06\n",
      "EX_adn_e -1.0211063219288138e-06\n",
      "EX_dad_2_e -1.0333153410731049e-06\n",
      "EX_cu2_e -1.3810385990288727e-06\n",
      "EX_23camp_e -1.0256401730988357e-06\n",
      "EX_23cgmp_e -1.0091693372632283e-06\n",
      "EX_3amp_e -1.0246057854439925e-06\n",
      "EX_3gmp_e -1.0078018939953799e-06\n",
      "EX_imp_e -1.0137678421125588e-06\n",
      "EX_gmp_e -1.0201701318008753e-06\n",
      "EX_so4_e -1.5391106448156295e-06\n",
      "EX_gsn_e -1.0027375364088666e-06\n",
      "EX_o2_e -3.203838251713914\n",
      "EX_LalaDgluMdapDala_e -1.019566587417092e-06\n",
      "EX_anhgm_e -1.015334327197908e-06\n",
      "EX_damp_e -1.0399709853062315e-06\n",
      "EX_dimp_e -1.0174725284437678e-06\n",
      "EX_dgmp_e -1.0251480340118395e-06\n",
      "\n",
      "Secretion rates\n",
      "EX_pi_e 4.8941134616035595e-05\n",
      "EX_h_e 2.5400416182610823\n",
      "EX_ac_e 0.9898048921499839\n",
      "EX_fe3_e 0.3855333512269465\n",
      "EX_glcn_e 1.3690181447450287e-06\n",
      "EX_glyc_e 5.07912870430075e-06\n",
      "EX_rib__D_e 1.0014456019067841e-06\n",
      "EX_co2_e 2.227606728136775\n",
      "EX_lac__L_e 8.02364448927505e-06\n",
      "EX_leu__L_e 2.5416884789092726e-06\n",
      "EX_pyr_e 4.691754647804115e-06\n",
      "EX_succ_e 6.144344571983177e-06\n",
      "EX_thym_e 1.361730807807226e-06\n",
      "EX_gal_e 2.9116808144513577e-06\n",
      "EX_for_e 1.6909157840307683\n",
      "EX_h2_e 1.1317031252957474e-06\n",
      "EX_dha_e 0.22359446931545576\n",
      "EX_glyclt_e 0.017443827771023462\n",
      "EX_idon__L_e 1.3692774119393975e-06\n",
      "EX_lac__D_e 0.17604115115492316\n",
      "EX_h2s_e 4.501369033441217e-06\n",
      "EX_15dap_e 2.500263880217533e-06\n",
      "EX_glyb_e 1.0139015612465732e-06\n",
      "EX_hxa_e 1.6995473940868094e-06\n",
      "EX_glyc__R_e 0.05154749850183975\n",
      "EX_h2o2_e 1.957803467239713e-06\n",
      "EX_h2o_e 2.4197666019456348\n",
      "EX_nh4_e 0.0002291255817119741\n",
      "EX_inost_e 2.2406443941813096e-06\n",
      "EX_etoh_e 4.505912867016568e-06\n",
      "EX_cu_e 1.3817520969515245e-06\n",
      "EX_acgal_e 1.3806849505199169e-06\n",
      "DM_oxam_c 3.1096114487391166e-06\n",
      "EX_12ppd__R_e 3.3259293031800575e-06\n",
      "DM_4crsol_c 1.2200262960593786e-06\n",
      "EX_3hpp_e 1.680598467568832e-05\n"
     ]
    }
   ],
   "source": [
    "print('Uptake rates')\n",
    "for x in model.exchanges:\n",
    "    if sol[x.id] < -1e-6:\n",
    "        print(x.id, sol[x.id])\n",
    "print()\n",
    "print('Secretion rates')\n",
    "for x in model.exchanges:\n",
    "    if sol[x.id] > 1e-6:\n",
    "        print(x.id, sol[x.id])"
   ]
  },
  {
   "cell_type": "markdown",
   "metadata": {},
   "source": [
    "### Define medium and initial concentrations"
   ]
  },
  {
   "cell_type": "code",
   "execution_count": 14,
   "metadata": {},
   "outputs": [
    {
     "data": {
      "text/html": [
       "<div>\n",
       "<style scoped>\n",
       "    .dataframe tbody tr th:only-of-type {\n",
       "        vertical-align: middle;\n",
       "    }\n",
       "\n",
       "    .dataframe tbody tr th {\n",
       "        vertical-align: top;\n",
       "    }\n",
       "\n",
       "    .dataframe thead th {\n",
       "        text-align: right;\n",
       "    }\n",
       "</style>\n",
       "<table border=\"1\" class=\"dataframe\">\n",
       "  <thead>\n",
       "    <tr style=\"text-align: right;\">\n",
       "      <th></th>\n",
       "      <th>mM</th>\n",
       "    </tr>\n",
       "  </thead>\n",
       "  <tbody>\n",
       "    <tr>\n",
       "      <th>glc__D_e</th>\n",
       "      <td>22.203</td>\n",
       "    </tr>\n",
       "    <tr>\n",
       "      <th>nh4_e</th>\n",
       "      <td>18.695</td>\n",
       "    </tr>\n",
       "    <tr>\n",
       "      <th>pi_e</th>\n",
       "      <td>69.454</td>\n",
       "    </tr>\n",
       "    <tr>\n",
       "      <th>so4_e</th>\n",
       "      <td>2.000</td>\n",
       "    </tr>\n",
       "    <tr>\n",
       "      <th>mg2_e</th>\n",
       "      <td>2.000</td>\n",
       "    </tr>\n",
       "    <tr>\n",
       "      <th>k_e</th>\n",
       "      <td>21.883</td>\n",
       "    </tr>\n",
       "    <tr>\n",
       "      <th>na1_e</th>\n",
       "      <td>103.700</td>\n",
       "    </tr>\n",
       "    <tr>\n",
       "      <th>cl_e</th>\n",
       "      <td>27.250</td>\n",
       "    </tr>\n",
       "  </tbody>\n",
       "</table>\n",
       "</div>"
      ],
      "text/plain": [
       "               mM\n",
       "glc__D_e   22.203\n",
       "nh4_e      18.695\n",
       "pi_e       69.454\n",
       "so4_e       2.000\n",
       "mg2_e       2.000\n",
       "k_e        21.883\n",
       "na1_e     103.700\n",
       "cl_e       27.250"
      ]
     },
     "execution_count": 14,
     "metadata": {},
     "output_type": "execute_result"
    }
   ],
   "source": [
    "volume = 1.0\n",
    "comp = ['glc__D_e', 'nh4_e', 'pi_e', 'so4_e', 'mg2_e', 'k_e', 'na1_e', 'cl_e']\n",
    "subs0 = [22.203, 18.695, 69.454, 2.0, 2.0, 21.883, 103.7, 27.25] # in mM\n",
    "cell0 = 0.01 # in gDW/L\n",
    "pd.DataFrame(index=comp, data=subs0, columns=['mM'])"
   ]
  },
  {
   "cell_type": "code",
   "execution_count": 15,
   "metadata": {
    "scrolled": true
   },
   "outputs": [
    {
     "data": {
      "text/plain": [
       "{'EX_cl_e': 'cl_e',\n",
       " 'EX_glc__D_e': 'glc__D_e',\n",
       " 'EX_k_e': 'k_e',\n",
       " 'EX_mg2_e': 'mg2_e',\n",
       " 'EX_na1_e': 'na1_e',\n",
       " 'EX_nh4_e': 'nh4_e',\n",
       " 'EX_pi_e': 'pi_e',\n",
       " 'EX_so4_e': 'so4_e'}"
      ]
     },
     "execution_count": 15,
     "metadata": {},
     "output_type": "execute_result"
    }
   ],
   "source": [
    "subs_ext = {r.id: r.reactants[0].id for r in model.exchanges if r.reactants[0].id in comp}\n",
    "subs_ext"
   ]
  },
  {
   "cell_type": "code",
   "execution_count": 16,
   "metadata": {},
   "outputs": [
    {
     "data": {
      "text/plain": [
       "{'DM_4crsol_c': '4crsol_c',\n",
       " 'DM_5drib_c': '5drib_c',\n",
       " 'DM_aacald_c': 'aacald_c',\n",
       " 'DM_amob_c': 'amob_c',\n",
       " 'DM_mththf_c': 'mththf_c',\n",
       " 'DM_oxam_c': 'oxam_c',\n",
       " 'EX_12ppd__R_e': '12ppd__R_e',\n",
       " 'EX_12ppd__S_e': '12ppd__S_e',\n",
       " 'EX_14glucan_e': '14glucan_e',\n",
       " 'EX_15dap_e': '15dap_e',\n",
       " 'EX_23camp_e': '23camp_e',\n",
       " 'EX_23ccmp_e': '23ccmp_e',\n",
       " 'EX_23cgmp_e': '23cgmp_e',\n",
       " 'EX_23cump_e': '23cump_e',\n",
       " 'EX_23dappa_e': '23dappa_e',\n",
       " 'EX_26dap__M_e': '26dap__M_e',\n",
       " 'EX_2ddglcn_e': '2ddglcn_e',\n",
       " 'EX_2dglc_e': '2dglc_e',\n",
       " 'EX_34dhpac_e': '34dhpac_e',\n",
       " 'EX_3amp_e': '3amp_e',\n",
       " 'EX_3cmp_e': '3cmp_e',\n",
       " 'EX_3gmp_e': '3gmp_e',\n",
       " 'EX_3hcinnm_e': '3hcinnm_e',\n",
       " 'EX_3hpp_e': '3hpp_e',\n",
       " 'EX_3hpppn_e': '3hpppn_e',\n",
       " 'EX_3ump_e': '3ump_e',\n",
       " 'EX_4abut_e': '4abut_e',\n",
       " 'EX_4abzglu_e': '4abzglu_e',\n",
       " 'EX_4hoxpacd_e': '4hoxpacd_e',\n",
       " 'EX_5dglcn_e': '5dglcn_e',\n",
       " 'EX_5mtr_e': '5mtr_e',\n",
       " 'EX_LalaDgluMdapDala_e': 'LalaDgluMdapDala_e',\n",
       " 'EX_LalaDgluMdap_e': 'LalaDgluMdap_e',\n",
       " 'EX_LalaDglu_e': 'LalaDglu_e',\n",
       " 'EX_LalaLglu_e': 'LalaLglu_e',\n",
       " 'EX_ac_e': 'ac_e',\n",
       " 'EX_acac_e': 'acac_e',\n",
       " 'EX_acald_e': 'acald_e',\n",
       " 'EX_acgal1p_e': 'acgal1p_e',\n",
       " 'EX_acgal_e': 'acgal_e',\n",
       " 'EX_acgam1p_e': 'acgam1p_e',\n",
       " 'EX_acgam_e': 'acgam_e',\n",
       " 'EX_acmana_e': 'acmana_e',\n",
       " 'EX_acmum_e': 'acmum_e',\n",
       " 'EX_acnam_e': 'acnam_e',\n",
       " 'EX_acser_e': 'acser_e',\n",
       " 'EX_ade_e': 'ade_e',\n",
       " 'EX_adn_e': 'adn_e',\n",
       " 'EX_adocbl_e': 'adocbl_e',\n",
       " 'EX_ag_e': 'ag_e',\n",
       " 'EX_agm_e': 'agm_e',\n",
       " 'EX_akg_e': 'akg_e',\n",
       " 'EX_ala_B_e': 'ala_B_e',\n",
       " 'EX_ala__D_e': 'ala__D_e',\n",
       " 'EX_ala__L_e': 'ala__L_e',\n",
       " 'EX_alaala_e': 'alaala_e',\n",
       " 'EX_all__D_e': 'all__D_e',\n",
       " 'EX_alltn_e': 'alltn_e',\n",
       " 'EX_amp_e': 'amp_e',\n",
       " 'EX_anhgm_e': 'anhgm_e',\n",
       " 'EX_arab__L_e': 'arab__L_e',\n",
       " 'EX_arbt_e': 'arbt_e',\n",
       " 'EX_arbtn_e': 'arbtn_e',\n",
       " 'EX_arbtn_fe3_e': 'arbtn_fe3_e',\n",
       " 'EX_arg__L_e': 'arg__L_e',\n",
       " 'EX_ascb__L_e': 'ascb__L_e',\n",
       " 'EX_asn__L_e': 'asn__L_e',\n",
       " 'EX_aso3_e': 'aso3_e',\n",
       " 'EX_asp__L_e': 'asp__L_e',\n",
       " 'EX_btn_e': 'btn_e',\n",
       " 'EX_but_e': 'but_e',\n",
       " 'EX_butso3_e': 'butso3_e',\n",
       " 'EX_ca2_e': 'ca2_e',\n",
       " 'EX_cbi_e': 'cbi_e',\n",
       " 'EX_cbl1_e': 'cbl1_e',\n",
       " 'EX_cd2_e': 'cd2_e',\n",
       " 'EX_cellb_e': 'cellb_e',\n",
       " 'EX_cgly_e': 'cgly_e',\n",
       " 'EX_ch4_e': 'ch4_e',\n",
       " 'EX_chol_e': 'chol_e',\n",
       " 'EX_chtbs_e': 'chtbs_e',\n",
       " 'EX_cit_e': 'cit_e',\n",
       " 'EX_cl_e': 'cl_e',\n",
       " 'EX_cm_e': 'cm_e',\n",
       " 'EX_cmp_e': 'cmp_e',\n",
       " 'EX_co2_e': 'co2_e',\n",
       " 'EX_cobalt2_e': 'cobalt2_e',\n",
       " 'EX_cpgn_e': 'cpgn_e',\n",
       " 'EX_cpgn_un_e': 'cpgn_un_e',\n",
       " 'EX_crn__D_e': 'crn__D_e',\n",
       " 'EX_crn_e': 'crn_e',\n",
       " 'EX_cs1_e': 'cs1_e',\n",
       " 'EX_csn_e': 'csn_e',\n",
       " 'EX_cu2_e': 'cu2_e',\n",
       " 'EX_cu_e': 'cu_e',\n",
       " 'EX_cyan_e': 'cyan_e',\n",
       " 'EX_cynt_e': 'cynt_e',\n",
       " 'EX_cys__D_e': 'cys__D_e',\n",
       " 'EX_cys__L_e': 'cys__L_e',\n",
       " 'EX_cytd_e': 'cytd_e',\n",
       " 'EX_dad_2_e': 'dad_2_e',\n",
       " 'EX_damp_e': 'damp_e',\n",
       " 'EX_dca_e': 'dca_e',\n",
       " 'EX_dcmp_e': 'dcmp_e',\n",
       " 'EX_dcyt_e': 'dcyt_e',\n",
       " 'EX_ddca_e': 'ddca_e',\n",
       " 'EX_dgmp_e': 'dgmp_e',\n",
       " 'EX_dgsn_e': 'dgsn_e',\n",
       " 'EX_dha_e': 'dha_e',\n",
       " 'EX_dhps_e': 'dhps_e',\n",
       " 'EX_dimp_e': 'dimp_e',\n",
       " 'EX_din_e': 'din_e',\n",
       " 'EX_dms_e': 'dms_e',\n",
       " 'EX_dmso_e': 'dmso_e',\n",
       " 'EX_dopa_e': 'dopa_e',\n",
       " 'EX_doxrbcn_e': 'doxrbcn_e',\n",
       " 'EX_dtmp_e': 'dtmp_e',\n",
       " 'EX_dump_e': 'dump_e',\n",
       " 'EX_duri_e': 'duri_e',\n",
       " 'EX_dxylnt_e': 'dxylnt_e',\n",
       " 'EX_eca4colipa_e': 'eca4colipa_e',\n",
       " 'EX_enlipa_e': 'enlipa_e',\n",
       " 'EX_enter_e': 'enter_e',\n",
       " 'EX_etha_e': 'etha_e',\n",
       " 'EX_ethso3_e': 'ethso3_e',\n",
       " 'EX_etoh_e': 'etoh_e',\n",
       " 'EX_f6p_e': 'f6p_e',\n",
       " 'EX_fad_e': 'fad_e',\n",
       " 'EX_fald_e': 'fald_e',\n",
       " 'EX_fe2_e': 'fe2_e',\n",
       " 'EX_fe3_e': 'fe3_e',\n",
       " 'EX_fe3dcit_e': 'fe3dcit_e',\n",
       " 'EX_fe3dhbzs_e': 'fe3dhbzs_e',\n",
       " 'EX_fe3hox_e': 'fe3hox_e',\n",
       " 'EX_fe3hox_un_e': 'fe3hox_un_e',\n",
       " 'EX_fecrm_e': 'fecrm_e',\n",
       " 'EX_fecrm_un_e': 'fecrm_un_e',\n",
       " 'EX_feenter_e': 'feenter_e',\n",
       " 'EX_feoxam_e': 'feoxam_e',\n",
       " 'EX_feoxam_un_e': 'feoxam_un_e',\n",
       " 'EX_fmn_e': 'fmn_e',\n",
       " 'EX_for_e': 'for_e',\n",
       " 'EX_fru_e': 'fru_e',\n",
       " 'EX_frulys_e': 'frulys_e',\n",
       " 'EX_fruur_e': 'fruur_e',\n",
       " 'EX_fuc__L_e': 'fuc__L_e',\n",
       " 'EX_fum_e': 'fum_e',\n",
       " 'EX_fusa_e': 'fusa_e',\n",
       " 'EX_g1p_e': 'g1p_e',\n",
       " 'EX_g3pc_e': 'g3pc_e',\n",
       " 'EX_g3pe_e': 'g3pe_e',\n",
       " 'EX_g3pg_e': 'g3pg_e',\n",
       " 'EX_g3pi_e': 'g3pi_e',\n",
       " 'EX_g3ps_e': 'g3ps_e',\n",
       " 'EX_g6p_e': 'g6p_e',\n",
       " 'EX_gal1p_e': 'gal1p_e',\n",
       " 'EX_gal_bD_e': 'gal_bD_e',\n",
       " 'EX_gal_e': 'gal_e',\n",
       " 'EX_galct__D_e': 'galct__D_e',\n",
       " 'EX_galctn__D_e': 'galctn__D_e',\n",
       " 'EX_galctn__L_e': 'galctn__L_e',\n",
       " 'EX_galt_e': 'galt_e',\n",
       " 'EX_galur_e': 'galur_e',\n",
       " 'EX_gam6p_e': 'gam6p_e',\n",
       " 'EX_gam_e': 'gam_e',\n",
       " 'EX_gbbtn_e': 'gbbtn_e',\n",
       " 'EX_gdp_e': 'gdp_e',\n",
       " 'EX_glc__D_e': 'glc__D_e',\n",
       " 'EX_glcn_e': 'glcn_e',\n",
       " 'EX_glcr_e': 'glcr_e',\n",
       " 'EX_glcur1p_e': 'glcur1p_e',\n",
       " 'EX_glcur_e': 'glcur_e',\n",
       " 'EX_gln__L_e': 'gln__L_e',\n",
       " 'EX_glu__L_e': 'glu__L_e',\n",
       " 'EX_gly_e': 'gly_e',\n",
       " 'EX_glyald_e': 'glyald_e',\n",
       " 'EX_glyb_e': 'glyb_e',\n",
       " 'EX_glyc2p_e': 'glyc2p_e',\n",
       " 'EX_glyc3p_e': 'glyc3p_e',\n",
       " 'EX_glyc__R_e': 'glyc__R_e',\n",
       " 'EX_glyc_e': 'glyc_e',\n",
       " 'EX_glyclt_e': 'glyclt_e',\n",
       " 'EX_gmp_e': 'gmp_e',\n",
       " 'EX_gsn_e': 'gsn_e',\n",
       " 'EX_gthox_e': 'gthox_e',\n",
       " 'EX_gthrd_e': 'gthrd_e',\n",
       " 'EX_gtp_e': 'gtp_e',\n",
       " 'EX_gua_e': 'gua_e',\n",
       " 'EX_h2_e': 'h2_e',\n",
       " 'EX_h2o2_e': 'h2o2_e',\n",
       " 'EX_h2o_e': 'h2o_e',\n",
       " 'EX_h2s_e': 'h2s_e',\n",
       " 'EX_h_e': 'h_e',\n",
       " 'EX_hacolipa_e': 'hacolipa_e',\n",
       " 'EX_halipa_e': 'halipa_e',\n",
       " 'EX_hdca_e': 'hdca_e',\n",
       " 'EX_hdcea_e': 'hdcea_e',\n",
       " 'EX_hg2_e': 'hg2_e',\n",
       " 'EX_his__L_e': 'his__L_e',\n",
       " 'EX_hom__L_e': 'hom__L_e',\n",
       " 'EX_hxa_e': 'hxa_e',\n",
       " 'EX_hxan_e': 'hxan_e',\n",
       " 'EX_idon__L_e': 'idon__L_e',\n",
       " 'EX_ile__L_e': 'ile__L_e',\n",
       " 'EX_imp_e': 'imp_e',\n",
       " 'EX_indole_e': 'indole_e',\n",
       " 'EX_inost_e': 'inost_e',\n",
       " 'EX_ins_e': 'ins_e',\n",
       " 'EX_isetac_e': 'isetac_e',\n",
       " 'EX_k_e': 'k_e',\n",
       " 'EX_lac__D_e': 'lac__D_e',\n",
       " 'EX_lac__L_e': 'lac__L_e',\n",
       " 'EX_lcts_e': 'lcts_e',\n",
       " 'EX_leu__L_e': 'leu__L_e',\n",
       " 'EX_lipoate_e': 'lipoate_e',\n",
       " 'EX_lys__L_e': 'lys__L_e',\n",
       " 'EX_lyx__L_e': 'lyx__L_e',\n",
       " 'EX_mal__D_e': 'mal__D_e',\n",
       " 'EX_mal__L_e': 'mal__L_e',\n",
       " 'EX_malt_e': 'malt_e',\n",
       " 'EX_malthx_e': 'malthx_e',\n",
       " 'EX_maltpt_e': 'maltpt_e',\n",
       " 'EX_malttr_e': 'malttr_e',\n",
       " 'EX_maltttr_e': 'maltttr_e',\n",
       " 'EX_man6p_e': 'man6p_e',\n",
       " 'EX_man_e': 'man_e',\n",
       " 'EX_manglyc_e': 'manglyc_e',\n",
       " 'EX_melib_e': 'melib_e',\n",
       " 'EX_meoh_e': 'meoh_e',\n",
       " 'EX_mepn_e': 'mepn_e',\n",
       " 'EX_met__D_e': 'met__D_e',\n",
       " 'EX_met__L_e': 'met__L_e',\n",
       " 'EX_metglcur_e': 'metglcur_e',\n",
       " 'EX_metsox_R__L_e': 'metsox_R__L_e',\n",
       " 'EX_metsox_S__L_e': 'metsox_S__L_e',\n",
       " 'EX_mg2_e': 'mg2_e',\n",
       " 'EX_mincyc_e': 'mincyc_e',\n",
       " 'EX_minohp_e': 'minohp_e',\n",
       " 'EX_mmet_e': 'mmet_e',\n",
       " 'EX_mn2_e': 'mn2_e',\n",
       " 'EX_mnl_e': 'mnl_e',\n",
       " 'EX_mobd_e': 'mobd_e',\n",
       " 'EX_mso3_e': 'mso3_e',\n",
       " 'EX_mththf_e': 'mththf_e',\n",
       " 'EX_n2o_e': 'n2o_e',\n",
       " 'EX_na1_e': 'na1_e',\n",
       " 'EX_nac_e': 'nac_e',\n",
       " 'EX_nh4_e': 'nh4_e',\n",
       " 'EX_ni2_e': 'ni2_e',\n",
       " 'EX_nmn_e': 'nmn_e',\n",
       " 'EX_no2_e': 'no2_e',\n",
       " 'EX_no3_e': 'no3_e',\n",
       " 'EX_no_e': 'no_e',\n",
       " 'EX_novbcn_e': 'novbcn_e',\n",
       " 'EX_o2_e': 'o2_e',\n",
       " 'EX_o2s_e': 'o2s_e',\n",
       " 'EX_ocdca_e': 'ocdca_e',\n",
       " 'EX_ocdcea_e': 'ocdcea_e',\n",
       " 'EX_octa_e': 'octa_e',\n",
       " 'EX_orn_e': 'orn_e',\n",
       " 'EX_orot_e': 'orot_e',\n",
       " 'EX_pacald_e': 'pacald_e',\n",
       " 'EX_peamn_e': 'peamn_e',\n",
       " 'EX_phe__L_e': 'phe__L_e',\n",
       " 'EX_pheme_e': 'pheme_e',\n",
       " 'EX_pi_e': 'pi_e',\n",
       " 'EX_pnto__R_e': 'pnto__R_e',\n",
       " 'EX_ppa_e': 'ppa_e',\n",
       " 'EX_ppal_e': 'ppal_e',\n",
       " 'EX_pppn_e': 'pppn_e',\n",
       " 'EX_ppt_e': 'ppt_e',\n",
       " 'EX_pro__L_e': 'pro__L_e',\n",
       " 'EX_progly_e': 'progly_e',\n",
       " 'EX_psclys_e': 'psclys_e',\n",
       " 'EX_pser__L_e': 'pser__L_e',\n",
       " 'EX_ptrc_e': 'ptrc_e',\n",
       " 'EX_pydam_e': 'pydam_e',\n",
       " 'EX_pydx_e': 'pydx_e',\n",
       " 'EX_pydxn_e': 'pydxn_e',\n",
       " 'EX_pyr_e': 'pyr_e',\n",
       " 'EX_quin_e': 'quin_e',\n",
       " 'EX_r5p_e': 'r5p_e',\n",
       " 'EX_rfamp_e': 'rfamp_e',\n",
       " 'EX_rib__D_e': 'rib__D_e',\n",
       " 'EX_rmn_e': 'rmn_e',\n",
       " 'EX_sbt__D_e': 'sbt__D_e',\n",
       " 'EX_sel_e': 'sel_e',\n",
       " 'EX_ser__D_e': 'ser__D_e',\n",
       " 'EX_ser__L_e': 'ser__L_e',\n",
       " 'EX_skm_e': 'skm_e',\n",
       " 'EX_slnt_e': 'slnt_e',\n",
       " 'EX_so2_e': 'so2_e',\n",
       " 'EX_so3_e': 'so3_e',\n",
       " 'EX_so4_e': 'so4_e',\n",
       " 'EX_spmd_e': 'spmd_e',\n",
       " 'EX_sq_e': 'sq_e',\n",
       " 'EX_succ_e': 'succ_e',\n",
       " 'EX_sucr_e': 'sucr_e',\n",
       " 'EX_sulfac_e': 'sulfac_e',\n",
       " 'EX_tartr__D_e': 'tartr__D_e',\n",
       " 'EX_tartr__L_e': 'tartr__L_e',\n",
       " 'EX_taur_e': 'taur_e',\n",
       " 'EX_tcynt_e': 'tcynt_e',\n",
       " 'EX_thm_e': 'thm_e',\n",
       " 'EX_thr__L_e': 'thr__L_e',\n",
       " 'EX_thrp_e': 'thrp_e',\n",
       " 'EX_thym_e': 'thym_e',\n",
       " 'EX_thymd_e': 'thymd_e',\n",
       " 'EX_tma_e': 'tma_e',\n",
       " 'EX_tmao_e': 'tmao_e',\n",
       " 'EX_tre_e': 'tre_e',\n",
       " 'EX_trp__L_e': 'trp__L_e',\n",
       " 'EX_tsul_e': 'tsul_e',\n",
       " 'EX_ttdca_e': 'ttdca_e',\n",
       " 'EX_ttdcea_e': 'ttdcea_e',\n",
       " 'EX_ttrcyc_e': 'ttrcyc_e',\n",
       " 'EX_tungs_e': 'tungs_e',\n",
       " 'EX_tym_e': 'tym_e',\n",
       " 'EX_tyr__L_e': 'tyr__L_e',\n",
       " 'EX_tyrp_e': 'tyrp_e',\n",
       " 'EX_uacgam_e': 'uacgam_e',\n",
       " 'EX_udpacgal_e': 'udpacgal_e',\n",
       " 'EX_udpg_e': 'udpg_e',\n",
       " 'EX_udpgal_e': 'udpgal_e',\n",
       " 'EX_udpglcur_e': 'udpglcur_e',\n",
       " 'EX_ump_e': 'ump_e',\n",
       " 'EX_ura_e': 'ura_e',\n",
       " 'EX_urate_e': 'urate_e',\n",
       " 'EX_urea_e': 'urea_e',\n",
       " 'EX_uri_e': 'uri_e',\n",
       " 'EX_val__L_e': 'val__L_e',\n",
       " 'EX_xan_e': 'xan_e',\n",
       " 'EX_xmp_e': 'xmp_e',\n",
       " 'EX_xtsn_e': 'xtsn_e',\n",
       " 'EX_xyl__D_e': 'xyl__D_e',\n",
       " 'EX_xylu__L_e': 'xylu__L_e',\n",
       " 'EX_zn2_e': 'zn2_e'}"
      ]
     },
     "execution_count": 16,
     "metadata": {},
     "output_type": "execute_result"
    }
   ],
   "source": [
    "prod_ext = {r.id: r.reactants[0].id for r in model.exchanges if r.upper_bound > 0.0}\n",
    "prod_ext"
   ]
  },
  {
   "cell_type": "markdown",
   "metadata": {},
   "source": [
    "### Set time interval and concentration profiles"
   ]
  },
  {
   "cell_type": "code",
   "execution_count": 17,
   "metadata": {
    "scrolled": true
   },
   "outputs": [],
   "source": [
    "t0 = 0.0\n",
    "tf = 24.0\n",
    "pts = 13\n",
    "tspan = np.linspace(t0, tf, pts)\n",
    "delt = tspan[1] - tspan[0]\n",
    "cell = pd.Series(index=tspan)\n",
    "cell[t0] = cell0\n",
    "subs = pd.DataFrame(index=tspan, columns=comp)\n",
    "subs.loc[t0] = subs0\n",
    "prod = pd.DataFrame(index=tspan, columns=prod_ext.values())\n",
    "prod.loc[t0] = 0.0"
   ]
  },
  {
   "cell_type": "markdown",
   "metadata": {},
   "source": [
    "### Solve pFBA at each time interval and update concentrations"
   ]
  },
  {
   "cell_type": "code",
   "execution_count": 18,
   "metadata": {
    "scrolled": true
   },
   "outputs": [
    {
     "name": "stdout",
     "output_type": "stream",
     "text": [
      "0.0 optimal 0.8769972144269672\n",
      "2.0 optimal 0.8769972144269672\n",
      "4.0 optimal 0.8769972144269672\n"
     ]
    },
    {
     "name": "stderr",
     "output_type": "stream",
     "text": [
      "cobra/util/solver.py:403 \u001b[1;31mUserWarning\u001b[0m: solver status is 'infeasible'\n"
     ]
    },
    {
     "name": "stdout",
     "output_type": "stream",
     "text": [
      "6.0 infeasible -0.030930228137858007\n",
      "8.0 infeasible -0.030930228137858007\n",
      "10.0 infeasible -0.030930228137858007\n",
      "12.0 infeasible -0.030930228137858007\n",
      "14.0 infeasible -0.030930228137858007\n",
      "16.0 infeasible -0.030930228137858007\n",
      "18.0 infeasible -0.030930228137858007\n",
      "20.0 infeasible -0.030930228137858007\n",
      "22.0 infeasible -0.030930228137858007\n",
      "24.0 infeasible -0.030930228137858007\n"
     ]
    }
   ],
   "source": [
    "with model:\n",
    "    for t in tspan:\n",
    "        for k, v in subs_ext.items():\n",
    "            model.reactions.get_by_id(k).lower_bound = max(model.reactions.get_by_id(k).lower_bound,\n",
    "                                                           -subs.loc[t,v]*volume/cell[t]/delt)\n",
    "        sol = model.optimize()\n",
    "        #sol = cobra.flux_analysis.pfba(model)\n",
    "        mu = sol[biomass]\n",
    "        print(t, sol.status, mu)\n",
    "        if sol.status == 'optimal' and mu > 1e-6:\n",
    "            cell[t+delt] = cell[t]*np.exp(mu*delt)\n",
    "            for k, v in subs_ext.items():\n",
    "                subs.loc[t+delt,v] = max(subs.loc[t,v]-sol[k]/mu*cell[t]*(1-np.exp(mu*delt)),0.0)\n",
    "            for k, v in prod_ext.items():\n",
    "                if sol[k] > 0:\n",
    "                    if v in prod.columns:\n",
    "                        prod.loc[t+delt,v] = prod.loc[t,v]-sol[k]/mu*cell[t]*(1-np.exp(mu*delt))\n",
    "                    else:\n",
    "                        prod.loc[0:t,v] = 0\n",
    "                        prod.loc[t+delt,v] = prod.loc[t,v]-sol[k]/mu*cell[t]*(1-np.exp(mu*delt))\n",
    "        else:\n",
    "            #break\n",
    "            cell[t+delt] = cell[t]\n",
    "            for k, v in subs_ext.items():\n",
    "                subs.loc[t+delt,v] = subs.loc[t,v]\n",
    "            for k, v in prod_ext.items():\n",
    "                prod.loc[t+delt,v] = prod.loc[t,v]\n",
    "\n",
    "t = 24\n",
    "cell = cell[0:t]\n",
    "subs = subs.loc[0:t]\n",
    "prod = prod.loc[0:t, prod.columns[prod.max() > 0.0]]"
   ]
  },
  {
   "cell_type": "markdown",
   "metadata": {},
   "source": [
    "### Plot cell mass and concentration profiles"
   ]
  },
  {
   "cell_type": "code",
   "execution_count": 19,
   "metadata": {
    "scrolled": true
   },
   "outputs": [
    {
     "data": {
      "image/png": "[encoded data removed]",
      "text/plain": [
       "<matplotlib.figure.Figure at 0x7fccfe5a7b38>"
      ]
     },
     "metadata": {},
     "output_type": "display_data"
    }
   ],
   "source": [
    "fig, ax = plt.subplots(figsize=(12,4), ncols=3, nrows=1)\n",
    "cell.plot(ax=ax[0], style='s-', title='Cell', label='dcw', legend=True)\n",
    "ax[0].set_xlabel(\"Hour\")\n",
    "ax[0].set_ylabel(\"Concentration (gDW/L)\")\n",
    "subs.plot(ax=ax[1], style='o-', title='Substrates')\n",
    "ax[1].set_xlabel(\"Hour\")\n",
    "ax[1].set_ylabel(\"Concentration (mM)\")\n",
    "prod.plot(ax=ax[2], style='o-', title='Products')\n",
    "ax[2].set_xlabel(\"Hour\")\n",
    "ax[2].set_ylabel(\"Concentration (mM)\")\n",
    "plt.tight_layout()"
   ]
  },
  {
   "cell_type": "markdown",
   "metadata": {},
   "source": [
    "### Set time interval and concentration profiles"
   ]
  },
  {
   "cell_type": "code",
   "execution_count": 20,
   "metadata": {},
   "outputs": [],
   "source": [
    "t0 = 0.0\n",
    "tf = 24.0\n",
    "pts = 13\n",
    "tspan = np.linspace(t0, tf, pts)\n",
    "delt = tspan[1] - tspan[0]\n",
    "cell = pd.Series(index=tspan)\n",
    "cell[t0] = cell0\n",
    "subs = pd.DataFrame(index=tspan, columns=comp)\n",
    "subs.loc[t0] = subs0\n",
    "prod = pd.DataFrame(index=tspan, columns=prod_ext.values())\n",
    "prod.loc[t0] = 0.0"
   ]
  },
  {
   "cell_type": "markdown",
   "metadata": {},
   "source": [
    "### Solve EFlux2 at each time interval and update concentrations"
   ]
  },
  {
   "cell_type": "code",
   "execution_count": 21,
   "metadata": {},
   "outputs": [
    {
     "name": "stdout",
     "output_type": "stream",
     "text": [
      "0.0 ('optimal', 'optimal') 0.21407999833428543\n",
      "2.0 ('optimal', 'optimal') 0.21407999833428543\n",
      "4.0 ('optimal', 'optimal') 0.2140799983342853\n",
      "6.0 ('optimal', 'optimal') 0.21407999833428554\n",
      "8.0 ('optimal', 'optimal') 0.2140799983342855\n",
      "10.0 ('optimal', 'optimal') 0.21407999833428545\n",
      "12.0 ('optimal', 'optimal') 0.21407999833428545\n",
      "14.0 ('optimal', 'optimal') 0.21407999833428445\n",
      "16.0 ('optimal', 'optimal') 0.2140799983342877\n",
      "18.0 ('optimal', 'optimal') 0.21407999833428767\n",
      "20.0 ('optimal', 'optimal') 0.20259004050990442\n",
      "22.0 ('infeasible', 'non-optimal') -0.029206586869131933\n",
      "24.0 ('infeasible', 'non-optimal') -0.029206586869131933\n"
     ]
    }
   ],
   "source": [
    "with model:\n",
    "    for t in tspan:\n",
    "        for k, v in subs_ext.items():\n",
    "            model.reactions.get_by_id(k).lower_bound = max(model.reactions.get_by_id(k).lower_bound,\n",
    "                                                           -subs.loc[t,v]*volume/cell[t]/delt)\n",
    "        sol = EFlux2(model,Transcriptomics[1])\n",
    "        #sol = SPOT(model,Transcriptomics[t])\n",
    "        mu = sol[biomass]\n",
    "        print(t, sol.status, mu)\n",
    "        if sol.status == ('optimal','optimal') and mu > 1e-6:\n",
    "            cell[t+delt] = cell[t]*np.exp(mu*delt)\n",
    "            for k, v in subs_ext.items():\n",
    "                subs.loc[t+delt,v] = max(subs.loc[t,v]-sol[k]/mu*cell[t]*(1-np.exp(mu*delt)),0.0)\n",
    "            for k, v in prod_ext.items():\n",
    "                if sol[k] > 0:\n",
    "                    if v in prod.columns:\n",
    "                        prod.loc[t+delt,v] = prod.loc[t,v]-sol[k]/mu*cell[t]*(1-np.exp(mu*delt))\n",
    "                    else:\n",
    "                        prod.loc[0:t,v] = 0\n",
    "                        prod.loc[t+delt,v] = prod.loc[t,v]-sol[k]/mu*cell[t]*(1-np.exp(mu*delt))\n",
    "        else:\n",
    "            #break\n",
    "            cell[t+delt] = cell[t]\n",
    "            for k, v in subs_ext.items():\n",
    "                subs.loc[t+delt,v] = subs.loc[t,v]\n",
    "            for k, v in prod_ext.items():\n",
    "                prod.loc[t+delt,v] = prod.loc[t,v]\n",
    "\n",
    "cell = cell[0:t]\n",
    "subs = subs.loc[0:t]\n",
    "prod = prod.loc[0:t, prod.columns[prod.max() > 0.1]]"
   ]
  },
  {
   "cell_type": "markdown",
   "metadata": {},
   "source": [
    "### Plot cell mass and concentration profiles"
   ]
  },
  {
   "cell_type": "code",
   "execution_count": 22,
   "metadata": {},
   "outputs": [
    {
     "data": {
      "image/png": "[encoded data removed]",
      "text/plain": [
       "<matplotlib.figure.Figure at 0x7fccfe5a7588>"
      ]
     },
     "metadata": {},
     "output_type": "display_data"
    }
   ],
   "source": [
    "fig, ax = plt.subplots(figsize=(12,4), ncols=3, nrows=1)\n",
    "cell.plot(ax=ax[0], style='s-', title='Cell', label='dcw', legend=True)\n",
    "ax[0].set_xlabel(\"Hour\")\n",
    "ax[0].set_ylabel(\"Concentration (gDW/L)\")\n",
    "subs.plot(ax=ax[1], style='o-', title='Substrates')\n",
    "ax[1].set_xlabel(\"Hour\")\n",
    "ax[1].set_ylabel(\"Concentration (mM)\")\n",
    "prod.plot(ax=ax[2], style='o-', title='Products')\n",
    "ax[2].set_xlabel(\"Hour\")\n",
    "ax[2].set_ylabel(\"Concentration (mM)\")\n",
    "plt.tight_layout()"
   ]
  },
  {
   "cell_type": "code",
   "execution_count": null,
   "metadata": {},
   "outputs": [],
   "source": []
  },
  {
   "cell_type": "code",
   "execution_count": null,
   "metadata": {},
   "outputs": [],
   "source": []
  }
 ],
 "metadata": {
  "kernelspec": {
   "display_name": "JBEI-py3.6",
   "language": "python",
   "name": "jbei-py3.6"
  },
  "language_info": {
   "codemirror_mode": {
    "name": "ipython",
    "version": 3
   },
   "file_extension": ".py",
   "mimetype": "text/x-python",
   "name": "python",
   "nbconvert_exporter": "python",
   "pygments_lexer": "ipython3",
   "version": "3.6.3"
  }
 },
 "nbformat": 4,
 "nbformat_minor": 2
}

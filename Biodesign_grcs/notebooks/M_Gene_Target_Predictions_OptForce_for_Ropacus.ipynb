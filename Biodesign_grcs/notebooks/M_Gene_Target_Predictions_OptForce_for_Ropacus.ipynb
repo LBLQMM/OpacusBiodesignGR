{
 "cells": [
  {
   "cell_type": "markdown",
   "id": "533e598e-7035-43c2-ad97-a54c98c08a99",
   "metadata": {
    "tags": []
   },
   "source": [
    "## **Notebook for gene target predictions to increase TAG production**\n",
    "\n",
    "By Christina Schenk\n",
    "\n",
    "Tested on biodesign_3.7 kernel on jprime"
   ]
  },
  {
   "cell_type": "markdown",
   "id": "1b53c64d-2cec-4e62-ad6c-46730ed51043",
   "metadata": {},
   "source": [
    "This notebook predicts interventions to increase TAG production for R. opacus cultures growing with phenol and glucose."
   ]
  },
  {
   "cell_type": "markdown",
   "id": "c0616995-33eb-4a82-9bec-16457ee8812c",
   "metadata": {},
   "source": [
    "**Import python packages**"
   ]
  },
  {
   "cell_type": "code",
   "execution_count": 1,
   "id": "412ba6d9-e08c-4fea-8adf-a0332a2d43be",
   "metadata": {},
   "outputs": [],
   "source": [
    "import cobra\n",
    "import cplex\n",
    "import sys\n",
    "OptForceDir = '../OptForce'\n",
    "sys.path.append(OptForceDir)\n",
    "from optforce import optforce"
   ]
  },
  {
   "cell_type": "markdown",
   "id": "4be059c5-9f2f-4eac-8aed-62c2db462da1",
   "metadata": {},
   "source": [
    "## R.opacus TAG production"
   ]
  },
  {
   "cell_type": "markdown",
   "id": "369c5fcd-07fa-4816-ac3f-64904d0fa548",
   "metadata": {
    "tags": []
   },
   "source": [
    "### **1 Knockout Glucose**"
   ]
  },
  {
   "cell_type": "code",
   "execution_count": 2,
   "id": "368057db-4008-4d49-8443-fd9dbde1a80a",
   "metadata": {},
   "outputs": [
    {
     "data": {
      "text/plain": [
       "'Original TAG Production'"
      ]
     },
     "metadata": {},
     "output_type": "display_data"
    },
    {
     "data": {
      "text/plain": [
       "-0.02523497196275643"
      ]
     },
     "metadata": {},
     "output_type": "display_data"
    },
    {
     "data": {
      "text/plain": [
       "'*********************'"
      ]
     },
     "metadata": {},
     "output_type": "display_data"
    },
    {
     "name": "stdout",
     "output_type": "stream",
     "text": [
      "19.262947549367734\n"
     ]
    },
    {
     "data": {
      "text/plain": [
       "'max target'"
      ]
     },
     "metadata": {},
     "output_type": "display_data"
    },
    {
     "data": {
      "text/plain": [
       "36.24031007751937"
      ]
     },
     "metadata": {},
     "output_type": "display_data"
    }
   ],
   "source": [
    "#file_name =  '../GSMs/Ropacus_annotated_curated_with_phenol_custom_biomass.xml'\n",
    "file_name =  '../GSMs/Ropacus_annotated_curated.xml'\n",
    "model = cobra.io.read_sbml_model(file_name)\n",
    "\n",
    "with model:\n",
    "    medium = model.medium\n",
    "    substrate='glucose'\n",
    "    if substrate=='phenol':\n",
    "        #model.objective = 'Growth_Phenol'\n",
    "        medium = {key:1000 for (key,value) in model.medium.items()}\n",
    "        model.reactions.get_by_id('Growth_Glucose').upper_bound = 0\n",
    "        model.reactions.get_by_id('Growth_Glucose').lower_bound = 0\n",
    "        #model.reactions.get_by_id('Growth').upper_bound = 0\n",
    "        #model.reactions.get_by_id('Growth').lower_bound = 0\n",
    "        #medium[\"EX_glc__D_e\"] = 0\n",
    "        medium[\"EX_phenol_e\"] = 100#sub_uptake_rate\n",
    "        #model.reactions.get_by_id('EX_phenol_e').upper_bound = -sub_uptake_rate\n",
    "        #model.reactions.get_by_id('EX_phenol_e').lower_bound = -sub_uptake_rate\n",
    "        model.reactions.get_by_id('EX_glc__D_e').upper_bound = 0\n",
    "        model.reactions.get_by_id('EX_glc__D_e').lower_bound = 0\n",
    "        biomass = 'Growth'\n",
    "        #medium[\"EX_phenol_e\"] = sub_uptake_rate\n",
    "    elif substrate=='glucose':\n",
    "        #model.objective = 'Growth_Glucose'\n",
    "        medium = {key:1000 for (key,value) in model.medium.items()}\n",
    "        model.reactions.get_by_id('Growth_Phenol').upper_bound = 0\n",
    "        model.reactions.get_by_id('Growth_Phenol').lower_bound = 0\n",
    "        #model.reactions.get_by_id('Growth').upper_bound = 0\n",
    "        #model.reactions.get_by_id('Growth').lower_bound = 0\n",
    "        medium[\"EX_glc__D_e\"] = 100#sub_uptake_rate\n",
    "        #medium[\"EX_phenol_e\"] = 0\n",
    "        #model.reactions.get_by_id('EX_glc__D_e').upper_bound = -sub_uptake_rate\n",
    "        #model.reactions.get_by_id('EX_glc__D_e').lower_bound = -sub_uptake_rate\n",
    "        model.reactions.get_by_id('EX_phenol_e').upper_bound = 0\n",
    "        model.reactions.get_by_id('EX_phenol_e').lower_bound = 0\n",
    "        biomass = 'Growth'\n",
    "    else:\n",
    "        print('Unknown substrate: Please choose among phenol and glucose')\n",
    "    model.medium = medium\n",
    "#     model.objective = 'Growth_Glucose'\n",
    "#     fbasol = model.optimize()\n",
    "#     TAGprod = fbasol.fluxes['tag_production']\n",
    "#     display('Original TAG Production', TAGprod)\n",
    "    display('*********************')\n",
    "    target = 'tag_production'#'EX_acac_e'#EX_ac_e'#'EX_octa_e'# #acac works!!!'EX_dca_e'#\n",
    "    maximum_knockout = 1\n",
    "    minimum_growth_fraction = 0.1 #0.1 Paper\n",
    "    minimum_target_fraction = 0.75 #0.9 \n",
    "    high_order_must = False\n",
    "    number_of_solutions = 10\n",
    "    time_limit=180\n",
    "#     if 'cplex' in cobra.util.solvers:\n",
    "    model.solver = 'cplex'\n",
    "    oursolution = optforce(model, biomass, target, maximum_knockout, minimum_growth_fraction, minimum_target_fraction,\n",
    "             high_order_must, number_of_solutions, time_limit)#, verbose=False)\n",
    "#     if 'gurobi' in cobra.util.solvers:\n",
    "#         model.solver = 'gurobi'\n",
    "#         oursolution = optforce(model, biomass, target, maximum_knockout, minimum_growth_fraction, minimum_target_fraction,\n",
    "#                  high_order_must, number_of_solutions, time_limit)#, verbose=True)"
   ]
  },
  {
   "cell_type": "code",
   "execution_count": 3,
   "id": "b1c0f8a8-dd9f-482d-83d9-0c536e8b62b1",
   "metadata": {},
   "outputs": [
    {
     "data": {
      "text/plain": [
       "{'Must_solution': {'MustL': ['KAS4',\n",
       "   'FACOAL150_anteiso',\n",
       "   'OIVD1r',\n",
       "   'KAS3',\n",
       "   'FACOAL150_ISO',\n",
       "   'KAS12',\n",
       "   'FACOAL170_anteiso',\n",
       "   'FACOAL170_ISO',\n",
       "   'KAS11',\n",
       "   'KAS6',\n",
       "   'FACOAL160_ISO',\n",
       "   'FACOAL180_2',\n",
       "   'TECA2S45',\n",
       "   'TECA3S45',\n",
       "   'TECA1S45',\n",
       "   'NNDPR',\n",
       "   'ASPO5',\n",
       "   'QULNS'],\n",
       "  'MustU': ['AGPAT160', 'G3PAT160'],\n",
       "  'MustLL': [['KAS1', 'FACOAL140_ISO'],\n",
       "   ['GCALDD', 'FACOAL140_ISO'],\n",
       "   ['KAS1', 'GCALDD'],\n",
       "   ['DB4PS', 'FACOAL140_ISO'],\n",
       "   ['KAS1', 'DB4PS'],\n",
       "   ['RBFSa', 'FACOAL140_ISO'],\n",
       "   ['KAS1', 'RBFSa'],\n",
       "   ['DB4PS', 'GCALDD'],\n",
       "   ['DB4PS', 'RBFSa'],\n",
       "   ['GCALDD', 'RBFSa'],\n",
       "   ['KAS1', 'ADCS'],\n",
       "   ['GTPCI', 'FACOAL140_ISO'],\n",
       "   ['KAS1', 'GTPCI'],\n",
       "   ['KAS1', 'DNTPPA'],\n",
       "   ['KAS1', 'DHFS'],\n",
       "   ['DHFS', 'FACOAL140_ISO'],\n",
       "   ['ADCS', 'FACOAL140_ISO'],\n",
       "   ['KAS1', 'ADCL'],\n",
       "   ['ADCL', 'FACOAL140_ISO'],\n",
       "   ['DNMPPA', 'FACOAL140_ISO'],\n",
       "   ['DNTPPA', 'FACOAL140_ISO'],\n",
       "   ['KAS1', 'DNMPPA'],\n",
       "   ['KAS1', 'PNTK'],\n",
       "   ['KAS1', 'PTPATi'],\n",
       "   ['KAS1', 'DPCOAK'],\n",
       "   ['KAS1', 'PPCDC'],\n",
       "   ['PTPATi', 'FACOAL140_ISO'],\n",
       "   ['DPCOAK', 'FACOAL140_ISO'],\n",
       "   ['PNTK', 'FACOAL140_ISO'],\n",
       "   ['PPCDC', 'FACOAL140_ISO'],\n",
       "   ['GCALDD', 'DHFS'],\n",
       "   ['GTPCI', 'GCALDD'],\n",
       "   ['ADCS', 'GCALDD'],\n",
       "   ['DNTPPA', 'RBFSa'],\n",
       "   ['DB4PS', 'ADCL'],\n",
       "   ['GCALDD', 'ADCL'],\n",
       "   ['RBFSa', 'ADCL'],\n",
       "   ['DHFS', 'RBFSa'],\n",
       "   ['DNTPPA', 'GCALDD'],\n",
       "   ['DNMPPA', 'GCALDD'],\n",
       "   ['ADCS', 'DB4PS'],\n",
       "   ['ADCS', 'RBFSa'],\n",
       "   ['DB4PS', 'DHFS'],\n",
       "   ['GTPCI', 'RBFSa'],\n",
       "   ['DNMPPA', 'RBFSa'],\n",
       "   ['DNMPPA', 'DB4PS'],\n",
       "   ['DB4PS', 'GTPCI'],\n",
       "   ['DNTPPA', 'DB4PS'],\n",
       "   ['KAS1', 'NADK'],\n",
       "   ['NADK', 'FACOAL140_ISO'],\n",
       "   ['KAS1', 'APRAUR'],\n",
       "   ['KAS1', 'RBFSb'],\n",
       "   ['RBFSb', 'FACOAL140_ISO'],\n",
       "   ['KAS1', 'PMDPHT'],\n",
       "   ['APRAUR', 'FACOAL140_ISO'],\n",
       "   ['PANTS', 'PMDPHT', 'GCALDD', 'FACOAL140_ISO']],\n",
       "  'MustUU': [],\n",
       "  'MustLU': []},\n",
       " 'Force_solution': []}"
      ]
     },
     "metadata": {},
     "output_type": "display_data"
    }
   ],
   "source": [
    "display(oursolution)"
   ]
  },
  {
   "cell_type": "markdown",
   "id": "65004b7e-2ec8-41c3-ae06-3514da80bd7d",
   "metadata": {
    "tags": []
   },
   "source": [
    "### **1 Knockout Phenol**"
   ]
  },
  {
   "cell_type": "code",
   "execution_count": null,
   "id": "2b51e7ef-399f-4fa7-865f-5b2f03436b5a",
   "metadata": {},
   "outputs": [
    {
     "data": {
      "text/plain": [
       "'Original TAG Production'"
      ]
     },
     "metadata": {},
     "output_type": "display_data"
    },
    {
     "data": {
      "text/plain": [
       "0.0"
      ]
     },
     "metadata": {},
     "output_type": "display_data"
    },
    {
     "data": {
      "text/plain": [
       "'*********************'"
      ]
     },
     "metadata": {},
     "output_type": "display_data"
    },
    {
     "name": "stdout",
     "output_type": "stream",
     "text": [
      "26.3553909165313\n"
     ]
    },
    {
     "data": {
      "text/plain": [
       "'max target'"
      ]
     },
     "metadata": {},
     "output_type": "display_data"
    },
    {
     "data": {
      "text/plain": [
       "60.150375939849624"
      ]
     },
     "metadata": {},
     "output_type": "display_data"
    }
   ],
   "source": [
    "#file_name =  '../GSMs/Ropacus_annotated_curated_with_phenol_custom_biomass.xml'\n",
    "file_name =  '../GSMs/Ropacus_annotated_curated.xml'\n",
    "model = cobra.io.read_sbml_model(file_name)\n",
    "\n",
    "with model:\n",
    "    medium = model.medium\n",
    "    substrate='phenol'\n",
    "    if substrate=='phenol':\n",
    "        #model.objective = 'Growth_Phenol'\n",
    "        medium = {key:1000 for (key,value) in model.medium.items()}\n",
    "        model.reactions.get_by_id('Growth_Glucose').upper_bound = 0\n",
    "        model.reactions.get_by_id('Growth_Glucose').lower_bound = 0\n",
    "        #model.reactions.get_by_id('Growth').upper_bound = 0\n",
    "        #model.reactions.get_by_id('Growth').lower_bound = 0\n",
    "        #medium[\"EX_glc__D_e\"] = 0\n",
    "        medium[\"EX_phenol_e\"] = 100#sub_uptake_rate\n",
    "        #model.reactions.get_by_id('EX_phenol_e').upper_bound = -sub_uptake_rate\n",
    "        #model.reactions.get_by_id('EX_phenol_e').lower_bound = -sub_uptake_rate\n",
    "        model.reactions.get_by_id('EX_glc__D_e').upper_bound = 0\n",
    "        model.reactions.get_by_id('EX_glc__D_e').lower_bound = 0\n",
    "        biomass = 'Growth'\n",
    "        #medium[\"EX_phenol_e\"] = sub_uptake_rate\n",
    "    elif substrate=='glucose':\n",
    "        #model.objective = 'Growth_Glucose'\n",
    "        medium = {key:1000 for (key,value) in model.medium.items()}\n",
    "        model.reactions.get_by_id('Growth_Phenol').upper_bound = 0\n",
    "        model.reactions.get_by_id('Growth_Phenol').lower_bound = 0\n",
    "        #model.reactions.get_by_id('Growth').upper_bound = 0\n",
    "        #model.reactions.get_by_id('Growth').lower_bound = 0\n",
    "        medium[\"EX_glc__D_e\"] = 100#sub_uptake_rate\n",
    "        #medium[\"EX_phenol_e\"] = 0\n",
    "        #model.reactions.get_by_id('EX_glc__D_e').upper_bound = -sub_uptake_rate\n",
    "        #model.reactions.get_by_id('EX_glc__D_e').lower_bound = -sub_uptake_rate\n",
    "        model.reactions.get_by_id('EX_phenol_e').upper_bound = 0\n",
    "        model.reactions.get_by_id('EX_phenol_e').lower_bound = 0\n",
    "        biomass = 'Growth'\n",
    "    else:\n",
    "        print('Unknown substrate: Please choose among phenol and glucose')\n",
    "    model.medium = medium\n",
    "    model.objective='Growth_Phenol'\n",
    "    fbasol = model.optimize()\n",
    "    TAGprod = fbasol.fluxes['tag_production']\n",
    "    display('Original TAG Production', TAGprod)\n",
    "    display('*********************')\n",
    "    target = 'tag_production'#'EX_acac_e'#EX_ac_e'#'EX_octa_e'# #acac works!!!'EX_dca_e'#\n",
    "    maximum_knockout = 1\n",
    "    minimum_growth_fraction = 0.1 #0.1 Paper\n",
    "    minimum_target_fraction = 0.75 #0.9 \n",
    "    high_order_must = False\n",
    "    number_of_solutions = 10\n",
    "    time_limit=180\n",
    "#     if 'cplex' in cobra.util.solvers:\n",
    "    model.solver = 'cplex'\n",
    "    oursolution = optforce(model, biomass, target, maximum_knockout, minimum_growth_fraction, minimum_target_fraction,\n",
    "             high_order_must, number_of_solutions, time_limit)#, verbose=False)\n",
    "#     if 'gurobi' in cobra.util.solvers:\n",
    "#         model.solver = 'gurobi'\n",
    "#         oursolution = optforce(model, biomass, target, maximum_knockout, minimum_growth_fraction, minimum_target_fraction,\n",
    "#                  high_order_must, number_of_solutions, time_limit)#, verbose=True)"
   ]
  },
  {
   "cell_type": "code",
   "execution_count": null,
   "id": "5d82b78f-41f7-4e5a-b800-544e568e8132",
   "metadata": {},
   "outputs": [],
   "source": [
    "display(oursolution)"
   ]
  },
  {
   "cell_type": "markdown",
   "id": "31437380-bc67-4983-b7ed-f97aedf707b9",
   "metadata": {
    "tags": []
   },
   "source": [
    "### **2 Knockouts Glucose**"
   ]
  },
  {
   "cell_type": "code",
   "execution_count": null,
   "id": "9474e012-990e-46ab-8cdc-759fbc7383d2",
   "metadata": {},
   "outputs": [
    {
     "name": "stdout",
     "output_type": "stream",
     "text": [
      "19.262947549367595\n"
     ]
    },
    {
     "data": {
      "text/plain": [
       "'max target'"
      ]
     },
     "metadata": {},
     "output_type": "display_data"
    },
    {
     "data": {
      "text/plain": [
       "36.240310077519354"
      ]
     },
     "metadata": {},
     "output_type": "display_data"
    }
   ],
   "source": [
    "#file_name =  '../GSMs/Ropacus_annotated_curated_with_phenol_custom_biomass.xml'\n",
    "file_name =  '../GSMs/Ropacus_annotated_curated.xml'\n",
    "model = cobra.io.read_sbml_model(file_name)\n",
    "\n",
    "with model:\n",
    "    medium = model.medium\n",
    "    substrate='glucose'\n",
    "    if substrate=='phenol':\n",
    "        #model.objective = 'Growth_Phenol'\n",
    "        medium = {key:1000 for (key,value) in model.medium.items()}\n",
    "        model.reactions.get_by_id('Growth_Glucose').upper_bound = 0\n",
    "        model.reactions.get_by_id('Growth_Glucose').lower_bound = 0\n",
    "        #model.reactions.get_by_id('Growth').upper_bound = 0\n",
    "        #model.reactions.get_by_id('Growth').lower_bound = 0\n",
    "        #medium[\"EX_glc__D_e\"] = 0\n",
    "        medium[\"EX_phenol_e\"] = 100#sub_uptake_rate\n",
    "        #model.reactions.get_by_id('EX_phenol_e').upper_bound = -sub_uptake_rate\n",
    "        #model.reactions.get_by_id('EX_phenol_e').lower_bound = -sub_uptake_rate\n",
    "        model.reactions.get_by_id('EX_glc__D_e').upper_bound = 0\n",
    "        model.reactions.get_by_id('EX_glc__D_e').lower_bound = 0\n",
    "        biomass = 'Growth'\n",
    "        #medium[\"EX_phenol_e\"] = sub_uptake_rate\n",
    "    elif substrate=='glucose':\n",
    "        #model.objective = 'Growth_Glucose'\n",
    "        medium = {key:1000 for (key,value) in model.medium.items()}\n",
    "        model.reactions.get_by_id('Growth_Phenol').upper_bound = 0\n",
    "        model.reactions.get_by_id('Growth_Phenol').lower_bound = 0\n",
    "        #model.reactions.get_by_id('Growth').upper_bound = 0\n",
    "        #model.reactions.get_by_id('Growth').lower_bound = 0\n",
    "        medium[\"EX_glc__D_e\"] = 100#sub_uptake_rate\n",
    "        #medium[\"EX_phenol_e\"] = 0\n",
    "        #model.reactions.get_by_id('EX_glc__D_e').upper_bound = -sub_uptake_rate\n",
    "        #model.reactions.get_by_id('EX_glc__D_e').lower_bound = -sub_uptake_rate\n",
    "        model.reactions.get_by_id('EX_phenol_e').upper_bound = 0\n",
    "        model.reactions.get_by_id('EX_phenol_e').lower_bound = 0\n",
    "        biomass = 'Growth'\n",
    "    else:\n",
    "        print('Unknown substrate: Please choose among phenol and glucose')\n",
    "    model.medium = medium\n",
    "    target = 'tag_production'#'EX_acac_e'#EX_ac_e'#'EX_octa_e'# #acac works!!!'EX_dca_e'#\n",
    "    maximum_knockout = 2\n",
    "    minimum_growth_fraction = 0.1 #0.1 Paper\n",
    "    minimum_target_fraction = 0.75 #0.9 \n",
    "    high_order_must = False\n",
    "    number_of_solutions = 10\n",
    "    time_limit=180\n",
    "#     if 'cplex' in cobra.util.solvers:\n",
    "    model.solver = 'cplex'\n",
    "    oursolution = optforce(model, biomass, target, maximum_knockout, minimum_growth_fraction, minimum_target_fraction,\n",
    "             high_order_must, number_of_solutions, time_limit)#, verbose=False)\n",
    "#     if 'gurobi' in cobra.util.solvers:\n",
    "#         model.solver = 'gurobi'\n",
    "#         oursolution = optforce(model, biomass, target, maximum_knockout, minimum_growth_fraction, minimum_target_fraction,\n",
    "#                  high_order_must, number_of_solutions, time_limit)#, verbose=True)"
   ]
  },
  {
   "cell_type": "code",
   "execution_count": null,
   "id": "0174a7f1-04d1-420d-b7d0-8b02d55f9724",
   "metadata": {},
   "outputs": [],
   "source": [
    "display(oursolution)"
   ]
  },
  {
   "cell_type": "markdown",
   "id": "ed594f03-9a3c-49ba-a2c2-8334bb7994a7",
   "metadata": {
    "tags": []
   },
   "source": [
    "### **2 Knockouts Phenol**"
   ]
  },
  {
   "cell_type": "code",
   "execution_count": null,
   "id": "9307def8-a4a4-4332-985f-53fbd037c086",
   "metadata": {},
   "outputs": [],
   "source": [
    "#file_name =  '../GSMs/Ropacus_annotated_curated_with_phenol_custom_biomass.xml'\n",
    "file_name =  '../GSMs/Ropacus_annotated_curated.xml'\n",
    "model = cobra.io.read_sbml_model(file_name)\n",
    "\n",
    "with model:\n",
    "    medium = model.medium\n",
    "    substrate='phenol'\n",
    "    if substrate=='phenol':\n",
    "        #model.objective = 'Growth_Phenol'\n",
    "        medium = {key:1000 for (key,value) in model.medium.items()}\n",
    "        model.reactions.get_by_id('Growth_Glucose').upper_bound = 0\n",
    "        model.reactions.get_by_id('Growth_Glucose').lower_bound = 0\n",
    "        #model.reactions.get_by_id('Growth').upper_bound = 0\n",
    "        #model.reactions.get_by_id('Growth').lower_bound = 0\n",
    "        #medium[\"EX_glc__D_e\"] = 0\n",
    "        medium[\"EX_phenol_e\"] = 100#sub_uptake_rate\n",
    "        #model.reactions.get_by_id('EX_phenol_e').upper_bound = -sub_uptake_rate\n",
    "        #model.reactions.get_by_id('EX_phenol_e').lower_bound = -sub_uptake_rate\n",
    "        model.reactions.get_by_id('EX_glc__D_e').upper_bound = 0\n",
    "        model.reactions.get_by_id('EX_glc__D_e').lower_bound = 0\n",
    "        biomass = 'Growth'\n",
    "        #medium[\"EX_phenol_e\"] = sub_uptake_rate\n",
    "    elif substrate=='glucose':\n",
    "        #model.objective = 'Growth_Glucose'\n",
    "        medium = {key:1000 for (key,value) in model.medium.items()}\n",
    "        model.reactions.get_by_id('Growth_Phenol').upper_bound = 0\n",
    "        model.reactions.get_by_id('Growth_Phenol').lower_bound = 0\n",
    "        #model.reactions.get_by_id('Growth').upper_bound = 0\n",
    "        #model.reactions.get_by_id('Growth').lower_bound = 0\n",
    "        medium[\"EX_glc__D_e\"] = 100#sub_uptake_rate\n",
    "        #medium[\"EX_phenol_e\"] = 0\n",
    "        #model.reactions.get_by_id('EX_glc__D_e').upper_bound = -sub_uptake_rate\n",
    "        #model.reactions.get_by_id('EX_glc__D_e').lower_bound = -sub_uptake_rate\n",
    "        model.reactions.get_by_id('EX_phenol_e').upper_bound = 0\n",
    "        model.reactions.get_by_id('EX_phenol_e').lower_bound = 0\n",
    "        biomass = 'Growth'\n",
    "    else:\n",
    "        print('Unknown substrate: Please choose among phenol and glucose')\n",
    "    model.medium = medium\n",
    "    target = 'tag_production'#'EX_acac_e'#EX_ac_e'#'EX_octa_e'# #acac works!!!'EX_dca_e'#\n",
    "    maximum_knockout = 2\n",
    "    minimum_growth_fraction = 0.1 #0.1 Paper\n",
    "    minimum_target_fraction = 0.75 #0.9 \n",
    "    high_order_must = False\n",
    "    number_of_solutions = 10\n",
    "    time_limit=180\n",
    "#     if 'cplex' in cobra.util.solvers:\n",
    "    model.solver = 'cplex'\n",
    "    oursolution = optforce(model, biomass, target, maximum_knockout, minimum_growth_fraction, minimum_target_fraction,\n",
    "             high_order_must, number_of_solutions, time_limit)#, verbose=False)\n",
    "#     if 'gurobi' in cobra.util.solvers:\n",
    "#         model.solver = 'gurobi'\n",
    "#         oursolution = optforce(model, biomass, target, maximum_knockout, minimum_growth_fraction, minimum_target_fraction,\n",
    "#                  high_order_must, number_of_solutions, time_limit)#, verbose=True)"
   ]
  },
  {
   "cell_type": "code",
   "execution_count": null,
   "id": "7215b1e6-8a85-40b9-9f6d-6500d01cb0db",
   "metadata": {},
   "outputs": [],
   "source": [
    "display(oursolution)"
   ]
  },
  {
   "cell_type": "markdown",
   "id": "1ae9fe5a-3b9a-4596-bfb9-4016088b4f15",
   "metadata": {
    "tags": []
   },
   "source": [
    "### **3 Knockout Glucose**"
   ]
  },
  {
   "cell_type": "code",
   "execution_count": null,
   "id": "c8457971-f8d6-41b9-b124-5eff389014d8",
   "metadata": {},
   "outputs": [],
   "source": [
    "#file_name =  '../GSMs/Ropacus_annotated_curated_with_phenol_custom_biomass.xml'\n",
    "file_name =  '../GSMs/Ropacus_annotated_curated.xml'\n",
    "model = cobra.io.read_sbml_model(file_name)\n",
    "\n",
    "with model:\n",
    "    medium = model.medium\n",
    "    substrate='glucose'\n",
    "    if substrate=='phenol':\n",
    "        #model.objective = 'Growth_Phenol'\n",
    "        medium = {key:1000 for (key,value) in model.medium.items()}\n",
    "        model.reactions.get_by_id('Growth_Glucose').upper_bound = 0\n",
    "        model.reactions.get_by_id('Growth_Glucose').lower_bound = 0\n",
    "        #model.reactions.get_by_id('Growth').upper_bound = 0\n",
    "        #model.reactions.get_by_id('Growth').lower_bound = 0\n",
    "        #medium[\"EX_glc__D_e\"] = 0\n",
    "        medium[\"EX_phenol_e\"] = 100#sub_uptake_rate\n",
    "        #model.reactions.get_by_id('EX_phenol_e').upper_bound = -sub_uptake_rate\n",
    "        #model.reactions.get_by_id('EX_phenol_e').lower_bound = -sub_uptake_rate\n",
    "        model.reactions.get_by_id('EX_glc__D_e').upper_bound = 0\n",
    "        model.reactions.get_by_id('EX_glc__D_e').lower_bound = 0\n",
    "        biomass = 'Growth'\n",
    "        #medium[\"EX_phenol_e\"] = sub_uptake_rate\n",
    "    elif substrate=='glucose':\n",
    "        #model.objective = 'Growth_Glucose'\n",
    "        medium = {key:1000 for (key,value) in model.medium.items()}\n",
    "        model.reactions.get_by_id('Growth_Phenol').upper_bound = 0\n",
    "        model.reactions.get_by_id('Growth_Phenol').lower_bound = 0\n",
    "        #model.reactions.get_by_id('Growth').upper_bound = 0\n",
    "        #model.reactions.get_by_id('Growth').lower_bound = 0\n",
    "        medium[\"EX_glc__D_e\"] = 100#sub_uptake_rate\n",
    "        #medium[\"EX_phenol_e\"] = 0\n",
    "        #model.reactions.get_by_id('EX_glc__D_e').upper_bound = -sub_uptake_rate\n",
    "        #model.reactions.get_by_id('EX_glc__D_e').lower_bound = -sub_uptake_rate\n",
    "        model.reactions.get_by_id('EX_phenol_e').upper_bound = 0\n",
    "        model.reactions.get_by_id('EX_phenol_e').lower_bound = 0\n",
    "        biomass = 'Growth'\n",
    "    else:\n",
    "        print('Unknown substrate: Please choose among phenol and glucose')\n",
    "    model.medium = medium\n",
    "    target = 'tag_production'#'EX_acac_e'#EX_ac_e'#'EX_octa_e'# #acac works!!!'EX_dca_e'#\n",
    "    maximum_knockout = 3\n",
    "    minimum_growth_fraction = 0.1 #0.1 Paper\n",
    "    minimum_target_fraction = 0.75 #0.9 \n",
    "    high_order_must = False\n",
    "    number_of_solutions = 10\n",
    "    time_limit=180\n",
    "#     if 'cplex' in cobra.util.solvers:\n",
    "    model.solver = 'cplex'\n",
    "    oursolution = optforce(model, biomass, target, maximum_knockout, minimum_growth_fraction, minimum_target_fraction,\n",
    "             high_order_must, number_of_solutions, time_limit)#, verbose=False)\n",
    "#     if 'gurobi' in cobra.util.solvers:\n",
    "#         model.solver = 'gurobi'\n",
    "#         oursolution = optforce(model, biomass, target, maximum_knockout, minimum_growth_fraction, minimum_target_fraction,\n",
    "#                  high_order_must, number_of_solutions, time_limit)#, verbose=True)"
   ]
  },
  {
   "cell_type": "code",
   "execution_count": null,
   "id": "a0c35588-9c26-47b5-bedb-fbeb8cec0526",
   "metadata": {},
   "outputs": [],
   "source": [
    "display(oursolution)"
   ]
  },
  {
   "cell_type": "markdown",
   "id": "dedba9f5-331c-4099-b9c1-81e40efd5184",
   "metadata": {
    "tags": []
   },
   "source": [
    "### **3 Knockout Phenol**"
   ]
  },
  {
   "cell_type": "code",
   "execution_count": null,
   "id": "08ebaf1f-5c12-4380-8964-61d90682ea41",
   "metadata": {},
   "outputs": [],
   "source": [
    "#file_name =  '../GSMs/Ropacus_annotated_curated_with_phenol_custom_biomass.xml'\n",
    "file_name =  '../GSMs/Ropacus_annotated_curated.xml'\n",
    "model = cobra.io.read_sbml_model(file_name)\n",
    "\n",
    "with model:\n",
    "    medium = model.medium\n",
    "    substrate='phenol'\n",
    "    if substrate=='phenol':\n",
    "        #model.objective = 'Growth_Phenol'\n",
    "        medium = {key:1000 for (key,value) in model.medium.items()}\n",
    "        model.reactions.get_by_id('Growth_Glucose').upper_bound = 0\n",
    "        model.reactions.get_by_id('Growth_Glucose').lower_bound = 0\n",
    "        #model.reactions.get_by_id('Growth').upper_bound = 0\n",
    "        #model.reactions.get_by_id('Growth').lower_bound = 0\n",
    "        #medium[\"EX_glc__D_e\"] = 0\n",
    "        medium[\"EX_phenol_e\"] = 100#sub_uptake_rate\n",
    "        #model.reactions.get_by_id('EX_phenol_e').upper_bound = -sub_uptake_rate\n",
    "        #model.reactions.get_by_id('EX_phenol_e').lower_bound = -sub_uptake_rate\n",
    "        model.reactions.get_by_id('EX_glc__D_e').upper_bound = 0\n",
    "        model.reactions.get_by_id('EX_glc__D_e').lower_bound = 0\n",
    "        biomass = 'Growth'\n",
    "        #medium[\"EX_phenol_e\"] = sub_uptake_rate\n",
    "    elif substrate=='glucose':\n",
    "        #model.objective = 'Growth_Glucose'\n",
    "        medium = {key:1000 for (key,value) in model.medium.items()}\n",
    "        model.reactions.get_by_id('Growth_Phenol').upper_bound = 0\n",
    "        model.reactions.get_by_id('Growth_Phenol').lower_bound = 0\n",
    "        #model.reactions.get_by_id('Growth').upper_bound = 0\n",
    "        #model.reactions.get_by_id('Growth').lower_bound = 0\n",
    "        medium[\"EX_glc__D_e\"] = 100#sub_uptake_rate\n",
    "        #medium[\"EX_phenol_e\"] = 0\n",
    "        #model.reactions.get_by_id('EX_glc__D_e').upper_bound = -sub_uptake_rate\n",
    "        #model.reactions.get_by_id('EX_glc__D_e').lower_bound = -sub_uptake_rate\n",
    "        model.reactions.get_by_id('EX_phenol_e').upper_bound = 0\n",
    "        model.reactions.get_by_id('EX_phenol_e').lower_bound = 0\n",
    "        biomass = 'Growth'\n",
    "    else:\n",
    "        print('Unknown substrate: Please choose among phenol and glucose')\n",
    "    model.medium = medium\n",
    "    target = 'tag_production'#'EX_acac_e'#EX_ac_e'#'EX_octa_e'# #acac works!!!'EX_dca_e'#\n",
    "    maximum_knockout = 3\n",
    "    minimum_growth_fraction = 0.1 #0.1 Paper\n",
    "    minimum_target_fraction = 0.7 #0.9 \n",
    "    high_order_must = False\n",
    "    number_of_solutions = 10\n",
    "    time_limit=180\n",
    "#     if 'cplex' in cobra.util.solvers:\n",
    "    model.solver = 'cplex'\n",
    "    oursolution = optforce(model, biomass, target, maximum_knockout, minimum_growth_fraction, minimum_target_fraction,\n",
    "             high_order_must, number_of_solutions, time_limit)#, verbose=False)\n",
    "#     if 'gurobi' in cobra.util.solvers:\n",
    "#         model.solver = 'gurobi'\n",
    "#         oursolution = optforce(model, biomass, target, maximum_knockout, minimum_growth_fraction, minimum_target_fraction,\n",
    "#                  high_order_must, number_of_solutions, time_limit)#, verbose=True)"
   ]
  },
  {
   "cell_type": "code",
   "execution_count": null,
   "id": "028e58bc-194c-426b-8955-c8103e1d9f46",
   "metadata": {},
   "outputs": [],
   "source": [
    "display(oursolution)"
   ]
  },
  {
   "cell_type": "code",
   "execution_count": null,
   "id": "277c8f92-b7e4-4b88-839e-78eaed1d25a2",
   "metadata": {},
   "outputs": [],
   "source": []
  }
 ],
 "metadata": {
  "kernelspec": {
   "display_name": "biodesign_3.7",
   "language": "python",
   "name": "biod_3.7"
  },
  "language_info": {
   "codemirror_mode": {
    "name": "ipython",
    "version": 3
   },
   "file_extension": ".py",
   "mimetype": "text/x-python",
   "name": "python",
   "nbconvert_exporter": "python",
   "pygments_lexer": "ipython3",
   "version": "3.7.4"
  }
 },
 "nbformat": 4,
 "nbformat_minor": 5
}

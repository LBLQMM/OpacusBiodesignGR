{
 "cells": [
  {
   "cell_type": "markdown",
   "id": "6a4df96b-642f-4e15-8918-f8df3e2f44f6",
   "metadata": {
    "tags": []
   },
   "source": [
    "# Time course growth and substrate  data ➟ Growth parameters\n",
    "\n",
    "By Christina Schenk and Garrett Roell\n",
    "\n",
    "Tested on biodesign_3.7 kernel on jprime\n",
    "\n",
    "\n",
    "\n",
    "This notebook calculates the growth rate, yield coefficient, and substrate uptake rate of R. opacus cultures growing with phenol and glucose. These experiements were published in these papers: [Yondeda (2016)](https://academic.oup.com/nar/article/44/5/2240/2465306) and [Henson (2018)](https://www.sciencedirect.com/science/article/pii/S1096717618300910).\n",
    "\n",
    "#### Yoneda data: \n",
    "* WT 1.0 g/L Glucose, 0.05g/L ammonium sulfate (**WT-LN-G**) (3 trials)\n",
    "* Evol33 1.0 g/L Glucose, 0.05 g/l ammonium sulfate (**EVOL33-LN-G**) (3 trials)\n",
    "* Evol40 1.0 g/L Glucose, 0.05 g/l ammonium sulfate (**EVOL40-LN-G**) (3 trials)\n",
    "\n",
    "#### Rhiannon 2018 data:\n",
    "* Metabolomics and OD data for WT Glucose (**WT-G** but mapped to **WT-LN-G** for following notebooks)\n",
    "\n",
    "#### Henson data:\n",
    "* WT 0.5 g/L Phenol (3 trials) (**WT-P**)\n",
    "* PVHG6 0.5 g/L Phenol (3 trials) (**PVHG-P**)\n",
    "\n",
    "### Method: \n",
    "<ol>\n",
    "<li>Calculate growth rate by finding slope of log(biomass) vs. time</li>\n",
    "<li>Simulate biomass growth by using timepoints and X = X0e^(mu*t)</li>\n",
    "<li>Calculate yield coefficient by finding the slope of the biomass generated vs substrate consumed</li>\n",
    "<li>Calculate substrate uptake rate by dividing the growth rate by the yield coefficient</li>\n",
    "</ol>\n",
    "\n",
    "### Notes:\n",
    "The glucose concentration measurements in the Yoneda data sets seem unrealistically low. This is why we use the data from Rhiannon to calculate the growth parameters instead. These will be used in the following prediction notebooks.\n"
   ]
  },
  {
   "cell_type": "markdown",
   "id": "3cb8e389-018a-4e58-8cdd-6305721553bb",
   "metadata": {},
   "source": [
    "### Setup imports"
   ]
  },
  {
   "cell_type": "code",
   "execution_count": 1,
   "id": "2cf682a4-0ddd-476a-a914-064ebd6c9a68",
   "metadata": {},
   "outputs": [],
   "source": [
    "#Python packages:\n",
    "import numpy as np\n",
    "import sys\n",
    "import os\n",
    "import pandas as pd\n",
    "import cobra\n",
    "import math\n",
    "from scipy.stats import linregress\n",
    "from scipy import mean\n",
    "import matplotlib.pyplot as plt"
   ]
  },
  {
   "cell_type": "markdown",
   "id": "3bfcd52b-6072-4c1b-acaf-1ce37088ebeb",
   "metadata": {
    "tags": []
   },
   "source": [
    "#### **Load Yoneda and Henson Data**"
   ]
  },
  {
   "cell_type": "code",
   "execution_count": 2,
   "id": "3bbffbe2-0147-4631-be67-e9cb4bbe9df7",
   "metadata": {},
   "outputs": [],
   "source": [
    "from edd_utils import login, export_study, export_metadata\n",
    "# Study to Download\n",
    "study_slug = 'biodesign_yoneda_set3_reprocessed'#'biodesign_yoneda_set2'#multiomics-data-for-wt-strain-c157'\n",
    "study_slug2 = 'biodesign_henson2018_reprocessed'#'biodesign_henson2108'\n",
    "# EDD server\n",
    "edd_server = 'public-edd.jbei.org'#agilebiofoundry.org'#'edd.jbei.org'\n",
    "user       = 'schenkch'"
   ]
  },
  {
   "cell_type": "code",
   "execution_count": 3,
   "id": "e92eeb5a-71eb-4f30-be25-2ea0365bf6db",
   "metadata": {},
   "outputs": [
    {
     "name": "stdin",
     "output_type": "stream",
     "text": [
      "Password for schenkch:  ···············\n"
     ]
    }
   ],
   "source": [
    "session = login(edd_server=edd_server, user=user)"
   ]
  },
  {
   "cell_type": "code",
   "execution_count": null,
   "id": "6c0d30ad-badd-49ba-8524-c8f95d6f11a0",
   "metadata": {
    "colab": {
     "base_uri": "https://localhost:8080/",
     "height": 66,
     "referenced_widgets": [
      "539b714eeed449a98a8103495bb09271",
      "78abcc3c4d03426880579a3e9263ce72",
      "a620217c921c4ca8a3a77c1b8ba08a93",
      "d0801e3f690243fcae0b587876494e02",
      "48add538ca1641b39da6a939edecdd51",
      "91f943ba85ef4b0f86cfcc1fd8134b17",
      "52a14efda875400b8f118efa9a5f2039",
      "ac86963a466f408f8b31f6fd101e7c6c"
     ]
    },
    "colab_type": "code",
    "executionInfo": {
     "elapsed": 35271,
     "status": "ok",
     "timestamp": 1583442708518,
     "user": {
      "displayName": "Jose Manuel Marti",
      "photoUrl": "https://lh3.googleusercontent.com/a-/AOh14GgVW2THsusWG3ozbxIZPs_NrwgMx242bQ6GXuwL=s64",
      "userId": "02550125009698451321"
     },
     "user_tz": 480
    },
    "id": "KCyCWhMRYFPW",
    "outputId": "ba9a3705-4b64-448c-e57c-f2582592156f"
   },
   "outputs": [
    {
     "data": {
      "application/vnd.jupyter.widget-view+json": {
       "model_id": "59c5edcb4d1a495e97ea5ae791e26272",
       "version_major": 2,
       "version_minor": 0
      },
      "text/plain": [
       "HBox(children=(FloatProgress(value=0.0, max=192297.0), HTML(value='')))"
      ]
     },
     "metadata": {},
     "output_type": "display_data"
    }
   ],
   "source": [
    "#Export data from EDD as 2 dataframes:\n",
    "df: pd.DataFrame\n",
    "\n",
    "# filename = TBD\n",
    "    \n",
    "try:\n",
    "    df = export_study(session, study_slug, edd_server=edd_server)\n",
    "    df2 = export_study(session, study_slug2, edd_server=edd_server)\n",
    "except (NameError, AttributeError, KeyError):\n",
    "    try:\n",
    "        df = pd.read_csv(filename)\n",
    "    except:\n",
    "        print(f'ERROR! Alternative loading of data from disk at {DISKDF} failed!')\n",
    "    else:\n",
    "        print(f'OK! Alternative loading of data from disk at {DISKDF} was successful.')\n"
   ]
  },
  {
   "cell_type": "markdown",
   "id": "bd0b1351-a30f-48de-9a83-0f8e0c03b258",
   "metadata": {},
   "source": [
    "##### **Set biomass production rate**"
   ]
  },
  {
   "cell_type": "code",
   "execution_count": null,
   "id": "11b90e73-3868-4c65-b3cf-8311db7fe540",
   "metadata": {},
   "outputs": [],
   "source": [
    "GRAMS_BIOMASS_PER_LITER_PER_OD = 0.368 # 1 OD = 0.368 g/L of biomass"
   ]
  },
  {
   "cell_type": "markdown",
   "id": "11a53e27-f931-482e-8b16-1c17c7fc015a",
   "metadata": {},
   "source": [
    "##### **Yoneda data**"
   ]
  },
  {
   "cell_type": "code",
   "execution_count": null,
   "id": "b0cab210-051a-4ba2-85e8-cd8a8d299584",
   "metadata": {},
   "outputs": [],
   "source": [
    "od_df = df[df['Protocol'].str.contains('OD600')]\n",
    "od_df.loc[:,'Biomass Conc'] = GRAMS_BIOMASS_PER_LITER_PER_OD*od_df.loc[:,'Value']\n",
    "\n",
    "sub_df = df[df['Protocol'].str.contains('HPLC')]\n",
    "\n",
    "print(f'substrate data has {len(sub_df)} lines')\n",
    "print(f'OD data has {len(od_df)} lines')"
   ]
  },
  {
   "cell_type": "markdown",
   "id": "df0fdae8-4cb4-48b9-8a8b-f14bce795ca6",
   "metadata": {},
   "source": [
    "##### **Henson data**"
   ]
  },
  {
   "cell_type": "code",
   "execution_count": null,
   "id": "419e8145-b56a-4284-b5b3-d7f21fd6d87a",
   "metadata": {},
   "outputs": [],
   "source": [
    "od_Hen_df = df2[df2['Protocol'].str.contains('OD600')]#pd.read_csv(ODfile)\n",
    "od_Hen_df.loc[:,'Biomass Conc'] = GRAMS_BIOMASS_PER_LITER_PER_OD*od_Hen_df['Value']\n",
    "sub_Hen_df = df2[df2['Protocol'].str.contains('HPLC')]\n",
    "\n",
    "print(f'substrate data has {len(sub_Hen_df)} lines')\n",
    "print(f'OD data has {len(od_Hen_df)} lines')"
   ]
  },
  {
   "cell_type": "markdown",
   "id": "b8b8bfd6-6292-479f-96d3-177e53d71726",
   "metadata": {
    "tags": []
   },
   "source": [
    "### Define functions to calculate growth rate, yield coefficient, and substrate uptake rate\n",
    "\n",
    "stats_for_trial: Calculates parameters and plots data and fit lines for a single trial\n",
    "<br>\n",
    "stats_for_condition: Takes in three trial names and calls stats_for_trial for each one."
   ]
  },
  {
   "cell_type": "code",
   "execution_count": null,
   "id": "fcd15991-8a2d-4f74-8c37-7613a548427a",
   "metadata": {},
   "outputs": [],
   "source": [
    "def stats_for_trial(growth_data, substrate_data, molar_mass, display=False, max_time=0, substrate=''):\n",
    "    \n",
    "    biomass_values = growth_data['Biomass Conc']\n",
    "    biomass_times = growth_data['Hours']\n",
    "    biomass_init = list(biomass_values)[0]\n",
    "\n",
    "    substrate_values = substrate_data['Value']*1000/molar_mass\n",
    "    substrate_times = substrate_data['Hours']\n",
    "    substrate_init = list(substrate_values)[0]\n",
    "    \n",
    "    # growth is the slope of log(biomass) vs. time\n",
    "    growth_rate, _, _, _, _ = linregress(biomass_times, [math.log(val) for val in biomass_values])\n",
    "    \n",
    "    # biomass X = X0*e^(μ*t)\n",
    "    # This is different from above to ensure that there is a biomass value for every substrate measurement\n",
    "    biomass_sim = [biomass_init*math.exp(growth_rate*time) for time in substrate_times]\n",
    "    \n",
    "    # actual consumption = S0 - S\n",
    "    sub_consumed = [substrate_init - sub_value for sub_value in substrate_values]\n",
    "    \n",
    "    # new biomass X = X0 - X\n",
    "    biomass_sim_growth = [sim_value - biomass_init for sim_value in biomass_sim ]\n",
    "    \n",
    "    # yield is the amount of biomass that can be made from a mmol of substrate\n",
    "    yield_coeff, _, _, _, _ = linregress(sub_consumed, biomass_sim_growth)\n",
    "\n",
    "    # S = S0 - (1/yield)*X\n",
    "    substrate_sim = [substrate_init - 1/yield_coeff*val for val in biomass_sim_growth]\n",
    "    \n",
    "    substrate_consumption_rate = (1/yield_coeff) * growth_rate\n",
    "\n",
    "    fig, axes = plt.subplots(nrows=1, ncols=2, figsize=(8, 5))\n",
    "    axes[0].plot(biomass_times, biomass_values, 'o', color='black')\n",
    "    axes[0].plot(substrate_times, biomass_sim, '-', color='black')\n",
    "    axes[1].plot(substrate_times, substrate_values, 'o', color='blue')\n",
    "    axes[1].plot(substrate_times, substrate_sim, '-', color='blue')\n",
    "    axes[0].set_title('Biomass growth')\n",
    "    axes[1].set_title(f'{substrate} consumption')\n",
    "    axes[0].set_xlabel('Time (hr)')\n",
    "    axes[1].set_xlabel('Time (hr)')\n",
    "    axes[0].set_ylabel('Biomass (g/L)')\n",
    "    axes[1].set_ylabel(f'{substrate} (mmol/L)')\n",
    "    fig.tight_layout()\n",
    "    \n",
    "    if display:\n",
    "        print(f'growth_rate = {growth_rate:.3f} hr-1')\n",
    "        print(f'yield coefficient = {yield_coeff:.3f} g biomass / mmol substrate')\n",
    "        print(f'substrate consumption rate = {substrate_consumption_rate:.3f} mmol substrate/gram biomass * hr')\n",
    "        return growth_rate, yield_coeff, substrate_consumption_rate\n",
    "    else:\n",
    "        return growth_rate, yield_coeff, substrate_consumption_rate\n",
    "    \n",
    "    \n",
    "    \n",
    "def stats_for_condtion(od_df, sub_df, trial_1, trial_2, trial_3, molar_mass, substrate='', max_time=0):\n",
    "    \n",
    "    if max_time != 0:\n",
    "        od_df = od_df[od_df['Hours'] < max_time]\n",
    "        sub_df = sub_df[sub_df['Hours'] < max_time]\n",
    "        \n",
    "    od_1 = od_df[od_df['Line Name'] == trial_1]\n",
    "    sub_1 = sub_df[sub_df['Line Name'] == trial_1]\n",
    "\n",
    "    od_2 = od_df[od_df['Line Name'] == trial_2]\n",
    "    sub_2 = sub_df[sub_df['Line Name'] == trial_2]\n",
    "\n",
    "    od_3 = od_df[od_df['Line Name'] == trial_3]\n",
    "    sub_3 = sub_df[sub_df['Line Name'] == trial_3]\n",
    "\n",
    "    gr_1, yc_1, scr_1 = stats_for_trial(od_1, sub_1, molar_mass, substrate=substrate)\n",
    "    gr_2, yc_2, scr_2 = stats_for_trial(od_2, sub_2, molar_mass, substrate=substrate)\n",
    "    gr_3, yc_3, scr_3 = stats_for_trial(od_3, sub_3, molar_mass, substrate=substrate)\n",
    "    \n",
    "    growth_rate = np.average([gr_1, gr_2, gr_3])\n",
    "    yield_coeff = np.average([yc_1, yc_2, yc_3])\n",
    "    substrate_consumption_rate = np.average([scr_1, scr_2, scr_3])\n",
    "    growth_rate_std = np.std([gr_1, gr_2, gr_3])\n",
    "    yield_coeff_std = np.std([yc_1, yc_2, yc_3])\n",
    "    substrate_consumption_rate_std = np.std([scr_1, scr_2, scr_3])\n",
    "    \n",
    "    print(f'growth_rate = {growth_rate:.3f} ± {growth_rate_std:.3f} hr-1')\n",
    "    print(f'yield coefficient = {yield_coeff:.3f} ± {yield_coeff_std:.3f} g biomass / mmol substrate')\n",
    "    print(f'substrate consumption rate = {substrate_consumption_rate:.3f} ± {substrate_consumption_rate_std:.3f} mmol substrate/gram biomass * hr')\n",
    "    return growth_rate, yield_coeff, substrate_consumption_rate, growth_rate_std, yield_coeff_std, substrate_consumption_rate_std "
   ]
  },
  {
   "cell_type": "markdown",
   "id": "1aa5dbbd-48c3-40e2-beb3-d5ebd2ab8040",
   "metadata": {},
   "source": [
    "#### **Create dataframe and add results**"
   ]
  },
  {
   "cell_type": "code",
   "execution_count": null,
   "id": "20f15128-15e8-484d-9f11-8bf7a76027cf",
   "metadata": {},
   "outputs": [],
   "source": [
    "#create dataframe for all results:\n",
    "indlist = ['growth rate', 'yield coefficient',  'substrate consumption rate', 'growth rate std dev', 'yield coefficient std dev', 'substrate consumption rate std dev']\n",
    "strainslist = ['WT-LN-G', 'EVOL33-LN-G', 'EVOL40-LN-G', 'WT-P', 'PVHG-P']"
   ]
  },
  {
   "cell_type": "code",
   "execution_count": null,
   "id": "deef4a7b-68a7-407a-9fca-0c990408f3e8",
   "metadata": {},
   "outputs": [],
   "source": [
    "growthandsubstrdata = pd.DataFrame(index=strainslist, columns=indlist, dtype=float)"
   ]
  },
  {
   "cell_type": "markdown",
   "id": "30635fcc-4131-4131-8a57-7564179fb349",
   "metadata": {},
   "source": [
    "### Yoneda: WT 1.0 g/L Glucose, 0.05 g/l ammonium sulfate - WT-LN-G"
   ]
  },
  {
   "cell_type": "code",
   "execution_count": null,
   "id": "cb272d9a-98be-4234-b9e4-2d6a8aab085b",
   "metadata": {},
   "outputs": [],
   "source": [
    "WTLNGlist = ['WT-LN-G-R1', 'WT-LN-G-R2', 'WT-LN-G-R3']\n",
    "od_1 = od_df[od_df['Line Name'].str.contains('WT-LN-G')]\n",
    "sub_1 = sub_df[sub_df['Line Name'].str.contains('WT-LN-G')]\n",
    "growth_rate_WTLNG, yield_coeff_WTLNG, substrate_consumption_rate_WTLNG = stats_for_trial(od_1, sub_1, 180.16, display=True, substrate='Glucose')"
   ]
  },
  {
   "cell_type": "markdown",
   "id": "c91b12a5-d9ca-4d2b-a459-6d2f858201c7",
   "metadata": {
    "tags": []
   },
   "source": [
    "##### **Add results to dataframe**"
   ]
  },
  {
   "cell_type": "code",
   "execution_count": null,
   "id": "e1608de1-4bd0-41d6-a702-44cf03087964",
   "metadata": {},
   "outputs": [],
   "source": [
    "growthandsubstrdata.at['WT-LN-G',:]=[growth_rate_WTLNG, yield_coeff_WTLNG, substrate_consumption_rate_WTLNG, 0, 0, 0]"
   ]
  },
  {
   "cell_type": "markdown",
   "id": "1c1ef3f7-5c73-43f4-973f-7516ffd1fa8d",
   "metadata": {},
   "source": [
    "### Yoneda: Evol33 1.0 g/L Glucose, 0.05 g/l ammonium sulfate  - EVOL33-LN-G"
   ]
  },
  {
   "cell_type": "code",
   "execution_count": null,
   "id": "6364ff86-8133-4189-a313-723f29ed0ed3",
   "metadata": {},
   "outputs": [],
   "source": [
    "od_1 = od_df[od_df['Line Name'].str.contains('EVOL33-LN-G')]\n",
    "sub_1 = sub_df[sub_df['Line Name'].str.contains('EVOL33-LN-G')]\n",
    "growth_rate_EVOL33LNG, yield_coeff_EVOL33LNG, substrate_consumption_rate_EVOL33LNG = stats_for_trial(od_1, sub_1, 180.16, display=True, substrate='Glucose')"
   ]
  },
  {
   "cell_type": "markdown",
   "id": "df739f3d-57f1-4299-b498-41def9c33f54",
   "metadata": {
    "tags": []
   },
   "source": [
    "##### **Add results to dataframe**"
   ]
  },
  {
   "cell_type": "code",
   "execution_count": null,
   "id": "b20244fd-64ca-41dc-afd8-d1e04baecfda",
   "metadata": {},
   "outputs": [],
   "source": [
    "growthandsubstrdata.at['EVOL33-LN-G',:]=[growth_rate_EVOL33LNG, yield_coeff_EVOL33LNG, substrate_consumption_rate_EVOL33LNG, 0, 0, 0]"
   ]
  },
  {
   "cell_type": "markdown",
   "id": "ec811d3b-16c9-4526-8681-6e780f0c0ef6",
   "metadata": {
    "tags": []
   },
   "source": [
    "### Yoneda: Evol40 1.0 g/L Glucose, 0.05 g/l ammonium sulfate  - EVOL40-LN-G"
   ]
  },
  {
   "cell_type": "code",
   "execution_count": null,
   "id": "783ebf68-ba52-4f03-af88-b9057c97fd1d",
   "metadata": {},
   "outputs": [],
   "source": [
    "od_1 = od_df[od_df['Line Name'].str.contains('EVOL40-LN-G')]\n",
    "sub_1 = sub_df[sub_df['Line Name'].str.contains('EVOL40-LN-G')]\n",
    "growth_rate_EVOL40LNG, yield_coeff_EVOL40LNG, substrate_consumption_rate_EVOL40LNG = stats_for_trial(od_1, sub_1, 180.16, display=True, substrate='Glucose')"
   ]
  },
  {
   "cell_type": "markdown",
   "id": "f4e4f433-77ad-4eda-886c-72bf8d9a6075",
   "metadata": {
    "tags": []
   },
   "source": [
    "##### **Add results to dataframe**"
   ]
  },
  {
   "cell_type": "code",
   "execution_count": null,
   "id": "aea34a16-f9fa-4dd3-b2df-56ab566ffabf",
   "metadata": {},
   "outputs": [],
   "source": [
    "growthandsubstrdata.at['EVOL40-LN-G',:]=[growth_rate_EVOL40LNG, yield_coeff_EVOL40LNG, substrate_consumption_rate_EVOL40LNG, 0, 0, 0]"
   ]
  },
  {
   "cell_type": "code",
   "execution_count": null,
   "id": "4400ecc4-032d-4586-813e-d38e189e8bbc",
   "metadata": {},
   "outputs": [],
   "source": [
    "od_Hen_1 = od_Hen_df[od_Hen_df['Line Name'].str.contains('WT-P')]\n",
    "sub_Hen_1 = sub_Hen_df[sub_Hen_df['Line Name'].str.contains('WT-P')]"
   ]
  },
  {
   "cell_type": "markdown",
   "id": "a9fb4ab9-f3b7-4314-9f71-798072ae6922",
   "metadata": {
    "tags": []
   },
   "source": [
    "### Henson: WT 0.5 g/L Phenol - WT-P "
   ]
  },
  {
   "cell_type": "code",
   "execution_count": null,
   "id": "2a3f6c3e-3a2a-44c6-9f02-832a8073ece8",
   "metadata": {},
   "outputs": [],
   "source": [
    "growth_rate_WTP, yield_coeff_WTP, substrate_consumption_rate_WTP, growth_rate_std_WTP, yield_coeff_std_WTP, substrate_consumption_rate_std_WTP  = stats_for_condtion(od_Hen_1, sub_Hen_1,'WT-P-R1', 'WT-P-R2', 'WT-P-R3', 94.11, substrate='Phenol' ,max_time = 40)"
   ]
  },
  {
   "cell_type": "markdown",
   "id": "224b34bb-ec26-40ac-a5aa-cbb56ff39c3a",
   "metadata": {
    "tags": []
   },
   "source": [
    "##### **Add results to dataframe**"
   ]
  },
  {
   "cell_type": "code",
   "execution_count": null,
   "id": "f1f3ab5a-6b55-4ffd-b24a-9944fc3d18d3",
   "metadata": {},
   "outputs": [],
   "source": [
    "growthandsubstrdata.at['WT-P',:]=[growth_rate_WTP, yield_coeff_WTP, substrate_consumption_rate_WTP, growth_rate_std_WTP, yield_coeff_std_WTP, substrate_consumption_rate_std_WTP]"
   ]
  },
  {
   "cell_type": "markdown",
   "id": "e369d260-2df8-413e-8a2e-09b176d373ea",
   "metadata": {},
   "source": [
    "### Henson: PVHG6 0.5 g/L Phenol - PVHG-P"
   ]
  },
  {
   "cell_type": "code",
   "execution_count": null,
   "id": "1e5f73b0-231c-4a30-8e70-365a6a53ce96",
   "metadata": {},
   "outputs": [],
   "source": [
    "od_Hen_2 = od_Hen_df[od_Hen_df['Line Name'].str.contains('PVHG-P')]\n",
    "sub_Hen_2 = sub_Hen_df[sub_Hen_df['Line Name'].str.contains('PVHG-P')]"
   ]
  },
  {
   "cell_type": "code",
   "execution_count": null,
   "id": "e77c3992-8e41-4606-8fc8-1c2c3a03b591",
   "metadata": {},
   "outputs": [],
   "source": [
    "growth_rate_PVHGP, yield_coeff_PVHGP, substrate_consumption_rate_PVHGP, growth_rate_std_PVHGP, yield_coeff_std_PVHGP, substrate_consumption_rate_std_PVHGP  = stats_for_condtion(od_Hen_2, sub_Hen_2, 'PVHG-P-R1', 'PVHG-P-R2', 'PVHG-P-R3', 94.11, substrate='Phenol', max_time=40)"
   ]
  },
  {
   "cell_type": "markdown",
   "id": "40b80bbb-4b0e-41f8-9933-c6cb01c3d99c",
   "metadata": {
    "tags": []
   },
   "source": [
    "##### **Add results to dataframe**"
   ]
  },
  {
   "cell_type": "code",
   "execution_count": null,
   "id": "75d8fe0b-ecc7-4332-b18a-17cd147a6cee",
   "metadata": {},
   "outputs": [],
   "source": [
    "growthandsubstrdata.at['PVHG-P',:]=[growth_rate_PVHGP, yield_coeff_PVHGP, substrate_consumption_rate_PVHGP, growth_rate_std_PVHGP, yield_coeff_std_PVHGP, substrate_consumption_rate_std_PVHGP]"
   ]
  },
  {
   "cell_type": "markdown",
   "id": "0528360e-6727-41a5-bc4a-c13e25953006",
   "metadata": {},
   "source": [
    "### Glucose 2018 data from Rhiannon"
   ]
  },
  {
   "cell_type": "markdown",
   "id": "3512c8e3-8c95-4e1a-80b6-05119bcadbe5",
   "metadata": {},
   "source": [
    "#### Load data from EDD"
   ]
  },
  {
   "cell_type": "code",
   "execution_count": null,
   "id": "0e281b3a-1213-456e-bb17-091b3f4c58e7",
   "metadata": {},
   "outputs": [],
   "source": [
    "study_slug3 = 'rhodococcus-opacus-pd630-rhiannon-2018'"
   ]
  },
  {
   "cell_type": "code",
   "execution_count": null,
   "id": "ac029351-3a2f-471d-b191-e7af72161d43",
   "metadata": {
    "colab": {
     "base_uri": "https://localhost:8080/",
     "height": 66,
     "referenced_widgets": [
      "539b714eeed449a98a8103495bb09271",
      "78abcc3c4d03426880579a3e9263ce72",
      "a620217c921c4ca8a3a77c1b8ba08a93",
      "d0801e3f690243fcae0b587876494e02",
      "48add538ca1641b39da6a939edecdd51",
      "91f943ba85ef4b0f86cfcc1fd8134b17",
      "52a14efda875400b8f118efa9a5f2039",
      "ac86963a466f408f8b31f6fd101e7c6c"
     ]
    },
    "colab_type": "code",
    "executionInfo": {
     "elapsed": 35271,
     "status": "ok",
     "timestamp": 1583442708518,
     "user": {
      "displayName": "Jose Manuel Marti",
      "photoUrl": "https://lh3.googleusercontent.com/a-/AOh14GgVW2THsusWG3ozbxIZPs_NrwgMx242bQ6GXuwL=s64",
      "userId": "02550125009698451321"
     },
     "user_tz": 480
    },
    "id": "KCyCWhMRYFPW",
    "outputId": "ba9a3705-4b64-448c-e57c-f2582592156f"
   },
   "outputs": [],
   "source": [
    "#Export data from EDD as dataframe:\n",
    "df3 = export_study(session, study_slug3, edd_server=edd_server)"
   ]
  },
  {
   "cell_type": "code",
   "execution_count": null,
   "id": "07c05b8f-ec91-4557-9aa3-2fd37c715000",
   "metadata": {},
   "outputs": [],
   "source": [
    "od_glu_df = df3[df3['Protocol'].str.contains('OD600')]\n",
    "od_glu_df.loc[:,'Biomass Conc'] = GRAMS_BIOMASS_PER_LITER_PER_OD*od_glu_df.loc[:,'Value']\n",
    "\n",
    "sub_glu_df = df3[df3['Protocol'].str.contains('Other')]#why not HPLC?\n",
    "\n",
    "print(f'substrate data has {len(sub_df)} lines')\n",
    "print(f'OD data has {len(od_df)} lines')"
   ]
  },
  {
   "cell_type": "markdown",
   "id": "7feaf77b-8690-41ba-892c-f04942a74896",
   "metadata": {
    "tags": []
   },
   "source": [
    "#### Calculate growth parameters"
   ]
  },
  {
   "cell_type": "code",
   "execution_count": null,
   "id": "89ac0f68-00e6-4019-b240-30a6fe398d7b",
   "metadata": {},
   "outputs": [],
   "source": [
    "growth_rate_WTLNG2, yield_coeff_WTLNG2, substrate_consumption_rate_WTLNG2, growth_rate_std_WTLNG2, yield_coeff_std_WTLNG2, substrate_consumption_rate_std_WTLNG2  = stats_for_condtion(od_glu_df, sub_glu_df, 'WT-R1', 'WT-R2', 'WT-R3', 180.16, substrate='Glucose', max_time=12)"
   ]
  },
  {
   "cell_type": "markdown",
   "id": "566633a4-8327-482e-92a0-1911d4900aa8",
   "metadata": {
    "tags": []
   },
   "source": [
    "##### **Add results to dataframe**"
   ]
  },
  {
   "cell_type": "code",
   "execution_count": null,
   "id": "348efcf4-4059-4687-96d8-c91acf3a79f7",
   "metadata": {},
   "outputs": [],
   "source": [
    "growthandsubstrdata.at['WT-G',:]=[growth_rate_WTLNG2, yield_coeff_WTLNG2, substrate_consumption_rate_WTLNG2, growth_rate_std_WTLNG2, yield_coeff_std_WTLNG2, substrate_consumption_rate_std_WTLNG2]"
   ]
  },
  {
   "cell_type": "markdown",
   "id": "3b94420e-67d4-48b2-be2f-ac7d692dcd75",
   "metadata": {},
   "source": [
    "##### **Drop growth parameters that will not be used in following notebooks and map WT-G to WT-LN-G**"
   ]
  },
  {
   "cell_type": "code",
   "execution_count": null,
   "id": "78733f08-9e5d-4d08-8247-9d1b11d2003e",
   "metadata": {},
   "outputs": [],
   "source": [
    "growthandsubstrdata = growthandsubstrdata.drop(['WT-LN-G', 'EVOL33-LN-G', 'EVOL40-LN-G'])\n",
    "growthandsubstrdata = growthandsubstrdata.rename(index={'WT-G':'WT-LN-G'})"
   ]
  },
  {
   "cell_type": "code",
   "execution_count": null,
   "id": "b3dbeca7-1de3-4973-b582-9ffc9f157de5",
   "metadata": {},
   "outputs": [],
   "source": [
    "growthandsubstrdata"
   ]
  },
  {
   "cell_type": "markdown",
   "id": "5dd7f430-abd6-4976-8b53-063b4e32f717",
   "metadata": {},
   "source": [
    "##### **Write data frame to file**"
   ]
  },
  {
   "cell_type": "code",
   "execution_count": null,
   "id": "cc2a87e0-ee8a-41ad-931c-4873306d67f9",
   "metadata": {
    "jp-MarkdownHeadingCollapsed": true,
    "tags": []
   },
   "outputs": [],
   "source": [
    "growthandsubstrdata.to_csv('../consumption_and_growth_data/consumption_and_growth_data_new.csv')"
   ]
  },
  {
   "cell_type": "code",
   "execution_count": null,
   "id": "1bc6e41c-d31d-4b8f-aea0-6ff0ae7ac3ba",
   "metadata": {},
   "outputs": [],
   "source": []
  }
 ],
 "metadata": {
  "kernelspec": {
   "display_name": "biodesign_3.7",
   "language": "python",
   "name": "biod_3.7"
  },
  "language_info": {
   "codemirror_mode": {
    "name": "ipython",
    "version": 3
   },
   "file_extension": ".py",
   "mimetype": "text/x-python",
   "name": "python",
   "nbconvert_exporter": "python",
   "pygments_lexer": "ipython3",
   "version": "3.7.4"
  }
 },
 "nbformat": 4,
 "nbformat_minor": 5
}

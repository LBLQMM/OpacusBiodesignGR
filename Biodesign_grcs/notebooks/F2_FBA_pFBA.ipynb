{
 "cells": [
  {
   "cell_type": "markdown",
   "id": "bb8de09d-1edb-40f1-9442-b4ea41f1401d",
   "metadata": {},
   "source": [
    "# FBA and pFBA Simulations\n",
    "\n",
    "By Christina Schenk and Garrett Roell\n",
    "\n",
    "Tested on biodesign_3.7 kernel on jprime\n",
    "\n",
    "\n",
    "This notebook performs flux balance analysis (FBA) and parsimonious FBA for R. opacus in glucose and phenol growth conditions and creates plots to compare the results with experimental data.\n",
    "\n",
    "### Methods: \n",
    "<ol>\n",
    "<li>Calculate FBA and pFBA growth rates for each of the experimental conditions</li>\n",
    "<li>Plot growth rates in comparison to experimental data</li>\n",
    "<li>Compare phenol 13CMFA fluxes to FBA and pFBA predictions: Scatter plots and flux maps</li>\n",
    "<li>Compare glucose 13CMFA fluxes to FBA and pFBA predictions: Scatter plots and flux maps</li>\n",
    "</ol>"
   ]
  },
  {
   "cell_type": "markdown",
   "id": "fc95b949-f1f8-4034-86e2-cd86d83175b6",
   "metadata": {},
   "source": [
    "#### Imports"
   ]
  },
  {
   "cell_type": "code",
   "execution_count": 1,
   "id": "c99125ca-f011-4c50-9f9f-be9cbd28d7ac",
   "metadata": {},
   "outputs": [],
   "source": [
    "import pandas as pd\n",
    "import numpy as np\n",
    "import cobra\n",
    "import matplotlib\n",
    "import matplotlib.pyplot as plt\n",
    "from matplotlib import cm\n",
    "from matplotlib.offsetbox import (TextArea, DrawingArea, OffsetImage,\n",
    "                                  AnnotationBbox)\n",
    "from matplotlib.cbook import get_sample_data\n",
    "import matplotlib.image as mpimg\n",
    "import matplotlib.cm as cm\n",
    "import scipy\n",
    "from scipy.stats import linregress\n",
    "from sklearn.metrics import r2_score"
   ]
  },
  {
   "cell_type": "markdown",
   "id": "3cb6d354-3d16-4c9c-94af-df3d0acddcae",
   "metadata": {},
   "source": [
    "### Load data from consumption and growth rate notebook (notebook E)\n",
    "Note: WT-P = wildtype grown with phenol, PVHG-P\t= aromatic adaptive evolution strain grown with phenol, WT-LN-G = wildtype grown with phenol and low nitrogen"
   ]
  },
  {
   "cell_type": "code",
   "execution_count": 2,
   "id": "b474af4b-bb54-4150-b5dc-70ff7a155774",
   "metadata": {},
   "outputs": [
    {
     "data": {
      "text/html": [
       "<div>\n",
       "<style scoped>\n",
       "    .dataframe tbody tr th:only-of-type {\n",
       "        vertical-align: middle;\n",
       "    }\n",
       "\n",
       "    .dataframe tbody tr th {\n",
       "        vertical-align: top;\n",
       "    }\n",
       "\n",
       "    .dataframe thead th {\n",
       "        text-align: right;\n",
       "    }\n",
       "</style>\n",
       "<table border=\"1\" class=\"dataframe\">\n",
       "  <thead>\n",
       "    <tr style=\"text-align: right;\">\n",
       "      <th></th>\n",
       "      <th>growth rate</th>\n",
       "      <th>yield coefficient</th>\n",
       "      <th>substrate consumption rate</th>\n",
       "      <th>growth rate std dev</th>\n",
       "      <th>yield coefficient std dev</th>\n",
       "      <th>substrate consumption rate std dev</th>\n",
       "    </tr>\n",
       "  </thead>\n",
       "  <tbody>\n",
       "    <tr>\n",
       "      <th>WT-P</th>\n",
       "      <td>0.065488</td>\n",
       "      <td>0.048868</td>\n",
       "      <td>1.352072</td>\n",
       "      <td>0.001345</td>\n",
       "      <td>0.004836</td>\n",
       "      <td>0.122279</td>\n",
       "    </tr>\n",
       "    <tr>\n",
       "      <th>PVHG-P</th>\n",
       "      <td>0.080331</td>\n",
       "      <td>0.040848</td>\n",
       "      <td>1.967485</td>\n",
       "      <td>0.002672</td>\n",
       "      <td>0.001757</td>\n",
       "      <td>0.021785</td>\n",
       "    </tr>\n",
       "    <tr>\n",
       "      <th>WT-LN-G</th>\n",
       "      <td>0.260195</td>\n",
       "      <td>0.072789</td>\n",
       "      <td>3.582471</td>\n",
       "      <td>0.004749</td>\n",
       "      <td>0.004117</td>\n",
       "      <td>0.141675</td>\n",
       "    </tr>\n",
       "  </tbody>\n",
       "</table>\n",
       "</div>"
      ],
      "text/plain": [
       "         growth rate  yield coefficient  substrate consumption rate  \\\n",
       "WT-P        0.065488           0.048868                    1.352072   \n",
       "PVHG-P      0.080331           0.040848                    1.967485   \n",
       "WT-LN-G     0.260195           0.072789                    3.582471   \n",
       "\n",
       "         growth rate std dev  yield coefficient std dev  \\\n",
       "WT-P                0.001345                   0.004836   \n",
       "PVHG-P              0.002672                   0.001757   \n",
       "WT-LN-G             0.004749                   0.004117   \n",
       "\n",
       "         substrate consumption rate std dev  \n",
       "WT-P                               0.122279  \n",
       "PVHG-P                             0.021785  \n",
       "WT-LN-G                            0.141675  "
      ]
     },
     "execution_count": 2,
     "metadata": {},
     "output_type": "execute_result"
    }
   ],
   "source": [
    "consumption_and_growth_data = pd.read_csv('../consumption_and_growth_data/consumption_and_growth_data_new.csv', index_col=0)\n",
    "consumption_and_growth_data"
   ]
  },
  {
   "cell_type": "markdown",
   "id": "dca1c9f9-d054-41fe-b5cc-6e1549bbd742",
   "metadata": {},
   "source": [
    "#### Load model"
   ]
  },
  {
   "cell_type": "code",
   "execution_count": 3,
   "id": "18cc89ba-0244-46f8-a84e-e2dea188044b",
   "metadata": {},
   "outputs": [],
   "source": [
    "model = cobra.io.read_sbml_model(\"../GSMs/Ropacus_annotated_curated.xml\")"
   ]
  },
  {
   "cell_type": "markdown",
   "id": "34368717-bce2-4723-ad43-cddd3c54ccd0",
   "metadata": {},
   "source": [
    "#### Calculate FBA fluxes for phenol"
   ]
  },
  {
   "cell_type": "code",
   "execution_count": 19,
   "id": "6be1b28f-b2dc-477b-a470-86968bacca25",
   "metadata": {},
   "outputs": [
    {
     "name": "stdout",
     "output_type": "stream",
     "text": [
      "The max FBA growth rate for glucose is 0.12634 hr^-1\n"
     ]
    }
   ],
   "source": [
    "with model:\n",
    "    # ensure that glucose will be limiting resource by setting all media components to 1000\n",
    "    medium = {k: 1000 for k,v in model.medium.items()}\n",
    "    \n",
    "    # set glucose uptake rate from table (note: unit is mmol/g dry cell weight/hr)\n",
    "    medium['EX_phenol_e'] = 1.352072\n",
    "    \n",
    "    # remove all non-glucose carbon sources\n",
    "    medium['EX_glc__D_e'] = 0\n",
    "    medium['EX_guaiacol_e'] = 0\n",
    "    medium['EX_vanlt_e'] = 0\n",
    "    medium['EX_tag'] = 0\n",
    "    \n",
    "    # set the model medium to the customized medium dictionary\n",
    "    model.medium = medium\n",
    "    \n",
    "    # check medium\n",
    "#     print(medium)\n",
    "    \n",
    "    # set objective function to maximize the glucose biomass reaction\n",
    "    model.objective = 'Growth_Phenol'\n",
    "    \n",
    "    # fix the other biomass reactions to zero\n",
    "    model.reactions.get_by_id('Growth_Glucose').upper_bound = 0\n",
    "    model.reactions.get_by_id('Growth_Glucose').lower_bound = 0\n",
    "    model.reactions.get_by_id('Growth').upper_bound = 0\n",
    "    model.reactions.get_by_id('Growth').lower_bound = 0\n",
    "    \n",
    "    # run FBA to find the fluxes that maximize biomass production\n",
    "    phenol_FBA_fluxes = model.optimize().fluxes\n",
    "    phenol_FBA_growth_rate =  model.optimize().objective_value\n",
    "\n",
    "print(f'The max FBA growth rate for glucose is {phenol_FBA_growth_rate:.5f} hr^-1')    "
   ]
  },
  {
   "cell_type": "markdown",
   "id": "d113dceb-1727-431b-ae14-5dd97ae27737",
   "metadata": {},
   "source": [
    "#### Save phenol FBA fluxes as csv for further analysis"
   ]
  },
  {
   "cell_type": "code",
   "execution_count": 5,
   "id": "adf6846c-a394-46ab-b654-2d9e5e14631f",
   "metadata": {},
   "outputs": [],
   "source": [
    "# filter out low flux reactions\n",
    "phenol_FBA_fluxes = phenol_FBA_fluxes[abs(phenol_FBA_fluxes) > 0.01]\n",
    "\n",
    "# order the reactions by absolute value of flux\n",
    "phenol_FBA_fluxes_abs = phenol_FBA_fluxes.map(lambda x : x).abs().sort_values(ascending = False)\n",
    "\n",
    "# make dictionary to hold dictionary of reactions\n",
    "phenol_FBA_fluxes_sorted = {}\n",
    "for reaction in phenol_FBA_fluxes_abs.index:\n",
    "    phenol_FBA_fluxes_sorted[reaction] = {\n",
    "        'reaction': model.reactions.get_by_id(reaction).reaction,\n",
    "        'name': model.reactions.get_by_id(reaction).name,\n",
    "        'flux': phenol_FBA_fluxes[reaction],\n",
    "    }\n",
    "    \n",
    "pd.DataFrame(phenol_FBA_fluxes_sorted).T.to_csv('../fba_data/phenol.csv')"
   ]
  },
  {
   "cell_type": "markdown",
   "id": "8ecc3aea-6b1b-4bcd-a7c9-e7f65c552e74",
   "metadata": {},
   "source": [
    "#### Calculate FBA fluxes for glucose"
   ]
  },
  {
   "cell_type": "code",
   "execution_count": 18,
   "id": "ce119072-6566-4291-9429-ca4c44639e7d",
   "metadata": {},
   "outputs": [
    {
     "name": "stdout",
     "output_type": "stream",
     "text": [
      "The max FBA growth rate for glucose is 0.43109 hr^-1\n"
     ]
    }
   ],
   "source": [
    "with model:\n",
    "    # ensure that glucose will be limiting resource by setting all media components to 1000\n",
    "    medium = {k: 1000 for k,v in model.medium.items()}\n",
    "    \n",
    "    # set glucose uptake rate from table (note: unit is mmol/g dry cell weight/hr)\n",
    "    medium['EX_glc__D_e'] = 3.582471\n",
    "    \n",
    "    # remove all non-glucose carbon sources\n",
    "    medium['EX_phenol_e'] = 0\n",
    "    medium['EX_guaiacol_e'] = 0\n",
    "    medium['EX_vanlt_e'] = 0\n",
    "    medium['EX_tag'] = 0\n",
    "    \n",
    "    # set the model medium to the customized medium dictionary\n",
    "    model.medium = medium\n",
    "    \n",
    "    # check medium\n",
    "#     print(medium)\n",
    "    \n",
    "    # set objective function to maximize the glucose biomass reaction\n",
    "    model.objective = 'Growth_Glucose'\n",
    "    \n",
    "    # fix the other biomass reactions to zero\n",
    "    model.reactions.get_by_id('Growth_Phenol').upper_bound = 0\n",
    "    model.reactions.get_by_id('Growth_Phenol').lower_bound = 0\n",
    "    model.reactions.get_by_id('Growth').upper_bound = 0\n",
    "    model.reactions.get_by_id('Growth').lower_bound = 0\n",
    "    \n",
    "    # run FBA to find the fluxes that maximize biomass production\n",
    "    glucose_FBA_fluxes = model.optimize().fluxes\n",
    "    glucose_FBA_growth_rate =  model.optimize().objective_value\n",
    "\n",
    "print(f'The max FBA growth rate for glucose is {glucose_FBA_growth_rate:.5f} hr^-1')"
   ]
  },
  {
   "cell_type": "markdown",
   "id": "c7fab7c2-de79-48d0-a43d-1f72921e5bbd",
   "metadata": {},
   "source": [
    "#### Save glucose FBA fluxes as csv for further analysis"
   ]
  },
  {
   "cell_type": "code",
   "execution_count": 7,
   "id": "f1286a2a-716e-47b0-a825-636a1aacd925",
   "metadata": {},
   "outputs": [],
   "source": [
    "# filter out low flux reactions\n",
    "glucose_FBA_fluxes = glucose_FBA_fluxes[abs(glucose_FBA_fluxes) > 0.01]\n",
    "\n",
    "# order the reactions by absolute value of flux\n",
    "glucose_FBA_fluxes_abs = glucose_FBA_fluxes.map(lambda x : x).abs().sort_values(ascending = False)\n",
    "\n",
    "# make dictionary to hold dictionary of reactions\n",
    "glucose_FBA_fluxes_sorted = {}\n",
    "for reaction in glucose_FBA_fluxes_abs.index:\n",
    "    glucose_FBA_fluxes_sorted[reaction] = {\n",
    "        'reaction': model.reactions.get_by_id(reaction).reaction,\n",
    "        'name': model.reactions.get_by_id(reaction).name,\n",
    "        'flux': glucose_FBA_fluxes[reaction],\n",
    "    }\n",
    "    \n",
    "pd.DataFrame(glucose_FBA_fluxes_sorted).T.to_csv('../fba_data/glucose.csv')"
   ]
  },
  {
   "cell_type": "markdown",
   "id": "0fa4c1fa-7014-421e-8693-859604ed7c1a",
   "metadata": {},
   "source": [
    "#### Calculate Glucose FBA fluxes when EMP pathway and ED pathway is blocked"
   ]
  },
  {
   "cell_type": "code",
   "execution_count": 17,
   "id": "ebb599ec-5e50-45de-873f-efea586e7fec",
   "metadata": {},
   "outputs": [
    {
     "name": "stdout",
     "output_type": "stream",
     "text": [
      "The max FBA growth rate for glucose when ED pathway is used is 0.41147 hr^-1\n"
     ]
    }
   ],
   "source": [
    "with model:\n",
    "    # ensure that glucose will be limiting resource by setting all media components to 1000\n",
    "    medium = {k: 1000 for k,v in model.medium.items()}\n",
    "    \n",
    "    # set glucose uptake rate from table (note: unit is mmol/g dry cell weight/hr)\n",
    "    medium['EX_glc__D_e'] = 3.582471\n",
    "    \n",
    "    # remove all non-glucose carbon sources\n",
    "    medium['EX_phenol_e'] = 0\n",
    "    medium['EX_guaiacol_e'] = 0\n",
    "    medium['EX_vanlt_e'] = 0\n",
    "    medium['EX_tag'] = 0\n",
    "    \n",
    "    # set the model medium to the customized medium dictionary\n",
    "    model.medium = medium\n",
    "    \n",
    "    # check medium\n",
    "#     print(medium)\n",
    "    \n",
    "    # set objective function to maximize the glucose biomass reaction\n",
    "    model.objective = 'Growth_Glucose'\n",
    "    \n",
    "    # fix the other biomass reactions to zero\n",
    "    model.reactions.get_by_id('Growth_Phenol').upper_bound = 0\n",
    "    model.reactions.get_by_id('Growth_Phenol').lower_bound = 0\n",
    "    model.reactions.get_by_id('Growth').upper_bound = 0\n",
    "    model.reactions.get_by_id('Growth').lower_bound = 0\n",
    "    \n",
    "    # block the EMP pathway to force ED flux (PGI is the reaction of G6P -> F6P\n",
    "    model.reactions.get_by_id('PGI').upper_bound = 0\n",
    "    model.reactions.get_by_id('PGI').lower_bound = 0\n",
    "    \n",
    "    # block the PP pathway\n",
    "    model.reactions.get_by_id('GND').upper_bound = 0\n",
    "    model.reactions.get_by_id('GND').lower_bound = 0\n",
    "    \n",
    "    # run FBA to find the fluxes that maximize biomass production\n",
    "    glucose_FBA_fluxes = model.optimize().fluxes\n",
    "    glucose_FBA_growth_rate =  model.optimize().objective_value\n",
    "\n",
    "\n",
    "print(f'The max FBA growth rate for glucose when ED pathway is used is {glucose_FBA_growth_rate:.5f} hr^-1')"
   ]
  },
  {
   "cell_type": "markdown",
   "id": "8f5ac8e8-c601-4bce-9d5e-23237c5c482f",
   "metadata": {},
   "source": [
    "#### Save glucose FBA fluxes as csv for further analysis"
   ]
  },
  {
   "cell_type": "code",
   "execution_count": 9,
   "id": "53a577d3-730e-487d-a3de-568d5512db35",
   "metadata": {},
   "outputs": [],
   "source": [
    "# filter out low flux reactions\n",
    "glucose_FBA_fluxes = glucose_FBA_fluxes[abs(glucose_FBA_fluxes) > 0.01]\n",
    "\n",
    "# order the reactions by absolute value of flux\n",
    "glucose_FBA_fluxes_abs = glucose_FBA_fluxes.map(lambda x : x).abs().sort_values(ascending = False)\n",
    "\n",
    "# make dictionary to hold dictionary of reactions\n",
    "glucose_FBA_fluxes_sorted = {}\n",
    "for reaction in glucose_FBA_fluxes_abs.index:\n",
    "    glucose_FBA_fluxes_sorted[reaction] = {\n",
    "        'reaction': model.reactions.get_by_id(reaction).reaction,\n",
    "        'name': model.reactions.get_by_id(reaction).name,\n",
    "        'flux': glucose_FBA_fluxes[reaction],\n",
    "    }\n",
    "    \n",
    "pd.DataFrame(glucose_FBA_fluxes_sorted).T.to_csv('../fba_data/glucose_emp_and_pp_blocked.csv')"
   ]
  }
 ],
 "metadata": {
  "kernelspec": {
   "display_name": "biodesign_3.7",
   "language": "python",
   "name": "biod_3.7"
  },
  "language_info": {
   "codemirror_mode": {
    "name": "ipython",
    "version": 3
   },
   "file_extension": ".py",
   "mimetype": "text/x-python",
   "name": "python",
   "nbconvert_exporter": "python",
   "pygments_lexer": "ipython3",
   "version": "3.7.4"
  }
 },
 "nbformat": 4,
 "nbformat_minor": 5
}

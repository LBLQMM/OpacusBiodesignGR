{
 "cells": [
  {
   "cell_type": "markdown",
   "id": "flush-flesh",
   "metadata": {},
   "source": [
    "# Biomass composition ➟  biomass reaction\n",
    "This notebook converts biomass composition measurements into biomass equations for various R. opacus strains growing on phenol and glucose.\n",
    "\n",
    "### Method\n",
    "<ol>\n",
    "<li>Load biomass compositions for different strains and conditions</li>\n",
    "<li>Calculate the macromolecule breakdown for the bacillus subtilis growth reaction built into CarveMe</li>\n",
    "<li>For each macromolecule, calculate the ratio of R.opacus concentration : Bacillus subtilis concentration</li>\n",
    "<li>Define phenol and glucose R.opacus biomass reactions by finding the coeffient for each precursor by multipling the B. subtilis coefficient by the macromolecule scaling factor</li>\n",
    "</ol>"
   ]
  },
  {
   "cell_type": "markdown",
   "id": "baking-campus",
   "metadata": {},
   "source": [
    "### Load dependencies"
   ]
  },
  {
   "cell_type": "code",
   "execution_count": 1,
   "id": "corresponding-force",
   "metadata": {},
   "outputs": [],
   "source": [
    "import cobra\n",
    "import pandas as pd"
   ]
  },
  {
   "cell_type": "markdown",
   "id": "stylish-airline",
   "metadata": {},
   "source": [
    "### Get biomass composition data (.csv import is a temporary. In the future this data will be from EDD)"
   ]
  },
  {
   "cell_type": "code",
   "execution_count": 2,
   "id": "voluntary-thing",
   "metadata": {},
   "outputs": [
    {
     "data": {
      "text/html": [
       "<div>\n",
       "<style scoped>\n",
       "    .dataframe tbody tr th:only-of-type {\n",
       "        vertical-align: middle;\n",
       "    }\n",
       "\n",
       "    .dataframe tbody tr th {\n",
       "        vertical-align: top;\n",
       "    }\n",
       "\n",
       "    .dataframe thead th {\n",
       "        text-align: right;\n",
       "    }\n",
       "</style>\n",
       "<table border=\"1\" class=\"dataframe\">\n",
       "  <thead>\n",
       "    <tr style=\"text-align: right;\">\n",
       "      <th></th>\n",
       "      <th>Line Name</th>\n",
       "      <th>Measurement Type</th>\n",
       "      <th>Time (hrs)</th>\n",
       "      <th>Value</th>\n",
       "      <th>Units</th>\n",
       "    </tr>\n",
       "  </thead>\n",
       "  <tbody>\n",
       "    <tr>\n",
       "      <th>0</th>\n",
       "      <td>RoWT_PHE-R2</td>\n",
       "      <td>Lipid Content</td>\n",
       "      <td>25.5</td>\n",
       "      <td>14.08</td>\n",
       "      <td>%</td>\n",
       "    </tr>\n",
       "    <tr>\n",
       "      <th>1</th>\n",
       "      <td>RoWT_PHE-R2</td>\n",
       "      <td>Carbohydrate Content</td>\n",
       "      <td>25.5</td>\n",
       "      <td>17.21</td>\n",
       "      <td>%</td>\n",
       "    </tr>\n",
       "    <tr>\n",
       "      <th>2</th>\n",
       "      <td>RoWT_PHE-R2</td>\n",
       "      <td>Protein Content</td>\n",
       "      <td>25.5</td>\n",
       "      <td>38.84</td>\n",
       "      <td>%</td>\n",
       "    </tr>\n",
       "    <tr>\n",
       "      <th>3</th>\n",
       "      <td>RoP1_L-R1</td>\n",
       "      <td>Lipid Content</td>\n",
       "      <td>25.5</td>\n",
       "      <td>16.44</td>\n",
       "      <td>%</td>\n",
       "    </tr>\n",
       "    <tr>\n",
       "      <th>4</th>\n",
       "      <td>RoP1_L-R1</td>\n",
       "      <td>Carbohydrate Content</td>\n",
       "      <td>25.5</td>\n",
       "      <td>12.47</td>\n",
       "      <td>%</td>\n",
       "    </tr>\n",
       "    <tr>\n",
       "      <th>5</th>\n",
       "      <td>RoP1_L-R1</td>\n",
       "      <td>Protein Content</td>\n",
       "      <td>25.5</td>\n",
       "      <td>39.43</td>\n",
       "      <td>%</td>\n",
       "    </tr>\n",
       "    <tr>\n",
       "      <th>6</th>\n",
       "      <td>RoP1_H-R3</td>\n",
       "      <td>Lipid Content</td>\n",
       "      <td>46.5</td>\n",
       "      <td>14.94</td>\n",
       "      <td>%</td>\n",
       "    </tr>\n",
       "    <tr>\n",
       "      <th>7</th>\n",
       "      <td>RoP1_H-R3</td>\n",
       "      <td>Carbohydrate Content</td>\n",
       "      <td>46.5</td>\n",
       "      <td>13.68</td>\n",
       "      <td>%</td>\n",
       "    </tr>\n",
       "    <tr>\n",
       "      <th>8</th>\n",
       "      <td>RoP1_H-R3</td>\n",
       "      <td>Protein Content</td>\n",
       "      <td>46.5</td>\n",
       "      <td>45.23</td>\n",
       "      <td>%</td>\n",
       "    </tr>\n",
       "    <tr>\n",
       "      <th>9</th>\n",
       "      <td>RoWT_PV-R2</td>\n",
       "      <td>Lipid Content</td>\n",
       "      <td>27.0</td>\n",
       "      <td>15.28</td>\n",
       "      <td>%</td>\n",
       "    </tr>\n",
       "  </tbody>\n",
       "</table>\n",
       "</div>"
      ],
      "text/plain": [
       "     Line Name      Measurement Type  Time (hrs)  Value Units\n",
       "0  RoWT_PHE-R2         Lipid Content        25.5  14.08     %\n",
       "1  RoWT_PHE-R2  Carbohydrate Content        25.5  17.21     %\n",
       "2  RoWT_PHE-R2       Protein Content        25.5  38.84     %\n",
       "3    RoP1_L-R1         Lipid Content        25.5  16.44     %\n",
       "4    RoP1_L-R1  Carbohydrate Content        25.5  12.47     %\n",
       "5    RoP1_L-R1       Protein Content        25.5  39.43     %\n",
       "6    RoP1_H-R3         Lipid Content        46.5  14.94     %\n",
       "7    RoP1_H-R3  Carbohydrate Content        46.5  13.68     %\n",
       "8    RoP1_H-R3       Protein Content        46.5  45.23     %\n",
       "9   RoWT_PV-R2         Lipid Content        27.0  15.28     %"
      ]
     },
     "execution_count": 2,
     "metadata": {},
     "output_type": "execute_result"
    }
   ],
   "source": [
    "biomass_comp_filename = '../../EDD_Ropacus_Multiomics/EDD_Ropacus_Multiomics_BiomassComp.csv'\n",
    "biomass_comp_df = pd.read_csv(biomass_comp_filename)\n",
    "\n",
    "# remove blank columns\n",
    "cols_to_drop = [col for col in biomass_comp_df.columns if 'Unnamed' in col]\n",
    "biomass_comp_df.drop(cols_to_drop, inplace=True, axis=1)\n",
    "\n",
    "biomass_comp_df.head(10)\n",
    "# biomass_comp_df[(biomass_comp_df['Line Name']  == 'RoWT_PHE-R2') | (biomass_comp_df['Line Name'] == 'RoWT_GLC-R2')]"
   ]
  },
  {
   "cell_type": "markdown",
   "id": "associate-contrary",
   "metadata": {},
   "source": [
    "### Load model and pull up original biomass equation (from Bacillus subtilis)"
   ]
  },
  {
   "cell_type": "code",
   "execution_count": 3,
   "id": "bizarre-prize",
   "metadata": {},
   "outputs": [
    {
     "data": {
      "text/html": [
       "\n",
       "        <table>\n",
       "            <tr>\n",
       "                <td><strong>Name</strong></td>\n",
       "                <td>ropacus_model_A</td>\n",
       "            </tr><tr>\n",
       "                <td><strong>Memory address</strong></td>\n",
       "                <td>0x07fc03cd4e6d0</td>\n",
       "            </tr><tr>\n",
       "                <td><strong>Number of metabolites</strong></td>\n",
       "                <td>1587</td>\n",
       "            </tr><tr>\n",
       "                <td><strong>Number of reactions</strong></td>\n",
       "                <td>2390</td>\n",
       "            </tr><tr>\n",
       "                <td><strong>Number of groups</strong></td>\n",
       "                <td>0</td>\n",
       "            </tr><tr>\n",
       "                <td><strong>Objective expression</strong></td>\n",
       "                <td>1.0*Growth - 1.0*Growth_reverse_699ae</td>\n",
       "            </tr><tr>\n",
       "                <td><strong>Compartments</strong></td>\n",
       "                <td>cytosol, periplasm, extracellular space</td>\n",
       "            </tr>\n",
       "          </table>"
      ],
      "text/plain": [
       "<Model ropacus_model_A at 0x7fc03cd4e6d0>"
      ]
     },
     "execution_count": 3,
     "metadata": {},
     "output_type": "execute_result"
    }
   ],
   "source": [
    "model = cobra.io.read_sbml_model(\"../GSMs/ropacus_model_A.xml\")\n",
    "model"
   ]
  },
  {
   "cell_type": "markdown",
   "id": "39b13731-0b1a-47b2-a1e7-5d4ce6325ca6",
   "metadata": {},
   "source": [
    "### Load subtilis biomass information"
   ]
  },
  {
   "cell_type": "code",
   "execution_count": 4,
   "id": "f7127fa8-00ae-40bf-8298-07d3e446fbdd",
   "metadata": {},
   "outputs": [
    {
     "data": {
      "text/html": [
       "<div>\n",
       "<style scoped>\n",
       "    .dataframe tbody tr th:only-of-type {\n",
       "        vertical-align: middle;\n",
       "    }\n",
       "\n",
       "    .dataframe tbody tr th {\n",
       "        vertical-align: top;\n",
       "    }\n",
       "\n",
       "    .dataframe thead th {\n",
       "        text-align: right;\n",
       "    }\n",
       "</style>\n",
       "<table border=\"1\" class=\"dataframe\">\n",
       "  <thead>\n",
       "    <tr style=\"text-align: right;\">\n",
       "      <th></th>\n",
       "      <th>name</th>\n",
       "      <th>abbreviation</th>\n",
       "      <th>category</th>\n",
       "      <th>coefficient</th>\n",
       "      <th>molecular_weight</th>\n",
       "    </tr>\n",
       "  </thead>\n",
       "  <tbody>\n",
       "    <tr>\n",
       "      <th>0</th>\n",
       "      <td>10-Formyltetrahydrofolate</td>\n",
       "      <td>10fthf_c</td>\n",
       "      <td>carbon carrier</td>\n",
       "      <td>-0.000216</td>\n",
       "      <td>471.430</td>\n",
       "    </tr>\n",
       "    <tr>\n",
       "      <th>1</th>\n",
       "      <td>L-Alanine</td>\n",
       "      <td>ala__L_c</td>\n",
       "      <td>protein</td>\n",
       "      <td>-0.498716</td>\n",
       "      <td>89.094</td>\n",
       "    </tr>\n",
       "    <tr>\n",
       "      <th>2</th>\n",
       "      <td>S-Adenosyl-L-methionine</td>\n",
       "      <td>amet_c</td>\n",
       "      <td>carbon carrier</td>\n",
       "      <td>-0.000216</td>\n",
       "      <td>399.446</td>\n",
       "    </tr>\n",
       "    <tr>\n",
       "      <th>3</th>\n",
       "      <td>L-Arginine</td>\n",
       "      <td>arg__L_c</td>\n",
       "      <td>protein</td>\n",
       "      <td>-0.287170</td>\n",
       "      <td>175.212</td>\n",
       "    </tr>\n",
       "    <tr>\n",
       "      <th>4</th>\n",
       "      <td>L-Asparagine</td>\n",
       "      <td>asn__L_c</td>\n",
       "      <td>protein</td>\n",
       "      <td>-0.234029</td>\n",
       "      <td>132.119</td>\n",
       "    </tr>\n",
       "  </tbody>\n",
       "</table>\n",
       "</div>"
      ],
      "text/plain": [
       "                        name abbreviation        category  coefficient  \\\n",
       "0  10-Formyltetrahydrofolate     10fthf_c  carbon carrier    -0.000216   \n",
       "1                  L-Alanine     ala__L_c         protein    -0.498716   \n",
       "2    S-Adenosyl-L-methionine       amet_c  carbon carrier    -0.000216   \n",
       "3                 L-Arginine     arg__L_c         protein    -0.287170   \n",
       "4               L-Asparagine     asn__L_c         protein    -0.234029   \n",
       "\n",
       "   molecular_weight  \n",
       "0           471.430  \n",
       "1            89.094  \n",
       "2           399.446  \n",
       "3           175.212  \n",
       "4           132.119  "
      ]
     },
     "execution_count": 4,
     "metadata": {},
     "output_type": "execute_result"
    }
   ],
   "source": [
    "bacillis_df = pd.read_csv('../biomass_equation_data/subtilis_biomass_data.csv')\n",
    "bacillis_df.head()"
   ]
  },
  {
   "cell_type": "markdown",
   "id": "8d839e19-c5a7-437d-b718-5d84e70f714e",
   "metadata": {},
   "source": [
    "### Define function to get the total mass of a single macromolecule type per g biomass"
   ]
  },
  {
   "cell_type": "code",
   "execution_count": 5,
   "id": "3aaa0dd5-7100-434d-b522-f5998c2c785e",
   "metadata": {},
   "outputs": [],
   "source": [
    "def get_total_macro_mass(biomass_df, macromolecule):\n",
    "    \n",
    "    # isolate just reactants\n",
    "    biomass_df = biomass_df[biomass_df.coefficient < 0]\n",
    "    \n",
    "    # isolate just metabolites from that macromolecule type\n",
    "    macro_df = biomass_df[biomass_df.category == macromolecule]\n",
    "    \n",
    "    # return the sum of the coefficients and molecular_weights\n",
    "    # the -1 is needed since the coffients of reactants are negative\n",
    "    return sum([-1*row.coefficient * row.molecular_weight for _, row in macro_df.iterrows()])"
   ]
  },
  {
   "cell_type": "markdown",
   "id": "harmful-commons",
   "metadata": {},
   "source": [
    "### Calculate the macromolecule distribution in the Subtilis biomass equation"
   ]
  },
  {
   "cell_type": "code",
   "execution_count": 6,
   "id": "03ee30f9-8880-4509-9f70-4ed2a0902a52",
   "metadata": {},
   "outputs": [
    {
     "name": "stdout",
     "output_type": "stream",
     "text": [
      "{'protein': 655.9755072570001, 'lipid': 175.241005523, 'carbohydrate': 9.621337439000001}\n"
     ]
    }
   ],
   "source": [
    "# define macro categories\n",
    "macros = ['protein', 'lipid', 'carbohydrate']\n",
    "\n",
    "# fill a dictionary with bacillis macros\n",
    "bacillis_macros = {macro:get_total_macro_mass(bacillis_df, macro) for macro in macros}\n",
    "\n",
    "print(bacillis_macros)"
   ]
  },
  {
   "cell_type": "markdown",
   "id": "behavioral-input",
   "metadata": {},
   "source": [
    "### Define function to take in a strain and measurement type and returns a value"
   ]
  },
  {
   "cell_type": "code",
   "execution_count": 7,
   "id": "disabled-category",
   "metadata": {},
   "outputs": [],
   "source": [
    "def strain_measurement_value(strain, macro):\n",
    "    \n",
    "    # modify macro string to match measurement dataframe\n",
    "    measurement_type = macro.capitalize() + ' Content'\n",
    "    \n",
    "    # filter dataframe to isolate a single strain and measurement type\n",
    "    value = biomass_comp_df[(biomass_comp_df['Line Name']  == strain) & (biomass_comp_df['Measurement Type'] == measurement_type)]['Value']\n",
    "    \n",
    "    # convert string value to float \n",
    "    # return value multiplied by 10 to convert from percent to mg macro/g biomass\n",
    "    return 10*float(value)"
   ]
  },
  {
   "cell_type": "markdown",
   "id": "f7e74b52-63fc-4690-830a-4ebf6992cf6d",
   "metadata": {},
   "source": [
    "### Get phenol and glucose macro dictionary"
   ]
  },
  {
   "cell_type": "code",
   "execution_count": 8,
   "id": "86317889-f78a-4262-a899-a0b59f5c2c1f",
   "metadata": {},
   "outputs": [
    {
     "name": "stdout",
     "output_type": "stream",
     "text": [
      "phenol {'protein': 388.40000000000003, 'lipid': 140.8, 'carbohydrate': 172.10000000000002}\n",
      "glucose {'protein': 240.39999999999998, 'lipid': 402.59999999999997, 'carbohydrate': 146.4}\n"
     ]
    }
   ],
   "source": [
    "phenol_macros = {macro:strain_measurement_value('RoWT_PHE-R2', macro) for macro in macros}\n",
    "print('phenol', phenol_macros)\n",
    "\n",
    "glucose_macros = {macro:strain_measurement_value('RoWT_GLC-R2', macro) for macro in macros}\n",
    "print('glucose', glucose_macros)"
   ]
  },
  {
   "cell_type": "markdown",
   "id": "f403d2af-167d-4f30-81ec-780f58088ab4",
   "metadata": {},
   "source": [
    "### Define a function to get biomass equation from original and new macromolecule dictionaries"
   ]
  },
  {
   "cell_type": "code",
   "execution_count": 9,
   "id": "3fa06bd0-fec4-4347-86b2-0277e85c0c83",
   "metadata": {},
   "outputs": [],
   "source": [
    "def get_new_biomass_metabolites(old_biomass_df, old_macros, new_macros):\n",
    "    \n",
    "    # get the multiplier needed to scale each macro\n",
    "    macro_multipliers = {macro:(new_macros[macro]/old_macros[macro]) for macro in old_macros.keys()}\n",
    "    \n",
    "    # make metabolite dictionary by looping over old dataframe\n",
    "    metabolite_dictionary = {}\n",
    "    for _, row in old_biomass_df.iterrows():\n",
    "        \n",
    "        # convert the metabolite id into a metabolite object\n",
    "        metabolite = model.metabolites.get_by_id(row.abbreviation)\n",
    "        \n",
    "        # if the metabolite is one of the primary three macros then scale its coefficient\n",
    "        if row.category in ['protein', 'lipid', 'carbohydrate']:\n",
    "            metabolite_dictionary[metabolite] = macro_multipliers[row.category]*row.coefficient\n",
    "            \n",
    "        # if not use original coefficient\n",
    "        else:\n",
    "            metabolite_dictionary[metabolite] = row.coefficient\n",
    "            \n",
    "    return metabolite_dictionary"
   ]
  },
  {
   "cell_type": "markdown",
   "id": "689daa90-ea2e-4d4d-8711-628cf3e52cbf",
   "metadata": {},
   "source": [
    "### Make phenol biomass reaction and add to model"
   ]
  },
  {
   "cell_type": "code",
   "execution_count": 10,
   "id": "2f170906-7122-4f77-9317-8d5abf3fd266",
   "metadata": {},
   "outputs": [
    {
     "data": {
      "text/plain": [
       "'0.00021600000000000002 10fthf_c + 0.2952873884117614 ala__L_c + 0.00021600000000000002 amet_c + 0.17003200083856446 arg__L_c + 0.13856746569714248 asn__L_c + 0.13856746569714248 asp__L_c + 52.547151 atp_c + 0.005053 ca2_c + 0.005053 cl_c + 0.000559 coa_c + 9.7e-05 cobalt2_c + 0.129616 ctp_c + 0.000688 cu2_c + 0.052643783217458676 cys__L_c + 0.025403 datp_c + 0.026229000000000002 dctp_c + 0.026229000000000002 dgtp_c + 0.025403 dttp_c + 0.00021600000000000002 fad_c + 0.006519 fe2_c + 0.00758 fe3_c + 0.15127383035220948 gln__L_c + 0.15127383035220948 glu__L_c + 0.3521664291491499 gly_c + 0.0007801644346423031 gtca1_45_BS_c + 0.0007801644346423031 gtca2_45_BS_c + 0.0007801644346423031 gtca3_45_BS_c + 0.208826 gtp_c + 47.184845 h2o_c + 0.05445855524298432 his__L_c + 0.16700639397055922 ile__L_c + 0.189503 k_c + 0.258981882281531 leu__L_c + 3.93697809448742e-05 lipo1_24_BS_c + 3.93697809448742e-05 lipo2_24_BS_c + 3.93697809448742e-05 lipo3_24_BS_c + 3.93697809448742e-05 lipo4_24_BS_c + 0.19726127846005664 lys__L_c + 0.088344167974088 met__L_c + 0.008422 mg2_c + 0.00021600000000000002 mlthf_c + 0.000671 mn2_c + 9.7e-05 mql8_c + 0.001778 nad_c + 0.000434 nadp_c + 0.17366804881273015 peptido_BS_c + 0.10649721708684194 phe__L_c + 0.1270701595987226 pro__L_c + 0.00021600000000000002 pydx5p_c + 0.00021600000000000002 ribflv_c + 0.12404514482599482 ser__L_c + 0.004212 so4_c + 0.00021600000000000002 thf_c + 0.00021600000000000002 thmpp_c + 0.14582833008507756 thr__L_c + 0.03267536998390159 trp__L_c + 0.07926734737007228 tyr__L_c + 0.139904 utp_c + 0.2432487265679038 val__L_c + 0.000331 zn2_c --> 52.37741576 adp_c + 52.37741576 h_c + 52.37320421 pi_c + 0.751344563 ppi_c'"
      ]
     },
     "execution_count": 10,
     "metadata": {},
     "output_type": "execute_result"
    }
   ],
   "source": [
    "phenol_growth_equation = cobra.Reaction()\n",
    "\n",
    "# add metadata\n",
    "phenol_growth_equation.name = 'Phenol biomass reaction'\n",
    "phenol_growth_equation.id = 'Growth_Phenol'\n",
    "\n",
    "# get metabolite dictionary for phenol\n",
    "metabolite_dictionary = get_new_biomass_metabolites(bacillis_df, bacillis_macros, phenol_macros)\n",
    "\n",
    "# add metabolites to the reaction\n",
    "phenol_growth_equation.add_metabolites(metabolite_dictionary)\n",
    "\n",
    "# add reaction to the model\n",
    "model.add_reactions([phenol_growth_equation])\n",
    "\n",
    "# print the reaction\n",
    "model.reactions.get_by_id('Growth_Phenol').reaction"
   ]
  },
  {
   "cell_type": "markdown",
   "id": "965a2d26-3ee9-4f9a-a55b-3035b7f07db3",
   "metadata": {},
   "source": [
    "### Make glucose biomass reaction and add to model"
   ]
  },
  {
   "cell_type": "code",
   "execution_count": 11,
   "id": "3e9a7dea-2c29-4353-a702-639dc666848b",
   "metadata": {},
   "outputs": [
    {
     "data": {
      "text/plain": [
       "'0.00021600000000000002 10fthf_c + 0.18276799220954537 ala__L_c + 0.00021600000000000002 amet_c + 0.10524122811944102 arg__L_c + 0.08576626867557427 asn__L_c + 0.08576626867557427 asp__L_c + 52.547151 atp_c + 0.005053 ca2_c + 0.005053 cl_c + 0.000559 coa_c + 9.7e-05 cobalt2_c + 0.129616 ctp_c + 0.000688 cu2_c + 0.03258384522522416 cys__L_c + 0.025403 datp_c + 0.026229000000000002 dctp_c + 0.026229000000000002 dgtp_c + 0.025403 dttp_c + 0.00021600000000000002 fad_c + 0.006519 fe2_c + 0.00758 fe3_c + 0.09363086719019349 gln__L_c + 0.09363086719019349 glu__L_c + 0.21797324811394342 gly_c + 0.002230782680305335 gtca1_45_BS_c + 0.002230782680305335 gtca2_45_BS_c + 0.002230782680305335 gtca3_45_BS_c + 0.208826 gtp_c + 47.184845 h2o_c + 0.033707097529385756 his__L_c + 0.10336853015067567 ile__L_c + 0.189503 k_c + 0.16029671601565407 leu__L_c + 0.00011257296738924964 lipo1_24_BS_c + 0.00011257296738924964 lipo2_24_BS_c + 0.00011257296738924964 lipo3_24_BS_c + 0.00011257296738924964 lipo4_24_BS_c + 0.12209477688413391 lys__L_c + 0.05468058182536239 met__L_c + 0.008422 mg2_c + 0.00021600000000000002 mlthf_c + 0.000671 mn2_c + 9.7e-05 mql8_c + 0.001778 nad_c + 0.000434 nadp_c + 0.1477338892863666 peptido_BS_c + 0.06591640316085684 phe__L_c + 0.07865001639426597 pro__L_c + 0.00021600000000000002 pydx5p_c + 0.00021600000000000002 ribflv_c + 0.07677768490259823 ser__L_c + 0.004212 so4_c + 0.00021600000000000002 thf_c + 0.00021600000000000002 thmpp_c + 0.0902603773235135 thr__L_c + 0.020224405108470494 trp__L_c + 0.04906248791906636 tyr__L_c + 0.139904 utp_c + 0.1505586865780743 val__L_c + 0.000331 zn2_c --> 52.37741576 adp_c + 52.37741576 h_c + 52.37320421 pi_c + 0.751344563 ppi_c'"
      ]
     },
     "execution_count": 11,
     "metadata": {},
     "output_type": "execute_result"
    }
   ],
   "source": [
    "glucose_growth_equation = cobra.Reaction()\n",
    "\n",
    "# add metadata\n",
    "glucose_growth_equation.name = 'Glucose biomass reaction'\n",
    "glucose_growth_equation.id = 'Growth_Glucose'\n",
    "\n",
    "# get metabolite dictionary for glucose\n",
    "metabolite_dictionary = get_new_biomass_metabolites(bacillis_df, bacillis_macros, glucose_macros)\n",
    "\n",
    "# add metabolites to the reaction\n",
    "glucose_growth_equation.add_metabolites(metabolite_dictionary)\n",
    "\n",
    "# add reaction to the model\n",
    "model.add_reactions([glucose_growth_equation])\n",
    "\n",
    "# print the reaction\n",
    "model.reactions.get_by_id('Growth_Glucose').reaction"
   ]
  },
  {
   "cell_type": "markdown",
   "id": "73a3b696-769a-4ef4-86ff-af7a0f590f8c",
   "metadata": {},
   "source": [
    "### Define function to convert a biomass reaction into a macro dictionary"
   ]
  },
  {
   "cell_type": "code",
   "execution_count": 12,
   "id": "468f4b5c-cffa-48f7-a485-69ab8e1ad9a8",
   "metadata": {},
   "outputs": [
    {
     "data": {
      "text/plain": [
       "240.39999999999992"
      ]
     },
     "execution_count": 12,
     "metadata": {},
     "output_type": "execute_result"
    }
   ],
   "source": [
    "def reaction_to_single_macro_mass(reaction, old_biomass_df, macro):\n",
    "    \n",
    "    # isolate just reactants\n",
    "    old_biomass_df = old_biomass_df[old_biomass_df.coefficient < 0]\n",
    "    \n",
    "    # isolate just the metabolites in that macro group\n",
    "    macro_df = old_biomass_df[old_biomass_df.category == macro]\n",
    "    \n",
    "    # multiply the metabolite coefficient in new reaction with the molecular weight from dataframe\n",
    "    # -1 is needed to since these are all coeffients are negative\n",
    "    masses = [-1 * row.molecular_weight * reaction.get_coefficient(row.abbreviation) for _, row in macro_df.iterrows()]\n",
    "    \n",
    "    return sum(masses)\n",
    "    \n",
    "    \n",
    "reaction_to_single_macro_mass(model.reactions.get_by_id('Growth_Glucose'), bacillis_df, 'protein')"
   ]
  },
  {
   "cell_type": "markdown",
   "id": "7d7c6d23-06fb-4594-b94c-666d1ba2baec",
   "metadata": {},
   "source": [
    "### Test new biomass reactions"
   ]
  },
  {
   "cell_type": "code",
   "execution_count": 13,
   "id": "83efe3eb-ab5d-45cf-8c8e-ead95f3131b6",
   "metadata": {},
   "outputs": [
    {
     "name": "stdout",
     "output_type": "stream",
     "text": [
      "expected phenol macros {'protein': 388.40000000000003, 'lipid': 140.8, 'carbohydrate': 172.10000000000002}\n",
      "phenol reaction macros {'protein': 388.3999999999999, 'lipid': 140.8, 'carbohydrate': 172.10000000000002}\n",
      "\n",
      "\n",
      "expected glucose macros {'protein': 240.39999999999998, 'lipid': 402.59999999999997, 'carbohydrate': 146.4}\n",
      "glucose reaction macros {'protein': 240.39999999999992, 'lipid': 402.59999999999997, 'carbohydrate': 146.4}\n"
     ]
    }
   ],
   "source": [
    "# get reactions as variables to plug into function\n",
    "phenol_reaction = model.reactions.get_by_id('Growth_Phenol')\n",
    "glucose_reaction = model.reactions.get_by_id('Growth_Glucose')\n",
    "\n",
    "# get reaction macros\n",
    "phenol_reaction_macros = {macro:reaction_to_single_macro_mass(phenol_reaction, bacillis_df, macro) for macro in ['protein', 'lipid', 'carbohydrate']}\n",
    "glucose_reaction_macros = {macro:reaction_to_single_macro_mass(glucose_reaction, bacillis_df, macro) for macro in ['protein', 'lipid', 'carbohydrate']}\n",
    "\n",
    "# compare to expected macros\n",
    "print('expected phenol macros', phenol_macros)\n",
    "print('phenol reaction macros', phenol_reaction_macros)\n",
    "print('\\n')\n",
    "print('expected glucose macros', glucose_macros)\n",
    "print('glucose reaction macros', glucose_reaction_macros)"
   ]
  },
  {
   "cell_type": "markdown",
   "id": "651d14b3-e71c-4bdc-94a5-43f242ef1136",
   "metadata": {},
   "source": [
    "### Save model with new biomass reactions"
   ]
  },
  {
   "cell_type": "code",
   "execution_count": 14,
   "id": "considerable-bathroom",
   "metadata": {},
   "outputs": [
    {
     "data": {
      "text/html": [
       "\n",
       "        <table>\n",
       "            <tr>\n",
       "                <td><strong>Name</strong></td>\n",
       "                <td>ropacus_model_B</td>\n",
       "            </tr><tr>\n",
       "                <td><strong>Memory address</strong></td>\n",
       "                <td>0x07fc03cd4e6d0</td>\n",
       "            </tr><tr>\n",
       "                <td><strong>Number of metabolites</strong></td>\n",
       "                <td>1587</td>\n",
       "            </tr><tr>\n",
       "                <td><strong>Number of reactions</strong></td>\n",
       "                <td>2392</td>\n",
       "            </tr><tr>\n",
       "                <td><strong>Number of groups</strong></td>\n",
       "                <td>0</td>\n",
       "            </tr><tr>\n",
       "                <td><strong>Objective expression</strong></td>\n",
       "                <td>1.0*Growth - 1.0*Growth_reverse_699ae</td>\n",
       "            </tr><tr>\n",
       "                <td><strong>Compartments</strong></td>\n",
       "                <td>cytosol, periplasm, extracellular space</td>\n",
       "            </tr>\n",
       "          </table>"
      ],
      "text/plain": [
       "<Model ropacus_model_B at 0x7fc03cd4e6d0>"
      ]
     },
     "execution_count": 14,
     "metadata": {},
     "output_type": "execute_result"
    }
   ],
   "source": [
    "model.id = 'ropacus_model_B'\n",
    "model.name = 'R. opacus model B'\n",
    "cobra.io.write_sbml_model(model, \"../GSMs/ropacus_model_B.xml\")\n",
    "model"
   ]
  }
 ],
 "metadata": {
  "kernelspec": {
   "display_name": "biodesign_3.7",
   "language": "python",
   "name": "biod_3.7"
  },
  "language_info": {
   "codemirror_mode": {
    "name": "ipython",
    "version": 3
   },
   "file_extension": ".py",
   "mimetype": "text/x-python",
   "name": "python",
   "nbconvert_exporter": "python",
   "pygments_lexer": "ipython3",
   "version": "3.7.4"
  }
 },
 "nbformat": 4,
 "nbformat_minor": 5
}

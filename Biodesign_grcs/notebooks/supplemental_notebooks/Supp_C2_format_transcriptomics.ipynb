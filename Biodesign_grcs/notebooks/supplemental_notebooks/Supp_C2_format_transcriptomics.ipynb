{
 "cells": [
  {
   "cell_type": "markdown",
   "id": "433c7943-f79d-4bcb-823e-537f72dd1225",
   "metadata": {},
   "source": [
    "# The conversion transcriptomic data from txt files to csvs in EDD format\n",
    "This notebook first analyzes the proper EDD format and the format of the transcriptomics data that Winston sent. <br>\n",
    "Then it goes through in high detail how to convert the CPM .txt file into a properly formatted EDD .csv file <br>\n",
    "Last it runs the other three .txt files (FPKM, MR, and TMM) through the same pipeline"
   ]
  },
  {
   "cell_type": "markdown",
   "id": "82d317ca-021f-4ced-9d9b-2e206c0fd78b",
   "metadata": {},
   "source": [
    "#### Imports"
   ]
  },
  {
   "cell_type": "code",
   "execution_count": 1,
   "id": "bff1f353-a450-4e77-a9fd-9194afff7cdd",
   "metadata": {},
   "outputs": [],
   "source": [
    "import pandas as pd"
   ]
  },
  {
   "cell_type": "markdown",
   "id": "a89c07e4-8f57-4711-99e5-2e0a1b6d7fbb",
   "metadata": {
    "tags": []
   },
   "source": [
    "## Yoneda Data"
   ]
  },
  {
   "cell_type": "markdown",
   "id": "c4cad534-3d48-4e82-9b56-bb85b0ddbc72",
   "metadata": {},
   "source": [
    "#### Define functions to help with conversion"
   ]
  },
  {
   "cell_type": "code",
   "execution_count": 2,
   "id": "be1df28f-663e-41fe-8867-2ea36eef68cd",
   "metadata": {},
   "outputs": [],
   "source": [
    "def yoneda_row_to_line_name(row):\n",
    "    if row.Strain.startswith('W'):\n",
    "        line_name = 'WT'\n",
    "    if row.Strain.startswith('3'):\n",
    "        line_name = 'EVOL33'\n",
    "    if row.Strain.startswith('4'):\n",
    "        line_name = 'EVOL40'\n",
    "    \n",
    "    if row.Condition == '1g/L_glucose':\n",
    "        line_name += '-LN-G-R'\n",
    "    if row.Condition == '0.75g/L_phenol':\n",
    "        line_name += '-LN-LP-R'\n",
    "    if row.Condition == '1.5g/L_phenol':\n",
    "        line_name += '-LN-HP-R'\n",
    "        \n",
    "    line_name += str(row.Replicate)\n",
    "    \n",
    "    return line_name"
   ]
  },
  {
   "cell_type": "code",
   "execution_count": 3,
   "id": "b22e4334-136f-491e-97d6-21839123b95b",
   "metadata": {},
   "outputs": [],
   "source": [
    "# This mapping is based on the methods in the yoneda paper\n",
    "def yoneda_line_name_to_time(line_name):\n",
    "    if '-G-' in line_name:\n",
    "        return 14\n",
    "    if '-LP-' in line_name:\n",
    "        return 24\n",
    "    if '-HP-' in line_name:\n",
    "        return 32"
   ]
  },
  {
   "cell_type": "code",
   "execution_count": 4,
   "id": "7380c034-bbee-4960-8692-df30dfddc0b5",
   "metadata": {},
   "outputs": [],
   "source": [
    "# this fuction takes in a text file, and returns a EDD formatted csv file\n",
    "def yoneda_txt_file_to_EDD_csv(input_file_name, output_file_name):\n",
    "    # read in data\n",
    "    yoneda_data = pd.read_table(input_file_name, delim_whitespace=True)\n",
    "    \n",
    "    # add a new column to the data that contains all the row's line name\n",
    "    yoneda_data['Line Name'] = [yoneda_row_to_line_name(row) for _, row in yoneda_data.iterrows()]\n",
    "    # add a new column to the data that contains all the row's measurement type, the underscore is the gene format in the genome scale model\n",
    "    yoneda_data['Measurement Type'] = [row.variable.replace('.', '_') for _, row in yoneda_data.iterrows()]\n",
    "    # add a new column to the data that contains when the data was collected\n",
    "    yoneda_data['Time'] = [yoneda_line_name_to_time(row['Line Name']) for _, row in yoneda_data.iterrows()]\n",
    "    # add a new column that contains the transcript level measured\n",
    "    yoneda_data['Value'] = [row['value'] for _, row in yoneda_data.iterrows()]\n",
    "    \n",
    "    # remove typo from data to make EDD compatible\n",
    "    if 'FPKM' in input_file_name:\n",
    "        print('yes')\n",
    "        yoneda_data['Units'] = ['FPKM'] * len(yoneda_data)\n",
    "        \n",
    "\n",
    "    # drop old columns\n",
    "    yoneda_data.drop(['Strain','variable', 'Condition', 'Replicate'], axis=1, inplace=True)\n",
    "    # reorder new columns\n",
    "    EDD_data = yoneda_data[['Line Name', 'Measurement Type', 'Time', 'Value', 'Units']]\n",
    "    \n",
    "    # save the data to file\n",
    "    EDD_data.to_csv(output_file_name, index=False)"
   ]
  },
  {
   "cell_type": "markdown",
   "id": "a564b2c1-c068-4a20-8113-17109914f5cb",
   "metadata": {},
   "source": [
    "#### Run the fuction for all normalization methods"
   ]
  },
  {
   "cell_type": "code",
   "execution_count": 5,
   "id": "a3cf5ce2-76c0-410e-a658-a36f0830e3e0",
   "metadata": {},
   "outputs": [
    {
     "name": "stdout",
     "output_type": "stream",
     "text": [
      "yes\n"
     ]
    }
   ],
   "source": [
    "yoneda_txt_file_to_EDD_csv(\n",
    "    '../../winston_data/october_19_2021/yoneda/yoneda_reprocess_CPM_melted.txt', \n",
    "    '../../winston_data/october_19_2021/yoneda/yoneda_reprocess_CPM_melted.csv'\n",
    ")\n",
    "yoneda_txt_file_to_EDD_csv(\n",
    "    '../../winston_data/october_19_2021/yoneda/yoneda_reprocess_FPKM_melted.txt', \n",
    "    '../../winston_data/october_19_2021/yoneda/yoneda_reprocess_FPKM_melted.csv'\n",
    ")\n",
    "yoneda_txt_file_to_EDD_csv(\n",
    "    '../../winston_data/october_19_2021/yoneda/yoneda_reprocess_MR_melted.txt', \n",
    "    '../../winston_data/october_19_2021/yoneda/yoneda_reprocess_MR_melted.csv'\n",
    ")\n",
    "yoneda_txt_file_to_EDD_csv(\n",
    "    '../../winston_data/october_19_2021/yoneda/yoneda_reprocess_TMM_melted.txt', \n",
    "    '../../winston_data/october_19_2021/yoneda/yoneda_reprocess_TMM_melted.csv'\n",
    ")"
   ]
  },
  {
   "cell_type": "markdown",
   "id": "d00e45d2-933b-4555-bc18-2e18c0fa4df8",
   "metadata": {
    "tags": []
   },
   "source": [
    "## Henson Data"
   ]
  },
  {
   "cell_type": "markdown",
   "id": "008f9f19-ba16-44c0-9d09-8f3b2dff19af",
   "metadata": {},
   "source": [
    "#### Define functions to help with conversion"
   ]
  },
  {
   "cell_type": "code",
   "execution_count": 6,
   "id": "9058c4e7-2d30-428a-b2d8-1758ef6ee72e",
   "metadata": {},
   "outputs": [],
   "source": [
    "def henson_row_to_line_name(row):\n",
    "    line_name = row.Strain\n",
    "    \n",
    "    if row.Media == 'sodium benzoate':\n",
    "        line_name += '-B'\n",
    "    if row.Media == 'glucose':\n",
    "        line_name += '-Glu'\n",
    "    if row.Media == 'phenol':\n",
    "        line_name += '-P'\n",
    "    if row.Media == 'Mixture':\n",
    "        line_name += '-M'\n",
    "    if row.Media == 'guaiacol':\n",
    "        line_name += '-Gua'\n",
    "    if row.Media == 'vanillic acid':\n",
    "        line_name += '-V'\n",
    "    if row.Media == '4-hydroxybenzoic acid':\n",
    "        line_name += '-H'\n",
    "        \n",
    "    line_name += '-R' + str(row.Replicate)\n",
    "        \n",
    "    return line_name"
   ]
  },
  {
   "cell_type": "code",
   "execution_count": 7,
   "id": "f4782e0d-c671-451b-88eb-f13e6ccb6b3d",
   "metadata": {},
   "outputs": [],
   "source": [
    "# This mapping is based on the methods in the Henson paper\n",
    "def henson_row_to_time_value(row):\n",
    "    if row['Media'] == 'glucose' and row['Time.point'] == 't=1':\n",
    "        return 10\n",
    "    elif row['Media'] == 'glucose' and row['Time.point'] == 't=2':\n",
    "        return 13\n",
    "    elif row['Media'] == 'Mixture' and row['Time.point'] == 't=1':\n",
    "        return 20\n",
    "    elif row['Media'] == 'Mixture' and row['Time.point'] == 't=2':\n",
    "        return 32\n",
    "    elif row['Media'] == 'phenol' and row['Strain'] == 'WT':\n",
    "        return 24\n",
    "    elif row['Media'] == 'phenol' and row['Strain'] == 'PVHG':\n",
    "        return 21\n",
    "    elif row['Media'] == 'guaiacol':\n",
    "        return 19\n",
    "    elif row['Media'] == '4-hydroxybenzoic acid':\n",
    "        return 11\n",
    "    elif row['Media'] == 'sodium benzoate':\n",
    "        return 12\n",
    "    elif row['Media'] == 'vanillic acid':\n",
    "        return 24\n",
    "    else:\n",
    "        print(f'No time data for {row.Strain} {row.Media} {row[\"Time.point\"]}')"
   ]
  },
  {
   "cell_type": "code",
   "execution_count": 8,
   "id": "1c8ab819-7c24-4b7a-9481-a6091a4c89dc",
   "metadata": {},
   "outputs": [],
   "source": [
    "def henson_txt_file_to_EDD_csv(input_file_name, output_file_name):\n",
    "    henson_data = pd.read_table(input_file_name, delim_whitespace=True)\n",
    "    print(f'total length of dataframe is {len(henson_data)}')\n",
    "    \n",
    "    henson_data = henson_data[henson_data['variable'] != 'Test']\n",
    "    \n",
    "    henson_data = henson_data.reset_index(drop=True)\n",
    "    print(henson_data.head())\n",
    "    \n",
    "    # Avoid duplication of replicate 1, change one of the replicate values to 4\n",
    "    # The [:-1] takes a slice of the dataframe without the last row. This prevents a key error\n",
    "#     for index, row in henson_data[:-1].iterrows():\n",
    "#         if row.Media == '4-hydroxybenzoic acid' and row.Strain == 'WT' and row.Replicate == 1:\n",
    "#             if henson_data.loc[index + 1].Media != '4-hydroxybenzoic acid':\n",
    "#                 henson_data.loc[index, 'Replicate'] = 4\n",
    "                \n",
    "    # The last row is excluded from the loop, but needs to have its replicate value changed\n",
    "#     henson_data.at[len(henson_data)-1, 'Replicate'] = 4\n",
    "#     print(henson_data.iloc[len(henson_data)-1, :])\n",
    "    \n",
    "    # Define columns needed for EDD\n",
    "    henson_data['Line Name'] = [henson_row_to_line_name(row) for _, row in henson_data.iterrows()]\n",
    "    henson_data['Measurement Type'] = [row.variable.replace('.', '_') for _, row in henson_data.iterrows()]\n",
    "    henson_data['Time'] = [henson_row_to_time_value(row) for _, row in henson_data.iterrows()]\n",
    "    henson_data['Value'] = [row['value'] for _, row in henson_data.iterrows()]\n",
    "    \n",
    "    # remove typo from data to make EDD compatible\n",
    "    if 'FPKM' in input_file_name:\n",
    "        henson_data['Units'] = ['FPKM'] * len(henson_data)\n",
    "    \n",
    "    henson_data.drop(['Strain', 'Media', 'Time.point', 'variable', 'Replicate', 'value'], axis=1, inplace=True)\n",
    "    EDD_data = henson_data[['Line Name', 'Measurement Type', 'Time', 'Value', 'Units']]\n",
    "    \n",
    "    EDD_data.to_csv(output_file_name, index=False)\n"
   ]
  },
  {
   "cell_type": "markdown",
   "id": "4b32a350-8257-4771-8433-5256905b206b",
   "metadata": {},
   "source": [
    "#### Run the fuction for all normalization methods"
   ]
  },
  {
   "cell_type": "code",
   "execution_count": 9,
   "id": "cdafb670-ee24-4430-900c-88290663aff3",
   "metadata": {},
   "outputs": [
    {
     "name": "stderr",
     "output_type": "stream",
     "text": [
      "/usr/local/share/jupyteruser/.pyenv/versions/biod_3.7/lib/python3.7/site-packages/IPython/core/interactiveshell.py:3249: DtypeWarning: Columns (7) have mixed types. Specify dtype option on import or set low_memory=False.\n",
      "  if (await self.run_code(code, result,  async_=asy)):\n"
     ]
    },
    {
     "name": "stdout",
     "output_type": "stream",
     "text": [
      "total length of dataframe is 432432\n",
      "  Strain Units    Media Time.point        variable  Replicate value\n",
      "0     WT  FKPM  Mixture        t=1  WP_000104864.1          1     0\n",
      "1     WT  FKPM  Mixture        t=1  WP_000104864.1          2     0\n",
      "2     WT  FKPM  Mixture        t=1  WP_000104864.1          3     0\n",
      "3     WT  FKPM  Mixture        t=2  WP_000104864.1          1     0\n",
      "4     WT  FKPM  Mixture        t=2  WP_000104864.1          2     0\n",
      "total length of dataframe is 432432\n",
      "  Strain Units    Media Time.point        variable  Replicate value\n",
      "0     WT    MR  Mixture        t=1  WP_000104864.1          1     0\n",
      "1     WT    MR  Mixture        t=1  WP_000104864.1          2     0\n",
      "2     WT    MR  Mixture        t=1  WP_000104864.1          3     0\n",
      "3     WT    MR  Mixture        t=2  WP_000104864.1          1     0\n",
      "4     WT    MR  Mixture        t=2  WP_000104864.1          2     0\n",
      "total length of dataframe is 422172\n",
      "  Strain Units    Media Time.point        variable  Replicate  \\\n",
      "0     WT   TMM  Mixture        t=1  WP_003402602.1          1   \n",
      "1     WT   TMM  Mixture        t=1  WP_003402602.1          2   \n",
      "2     WT   TMM  Mixture        t=1  WP_003402602.1          3   \n",
      "3     WT   TMM  Mixture        t=2  WP_003402602.1          1   \n",
      "4     WT   TMM  Mixture        t=2  WP_003402602.1          2   \n",
      "\n",
      "              value  \n",
      "0  338.325485285611  \n",
      "1  352.730882033314  \n",
      "2  363.878445962235  \n",
      "3  578.511926339199  \n",
      "4  539.455930786344  \n"
     ]
    }
   ],
   "source": [
    "# henson_txt_file_to_EDD_csv(\n",
    "#     '../../winston_data/october_19_2021/henson/henson_reprocess_CPM_melted.txt', \n",
    "#     '../../winston_data/october_19_2021/henson/henson_reprocess_CPM_melted.csv'\n",
    "# )\n",
    "henson_txt_file_to_EDD_csv(\n",
    "    '../../winston_data/october_19_2021/henson/henson_reprocess_FPKM_melted.txt', \n",
    "    '../../winston_data/october_19_2021/henson/henson_reprocess_FPKM_melted.csv'\n",
    ")\n",
    "henson_txt_file_to_EDD_csv(\n",
    "    '../../winston_data/october_19_2021/henson/henson_reprocess_MR_melted.txt', \n",
    "    '../../winston_data/october_19_2021/henson/henson_reprocess_MR_melted.csv'\n",
    ")\n",
    "henson_txt_file_to_EDD_csv(\n",
    "    '../../winston_data/october_19_2021/henson/henson_reprocess_TMM_melted.txt', \n",
    "    '../../winston_data/october_19_2021/henson/henson_reprocess_TMM_melted.csv'\n",
    ")"
   ]
  },
  {
   "cell_type": "code",
   "execution_count": null,
   "id": "d860d8b5-d72e-4507-a163-5ada30f72a0b",
   "metadata": {},
   "outputs": [],
   "source": []
  }
 ],
 "metadata": {
  "kernelspec": {
   "display_name": "biodesign_3.7",
   "language": "python",
   "name": "biod_3.7"
  },
  "language_info": {
   "codemirror_mode": {
    "name": "ipython",
    "version": 3
   },
   "file_extension": ".py",
   "mimetype": "text/x-python",
   "name": "python",
   "nbconvert_exporter": "python",
   "pygments_lexer": "ipython3",
   "version": "3.7.4"
  }
 },
 "nbformat": 4,
 "nbformat_minor": 5
}

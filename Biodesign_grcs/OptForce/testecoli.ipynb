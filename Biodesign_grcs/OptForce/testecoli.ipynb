{
 "cells": [
  {
   "cell_type": "code",
   "execution_count": 22,
   "id": "412ba6d9-e08c-4fea-8adf-a0332a2d43be",
   "metadata": {},
   "outputs": [],
   "source": [
    "import cobra\n",
    "import cplex\n",
    "from optforce import optforce"
   ]
  },
  {
   "cell_type": "code",
   "execution_count": 23,
   "id": "51a188a8-cdac-4b2b-a39a-eede7ca379af",
   "metadata": {},
   "outputs": [],
   "source": [
    "model = cobra.io.load_json_model('models/e_coli_core.json')\n",
    "biomass = 'BIOMASS_Ecoli_core_w_GAM'\n",
    "target = 'EX_ac_e'\n",
    "maximum_knockout = 1\n",
    "minimum_growth_fraction = 0.1\n",
    "minimum_target_fraction = 0.5\n",
    "high_order_must=False\n",
    "number_of_solutions=10\n",
    "time_limit=60\n",
    "if 'cplex' in cobra.util.solvers:\n",
    "    model.solver = 'cplex'\n",
    "    solution = optforce(model, biomass, target, maximum_knockout, minimum_growth_fraction, minimum_target_fraction,\n",
    "             high_order_must, number_of_solutions, time_limit)\n",
    "if 'gurobi' in cobra.util.solvers:\n",
    "    model.solver = 'gurobi'\n",
    "    solution = optforce(model, biomass, target, maximum_knockout, minimum_growth_fraction, minimum_target_fraction,\n",
    "             high_order_must, number_of_solutions, time_limit)"
   ]
  },
  {
   "cell_type": "code",
   "execution_count": 24,
   "id": "1b149032-7e08-4d80-b477-da604fe8ce92",
   "metadata": {},
   "outputs": [
    {
     "data": {
      "text/plain": [
       "{'Must_solution': {'MustL': ['ACKr', 'PIt2r'],\n",
       "  'MustU': ['PTAr'],\n",
       "  'MustLL': [],\n",
       "  'MustUU': [],\n",
       "  'MustLU': []},\n",
       " 'Force_solution': [{'status': 101,\n",
       "   'objective value': 9.800000000000114,\n",
       "   'solution': ([], ['ACKr'], [])},\n",
       "  {'status': 101, 'objective value': 9.8, 'solution': (['PTAr'], [], [])}]}"
      ]
     },
     "execution_count": 24,
     "metadata": {},
     "output_type": "execute_result"
    }
   ],
   "source": [
    "solution"
   ]
  },
  {
   "cell_type": "code",
   "execution_count": 31,
   "id": "368057db-4008-4d49-8443-fd9dbde1a80a",
   "metadata": {},
   "outputs": [
    {
     "ename": "ValueError",
     "evalue": "Maximum target production is less than 1e-9.",
     "output_type": "error",
     "traceback": [
      "\u001b[0;31m---------------------------------------------------------------------------\u001b[0m",
      "\u001b[0;31mValueError\u001b[0m                                Traceback (most recent call last)",
      "\u001b[0;32m<ipython-input-31-ee01adf5d951>\u001b[0m in \u001b[0;36m<module>\u001b[0;34m\u001b[0m\n\u001b[1;32m     22\u001b[0m         \u001b[0mmodel\u001b[0m\u001b[0;34m.\u001b[0m\u001b[0msolver\u001b[0m \u001b[0;34m=\u001b[0m \u001b[0;34m'cplex'\u001b[0m\u001b[0;34m\u001b[0m\u001b[0;34m\u001b[0m\u001b[0m\n\u001b[1;32m     23\u001b[0m         oursolution = optforce(ourmodel, ourbiomass, ourtarget, ourmaximum_knockout, ourminimum_growth_fraction, ourminimum_target_fraction,\n\u001b[0;32m---> 24\u001b[0;31m                  ourhigh_order_must, ournumber_of_solutions, ourtime_limit)\n\u001b[0m\u001b[1;32m     25\u001b[0m     \u001b[0;32mif\u001b[0m \u001b[0;34m'gurobi'\u001b[0m \u001b[0;32min\u001b[0m \u001b[0mcobra\u001b[0m\u001b[0;34m.\u001b[0m\u001b[0mutil\u001b[0m\u001b[0;34m.\u001b[0m\u001b[0msolvers\u001b[0m\u001b[0;34m:\u001b[0m\u001b[0;34m\u001b[0m\u001b[0;34m\u001b[0m\u001b[0m\n\u001b[1;32m     26\u001b[0m         \u001b[0mmodel\u001b[0m\u001b[0;34m.\u001b[0m\u001b[0msolver\u001b[0m \u001b[0;34m=\u001b[0m \u001b[0;34m'gurobi'\u001b[0m\u001b[0;34m\u001b[0m\u001b[0;34m\u001b[0m\u001b[0m\n",
      "\u001b[0;32m~/OpacusBiodesign/Biodesign_gr/OptForce/optforce.py\u001b[0m in \u001b[0;36moptforce\u001b[0;34m(model, biomass, target, maximum_knockout, minimum_growth_fraction, minimum_target_fraction, high_order_must, number_of_solutions, time_limit, threads, verbose)\u001b[0m\n\u001b[1;32m     71\u001b[0m             \u001b[0mprint\u001b[0m\u001b[0;34m(\u001b[0m\u001b[0;34m'Maximum target production:'\u001b[0m\u001b[0;34m,\u001b[0m \u001b[0mround\u001b[0m\u001b[0;34m(\u001b[0m\u001b[0mmaximum_target\u001b[0m\u001b[0;34m,\u001b[0m\u001b[0;36m3\u001b[0m\u001b[0;34m)\u001b[0m\u001b[0;34m)\u001b[0m\u001b[0;34m\u001b[0m\u001b[0;34m\u001b[0m\u001b[0m\n\u001b[1;32m     72\u001b[0m         \u001b[0;32mif\u001b[0m \u001b[0mmaximum_target\u001b[0m \u001b[0;34m<\u001b[0m \u001b[0;36m1e-9\u001b[0m\u001b[0;34m:\u001b[0m\u001b[0;34m\u001b[0m\u001b[0;34m\u001b[0m\u001b[0m\n\u001b[0;32m---> 73\u001b[0;31m             \u001b[0;32mraise\u001b[0m \u001b[0mValueError\u001b[0m\u001b[0;34m(\u001b[0m\u001b[0;34m'Maximum target production is less than 1e-9.'\u001b[0m\u001b[0;34m)\u001b[0m\u001b[0;34m\u001b[0m\u001b[0;34m\u001b[0m\u001b[0m\n\u001b[0m\u001b[1;32m     74\u001b[0m         \u001b[0mminimum_target\u001b[0m \u001b[0;34m=\u001b[0m \u001b[0mminimum_target_fraction\u001b[0m\u001b[0;34m*\u001b[0m\u001b[0mmaximum_target\u001b[0m\u001b[0;34m\u001b[0m\u001b[0;34m\u001b[0m\u001b[0m\n\u001b[1;32m     75\u001b[0m         \u001b[0mmodel\u001b[0m\u001b[0;34m.\u001b[0m\u001b[0mobjective\u001b[0m \u001b[0;34m=\u001b[0m \u001b[0mbiomass\u001b[0m\u001b[0;34m\u001b[0m\u001b[0;34m\u001b[0m\u001b[0m\n",
      "\u001b[0;31mValueError\u001b[0m: Maximum target production is less than 1e-9."
     ]
    }
   ],
   "source": [
    "file_name =  '../GSMs/Ropacus_annotated_curated_with_phenol_custom_biomass.xml'\n",
    "ourmodel = cobra.io.read_sbml_model(file_name)\n",
    "ourbiomass = 'Growth_Glucose'\n",
    "with ourmodel:\n",
    "    medium = ourmodel.medium\n",
    "    ourmodel.objective = 'Growth_Glucose'\n",
    "    ourmodel.reactions.get_by_id('Growth_Phenol').upper_bound = 0\n",
    "    ourmodel.reactions.get_by_id('Growth_Phenol').lower_bound = 0\n",
    "    #sub_uptake_rate = 1.76124# just copied value to test it#growthandsubstrdata.loc[index,'substrate_consumption_rate']\n",
    "    medium[\"EX_glc__D_e\"] = 100.0\n",
    "    medium[\"EX_phenol_e\"] = 0#sub_uptake_rate\n",
    "    ourmodel.medium = medium\n",
    "    # solve FBA to calculate the maximum biomass\n",
    "    ourtarget = 'GLTPD'\n",
    "    ourmaximum_knockout = 1\n",
    "    ourminimum_growth_fraction = 0.1\n",
    "    ourminimum_target_fraction = 0.5\n",
    "    ourhigh_order_must=False\n",
    "    ournumber_of_solutions=10\n",
    "    ourtime_limit=60\n",
    "    if 'cplex' in cobra.util.solvers:\n",
    "        model.solver = 'cplex'\n",
    "        oursolution = optforce(ourmodel, ourbiomass, ourtarget, ourmaximum_knockout, ourminimum_growth_fraction, ourminimum_target_fraction,\n",
    "                 ourhigh_order_must, ournumber_of_solutions, ourtime_limit)\n",
    "    if 'gurobi' in cobra.util.solvers:\n",
    "        model.solver = 'gurobi'\n",
    "        oursolution = optforce(ourmodel, ourbiomass, ourtarget, ourmaximum_knockout, ourminimum_growth_fraction, ourminimum_target_fraction,\n",
    "                 ourhigh_order_must, ournumber_of_solutions, ourtime_limit)"
   ]
  },
  {
   "cell_type": "code",
   "execution_count": null,
   "id": "b1c0f8a8-dd9f-482d-83d9-0c536e8b62b1",
   "metadata": {},
   "outputs": [],
   "source": []
  }
 ],
 "metadata": {
  "kernelspec": {
   "display_name": "biodesign_3.7",
   "language": "python",
   "name": "biod_3.7"
  },
  "language_info": {
   "codemirror_mode": {
    "name": "ipython",
    "version": 3
   },
   "file_extension": ".py",
   "mimetype": "text/x-python",
   "name": "python",
   "nbconvert_exporter": "python",
   "pygments_lexer": "ipython3",
   "version": "3.7.4"
  }
 },
 "nbformat": 4,
 "nbformat_minor": 5
}

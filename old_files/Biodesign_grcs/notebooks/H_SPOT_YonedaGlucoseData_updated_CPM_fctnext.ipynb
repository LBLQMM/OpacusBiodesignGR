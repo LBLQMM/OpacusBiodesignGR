{
 "cells": [
  {
   "cell_type": "markdown",
   "id": "7563604a-2ba5-4e5d-b9e0-309615df0b5b",
   "metadata": {},
   "source": [
    "## **Notebook to make predictions with reprocessed Yoneda data and SPOT** \n",
    "\n",
    "\n",
    "By Christina Schenk and Garrett Roell\n",
    "\n",
    "Tested on biodesign_3.7 kernel on jprime"
   ]
  },
  {
   "cell_type": "markdown",
   "id": "5c19c1da-7aff-45f1-83c5-dd633654ac4c",
   "metadata": {
    "tags": []
   },
   "source": [
    "### SPOT predictions and evaluations\n",
    "This notebook predicts fluxes for R. opacus cultures growing with glucose. The data was published in [Yoneda (2016)](https://academic.oup.com/nar/article/44/5/2240/2465306).\n",
    "\n",
    "#### **Data Labels**\n",
    "\n",
    "#### Yoneda transcriptomics data: \n",
    "* WT 1.0 g/L Glucose, 0.05g/L ammonium sulfate (**WT-LN-G**) (3 trials)\n",
    "\n",
    "#### Combined with Rhiannon 2018 metabolomics and OD data:\n",
    "* Metabolomics and OD data for WT Glucose (before **WT-G** but now **WT-LN-G**)\n",
    "                                                 \n",
    "\n",
    "### Method: \n",
    "<ol>\n",
    "<li>Predict fluxes with SPOT</li>\n",
    "<li>Compare predictions with 13CMFA: Scatter plots and flux maps</li>\n",
    "<li>Load file with observed growth rates (Notebook E)</li>\n",
    "<li>Save growth rate predictions to csv file</li>\n",
    "</ol>\n",
    "\n"
   ]
  },
  {
   "cell_type": "markdown",
   "id": "5a6edbe7-d3d0-49ac-9d13-8f43882945f0",
   "metadata": {},
   "source": [
    "##### **Import python packages**"
   ]
  },
  {
   "cell_type": "code",
   "execution_count": 1,
   "id": "5e37f811-1a95-45e0-932f-962edb144307",
   "metadata": {},
   "outputs": [],
   "source": [
    "import os\n",
    "import sys\n",
    "import pandas as pd\n",
    "import numpy as np\n",
    "import cobra\n",
    "import scipy.stats\n",
    "#import cplex\n",
    "%matplotlib inline\n",
    "\n",
    "import matplotlib\n",
    "from matplotlib import pyplot as plt\n",
    "from matplotlib.offsetbox import (TextArea, DrawingArea, OffsetImage,\n",
    "                                  AnnotationBbox)\n",
    "from matplotlib.cbook import get_sample_data\n",
    "import matplotlib.image as mpimg\n",
    "import matplotlib.cm as cm\n",
    "\n",
    "from edd_utils import login, export_study, export_metadata\n",
    "\n",
    "from sklearn.metrics import r2_score"
   ]
  },
  {
   "cell_type": "markdown",
   "id": "244d4ba7-9d90-4f21-8de8-18a77f1a87dd",
   "metadata": {},
   "source": [
    "##### **Load data**"
   ]
  },
  {
   "cell_type": "code",
   "execution_count": 2,
   "id": "e8232d35-b2bf-4b51-9625-3a12a76661f3",
   "metadata": {},
   "outputs": [],
   "source": [
    "# # Study to Download\n",
    "# study_slug = 'biodesign_yoneda_set3_reprocessed'\n",
    "# # EDD server\n",
    "# edd_server = 'public-edd.jbei.org'\n",
    "# user       = 'schenkch'"
   ]
  },
  {
   "cell_type": "code",
   "execution_count": 3,
   "id": "b948f801-42f6-4ec6-90e4-74d95ff37894",
   "metadata": {},
   "outputs": [],
   "source": [
    "# session = login(edd_server=edd_server, user=user)\n",
    "\n",
    "# df = export_study(session, study_slug, edd_server=edd_server)\n",
    "# #df.head()\n",
    "\n",
    "# ##### **Filter transcriptomics data from all EDD data into different dataframes**"
   ]
  },
  {
   "cell_type": "code",
   "execution_count": 4,
   "id": "b078d5b7-e85a-4a6f-b0b3-1f0deffc74f5",
   "metadata": {},
   "outputs": [],
   "source": [
    "# define blank dictionary and fill with transcript measurements from different conditions and carbon sources\n",
    "transcript_measurements = {}\n",
    "# add glucose conditions to data set object\n",
    "transcript_measurements['glucose_cpm'] = pd.read_csv('../winston_data/october_19_2021/yoneda/yoneda_reprocess_CPM_melted.csv')\n",
    "transcript_measurements['glucose_fpkm'] = pd.read_csv('../winston_data/october_19_2021/yoneda/yoneda_reprocess_FPKM_melted.csv')\n",
    "transcript_measurements['glucose_mr'] = pd.read_csv('../winston_data/october_19_2021/yoneda/yoneda_reprocess_MR_melted.csv')\n",
    "transcript_measurements['glucose_tmm'] = pd.read_csv('../winston_data/october_19_2021/yoneda/yoneda_reprocess_TMM_melted.csv')\n",
    "# add phenol conditions to data set object\n",
    "# transcript_measurements['phenol_cpm'] = pd.read_csv('../winston_data/october_19_2021/henson/henson_reprocess_CPM_melted.csv')\n",
    "# transcript_measurements['phenol_fpkm'] = pd.read_csv('../winston_data/october_19_2021/henson/henson_reprocess_FPKM_melted.csv')\n",
    "# transcript_measurements['phenol_mr'] = pd.read_csv('../winston_data/october_19_2021/henson/henson_reprocess_MR_melted.csv')\n",
    "# transcript_measurements['phenol_tmm'] = pd.read_csv('../winston_data/october_19_2021/henson/henson_reprocess_TMM_melted.csv')"
   ]
  },
  {
   "cell_type": "markdown",
   "id": "63a78a65-40a8-4492-a538-3058608426bf",
   "metadata": {},
   "source": [
    "##### **Filter transcriptomics data from all EDD data into different dataframes**"
   ]
  },
  {
   "cell_type": "code",
   "execution_count": 5,
   "id": "e8463ac7-8458-4cda-8c90-479f191de95b",
   "metadata": {},
   "outputs": [],
   "source": [
    "# df_Trans = df[df['Protocol'].str.contains('Transcriptomics')]\n",
    "# df_Trans.head()"
   ]
  },
  {
   "cell_type": "code",
   "execution_count": 6,
   "id": "5317854c-cd36-4e54-b349-e7104be65613",
   "metadata": {},
   "outputs": [],
   "source": [
    "df_Trans = transcript_measurements['glucose_cpm'] #fpkm"
   ]
  },
  {
   "cell_type": "markdown",
   "id": "c7252a93-7cea-4b7c-8375-c03a194a9524",
   "metadata": {},
   "source": [
    "##### **Load Genome Scale Model**"
   ]
  },
  {
   "cell_type": "code",
   "execution_count": 7,
   "id": "6f6b96da-3aaf-49fd-9dec-b674a678d243",
   "metadata": {},
   "outputs": [],
   "source": [
    "file_name =  '../GSMs/Ropacus_annotated_curated.xml'\n",
    "model = cobra.io.read_sbml_model(file_name)"
   ]
  },
  {
   "cell_type": "markdown",
   "id": "1e20d0fe-15c8-4248-b6be-aa65f868fc95",
   "metadata": {},
   "source": [
    "##### **Import SPOT and utilities Code**"
   ]
  },
  {
   "cell_type": "code",
   "execution_count": 8,
   "id": "faf7a9d4-095c-42c6-a32b-5b5fd19ffca8",
   "metadata": {},
   "outputs": [],
   "source": [
    "SourceDir = '../src'\n",
    "sys.path.append(SourceDir)\n",
    "from ensemblemethods import SPOT\n",
    "from utils import *"
   ]
  },
  {
   "cell_type": "markdown",
   "id": "95c6a5b5-6b12-4de3-8f68-504eb5ce3c69",
   "metadata": {
    "tags": []
   },
   "source": [
    "#### **1. SPOT Predictions for Wild type**"
   ]
  },
  {
   "cell_type": "code",
   "execution_count": null,
   "id": "0195c89f-ea6d-4880-b69d-eb05db76b67a",
   "metadata": {},
   "outputs": [
    {
     "data": {
      "text/plain": [
       "{'EX_glc__D_e': inf,\n",
       " 'EX_h2o_e': inf,\n",
       " 'EX_h_e': inf,\n",
       " 'EX_cl_e': inf,\n",
       " 'EX_pi_e': inf,\n",
       " 'EX_nh4_e': inf,\n",
       " 'EX_fe3_e': inf,\n",
       " 'EX_k_e': inf,\n",
       " 'EX_ca2_e': inf,\n",
       " 'EX_mg2_e': inf,\n",
       " 'EX_mn2_e': inf,\n",
       " 'EX_cobalt2_e': inf,\n",
       " 'EX_zn2_e': inf,\n",
       " 'EX_cu2_e': inf,\n",
       " 'EX_o2_e': inf,\n",
       " 'EX_fe2_e': inf,\n",
       " 'EX_mobd_e': inf,\n",
       " 'EX_so4_e': inf}"
      ]
     },
     "metadata": {},
     "output_type": "display_data"
    },
    {
     "data": {
      "text/plain": [
       "{'EX_glc__D_e': inf,\n",
       " 'EX_h2o_e': inf,\n",
       " 'EX_h_e': inf,\n",
       " 'EX_cl_e': inf,\n",
       " 'EX_pi_e': inf,\n",
       " 'EX_nh4_e': inf,\n",
       " 'EX_fe3_e': inf,\n",
       " 'EX_k_e': inf,\n",
       " 'EX_ca2_e': inf,\n",
       " 'EX_mg2_e': inf,\n",
       " 'EX_mn2_e': inf,\n",
       " 'EX_cobalt2_e': inf,\n",
       " 'EX_zn2_e': inf,\n",
       " 'EX_cu2_e': inf,\n",
       " 'EX_o2_e': inf,\n",
       " 'EX_fe2_e': inf,\n",
       " 'EX_mobd_e': inf,\n",
       " 'EX_so4_e': inf}"
      ]
     },
     "metadata": {},
     "output_type": "display_data"
    }
   ],
   "source": [
    "spotsol, spotsol_std = spot_pred_for_three_reps(model, df_Trans, 'WT-LN-G-R1', 'WT-LN-G-R2','WT-LN-G-R3', 'glucose')"
   ]
  },
  {
   "cell_type": "code",
   "execution_count": null,
   "id": "7fb9e18e-616f-44b0-98d0-793fa5f008f7",
   "metadata": {},
   "outputs": [],
   "source": [
    "spotsol.loc['Growth_Glucose',:]"
   ]
  },
  {
   "cell_type": "markdown",
   "id": "d5aa324c-72f5-47f7-ac2f-ee0a869c19fe",
   "metadata": {
    "tags": []
   },
   "source": [
    "##### **Save solution to data frame**"
   ]
  },
  {
   "cell_type": "code",
   "execution_count": null,
   "id": "9097bda8-39f5-4f94-8af8-3377f589d93f",
   "metadata": {},
   "outputs": [],
   "source": [
    "spotsoldf = pd.DataFrame(spotsol, columns=['fluxes'])\n",
    "spotsolstddf = pd.DataFrame(spotsol_std, columns=['stds'])"
   ]
  },
  {
   "cell_type": "markdown",
   "id": "1cabdc9d-b0d2-41fa-84b8-d835057cca0a",
   "metadata": {
    "tags": []
   },
   "source": [
    "#### **2. Plot solutions: Comparison of SPOT predictions and 13c measurements**"
   ]
  },
  {
   "cell_type": "markdown",
   "id": "7e8e2190-e24f-41f5-ad19-312ad7136fa4",
   "metadata": {
    "tags": []
   },
   "source": [
    "##### **Load 13cdata**"
   ]
  },
  {
   "cell_type": "markdown",
   "id": "6a89e121-cc52-43ee-a84b-9125b7233bed",
   "metadata": {
    "tags": []
   },
   "source": [
    "#####  **Get 13C MFA measured fluxes for phenol**"
   ]
  },
  {
   "cell_type": "code",
   "execution_count": null,
   "id": "7cd1da41-6e46-4ae1-82e2-28a83f308a47",
   "metadata": {},
   "outputs": [],
   "source": [
    "glucose_fluxes = pd.read_csv('../13C_flux_data/13C_glucose_flux_data.csv')\n",
    "\n",
    "# Remove rows that do not have a mapping to the GSM\n",
    "glucose_fluxes.dropna(inplace=True)\n",
    "print(f'There are {len(glucose_fluxes)} fluxes that can be compared between the MFA and FBA')\n",
    "glucose_fluxes"
   ]
  },
  {
   "cell_type": "markdown",
   "id": "2b8aa3d3-8991-4086-958b-157470bada5d",
   "metadata": {},
   "source": [
    "##### **Add  Glucose EFLUX2 and SPOT flux values to phenol fluxes dataframe**"
   ]
  },
  {
   "cell_type": "code",
   "execution_count": null,
   "id": "4abf8362-addf-4f9a-8723-a982eafb6a7d",
   "metadata": {},
   "outputs": [],
   "source": [
    "obspred_fluxes = add_pred_fluxes_to_13c_df(glucose_fluxes, spotsoldf, spotsolstddf, 'glucose', 'SPOT', 'WT')"
   ]
  },
  {
   "cell_type": "code",
   "execution_count": null,
   "id": "f0e77451-14e3-4479-bb5e-1841b2b2ea49",
   "metadata": {},
   "outputs": [],
   "source": [
    "obspred_fluxes"
   ]
  },
  {
   "cell_type": "markdown",
   "id": "548bb7cb-e24a-4b18-87e2-d2c37319e13b",
   "metadata": {
    "tags": []
   },
   "source": [
    "##### **Add Glucose SPOT flux values to phenol fluxes dataframe**"
   ]
  },
  {
   "cell_type": "code",
   "execution_count": null,
   "id": "4a964df8-b2e2-485a-af65-788eff67210b",
   "metadata": {},
   "outputs": [],
   "source": [
    "obspred_fluxes = add_pred_fluxes_to_13c_df(glucose_fluxes, spotsoldf, spotsolstddf, 'glucose', 'SPOT', 'WT')"
   ]
  },
  {
   "cell_type": "code",
   "execution_count": null,
   "id": "eb8ad33d-773c-4f87-a84c-f0a0e62442ee",
   "metadata": {},
   "outputs": [],
   "source": [
    "obspred_fluxes.to_csv('../13C_flux_data/obspredfluxes_Glucose_SPOT_CPM.csv', index=True, header= True)"
   ]
  },
  {
   "cell_type": "code",
   "execution_count": null,
   "id": "a0e2c8a8-5493-4748-8b1d-f1c0b0427270",
   "metadata": {},
   "outputs": [],
   "source": [
    "obspred_fluxes"
   ]
  },
  {
   "cell_type": "markdown",
   "id": "a50fbe97-84ca-44ff-8ac7-a4dd0710f559",
   "metadata": {
    "tags": []
   },
   "source": [
    "### **Plot SPOT vs 13C MFA**"
   ]
  },
  {
   "cell_type": "markdown",
   "id": "449c4379-46d7-4427-96cb-39b422e0c65d",
   "metadata": {
    "tags": []
   },
   "source": [
    "##### **Set plot output directory and import plot functions**"
   ]
  },
  {
   "cell_type": "code",
   "execution_count": null,
   "id": "bc363c50-07c7-4993-98fd-ee8b2fbd99ad",
   "metadata": {},
   "outputs": [],
   "source": [
    "output_dir = 'Plots/CPM/'\n",
    "from plot import *"
   ]
  },
  {
   "cell_type": "markdown",
   "id": "a4237065-780e-40c5-b749-e523f768c2b2",
   "metadata": {},
   "source": [
    "##### **Plot 13C MFA observations vs. SPOT predictions**"
   ]
  },
  {
   "cell_type": "markdown",
   "id": "841903e9-a998-432c-b054-659da4441dc9",
   "metadata": {
    "tags": []
   },
   "source": [
    "##### Scatter plot: 13CMFA vs. SPOT"
   ]
  },
  {
   "cell_type": "code",
   "execution_count": null,
   "id": "816e8418-e77c-4ecd-a9f7-397d3381a1e0",
   "metadata": {},
   "outputs": [],
   "source": [
    "scatterplotcomp_obs_vs_pred(obspred_fluxes, substrate='glucose', method='SPOT', strain='WT')"
   ]
  },
  {
   "cell_type": "markdown",
   "id": "bee5f883-f751-4df3-b9ee-598d0b1931f5",
   "metadata": {},
   "source": [
    "##### **Plot observations vs. predictions with confidence intervals**"
   ]
  },
  {
   "cell_type": "code",
   "execution_count": null,
   "id": "a1ef9ede-7052-4082-97e9-f68531ce8c85",
   "metadata": {},
   "outputs": [],
   "source": [
    "scatterplotcomp_obs_vs_pred_withstd(obspred_fluxes, substrate='glucose', method='SPOT', strain='WT')"
   ]
  },
  {
   "cell_type": "markdown",
   "id": "2aa9818f-866c-4a45-a3b8-f992a4f04c04",
   "metadata": {},
   "source": [
    "#### **Map glucose SPOT fluxes**"
   ]
  },
  {
   "cell_type": "code",
   "execution_count": null,
   "id": "73e3b9ca-a6a3-4c29-ba49-1d19f07b6a62",
   "metadata": {},
   "outputs": [],
   "source": [
    "map_flux_results(obspred_fluxes, 'SPOT WT Value')"
   ]
  },
  {
   "cell_type": "markdown",
   "id": "04da6825-32af-4770-9d59-4db76f164613",
   "metadata": {},
   "source": [
    "### **3. Load File with observed growth rates**"
   ]
  },
  {
   "cell_type": "markdown",
   "id": "2a05d89b-6425-4164-bc13-d6918968c1d2",
   "metadata": {},
   "source": [
    "##### **Load observed growth rates and plot glucose growth rates**"
   ]
  },
  {
   "cell_type": "code",
   "execution_count": null,
   "id": "b00463c4-9c4a-4997-ba88-aabf301bd0b4",
   "metadata": {},
   "outputs": [],
   "source": [
    "consumption_and_growth_data = pd.read_csv('../consumption_and_growth_data/consumption_and_growth_data_new.csv', index_col=0)\n",
    "consumption_and_growth_data"
   ]
  },
  {
   "cell_type": "markdown",
   "id": "ee83596c-4d0e-4e9d-9a44-6e5a2f2119ad",
   "metadata": {
    "tags": []
   },
   "source": [
    "##### **For comparison of predicted and observed growth rates: scale predicted growth rate by multiplying with (observed substrate uptake / predicted substrate uptake)**"
   ]
  },
  {
   "cell_type": "code",
   "execution_count": null,
   "id": "8930661a-13b7-4dbd-80d0-1cb6865332ee",
   "metadata": {},
   "outputs": [],
   "source": [
    "scaledgrowthratespot_wtlng = scale_growth_to_sub(spotsoldf.loc['Growth_Glucose',:].values[0], spotsoldf.loc['EX_glc__D_e',:].values[0],consumption_and_growth_data.loc['WT-LN-G', 'substrate consumption rate'])\n",
    "scaledgrowthratespot_wtlng"
   ]
  },
  {
   "cell_type": "markdown",
   "id": "5e42fe0a-bc29-4a11-8ce2-545416da031d",
   "metadata": {},
   "source": [
    "##### **Add scaled values to new dataframe**"
   ]
  },
  {
   "cell_type": "code",
   "execution_count": null,
   "id": "996b4993-ed60-4b0b-a3f4-d3c54c22f55d",
   "metadata": {},
   "outputs": [],
   "source": [
    "allgrowthrates=pd.DataFrame(index=['WT-LN-G'], columns=['Growth_Glucose_SPOT' ], dtype=float)#, 'EVOL33-LN-G', 'EVOL40-LN-G'\n",
    "allgrowthrates.at['WT-LN-G','Growth_Glucose_SPOT'] = scaledgrowthratespot_wtlng"
   ]
  },
  {
   "cell_type": "markdown",
   "id": "d6134852-498d-4cbe-9792-7d4faf9d0d18",
   "metadata": {},
   "source": [
    "### **4. Save growth rate predictions to csv file**"
   ]
  },
  {
   "cell_type": "markdown",
   "id": "26253c95-c42d-41a6-9e1c-f2c52baf8605",
   "metadata": {
    "tags": []
   },
   "source": [
    "##### **Save growth rates as csv file**"
   ]
  },
  {
   "cell_type": "code",
   "execution_count": null,
   "id": "50c2754e-1782-4c24-be73-5a0e46dc752f",
   "metadata": {},
   "outputs": [],
   "source": [
    "allgrowthrates.to_csv('../consumption_and_growth_data/allgrowthratesGlucoseSPOT_CPM.csv', index=True, header= True)"
   ]
  },
  {
   "cell_type": "code",
   "execution_count": null,
   "id": "5abb0427-c222-4e38-abda-fe039e0240ac",
   "metadata": {},
   "outputs": [],
   "source": []
  }
 ],
 "metadata": {
  "kernelspec": {
   "display_name": "biodesign_3.7",
   "language": "python",
   "name": "biod_3.7"
  },
  "language_info": {
   "codemirror_mode": {
    "name": "ipython",
    "version": 3
   },
   "file_extension": ".py",
   "mimetype": "text/x-python",
   "name": "python",
   "nbconvert_exporter": "python",
   "pygments_lexer": "ipython3",
   "version": "3.7.4"
  }
 },
 "nbformat": 4,
 "nbformat_minor": 5
}

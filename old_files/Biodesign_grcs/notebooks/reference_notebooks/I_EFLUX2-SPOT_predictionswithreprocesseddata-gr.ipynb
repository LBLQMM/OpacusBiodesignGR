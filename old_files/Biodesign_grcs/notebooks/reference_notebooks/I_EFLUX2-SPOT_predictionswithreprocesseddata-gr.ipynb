{
 "cells": [
  {
   "cell_type": "markdown",
   "id": "7563604a-2ba5-4e5d-b9e0-309615df0b5b",
   "metadata": {},
   "source": [
    "### **Notebook to make predictions with reprocessed Yoneda and Henson data and EFLUX2 and SPOT** "
   ]
  },
  {
   "cell_type": "markdown",
   "id": "5a6edbe7-d3d0-49ac-9d13-8f43882945f0",
   "metadata": {},
   "source": [
    "##### **Import python packages**"
   ]
  },
  {
   "cell_type": "code",
   "execution_count": 1,
   "id": "5e37f811-1a95-45e0-932f-962edb144307",
   "metadata": {},
   "outputs": [],
   "source": [
    "import os\n",
    "import sys\n",
    "import pandas as pd\n",
    "import numpy as np\n",
    "import cobra\n",
    "from statistics import mean, median\n",
    "%matplotlib inline\n",
    "from matplotlib import pyplot as plt\n",
    "from edd_utils import login, export_study, export_metadata"
   ]
  },
  {
   "cell_type": "markdown",
   "id": "244d4ba7-9d90-4f21-8de8-18a77f1a87dd",
   "metadata": {},
   "source": [
    "##### **Load data for Experimental Data Depot**"
   ]
  },
  {
   "cell_type": "code",
   "execution_count": 2,
   "id": "e8232d35-b2bf-4b51-9625-3a12a76661f3",
   "metadata": {},
   "outputs": [
    {
     "name": "stdin",
     "output_type": "stream",
     "text": [
      "Password for garrettroell:  ················\n"
     ]
    }
   ],
   "source": [
    "study_slug = 'biodesign_henson2018_reprocessed'\n",
    "edd_server = 'public-edd.jbei.org'\n",
    "user = 'garrettroell' # 'schenkch'\n",
    "session = login(edd_server=edd_server, user=user)"
   ]
  },
  {
   "cell_type": "code",
   "execution_count": 3,
   "id": "f177a0d5-a877-4bd0-af30-304b0badbc93",
   "metadata": {},
   "outputs": [
    {
     "data": {
      "application/vnd.jupyter.widget-view+json": {
       "model_id": "7b7c29d591c442da82cbae675b493d02",
       "version_major": 2,
       "version_minor": 0
      },
      "text/plain": [
       "HBox(children=(FloatProgress(value=0.0, max=440493.0), HTML(value='')))"
      ]
     },
     "metadata": {},
     "output_type": "display_data"
    },
    {
     "name": "stdout",
     "output_type": "stream",
     "text": [
      "\n"
     ]
    },
    {
     "data": {
      "text/html": [
       "<div>\n",
       "<style scoped>\n",
       "    .dataframe tbody tr th:only-of-type {\n",
       "        vertical-align: middle;\n",
       "    }\n",
       "\n",
       "    .dataframe tbody tr th {\n",
       "        vertical-align: top;\n",
       "    }\n",
       "\n",
       "    .dataframe thead th {\n",
       "        text-align: right;\n",
       "    }\n",
       "</style>\n",
       "<table border=\"1\" class=\"dataframe\">\n",
       "  <thead>\n",
       "    <tr style=\"text-align: right;\">\n",
       "      <th></th>\n",
       "      <th>Study ID</th>\n",
       "      <th>Study Name</th>\n",
       "      <th>Line ID</th>\n",
       "      <th>Line Name</th>\n",
       "      <th>Line Description</th>\n",
       "      <th>Protocol</th>\n",
       "      <th>Assay ID</th>\n",
       "      <th>Assay Name</th>\n",
       "      <th>Formal Type</th>\n",
       "      <th>Measurement Type</th>\n",
       "      <th>Compartment</th>\n",
       "      <th>Units</th>\n",
       "      <th>Value</th>\n",
       "      <th>Hours</th>\n",
       "    </tr>\n",
       "  </thead>\n",
       "  <tbody>\n",
       "    <tr>\n",
       "      <th>0</th>\n",
       "      <td>14409</td>\n",
       "      <td>Biodesign_Henson2018_reprocessed</td>\n",
       "      <td>14905</td>\n",
       "      <td>WT-M-R1</td>\n",
       "      <td>R. Opacus wild type strain with Mixture of all...</td>\n",
       "      <td>Transcriptomics</td>\n",
       "      <td>14948</td>\n",
       "      <td>WT-M-R1</td>\n",
       "      <td>NaN</td>\n",
       "      <td>WP_000104864_1</td>\n",
       "      <td>0</td>\n",
       "      <td>FPKM</td>\n",
       "      <td>0.0</td>\n",
       "      <td>20.0</td>\n",
       "    </tr>\n",
       "    <tr>\n",
       "      <th>1</th>\n",
       "      <td>14409</td>\n",
       "      <td>Biodesign_Henson2018_reprocessed</td>\n",
       "      <td>14905</td>\n",
       "      <td>WT-M-R1</td>\n",
       "      <td>R. Opacus wild type strain with Mixture of all...</td>\n",
       "      <td>Transcriptomics</td>\n",
       "      <td>14948</td>\n",
       "      <td>WT-M-R1</td>\n",
       "      <td>NaN</td>\n",
       "      <td>WP_000104864_1</td>\n",
       "      <td>0</td>\n",
       "      <td>FPKM</td>\n",
       "      <td>0.0</td>\n",
       "      <td>32.0</td>\n",
       "    </tr>\n",
       "    <tr>\n",
       "      <th>2</th>\n",
       "      <td>14409</td>\n",
       "      <td>Biodesign_Henson2018_reprocessed</td>\n",
       "      <td>14906</td>\n",
       "      <td>WT-M-R2</td>\n",
       "      <td>R. Opacus wild type strain with Mixture of all...</td>\n",
       "      <td>Transcriptomics</td>\n",
       "      <td>14949</td>\n",
       "      <td>WT-M-R2</td>\n",
       "      <td>NaN</td>\n",
       "      <td>WP_000104864_1</td>\n",
       "      <td>0</td>\n",
       "      <td>FPKM</td>\n",
       "      <td>0.0</td>\n",
       "      <td>20.0</td>\n",
       "    </tr>\n",
       "    <tr>\n",
       "      <th>3</th>\n",
       "      <td>14409</td>\n",
       "      <td>Biodesign_Henson2018_reprocessed</td>\n",
       "      <td>14906</td>\n",
       "      <td>WT-M-R2</td>\n",
       "      <td>R. Opacus wild type strain with Mixture of all...</td>\n",
       "      <td>Transcriptomics</td>\n",
       "      <td>14949</td>\n",
       "      <td>WT-M-R2</td>\n",
       "      <td>NaN</td>\n",
       "      <td>WP_000104864_1</td>\n",
       "      <td>0</td>\n",
       "      <td>FPKM</td>\n",
       "      <td>0.0</td>\n",
       "      <td>32.0</td>\n",
       "    </tr>\n",
       "    <tr>\n",
       "      <th>4</th>\n",
       "      <td>14409</td>\n",
       "      <td>Biodesign_Henson2018_reprocessed</td>\n",
       "      <td>14907</td>\n",
       "      <td>WT-M-R3</td>\n",
       "      <td>R. Opacus wild type strain with Mixture of all...</td>\n",
       "      <td>Transcriptomics</td>\n",
       "      <td>14950</td>\n",
       "      <td>WT-M-R3</td>\n",
       "      <td>NaN</td>\n",
       "      <td>WP_000104864_1</td>\n",
       "      <td>0</td>\n",
       "      <td>FPKM</td>\n",
       "      <td>0.0</td>\n",
       "      <td>20.0</td>\n",
       "    </tr>\n",
       "  </tbody>\n",
       "</table>\n",
       "</div>"
      ],
      "text/plain": [
       "   Study ID                        Study Name  Line ID Line Name  \\\n",
       "0     14409  Biodesign_Henson2018_reprocessed    14905   WT-M-R1   \n",
       "1     14409  Biodesign_Henson2018_reprocessed    14905   WT-M-R1   \n",
       "2     14409  Biodesign_Henson2018_reprocessed    14906   WT-M-R2   \n",
       "3     14409  Biodesign_Henson2018_reprocessed    14906   WT-M-R2   \n",
       "4     14409  Biodesign_Henson2018_reprocessed    14907   WT-M-R3   \n",
       "\n",
       "                                    Line Description         Protocol  \\\n",
       "0  R. Opacus wild type strain with Mixture of all...  Transcriptomics   \n",
       "1  R. Opacus wild type strain with Mixture of all...  Transcriptomics   \n",
       "2  R. Opacus wild type strain with Mixture of all...  Transcriptomics   \n",
       "3  R. Opacus wild type strain with Mixture of all...  Transcriptomics   \n",
       "4  R. Opacus wild type strain with Mixture of all...  Transcriptomics   \n",
       "\n",
       "   Assay ID Assay Name Formal Type Measurement Type  Compartment Units  Value  \\\n",
       "0     14948    WT-M-R1         NaN   WP_000104864_1            0  FPKM    0.0   \n",
       "1     14948    WT-M-R1         NaN   WP_000104864_1            0  FPKM    0.0   \n",
       "2     14949    WT-M-R2         NaN   WP_000104864_1            0  FPKM    0.0   \n",
       "3     14949    WT-M-R2         NaN   WP_000104864_1            0  FPKM    0.0   \n",
       "4     14950    WT-M-R3         NaN   WP_000104864_1            0  FPKM    0.0   \n",
       "\n",
       "   Hours  \n",
       "0   20.0  \n",
       "1   32.0  \n",
       "2   20.0  \n",
       "3   32.0  \n",
       "4   20.0  "
      ]
     },
     "execution_count": 3,
     "metadata": {},
     "output_type": "execute_result"
    }
   ],
   "source": [
    "df = export_study(session, study_slug, edd_server=edd_server)\n",
    "df.head()"
   ]
  },
  {
   "cell_type": "markdown",
   "id": "2f51c4cc-b55f-44ab-8b2c-374350327f29",
   "metadata": {},
   "source": [
    "##### **Isolate transcriptomic data**"
   ]
  },
  {
   "cell_type": "code",
   "execution_count": 4,
   "id": "9b399ad9-6558-4eaa-aac6-f57a2c3690dc",
   "metadata": {},
   "outputs": [
    {
     "data": {
      "text/html": [
       "<div>\n",
       "<style scoped>\n",
       "    .dataframe tbody tr th:only-of-type {\n",
       "        vertical-align: middle;\n",
       "    }\n",
       "\n",
       "    .dataframe tbody tr th {\n",
       "        vertical-align: top;\n",
       "    }\n",
       "\n",
       "    .dataframe thead th {\n",
       "        text-align: right;\n",
       "    }\n",
       "</style>\n",
       "<table border=\"1\" class=\"dataframe\">\n",
       "  <thead>\n",
       "    <tr style=\"text-align: right;\">\n",
       "      <th></th>\n",
       "      <th>Study ID</th>\n",
       "      <th>Study Name</th>\n",
       "      <th>Line ID</th>\n",
       "      <th>Line Name</th>\n",
       "      <th>Line Description</th>\n",
       "      <th>Protocol</th>\n",
       "      <th>Assay ID</th>\n",
       "      <th>Assay Name</th>\n",
       "      <th>Formal Type</th>\n",
       "      <th>Measurement Type</th>\n",
       "      <th>Compartment</th>\n",
       "      <th>Units</th>\n",
       "      <th>Value</th>\n",
       "      <th>Hours</th>\n",
       "    </tr>\n",
       "  </thead>\n",
       "  <tbody>\n",
       "    <tr>\n",
       "      <th>0</th>\n",
       "      <td>14409</td>\n",
       "      <td>Biodesign_Henson2018_reprocessed</td>\n",
       "      <td>14905</td>\n",
       "      <td>WT-M-R1</td>\n",
       "      <td>R. Opacus wild type strain with Mixture of all...</td>\n",
       "      <td>Transcriptomics</td>\n",
       "      <td>14948</td>\n",
       "      <td>WT-M-R1</td>\n",
       "      <td>NaN</td>\n",
       "      <td>WP_000104864_1</td>\n",
       "      <td>0</td>\n",
       "      <td>FPKM</td>\n",
       "      <td>0.0</td>\n",
       "      <td>20.0</td>\n",
       "    </tr>\n",
       "    <tr>\n",
       "      <th>1</th>\n",
       "      <td>14409</td>\n",
       "      <td>Biodesign_Henson2018_reprocessed</td>\n",
       "      <td>14905</td>\n",
       "      <td>WT-M-R1</td>\n",
       "      <td>R. Opacus wild type strain with Mixture of all...</td>\n",
       "      <td>Transcriptomics</td>\n",
       "      <td>14948</td>\n",
       "      <td>WT-M-R1</td>\n",
       "      <td>NaN</td>\n",
       "      <td>WP_000104864_1</td>\n",
       "      <td>0</td>\n",
       "      <td>FPKM</td>\n",
       "      <td>0.0</td>\n",
       "      <td>32.0</td>\n",
       "    </tr>\n",
       "    <tr>\n",
       "      <th>2</th>\n",
       "      <td>14409</td>\n",
       "      <td>Biodesign_Henson2018_reprocessed</td>\n",
       "      <td>14906</td>\n",
       "      <td>WT-M-R2</td>\n",
       "      <td>R. Opacus wild type strain with Mixture of all...</td>\n",
       "      <td>Transcriptomics</td>\n",
       "      <td>14949</td>\n",
       "      <td>WT-M-R2</td>\n",
       "      <td>NaN</td>\n",
       "      <td>WP_000104864_1</td>\n",
       "      <td>0</td>\n",
       "      <td>FPKM</td>\n",
       "      <td>0.0</td>\n",
       "      <td>20.0</td>\n",
       "    </tr>\n",
       "    <tr>\n",
       "      <th>3</th>\n",
       "      <td>14409</td>\n",
       "      <td>Biodesign_Henson2018_reprocessed</td>\n",
       "      <td>14906</td>\n",
       "      <td>WT-M-R2</td>\n",
       "      <td>R. Opacus wild type strain with Mixture of all...</td>\n",
       "      <td>Transcriptomics</td>\n",
       "      <td>14949</td>\n",
       "      <td>WT-M-R2</td>\n",
       "      <td>NaN</td>\n",
       "      <td>WP_000104864_1</td>\n",
       "      <td>0</td>\n",
       "      <td>FPKM</td>\n",
       "      <td>0.0</td>\n",
       "      <td>32.0</td>\n",
       "    </tr>\n",
       "    <tr>\n",
       "      <th>4</th>\n",
       "      <td>14409</td>\n",
       "      <td>Biodesign_Henson2018_reprocessed</td>\n",
       "      <td>14907</td>\n",
       "      <td>WT-M-R3</td>\n",
       "      <td>R. Opacus wild type strain with Mixture of all...</td>\n",
       "      <td>Transcriptomics</td>\n",
       "      <td>14950</td>\n",
       "      <td>WT-M-R3</td>\n",
       "      <td>NaN</td>\n",
       "      <td>WP_000104864_1</td>\n",
       "      <td>0</td>\n",
       "      <td>FPKM</td>\n",
       "      <td>0.0</td>\n",
       "      <td>20.0</td>\n",
       "    </tr>\n",
       "  </tbody>\n",
       "</table>\n",
       "</div>"
      ],
      "text/plain": [
       "   Study ID                        Study Name  Line ID Line Name  \\\n",
       "0     14409  Biodesign_Henson2018_reprocessed    14905   WT-M-R1   \n",
       "1     14409  Biodesign_Henson2018_reprocessed    14905   WT-M-R1   \n",
       "2     14409  Biodesign_Henson2018_reprocessed    14906   WT-M-R2   \n",
       "3     14409  Biodesign_Henson2018_reprocessed    14906   WT-M-R2   \n",
       "4     14409  Biodesign_Henson2018_reprocessed    14907   WT-M-R3   \n",
       "\n",
       "                                    Line Description         Protocol  \\\n",
       "0  R. Opacus wild type strain with Mixture of all...  Transcriptomics   \n",
       "1  R. Opacus wild type strain with Mixture of all...  Transcriptomics   \n",
       "2  R. Opacus wild type strain with Mixture of all...  Transcriptomics   \n",
       "3  R. Opacus wild type strain with Mixture of all...  Transcriptomics   \n",
       "4  R. Opacus wild type strain with Mixture of all...  Transcriptomics   \n",
       "\n",
       "   Assay ID Assay Name Formal Type Measurement Type  Compartment Units  Value  \\\n",
       "0     14948    WT-M-R1         NaN   WP_000104864_1            0  FPKM    0.0   \n",
       "1     14948    WT-M-R1         NaN   WP_000104864_1            0  FPKM    0.0   \n",
       "2     14949    WT-M-R2         NaN   WP_000104864_1            0  FPKM    0.0   \n",
       "3     14949    WT-M-R2         NaN   WP_000104864_1            0  FPKM    0.0   \n",
       "4     14950    WT-M-R3         NaN   WP_000104864_1            0  FPKM    0.0   \n",
       "\n",
       "   Hours  \n",
       "0   20.0  \n",
       "1   32.0  \n",
       "2   20.0  \n",
       "3   32.0  \n",
       "4   20.0  "
      ]
     },
     "execution_count": 4,
     "metadata": {},
     "output_type": "execute_result"
    }
   ],
   "source": [
    "df_trans = df[df['Protocol'].str.contains('Transcriptomics')]\n",
    "df_trans.head()"
   ]
  },
  {
   "cell_type": "markdown",
   "id": "c7252a93-7cea-4b7c-8375-c03a194a9524",
   "metadata": {},
   "source": [
    "##### **Load Genome Scale Model**"
   ]
  },
  {
   "cell_type": "code",
   "execution_count": 5,
   "id": "6f6b96da-3aaf-49fd-9dec-b674a678d243",
   "metadata": {},
   "outputs": [],
   "source": [
    "file_name =  '../GSMs/Ropacus_annotated_curated_with_phenol_custom_biomass.xml'\n",
    "model = cobra.io.read_sbml_model(file_name)"
   ]
  },
  {
   "cell_type": "markdown",
   "id": "3fd054bd-4970-427b-8f8d-f8c47b711e96",
   "metadata": {},
   "source": [
    "#### Check default unconstrained reaction bounds in the model\n",
    "This will be important when considering how an unbounded model compares to a bounded model.\n",
    "Notes: \n",
    "<ul>\n",
    "    <li>Nearly all reactions have an upper bound of 1000, ~10 have an upper bound of 0</li>\n",
    "    <li>Nearly all reactions have a lower bound of either 0 or -1000, the media reactions have an upper bound of -10</li>\n",
    "</ul>"
   ]
  },
  {
   "cell_type": "code",
   "execution_count": 6,
   "id": "61a35c08-977d-4a61-acb5-4868b5e22b9b",
   "metadata": {},
   "outputs": [
    {
     "name": "stdout",
     "output_type": "stream",
     "text": [
      "ACACT5r: accoa_c + dcacoa_c <-- 3oddcoa_c + coa_c 0.0\n",
      "BZSCD: bzsuccoa_c + fad_c <-- fadh2_c + phitcoa_c 0.0\n",
      "MGt5: mg2_c <-- mg2_e 0.0\n",
      "PPGKr: glc__D_c + pi_c <-- g6p_c + h2o_c 0.0\n",
      "PYDXO: 2.0 h2o_c + nh4_c + 0.5 o2_c + pydx_c <-- 2.0 h2o2_c + pydam_c 0.0\n",
      "SUCD1: fad_c + succ_c <-- fadh2_c + fum_c 0.0\n",
      "SULR_1: 3.0 h2o_c + h2s_c + 3.0 nadp_c <-- 5.0 h_c + 3.0 nadph_c + so3_c 0.0\n"
     ]
    }
   ],
   "source": [
    "for r in model.reactions:\n",
    "    if r.upper_bound != 1000:\n",
    "        print(r, r.upper_bound)"
   ]
  },
  {
   "cell_type": "code",
   "execution_count": 7,
   "id": "33713e87-9168-4ac4-952d-f9cb1bf6ccbd",
   "metadata": {},
   "outputs": [
    {
     "name": "stdout",
     "output_type": "stream",
     "text": [
      "EX_glc__D_e: glc__D_e <=>  -10.0\n",
      "EX_h2o_e: h2o_e <=>  -10.0\n",
      "EX_h_e: h_e <=>  -10.0\n",
      "EX_cl_e: cl_e <=>  -10.0\n",
      "EX_pi_e: pi_e <=>  -10.0\n",
      "EX_nh4_e: nh4_e <=>  -10.0\n",
      "EX_fe3_e: fe3_e <=>  -10.0\n",
      "EX_k_e: k_e <=>  -10.0\n",
      "EX_ca2_e: ca2_e <=>  -10.0\n",
      "EX_mg2_e: mg2_e <=>  -10.0\n",
      "EX_mn2_e: mn2_e <=>  -10.0\n",
      "EX_cobalt2_e: cobalt2_e <=>  -10.0\n",
      "EX_zn2_e: zn2_e <=>  -10.0\n",
      "EX_cu2_e: cu2_e <=>  -10.0\n",
      "EX_o2_e: o2_e <=>  -10.0\n",
      "EX_fe2_e: fe2_e <=>  -10.0\n",
      "EX_mobd_e: mobd_e <=>  -10.0\n",
      "EX_so4_e: so4_e <=>  -10.0\n"
     ]
    }
   ],
   "source": [
    "for r in model.reactions:\n",
    "    if r.lower_bound != 0 and r.lower_bound != -1000:\n",
    "        print(r, r.lower_bound)"
   ]
  },
  {
   "cell_type": "markdown",
   "id": "1e20d0fe-15c8-4248-b6be-aa65f868fc95",
   "metadata": {},
   "source": [
    "##### **Import Joonhoons Code**"
   ]
  },
  {
   "cell_type": "code",
   "execution_count": 8,
   "id": "faf7a9d4-095c-42c6-a32b-5b5fd19ffca8",
   "metadata": {},
   "outputs": [],
   "source": [
    "OptlangDir = '../EFLUX2_SPOT'\n",
    "sys.path.append(OptlangDir)\n",
    "from spot_cplex import SPOT #spot not working yet because quadratic constraints not supported yet"
   ]
  },
  {
   "cell_type": "markdown",
   "id": "498fef13-5df7-4661-812c-335a9b1e154a",
   "metadata": {},
   "source": [
    "Separate out the first replicate of phenol wild type transcriptomics data for testing"
   ]
  },
  {
   "cell_type": "code",
   "execution_count": 9,
   "id": "34cdfc42-ac31-409f-9ea9-d28f3c946ad8",
   "metadata": {},
   "outputs": [
    {
     "name": "stdout",
     "output_type": "stream",
     "text": [
      "There are 8007 gene measurements\n"
     ]
    }
   ],
   "source": [
    "WT_P_R1_df = df_trans[df_trans['Line Name'] == 'WT-P-R1']\n",
    "print(f'There are {len(WT_P_R1_df)} gene measurements')"
   ]
  },
  {
   "cell_type": "markdown",
   "id": "1c323ba9-22b7-4caf-913f-74031beca0a3",
   "metadata": {},
   "source": [
    "Define transcriptomics dictionary where keys are gene ids and values are transcriptomic measurements for testing"
   ]
  },
  {
   "cell_type": "code",
   "execution_count": 10,
   "id": "bcf4eaae-ac3f-4572-9920-cf5116b5b2bc",
   "metadata": {},
   "outputs": [
    {
     "name": "stdout",
     "output_type": "stream",
     "text": [
      "WP_000104864_1 : 0.0\n",
      "WP_000516288_1 : 0.0\n",
      "WP_000538659_1 : 0.0\n",
      "WP_001245922_1 : 0.0\n",
      "WP_001297013_1 : 0.08791\n",
      "WP_001564525_1 : 0.0\n",
      "WP_002310911_1 : 0.0\n",
      "WP_002670777_1 : 0.0\n",
      "WP_003402602_1 : 472.16355999999996\n",
      "WP_003418601_1 : 178.36899\n"
     ]
    }
   ],
   "source": [
    "transcriptomics_dict = {row['Measurement Type']:row['Value'] for _, row in WT_P_R1_df.iterrows()}\n",
    "_ = [print(f'{k} : {v}') for k,v in list(transcriptomics_dict.items())[:10]]"
   ]
  },
  {
   "cell_type": "markdown",
   "id": "c050bfe4-28bd-42d3-a42d-7eb33402d132",
   "metadata": {},
   "source": [
    "#### **Define several small functions used in EFlux function**"
   ]
  },
  {
   "cell_type": "markdown",
   "id": "f157a170-aa60-403a-9d41-903bb8b454d4",
   "metadata": {},
   "source": [
    "Define function to plot histogram from list of numbers"
   ]
  },
  {
   "cell_type": "code",
   "execution_count": 11,
   "id": "b39e769d-8315-4adb-b033-7b5dbc6a8cff",
   "metadata": {},
   "outputs": [
    {
     "data": {
      "image/png": "[encoded data removed]",
      "text/plain": [
       "<Figure size 432x288 with 1 Axes>"
      ]
     },
     "metadata": {
      "needs_background": "light"
     },
     "output_type": "display_data"
    }
   ],
   "source": [
    "def plot_histogram(data, title):\n",
    "\n",
    "    bins = np.arange(0, 400, 5) # x axis goes from 0 to 40 with bars of width 5\n",
    "    plt.hist(data, bins=bins, alpha=0.5) \n",
    "    plt.title(f'{title}\\nmean = {mean(data):.3f}, median={median(data):.3f} max={max(data):.3f}')\n",
    "    plt.xlabel('Transcriptomics value')\n",
    "    plt.ylabel('count')\n",
    "    plt.show()\n",
    "\n",
    "# Test on WT Phenol Replicate 1 Transcriptomic measurements\n",
    "plot_histogram(transcriptomics_dict.values(), 'Transcriptomic measurements')"
   ]
  },
  {
   "cell_type": "markdown",
   "id": "7ec8a89e-fd00-4204-9bac-0e2f4ea3d7bc",
   "metadata": {},
   "source": [
    "Define a function to parse a model's GPR into a dictionary whose keys are reaction names and values are the gene associated with that reaction. If multiple genes code for the same reaction, genes that are required in parallel are put in a set, and sets of genes that can catalyze a reaction in series put into a list."
   ]
  },
  {
   "cell_type": "code",
   "execution_count": 12,
   "id": "4c89720e-944d-47cb-8610-5f8aee919e14",
   "metadata": {},
   "outputs": [
    {
     "name": "stdout",
     "output_type": "stream",
     "text": [
      "12PPDStpp:{frozenset({'WP_187300246_1'})}\n",
      "12PPDt:{frozenset({'WP_187300246_1'})}\n",
      "14GLUCANabcpp:{frozenset({'WP_005248578_1', 'WP_025433613_1'}), frozenset({'WP_025432775_1', 'WP_005248578_1'}), frozenset({'WP_025432775_1', 'WP_005249637_1'})}\n",
      "2AGPEAT120:{frozenset({'WP_005248999_1'})}\n",
      "2AGPEAT140:{frozenset({'WP_005248999_1'})}\n"
     ]
    }
   ],
   "source": [
    "def model_to_GPR_dictionary(model):\n",
    "    gpr_dict = dict()\n",
    "    for r in model.reactions:\n",
    "        if r.gene_reaction_rule:\n",
    "            temp = set()\n",
    "            for x in [x.strip('() ') for x in r.gene_reaction_rule.split(' or ')]:\n",
    "                temp.add(frozenset(y.strip('() ') for y in x.split(' and ')))\n",
    "            gpr_dict[r.id] = temp\n",
    "    return gpr_dict\n",
    "\n",
    "# These lines can be used to test function\n",
    "gpr_dict = model_to_GPR_dictionary(model)\n",
    "_ = [print(f'{k}:{v}') for k,v in list(gpr_dict.items())[:5]]"
   ]
  },
  {
   "cell_type": "markdown",
   "id": "980d09cd-30d3-4ae5-a6a9-890a156b8977",
   "metadata": {},
   "source": [
    "Define a takes in a reaction and transcriptomics data, and returns the transcriptomic bound on the maximum absolute value of the flux through that reaction. This function may need to be more complex to improve growth yield of model. It would be naive to think that the arbitrary units of the transcriptomic data should have a 1:1 correlation with the arbitary units used in 13C MFA."
   ]
  },
  {
   "cell_type": "code",
   "execution_count": 13,
   "id": "45f7b810-bfc3-43d1-af4a-cdf12f4180cd",
   "metadata": {},
   "outputs": [],
   "source": [
    "def rxn_to_max_flux(model, rxn_id, gpr_dict, transcriptomics_dict):\n",
    "    max_flux = 0\n",
    "    for genes_in_series in gpr_dict[rxn_id]:\n",
    "        max_flux += min([transcriptomics_dict[gene] if gene in transcriptomics_dict.keys() else 0 for gene in genes_in_series ])\n",
    "    return max_flux"
   ]
  },
  {
   "cell_type": "code",
   "execution_count": 14,
   "id": "f38895b6-054a-404e-a293-56847f42a1f3",
   "metadata": {},
   "outputs": [],
   "source": [
    "def EFlux2test(model, df_trans, min_bound = 10):\n",
    "    # covert transcriptomic df to dictionary of genes and transcript values\n",
    "    transcriptomics_dict = {row['Measurement Type']:row['Value'] for _, row in df_trans.iterrows()}\n",
    "    \n",
    "    # plot histogram of transcriptomic measurements\n",
    "    plot_histogram(transcriptomics_dict.values(), 'Transcriptomic values')\n",
    "    \n",
    "    # convert model into dictionary of genes and their associated GPRs\n",
    "    gpr_dict = model_to_GPR_dictionary(model)\n",
    "    \n",
    "    with model:\n",
    "        # Ensure that medium is correct, and the carbon source is the only limiting substrate\n",
    "        medium = {key:1000 for (key,value) in model.medium.items()}\n",
    "        medium[\"EX_glc__D_e\"] = 0.0\n",
    "        medium[\"EX_phenol_e\"] = 100.0\n",
    "        model.medium = medium\n",
    "        print(model.medium) # print the media to prevent inivisible errors\n",
    "        \n",
    "        # calculate maximum biomass yield without constraints\n",
    "        model.tolerance = 1e-9\n",
    "        unbounded_sol = model.optimize()\n",
    "        print(f'\\nWithout constraints, flux balance analysis found that {unbounded_sol.objective_value:.3f} grams of biomass could be made.\\n')\n",
    "\n",
    "        # calculate maximum biomass yield without constraints\n",
    "        bounds = []\n",
    "        bounded_model = model.copy()\n",
    "        with bounded_model:\n",
    "            for rxn_id in list(gpr_dict.keys()):\n",
    "                bound = rxn_to_max_flux(bounded_model, rxn_id, gpr_dict, transcriptomics_dict)\n",
    "                bound = max(bound, min_bound) # min_bound is a parameter of this function\n",
    "                bounds.append(bound)\n",
    "\n",
    "                if bounded_model.reactions.get_by_id(rxn_id).upper_bound > 0:\n",
    "                    bounded_model.reactions.get_by_id(rxn_id).upper_bound = bound\n",
    "\n",
    "                if bounded_model.reactions.get_by_id(rxn_id).lower_bound < 0:\n",
    "                    bounded_model.reactions.get_by_id(rxn_id).lower_bound = -1*bound\n",
    "                    \n",
    "            # plot histogram of absolute value of bounds inforced\n",
    "            plot_histogram(bounds, 'Absolute value of bounds')\n",
    "\n",
    "            bounded_sol = bounded_model.optimize()\n",
    "            print(f'\\nGiven the bounds from transcriptmics and a minimum absolute bound of {min_bound}, flux balance analysis found that {bounded_sol.objective_value:.3f} grams of biomass could be made.\\n')\n",
    "\n",
    "        # Constrain the biomass to the optimal value\n",
    "\n",
    "        # minimize the sum of squared flux values\n",
    "        "
   ]
  },
  {
   "cell_type": "code",
   "execution_count": 15,
   "id": "1ca8506a-4510-4ddc-b388-b1e3c1ec68b6",
   "metadata": {},
   "outputs": [
    {
     "data": {
      "image/png": "[encoded data removed]",
      "text/plain": [
       "<Figure size 432x288 with 1 Axes>"
      ]
     },
     "metadata": {
      "needs_background": "light"
     },
     "output_type": "display_data"
    },
    {
     "name": "stdout",
     "output_type": "stream",
     "text": [
      "{'EX_h2o_e': 1000, 'EX_h_e': 1000, 'EX_cl_e': 1000, 'EX_pi_e': 1000, 'EX_nh4_e': 1000, 'EX_fe3_e': 1000, 'EX_k_e': 1000, 'EX_ca2_e': 1000, 'EX_mg2_e': 1000, 'EX_mn2_e': 1000, 'EX_cobalt2_e': 1000, 'EX_zn2_e': 1000, 'EX_cu2_e': 1000, 'EX_o2_e': 1000, 'EX_fe2_e': 1000, 'EX_mobd_e': 1000, 'EX_so4_e': 1000, 'EX_phenol_e': 100.0}\n",
      "\n",
      "Without constraints, flux balance analysis found that 8.402 grams of biomass could be made.\n",
      "\n"
     ]
    },
    {
     "data": {
      "image/png": "[encoded data removed]",
      "text/plain": [
       "<Figure size 432x288 with 1 Axes>"
      ]
     },
     "metadata": {
      "needs_background": "light"
     },
     "output_type": "display_data"
    },
    {
     "name": "stdout",
     "output_type": "stream",
     "text": [
      "\n",
      "Given the bounds from transcriptmics and a minimum absolute bound of 30, flux balance analysis found that 0.662 grams of biomass could be made.\n",
      "\n"
     ]
    }
   ],
   "source": [
    "EFlux2test(model, WT_P_R1_df, min_bound = 30)"
   ]
  },
  {
   "cell_type": "markdown",
   "id": "c1970487-c86c-450c-94c9-07d133446f92",
   "metadata": {},
   "source": [
    "-- Stopping here --"
   ]
  },
  {
   "cell_type": "code",
   "execution_count": null,
   "id": "64e2eebd-f0a6-4fd9-afb9-d0ead616d55c",
   "metadata": {},
   "outputs": [],
   "source": []
  },
  {
   "cell_type": "code",
   "execution_count": null,
   "id": "565aadd8-ae1c-48fc-a175-d4476368b31e",
   "metadata": {},
   "outputs": [],
   "source": []
  },
  {
   "cell_type": "code",
   "execution_count": null,
   "id": "17a82a57-e872-4726-88e9-b52500318e0e",
   "metadata": {},
   "outputs": [],
   "source": []
  },
  {
   "cell_type": "code",
   "execution_count": null,
   "id": "3510a539-0186-4bb5-8cf7-f94d9b9cb6e7",
   "metadata": {},
   "outputs": [],
   "source": []
  },
  {
   "cell_type": "code",
   "execution_count": null,
   "id": "3f5b67a1-3478-4b65-b7bd-ec3a9e8b4c97",
   "metadata": {},
   "outputs": [],
   "source": [
    "from optlang.symbolics import add\n",
    "\"\"\"\n",
    "    Provides EFLUX2 predictions as explained in Machado et. al (2014) \n",
    "    \n",
    "        Parameters\n",
    "        ----------\n",
    "        model : cobrapy model.\n",
    "        Transcriptomics : pandas dataframe with transcriptomics data.\n",
    "        \n",
    "        Returns\n",
    "        -------\n",
    "        eflux2_sol as output from eflux2_model.optimize().\n",
    "        \n",
    "\"\"\"\n",
    "#Code only works for GPRs written in disjunctive normal form (DNF). Majority of models have them in DNF but there are some exceptions. \n",
    "\n",
    "def EFlux2test(model, df_trans):\n",
    "    # Convert EDD style dataframe to dictionary\n",
    "    transcriptomics = {row['Measurement Type']:row['Value'] for _, row in df_trans.iterrows()}\n",
    "    print(list(transcriptomics.keys())[:5])\n",
    "    with model:\n",
    "        \n",
    "        # Parse GPR into a dict containing isozymes (separated by 'or')\n",
    "        # Each isozyme has a set of subunits (separated by 'and')\n",
    "        #'and' and 'or' can occur at the same time, or can occur by itself.\n",
    "        gpr_dict = dict()\n",
    "        for r in model.reactions:\n",
    "            if r.gene_reaction_rule:\n",
    "                temp = set()\n",
    "                for x in [x.strip('() ') for x in r.gene_reaction_rule.split(' or ')]:\n",
    "                    temp.add(frozenset(y.strip('() ') for y in x.split(' and ')))\n",
    "                gpr_dict[r.id] = temp\n",
    "                \n",
    "        # define a variable to hold all bounds\n",
    "        all_bounds = []\n",
    "                \n",
    "        # Set the bounds using the transcriptomics data\n",
    "        for r in model.reactions:\n",
    "            if r.gene_reaction_rule:\n",
    "                \n",
    "                #If a reaction R1 has the GPR of 'A and B', it would be parsed to { {A, B} } in gpr_dict['R1']. Then t for R1 would be sum( [ min(A, B) ] ) = min(A, B).\n",
    "                #If a reaction R1 has the GPR of 'A or B', it would be parsed to { {A}, {B} } in gpr_dict['R1']. Then t for R1 would be sum( [ min(A), min(B) ] ) = sum( [A, B] ).\n",
    "                #If a reaction R1 has the GPR of '(A and B) or (C and D)', it would be parsed to { {A, B}, {C, D} } in gpr_dict['R1']. Then t for R1 would be sum( [ min(A, B), min(C, D) ] ).\n",
    "                \n",
    "#                 t = np.sum([np.min([Transcriptomics.loc[g] if g in Transcriptomics.index\n",
    "#                                     else np.array([np.Inf]) for g in p])\n",
    "#                             for p in gpr_dict[r.id]])\n",
    "                t = np.sum([np.min([transcriptomics[g] if g in transcriptomics.keys()\n",
    "                                    else np.array([np.Inf]) for g in p])\n",
    "                            for p in gpr_dict[r.id]])\n",
    "                \n",
    "                # add bound to the list\n",
    "                if t != np.Inf:\n",
    "                    all_bounds.append(t)\n",
    "                \n",
    "                # Enforce transcriptomic bound\n",
    "                if r.lower_bound < 0.0:\n",
    "                    r.lower_bound = -t\n",
    "                if r.upper_bound > 0.0:\n",
    "                    r.upper_bound = t\n",
    "            else:\n",
    "                #When there is no GPR, the arbitrary bounds are removed. \n",
    "                #Common arbitrary bound value of 1000 for E.coli, might be different depending on the model, e.g., 99999.0 for iMM904 yeast model in BiGG\n",
    "                if r.lower_bound <= -1000.0:\n",
    "                    r.lower_bound = -np.Inf\n",
    "                if r.upper_bound >= 1000.0:\n",
    "                    r.upper_bound = np.Inf\n",
    "              \n",
    "        # These statements can help with scaling bounds to reasonable limits\n",
    "        print(all_bounds[:20])\n",
    "        print(len(all_bounds))\n",
    "        print(f'The average bound was {sum(all_bounds) / len(all_bounds)}')\n",
    "        print(f'The max bound was {max(all_bounds)}')\n",
    "        \n",
    "        # print the media to prevent inivisible errors\n",
    "        display(model.medium)\n",
    "        \n",
    "        # solve FBA with transcriptomic enforced bounds to calculate the maximum biomass\n",
    "        model.tolerance = 1e-9\n",
    "        fba_sol = model.optimize()\n",
    "        \n",
    "        print(f'The FBA solution was {fba_sol.status}.' )\n",
    "        print(f'Given the bounds from transcriptomics, flux balance analysis found that{fba_sol.objective_value:.3f} grams of biomass could be made.\\n')\n",
    "        \n",
    "        # Constrain the biomass to the optimal value\n",
    "        for r in model.reactions:\n",
    "            if r.objective_coefficient:\n",
    "                r.lower_bound = fba_sol.objective_value\n",
    "                \n",
    "        # minimize the sum of squared flux values\n",
    "        model.objective = model.problem.Objective(add([r.flux_expression**2 for r in model.reactions]), direction='min')\n",
    "        eflux2_sol = model.optimize()\n",
    "        \n",
    "        print(f'The EFLUX2 solution was {eflux2_sol.status}.' )\n",
    "        print(f'The minimum sum of squared fluxes to make {fba_sol.objective_value:.3f} grams of biomass given the bounds from transcriptomics is {eflux2_sol.objective_value:.1f}.\\n')\n",
    "\n",
    "    return eflux2_sol"
   ]
  },
  {
   "cell_type": "code",
   "execution_count": null,
   "id": "6dbde7cf-10d7-4adb-ba13-230142c780ae",
   "metadata": {},
   "outputs": [],
   "source": []
  },
  {
   "cell_type": "code",
   "execution_count": null,
   "id": "91390bb8-99d6-4895-a78a-2f79c9806f10",
   "metadata": {},
   "outputs": [],
   "source": []
  },
  {
   "cell_type": "code",
   "execution_count": null,
   "id": "fcc4dc6c-620b-4c1b-89bc-b657aa0ed3aa",
   "metadata": {},
   "outputs": [],
   "source": [
    "# eflux2sol_WTPR1, spotsol_WTPR1 = eflux2spotpred(model, df_Trans2, 'WT-P-R1', 'phenol', 100)\n",
    "# eflux2sol_WTPR2, spotsol_WTPR2 = eflux2spotpred(model, df_Trans2, 'WT-P-R2', 'phenol', 100)\n",
    "# eflux2sol_WTPR3, spotsol_WTPR3 = eflux2spotpred(model, df_Trans2, 'WT-P-R3', 'phenol', 100)"
   ]
  },
  {
   "cell_type": "code",
   "execution_count": null,
   "id": "edab2d08-2018-4ae7-a59f-f09441feba72",
   "metadata": {},
   "outputs": [],
   "source": [
    "# eflux2sol_WTPR1.fluxes"
   ]
  },
  {
   "cell_type": "code",
   "execution_count": null,
   "id": "3d8d0611-3d4c-4027-9c3d-d527dc6c001d",
   "metadata": {},
   "outputs": [],
   "source": [
    "# eflux2sol_WTPR1_df = pd.DataFrame(eflux2sol_WTPR1.fluxes, columns=['fluxes'])\n",
    "# eflux2sol_WTPR2_df = pd.DataFrame(eflux2sol_WTPR2.fluxes, columns=['fluxes'])\n",
    "# eflux2sol_WTPR3_df = pd.DataFrame(eflux2sol_WTPR3.fluxes, columns=['fluxes'])\n",
    "# eflux2sol_WTPR = pd.concat([eflux2sol_WTPR1_df, eflux2sol_WTPR2_df, eflux2sol_WTPR3_df], axis=1)\n",
    "# eflux2sol_WTPR.rename(columns = {'fluxes':'R1', 'fluxes':'R2','fluxes':'R3'}, inplace=False)\n",
    "# eflux2sol_WTPR.mean(axis=1)\n",
    "# eflux2sol_WTPR.std(axis=1)\n"
   ]
  },
  {
   "cell_type": "code",
   "execution_count": null,
   "id": "fb8788d4-faa3-4075-9926-4559bfe9e5cd",
   "metadata": {},
   "outputs": [],
   "source": [
    "# eflux2sol_WTPR"
   ]
  },
  {
   "cell_type": "markdown",
   "id": "abb2c28f-530e-415e-ab92-03fdc08091f5",
   "metadata": {},
   "source": [
    "##### **Modularized way**"
   ]
  },
  {
   "cell_type": "code",
   "execution_count": null,
   "id": "e44e04e9-5d89-4c5d-a80c-ca5f60b6ffa3",
   "metadata": {},
   "outputs": [],
   "source": [
    "#Function for EFLUX2 and SPOT Predictions:\n",
    "def eflux2spotpred(model, transcript_df, line_name, substrate, sub_uptake_rate):    \n",
    "    with model:\n",
    "        \n",
    "        # This is to prevent medium components other than glucose from being growth limitations\n",
    "        medium = model.medium\n",
    "        medium = {key:1000 for (key,value) in model.medium.items()}\n",
    "    \n",
    "        if substrate == 'phenol':\n",
    "            model.objective = 'Growth_Phenol'\n",
    "            model.reactions.get_by_id('Growth_Glucose').upper_bound = 0\n",
    "            model.reactions.get_by_id('Growth_Glucose').lower_bound = 0\n",
    "            medium[\"EX_glc__D_e\"] = 0.0\n",
    "            medium[\"EX_phenol_e\"] = sub_uptake_rate\n",
    "            \n",
    "        elif substrate == 'glucose':\n",
    "            model.objective = 'Growth_Glucose'\n",
    "            model.reactions.get_by_id('Growth_Phenol').upper_bound = 0\n",
    "            model.reactions.get_by_id('Growth_Phenol').lower_bound = 0\n",
    "            medium[\"EX_glc__D_e\"] = sub_uptake_rate\n",
    "            medium[\"EX_phenol_e\"] = 0.0\n",
    "            \n",
    "        else:\n",
    "            print('Unknown substrate: Please choose among phenol and glucose')\n",
    "            \n",
    "        model.medium = medium\n",
    "        \n",
    "        eflux2sol = EFlux2test(model, transcript_df[transcript_df['Line Name'] == line_name])\n",
    "        spotsol = SPOT(model, transcript_df[transcript_df['Line Name'] == line_name])\n",
    "    return eflux2sol, spotsol"
   ]
  },
  {
   "cell_type": "code",
   "execution_count": null,
   "id": "2cfa2911-aa1d-4f50-9da0-3ac46efa1883",
   "metadata": {},
   "outputs": [],
   "source": [
    "eflux2sol_WTPR1, spotsol_WTPR1 = eflux2spotpred(model, df_trans, 'WT-P-R1', 'phenol', 100)"
   ]
  },
  {
   "cell_type": "code",
   "execution_count": null,
   "id": "391ad0d3-c426-4b20-97ac-13d3108ceada",
   "metadata": {},
   "outputs": [],
   "source": [
    "#display(eflux2sol_WTPR1.fluxes['Growth_Phenol'])"
   ]
  },
  {
   "cell_type": "code",
   "execution_count": null,
   "id": "3c6c4753-aba5-460e-a3f9-a4491b686e8f",
   "metadata": {},
   "outputs": [],
   "source": [
    "#spotsol_WTPR1df =pd.DataFrame(spotsol_WTPR1, columns=['fluxes'])\n",
    "#spotsol_WTPR1df"
   ]
  },
  {
   "cell_type": "code",
   "execution_count": null,
   "id": "212e000a-362e-4ae7-87da-ca33b132d891",
   "metadata": {},
   "outputs": [],
   "source": [
    "#Function for predictions for three replicates and averaging the solutions and calculating the standard deviation:\n",
    "def eflux2spotpredthreereps(model, transcript_df, line_name1, line_name2, line_name3, substrate, sub_uptake_rate):\n",
    "    \n",
    "    #call prediction functions for individual EFLUX2 predictions for all 3 replicates:\n",
    "    eflux2sol_R1, spotsol_R1 = eflux2spotpred(model, transcript_df, line_name1, 'phenol', 100)\n",
    "    eflux2sol_R2, spotsol_R2 = eflux2spotpred(model, transcript_df, line_name2, 'phenol', 100)\n",
    "    eflux2sol_R3, spotsol_R3 = eflux2spotpred(model, transcript_df, line_name3, 'phenol', 100)\n",
    "    \n",
    "    #EFLUX2 calculations:\n",
    "    eflux2sol_R1_df = pd.DataFrame(eflux2sol_R1.fluxes, columns=['fluxes'])\n",
    "    eflux2sol_R2_df = pd.DataFrame(eflux2sol_R2.fluxes, columns=['fluxes'])\n",
    "    eflux2sol_R3_df = pd.DataFrame(eflux2sol_R3.fluxes, columns=['fluxes'])\n",
    "    eflux2sol_all = pd.concat([eflux2sol_R1_df, eflux2sol_R2_df, eflux2sol_R3_df], axis=1)\n",
    "\n",
    "    eflux2sol = pd.DataFrame(eflux2sol_all.mean(axis=1), columns=['fluxes'])\n",
    "    eflux2sol_std = eflux2sol_all.std(axis=1)\n",
    "    \n",
    "    #SPOT calculations:\n",
    "    spotsol_R1_df = pd.DataFrame(spotsol_R1, columns=['fluxes'])\n",
    "    spotsol_R2_df = pd.DataFrame(spotsol_R2, columns=['fluxes'])\n",
    "    spotsol_R3_df = pd.DataFrame(spotsol_R3, columns=['fluxes'])\n",
    "    spotsol_all = pd.concat([spotsol_R1_df, spotsol_R2_df, spotsol_R3_df], axis=1)\n",
    "    \n",
    "    spotsol = spotsol_all.mean(axis=1)\n",
    "    spotsol_std = spotsol_all.std(axis=1)\n",
    "    \n",
    "    return eflux2sol, eflux2sol_std, spotsol, spotsol_std"
   ]
  },
  {
   "cell_type": "code",
   "execution_count": null,
   "id": "3fbb0754-d6a2-4a38-b1da-bc449a52816d",
   "metadata": {},
   "outputs": [],
   "source": [
    "eflux2sol, eflux2sol_std, spotsol, spotsol_std = eflux2spotpredthreereps(model, df_trans, 'WT-P-R1', 'WT-P-R2','WT-P-R3', 'phenol', 100)\n",
    "#eflux2sol, eflux2sol_std = eflux2spotpredthreereps(model, df_Trans2, 'WT-P-R1', 'WT-P-R2','WT-P-R3', 'phenol', 100)"
   ]
  },
  {
   "cell_type": "code",
   "execution_count": null,
   "id": "267b9c37-7c79-475a-98dc-f529bfe19658",
   "metadata": {},
   "outputs": [],
   "source": [
    "eflux2soldf = pd.DataFrame(eflux2sol, columns=['fluxes'])\n",
    "eflux2solstddf = pd.DataFrame(eflux2sol_std, columns=['fluxes'])\n",
    "spotsoldf = pd.DataFrame(spotsol, columns=['fluxes'])\n",
    "spotsolstddf = pd.DataFrame(spotsol_std, columns=['fluxes'])"
   ]
  },
  {
   "cell_type": "markdown",
   "id": "9759f638-53ff-4067-a6ff-09cbf08b90c6",
   "metadata": {},
   "source": [
    "#### **Plot solutions: Comparison of SPOT and EFLUX2 solution**"
   ]
  },
  {
   "cell_type": "markdown",
   "id": "0782d2e4-632a-4d5b-ad87-0643d4611df7",
   "metadata": {},
   "source": [
    "##### **Load 13cdata**"
   ]
  },
  {
   "cell_type": "markdown",
   "id": "a9c82e93-eb7d-4b72-91c6-4a27927b2fcd",
   "metadata": {},
   "source": [
    "####  **Get 13C MFA measured fluxes for phenol**"
   ]
  },
  {
   "cell_type": "code",
   "execution_count": null,
   "id": "b7807b73-d258-4fec-9c26-652535e22262",
   "metadata": {},
   "outputs": [],
   "source": [
    "phenol_fluxes = pd.read_csv('../13C_flux_data/13C_phenol_flux_data.csv')\n",
    "phenol_fluxes.dropna(inplace=True)\n",
    "print(f'There are {len(phenol_fluxes)} fluxes that can be compared between the MFA and FBA')\n",
    "phenol_fluxes"
   ]
  },
  {
   "cell_type": "markdown",
   "id": "7992430a-5aee-4f12-9727-236620de1f0f",
   "metadata": {},
   "source": [
    "### Add Phenol EFLUX2 and SPOT flux values to phenol fluxes dataframe"
   ]
  },
  {
   "cell_type": "code",
   "execution_count": null,
   "id": "95187395-9c83-44d3-b7b8-b14ae4e31142",
   "metadata": {},
   "outputs": [],
   "source": [
    "def get_flux_value(reaction_id, solution):\n",
    "    if reaction_id.startswith('reverse_'):\n",
    "        reaction_id = reaction_id.split('reverse_')[1]\n",
    "        return -1*solution.fluxes[reaction_id]\n",
    "    else:\n",
    "        return solution.fluxes[reaction_id]"
   ]
  },
  {
   "cell_type": "code",
   "execution_count": null,
   "id": "7c49f728-3eb0-4cd9-aa59-84a593543913",
   "metadata": {},
   "outputs": [],
   "source": [
    "EFLUX2_fluxes = []\n",
    "SPOT_fluxes = []\n",
    "for _, row in phenol_fluxes.iterrows():\n",
    "    reactions = row['Forward Reactions']\n",
    "    flux_value_eflux2 = 0\n",
    "    flux_value_spot = 0\n",
    "    for x in [x.strip('() ') for x in reactions.split(' or ')]:\n",
    "        and_split = [y.strip('() ') for y in x.split(' and ')]\n",
    "        flux_value_eflux2 += min([get_flux_value(v, eflux2soldf) for v in and_split])\n",
    "        flux_value_spot += min([get_flux_value(v,spotsoldf) for v in and_split])\n",
    "    EFLUX2_fluxes.append(flux_value_eflux2)\n",
    "    SPOT_fluxes.append(flux_value_spot)\n",
    "    \n",
    "phenol_fluxes['EFLUX2 Value'] = EFLUX2_fluxes\n",
    "phenol_fluxes['SPOT Value'] = SPOT_fluxes\n",
    "phenol_fluxes"
   ]
  },
  {
   "cell_type": "markdown",
   "id": "e59f7309-6a75-43af-9490-dd865315e675",
   "metadata": {},
   "source": [
    "### Plot EFLUX2 vs 13C MFA"
   ]
  },
  {
   "cell_type": "code",
   "execution_count": null,
   "id": "259d24b2-2bfd-46d3-ac7f-5461ee13a559",
   "metadata": {},
   "outputs": [],
   "source": [
    "fig, ax = plt.subplots(figsize=(8, 8))\n",
    "ax.plot(ax.get_xlim(), ax.get_ylim(), ls=\"--\", c=\".3\")\n",
    "\n",
    "for pathway in list(set(phenol_fluxes['Pathway'])):\n",
    "    pathway_df = phenol_fluxes[phenol_fluxes['Pathway'] == pathway]\n",
    "    \n",
    "    measured_flux_list = list(pathway_df['Flux'])\n",
    "    simulated_flux_list = list(pathway_df['EFLUX2 Value'])\n",
    "    \n",
    "    ax.scatter(measured_flux_list, simulated_flux_list, label=pathway)\n",
    "\n",
    "\n",
    "# Dashed line\n",
    "x = np.linspace(*ax.get_xlim())\n",
    "ax.plot(x, x, ls=\"--\", c=\".3\")\n",
    "\n",
    "plt.title(r'Phenol 13C MFA vs. EFLUX2 Fluxes', fontSize=20)\n",
    "plt.xlabel(r'13C MFA flux (per 100 mmol of phenol uptake)')\n",
    "plt.ylabel(r'EFLUX2 flux (per 100 mmol of phenol uptake)')\n",
    "plt.legend()\n",
    "plt.show()"
   ]
  },
  {
   "cell_type": "markdown",
   "id": "01734cb6-69c9-4952-81e3-13c754d2bd38",
   "metadata": {},
   "source": [
    "### Plot SPOT vs 13C MFA"
   ]
  },
  {
   "cell_type": "code",
   "execution_count": null,
   "id": "a761d23a-ae2e-4566-88db-63f0bc558078",
   "metadata": {},
   "outputs": [],
   "source": [
    "fig, ax = plt.subplots(figsize=(8, 8))\n",
    "ax.plot(ax.get_xlim(), ax.get_ylim(), ls=\"--\", c=\".3\")\n",
    "\n",
    "for pathway in list(set(phenol_fluxes['Pathway'])):\n",
    "    pathway_df = phenol_fluxes[phenol_fluxes['Pathway'] == pathway]\n",
    "    \n",
    "    measured_flux_list = list(pathway_df['Flux'])\n",
    "    simulatedspot_flux_list = list(pathway_df['SPOT Value'])\n",
    "    \n",
    "    ax.scatter(measured_flux_list, simulatedspot_flux_list, label=pathway)\n",
    "\n",
    "\n",
    "# Dashed line\n",
    "x = np.linspace(*ax.get_xlim())\n",
    "ax.plot(x, x, ls=\"--\", c=\".3\")\n",
    "\n",
    "plt.title(r'Phenol 13C MFA vs. SPOT Fluxes', fontSize=20)\n",
    "plt.xlabel(r'13C MFA flux (per 100 mmol of phenol uptake)')\n",
    "plt.ylabel(r'SPOT flux (per 100 mmol of phenol uptake)')\n",
    "plt.legend()\n",
    "plt.show()"
   ]
  },
  {
   "cell_type": "code",
   "execution_count": null,
   "id": "e89a67cb-b755-40a8-b3cf-9611298e9ef7",
   "metadata": {},
   "outputs": [],
   "source": [
    "rxns = [r.id for r in model.reactions]\n",
    "# #EFlux2_fluxdict = dict(zip(rxns,EFlux2_min.solution.get_values()))\n",
    "# EFlux2_fluxdict = dict(zip(rxns,eflux2solfluxes.to_numpy()))#replace previous .get_values()\n",
    "# SPOT_fluxdict = dict(zip(rxns,spotsolWTPR1.to_numpy()))#replace previous .get_values()\n",
    "# #display(SPOT_fluxdict)"
   ]
  },
  {
   "cell_type": "code",
   "execution_count": null,
   "id": "97cabe14-623a-45fa-a4d7-913e86973ede",
   "metadata": {},
   "outputs": [],
   "source": [
    "#Scatterplot of solutions\n",
    "import matplotlib\n",
    "import matplotlib.pyplot as plt\n",
    "from matplotlib import cm\n",
    "\n",
    "def maefunc(y_predict, y_actual):\n",
    "    \"\"\"Mean Absolute Error.\n",
    "    Multioutput case included.\"\"\"\n",
    "\n",
    "    if y_actual.ndim == 1:\n",
    "        return np.mean(np.abs([y_a - y_p for y_a, y_p in zip(y_actual, y_predict)]))\n",
    "    else:\n",
    "        return [\n",
    "            np.mean(\n",
    "                np.abs([y_a - y_p for y_a, y_p in zip(y_actual[:, i], y_predict[:, i])])\n",
    "            )\n",
    "            for i in range(y_actual.shape[1])\n",
    "        ]\n",
    "    \n",
    "def scatterplotcompare(observed, predicted, labels, strtitle):\n",
    "    fig, ax = plt.subplots(figsize=(8, 8))\n",
    "    #res = stats.linregress(observed.to_numpy().astype(float), predicted.to_numpy())\n",
    "    #print(res.rvalue**2)\n",
    "    lims = [\n",
    "                np.min([observed, predicted]),  # min of both axes\n",
    "                np.max([observed, predicted]),  # max of both axes\n",
    "            ]\n",
    "    ax.set_xlim(lims)\n",
    "    #ax.plot([0.0, 0.2], [0.0, 0.2], 'k',  c='0.55')\n",
    "    # Plot Diagonal Dashed Line\n",
    "    ax.plot(lims, lims, ls=\"--\", color=\".8\", zorder=0)\n",
    "    for i in range(0, len(observed)):\n",
    "        ax.scatter(observed[i], predicted[i])\n",
    "        #ax.annotate(str(labels[i]),(observed[i],predicted[i]))\n",
    "    #ax.annotate(\"r-squared = {:.3f}\".format(round(r2_score(observed, predicted))), (0, 1))\n",
    "    #plt.plot(observed, res.intercept + res.slope*observed, 'k', label='fitted line')\n",
    "    rss = np.sum((predicted - observed) ** 2)\n",
    "    tss = np.sum((predicted - predicted.mean()) ** 2)\n",
    "    r2_1 = np.round(1 - rss / tss,2)\n",
    "    #display(r2_1)\n",
    "    #r2 = round(r2_score(observed, predicted),2)\n",
    "    mse = np.round(1/len(observed) * rss,2) \n",
    "    rmse = np.round(np.sqrt(1/len(observed) * rss),2)\n",
    "    #display(rmse)\n",
    "    #display(r2_score(observed, predicted))\n",
    "    mae_score = np.round(maefunc(observed, predicted),2)\n",
    "    plt.xlabel(r'EFLUX2')#Observed growth rates [$mmol/gDW/hr$]')\n",
    "    plt.ylabel(r'SPOT')#Predicted growth rates [$mmol/gDW/hr$]')\n",
    "    #plt.title(r'Growth rates: Observed vs. Predicted ('+strtitle+'), \\n' + f\"$R^2$={r2_1}, MAE={mae_score}, MSE = {mse}, RMSE={rmse}\", fontsize=18)\n",
    "    plt.title(r'EFLUX2 vs. SPOT ('+strtitle+'), \\n' + f\"$R^2$={r2_1}, MAE={mae_score}, MSE = {mse}, RMSE={rmse}\", fontsize=18)\n",
    "    plt.show()"
   ]
  },
  {
   "cell_type": "code",
   "execution_count": null,
   "id": "0537a8eb-489b-4d5a-a409-f94185068f80",
   "metadata": {},
   "outputs": [],
   "source": [
    "scatterplotcompare(eflux2soldf.to_numpy(), spotsoldf.to_numpy(), labels='', strtitle='')"
   ]
  },
  {
   "cell_type": "code",
   "execution_count": null,
   "id": "5cdf2f9a-363e-4b17-acbe-b9f9db7f4e86",
   "metadata": {},
   "outputs": [],
   "source": [
    "scatterplotcompare(eflux2soldf.loc['Growth_Phenol',:], spotsoldf.loc['Growth_Phenol',:], labels='Growth', strtitle='')"
   ]
  },
  {
   "cell_type": "code",
   "execution_count": null,
   "id": "a0a15513-f561-4e16-825c-2caf0b75e264",
   "metadata": {},
   "outputs": [],
   "source": []
  }
 ],
 "metadata": {
  "kernelspec": {
   "display_name": "biodesign_3.7",
   "language": "python",
   "name": "biod_3.7"
  },
  "language_info": {
   "codemirror_mode": {
    "name": "ipython",
    "version": 3
   },
   "file_extension": ".py",
   "mimetype": "text/x-python",
   "name": "python",
   "nbconvert_exporter": "python",
   "pygments_lexer": "ipython3",
   "version": "3.7.4"
  }
 },
 "nbformat": 4,
 "nbformat_minor": 5
}

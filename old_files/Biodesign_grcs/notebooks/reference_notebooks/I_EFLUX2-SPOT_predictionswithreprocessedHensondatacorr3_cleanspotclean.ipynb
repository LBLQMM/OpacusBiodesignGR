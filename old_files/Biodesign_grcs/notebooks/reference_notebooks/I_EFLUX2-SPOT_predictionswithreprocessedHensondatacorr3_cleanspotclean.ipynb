{
 "cells": [
  {
   "cell_type": "markdown",
   "id": "7563604a-2ba5-4e5d-b9e0-309615df0b5b",
   "metadata": {},
   "source": [
    "### **Notebook to make predictions with reprocessed Yoneda and Henson data and EFLUX2 and SPOT** "
   ]
  },
  {
   "cell_type": "markdown",
   "id": "5a6edbe7-d3d0-49ac-9d13-8f43882945f0",
   "metadata": {},
   "source": [
    "##### **Import python packages**"
   ]
  },
  {
   "cell_type": "code",
   "execution_count": 5,
   "id": "5e37f811-1a95-45e0-932f-962edb144307",
   "metadata": {},
   "outputs": [],
   "source": [
    "import os\n",
    "import sys\n",
    "import pandas as pd\n",
    "import numpy as np\n",
    "import cobra\n",
    "#import cplex\n",
    "%matplotlib inline\n",
    "from matplotlib import pyplot as plt\n",
    "from edd_utils import login, export_study, export_metadata"
   ]
  },
  {
   "cell_type": "markdown",
   "id": "244d4ba7-9d90-4f21-8de8-18a77f1a87dd",
   "metadata": {},
   "source": [
    "##### **Load data**"
   ]
  },
  {
   "cell_type": "code",
   "execution_count": 6,
   "id": "e8232d35-b2bf-4b51-9625-3a12a76661f3",
   "metadata": {},
   "outputs": [],
   "source": [
    "# Study to Download\n",
    "study_slug = 'biodesign_henson2018_reprocessed'\n",
    "# EDD server\n",
    "edd_server = 'public-edd.jbei.org'\n",
    "user       = 'garrettroell'"
   ]
  },
  {
   "cell_type": "code",
   "execution_count": 7,
   "id": "b2b03dbf-95d3-49f6-b272-3e35cd07705a",
   "metadata": {},
   "outputs": [
    {
     "name": "stdin",
     "output_type": "stream",
     "text": [
      "Password for garrettroell:  ················\n"
     ]
    },
    {
     "data": {
      "application/vnd.jupyter.widget-view+json": {
       "model_id": "375269d88cab4308a401a040660e44a7",
       "version_major": 2,
       "version_minor": 0
      },
      "text/plain": [
       "HBox(children=(FloatProgress(value=0.0, max=440493.0), HTML(value='')))"
      ]
     },
     "metadata": {},
     "output_type": "display_data"
    },
    {
     "name": "stdout",
     "output_type": "stream",
     "text": [
      "\n"
     ]
    }
   ],
   "source": [
    "session = login(edd_server=edd_server, user=user)\n",
    "\n",
    "df = export_study(session, study_slug, edd_server=edd_server)\n",
    "#df.head()"
   ]
  },
  {
   "cell_type": "markdown",
   "id": "2f51c4cc-b55f-44ab-8b2c-374350327f29",
   "metadata": {},
   "source": [
    "##### **Filter transcriptomics data from all EDD data into different dataframes**"
   ]
  },
  {
   "cell_type": "code",
   "execution_count": 8,
   "id": "9b399ad9-6558-4eaa-aac6-f57a2c3690dc",
   "metadata": {},
   "outputs": [
    {
     "data": {
      "text/html": [
       "<div>\n",
       "<style scoped>\n",
       "    .dataframe tbody tr th:only-of-type {\n",
       "        vertical-align: middle;\n",
       "    }\n",
       "\n",
       "    .dataframe tbody tr th {\n",
       "        vertical-align: top;\n",
       "    }\n",
       "\n",
       "    .dataframe thead th {\n",
       "        text-align: right;\n",
       "    }\n",
       "</style>\n",
       "<table border=\"1\" class=\"dataframe\">\n",
       "  <thead>\n",
       "    <tr style=\"text-align: right;\">\n",
       "      <th></th>\n",
       "      <th>Study ID</th>\n",
       "      <th>Study Name</th>\n",
       "      <th>Line ID</th>\n",
       "      <th>Line Name</th>\n",
       "      <th>Line Description</th>\n",
       "      <th>Protocol</th>\n",
       "      <th>Assay ID</th>\n",
       "      <th>Assay Name</th>\n",
       "      <th>Formal Type</th>\n",
       "      <th>Measurement Type</th>\n",
       "      <th>Compartment</th>\n",
       "      <th>Units</th>\n",
       "      <th>Value</th>\n",
       "      <th>Hours</th>\n",
       "    </tr>\n",
       "  </thead>\n",
       "  <tbody>\n",
       "    <tr>\n",
       "      <th>0</th>\n",
       "      <td>14409</td>\n",
       "      <td>Biodesign_Henson2018_reprocessed</td>\n",
       "      <td>14905</td>\n",
       "      <td>WT-M-R1</td>\n",
       "      <td>R. Opacus wild type strain with Mixture of all...</td>\n",
       "      <td>Transcriptomics</td>\n",
       "      <td>14948</td>\n",
       "      <td>WT-M-R1</td>\n",
       "      <td>NaN</td>\n",
       "      <td>WP_000104864_1</td>\n",
       "      <td>0</td>\n",
       "      <td>FPKM</td>\n",
       "      <td>0.0</td>\n",
       "      <td>20.0</td>\n",
       "    </tr>\n",
       "    <tr>\n",
       "      <th>1</th>\n",
       "      <td>14409</td>\n",
       "      <td>Biodesign_Henson2018_reprocessed</td>\n",
       "      <td>14905</td>\n",
       "      <td>WT-M-R1</td>\n",
       "      <td>R. Opacus wild type strain with Mixture of all...</td>\n",
       "      <td>Transcriptomics</td>\n",
       "      <td>14948</td>\n",
       "      <td>WT-M-R1</td>\n",
       "      <td>NaN</td>\n",
       "      <td>WP_000104864_1</td>\n",
       "      <td>0</td>\n",
       "      <td>FPKM</td>\n",
       "      <td>0.0</td>\n",
       "      <td>32.0</td>\n",
       "    </tr>\n",
       "    <tr>\n",
       "      <th>2</th>\n",
       "      <td>14409</td>\n",
       "      <td>Biodesign_Henson2018_reprocessed</td>\n",
       "      <td>14906</td>\n",
       "      <td>WT-M-R2</td>\n",
       "      <td>R. Opacus wild type strain with Mixture of all...</td>\n",
       "      <td>Transcriptomics</td>\n",
       "      <td>14949</td>\n",
       "      <td>WT-M-R2</td>\n",
       "      <td>NaN</td>\n",
       "      <td>WP_000104864_1</td>\n",
       "      <td>0</td>\n",
       "      <td>FPKM</td>\n",
       "      <td>0.0</td>\n",
       "      <td>20.0</td>\n",
       "    </tr>\n",
       "    <tr>\n",
       "      <th>3</th>\n",
       "      <td>14409</td>\n",
       "      <td>Biodesign_Henson2018_reprocessed</td>\n",
       "      <td>14906</td>\n",
       "      <td>WT-M-R2</td>\n",
       "      <td>R. Opacus wild type strain with Mixture of all...</td>\n",
       "      <td>Transcriptomics</td>\n",
       "      <td>14949</td>\n",
       "      <td>WT-M-R2</td>\n",
       "      <td>NaN</td>\n",
       "      <td>WP_000104864_1</td>\n",
       "      <td>0</td>\n",
       "      <td>FPKM</td>\n",
       "      <td>0.0</td>\n",
       "      <td>32.0</td>\n",
       "    </tr>\n",
       "    <tr>\n",
       "      <th>4</th>\n",
       "      <td>14409</td>\n",
       "      <td>Biodesign_Henson2018_reprocessed</td>\n",
       "      <td>14907</td>\n",
       "      <td>WT-M-R3</td>\n",
       "      <td>R. Opacus wild type strain with Mixture of all...</td>\n",
       "      <td>Transcriptomics</td>\n",
       "      <td>14950</td>\n",
       "      <td>WT-M-R3</td>\n",
       "      <td>NaN</td>\n",
       "      <td>WP_000104864_1</td>\n",
       "      <td>0</td>\n",
       "      <td>FPKM</td>\n",
       "      <td>0.0</td>\n",
       "      <td>20.0</td>\n",
       "    </tr>\n",
       "  </tbody>\n",
       "</table>\n",
       "</div>"
      ],
      "text/plain": [
       "   Study ID                        Study Name  Line ID Line Name  \\\n",
       "0     14409  Biodesign_Henson2018_reprocessed    14905   WT-M-R1   \n",
       "1     14409  Biodesign_Henson2018_reprocessed    14905   WT-M-R1   \n",
       "2     14409  Biodesign_Henson2018_reprocessed    14906   WT-M-R2   \n",
       "3     14409  Biodesign_Henson2018_reprocessed    14906   WT-M-R2   \n",
       "4     14409  Biodesign_Henson2018_reprocessed    14907   WT-M-R3   \n",
       "\n",
       "                                    Line Description         Protocol  \\\n",
       "0  R. Opacus wild type strain with Mixture of all...  Transcriptomics   \n",
       "1  R. Opacus wild type strain with Mixture of all...  Transcriptomics   \n",
       "2  R. Opacus wild type strain with Mixture of all...  Transcriptomics   \n",
       "3  R. Opacus wild type strain with Mixture of all...  Transcriptomics   \n",
       "4  R. Opacus wild type strain with Mixture of all...  Transcriptomics   \n",
       "\n",
       "   Assay ID Assay Name Formal Type Measurement Type  Compartment Units  Value  \\\n",
       "0     14948    WT-M-R1         NaN   WP_000104864_1            0  FPKM    0.0   \n",
       "1     14948    WT-M-R1         NaN   WP_000104864_1            0  FPKM    0.0   \n",
       "2     14949    WT-M-R2         NaN   WP_000104864_1            0  FPKM    0.0   \n",
       "3     14949    WT-M-R2         NaN   WP_000104864_1            0  FPKM    0.0   \n",
       "4     14950    WT-M-R3         NaN   WP_000104864_1            0  FPKM    0.0   \n",
       "\n",
       "   Hours  \n",
       "0   20.0  \n",
       "1   32.0  \n",
       "2   20.0  \n",
       "3   32.0  \n",
       "4   20.0  "
      ]
     },
     "execution_count": 8,
     "metadata": {},
     "output_type": "execute_result"
    }
   ],
   "source": [
    "df_Trans = df[df['Protocol'].str.contains('Transcriptomics')]\n",
    "df_Trans.head()"
   ]
  },
  {
   "cell_type": "markdown",
   "id": "c7252a93-7cea-4b7c-8375-c03a194a9524",
   "metadata": {},
   "source": [
    "##### **Load Genome Scale Model**"
   ]
  },
  {
   "cell_type": "code",
   "execution_count": 9,
   "id": "6f6b96da-3aaf-49fd-9dec-b674a678d243",
   "metadata": {},
   "outputs": [],
   "source": [
    "file_name =  '../GSMs/Ropacus_annotated_curated_with_phenol_custom_biomass.xml'\n",
    "model = cobra.io.read_sbml_model(file_name)"
   ]
  },
  {
   "cell_type": "markdown",
   "id": "1e20d0fe-15c8-4248-b6be-aa65f868fc95",
   "metadata": {},
   "source": [
    "##### **Import EFLUX2 and SPOT Code**"
   ]
  },
  {
   "cell_type": "code",
   "execution_count": 10,
   "id": "faf7a9d4-095c-42c6-a32b-5b5fd19ffca8",
   "metadata": {},
   "outputs": [],
   "source": [
    "OptlangDir = '../EFLUX2_SPOT'\n",
    "sys.path.append(OptlangDir)\n",
    "from ensemblemethods import EFlux2,SPOT"
   ]
  },
  {
   "cell_type": "markdown",
   "id": "4d29a769-3932-4cbc-9572-4300ab175dc2",
   "metadata": {},
   "source": [
    "##### **Transform data to dataframe with just index as gene identifiers and one column for values**\n",
    "##### !!!!TODO: Generalize for multiple time points\n"
   ]
  },
  {
   "cell_type": "code",
   "execution_count": 11,
   "id": "af363ea6-7fa6-4c83-9644-af57a1e79e66",
   "metadata": {},
   "outputs": [],
   "source": [
    "#Function to construct df from EFLUX2 and SPOT functions: Needs to be modified for multiple time points!!!!!\n",
    "def constructTransdffrompred(transdata, linename, conditionstring):\n",
    "    transdataPhe = transdata[transdata['Line Description'].str.contains(conditionstring)]\n",
    "    transdataWTPR1 = transdataPhe[transdataPhe['Line Name']==linename]\n",
    "    transdataWTPR1new = transdataWTPR1.filter(['Value', 'Measurement Type'])#pd.DataFrame(data=df_TransWTPR1.loc[:,'Value'], index=df_TransWTPR1['Measurement Type'])\n",
    "    transdataWTPR1new2 = transdataWTPR1new.set_index('Measurement Type')\n",
    "    return transdataWTPR1new2"
   ]
  },
  {
   "cell_type": "markdown",
   "id": "c050bfe4-28bd-42d3-a42d-7eb33402d132",
   "metadata": {
    "tags": []
   },
   "source": [
    "#### **EFLUX2 Predictions**"
   ]
  },
  {
   "cell_type": "code",
   "execution_count": 12,
   "id": "4b03e122-286f-486a-a0a2-d8c671586cff",
   "metadata": {},
   "outputs": [],
   "source": [
    "#Function for EFLUX2 and SPOT Predictions:\n",
    "def eflux2pred(model, transcriptdf, linename, substrate, sub_uptake_rate, conditionstring):    \n",
    "    with model:\n",
    "        medium = model.medium\n",
    "        try:\n",
    "            if substrate=='phenol':\n",
    "                model.objective = 'Growth_Phenol'\n",
    "                model.reactions.get_by_id('Growth_Glucose').upper_bound = 0\n",
    "                model.reactions.get_by_id('Growth_Glucose').lower_bound = 0\n",
    "                medium = {key:1000 for (key,value) in model.medium.items()}\n",
    "                medium[\"EX_glc__D_e\"] = 0.0\n",
    "                #medium[\"EX_phenol_e\"] = sub_uptake_rate\n",
    "            elif substrate=='glucose':\n",
    "                model.objective = 'Growth_Glucose'\n",
    "                model.reactions.get_by_id('Growth_Phenol').upper_bound = 0\n",
    "                model.reactions.get_by_id('Growth_Phenol').lower_bound = 0\n",
    "                medium = {key:1000 for (key,value) in model.medium.items()}\n",
    "                #medium[\"EX_glc__D_e\"] = sub_uptake_rate\n",
    "                medium[\"EX_phenol_e\"] = 0.0\n",
    "            else:\n",
    "                print('Unknown substrate: Please choose among phenol and glucose')\n",
    "            model.medium = medium\n",
    "            eflux2sol = EFlux2(model, transcriptdf)\n",
    "        except OptimizationError:\n",
    "                if substrate=='phenol':\n",
    "                    model.objective = 'Growth_Phenol'\n",
    "                    model.reactions.get_by_id('Growth_Glucose').upper_bound = 0\n",
    "                    model.reactions.get_by_id('Growth_Glucose').lower_bound = 0\n",
    "                    medium = {key:10 for (key,value) in model.medium.items()}\n",
    "                    medium[\"EX_glc__D_e\"] = 0.0\n",
    "                    #medium[\"EX_phenol_e\"] = sub_uptake_rate\n",
    "                elif substrate=='glucose':\n",
    "                    model.objective = 'Growth_Glucose'\n",
    "                    model.reactions.get_by_id('Growth_Phenol').upper_bound = 0\n",
    "                    model.reactions.get_by_id('Growth_Phenol').lower_bound = 0\n",
    "                    medium = {key:10 for (key,value) in model.medium.items()}\n",
    "                    #medium[\"EX_glc__D_e\"] = sub_uptake_rate\n",
    "                    medium[\"EX_phenol_e\"] = 0.0\n",
    "                else:\n",
    "                    print('Unknown substrate: Please choose among phenol and glucose')\n",
    "                model.medium = medium\n",
    "                eflux2sol = EFlux2(model, transcriptdf)\n",
    "        display(model.medium)\n",
    "        #spotsol = SPOT(model, constructTransdffrompred(transcriptdf, linename, conditionstring))\n",
    "    return eflux2sol#, spotsol"
   ]
  },
  {
   "cell_type": "code",
   "execution_count": 13,
   "id": "1926f37d-f7a6-4548-bb1f-24b32c44bbab",
   "metadata": {},
   "outputs": [],
   "source": [
    "#Function for predictions for three replicates and averaging the solutions and calculating the standard deviation:\n",
    "def eflux2predthreereps(model, transcriptdf, linename1, linename2, linename3, substrate, sub_uptake_rate, conditionstring):\n",
    "    #call prediction functions for individual EFLUX2 predictions for all 3 replicates:\n",
    "    transdata_R1 = constructTransdffrompred(transcriptdf, linename1, conditionstring)\n",
    "    transdata_R2 = constructTransdffrompred(transcriptdf, linename2, conditionstring)\n",
    "    transdata_R3 = constructTransdffrompred(transcriptdf, linename3, conditionstring)\n",
    " \n",
    "    eflux2sol_R1 = eflux2pred(model, transdata_R1, linename1, substrate, sub_uptake_rate, conditionstring)\n",
    "    eflux2sol_R2 = eflux2pred(model, transdata_R2, linename2, substrate, sub_uptake_rate, conditionstring)\n",
    "    eflux2sol_R3 = eflux2pred(model, transdata_R3, linename3, substrate, sub_uptake_rate, conditionstring)\n",
    "    \n",
    "    #EFLUX2 calculations:\n",
    "    eflux2sol_R1_df = pd.DataFrame(eflux2sol_R1.fluxes, columns=['fluxes'])\n",
    "    eflux2sol_R2_df = pd.DataFrame(eflux2sol_R2.fluxes, columns=['fluxes'])\n",
    "    eflux2sol_R3_df = pd.DataFrame(eflux2sol_R3.fluxes, columns=['fluxes'])\n",
    "    eflux2sol_all = pd.concat([eflux2sol_R1_df, eflux2sol_R2_df, eflux2sol_R3_df], axis=1)\n",
    "\n",
    "    eflux2sol = pd.DataFrame(eflux2sol_all.mean(axis=1), columns=['fluxes'])\n",
    "    eflux2sol_std = eflux2sol_all.std(axis=1)\n",
    "    \n",
    "    return eflux2sol, eflux2sol_std"
   ]
  },
  {
   "cell_type": "markdown",
   "id": "7dc964ba-3044-46e4-9beb-1ddf94e35c7a",
   "metadata": {},
   "source": [
    "##### **Wild Type**"
   ]
  },
  {
   "cell_type": "code",
   "execution_count": 14,
   "id": "b28de9a6-0ed2-436a-8188-3cbc06f91b25",
   "metadata": {},
   "outputs": [
    {
     "name": "stdout",
     "output_type": "stream",
     "text": [
      "FBA status optimal\n",
      "FBA solution 0.4372497655393922\n"
     ]
    },
    {
     "data": {
      "text/plain": [
       "<optlang.cplex_interface.Objective at 0x7f9a11ba8410>"
      ]
     },
     "metadata": {},
     "output_type": "display_data"
    },
    {
     "name": "stdout",
     "output_type": "stream",
     "text": [
      "EFlux2 status infeasible\n",
      "EFlux2 solution 6142.95484341048\n"
     ]
    },
    {
     "name": "stderr",
     "output_type": "stream",
     "text": [
      "cobra/util/solver.py:416 \u001b[1;31mUserWarning\u001b[0m: solver status is 'infeasible'\n"
     ]
    },
    {
     "data": {
      "text/plain": [
       "{'EX_h2o_e': 1000,\n",
       " 'EX_h_e': 1000,\n",
       " 'EX_cl_e': 1000,\n",
       " 'EX_pi_e': 1000,\n",
       " 'EX_nh4_e': 1000,\n",
       " 'EX_fe3_e': 1000,\n",
       " 'EX_k_e': 1000,\n",
       " 'EX_ca2_e': 1000,\n",
       " 'EX_mg2_e': 1000,\n",
       " 'EX_mn2_e': 1000,\n",
       " 'EX_cobalt2_e': 1000,\n",
       " 'EX_zn2_e': 1000,\n",
       " 'EX_cu2_e': 1000,\n",
       " 'EX_o2_e': 1000,\n",
       " 'EX_fe2_e': 1000,\n",
       " 'EX_mobd_e': 1000,\n",
       " 'EX_so4_e': 1000,\n",
       " 'EX_phenol_e': 1000.0}"
      ]
     },
     "metadata": {},
     "output_type": "display_data"
    },
    {
     "name": "stdout",
     "output_type": "stream",
     "text": [
      "FBA status optimal\n",
      "FBA solution 0.3594248668216725\n"
     ]
    },
    {
     "data": {
      "text/plain": [
       "<optlang.cplex_interface.Objective at 0x7f9a07c74050>"
      ]
     },
     "metadata": {},
     "output_type": "display_data"
    },
    {
     "name": "stdout",
     "output_type": "stream",
     "text": [
      "EFlux2 status optimal\n",
      "EFlux2 solution 3834.1398569615994\n"
     ]
    },
    {
     "data": {
      "text/plain": [
       "{'EX_h2o_e': 1000,\n",
       " 'EX_h_e': 1000,\n",
       " 'EX_cl_e': 1000,\n",
       " 'EX_pi_e': 1000,\n",
       " 'EX_nh4_e': 1000,\n",
       " 'EX_fe3_e': 1000,\n",
       " 'EX_k_e': 1000,\n",
       " 'EX_ca2_e': 1000,\n",
       " 'EX_mg2_e': 1000,\n",
       " 'EX_mn2_e': 1000,\n",
       " 'EX_cobalt2_e': 1000,\n",
       " 'EX_zn2_e': 1000,\n",
       " 'EX_cu2_e': 1000,\n",
       " 'EX_o2_e': 1000,\n",
       " 'EX_fe2_e': 1000,\n",
       " 'EX_mobd_e': 1000,\n",
       " 'EX_so4_e': 1000,\n",
       " 'EX_phenol_e': 1000.0}"
      ]
     },
     "metadata": {},
     "output_type": "display_data"
    },
    {
     "name": "stdout",
     "output_type": "stream",
     "text": [
      "FBA status optimal\n",
      "FBA solution 0.41007181188827213\n"
     ]
    },
    {
     "data": {
      "text/plain": [
       "<optlang.cplex_interface.Objective at 0x7f9a00412410>"
      ]
     },
     "metadata": {},
     "output_type": "display_data"
    },
    {
     "name": "stdout",
     "output_type": "stream",
     "text": [
      "EFlux2 status optimal\n",
      "EFlux2 solution 10161.095956676356\n"
     ]
    },
    {
     "data": {
      "text/plain": [
       "{'EX_h2o_e': 1000,\n",
       " 'EX_h_e': 1000,\n",
       " 'EX_cl_e': 1000,\n",
       " 'EX_pi_e': 1000,\n",
       " 'EX_nh4_e': 1000,\n",
       " 'EX_fe3_e': 1000,\n",
       " 'EX_k_e': 1000,\n",
       " 'EX_ca2_e': 1000,\n",
       " 'EX_mg2_e': 1000,\n",
       " 'EX_mn2_e': 1000,\n",
       " 'EX_cobalt2_e': 1000,\n",
       " 'EX_zn2_e': 1000,\n",
       " 'EX_cu2_e': 1000,\n",
       " 'EX_o2_e': 1000,\n",
       " 'EX_fe2_e': 1000,\n",
       " 'EX_mobd_e': 1000,\n",
       " 'EX_so4_e': 1000,\n",
       " 'EX_phenol_e': 1000.0}"
      ]
     },
     "metadata": {},
     "output_type": "display_data"
    }
   ],
   "source": [
    "eflux2sol, eflux2sol_std = eflux2predthreereps(model, df_Trans, 'WT-P-R1', 'WT-P-R2','WT-P-R3', 'phenol', 100, '0.5 g/l PHE as carbon source')#eflux2sol, eflux2sol_std = eflux2spotpredthreereps(model, df_Trans2, 'WT-P-R1', 'WT-P-R2','WT-P-R3', 'phenol', 100)"
   ]
  },
  {
   "cell_type": "markdown",
   "id": "8c8642a5-0674-49b5-abcf-550bcef3e26b",
   "metadata": {},
   "source": [
    "##### **Save solution to data frame**"
   ]
  },
  {
   "cell_type": "code",
   "execution_count": 15,
   "id": "bdcffeee-5349-4d20-aca6-746e4bf279f7",
   "metadata": {},
   "outputs": [],
   "source": [
    "eflux2soldf = pd.DataFrame(eflux2sol, columns=['fluxes'])\n",
    "eflux2solstddf = pd.DataFrame(eflux2sol_std, columns=['stds'])"
   ]
  },
  {
   "cell_type": "code",
   "execution_count": 16,
   "id": "a6a44ae1-26a8-4909-b611-04a58a240336",
   "metadata": {},
   "outputs": [],
   "source": [
    "# eflux2soldf"
   ]
  },
  {
   "cell_type": "markdown",
   "id": "22d2eca5-1208-4073-b39d-1fa078613d61",
   "metadata": {},
   "source": [
    "##### **Check External Metabolites solution**"
   ]
  },
  {
   "cell_type": "code",
   "execution_count": 17,
   "id": "5923a0bb-a5ab-4db2-984a-8a57357eedea",
   "metadata": {},
   "outputs": [],
   "source": [
    "exchange_list = []\n",
    "for ind in eflux2soldf.index:\n",
    "    if 'EX_' in str(ind):\n",
    "        exchange_list.append(ind)\n",
    "#exchange_list"
   ]
  },
  {
   "cell_type": "code",
   "execution_count": 18,
   "id": "25e7249c-775b-400b-9acf-e4e154b50a0c",
   "metadata": {},
   "outputs": [
    {
     "data": {
      "text/plain": [
       "fluxes    15.261482\n",
       "Name: EX_h2o_e, dtype: float64"
      ]
     },
     "metadata": {},
     "output_type": "display_data"
    },
    {
     "data": {
      "text/plain": [
       "fluxes    1.864641\n",
       "Name: EX_h_e, dtype: float64"
      ]
     },
     "metadata": {},
     "output_type": "display_data"
    },
    {
     "data": {
      "text/plain": [
       "fluxes   -0.002033\n",
       "Name: EX_cl_e, dtype: float64"
      ]
     },
     "metadata": {},
     "output_type": "display_data"
    },
    {
     "data": {
      "text/plain": [
       "fluxes   -0.845827\n",
       "Name: EX_pi_e, dtype: float64"
      ]
     },
     "metadata": {},
     "output_type": "display_data"
    },
    {
     "data": {
      "text/plain": [
       "fluxes   -2.625001\n",
       "Name: EX_nh4_e, dtype: float64"
      ]
     },
     "metadata": {},
     "output_type": "display_data"
    },
    {
     "data": {
      "text/plain": [
       "fluxes   -0.003049\n",
       "Name: EX_fe3_e, dtype: float64"
      ]
     },
     "metadata": {},
     "output_type": "display_data"
    },
    {
     "data": {
      "text/plain": [
       "fluxes   -0.076227\n",
       "Name: EX_k_e, dtype: float64"
      ]
     },
     "metadata": {},
     "output_type": "display_data"
    },
    {
     "data": {
      "text/plain": [
       "fluxes   -0.002033\n",
       "Name: EX_ca2_e, dtype: float64"
      ]
     },
     "metadata": {},
     "output_type": "display_data"
    },
    {
     "data": {
      "text/plain": [
       "fluxes   -0.003388\n",
       "Name: EX_mg2_e, dtype: float64"
      ]
     },
     "metadata": {},
     "output_type": "display_data"
    },
    {
     "data": {
      "text/plain": [
       "fluxes   -0.00027\n",
       "Name: EX_mn2_e, dtype: float64"
      ]
     },
     "metadata": {},
     "output_type": "display_data"
    },
    {
     "data": {
      "text/plain": [
       "fluxes   -0.000133\n",
       "Name: EX_zn2_e, dtype: float64"
      ]
     },
     "metadata": {},
     "output_type": "display_data"
    },
    {
     "data": {
      "text/plain": [
       "fluxes    25.003678\n",
       "Name: EX_co2_e, dtype: float64"
      ]
     },
     "metadata": {},
     "output_type": "display_data"
    },
    {
     "data": {
      "text/plain": [
       "fluxes   -0.000277\n",
       "Name: EX_cu2_e, dtype: float64"
      ]
     },
     "metadata": {},
     "output_type": "display_data"
    },
    {
     "data": {
      "text/plain": [
       "fluxes   -31.303435\n",
       "Name: EX_o2_e, dtype: float64"
      ]
     },
     "metadata": {},
     "output_type": "display_data"
    },
    {
     "data": {
      "text/plain": [
       "fluxes   -0.002622\n",
       "Name: EX_fe2_e, dtype: float64"
      ]
     },
     "metadata": {},
     "output_type": "display_data"
    },
    {
     "data": {
      "text/plain": [
       "fluxes   -0.022649\n",
       "Name: EX_so4_e, dtype: float64"
      ]
     },
     "metadata": {},
     "output_type": "display_data"
    },
    {
     "data": {
      "text/plain": [
       "fluxes   -6.246863\n",
       "Name: EX_phenol_e, dtype: float64"
      ]
     },
     "metadata": {},
     "output_type": "display_data"
    }
   ],
   "source": [
    "eflux2soldf.loc[exchange_list,:]\n",
    "for i in exchange_list:\n",
    "    if abs(eflux2soldf.loc[i,:].values)>=0.0001:\n",
    "        display(eflux2soldf.loc[i,:])\n",
    "#display(eflux2soldf.loc['EX_phenol_e',:])\n",
    "    "
   ]
  },
  {
   "cell_type": "markdown",
   "id": "adbc4339-6c09-4f11-af80-5775f5be0fd6",
   "metadata": {},
   "source": [
    "##### **PVHG6**"
   ]
  },
  {
   "cell_type": "code",
   "execution_count": 19,
   "id": "455bb9c9-349b-41f6-a7d0-def375f07547",
   "metadata": {},
   "outputs": [],
   "source": [
    "# eflux2sol2, eflux2sol_std2 = eflux2predthreereps(model, df_Trans, 'PVHG-P-R1', 'PVHG-P-R2','PVHG-P-R3', 'phenol', 100, '0.5 g/l PHE as carbon source')#eflux2sol, eflux2sol_std = eflux2spotpredthreereps(model, df_Trans2, 'WT-P-R1', 'WT-P-R2','WT-P-R3', 'phenol', 100)"
   ]
  },
  {
   "cell_type": "markdown",
   "id": "32950e57-3d81-4651-9ce7-ba0dfe05e7b1",
   "metadata": {},
   "source": [
    "##### **Save solution to data frame**"
   ]
  },
  {
   "cell_type": "code",
   "execution_count": 20,
   "id": "4c8d6668-2201-4a39-9843-42befba8fccf",
   "metadata": {},
   "outputs": [],
   "source": [
    "# eflux2soldf2 = pd.DataFrame(eflux2sol2, columns=['fluxes'])\n",
    "# eflux2solstddf2 = pd.DataFrame(eflux2sol_std2, columns=['stds'])"
   ]
  },
  {
   "cell_type": "code",
   "execution_count": 21,
   "id": "8f415655-3a70-47e6-b89f-a86083dbb065",
   "metadata": {},
   "outputs": [],
   "source": [
    "# eflux2soldf"
   ]
  },
  {
   "cell_type": "markdown",
   "id": "a2af2302-ba7b-4222-acde-3e1d10bc0394",
   "metadata": {},
   "source": [
    "##### **Check FBA solution**"
   ]
  },
  {
   "cell_type": "code",
   "execution_count": 22,
   "id": "5026d2fc-3d50-4240-a629-3aeb6db4bd96",
   "metadata": {},
   "outputs": [
    {
     "name": "stdout",
     "output_type": "stream",
     "text": [
      "Unbounded FBA status optimal\n",
      "Unbounded FBA solution 0.23577895481228953\n"
     ]
    }
   ],
   "source": [
    "with model:\n",
    "    medium = model.medium\n",
    "    model.objective = 'Growth_Phenol'\n",
    "    model.reactions.get_by_id('Growth_Glucose').upper_bound = 0\n",
    "    model.reactions.get_by_id('Growth_Glucose').lower_bound = 0\n",
    "    #sub_uptake_rate = 1.76124# just copied value to test it#growthandsubstrdata.loc[index,'substrate_consumption_rate']\n",
    "    medium[\"EX_glc__D_e\"] = 0.0\n",
    "    #medium[\"EX_phenol_e\"] = sub_uptake_rate\n",
    "    model.medium = medium\n",
    "    # solve FBA to calculate the maximum biomass\n",
    "    boundedfba_sol = model.optimize()\n",
    "    print('Unbounded FBA status', boundedfba_sol.status)\n",
    "    print('Unbounded FBA solution', boundedfba_sol.objective_value)"
   ]
  },
  {
   "cell_type": "markdown",
   "id": "2d24cffa-b3b2-4993-babf-1250438387cc",
   "metadata": {},
   "source": [
    "##### **Load 13cdata**"
   ]
  },
  {
   "cell_type": "markdown",
   "id": "88a386ea-554f-465a-9294-139810642178",
   "metadata": {},
   "source": [
    "#####  **Get 13C MFA measured fluxes for phenol**"
   ]
  },
  {
   "cell_type": "code",
   "execution_count": 23,
   "id": "6c11dda6-c5ed-4cb1-843b-c492e7a2d818",
   "metadata": {},
   "outputs": [
    {
     "name": "stdout",
     "output_type": "stream",
     "text": [
      "There are 32 fluxes that can be compared between the MFA and FBA\n"
     ]
    },
    {
     "data": {
      "text/html": [
       "<div>\n",
       "<style scoped>\n",
       "    .dataframe tbody tr th:only-of-type {\n",
       "        vertical-align: middle;\n",
       "    }\n",
       "\n",
       "    .dataframe tbody tr th {\n",
       "        vertical-align: top;\n",
       "    }\n",
       "\n",
       "    .dataframe thead th {\n",
       "        text-align: right;\n",
       "    }\n",
       "</style>\n",
       "<table border=\"1\" class=\"dataframe\">\n",
       "  <thead>\n",
       "    <tr style=\"text-align: right;\">\n",
       "      <th></th>\n",
       "      <th>Pathway</th>\n",
       "      <th>Forward Reactions</th>\n",
       "      <th>Reaction</th>\n",
       "      <th>Location on map</th>\n",
       "      <th>Flux</th>\n",
       "      <th>90% Confidence Lower Bound</th>\n",
       "      <th>90% Confidence Upper Bound</th>\n",
       "    </tr>\n",
       "  </thead>\n",
       "  <tbody>\n",
       "    <tr>\n",
       "      <th>0</th>\n",
       "      <td>Phenol Uptake</td>\n",
       "      <td>PHEMOX</td>\n",
       "      <td>Phenol.ext -&gt; AcCoA + SucCoA</td>\n",
       "      <td>( 80, -450)</td>\n",
       "      <td>1.000000e+02</td>\n",
       "      <td>1.000000e+02</td>\n",
       "      <td>100.0000</td>\n",
       "    </tr>\n",
       "    <tr>\n",
       "      <th>1</th>\n",
       "      <td>EMP Pathway</td>\n",
       "      <td>PGI</td>\n",
       "      <td>G6P &lt;-&gt; F6P</td>\n",
       "      <td>(-150, 430)</td>\n",
       "      <td>-4.793000e-01</td>\n",
       "      <td>-1.421900e+00</td>\n",
       "      <td>0.9306</td>\n",
       "    </tr>\n",
       "    <tr>\n",
       "      <th>2</th>\n",
       "      <td>EMP Pathway</td>\n",
       "      <td>PFK or reverse_FBP</td>\n",
       "      <td>F6P + ATP -&gt; FBP</td>\n",
       "      <td>(-220, 195)</td>\n",
       "      <td>-2.000000e+00</td>\n",
       "      <td>-2.000000e+00</td>\n",
       "      <td>-0.7683</td>\n",
       "    </tr>\n",
       "    <tr>\n",
       "      <th>3</th>\n",
       "      <td>EMP Pathway</td>\n",
       "      <td>FBA</td>\n",
       "      <td>FBP &lt;-&gt; DHAP + GAP</td>\n",
       "      <td>(-140, 115)</td>\n",
       "      <td>-2.000000e+00</td>\n",
       "      <td>-2.000000e+00</td>\n",
       "      <td>-0.7683</td>\n",
       "    </tr>\n",
       "    <tr>\n",
       "      <th>4</th>\n",
       "      <td>EMP Pathway</td>\n",
       "      <td>TPI</td>\n",
       "      <td>DHAP &lt;-&gt; GAP</td>\n",
       "      <td>(-270, 150)</td>\n",
       "      <td>-2.000000e+00</td>\n",
       "      <td>-2.000000e+00</td>\n",
       "      <td>-0.7683</td>\n",
       "    </tr>\n",
       "    <tr>\n",
       "      <th>5</th>\n",
       "      <td>EMP Pathway</td>\n",
       "      <td>GAPD</td>\n",
       "      <td>GAP &lt;-&gt; G1,3P</td>\n",
       "      <td>(-220, 30)</td>\n",
       "      <td>-1.079070e+01</td>\n",
       "      <td>-1.122350e+01</td>\n",
       "      <td>-9.1040</td>\n",
       "    </tr>\n",
       "    <tr>\n",
       "      <th>6</th>\n",
       "      <td>EMP Pathway</td>\n",
       "      <td>reverse_PGK</td>\n",
       "      <td>G1,3P &lt;-&gt; 3PG + ATP + NADH</td>\n",
       "      <td>(-220, -55)</td>\n",
       "      <td>-1.079070e+01</td>\n",
       "      <td>-1.122350e+01</td>\n",
       "      <td>-9.1040</td>\n",
       "    </tr>\n",
       "    <tr>\n",
       "      <th>7</th>\n",
       "      <td>EMP Pathway</td>\n",
       "      <td>PGM_1 or reverse_PGM</td>\n",
       "      <td>3PG &lt;-&gt; 2PG</td>\n",
       "      <td>(-220, -135)</td>\n",
       "      <td>-1.625380e+01</td>\n",
       "      <td>-1.695560e+01</td>\n",
       "      <td>-13.6034</td>\n",
       "    </tr>\n",
       "    <tr>\n",
       "      <th>8</th>\n",
       "      <td>EMP Pathway</td>\n",
       "      <td>ENO</td>\n",
       "      <td>2PG &lt;-&gt; PEP</td>\n",
       "      <td>(-220, -215)</td>\n",
       "      <td>-1.625380e+01</td>\n",
       "      <td>-1.695560e+01</td>\n",
       "      <td>-13.6034</td>\n",
       "    </tr>\n",
       "    <tr>\n",
       "      <th>9</th>\n",
       "      <td>EMP Pathway</td>\n",
       "      <td>PPS or reverse_FRUpts2pp or reverse_SBTpts or ...</td>\n",
       "      <td>PEP &lt;-&gt; Pyr + ATP</td>\n",
       "      <td>(-220, -295)</td>\n",
       "      <td>2.999990e+01</td>\n",
       "      <td>0.000000e+00</td>\n",
       "      <td>30.0000</td>\n",
       "    </tr>\n",
       "    <tr>\n",
       "      <th>10</th>\n",
       "      <td>Pentose Phosphate Pathway</td>\n",
       "      <td>G6PDH2r and PGL</td>\n",
       "      <td>G6P &lt;-&gt; 6PG + NADPH</td>\n",
       "      <td>(50, 380)</td>\n",
       "      <td>-5.767000e-01</td>\n",
       "      <td>-2.018100e+00</td>\n",
       "      <td>0.3824</td>\n",
       "    </tr>\n",
       "    <tr>\n",
       "      <th>11</th>\n",
       "      <td>Pentose Phosphate Pathway</td>\n",
       "      <td>GND</td>\n",
       "      <td>6PG &lt;-&gt; Ru5P + CO2 + NADPH</td>\n",
       "      <td>(275, 350)</td>\n",
       "      <td>4.646000e-01</td>\n",
       "      <td>-1.659900e+00</td>\n",
       "      <td>1.8755</td>\n",
       "    </tr>\n",
       "    <tr>\n",
       "      <th>12</th>\n",
       "      <td>Pentose Phosphate Pathway</td>\n",
       "      <td>RPE</td>\n",
       "      <td>Ru5P &lt;-&gt; X5P</td>\n",
       "      <td>(380, 190)</td>\n",
       "      <td>-1.187400e+00</td>\n",
       "      <td>-2.611500e+00</td>\n",
       "      <td>-0.2468</td>\n",
       "    </tr>\n",
       "    <tr>\n",
       "      <th>13</th>\n",
       "      <td>Pentose Phosphate Pathway</td>\n",
       "      <td>reverse_RPI</td>\n",
       "      <td>Ru5P &lt;-&gt; R5P</td>\n",
       "      <td>(270, 230)</td>\n",
       "      <td>1.652100e+00</td>\n",
       "      <td>9.081000e-01</td>\n",
       "      <td>2.1385</td>\n",
       "    </tr>\n",
       "    <tr>\n",
       "      <th>14</th>\n",
       "      <td>Pentose Phosphate Pathway</td>\n",
       "      <td>TKT2</td>\n",
       "      <td>X5P &lt;-&gt; TKC2 + GAP</td>\n",
       "      <td>(270, 100)</td>\n",
       "      <td>-1.187400e+00</td>\n",
       "      <td>-2.611500e+00</td>\n",
       "      <td>-0.2468</td>\n",
       "    </tr>\n",
       "    <tr>\n",
       "      <th>15</th>\n",
       "      <td>Pentose Phosphate Pathway</td>\n",
       "      <td>TKT2</td>\n",
       "      <td>TKC2 + E4P &lt;-&gt; F6P</td>\n",
       "      <td>(10, 280)</td>\n",
       "      <td>-1.187400e+00</td>\n",
       "      <td>-1.909000e+00</td>\n",
       "      <td>-0.7099</td>\n",
       "    </tr>\n",
       "    <tr>\n",
       "      <th>16</th>\n",
       "      <td>Pentose Phosphate Pathway</td>\n",
       "      <td>TKT1</td>\n",
       "      <td>TKC2 + R5P &lt;-&gt; S7P</td>\n",
       "      <td>(120, 230)</td>\n",
       "      <td>2.130000e-14</td>\n",
       "      <td>-7.076000e-01</td>\n",
       "      <td>0.4698</td>\n",
       "    </tr>\n",
       "    <tr>\n",
       "      <th>17</th>\n",
       "      <td>Pentose Phosphate Pathway</td>\n",
       "      <td>TALA</td>\n",
       "      <td>TAC3 + GAP &lt;-&gt; F6P</td>\n",
       "      <td>(-70, 190)</td>\n",
       "      <td>7.110000e-15</td>\n",
       "      <td>-7.076000e-01</td>\n",
       "      <td>0.4698</td>\n",
       "    </tr>\n",
       "    <tr>\n",
       "      <th>18</th>\n",
       "      <td>Pentose Phosphate Pathway</td>\n",
       "      <td>reverse_TALA</td>\n",
       "      <td>S7P &lt;-&gt; TAC3 + E4P</td>\n",
       "      <td>(50, 230)</td>\n",
       "      <td>8.530000e-14</td>\n",
       "      <td>-7.076000e-01</td>\n",
       "      <td>0.4698</td>\n",
       "    </tr>\n",
       "    <tr>\n",
       "      <th>19</th>\n",
       "      <td>ED Pathway</td>\n",
       "      <td>EDA</td>\n",
       "      <td>6PG &lt;-&gt; KDPG</td>\n",
       "      <td>(-300, 350)</td>\n",
       "      <td>-1.041300e+00</td>\n",
       "      <td>-2.524300e+00</td>\n",
       "      <td>0.2447</td>\n",
       "    </tr>\n",
       "    <tr>\n",
       "      <th>20</th>\n",
       "      <td>ED Pathway</td>\n",
       "      <td>EDD</td>\n",
       "      <td>KDPG &lt;-&gt; Pyr + GAP</td>\n",
       "      <td>(-300, 50)</td>\n",
       "      <td>-1.041300e+00</td>\n",
       "      <td>-2.524300e+00</td>\n",
       "      <td>0.2447</td>\n",
       "    </tr>\n",
       "    <tr>\n",
       "      <th>21</th>\n",
       "      <td>TCA Cycle</td>\n",
       "      <td>PDH</td>\n",
       "      <td>Pyr &lt;-&gt; AcCoA + CO2 + NADH</td>\n",
       "      <td>(-220, -370)</td>\n",
       "      <td>5.923270e+01</td>\n",
       "      <td>5.668260e+01</td>\n",
       "      <td>62.0459</td>\n",
       "    </tr>\n",
       "    <tr>\n",
       "      <th>22</th>\n",
       "      <td>TCA Cycle</td>\n",
       "      <td>CS or reverse_CITL</td>\n",
       "      <td>OAC + AcCoA -&gt; Cit</td>\n",
       "      <td>(-55, -340)</td>\n",
       "      <td>1.144391e+02</td>\n",
       "      <td>1.102766e+02</td>\n",
       "      <td>118.4800</td>\n",
       "    </tr>\n",
       "    <tr>\n",
       "      <th>23</th>\n",
       "      <td>TCA Cycle</td>\n",
       "      <td>ACONT or ( ACONTa and ACONTb)</td>\n",
       "      <td>Cit -&gt; ICit</td>\n",
       "      <td>(145, -310)</td>\n",
       "      <td>1.144391e+02</td>\n",
       "      <td>1.102766e+02</td>\n",
       "      <td>118.4800</td>\n",
       "    </tr>\n",
       "    <tr>\n",
       "      <th>24</th>\n",
       "      <td>TCA Cycle</td>\n",
       "      <td>ICDHx or ICDHyr</td>\n",
       "      <td>ICit -&gt; AKG + CO2 + NADPH</td>\n",
       "      <td>(290, -310)</td>\n",
       "      <td>1.134677e+02</td>\n",
       "      <td>1.068011e+02</td>\n",
       "      <td>118.4800</td>\n",
       "    </tr>\n",
       "    <tr>\n",
       "      <th>25</th>\n",
       "      <td>TCA Cycle</td>\n",
       "      <td>AKGDH or OOR3r</td>\n",
       "      <td>AKG -&gt; SucCoA + CO2 + NADH</td>\n",
       "      <td>(290, -195)</td>\n",
       "      <td>1.086053e+02</td>\n",
       "      <td>1.017297e+02</td>\n",
       "      <td>113.8305</td>\n",
       "    </tr>\n",
       "    <tr>\n",
       "      <th>26</th>\n",
       "      <td>TCA Cycle</td>\n",
       "      <td>3OADPCOAT or OCOAT3r or SUCBZT1 or SUCBZT2 or ...</td>\n",
       "      <td>SucCoA -&gt; Suc + ATP</td>\n",
       "      <td>(290, -55)</td>\n",
       "      <td>2.074789e+02</td>\n",
       "      <td>2.005620e+02</td>\n",
       "      <td>212.7536</td>\n",
       "    </tr>\n",
       "    <tr>\n",
       "      <th>27</th>\n",
       "      <td>TCA Cycle</td>\n",
       "      <td>SUCDi or reverse_FRD2 or reverse_FRD3 or rever...</td>\n",
       "      <td>Suc -&gt; Fum + FADH2</td>\n",
       "      <td>(160, -55)</td>\n",
       "      <td>2.085767e+02</td>\n",
       "      <td>2.032666e+02</td>\n",
       "      <td>212.8305</td>\n",
       "    </tr>\n",
       "    <tr>\n",
       "      <th>28</th>\n",
       "      <td>TCA Cycle</td>\n",
       "      <td>FUM</td>\n",
       "      <td>Fum -&gt; Mal</td>\n",
       "      <td>(10, -55)</td>\n",
       "      <td>2.096703e+02</td>\n",
       "      <td>2.043514e+02</td>\n",
       "      <td>213.8762</td>\n",
       "    </tr>\n",
       "    <tr>\n",
       "      <th>29</th>\n",
       "      <td>TCA Cycle</td>\n",
       "      <td>MDH or MDH3 or MDH2 or DMALRED</td>\n",
       "      <td>Mal -&gt; OAC + NADH</td>\n",
       "      <td>(-60, -180)</td>\n",
       "      <td>1.710231e+02</td>\n",
       "      <td>1.292999e+02</td>\n",
       "      <td>174.5648</td>\n",
       "    </tr>\n",
       "    <tr>\n",
       "      <th>30</th>\n",
       "      <td>Glyoxylate Shunt</td>\n",
       "      <td>ICL</td>\n",
       "      <td>ICit -&gt; Glyox + Suc</td>\n",
       "      <td>(180, -140)</td>\n",
       "      <td>9.714000e-01</td>\n",
       "      <td>7.110000e-15</td>\n",
       "      <td>4.5567</td>\n",
       "    </tr>\n",
       "    <tr>\n",
       "      <th>31</th>\n",
       "      <td>Glyoxylate Shunt</td>\n",
       "      <td>MALS</td>\n",
       "      <td>Glyox + AcCoA -&gt; Mal</td>\n",
       "      <td>(90, -140)</td>\n",
       "      <td>9.714000e-01</td>\n",
       "      <td>0.000000e+00</td>\n",
       "      <td>4.5567</td>\n",
       "    </tr>\n",
       "  </tbody>\n",
       "</table>\n",
       "</div>"
      ],
      "text/plain": [
       "                      Pathway  \\\n",
       "0               Phenol Uptake   \n",
       "1                 EMP Pathway   \n",
       "2                 EMP Pathway   \n",
       "3                 EMP Pathway   \n",
       "4                 EMP Pathway   \n",
       "5                 EMP Pathway   \n",
       "6                 EMP Pathway   \n",
       "7                 EMP Pathway   \n",
       "8                 EMP Pathway   \n",
       "9                 EMP Pathway   \n",
       "10  Pentose Phosphate Pathway   \n",
       "11  Pentose Phosphate Pathway   \n",
       "12  Pentose Phosphate Pathway   \n",
       "13  Pentose Phosphate Pathway   \n",
       "14  Pentose Phosphate Pathway   \n",
       "15  Pentose Phosphate Pathway   \n",
       "16  Pentose Phosphate Pathway   \n",
       "17  Pentose Phosphate Pathway   \n",
       "18  Pentose Phosphate Pathway   \n",
       "19                 ED Pathway   \n",
       "20                 ED Pathway   \n",
       "21                  TCA Cycle   \n",
       "22                  TCA Cycle   \n",
       "23                  TCA Cycle   \n",
       "24                  TCA Cycle   \n",
       "25                  TCA Cycle   \n",
       "26                  TCA Cycle   \n",
       "27                  TCA Cycle   \n",
       "28                  TCA Cycle   \n",
       "29                  TCA Cycle   \n",
       "30           Glyoxylate Shunt   \n",
       "31           Glyoxylate Shunt   \n",
       "\n",
       "                                    Forward Reactions  \\\n",
       "0                                              PHEMOX   \n",
       "1                                                 PGI   \n",
       "2                                  PFK or reverse_FBP   \n",
       "3                                                 FBA   \n",
       "4                                                 TPI   \n",
       "5                                                GAPD   \n",
       "6                                         reverse_PGK   \n",
       "7                                PGM_1 or reverse_PGM   \n",
       "8                                                 ENO   \n",
       "9   PPS or reverse_FRUpts2pp or reverse_SBTpts or ...   \n",
       "10                                    G6PDH2r and PGL   \n",
       "11                                                GND   \n",
       "12                                                RPE   \n",
       "13                                        reverse_RPI   \n",
       "14                                               TKT2   \n",
       "15                                               TKT2   \n",
       "16                                               TKT1   \n",
       "17                                               TALA   \n",
       "18                                       reverse_TALA   \n",
       "19                                                EDA   \n",
       "20                                                EDD   \n",
       "21                                                PDH   \n",
       "22                                 CS or reverse_CITL   \n",
       "23                      ACONT or ( ACONTa and ACONTb)   \n",
       "24                                    ICDHx or ICDHyr   \n",
       "25                                     AKGDH or OOR3r   \n",
       "26  3OADPCOAT or OCOAT3r or SUCBZT1 or SUCBZT2 or ...   \n",
       "27  SUCDi or reverse_FRD2 or reverse_FRD3 or rever...   \n",
       "28                                                FUM   \n",
       "29                     MDH or MDH3 or MDH2 or DMALRED   \n",
       "30                                                ICL   \n",
       "31                                               MALS   \n",
       "\n",
       "                        Reaction Location on map          Flux  \\\n",
       "0   Phenol.ext -> AcCoA + SucCoA     ( 80, -450)  1.000000e+02   \n",
       "1                    G6P <-> F6P     (-150, 430) -4.793000e-01   \n",
       "2               F6P + ATP -> FBP     (-220, 195) -2.000000e+00   \n",
       "3             FBP <-> DHAP + GAP     (-140, 115) -2.000000e+00   \n",
       "4                   DHAP <-> GAP     (-270, 150) -2.000000e+00   \n",
       "5                  GAP <-> G1,3P      (-220, 30) -1.079070e+01   \n",
       "6     G1,3P <-> 3PG + ATP + NADH     (-220, -55) -1.079070e+01   \n",
       "7                    3PG <-> 2PG    (-220, -135) -1.625380e+01   \n",
       "8                    2PG <-> PEP    (-220, -215) -1.625380e+01   \n",
       "9              PEP <-> Pyr + ATP    (-220, -295)  2.999990e+01   \n",
       "10           G6P <-> 6PG + NADPH       (50, 380) -5.767000e-01   \n",
       "11    6PG <-> Ru5P + CO2 + NADPH      (275, 350)  4.646000e-01   \n",
       "12                  Ru5P <-> X5P      (380, 190) -1.187400e+00   \n",
       "13                  Ru5P <-> R5P      (270, 230)  1.652100e+00   \n",
       "14            X5P <-> TKC2 + GAP      (270, 100) -1.187400e+00   \n",
       "15            TKC2 + E4P <-> F6P       (10, 280) -1.187400e+00   \n",
       "16            TKC2 + R5P <-> S7P      (120, 230)  2.130000e-14   \n",
       "17            TAC3 + GAP <-> F6P      (-70, 190)  7.110000e-15   \n",
       "18            S7P <-> TAC3 + E4P       (50, 230)  8.530000e-14   \n",
       "19                  6PG <-> KDPG     (-300, 350) -1.041300e+00   \n",
       "20            KDPG <-> Pyr + GAP      (-300, 50) -1.041300e+00   \n",
       "21    Pyr <-> AcCoA + CO2 + NADH    (-220, -370)  5.923270e+01   \n",
       "22            OAC + AcCoA -> Cit     (-55, -340)  1.144391e+02   \n",
       "23                   Cit -> ICit     (145, -310)  1.144391e+02   \n",
       "24     ICit -> AKG + CO2 + NADPH     (290, -310)  1.134677e+02   \n",
       "25    AKG -> SucCoA + CO2 + NADH     (290, -195)  1.086053e+02   \n",
       "26           SucCoA -> Suc + ATP      (290, -55)  2.074789e+02   \n",
       "27            Suc -> Fum + FADH2      (160, -55)  2.085767e+02   \n",
       "28                    Fum -> Mal       (10, -55)  2.096703e+02   \n",
       "29             Mal -> OAC + NADH     (-60, -180)  1.710231e+02   \n",
       "30           ICit -> Glyox + Suc     (180, -140)  9.714000e-01   \n",
       "31          Glyox + AcCoA -> Mal      (90, -140)  9.714000e-01   \n",
       "\n",
       "    90% Confidence Lower Bound  90% Confidence Upper Bound  \n",
       "0                 1.000000e+02                    100.0000  \n",
       "1                -1.421900e+00                      0.9306  \n",
       "2                -2.000000e+00                     -0.7683  \n",
       "3                -2.000000e+00                     -0.7683  \n",
       "4                -2.000000e+00                     -0.7683  \n",
       "5                -1.122350e+01                     -9.1040  \n",
       "6                -1.122350e+01                     -9.1040  \n",
       "7                -1.695560e+01                    -13.6034  \n",
       "8                -1.695560e+01                    -13.6034  \n",
       "9                 0.000000e+00                     30.0000  \n",
       "10               -2.018100e+00                      0.3824  \n",
       "11               -1.659900e+00                      1.8755  \n",
       "12               -2.611500e+00                     -0.2468  \n",
       "13                9.081000e-01                      2.1385  \n",
       "14               -2.611500e+00                     -0.2468  \n",
       "15               -1.909000e+00                     -0.7099  \n",
       "16               -7.076000e-01                      0.4698  \n",
       "17               -7.076000e-01                      0.4698  \n",
       "18               -7.076000e-01                      0.4698  \n",
       "19               -2.524300e+00                      0.2447  \n",
       "20               -2.524300e+00                      0.2447  \n",
       "21                5.668260e+01                     62.0459  \n",
       "22                1.102766e+02                    118.4800  \n",
       "23                1.102766e+02                    118.4800  \n",
       "24                1.068011e+02                    118.4800  \n",
       "25                1.017297e+02                    113.8305  \n",
       "26                2.005620e+02                    212.7536  \n",
       "27                2.032666e+02                    212.8305  \n",
       "28                2.043514e+02                    213.8762  \n",
       "29                1.292999e+02                    174.5648  \n",
       "30                7.110000e-15                      4.5567  \n",
       "31                0.000000e+00                      4.5567  "
      ]
     },
     "execution_count": 23,
     "metadata": {},
     "output_type": "execute_result"
    }
   ],
   "source": [
    "phenol_fluxes = pd.read_csv('../13C_flux_data/13C_phenol_flux_data.csv')\n",
    "phenol_fluxes.dropna(inplace=True)\n",
    "print(f'There are {len(phenol_fluxes)} fluxes that can be compared between the MFA and FBA')\n",
    "phenol_fluxes"
   ]
  },
  {
   "cell_type": "markdown",
   "id": "172b3576-51e6-47d6-bc47-f19fa4ea53bb",
   "metadata": {},
   "source": [
    "#### **Plot solutions: Comparison of EFLUX2 predictions and 13c measurements**"
   ]
  },
  {
   "cell_type": "markdown",
   "id": "318b0c67-f202-4eea-b49f-d8c5cb9c99ec",
   "metadata": {},
   "source": [
    "##### **Add Phenol EFLUX2 and SPOT flux values to phenol fluxes dataframe**"
   ]
  },
  {
   "cell_type": "code",
   "execution_count": 17,
   "id": "47b76645-58db-4bfc-87f3-a51650748b91",
   "metadata": {},
   "outputs": [],
   "source": [
    "def get_flux_value(reaction_id, solution):\n",
    "    if reaction_id.startswith('reverse_'):\n",
    "        reaction_id = reaction_id.split('reverse_')[1]\n",
    "        return -1*solution.fluxes[reaction_id]\n",
    "    else:\n",
    "        return solution.fluxes[reaction_id]\n",
    "def get_std_value(reaction_id, solution):\n",
    "    if reaction_id.startswith('reverse_'):\n",
    "        reaction_id = reaction_id.split('reverse_')[1]\n",
    "        return -1*solution.stds[reaction_id]\n",
    "    else:\n",
    "        return solution.stds[reaction_id]"
   ]
  },
  {
   "cell_type": "markdown",
   "id": "d487fd0e-fc83-4d0e-aab8-3a7707f97683",
   "metadata": {},
   "source": [
    "##### **Scale up solution to compare with 13C MFA measurements**"
   ]
  },
  {
   "cell_type": "code",
   "execution_count": 18,
   "id": "6e928f80-b2c0-4f3a-96df-3a4f7ad56044",
   "metadata": {},
   "outputs": [],
   "source": [
    "def scalepredictions(observed_fluxes, predictions, stdpredictions, substrate, method):\n",
    "    scalepred_stds = pd.DataFrame(index=stdpredictions.index, columns= ['stds'])\n",
    "    if substrate == 'phenol':\n",
    "        phenoluptakerow = observed_fluxes[observed_fluxes['Pathway']=='Phenol Uptake']\n",
    "        sourceuptake = float(phenoluptakerow['Flux'])\n",
    "        scalepred_fluxes = predictions*(sourceuptake/(-1*predictions.loc['EX_phenol_e']))\n",
    "    elif substrate == 'glucose':\n",
    "        glucoseuptakerow = observed_fluxes[observed_fluxes['Pathway']=='Glucose Uptake']\n",
    "        sourceuptake = float(glucoseuptakerow['Flux'])\n",
    "        scalepred_fluxes = predictions*(sourceuptake/(-1*predictions.loc['EX_glc__D_e']))\n",
    "    else:\n",
    "        print('Unknown Substrate')\n",
    "    for ind in stdpredictions.index:\n",
    "        if abs(stdpredictions.loc[ind,'stds'])<1e-5:\n",
    "            scalepred_stds.loc[ind,'stds'] = stdpredictions.loc[ind,'stds']\n",
    "        else:\n",
    "            scalepred_stds.loc[ind,'stds'] = (stdpredictions.loc[ind,'stds']/predictions.loc[ind,'fluxes'])*scalepred_fluxes.loc[ind, 'fluxes']\n",
    "    return scalepred_fluxes, scalepred_stds"
   ]
  },
  {
   "cell_type": "markdown",
   "id": "4d7bcf95-0766-4332-97bb-6c60e5238889",
   "metadata": {},
   "source": [
    "##### **Add predictions to 13c data frame**"
   ]
  },
  {
   "cell_type": "code",
   "execution_count": 19,
   "id": "2f9cd489-bb20-4798-8e42-af9291fd8caf",
   "metadata": {},
   "outputs": [],
   "source": [
    "def addpredfluxes_to13cdf(observed_fluxes, predictions, stdpredictions, substrate, method):\n",
    "    predicted_fluxes = []\n",
    "    predicted_stds = []\n",
    "    scalepred_fluxes, scalepred_stds = scalepredictions(observed_fluxes, predictions, stdpredictions, substrate, method)\n",
    "    for _, row in observed_fluxes.iterrows():\n",
    "        reactions = row['Forward Reactions']\n",
    "        flux_value_pred = 0\n",
    "        std_value_pred = 0\n",
    "        for x in [x.strip('() ') for x in reactions.split(' or ')]:\n",
    "            and_split = [y.strip('() ') for y in x.split(' and ')]\n",
    "            flux_value_pred += min([get_flux_value(v, scalepred_fluxes) for v in and_split])\n",
    "            std_value_pred += min([get_std_value(v,scalepred_stds) for v in and_split])\n",
    "        predicted_fluxes.append(flux_value_pred)\n",
    "        predicted_stds.append(std_value_pred)\n",
    "\n",
    "    observed_fluxes[str(method) + ' Value'] = predicted_fluxes\n",
    "    observed_fluxes[str(method) + ' std Value'] = predicted_stds\n",
    "    \n",
    "    return observed_fluxes"
   ]
  },
  {
   "cell_type": "code",
   "execution_count": 20,
   "id": "c2aa3558-60d8-446c-8990-2d8c62cfdb88",
   "metadata": {},
   "outputs": [],
   "source": [
    "obspred_fluxes = addpredfluxes_to13cdf(phenol_fluxes, eflux2soldf, eflux2solstddf, 'phenol', 'EFLUX2')"
   ]
  },
  {
   "cell_type": "code",
   "execution_count": 21,
   "id": "3a272dbb-1588-45eb-9efb-0b4a04f4fba7",
   "metadata": {},
   "outputs": [],
   "source": [
    "#obspred_fluxes"
   ]
  },
  {
   "cell_type": "markdown",
   "id": "cfc42f0a-79a1-43ae-93af-76517dd05864",
   "metadata": {},
   "source": [
    "#### **Plot EFLUX2 vs 13C MFA**"
   ]
  },
  {
   "cell_type": "markdown",
   "id": "d7fbdae0-bcc6-4010-8b24-46b498f2b9bc",
   "metadata": {},
   "source": [
    "##### **Plot observations vs. predictions**"
   ]
  },
  {
   "cell_type": "code",
   "execution_count": 22,
   "id": "dd1c5c9a-b4ec-43f0-8dde-819d94b91585",
   "metadata": {},
   "outputs": [],
   "source": [
    "def scatterplotcomp_obs_vs_pred(obspred_fluxes, substrate, method):\n",
    "    fig, ax = plt.subplots(figsize=(8, 8))\n",
    "    ax.plot(ax.get_xlim(), ax.get_ylim(), ls=\"--\", c=\".3\")\n",
    "\n",
    "    for pathway in list(set(obspred_fluxes['Pathway'])):\n",
    "        pathway_df = obspred_fluxes[obspred_fluxes['Pathway'] == pathway]\n",
    "\n",
    "        measured_flux_list = list(pathway_df['Flux'])\n",
    "        simulated_flux_list = list(pathway_df[str(method) + ' Value'])\n",
    "\n",
    "        ax.scatter(measured_flux_list, simulated_flux_list, label=pathway)\n",
    "\n",
    "\n",
    "    # Dashed line\n",
    "    x = np.linspace(*ax.get_xlim())\n",
    "    ax.plot(x, x, ls=\"--\", c=\".3\")\n",
    "    if substrate=='phenol':\n",
    "        sub = 'Phenol'\n",
    "    elif substrate=='glucose':\n",
    "        sub = 'Glucose'\n",
    "    else:\n",
    "        print(\"Unknown substrate\")\n",
    "    plt.title(r''+str(sub)+  ' 13C MFA vs. '+ str(method) + ' Fluxes', fontSize=20)\n",
    "    plt.xlabel(r'13C MFA flux (per 100 mmol '+str(sub)+  ' uptake)')\n",
    "    plt.ylabel(r''+ str(method) + ' flux (per 100 mmol of '+str(sub)+  ' uptake)')\n",
    "    plt.legend()\n",
    "    plt.show()"
   ]
  },
  {
   "cell_type": "code",
   "execution_count": 23,
   "id": "7981aa93-aff8-44b5-b400-768378e1674d",
   "metadata": {},
   "outputs": [
    {
     "data": {
      "image/png": "[encoded data removed]",
      "text/plain": [
       "<Figure size 576x576 with 1 Axes>"
      ]
     },
     "metadata": {
      "needs_background": "light"
     },
     "output_type": "display_data"
    }
   ],
   "source": [
    "scatterplotcomp_obs_vs_pred(obspred_fluxes, substrate='phenol', method='EFLUX2')"
   ]
  },
  {
   "cell_type": "markdown",
   "id": "93adc7e9-8db8-4f5e-8216-b0133d0d972e",
   "metadata": {},
   "source": [
    "##### **Plot observations vs. predictions with confidence intervals**"
   ]
  },
  {
   "cell_type": "code",
   "execution_count": 24,
   "id": "fd7d3359-94b5-4304-861d-edc8dc120ded",
   "metadata": {},
   "outputs": [],
   "source": [
    "import matplotlib\n",
    "import matplotlib.cm as cm\n",
    "def scatterplotcomp_obs_vs_pred_withstd(obspred_fluxes, substrate, method):\n",
    "    fig, ax = plt.subplots(figsize=(8, 8))\n",
    "    ax.plot(ax.get_xlim(), ax.get_ylim(), ls=\"--\", c=\".3\")\n",
    "\n",
    "    for pathway in list(set(obspred_fluxes['Pathway'])):\n",
    "        pathway_df = obspred_fluxes[obspred_fluxes['Pathway'] == pathway]\n",
    "        \n",
    "        measured_flux_list = list(pathway_df['Flux'])\n",
    "        simulated_flux_list = list(pathway_df[str(method) + ' Value'])\n",
    "        simulated_std_list = list(pathway_df[str(method) + ' std Value'])\n",
    "        measured_std_list = list(pathway_df['90% Confidence Upper Bound']-pathway_df['Flux'])\n",
    "        \n",
    "        \n",
    "        sc = ax.scatter(measured_flux_list, simulated_flux_list, label=pathway)\n",
    "        #clb = plt.colorbar(sc)\n",
    "        #if pathway!='Phenol Uptake':\n",
    "        ax.errorbar(\n",
    "                measured_flux_list, simulated_flux_list, xerr=[std1 for std1 in measured_std_list], yerr=[1.9*std for std in simulated_std_list],\n",
    "                    #fmt=\"ko\",\n",
    "            #c=.3,\n",
    "                    ecolor=\"gray\", ls='none',\n",
    "#                         elinewidth=1,\n",
    "#                         capsize=2,\n",
    "                alpha=0.8)\n",
    "        #ax.set_xlim([min(measured_flux_list), max(measured_flux_list)*1.5])\n",
    "        #ax.set_xlim([pathway_df.loc[:,'Flux'].min(), pathway_df.loc[:,'Flux'].max()])\n",
    "        #x_color = clb.to_rgba(measured_flux_list)\n",
    "#         norm = matplotlib.colors.Normalize(vmin=min(simulated_flux_list), vmax=max(simulated_flux_list), clip=True)\n",
    "#         mapper = cm.ScalarMappable(norm=norm, cmap='viridis')\n",
    "#         x_color = np.array([(mapper.to_rgba(v)) for v in simulated_flux_list])\n",
    "#     for pathway,pathway2,stdpathway, color in zip(measured_flux_list, simulated_flux_list,simulated_std_list, x_color):\n",
    "#         ax.errorbar(\n",
    "#                 pathway, pathway2, yerr=1.96*stdpathway,\n",
    "#                     fmt=\"ko\",\n",
    "#             c=.3,\n",
    "#                     #ecolor=\"\",\n",
    "#                     elinewidth=1,\n",
    "#                     capsize=2,\n",
    "#         #capsize=2, linewidth=2.,markersize=6., mew=4., color='darkred',\n",
    "#                 alpha=0.8)\n",
    "\n",
    "    # Dashed line\n",
    "    x = np.linspace(*ax.get_xlim())\n",
    "    ax.plot(x, x, ls=\"--\", c=\".3\")\n",
    "    if substrate=='phenol':\n",
    "        sub = 'Phenol'\n",
    "    elif substrate=='glucose':\n",
    "        sub = 'Glucose'\n",
    "    else:\n",
    "        print(\"Unknown substrate\")\n",
    "    plt.title(r''+str(sub)+  ' 13C MFA vs. '+ str(method) + ' Fluxes', fontSize=20)\n",
    "    plt.xlabel(r'13C MFA flux (per 100 mmol '+str(sub)+  ' uptake)')\n",
    "    plt.ylabel(r''+ str(method) + ' flux (per 100 mmol of '+str(sub)+  ' uptake)')\n",
    "    plt.legend()\n",
    "    plt.show()"
   ]
  },
  {
   "cell_type": "code",
   "execution_count": 25,
   "id": "5c5cfa60-bd4e-4ae6-b1cc-634e2d7456ec",
   "metadata": {},
   "outputs": [
    {
     "data": {
      "image/png": "[encoded data removed]",
      "text/plain": [
       "<Figure size 576x576 with 1 Axes>"
      ]
     },
     "metadata": {
      "needs_background": "light"
     },
     "output_type": "display_data"
    }
   ],
   "source": [
    "scatterplotcomp_obs_vs_pred_withstd(obspred_fluxes, substrate='phenol', method='EFLUX2')"
   ]
  },
  {
   "cell_type": "markdown",
   "id": "99b6d784-08a4-4d20-8802-c050606b764d",
   "metadata": {
    "tags": []
   },
   "source": [
    "#### **SPOT Predictions**"
   ]
  },
  {
   "cell_type": "code",
   "execution_count": 26,
   "id": "e7d935b5-9145-44a3-b1ac-3c5d39e47c67",
   "metadata": {},
   "outputs": [],
   "source": [
    "import cplex\n",
    "\"\"\"\n",
    "    Creates dictionary of isozymes by parsing GPR:\n",
    "    Parse GPR into a dict containing isozymes (separated by 'or'). Each isozyme has a set of subunits (separated by 'and') 'and' and 'or' can occur at the same time, or can occur by itself.\n",
    "    \n",
    "        Parameters\n",
    "        ----------\n",
    "        model : cobrapy model.\n",
    "        \n",
    "        \n",
    "        Returns\n",
    "        -------\n",
    "        gpr_dict: dictionary with isozymes.\n",
    "        \n",
    "\"\"\"\n",
    "#Code only works for GPRs written in disjunctive normal form (DNF). Majority of models have them in DNF but there are some exceptions. \n",
    "\n",
    "def create_gprdict(model):   \n",
    "    gpr_dict = dict()\n",
    "    for rxn in model.reactions:\n",
    "        if rxn.gene_reaction_rule:\n",
    "            temp = set()\n",
    "            for x in [x.strip('() ') for x in rxn.gene_reaction_rule.split(' or ')]:\n",
    "                temp.add(frozenset(y.strip('() ') for y in x.split(' and ')))\n",
    "            gpr_dict[rxn.id] = temp\n",
    "    return gpr_dict\n",
    "\n",
    "\"\"\"\n",
    "    Calculates bound value based on transcriptomics data for reactions in gene reaction rule\n",
    "    \n",
    "    NOTE: \n",
    "    If a reaction R1 has the GPR of 'A and B', it would be parsed to { {A, B} } in gpr_dict['R1']. Then t for R1 would be sum( [ min(A, B) ] ) = min(A, B).\n",
    "    If a reaction R1 has the GPR of 'A or B', it would be parsed to { {A}, {B} } in gpr_dict['R1']. Then t for R1 would be sum( [ min(A), min(B) ] ) = sum( [A, B] ).\n",
    "    If a reaction R1 has the GPR of '(A and B) or (C and D)', it would be parsed to { {A, B}, {C, D} } in gpr_dict['R1']. Then t for R1 would be sum( [ min(A, B), min(C, D) ] ).\n",
    "    \n",
    "        Parameters\n",
    "        ----------\n",
    "        model : cobrapy model.\n",
    "        Transcriptomics : pandas dataframe with transcriptomics data.Data frame has gene identifiers as index and just one column with transcript values.  \n",
    "        rxn : cobrapy model reaction\n",
    "        \n",
    "        \n",
    "        Returns\n",
    "        -------\n",
    "        transscript bound value: float.\n",
    "\"\"\"\n",
    "\n",
    "def findtransboundval_forgprrxns(model, Transcriptomics,rxn):\n",
    "    finaltransval = 0\n",
    "    for parallel_gene in create_gprdict(model)[rxn.id]:\n",
    "        transvals = []\n",
    "        for gene in parallel_gene:\n",
    "            if gene in Transcriptomics.index:\n",
    "                transvals.append(Transcriptomics.loc[gene].values)\n",
    "            else:\n",
    "                transvals.append(np.Inf)\n",
    "            mintransval=np.min(transvals)\n",
    "        finaltransval = finaltransval + mintransval\n",
    "    return finaltransval\n",
    "\n",
    "def SPOTTest(model, Transcriptomics):\n",
    "    \n",
    "    mets = [met.id for met in model.metabolites]\n",
    "    rxns = [rxn.id for rxn in model.reactions]\n",
    "    nrow = len(mets)\n",
    "    ncol = len(rxns)\n",
    "\n",
    "    rev_rxns = ['rev_'+rxn.id for rxn in model.reactions if rxn.reversibility]\n",
    "    rev_ncol = len(rev_rxns)\n",
    "    \n",
    "    \"\"\"Parse GPR into a dict containing isozymes (separated by 'or')\n",
    "    # Each isozyme has a set of subunits (separated by 'and')\n",
    "    #'and' and 'or' can occur at the same time, or can occur by itself.\"\"\"\n",
    "    #gpr_dict = create_gprdict(model)\n",
    "\n",
    "    lb = [0.0 if rxn.reversibility else rxn.lower_bound for rxn in model.reactions] + [0.0 for rxn in model.reactions if rxn.reversibility]\n",
    "    ub = [rxn.upper_bound for rxn in model.reactions] + [-rxn.lower_bound for rxn in model.reactions if rxn.reversibility]\n",
    "        \n",
    "    c = []\n",
    "    for rxn in model.reactions:\n",
    "        if rxn.gene_reaction_rule:\n",
    "        #If a reaction R1 has the GPR of 'A and B', it would be parsed to { {A, B} } in gpr_dict['R1']. Then t for R1 would be sum( [ min(A, B) ] ) = min(A, B).\n",
    "        #If a reaction R1 has the GPR of 'A or B', it would be parsed to { {A}, {B} } in gpr_dict['R1']. Then t for R1 would be sum( [ min(A), min(B) ] ) = sum( [A, B] ).\n",
    "        #If a reaction R1 has the GPR of '(A and B) or (C and D)', it would be parsed to { {A, B}, {C, D} } in gpr_dict['R1']. Then t for R1 would be sum( [ min(A, B), min(C, D) ] ).\n",
    "        \n",
    "#             t = np.sum([np.min([Transcriptomics.loc[g] if g in Transcriptomics.index \n",
    "#                                 else np.array([np.Inf]) for g in p])\n",
    "#                         for p in create_gprdict(model)[r.id]])\n",
    "            transboundval = findtransboundval_forgprrxns(model, Transcriptomics,rxn)\n",
    "            if transboundval == np.Inf:\n",
    "                transboundval = 0\n",
    "            c.append(transboundval)\n",
    "        else:\n",
    "            c.append(0.0)\n",
    "    for rxn in model.reactions:\n",
    "        if rxn.reversibility:\n",
    "            if rxn.gene_reaction_rule:\n",
    "                transboundval = findtransboundval_forgprrxns(model, Transcriptomics,rxn)\n",
    "                if transboundval == np.Inf:\n",
    "                    transboundval = 0\n",
    "                c.append(transboundval)\n",
    "            else:\n",
    "                c.append(0.0)\n",
    "\n",
    "    SPOT = cplex.Cplex()\n",
    "    SPOT.set_results_stream(None)\n",
    "    SPOT.parameters.simplex.tolerances.optimality.set(1e-9)\n",
    "    SPOT.parameters.simplex.tolerances.feasibility.set(1e-9)\n",
    "\n",
    "    SPOT.linear_constraints.add(rhs=[0]*nrow, senses='E'*nrow, names=mets)\n",
    "    SPOT.variables.add(obj=c, lb=lb, ub=ub, names=rxns+rev_rxns)\n",
    "    for rxn in model.reactions:\n",
    "        for met, v in rxn.metabolites.items():\n",
    "            SPOT.linear_constraints.set_coefficients(met.id, rxn.id, v)\n",
    "    for rxn in model.reactions:\n",
    "        if rxn.reversibility:\n",
    "            for met, v in rxn.metabolites.items():\n",
    "                SPOT.linear_constraints.set_coefficients(met.id, 'rev_'+rxn.id, -v)\n",
    "    SPOT.quadratic_constraints.add(quad_expr=[rxns+rev_rxns, rxns+rev_rxns, [1]*len(c)],\n",
    "                                   sense='L', rhs=1.0, name='L2norm')#L indicating <=\n",
    "    SPOT.objective.set_sense(SPOT.objective.sense.maximize)\n",
    "    display(SPOT)\n",
    "    SPOT.solve()\n",
    "    SPOT_sol = SPOT.solution.get_objective_value()\n",
    "\n",
    "    sol = type('',(),{})()\n",
    "    temp = pd.Series(data=SPOT.solution.get_values(), index=rxns+rev_rxns)\n",
    "    flux = temp.loc[rxns]\n",
    "    flux_rev = temp.loc[rev_rxns]\n",
    "    for rxn in model.reactions:\n",
    "        if rxn.reversibility:\n",
    "            flux.loc[rxn.id] = flux.loc[rxn.id] - flux_rev.loc['rev_'+rxn.id]\n",
    "    sol = flux\n",
    "    sol.objective_value = SPOT.solution.get_objective_value()\n",
    "    sol.status = SPOT.solution.get_status_string()\n",
    "    display(model.medium)\n",
    "    \n",
    "    return(sol)"
   ]
  },
  {
   "cell_type": "code",
   "execution_count": 27,
   "id": "3ea2087b-f77d-4eab-91cc-ffee8f013b89",
   "metadata": {},
   "outputs": [],
   "source": [
    "#Function for EFLUX2 and SPOT Predictions:\n",
    "def spotpred(model, transcriptdf, linename, substrate, sub_uptake_rate, conditionstring):    \n",
    "    with model:\n",
    "        medium = model.medium\n",
    "        if substrate=='phenol':\n",
    "            model.objective = 'Growth_Phenol'\n",
    "            model.reactions.get_by_id('Growth_Glucose').upper_bound = 0\n",
    "            model.reactions.get_by_id('Growth_Glucose').lower_bound = 0\n",
    "            medium = {key:1000 for (key,value) in model.medium.items()}\n",
    "            medium[\"EX_glc__D_e\"] = 0.0\n",
    "            #medium[\"EX_phenol_e\"] = sub_uptake_rate\n",
    "        elif substrate=='glucose':\n",
    "            model.objective = 'Growth_Glucose'\n",
    "            model.reactions.get_by_id('Growth_Phenol').upper_bound = 0\n",
    "            model.reactions.get_by_id('Growth_Phenol').lower_bound = 0\n",
    "            medium = {key:1000 for (key,value) in model.medium.items()}\n",
    "            #medium[\"EX_glc__D_e\"] = sub_uptake_rate\n",
    "            medium[\"EX_phenol_e\"] = 0.0\n",
    "        else:\n",
    "            print('Unknown substrate: Please choose among phenol and glucose')\n",
    "        model.medium = medium\n",
    "        spotsol = SPOT(model, transcriptdf)\n",
    "        display(model.medium)\n",
    "    return spotsol#, spotsol"
   ]
  },
  {
   "cell_type": "code",
   "execution_count": 28,
   "id": "38b4f7d3-4530-4d72-8e5b-9f0527393571",
   "metadata": {},
   "outputs": [],
   "source": [
    "#Function for predictions for three replicates and averaging the solutions and calculating the standard deviation:\n",
    "def spotpredthreereps(model, transcriptdf, linename1, linename2, linename3, substrate, sub_uptake_rate, conditionstring):\n",
    "    #call prediction functions for individual spot predictions for all 3 replicates:\n",
    "    transdata_R1 = constructTransdffrompred(transcriptdf, linename1, conditionstring)\n",
    "    transdata_R2 = constructTransdffrompred(transcriptdf, linename2, conditionstring)\n",
    "    transdata_R3 = constructTransdffrompred(transcriptdf, linename3, conditionstring)\n",
    " \n",
    "    spotsol_R1 = spotpred(model, transdata_R1, linename1, substrate, sub_uptake_rate, conditionstring)\n",
    "    spotsol_R2 = spotpred(model, transdata_R2, linename2, substrate, sub_uptake_rate, conditionstring)\n",
    "    spotsol_R3 = spotpred(model, transdata_R3, linename3, substrate, sub_uptake_rate, conditionstring)\n",
    "    \n",
    "    #spot calculations:\n",
    "    spotsol_R1_df = pd.DataFrame(spotsol_R1, columns=['fluxes'])\n",
    "    spotsol_R2_df = pd.DataFrame(spotsol_R2, columns=['fluxes'])\n",
    "    spotsol_R3_df = pd.DataFrame(spotsol_R3, columns=['fluxes'])\n",
    "    spotsol_all = pd.concat([spotsol_R1_df, spotsol_R2_df, spotsol_R3_df], axis=1)\n",
    "    \n",
    "    spotsol = pd.DataFrame(spotsol_all.mean(axis=1), columns=['fluxes'])\n",
    "    spotsol_std = spotsol_all.std(axis=1)\n",
    "    \n",
    "    return spotsol, spotsol_std"
   ]
  },
  {
   "cell_type": "code",
   "execution_count": 29,
   "id": "d4ac7fcf-a346-4134-bafe-da04ae70eeca",
   "metadata": {},
   "outputs": [
    {
     "data": {
      "text/plain": [
       "<cplex.Cplex at 0x7f85cd1c3490>"
      ]
     },
     "metadata": {},
     "output_type": "display_data"
    },
    {
     "data": {
      "text/plain": [
       "{'EX_h2o_e': 1000,\n",
       " 'EX_h_e': 1000,\n",
       " 'EX_cl_e': 1000,\n",
       " 'EX_pi_e': 1000,\n",
       " 'EX_nh4_e': 1000,\n",
       " 'EX_fe3_e': 1000,\n",
       " 'EX_k_e': 1000,\n",
       " 'EX_ca2_e': 1000,\n",
       " 'EX_mg2_e': 1000,\n",
       " 'EX_mn2_e': 1000,\n",
       " 'EX_cobalt2_e': 1000,\n",
       " 'EX_zn2_e': 1000,\n",
       " 'EX_cu2_e': 1000,\n",
       " 'EX_o2_e': 1000,\n",
       " 'EX_fe2_e': 1000,\n",
       " 'EX_mobd_e': 1000,\n",
       " 'EX_so4_e': 1000,\n",
       " 'EX_phenol_e': 1000.0}"
      ]
     },
     "metadata": {},
     "output_type": "display_data"
    },
    {
     "data": {
      "text/plain": [
       "{'EX_h2o_e': 1000,\n",
       " 'EX_h_e': 1000,\n",
       " 'EX_cl_e': 1000,\n",
       " 'EX_pi_e': 1000,\n",
       " 'EX_nh4_e': 1000,\n",
       " 'EX_fe3_e': 1000,\n",
       " 'EX_k_e': 1000,\n",
       " 'EX_ca2_e': 1000,\n",
       " 'EX_mg2_e': 1000,\n",
       " 'EX_mn2_e': 1000,\n",
       " 'EX_cobalt2_e': 1000,\n",
       " 'EX_zn2_e': 1000,\n",
       " 'EX_cu2_e': 1000,\n",
       " 'EX_o2_e': 1000,\n",
       " 'EX_fe2_e': 1000,\n",
       " 'EX_mobd_e': 1000,\n",
       " 'EX_so4_e': 1000,\n",
       " 'EX_phenol_e': 1000.0}"
      ]
     },
     "metadata": {},
     "output_type": "display_data"
    },
    {
     "data": {
      "text/plain": [
       "<cplex.Cplex at 0x7f85a880ea50>"
      ]
     },
     "metadata": {},
     "output_type": "display_data"
    },
    {
     "data": {
      "text/plain": [
       "{'EX_h2o_e': 1000,\n",
       " 'EX_h_e': 1000,\n",
       " 'EX_cl_e': 1000,\n",
       " 'EX_pi_e': 1000,\n",
       " 'EX_nh4_e': 1000,\n",
       " 'EX_fe3_e': 1000,\n",
       " 'EX_k_e': 1000,\n",
       " 'EX_ca2_e': 1000,\n",
       " 'EX_mg2_e': 1000,\n",
       " 'EX_mn2_e': 1000,\n",
       " 'EX_cobalt2_e': 1000,\n",
       " 'EX_zn2_e': 1000,\n",
       " 'EX_cu2_e': 1000,\n",
       " 'EX_o2_e': 1000,\n",
       " 'EX_fe2_e': 1000,\n",
       " 'EX_mobd_e': 1000,\n",
       " 'EX_so4_e': 1000,\n",
       " 'EX_phenol_e': 1000.0}"
      ]
     },
     "metadata": {},
     "output_type": "display_data"
    },
    {
     "data": {
      "text/plain": [
       "{'EX_h2o_e': 1000,\n",
       " 'EX_h_e': 1000,\n",
       " 'EX_cl_e': 1000,\n",
       " 'EX_pi_e': 1000,\n",
       " 'EX_nh4_e': 1000,\n",
       " 'EX_fe3_e': 1000,\n",
       " 'EX_k_e': 1000,\n",
       " 'EX_ca2_e': 1000,\n",
       " 'EX_mg2_e': 1000,\n",
       " 'EX_mn2_e': 1000,\n",
       " 'EX_cobalt2_e': 1000,\n",
       " 'EX_zn2_e': 1000,\n",
       " 'EX_cu2_e': 1000,\n",
       " 'EX_o2_e': 1000,\n",
       " 'EX_fe2_e': 1000,\n",
       " 'EX_mobd_e': 1000,\n",
       " 'EX_so4_e': 1000,\n",
       " 'EX_phenol_e': 1000.0}"
      ]
     },
     "metadata": {},
     "output_type": "display_data"
    },
    {
     "data": {
      "text/plain": [
       "<cplex.Cplex at 0x7f85a880ea50>"
      ]
     },
     "metadata": {},
     "output_type": "display_data"
    },
    {
     "data": {
      "text/plain": [
       "{'EX_h2o_e': 1000,\n",
       " 'EX_h_e': 1000,\n",
       " 'EX_cl_e': 1000,\n",
       " 'EX_pi_e': 1000,\n",
       " 'EX_nh4_e': 1000,\n",
       " 'EX_fe3_e': 1000,\n",
       " 'EX_k_e': 1000,\n",
       " 'EX_ca2_e': 1000,\n",
       " 'EX_mg2_e': 1000,\n",
       " 'EX_mn2_e': 1000,\n",
       " 'EX_cobalt2_e': 1000,\n",
       " 'EX_zn2_e': 1000,\n",
       " 'EX_cu2_e': 1000,\n",
       " 'EX_o2_e': 1000,\n",
       " 'EX_fe2_e': 1000,\n",
       " 'EX_mobd_e': 1000,\n",
       " 'EX_so4_e': 1000,\n",
       " 'EX_phenol_e': 1000.0}"
      ]
     },
     "metadata": {},
     "output_type": "display_data"
    },
    {
     "data": {
      "text/plain": [
       "{'EX_h2o_e': 1000,\n",
       " 'EX_h_e': 1000,\n",
       " 'EX_cl_e': 1000,\n",
       " 'EX_pi_e': 1000,\n",
       " 'EX_nh4_e': 1000,\n",
       " 'EX_fe3_e': 1000,\n",
       " 'EX_k_e': 1000,\n",
       " 'EX_ca2_e': 1000,\n",
       " 'EX_mg2_e': 1000,\n",
       " 'EX_mn2_e': 1000,\n",
       " 'EX_cobalt2_e': 1000,\n",
       " 'EX_zn2_e': 1000,\n",
       " 'EX_cu2_e': 1000,\n",
       " 'EX_o2_e': 1000,\n",
       " 'EX_fe2_e': 1000,\n",
       " 'EX_mobd_e': 1000,\n",
       " 'EX_so4_e': 1000,\n",
       " 'EX_phenol_e': 1000.0}"
      ]
     },
     "metadata": {},
     "output_type": "display_data"
    }
   ],
   "source": [
    "spotsol, spotsol_std = spotpredthreereps(model, df_Trans, 'WT-P-R1', 'WT-P-R2','WT-P-R3', 'phenol', 100, '0.5 g/l PHE as carbon source')#spotsol, spotsol_std = spotspotpredthreereps(model, df_Trans2, 'WT-P-R1', 'WT-P-R2','WT-P-R3', 'phenol', 100)"
   ]
  },
  {
   "cell_type": "markdown",
   "id": "d5aa324c-72f5-47f7-ac2f-ee0a869c19fe",
   "metadata": {},
   "source": [
    "##### **Save solution to data frame**"
   ]
  },
  {
   "cell_type": "code",
   "execution_count": 30,
   "id": "9097bda8-39f5-4f94-8af8-3377f589d93f",
   "metadata": {},
   "outputs": [],
   "source": [
    "spotsoldf = pd.DataFrame(spotsol, columns=['fluxes'])\n",
    "spotsolstddf = pd.DataFrame(spotsol_std, columns=['stds'])"
   ]
  },
  {
   "cell_type": "code",
   "execution_count": 31,
   "id": "5b183dc5-fe49-443d-b625-a734a8f7e641",
   "metadata": {},
   "outputs": [],
   "source": [
    "#spotsoldf"
   ]
  },
  {
   "cell_type": "markdown",
   "id": "1b33ad06-8746-4321-86ba-343dd59dbc27",
   "metadata": {},
   "source": [
    "##### **Check External Metabolites solution**"
   ]
  },
  {
   "cell_type": "code",
   "execution_count": 32,
   "id": "22b15791-a8ca-4470-8c26-8a446cc08cb1",
   "metadata": {},
   "outputs": [],
   "source": [
    "exchange_list = []\n",
    "for ind in spotsoldf.index:\n",
    "    if 'EX_' in str(ind):\n",
    "        exchange_list.append(ind)\n",
    "#exchange_list"
   ]
  },
  {
   "cell_type": "code",
   "execution_count": 33,
   "id": "ce2993f9-6d63-419e-a40d-f5ca3c2ed5a5",
   "metadata": {},
   "outputs": [
    {
     "data": {
      "text/plain": [
       "fluxes   -0.034485\n",
       "Name: EX_h2o_e, dtype: float64"
      ]
     },
     "metadata": {},
     "output_type": "display_data"
    },
    {
     "data": {
      "text/plain": [
       "fluxes    0.141762\n",
       "Name: EX_h_e, dtype: float64"
      ]
     },
     "metadata": {},
     "output_type": "display_data"
    },
    {
     "data": {
      "text/plain": [
       "fluxes    0.001379\n",
       "Name: EX_leu__L_e, dtype: float64"
      ]
     },
     "metadata": {},
     "output_type": "display_data"
    },
    {
     "data": {
      "text/plain": [
       "fluxes    0.004107\n",
       "Name: EX_acac_e, dtype: float64"
      ]
     },
     "metadata": {},
     "output_type": "display_data"
    },
    {
     "data": {
      "text/plain": [
       "fluxes    0.002868\n",
       "Name: EX_acald_e, dtype: float64"
      ]
     },
     "metadata": {},
     "output_type": "display_data"
    },
    {
     "data": {
      "text/plain": [
       "fluxes   -0.003311\n",
       "Name: EX_nh4_e, dtype: float64"
      ]
     },
     "metadata": {},
     "output_type": "display_data"
    },
    {
     "data": {
      "text/plain": [
       "fluxes    0.064963\n",
       "Name: EX_succ_e, dtype: float64"
      ]
     },
     "metadata": {},
     "output_type": "display_data"
    },
    {
     "data": {
      "text/plain": [
       "fluxes    0.110089\n",
       "Name: EX_co2_e, dtype: float64"
      ]
     },
     "metadata": {},
     "output_type": "display_data"
    },
    {
     "data": {
      "text/plain": [
       "fluxes   -0.201773\n",
       "Name: EX_o2_e, dtype: float64"
      ]
     },
     "metadata": {},
     "output_type": "display_data"
    },
    {
     "data": {
      "text/plain": [
       "fluxes    0.002211\n",
       "Name: EX_fum_e, dtype: float64"
      ]
     },
     "metadata": {},
     "output_type": "display_data"
    },
    {
     "data": {
      "text/plain": [
       "fluxes    0.000254\n",
       "Name: EX_pdima_e, dtype: float64"
      ]
     },
     "metadata": {},
     "output_type": "display_data"
    },
    {
     "data": {
      "text/plain": [
       "fluxes    0.001951\n",
       "Name: EX_val__L_e, dtype: float64"
      ]
     },
     "metadata": {},
     "output_type": "display_data"
    },
    {
     "data": {
      "text/plain": [
       "fluxes   -0.073866\n",
       "Name: EX_phenol_e, dtype: float64"
      ]
     },
     "metadata": {},
     "output_type": "display_data"
    }
   ],
   "source": [
    "spotsoldf.loc[exchange_list,:]\n",
    "for i in exchange_list:\n",
    "    if abs(spotsoldf.loc[i,:].values)>=0.0001:\n",
    "        display(spotsoldf.loc[i,:])\n",
    "    "
   ]
  },
  {
   "cell_type": "markdown",
   "id": "99ac2088-bf11-43fc-87b2-fc072018481d",
   "metadata": {},
   "source": [
    "##### **Check FBA solution**"
   ]
  },
  {
   "cell_type": "code",
   "execution_count": 34,
   "id": "4e63a0ef-8804-4328-a6b1-dd1385255069",
   "metadata": {},
   "outputs": [
    {
     "name": "stdout",
     "output_type": "stream",
     "text": [
      "Unbounded FBA status optimal\n",
      "Unbounded FBA solution 0.23577895481228953\n"
     ]
    }
   ],
   "source": [
    "with model:\n",
    "    medium = model.medium\n",
    "    model.objective = 'Growth_Phenol'\n",
    "    model.reactions.get_by_id('Growth_Glucose').upper_bound = 0\n",
    "    model.reactions.get_by_id('Growth_Glucose').lower_bound = 0\n",
    "    #sub_uptake_rate = 1.76124# just copied value to test it#growthandsubstrdata.loc[index,'substrate_consumption_rate']\n",
    "    medium[\"EX_glc__D_e\"] = 0.0\n",
    "    #medium[\"EX_phenol_e\"] = sub_uptake_rate\n",
    "    model.medium = medium\n",
    "    # solve FBA to calculate the maximum biomass\n",
    "    boundedfba_sol = model.optimize()\n",
    "    print('Unbounded FBA status', boundedfba_sol.status)\n",
    "    print('Unbounded FBA solution', boundedfba_sol.objective_value)"
   ]
  },
  {
   "cell_type": "markdown",
   "id": "2b8aa3d3-8991-4086-958b-157470bada5d",
   "metadata": {},
   "source": [
    "##### **Add Phenol EFLUX2 and SPOT flux values to phenol fluxes dataframe**"
   ]
  },
  {
   "cell_type": "code",
   "execution_count": 35,
   "id": "7677fce2-966c-405f-9ac0-e0955f257d41",
   "metadata": {},
   "outputs": [],
   "source": [
    "#spotsolstddf"
   ]
  },
  {
   "cell_type": "code",
   "execution_count": 36,
   "id": "4abf8362-addf-4f9a-8723-a982eafb6a7d",
   "metadata": {},
   "outputs": [],
   "source": [
    "obspred_fluxesnew = addpredfluxes_to13cdf(obspred_fluxes, spotsoldf, spotsolstddf, 'phenol', 'SPOT')"
   ]
  },
  {
   "cell_type": "code",
   "execution_count": 37,
   "id": "f0e77451-14e3-4479-bb5e-1841b2b2ea49",
   "metadata": {},
   "outputs": [
    {
     "data": {
      "text/html": [
       "<div>\n",
       "<style scoped>\n",
       "    .dataframe tbody tr th:only-of-type {\n",
       "        vertical-align: middle;\n",
       "    }\n",
       "\n",
       "    .dataframe tbody tr th {\n",
       "        vertical-align: top;\n",
       "    }\n",
       "\n",
       "    .dataframe thead th {\n",
       "        text-align: right;\n",
       "    }\n",
       "</style>\n",
       "<table border=\"1\" class=\"dataframe\">\n",
       "  <thead>\n",
       "    <tr style=\"text-align: right;\">\n",
       "      <th></th>\n",
       "      <th>Pathway</th>\n",
       "      <th>Forward Reactions</th>\n",
       "      <th>Reaction</th>\n",
       "      <th>Flux</th>\n",
       "      <th>90% Confidence Lower Bound</th>\n",
       "      <th>90% Confidence Upper Bound</th>\n",
       "      <th>EFLUX2 Value</th>\n",
       "      <th>EFLUX2 std Value</th>\n",
       "      <th>SPOT Value</th>\n",
       "      <th>SPOT std Value</th>\n",
       "    </tr>\n",
       "  </thead>\n",
       "  <tbody>\n",
       "    <tr>\n",
       "      <th>0</th>\n",
       "      <td>Phenol Uptake</td>\n",
       "      <td>PHEMOX</td>\n",
       "      <td>Phenol.ext -&gt; AcCoA + SucCoA</td>\n",
       "      <td>1.000000e+02</td>\n",
       "      <td>1.000000e+02</td>\n",
       "      <td>100.0000</td>\n",
       "      <td>100.000000</td>\n",
       "      <td>18.478483</td>\n",
       "      <td>100.000000</td>\n",
       "      <td>4.719711e+01</td>\n",
       "    </tr>\n",
       "    <tr>\n",
       "      <th>1</th>\n",
       "      <td>TCA Cycle</td>\n",
       "      <td>PDH</td>\n",
       "      <td>Pyr &lt;-&gt; AcCoA + CO2 + NADH</td>\n",
       "      <td>5.923270e+01</td>\n",
       "      <td>5.668260e+01</td>\n",
       "      <td>62.0459</td>\n",
       "      <td>18.841475</td>\n",
       "      <td>16.836210</td>\n",
       "      <td>0.001222</td>\n",
       "      <td>1.770673e-06</td>\n",
       "    </tr>\n",
       "    <tr>\n",
       "      <th>2</th>\n",
       "      <td>TCA Cycle</td>\n",
       "      <td>CS or reverse_CITL</td>\n",
       "      <td>OAC + AcCoA -&gt; Cit</td>\n",
       "      <td>1.144391e+02</td>\n",
       "      <td>1.102766e+02</td>\n",
       "      <td>118.4800</td>\n",
       "      <td>111.153542</td>\n",
       "      <td>16.664205</td>\n",
       "      <td>72.971231</td>\n",
       "      <td>1.743794e+01</td>\n",
       "    </tr>\n",
       "    <tr>\n",
       "      <th>3</th>\n",
       "      <td>TCA Cycle</td>\n",
       "      <td>ACONT or ( ACONTa and ACONTb)</td>\n",
       "      <td>Cit -&gt; ICit</td>\n",
       "      <td>1.144391e+02</td>\n",
       "      <td>1.102766e+02</td>\n",
       "      <td>118.4800</td>\n",
       "      <td>111.153542</td>\n",
       "      <td>16.664205</td>\n",
       "      <td>72.971782</td>\n",
       "      <td>1.796730e+01</td>\n",
       "    </tr>\n",
       "    <tr>\n",
       "      <th>4</th>\n",
       "      <td>TCA Cycle</td>\n",
       "      <td>ICDHx or ICDHyr</td>\n",
       "      <td>ICit -&gt; AKG + CO2 + NADPH</td>\n",
       "      <td>1.134677e+02</td>\n",
       "      <td>1.068011e+02</td>\n",
       "      <td>118.4800</td>\n",
       "      <td>108.176626</td>\n",
       "      <td>37.078275</td>\n",
       "      <td>-0.005474</td>\n",
       "      <td>3.016220e+00</td>\n",
       "    </tr>\n",
       "    <tr>\n",
       "      <th>5</th>\n",
       "      <td>TCA Cycle</td>\n",
       "      <td>AKGDH or OOR3r</td>\n",
       "      <td>AKG -&gt; SucCoA + CO2 + NADH</td>\n",
       "      <td>1.086053e+02</td>\n",
       "      <td>1.017297e+02</td>\n",
       "      <td>113.8305</td>\n",
       "      <td>64.730854</td>\n",
       "      <td>21.672505</td>\n",
       "      <td>-0.000915</td>\n",
       "      <td>3.125723e-07</td>\n",
       "    </tr>\n",
       "    <tr>\n",
       "      <th>6</th>\n",
       "      <td>TCA Cycle</td>\n",
       "      <td>3OADPCOAT or OCOAT3r or SUCBZT1 or SUCBZT2 or ...</td>\n",
       "      <td>SucCoA -&gt; Suc + ATP</td>\n",
       "      <td>2.074789e+02</td>\n",
       "      <td>2.005620e+02</td>\n",
       "      <td>212.7536</td>\n",
       "      <td>161.722189</td>\n",
       "      <td>-7.230408</td>\n",
       "      <td>96.566685</td>\n",
       "      <td>4.369577e+01</td>\n",
       "    </tr>\n",
       "    <tr>\n",
       "      <th>7</th>\n",
       "      <td>TCA Cycle</td>\n",
       "      <td>SUCDi or reverse_FRD2 or reverse_FRD3 or rever...</td>\n",
       "      <td>Suc -&gt; Fum + FADH2</td>\n",
       "      <td>2.085767e+02</td>\n",
       "      <td>2.032666e+02</td>\n",
       "      <td>212.8305</td>\n",
       "      <td>155.382382</td>\n",
       "      <td>32.393599</td>\n",
       "      <td>81.594131</td>\n",
       "      <td>2.337426e+01</td>\n",
       "    </tr>\n",
       "    <tr>\n",
       "      <th>8</th>\n",
       "      <td>TCA Cycle</td>\n",
       "      <td>FUM</td>\n",
       "      <td>Fum -&gt; Mal</td>\n",
       "      <td>2.096703e+02</td>\n",
       "      <td>2.043514e+02</td>\n",
       "      <td>213.8762</td>\n",
       "      <td>171.759318</td>\n",
       "      <td>22.409144</td>\n",
       "      <td>78.599540</td>\n",
       "      <td>2.023639e+01</td>\n",
       "    </tr>\n",
       "    <tr>\n",
       "      <th>9</th>\n",
       "      <td>TCA Cycle</td>\n",
       "      <td>MDH or MDH3 or MDH2 or DMALRED</td>\n",
       "      <td>Mal -&gt; OAC + NADH</td>\n",
       "      <td>1.710231e+02</td>\n",
       "      <td>1.292999e+02</td>\n",
       "      <td>174.5648</td>\n",
       "      <td>169.003767</td>\n",
       "      <td>19.870871</td>\n",
       "      <td>91.816716</td>\n",
       "      <td>9.636695e+00</td>\n",
       "    </tr>\n",
       "    <tr>\n",
       "      <th>10</th>\n",
       "      <td>Anaplerotic Reactions</td>\n",
       "      <td>PEPCK_re or PPCK</td>\n",
       "      <td>OAC + ATP -&gt; PEP + CO2</td>\n",
       "      <td>9.777180e+01</td>\n",
       "      <td>1.292690e+01</td>\n",
       "      <td>100.0000</td>\n",
       "      <td>54.506091</td>\n",
       "      <td>27.425276</td>\n",
       "      <td>50.913214</td>\n",
       "      <td>2.376601e+01</td>\n",
       "    </tr>\n",
       "    <tr>\n",
       "      <th>11</th>\n",
       "      <td>Anaplerotic Reactions</td>\n",
       "      <td>PPC</td>\n",
       "      <td>PEP + CO2 -&gt; OAC</td>\n",
       "      <td>4.890390e+01</td>\n",
       "      <td>0.000000e+00</td>\n",
       "      <td>59.1635</td>\n",
       "      <td>0.000000</td>\n",
       "      <td>0.000000</td>\n",
       "      <td>0.003624</td>\n",
       "      <td>4.546222e-06</td>\n",
       "    </tr>\n",
       "    <tr>\n",
       "      <th>12</th>\n",
       "      <td>Anaplerotic Reactions</td>\n",
       "      <td>PC</td>\n",
       "      <td>Pyr + CO2 + ATP -&gt; OAC</td>\n",
       "      <td>1.000000e-07</td>\n",
       "      <td>0.000000e+00</td>\n",
       "      <td>44.8577</td>\n",
       "      <td>6.789092</td>\n",
       "      <td>11.759053</td>\n",
       "      <td>32.058248</td>\n",
       "      <td>1.706185e+01</td>\n",
       "    </tr>\n",
       "    <tr>\n",
       "      <th>13</th>\n",
       "      <td>Anaplerotic Reactions</td>\n",
       "      <td>ME1 or ME2</td>\n",
       "      <td>Mal &lt;-&gt; Pyr + CO2 + NADH</td>\n",
       "      <td>3.961870e+01</td>\n",
       "      <td>3.704340e+01</td>\n",
       "      <td>100.0000</td>\n",
       "      <td>5.734358</td>\n",
       "      <td>6.152564</td>\n",
       "      <td>0.000533</td>\n",
       "      <td>3.437738e-07</td>\n",
       "    </tr>\n",
       "    <tr>\n",
       "      <th>14</th>\n",
       "      <td>Glyoxylate Shunt</td>\n",
       "      <td>ICL</td>\n",
       "      <td>ICit -&gt; Glyox + Suc</td>\n",
       "      <td>9.714000e-01</td>\n",
       "      <td>7.110000e-15</td>\n",
       "      <td>4.5567</td>\n",
       "      <td>2.976916</td>\n",
       "      <td>5.156170</td>\n",
       "      <td>72.977255</td>\n",
       "      <td>1.744067e+01</td>\n",
       "    </tr>\n",
       "    <tr>\n",
       "      <th>15</th>\n",
       "      <td>Glyoxylate Shunt</td>\n",
       "      <td>MALS</td>\n",
       "      <td>Glyox + AcCoA -&gt; Mal</td>\n",
       "      <td>9.714000e-01</td>\n",
       "      <td>0.000000e+00</td>\n",
       "      <td>4.5567</td>\n",
       "      <td>2.978807</td>\n",
       "      <td>5.159444</td>\n",
       "      <td>13.217445</td>\n",
       "      <td>1.566707e+01</td>\n",
       "    </tr>\n",
       "    <tr>\n",
       "      <th>16</th>\n",
       "      <td>ED Pathway</td>\n",
       "      <td>reverse_EDD</td>\n",
       "      <td>Pyr + GAP &lt;-&gt; KDPG</td>\n",
       "      <td>1.041300e+00</td>\n",
       "      <td>2.447000e-01</td>\n",
       "      <td>2.5243</td>\n",
       "      <td>0.000000</td>\n",
       "      <td>0.000000</td>\n",
       "      <td>0.000122</td>\n",
       "      <td>-1.518307e-07</td>\n",
       "    </tr>\n",
       "    <tr>\n",
       "      <th>17</th>\n",
       "      <td>ED Pathway</td>\n",
       "      <td>reverse_EDA</td>\n",
       "      <td>KDPG &lt;-&gt; 6PG</td>\n",
       "      <td>1.041300e+00</td>\n",
       "      <td>2.447000e-01</td>\n",
       "      <td>2.5243</td>\n",
       "      <td>0.000000</td>\n",
       "      <td>0.000000</td>\n",
       "      <td>-0.000367</td>\n",
       "      <td>-8.499916e-08</td>\n",
       "    </tr>\n",
       "    <tr>\n",
       "      <th>18</th>\n",
       "      <td>EMP Pathway</td>\n",
       "      <td>PPS or reverse_FRUpts2pp or reverse_SBTpts or ...</td>\n",
       "      <td>PEP &lt;-&gt; Pyr + ATP</td>\n",
       "      <td>2.999990e+01</td>\n",
       "      <td>0.000000e+00</td>\n",
       "      <td>30.0000</td>\n",
       "      <td>7.056541</td>\n",
       "      <td>12.222287</td>\n",
       "      <td>-55.122909</td>\n",
       "      <td>-2.517052e+01</td>\n",
       "    </tr>\n",
       "    <tr>\n",
       "      <th>25</th>\n",
       "      <td>Pentose Phosphate Pathway</td>\n",
       "      <td>G6PDH2r and PGL</td>\n",
       "      <td>G6P &lt;-&gt; 6PG + NADPH</td>\n",
       "      <td>-5.767000e-01</td>\n",
       "      <td>-2.018100e+00</td>\n",
       "      <td>0.3824</td>\n",
       "      <td>0.000000</td>\n",
       "      <td>0.000000</td>\n",
       "      <td>-0.002693</td>\n",
       "      <td>7.112108e-07</td>\n",
       "    </tr>\n",
       "    <tr>\n",
       "      <th>26</th>\n",
       "      <td>Pentose Phosphate Pathway</td>\n",
       "      <td>GND</td>\n",
       "      <td>6PG &lt;-&gt; Ru5P + CO2 + NADPH</td>\n",
       "      <td>4.646000e-01</td>\n",
       "      <td>-1.659900e+00</td>\n",
       "      <td>1.8755</td>\n",
       "      <td>0.000000</td>\n",
       "      <td>0.000000</td>\n",
       "      <td>0.001049</td>\n",
       "      <td>9.939949e-07</td>\n",
       "    </tr>\n",
       "    <tr>\n",
       "      <th>27</th>\n",
       "      <td>Pentose Phosphate Pathway</td>\n",
       "      <td>RPE</td>\n",
       "      <td>Ru5P &lt;-&gt; X5P</td>\n",
       "      <td>-1.187400e+00</td>\n",
       "      <td>-2.611500e+00</td>\n",
       "      <td>-0.2468</td>\n",
       "      <td>-3.566261</td>\n",
       "      <td>0.350149</td>\n",
       "      <td>0.004202</td>\n",
       "      <td>2.151273e-06</td>\n",
       "    </tr>\n",
       "    <tr>\n",
       "      <th>28</th>\n",
       "      <td>Pentose Phosphate Pathway</td>\n",
       "      <td>reverse_RPI</td>\n",
       "      <td>Ru5P &lt;-&gt; R5P</td>\n",
       "      <td>1.652100e+00</td>\n",
       "      <td>9.081000e-01</td>\n",
       "      <td>2.1385</td>\n",
       "      <td>3.560697</td>\n",
       "      <td>-0.349603</td>\n",
       "      <td>-0.002847</td>\n",
       "      <td>-1.100031e-06</td>\n",
       "    </tr>\n",
       "    <tr>\n",
       "      <th>62</th>\n",
       "      <td>Transhydrogenation</td>\n",
       "      <td>FRNDPR2r or FLNDPR2r or reverse_NADTRHD</td>\n",
       "      <td>NADH &lt;-&gt; NADPH</td>\n",
       "      <td>1.443160e+01</td>\n",
       "      <td>1.108700e+00</td>\n",
       "      <td>27.2447</td>\n",
       "      <td>0.000000</td>\n",
       "      <td>0.000000</td>\n",
       "      <td>2.258867</td>\n",
       "      <td>3.235504e+00</td>\n",
       "    </tr>\n",
       "    <tr>\n",
       "      <th>63</th>\n",
       "      <td>Transport</td>\n",
       "      <td>ATPM</td>\n",
       "      <td>ATP -&gt; ATP.ext</td>\n",
       "      <td>6.800864e+02</td>\n",
       "      <td>6.131475e+02</td>\n",
       "      <td>787.5166</td>\n",
       "      <td>0.000000</td>\n",
       "      <td>0.000000</td>\n",
       "      <td>-0.000458</td>\n",
       "      <td>1.120204e-07</td>\n",
       "    </tr>\n",
       "    <tr>\n",
       "      <th>64</th>\n",
       "      <td>Transport</td>\n",
       "      <td>reverse_CO2t</td>\n",
       "      <td>CO2 -&gt; CO2.ext</td>\n",
       "      <td>3.764570e+02</td>\n",
       "      <td>3.650427e+02</td>\n",
       "      <td>386.6854</td>\n",
       "      <td>400.259729</td>\n",
       "      <td>-98.423346</td>\n",
       "      <td>149.038578</td>\n",
       "      <td>-3.854200e+01</td>\n",
       "    </tr>\n",
       "    <tr>\n",
       "      <th>66</th>\n",
       "      <td>Transport</td>\n",
       "      <td>O2t</td>\n",
       "      <td>O2.ext -&gt; O2</td>\n",
       "      <td>4.336956e+02</td>\n",
       "      <td>4.207564e+02</td>\n",
       "      <td>445.9396</td>\n",
       "      <td>501.106442</td>\n",
       "      <td>116.787336</td>\n",
       "      <td>273.161521</td>\n",
       "      <td>8.453863e+01</td>\n",
       "    </tr>\n",
       "    <tr>\n",
       "      <th>67</th>\n",
       "      <td>Transport</td>\n",
       "      <td>NH4t</td>\n",
       "      <td>NH3.ext -&gt; NH3</td>\n",
       "      <td>2.575270e+01</td>\n",
       "      <td>2.412740e+01</td>\n",
       "      <td>27.0206</td>\n",
       "      <td>28.014071</td>\n",
       "      <td>2.750772</td>\n",
       "      <td>2.988935</td>\n",
       "      <td>2.717035e+00</td>\n",
       "    </tr>\n",
       "    <tr>\n",
       "      <th>68</th>\n",
       "      <td>Transport</td>\n",
       "      <td>Growth or Growth_Phenol or Growth_Glucose</td>\n",
       "      <td>SO4.ext -&gt; SO4</td>\n",
       "      <td>4.177000e-01</td>\n",
       "      <td>3.913000e-01</td>\n",
       "      <td>0.4383</td>\n",
       "      <td>6.439213</td>\n",
       "      <td>0.632283</td>\n",
       "      <td>-0.000879</td>\n",
       "      <td>1.772475e-07</td>\n",
       "    </tr>\n",
       "  </tbody>\n",
       "</table>\n",
       "</div>"
      ],
      "text/plain": [
       "                      Pathway  \\\n",
       "0               Phenol Uptake   \n",
       "1                   TCA Cycle   \n",
       "2                   TCA Cycle   \n",
       "3                   TCA Cycle   \n",
       "4                   TCA Cycle   \n",
       "5                   TCA Cycle   \n",
       "6                   TCA Cycle   \n",
       "7                   TCA Cycle   \n",
       "8                   TCA Cycle   \n",
       "9                   TCA Cycle   \n",
       "10      Anaplerotic Reactions   \n",
       "11      Anaplerotic Reactions   \n",
       "12      Anaplerotic Reactions   \n",
       "13      Anaplerotic Reactions   \n",
       "14           Glyoxylate Shunt   \n",
       "15           Glyoxylate Shunt   \n",
       "16                 ED Pathway   \n",
       "17                 ED Pathway   \n",
       "18                EMP Pathway   \n",
       "25  Pentose Phosphate Pathway   \n",
       "26  Pentose Phosphate Pathway   \n",
       "27  Pentose Phosphate Pathway   \n",
       "28  Pentose Phosphate Pathway   \n",
       "62         Transhydrogenation   \n",
       "63                  Transport   \n",
       "64                  Transport   \n",
       "66                  Transport   \n",
       "67                  Transport   \n",
       "68                  Transport   \n",
       "\n",
       "                                    Forward Reactions  \\\n",
       "0                                              PHEMOX   \n",
       "1                                                 PDH   \n",
       "2                                  CS or reverse_CITL   \n",
       "3                       ACONT or ( ACONTa and ACONTb)   \n",
       "4                                     ICDHx or ICDHyr   \n",
       "5                                      AKGDH or OOR3r   \n",
       "6   3OADPCOAT or OCOAT3r or SUCBZT1 or SUCBZT2 or ...   \n",
       "7   SUCDi or reverse_FRD2 or reverse_FRD3 or rever...   \n",
       "8                                                 FUM   \n",
       "9                      MDH or MDH3 or MDH2 or DMALRED   \n",
       "10                                   PEPCK_re or PPCK   \n",
       "11                                                PPC   \n",
       "12                                                 PC   \n",
       "13                                         ME1 or ME2   \n",
       "14                                                ICL   \n",
       "15                                               MALS   \n",
       "16                                        reverse_EDD   \n",
       "17                                        reverse_EDA   \n",
       "18  PPS or reverse_FRUpts2pp or reverse_SBTpts or ...   \n",
       "25                                    G6PDH2r and PGL   \n",
       "26                                                GND   \n",
       "27                                                RPE   \n",
       "28                                        reverse_RPI   \n",
       "62            FRNDPR2r or FLNDPR2r or reverse_NADTRHD   \n",
       "63                                               ATPM   \n",
       "64                                       reverse_CO2t   \n",
       "66                                                O2t   \n",
       "67                                               NH4t   \n",
       "68          Growth or Growth_Phenol or Growth_Glucose   \n",
       "\n",
       "                        Reaction          Flux  90% Confidence Lower Bound  \\\n",
       "0   Phenol.ext -> AcCoA + SucCoA  1.000000e+02                1.000000e+02   \n",
       "1     Pyr <-> AcCoA + CO2 + NADH  5.923270e+01                5.668260e+01   \n",
       "2             OAC + AcCoA -> Cit  1.144391e+02                1.102766e+02   \n",
       "3                    Cit -> ICit  1.144391e+02                1.102766e+02   \n",
       "4      ICit -> AKG + CO2 + NADPH  1.134677e+02                1.068011e+02   \n",
       "5     AKG -> SucCoA + CO2 + NADH  1.086053e+02                1.017297e+02   \n",
       "6            SucCoA -> Suc + ATP  2.074789e+02                2.005620e+02   \n",
       "7             Suc -> Fum + FADH2  2.085767e+02                2.032666e+02   \n",
       "8                     Fum -> Mal  2.096703e+02                2.043514e+02   \n",
       "9              Mal -> OAC + NADH  1.710231e+02                1.292999e+02   \n",
       "10        OAC + ATP -> PEP + CO2  9.777180e+01                1.292690e+01   \n",
       "11              PEP + CO2 -> OAC  4.890390e+01                0.000000e+00   \n",
       "12        Pyr + CO2 + ATP -> OAC  1.000000e-07                0.000000e+00   \n",
       "13      Mal <-> Pyr + CO2 + NADH  3.961870e+01                3.704340e+01   \n",
       "14           ICit -> Glyox + Suc  9.714000e-01                7.110000e-15   \n",
       "15          Glyox + AcCoA -> Mal  9.714000e-01                0.000000e+00   \n",
       "16            Pyr + GAP <-> KDPG  1.041300e+00                2.447000e-01   \n",
       "17                  KDPG <-> 6PG  1.041300e+00                2.447000e-01   \n",
       "18             PEP <-> Pyr + ATP  2.999990e+01                0.000000e+00   \n",
       "25           G6P <-> 6PG + NADPH -5.767000e-01               -2.018100e+00   \n",
       "26    6PG <-> Ru5P + CO2 + NADPH  4.646000e-01               -1.659900e+00   \n",
       "27                  Ru5P <-> X5P -1.187400e+00               -2.611500e+00   \n",
       "28                  Ru5P <-> R5P  1.652100e+00                9.081000e-01   \n",
       "62                NADH <-> NADPH  1.443160e+01                1.108700e+00   \n",
       "63                ATP -> ATP.ext  6.800864e+02                6.131475e+02   \n",
       "64                CO2 -> CO2.ext  3.764570e+02                3.650427e+02   \n",
       "66                  O2.ext -> O2  4.336956e+02                4.207564e+02   \n",
       "67                NH3.ext -> NH3  2.575270e+01                2.412740e+01   \n",
       "68                SO4.ext -> SO4  4.177000e-01                3.913000e-01   \n",
       "\n",
       "    90% Confidence Upper Bound  EFLUX2 Value  EFLUX2 std Value  SPOT Value  \\\n",
       "0                     100.0000    100.000000         18.478483  100.000000   \n",
       "1                      62.0459     18.841475         16.836210    0.001222   \n",
       "2                     118.4800    111.153542         16.664205   72.971231   \n",
       "3                     118.4800    111.153542         16.664205   72.971782   \n",
       "4                     118.4800    108.176626         37.078275   -0.005474   \n",
       "5                     113.8305     64.730854         21.672505   -0.000915   \n",
       "6                     212.7536    161.722189         -7.230408   96.566685   \n",
       "7                     212.8305    155.382382         32.393599   81.594131   \n",
       "8                     213.8762    171.759318         22.409144   78.599540   \n",
       "9                     174.5648    169.003767         19.870871   91.816716   \n",
       "10                    100.0000     54.506091         27.425276   50.913214   \n",
       "11                     59.1635      0.000000          0.000000    0.003624   \n",
       "12                     44.8577      6.789092         11.759053   32.058248   \n",
       "13                    100.0000      5.734358          6.152564    0.000533   \n",
       "14                      4.5567      2.976916          5.156170   72.977255   \n",
       "15                      4.5567      2.978807          5.159444   13.217445   \n",
       "16                      2.5243      0.000000          0.000000    0.000122   \n",
       "17                      2.5243      0.000000          0.000000   -0.000367   \n",
       "18                     30.0000      7.056541         12.222287  -55.122909   \n",
       "25                      0.3824      0.000000          0.000000   -0.002693   \n",
       "26                      1.8755      0.000000          0.000000    0.001049   \n",
       "27                     -0.2468     -3.566261          0.350149    0.004202   \n",
       "28                      2.1385      3.560697         -0.349603   -0.002847   \n",
       "62                     27.2447      0.000000          0.000000    2.258867   \n",
       "63                    787.5166      0.000000          0.000000   -0.000458   \n",
       "64                    386.6854    400.259729        -98.423346  149.038578   \n",
       "66                    445.9396    501.106442        116.787336  273.161521   \n",
       "67                     27.0206     28.014071          2.750772    2.988935   \n",
       "68                      0.4383      6.439213          0.632283   -0.000879   \n",
       "\n",
       "    SPOT std Value  \n",
       "0     4.719711e+01  \n",
       "1     1.770673e-06  \n",
       "2     1.743794e+01  \n",
       "3     1.796730e+01  \n",
       "4     3.016220e+00  \n",
       "5     3.125723e-07  \n",
       "6     4.369577e+01  \n",
       "7     2.337426e+01  \n",
       "8     2.023639e+01  \n",
       "9     9.636695e+00  \n",
       "10    2.376601e+01  \n",
       "11    4.546222e-06  \n",
       "12    1.706185e+01  \n",
       "13    3.437738e-07  \n",
       "14    1.744067e+01  \n",
       "15    1.566707e+01  \n",
       "16   -1.518307e-07  \n",
       "17   -8.499916e-08  \n",
       "18   -2.517052e+01  \n",
       "25    7.112108e-07  \n",
       "26    9.939949e-07  \n",
       "27    2.151273e-06  \n",
       "28   -1.100031e-06  \n",
       "62    3.235504e+00  \n",
       "63    1.120204e-07  \n",
       "64   -3.854200e+01  \n",
       "66    8.453863e+01  \n",
       "67    2.717035e+00  \n",
       "68    1.772475e-07  "
      ]
     },
     "execution_count": 37,
     "metadata": {},
     "output_type": "execute_result"
    }
   ],
   "source": [
    "obspred_fluxesnew"
   ]
  },
  {
   "cell_type": "markdown",
   "id": "3405a23c-f218-4801-a279-46677c3ba169",
   "metadata": {},
   "source": [
    "### Plot SPOT vs 13C MFA"
   ]
  },
  {
   "cell_type": "code",
   "execution_count": 38,
   "id": "816e8418-e77c-4ecd-a9f7-397d3381a1e0",
   "metadata": {},
   "outputs": [
    {
     "data": {
      "image/png": "[encoded data removed]",
      "text/plain": [
       "<Figure size 576x576 with 1 Axes>"
      ]
     },
     "metadata": {
      "needs_background": "light"
     },
     "output_type": "display_data"
    }
   ],
   "source": [
    "scatterplotcomp_obs_vs_pred(obspred_fluxesnew, substrate='phenol', method='SPOT')"
   ]
  },
  {
   "cell_type": "code",
   "execution_count": 39,
   "id": "a1ef9ede-7052-4082-97e9-f68531ce8c85",
   "metadata": {},
   "outputs": [
    {
     "data": {
      "image/png": "[encoded data removed]",
      "text/plain": [
       "<Figure size 576x576 with 1 Axes>"
      ]
     },
     "metadata": {
      "needs_background": "light"
     },
     "output_type": "display_data"
    }
   ],
   "source": [
    "scatterplotcomp_obs_vs_pred_withstd(obspred_fluxesnew, substrate='phenol', method='SPOT')"
   ]
  },
  {
   "cell_type": "markdown",
   "id": "54ee4e1e-f8f6-4a85-994b-5e69bd3440ea",
   "metadata": {},
   "source": [
    "### Run phenol flux FBA"
   ]
  },
  {
   "cell_type": "code",
   "execution_count": 40,
   "id": "0cad78bc-203a-4cc0-a318-23ca191e583d",
   "metadata": {},
   "outputs": [
    {
     "name": "stdout",
     "output_type": "stream",
     "text": [
      "<Solution 15.821 at 0x7f85a93bed10>\n"
     ]
    }
   ],
   "source": [
    "with model:\n",
    "    model.objective = 'Growth_Phenol'\n",
    "    mediumphe = model.medium\n",
    "    \n",
    "    # This is to prevent medium components other than phenol from being growth limitations\n",
    "    mediumphe = {key:1000 for (key,value) in model.medium.items()}\n",
    "    \n",
    "    mediumphe[\"EX_glc__D_e\"] = 0.0\n",
    "    #mediumphe[\"EX_phenol_e\"] = 100.0\n",
    "    \n",
    "    model.medium = mediumphe\n",
    "#     print(model.medium)\n",
    "    solutionphe = model.optimize()\n",
    "    \n",
    "print(solutionphe)"
   ]
  },
  {
   "cell_type": "code",
   "execution_count": 41,
   "id": "8ddfe1b0-fe27-4f0e-9d83-f382da620bf7",
   "metadata": {},
   "outputs": [
    {
     "name": "stdout",
     "output_type": "stream",
     "text": [
      "212.66719924167802 phenol_transport: phenol_e <=> phenol_c\n",
      "-212.66719924167802 EX_phenol_e: phenol_e <=> \n",
      "212.66719924167802 PHEMOX: h_c + nadh_c + o2_c + phenol_c --> catechol_c + h2o_c + nad_c\n",
      "212.66719924167802 phenol_transport: phenol_e <=> phenol_c\n"
     ]
    }
   ],
   "source": [
    "for r in model.metabolites.get_by_id('phenol_e').reactions:\n",
    "    print(solutionphe.fluxes[r.id], r)\n",
    "for r in model.metabolites.get_by_id('phenol_c').reactions:\n",
    "    print(solutionphe.fluxes[r.id], r)"
   ]
  },
  {
   "cell_type": "markdown",
   "id": "fd60fe5b-c02f-43d3-96b7-85a8a7e6e825",
   "metadata": {},
   "source": [
    "### Add Phenol FBA flux values to test_df "
   ]
  },
  {
   "cell_type": "code",
   "execution_count": 42,
   "id": "27ac3cc0-ab6b-447a-92b6-cc146ff08701",
   "metadata": {},
   "outputs": [],
   "source": [
    "# fbasoldf = pd.DataFrame(solutionphe, columns=['fluxes'])"
   ]
  },
  {
   "cell_type": "code",
   "execution_count": 43,
   "id": "b9d0f167-ffea-4fbe-81a4-de38d55154cd",
   "metadata": {},
   "outputs": [],
   "source": [
    "# obspred_fluxesnew = addpredfluxes_to13cdf(obspred_fluxes, solutionphe, None, 'phenol', 'FBA')"
   ]
  },
  {
   "cell_type": "code",
   "execution_count": 44,
   "id": "8c9a08eb-03c7-4c4d-9aac-e17143f44aa9",
   "metadata": {},
   "outputs": [
    {
     "data": {
      "text/html": [
       "<div>\n",
       "<style scoped>\n",
       "    .dataframe tbody tr th:only-of-type {\n",
       "        vertical-align: middle;\n",
       "    }\n",
       "\n",
       "    .dataframe tbody tr th {\n",
       "        vertical-align: top;\n",
       "    }\n",
       "\n",
       "    .dataframe thead th {\n",
       "        text-align: right;\n",
       "    }\n",
       "</style>\n",
       "<table border=\"1\" class=\"dataframe\">\n",
       "  <thead>\n",
       "    <tr style=\"text-align: right;\">\n",
       "      <th></th>\n",
       "      <th>Pathway</th>\n",
       "      <th>Forward Reactions</th>\n",
       "      <th>Reaction</th>\n",
       "      <th>Flux</th>\n",
       "      <th>90% Confidence Lower Bound</th>\n",
       "      <th>90% Confidence Upper Bound</th>\n",
       "      <th>EFLUX2 Value</th>\n",
       "      <th>EFLUX2 std Value</th>\n",
       "      <th>SPOT Value</th>\n",
       "      <th>SPOT std Value</th>\n",
       "      <th>FBA Value</th>\n",
       "    </tr>\n",
       "  </thead>\n",
       "  <tbody>\n",
       "    <tr>\n",
       "      <th>0</th>\n",
       "      <td>Phenol Uptake</td>\n",
       "      <td>PHEMOX</td>\n",
       "      <td>Phenol.ext -&gt; AcCoA + SucCoA</td>\n",
       "      <td>1.000000e+02</td>\n",
       "      <td>1.000000e+02</td>\n",
       "      <td>100.0000</td>\n",
       "      <td>100.000000</td>\n",
       "      <td>18.478483</td>\n",
       "      <td>100.000000</td>\n",
       "      <td>4.719711e+01</td>\n",
       "      <td>212.667199</td>\n",
       "    </tr>\n",
       "    <tr>\n",
       "      <th>1</th>\n",
       "      <td>TCA Cycle</td>\n",
       "      <td>PDH</td>\n",
       "      <td>Pyr &lt;-&gt; AcCoA + CO2 + NADH</td>\n",
       "      <td>5.923270e+01</td>\n",
       "      <td>5.668260e+01</td>\n",
       "      <td>62.0459</td>\n",
       "      <td>18.841475</td>\n",
       "      <td>16.836210</td>\n",
       "      <td>0.001222</td>\n",
       "      <td>1.770673e-06</td>\n",
       "      <td>0.000000</td>\n",
       "    </tr>\n",
       "    <tr>\n",
       "      <th>2</th>\n",
       "      <td>TCA Cycle</td>\n",
       "      <td>CS or reverse_CITL</td>\n",
       "      <td>OAC + AcCoA -&gt; Cit</td>\n",
       "      <td>1.144391e+02</td>\n",
       "      <td>1.102766e+02</td>\n",
       "      <td>118.4800</td>\n",
       "      <td>111.153542</td>\n",
       "      <td>16.664205</td>\n",
       "      <td>72.971231</td>\n",
       "      <td>1.743794e+01</td>\n",
       "      <td>261.988385</td>\n",
       "    </tr>\n",
       "    <tr>\n",
       "      <th>3</th>\n",
       "      <td>TCA Cycle</td>\n",
       "      <td>ACONT or ( ACONTa and ACONTb)</td>\n",
       "      <td>Cit -&gt; ICit</td>\n",
       "      <td>1.144391e+02</td>\n",
       "      <td>1.102766e+02</td>\n",
       "      <td>118.4800</td>\n",
       "      <td>111.153542</td>\n",
       "      <td>16.664205</td>\n",
       "      <td>72.971782</td>\n",
       "      <td>1.796730e+01</td>\n",
       "      <td>261.988385</td>\n",
       "    </tr>\n",
       "    <tr>\n",
       "      <th>4</th>\n",
       "      <td>TCA Cycle</td>\n",
       "      <td>ICDHx or ICDHyr</td>\n",
       "      <td>ICit -&gt; AKG + CO2 + NADPH</td>\n",
       "      <td>1.134677e+02</td>\n",
       "      <td>1.068011e+02</td>\n",
       "      <td>118.4800</td>\n",
       "      <td>108.176626</td>\n",
       "      <td>37.078275</td>\n",
       "      <td>-0.005474</td>\n",
       "      <td>3.016220e+00</td>\n",
       "      <td>261.988385</td>\n",
       "    </tr>\n",
       "    <tr>\n",
       "      <th>5</th>\n",
       "      <td>TCA Cycle</td>\n",
       "      <td>AKGDH or OOR3r</td>\n",
       "      <td>AKG -&gt; SucCoA + CO2 + NADH</td>\n",
       "      <td>1.086053e+02</td>\n",
       "      <td>1.017297e+02</td>\n",
       "      <td>113.8305</td>\n",
       "      <td>64.730854</td>\n",
       "      <td>21.672505</td>\n",
       "      <td>-0.000915</td>\n",
       "      <td>3.125723e-07</td>\n",
       "      <td>255.791854</td>\n",
       "    </tr>\n",
       "    <tr>\n",
       "      <th>6</th>\n",
       "      <td>TCA Cycle</td>\n",
       "      <td>3OADPCOAT or OCOAT3r or SUCBZT1 or SUCBZT2 or ...</td>\n",
       "      <td>SucCoA -&gt; Suc + ATP</td>\n",
       "      <td>2.074789e+02</td>\n",
       "      <td>2.005620e+02</td>\n",
       "      <td>212.7536</td>\n",
       "      <td>161.722189</td>\n",
       "      <td>-7.230408</td>\n",
       "      <td>96.566685</td>\n",
       "      <td>4.369577e+01</td>\n",
       "      <td>365.847616</td>\n",
       "    </tr>\n",
       "    <tr>\n",
       "      <th>7</th>\n",
       "      <td>TCA Cycle</td>\n",
       "      <td>SUCDi or reverse_FRD2 or reverse_FRD3 or rever...</td>\n",
       "      <td>Suc -&gt; Fum + FADH2</td>\n",
       "      <td>2.085767e+02</td>\n",
       "      <td>2.032666e+02</td>\n",
       "      <td>212.8305</td>\n",
       "      <td>155.382382</td>\n",
       "      <td>32.393599</td>\n",
       "      <td>81.594131</td>\n",
       "      <td>2.337426e+01</td>\n",
       "      <td>371.895132</td>\n",
       "    </tr>\n",
       "    <tr>\n",
       "      <th>8</th>\n",
       "      <td>TCA Cycle</td>\n",
       "      <td>FUM</td>\n",
       "      <td>Fum -&gt; Mal</td>\n",
       "      <td>2.096703e+02</td>\n",
       "      <td>2.043514e+02</td>\n",
       "      <td>213.8762</td>\n",
       "      <td>171.759318</td>\n",
       "      <td>22.409144</td>\n",
       "      <td>78.599540</td>\n",
       "      <td>2.023639e+01</td>\n",
       "      <td>383.194138</td>\n",
       "    </tr>\n",
       "    <tr>\n",
       "      <th>9</th>\n",
       "      <td>TCA Cycle</td>\n",
       "      <td>MDH or MDH3 or MDH2 or DMALRED</td>\n",
       "      <td>Mal -&gt; OAC + NADH</td>\n",
       "      <td>1.710231e+02</td>\n",
       "      <td>1.292999e+02</td>\n",
       "      <td>174.5648</td>\n",
       "      <td>169.003767</td>\n",
       "      <td>19.870871</td>\n",
       "      <td>91.816716</td>\n",
       "      <td>9.636695e+00</td>\n",
       "      <td>383.194138</td>\n",
       "    </tr>\n",
       "    <tr>\n",
       "      <th>10</th>\n",
       "      <td>Anaplerotic Reactions</td>\n",
       "      <td>PEPCK_re or PPCK</td>\n",
       "      <td>OAC + ATP -&gt; PEP + CO2</td>\n",
       "      <td>9.777180e+01</td>\n",
       "      <td>1.292690e+01</td>\n",
       "      <td>100.0000</td>\n",
       "      <td>54.506091</td>\n",
       "      <td>27.425276</td>\n",
       "      <td>50.913214</td>\n",
       "      <td>2.376601e+01</td>\n",
       "      <td>96.309020</td>\n",
       "    </tr>\n",
       "    <tr>\n",
       "      <th>11</th>\n",
       "      <td>Anaplerotic Reactions</td>\n",
       "      <td>PPC</td>\n",
       "      <td>PEP + CO2 -&gt; OAC</td>\n",
       "      <td>4.890390e+01</td>\n",
       "      <td>0.000000e+00</td>\n",
       "      <td>59.1635</td>\n",
       "      <td>0.000000</td>\n",
       "      <td>0.000000</td>\n",
       "      <td>0.003624</td>\n",
       "      <td>4.546222e-06</td>\n",
       "      <td>0.000000</td>\n",
       "    </tr>\n",
       "    <tr>\n",
       "      <th>12</th>\n",
       "      <td>Anaplerotic Reactions</td>\n",
       "      <td>PC</td>\n",
       "      <td>Pyr + CO2 + ATP -&gt; OAC</td>\n",
       "      <td>1.000000e-07</td>\n",
       "      <td>0.000000e+00</td>\n",
       "      <td>44.8577</td>\n",
       "      <td>6.789092</td>\n",
       "      <td>11.759053</td>\n",
       "      <td>32.058248</td>\n",
       "      <td>1.706185e+01</td>\n",
       "      <td>0.000000</td>\n",
       "    </tr>\n",
       "    <tr>\n",
       "      <th>13</th>\n",
       "      <td>Anaplerotic Reactions</td>\n",
       "      <td>ME1 or ME2</td>\n",
       "      <td>Mal &lt;-&gt; Pyr + CO2 + NADH</td>\n",
       "      <td>3.961870e+01</td>\n",
       "      <td>3.704340e+01</td>\n",
       "      <td>100.0000</td>\n",
       "      <td>5.734358</td>\n",
       "      <td>6.152564</td>\n",
       "      <td>0.000533</td>\n",
       "      <td>3.437738e-07</td>\n",
       "      <td>0.000000</td>\n",
       "    </tr>\n",
       "    <tr>\n",
       "      <th>14</th>\n",
       "      <td>Glyoxylate Shunt</td>\n",
       "      <td>ICL</td>\n",
       "      <td>ICit -&gt; Glyox + Suc</td>\n",
       "      <td>9.714000e-01</td>\n",
       "      <td>7.110000e-15</td>\n",
       "      <td>4.5567</td>\n",
       "      <td>2.976916</td>\n",
       "      <td>5.156170</td>\n",
       "      <td>72.977255</td>\n",
       "      <td>1.744067e+01</td>\n",
       "      <td>0.000000</td>\n",
       "    </tr>\n",
       "    <tr>\n",
       "      <th>15</th>\n",
       "      <td>Glyoxylate Shunt</td>\n",
       "      <td>MALS</td>\n",
       "      <td>Glyox + AcCoA -&gt; Mal</td>\n",
       "      <td>9.714000e-01</td>\n",
       "      <td>0.000000e+00</td>\n",
       "      <td>4.5567</td>\n",
       "      <td>2.978807</td>\n",
       "      <td>5.159444</td>\n",
       "      <td>13.217445</td>\n",
       "      <td>1.566707e+01</td>\n",
       "      <td>0.000000</td>\n",
       "    </tr>\n",
       "    <tr>\n",
       "      <th>16</th>\n",
       "      <td>ED Pathway</td>\n",
       "      <td>reverse_EDD</td>\n",
       "      <td>Pyr + GAP &lt;-&gt; KDPG</td>\n",
       "      <td>1.041300e+00</td>\n",
       "      <td>2.447000e-01</td>\n",
       "      <td>2.5243</td>\n",
       "      <td>0.000000</td>\n",
       "      <td>0.000000</td>\n",
       "      <td>0.000122</td>\n",
       "      <td>-1.518307e-07</td>\n",
       "      <td>0.000000</td>\n",
       "    </tr>\n",
       "    <tr>\n",
       "      <th>17</th>\n",
       "      <td>ED Pathway</td>\n",
       "      <td>reverse_EDA</td>\n",
       "      <td>KDPG &lt;-&gt; 6PG</td>\n",
       "      <td>1.041300e+00</td>\n",
       "      <td>2.447000e-01</td>\n",
       "      <td>2.5243</td>\n",
       "      <td>0.000000</td>\n",
       "      <td>0.000000</td>\n",
       "      <td>-0.000367</td>\n",
       "      <td>-8.499916e-08</td>\n",
       "      <td>0.000000</td>\n",
       "    </tr>\n",
       "    <tr>\n",
       "      <th>18</th>\n",
       "      <td>EMP Pathway</td>\n",
       "      <td>PPS or reverse_FRUpts2pp or reverse_SBTpts or ...</td>\n",
       "      <td>PEP &lt;-&gt; Pyr + ATP</td>\n",
       "      <td>2.999990e+01</td>\n",
       "      <td>0.000000e+00</td>\n",
       "      <td>30.0000</td>\n",
       "      <td>7.056541</td>\n",
       "      <td>12.222287</td>\n",
       "      <td>-55.122909</td>\n",
       "      <td>-2.517052e+01</td>\n",
       "      <td>0.000000</td>\n",
       "    </tr>\n",
       "    <tr>\n",
       "      <th>25</th>\n",
       "      <td>Pentose Phosphate Pathway</td>\n",
       "      <td>G6PDH2r and PGL</td>\n",
       "      <td>G6P &lt;-&gt; 6PG + NADPH</td>\n",
       "      <td>-5.767000e-01</td>\n",
       "      <td>-2.018100e+00</td>\n",
       "      <td>0.3824</td>\n",
       "      <td>0.000000</td>\n",
       "      <td>0.000000</td>\n",
       "      <td>-0.002693</td>\n",
       "      <td>7.112108e-07</td>\n",
       "      <td>0.000000</td>\n",
       "    </tr>\n",
       "    <tr>\n",
       "      <th>26</th>\n",
       "      <td>Pentose Phosphate Pathway</td>\n",
       "      <td>GND</td>\n",
       "      <td>6PG &lt;-&gt; Ru5P + CO2 + NADPH</td>\n",
       "      <td>4.646000e-01</td>\n",
       "      <td>-1.659900e+00</td>\n",
       "      <td>1.8755</td>\n",
       "      <td>0.000000</td>\n",
       "      <td>0.000000</td>\n",
       "      <td>0.001049</td>\n",
       "      <td>9.939949e-07</td>\n",
       "      <td>0.000000</td>\n",
       "    </tr>\n",
       "    <tr>\n",
       "      <th>27</th>\n",
       "      <td>Pentose Phosphate Pathway</td>\n",
       "      <td>RPE</td>\n",
       "      <td>Ru5P &lt;-&gt; X5P</td>\n",
       "      <td>-1.187400e+00</td>\n",
       "      <td>-2.611500e+00</td>\n",
       "      <td>-0.2468</td>\n",
       "      <td>-3.566261</td>\n",
       "      <td>0.350149</td>\n",
       "      <td>0.004202</td>\n",
       "      <td>2.151273e-06</td>\n",
       "      <td>-8.761338</td>\n",
       "    </tr>\n",
       "    <tr>\n",
       "      <th>28</th>\n",
       "      <td>Pentose Phosphate Pathway</td>\n",
       "      <td>reverse_RPI</td>\n",
       "      <td>Ru5P &lt;-&gt; R5P</td>\n",
       "      <td>1.652100e+00</td>\n",
       "      <td>9.081000e-01</td>\n",
       "      <td>2.1385</td>\n",
       "      <td>3.560697</td>\n",
       "      <td>-0.349603</td>\n",
       "      <td>-0.002847</td>\n",
       "      <td>-1.100031e-06</td>\n",
       "      <td>8.747669</td>\n",
       "    </tr>\n",
       "    <tr>\n",
       "      <th>62</th>\n",
       "      <td>Transhydrogenation</td>\n",
       "      <td>FRNDPR2r or FLNDPR2r or reverse_NADTRHD</td>\n",
       "      <td>NADH &lt;-&gt; NADPH</td>\n",
       "      <td>1.443160e+01</td>\n",
       "      <td>1.108700e+00</td>\n",
       "      <td>27.2447</td>\n",
       "      <td>0.000000</td>\n",
       "      <td>0.000000</td>\n",
       "      <td>2.258867</td>\n",
       "      <td>3.235504e+00</td>\n",
       "      <td>0.000000</td>\n",
       "    </tr>\n",
       "    <tr>\n",
       "      <th>63</th>\n",
       "      <td>Transport</td>\n",
       "      <td>ATPM</td>\n",
       "      <td>ATP -&gt; ATP.ext</td>\n",
       "      <td>6.800864e+02</td>\n",
       "      <td>6.131475e+02</td>\n",
       "      <td>787.5166</td>\n",
       "      <td>0.000000</td>\n",
       "      <td>0.000000</td>\n",
       "      <td>-0.000458</td>\n",
       "      <td>1.120204e-07</td>\n",
       "      <td>0.000000</td>\n",
       "    </tr>\n",
       "    <tr>\n",
       "      <th>64</th>\n",
       "      <td>Transport</td>\n",
       "      <td>reverse_CO2t</td>\n",
       "      <td>CO2 -&gt; CO2.ext</td>\n",
       "      <td>3.764570e+02</td>\n",
       "      <td>3.650427e+02</td>\n",
       "      <td>386.6854</td>\n",
       "      <td>400.259729</td>\n",
       "      <td>-98.423346</td>\n",
       "      <td>149.038578</td>\n",
       "      <td>-3.854200e+01</td>\n",
       "      <td>785.253246</td>\n",
       "    </tr>\n",
       "    <tr>\n",
       "      <th>66</th>\n",
       "      <td>Transport</td>\n",
       "      <td>O2t</td>\n",
       "      <td>O2.ext -&gt; O2</td>\n",
       "      <td>4.336956e+02</td>\n",
       "      <td>4.207564e+02</td>\n",
       "      <td>445.9396</td>\n",
       "      <td>501.106442</td>\n",
       "      <td>116.787336</td>\n",
       "      <td>273.161521</td>\n",
       "      <td>8.453863e+01</td>\n",
       "      <td>1000.000000</td>\n",
       "    </tr>\n",
       "    <tr>\n",
       "      <th>67</th>\n",
       "      <td>Transport</td>\n",
       "      <td>NH4t</td>\n",
       "      <td>NH3.ext -&gt; NH3</td>\n",
       "      <td>2.575270e+01</td>\n",
       "      <td>2.412740e+01</td>\n",
       "      <td>27.0206</td>\n",
       "      <td>28.014071</td>\n",
       "      <td>2.750772</td>\n",
       "      <td>2.988935</td>\n",
       "      <td>2.717035e+00</td>\n",
       "      <td>0.000000</td>\n",
       "    </tr>\n",
       "    <tr>\n",
       "      <th>68</th>\n",
       "      <td>Transport</td>\n",
       "      <td>Growth or Growth_Phenol or Growth_Glucose</td>\n",
       "      <td>SO4.ext -&gt; SO4</td>\n",
       "      <td>4.177000e-01</td>\n",
       "      <td>3.913000e-01</td>\n",
       "      <td>0.4383</td>\n",
       "      <td>6.439213</td>\n",
       "      <td>0.632283</td>\n",
       "      <td>-0.000879</td>\n",
       "      <td>1.772475e-07</td>\n",
       "      <td>15.820762</td>\n",
       "    </tr>\n",
       "  </tbody>\n",
       "</table>\n",
       "</div>"
      ],
      "text/plain": [
       "                      Pathway  \\\n",
       "0               Phenol Uptake   \n",
       "1                   TCA Cycle   \n",
       "2                   TCA Cycle   \n",
       "3                   TCA Cycle   \n",
       "4                   TCA Cycle   \n",
       "5                   TCA Cycle   \n",
       "6                   TCA Cycle   \n",
       "7                   TCA Cycle   \n",
       "8                   TCA Cycle   \n",
       "9                   TCA Cycle   \n",
       "10      Anaplerotic Reactions   \n",
       "11      Anaplerotic Reactions   \n",
       "12      Anaplerotic Reactions   \n",
       "13      Anaplerotic Reactions   \n",
       "14           Glyoxylate Shunt   \n",
       "15           Glyoxylate Shunt   \n",
       "16                 ED Pathway   \n",
       "17                 ED Pathway   \n",
       "18                EMP Pathway   \n",
       "25  Pentose Phosphate Pathway   \n",
       "26  Pentose Phosphate Pathway   \n",
       "27  Pentose Phosphate Pathway   \n",
       "28  Pentose Phosphate Pathway   \n",
       "62         Transhydrogenation   \n",
       "63                  Transport   \n",
       "64                  Transport   \n",
       "66                  Transport   \n",
       "67                  Transport   \n",
       "68                  Transport   \n",
       "\n",
       "                                    Forward Reactions  \\\n",
       "0                                              PHEMOX   \n",
       "1                                                 PDH   \n",
       "2                                  CS or reverse_CITL   \n",
       "3                       ACONT or ( ACONTa and ACONTb)   \n",
       "4                                     ICDHx or ICDHyr   \n",
       "5                                      AKGDH or OOR3r   \n",
       "6   3OADPCOAT or OCOAT3r or SUCBZT1 or SUCBZT2 or ...   \n",
       "7   SUCDi or reverse_FRD2 or reverse_FRD3 or rever...   \n",
       "8                                                 FUM   \n",
       "9                      MDH or MDH3 or MDH2 or DMALRED   \n",
       "10                                   PEPCK_re or PPCK   \n",
       "11                                                PPC   \n",
       "12                                                 PC   \n",
       "13                                         ME1 or ME2   \n",
       "14                                                ICL   \n",
       "15                                               MALS   \n",
       "16                                        reverse_EDD   \n",
       "17                                        reverse_EDA   \n",
       "18  PPS or reverse_FRUpts2pp or reverse_SBTpts or ...   \n",
       "25                                    G6PDH2r and PGL   \n",
       "26                                                GND   \n",
       "27                                                RPE   \n",
       "28                                        reverse_RPI   \n",
       "62            FRNDPR2r or FLNDPR2r or reverse_NADTRHD   \n",
       "63                                               ATPM   \n",
       "64                                       reverse_CO2t   \n",
       "66                                                O2t   \n",
       "67                                               NH4t   \n",
       "68          Growth or Growth_Phenol or Growth_Glucose   \n",
       "\n",
       "                        Reaction          Flux  90% Confidence Lower Bound  \\\n",
       "0   Phenol.ext -> AcCoA + SucCoA  1.000000e+02                1.000000e+02   \n",
       "1     Pyr <-> AcCoA + CO2 + NADH  5.923270e+01                5.668260e+01   \n",
       "2             OAC + AcCoA -> Cit  1.144391e+02                1.102766e+02   \n",
       "3                    Cit -> ICit  1.144391e+02                1.102766e+02   \n",
       "4      ICit -> AKG + CO2 + NADPH  1.134677e+02                1.068011e+02   \n",
       "5     AKG -> SucCoA + CO2 + NADH  1.086053e+02                1.017297e+02   \n",
       "6            SucCoA -> Suc + ATP  2.074789e+02                2.005620e+02   \n",
       "7             Suc -> Fum + FADH2  2.085767e+02                2.032666e+02   \n",
       "8                     Fum -> Mal  2.096703e+02                2.043514e+02   \n",
       "9              Mal -> OAC + NADH  1.710231e+02                1.292999e+02   \n",
       "10        OAC + ATP -> PEP + CO2  9.777180e+01                1.292690e+01   \n",
       "11              PEP + CO2 -> OAC  4.890390e+01                0.000000e+00   \n",
       "12        Pyr + CO2 + ATP -> OAC  1.000000e-07                0.000000e+00   \n",
       "13      Mal <-> Pyr + CO2 + NADH  3.961870e+01                3.704340e+01   \n",
       "14           ICit -> Glyox + Suc  9.714000e-01                7.110000e-15   \n",
       "15          Glyox + AcCoA -> Mal  9.714000e-01                0.000000e+00   \n",
       "16            Pyr + GAP <-> KDPG  1.041300e+00                2.447000e-01   \n",
       "17                  KDPG <-> 6PG  1.041300e+00                2.447000e-01   \n",
       "18             PEP <-> Pyr + ATP  2.999990e+01                0.000000e+00   \n",
       "25           G6P <-> 6PG + NADPH -5.767000e-01               -2.018100e+00   \n",
       "26    6PG <-> Ru5P + CO2 + NADPH  4.646000e-01               -1.659900e+00   \n",
       "27                  Ru5P <-> X5P -1.187400e+00               -2.611500e+00   \n",
       "28                  Ru5P <-> R5P  1.652100e+00                9.081000e-01   \n",
       "62                NADH <-> NADPH  1.443160e+01                1.108700e+00   \n",
       "63                ATP -> ATP.ext  6.800864e+02                6.131475e+02   \n",
       "64                CO2 -> CO2.ext  3.764570e+02                3.650427e+02   \n",
       "66                  O2.ext -> O2  4.336956e+02                4.207564e+02   \n",
       "67                NH3.ext -> NH3  2.575270e+01                2.412740e+01   \n",
       "68                SO4.ext -> SO4  4.177000e-01                3.913000e-01   \n",
       "\n",
       "    90% Confidence Upper Bound  EFLUX2 Value  EFLUX2 std Value  SPOT Value  \\\n",
       "0                     100.0000    100.000000         18.478483  100.000000   \n",
       "1                      62.0459     18.841475         16.836210    0.001222   \n",
       "2                     118.4800    111.153542         16.664205   72.971231   \n",
       "3                     118.4800    111.153542         16.664205   72.971782   \n",
       "4                     118.4800    108.176626         37.078275   -0.005474   \n",
       "5                     113.8305     64.730854         21.672505   -0.000915   \n",
       "6                     212.7536    161.722189         -7.230408   96.566685   \n",
       "7                     212.8305    155.382382         32.393599   81.594131   \n",
       "8                     213.8762    171.759318         22.409144   78.599540   \n",
       "9                     174.5648    169.003767         19.870871   91.816716   \n",
       "10                    100.0000     54.506091         27.425276   50.913214   \n",
       "11                     59.1635      0.000000          0.000000    0.003624   \n",
       "12                     44.8577      6.789092         11.759053   32.058248   \n",
       "13                    100.0000      5.734358          6.152564    0.000533   \n",
       "14                      4.5567      2.976916          5.156170   72.977255   \n",
       "15                      4.5567      2.978807          5.159444   13.217445   \n",
       "16                      2.5243      0.000000          0.000000    0.000122   \n",
       "17                      2.5243      0.000000          0.000000   -0.000367   \n",
       "18                     30.0000      7.056541         12.222287  -55.122909   \n",
       "25                      0.3824      0.000000          0.000000   -0.002693   \n",
       "26                      1.8755      0.000000          0.000000    0.001049   \n",
       "27                     -0.2468     -3.566261          0.350149    0.004202   \n",
       "28                      2.1385      3.560697         -0.349603   -0.002847   \n",
       "62                     27.2447      0.000000          0.000000    2.258867   \n",
       "63                    787.5166      0.000000          0.000000   -0.000458   \n",
       "64                    386.6854    400.259729        -98.423346  149.038578   \n",
       "66                    445.9396    501.106442        116.787336  273.161521   \n",
       "67                     27.0206     28.014071          2.750772    2.988935   \n",
       "68                      0.4383      6.439213          0.632283   -0.000879   \n",
       "\n",
       "    SPOT std Value    FBA Value  \n",
       "0     4.719711e+01   212.667199  \n",
       "1     1.770673e-06     0.000000  \n",
       "2     1.743794e+01   261.988385  \n",
       "3     1.796730e+01   261.988385  \n",
       "4     3.016220e+00   261.988385  \n",
       "5     3.125723e-07   255.791854  \n",
       "6     4.369577e+01   365.847616  \n",
       "7     2.337426e+01   371.895132  \n",
       "8     2.023639e+01   383.194138  \n",
       "9     9.636695e+00   383.194138  \n",
       "10    2.376601e+01    96.309020  \n",
       "11    4.546222e-06     0.000000  \n",
       "12    1.706185e+01     0.000000  \n",
       "13    3.437738e-07     0.000000  \n",
       "14    1.744067e+01     0.000000  \n",
       "15    1.566707e+01     0.000000  \n",
       "16   -1.518307e-07     0.000000  \n",
       "17   -8.499916e-08     0.000000  \n",
       "18   -2.517052e+01     0.000000  \n",
       "25    7.112108e-07     0.000000  \n",
       "26    9.939949e-07     0.000000  \n",
       "27    2.151273e-06    -8.761338  \n",
       "28   -1.100031e-06     8.747669  \n",
       "62    3.235504e+00     0.000000  \n",
       "63    1.120204e-07     0.000000  \n",
       "64   -3.854200e+01   785.253246  \n",
       "66    8.453863e+01  1000.000000  \n",
       "67    2.717035e+00     0.000000  \n",
       "68    1.772475e-07    15.820762  "
      ]
     },
     "execution_count": 44,
     "metadata": {},
     "output_type": "execute_result"
    }
   ],
   "source": [
    "FBA_fluxes_phe = []\n",
    "for _, row in phenol_fluxes.iterrows():\n",
    "    reactions = row['Forward Reactions']\n",
    "    flux_value_phe = 0\n",
    "    for x in [x.strip('() ') for x in reactions.split(' or ')]:\n",
    "        and_split = [y.strip('() ') for y in x.split(' and ')]\n",
    "        flux_value_phe += min([get_flux_value(v, solutionphe) for v in and_split])\n",
    "    FBA_fluxes_phe.append(flux_value_phe)\n",
    "    \n",
    "phenol_fluxes['FBA Value'] = FBA_fluxes_phe\n",
    "phenol_fluxes"
   ]
  },
  {
   "cell_type": "markdown",
   "id": "8016de80-cb9d-4745-836d-ffa07cc9a9b9",
   "metadata": {},
   "source": [
    "### Plot FBA vs 13C MFA"
   ]
  },
  {
   "cell_type": "markdown",
   "id": "3366b524-047c-45b7-8571-37f15a8f9683",
   "metadata": {},
   "source": [
    "!!!To Do: Change functions to integrate no std situation!!!"
   ]
  },
  {
   "cell_type": "code",
   "execution_count": 45,
   "id": "9cee13e6-37fd-4513-8599-f42afddd87f4",
   "metadata": {},
   "outputs": [
    {
     "data": {
      "image/png": "[encoded data removed]",
      "text/plain": [
       "<Figure size 576x576 with 1 Axes>"
      ]
     },
     "metadata": {
      "needs_background": "light"
     },
     "output_type": "display_data"
    }
   ],
   "source": [
    "fig, ax = plt.subplots(figsize=(8, 8))\n",
    "ax.plot(ax.get_xlim(), ax.get_ylim(), ls=\"--\", c=\".3\")\n",
    "\n",
    "for pathway in list(set(phenol_fluxes['Pathway'])):\n",
    "    pathway_df = phenol_fluxes[phenol_fluxes['Pathway'] == pathway]\n",
    "    \n",
    "    measured_flux_list = list(pathway_df['Flux'])\n",
    "    simulated_flux_list = list(pathway_df['FBA Value'])\n",
    "    \n",
    "    ax.scatter(measured_flux_list, simulated_flux_list, label=pathway)\n",
    "\n",
    "\n",
    "# Dashed line\n",
    "x = np.linspace(*ax.get_xlim())\n",
    "ax.plot(x, x, ls=\"--\", c=\".3\")\n",
    "\n",
    "plt.title(r'Phenol 13C MFA vs FBA Fluxes', fontSize=20)\n",
    "plt.xlabel(r'13C MFA flux (per 100 mmol of phenol uptake)')\n",
    "plt.ylabel(r'FBA flux (per 100 mmol of phenol uptake)')\n",
    "plt.legend()\n",
    "plt.show()"
   ]
  }
 ],
 "metadata": {
  "kernelspec": {
   "display_name": "biodesign_3.7",
   "language": "python",
   "name": "biod_3.7"
  },
  "language_info": {
   "codemirror_mode": {
    "name": "ipython",
    "version": 3
   },
   "file_extension": ".py",
   "mimetype": "text/x-python",
   "name": "python",
   "nbconvert_exporter": "python",
   "pygments_lexer": "ipython3",
   "version": "3.7.4"
  }
 },
 "nbformat": 4,
 "nbformat_minor": 5
}

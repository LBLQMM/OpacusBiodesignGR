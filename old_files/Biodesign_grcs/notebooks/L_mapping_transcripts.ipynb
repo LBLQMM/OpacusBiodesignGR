{
 "cells": [
  {
   "cell_type": "markdown",
   "id": "e8edf910-0d53-4a30-820a-6e2c1747c5be",
   "metadata": {},
   "source": [
    "# Notebook L: Mapping Transcriptomics Data to Model Reactions\n",
    "The purpose of this notebook is to take in a csv file of transcript measurements and a model, and to output a csv files with the transcript mapped transcripts for each all applicable reactions in the genome scale model."
   ]
  },
  {
   "cell_type": "markdown",
   "id": "553c25ad-0099-478e-89d0-6f3ab7b1a24b",
   "metadata": {},
   "source": [
    "### Imports"
   ]
  },
  {
   "cell_type": "code",
   "execution_count": 1,
   "id": "822546c3-c8d1-4f38-9673-2e8108ff34ef",
   "metadata": {},
   "outputs": [],
   "source": [
    "import pandas as pd\n",
    "import cobra"
   ]
  },
  {
   "cell_type": "markdown",
   "id": "87683afa-dc70-4e61-95e5-313e49716d11",
   "metadata": {},
   "source": [
    "#### Load csv files with transcript data \n",
    "This step can be replaced with import from EDD "
   ]
  },
  {
   "cell_type": "code",
   "execution_count": 2,
   "id": "2485cee2-0987-43ed-a678-a72a22cbabf1",
   "metadata": {},
   "outputs": [],
   "source": [
    "# define blank dictionary and fill with transcript measurements from different conditions and carbon sources\n",
    "transcript_measurements = {}\n",
    "# add glucose conditions to data set object\n",
    "transcript_measurements['glucose_cpm'] = pd.read_csv('../winston_data/october_19_2021/yoneda/yoneda_reprocess_CPM_melted.csv')\n",
    "transcript_measurements['glucose_fpkm'] = pd.read_csv('../winston_data/october_19_2021/yoneda/yoneda_reprocess_FPKM_melted.csv')\n",
    "transcript_measurements['glucose_mr'] = pd.read_csv('../winston_data/october_19_2021/yoneda/yoneda_reprocess_MR_melted.csv')\n",
    "transcript_measurements['glucose_tmm'] = pd.read_csv('../winston_data/october_19_2021/yoneda/yoneda_reprocess_TMM_melted.csv')\n",
    "# add phenol conditions to data set object\n",
    "transcript_measurements['phenol_cpm'] = pd.read_csv('../winston_data/october_19_2021/henson/henson_reprocess_CPM_melted.csv')\n",
    "transcript_measurements['phenol_fpkm'] = pd.read_csv('../winston_data/october_19_2021/henson/henson_reprocess_FPKM_melted.csv')\n",
    "transcript_measurements['phenol_mr'] = pd.read_csv('../winston_data/october_19_2021/henson/henson_reprocess_MR_melted.csv')\n",
    "transcript_measurements['phenol_tmm'] = pd.read_csv('../winston_data/october_19_2021/henson/henson_reprocess_TMM_melted.csv')"
   ]
  },
  {
   "cell_type": "markdown",
   "id": "891c91fe-3342-4be0-9582-6113c10dfa96",
   "metadata": {},
   "source": [
    "#### Load genome scale model\n",
    "This is needed to get the model reactions and reaction -> gene mapping"
   ]
  },
  {
   "cell_type": "code",
   "execution_count": 3,
   "id": "c886769c-757e-4f3c-9f03-5e2f6c97eb9d",
   "metadata": {},
   "outputs": [],
   "source": [
    "model = cobra.io.read_sbml_model('../GSMs/Ropacus_annotated_curated.xml')"
   ]
  },
  {
   "cell_type": "code",
   "execution_count": 4,
   "id": "38c3ecfa-61df-46d5-a6e3-24234cd11c81",
   "metadata": {},
   "outputs": [
    {
     "name": "stdout",
     "output_type": "stream",
     "text": [
      "The are 1755 reactions that are mapped to transcripts\n"
     ]
    }
   ],
   "source": [
    "reactions_with_gpr = [r for r in model.reactions if r.gene_reaction_rule != '']\n",
    "print(f'The are {len(reactions_with_gpr)} reactions that are mapped to transcripts')"
   ]
  },
  {
   "cell_type": "markdown",
   "id": "6e4343fd-c364-4db5-96fd-d7aff46aaf87",
   "metadata": {
    "tags": []
   },
   "source": [
    "#### Define a function to find the transcriptomic value for a gene in a given condition "
   ]
  },
  {
   "cell_type": "code",
   "execution_count": 5,
   "id": "81aedf81-1e04-4bd8-8ff7-e8754c63d7a8",
   "metadata": {},
   "outputs": [],
   "source": [
    "def transcript_value_for_gene(transcript_df, condition, gene):\n",
    "    \n",
    "    # filter the data frame by the condition and the gene\n",
    "    gene_row = transcript_df[(transcript_df['Line Name'] == condition) & (transcript_df['Measurement Type'] == gene)]\n",
    "    \n",
    "    # return the transcriptomic measurement, if the measurement is missing, or duplicated, return 0\n",
    "    return float(gene_row.Value) if len(gene_row) == 1  else 0"
   ]
  },
  {
   "cell_type": "markdown",
   "id": "d218ed94-ea61-49b2-a1f0-2991d9a950e2",
   "metadata": {},
   "source": [
    "#### Define a function to map a reaction to a total transcript value\n",
    "Note: a reaction may be mapped to multiple genes. Those genes may be required in series or in parallel"
   ]
  },
  {
   "cell_type": "code",
   "execution_count": 6,
   "id": "6f8ca4d3-c1fe-4f10-a469-23d97a392589",
   "metadata": {},
   "outputs": [],
   "source": [
    "def transcript_value_for_reaction(transcript_df, condition, gene_reaction_rule):\n",
    "    \n",
    "    # convert the gene reaction rule into set of frozensets that represent parallel sets of genes\n",
    "    set_of_parallel_genes = set()\n",
    "    for x in [x.strip('() ') for x in gene_reaction_rule.split(' or ')]:\n",
    "        # add to set of parallel genes\n",
    "        set_of_parallel_genes.add(frozenset(y.strip('() ') for y in x.split(' and ')))\n",
    "        \n",
    "    # define variable for total transcripts\n",
    "    total_transcripts = 0\n",
    "    \n",
    "    # loop over set_of_parallel_genes\n",
    "    for parallel_genes in set_of_parallel_genes:\n",
    "        # for each set of parallel genes, add the limiting transcript value to the total\n",
    "        measurements = [transcript_value_for_gene(transcript_df, condition, gene) for gene in parallel_genes]\n",
    "        # \n",
    "        total_transcripts += min(measurements)\n",
    "\n",
    "    return total_transcripts"
   ]
  },
  {
   "cell_type": "markdown",
   "id": "fc35128e-49e7-4093-bae3-67ad4d4ce436",
   "metadata": {},
   "source": [
    "#### Define a function return a dataframe with mapped transcript values for all reactions in all conditions"
   ]
  },
  {
   "cell_type": "code",
   "execution_count": 7,
   "id": "192cfb1a-2f5b-4eea-acc3-e5e9ca40ea13",
   "metadata": {},
   "outputs": [],
   "source": [
    "def map_transcripts(transcript_df, model):\n",
    "    # get the set of conditions in the transcript dataframe\n",
    "    conditions = list(set(transcript_df['Line Name']))\n",
    "    conditions.sort()\n",
    "    \n",
    "    # get the set of reactions in the model that have known gene mapping\n",
    "    reactions_with_gpr = [r for r in model.reactions if r.gene_reaction_rule != '']\n",
    "\n",
    "    # create object to hold the data\n",
    "    reaction_id_to_transcript_mapping = {}\n",
    "    \n",
    "    # loop over conditions\n",
    "    for condition in conditions:\n",
    "        # keep track of the function's progress\n",
    "        print(condition)\n",
    "\n",
    "        # create dictionary with the mapped transcripts for all reactions for a given condition\n",
    "        reaction_info = {r.id : transcript_value_for_reaction(transcript_df, condition, r.gene_reaction_rule) for r in reactions_with_gpr}\n",
    "        \n",
    "        # add reaction information to data object\n",
    "        reaction_id_to_transcript_mapping[condition] = reaction_info\n",
    "        \n",
    "    return pd.DataFrame(reaction_id_to_transcript_mapping)"
   ]
  },
  {
   "cell_type": "code",
   "execution_count": 8,
   "id": "e7e5fcae-3af0-4132-823b-e0641ea9cf26",
   "metadata": {},
   "outputs": [
    {
     "name": "stdout",
     "output_type": "stream",
     "text": [
      "glucose_cpm\n",
      "EVOL33-G-R1\n",
      "EVOL33-G-R2\n",
      "EVOL33-G-R3\n",
      "EVOL33-H-R1\n",
      "EVOL33-H-R2\n",
      "EVOL33-H-R3\n",
      "EVOL33-L-R1\n",
      "EVOL33-L-R2\n",
      "EVOL33-L-R3\n",
      "EVOL40-G-R1\n",
      "EVOL40-G-R2\n",
      "EVOL40-G-R3\n",
      "EVOL40-H-R1\n",
      "EVOL40-H-R2\n",
      "EVOL40-H-R3\n",
      "EVOL40-L-R1\n",
      "EVOL40-L-R2\n",
      "EVOL40-L-R3\n",
      "WT-G-R1\n",
      "WT-G-R2\n",
      "WT-G-R3\n",
      "WT-L-R1\n",
      "WT-L-R2\n",
      "WT-L-R3\n",
      "glucose_fpkm\n",
      "EVOL33-G-R1\n",
      "EVOL33-G-R2\n",
      "EVOL33-G-R3\n",
      "EVOL33-H-R1\n",
      "EVOL33-H-R2\n",
      "EVOL33-H-R3\n",
      "EVOL33-L-R1\n",
      "EVOL33-L-R2\n",
      "EVOL33-L-R3\n",
      "EVOL40-G-R1\n",
      "EVOL40-G-R2\n",
      "EVOL40-G-R3\n",
      "EVOL40-H-R1\n",
      "EVOL40-H-R2\n",
      "EVOL40-H-R3\n",
      "EVOL40-L-R1\n",
      "EVOL40-L-R2\n",
      "EVOL40-L-R3\n",
      "WT-G-R1\n",
      "WT-G-R2\n",
      "WT-G-R3\n",
      "WT-L-R1\n",
      "WT-L-R2\n",
      "WT-L-R3\n",
      "glucose_mr\n",
      "EVOL33-G-R1\n",
      "EVOL33-G-R2\n",
      "EVOL33-G-R3\n",
      "EVOL33-H-R1\n",
      "EVOL33-H-R2\n",
      "EVOL33-H-R3\n",
      "EVOL33-L-R1\n",
      "EVOL33-L-R2\n",
      "EVOL33-L-R3\n",
      "EVOL40-G-R1\n",
      "EVOL40-G-R2\n",
      "EVOL40-G-R3\n",
      "EVOL40-H-R1\n",
      "EVOL40-H-R2\n",
      "EVOL40-H-R3\n",
      "EVOL40-L-R1\n",
      "EVOL40-L-R2\n",
      "EVOL40-L-R3\n",
      "WT-G-R1\n",
      "WT-G-R2\n",
      "WT-G-R3\n",
      "WT-L-R1\n",
      "WT-L-R2\n",
      "WT-L-R3\n",
      "glucose_tmm\n",
      "EVOL33-G-R1\n",
      "EVOL33-G-R2\n",
      "EVOL33-G-R3\n",
      "EVOL33-H-R1\n",
      "EVOL33-H-R2\n",
      "EVOL33-H-R3\n",
      "EVOL33-L-R1\n",
      "EVOL33-L-R2\n",
      "EVOL33-L-R3\n",
      "EVOL40-G-R1\n",
      "EVOL40-G-R2\n",
      "EVOL40-G-R3\n",
      "EVOL40-H-R1\n",
      "EVOL40-H-R2\n",
      "EVOL40-H-R3\n",
      "EVOL40-L-R1\n",
      "EVOL40-L-R2\n",
      "EVOL40-L-R3\n",
      "WT-G-R1\n",
      "WT-G-R2\n",
      "WT-G-R3\n",
      "WT-L-R1\n",
      "WT-L-R2\n",
      "WT-L-R3\n",
      "phenol_cpm\n",
      "PVHG-B-R1\n",
      "PVHG-B-R2\n",
      "PVHG-B-R3\n",
      "PVHG-Glu-R1\n",
      "PVHG-Glu-R2\n",
      "PVHG-Glu-R3\n",
      "PVHG-Gua-R1\n",
      "PVHG-Gua-R2\n",
      "PVHG-Gua-R3\n",
      "PVHG-H-R1\n",
      "PVHG-H-R2\n",
      "PVHG-H-R3\n",
      "WT-Glu-R1\n",
      "WT-Glu-R3\n",
      "WT-Gua-R1\n",
      "WT-Gua-R2\n",
      "WT-Gua-R3\n",
      "WT-H-R1\n",
      "WT-H-R2\n",
      "WT-H-R3\n",
      "WT-M-R1\n",
      "WT-M-R2\n",
      "WT-M-R3\n",
      "WT-P-R1\n",
      "WT-P-R2\n",
      "WT-P-R3\n",
      "WT-V-R1\n",
      "WT-V-R2\n",
      "WT-V-R3\n",
      "phenol_fpkm\n",
      "PVHG-B-R1\n",
      "PVHG-B-R2\n",
      "PVHG-B-R3\n",
      "PVHG-Glu-R1\n",
      "PVHG-Glu-R2\n",
      "PVHG-Glu-R3\n",
      "PVHG-Gua-R1\n",
      "PVHG-Gua-R2\n",
      "PVHG-Gua-R3\n",
      "PVHG-H-R1\n",
      "PVHG-H-R2\n",
      "PVHG-H-R3\n",
      "PVHG-M-R1\n",
      "PVHG-M-R2\n",
      "PVHG-M-R3\n",
      "PVHG-P-R1\n",
      "PVHG-P-R2\n",
      "PVHG-P-R3\n",
      "PVHG-V-R1\n",
      "PVHG-V-R2\n",
      "PVHG-V-R3\n",
      "WT-B-R1\n",
      "WT-B-R2\n",
      "WT-B-R3\n",
      "WT-Glu-R1\n",
      "WT-Glu-R2\n",
      "WT-Glu-R3\n",
      "WT-Gua-R1\n",
      "WT-Gua-R2\n",
      "WT-Gua-R3\n",
      "WT-H-R1\n",
      "WT-H-R2\n",
      "WT-H-R3\n",
      "WT-M-R1\n",
      "WT-M-R2\n",
      "WT-M-R3\n",
      "WT-P-R1\n",
      "WT-P-R2\n",
      "WT-P-R3\n",
      "WT-V-R1\n",
      "WT-B-R2\n",
      "WT-B-R3\n",
      "WT-Gua-R1\n",
      "WT-P-R2\n",
      "WT-P-R3\n",
      "WT-V-R1\n",
      "WT-V-R2\n",
      "WT-V-R3\n"
     ]
    }
   ],
   "source": [
    "# loop over data sets, saving the dataframes as csv files\n",
    "for data_set, data in transcript_measurements.items():\n",
    "    print(data_set)\n",
    "    map_transcripts(data, model).to_csv(f'../transcript_mapping/{data_set}.csv')"
   ]
  },
  {
   "cell_type": "code",
   "execution_count": null,
   "id": "d3cbeb71-98f2-499a-a9b0-6ad35ccd19f2",
   "metadata": {},
   "outputs": [],
   "source": []
  }
 ],
 "metadata": {
  "kernelspec": {
   "display_name": "biodesign_3.7",
   "language": "python",
   "name": "biod_3.7"
  },
  "language_info": {
   "codemirror_mode": {
    "name": "ipython",
    "version": 3
   },
   "file_extension": ".py",
   "mimetype": "text/x-python",
   "name": "python",
   "nbconvert_exporter": "python",
   "pygments_lexer": "ipython3",
   "version": "3.7.4"
  }
 },
 "nbformat": 4,
 "nbformat_minor": 5
}

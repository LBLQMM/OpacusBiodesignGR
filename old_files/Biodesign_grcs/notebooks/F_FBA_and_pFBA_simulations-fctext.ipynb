{
 "cells": [
  {
   "cell_type": "markdown",
   "id": "comparative-socket",
   "metadata": {},
   "source": [
    "# FBA and pFBA Simulations\n",
    "\n",
    "By Christina Schenk and Garrett Roell\n",
    "\n",
    "Tested on biodesign_3.7 kernel on jprime\n",
    "\n",
    "\n",
    "This notebook performs flux balance analysis (FBA) and parsimonious FBA for R. opacus in glucose and phenol growth conditions and creates plots to compare the results with experimental data.\n",
    "\n",
    "### Methods: \n",
    "<ol>\n",
    "<li>Compare phenol 13CMFA fluxes to FBA and pFBA predictions: Scatter plots and flux maps</li>\n",
    "<li>Compare glucose 13CMFA fluxes to FBA and pFBA predictions: Scatter plots and flux maps</li>\n",
    "<li>Calculate FBA and pFBA growth rates for each of the experimental conditions</li>\n",
    "<li>Plot growth rates in comparison to experimental data</li>\n",
    "</ol>"
   ]
  },
  {
   "cell_type": "markdown",
   "id": "d71409e6-b289-4ddd-91af-f2a9be530976",
   "metadata": {
    "tags": []
   },
   "source": [
    "#### The data uses the following mapping as introduced in Notebook E:\n",
    "\n",
    "#### **Glucose**:\n",
    "#### Yoneda transcriptomics data: \n",
    "* WT 1.0 g/L Glucose, 0.05g/L ammonium sulfate (**WT-LN-G**) (3 trials)\n",
    "\n",
    "#### Combined with Rhiannon 2018 metabolomics and OD data:\n",
    "* Metabolomics and OD data for WT Glucose (before **WT-G** but now **WT-LN-G**)\n",
    "\n",
    "#### **Phenol**:\n",
    "#### Henson data:\n",
    "* WT 0.5 g/L Phenol (3 trials) (**WT-P**)\n",
    "* PVHG6 0.5 g/L Phenol (3 trials) (**PVHG-P**)\n"
   ]
  },
  {
   "cell_type": "markdown",
   "id": "9ef2af09-fae3-41ac-b081-014ed331b3ac",
   "metadata": {},
   "source": [
    "##### **Import python packages**"
   ]
  },
  {
   "cell_type": "code",
   "execution_count": 1,
   "id": "charged-contact",
   "metadata": {},
   "outputs": [],
   "source": [
    "import pandas as pd\n",
    "import numpy as np\n",
    "import cobra\n",
    "import matplotlib\n",
    "import matplotlib.pyplot as plt\n",
    "from matplotlib import cm\n",
    "from matplotlib.offsetbox import (TextArea, DrawingArea, OffsetImage,\n",
    "                                  AnnotationBbox)\n",
    "from matplotlib.cbook import get_sample_data\n",
    "import matplotlib.image as mpimg\n",
    "import matplotlib.cm as cm\n",
    "import scipy\n",
    "import sys\n",
    "from scipy.stats import linregress\n",
    "from sklearn.metrics import r2_score"
   ]
  },
  {
   "cell_type": "markdown",
   "id": "sitting-adjustment",
   "metadata": {},
   "source": [
    "##### **Load data from consumption and growth rate notebook (notebook E)**"
   ]
  },
  {
   "cell_type": "code",
   "execution_count": 2,
   "id": "finnish-structure",
   "metadata": {},
   "outputs": [
    {
     "data": {
      "text/html": [
       "<div>\n",
       "<style scoped>\n",
       "    .dataframe tbody tr th:only-of-type {\n",
       "        vertical-align: middle;\n",
       "    }\n",
       "\n",
       "    .dataframe tbody tr th {\n",
       "        vertical-align: top;\n",
       "    }\n",
       "\n",
       "    .dataframe thead th {\n",
       "        text-align: right;\n",
       "    }\n",
       "</style>\n",
       "<table border=\"1\" class=\"dataframe\">\n",
       "  <thead>\n",
       "    <tr style=\"text-align: right;\">\n",
       "      <th></th>\n",
       "      <th>growth rate</th>\n",
       "      <th>yield coefficient</th>\n",
       "      <th>substrate consumption rate</th>\n",
       "      <th>growth rate std dev</th>\n",
       "      <th>yield coefficient std dev</th>\n",
       "      <th>substrate consumption rate std dev</th>\n",
       "    </tr>\n",
       "  </thead>\n",
       "  <tbody>\n",
       "    <tr>\n",
       "      <th>WT-P</th>\n",
       "      <td>0.065488</td>\n",
       "      <td>0.048868</td>\n",
       "      <td>1.352072</td>\n",
       "      <td>0.001345</td>\n",
       "      <td>0.004836</td>\n",
       "      <td>0.122279</td>\n",
       "    </tr>\n",
       "    <tr>\n",
       "      <th>PVHG-P</th>\n",
       "      <td>0.080331</td>\n",
       "      <td>0.040848</td>\n",
       "      <td>1.967485</td>\n",
       "      <td>0.002672</td>\n",
       "      <td>0.001757</td>\n",
       "      <td>0.021785</td>\n",
       "    </tr>\n",
       "    <tr>\n",
       "      <th>WT-LN-G</th>\n",
       "      <td>0.260195</td>\n",
       "      <td>0.072789</td>\n",
       "      <td>3.582471</td>\n",
       "      <td>0.004749</td>\n",
       "      <td>0.004117</td>\n",
       "      <td>0.141675</td>\n",
       "    </tr>\n",
       "  </tbody>\n",
       "</table>\n",
       "</div>"
      ],
      "text/plain": [
       "         growth rate  yield coefficient  substrate consumption rate  \\\n",
       "WT-P        0.065488           0.048868                    1.352072   \n",
       "PVHG-P      0.080331           0.040848                    1.967485   \n",
       "WT-LN-G     0.260195           0.072789                    3.582471   \n",
       "\n",
       "         growth rate std dev  yield coefficient std dev  \\\n",
       "WT-P                0.001345                   0.004836   \n",
       "PVHG-P              0.002672                   0.001757   \n",
       "WT-LN-G             0.004749                   0.004117   \n",
       "\n",
       "         substrate consumption rate std dev  \n",
       "WT-P                               0.122279  \n",
       "PVHG-P                             0.021785  \n",
       "WT-LN-G                            0.141675  "
      ]
     },
     "execution_count": 2,
     "metadata": {},
     "output_type": "execute_result"
    }
   ],
   "source": [
    "consumption_and_growth_data = pd.read_csv('../consumption_and_growth_data/consumption_and_growth_data_new.csv', index_col=0)\n",
    "consumption_and_growth_data"
   ]
  },
  {
   "cell_type": "markdown",
   "id": "3144a09f-b3b2-468f-930b-2f506518fede",
   "metadata": {},
   "source": [
    "##### **Load Genome Scale Model**"
   ]
  },
  {
   "cell_type": "code",
   "execution_count": 3,
   "id": "civilian-planet",
   "metadata": {},
   "outputs": [],
   "source": [
    "model = cobra.io.read_sbml_model(\"../GSMs/Ropacus_annotated_curated.xml\")"
   ]
  },
  {
   "cell_type": "markdown",
   "id": "fe49823c-2750-43e1-886b-3a28cb3898bd",
   "metadata": {},
   "source": [
    "### **1. Phenol 13CMFA Comparison and Flux Maps**"
   ]
  },
  {
   "cell_type": "markdown",
   "id": "76f69261-c038-42d3-a403-aa18dc38c741",
   "metadata": {},
   "source": [
    "##### **Load 13cdata**"
   ]
  },
  {
   "cell_type": "markdown",
   "id": "7654400f-3584-436d-9329-a2a9ae7eefef",
   "metadata": {
    "tags": []
   },
   "source": [
    "#####  **Get 13C MFA measured fluxes for phenol**"
   ]
  },
  {
   "cell_type": "code",
   "execution_count": 4,
   "id": "2381238b-8786-43d7-b56d-cdb1c1335803",
   "metadata": {},
   "outputs": [
    {
     "name": "stdout",
     "output_type": "stream",
     "text": [
      "There are 43 fluxes that can be compared between the MFA and FBA\n"
     ]
    }
   ],
   "source": [
    "phenol_fluxes = pd.read_csv('../13C_flux_data/13C_phenol_flux_data.csv')\n",
    "\n",
    "# Remove rows that do not have a mapping to the GSM\n",
    "phenol_fluxes.dropna(subset = [\"Forward Reactions\"], inplace=True)\n",
    "print(f'There are {len(phenol_fluxes)} fluxes that can be compared between the MFA and FBA')"
   ]
  },
  {
   "cell_type": "markdown",
   "id": "28e715f0-3505-40d8-99bb-e5531f89b7a5",
   "metadata": {},
   "source": [
    "#### **WT-P and PVHG-P**"
   ]
  },
  {
   "cell_type": "markdown",
   "id": "1a2e107a-68ec-495b-b991-eb93de8f7854",
   "metadata": {
    "tags": []
   },
   "source": [
    "##### **Import SPOT and other utility functions code**"
   ]
  },
  {
   "cell_type": "code",
   "execution_count": 5,
   "id": "7b49ca03-0fe7-47ed-a7f9-ef9a3a75696c",
   "metadata": {},
   "outputs": [],
   "source": [
    "# SourceDir = '../src'\n",
    "# sys.path.append(SourceDir)\n",
    "# from utils import *"
   ]
  },
  {
   "cell_type": "code",
   "execution_count": 6,
   "id": "65dfb805-2a3e-4d4a-b865-48b442659397",
   "metadata": {},
   "outputs": [
    {
     "ename": "NameError",
     "evalue": "name 'FBA_pred' is not defined",
     "output_type": "error",
     "traceback": [
      "\u001b[0;31m---------------------------------------------------------------------------\u001b[0m",
      "\u001b[0;31mNameError\u001b[0m                                 Traceback (most recent call last)",
      "\u001b[0;32m<ipython-input-6-bae6d7d118d0>\u001b[0m in \u001b[0;36m<module>\u001b[0;34m\u001b[0m\n\u001b[0;32m----> 1\u001b[0;31m \u001b[0mfbasol\u001b[0m \u001b[0;34m=\u001b[0m  \u001b[0mFBA_pred\u001b[0m\u001b[0;34m(\u001b[0m\u001b[0mmodel\u001b[0m\u001b[0;34m,\u001b[0m \u001b[0;34m'phenol'\u001b[0m\u001b[0;34m)\u001b[0m\u001b[0;34m\u001b[0m\u001b[0;34m\u001b[0m\u001b[0m\n\u001b[0m",
      "\u001b[0;31mNameError\u001b[0m: name 'FBA_pred' is not defined"
     ]
    }
   ],
   "source": [
    "fbasol =  FBA_pred(model, 'phenol') "
   ]
  },
  {
   "cell_type": "code",
   "execution_count": null,
   "id": "9a7b96c7-068b-4879-8784-519f12fc62b8",
   "metadata": {},
   "outputs": [],
   "source": [
    "pfbasol =  FBA_pred(model, 'phenol') "
   ]
  },
  {
   "cell_type": "markdown",
   "id": "dfd59b9a-84e7-4218-87c8-a4c08c635b6a",
   "metadata": {
    "tags": []
   },
   "source": [
    "#### **Plot solutions: Comparison of FBA predictions and 13c measurements**"
   ]
  },
  {
   "cell_type": "markdown",
   "id": "058fc10f-2179-4e63-b9cf-54dabb778651",
   "metadata": {},
   "source": [
    "##### **Set plot output directory and import plot functions**"
   ]
  },
  {
   "cell_type": "code",
   "execution_count": null,
   "id": "191e7e63-aab6-4539-9ee4-94f4f5c522cf",
   "metadata": {},
   "outputs": [],
   "source": [
    "output_dir = 'Plots/'\n",
    "from plot import *"
   ]
  },
  {
   "cell_type": "markdown",
   "id": "0b7a86a5-7cdf-48b5-801f-16a421074a5c",
   "metadata": {},
   "source": [
    "##### **Add Phenol FBA and pFBA flux values to phenol fluxes dataframe**"
   ]
  },
  {
   "cell_type": "markdown",
   "id": "b5650337-1e36-49ad-aaa7-1496662ccaec",
   "metadata": {},
   "source": [
    "##### **FBA**"
   ]
  },
  {
   "cell_type": "code",
   "execution_count": null,
   "id": "07d9fede-ae69-411f-9248-e9a588ef996f",
   "metadata": {},
   "outputs": [],
   "source": [
    "phenol_fluxes = add_pred_fluxes_to_13c_df_without_std(phenol_fluxes, fbasol, 'FBA', 'WT')\n"
   ]
  },
  {
   "cell_type": "markdown",
   "id": "f05de34d-ca43-45fd-a099-2ca0bba8b72c",
   "metadata": {
    "tags": []
   },
   "source": [
    "##### **pFBA**"
   ]
  },
  {
   "cell_type": "code",
   "execution_count": null,
   "id": "c592254c-0876-41c0-b232-412d7cb14f33",
   "metadata": {},
   "outputs": [],
   "source": [
    "phenol_fluxes =  add_pred_fluxes_to_13c_df_without_std(phenol_fluxes, pfbasol, 'pFBA', 'WT')"
   ]
  },
  {
   "cell_type": "markdown",
   "id": "221f3386-5f5b-460a-9529-5922fde78caa",
   "metadata": {
    "tags": []
   },
   "source": [
    "##### **FBA**"
   ]
  },
  {
   "cell_type": "code",
   "execution_count": null,
   "id": "79a2ba6f-c662-49e7-a37b-d38d213c6f7d",
   "metadata": {},
   "outputs": [],
   "source": [
    "scatterplotcomp_obs_vs_pred(phenol_fluxes, substrate='phenol', method='FBA', strain='WT')"
   ]
  },
  {
   "cell_type": "code",
   "execution_count": null,
   "id": "a5caab23-79cd-4218-8a1d-015b17266cf7",
   "metadata": {},
   "outputs": [],
   "source": [
    "scatterplotcomp_obs_vs_pred_withstd(phenol_fluxes, substrate='phenol', method='FBA', strain='WT')"
   ]
  },
  {
   "cell_type": "markdown",
   "id": "af025ffc-9c98-4660-9358-30049715509e",
   "metadata": {
    "tags": []
   },
   "source": [
    "##### **pFBA**"
   ]
  },
  {
   "cell_type": "code",
   "execution_count": null,
   "id": "6d321e3c-2e64-4898-859d-d5be66163f15",
   "metadata": {},
   "outputs": [],
   "source": [
    "scatterplotcomp_obs_vs_pred(phenol_fluxes, substrate='phenol', method='pFBA', strain='WT')"
   ]
  },
  {
   "cell_type": "code",
   "execution_count": null,
   "id": "550e4f68-bd9b-4b25-b834-0fbd2f9aa501",
   "metadata": {},
   "outputs": [],
   "source": [
    "scatterplotcomp_obs_vs_pred_withstd(phenol_fluxes, substrate='phenol', method='pFBA', strain='WT')"
   ]
  },
  {
   "cell_type": "markdown",
   "id": "44f38a37-eda4-4e78-88f5-1398d97c4068",
   "metadata": {},
   "source": [
    "### Map FBA Fluxes"
   ]
  },
  {
   "cell_type": "code",
   "execution_count": null,
   "id": "e5f3a851-61e8-489d-8774-8e72c8552a63",
   "metadata": {},
   "outputs": [],
   "source": [
    "map_flux_results(phenol_fluxes, 'FBA WT Value')"
   ]
  },
  {
   "cell_type": "markdown",
   "id": "ae610706-5566-46d7-965c-dfbe4714bf8c",
   "metadata": {},
   "source": [
    "### Map pFBA Fluxes"
   ]
  },
  {
   "cell_type": "code",
   "execution_count": null,
   "id": "a7d508a0-cef1-4854-8910-1b64f3bc4b91",
   "metadata": {},
   "outputs": [],
   "source": [
    "map_flux_results(phenol_fluxes, 'pFBA WT Value')"
   ]
  },
  {
   "cell_type": "markdown",
   "id": "a5b6fcba-72a9-49f2-81c5-c2fe2bfad820",
   "metadata": {
    "tags": []
   },
   "source": [
    "### Map 13C MFA Fluxes"
   ]
  },
  {
   "cell_type": "code",
   "execution_count": null,
   "id": "d294f386-3935-45b5-9c12-436541ee16ad",
   "metadata": {},
   "outputs": [],
   "source": [
    "map_flux_results(phenol_fluxes, 'Flux')"
   ]
  },
  {
   "cell_type": "markdown",
   "id": "0adcac56-a690-46ba-8ba8-476c333f8118",
   "metadata": {
    "tags": []
   },
   "source": [
    "##### **Save 13C MFA fluxes and FBA, pFBA predictions as csv file**"
   ]
  },
  {
   "cell_type": "code",
   "execution_count": null,
   "id": "95871a95-14ff-4897-a277-06d1b337832e",
   "metadata": {},
   "outputs": [],
   "source": [
    "phenol_fluxes.to_csv('../13C_flux_data/13C_phenol_flux_and_FBA_pFBA_data.csv')"
   ]
  },
  {
   "cell_type": "markdown",
   "id": "b8680556-7ef9-470e-9252-7d69b3f30a1c",
   "metadata": {
    "tags": []
   },
   "source": [
    "### **2. Glucose 13CMFA Comparison and Flux Maps**"
   ]
  },
  {
   "cell_type": "markdown",
   "id": "cb890abd-321b-4ea0-b428-b69006dcd961",
   "metadata": {},
   "source": [
    "#### **WT-LN-G**"
   ]
  },
  {
   "cell_type": "markdown",
   "id": "c162f863-94e4-483a-be62-5ef27a349f80",
   "metadata": {
    "jp-MarkdownHeadingCollapsed": true,
    "tags": []
   },
   "source": [
    "##### **Load 13cdata**"
   ]
  },
  {
   "cell_type": "markdown",
   "id": "20ac2204-bc96-4ff0-a574-bccd84ab7a1c",
   "metadata": {
    "tags": []
   },
   "source": [
    "#####  **Get 13C MFA measured fluxes for glucose**"
   ]
  },
  {
   "cell_type": "code",
   "execution_count": null,
   "id": "bbf156b3-28f0-4fce-b975-324b0eac2159",
   "metadata": {},
   "outputs": [],
   "source": [
    "glucose_fluxes = pd.read_csv('../13C_flux_data/13C_glucose_flux_data.csv')\n",
    "\n",
    "# Remove rows that do not have a mapping to the GSM\n",
    "glucose_fluxes.dropna(inplace=True)\n",
    "print(f'There are {len(glucose_fluxes)} fluxes that can be compared between the MFA and FBA')"
   ]
  },
  {
   "cell_type": "code",
   "execution_count": null,
   "id": "31e91778-382f-435c-bccc-5fdef944e6b4",
   "metadata": {},
   "outputs": [],
   "source": [
    "fbasol_glu =  FBA_pred(model, 'glucose') "
   ]
  },
  {
   "cell_type": "markdown",
   "id": "c610ed0c-d849-4859-a2f7-69838c2849bf",
   "metadata": {
    "tags": []
   },
   "source": [
    "##### **Add Glucose FBA flux values to glucose_fluxes dataframe**"
   ]
  },
  {
   "cell_type": "markdown",
   "id": "08f0b4e7-36ca-424b-9710-b58af35f73d6",
   "metadata": {
    "tags": []
   },
   "source": [
    "##### **FBA**"
   ]
  },
  {
   "cell_type": "code",
   "execution_count": null,
   "id": "0af7bc6a-ec6b-4595-8c57-bfd6902488e3",
   "metadata": {},
   "outputs": [],
   "source": [
    "glucose_fluxes =  add_pred_fluxes_to_13c_df_without_std(glucose_fluxes, fbasol_glu, 'FBA', 'WT')"
   ]
  },
  {
   "cell_type": "markdown",
   "id": "84152e91-5774-4bf4-87b6-1bceb71a140c",
   "metadata": {},
   "source": [
    "### Run glucose flux pFBA"
   ]
  },
  {
   "cell_type": "code",
   "execution_count": null,
   "id": "1d8dc9ff-8d77-4fcb-91fe-e58a5e3cf4f1",
   "metadata": {},
   "outputs": [],
   "source": [
    "pfbasol_glu =  pFBA_pred(model, 'glucose') "
   ]
  },
  {
   "cell_type": "markdown",
   "id": "29534e08-b990-4b9e-acbc-53281a49755e",
   "metadata": {
    "tags": []
   },
   "source": [
    "### Add Glucose FBA flux values to glucose_fluxes dataframe"
   ]
  },
  {
   "cell_type": "markdown",
   "id": "4c85845e-12fb-4960-b3c9-df24f1f6d74f",
   "metadata": {},
   "source": [
    "##### **pFBA**"
   ]
  },
  {
   "cell_type": "code",
   "execution_count": null,
   "id": "ce5121b1-7551-4fc1-80cd-a184c6d3f58f",
   "metadata": {},
   "outputs": [],
   "source": [
    "glucose_fluxes =  add_pred_fluxes_to_13c_df_without_std(glucose_fluxes, pfbasol_glu, 'pFBA', 'WT')"
   ]
  },
  {
   "cell_type": "markdown",
   "id": "ec323b16-f0f1-4eff-9502-e4f05058d06c",
   "metadata": {},
   "source": [
    "### Plot FBA vs 13C MFA"
   ]
  },
  {
   "cell_type": "markdown",
   "id": "3584d7d3-cb2e-4b27-a7a8-be23b932a879",
   "metadata": {},
   "source": [
    "##### **Write 13CMFA and predictions to file**"
   ]
  },
  {
   "cell_type": "code",
   "execution_count": null,
   "id": "bbcf9f33-f5f6-4133-9fdc-ae2c2b0264bb",
   "metadata": {},
   "outputs": [],
   "source": [
    "glucose_fluxes.to_csv('../13C_flux_data/13C_glucose_flux_and_FBA_pFBA_data.csv')"
   ]
  },
  {
   "cell_type": "markdown",
   "id": "9f609e42-646f-4c44-9298-b269fbba3de5",
   "metadata": {},
   "source": [
    "### Plot FBA, pFBA vs 13C MFA"
   ]
  },
  {
   "cell_type": "markdown",
   "id": "dec14855-bb7b-4974-864c-82cd111aa7a6",
   "metadata": {
    "tags": []
   },
   "source": [
    "##### **Plot 13CMFA vs. FBA predictions**"
   ]
  },
  {
   "cell_type": "code",
   "execution_count": null,
   "id": "9adc0447-03ed-4507-9c14-ea9d4784b818",
   "metadata": {},
   "outputs": [],
   "source": [
    "scatterplotcomp_obs_vs_pred(glucose_fluxes, substrate='glucose', method='FBA', strain='WT')"
   ]
  },
  {
   "cell_type": "markdown",
   "id": "427242b4-5fab-412b-bf25-0b166eeeed6c",
   "metadata": {
    "tags": []
   },
   "source": [
    "##### **Plot 13CMFA vs. FBA predictions with standard deviations**"
   ]
  },
  {
   "cell_type": "code",
   "execution_count": null,
   "id": "58e01fef-10f4-4261-a610-ffaf528a9773",
   "metadata": {},
   "outputs": [],
   "source": [
    "scatterplotcomp_obs_vs_pred_withstd(glucose_fluxes, substrate='glucose', method='FBA', strain='WT')"
   ]
  },
  {
   "cell_type": "markdown",
   "id": "31d8ff18-bfac-4dfb-9ee4-45815a6ac87d",
   "metadata": {
    "tags": []
   },
   "source": [
    "##### **Plot 13CMFA vs. FBA predictions**"
   ]
  },
  {
   "cell_type": "code",
   "execution_count": null,
   "id": "c030b093-d077-4177-b4a8-a0ada3d63c9f",
   "metadata": {},
   "outputs": [],
   "source": [
    "scatterplotcomp_obs_vs_pred(glucose_fluxes, substrate='glucose', method='pFBA', strain='WT')"
   ]
  },
  {
   "cell_type": "markdown",
   "id": "83671213-c751-4eb7-9441-c12ffa037a8d",
   "metadata": {
    "tags": []
   },
   "source": [
    "##### **Plot 13CMFA vs. FBA predictions with standard deviations**"
   ]
  },
  {
   "cell_type": "code",
   "execution_count": null,
   "id": "678f1b8b-a4de-4529-b74e-a77a253803ae",
   "metadata": {},
   "outputs": [],
   "source": [
    "scatterplotcomp_obs_vs_pred_withstd(glucose_fluxes, substrate='glucose', method='pFBA', strain='WT')"
   ]
  },
  {
   "cell_type": "markdown",
   "id": "a3b7b0d3-3126-4381-8709-1b4743239ec1",
   "metadata": {},
   "source": [
    "#### **Map FBA Fluxes**"
   ]
  },
  {
   "cell_type": "code",
   "execution_count": null,
   "id": "120b1a42-13f5-4cf4-a84f-a183f4e54974",
   "metadata": {},
   "outputs": [],
   "source": [
    "map_flux_results(glucose_fluxes, 'FBA WT Value')"
   ]
  },
  {
   "cell_type": "markdown",
   "id": "0bb6545e-7a3f-414f-bcc0-5aca01fe0da6",
   "metadata": {},
   "source": [
    "#### **Map pFBA Fluxes**"
   ]
  },
  {
   "cell_type": "code",
   "execution_count": null,
   "id": "adef418b-f4ca-4e05-88ef-c6d7df167ad5",
   "metadata": {},
   "outputs": [],
   "source": [
    "map_flux_results(glucose_fluxes, 'pFBA WT Value')"
   ]
  },
  {
   "cell_type": "markdown",
   "id": "cd1b9002-0669-4775-a361-2fea7187938e",
   "metadata": {},
   "source": [
    "#### **Map 13C MFA Fluxes**"
   ]
  },
  {
   "cell_type": "code",
   "execution_count": null,
   "id": "68776319-cd10-410d-b0ec-069959baf453",
   "metadata": {},
   "outputs": [],
   "source": [
    "map_flux_results(glucose_fluxes, 'Flux')"
   ]
  },
  {
   "cell_type": "markdown",
   "id": "69123a35-29db-40ef-881b-cd9d63f8d470",
   "metadata": {
    "tags": []
   },
   "source": [
    "### **3. Calculate growth rate predictions via FBA and pFBA**"
   ]
  },
  {
   "cell_type": "code",
   "execution_count": null,
   "id": "6b41cce5-c991-40dd-ba59-a31da610133a",
   "metadata": {},
   "outputs": [],
   "source": [
    "consumption_and_growth_data['FBA_growth_rate']=pd.Series(np.zeros(len(consumption_and_growth_data['growth rate'])), index=consumption_and_growth_data.index)\n",
    "consumption_and_growth_data['pFBA_growth_rate']=pd.Series(np.zeros(len(consumption_and_growth_data['growth rate'])), index=consumption_and_growth_data.index)\n",
    "display(consumption_and_growth_data)"
   ]
  },
  {
   "cell_type": "markdown",
   "id": "6169b848-025b-4691-8cb9-e20f65180e55",
   "metadata": {
    "tags": []
   },
   "source": [
    "##### Calculate FBA and pFBA growth rates and add to data frame"
   ]
  },
  {
   "cell_type": "code",
   "execution_count": null,
   "id": "33860458-9759-4aca-9d78-f5deb6a48077",
   "metadata": {},
   "outputs": [],
   "source": [
    "FBA_growth_rates = []\n",
    "pFBA_growth_rates = []\n",
    "for index in consumption_and_growth_data.index:\n",
    "    sub_uptake_rate = consumption_and_growth_data.loc[index,'substrate consumption rate']\n",
    "    if '-P' in str(index):\n",
    "        substrate='phenol'\n",
    "        growth = 'Growth_Phenol'\n",
    "    elif '-G' in str(index):\n",
    "        substrate='glucose'\n",
    "        growth = 'Growth_Glucose'\n",
    "    FBA_sol = FBA_pred(model, substrate, sub_uptake_rate)\n",
    "    display(FBA_sol.fluxes['Growth_Glucose'])\n",
    "    display(FBA_sol.fluxes[growth])\n",
    "    FBA_growth_sol = FBA_sol.fluxes[growth]\n",
    "    pFBA_sol = pFBA_pred(model, substrate, sub_uptake_rate)\n",
    "    pFBA_growth_sol = pFBA_sol.fluxes[growth]\n",
    "    \n",
    "    FBA_growth_rates.append(FBA_growth_sol)\n",
    "    pFBA_growth_rates.append(pFBA_growth_sol)\n",
    "    \n",
    "consumption_and_growth_data['FBA growth rate'] = FBA_growth_rates\n",
    "consumption_and_growth_data['pFBA growth rate'] = pFBA_growth_rates\n",
    "consumption_and_growth_data"
   ]
  },
  {
   "cell_type": "markdown",
   "id": "1451c0c9-e065-4031-ba10-54ab12fd6acd",
   "metadata": {},
   "source": [
    "dX/dt = mu*X\n",
    "\n",
    "unit of substrate uptake rate = mmol substrate / (1 g biomass * hr)\n",
    "units of biomass flux         = g biomass / (1 g biomass * hr) \n",
    "biomass flux = mu "
   ]
  },
  {
   "cell_type": "markdown",
   "id": "61fe8d02-93c0-43f0-a610-914b52fa77ae",
   "metadata": {
    "tags": []
   },
   "source": [
    "##### **Save growth rates as csv file**"
   ]
  },
  {
   "cell_type": "code",
   "execution_count": null,
   "id": "0208cf5d-8617-4264-89c0-bd370a2de1cb",
   "metadata": {},
   "outputs": [],
   "source": [
    "consumption_and_growth_data.to_csv('../consumption_and_growth_data/consumption_and_growth_data_FBA_pFBA.csv', index=True, header= True)"
   ]
  },
  {
   "cell_type": "markdown",
   "id": "ceb41920-0cc7-422b-b85f-633929b0b45d",
   "metadata": {},
   "source": [
    "### **4. Plot predicted vs measured growth rates**"
   ]
  },
  {
   "cell_type": "markdown",
   "id": "51b72b30-6af9-4124-a797-80ac0e812e1e",
   "metadata": {},
   "source": [
    "##### **Define list to just select the indices that correspond to the data that we have transcripts available for**"
   ]
  },
  {
   "cell_type": "code",
   "execution_count": null,
   "id": "945d77c6-9dba-4f48-9466-83f83de54602",
   "metadata": {},
   "outputs": [],
   "source": [
    "selectedlist = ['WT-P', 'PVHG-P', 'WT-LN-G']"
   ]
  },
  {
   "cell_type": "code",
   "execution_count": null,
   "id": "bb181e49-b5b8-42a5-ada6-9dbb6f1d12c8",
   "metadata": {},
   "outputs": [],
   "source": [
    "scatter_plot_compare(consumption_and_growth_data.loc[selectedlist, 'growth rate'], consumption_and_growth_data.loc[selectedlist, 'FBA growth rate'], selectedlist, 'FBA')"
   ]
  },
  {
   "cell_type": "code",
   "execution_count": null,
   "id": "e4ff1a4f-1c88-4e1c-984c-b5c795415011",
   "metadata": {},
   "outputs": [],
   "source": [
    "scatter_plot_compare(consumption_and_growth_data.loc[selectedlist, 'growth rate'], consumption_and_growth_data.loc[selectedlist, 'pFBA growth rate'], selectedlist, 'pFBA')"
   ]
  },
  {
   "cell_type": "code",
   "execution_count": null,
   "id": "62302b12-404f-443e-88e8-f9c0f3b7a142",
   "metadata": {},
   "outputs": [],
   "source": []
  }
 ],
 "metadata": {
  "kernelspec": {
   "display_name": "ART 3.9.4",
   "language": "python",
   "name": "art_3.9.4"
  },
  "language_info": {
   "codemirror_mode": {
    "name": "ipython",
    "version": 3
   },
   "file_extension": ".py",
   "mimetype": "text/x-python",
   "name": "python",
   "nbconvert_exporter": "python",
   "pygments_lexer": "ipython3",
   "version": "3.9.4"
  },
  "toc-autonumbering": false,
  "toc-showcode": false,
  "toc-showmarkdowntxt": false,
  "toc-showtags": false
 },
 "nbformat": 4,
 "nbformat_minor": 5
}

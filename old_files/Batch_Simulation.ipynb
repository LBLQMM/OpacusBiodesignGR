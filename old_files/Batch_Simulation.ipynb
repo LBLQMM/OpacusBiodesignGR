{
 "cells": [
  {
   "cell_type": "markdown",
   "metadata": {},
   "source": [
    "# Batch Simulation"
   ]
  },
  {
   "cell_type": "markdown",
   "metadata": {},
   "source": [
    "### Load Libraries"
   ]
  },
  {
   "cell_type": "code",
   "execution_count": 1,
   "metadata": {},
   "outputs": [
    {
     "ename": "ImportError",
     "evalue": "No module named 'matplotlib'",
     "output_type": "error",
     "traceback": [
      "\u001b[0;31m---------------------------------------------------------------------------\u001b[0m",
      "\u001b[0;31mImportError\u001b[0m                               Traceback (most recent call last)",
      "\u001b[0;32m<ipython-input-1-ab8519492e07>\u001b[0m in \u001b[0;36m<module>\u001b[0;34m\u001b[0m\n\u001b[0;32m----> 1\u001b[0;31m \u001b[0mget_ipython\u001b[0m\u001b[0;34m(\u001b[0m\u001b[0;34m)\u001b[0m\u001b[0;34m.\u001b[0m\u001b[0mrun_line_magic\u001b[0m\u001b[0;34m(\u001b[0m\u001b[0;34m'matplotlib'\u001b[0m\u001b[0;34m,\u001b[0m \u001b[0;34m'inline'\u001b[0m\u001b[0;34m)\u001b[0m\u001b[0;34m\u001b[0m\u001b[0m\n\u001b[0m\u001b[1;32m      2\u001b[0m \u001b[0;32mfrom\u001b[0m \u001b[0mmatplotlib\u001b[0m \u001b[0;32mimport\u001b[0m \u001b[0mpyplot\u001b[0m \u001b[0;32mas\u001b[0m \u001b[0mplt\u001b[0m\u001b[0;34m\u001b[0m\u001b[0m\n\u001b[1;32m      3\u001b[0m \u001b[0;32mimport\u001b[0m \u001b[0mnumpy\u001b[0m \u001b[0;32mas\u001b[0m \u001b[0mnp\u001b[0m\u001b[0;34m\u001b[0m\u001b[0m\n\u001b[1;32m      4\u001b[0m \u001b[0;32mimport\u001b[0m \u001b[0mpandas\u001b[0m \u001b[0;32mas\u001b[0m \u001b[0mpd\u001b[0m\u001b[0;34m\u001b[0m\u001b[0m\n\u001b[1;32m      5\u001b[0m \u001b[0;32mimport\u001b[0m \u001b[0mcobra\u001b[0m\u001b[0;34m\u001b[0m\u001b[0m\n",
      "\u001b[0;32m/usr/local/lib/python3.5/dist-packages/IPython/core/interactiveshell.py\u001b[0m in \u001b[0;36mrun_line_magic\u001b[0;34m(self, magic_name, line, _stack_depth)\u001b[0m\n\u001b[1;32m   2312\u001b[0m                 \u001b[0mkwargs\u001b[0m\u001b[0;34m[\u001b[0m\u001b[0;34m'local_ns'\u001b[0m\u001b[0;34m]\u001b[0m \u001b[0;34m=\u001b[0m \u001b[0msys\u001b[0m\u001b[0;34m.\u001b[0m\u001b[0m_getframe\u001b[0m\u001b[0;34m(\u001b[0m\u001b[0mstack_depth\u001b[0m\u001b[0;34m)\u001b[0m\u001b[0;34m.\u001b[0m\u001b[0mf_locals\u001b[0m\u001b[0;34m\u001b[0m\u001b[0m\n\u001b[1;32m   2313\u001b[0m             \u001b[0;32mwith\u001b[0m \u001b[0mself\u001b[0m\u001b[0;34m.\u001b[0m\u001b[0mbuiltin_trap\u001b[0m\u001b[0;34m:\u001b[0m\u001b[0;34m\u001b[0m\u001b[0m\n\u001b[0;32m-> 2314\u001b[0;31m                 \u001b[0mresult\u001b[0m \u001b[0;34m=\u001b[0m \u001b[0mfn\u001b[0m\u001b[0;34m(\u001b[0m\u001b[0;34m*\u001b[0m\u001b[0margs\u001b[0m\u001b[0;34m,\u001b[0m \u001b[0;34m**\u001b[0m\u001b[0mkwargs\u001b[0m\u001b[0;34m)\u001b[0m\u001b[0;34m\u001b[0m\u001b[0m\n\u001b[0m\u001b[1;32m   2315\u001b[0m             \u001b[0;32mreturn\u001b[0m \u001b[0mresult\u001b[0m\u001b[0;34m\u001b[0m\u001b[0m\n\u001b[1;32m   2316\u001b[0m \u001b[0;34m\u001b[0m\u001b[0m\n",
      "\u001b[0;32m</usr/local/lib/python3.5/dist-packages/decorator.py:decorator-gen-108>\u001b[0m in \u001b[0;36mmatplotlib\u001b[0;34m(self, line)\u001b[0m\n",
      "\u001b[0;32m/usr/local/lib/python3.5/dist-packages/IPython/core/magic.py\u001b[0m in \u001b[0;36m<lambda>\u001b[0;34m(f, *a, **k)\u001b[0m\n\u001b[1;32m    185\u001b[0m     \u001b[0;31m# but it's overkill for just that one bit of state.\u001b[0m\u001b[0;34m\u001b[0m\u001b[0;34m\u001b[0m\u001b[0m\n\u001b[1;32m    186\u001b[0m     \u001b[0;32mdef\u001b[0m \u001b[0mmagic_deco\u001b[0m\u001b[0;34m(\u001b[0m\u001b[0marg\u001b[0m\u001b[0;34m)\u001b[0m\u001b[0;34m:\u001b[0m\u001b[0;34m\u001b[0m\u001b[0m\n\u001b[0;32m--> 187\u001b[0;31m         \u001b[0mcall\u001b[0m \u001b[0;34m=\u001b[0m \u001b[0;32mlambda\u001b[0m \u001b[0mf\u001b[0m\u001b[0;34m,\u001b[0m \u001b[0;34m*\u001b[0m\u001b[0ma\u001b[0m\u001b[0;34m,\u001b[0m \u001b[0;34m**\u001b[0m\u001b[0mk\u001b[0m\u001b[0;34m:\u001b[0m \u001b[0mf\u001b[0m\u001b[0;34m(\u001b[0m\u001b[0;34m*\u001b[0m\u001b[0ma\u001b[0m\u001b[0;34m,\u001b[0m \u001b[0;34m**\u001b[0m\u001b[0mk\u001b[0m\u001b[0;34m)\u001b[0m\u001b[0;34m\u001b[0m\u001b[0m\n\u001b[0m\u001b[1;32m    188\u001b[0m \u001b[0;34m\u001b[0m\u001b[0m\n\u001b[1;32m    189\u001b[0m         \u001b[0;32mif\u001b[0m \u001b[0mcallable\u001b[0m\u001b[0;34m(\u001b[0m\u001b[0marg\u001b[0m\u001b[0;34m)\u001b[0m\u001b[0;34m:\u001b[0m\u001b[0;34m\u001b[0m\u001b[0m\n",
      "\u001b[0;32m/usr/local/lib/python3.5/dist-packages/IPython/core/magics/pylab.py\u001b[0m in \u001b[0;36mmatplotlib\u001b[0;34m(self, line)\u001b[0m\n\u001b[1;32m     97\u001b[0m             \u001b[0mprint\u001b[0m\u001b[0;34m(\u001b[0m\u001b[0;34m\"Available matplotlib backends: %s\"\u001b[0m \u001b[0;34m%\u001b[0m \u001b[0mbackends_list\u001b[0m\u001b[0;34m)\u001b[0m\u001b[0;34m\u001b[0m\u001b[0m\n\u001b[1;32m     98\u001b[0m         \u001b[0;32melse\u001b[0m\u001b[0;34m:\u001b[0m\u001b[0;34m\u001b[0m\u001b[0m\n\u001b[0;32m---> 99\u001b[0;31m             \u001b[0mgui\u001b[0m\u001b[0;34m,\u001b[0m \u001b[0mbackend\u001b[0m \u001b[0;34m=\u001b[0m \u001b[0mself\u001b[0m\u001b[0;34m.\u001b[0m\u001b[0mshell\u001b[0m\u001b[0;34m.\u001b[0m\u001b[0menable_matplotlib\u001b[0m\u001b[0;34m(\u001b[0m\u001b[0margs\u001b[0m\u001b[0;34m.\u001b[0m\u001b[0mgui\u001b[0m\u001b[0;34m.\u001b[0m\u001b[0mlower\u001b[0m\u001b[0;34m(\u001b[0m\u001b[0;34m)\u001b[0m \u001b[0;32mif\u001b[0m \u001b[0misinstance\u001b[0m\u001b[0;34m(\u001b[0m\u001b[0margs\u001b[0m\u001b[0;34m.\u001b[0m\u001b[0mgui\u001b[0m\u001b[0;34m,\u001b[0m \u001b[0mstr\u001b[0m\u001b[0;34m)\u001b[0m \u001b[0;32melse\u001b[0m \u001b[0margs\u001b[0m\u001b[0;34m.\u001b[0m\u001b[0mgui\u001b[0m\u001b[0;34m)\u001b[0m\u001b[0;34m\u001b[0m\u001b[0m\n\u001b[0m\u001b[1;32m    100\u001b[0m             \u001b[0mself\u001b[0m\u001b[0;34m.\u001b[0m\u001b[0m_show_matplotlib_backend\u001b[0m\u001b[0;34m(\u001b[0m\u001b[0margs\u001b[0m\u001b[0;34m.\u001b[0m\u001b[0mgui\u001b[0m\u001b[0;34m,\u001b[0m \u001b[0mbackend\u001b[0m\u001b[0;34m)\u001b[0m\u001b[0;34m\u001b[0m\u001b[0m\n\u001b[1;32m    101\u001b[0m \u001b[0;34m\u001b[0m\u001b[0m\n",
      "\u001b[0;32m/usr/local/lib/python3.5/dist-packages/IPython/core/interactiveshell.py\u001b[0m in \u001b[0;36menable_matplotlib\u001b[0;34m(self, gui)\u001b[0m\n\u001b[1;32m   3400\u001b[0m         \"\"\"\n\u001b[1;32m   3401\u001b[0m         \u001b[0;32mfrom\u001b[0m \u001b[0mIPython\u001b[0m\u001b[0;34m.\u001b[0m\u001b[0mcore\u001b[0m \u001b[0;32mimport\u001b[0m \u001b[0mpylabtools\u001b[0m \u001b[0;32mas\u001b[0m \u001b[0mpt\u001b[0m\u001b[0;34m\u001b[0m\u001b[0m\n\u001b[0;32m-> 3402\u001b[0;31m         \u001b[0mgui\u001b[0m\u001b[0;34m,\u001b[0m \u001b[0mbackend\u001b[0m \u001b[0;34m=\u001b[0m \u001b[0mpt\u001b[0m\u001b[0;34m.\u001b[0m\u001b[0mfind_gui_and_backend\u001b[0m\u001b[0;34m(\u001b[0m\u001b[0mgui\u001b[0m\u001b[0;34m,\u001b[0m \u001b[0mself\u001b[0m\u001b[0;34m.\u001b[0m\u001b[0mpylab_gui_select\u001b[0m\u001b[0;34m)\u001b[0m\u001b[0;34m\u001b[0m\u001b[0m\n\u001b[0m\u001b[1;32m   3403\u001b[0m \u001b[0;34m\u001b[0m\u001b[0m\n\u001b[1;32m   3404\u001b[0m         \u001b[0;32mif\u001b[0m \u001b[0mgui\u001b[0m \u001b[0;34m!=\u001b[0m \u001b[0;34m'inline'\u001b[0m\u001b[0;34m:\u001b[0m\u001b[0;34m\u001b[0m\u001b[0m\n",
      "\u001b[0;32m/usr/local/lib/python3.5/dist-packages/IPython/core/pylabtools.py\u001b[0m in \u001b[0;36mfind_gui_and_backend\u001b[0;34m(gui, gui_select)\u001b[0m\n\u001b[1;32m    274\u001b[0m     \"\"\"\n\u001b[1;32m    275\u001b[0m \u001b[0;34m\u001b[0m\u001b[0m\n\u001b[0;32m--> 276\u001b[0;31m     \u001b[0;32mimport\u001b[0m \u001b[0mmatplotlib\u001b[0m\u001b[0;34m\u001b[0m\u001b[0m\n\u001b[0m\u001b[1;32m    277\u001b[0m \u001b[0;34m\u001b[0m\u001b[0m\n\u001b[1;32m    278\u001b[0m     \u001b[0;32mif\u001b[0m \u001b[0mgui\u001b[0m \u001b[0;32mand\u001b[0m \u001b[0mgui\u001b[0m \u001b[0;34m!=\u001b[0m \u001b[0;34m'auto'\u001b[0m\u001b[0;34m:\u001b[0m\u001b[0;34m\u001b[0m\u001b[0m\n",
      "\u001b[0;31mImportError\u001b[0m: No module named 'matplotlib'"
     ]
    }
   ],
   "source": [
    "%matplotlib inline\n",
    "from matplotlib import pyplot as plt\n",
    "import numpy as np\n",
    "import pandas as pd\n",
    "import cobra\n",
    "import cplex"
   ]
  },
  {
   "cell_type": "code",
   "execution_count": null,
   "metadata": {},
   "outputs": [],
   "source": [
    "def EFlux2(model, Transcriptomics):\n",
    "    \n",
    "    mets = [m.id for m in model.metabolites]\n",
    "    rxns = [r.id for r in model.reactions]\n",
    "    nrow = len(mets)\n",
    "    ncol = len(rxns)\n",
    "\n",
    "    c = [r.objective_coefficient for r in model.reactions]\n",
    "\n",
    "    gpr_dict = dict()\n",
    "    for r in model.reactions:\n",
    "        if r.gene_reaction_rule:\n",
    "            temp = set()\n",
    "            for x in [x.strip('() ') for x in r.gene_reaction_rule.split(' or ')]:\n",
    "                temp.add(frozenset(y.strip('() ') for y in x.split(' and ')))\n",
    "            gpr_dict[r.id] = temp\n",
    "\n",
    "    for r in model.reactions:\n",
    "        if r.lower_bound == -1000.0:\n",
    "            r.lower_bound = -np.Inf\n",
    "        if r.upper_bound == 1000.0:\n",
    "            r.upper_bound = np.Inf\n",
    "\n",
    "    lb = []\n",
    "    ub = []\n",
    "    for r in model.reactions:\n",
    "        if r.gene_reaction_rule:\n",
    "            t = np.sum([np.min([Transcriptomics.loc[g] if g in Transcriptomics.index \n",
    "                                else np.array([np.Inf]) for g in p])\n",
    "                        for p in gpr_dict[r.id]])\n",
    "            if r.lower_bound < 0.0:\n",
    "                lb.append(-t)\n",
    "            else:\n",
    "                lb.append(r.lower_bound)\n",
    "            if r.upper_bound > 0.0:\n",
    "                ub.append(t)\n",
    "            else:\n",
    "                ub.append(r.upper_bound)\n",
    "        else:\n",
    "            lb.append(r.lower_bound)\n",
    "            ub.append(r.upper_bound)\n",
    "\n",
    "    EFlux2 = cplex.Cplex()\n",
    "    EFlux2.set_results_stream(None)\n",
    "    EFlux2.parameters.simplex.tolerances.optimality.set(1e-9)\n",
    "    EFlux2.parameters.simplex.tolerances.feasibility.set(1e-9)\n",
    "\n",
    "    EFlux2.linear_constraints.add(rhs=[0]*nrow, senses='E'*nrow, names=mets)\n",
    "    EFlux2.variables.add(obj=c, lb=lb, ub=ub, names=rxns)\n",
    "    for r in model.reactions:\n",
    "        for m, v in r.metabolites.items():\n",
    "            EFlux2.linear_constraints.set_coefficients(m.id, r.id, v)\n",
    "\n",
    "    EFlux2.objective.set_sense(EFlux2.objective.sense.maximize)\n",
    "    EFlux2.solve()\n",
    "    \n",
    "    Q = [1.0 for r in model.reactions]\n",
    "    \n",
    "    EFlux2_min = cplex.Cplex()\n",
    "    EFlux2_min.set_results_stream(None)\n",
    "    EFlux2_min.parameters.simplex.tolerances.optimality.set(1e-9)\n",
    "    EFlux2_min.parameters.simplex.tolerances.feasibility.set(1e-9)\n",
    "\n",
    "    EFlux2_min.linear_constraints.add(rhs=[0]*nrow, senses='E'*nrow, names=mets)\n",
    "    EFlux2_min.variables.add(obj=[0]*ncol, lb=lb, ub=ub, names=rxns)\n",
    "    for r in model.reactions:\n",
    "        for m, v in r.metabolites.items():\n",
    "            EFlux2_min.linear_constraints.set_coefficients(m.id, r.id, v)\n",
    "\n",
    "    EFlux2_min.variables.set_lower_bounds(biomass, 1.0*EFlux2.solution.get_objective_value())\n",
    "    EFlux2_min.objective.set_quadratic(Q)\n",
    "    EFlux2_min.objective.set_sense(EFlux2_min.objective.sense.minimize)\n",
    "    EFlux2_min.solve()\n",
    "    \n",
    "    sol = type('',(),{})()\n",
    "    sol = pd.Series(data=EFlux2_min.solution.get_values(), index=rxns)\n",
    "    sol.objective_value = (EFlux2.solution.get_objective_value(),\n",
    "                           EFlux2_min.solution.get_objective_value())\n",
    "    sol.status = (EFlux2.solution.get_status_string(),\n",
    "                  EFlux2_min.solution.get_status_string())\n",
    "    \n",
    "    return(sol)\n",
    "\n",
    "def SPOT(model, Transcriptomics):\n",
    "    \n",
    "    mets = [m.id for m in model.metabolites]\n",
    "    rxns = [r.id for r in model.reactions]\n",
    "    nrow = len(mets)\n",
    "    ncol = len(rxns)\n",
    "\n",
    "    rev_rxns = ['rev_'+r.id for r in model.reactions if r.reversibility]\n",
    "    rev_ncol = len(rev_rxns)\n",
    "\n",
    "    gpr_dict = dict()\n",
    "    for r in model.reactions:\n",
    "        if r.gene_reaction_rule:\n",
    "            temp = set()\n",
    "            for x in [x.strip('() ') for x in r.gene_reaction_rule.split(' or ')]:\n",
    "                temp.add(frozenset(y.strip('() ') for y in x.split(' and ')))\n",
    "            gpr_dict[r.id] = temp\n",
    "\n",
    "    lb = [0.0 if r.reversibility else r.lower_bound for r in model.reactions] + [0.0 for r in model.reactions if r.reversibility]\n",
    "    ub = [r.upper_bound for r in model.reactions] + [-r.lower_bound for r in model.reactions if r.reversibility]\n",
    "        \n",
    "    c = []\n",
    "    for r in model.reactions:\n",
    "        if r.gene_reaction_rule:\n",
    "            t = np.sum([np.min([Transcriptomics.loc[g] if g in Transcriptomics.index \n",
    "                                else np.array([np.Inf]) for g in p])\n",
    "                        for p in gpr_dict[r.id]])\n",
    "            if t == np.Inf:\n",
    "                t = 0\n",
    "            c.append(t)\n",
    "        else:\n",
    "            c.append(0.0)\n",
    "    for r in model.reactions:\n",
    "        if r.reversibility:\n",
    "            if r.gene_reaction_rule:\n",
    "                t = np.sum([np.min([Transcriptomics.loc[g] if g in Transcriptomics.index \n",
    "                                    else np.array([np.Inf]) for g in p])\n",
    "                            for p in gpr_dict[r.id]])\n",
    "                if t == np.Inf:\n",
    "                    t = 0\n",
    "                c.append(t)\n",
    "            else:\n",
    "                c.append(0.0)\n",
    "\n",
    "    SPOT = cplex.Cplex()\n",
    "    SPOT.set_results_stream(None)\n",
    "    SPOT.parameters.simplex.tolerances.optimality.set(1e-9)\n",
    "    SPOT.parameters.simplex.tolerances.feasibility.set(1e-9)\n",
    "\n",
    "    SPOT.linear_constraints.add(rhs=[0]*nrow, senses='E'*nrow, names=mets)\n",
    "    SPOT.variables.add(obj=c, lb=lb, ub=ub, names=rxns+rev_rxns)\n",
    "    for r in model.reactions:\n",
    "        for m, v in r.metabolites.items():\n",
    "            SPOT.linear_constraints.set_coefficients(m.id, r.id, v)\n",
    "    for r in model.reactions:\n",
    "        if r.reversibility:\n",
    "            for m, v in r.metabolites.items():\n",
    "                SPOT.linear_constraints.set_coefficients(m.id, 'rev_'+r.id, -v)\n",
    "    SPOT.quadratic_constraints.add(quad_expr=[rxns+rev_rxns, rxns+rev_rxns, [1]*len(c)],\n",
    "                                   sense='L', rhs=100000.0, name='L2norm')\n",
    "    SPOT.objective.set_sense(SPOT.objective.sense.maximize)\n",
    "    SPOT.solve()\n",
    "    SPOT_sol = SPOT.solution.get_objective_value()\n",
    "\n",
    "    sol = type('',(),{})()\n",
    "    temp = pd.Series(data=SPOT.solution.get_values(), index=rxns+rev_rxns)\n",
    "    flux = temp.loc[rxns]\n",
    "    flux_rev = temp.loc[rev_rxns]\n",
    "    for r in model.reactions:\n",
    "        if r.reversibility:\n",
    "            flux.loc[r.id] = flux.loc[r.id] - flux_rev.loc['rev_'+r.id]\n",
    "    sol = flux\n",
    "    sol.objective_value = SPOT.solution.get_objective_value()\n",
    "    sol.status = SPOT.solution.get_status_string()\n",
    "    \n",
    "    return(sol)"
   ]
  },
  {
   "cell_type": "markdown",
   "metadata": {},
   "source": [
    "### Load a metabolic model"
   ]
  },
  {
   "cell_type": "code",
   "execution_count": null,
   "metadata": {},
   "outputs": [],
   "source": [
    "model = cobra.io.load_json_model(\"iML1515.json\")"
   ]
  },
  {
   "cell_type": "code",
   "execution_count": null,
   "metadata": {},
   "outputs": [],
   "source": [
    "model"
   ]
  },
  {
   "cell_type": "code",
   "execution_count": null,
   "metadata": {},
   "outputs": [],
   "source": [
    "biomass = 'BIOMASS_Ec_iML1515_core_75p37M'"
   ]
  },
  {
   "cell_type": "code",
   "execution_count": null,
   "metadata": {
    "scrolled": true
   },
   "outputs": [],
   "source": [
    "model.medium"
   ]
  },
  {
   "cell_type": "code",
   "execution_count": null,
   "metadata": {},
   "outputs": [],
   "source": [
    "model.solver"
   ]
  },
  {
   "cell_type": "code",
   "execution_count": null,
   "metadata": {},
   "outputs": [],
   "source": [
    "model.solver = 'cplex'\n",
    "sol = model.optimize()\n",
    "print(sol.status, sol.objective_value)"
   ]
  },
  {
   "cell_type": "code",
   "execution_count": null,
   "metadata": {},
   "outputs": [],
   "source": [
    "sol = cobra.flux_analysis.pfba(model)\n",
    "print(sol.status, sol[biomass])"
   ]
  },
  {
   "cell_type": "code",
   "execution_count": null,
   "metadata": {},
   "outputs": [],
   "source": [
    "Transcriptomics = pd.read_csv('ishii-trans-1.csv', index_col=0, header=None)\n",
    "Transcriptomics.head()"
   ]
  },
  {
   "cell_type": "code",
   "execution_count": null,
   "metadata": {},
   "outputs": [],
   "source": [
    "sol = EFlux2(model,Transcriptomics[1])\n",
    "print(sol.status, sol.objective_value)"
   ]
  },
  {
   "cell_type": "code",
   "execution_count": null,
   "metadata": {},
   "outputs": [],
   "source": [
    "sol = SPOT(model,Transcriptomics[1])\n",
    "print(sol.status, sol[biomass], sol.objective_value)"
   ]
  },
  {
   "cell_type": "code",
   "execution_count": null,
   "metadata": {},
   "outputs": [],
   "source": [
    "print('Uptake rates')\n",
    "for x in model.exchanges:\n",
    "    if sol[x.id] < -1e-6:\n",
    "        print(x.id, sol[x.id])\n",
    "print()\n",
    "print('Secretion rates')\n",
    "for x in model.exchanges:\n",
    "    if sol[x.id] > 1e-6:\n",
    "        print(x.id, sol[x.id])"
   ]
  },
  {
   "cell_type": "markdown",
   "metadata": {},
   "source": [
    "### Define medium and initial concentrations"
   ]
  },
  {
   "cell_type": "code",
   "execution_count": null,
   "metadata": {},
   "outputs": [],
   "source": [
    "volume = 1.0\n",
    "comp = ['glc__D_e', 'nh4_e', 'pi_e', 'so4_e', 'mg2_e', 'k_e', 'na1_e', 'cl_e']\n",
    "subs0 = [22.203, 18.695, 69.454, 2.0, 2.0, 21.883, 103.7, 27.25] # in mM\n",
    "cell0 = 0.01 # in gDW/L\n",
    "pd.DataFrame(index=comp, data=subs0, columns=['mM'])"
   ]
  },
  {
   "cell_type": "code",
   "execution_count": null,
   "metadata": {
    "scrolled": true
   },
   "outputs": [],
   "source": [
    "subs_ext = {r.id: r.reactants[0].id for r in model.exchanges if r.reactants[0].id in comp}\n",
    "subs_ext"
   ]
  },
  {
   "cell_type": "code",
   "execution_count": null,
   "metadata": {
    "scrolled": true
   },
   "outputs": [],
   "source": [
    "prod_ext = {r.id: r.reactants[0].id for r in model.exchanges if r.upper_bound > 0.0}\n",
    "prod_ext"
   ]
  },
  {
   "cell_type": "markdown",
   "metadata": {},
   "source": [
    "### Set time interval and concentration profiles"
   ]
  },
  {
   "cell_type": "code",
   "execution_count": null,
   "metadata": {
    "scrolled": true
   },
   "outputs": [],
   "source": [
    "t0 = 0.0\n",
    "tf = 24.0\n",
    "pts = 13\n",
    "tspan = np.linspace(t0, tf, pts)\n",
    "delt = tspan[1] - tspan[0]\n",
    "cell = pd.Series(index=tspan)\n",
    "cell[t0] = cell0\n",
    "subs = pd.DataFrame(index=tspan, columns=comp)\n",
    "subs.loc[t0] = subs0\n",
    "prod = pd.DataFrame(index=tspan, columns=prod_ext.values())\n",
    "prod.loc[t0] = 0.0"
   ]
  },
  {
   "cell_type": "markdown",
   "metadata": {},
   "source": [
    "### Solve pFBA at each time interval and update concentrations"
   ]
  },
  {
   "cell_type": "code",
   "execution_count": null,
   "metadata": {
    "scrolled": true
   },
   "outputs": [],
   "source": [
    "with model:\n",
    "    for t in tspan:\n",
    "        for k, v in subs_ext.items():\n",
    "            model.reactions.get_by_id(k).lower_bound = max(model.reactions.get_by_id(k).lower_bound,\n",
    "                                                           -subs.loc[t,v]*volume/cell[t]/delt)\n",
    "        sol = model.optimize()\n",
    "        #sol = cobra.flux_analysis.pfba(model)\n",
    "        mu = sol[biomass]\n",
    "        print(t, sol.status, mu)\n",
    "        if sol.status == 'optimal' and mu > 1e-6:\n",
    "            cell[t+delt] = cell[t]*np.exp(mu*delt)\n",
    "            for k, v in subs_ext.items():\n",
    "                subs.loc[t+delt,v] = max(subs.loc[t,v]-sol[k]/mu*cell[t]*(1-np.exp(mu*delt)),0.0)\n",
    "            for k, v in prod_ext.items():\n",
    "                if sol[k] > 0:\n",
    "                    if v in prod.columns:\n",
    "                        prod.loc[t+delt,v] = prod.loc[t,v]-sol[k]/mu*cell[t]*(1-np.exp(mu*delt))\n",
    "                    else:\n",
    "                        prod.loc[0:t,v] = 0\n",
    "                        prod.loc[t+delt,v] = prod.loc[t,v]-sol[k]/mu*cell[t]*(1-np.exp(mu*delt))\n",
    "        else:\n",
    "            #break\n",
    "            cell[t+delt] = cell[t]\n",
    "            for k, v in subs_ext.items():\n",
    "                subs.loc[t+delt,v] = subs.loc[t,v]\n",
    "            for k, v in prod_ext.items():\n",
    "                prod.loc[t+delt,v] = prod.loc[t,v]\n",
    "\n",
    "t = 24\n",
    "cell = cell[0:t]\n",
    "subs = subs.loc[0:t]\n",
    "prod = prod.loc[0:t, prod.columns[prod.max() > 0.0]]"
   ]
  },
  {
   "cell_type": "markdown",
   "metadata": {},
   "source": [
    "### Plot cell mass and concentration profiles"
   ]
  },
  {
   "cell_type": "code",
   "execution_count": null,
   "metadata": {},
   "outputs": [],
   "source": [
    "fig, ax = plt.subplots(figsize=(12,4), ncols=3, nrows=1)\n",
    "cell.plot(ax=ax[0], style='s-', title='Cell', label='dcw', legend=True)\n",
    "ax[0].set_xlabel(\"Hour\")\n",
    "ax[0].set_ylabel(\"Concentration (gDW/L)\")\n",
    "subs.plot(ax=ax[1], style='o-', title='Substrates')\n",
    "ax[1].set_xlabel(\"Hour\")\n",
    "ax[1].set_ylabel(\"Concentration (mM)\")\n",
    "prod.plot(ax=ax[2], style='o-', title='Products')\n",
    "ax[2].set_xlabel(\"Hour\")\n",
    "ax[2].set_ylabel(\"Concentration (mM)\")\n",
    "plt.tight_layout()"
   ]
  },
  {
   "cell_type": "markdown",
   "metadata": {},
   "source": [
    "### Set time interval and concentration profiles"
   ]
  },
  {
   "cell_type": "code",
   "execution_count": null,
   "metadata": {},
   "outputs": [],
   "source": [
    "t0 = 0.0\n",
    "tf = 24.0\n",
    "pts = 13\n",
    "tspan = np.linspace(t0, tf, pts)\n",
    "delt = tspan[1] - tspan[0]\n",
    "cell = pd.Series(index=tspan)\n",
    "cell[t0] = cell0\n",
    "subs = pd.DataFrame(index=tspan, columns=comp)\n",
    "subs.loc[t0] = subs0\n",
    "prod = pd.DataFrame(index=tspan, columns=prod_ext.values())\n",
    "prod.loc[t0] = 0.0"
   ]
  },
  {
   "cell_type": "markdown",
   "metadata": {},
   "source": [
    "### Solve EFlux2 at each time interval and update concentrations"
   ]
  },
  {
   "cell_type": "code",
   "execution_count": null,
   "metadata": {},
   "outputs": [],
   "source": [
    "with model:\n",
    "    for t in tspan:\n",
    "        for k, v in subs_ext.items():\n",
    "            model.reactions.get_by_id(k).lower_bound = max(model.reactions.get_by_id(k).lower_bound,\n",
    "                                                           -subs.loc[t,v]*volume/cell[t]/delt)\n",
    "        sol = EFlux2(model,Transcriptomics[1])\n",
    "        #sol = SPOT(model,Transcriptomics[t])\n",
    "        mu = sol[biomass]\n",
    "        print(t, sol.status, mu)\n",
    "        if sol.status == ('optimal','optimal') and mu > 1e-6:\n",
    "            cell[t+delt] = cell[t]*np.exp(mu*delt)\n",
    "            for k, v in subs_ext.items():\n",
    "                subs.loc[t+delt,v] = max(subs.loc[t,v]-sol[k]/mu*cell[t]*(1-np.exp(mu*delt)),0.0)\n",
    "            for k, v in prod_ext.items():\n",
    "                if sol[k] > 0:\n",
    "                    if v in prod.columns:\n",
    "                        prod.loc[t+delt,v] = prod.loc[t,v]-sol[k]/mu*cell[t]*(1-np.exp(mu*delt))\n",
    "                    else:\n",
    "                        prod.loc[0:t,v] = 0\n",
    "                        prod.loc[t+delt,v] = prod.loc[t,v]-sol[k]/mu*cell[t]*(1-np.exp(mu*delt))\n",
    "        else:\n",
    "            #break\n",
    "            cell[t+delt] = cell[t]\n",
    "            for k, v in subs_ext.items():\n",
    "                subs.loc[t+delt,v] = subs.loc[t,v]\n",
    "            for k, v in prod_ext.items():\n",
    "                prod.loc[t+delt,v] = prod.loc[t,v]\n",
    "\n",
    "cell = cell[0:t]\n",
    "subs = subs.loc[0:t]\n",
    "prod = prod.loc[0:t, prod.columns[prod.max() > 0.1]]"
   ]
  },
  {
   "cell_type": "markdown",
   "metadata": {},
   "source": [
    "### Plot cell mass and concentration profiles"
   ]
  },
  {
   "cell_type": "code",
   "execution_count": null,
   "metadata": {},
   "outputs": [],
   "source": [
    "fig, ax = plt.subplots(figsize=(12,4), ncols=3, nrows=1)\n",
    "cell.plot(ax=ax[0], style='s-', title='Cell', label='dcw', legend=True)\n",
    "ax[0].set_xlabel(\"Hour\")\n",
    "ax[0].set_ylabel(\"Concentration (gDW/L)\")\n",
    "subs.plot(ax=ax[1], style='o-', title='Substrates')\n",
    "ax[1].set_xlabel(\"Hour\")\n",
    "ax[1].set_ylabel(\"Concentration (mM)\")\n",
    "prod.plot(ax=ax[2], style='o-', title='Products')\n",
    "ax[2].set_xlabel(\"Hour\")\n",
    "ax[2].set_ylabel(\"Concentration (mM)\")\n",
    "plt.tight_layout()"
   ]
  },
  {
   "cell_type": "code",
   "execution_count": null,
   "metadata": {},
   "outputs": [],
   "source": []
  }
 ],
 "metadata": {
  "kernelspec": {
   "display_name": "Python 3",
   "language": "python",
   "name": "python3"
  },
  "language_info": {
   "codemirror_mode": {
    "name": "ipython",
    "version": 3
   },
   "file_extension": ".py",
   "mimetype": "text/x-python",
   "name": "python",
   "nbconvert_exporter": "python",
   "pygments_lexer": "ipython3",
   "version": "3.5.3"
  }
 },
 "nbformat": 4,
 "nbformat_minor": 4
}

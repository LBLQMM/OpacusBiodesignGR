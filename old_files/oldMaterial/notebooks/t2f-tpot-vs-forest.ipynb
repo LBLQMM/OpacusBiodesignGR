{
 "cells": [
  {
   "cell_type": "code",
   "execution_count": 1,
   "metadata": {},
   "outputs": [
    {
     "name": "stderr",
     "output_type": "stream",
     "text": [
      "/usr/local/share/jupyteruser/.virtualenvs/jbeipython3/lib/python3.4/site-packages/sklearn/cross_validation.py:41: DeprecationWarning: This module was deprecated in version 0.18 in favor of the model_selection module into which all the refactored classes and functions are moved. Also note that the interface of the new CV iterators are different from that of this module. This module will be removed in 0.20.\n",
      "  \"This module will be removed in 0.20.\", DeprecationWarning)\n"
     ]
    }
   ],
   "source": [
    "import pandas as pd\n",
    "import numpy as np\n",
    "from sklearn.ensemble import RandomForestRegressor\n",
    "from sklearn.datasets import make_regression\n",
    "from sklearn.ensemble import RandomForestClassifier\n",
    "from sklearn.linear_model import LogisticRegression\n",
    "from sklearn.cross_validation import cross_val_score\n",
    "from sklearn.metrics import r2_score\n",
    "from scipy.stats import spearmanr, pearsonr\n",
    "from sklearn.model_selection import cross_val_score, cross_val_predict, ShuffleSplit\n",
    "from tpot import TPOTRegressor\n",
    "import seaborn as sns\n",
    "\n",
    "%matplotlib inline"
   ]
  },
  {
   "cell_type": "markdown",
   "metadata": {},
   "source": [
    "The goal of this notebook is to study which is more accurate, a random forest or TPOT, for predicting a single flux, Biomass, from transcripts in *R. opacus*."
   ]
  },
  {
   "cell_type": "markdown",
   "metadata": {},
   "source": [
    "Load the data for just biomass, reaction 2142:"
   ]
  },
  {
   "cell_type": "code",
   "execution_count": 2,
   "metadata": {
    "collapsed": true
   },
   "outputs": [],
   "source": [
    "X = np.transpose(np.loadtxt(\"../data/transcripts.csv\",delimiter=',', skiprows=1,usecols=range(1,53)))\n",
    "y_full = np.transpose(np.loadtxt(\"../data/fluxes.csv\",delimiter=',', skiprows=1,usecols=range(1,53)))\n",
    "y = np.copy(y_full[:,2142])"
   ]
  },
  {
   "cell_type": "markdown",
   "metadata": {},
   "source": [
    "First up is a random forest:"
   ]
  },
  {
   "cell_type": "code",
   "execution_count": 3,
   "metadata": {},
   "outputs": [
    {
     "name": "stdout",
     "output_type": "stream",
     "text": [
      "RF Error 294.737623795 1.11660161573\n",
      "rf Scores [-0.16865234  0.9149752   0.89463271  0.72724631  0.16397245 -1.60626646\n",
      "  0.93874717  0.63506801  0.78087972  0.80859993]\n"
     ]
    },
    {
     "data": {
      "image/png": "[encoded data removed]",
      "text/plain": [
       "<matplotlib.figure.Figure at 0x7fbac844b048>"
      ]
     },
     "metadata": {},
     "output_type": "display_data"
    }
   ],
   "source": [
    "rf = RandomForestRegressor(n_estimators=500, oob_score=False, random_state=0,n_jobs=-1)\n",
    "scores = cross_val_score(rf,X,y=y,scoring='r2',cv=10)\n",
    "y_p = cross_val_predict(rf,X,y=y,cv=10)\n",
    "y_err = [ya - yp for ya,yp in zip(y,y_p)]\n",
    "sns.distplot(y_err)\n",
    "print('RF Error',np.std(y_err),np.mean(y_err))\n",
    "print('rf Scores',scores)"
   ]
  },
  {
   "cell_type": "markdown",
   "metadata": {},
   "source": [
    "Now let's run the TPOT model to see if it is beter than the Random Forest regressor. Warning, this takes several days to compute."
   ]
  },
  {
   "cell_type": "code",
   "execution_count": null,
   "metadata": {},
   "outputs": [
    {
     "name": "stdout",
     "output_type": "stream",
     "text": [
      "Version 0.8.3 of tpot is outdated. Version 0.9.0 was released Wednesday September 27, 2017.\n",
      "Warning: xgboost.XGBRegressor is not available and will not be used by TPOT.\n"
     ]
    },
    {
     "name": "stderr",
     "output_type": "stream",
     "text": [
      "Optimization Progress:   6%|▌         | 93/1550 [18:46:41<20:27:23, 50.54s/pipeline]    "
     ]
    },
    {
     "name": "stdout",
     "output_type": "stream",
     "text": [
      "Generation 1 - Current best internal CV score: 9937.717046229183\n"
     ]
    },
    {
     "name": "stderr",
     "output_type": "stream",
     "text": [
      "Optimization Progress:   9%|▉         | 139/1550 [19:00:04<4:51:40, 12.40s/pipeline] "
     ]
    },
    {
     "name": "stdout",
     "output_type": "stream",
     "text": [
      "Generation 2 - Current best internal CV score: 9937.717046229183\n"
     ]
    },
    {
     "name": "stderr",
     "output_type": "stream",
     "text": [
      "Optimization Progress:  10%|▉         | 154/1550 [19:04:14<7:51:34, 20.27s/pipeline]"
     ]
    }
   ],
   "source": [
    "tpot = TPOTRegressor(generations=30, population_size=50,verbosity=2)\n",
    "tpot_model = tpot.fit(X,y).fitted_pipeline_\n",
    "scores = cross_val_score(tpot_model,X,y=y,scoring='r2',cv=10)\n",
    "y_p = cross_val_predict(tpot_model,X,y=y,cv=10)\n",
    "y_err = [ya - yp for ya,yp in zip(y,y_p)]\n",
    "sns.distplot(y_err)\n",
    "print('TPOT Error',np.std(y_err),np.mean(y_err))\n",
    "print('TPOT Scores',scores)"
   ]
  },
  {
   "cell_type": "code",
   "execution_count": 1,
   "metadata": {},
   "outputs": [
    {
     "ename": "ImportError",
     "evalue": "No module named 'pytorch'",
     "output_type": "error",
     "traceback": [
      "\u001b[0;31m---------------------------------------------------------------------------\u001b[0m",
      "\u001b[0;31mImportError\u001b[0m                               Traceback (most recent call last)",
      "\u001b[0;32m<ipython-input-1-d35c46f8d1a2>\u001b[0m in \u001b[0;36m<module>\u001b[0;34m()\u001b[0m\n\u001b[0;32m----> 1\u001b[0;31m \u001b[0;32mimport\u001b[0m \u001b[0mpytorch\u001b[0m\u001b[0;34m\u001b[0m\u001b[0m\n\u001b[0m",
      "\u001b[0;31mImportError\u001b[0m: No module named 'pytorch'"
     ]
    }
   ],
   "source": [
    "import pytorch"
   ]
  },
  {
   "cell_type": "code",
   "execution_count": null,
   "metadata": {},
   "outputs": [],
   "source": []
  }
 ],
 "metadata": {
  "kernelspec": {
   "display_name": "JBEI-py3.5",
   "language": "python",
   "name": "jbeipython3"
  },
  "language_info": {
   "codemirror_mode": {
    "name": "ipython",
    "version": 3
   },
   "file_extension": ".py",
   "mimetype": "text/x-python",
   "name": "python",
   "nbconvert_exporter": "python",
   "pygments_lexer": "ipython3",
   "version": "3.5.3"
  }
 },
 "nbformat": 4,
 "nbformat_minor": 2
}

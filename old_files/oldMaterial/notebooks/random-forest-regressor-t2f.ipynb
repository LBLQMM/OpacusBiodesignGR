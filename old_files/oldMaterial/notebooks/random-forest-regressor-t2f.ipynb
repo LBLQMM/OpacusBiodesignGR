{
 "cells": [
  {
   "cell_type": "code",
   "execution_count": 1,
   "metadata": {},
   "outputs": [
    {
     "name": "stderr",
     "output_type": "stream",
     "text": [
      "/usr/local/share/jupyteruser/.virtualenvs/jbeipython3/lib/python3.5/site-packages/sklearn/cross_validation.py:41: DeprecationWarning: This module was deprecated in version 0.18 in favor of the model_selection module into which all the refactored classes and functions are moved. Also note that the interface of the new CV iterators are different from that of this module. This module will be removed in 0.20.\n",
      "  \"This module will be removed in 0.20.\", DeprecationWarning)\n",
      "/usr/local/share/jupyteruser/.virtualenvs/jbeipython3/lib/python3.5/site-packages/deap/tools/_hypervolume/pyhv.py:33: ImportWarning: Falling back to the python version of hypervolume module. Expect this to be very slow.\n",
      "  \"module. Expect this to be very slow.\", ImportWarning)\n",
      "/usr/local/share/jupyteruser/.virtualenvs/jbeipython3/lib/python3.5/importlib/_bootstrap_external.py:423: ImportWarning: Not importing directory /usr/local/share/jupyteruser/.virtualenvs/jbeipython3/lib/python3.5/site-packages/virtualenvwrapper: missing __init__\n",
      "  _warnings.warn(msg.format(portions[0]), ImportWarning)\n",
      "/usr/local/share/jupyteruser/.virtualenvs/jbeipython3/lib/python3.5/importlib/_bootstrap_external.py:423: ImportWarning: Not importing directory /usr/local/share/jupyteruser/.virtualenvs/jbeipython3/lib/python3.5/site-packages/sphinxcontrib: missing __init__\n",
      "  _warnings.warn(msg.format(portions[0]), ImportWarning)\n",
      "/usr/local/share/jupyteruser/.virtualenvs/jbeipython3/lib/python3.5/importlib/_bootstrap_external.py:423: ImportWarning: Not importing directory /usr/local/share/jupyteruser/.virtualenvs/jbeipython3/lib/python3.5/site-packages/ruamel: missing __init__\n",
      "  _warnings.warn(msg.format(portions[0]), ImportWarning)\n",
      "/usr/local/share/jupyteruser/.virtualenvs/jbeipython3/lib/python3.5/importlib/_bootstrap_external.py:423: ImportWarning: Not importing directory /usr/local/share/jupyteruser/.virtualenvs/jbeipython3/lib/python3.5/site-packages/google: missing __init__\n",
      "  _warnings.warn(msg.format(portions[0]), ImportWarning)\n",
      "/usr/local/share/jupyteruser/.virtualenvs/jbeipython3/lib/python3.5/importlib/_bootstrap_external.py:423: ImportWarning: Not importing directory /usr/local/share/jupyteruser/.virtualenvs/jbeipython3/lib/python3.5/site-packages/mpl_toolkits: missing __init__\n",
      "  _warnings.warn(msg.format(portions[0]), ImportWarning)\n"
     ]
    }
   ],
   "source": [
    "import pandas as pd\n",
    "import numpy as np\n",
    "from sklearn.ensemble import RandomForestRegressor\n",
    "from sklearn.datasets import make_regression\n",
    "from sklearn.ensemble import RandomForestClassifier\n",
    "from sklearn.linear_model import LogisticRegression\n",
    "from sklearn.cross_validation import cross_val_score\n",
    "from sklearn.metrics import r2_score\n",
    "from scipy.stats import spearmanr, pearsonr\n",
    "import matplotlib.pyplot as plt\n",
    "from sklearn.model_selection import cross_val_score, cross_val_predict, ShuffleSplit\n",
    "from tpot import TPOTRegressor\n",
    "import seaborn as sns\n",
    "import random\n",
    "%matplotlib inline"
   ]
  },
  {
   "cell_type": "code",
   "execution_count": 2,
   "metadata": {
    "collapsed": true
   },
   "outputs": [],
   "source": [
    "#!/usr/bin/env python -W ignore::DeprecationWarning"
   ]
  },
  {
   "cell_type": "markdown",
   "metadata": {},
   "source": [
    "Load the data:"
   ]
  },
  {
   "cell_type": "code",
   "execution_count": 3,
   "metadata": {
    "collapsed": true
   },
   "outputs": [],
   "source": [
    "reactions = np.loadtxt(\"../data/fluxes.csv\",delimiter=',', skiprows=1,usecols=0,dtype='str')\n",
    "X = np.transpose(np.loadtxt(\"../data/transcripts.csv\",delimiter=',', skiprows=1,usecols=range(1,53)))\n",
    "y_full = np.transpose(np.loadtxt(\"../data/fluxes.csv\",delimiter=',', skiprows=1,usecols=range(1,53)))"
   ]
  },
  {
   "cell_type": "markdown",
   "metadata": {},
   "source": [
    "Accuracy of a regressor is measured in terms of normalized root-mean-square error (NRMSE), with the normalization term used being the average flux. This accuracy term is also known as the coefficient of variation of the RMSD or CV(RMSD).  Lower values of NRMSE indicate less residual variance."
   ]
  },
  {
   "cell_type": "markdown",
   "metadata": {},
   "source": [
    "Now loop over all measured metabolic fluxes which are greater than 200.0 umol/gdw/hr and create a random forest regressor for each flux:"
   ]
  },
  {
   "cell_type": "code",
   "execution_count": null,
   "metadata": {},
   "outputs": [
    {
     "name": "stdout",
     "output_type": "stream",
     "text": [
      "Predicted flux for reaction 321 in Strain 3 is 1178.8816108300007 while measured flux is 1229.088721\n",
      "done with reaction  321\n",
      "Predicted flux for reaction 363 in Strain 3 is 409.9834176510001 while measured flux is 363.4925702\n",
      "done with reaction  363\n",
      "Predicted flux for reaction 507 in Strain 3 is 482.49971551700014 while measured flux is 456.5155193\n",
      "done with reaction  507\n",
      "Predicted flux for reaction 778 in Strain 3 is 1152.5278348330003 while measured flux is 1036.56695\n",
      "done with reaction  778\n",
      "Predicted flux for reaction 924 in Strain 3 is 398.0455974400002 while measured flux is 409.0806316\n",
      "done with reaction  924\n",
      "Predicted flux for reaction 992 in Strain 3 is 205.39981151300017 while measured flux is 211.2145138\n"
     ]
    }
   ],
   "source": [
    "%%time\n",
    "\n",
    "flux_predicted_most_likely = []\n",
    "flux_predicted_most_lower = []\n",
    "flux_predicted_most_upper = []\n",
    "flux_predicted_NRMSE = []\n",
    "flux_measured =  []\n",
    "\n",
    "for i in range(2143):\n",
    "    y = np.copy(y_full[:,i])\n",
    "    if y.mean()>200.0:\n",
    "        #use a random foreset regressor with 100 trees, using all 64 cores\n",
    "        rf = RandomForestRegressor(n_estimators=100, oob_score=False, random_state=0,n_jobs=-1)\n",
    "\n",
    "        #calculate cross validation using mean squared error in a 1:9 split\n",
    "        scores = cross_val_score(rf,X,y=y,scoring='neg_mean_squared_error',cv=10)\n",
    "        y_p = cross_val_predict(rf,X,y=y,cv=10)\n",
    "        y_err = [ya - yp for ya,yp in zip(y,y_p)]\n",
    "        \n",
    "        #calculate normalized root-mean-square error\n",
    "        NRMSE = np.sqrt(abs(scores.mean()))/y.mean()\n",
    "        flux_predicted_NRMSE.append(NRMSE)\n",
    "        \n",
    "        #specify the training data in a 1:9 split of the 54 samples\n",
    "        #test data set is the first 5 samples\n",
    "        #training data set is the last 49 samples\n",
    "        X_train = X[5:-1,:]\n",
    "        y_train = y[5:-1]\n",
    "\n",
    "        #Only look at strain number S. There are 54 total strains or scenarios.\n",
    "        S = 3\n",
    "        \n",
    "        #make the random forest regressor\n",
    "        rf.fit(X_train,y_train)\n",
    "        print('Predicted flux for reaction',i,'in Strain',S,'is',rf.predict([X[S,:]])[0], 'while measured flux is',y[S])\n",
    "        \n",
    "        #grab the to be fuzzed transcripts for Strain S from X\n",
    "        fuzzed_transcpits = np.array(X[S,:])\n",
    "\n",
    "        possible_fluxes=[]\n",
    "        \n",
    "        #number of alternative measurements to search over that are \n",
    "        #compatible with experimental error\n",
    "        number_of_measurements = 1000\n",
    "        \n",
    "        #assume experimental measurement error is 20%\n",
    "        experimental_error = 0.20\n",
    "        \n",
    "        #first try max and min transcripts possible within experimental error\n",
    "        fuzzed_transcpits_permuted = (1.0-experimental_error)*np.copy(fuzzed_transcpits)\n",
    "        possible_fluxes.append(rf.predict(fuzzed_transcpits_permuted.reshape(-1, 7734))[0])\n",
    "        fuzzed_transcpits_permuted = (1.0+experimental_error)*np.copy(fuzzed_transcpits)\n",
    "        possible_fluxes.append(rf.predict(fuzzed_transcpits_permuted.reshape(-1, 7734))[0])\n",
    "        \n",
    "        #now loop over a large number of possible transcript measurements compatible with experimental error\n",
    "        for j in range(number_of_measurements):\n",
    "            fuzzed_transcpits_permuted = np.copy(fuzzed_transcpits)\n",
    "            for k in range(len(fuzzed_transcpits_permuted)):\n",
    "                if random.choice([True, False]):\n",
    "                    fuzzed_transcpits_permuted[k]= fuzzed_transcpits_permuted[k]*(1.0-experimental_error)\n",
    "                else:\n",
    "                    fuzzed_transcpits_permuted[k]= fuzzed_transcpits_permuted[k]*(1.0+experimental_error)\n",
    "            possible_fluxes.append(rf.predict(fuzzed_transcpits_permuted.reshape(-1, 7734))[0])\n",
    "        possible_fluxes = np.array(possible_fluxes)\n",
    "        \n",
    "        flux_predicted_most_lower.append(possible_fluxes.min())\n",
    "        flux_predicted_most_upper.append(possible_fluxes.max())\n",
    "        #get predicted flux for Strain S\n",
    "        flux_predicted_most_likely.append(rf.predict([X[S,:]])[0])\n",
    "        \n",
    "        flux_measured.append(y[S])\n",
    "        \n",
    "        #plot predictions for flux i\n",
    "        import seaborn as sns\n",
    "        plt.scatter(y,y_p)\n",
    "        plt.scatter(y,y)\n",
    "        plt.title('Reaction '+str(i))\n",
    "        plt.xlabel('Measured flux [umol/gdw/hr]')\n",
    "        plt.ylabel('Predicted flux [umol/gdw/hr]')\n",
    "        plt.savefig('Reaction'+str(i)+'.pdf')\n",
    "        plt.close()\n",
    "        print('done with reaction ',i)\n",
    "\n",
    "my_range=range(1,len(flux_measured)+1)\n",
    "\n",
    "fig = plt.figure()\n",
    "ax = plt.subplot(111)\n",
    "\n",
    "# Shrink current axis by 20%\n",
    "box = ax.get_position()\n",
    "ax.set_position([box.x0, box.y0, box.width * 0.8, box.height])\n",
    "\n",
    "\n",
    "import seaborn as sns\n",
    "ax.plot(my_range, flux_predicted_most_likely,  \"X\",label='Most likely Predicted Flux')\n",
    "ax.plot(my_range, flux_predicted_most_lower,  \"o\",label='Lowest Predicted Flux')\n",
    "ax.plot(my_range, flux_predicted_most_upper,  \"o\",label='Highest Predicted Flux')\n",
    "ax.plot(my_range, flux_measured,  \"X\",label='Measured Flux')\n",
    "\n",
    "ax.set_title(\"Random Forest Transcripts to Fluxes Model\", loc='left')\n",
    "ax.set_xlabel('Metabolic Reaction')\n",
    "ax.set_ylabel('Flux [umol/gdw/hr]')\n",
    "\n",
    "# Put a legend to the right of the current axis\n",
    "ax.legend(loc='center left', bbox_to_anchor=(1, 0.5))\n",
    "\n",
    "#plt.show()\n",
    "plt.savefig(\"predicted-fluxes.pdf\")"
   ]
  },
  {
   "cell_type": "code",
   "execution_count": null,
   "metadata": {},
   "outputs": [],
   "source": [
    "my_range=range(1,len(flux_measured)+1)\n",
    "\n",
    "fig = plt.figure()\n",
    "ax = plt.subplot(111)\n",
    "\n",
    "# Shrink current axis by 20%\n",
    "box = ax.get_position()\n",
    "ax.set_position([box.x0, box.y0, box.width * 0.8, box.height])\n",
    "\n",
    "\n",
    "import seaborn as sns\n",
    "ax.plot(my_range, flux_predicted_NRMSE,  \"X\",label='Normalized Root-Mean-Square Error')\n",
    "\n",
    "ax.set_title(\"Random Forest Transcripts to Fluxes Model\", loc='left')\n",
    "ax.set_xlabel('Metabolic Reaction')\n",
    "ax.set_ylabel('NRMSE (lower is better)')\n",
    "\n",
    "# Put a legend to the right of the current axis\n",
    "ax.legend(loc='center left', bbox_to_anchor=(1, 0.5))\n",
    "\n",
    "#plt.show()\n",
    "plt.savefig(\"nrmse.pdf\")"
   ]
  },
  {
   "cell_type": "code",
   "execution_count": null,
   "metadata": {},
   "outputs": [],
   "source": [
    "#plot histogram of error for biomass, i.e. the last trained regressor is on biomass\n",
    "sns.distplot(y_err)\n",
    "plt.title('Histogram of biomass residuals '+str(i))\n",
    "plt.xlabel('Flux error [umol/gdw/hr]')\n",
    "plt.ylabel('Frequency')\n",
    "plt.savefig('histogram-biomass-residuals.pdf')"
   ]
  },
  {
   "cell_type": "markdown",
   "metadata": {},
   "source": [
    "TODO: explore sensitivity of fluxes to experimental errors in transcript measurement:"
   ]
  },
  {
   "cell_type": "code",
   "execution_count": null,
   "metadata": {},
   "outputs": [],
   "source": [
    "import seaborn as sns\n",
    "plt.scatter(y,y_p)\n",
    "plt.scatter(y,y)"
   ]
  },
  {
   "cell_type": "code",
   "execution_count": null,
   "metadata": {},
   "outputs": [],
   "source": [
    "import seaborn as sns\n",
    "fig = plt.figure()\n",
    "ax = plt.subplot(111)\n",
    "\n",
    "# Shrink current axis by 20%\n",
    "box = ax.get_position()\n",
    "ax.set_position([box.x0, box.y0, box.width * 0.8, box.height])\n",
    "\n",
    "ax.plot(my_range, flux_predicted_most_likely,  \"X\",label='Most likely Predicted Flux')\n",
    "ax.plot(my_range, flux_predicted_most_lower,  \"o\",label='Lowest Predicted Flux')\n",
    "ax.plot(my_range, flux_predicted_most_upper,  \"o\",label='Highest Predicted Flux')\n",
    "ax.plot(my_range, flux_measured,  \"X\",label='Measured Flux')\n",
    "\n",
    "ax.set_title(\"Random Forest Transcripts to Fluxes Model\", loc='left')\n",
    "ax.set_xlabel('Metabolic Reaction')\n",
    "ax.set_ylabel('Flux [umol/gdw/hr]')\n",
    "\n",
    "# Put a legend to the right of the current axis\n",
    "ax.legend(loc='center left', bbox_to_anchor=(1, 0.5))\n",
    "\n",
    "#plt.tight_layout()\n",
    "\n",
    "#plt.show()\n",
    "plt.savefig(\"predicted-fluxes.pdf\", bbox_inches='tight')"
   ]
  },
  {
   "cell_type": "code",
   "execution_count": null,
   "metadata": {
    "collapsed": true
   },
   "outputs": [],
   "source": []
  }
 ],
 "metadata": {
  "kernelspec": {
   "display_name": "JBEI-py3.5",
   "language": "python",
   "name": "jbeipython3"
  },
  "language_info": {
   "codemirror_mode": {
    "name": "ipython",
    "version": 3
   },
   "file_extension": ".py",
   "mimetype": "text/x-python",
   "name": "python",
   "nbconvert_exporter": "python",
   "pygments_lexer": "ipython3",
   "version": "3.5.3"
  }
 },
 "nbformat": 4,
 "nbformat_minor": 2
}

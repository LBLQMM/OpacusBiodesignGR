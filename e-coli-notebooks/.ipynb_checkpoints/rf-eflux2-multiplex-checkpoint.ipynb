{
 "cells": [
  {
   "cell_type": "markdown",
   "metadata": {},
   "source": [
    "# Predicting fluxes from transcripts using a multiplex random forest"
   ]
  },
  {
   "cell_type": "code",
   "execution_count": 1,
   "metadata": {},
   "outputs": [
    {
     "name": "stderr",
     "output_type": "stream",
     "text": [
      "/usr/local/lib/python3.6/site-packages/sklearn/cross_validation.py:41: DeprecationWarning: This module was deprecated in version 0.18 in favor of the model_selection module into which all the refactored classes and functions are moved. Also note that the interface of the new CV iterators are different from that of this module. This module will be removed in 0.20.\n",
      "  \"This module will be removed in 0.20.\", DeprecationWarning)\n"
     ]
    }
   ],
   "source": [
    "import pandas as pd\n",
    "import numpy as np\n",
    "from sklearn.ensemble import RandomForestRegressor\n",
    "from sklearn.datasets import make_regression\n",
    "from sklearn.ensemble import RandomForestClassifier\n",
    "from sklearn.linear_model import LogisticRegression\n",
    "from sklearn.cross_validation import cross_val_score\n",
    "from sklearn.metrics import r2_score\n",
    "from scipy.stats import spearmanr, pearsonr\n",
    "import matplotlib.pyplot as plt\n",
    "from sklearn.model_selection import cross_val_score, cross_val_predict, ShuffleSplit\n",
    "from tpot import TPOTRegressor\n",
    "import seaborn as sns\n",
    "import random\n",
    "%matplotlib inline"
   ]
  },
  {
   "cell_type": "markdown",
   "metadata": {},
   "source": [
    "# Load input files"
   ]
  },
  {
   "cell_type": "code",
   "execution_count": 2,
   "metadata": {},
   "outputs": [],
   "source": [
    "# Load reaction names\n",
    "reactionNames = np.loadtxt('ishii-flux-names.csv',delimiter=',', skiprows=0,usecols=0,dtype='str')"
   ]
  },
  {
   "cell_type": "code",
   "execution_count": 3,
   "metadata": {},
   "outputs": [],
   "source": [
    "# Load train and test data\n",
    "# Training data is from eflux2 samples 2 to 8, representing different KEIO KO strains and growth conditions\n",
    "# Test data is eflux2 sample1, the WT reference sample\n",
    "train_x, train_y = [],[]\n",
    "for i in range(2,9):\n",
    "    train_x.append(np.loadtxt('ishii-trans-'+str(i)+'.csv',delimiter=',',skiprows=0,usecols=1))\n",
    "    train_y.append(np.loadtxt('ishii-flux-'+str(i)+'.csv'))\n",
    "test_x, test_y = np.loadtxt('ishii-trans-1.csv',delimiter=',',skiprows=0,usecols=1),np.loadtxt('ishii-flux-1.csv')\n",
    "train_x, train_y = np.array(train_x), np.array(train_y)"
   ]
  },
  {
   "cell_type": "markdown",
   "metadata": {},
   "source": [
    "# Define and run multiplex random forest"
   ]
  },
  {
   "cell_type": "code",
   "execution_count": 4,
   "metadata": {},
   "outputs": [
    {
     "data": {
      "text/plain": [
       "RandomForestRegressor(bootstrap=True, criterion='mse', max_depth=None,\n",
       "           max_features=10, max_leaf_nodes=10, min_impurity_decrease=0.0,\n",
       "           min_impurity_split=None, min_samples_leaf=1,\n",
       "           min_samples_split=2, min_weight_fraction_leaf=0.0,\n",
       "           n_estimators=20, n_jobs=-1, oob_score=False, random_state=0,\n",
       "           verbose=0, warm_start=False)"
      ]
     },
     "execution_count": 4,
     "metadata": {},
     "output_type": "execute_result"
    }
   ],
   "source": [
    "# Define type of random forest\n",
    "rf = RandomForestRegressor(n_estimators=20, oob_score=False, random_state=0,n_jobs=-1,max_features=10,max_leaf_nodes=10)\n",
    "rf.fit(train_x, train_y)"
   ]
  },
  {
   "cell_type": "markdown",
   "metadata": {},
   "source": [
    "# Organize data for plotting"
   ]
  },
  {
   "cell_type": "code",
   "execution_count": 5,
   "metadata": {},
   "outputs": [],
   "source": [
    "# Use the forest's predict method on the test data\n",
    "predictions = rf.predict(test_x.reshape(1, -1))\n",
    "# Calculate the absolute errors of random forest vs eflux2\n",
    "absError = abs(predictions - test_y)"
   ]
  },
  {
   "cell_type": "code",
   "execution_count": 6,
   "metadata": {},
   "outputs": [],
   "source": [
    "# Select flux indicies for plotting\n",
    "reactionDict = {'PGI':2076,'PFK':2063,'FBA':1150,'TPI':2455,'PYK':2265,'PDH':2046,'GND':1422,'RPE':2311,'RPI':2312,'TALA':2397,'ICL':1551,'MALS':1713}\n",
    "ishiiDict = {2076:2.247179186,2063:2.495301258,1150:2.495301258,2455:2.495301258,2265:1.399624166,2046:3.722827564,1422:.6439079794,2311:.2684455913,2312:.3754514687,2397:.1783978343,1551:.3268244693,1713:.3268244693}"
   ]
  },
  {
   "cell_type": "code",
   "execution_count": 7,
   "metadata": {},
   "outputs": [
    {
     "name": "stdout",
     "output_type": "stream",
     "text": [
      "Working on reaction: R_PGI\n",
      "   Random Forest: 2.4105989893 Eflux2 prediction: 2.296128682\n",
      "Working on reaction: R_PFK\n",
      "   Random Forest: 2.2254291284000005 Eflux2 prediction: 1.790151679\n",
      "Working on reaction: R_FBA\n",
      "   Random Forest: 2.2254291284000005 Eflux2 prediction: 1.790151679\n",
      "Working on reaction: R_TPI\n",
      "   Random Forest: 4.217419846 Eflux2 prediction: 3.378207362\n",
      "Working on reaction: R_PYK\n",
      "   Random Forest: 3.20255040045 Eflux2 prediction: 1.563415101\n",
      "Working on reaction: R_PDH\n",
      "   Random Forest: 0.8648761229083698 Eflux2 prediction: 1.100181514\n",
      "Working on reaction: R_GND\n",
      "   Random Forest: 2.0515009454500004 Eflux2 prediction: 1.691451557\n",
      "Working on reaction: R_RPE\n",
      "   Random Forest: 1.1050040933000003 Eflux2 prediction: 0.867799311\n",
      "Working on reaction: R_RPI\n",
      "   Random Forest: -0.9330243176999998 Eflux2 prediction: -0.810324773\n",
      "Working on reaction: R_TALA\n",
      "   Random Forest: -1.0722602065999998 Eflux2 prediction: -0.861606754\n",
      "Working on reaction: R_ICL\n",
      "   Random Forest: 0.23403111372271299 Eflux2 prediction: 1.98e-11\n",
      "Working on reaction: R_MALS\n",
      "   Random Forest: 0.23425749450000005 Eflux2 prediction: 0.000224\n"
     ]
    }
   ],
   "source": [
    "# Load data into arrays for plotting\n",
    "rf, eflux2 = [],[]\n",
    "eflux2Fluxes = test_y\n",
    "for i in ishiiDict:\n",
    "    print('Working on reaction:',reactionNames[i])\n",
    "    print('   Random Forest:',predictions[0,i],'Eflux2 prediction:',test_y[i])\n",
    "    rf.append(predictions[0,i])\n",
    "    eflux2.append(float(test_y[i]))\n",
    "rf = np.array(rf)\n",
    "eflux2 = np.array(eflux2)"
   ]
  },
  {
   "cell_type": "markdown",
   "metadata": {},
   "source": [
    "# Plot results"
   ]
  },
  {
   "cell_type": "code",
   "execution_count": 8,
   "metadata": {},
   "outputs": [],
   "source": [
    "# Load reaction labels\n",
    "labels=[i for i in reactionDict]"
   ]
  },
  {
   "cell_type": "code",
   "execution_count": 9,
   "metadata": {},
   "outputs": [
    {
     "data": {
      "image/png": "[encoded data removed]",
      "text/plain": [
       "<Figure size 360x360 with 1 Axes>"
      ]
     },
     "metadata": {},
     "output_type": "display_data"
    }
   ],
   "source": [
    "# Plot scatter plot of fluxes\n",
    "plt.rcParams['figure.figsize'] = (5,5)\n",
    "plt.scatter(rf,eflux2,label=labels)\n",
    "X_plot = np.linspace(-1, 4.5, 100)\n",
    "Y_plot = X_plot\n",
    "plt.plot(X_plot, Y_plot, color='r')\n",
    "plt.xlim(-1,3)\n",
    "plt.axis('equal')\n",
    "for i in range(len(rf)):\n",
    "    xy = (rf[i]+.1,eflux2[i]+.1)\n",
    "    plt.annotate(labels[i],xy)\n",
    "plt.xlabel(r'Random forest predicted flux measurement (mmol/gDW/h)')\n",
    "plt.ylabel(r'Eflux2 synthetic data (mmol/gDW/h)')\n",
    "plt.tight_layout()\n",
    "#plt.show()\n",
    "plt.savefig('rf-eflux2-multiplex.pdf')"
   ]
  },
  {
   "cell_type": "code",
   "execution_count": 10,
   "metadata": {},
   "outputs": [
    {
     "name": "stderr",
     "output_type": "stream",
     "text": [
      "/usr/local/lib/python3.6/site-packages/matplotlib/axes/_axes.py:6462: UserWarning: The 'normed' kwarg is deprecated, and has been replaced by the 'density' kwarg.\n",
      "  warnings.warn(\"The 'normed' kwarg is deprecated, and has been \"\n"
     ]
    },
    {
     "data": {
      "image/png": "[encoded data removed]",
      "text/plain": [
       "<Figure size 360x360 with 1 Axes>"
      ]
     },
     "metadata": {},
     "output_type": "display_data"
    }
   ],
   "source": [
    "# Histogram plot of errors\n",
    "g=sns.distplot(absError,hist=True)\n",
    "plt.xlabel(r'Abolute error of Random Forest vs Eflux2 base (mmol/gDW/h)')\n",
    "plt.ylabel(r'Normalized frequency')\n",
    "#plt.show()\n",
    "plt.savefig('rf-eflux2-allReactions-multiplex-error.pdf')"
   ]
  },
  {
   "cell_type": "code",
   "execution_count": 11,
   "metadata": {},
   "outputs": [
    {
     "name": "stderr",
     "output_type": "stream",
     "text": [
      "/usr/local/lib/python3.6/site-packages/matplotlib/axes/_axes.py:6462: UserWarning: The 'normed' kwarg is deprecated, and has been replaced by the 'density' kwarg.\n",
      "  warnings.warn(\"The 'normed' kwarg is deprecated, and has been \"\n"
     ]
    },
    {
     "data": {
      "image/png": "[encoded data removed]",
      "text/plain": [
       "<Figure size 360x360 with 1 Axes>"
      ]
     },
     "metadata": {},
     "output_type": "display_data"
    }
   ],
   "source": [
    "# Zoom of histogram error\n",
    "g=sns.distplot(absError,hist=True)\n",
    "plt.xlabel(r'Abolute error of Random Forest vs Eflux2 base (mmol/gDW/h)')\n",
    "plt.ylabel(r'Normalized frequency')\n",
    "plt.xlim(0,3)\n",
    "plt.ylim(0,.2)\n",
    "#plt.show()\n",
    "plt.savefig('rf-eflux2-allReactions-error-multiplex-zoom.pdf')"
   ]
  }
 ],
 "metadata": {
  "kernelspec": {
   "display_name": "Python 3",
   "language": "python",
   "name": "python3"
  },
  "language_info": {
   "codemirror_mode": {
    "name": "ipython",
    "version": 3
   },
   "file_extension": ".py",
   "mimetype": "text/x-python",
   "name": "python",
   "nbconvert_exporter": "python",
   "pygments_lexer": "ipython3",
   "version": "3.6.3"
  }
 },
 "nbformat": 4,
 "nbformat_minor": 2
}

{
 "cells": [
  {
   "cell_type": "markdown",
   "metadata": {},
   "source": [
    "# Predicting fluxes from transcripts using a multiplex random forest with nudging"
   ]
  },
  {
   "cell_type": "code",
   "execution_count": 1,
   "metadata": {},
   "outputs": [
    {
     "name": "stderr",
     "output_type": "stream",
     "text": [
      "/usr/local/lib/python3.6/site-packages/sklearn/cross_validation.py:41: DeprecationWarning: This module was deprecated in version 0.18 in favor of the model_selection module into which all the refactored classes and functions are moved. Also note that the interface of the new CV iterators are different from that of this module. This module will be removed in 0.20.\n",
      "  \"This module will be removed in 0.20.\", DeprecationWarning)\n"
     ]
    }
   ],
   "source": [
    "import pandas as pd\n",
    "import numpy as np\n",
    "from sklearn.ensemble import RandomForestRegressor\n",
    "from sklearn.datasets import make_regression\n",
    "from sklearn.ensemble import RandomForestClassifier\n",
    "from sklearn.linear_model import LogisticRegression\n",
    "from sklearn.cross_validation import cross_val_score\n",
    "from sklearn.metrics import r2_score\n",
    "from scipy.stats import spearmanr, pearsonr\n",
    "import matplotlib.pyplot as plt\n",
    "from sklearn.model_selection import cross_val_score, cross_val_predict, ShuffleSplit\n",
    "from tpot import TPOTRegressor\n",
    "import seaborn as sns\n",
    "import random\n",
    "import cobra\n",
    "from scipy.optimize import minimize\n",
    "np.set_printoptions(threshold=np.nan)\n",
    "\n",
    "\n",
    "%matplotlib inline"
   ]
  },
  {
   "cell_type": "markdown",
   "metadata": {},
   "source": [
    "# Load input files"
   ]
  },
  {
   "cell_type": "code",
   "execution_count": 2,
   "metadata": {},
   "outputs": [],
   "source": [
    "cModel = cobra.io.read_legacy_sbml('iJO1366.xml')\n",
    "my_matrix =cobra.util.array.create_stoichiometric_matrix(cModel)"
   ]
  },
  {
   "cell_type": "code",
   "execution_count": 3,
   "metadata": {},
   "outputs": [],
   "source": [
    "my_matrix = np.array(my_matrix)\n",
    "#my_matrix"
   ]
  },
  {
   "cell_type": "code",
   "execution_count": 4,
   "metadata": {},
   "outputs": [],
   "source": [
    "# Load reaction names\n",
    "reactionNames = np.loadtxt('ishii-flux-names.csv',delimiter=',', skiprows=0,usecols=0,dtype='str')"
   ]
  },
  {
   "cell_type": "code",
   "execution_count": 5,
   "metadata": {},
   "outputs": [],
   "source": [
    "# Load train and test data\n",
    "# Training data is from eflux2 samples 2 to 8, representing different KEIO KO strains and growth conditions\n",
    "# Test data is eflux2 sample1, the WT reference sample\n",
    "train_x, train_y = [],[]\n",
    "for i in range(1,8):\n",
    "    train_x.append(np.loadtxt('ishii-trans-'+str(i)+'.csv',delimiter=',',skiprows=0,usecols=1))\n",
    "    train_y.append(np.loadtxt('ishii-flux-'+str(i)+'.csv'))\n",
    "test_x, test_y = np.loadtxt('ishii-trans-8.csv',delimiter=',',skiprows=0,usecols=1),np.loadtxt('ishii-flux-8.csv')\n",
    "train_x, train_y = np.array(train_x), np.array(train_y)"
   ]
  },
  {
   "cell_type": "code",
   "execution_count": 6,
   "metadata": {},
   "outputs": [
    {
     "data": {
      "text/plain": [
       "RandomForestRegressor(bootstrap=True, criterion='mse', max_depth=None,\n",
       "           max_features=300, max_leaf_nodes=3, min_impurity_decrease=0.0,\n",
       "           min_impurity_split=None, min_samples_leaf=1,\n",
       "           min_samples_split=2, min_weight_fraction_leaf=0.0,\n",
       "           n_estimators=2000, n_jobs=-1, oob_score=True, random_state=0,\n",
       "           verbose=0, warm_start=False)"
      ]
     },
     "execution_count": 6,
     "metadata": {},
     "output_type": "execute_result"
    }
   ],
   "source": [
    "# Define type of random forest\n",
    "rf = RandomForestRegressor(n_estimators=2000, oob_score=True, random_state=0,n_jobs=-1,max_features=300,max_leaf_nodes=3)\n",
    "\n",
    "rf.fit(train_x, train_y)"
   ]
  },
  {
   "cell_type": "markdown",
   "metadata": {},
   "source": [
    "Find optimal stoichiometric nudge:"
   ]
  },
  {
   "cell_type": "code",
   "execution_count": 7,
   "metadata": {},
   "outputs": [
    {
     "name": "stdout",
     "output_type": "stream",
     "text": [
      "Initial ||Sv|| =  3.2392529669252697e-12\n",
      "   Now find nudging vector minimizeResult.x which reduces Sv to zero\n",
      "||S(v-b)||= 3.1340799785377706e-12 , ||b||= 2.2999222104441043e-16\n",
      "||S(v-b)||= 3.1834255908047564e-12 , ||b||= 2.299922210444135e-16\n",
      "||S(v-b)||= 15722.980558480955 , ||b||= 1.0201000003526561\n",
      "||S(v-b)||= 15722.98055848182 , ||b||= 1.0201000003619156\n",
      "||S(v-b)||= 15722.980553941214 , ||b||= 1.020100000718668\n",
      "||S(v-b)||= 15722.980553251884 , ||b||= 1.0201000002858505\n",
      "||S(v-b)||= 4.053664248347719e-12 , ||b||= 2.758767108109456e-16\n",
      "||S(v-b)||= 4.099254626929774e-12 , ||b||= 2.733268185907666e-16\n",
      "||S(v-b)||= 4.013409293231438e-12 , ||b||= 2.747566033181263e-16\n",
      "||S(v-b)||= 4.053814746027521e-12 , ||b||= 2.758636736320442e-16\n",
      "||S(v-b)||= 3.222798615949308e-12 , ||b||= 2.310424520665907e-16\n",
      "||S(v-b)||= 3.2650261196493766e-12 , ||b||= 2.3068132233709464e-16\n",
      "||S(v-b)||= 3.2311395880374364e-12 , ||b||= 2.309552532054667e-16\n",
      "||S(v-b)||= 3.2617431030622925e-12 , ||b||= 2.307100565114856e-16\n",
      "||S(v-b)||= 3.2195654017920245e-12 , ||b||= 2.3104539693417144e-16\n",
      "||S(v-b)||= 3.176972311395151e-12 , ||b||= 2.30059201054804e-16\n",
      "||S(v-b)||= 3.1305883922711925e-12 , ||b||= 2.300094261451869e-16\n",
      "||S(v-b)||= 3.1705644624941895e-12 , ||b||= 2.29993484859487e-16\n",
      "||S(v-b)||= 3.1705644624542715e-12 , ||b||= 2.2999348485948867e-16\n",
      "||S(v-b)||= 3.1360162806644703e-12 , ||b||= 2.2999470024097502e-16\n",
      "||S(v-b)||= 3.2176248343957315e-12 , ||b||= 2.2999182926248307e-16\n",
      "||S(v-b)||= 3.2539258420105194e-12 , ||b||= 2.2999055220132357e-16\n",
      "||S(v-b)||= 3.138877039062571e-12 , ||b||= 2.2999459957759943e-16\n",
      "||S(v-b)||= 3.1704285764847135e-12 , ||b||= 2.2999242240692297e-16\n",
      "||S(v-b)||= 3.170649130488452e-12 , ||b||= 2.299924211605952e-16\n",
      "||S(v-b)||= 3.1691630762132695e-12 , ||b||= 2.2999242956958095e-16\n",
      "||S(v-b)||= 3.170631916562345e-12 , ||b||= 2.2999225312137213e-16\n",
      "||S(v-b)||= 3.1341362098174598e-12 , ||b||= 2.2999228622604116e-16\n",
      "||S(v-b)||= 3.135868079073563e-12 , ||b||= 2.2999228465521365e-16\n",
      "||S(v-b)||= 3.170638533744833e-12 , ||b||= 2.299922261498921e-16\n",
      "||S(v-b)||= 3.170625122408926e-12 , ||b||= 2.299922261518291e-16\n",
      "||S(v-b)||= 3.2219565161831276e-12 , ||b||= 2.2999221873709987e-16\n",
      "||S(v-b)||= 3.2088086946597458e-12 , ||b||= 2.299922209763116e-16\n",
      "||S(v-b)||= 3.1845004693346786e-12 , ||b||= 2.299922215618549e-16\n",
      "||S(v-b)||= 3.17698477968039e-12 , ||b||= 2.299922217428961e-16\n",
      "||S(v-b)||= 3.17190959102814e-12 , ||b||= 2.2999222121775675e-16\n",
      "||S(v-b)||= 3.1303871756134263e-12 , ||b||= 2.2999222237699446e-16\n",
      "||S(v-b)||= 3.3219999232065966e-12 , ||b||= 2.2999221899924047e-16\n",
      "||S(v-b)||= 3.1303874437633568e-12 , ||b||= 2.2999222237698864e-16\n",
      "||S(v-b)||= 3.170627442168275e-12 , ||b||= 2.2999222129598316e-16\n",
      "||S(v-b)||= 3.176992123592885e-12 , ||b||= 2.2999222125069347e-16\n",
      "||S(v-b)||= 3.1654034575190728e-12 , ||b||= 2.299922213331544e-16\n",
      "||S(v-b)||= 3.1706229717718507e-12 , ||b||= 2.299922212960141e-16\n",
      "||S(v-b)||= 3.099511564077114e-12 , ||b||= 2.2999222254072693e-16\n",
      "||S(v-b)||= 3.174855367203191e-12 , ||b||= 2.2999222148185737e-16\n",
      "||S(v-b)||= 3.1471191342800806e-12 , ||b||= 2.2999222187165628e-16\n",
      "||S(v-b)||= 3.1704024360982072e-12 , ||b||= 2.2999222133576802e-16\n",
      "||S(v-b)||= 3.1455370659701877e-12 , ||b||= 2.2999222153938343e-16\n",
      "||S(v-b)||= 3.13616594385837e-12 , ||b||= 2.2999222161612303e-16\n",
      "||S(v-b)||= 3.099442506158582e-12 , ||b||= 2.299922219168456e-16\n",
      "||S(v-b)||= 3.1340799589797817e-12 , ||b||= 2.2999222163320487e-16\n",
      "||S(v-b)||= 3.1704024318202234e-12 , ||b||= 2.299922213013076e-16\n",
      "||S(v-b)||= 3.1711806003973567e-12 , ||b||= 2.2999222129568723e-16\n",
      "||S(v-b)||= 3.190444661707978e-12 , ||b||= 2.29992221156594e-16\n",
      "||S(v-b)||= 3.170624462086995e-12 , ||b||= 2.299922212960833e-16\n",
      "||S(v-b)||= 3.201723572950328e-12 , ||b||= 2.299922210750129e-16\n",
      "||S(v-b)||= 3.1303886187182454e-12 , ||b||= 2.2999222158759087e-16\n",
      "||S(v-b)||= 3.1341318994574216e-12 , ||b||= 2.2999222156069234e-16\n",
      "||S(v-b)||= 3.1714044878887266e-12 , ||b||= 2.2999222129286824e-16\n",
      "||S(v-b)||= 3.170402417426323e-12 , ||b||= 2.2999222129769765e-16\n",
      "||S(v-b)||= 3.1455370486394073e-12 , ||b||= 2.299922214747113e-16\n",
      "||S(v-b)||= 3.17892968067873e-12 , ||b||= 2.2999222123699376e-16\n",
      "||S(v-b)||= 3.1453936483548895e-12 , ||b||= 2.299922214757321e-16\n",
      "||S(v-b)||= 3.170624462093207e-12 , ||b||= 2.299922212961175e-16\n",
      "||S(v-b)||= 3.145573195601277e-12 , ||b||= 2.2999222147445273e-16\n",
      "||S(v-b)||= 3.168509386533618e-12 , ||b||= 2.2999222131281853e-16\n",
      "||S(v-b)||= 3.1728306910969237e-12 , ||b||= 2.299922212818665e-16\n",
      "||S(v-b)||= 3.1707980162373586e-12 , ||b||= 2.299922212964265e-16\n",
      "||S(v-b)||= 3.184962407481455e-12 , ||b||= 2.2999222119497055e-16\n",
      "||S(v-b)||= 3.170624476224888e-12 , ||b||= 2.299922212976711e-16\n",
      "||S(v-b)||= 3.1453951851592646e-12 , ||b||= 2.2999222147574617e-16\n",
      "||S(v-b)||= 3.1706244621835083e-12 , ||b||= 2.299922212961323e-16\n",
      "||S(v-b)||= 3.169889712826808e-12 , ||b||= 2.2999222130239985e-16\n",
      "||S(v-b)||= 3.3388803994886584e-12 , ||b||= 2.2999222009444776e-16\n",
      "||S(v-b)||= 3.145573208942438e-12 , ||b||= 2.299922214762153e-16\n",
      "||S(v-b)||= 3.17016172852886e-12 , ||b||= 2.299922213004553e-16\n",
      "||S(v-b)||= 3.112682419115707e-12 , ||b||= 2.2999222170865444e-16\n",
      "||S(v-b)||= 3.186432688034618e-12 , ||b||= 2.2999222118359143e-16\n",
      "||S(v-b)||= 3.1403086121923918e-12 , ||b||= 2.2999222151320814e-16\n",
      "||S(v-b)||= 3.208446932578933e-12 , ||b||= 2.299922210267994e-16\n",
      "||S(v-b)||= 3.1338296750925885e-12 , ||b||= 2.299922215599198e-16\n",
      "||S(v-b)||= 3.1453951848561962e-12 , ||b||= 2.2999222147689904e-16\n",
      "||S(v-b)||= 3.170414917325714e-12 , ||b||= 2.299922212982998e-16\n",
      "||S(v-b)||= 3.170624461787771e-12 , ||b||= 2.299922212968042e-16\n",
      "||S(v-b)||= 3.169049762425278e-12 , ||b||= 2.299922213080454e-16\n",
      "||S(v-b)||= 3.1706229717916404e-12 , ||b||= 2.29992221296815e-16\n",
      "||S(v-b)||= 3.145580645872808e-12 , ||b||= 2.299922214755756e-16\n",
      "||S(v-b)||= 3.1286828648949512e-12 , ||b||= 2.2999222159619813e-16\n",
      "||S(v-b)||= 3.175993237822479e-12 , ||b||= 2.299922212584806e-16\n",
      "||S(v-b)||= 3.170402417141079e-12 , ||b||= 2.2999222129850677e-16\n",
      "||S(v-b)||= 3.208805831033707e-12 , ||b||= 2.2999222102423837e-16\n",
      "||S(v-b)||= 3.208811572910795e-12 , ||b||= 2.299922210242039e-16\n",
      "||S(v-b)||= 3.099846757795925e-12 , ||b||= 2.299922218023802e-16\n",
      "||S(v-b)||= 3.1713417171745017e-12 , ||b||= 2.2999222129179633e-16\n",
      "||S(v-b)||= 3.1711345618486727e-12 , ||b||= 2.299922212932757e-16\n",
      "||S(v-b)||= 3.2088130612031424e-12 , ||b||= 2.2999222102419316e-16\n",
      "||S(v-b)||= 3.171095376121823e-12 , ||b||= 2.2999222129355494e-16\n",
      "||S(v-b)||= 3.1710938825589737e-12 , ||b||= 2.299922212935655e-16\n",
      "||S(v-b)||= 3.0527954202282376e-12 , ||b||= 2.2999222213856164e-16\n",
      "||S(v-b)||= 3.134131899030168e-12 , ||b||= 2.299922215576081e-16\n",
      "||S(v-b)||= 3.1707083368353808e-12 , ||b||= 2.2999222129635673e-16\n",
      "||S(v-b)||= 3.1455657446494043e-12 , ||b||= 2.2999222147587653e-16\n",
      "||S(v-b)||= 3.1706244617999223e-12 , ||b||= 2.299922212969187e-16\n",
      "||S(v-b)||= 3.1341254113741978e-12 , ||b||= 2.2999222155757826e-16\n",
      "||S(v-b)||= 3.2957176745222696e-12 , ||b||= 2.2999222040355985e-16\n",
      "||S(v-b)||= 3.216360545171851e-12 , ||b||= 2.299922209702928e-16\n",
      "||S(v-b)||= 3.1706264302385568e-12 , ||b||= 2.299922212969043e-16\n",
      "||S(v-b)||= 3.0523879380467487e-12 , ||b||= 2.2999222214130915e-16\n",
      "||S(v-b)||= 3.1845785588442435e-12 , ||b||= 2.2999222119727674e-16\n",
      "||S(v-b)||= 3.1706244759668746e-12 , ||b||= 2.2999222129693674e-16\n",
      "||S(v-b)||= 3.1706215605859567e-12 , ||b||= 2.2999222129695745e-16\n",
      "||S(v-b)||= 3.1789296803734257e-12 , ||b||= 2.299922212376068e-16\n",
      "||S(v-b)||= 3.1357727772007492e-12 , ||b||= 2.2999222154581324e-16\n",
      "||S(v-b)||= 3.1690873750535182e-12 , ||b||= 2.2999222130791216e-16\n",
      "||S(v-b)||= 3.17080104173171e-12 , ||b||= 2.2999222129567254e-16\n",
      "||S(v-b)||= 3.0105747415550733e-12 , ||b||= 2.2999222244000536e-16\n",
      "||S(v-b)||= 3.097231393537379e-12 , ||b||= 2.2999222182110513e-16\n",
      "||S(v-b)||= 3.1706274560903292e-12 , ||b||= 2.299922212969121e-16\n",
      "||S(v-b)||= 3.1706576284815846e-12 , ||b||= 2.299922212966915e-16\n",
      "||S(v-b)||= 3.1704024171220923e-12 , ||b||= 2.299922212985162e-16\n",
      "||S(v-b)||= 3.1704024171156812e-12 , ||b||= 2.29992221298515e-16\n",
      "||S(v-b)||= 3.208301480343291e-12 , ||b||= 2.2999222102784564e-16\n",
      "||S(v-b)||= 3.1303871141543555e-12 , ||b||= 2.299922215842948e-16\n",
      "||S(v-b)||= 3.1287444679119338e-12 , ||b||= 2.2999222159602517e-16\n",
      "||S(v-b)||= 3.130391584511429e-12 , ||b||= 2.2999222158426266e-16\n",
      "||S(v-b)||= 3.209656092900248e-12 , ||b||= 2.299922210181729e-16\n",
      "||S(v-b)||= 3.130391598480753e-12 , ||b||= 2.29992221584271e-16\n",
      "||S(v-b)||= 3.171159921038496e-12 , ||b||= 2.2999222129310796e-16\n",
      "||S(v-b)||= 3.1683931343735834e-12 , ||b||= 2.2999222131286325e-16\n",
      "||S(v-b)||= 3.1706244616980563e-12 , ||b||= 2.299922212969275e-16\n",
      "||S(v-b)||= 3.1704024171433142e-12 , ||b||= 2.299922212985152e-16\n",
      "||S(v-b)||= 3.1696890440896425e-12 , ||b||= 2.2999222130360863e-16\n",
      "||S(v-b)||= 3.2091325290200743e-12 , ||b||= 2.2999222102190946e-16\n",
      "||S(v-b)||= 3.139205653912135e-12 , ||b||= 2.299922215213176e-16\n",
      "||S(v-b)||= 3.1704024170767848e-12 , ||b||= 2.299922212985161e-16\n",
      "||S(v-b)||= 3.170402417197851e-12 , ||b||= 2.299922212985154e-16\n",
      "||S(v-b)||= 3.170625951850985e-12 , ||b||= 2.2999222129691825e-16\n",
      "||S(v-b)||= 3.171251421694945e-12 , ||b||= 2.2999222129245093e-16\n",
      "||S(v-b)||= 3.098694183788965e-12 , ||b||= 2.299922218106437e-16\n",
      "||S(v-b)||= 3.170402431308484e-12 , ||b||= 2.2999222129851796e-16\n",
      "||S(v-b)||= 3.145573208937301e-12 , ||b||= 2.2999222147584305e-16\n",
      "||S(v-b)||= 3.1664375859049238e-12 , ||b||= 2.299922213268327e-16\n",
      "||S(v-b)||= 3.2067189463243386e-12 , ||b||= 2.2999222103914824e-16\n",
      "||S(v-b)||= 3.0908444722030353e-12 , ||b||= 2.2999222186670795e-16\n",
      "||S(v-b)||= 3.1360418362180767e-12 , ||b||= 2.2999222154391307e-16\n",
      "||S(v-b)||= 3.1706244618039972e-12 , ||b||= 2.299922212969292e-16\n",
      "||S(v-b)||= 3.1728262060334778e-12 , ||b||= 2.299922212812041e-16\n",
      "||S(v-b)||= 3.1710671303438797e-12 , ||b||= 2.299922212937689e-16\n",
      "||S(v-b)||= 3.208798288237009e-12 , ||b||= 2.2999222102429813e-16\n",
      "||S(v-b)||= 3.208810096821612e-12 , ||b||= 2.2999222102421387e-16\n",
      "||S(v-b)||= 3.137419665735742e-12 , ||b||= 2.29992221534074e-16\n",
      "||S(v-b)||= 3.1440371446838382e-12 , ||b||= 2.2999222148681167e-16\n",
      "||S(v-b)||= 3.2067161954976048e-12 , ||b||= 2.2999222103916737e-16\n",
      "||S(v-b)||= 3.1808768082575993e-12 , ||b||= 2.2999222122370807e-16\n",
      "||S(v-b)||= 3.184459572187718e-12 , ||b||= 2.299922211981208e-16\n",
      "||S(v-b)||= 3.1732746141560496e-12 , ||b||= 2.299922212780022e-16\n",
      "||S(v-b)||= 3.1706244616660014e-12 , ||b||= 2.2999222129692895e-16\n",
      "||S(v-b)||= 3.1455723169150034e-12 , ||b||= 2.2999222147584665e-16\n",
      "||S(v-b)||= 3.2067204382583406e-12 , ||b||= 2.299922210391376e-16\n",
      "||S(v-b)||= 3.182766000603957e-12 , ||b||= 2.299922212102169e-16\n",
      "||S(v-b)||= 3.192788620126838e-12 , ||b||= 2.2999222113863657e-16\n",
      "||S(v-b)||= 3.170800996140752e-12 , ||b||= 2.2999222129566786e-16\n",
      "||S(v-b)||= 3.1706244759821407e-12 , ||b||= 2.299922212969289e-16\n",
      "||S(v-b)||= 3.1797299933439965e-12 , ||b||= 2.299922212318986e-16\n",
      "||S(v-b)||= 3.163618493813732e-12 , ||b||= 2.2999222134696452e-16\n",
      "||S(v-b)||= 3.09947312838797e-12 , ||b||= 2.2999222180508095e-16\n",
      "||S(v-b)||= 3.170625951882051e-12 , ||b||= 2.2999222129691825e-16\n",
      "||S(v-b)||= 3.1453936947770906e-12 , ||b||= 2.299922214771232e-16\n",
      "||S(v-b)||= 3.1713261916364893e-12 , ||b||= 2.299922212919171e-16\n",
      "||S(v-b)||= 3.1714063609442397e-12 , ||b||= 2.299922212913439e-16\n",
      "||S(v-b)||= 3.1714063610315666e-12 , ||b||= 2.2999222129134436e-16\n",
      "||S(v-b)||= 3.170624461748326e-12 , ||b||= 2.2999222129692826e-16\n",
      "||S(v-b)||= 3.1886474739510275e-12 , ||b||= 2.299922211682106e-16\n",
      "||S(v-b)||= 3.173430246631243e-12 , ||b||= 2.2999222127689016e-16\n",
      "||S(v-b)||= 3.1704024171438207e-12 , ||b||= 2.299922212985151e-16\n",
      "||S(v-b)||= 3.1706367418801544e-12 , ||b||= 2.2999222129684144e-16\n",
      "||S(v-b)||= 3.1438898870255305e-12 , ||b||= 2.299922214878628e-16\n",
      "||S(v-b)||= 3.134101604954394e-12 , ||b||= 2.2999222155776956e-16\n",
      "||S(v-b)||= 3.170622971538789e-12 , ||b||= 2.299922212969394e-16\n",
      "||S(v-b)||= 3.1453951848571656e-12 , ||b||= 2.299922214771125e-16\n",
      "||S(v-b)||= 3.170802472462835e-12 , ||b||= 2.2999222129565686e-16\n",
      "||S(v-b)||= 3.2115638778431437e-12 , ||b||= 2.2999222100454574e-16\n",
      "||S(v-b)||= 3.135856081279828e-12 , ||b||= 2.2999222154523934e-16\n",
      "||S(v-b)||= 3.1704024312913957e-12 , ||b||= 2.2999222129851683e-16\n",
      "||S(v-b)||= 3.1706289462830704e-12 , ||b||= 2.2999222129689705e-16\n",
      "||S(v-b)||= 3.1591258653433935e-12 , ||b||= 2.2999222137905016e-16\n",
      "||S(v-b)||= 3.221955865854134e-12 , ||b||= 2.299922209303269e-16\n",
      "||S(v-b)||= 3.1455702154282295e-12 , ||b||= 2.299922214758617e-16\n",
      "||S(v-b)||= 3.1769831828850146e-12 , ||b||= 2.299922212515155e-16\n",
      "||S(v-b)||= 3.170402431227009e-12 , ||b||= 2.2999222129851515e-16\n",
      "||S(v-b)||= 3.1303886042816847e-12 , ||b||= 2.299922215842876e-16\n",
      "||S(v-b)||= 3.170624461790466e-12 , ||b||= 2.299922212969287e-16\n",
      "||S(v-b)||= 3.145567353896913e-12 , ||b||= 2.299922214758823e-16\n",
      "||S(v-b)||= 3.1438899006727105e-12 , ||b||= 2.2999222148786297e-16\n",
      "||S(v-b)||= 3.170402417153238e-12 , ||b||= 2.299922212985174e-16\n",
      "||S(v-b)||= 3.1728321665017144e-12 , ||b||= 2.2999222128116194e-16\n",
      "||S(v-b)||= 3.209125068051982e-12 , ||b||= 2.299922210219632e-16\n",
      "||S(v-b)||= 3.169103369616808e-12 , ||b||= 2.299922213077915e-16\n",
      "||S(v-b)||= 3.170399436920827e-12 , ||b||= 2.2999222129853833e-16\n",
      "||S(v-b)||= 3.170402417135451e-12 , ||b||= 2.2999222129851644e-16\n",
      "||S(v-b)||= 3.1706214815621326e-12 , ||b||= 2.299922212969501e-16\n",
      "||S(v-b)||= 3.181849828383744e-12 , ||b||= 2.2999222121675914e-16\n",
      "||S(v-b)||= 3.1713359107383466e-12 , ||b||= 2.299922212918472e-16\n",
      "||S(v-b)||= 3.1706244616518335e-12 , ||b||= 2.299922212969288e-16\n",
      "||S(v-b)||= 3.170402417153238e-12 , ||b||= 2.2999222129851574e-16\n",
      "||S(v-b)||= 3.170656411167156e-12 , ||b||= 2.2999222129670097e-16\n",
      "||S(v-b)||= 3.134080015614624e-12 , ||b||= 2.2999222155792314e-16\n",
      "||S(v-b)||= 3.1717821060415007e-12 , ||b||= 2.29992221288661e-16\n",
      "||S(v-b)||= 3.1475635210899665e-12 , ||b||= 2.2999222146162644e-16\n",
      "||S(v-b)||= 3.170402431328482e-12 , ||b||= 2.2999222129851594e-16\n",
      "||S(v-b)||= 3.145571718603844e-12 , ||b||= 2.2999222147585113e-16\n",
      "||S(v-b)||= 3.1713359107383466e-12 , ||b||= 2.299922212918472e-16\n",
      "||S(v-b)||= 3.1454474931658013e-12 , ||b||= 2.299922214767387e-16\n",
      "Warning: Desired error not necessarily achieved due to precision loss.\n",
      "         Current function value: 0.000317\n",
      "         Iterations: 0\n",
      "         Function evaluations: 199057\n",
      "         Gradient evaluations: 77\n"
     ]
    }
   ],
   "source": [
    "np.set_printoptions(threshold=np.nan)\n",
    "\n",
    "xf = np.transpose(rf.predict(test_x.reshape(1, -1)))[:,0]\n",
    "x0 = np.zeros(len(test_y))+.00000000005\n",
    "\n",
    "# Weight factor for relative importance of Sv over the length of the nudging vector= b\n",
    "weightFactor = 100000000.0\n",
    "print('Initial ||Sv|| = ',np.dot(np.matmul(my_matrix,xf),np.matmul(my_matrix,xf)))\n",
    "print('   Now find nudging vector minimizeResult.x which reduces Sv to zero')\n",
    "\n",
    "def rosen(x):\n",
    "    adjusted_fluxes =xf[:]-x[:]\n",
    "    a = np.matmul(my_matrix,adjusted_fluxes)\n",
    "    Sloss = np.dot(a,a)*weightFactor\n",
    "    bLength = sum((x[:])**2)\n",
    "    \n",
    "    # Get occasional updates on solver progress\n",
    "    if np.random.rand()<.001:\n",
    "        print('||S(v-b)||=',Sloss/weightFactor,', ||b||=',bLength)\n",
    "    return bLength + Sloss\n",
    "\n",
    "# Minimize f = ||S(v-b)||*weightFactor + ||b||\n",
    "minimizeResult = minimize(rosen, x0, method='BFGS', options={'disp': True})"
   ]
  },
  {
   "cell_type": "markdown",
   "metadata": {},
   "source": [
    "Apply stoichiometric nudge:"
   ]
  },
  {
   "cell_type": "code",
   "execution_count": 8,
   "metadata": {},
   "outputs": [],
   "source": [
    "# Use the forest's predict method on the test data\n",
    "predictions = rf.predict(test_x.reshape(1, -1)) - minimizeResult.x\n",
    "# Calculate the absolute errors of random forest vs eflux2\n",
    "absError = abs(predictions - test_y)"
   ]
  },
  {
   "cell_type": "code",
   "execution_count": 9,
   "metadata": {},
   "outputs": [],
   "source": [
    "# Select flux indicies for plotting\n",
    "reactionDict = {'PGI':2076,'PFK':2063,'FBA':1150,'TPI':2455,'PYK':2265,'PDH':2046,'GND':1422,'RPE':2311,'RPI':2312,'TALA':2397,'ICL':1551,'MALS':1713}\n",
    "ishiiDict = {2076:2.247179186,2063:2.495301258,1150:2.495301258,2455:2.495301258,2265:1.399624166,2046:3.722827564,1422:.6439079794,2311:.2684455913,2312:.3754514687,2397:.1783978343,1551:.3268244693,1713:.3268244693}"
   ]
  },
  {
   "cell_type": "code",
   "execution_count": 10,
   "metadata": {},
   "outputs": [
    {
     "name": "stdout",
     "output_type": "stream",
     "text": [
      "Working on reaction: R_PGI\n",
      "   Random Forest: 2.1009799950881556 Eflux2 prediction: 2.61569772\n",
      "Working on reaction: R_PFK\n",
      "   Random Forest: 1.9422397095802482 Eflux2 prediction: 1.541525948\n",
      "Working on reaction: R_FBA\n",
      "   Random Forest: 1.9422397095802482 Eflux2 prediction: 1.541525948\n",
      "Working on reaction: R_TPI\n",
      "   Random Forest: 3.777247521548686 Eflux2 prediction: 3.01754833\n",
      "Working on reaction: R_PYK\n",
      "   Random Forest: 2.7025636432025237 Eflux2 prediction: 0.734889063\n",
      "Working on reaction: R_PDH\n",
      "   Random Forest: 0.7710650429191916 Eflux2 prediction: 0.465243979\n",
      "Working on reaction: R_GND\n",
      "   Random Forest: 1.9847883965759279 Eflux2 prediction: 1.018496434\n",
      "Working on reaction: R_RPE\n",
      "   Random Forest: 1.0702160558994276 Eflux2 prediction: 0.466436761\n",
      "Working on reaction: R_RPI\n",
      "   Random Forest: -0.9015966720855048 Eflux2 prediction: -0.54115699\n",
      "Working on reaction: R_TALA\n",
      "   Random Forest: -0.8966500136149157 Eflux2 prediction: -0.837387348\n",
      "Working on reaction: R_ICL\n",
      "   Random Forest: 0.21618809908350908 Eflux2 prediction: 4.02e-11\n",
      "Working on reaction: R_MALS\n",
      "   Random Forest: 0.21640620167413346 Eflux2 prediction: 0.000183\n"
     ]
    }
   ],
   "source": [
    "# Load data into arrays for plotting\n",
    "rf, eflux2 = [],[]\n",
    "eflux2Fluxes = test_y\n",
    "for i in ishiiDict:\n",
    "    print('Working on reaction:',reactionNames[i])\n",
    "    print('   Random Forest:',predictions[0,i],'Eflux2 prediction:',test_y[i])\n",
    "    rf.append(predictions[0,i])\n",
    "    eflux2.append(float(test_y[i]))\n",
    "rf = np.array(rf)\n",
    "eflux2 = np.array(eflux2)"
   ]
  },
  {
   "cell_type": "code",
   "execution_count": 11,
   "metadata": {},
   "outputs": [],
   "source": [
    "# Load reaction labels\n",
    "labels=[i for i in reactionDict]"
   ]
  },
  {
   "cell_type": "code",
   "execution_count": 12,
   "metadata": {},
   "outputs": [
    {
     "data": {
      "image/png": "[encoded data removed]",
      "text/plain": [
       "<Figure size 360x360 with 1 Axes>"
      ]
     },
     "metadata": {},
     "output_type": "display_data"
    }
   ],
   "source": [
    "# Plot scatter plot of fluxes\n",
    "plt.rcParams['figure.figsize'] = (5,5)\n",
    "plt.scatter(rf,eflux2,label=labels)\n",
    "X_plot = np.linspace(-1, 4.5, 100)\n",
    "Y_plot = X_plot\n",
    "plt.plot(X_plot, Y_plot, color='r')\n",
    "plt.xlim(-1,3)\n",
    "plt.axis('equal')\n",
    "for i in range(len(rf)):\n",
    "    xy = (rf[i]+.1,eflux2[i]+.1)\n",
    "    plt.annotate(labels[i],xy)\n",
    "plt.xlabel(r'Random forest predicted flux measurement (mmol/gDW/h)')\n",
    "plt.ylabel(r'Eflux2 synthetic data (mmol/gDW/h)')\n",
    "plt.tight_layout()\n",
    "#plt.show()\n",
    "plt.savefig('rf-eflux2-multiplex-nudged.pdf')"
   ]
  },
  {
   "cell_type": "code",
   "execution_count": 13,
   "metadata": {},
   "outputs": [
    {
     "name": "stderr",
     "output_type": "stream",
     "text": [
      "/usr/local/lib/python3.6/site-packages/matplotlib/axes/_axes.py:6462 \u001b[1;31mUserWarning\u001b[0m: The 'normed' kwarg is deprecated, and has been replaced by the 'density' kwarg.\n"
     ]
    },
    {
     "data": {
      "image/png": "[encoded data removed]",
      "text/plain": [
       "<Figure size 360x360 with 1 Axes>"
      ]
     },
     "metadata": {},
     "output_type": "display_data"
    }
   ],
   "source": [
    "# Histogram plot of all errors\n",
    "g=sns.distplot(absError,hist=True)\n",
    "plt.xlabel(r'Abolute error of Random Forest vs Eflux2 base (mmol/gDW/h)')\n",
    "plt.ylabel(r'Normalized frequency')\n",
    "#plt.show()\n",
    "plt.savefig('rf-eflux2-allReactions-multiplex-nudged-error.pdf')"
   ]
  },
  {
   "cell_type": "code",
   "execution_count": 14,
   "metadata": {},
   "outputs": [
    {
     "name": "stderr",
     "output_type": "stream",
     "text": [
      "/usr/local/lib/python3.6/site-packages/matplotlib/axes/_axes.py:6462 \u001b[1;31mUserWarning\u001b[0m: The 'normed' kwarg is deprecated, and has been replaced by the 'density' kwarg.\n"
     ]
    },
    {
     "data": {
      "image/png": "[encoded data removed]",
      "text/plain": [
       "<Figure size 360x360 with 1 Axes>"
      ]
     },
     "metadata": {},
     "output_type": "display_data"
    }
   ],
   "source": [
    "# Zoom of histogram all error\n",
    "g=sns.distplot(absError,hist=True)\n",
    "plt.xlabel(r'Abolute error of Random Forest vs Eflux2 base (mmol/gDW/h)')\n",
    "plt.ylabel(r'Normalized frequency')\n",
    "plt.xlim(0,3)\n",
    "plt.ylim(0,.2)\n",
    "#plt.show()\n",
    "plt.savefig('rf-eflux2-allReactions-multiplex-nudged-error-zoom.pdf')"
   ]
  },
  {
   "cell_type": "code",
   "execution_count": null,
   "metadata": {},
   "outputs": [],
   "source": []
  },
  {
   "cell_type": "code",
   "execution_count": null,
   "metadata": {},
   "outputs": [],
   "source": []
  }
 ],
 "metadata": {
  "kernelspec": {
   "display_name": "Python 3",
   "language": "python",
   "name": "python3"
  },
  "language_info": {
   "codemirror_mode": {
    "name": "ipython",
    "version": 3
   },
   "file_extension": ".py",
   "mimetype": "text/x-python",
   "name": "python",
   "nbconvert_exporter": "python",
   "pygments_lexer": "ipython3",
   "version": "3.6.3"
  }
 },
 "nbformat": 4,
 "nbformat_minor": 2
}

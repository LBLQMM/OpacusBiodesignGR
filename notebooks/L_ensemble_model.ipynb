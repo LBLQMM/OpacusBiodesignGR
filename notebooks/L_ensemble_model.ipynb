{
 "cells": [
  {
   "cell_type": "markdown",
   "id": "7563604a-2ba5-4e5d-b9e0-309615df0b5b",
   "metadata": {},
   "source": [
    "## **Notebook to make predictions with reprocessed Henson data and SPOT**\n",
    "\n",
    "By Garrett Roell and Christina Schenk\n",
    "\n",
    "Tested on biodesign_3.7 kernel on jprime"
   ]
  },
  {
   "cell_type": "markdown",
   "id": "b930fc44-8705-491d-9626-972a35bb2e14",
   "metadata": {
    "tags": []
   },
   "source": [
    "### Ensemble Method\n"
   ]
  },
  {
   "cell_type": "markdown",
   "id": "5a6edbe7-d3d0-49ac-9d13-8f43882945f0",
   "metadata": {},
   "source": [
    "#### **Set up imports**"
   ]
  },
  {
   "cell_type": "code",
   "execution_count": 2,
   "id": "5e37f811-1a95-45e0-932f-962edb144307",
   "metadata": {},
   "outputs": [
    {
     "name": "stderr",
     "output_type": "stream",
     "text": [
      "cobra/core/dictlist.py:215 \u001b[1;31mSyntaxWarning\u001b[0m: \"is\" with a literal. Did you mean \"==\"?\n"
     ]
    }
   ],
   "source": [
    "import os\n",
    "import sys\n",
    "import pandas as pd\n",
    "import numpy as np\n",
    "import cobra\n",
    "import scipy.stats\n",
    "#import cplex\n",
    "%matplotlib inline\n",
    "\n",
    "import matplotlib\n",
    "from matplotlib import pyplot as plt\n",
    "from matplotlib.offsetbox import (TextArea, DrawingArea, OffsetImage,\n",
    "                                  AnnotationBbox)\n",
    "from matplotlib.cbook import get_sample_data\n",
    "import matplotlib.image as mpimg\n",
    "import matplotlib.cm as cm\n",
    "\n",
    "# from edd_utils import login, export_study, export_metadata\n",
    "\n",
    "# from sklearn.metrics import r2_score\n",
    "\n",
    "import arviz as az\n",
    "import matplotlib.pyplot as plt\n",
    "import numpy as np\n",
    "import pymc3 as pm\n",
    "import theano.tensor as tt\n"
   ]
  },
  {
   "cell_type": "markdown",
   "id": "baf5b6ed-f2e4-4ff2-9786-099013db595c",
   "metadata": {},
   "source": [
    "#### **Load Genome Scale Model**"
   ]
  },
  {
   "cell_type": "code",
   "execution_count": 3,
   "id": "9730d71b-07b0-4e9f-a9ab-a3672e34f826",
   "metadata": {},
   "outputs": [
    {
     "name": "stdout",
     "output_type": "stream",
     "text": [
      "Scaling...\n",
      " A: min|aij| =  1.000e+00  max|aij| =  1.000e+00  ratio =  1.000e+00\n",
      "Problem data seem to be well scaled\n"
     ]
    }
   ],
   "source": [
    "model = cobra.io.read_sbml_model(\"../models/Ropacus_annotated.xml\")"
   ]
  },
  {
   "cell_type": "markdown",
   "id": "244d4ba7-9d90-4f21-8de8-18a77f1a87dd",
   "metadata": {},
   "source": [
    "#### **Load glucose data**"
   ]
  },
  {
   "cell_type": "code",
   "execution_count": 4,
   "id": "2bba84a9-e751-4b3e-9cf0-ec10e5d9dfe6",
   "metadata": {},
   "outputs": [],
   "source": [
    "glucose_data = {\n",
    "    'fba': pd.read_csv('../data/genome_scale_fluxes/glucose_fba.csv'),\n",
    "    'pfba': pd.read_csv('../data/genome_scale_fluxes/glucose_pfba.csv'),\n",
    "    'eflux': pd.read_csv('../data/genome_scale_fluxes/glucose_eflux.csv'),\n",
    "    'spot': pd.read_csv('../data/genome_scale_fluxes/glucose_spot.csv'),\n",
    "}"
   ]
  },
  {
   "cell_type": "markdown",
   "id": "b6313443-3026-4704-8f68-f3d25ef9d49d",
   "metadata": {},
   "source": [
    "#### **Standardize data format**"
   ]
  },
  {
   "cell_type": "code",
   "execution_count": 5,
   "id": "7ebfa118-9096-4fa7-86ae-3686627bf7c6",
   "metadata": {},
   "outputs": [
    {
     "data": {
      "text/html": [
       "<div>\n",
       "<style scoped>\n",
       "    .dataframe tbody tr th:only-of-type {\n",
       "        vertical-align: middle;\n",
       "    }\n",
       "\n",
       "    .dataframe tbody tr th {\n",
       "        vertical-align: top;\n",
       "    }\n",
       "\n",
       "    .dataframe thead th {\n",
       "        text-align: right;\n",
       "    }\n",
       "</style>\n",
       "<table border=\"1\" class=\"dataframe\">\n",
       "  <thead>\n",
       "    <tr style=\"text-align: right;\">\n",
       "      <th></th>\n",
       "      <th>reaction_id</th>\n",
       "      <th>reaction_name</th>\n",
       "      <th>reaction_reaction</th>\n",
       "      <th>flux</th>\n",
       "    </tr>\n",
       "  </thead>\n",
       "  <tbody>\n",
       "    <tr>\n",
       "      <th>0</th>\n",
       "      <td>12DGR140tipp</td>\n",
       "      <td>1,2 diacylglycerol transport via flipping (per...</td>\n",
       "      <td>12dgr140_p --&gt; 12dgr140_c</td>\n",
       "      <td>0.0</td>\n",
       "    </tr>\n",
       "    <tr>\n",
       "      <th>1</th>\n",
       "      <td>13PPDH</td>\n",
       "      <td>1,3-propanediol dehydrogenase</td>\n",
       "      <td>3hppnl_c + h_c + nadh_c &lt;=&gt; 13ppd_c + nad_c</td>\n",
       "      <td>0.0</td>\n",
       "    </tr>\n",
       "    <tr>\n",
       "      <th>2</th>\n",
       "      <td>1P2CBXLCYCL</td>\n",
       "      <td>1 Pyrroline 2 carboxylate cyclation</td>\n",
       "      <td>5a2opntn_c &lt;=&gt; 1p2cbxl_c + h2o_c + h_c</td>\n",
       "      <td>0.0</td>\n",
       "    </tr>\n",
       "    <tr>\n",
       "      <th>3</th>\n",
       "      <td>1P2CBXLR</td>\n",
       "      <td>Delta1 piperideine 2 carboxylate reductase</td>\n",
       "      <td>1p2cbxl_c + 2.0 h_c + nadph_c --&gt; nadp_c + pro...</td>\n",
       "      <td>0.0</td>\n",
       "    </tr>\n",
       "    <tr>\n",
       "      <th>4</th>\n",
       "      <td>23CTI1</td>\n",
       "      <td>Decenyl coa cis trans isomerization  cis dec 3...</td>\n",
       "      <td>decoa_c --&gt; dc2coa_c + h_c</td>\n",
       "      <td>0.0</td>\n",
       "    </tr>\n",
       "  </tbody>\n",
       "</table>\n",
       "</div>"
      ],
      "text/plain": [
       "    reaction_id                                      reaction_name  \\\n",
       "0  12DGR140tipp  1,2 diacylglycerol transport via flipping (per...   \n",
       "1        13PPDH                      1,3-propanediol dehydrogenase   \n",
       "2   1P2CBXLCYCL                1 Pyrroline 2 carboxylate cyclation   \n",
       "3      1P2CBXLR         Delta1 piperideine 2 carboxylate reductase   \n",
       "4        23CTI1  Decenyl coa cis trans isomerization  cis dec 3...   \n",
       "\n",
       "                                   reaction_reaction  flux  \n",
       "0                          12dgr140_p --> 12dgr140_c   0.0  \n",
       "1        3hppnl_c + h_c + nadh_c <=> 13ppd_c + nad_c   0.0  \n",
       "2             5a2opntn_c <=> 1p2cbxl_c + h2o_c + h_c   0.0  \n",
       "3  1p2cbxl_c + 2.0 h_c + nadph_c --> nadp_c + pro...   0.0  \n",
       "4                         decoa_c --> dc2coa_c + h_c   0.0  "
      ]
     },
     "metadata": {},
     "output_type": "display_data"
    },
    {
     "data": {
      "text/html": [
       "<div>\n",
       "<style scoped>\n",
       "    .dataframe tbody tr th:only-of-type {\n",
       "        vertical-align: middle;\n",
       "    }\n",
       "\n",
       "    .dataframe tbody tr th {\n",
       "        vertical-align: top;\n",
       "    }\n",
       "\n",
       "    .dataframe thead th {\n",
       "        text-align: right;\n",
       "    }\n",
       "</style>\n",
       "<table border=\"1\" class=\"dataframe\">\n",
       "  <thead>\n",
       "    <tr style=\"text-align: right;\">\n",
       "      <th></th>\n",
       "      <th>reaction_id</th>\n",
       "      <th>flux</th>\n",
       "    </tr>\n",
       "  </thead>\n",
       "  <tbody>\n",
       "    <tr>\n",
       "      <th>0</th>\n",
       "      <td>12DGR140tipp</td>\n",
       "      <td>-2.818634e-12</td>\n",
       "    </tr>\n",
       "    <tr>\n",
       "      <th>1</th>\n",
       "      <td>13PPDH</td>\n",
       "      <td>-7.228014e-20</td>\n",
       "    </tr>\n",
       "    <tr>\n",
       "      <th>2</th>\n",
       "      <td>1P2CBXLCYCL</td>\n",
       "      <td>-2.534757e-12</td>\n",
       "    </tr>\n",
       "    <tr>\n",
       "      <th>3</th>\n",
       "      <td>1P2CBXLR</td>\n",
       "      <td>1.591026e-10</td>\n",
       "    </tr>\n",
       "    <tr>\n",
       "      <th>4</th>\n",
       "      <td>23CTI1</td>\n",
       "      <td>7.583610e-13</td>\n",
       "    </tr>\n",
       "  </tbody>\n",
       "</table>\n",
       "</div>"
      ],
      "text/plain": [
       "    reaction_id          flux\n",
       "0  12DGR140tipp -2.818634e-12\n",
       "1        13PPDH -7.228014e-20\n",
       "2   1P2CBXLCYCL -2.534757e-12\n",
       "3      1P2CBXLR  1.591026e-10\n",
       "4        23CTI1  7.583610e-13"
      ]
     },
     "metadata": {},
     "output_type": "display_data"
    }
   ],
   "source": [
    "glucose_data['eflux'].rename(columns={'Unnamed: 0':'reaction_id'}, inplace=True)\n",
    "glucose_data['eflux'].rename(columns={'fluxes':'flux'}, inplace=True)\n",
    "\n",
    "glucose_data['spot'].rename(columns={'Unnamed: 0':'reaction_id'}, inplace=True)\n",
    "glucose_data['spot'].rename(columns={'fluxes':'flux'}, inplace=True)\n",
    "\n",
    "display(glucose_data['fba'].head())\n",
    "display(glucose_data['spot'].head())"
   ]
  },
  {
   "cell_type": "code",
   "execution_count": 6,
   "id": "094a2cae-ddbc-4c07-9a39-1f4f4308c5ad",
   "metadata": {},
   "outputs": [
    {
     "name": "stdout",
     "output_type": "stream",
     "text": [
      "100.0 1.0\n",
      "100.0 1.0\n",
      "169.09442937869107 0.5913855374623109\n",
      "0.046794592289116 2136.9990656646687\n"
     ]
    }
   ],
   "source": [
    "for algorithm, flux_df in glucose_data.items():\n",
    "    uptake_rate = -1* float(flux_df[flux_df.reaction_id == 'EX_glc__D_e'].flux.values[0])\n",
    "    scale_factor = 100 / uptake_rate\n",
    "    \n",
    "    flux_df['flux'] = scale_factor * flux_df['flux']\n",
    "    print(uptake_rate, scale_factor)"
   ]
  },
  {
   "cell_type": "markdown",
   "id": "570d629c-9425-45b7-a40a-8dc610c9977d",
   "metadata": {},
   "source": [
    "#### **Ensure glucose uptake rate is 100 for each model**"
   ]
  },
  {
   "cell_type": "code",
   "execution_count": 7,
   "id": "d021bb01-41c4-4a8c-a546-f7d7473a04e2",
   "metadata": {},
   "outputs": [
    {
     "data": {
      "text/html": [
       "<div>\n",
       "<style scoped>\n",
       "    .dataframe tbody tr th:only-of-type {\n",
       "        vertical-align: middle;\n",
       "    }\n",
       "\n",
       "    .dataframe tbody tr th {\n",
       "        vertical-align: top;\n",
       "    }\n",
       "\n",
       "    .dataframe thead th {\n",
       "        text-align: right;\n",
       "    }\n",
       "</style>\n",
       "<table border=\"1\" class=\"dataframe\">\n",
       "  <thead>\n",
       "    <tr style=\"text-align: right;\">\n",
       "      <th></th>\n",
       "      <th>reaction_id</th>\n",
       "      <th>reaction_name</th>\n",
       "      <th>reaction_reaction</th>\n",
       "      <th>flux</th>\n",
       "    </tr>\n",
       "  </thead>\n",
       "  <tbody>\n",
       "    <tr>\n",
       "      <th>2819</th>\n",
       "      <td>EX_glc__D_e</td>\n",
       "      <td>R_EX_glc__D_e</td>\n",
       "      <td>glc__D_e &lt;=&gt;</td>\n",
       "      <td>-100.0</td>\n",
       "    </tr>\n",
       "  </tbody>\n",
       "</table>\n",
       "</div>"
      ],
      "text/plain": [
       "      reaction_id  reaction_name reaction_reaction   flux\n",
       "2819  EX_glc__D_e  R_EX_glc__D_e     glc__D_e <=>  -100.0"
      ]
     },
     "metadata": {},
     "output_type": "display_data"
    },
    {
     "data": {
      "text/html": [
       "<div>\n",
       "<style scoped>\n",
       "    .dataframe tbody tr th:only-of-type {\n",
       "        vertical-align: middle;\n",
       "    }\n",
       "\n",
       "    .dataframe tbody tr th {\n",
       "        vertical-align: top;\n",
       "    }\n",
       "\n",
       "    .dataframe thead th {\n",
       "        text-align: right;\n",
       "    }\n",
       "</style>\n",
       "<table border=\"1\" class=\"dataframe\">\n",
       "  <thead>\n",
       "    <tr style=\"text-align: right;\">\n",
       "      <th></th>\n",
       "      <th>reaction_id</th>\n",
       "      <th>reaction_name</th>\n",
       "      <th>reaction_reaction</th>\n",
       "      <th>flux</th>\n",
       "    </tr>\n",
       "  </thead>\n",
       "  <tbody>\n",
       "    <tr>\n",
       "      <th>2819</th>\n",
       "      <td>EX_glc__D_e</td>\n",
       "      <td>R_EX_glc__D_e</td>\n",
       "      <td>glc__D_e &lt;=&gt;</td>\n",
       "      <td>-100.0</td>\n",
       "    </tr>\n",
       "  </tbody>\n",
       "</table>\n",
       "</div>"
      ],
      "text/plain": [
       "      reaction_id  reaction_name reaction_reaction   flux\n",
       "2819  EX_glc__D_e  R_EX_glc__D_e     glc__D_e <=>  -100.0"
      ]
     },
     "metadata": {},
     "output_type": "display_data"
    },
    {
     "data": {
      "text/html": [
       "<div>\n",
       "<style scoped>\n",
       "    .dataframe tbody tr th:only-of-type {\n",
       "        vertical-align: middle;\n",
       "    }\n",
       "\n",
       "    .dataframe tbody tr th {\n",
       "        vertical-align: top;\n",
       "    }\n",
       "\n",
       "    .dataframe thead th {\n",
       "        text-align: right;\n",
       "    }\n",
       "</style>\n",
       "<table border=\"1\" class=\"dataframe\">\n",
       "  <thead>\n",
       "    <tr style=\"text-align: right;\">\n",
       "      <th></th>\n",
       "      <th>reaction_id</th>\n",
       "      <th>flux</th>\n",
       "    </tr>\n",
       "  </thead>\n",
       "  <tbody>\n",
       "    <tr>\n",
       "      <th>2819</th>\n",
       "      <td>EX_glc__D_e</td>\n",
       "      <td>-100.0</td>\n",
       "    </tr>\n",
       "  </tbody>\n",
       "</table>\n",
       "</div>"
      ],
      "text/plain": [
       "      reaction_id   flux\n",
       "2819  EX_glc__D_e -100.0"
      ]
     },
     "metadata": {},
     "output_type": "display_data"
    },
    {
     "data": {
      "text/html": [
       "<div>\n",
       "<style scoped>\n",
       "    .dataframe tbody tr th:only-of-type {\n",
       "        vertical-align: middle;\n",
       "    }\n",
       "\n",
       "    .dataframe tbody tr th {\n",
       "        vertical-align: top;\n",
       "    }\n",
       "\n",
       "    .dataframe thead th {\n",
       "        text-align: right;\n",
       "    }\n",
       "</style>\n",
       "<table border=\"1\" class=\"dataframe\">\n",
       "  <thead>\n",
       "    <tr style=\"text-align: right;\">\n",
       "      <th></th>\n",
       "      <th>reaction_id</th>\n",
       "      <th>flux</th>\n",
       "    </tr>\n",
       "  </thead>\n",
       "  <tbody>\n",
       "    <tr>\n",
       "      <th>2819</th>\n",
       "      <td>EX_glc__D_e</td>\n",
       "      <td>-100.0</td>\n",
       "    </tr>\n",
       "  </tbody>\n",
       "</table>\n",
       "</div>"
      ],
      "text/plain": [
       "      reaction_id   flux\n",
       "2819  EX_glc__D_e -100.0"
      ]
     },
     "metadata": {},
     "output_type": "display_data"
    }
   ],
   "source": [
    "for algorithm, flux_df in glucose_data.items():\n",
    "    display(flux_df[flux_df.reaction_id == 'EX_glc__D_e'])"
   ]
  },
  {
   "cell_type": "markdown",
   "id": "177b3646-1a2e-440e-b7b3-06e962cc1d11",
   "metadata": {
    "tags": []
   },
   "source": [
    "#### **Load Glucose 13C MFA Data**"
   ]
  },
  {
   "cell_type": "code",
   "execution_count": 8,
   "id": "b50b6239-1600-480e-8d41-d45fdcaaae90",
   "metadata": {},
   "outputs": [
    {
     "data": {
      "text/html": [
       "<div>\n",
       "<style scoped>\n",
       "    .dataframe tbody tr th:only-of-type {\n",
       "        vertical-align: middle;\n",
       "    }\n",
       "\n",
       "    .dataframe tbody tr th {\n",
       "        vertical-align: top;\n",
       "    }\n",
       "\n",
       "    .dataframe thead th {\n",
       "        text-align: right;\n",
       "    }\n",
       "</style>\n",
       "<table border=\"1\" class=\"dataframe\">\n",
       "  <thead>\n",
       "    <tr style=\"text-align: right;\">\n",
       "      <th></th>\n",
       "      <th>Pathway</th>\n",
       "      <th>Forward Reactions</th>\n",
       "      <th>Reaction</th>\n",
       "      <th>Location on map</th>\n",
       "      <th>Flux</th>\n",
       "      <th>90% Confidence Lower Bound</th>\n",
       "      <th>90% Confidence Upper Bound</th>\n",
       "    </tr>\n",
       "  </thead>\n",
       "  <tbody>\n",
       "    <tr>\n",
       "      <th>0</th>\n",
       "      <td>Substrate Uptake</td>\n",
       "      <td>reverse_EX_glc__D_e</td>\n",
       "      <td>Gluc.ext + ATP -&gt; G6P</td>\n",
       "      <td>(50, 460)</td>\n",
       "      <td>100.00</td>\n",
       "      <td>100.00</td>\n",
       "      <td>100.00</td>\n",
       "    </tr>\n",
       "    <tr>\n",
       "      <th>1</th>\n",
       "      <td>EMP Pathway</td>\n",
       "      <td>PGI</td>\n",
       "      <td>G6P &lt;-&gt; F6P</td>\n",
       "      <td>(-150, 430)</td>\n",
       "      <td>-1.61</td>\n",
       "      <td>-2.09</td>\n",
       "      <td>1.42</td>\n",
       "    </tr>\n",
       "    <tr>\n",
       "      <th>2</th>\n",
       "      <td>EMP Pathway</td>\n",
       "      <td>PFK or reverse_FBP</td>\n",
       "      <td>F6P + ATP -&gt; FBP</td>\n",
       "      <td>(-220, 195)</td>\n",
       "      <td>0.00</td>\n",
       "      <td>0.00</td>\n",
       "      <td>1.91</td>\n",
       "    </tr>\n",
       "    <tr>\n",
       "      <th>3</th>\n",
       "      <td>EMP Pathway</td>\n",
       "      <td>FBA</td>\n",
       "      <td>FBP &lt;-&gt; DHAP + GAP</td>\n",
       "      <td>(-140, 115)</td>\n",
       "      <td>0.00</td>\n",
       "      <td>0.00</td>\n",
       "      <td>1.91</td>\n",
       "    </tr>\n",
       "    <tr>\n",
       "      <th>4</th>\n",
       "      <td>EMP Pathway</td>\n",
       "      <td>TPI</td>\n",
       "      <td>DHAP &lt;-&gt; GAP</td>\n",
       "      <td>(-270, 150)</td>\n",
       "      <td>0.00</td>\n",
       "      <td>0.00</td>\n",
       "      <td>1.91</td>\n",
       "    </tr>\n",
       "  </tbody>\n",
       "</table>\n",
       "</div>"
      ],
      "text/plain": [
       "            Pathway    Forward Reactions               Reaction  \\\n",
       "0  Substrate Uptake  reverse_EX_glc__D_e  Gluc.ext + ATP -> G6P   \n",
       "1       EMP Pathway                  PGI            G6P <-> F6P   \n",
       "2       EMP Pathway   PFK or reverse_FBP       F6P + ATP -> FBP   \n",
       "3       EMP Pathway                  FBA     FBP <-> DHAP + GAP   \n",
       "4       EMP Pathway                  TPI           DHAP <-> GAP   \n",
       "\n",
       "  Location on map    Flux  90% Confidence Lower Bound  \\\n",
       "0       (50, 460)  100.00                      100.00   \n",
       "1     (-150, 430)   -1.61                       -2.09   \n",
       "2     (-220, 195)    0.00                        0.00   \n",
       "3     (-140, 115)    0.00                        0.00   \n",
       "4     (-270, 150)    0.00                        0.00   \n",
       "\n",
       "   90% Confidence Upper Bound  \n",
       "0                      100.00  \n",
       "1                        1.42  \n",
       "2                        1.91  \n",
       "3                        1.91  \n",
       "4                        1.91  "
      ]
     },
     "execution_count": 8,
     "metadata": {},
     "output_type": "execute_result"
    }
   ],
   "source": [
    "glucose_fluxes = pd.read_csv('../data/central_fluxes/glucose_13C.csv')\n",
    "\n",
    "# # Remove rows that do not have a mapping to the GSM\n",
    "glucose_fluxes.dropna(subset = [\"Forward Reactions\"], inplace=True)\n",
    "# print(f'There are {len(glucose_fluxes)} fluxes that can be compared between the MFA and FBA')\n",
    "\n",
    "glucose_fluxes.head()"
   ]
  },
  {
   "cell_type": "markdown",
   "id": "0189dba9-8004-4479-81a8-f47b65cf9b9e",
   "metadata": {},
   "source": [
    "#### **Make a grid of possible coefficient values**"
   ]
  },
  {
   "cell_type": "code",
   "execution_count": null,
   "id": "40adb805-1fb9-48e8-9b1c-a6a3e26cc4ef",
   "metadata": {},
   "outputs": [],
   "source": []
  },
  {
   "cell_type": "markdown",
   "id": "bc98a848-8371-47ae-b2c6-1624e8ded470",
   "metadata": {},
   "source": [
    "#### **Function to Convert List of Weight Coeff**"
   ]
  },
  {
   "cell_type": "code",
   "execution_count": 25,
   "id": "85fcfa90-4439-4677-839f-7b15863537e9",
   "metadata": {},
   "outputs": [
    {
     "data": {
      "text/plain": [
       "0.0"
      ]
     },
     "execution_count": 25,
     "metadata": {},
     "output_type": "execute_result"
    }
   ],
   "source": [
    "df_list = list(glucose_data.values())\n",
    "df = df_list[0]\n",
    "\n",
    "df[df.reaction_id == '13PPDH'].flux.values[0]"
   ]
  },
  {
   "cell_type": "code",
   "execution_count": 36,
   "id": "79f01316-004c-4b67-8d28-49c88b39ee2f",
   "metadata": {},
   "outputs": [
    {
     "data": {
      "text/html": [
       "<div>\n",
       "<style scoped>\n",
       "    .dataframe tbody tr th:only-of-type {\n",
       "        vertical-align: middle;\n",
       "    }\n",
       "\n",
       "    .dataframe tbody tr th {\n",
       "        vertical-align: top;\n",
       "    }\n",
       "\n",
       "    .dataframe thead th {\n",
       "        text-align: right;\n",
       "    }\n",
       "</style>\n",
       "<table border=\"1\" class=\"dataframe\">\n",
       "  <thead>\n",
       "    <tr style=\"text-align: right;\">\n",
       "      <th></th>\n",
       "      <th>reaction_id</th>\n",
       "      <th>flux</th>\n",
       "    </tr>\n",
       "  </thead>\n",
       "  <tbody>\n",
       "    <tr>\n",
       "      <th>0</th>\n",
       "      <td>12DGR140tipp</td>\n",
       "      <td>-1.505854e-09</td>\n",
       "    </tr>\n",
       "    <tr>\n",
       "      <th>1</th>\n",
       "      <td>13PPDH</td>\n",
       "      <td>-3.861565e-17</td>\n",
       "    </tr>\n",
       "    <tr>\n",
       "      <th>2</th>\n",
       "      <td>1P2CBXLCYCL</td>\n",
       "      <td>-1.354193e-09</td>\n",
       "    </tr>\n",
       "    <tr>\n",
       "      <th>3</th>\n",
       "      <td>1P2CBXLR</td>\n",
       "      <td>3.491030e-02</td>\n",
       "    </tr>\n",
       "    <tr>\n",
       "      <th>4</th>\n",
       "      <td>23CTI1</td>\n",
       "      <td>4.051542e-10</td>\n",
       "    </tr>\n",
       "    <tr>\n",
       "      <th>...</th>\n",
       "      <td>...</td>\n",
       "      <td>...</td>\n",
       "    </tr>\n",
       "    <tr>\n",
       "      <th>3014</th>\n",
       "      <td>EX_guaiacol_e</td>\n",
       "      <td>0.000000e+00</td>\n",
       "    </tr>\n",
       "    <tr>\n",
       "      <th>3015</th>\n",
       "      <td>guaiacol_transport</td>\n",
       "      <td>5.641977e-17</td>\n",
       "    </tr>\n",
       "    <tr>\n",
       "      <th>3016</th>\n",
       "      <td>GUADEM</td>\n",
       "      <td>-2.396466e-16</td>\n",
       "    </tr>\n",
       "    <tr>\n",
       "      <th>3017</th>\n",
       "      <td>Growth_Phenol</td>\n",
       "      <td>0.000000e+00</td>\n",
       "    </tr>\n",
       "    <tr>\n",
       "      <th>3018</th>\n",
       "      <td>Growth_Glucose</td>\n",
       "      <td>3.092107e+00</td>\n",
       "    </tr>\n",
       "  </tbody>\n",
       "</table>\n",
       "<p>3019 rows × 2 columns</p>\n",
       "</div>"
      ],
      "text/plain": [
       "             reaction_id          flux\n",
       "0           12DGR140tipp -1.505854e-09\n",
       "1                 13PPDH -3.861565e-17\n",
       "2            1P2CBXLCYCL -1.354193e-09\n",
       "3               1P2CBXLR  3.491030e-02\n",
       "4                 23CTI1  4.051542e-10\n",
       "...                  ...           ...\n",
       "3014       EX_guaiacol_e  0.000000e+00\n",
       "3015  guaiacol_transport  5.641977e-17\n",
       "3016              GUADEM -2.396466e-16\n",
       "3017       Growth_Phenol  0.000000e+00\n",
       "3018      Growth_Glucose  3.092107e+00\n",
       "\n",
       "[3019 rows x 2 columns]"
      ]
     },
     "metadata": {},
     "output_type": "display_data"
    },
    {
     "data": {
      "text/html": [
       "<div>\n",
       "<style scoped>\n",
       "    .dataframe tbody tr th:only-of-type {\n",
       "        vertical-align: middle;\n",
       "    }\n",
       "\n",
       "    .dataframe tbody tr th {\n",
       "        vertical-align: top;\n",
       "    }\n",
       "\n",
       "    .dataframe thead th {\n",
       "        text-align: right;\n",
       "    }\n",
       "</style>\n",
       "<table border=\"1\" class=\"dataframe\">\n",
       "  <thead>\n",
       "    <tr style=\"text-align: right;\">\n",
       "      <th></th>\n",
       "      <th>reaction_id</th>\n",
       "      <th>flux</th>\n",
       "    </tr>\n",
       "  </thead>\n",
       "  <tbody>\n",
       "    <tr>\n",
       "      <th>2819</th>\n",
       "      <td>EX_glc__D_e</td>\n",
       "      <td>-100.0</td>\n",
       "    </tr>\n",
       "  </tbody>\n",
       "</table>\n",
       "</div>"
      ],
      "text/plain": [
       "      reaction_id   flux\n",
       "2819  EX_glc__D_e -100.0"
      ]
     },
     "metadata": {},
     "output_type": "display_data"
    }
   ],
   "source": [
    "def weights_to_solution(weight_list, df_list):\n",
    "    # create object to store weighted solution\n",
    "    weighted_solution = []\n",
    "    \n",
    "    # loop over reactions\n",
    "    for rxn_id in df_list[0].reaction_id:\n",
    "        rxn_flux = 0\n",
    "        \n",
    "        # loop over flux dataframes adding flux according to the weight\n",
    "        for weight, df in zip(weight_list,df_list):\n",
    "            flux = df[df.reaction_id == rxn_id].flux.values[0]\n",
    "            rxn_flux += flux * weight\n",
    "            \n",
    "        weighted_solution.append({'reaction_id': rxn_id, 'flux': rxn_flux})\n",
    "        \n",
    "    # convert to a dataframe\n",
    "    weighted_df = pd.DataFrame(weighted_solution)\n",
    "    display(weighted_df)\n",
    "    \n",
    "    display(weighted_df[weighted_df.reaction_id == 'EX_glc__D_e'])\n",
    "    \n",
    "    \n",
    "weights_to_solution([0.25, 0.25, 0.25, 0.25], list(glucose_data.values()))"
   ]
  },
  {
   "cell_type": "markdown",
   "id": "b7c93bf9-ccaf-4541-b2a4-f5aaecacdaad",
   "metadata": {},
   "source": [
    "#### **Get r-squared value for each spot in the grid**"
   ]
  },
  {
   "cell_type": "code",
   "execution_count": null,
   "id": "40d30b9b-cc9c-40cd-b901-0205a61e954e",
   "metadata": {},
   "outputs": [],
   "source": []
  },
  {
   "cell_type": "markdown",
   "id": "f4d5e571-2222-43f7-bfe5-d1e182ca7c42",
   "metadata": {},
   "source": [
    "#### **Get r-squared value for each spot in the grid**"
   ]
  },
  {
   "cell_type": "code",
   "execution_count": null,
   "id": "66caaaa8-c0f4-4b8c-a3dc-32342092e231",
   "metadata": {},
   "outputs": [],
   "source": [
    "glucose_fluxes = add_pred_fluxes_to_13c_df_without_std(glucose_fluxes, glucose_fba_solution, 'FBA', 'WT')"
   ]
  },
  {
   "cell_type": "markdown",
   "id": "39d7e946-ef41-459a-afcb-ce526ca07bde",
   "metadata": {},
   "source": [
    "#### **Visualize the data grid and r-squared values**"
   ]
  },
  {
   "cell_type": "code",
   "execution_count": null,
   "id": "98a392e8-9847-4046-b998-957e7cbd0cff",
   "metadata": {},
   "outputs": [],
   "source": []
  },
  {
   "cell_type": "code",
   "execution_count": null,
   "id": "77d266e8-0aa5-4fb9-a83b-2aec95b922e6",
   "metadata": {},
   "outputs": [],
   "source": [
    "glucose_fluxes = add_pred_fluxes_to_13c_df_without_std(glucose_fluxes, glucose_fba_solution, 'FBA', 'WT')"
   ]
  },
  {
   "cell_type": "code",
   "execution_count": null,
   "id": "4a165857-1e56-4c10-ac23-8bea25afa42d",
   "metadata": {},
   "outputs": [],
   "source": []
  }
 ],
 "metadata": {
  "kernelspec": {
   "display_name": "bayflux_3.8",
   "language": "python",
   "name": "bayflux_3.8"
  },
  "language_info": {
   "codemirror_mode": {
    "name": "ipython",
    "version": 3
   },
   "file_extension": ".py",
   "mimetype": "text/x-python",
   "name": "python",
   "nbconvert_exporter": "python",
   "pygments_lexer": "ipython3",
   "version": "3.8.3"
  }
 },
 "nbformat": 4,
 "nbformat_minor": 5
}

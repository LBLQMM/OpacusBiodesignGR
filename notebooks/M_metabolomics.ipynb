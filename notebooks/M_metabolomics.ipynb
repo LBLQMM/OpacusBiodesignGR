{
 "cells": [
  {
   "cell_type": "markdown",
   "id": "7563604a-2ba5-4e5d-b9e0-309615df0b5b",
   "metadata": {
    "tags": []
   },
   "source": [
    "# Metabolomics Data Inspection\n",
    "\n",
    "By Garrett Roell and Christina Schenk\n",
    "\n",
    "Tested on biodesign_3.7 kernel on jprime\n",
    "\n",
    "This notebook gets metabolite data from the model, and uses it to attempt to match unknown metabolites in LCMS data.                                          \n",
    "### Method: \n",
    "<ol>\n",
    "<li>Set up imports</li>\n",
    "<li>Load model and relevant data</li>\n",
    "<li>Extract metabolite data from the genome scale mode</li>\n",
    "<li>Check for matches between model metabolites and LCMS data</li>\n",
    "</ol>\n"
   ]
  },
  {
   "cell_type": "markdown",
   "id": "5a6edbe7-d3d0-49ac-9d13-8f43882945f0",
   "metadata": {
    "tags": []
   },
   "source": [
    "### 1. Set up imports"
   ]
  },
  {
   "cell_type": "code",
   "execution_count": 1,
   "id": "3d3acc1f-ebd9-4e59-a78e-33b9f92bcb55",
   "metadata": {},
   "outputs": [],
   "source": [
    "import cobra\n",
    "import pandas as pd"
   ]
  },
  {
   "cell_type": "markdown",
   "id": "7850ac80-728b-49eb-900a-5659cc911a91",
   "metadata": {
    "tags": []
   },
   "source": [
    "### 2. Load model and relevant data"
   ]
  },
  {
   "cell_type": "code",
   "execution_count": 2,
   "id": "8cc0da32-8dc2-4a05-bd21-b80111c052c4",
   "metadata": {},
   "outputs": [
    {
     "data": {
      "text/html": [
       "<div>\n",
       "<style scoped>\n",
       "    .dataframe tbody tr th:only-of-type {\n",
       "        vertical-align: middle;\n",
       "    }\n",
       "\n",
       "    .dataframe tbody tr th {\n",
       "        vertical-align: top;\n",
       "    }\n",
       "\n",
       "    .dataframe thead th {\n",
       "        text-align: right;\n",
       "    }\n",
       "</style>\n",
       "<table border=\"1\" class=\"dataframe\">\n",
       "  <thead>\n",
       "    <tr style=\"text-align: right;\">\n",
       "      <th></th>\n",
       "      <th>m/z</th>\n",
       "      <th>RT [min]</th>\n",
       "      <th>Name</th>\n",
       "      <th>Tags</th>\n",
       "      <th>Foston_In_1-A_Met_LC_HILIC_Pos (F4)</th>\n",
       "      <th>Foston_In_1-B_Met_LC_HILIC_Pos (F5)</th>\n",
       "      <th>Foston_In_1-C_Met_LC_HILIC_Pos (F6)</th>\n",
       "      <th>Foston_In_1-D_Met_LC_HILIC_Pos (F7)</th>\n",
       "      <th>Foston_In_1-E_Met_LC_HILIC_Pos (F8)</th>\n",
       "      <th>Foston_In_1-F_Met_LC_HILIC_Pos (F9)</th>\n",
       "      <th>...</th>\n",
       "      <th>Foston_In_4-C_Met_LC_HILIC_Pos (F18)</th>\n",
       "      <th>Foston_In_4-D_Met_LC_HILIC_Pos (F19)</th>\n",
       "      <th>Foston_In_4-E_Met_LC_HILIC_Pos (F20)</th>\n",
       "      <th>Foston_In_4-F_Met_LC_HILIC_Pos (F21)</th>\n",
       "      <th>Foston_In_4-G_Met_LC_HILIC_Pos (F22)</th>\n",
       "      <th>Foston_In_4-H_Met_LC_HILIC_Pos (F23)</th>\n",
       "      <th>Foston_In_4-I_Met_LC_HILIC_Pos (F24)</th>\n",
       "      <th>Foston_In_4-J_Met_LC_HILIC_Pos (F25)</th>\n",
       "      <th>Foston_In_4-K_Met_LC_HILIC_Pos (F26)</th>\n",
       "      <th>Foston_In_4-L_Met_LC_HILIC_Pos (F27)</th>\n",
       "    </tr>\n",
       "  </thead>\n",
       "  <tbody>\n",
       "    <tr>\n",
       "      <th>0</th>\n",
       "      <td>102.05471</td>\n",
       "      <td>5.01</td>\n",
       "      <td>1-Aminocyclopropane-1-carboxylic acid</td>\n",
       "      <td>Confirmed ID (HIgh Confidence); Match Mass, MS...</td>\n",
       "      <td>8.797964e+07</td>\n",
       "      <td>8.488728e+07</td>\n",
       "      <td>8.768286e+07</td>\n",
       "      <td>8.051226e+07</td>\n",
       "      <td>7.362946e+07</td>\n",
       "      <td>7.990522e+07</td>\n",
       "      <td>...</td>\n",
       "      <td>7.814846e+07</td>\n",
       "      <td>7.662056e+07</td>\n",
       "      <td>8.191530e+07</td>\n",
       "      <td>8.115013e+07</td>\n",
       "      <td>7.647841e+07</td>\n",
       "      <td>6.723747e+07</td>\n",
       "      <td>5.797746e+07</td>\n",
       "      <td>5.682586e+07</td>\n",
       "      <td>6.747358e+07</td>\n",
       "      <td>5.969872e+07</td>\n",
       "    </tr>\n",
       "    <tr>\n",
       "      <th>1</th>\n",
       "      <td>150.07725</td>\n",
       "      <td>3.07</td>\n",
       "      <td>1-Methyladenine</td>\n",
       "      <td>Confirmed ID (HIgh Confidence); Match Mass, MS...</td>\n",
       "      <td>6.416126e+05</td>\n",
       "      <td>5.023436e+05</td>\n",
       "      <td>5.055905e+05</td>\n",
       "      <td>6.324821e+05</td>\n",
       "      <td>9.560859e+05</td>\n",
       "      <td>4.266593e+05</td>\n",
       "      <td>...</td>\n",
       "      <td>4.152413e+06</td>\n",
       "      <td>9.243055e+06</td>\n",
       "      <td>8.288173e+06</td>\n",
       "      <td>8.352531e+06</td>\n",
       "      <td>4.783644e+06</td>\n",
       "      <td>4.330093e+06</td>\n",
       "      <td>3.890677e+06</td>\n",
       "      <td>3.866626e+06</td>\n",
       "      <td>4.901932e+06</td>\n",
       "      <td>4.933419e+06</td>\n",
       "    </tr>\n",
       "  </tbody>\n",
       "</table>\n",
       "<p>2 rows × 28 columns</p>\n",
       "</div>"
      ],
      "text/plain": [
       "         m/z  RT [min]                                   Name  \\\n",
       "0  102.05471      5.01  1-Aminocyclopropane-1-carboxylic acid   \n",
       "1  150.07725      3.07                        1-Methyladenine   \n",
       "\n",
       "                                                Tags  \\\n",
       "0  Confirmed ID (HIgh Confidence); Match Mass, MS...   \n",
       "1  Confirmed ID (HIgh Confidence); Match Mass, MS...   \n",
       "\n",
       "   Foston_In_1-A_Met_LC_HILIC_Pos (F4)  Foston_In_1-B_Met_LC_HILIC_Pos (F5)  \\\n",
       "0                         8.797964e+07                         8.488728e+07   \n",
       "1                         6.416126e+05                         5.023436e+05   \n",
       "\n",
       "   Foston_In_1-C_Met_LC_HILIC_Pos (F6)  Foston_In_1-D_Met_LC_HILIC_Pos (F7)  \\\n",
       "0                         8.768286e+07                         8.051226e+07   \n",
       "1                         5.055905e+05                         6.324821e+05   \n",
       "\n",
       "   Foston_In_1-E_Met_LC_HILIC_Pos (F8)  Foston_In_1-F_Met_LC_HILIC_Pos (F9)  \\\n",
       "0                         7.362946e+07                         7.990522e+07   \n",
       "1                         9.560859e+05                         4.266593e+05   \n",
       "\n",
       "   ...  Foston_In_4-C_Met_LC_HILIC_Pos (F18)  \\\n",
       "0  ...                          7.814846e+07   \n",
       "1  ...                          4.152413e+06   \n",
       "\n",
       "   Foston_In_4-D_Met_LC_HILIC_Pos (F19)  Foston_In_4-E_Met_LC_HILIC_Pos (F20)  \\\n",
       "0                          7.662056e+07                          8.191530e+07   \n",
       "1                          9.243055e+06                          8.288173e+06   \n",
       "\n",
       "   Foston_In_4-F_Met_LC_HILIC_Pos (F21)  Foston_In_4-G_Met_LC_HILIC_Pos (F22)  \\\n",
       "0                          8.115013e+07                          7.647841e+07   \n",
       "1                          8.352531e+06                          4.783644e+06   \n",
       "\n",
       "   Foston_In_4-H_Met_LC_HILIC_Pos (F23)  Foston_In_4-I_Met_LC_HILIC_Pos (F24)  \\\n",
       "0                          6.723747e+07                          5.797746e+07   \n",
       "1                          4.330093e+06                          3.890677e+06   \n",
       "\n",
       "   Foston_In_4-J_Met_LC_HILIC_Pos (F25)  Foston_In_4-K_Met_LC_HILIC_Pos (F26)  \\\n",
       "0                          5.682586e+07                          6.747358e+07   \n",
       "1                          3.866626e+06                          4.901932e+06   \n",
       "\n",
       "   Foston_In_4-L_Met_LC_HILIC_Pos (F27)  \n",
       "0                          5.969872e+07  \n",
       "1                          4.933419e+06  \n",
       "\n",
       "[2 rows x 28 columns]"
      ]
     },
     "execution_count": 2,
     "metadata": {},
     "output_type": "execute_result"
    }
   ],
   "source": [
    "model = cobra.io.read_sbml_model(\"../models/r_opacus_annotated_curated.xml\")\n",
    "\n",
    "# load LCMS intracellular data (Can use other file names to get other LCMS data sets)\n",
    "lcms_in_pos_df = pd.read_csv('../data/metabolomics/LCMS_intracellular_metabolites_positive.csv')\n",
    "lcms_in_neg_df = pd.read_csv('../data/metabolomics/LCMS_intracellular_metabolites_negative.csv')\n",
    "lcms_ex_pos_df = pd.read_csv('../data/metabolomics/LCMS_extracellular_metabolites_positive.csv')\n",
    "lcms_ex_neg_df = pd.read_csv('../data/metabolomics/LCMS_extracellular_metabolites_negative.csv')\n",
    "\n",
    "lcms_in_pos_df.head(2)"
   ]
  },
  {
   "cell_type": "markdown",
   "id": "e2670ce8-754a-4929-8f9f-2a3317861d9e",
   "metadata": {
    "tags": []
   },
   "source": [
    "### 3a. Extract metabolite data from the genome scale model\n",
    "This was done outside of jprime becuase lxml library was needed and is not in the Biodesign kernel"
   ]
  },
  {
   "cell_type": "code",
   "execution_count": 3,
   "id": "2d293c49",
   "metadata": {},
   "outputs": [],
   "source": [
    "# # helper function for getting molecular weight from metanetx.org\n",
    "# def get_metanetx_molecular_weight(metanetx_id):\n",
    "#     url = f'https://www.metanetx.org/chem_info/{metanetx_id}'\n",
    "    \n",
    "#     metanetx_df = pd.read_html(url)[1]\n",
    "    \n",
    "#     mass_row = metanetx_df[metanetx_df[\"Unnamed: 0\"] == 'mass']\n",
    "    \n",
    "#     molecular_weight = float(mass_row.Properties.values[0])\n",
    "    \n",
    "#     return molecular_weight\n",
    "\n",
    "# get_metanetx_molecular_weight('MNXM61')"
   ]
  },
  {
   "cell_type": "code",
   "execution_count": 4,
   "id": "996a0714-ebf5-4d84-acb1-0d872118fd22",
   "metadata": {},
   "outputs": [],
   "source": [
    "# # create a list to hold metabolite data\n",
    "# row_data = []\n",
    "\n",
    "# # loop over the metabolites in the model\n",
    "# for m in model.metabolites:\n",
    "#     print(m)\n",
    "    \n",
    "#     # get MetaNetX id if present\n",
    "#     if 'metanetx.chemical' in m.annotation.keys():\n",
    "#         metanetx_id = m.annotation['metanetx.chemical']\n",
    "#         metanetx_molecular_weight = get_metanetx_molecular_weight(metanetx_id)\n",
    "#     else:\n",
    "#         metanetx_id = ''\n",
    "#         metanetx_molecular_weight = ''\n",
    "    \n",
    "#     # get KEGG id if present\n",
    "#     if 'kegg.compound' in m.annotation.keys():\n",
    "#         kegg_id = m.annotation['kegg.compound']\n",
    "#     else:\n",
    "#         kegg_id = ''\n",
    "        \n",
    "#     # create a dictionary for each metabolite's information\n",
    "#     row_data.append({\n",
    "#         \"metanetx_molecular_weight\": metanetx_molecular_weight,\n",
    "#         \"formula_molecular_weight\": m.formula_weight,\n",
    "#         \"name\": m.name,\n",
    "#         \"formula\": m.formula,\n",
    "#         \"metabolite_id\": m.id,\n",
    "#         \"metanetx_id\": metanetx_id,\n",
    "#         \"kegg_id\": kegg_id,\n",
    "#     })\n",
    "    \n",
    "# # convert the row data into a data frame\n",
    "# metabolite_df = pd.DataFrame(row_data)\n",
    "\n",
    "# # sort by molecular weight\n",
    "# metabolite_df.sort_values(by=['formula_molecular_weight'], inplace=True)\n",
    "\n",
    "# metabolite_df.head(5)"
   ]
  },
  {
   "cell_type": "markdown",
   "id": "87648040-aa25-471b-bc5f-01522cda759f",
   "metadata": {},
   "source": [
    "Save metabolite data from the model as a csv"
   ]
  },
  {
   "cell_type": "code",
   "execution_count": 5,
   "id": "660fc877-53a4-477c-bbf5-434a4125b090",
   "metadata": {},
   "outputs": [],
   "source": [
    "# metabolite_df.to_csv('../data/metabolomics/model_metabolites.csv', index=False, header=True)"
   ]
  },
  {
   "cell_type": "markdown",
   "id": "c1640b70-9067-4258-a6c4-5631add83746",
   "metadata": {},
   "source": [
    "### 3b. Load metabolite data from csv"
   ]
  },
  {
   "cell_type": "code",
   "execution_count": 6,
   "id": "66734905-4cf3-455b-a84b-bdf84c655ffd",
   "metadata": {},
   "outputs": [
    {
     "data": {
      "text/html": [
       "<div>\n",
       "<style scoped>\n",
       "    .dataframe tbody tr th:only-of-type {\n",
       "        vertical-align: middle;\n",
       "    }\n",
       "\n",
       "    .dataframe tbody tr th {\n",
       "        vertical-align: top;\n",
       "    }\n",
       "\n",
       "    .dataframe thead th {\n",
       "        text-align: right;\n",
       "    }\n",
       "</style>\n",
       "<table border=\"1\" class=\"dataframe\">\n",
       "  <thead>\n",
       "    <tr style=\"text-align: right;\">\n",
       "      <th></th>\n",
       "      <th>metanetx_molecular_weight</th>\n",
       "      <th>formula_molecular_weight</th>\n",
       "      <th>name</th>\n",
       "      <th>formula</th>\n",
       "      <th>metabolite_id</th>\n",
       "      <th>metanetx_id</th>\n",
       "      <th>kegg_id</th>\n",
       "    </tr>\n",
       "  </thead>\n",
       "  <tbody>\n",
       "    <tr>\n",
       "      <th>0</th>\n",
       "      <td>NaN</td>\n",
       "      <td>0.00000</td>\n",
       "      <td>Plastoquinol</td>\n",
       "      <td>NaN</td>\n",
       "      <td>pqh2_p</td>\n",
       "      <td>NaN</td>\n",
       "      <td>NaN</td>\n",
       "    </tr>\n",
       "    <tr>\n",
       "      <th>1</th>\n",
       "      <td>NaN</td>\n",
       "      <td>0.00000</td>\n",
       "      <td>Ferrocytochrome c6</td>\n",
       "      <td>NaN</td>\n",
       "      <td>focytc6_p</td>\n",
       "      <td>NaN</td>\n",
       "      <td>NaN</td>\n",
       "    </tr>\n",
       "    <tr>\n",
       "      <th>2</th>\n",
       "      <td>NaN</td>\n",
       "      <td>0.00000</td>\n",
       "      <td>Ferricytochrome c6</td>\n",
       "      <td>NaN</td>\n",
       "      <td>ficytc6_p</td>\n",
       "      <td>NaN</td>\n",
       "      <td>NaN</td>\n",
       "    </tr>\n",
       "    <tr>\n",
       "      <th>3</th>\n",
       "      <td>NaN</td>\n",
       "      <td>0.00000</td>\n",
       "      <td>Plastoquinone</td>\n",
       "      <td>NaN</td>\n",
       "      <td>pq_p</td>\n",
       "      <td>NaN</td>\n",
       "      <td>NaN</td>\n",
       "    </tr>\n",
       "    <tr>\n",
       "      <th>4</th>\n",
       "      <td>1.00794</td>\n",
       "      <td>1.00794</td>\n",
       "      <td>H+</td>\n",
       "      <td>H</td>\n",
       "      <td>h_c</td>\n",
       "      <td>MNXM1</td>\n",
       "      <td>C00080</td>\n",
       "    </tr>\n",
       "    <tr>\n",
       "      <th>5</th>\n",
       "      <td>1.00794</td>\n",
       "      <td>1.00794</td>\n",
       "      <td>H+</td>\n",
       "      <td>H</td>\n",
       "      <td>h_e</td>\n",
       "      <td>MNXM1</td>\n",
       "      <td>C00080</td>\n",
       "    </tr>\n",
       "    <tr>\n",
       "      <th>6</th>\n",
       "      <td>1.00794</td>\n",
       "      <td>1.00794</td>\n",
       "      <td>H+</td>\n",
       "      <td>H</td>\n",
       "      <td>h_p</td>\n",
       "      <td>MNXM1</td>\n",
       "      <td>C00080</td>\n",
       "    </tr>\n",
       "    <tr>\n",
       "      <th>7</th>\n",
       "      <td>2.01565</td>\n",
       "      <td>2.01588</td>\n",
       "      <td>Hydrogen</td>\n",
       "      <td>H2</td>\n",
       "      <td>h2_c</td>\n",
       "      <td>MNXM195</td>\n",
       "      <td>C00282</td>\n",
       "    </tr>\n",
       "    <tr>\n",
       "      <th>8</th>\n",
       "      <td>NaN</td>\n",
       "      <td>15.01464</td>\n",
       "      <td>N  2 methyl 3 5 dinitrophenyl  4 methyl 3 5 di...</td>\n",
       "      <td>HN</td>\n",
       "      <td>2m35mdntha_c</td>\n",
       "      <td>NaN</td>\n",
       "      <td>NaN</td>\n",
       "    </tr>\n",
       "    <tr>\n",
       "      <th>9</th>\n",
       "      <td>NaN</td>\n",
       "      <td>15.01464</td>\n",
       "      <td>N N bis 3 5 dinitrotolyl  amine</td>\n",
       "      <td>HN</td>\n",
       "      <td>35dnta_c</td>\n",
       "      <td>NaN</td>\n",
       "      <td>NaN</td>\n",
       "    </tr>\n",
       "  </tbody>\n",
       "</table>\n",
       "</div>"
      ],
      "text/plain": [
       "   metanetx_molecular_weight  formula_molecular_weight  \\\n",
       "0                        NaN                   0.00000   \n",
       "1                        NaN                   0.00000   \n",
       "2                        NaN                   0.00000   \n",
       "3                        NaN                   0.00000   \n",
       "4                    1.00794                   1.00794   \n",
       "5                    1.00794                   1.00794   \n",
       "6                    1.00794                   1.00794   \n",
       "7                    2.01565                   2.01588   \n",
       "8                        NaN                  15.01464   \n",
       "9                        NaN                  15.01464   \n",
       "\n",
       "                                                name formula metabolite_id  \\\n",
       "0                                       Plastoquinol     NaN        pqh2_p   \n",
       "1                                 Ferrocytochrome c6     NaN     focytc6_p   \n",
       "2                                 Ferricytochrome c6     NaN     ficytc6_p   \n",
       "3                                      Plastoquinone     NaN          pq_p   \n",
       "4                                                 H+       H           h_c   \n",
       "5                                                 H+       H           h_e   \n",
       "6                                                 H+       H           h_p   \n",
       "7                                           Hydrogen      H2          h2_c   \n",
       "8  N  2 methyl 3 5 dinitrophenyl  4 methyl 3 5 di...      HN  2m35mdntha_c   \n",
       "9                    N N bis 3 5 dinitrotolyl  amine      HN      35dnta_c   \n",
       "\n",
       "  metanetx_id kegg_id  \n",
       "0         NaN     NaN  \n",
       "1         NaN     NaN  \n",
       "2         NaN     NaN  \n",
       "3         NaN     NaN  \n",
       "4       MNXM1  C00080  \n",
       "5       MNXM1  C00080  \n",
       "6       MNXM1  C00080  \n",
       "7     MNXM195  C00282  \n",
       "8         NaN     NaN  \n",
       "9         NaN     NaN  "
      ]
     },
     "execution_count": 6,
     "metadata": {},
     "output_type": "execute_result"
    }
   ],
   "source": [
    "metabolite_df = pd.read_csv('../data/metabolomics/model_metabolites.csv')\n",
    "metabolite_df.head(10)"
   ]
  },
  {
   "cell_type": "markdown",
   "id": "b673a41b-5656-4684-9695-9d583cf2d35a",
   "metadata": {},
   "source": [
    "### 4. Check for matches between model metabolites and LCMS data"
   ]
  },
  {
   "cell_type": "code",
   "execution_count": 7,
   "id": "64fa1aa3-d87a-4743-8201-2f9ca9dc3098",
   "metadata": {},
   "outputs": [
    {
     "data": {
      "text/plain": [
       "(metanetx_molecular_weight              147.053\n",
       " formula_molecular_weight               147.129\n",
       " name                         O-Acetyl-L-serine\n",
       " formula                                C5H9NO4\n",
       " metabolite_id                          acser_c\n",
       " metanetx_id                            MNXM418\n",
       " kegg_id                                 C00979\n",
       " Name: 528, dtype: object, 0.0009200000000362252)"
      ]
     },
     "execution_count": 7,
     "metadata": {},
     "output_type": "execute_result"
    }
   ],
   "source": [
    "hydrogen_mass = 1.008\n",
    "\n",
    "# define a helper function to get the model metabilte data from a given molecular weight\n",
    "def molecular_weight_to_metabolite_data(molecular_weight):\n",
    "\n",
    "    # keep track of the closest mass distance between the given \n",
    "    # molecular weight and model metabolite's molecular weight\n",
    "    minimum_mass_difference = 1000\n",
    "    \n",
    "    # define an arbitrary closest metabolite\n",
    "    closest_molecular_weight_data = metabolite_df.loc[0]\n",
    "    \n",
    "    # loop over metabolite data\n",
    "    for _, row in metabolite_df.iterrows():\n",
    "        \n",
    "        # get the metabolite mass values for with or without a proton\n",
    "        metabolite_molecular_weight = row.metanetx_molecular_weight\n",
    "        metabolite_plus_1_molecular_weight = row.metanetx_molecular_weight + hydrogen_mass\n",
    "        metabolite_minus_1_molecular_weight = row.metanetx_molecular_weight + hydrogen_mass\n",
    "        \n",
    "        # check if this metabolite is the closest in mass to the given molecular weight\n",
    "        if abs(metabolite_molecular_weight - molecular_weight) < minimum_mass_difference:\n",
    "            # if so, the update the data for the the closest metabolite and the min mass distance\n",
    "            closest_molecular_weight_data = row\n",
    "            minimum_mass_difference = abs(metabolite_molecular_weight - molecular_weight)\n",
    "            \n",
    "        # check this metabolite plus a proton\n",
    "        elif abs(metabolite_plus_1_molecular_weight - molecular_weight) < minimum_mass_difference:\n",
    "            closest_molecular_weight_data = row\n",
    "            minimum_mass_difference = abs(metabolite_plus_1_molecular_weight - molecular_weight)\n",
    "            \n",
    "        # check this metabolite minus a proton\n",
    "        elif abs(metabolite_minus_1_molecular_weight - molecular_weight) < minimum_mass_difference:\n",
    "            closest_molecular_weight_data = row\n",
    "            minimum_mass_difference = abs(metabolite_minus_1_molecular_weight - molecular_weight)\n",
    "\n",
    "    # return the data from the metabolite with the closest molecular weight\n",
    "    return closest_molecular_weight_data, minimum_mass_difference\n",
    "\n",
    "# a testing function\n",
    "molecular_weight_to_metabolite_data(148.06024)"
   ]
  },
  {
   "cell_type": "code",
   "execution_count": 8,
   "id": "fbcb0e03-37b5-48e2-b61b-29409344de58",
   "metadata": {},
   "outputs": [],
   "source": [
    "# A helper function to get lists of model metabolites and mass differences for a given lcms dataframe\n",
    "def get_model_metabolites_and_mass_differences(lcms_df):\n",
    "    \n",
    "    # create lists to store values\n",
    "    model_metabolites = []\n",
    "    mass_differences = []\n",
    "\n",
    "    # loop over metabolites that have LCMS measurements\n",
    "    for _, row in lcms_df.iterrows():    \n",
    "        # get data from \n",
    "        molecular_weight = row['m/z']\n",
    "        model_metabolite, mass_difference = molecular_weight_to_metabolite_data(molecular_weight)\n",
    "\n",
    "        model_metabolites.append(model_metabolite['name'])\n",
    "        mass_differences.append(mass_difference)\n",
    "        \n",
    "    return model_metabolites, mass_differences"
   ]
  },
  {
   "cell_type": "markdown",
   "id": "09518bf5-bb88-452f-a7e7-67a598963c61",
   "metadata": {},
   "source": [
    "Add columns for predicted model metabolites and mass differences to the intracellular positive LCMS data"
   ]
  },
  {
   "cell_type": "code",
   "execution_count": 9,
   "id": "013cf8ac-bcd9-4b3c-a4eb-de72dbb3ee00",
   "metadata": {},
   "outputs": [],
   "source": [
    "model_metabolites, mass_differences = get_model_metabolites_and_mass_differences(lcms_in_pos_df)\n",
    "lcms_in_pos_df.insert(3, \"model_metabolite\", model_metabolites)\n",
    "lcms_in_pos_df.insert(4, \"mass_difference\", mass_differences)"
   ]
  },
  {
   "cell_type": "markdown",
   "id": "1fd0ff17-d653-4ea3-aa6f-210a505d18e0",
   "metadata": {},
   "source": [
    "Add columns for predicted model metabolites and mass differences to the intracellular negative LCMS data"
   ]
  },
  {
   "cell_type": "code",
   "execution_count": 10,
   "id": "55a97edf-b421-492f-9fb5-df948b04a64f",
   "metadata": {},
   "outputs": [],
   "source": [
    "model_metabolites, mass_differences = get_model_metabolites_and_mass_differences(lcms_in_neg_df)\n",
    "lcms_in_neg_df.insert(3, \"model_metabolite\", model_metabolites)\n",
    "lcms_in_neg_df.insert(4, \"mass_difference\", mass_differences)"
   ]
  },
  {
   "cell_type": "markdown",
   "id": "7bc4eaf4-c661-4b16-a8fd-5b8f9da200b4",
   "metadata": {},
   "source": [
    "Add columns for predicted model metabolites and mass differences to the extracellular positive LCMS data"
   ]
  },
  {
   "cell_type": "code",
   "execution_count": 11,
   "id": "cee9d7cc-6968-400d-b184-91cca1e8fe7d",
   "metadata": {},
   "outputs": [],
   "source": [
    "model_metabolites, mass_differences = get_model_metabolites_and_mass_differences(lcms_ex_pos_df)\n",
    "lcms_ex_pos_df.insert(3, \"model_metabolite\", model_metabolites)\n",
    "lcms_ex_pos_df.insert(4, \"mass_difference\", mass_differences)"
   ]
  },
  {
   "cell_type": "markdown",
   "id": "fc8d6350-0ee0-4b20-a64e-b16d9660537d",
   "metadata": {},
   "source": [
    "Add columns for predicted model metabolites and mass differences to the extracellular negative LCMS data"
   ]
  },
  {
   "cell_type": "code",
   "execution_count": 12,
   "id": "bbb87b0b-2264-432e-833f-d629f3b05333",
   "metadata": {},
   "outputs": [],
   "source": [
    "model_metabolites, mass_differences = get_model_metabolites_and_mass_differences(lcms_ex_neg_df)\n",
    "lcms_ex_neg_df.insert(3, \"model_metabolite\", model_metabolites)\n",
    "lcms_ex_neg_df.insert(4, \"mass_difference\", mass_differences)"
   ]
  },
  {
   "cell_type": "markdown",
   "id": "bc4649af-ec79-4f7d-8d85-36cd2b14e097",
   "metadata": {},
   "source": [
    "Save updated lcms data as dataframes"
   ]
  },
  {
   "cell_type": "code",
   "execution_count": 13,
   "id": "8ee36807-21bf-4d60-a7b1-d3ed78c23112",
   "metadata": {},
   "outputs": [],
   "source": [
    "lcms_in_pos_df.to_csv('../data/metabolomics/LCMS_intracellular_metabolites_positive_with_model.csv', index=False, header=True)\n",
    "lcms_in_neg_df.to_csv('../data/metabolomics/LCMS_intracellular_metabolites_negative_with_model.csv', index=False, header=True)\n",
    "lcms_ex_pos_df.to_csv('../data/metabolomics/LCMS_extracellular_metabolites_positive_with_model.csv', index=False, header=True)\n",
    "lcms_ex_neg_df.to_csv('../data/metabolomics/LCMS_extracellular_metabolites_negative_with_model.csv', index=False, header=True)"
   ]
  }
 ],
 "metadata": {
  "kernelspec": {
   "display_name": "biodesign_3.7",
   "language": "python",
   "name": "biod_3.7"
  },
  "language_info": {
   "codemirror_mode": {
    "name": "ipython",
    "version": 3
   },
   "file_extension": ".py",
   "mimetype": "text/x-python",
   "name": "python",
   "nbconvert_exporter": "python",
   "pygments_lexer": "ipython3",
   "version": "3.7.4"
  }
 },
 "nbformat": 4,
 "nbformat_minor": 5
}

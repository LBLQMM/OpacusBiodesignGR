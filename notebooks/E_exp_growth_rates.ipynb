{
 "cells": [
  {
   "cell_type": "markdown",
   "id": "6a4df96b-642f-4e15-8918-f8df3e2f44f6",
   "metadata": {
    "tags": []
   },
   "source": [
    "# Time course growth and substrate  data ➟ Growth parameters\n",
    "\n",
    "By Christina Schenk and Garrett Roell\n",
    "\n",
    "Tested on biodesign_3.7 kernel on jprime\n",
    "\n",
    "\n",
    "This notebook calculates the growth rate, yield coefficient, and substrate uptake rate of R. opacus cultures growing with phenol and glucose. These experiements were published in this paper: [Henson (2018)](https://www.sciencedirect.com/science/article/pii/S1096717618300910).\n",
    "\n",
    "#### Henson data:\n",
    "* WT 0.5 g/L Phenol (3 trials) (**WT-P**)\n",
    "* PVHG6 0.5 g/L Phenol (3 trials) (**PVHG-P**)\n",
    "\n",
    "#### Rhiannon 2018 data (New data for this paper):\n",
    "* Metabolomics and OD data for WT Glucose (**WT-G**)\n",
    "\n",
    "### Method: \n",
    "<ol>\n",
    "<li>Calculate growth rate by finding slope of log(biomass) vs. time</li>\n",
    "<li>Simulate biomass growth by using timepoints and X = X0e^(mu*t)</li>\n",
    "<li>Calculate yield coefficient by finding the slope of the biomass generated vs substrate consumed</li>\n",
    "<li>Calculate substrate uptake rate by dividing the growth rate by the yield coefficient</li>\n",
    "</ol>"
   ]
  },
  {
   "cell_type": "markdown",
   "id": "3cb8e389-018a-4e58-8cdd-6305721553bb",
   "metadata": {},
   "source": [
    "#### **Setup imports**"
   ]
  },
  {
   "cell_type": "code",
   "execution_count": 11,
   "id": "2cf682a4-0ddd-476a-a914-064ebd6c9a68",
   "metadata": {},
   "outputs": [],
   "source": [
    "import sys\n",
    "import pandas as pd\n",
    "\n",
    "SourceDir = '../src'\n",
    "sys.path.append(SourceDir)\n",
    "from utils import *\n",
    "from plot import *"
   ]
  },
  {
   "cell_type": "markdown",
   "id": "f6adc173-c419-4bc7-9339-dd317236557c",
   "metadata": {},
   "source": [
    "#### **Create blank growth parameter dataframe**\n",
    "The dataframe will hold the data calculated in this notebook"
   ]
  },
  {
   "cell_type": "code",
   "execution_count": 12,
   "id": "3b8f6dd9-220f-4fc7-a262-1d1801bda446",
   "metadata": {},
   "outputs": [
    {
     "data": {
      "text/html": [
       "<div>\n",
       "<style scoped>\n",
       "    .dataframe tbody tr th:only-of-type {\n",
       "        vertical-align: middle;\n",
       "    }\n",
       "\n",
       "    .dataframe tbody tr th {\n",
       "        vertical-align: top;\n",
       "    }\n",
       "\n",
       "    .dataframe thead th {\n",
       "        text-align: right;\n",
       "    }\n",
       "</style>\n",
       "<table border=\"1\" class=\"dataframe\">\n",
       "  <thead>\n",
       "    <tr style=\"text-align: right;\">\n",
       "      <th></th>\n",
       "      <th>growth rate</th>\n",
       "      <th>yield coefficient</th>\n",
       "      <th>substrate consumption rate</th>\n",
       "      <th>growth rate std dev</th>\n",
       "      <th>yield coefficient std dev</th>\n",
       "      <th>substrate consumption rate std dev</th>\n",
       "    </tr>\n",
       "  </thead>\n",
       "  <tbody>\n",
       "    <tr>\n",
       "      <th>WT-P</th>\n",
       "      <td>NaN</td>\n",
       "      <td>NaN</td>\n",
       "      <td>NaN</td>\n",
       "      <td>NaN</td>\n",
       "      <td>NaN</td>\n",
       "      <td>NaN</td>\n",
       "    </tr>\n",
       "    <tr>\n",
       "      <th>PVHG-P</th>\n",
       "      <td>NaN</td>\n",
       "      <td>NaN</td>\n",
       "      <td>NaN</td>\n",
       "      <td>NaN</td>\n",
       "      <td>NaN</td>\n",
       "      <td>NaN</td>\n",
       "    </tr>\n",
       "    <tr>\n",
       "      <th>WT-G</th>\n",
       "      <td>NaN</td>\n",
       "      <td>NaN</td>\n",
       "      <td>NaN</td>\n",
       "      <td>NaN</td>\n",
       "      <td>NaN</td>\n",
       "      <td>NaN</td>\n",
       "    </tr>\n",
       "  </tbody>\n",
       "</table>\n",
       "</div>"
      ],
      "text/plain": [
       "        growth rate  yield coefficient  substrate consumption rate  \\\n",
       "WT-P            NaN                NaN                         NaN   \n",
       "PVHG-P          NaN                NaN                         NaN   \n",
       "WT-G            NaN                NaN                         NaN   \n",
       "\n",
       "        growth rate std dev  yield coefficient std dev  \\\n",
       "WT-P                    NaN                        NaN   \n",
       "PVHG-P                  NaN                        NaN   \n",
       "WT-G                    NaN                        NaN   \n",
       "\n",
       "        substrate consumption rate std dev  \n",
       "WT-P                                   NaN  \n",
       "PVHG-P                                 NaN  \n",
       "WT-G                                   NaN  "
      ]
     },
     "execution_count": 12,
     "metadata": {},
     "output_type": "execute_result"
    }
   ],
   "source": [
    "# create dataframe for all results:\n",
    "columns = ['growth rate', 'yield coefficient',  'substrate consumption rate', 'growth rate std dev', 'yield coefficient std dev', 'substrate consumption rate std dev']\n",
    "strains = ['WT-P', 'PVHG-P', 'WT-G']\n",
    "\n",
    "growth_parameter_df = pd.DataFrame(index=strains, columns=columns, dtype=float)\n",
    "growth_parameter_df.head()"
   ]
  },
  {
   "cell_type": "markdown",
   "id": "bd0b1351-a30f-48de-9a83-0f8e0c03b258",
   "metadata": {},
   "source": [
    "#### **Set g/L per OD value** "
   ]
  },
  {
   "cell_type": "code",
   "execution_count": 13,
   "id": "11b90e73-3868-4c65-b3cf-8311db7fe540",
   "metadata": {},
   "outputs": [],
   "source": [
    "# 1 OD = 0.368 g/L of biomass\n",
    "GRAMS_BIOMASS_PER_LITER_PER_OD = 0.368 "
   ]
  },
  {
   "cell_type": "markdown",
   "id": "3bfcd52b-6072-4c1b-acaf-1ce37088ebeb",
   "metadata": {
    "tags": []
   },
   "source": [
    "#### **Load Phenol Data from Henson Data Set**"
   ]
  },
  {
   "cell_type": "code",
   "execution_count": 14,
   "id": "3bbffbe2-0147-4631-be67-e9cb4bbe9df7",
   "metadata": {},
   "outputs": [
    {
     "name": "stdin",
     "output_type": "stream",
     "text": [
      "Password for garrettroell:  ················\n"
     ]
    }
   ],
   "source": [
    "from edd_utils import login, export_study, export_metadata\n",
    "\n",
    "# EDD infomation\n",
    "study_slug = 'biodesign_henson2018_reprocessed'\n",
    "edd_server = 'public-edd.jbei.org'\n",
    "user       = 'garrettroell'\n",
    "\n",
    "session = login(edd_server=edd_server, user=user)"
   ]
  },
  {
   "cell_type": "code",
   "execution_count": 15,
   "id": "6c0d30ad-badd-49ba-8524-c8f95d6f11a0",
   "metadata": {
    "colab": {
     "base_uri": "https://localhost:8080/",
     "height": 66,
     "referenced_widgets": [
      "539b714eeed449a98a8103495bb09271",
      "78abcc3c4d03426880579a3e9263ce72",
      "a620217c921c4ca8a3a77c1b8ba08a93",
      "d0801e3f690243fcae0b587876494e02",
      "48add538ca1641b39da6a939edecdd51",
      "91f943ba85ef4b0f86cfcc1fd8134b17",
      "52a14efda875400b8f118efa9a5f2039",
      "ac86963a466f408f8b31f6fd101e7c6c"
     ]
    },
    "colab_type": "code",
    "executionInfo": {
     "elapsed": 35271,
     "status": "ok",
     "timestamp": 1583442708518,
     "user": {
      "displayName": "Jose Manuel Marti",
      "photoUrl": "https://lh3.googleusercontent.com/a-/AOh14GgVW2THsusWG3ozbxIZPs_NrwgMx242bQ6GXuwL=s64",
      "userId": "02550125009698451321"
     },
     "user_tz": 480
    },
    "id": "KCyCWhMRYFPW",
    "outputId": "ba9a3705-4b64-448c-e57c-f2582592156f"
   },
   "outputs": [
    {
     "data": {
      "application/vnd.jupyter.widget-view+json": {
       "model_id": "76f54a9e790d4b359bd463c14859c90a",
       "version_major": 2,
       "version_minor": 0
      },
      "text/plain": [
       "HBox(children=(FloatProgress(value=0.0, max=440493.0), HTML(value='')))"
      ]
     },
     "metadata": {},
     "output_type": "display_data"
    },
    {
     "name": "stdout",
     "output_type": "stream",
     "text": [
      "\n"
     ]
    }
   ],
   "source": [
    "phenol_df = export_study(session, study_slug, edd_server=edd_server)"
   ]
  },
  {
   "cell_type": "markdown",
   "id": "df0fdae8-4cb4-48b9-8a8b-f14bce795ca6",
   "metadata": {},
   "source": [
    "#### **Get Phenol OD and substrate data**"
   ]
  },
  {
   "cell_type": "code",
   "execution_count": 16,
   "id": "419e8145-b56a-4284-b5b3-d7f21fd6d87a",
   "metadata": {},
   "outputs": [
    {
     "name": "stdout",
     "output_type": "stream",
     "text": [
      "substrate data has 48 lines\n",
      "OD data has 60 lines\n"
     ]
    }
   ],
   "source": [
    "phenol_od_df = phenol_df[phenol_df['Protocol'].str.contains('OD600')]\n",
    "phenol_od_df.loc[:,'Biomass Conc'] = GRAMS_BIOMASS_PER_LITER_PER_OD*phenol_od_df['Value']\n",
    "phenol_substrate_df = phenol_df[phenol_df['Protocol'].str.contains('HPLC')]\n",
    "\n",
    "print(f'substrate data has {len(phenol_substrate_df)} lines')\n",
    "print(f'OD data has {len(phenol_od_df)} lines')"
   ]
  },
  {
   "cell_type": "code",
   "execution_count": 11,
   "id": "044e07a4-3049-4f1e-ad3d-9a56d26c1f39",
   "metadata": {},
   "outputs": [
    {
     "data": {
      "text/html": [
       "<div>\n",
       "<style scoped>\n",
       "    .dataframe tbody tr th:only-of-type {\n",
       "        vertical-align: middle;\n",
       "    }\n",
       "\n",
       "    .dataframe tbody tr th {\n",
       "        vertical-align: top;\n",
       "    }\n",
       "\n",
       "    .dataframe thead th {\n",
       "        text-align: right;\n",
       "    }\n",
       "</style>\n",
       "<table border=\"1\" class=\"dataframe\">\n",
       "  <thead>\n",
       "    <tr style=\"text-align: right;\">\n",
       "      <th></th>\n",
       "      <th>Study ID</th>\n",
       "      <th>Study Name</th>\n",
       "      <th>Line ID</th>\n",
       "      <th>Replicate Key</th>\n",
       "      <th>Line Name</th>\n",
       "      <th>Line Description</th>\n",
       "      <th>Protocol</th>\n",
       "      <th>Assay ID</th>\n",
       "      <th>Assay Name</th>\n",
       "      <th>Formal Type</th>\n",
       "      <th>Measurement Type</th>\n",
       "      <th>Compartment</th>\n",
       "      <th>Units</th>\n",
       "      <th>Value</th>\n",
       "      <th>Hours</th>\n",
       "      <th>Biomass Conc</th>\n",
       "    </tr>\n",
       "  </thead>\n",
       "  <tbody>\n",
       "    <tr>\n",
       "      <th>440385</th>\n",
       "      <td>14409</td>\n",
       "      <td>Biodesign_Henson2018_reprocessed</td>\n",
       "      <td>14892</td>\n",
       "      <td>b512abae062c4a119ff19704ed174046</td>\n",
       "      <td>WT-P-R1</td>\n",
       "      <td>R. Opacus wild type strain with 0.5 g/l PHE as...</td>\n",
       "      <td>OD600</td>\n",
       "      <td>14975</td>\n",
       "      <td>WT-P-R1</td>\n",
       "      <td>NaN</td>\n",
       "      <td>Optical Density</td>\n",
       "      <td>0</td>\n",
       "      <td>NaN</td>\n",
       "      <td>0.05000</td>\n",
       "      <td>0.0</td>\n",
       "      <td>0.018400</td>\n",
       "    </tr>\n",
       "    <tr>\n",
       "      <th>440386</th>\n",
       "      <td>14409</td>\n",
       "      <td>Biodesign_Henson2018_reprocessed</td>\n",
       "      <td>14892</td>\n",
       "      <td>b512abae062c4a119ff19704ed174046</td>\n",
       "      <td>WT-P-R1</td>\n",
       "      <td>R. Opacus wild type strain with 0.5 g/l PHE as...</td>\n",
       "      <td>OD600</td>\n",
       "      <td>14975</td>\n",
       "      <td>WT-P-R1</td>\n",
       "      <td>NaN</td>\n",
       "      <td>Optical Density</td>\n",
       "      <td>0</td>\n",
       "      <td>NaN</td>\n",
       "      <td>0.09559</td>\n",
       "      <td>9.0</td>\n",
       "      <td>0.035177</td>\n",
       "    </tr>\n",
       "  </tbody>\n",
       "</table>\n",
       "</div>"
      ],
      "text/plain": [
       "        Study ID                        Study Name  Line ID  \\\n",
       "440385     14409  Biodesign_Henson2018_reprocessed    14892   \n",
       "440386     14409  Biodesign_Henson2018_reprocessed    14892   \n",
       "\n",
       "                           Replicate Key Line Name  \\\n",
       "440385  b512abae062c4a119ff19704ed174046   WT-P-R1   \n",
       "440386  b512abae062c4a119ff19704ed174046   WT-P-R1   \n",
       "\n",
       "                                         Line Description Protocol  Assay ID  \\\n",
       "440385  R. Opacus wild type strain with 0.5 g/l PHE as...    OD600     14975   \n",
       "440386  R. Opacus wild type strain with 0.5 g/l PHE as...    OD600     14975   \n",
       "\n",
       "       Assay Name Formal Type Measurement Type  Compartment Units    Value  \\\n",
       "440385    WT-P-R1         NaN  Optical Density            0   NaN  0.05000   \n",
       "440386    WT-P-R1         NaN  Optical Density            0   NaN  0.09559   \n",
       "\n",
       "        Hours  Biomass Conc  \n",
       "440385    0.0      0.018400  \n",
       "440386    9.0      0.035177  "
      ]
     },
     "execution_count": 11,
     "metadata": {},
     "output_type": "execute_result"
    }
   ],
   "source": [
    "phenol_od_df.head(2)"
   ]
  },
  {
   "cell_type": "markdown",
   "id": "224b34bb-ec26-40ac-a5aa-cbb56ff39c3a",
   "metadata": {
    "tags": []
   },
   "source": [
    "#### **Calculate wildtype phenol growth parameters**"
   ]
  },
  {
   "cell_type": "code",
   "execution_count": 18,
   "id": "f1f3ab5a-6b55-4ffd-b24a-9944fc3d18d3",
   "metadata": {},
   "outputs": [
    {
     "data": {
      "text/html": [
       "<div>\n",
       "<style scoped>\n",
       "    .dataframe tbody tr th:only-of-type {\n",
       "        vertical-align: middle;\n",
       "    }\n",
       "\n",
       "    .dataframe tbody tr th {\n",
       "        vertical-align: top;\n",
       "    }\n",
       "\n",
       "    .dataframe thead th {\n",
       "        text-align: right;\n",
       "    }\n",
       "</style>\n",
       "<table border=\"1\" class=\"dataframe\">\n",
       "  <thead>\n",
       "    <tr style=\"text-align: right;\">\n",
       "      <th></th>\n",
       "      <th>growth rate</th>\n",
       "      <th>yield coefficient</th>\n",
       "      <th>substrate consumption rate</th>\n",
       "      <th>growth rate std dev</th>\n",
       "      <th>yield coefficient std dev</th>\n",
       "      <th>substrate consumption rate std dev</th>\n",
       "    </tr>\n",
       "  </thead>\n",
       "  <tbody>\n",
       "    <tr>\n",
       "      <th>WT-P</th>\n",
       "      <td>0.065488</td>\n",
       "      <td>0.048868</td>\n",
       "      <td>1.352072</td>\n",
       "      <td>0.001345</td>\n",
       "      <td>0.004836</td>\n",
       "      <td>0.122279</td>\n",
       "    </tr>\n",
       "    <tr>\n",
       "      <th>PVHG-P</th>\n",
       "      <td>NaN</td>\n",
       "      <td>NaN</td>\n",
       "      <td>NaN</td>\n",
       "      <td>NaN</td>\n",
       "      <td>NaN</td>\n",
       "      <td>NaN</td>\n",
       "    </tr>\n",
       "    <tr>\n",
       "      <th>WT-G</th>\n",
       "      <td>NaN</td>\n",
       "      <td>NaN</td>\n",
       "      <td>NaN</td>\n",
       "      <td>NaN</td>\n",
       "      <td>NaN</td>\n",
       "      <td>NaN</td>\n",
       "    </tr>\n",
       "  </tbody>\n",
       "</table>\n",
       "</div>"
      ],
      "text/plain": [
       "        growth rate  yield coefficient  substrate consumption rate  \\\n",
       "WT-P       0.065488           0.048868                    1.352072   \n",
       "PVHG-P          NaN                NaN                         NaN   \n",
       "WT-G            NaN                NaN                         NaN   \n",
       "\n",
       "        growth rate std dev  yield coefficient std dev  \\\n",
       "WT-P               0.001345                   0.004836   \n",
       "PVHG-P                  NaN                        NaN   \n",
       "WT-G                    NaN                        NaN   \n",
       "\n",
       "        substrate consumption rate std dev  \n",
       "WT-P                              0.122279  \n",
       "PVHG-P                                 NaN  \n",
       "WT-G                                   NaN  "
      ]
     },
     "execution_count": 18,
     "metadata": {},
     "output_type": "execute_result"
    }
   ],
   "source": [
    "growth_parameter_df.at['WT-P',:]=[growth_rate_WTP, \n",
    "                                    yield_coeff_WTP, \n",
    "                                    substrate_consumption_rate_WTP, \n",
    "                                    growth_rate_std_WTP, \n",
    "                                    yield_coeff_std_WTP, \n",
    "                                    substrate_consumption_rate_std_WTP\n",
    "                                ]\n",
    "growth_parameter_df"
   ]
  },
  {
   "cell_type": "markdown",
   "id": "e376040b-430d-4c17-a7f2-25b9e337910c",
   "metadata": {},
   "source": [
    "#### **Add wildtype phenol data to dataframe**"
   ]
  },
  {
   "cell_type": "code",
   "execution_count": 16,
   "id": "1e5f73b0-231c-4a30-8e70-365a6a53ce96",
   "metadata": {},
   "outputs": [],
   "source": [
    "phenol_od_df_2 = phenol_od_df[phenol_od_df['Line Name'].str.contains('PVHG-P')]\n",
    "phenol_substrate_df_2 = phenol_substrate_df[phenol_substrate_df['Line Name'].str.contains('PVHG-P')]"
   ]
  },
  {
   "cell_type": "code",
   "execution_count": null,
   "id": "cf8f3d16-4021-489f-a0b0-c545cbc0baf0",
   "metadata": {},
   "outputs": [],
   "source": [
    "# [growth_rate_PVHGP, \n",
    "#  yield_coeff_PVHGP, \n",
    "#  substrate_consumption_rate_PVHGP, \n",
    "#  growth_rate_std_PVHGP, \n",
    "#  yield_coeff_std_PVHGP, \n",
    "#  substrate_consumption_rate_std_PVHGP] = stats_for_condition(\n",
    "#     phenol_od_df_2, \n",
    "#     phenol_substrate_df_2, \n",
    "#     'PVHG-P-R1', \n",
    "#     'PVHG-P-R2', \n",
    "#     'PVHG-P-R3', \n",
    "#     94.11, \n",
    "#     substrate='phenol', \n",
    "#     max_time=40\n",
    "# )"
   ]
  },
  {
   "cell_type": "markdown",
   "id": "f42021ca-ca50-4d8e-8bc9-46cd5ced6248",
   "metadata": {},
   "source": [
    "#### **Calculate PVHG6 phenol growth parameters**"
   ]
  },
  {
   "cell_type": "code",
   "execution_count": 20,
   "id": "0864d78f-53df-41d3-b626-918a7c17eb07",
   "metadata": {},
   "outputs": [
    {
     "name": "stdout",
     "output_type": "stream",
     "text": [
      "growth_rate = 0.080 ± 0.003 hr-1\n",
      "yield coefficient = 0.041 ± 0.002 g biomass / mmol substrate\n",
      "substrate consumption rate = 1.967 ± 0.022 mmol substrate/gram biomass * hr\n"
     ]
    },
    {
     "data": {
      "image/png": "[encoded data removed]",
      "text/plain": [
       "<Figure size 576x360 with 2 Axes>"
      ]
     },
     "metadata": {
      "needs_background": "light"
     },
     "output_type": "display_data"
    },
    {
     "data": {
      "image/png": "[encoded data removed]",
      "text/plain": [
       "<Figure size 576x360 with 2 Axes>"
      ]
     },
     "metadata": {
      "needs_background": "light"
     },
     "output_type": "display_data"
    },
    {
     "data": {
      "image/png": "[encoded data removed]",
      "text/plain": [
       "<Figure size 576x360 with 2 Axes>"
      ]
     },
     "metadata": {
      "needs_background": "light"
     },
     "output_type": "display_data"
    }
   ],
   "source": [
    "[growth_rate_PVHGP, \n",
    " yield_coeff_PVHGP, \n",
    " substrate_consumption_rate_PVHGP, \n",
    " growth_rate_std_PVHGP, \n",
    " yield_coeff_std_PVHGP, \n",
    " substrate_consumption_rate_std_PVHGP] = stats_for_condition(\n",
    "    phenol_od_df, \n",
    "    phenol_substrate_df, \n",
    "    'PVHG-P-R1', \n",
    "    'PVHG-P-R2', \n",
    "    'PVHG-P-R3', \n",
    "    94.11, \n",
    "    substrate='phenol', \n",
    "    max_time=40\n",
    ")"
   ]
  },
  {
   "cell_type": "markdown",
   "id": "f109d59f-bdee-42a6-9b9a-32c1e71679ef",
   "metadata": {},
   "source": [
    "#### **Add PVHG6 phenol data to dataframe**"
   ]
  },
  {
   "cell_type": "code",
   "execution_count": 21,
   "id": "2470a364-e0b3-45b7-ae62-a3f7664c1fd7",
   "metadata": {},
   "outputs": [
    {
     "data": {
      "text/html": [
       "<div>\n",
       "<style scoped>\n",
       "    .dataframe tbody tr th:only-of-type {\n",
       "        vertical-align: middle;\n",
       "    }\n",
       "\n",
       "    .dataframe tbody tr th {\n",
       "        vertical-align: top;\n",
       "    }\n",
       "\n",
       "    .dataframe thead th {\n",
       "        text-align: right;\n",
       "    }\n",
       "</style>\n",
       "<table border=\"1\" class=\"dataframe\">\n",
       "  <thead>\n",
       "    <tr style=\"text-align: right;\">\n",
       "      <th></th>\n",
       "      <th>growth rate</th>\n",
       "      <th>yield coefficient</th>\n",
       "      <th>substrate consumption rate</th>\n",
       "      <th>growth rate std dev</th>\n",
       "      <th>yield coefficient std dev</th>\n",
       "      <th>substrate consumption rate std dev</th>\n",
       "    </tr>\n",
       "  </thead>\n",
       "  <tbody>\n",
       "    <tr>\n",
       "      <th>WT-P</th>\n",
       "      <td>0.065488</td>\n",
       "      <td>0.048868</td>\n",
       "      <td>1.352072</td>\n",
       "      <td>0.001345</td>\n",
       "      <td>0.004836</td>\n",
       "      <td>0.122279</td>\n",
       "    </tr>\n",
       "    <tr>\n",
       "      <th>PVHG-P</th>\n",
       "      <td>0.080331</td>\n",
       "      <td>0.040848</td>\n",
       "      <td>1.967485</td>\n",
       "      <td>0.002672</td>\n",
       "      <td>0.001757</td>\n",
       "      <td>0.021785</td>\n",
       "    </tr>\n",
       "    <tr>\n",
       "      <th>WT-G</th>\n",
       "      <td>NaN</td>\n",
       "      <td>NaN</td>\n",
       "      <td>NaN</td>\n",
       "      <td>NaN</td>\n",
       "      <td>NaN</td>\n",
       "      <td>NaN</td>\n",
       "    </tr>\n",
       "  </tbody>\n",
       "</table>\n",
       "</div>"
      ],
      "text/plain": [
       "        growth rate  yield coefficient  substrate consumption rate  \\\n",
       "WT-P       0.065488           0.048868                    1.352072   \n",
       "PVHG-P     0.080331           0.040848                    1.967485   \n",
       "WT-G            NaN                NaN                         NaN   \n",
       "\n",
       "        growth rate std dev  yield coefficient std dev  \\\n",
       "WT-P               0.001345                   0.004836   \n",
       "PVHG-P             0.002672                   0.001757   \n",
       "WT-G                    NaN                        NaN   \n",
       "\n",
       "        substrate consumption rate std dev  \n",
       "WT-P                              0.122279  \n",
       "PVHG-P                            0.021785  \n",
       "WT-G                                   NaN  "
      ]
     },
     "execution_count": 21,
     "metadata": {},
     "output_type": "execute_result"
    }
   ],
   "source": [
    "growth_parameter_df.at['PVHG-P',:]=[growth_rate_PVHGP, \n",
    "                                    yield_coeff_PVHGP, \n",
    "                                    substrate_consumption_rate_PVHGP, \n",
    "                                    growth_rate_std_PVHGP, \n",
    "                                    yield_coeff_std_PVHGP, \n",
    "                                    substrate_consumption_rate_std_PVHGP\n",
    "                                ]\n",
    "growth_parameter_df"
   ]
  },
  {
   "cell_type": "markdown",
   "id": "3512c8e3-8c95-4e1a-80b6-05119bcadbe5",
   "metadata": {},
   "source": [
    "#### **Load glucose data from EDD**"
   ]
  },
  {
   "cell_type": "code",
   "execution_count": 22,
   "id": "0e281b3a-1213-456e-bb17-091b3f4c58e7",
   "metadata": {},
   "outputs": [
    {
     "data": {
      "application/vnd.jupyter.widget-view+json": {
       "model_id": "c102ec94dc964192bf5db82ba6f9e6a4",
       "version_major": 2,
       "version_minor": 0
      },
      "text/plain": [
       "HBox(children=(FloatProgress(value=0.0, max=24.0), HTML(value='')))"
      ]
     },
     "metadata": {},
     "output_type": "display_data"
    },
    {
     "name": "stdout",
     "output_type": "stream",
     "text": [
      "\n"
     ]
    },
    {
     "data": {
      "text/html": [
       "<div>\n",
       "<style scoped>\n",
       "    .dataframe tbody tr th:only-of-type {\n",
       "        vertical-align: middle;\n",
       "    }\n",
       "\n",
       "    .dataframe tbody tr th {\n",
       "        vertical-align: top;\n",
       "    }\n",
       "\n",
       "    .dataframe thead th {\n",
       "        text-align: right;\n",
       "    }\n",
       "</style>\n",
       "<table border=\"1\" class=\"dataframe\">\n",
       "  <thead>\n",
       "    <tr style=\"text-align: right;\">\n",
       "      <th></th>\n",
       "      <th>Study ID</th>\n",
       "      <th>Study Name</th>\n",
       "      <th>Line ID</th>\n",
       "      <th>Replicate Key</th>\n",
       "      <th>Line Name</th>\n",
       "      <th>Line Description</th>\n",
       "      <th>Protocol</th>\n",
       "      <th>Assay ID</th>\n",
       "      <th>Assay Name</th>\n",
       "      <th>Formal Type</th>\n",
       "      <th>Measurement Type</th>\n",
       "      <th>Compartment</th>\n",
       "      <th>Units</th>\n",
       "      <th>Value</th>\n",
       "      <th>Hours</th>\n",
       "    </tr>\n",
       "  </thead>\n",
       "  <tbody>\n",
       "    <tr>\n",
       "      <th>0</th>\n",
       "      <td>15279</td>\n",
       "      <td>Rhodococcus opacus PD630 Rhiannon 2018</td>\n",
       "      <td>15280</td>\n",
       "      <td>24113c70-2925-4712-aafc-d272ab4e41e5</td>\n",
       "      <td>WT-R1</td>\n",
       "      <td>Wild Type R.opacus grown on glucose. Replicate 1</td>\n",
       "      <td>OD600</td>\n",
       "      <td>15283</td>\n",
       "      <td>WT-R1</td>\n",
       "      <td>NaN</td>\n",
       "      <td>Optical Density</td>\n",
       "      <td>0</td>\n",
       "      <td>NaN</td>\n",
       "      <td>0.05000</td>\n",
       "      <td>0.0</td>\n",
       "    </tr>\n",
       "    <tr>\n",
       "      <th>1</th>\n",
       "      <td>15279</td>\n",
       "      <td>Rhodococcus opacus PD630 Rhiannon 2018</td>\n",
       "      <td>15280</td>\n",
       "      <td>24113c70-2925-4712-aafc-d272ab4e41e5</td>\n",
       "      <td>WT-R1</td>\n",
       "      <td>Wild Type R.opacus grown on glucose. Replicate 1</td>\n",
       "      <td>OD600</td>\n",
       "      <td>15283</td>\n",
       "      <td>WT-R1</td>\n",
       "      <td>NaN</td>\n",
       "      <td>Optical Density</td>\n",
       "      <td>0</td>\n",
       "      <td>NaN</td>\n",
       "      <td>0.19908</td>\n",
       "      <td>5.0</td>\n",
       "    </tr>\n",
       "  </tbody>\n",
       "</table>\n",
       "</div>"
      ],
      "text/plain": [
       "   Study ID                              Study Name  Line ID  \\\n",
       "0     15279  Rhodococcus opacus PD630 Rhiannon 2018    15280   \n",
       "1     15279  Rhodococcus opacus PD630 Rhiannon 2018    15280   \n",
       "\n",
       "                          Replicate Key Line Name  \\\n",
       "0  24113c70-2925-4712-aafc-d272ab4e41e5     WT-R1   \n",
       "1  24113c70-2925-4712-aafc-d272ab4e41e5     WT-R1   \n",
       "\n",
       "                                   Line Description Protocol  Assay ID  \\\n",
       "0  Wild Type R.opacus grown on glucose. Replicate 1    OD600     15283   \n",
       "1  Wild Type R.opacus grown on glucose. Replicate 1    OD600     15283   \n",
       "\n",
       "  Assay Name Formal Type Measurement Type  Compartment Units    Value  Hours  \n",
       "0      WT-R1         NaN  Optical Density            0   NaN  0.05000    0.0  \n",
       "1      WT-R1         NaN  Optical Density            0   NaN  0.19908    5.0  "
      ]
     },
     "execution_count": 22,
     "metadata": {},
     "output_type": "execute_result"
    }
   ],
   "source": [
    "glucose_study_slug = 'rhodococcus-opacus-pd630-rhiannon-2018'\n",
    "\n",
    "#Export data from EDD as dataframe:\n",
    "glucose_df = export_study(session, glucose_study_slug, edd_server=edd_server)\n",
    "glucose_df.head(2)"
   ]
  },
  {
   "cell_type": "markdown",
   "id": "9b451719-7f82-4391-ba6c-d3bf877b727f",
   "metadata": {},
   "source": [
    "#### **Load glucose data from EDD**"
   ]
  },
  {
   "cell_type": "code",
   "execution_count": 23,
   "id": "07c05b8f-ec91-4557-9aa3-2fd37c715000",
   "metadata": {},
   "outputs": [
    {
     "name": "stdout",
     "output_type": "stream",
     "text": [
      "substrate data has 12 lines\n",
      "OD data has 12 lines\n"
     ]
    }
   ],
   "source": [
    "glucose_od_df = glucose_df[glucose_df['Protocol'].str.contains('OD600')]\n",
    "glucose_od_df.loc[:,'Biomass Conc'] = GRAMS_BIOMASS_PER_LITER_PER_OD*glucose_od_df.loc[:,'Value']\n",
    "\n",
    "glucose_substrate_df = glucose_df[glucose_df['Protocol'].str.contains('Other')]\n",
    "\n",
    "print(f'substrate data has {len(glucose_substrate_df)} lines')\n",
    "print(f'OD data has {len(glucose_od_df)} lines')"
   ]
  },
  {
   "cell_type": "markdown",
   "id": "7feaf77b-8690-41ba-892c-f04942a74896",
   "metadata": {
    "tags": []
   },
   "source": [
    "#### **Calculate glucose growth parameters**"
   ]
  },
  {
   "cell_type": "code",
   "execution_count": 24,
   "id": "a523602a-8d37-4e32-95e4-be0ebf7bdb7e",
   "metadata": {},
   "outputs": [
    {
     "name": "stdout",
     "output_type": "stream",
     "text": [
      "growth_rate = 0.260 ± 0.005 hr-1\n",
      "yield coefficient = 0.073 ± 0.004 g biomass / mmol substrate\n",
      "substrate consumption rate = 3.582 ± 0.142 mmol substrate/gram biomass * hr\n"
     ]
    },
    {
     "data": {
      "image/png": "[encoded data removed]",
      "text/plain": [
       "<Figure size 576x360 with 2 Axes>"
      ]
     },
     "metadata": {
      "needs_background": "light"
     },
     "output_type": "display_data"
    },
    {
     "data": {
      "image/png": "[encoded data removed]",
      "text/plain": [
       "<Figure size 576x360 with 2 Axes>"
      ]
     },
     "metadata": {
      "needs_background": "light"
     },
     "output_type": "display_data"
    },
    {
     "data": {
      "image/png": "[encoded data removed]",
      "text/plain": [
       "<Figure size 576x360 with 2 Axes>"
      ]
     },
     "metadata": {
      "needs_background": "light"
     },
     "output_type": "display_data"
    }
   ],
   "source": [
    "[growth_rate_WTG, \n",
    " yield_coeff_WTG, \n",
    " substrate_consumption_rate_WTG, \n",
    " growth_rate_std_WTG, \n",
    " yield_coeff_std_WTG, \n",
    " substrate_consumption_rate_std_WTG] = stats_for_condition(\n",
    "    glucose_od_df, \n",
    "    glucose_substrate_df, \n",
    "    'WT-R1', \n",
    "    'WT-R2', \n",
    "    'WT-R3', \n",
    "    180.16, \n",
    "    substrate='glucose', \n",
    "    max_time=12\n",
    ")"
   ]
  },
  {
   "cell_type": "markdown",
   "id": "566633a4-8327-482e-92a0-1911d4900aa8",
   "metadata": {
    "tags": []
   },
   "source": [
    "#### **Add glucose growth parameters to dataframe**"
   ]
  },
  {
   "cell_type": "code",
   "execution_count": 25,
   "id": "348efcf4-4059-4687-96d8-c91acf3a79f7",
   "metadata": {},
   "outputs": [
    {
     "data": {
      "text/html": [
       "<div>\n",
       "<style scoped>\n",
       "    .dataframe tbody tr th:only-of-type {\n",
       "        vertical-align: middle;\n",
       "    }\n",
       "\n",
       "    .dataframe tbody tr th {\n",
       "        vertical-align: top;\n",
       "    }\n",
       "\n",
       "    .dataframe thead th {\n",
       "        text-align: right;\n",
       "    }\n",
       "</style>\n",
       "<table border=\"1\" class=\"dataframe\">\n",
       "  <thead>\n",
       "    <tr style=\"text-align: right;\">\n",
       "      <th></th>\n",
       "      <th>growth rate</th>\n",
       "      <th>yield coefficient</th>\n",
       "      <th>substrate consumption rate</th>\n",
       "      <th>growth rate std dev</th>\n",
       "      <th>yield coefficient std dev</th>\n",
       "      <th>substrate consumption rate std dev</th>\n",
       "    </tr>\n",
       "  </thead>\n",
       "  <tbody>\n",
       "    <tr>\n",
       "      <th>WT-P</th>\n",
       "      <td>0.065488</td>\n",
       "      <td>0.048868</td>\n",
       "      <td>1.352072</td>\n",
       "      <td>0.001345</td>\n",
       "      <td>0.004836</td>\n",
       "      <td>0.122279</td>\n",
       "    </tr>\n",
       "    <tr>\n",
       "      <th>PVHG-P</th>\n",
       "      <td>0.080331</td>\n",
       "      <td>0.040848</td>\n",
       "      <td>1.967485</td>\n",
       "      <td>0.002672</td>\n",
       "      <td>0.001757</td>\n",
       "      <td>0.021785</td>\n",
       "    </tr>\n",
       "    <tr>\n",
       "      <th>WT-G</th>\n",
       "      <td>0.260195</td>\n",
       "      <td>0.072789</td>\n",
       "      <td>3.582471</td>\n",
       "      <td>0.004749</td>\n",
       "      <td>0.004117</td>\n",
       "      <td>0.141675</td>\n",
       "    </tr>\n",
       "  </tbody>\n",
       "</table>\n",
       "</div>"
      ],
      "text/plain": [
       "        growth rate  yield coefficient  substrate consumption rate  \\\n",
       "WT-P       0.065488           0.048868                    1.352072   \n",
       "PVHG-P     0.080331           0.040848                    1.967485   \n",
       "WT-G       0.260195           0.072789                    3.582471   \n",
       "\n",
       "        growth rate std dev  yield coefficient std dev  \\\n",
       "WT-P               0.001345                   0.004836   \n",
       "PVHG-P             0.002672                   0.001757   \n",
       "WT-G               0.004749                   0.004117   \n",
       "\n",
       "        substrate consumption rate std dev  \n",
       "WT-P                              0.122279  \n",
       "PVHG-P                            0.021785  \n",
       "WT-G                              0.141675  "
      ]
     },
     "execution_count": 25,
     "metadata": {},
     "output_type": "execute_result"
    }
   ],
   "source": [
    "growth_parameter_df.at['WT-G',:]=[growth_rate_WTG, \n",
    "                                    yield_coeff_WTG, \n",
    "                                    substrate_consumption_rate_WTG, \n",
    "                                    growth_rate_std_WTG, \n",
    "                                    yield_coeff_std_WTG, \n",
    "                                    substrate_consumption_rate_std_WTG\n",
    "                                 ]\n",
    "growth_parameter_df"
   ]
  },
  {
   "cell_type": "markdown",
   "id": "5dd7f430-abd6-4976-8b53-063b4e32f717",
   "metadata": {},
   "source": [
    "##### **Write data frame to file**"
   ]
  },
  {
   "cell_type": "code",
   "execution_count": 26,
   "id": "cc2a87e0-ee8a-41ad-931c-4873306d67f9",
   "metadata": {
    "jp-MarkdownHeadingCollapsed": true,
    "tags": []
   },
   "outputs": [],
   "source": [
    "growth_parameter_df.to_csv('../data/growth_rates/experimental_growth_parameters.csv')"
   ]
  }
 ],
 "metadata": {
  "kernelspec": {
   "display_name": "biodesign_3.7",
   "language": "python",
   "name": "biod_3.7"
  },
  "language_info": {
   "codemirror_mode": {
    "name": "ipython",
    "version": 3
   },
   "file_extension": ".py",
   "mimetype": "text/x-python",
   "name": "python",
   "nbconvert_exporter": "python",
   "pygments_lexer": "ipython3",
   "version": "3.7.4"
  }
 },
 "nbformat": 4,
 "nbformat_minor": 5
}

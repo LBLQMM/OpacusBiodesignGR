{
 "cells": [
  {
   "cell_type": "markdown",
   "id": "533e598e-7035-43c2-ad97-a54c98c08a99",
   "metadata": {
    "tags": []
   },
   "source": [
    "## **ATP Maintenance Investigation**\n",
    "\n",
    "By Garrett Roell\n",
    "\n",
    "Tested on biodesign_3.7 kernel on jprime"
   ]
  },
  {
   "cell_type": "markdown",
   "id": "c0616995-33eb-4a82-9bec-16457ee8812c",
   "metadata": {},
   "source": [
    "**Import python packages**"
   ]
  },
  {
   "cell_type": "code",
   "execution_count": 2,
   "id": "412ba6d9-e08c-4fea-8adf-a0332a2d43be",
   "metadata": {},
   "outputs": [],
   "source": [
    "import cobra\n",
    "import sys\n",
    "import matplotlib\n",
    "from matplotlib import pyplot as plt\n",
    "\n",
    "SourceDir = '../src'\n",
    "sys.path.append(SourceDir)\n",
    "from utils import *"
   ]
  },
  {
   "cell_type": "markdown",
   "id": "63518295-3afe-4f99-82f1-19713503dda0",
   "metadata": {},
   "source": [
    "**Load model**"
   ]
  },
  {
   "cell_type": "code",
   "execution_count": 3,
   "id": "733d4583-d7b9-4d02-9718-3311febe7914",
   "metadata": {},
   "outputs": [],
   "source": [
    "file_name =  '../models/Ropacus_annotated_curated.xml'\n",
    "model = cobra.io.read_sbml_model(file_name)"
   ]
  },
  {
   "cell_type": "markdown",
   "id": "de451157-8e7c-441e-9c98-8d7ce4b70ef6",
   "metadata": {},
   "source": [
    "**Define measured uptake rates and growth rates**\n",
    "<br>\n",
    "From notebook D"
   ]
  },
  {
   "cell_type": "code",
   "execution_count": 4,
   "id": "0d8988b5-01a9-467f-9e16-0efdcffb509e",
   "metadata": {},
   "outputs": [],
   "source": [
    "phenol_uptake_rate = 1.352072 # mmol phenol / g dry cell weight / hr\n",
    "phenol_growth_rate = 0.065488 # hr-1\n",
    "\n",
    "glucose_uptake_rate = 3.582471 # mmol glucose / g dry cell weight / hr\n",
    "glucose_growth_rate = 0.260195 # hr-1"
   ]
  },
  {
   "cell_type": "markdown",
   "id": "d5dca8f2-bb89-407c-98d5-1d81bdb74827",
   "metadata": {},
   "source": [
    "**Run phenol FBA with many levels of ATP maintenance flux**"
   ]
  },
  {
   "cell_type": "code",
   "execution_count": 5,
   "id": "60f5a3c1-61fa-4e13-8a76-2149bd89bdf8",
   "metadata": {},
   "outputs": [
    {
     "name": "stdout",
     "output_type": "stream",
     "text": [
      "{0: 0.15129066291786544, 5: 0.1329483777971082, 10: 0.11443198244704791, 15: 0.0959155870969876, 20: 0.07739919174692729, 25: 0.05888279639686696, 30: 0.040366401046806444, 35: 0.021850005696746146, 40: 0.0033336103466862065}\n"
     ]
    }
   ],
   "source": [
    "atp_growth_data = {}\n",
    "\n",
    "# try every flux from 0 to 100 with a step of 10\n",
    "for atp_maintenance_flux in range(0, 45, 5):\n",
    "    # fix atp maintenance flux\n",
    "    model.reactions.get_by_id('ATPM').lower_bound = atp_maintenance_flux\n",
    "    model.reactions.get_by_id('ATPM').upper_bound = atp_maintenance_flux\n",
    "    \n",
    "    # run FBA\n",
    "    phenol_fba_solution = FBA_pred(model, 'phenol', sub_uptake_rate=phenol_uptake_rate, verbose=False) \n",
    "    \n",
    "    # save data pair of atp maintenance flux and growth rate\n",
    "    atp_growth_data[atp_maintenance_flux] = phenol_fba_solution.objective_value\n",
    "    \n",
    "print(atp_growth_data)"
   ]
  },
  {
   "cell_type": "markdown",
   "id": "35e7e767-900f-4da8-addf-af1caa2293c5",
   "metadata": {},
   "source": [
    "**Plot phenol growth rate vs. ATP maintenance flux**"
   ]
  },
  {
   "cell_type": "code",
   "execution_count": 6,
   "id": "ac6f6544-8d3f-4f88-9d03-d3199331b286",
   "metadata": {},
   "outputs": [
    {
     "data": {
      "image/png": "[encoded data removed]",
      "text/plain": [
       "<Figure size 432x288 with 1 Axes>"
      ]
     },
     "metadata": {
      "needs_background": "light"
     },
     "output_type": "display_data"
    }
   ],
   "source": [
    "plt.plot(list(atp_growth_data.keys()), list(atp_growth_data.values()))\n",
    "plt.plot([0, 40], [phenol_growth_rate, phenol_growth_rate])\n",
    "plt.title('ATP + water --> ADP + H + pi\\n\\nATP Maintenance Flux vs Phenol Growth Rate')\n",
    "plt.ylabel('Phenol Growth Rate (hr-1)')\n",
    "plt.xlabel('ATP Maintenance Flux (mmol ATPM/g DCW/hr)')\n",
    "plt.show()"
   ]
  },
  {
   "cell_type": "markdown",
   "id": "d40461b6-afd8-43c0-8a5d-d6ecdd3c852b",
   "metadata": {},
   "source": [
    "**Run Flux Variability Analysis for Phenol ATP maintenance flux value**"
   ]
  },
  {
   "cell_type": "code",
   "execution_count": 34,
   "id": "44258a22-0960-4713-883c-91209d4f4604",
   "metadata": {},
   "outputs": [
    {
     "data": {
      "text/plain": [
       "{'EX_ca2_e': 1000.0,\n",
       " 'EX_cl_e': 1000.0,\n",
       " 'EX_cobalt2_e': 1000.0,\n",
       " 'EX_cu2_e': 1000.0,\n",
       " 'EX_fe2_e': 1000.0,\n",
       " 'EX_fe3_e': 1000.0,\n",
       " 'EX_h2o_e': 1000.0,\n",
       " 'EX_h_e': 1000.0,\n",
       " 'EX_k_e': 1000.0,\n",
       " 'EX_mg2_e': 1000.0,\n",
       " 'EX_mn2_e': 1000.0,\n",
       " 'EX_mobd_e': 1000.0,\n",
       " 'EX_nh4_e': 1000.0,\n",
       " 'EX_o2_e': 1000.0,\n",
       " 'EX_pi_e': 1000.0,\n",
       " 'EX_so4_e': 1000.0,\n",
       " 'EX_zn2_e': 1000.0,\n",
       " 'EX_phenol_e': 1.352072}"
      ]
     },
     "metadata": {},
     "output_type": "display_data"
    },
    {
     "data": {
      "text/html": [
       "<div>\n",
       "<style scoped>\n",
       "    .dataframe tbody tr th:only-of-type {\n",
       "        vertical-align: middle;\n",
       "    }\n",
       "\n",
       "    .dataframe tbody tr th {\n",
       "        vertical-align: top;\n",
       "    }\n",
       "\n",
       "    .dataframe thead th {\n",
       "        text-align: right;\n",
       "    }\n",
       "</style>\n",
       "<table border=\"1\" class=\"dataframe\">\n",
       "  <thead>\n",
       "    <tr style=\"text-align: right;\">\n",
       "      <th></th>\n",
       "      <th>minimum</th>\n",
       "      <th>maximum</th>\n",
       "    </tr>\n",
       "  </thead>\n",
       "  <tbody>\n",
       "    <tr>\n",
       "      <th>ATPM</th>\n",
       "      <td>0.0</td>\n",
       "      <td>23.216391</td>\n",
       "    </tr>\n",
       "  </tbody>\n",
       "</table>\n",
       "</div>"
      ],
      "text/plain": [
       "      minimum    maximum\n",
       "ATPM      0.0  23.216391"
      ]
     },
     "metadata": {},
     "output_type": "display_data"
    }
   ],
   "source": [
    "with model:\n",
    "    # reset atm maintenance bounds\n",
    "    model.reactions.get_by_id('ATPM').lower_bound = 0\n",
    "    model.reactions.get_by_id('ATPM').upper_bound = 1000\n",
    "    \n",
    "    # set up objective function\n",
    "    model.objective = 'Growth_Phenol'\n",
    "    model.reactions.get_by_id('Growth_Phenol').upper_bound = phenol_growth_rate\n",
    "\n",
    "    # set up medium\n",
    "    medium = model.medium \n",
    "    medium = {key:1000 for (key,value) in model.medium.items()}\n",
    "    model.reactions.get_by_id('Growth_Glucose').upper_bound = 0\n",
    "    model.reactions.get_by_id('Growth_Glucose').lower_bound = 0\n",
    "    model.reactions.get_by_id('Growth').upper_bound = 0\n",
    "    model.reactions.get_by_id('Growth').lower_bound = 0\n",
    "\n",
    "    #remove all non-phenol carbon sources:\n",
    "    medium[\"EX_glc__D_e\"] = 0\n",
    "    medium['EX_guaiacol_e'] = 0\n",
    "    medium['EX_vanlt_e'] = 0\n",
    "    medium['EX_tag'] = 0\n",
    "    medium[\"EX_phenol_e\"] = phenol_uptake_rate\n",
    "\n",
    "    model.medium = medium    \n",
    "    display(model.medium)\n",
    "    \n",
    "    results = cobra.flux_analysis.flux_variability_analysis(model, ['ATPM'], fraction_of_optimum=1)\n",
    "    display(results)"
   ]
  },
  {
   "cell_type": "markdown",
   "id": "f0a69bb6-9a8d-4e00-aeb2-712b381c78cf",
   "metadata": {},
   "source": [
    "**Run glucose FBA with many levels of ATP maintenance flux**"
   ]
  },
  {
   "cell_type": "code",
   "execution_count": 6,
   "id": "1edeee7c-315a-41c3-adff-9e3538e01803",
   "metadata": {},
   "outputs": [
    {
     "name": "stdout",
     "output_type": "stream",
     "text": [
      "{0: 0.4807436104890257, 5: 0.46308659715319156, 10: 0.4454295838173572, 15: 0.4277725704815207, 20: 0.4101155571456858, 25: 0.39245854380985096, 30: 0.37480153047401776, 35: 0.3571445171381828, 40: 0.33948750380234805, 45: 0.32183049046651474, 50: 0.3041734771306799, 55: 0.28651646379484674, 60: 0.2688594504590118, 65: 0.2512024371231769, 70: 0.23354542378734364, 75: 0.21588841045150883, 80: 0.1982313971156739, 85: 0.1805743837798391, 90: 0.16291737044400426, 95: 0.1452603571081693, 100: 0.1276033437723344, 105: 0.10994633043649966, 110: 0.09228931710066476, 115: 0.07463230376483003, 120: 0.05697529042899511, 125: 0.039318277093160395, 130: 0.02166126375732546, 135: 0.0040042504214905334}\n"
     ]
    }
   ],
   "source": [
    "atp_growth_data = {}\n",
    "\n",
    "# try every flux from 0 to 100 with a step of 10\n",
    "for atp_maintenance_flux in range(0, 140, 5):\n",
    "    # fix atp maintenance flux\n",
    "    model.reactions.get_by_id('ATPM').lower_bound = atp_maintenance_flux\n",
    "    model.reactions.get_by_id('ATPM').upper_bound = atp_maintenance_flux\n",
    "    \n",
    "    # run FBA\n",
    "    glucose_fba_solution = FBA_pred(model, 'glucose', sub_uptake_rate=glucose_uptake_rate, verbose=False) \n",
    "    \n",
    "    # save data pair of atp maintenance flux and growth rate\n",
    "    atp_growth_data[atp_maintenance_flux] = glucose_fba_solution.objective_value\n",
    "    \n",
    "print(atp_growth_data)"
   ]
  },
  {
   "cell_type": "markdown",
   "id": "8be5bed0-0271-4156-bf25-677b8a418634",
   "metadata": {},
   "source": [
    "**Plot glucose growth rate vs. ATP maintenance flux**"
   ]
  },
  {
   "cell_type": "code",
   "execution_count": 7,
   "id": "659353d7-e946-4154-9b95-983036779d84",
   "metadata": {},
   "outputs": [
    {
     "data": {
      "image/png": "[encoded data removed]",
      "text/plain": [
       "<Figure size 432x288 with 1 Axes>"
      ]
     },
     "metadata": {
      "needs_background": "light"
     },
     "output_type": "display_data"
    }
   ],
   "source": [
    "plt.plot(list(atp_growth_data.keys()), list(atp_growth_data.values()))\n",
    "plt.plot([0, 140], [glucose_growth_rate, glucose_growth_rate])\n",
    "plt.title('ATP + water --> ADP + H + pi\\n\\nATP Maintenance Flux vs Glucose Growth Rate')\n",
    "plt.ylabel('Glucose Growth Rate (hr-1)')\n",
    "plt.xlabel('ATP Maintenance Flux (mmol ATPM/g DCW/hr)')\n",
    "plt.show()"
   ]
  },
  {
   "cell_type": "markdown",
   "id": "08ac56be-b229-4d36-9893-0d744b819e4c",
   "metadata": {},
   "source": [
    "**Run Flux Variability Analysis for Phenol ATP maintenance flux value**"
   ]
  },
  {
   "cell_type": "code",
   "execution_count": 36,
   "id": "1deda67b-5599-4836-9075-e0a3844797e3",
   "metadata": {},
   "outputs": [
    {
     "data": {
      "text/plain": [
       "{'EX_ca2_e': 1000.0,\n",
       " 'EX_cl_e': 1000.0,\n",
       " 'EX_cobalt2_e': 1000.0,\n",
       " 'EX_cu2_e': 1000.0,\n",
       " 'EX_fe2_e': 1000.0,\n",
       " 'EX_fe3_e': 1000.0,\n",
       " 'EX_glc__D_e': 3.582471,\n",
       " 'EX_h2o_e': 1000.0,\n",
       " 'EX_h_e': 1000.0,\n",
       " 'EX_k_e': 1000.0,\n",
       " 'EX_mg2_e': 1000.0,\n",
       " 'EX_mn2_e': 1000.0,\n",
       " 'EX_mobd_e': 1000.0,\n",
       " 'EX_nh4_e': 1000.0,\n",
       " 'EX_o2_e': 1000.0,\n",
       " 'EX_pi_e': 1000.0,\n",
       " 'EX_so4_e': 1000.0,\n",
       " 'EX_zn2_e': 1000.0}"
      ]
     },
     "metadata": {},
     "output_type": "display_data"
    },
    {
     "data": {
      "text/html": [
       "<div>\n",
       "<style scoped>\n",
       "    .dataframe tbody tr th:only-of-type {\n",
       "        vertical-align: middle;\n",
       "    }\n",
       "\n",
       "    .dataframe tbody tr th {\n",
       "        vertical-align: top;\n",
       "    }\n",
       "\n",
       "    .dataframe thead th {\n",
       "        text-align: right;\n",
       "    }\n",
       "</style>\n",
       "<table border=\"1\" class=\"dataframe\">\n",
       "  <thead>\n",
       "    <tr style=\"text-align: right;\">\n",
       "      <th></th>\n",
       "      <th>minimum</th>\n",
       "      <th>maximum</th>\n",
       "    </tr>\n",
       "  </thead>\n",
       "  <tbody>\n",
       "    <tr>\n",
       "      <th>ATPM</th>\n",
       "      <td>0.0</td>\n",
       "      <td>62.453544</td>\n",
       "    </tr>\n",
       "  </tbody>\n",
       "</table>\n",
       "</div>"
      ],
      "text/plain": [
       "      minimum    maximum\n",
       "ATPM      0.0  62.453544"
      ]
     },
     "metadata": {},
     "output_type": "display_data"
    }
   ],
   "source": [
    "with model:\n",
    "    # reset atm maintenance bounds\n",
    "    model.reactions.get_by_id('ATPM').lower_bound = 0\n",
    "    model.reactions.get_by_id('ATPM').upper_bound = 1000\n",
    "    \n",
    "    # set up objective function\n",
    "    model.objective = 'Growth_Glucose'\n",
    "    model.reactions.get_by_id('Growth_Glucose').upper_bound = glucose_growth_rate\n",
    "\n",
    "    # set up medium\n",
    "    medium = model.medium \n",
    "    medium = {key:1000 for (key,value) in model.medium.items()}\n",
    "    model.reactions.get_by_id('Growth_Phenol').upper_bound = 0\n",
    "    model.reactions.get_by_id('Growth_Phenol').lower_bound = 0\n",
    "    model.reactions.get_by_id('Growth').upper_bound = 0\n",
    "    model.reactions.get_by_id('Growth').lower_bound = 0\n",
    "\n",
    "    #remove all non-glucose carbon sources:\n",
    "    medium[\"EX_glc__D_e\"] = glucose_uptake_rate\n",
    "    medium['EX_guaiacol_e'] = 0\n",
    "    medium['EX_vanlt_e'] = 0\n",
    "    medium['EX_tag'] = 0\n",
    "    medium[\"EX_phenol_e\"] = 0\n",
    "\n",
    "    model.medium = medium    \n",
    "    display(model.medium)\n",
    "    \n",
    "    results = cobra.flux_analysis.flux_variability_analysis(model, ['ATPM'], fraction_of_optimum=1)\n",
    "    display(results)"
   ]
  },
  {
   "cell_type": "markdown",
   "id": "61016222-d866-49fc-bfea-b6e983a1a3b6",
   "metadata": {},
   "source": [
    "**P/O ratio investigation**"
   ]
  },
  {
   "cell_type": "code",
   "execution_count": 8,
   "id": "274e0333-9b02-4bae-87b4-fd1f2474224e",
   "metadata": {},
   "outputs": [
    {
     "name": "stdout",
     "output_type": "stream",
     "text": [
      "NADH5: h_c + nadh_c + q8_c --> nad_c + q8h2_c\n",
      "L_LACD2: lac__L_c + q8_c --> pyr_c + q8h2_c\n",
      "QMO2: 2.0 o2_c + q8h2_c --> 2.0 h_c + 2.0 o2s_c + q8_c\n",
      "POX: h2o_c + pyr_c + q8_c --> ac_c + co2_c + q8h2_c\n",
      "GAD2ktpp: glcn_p + q8_c <=> 2dhglcn_p + q8h2_c\n",
      "TETDHpp3: q8h2_c + tet_p --> 2.0 h_p + q8_c + 2.0 tsul_p\n",
      "MDH2: mal__L_c + q8_c --> oaa_c + q8h2_c\n",
      "HYD1pp: h2_c + 2.0 h_c + q8_c --> 2.0 h_p + q8h2_c\n",
      "GLCDpp: glc__D_p + h2o_p + q8_c --> glcn_p + h_p + q8h2_c\n",
      "LDH_D2: lac__D_c + q8_c --> pyr_c + q8h2_c\n",
      "NADPHQR2: h_c + nadph_c + q8_c --> nadp_c + q8h2_c\n",
      "DHORD2: dhor__S_c + q8_c --> orot_c + q8h2_c\n",
      "TTONR2pp: q8h2_c + tton_e --> 4.0 h_c + q8_c + so3_e + tsul_e\n",
      "GLYCTO2: glyclt_c + q8_c --> glx_c + q8h2_c\n",
      "CYTBDpp: 2.0 h_c + 0.5 o2_c + q8h2_c --> h2o_c + 2.0 h_p + q8_c\n",
      "G3PD5: glyc3p_c + q8_c --> dhap_c + q8h2_c\n",
      "CYTBD: 2.0 h_c + 0.5 o2_c + q8h2_c --> h2o_c + 2.0 h_e + q8_c\n"
     ]
    }
   ],
   "source": [
    "for r in model.metabolites.get_by_id('q8_c').reactions:\n",
    "    print(r)"
   ]
  },
  {
   "cell_type": "code",
   "execution_count": 9,
   "id": "b7760358-f8b3-42f8-aeed-30436ec49897",
   "metadata": {},
   "outputs": [
    {
     "name": "stdout",
     "output_type": "stream",
     "text": [
      "NADH5: h_c + nadh_c + q8_c --> nad_c + q8h2_c\n",
      "L_LACD2: lac__L_c + q8_c --> pyr_c + q8h2_c\n",
      "QMO2: 2.0 o2_c + q8h2_c --> 2.0 h_c + 2.0 o2s_c + q8_c\n",
      "POX: h2o_c + pyr_c + q8_c --> ac_c + co2_c + q8h2_c\n",
      "GAD2ktpp: glcn_p + q8_c <=> 2dhglcn_p + q8h2_c\n",
      "TETDHpp3: q8h2_c + tet_p --> 2.0 h_p + q8_c + 2.0 tsul_p\n",
      "MDH2: mal__L_c + q8_c --> oaa_c + q8h2_c\n",
      "HYD1pp: h2_c + 2.0 h_c + q8_c --> 2.0 h_p + q8h2_c\n",
      "GLCDpp: glc__D_p + h2o_p + q8_c --> glcn_p + h_p + q8h2_c\n",
      "LDH_D2: lac__D_c + q8_c --> pyr_c + q8h2_c\n",
      "NADPHQR2: h_c + nadph_c + q8_c --> nadp_c + q8h2_c\n",
      "DHORD2: dhor__S_c + q8_c --> orot_c + q8h2_c\n",
      "TTONR2pp: q8h2_c + tton_e --> 4.0 h_c + q8_c + so3_e + tsul_e\n",
      "GLYCTO2: glyclt_c + q8_c --> glx_c + q8h2_c\n",
      "CYTBDpp: 2.0 h_c + 0.5 o2_c + q8h2_c --> h2o_c + 2.0 h_p + q8_c\n",
      "G3PD5: glyc3p_c + q8_c --> dhap_c + q8h2_c\n",
      "CYTBD: 2.0 h_c + 0.5 o2_c + q8h2_c --> h2o_c + 2.0 h_e + q8_c\n"
     ]
    }
   ],
   "source": [
    "for r in model.metabolites.get_by_id('q8h2_c').reactions:\n",
    "    print(r)"
   ]
  },
  {
   "cell_type": "code",
   "execution_count": 16,
   "id": "50566f3a-9e71-44c4-8344-867f44c4082d",
   "metadata": {},
   "outputs": [
    {
     "data": {
      "text/plain": [
       "(135, 135)"
      ]
     },
     "execution_count": 16,
     "metadata": {},
     "output_type": "execute_result"
    }
   ],
   "source": [
    "model.reactions.get_by_id('ATPM').bounds"
   ]
  },
  {
   "cell_type": "code",
   "execution_count": null,
   "id": "0d310087-da04-4925-b923-6ca78f176b7c",
   "metadata": {},
   "outputs": [],
   "source": []
  }
 ],
 "metadata": {
  "kernelspec": {
   "display_name": "biodesign_3.7",
   "language": "python",
   "name": "biod_3.7"
  },
  "language_info": {
   "codemirror_mode": {
    "name": "ipython",
    "version": 3
   },
   "file_extension": ".py",
   "mimetype": "text/x-python",
   "name": "python",
   "nbconvert_exporter": "python",
   "pygments_lexer": "ipython3",
   "version": "3.7.4"
  }
 },
 "nbformat": 4,
 "nbformat_minor": 5
}

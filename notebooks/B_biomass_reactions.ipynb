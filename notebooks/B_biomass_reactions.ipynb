{
 "cells": [
  {
   "cell_type": "markdown",
   "id": "flush-flesh",
   "metadata": {},
   "source": [
    "# Biomass composition ➟  biomass reaction\n",
    "\n",
    "By Garrett Roell and Christina Schenk\n",
    "\n",
    "Tested on biodesign_3.7 kernel on jprime\n",
    "\n",
    "This notebook converts biomass composition measurements and amino acid composition measurements into biomass reactions for  R. opacus when growing on phenol and glucose\n",
    "\n",
    "### Method\n",
    "<ol>\n",
    "<li>Setup imports</li>\n",
    "<li>Load model and relevant data</li>\n",
    "<li>Calculate the macromolecule distribution in the B. subtilis biomass reaction</li>\n",
    "<li>Determine the mass fraction each macromolecule class in R. opacus in phenol and glucose</li>\n",
    "<li>Calculate each precursor's coefficient in phenol and glucose biomass reactions</li>\n",
    "<li>Make biomass reactions and add them to the model</li>\n",
    "<li>Check that phenol and glucose biomass reactions match expectations</li>\n",
    "<li>Save model with new biomass reactions</li>\n",
    "<li>Save biomass composition data as a csv</li>\n",
    "</ol>"
   ]
  },
  {
   "cell_type": "markdown",
   "id": "baking-campus",
   "metadata": {
    "tags": []
   },
   "source": [
    "### 1. Setup imports"
   ]
  },
  {
   "cell_type": "code",
   "execution_count": 1,
   "id": "corresponding-force",
   "metadata": {},
   "outputs": [],
   "source": [
    "import cobra\n",
    "import pandas as pd"
   ]
  },
  {
   "cell_type": "markdown",
   "id": "stylish-airline",
   "metadata": {
    "tags": []
   },
   "source": [
    "### 2. Load model and relevant data"
   ]
  },
  {
   "cell_type": "code",
   "execution_count": 2,
   "id": "voluntary-thing",
   "metadata": {},
   "outputs": [
    {
     "data": {
      "text/html": [
       "<div>\n",
       "<style scoped>\n",
       "    .dataframe tbody tr th:only-of-type {\n",
       "        vertical-align: middle;\n",
       "    }\n",
       "\n",
       "    .dataframe tbody tr th {\n",
       "        vertical-align: top;\n",
       "    }\n",
       "\n",
       "    .dataframe thead th {\n",
       "        text-align: right;\n",
       "    }\n",
       "</style>\n",
       "<table border=\"1\" class=\"dataframe\">\n",
       "  <thead>\n",
       "    <tr style=\"text-align: right;\">\n",
       "      <th></th>\n",
       "      <th>condition</th>\n",
       "      <th>time_hrs</th>\n",
       "      <th>lipid_percent</th>\n",
       "      <th>carbohydrate_percent</th>\n",
       "      <th>protein_percent</th>\n",
       "    </tr>\n",
       "  </thead>\n",
       "  <tbody>\n",
       "    <tr>\n",
       "      <th>0</th>\n",
       "      <td>wt_phenol</td>\n",
       "      <td>25.5</td>\n",
       "      <td>14.08</td>\n",
       "      <td>17.21</td>\n",
       "      <td>38.84</td>\n",
       "    </tr>\n",
       "    <tr>\n",
       "      <th>1</th>\n",
       "      <td>P1_phenol_low</td>\n",
       "      <td>25.5</td>\n",
       "      <td>16.44</td>\n",
       "      <td>12.47</td>\n",
       "      <td>39.43</td>\n",
       "    </tr>\n",
       "    <tr>\n",
       "      <th>2</th>\n",
       "      <td>P1_phenol_high</td>\n",
       "      <td>46.5</td>\n",
       "      <td>14.94</td>\n",
       "      <td>13.68</td>\n",
       "      <td>45.23</td>\n",
       "    </tr>\n",
       "    <tr>\n",
       "      <th>3</th>\n",
       "      <td>wt_pv</td>\n",
       "      <td>27.0</td>\n",
       "      <td>15.28</td>\n",
       "      <td>9.37</td>\n",
       "      <td>43.11</td>\n",
       "    </tr>\n",
       "    <tr>\n",
       "      <th>4</th>\n",
       "      <td>PV1_pv_low</td>\n",
       "      <td>27.0</td>\n",
       "      <td>20.27</td>\n",
       "      <td>10.11</td>\n",
       "      <td>38.90</td>\n",
       "    </tr>\n",
       "    <tr>\n",
       "      <th>5</th>\n",
       "      <td>PV1_pv_high</td>\n",
       "      <td>55.5</td>\n",
       "      <td>16.67</td>\n",
       "      <td>8.74</td>\n",
       "      <td>46.24</td>\n",
       "    </tr>\n",
       "    <tr>\n",
       "      <th>6</th>\n",
       "      <td>wt_pvh</td>\n",
       "      <td>18.0</td>\n",
       "      <td>14.86</td>\n",
       "      <td>14.02</td>\n",
       "      <td>36.06</td>\n",
       "    </tr>\n",
       "    <tr>\n",
       "      <th>7</th>\n",
       "      <td>PVH5_pvh_low</td>\n",
       "      <td>18.0</td>\n",
       "      <td>20.25</td>\n",
       "      <td>19.08</td>\n",
       "      <td>38.37</td>\n",
       "    </tr>\n",
       "    <tr>\n",
       "      <th>8</th>\n",
       "      <td>PVH5_pvh_high</td>\n",
       "      <td>28.5</td>\n",
       "      <td>15.07</td>\n",
       "      <td>16.61</td>\n",
       "      <td>46.70</td>\n",
       "    </tr>\n",
       "    <tr>\n",
       "      <th>9</th>\n",
       "      <td>wt_pvhg</td>\n",
       "      <td>15.0</td>\n",
       "      <td>9.09</td>\n",
       "      <td>14.83</td>\n",
       "      <td>39.08</td>\n",
       "    </tr>\n",
       "  </tbody>\n",
       "</table>\n",
       "</div>"
      ],
      "text/plain": [
       "        condition  time_hrs  lipid_percent  carbohydrate_percent  \\\n",
       "0       wt_phenol      25.5          14.08                 17.21   \n",
       "1   P1_phenol_low      25.5          16.44                 12.47   \n",
       "2  P1_phenol_high      46.5          14.94                 13.68   \n",
       "3           wt_pv      27.0          15.28                  9.37   \n",
       "4      PV1_pv_low      27.0          20.27                 10.11   \n",
       "5     PV1_pv_high      55.5          16.67                  8.74   \n",
       "6          wt_pvh      18.0          14.86                 14.02   \n",
       "7    PVH5_pvh_low      18.0          20.25                 19.08   \n",
       "8   PVH5_pvh_high      28.5          15.07                 16.61   \n",
       "9         wt_pvhg      15.0           9.09                 14.83   \n",
       "\n",
       "   protein_percent  \n",
       "0            38.84  \n",
       "1            39.43  \n",
       "2            45.23  \n",
       "3            43.11  \n",
       "4            38.90  \n",
       "5            46.24  \n",
       "6            36.06  \n",
       "7            38.37  \n",
       "8            46.70  \n",
       "9            39.08  "
      ]
     },
     "metadata": {},
     "output_type": "display_data"
    },
    {
     "data": {
      "text/html": [
       "<div>\n",
       "<style scoped>\n",
       "    .dataframe tbody tr th:only-of-type {\n",
       "        vertical-align: middle;\n",
       "    }\n",
       "\n",
       "    .dataframe tbody tr th {\n",
       "        vertical-align: top;\n",
       "    }\n",
       "\n",
       "    .dataframe thead th {\n",
       "        text-align: right;\n",
       "    }\n",
       "</style>\n",
       "<table border=\"1\" class=\"dataframe\">\n",
       "  <thead>\n",
       "    <tr style=\"text-align: right;\">\n",
       "      <th></th>\n",
       "      <th>amino_acid</th>\n",
       "      <th>metabolite_id</th>\n",
       "      <th>molecular_weight</th>\n",
       "      <th>glucose</th>\n",
       "      <th>phenol</th>\n",
       "    </tr>\n",
       "  </thead>\n",
       "  <tbody>\n",
       "    <tr>\n",
       "      <th>0</th>\n",
       "      <td>alanine</td>\n",
       "      <td>ala__L_c</td>\n",
       "      <td>89.094</td>\n",
       "      <td>14.49</td>\n",
       "      <td>14.62</td>\n",
       "    </tr>\n",
       "    <tr>\n",
       "      <th>1</th>\n",
       "      <td>arginine</td>\n",
       "      <td>arg__L_c</td>\n",
       "      <td>174.203</td>\n",
       "      <td>3.89</td>\n",
       "      <td>4.39</td>\n",
       "    </tr>\n",
       "    <tr>\n",
       "      <th>2</th>\n",
       "      <td>asparagine</td>\n",
       "      <td>asn__L_c</td>\n",
       "      <td>132.119</td>\n",
       "      <td>3.43</td>\n",
       "      <td>4.00</td>\n",
       "    </tr>\n",
       "    <tr>\n",
       "      <th>3</th>\n",
       "      <td>aspartate</td>\n",
       "      <td>asp__L_c</td>\n",
       "      <td>133.104</td>\n",
       "      <td>3.43</td>\n",
       "      <td>4.00</td>\n",
       "    </tr>\n",
       "    <tr>\n",
       "      <th>4</th>\n",
       "      <td>cysteine</td>\n",
       "      <td>cys__L_c</td>\n",
       "      <td>121.154</td>\n",
       "      <td>0.80</td>\n",
       "      <td>0.81</td>\n",
       "    </tr>\n",
       "    <tr>\n",
       "      <th>5</th>\n",
       "      <td>glutamine</td>\n",
       "      <td>gln__L_c</td>\n",
       "      <td>146.146</td>\n",
       "      <td>10.68</td>\n",
       "      <td>8.10</td>\n",
       "    </tr>\n",
       "    <tr>\n",
       "      <th>6</th>\n",
       "      <td>glutamate</td>\n",
       "      <td>glu__L_c</td>\n",
       "      <td>147.131</td>\n",
       "      <td>10.68</td>\n",
       "      <td>8.10</td>\n",
       "    </tr>\n",
       "    <tr>\n",
       "      <th>7</th>\n",
       "      <td>glycine</td>\n",
       "      <td>gly_c</td>\n",
       "      <td>75.067</td>\n",
       "      <td>7.03</td>\n",
       "      <td>8.23</td>\n",
       "    </tr>\n",
       "    <tr>\n",
       "      <th>8</th>\n",
       "      <td>histidine</td>\n",
       "      <td>his__L_c</td>\n",
       "      <td>155.156</td>\n",
       "      <td>1.31</td>\n",
       "      <td>1.51</td>\n",
       "    </tr>\n",
       "    <tr>\n",
       "      <th>9</th>\n",
       "      <td>isoleucine</td>\n",
       "      <td>ile__L_c</td>\n",
       "      <td>131.175</td>\n",
       "      <td>3.87</td>\n",
       "      <td>4.07</td>\n",
       "    </tr>\n",
       "  </tbody>\n",
       "</table>\n",
       "</div>"
      ],
      "text/plain": [
       "   amino_acid metabolite_id  molecular_weight  glucose  phenol\n",
       "0     alanine      ala__L_c            89.094    14.49   14.62\n",
       "1    arginine      arg__L_c           174.203     3.89    4.39\n",
       "2  asparagine      asn__L_c           132.119     3.43    4.00\n",
       "3   aspartate      asp__L_c           133.104     3.43    4.00\n",
       "4    cysteine      cys__L_c           121.154     0.80    0.81\n",
       "5   glutamine      gln__L_c           146.146    10.68    8.10\n",
       "6   glutamate      glu__L_c           147.131    10.68    8.10\n",
       "7     glycine         gly_c            75.067     7.03    8.23\n",
       "8   histidine      his__L_c           155.156     1.31    1.51\n",
       "9  isoleucine      ile__L_c           131.175     3.87    4.07"
      ]
     },
     "metadata": {},
     "output_type": "display_data"
    },
    {
     "data": {
      "text/html": [
       "<div>\n",
       "<style scoped>\n",
       "    .dataframe tbody tr th:only-of-type {\n",
       "        vertical-align: middle;\n",
       "    }\n",
       "\n",
       "    .dataframe tbody tr th {\n",
       "        vertical-align: top;\n",
       "    }\n",
       "\n",
       "    .dataframe thead th {\n",
       "        text-align: right;\n",
       "    }\n",
       "</style>\n",
       "<table border=\"1\" class=\"dataframe\">\n",
       "  <thead>\n",
       "    <tr style=\"text-align: right;\">\n",
       "      <th></th>\n",
       "      <th>name</th>\n",
       "      <th>metabolite_id</th>\n",
       "      <th>category</th>\n",
       "      <th>coefficient</th>\n",
       "      <th>molecular_weight</th>\n",
       "    </tr>\n",
       "  </thead>\n",
       "  <tbody>\n",
       "    <tr>\n",
       "      <th>0</th>\n",
       "      <td>10-Formyltetrahydrofolate</td>\n",
       "      <td>10fthf_c</td>\n",
       "      <td>carbon carrier</td>\n",
       "      <td>-0.000216</td>\n",
       "      <td>471.430</td>\n",
       "    </tr>\n",
       "    <tr>\n",
       "      <th>1</th>\n",
       "      <td>L-Alanine</td>\n",
       "      <td>ala__L_c</td>\n",
       "      <td>protein</td>\n",
       "      <td>-0.498716</td>\n",
       "      <td>89.094</td>\n",
       "    </tr>\n",
       "    <tr>\n",
       "      <th>2</th>\n",
       "      <td>S-Adenosyl-L-methionine</td>\n",
       "      <td>amet_c</td>\n",
       "      <td>carbon carrier</td>\n",
       "      <td>-0.000216</td>\n",
       "      <td>399.446</td>\n",
       "    </tr>\n",
       "    <tr>\n",
       "      <th>3</th>\n",
       "      <td>L-Arginine</td>\n",
       "      <td>arg__L_c</td>\n",
       "      <td>protein</td>\n",
       "      <td>-0.287170</td>\n",
       "      <td>175.212</td>\n",
       "    </tr>\n",
       "    <tr>\n",
       "      <th>4</th>\n",
       "      <td>L-Asparagine</td>\n",
       "      <td>asn__L_c</td>\n",
       "      <td>protein</td>\n",
       "      <td>-0.234029</td>\n",
       "      <td>132.119</td>\n",
       "    </tr>\n",
       "    <tr>\n",
       "      <th>5</th>\n",
       "      <td>L-Aspartate</td>\n",
       "      <td>asp__L_c</td>\n",
       "      <td>protein</td>\n",
       "      <td>-0.234029</td>\n",
       "      <td>132.095</td>\n",
       "    </tr>\n",
       "    <tr>\n",
       "      <th>6</th>\n",
       "      <td>ATP</td>\n",
       "      <td>atp_c</td>\n",
       "      <td>energy molecule</td>\n",
       "      <td>-52.547151</td>\n",
       "      <td>507.180</td>\n",
       "    </tr>\n",
       "    <tr>\n",
       "      <th>7</th>\n",
       "      <td>Calcium</td>\n",
       "      <td>ca2_c</td>\n",
       "      <td>salt</td>\n",
       "      <td>-0.005053</td>\n",
       "      <td>40.078</td>\n",
       "    </tr>\n",
       "    <tr>\n",
       "      <th>8</th>\n",
       "      <td>Chloride</td>\n",
       "      <td>cl_c</td>\n",
       "      <td>salt</td>\n",
       "      <td>-0.005053</td>\n",
       "      <td>35.450</td>\n",
       "    </tr>\n",
       "    <tr>\n",
       "      <th>9</th>\n",
       "      <td>CoenzymeA</td>\n",
       "      <td>coa_c</td>\n",
       "      <td>carbon carrier</td>\n",
       "      <td>-0.000559</td>\n",
       "      <td>767.535</td>\n",
       "    </tr>\n",
       "  </tbody>\n",
       "</table>\n",
       "</div>"
      ],
      "text/plain": [
       "                        name metabolite_id         category  coefficient  \\\n",
       "0  10-Formyltetrahydrofolate      10fthf_c   carbon carrier    -0.000216   \n",
       "1                  L-Alanine      ala__L_c          protein    -0.498716   \n",
       "2    S-Adenosyl-L-methionine        amet_c   carbon carrier    -0.000216   \n",
       "3                 L-Arginine      arg__L_c          protein    -0.287170   \n",
       "4               L-Asparagine      asn__L_c          protein    -0.234029   \n",
       "5                L-Aspartate      asp__L_c          protein    -0.234029   \n",
       "6                        ATP         atp_c  energy molecule   -52.547151   \n",
       "7                    Calcium         ca2_c             salt    -0.005053   \n",
       "8                   Chloride          cl_c             salt    -0.005053   \n",
       "9                  CoenzymeA         coa_c   carbon carrier    -0.000559   \n",
       "\n",
       "   molecular_weight  \n",
       "0           471.430  \n",
       "1            89.094  \n",
       "2           399.446  \n",
       "3           175.212  \n",
       "4           132.119  \n",
       "5           132.095  \n",
       "6           507.180  \n",
       "7            40.078  \n",
       "8            35.450  \n",
       "9           767.535  "
      ]
     },
     "metadata": {},
     "output_type": "display_data"
    }
   ],
   "source": [
    "# load model from notebook A\n",
    "model = cobra.io.read_sbml_model(\"../models/r_opacus_model_A.xml\")\n",
    "\n",
    "# load data on biomass composition\n",
    "biomass_comp_df = pd.read_csv('../data/biomass_composition/r_opacus_experimental_data.csv')\n",
    "\n",
    "# load data on amino acid composition\n",
    "amino_acid_df = pd.read_csv('../data/biomass_composition/r_opacus_amino_acid_data.csv')\n",
    "\n",
    "# load data describing the Bacillus subtilis biomass reaction\n",
    "b_subtilis_biomass_df = pd.read_csv('../data/biomass_composition/b_subtilis_biomass_data.csv')\n",
    "\n",
    "display(biomass_comp_df.head(10))\n",
    "display(amino_acid_df.head(10))\n",
    "display(b_subtilis_biomass_df.head(10))"
   ]
  },
  {
   "cell_type": "markdown",
   "id": "f020fa91-654d-4551-b4a4-529f2f99a168",
   "metadata": {
    "tags": []
   },
   "source": [
    "### 3. Calculate the macromolecule distribution in the B. subtilis biomass reaction"
   ]
  },
  {
   "cell_type": "markdown",
   "id": "8d839e19-c5a7-437d-b718-5d84e70f714e",
   "metadata": {},
   "source": [
    "Define a helper function for getting the macromolecule mass fraction from the B. subtilis dataframe"
   ]
  },
  {
   "cell_type": "code",
   "execution_count": 3,
   "id": "3aaa0dd5-7100-434d-b522-f5998c2c785e",
   "metadata": {},
   "outputs": [],
   "source": [
    "# A function that takes in a biomass dataframe and a macromolecule class and \n",
    "# return the that macromolecule's fraction of biomass in milligrams/gram of dry cell weight\n",
    "def macro_mass_in_mg_from_biomass_df(biomass_df, macromolecule):\n",
    "    # isolate just reactants (coefficients less than 0 means a chemical is consumed)\n",
    "    biomass_df = biomass_df[biomass_df.coefficient < 0]\n",
    "    \n",
    "    # isolate just metabolites from that macromolecule type\n",
    "    macro_df = biomass_df[biomass_df.category == macromolecule]\n",
    "    \n",
    "    # return the sum of the products of coefficients and molecular_weights\n",
    "    # the -1 is needed since the coffients of reactants are negative\n",
    "    return sum([-1*row.coefficient * row.molecular_weight for _, row in macro_df.iterrows()])"
   ]
  },
  {
   "cell_type": "markdown",
   "id": "harmful-commons",
   "metadata": {},
   "source": [
    "Use a dictionary store the the number of milligrams each macromolecule class makes up"
   ]
  },
  {
   "cell_type": "code",
   "execution_count": 4,
   "id": "03ee30f9-8880-4509-9f70-4ed2a0902a52",
   "metadata": {},
   "outputs": [
    {
     "data": {
      "text/plain": [
       "{'protein': 655.9755072570001,\n",
       " 'lipid': 175.241005523,\n",
       " 'carbohydrate': 9.621337439000001}"
      ]
     },
     "execution_count": 4,
     "metadata": {},
     "output_type": "execute_result"
    }
   ],
   "source": [
    "macros = ['protein', 'lipid', 'carbohydrate']\n",
    "b_subtilis_macros = {macro:macro_mass_in_mg_from_biomass_df(b_subtilis_biomass_df, macro) for macro in macros}\n",
    "\n",
    "b_subtilis_macros"
   ]
  },
  {
   "cell_type": "markdown",
   "id": "fa4263ec-bb76-45a7-9cb2-1fe5027dbe54",
   "metadata": {
    "tags": []
   },
   "source": [
    "### 4. Determine the mass fraction each macromolecule class in R. opacus in phenol and glucose"
   ]
  },
  {
   "cell_type": "markdown",
   "id": "behavioral-input",
   "metadata": {},
   "source": [
    "Define a helper function for getting mass fraction from R. opacus experimental data"
   ]
  },
  {
   "cell_type": "code",
   "execution_count": 5,
   "id": "disabled-category",
   "metadata": {},
   "outputs": [],
   "source": [
    "# Gets the mass fraction of a given macro for a given condition from the biomass composition data\n",
    "def macro_mass_in_mg_from_biomass_comp_df(condition, macro):\n",
    "    column_name = f'{macro}_percent'\n",
    "    mass_percent = biomass_comp_df[biomass_comp_df.condition == condition][column_name]\n",
    "    \n",
    "    # return mass percentage multiplied by 10 to convert from percent to mg macro/g biomass\n",
    "    return 10*float(mass_percent)"
   ]
  },
  {
   "cell_type": "markdown",
   "id": "f7e74b52-63fc-4690-830a-4ebf6992cf6d",
   "metadata": {},
   "source": [
    "Get phenol macro dictionary"
   ]
  },
  {
   "cell_type": "code",
   "execution_count": 6,
   "id": "86317889-f78a-4262-a899-a0b59f5c2c1f",
   "metadata": {},
   "outputs": [
    {
     "data": {
      "text/plain": [
       "{'protein': 388.40000000000003,\n",
       " 'lipid': 140.8,\n",
       " 'carbohydrate': 172.10000000000002}"
      ]
     },
     "execution_count": 6,
     "metadata": {},
     "output_type": "execute_result"
    }
   ],
   "source": [
    "phenol_macros = {macro:macro_mass_in_mg_from_biomass_comp_df('wt_phenol', macro) for macro in macros}\n",
    "phenol_macros"
   ]
  },
  {
   "cell_type": "markdown",
   "id": "bac9d165-a7b6-40a7-808c-83c891580751",
   "metadata": {},
   "source": [
    "Get glucose macro dictionary"
   ]
  },
  {
   "cell_type": "code",
   "execution_count": 7,
   "id": "fb082ced-af52-4ae7-b02a-b6258b3840fd",
   "metadata": {},
   "outputs": [
    {
     "data": {
      "text/plain": [
       "{'protein': 240.39999999999998,\n",
       " 'lipid': 402.59999999999997,\n",
       " 'carbohydrate': 146.4}"
      ]
     },
     "execution_count": 7,
     "metadata": {},
     "output_type": "execute_result"
    }
   ],
   "source": [
    "glucose_macros = {macro:macro_mass_in_mg_from_biomass_comp_df('wt_glucose', macro) for macro in macros}\n",
    "glucose_macros"
   ]
  },
  {
   "cell_type": "markdown",
   "id": "eec04ded-2205-4da8-9a17-15e5a1a24515",
   "metadata": {},
   "source": [
    "### 5. Calculate each precursor's coefficient in phenol and glucose biomass reactions"
   ]
  },
  {
   "cell_type": "markdown",
   "id": "cfd6a34d-b3ad-416b-97d8-e316905d23c0",
   "metadata": {},
   "source": [
    "Define a helper function to get amino acid coefficients for R. opacus biomass reactions"
   ]
  },
  {
   "cell_type": "code",
   "execution_count": 8,
   "id": "a7b0c3b8-0a12-4760-9087-63d4728b966d",
   "metadata": {},
   "outputs": [],
   "source": [
    "# returns the coefficient of amino acid in a given condition\n",
    "def get_r_opacus_amino_acid_coefficient(condition, amino_acid_id):\n",
    "    if condition == 'phenol':\n",
    "        mg_protein = phenol_macros['protein']\n",
    "    elif condition == 'glucose':\n",
    "        mg_protein = glucose_macros['protein']\n",
    "        \n",
    "    # get the amino acid molar percentage\n",
    "    amino_acid_mol_percent = amino_acid_df[amino_acid_df.metabolite_id == amino_acid_id][condition]\n",
    "    \n",
    "    # calculate the total protein mass if coefficients were at mol percent levels\n",
    "    total_protein_mass = sum([row[condition] * row.molecular_weight for _, row in amino_acid_df.iterrows()])\n",
    "    \n",
    "    # get the scale factor\n",
    "    scale_factor = mg_protein / total_protein_mass\n",
    "    \n",
    "    # calculate the coefficient with the molar percentage and the scale factor\n",
    "    amino_acid_coefficient = -1 * float(amino_acid_mol_percent) * scale_factor\n",
    "    \n",
    "    return amino_acid_coefficient"
   ]
  },
  {
   "cell_type": "markdown",
   "id": "ea1ee707-e740-4d06-b0bd-9eec820ada0b",
   "metadata": {},
   "source": [
    "Define a helper function to get the coefficient for any metabolite in an R. opacus biomass reactions"
   ]
  },
  {
   "cell_type": "code",
   "execution_count": 9,
   "id": "a067b32a-e484-408a-a7a2-22851342e06f",
   "metadata": {},
   "outputs": [],
   "source": [
    "# get a dictionary mapping metabolite id to coefficient values in biomass reaction\n",
    "# this function uses the B. subtilis biomass dataframe and the macros from b_subtilis_\n",
    "def get_r_opacus_metabolite_coefficients(b_subtilis_biomass_df, b_subtilis_macros, r_opacus_macros, condition):\n",
    "    macros = ['protein', 'lipid', 'carbohydrate']\n",
    "    \n",
    "    # get the multiplier needed to scale each macro\n",
    "    macro_multipliers = {macro:(r_opacus_macros[macro]/b_subtilis_macros[macro]) for macro in macros}\n",
    "    \n",
    "    # make metabolite dictionary by looping over B. subtilis biomass dataframe\n",
    "    metabolite_dictionary = {}\n",
    "    for _, row in b_subtilis_biomass_df.iterrows():\n",
    "        \n",
    "        # convert the metabolite id into a metabolite object\n",
    "        metabolite = model.metabolites.get_by_id(row.metabolite_id)\n",
    "        \n",
    "        # if the metabolite is a lipid or carbohydrate then scale its coefficient proportionally\n",
    "        if row.category in ['lipid', 'carbohydrate']:\n",
    "            metabolite_dictionary[metabolite] = macro_multipliers[row.category]*row.coefficient\n",
    "            \n",
    "        # if the metabolite is an amino acid use a special function to get fraction \n",
    "        elif row.category == 'protein':\n",
    "            metabolite_dictionary[metabolite] = get_r_opacus_amino_acid_coefficient(condition, row.metabolite_id)\n",
    "            \n",
    "        # if not use original coefficient\n",
    "        else:\n",
    "            metabolite_dictionary[metabolite] = row.coefficient\n",
    "            \n",
    "    return metabolite_dictionary"
   ]
  },
  {
   "cell_type": "markdown",
   "id": "0d58bde9-31f8-4a3e-ad21-6449b4a0480a",
   "metadata": {},
   "source": [
    "Get coefficients for R. opacus in phenol biomass reaction"
   ]
  },
  {
   "cell_type": "code",
   "execution_count": 10,
   "id": "30e35da5-e177-46cf-869f-74674117d446",
   "metadata": {},
   "outputs": [],
   "source": [
    "phenol_metabolite_coefficients = get_r_opacus_metabolite_coefficients(b_subtilis_biomass_df, b_subtilis_macros, phenol_macros, 'phenol')"
   ]
  },
  {
   "cell_type": "markdown",
   "id": "24dbd504-c520-4a02-9d21-a4aed8701816",
   "metadata": {},
   "source": [
    "Get coefficients for R. opacus in glucose biomass reaction"
   ]
  },
  {
   "cell_type": "code",
   "execution_count": 11,
   "id": "00b70d2d-6970-4c3f-9759-7332934eae06",
   "metadata": {},
   "outputs": [],
   "source": [
    "glucose_metabolite_coefficients = get_r_opacus_metabolite_coefficients(b_subtilis_biomass_df, b_subtilis_macros, glucose_macros, 'glucose')"
   ]
  },
  {
   "cell_type": "markdown",
   "id": "689daa90-ea2e-4d4d-8711-628cf3e52cbf",
   "metadata": {},
   "source": [
    "### 6. Make biomass reactions and add them to the model"
   ]
  },
  {
   "cell_type": "markdown",
   "id": "c72bb65a-2c99-4a27-bc1c-403eeaac0cc5",
   "metadata": {},
   "source": [
    "Add phenol biomass reaction to the model"
   ]
  },
  {
   "cell_type": "code",
   "execution_count": 12,
   "id": "2f170906-7122-4f77-9317-8d5abf3fd266",
   "metadata": {},
   "outputs": [
    {
     "data": {
      "text/plain": [
       "'0.00021600000000000002 10fthf_c + 0.4524504100898161 ala__L_c + 0.00021600000000000002 amet_c + 0.13585891246882986 arg__L_c + 0.12378944188503861 asn__L_c + 0.12378944188503861 asp__L_c + 52.547151 atp_c + 0.005053 ca2_c + 0.005053 cl_c + 0.000559 coa_c + 9.7e-05 cobalt2_c + 0.129616 ctp_c + 0.000688 cu2_c + 0.02506736198172032 cys__L_c + 0.025403 datp_c + 0.026229000000000002 dctp_c + 0.026229000000000002 dgtp_c + 0.025403 dttp_c + 0.00021600000000000002 fad_c + 0.006519 fe2_c + 0.00758 fe3_c + 0.25067361981720315 gln__L_c + 0.25067361981720315 glu__L_c + 0.25469677667846696 gly_c + 0.0007801644346423031 gtca1_45_BS_c + 0.0007801644346423031 gtca2_45_BS_c + 0.0007801644346423031 gtca3_45_BS_c + 0.208826 gtp_c + 47.184845 h2o_c + 0.04673051431160208 his__L_c + 0.12595575711802678 ile__L_c + 0.189503 k_c + 0.24572204214180166 leu__L_c + 3.93697809448742e-05 lipo1_24_BS_c + 3.93697809448742e-05 lipo2_24_BS_c + 3.93697809448742e-05 lipo3_24_BS_c + 3.93697809448742e-05 lipo4_24_BS_c + 0.14452417340078258 lys__L_c + 0.047039987916314675 met__L_c + 0.008422 mg2_c + 0.00021600000000000002 mlthf_c + 0.000671 mn2_c + 9.7e-05 mql8_c + 0.001778 nad_c + 0.000434 nadp_c + 0.17366804881273015 peptido_BS_c + 0.10893470885883398 phe__L_c + 0.12255154746618822 pro__L_c + 0.00021600000000000002 pydx5p_c + 0.00021600000000000002 ribflv_c + 0.14916627747147154 ser__L_c + 0.004212 so4_c + 0.00021600000000000002 thf_c + 0.00021600000000000002 thmpp_c + 0.16618732573066433 thr__L_c + 0.036827358960798987 trp__L_c + 0.05230103919642881 tyr__L_c + 0.139904 utp_c + 0.23210520353444739 val__L_c + 0.000331 zn2_c --> 52.37741576 adp_c + 52.37741576 h_c + 52.37320421 pi_c + 0.751344563 ppi_c'"
      ]
     },
     "execution_count": 12,
     "metadata": {},
     "output_type": "execute_result"
    }
   ],
   "source": [
    "phenol_growth_reaction = cobra.Reaction()\n",
    "\n",
    "# add metadata\n",
    "phenol_growth_reaction.name = 'Phenol biomass reaction'\n",
    "phenol_growth_reaction.id = 'Growth_Phenol'\n",
    "\n",
    "# add metabolites to the reaction\n",
    "phenol_growth_reaction.add_metabolites(phenol_metabolite_coefficients)\n",
    "\n",
    "# add reaction to the model\n",
    "model.add_reactions([phenol_growth_reaction])\n",
    "\n",
    "# print the reaction\n",
    "model.reactions.get_by_id('Growth_Phenol').reaction"
   ]
  },
  {
   "cell_type": "markdown",
   "id": "965a2d26-3ee9-4f9a-a55b-3035b7f07db3",
   "metadata": {},
   "source": [
    "Add glucose biomass reaction to the model"
   ]
  },
  {
   "cell_type": "code",
   "execution_count": 13,
   "id": "3e9a7dea-2c29-4353-a702-639dc666848b",
   "metadata": {},
   "outputs": [
    {
     "data": {
      "text/plain": [
       "'0.00021600000000000002 10fthf_c + 0.2753095839435447 ala__L_c + 0.00021600000000000002 amet_c + 0.0739098883050648 arg__L_c + 0.06516990151320624 asn__L_c + 0.06516990151320624 asp__L_c + 52.547151 atp_c + 0.005053 ca2_c + 0.005053 cl_c + 0.000559 coa_c + 9.7e-05 cobalt2_c + 0.129616 ctp_c + 0.000688 cu2_c + 0.01519997702931924 cys__L_c + 0.025403 datp_c + 0.026229000000000002 dctp_c + 0.026229000000000002 dgtp_c + 0.025403 dttp_c + 0.00021600000000000002 fad_c + 0.006519 fe2_c + 0.00758 fe3_c + 0.20291969334141183 gln__L_c + 0.20291969334141183 glu__L_c + 0.13356979814514283 gly_c + 0.002230782680305335 gtca1_45_BS_c + 0.002230782680305335 gtca2_45_BS_c + 0.002230782680305335 gtca3_45_BS_c + 0.208826 gtp_c + 47.184845 h2o_c + 0.024889962385510254 his__L_c + 0.07352988887933182 ile__L_c + 0.189503 k_c + 0.1519997702931924 leu__L_c + 0.00011257296738924964 lipo1_24_BS_c + 0.00011257296738924964 lipo2_24_BS_c + 0.00011257296738924964 lipo3_24_BS_c + 0.00011257296738924964 lipo4_24_BS_c + 0.08739986791858562 lys__L_c + 0.023559964395444822 met__L_c + 0.008422 mg2_c + 0.00021600000000000002 mlthf_c + 0.000671 mn2_c + 9.7e-05 mql8_c + 0.001778 nad_c + 0.000434 nadp_c + 0.1477338892863666 peptido_BS_c + 0.06611990007753869 phe__L_c + 0.06364990381027431 pro__L_c + 0.00021600000000000002 pydx5p_c + 0.00021600000000000002 ribflv_c + 0.09176986131451491 ser__L_c + 0.004212 so4_c + 0.00021600000000000002 thf_c + 0.00021600000000000002 thmpp_c + 0.09974984925490751 thr__L_c + 0.020139969563847993 trp__L_c + 0.025079962098376745 tyr__L_c + 0.139904 utp_c + 0.13793979154107208 val__L_c + 0.000331 zn2_c --> 52.37741576 adp_c + 52.37741576 h_c + 52.37320421 pi_c + 0.751344563 ppi_c'"
      ]
     },
     "execution_count": 13,
     "metadata": {},
     "output_type": "execute_result"
    }
   ],
   "source": [
    "glucose_growth_reaction = cobra.Reaction()\n",
    "\n",
    "# add metadata\n",
    "glucose_growth_reaction.name = 'Glucose biomass reaction'\n",
    "glucose_growth_reaction.id = 'Growth_Glucose'\n",
    "\n",
    "# add metabolites to the reaction\n",
    "glucose_growth_reaction.add_metabolites(glucose_metabolite_coefficients)\n",
    "\n",
    "# add reaction to the model\n",
    "model.add_reactions([glucose_growth_reaction])\n",
    "\n",
    "# print the reaction\n",
    "model.reactions.get_by_id('Growth_Glucose').reaction"
   ]
  },
  {
   "cell_type": "markdown",
   "id": "c1fd06c3-8bec-4775-9109-5e0124b46cdb",
   "metadata": {},
   "source": [
    "### 7. Check that phenol and glucose biomass reactions match expectations"
   ]
  },
  {
   "cell_type": "markdown",
   "id": "73a3b696-769a-4ef4-86ff-af7a0f590f8c",
   "metadata": {},
   "source": [
    "Define a helper function get the total mass of given macromolecule from a biomass reaction"
   ]
  },
  {
   "cell_type": "code",
   "execution_count": 14,
   "id": "468f4b5c-cffa-48f7-a485-69ab8e1ad9a8",
   "metadata": {},
   "outputs": [],
   "source": [
    "def reaction_to_single_macro_mass(reaction, biomass_df, macro):\n",
    "    # isolate just reactants\n",
    "    biomass_df = biomass_df[biomass_df.coefficient < 0]\n",
    "    \n",
    "    # isolate just the metabolites in that macro group\n",
    "    macro_df = biomass_df[biomass_df.category == macro]\n",
    "    \n",
    "    # multiply the metabolite coefficient in new reaction with the molecular weight from dataframe\n",
    "    # -1 is needed to since these are all coeffients are negative\n",
    "    masses = [-1 * row.molecular_weight * reaction.get_coefficient(row.metabolite_id) for _, row in macro_df.iterrows()]\n",
    "    \n",
    "    return sum(masses)"
   ]
  },
  {
   "cell_type": "markdown",
   "id": "7d7c6d23-06fb-4594-b94c-666d1ba2baec",
   "metadata": {},
   "source": [
    "Test new biomass reactions"
   ]
  },
  {
   "cell_type": "code",
   "execution_count": 15,
   "id": "83efe3eb-ab5d-45cf-8c8e-ead95f3131b6",
   "metadata": {},
   "outputs": [
    {
     "name": "stdout",
     "output_type": "stream",
     "text": [
      "expected phenol macros {'protein': 388.40000000000003, 'lipid': 140.8, 'carbohydrate': 172.10000000000002}\n",
      "phenol reaction macros {'protein': 388.4123216915718, 'lipid': 140.8, 'carbohydrate': 172.10000000000002}\n",
      "\n",
      "\n",
      "expected glucose macros {'protein': 240.39999999999998, 'lipid': 402.59999999999997, 'carbohydrate': 146.4}\n",
      "glucose reaction macros {'protein': 240.40884790662875, 'lipid': 402.59999999999997, 'carbohydrate': 146.4}\n"
     ]
    }
   ],
   "source": [
    "# get reactions as variables to plug into function\n",
    "phenol_reaction = model.reactions.get_by_id('Growth_Phenol')\n",
    "glucose_reaction = model.reactions.get_by_id('Growth_Glucose')\n",
    "\n",
    "# get reaction macros\n",
    "phenol_reaction_macros = {macro:reaction_to_single_macro_mass(phenol_reaction, b_subtilis_biomass_df, macro) for macro in ['protein', 'lipid', 'carbohydrate']}\n",
    "glucose_reaction_macros = {macro:reaction_to_single_macro_mass(glucose_reaction, b_subtilis_biomass_df, macro) for macro in ['protein', 'lipid', 'carbohydrate']}\n",
    "\n",
    "# compare to expected macros\n",
    "print('expected phenol macros', phenol_macros)\n",
    "print('phenol reaction macros', phenol_reaction_macros)\n",
    "print('\\n')\n",
    "print('expected glucose macros', glucose_macros)\n",
    "print('glucose reaction macros', glucose_reaction_macros)"
   ]
  },
  {
   "cell_type": "markdown",
   "id": "651d14b3-e71c-4bdc-94a5-43f242ef1136",
   "metadata": {},
   "source": [
    "### 8. Save model with new biomass reactions"
   ]
  },
  {
   "cell_type": "code",
   "execution_count": 16,
   "id": "considerable-bathroom",
   "metadata": {},
   "outputs": [
    {
     "data": {
      "text/html": [
       "\n",
       "        <table>\n",
       "            <tr>\n",
       "                <td><strong>Name</strong></td>\n",
       "                <td>r_opacus_model_B</td>\n",
       "            </tr><tr>\n",
       "                <td><strong>Memory address</strong></td>\n",
       "                <td>0x07f4d78882810</td>\n",
       "            </tr><tr>\n",
       "                <td><strong>Number of metabolites</strong></td>\n",
       "                <td>1952</td>\n",
       "            </tr><tr>\n",
       "                <td><strong>Number of reactions</strong></td>\n",
       "                <td>3021</td>\n",
       "            </tr><tr>\n",
       "                <td><strong>Number of groups</strong></td>\n",
       "                <td>0</td>\n",
       "            </tr><tr>\n",
       "                <td><strong>Objective expression</strong></td>\n",
       "                <td>1.0*Growth - 1.0*Growth_reverse_699ae</td>\n",
       "            </tr><tr>\n",
       "                <td><strong>Compartments</strong></td>\n",
       "                <td>cytosol, periplasm, extracellular space</td>\n",
       "            </tr>\n",
       "          </table>"
      ],
      "text/plain": [
       "<Model r_opacus_model_B at 0x7f4d78882810>"
      ]
     },
     "execution_count": 16,
     "metadata": {},
     "output_type": "execute_result"
    }
   ],
   "source": [
    "model.id = 'r_opacus_model_B'\n",
    "model.name = 'R. opacus model B'\n",
    "cobra.io.write_sbml_model(model, \"../models/r_opacus_model_B.xml\")\n",
    "model"
   ]
  },
  {
   "cell_type": "markdown",
   "id": "5122017a-66d1-4466-9cd1-eff0ba689a0e",
   "metadata": {},
   "source": [
    "### 9. Save biomass composition data as a csv"
   ]
  },
  {
   "cell_type": "code",
   "execution_count": 17,
   "id": "9fd94787-0c81-4580-a4ae-4ef6c505da83",
   "metadata": {},
   "outputs": [
    {
     "data": {
      "text/html": [
       "<div>\n",
       "<style scoped>\n",
       "    .dataframe tbody tr th:only-of-type {\n",
       "        vertical-align: middle;\n",
       "    }\n",
       "\n",
       "    .dataframe tbody tr th {\n",
       "        vertical-align: top;\n",
       "    }\n",
       "\n",
       "    .dataframe thead th {\n",
       "        text-align: right;\n",
       "    }\n",
       "</style>\n",
       "<table border=\"1\" class=\"dataframe\">\n",
       "  <thead>\n",
       "    <tr style=\"text-align: right;\">\n",
       "      <th></th>\n",
       "      <th>name</th>\n",
       "      <th>category</th>\n",
       "      <th>B. subtilis coefficient</th>\n",
       "      <th>R.opacus glucose coefficient</th>\n",
       "      <th>R.opacus phenol coefficient</th>\n",
       "    </tr>\n",
       "  </thead>\n",
       "  <tbody>\n",
       "    <tr>\n",
       "      <th>0</th>\n",
       "      <td>10-Formyltetrahydrofolate</td>\n",
       "      <td>carbon carrier</td>\n",
       "      <td>0.000216</td>\n",
       "      <td>0.000216</td>\n",
       "      <td>0.000216</td>\n",
       "    </tr>\n",
       "    <tr>\n",
       "      <th>1</th>\n",
       "      <td>L-Alanine</td>\n",
       "      <td>protein</td>\n",
       "      <td>0.498716</td>\n",
       "      <td>0.275310</td>\n",
       "      <td>0.452450</td>\n",
       "    </tr>\n",
       "    <tr>\n",
       "      <th>2</th>\n",
       "      <td>S-Adenosyl-L-methionine</td>\n",
       "      <td>carbon carrier</td>\n",
       "      <td>0.000216</td>\n",
       "      <td>0.000216</td>\n",
       "      <td>0.000216</td>\n",
       "    </tr>\n",
       "    <tr>\n",
       "      <th>3</th>\n",
       "      <td>L-Arginine</td>\n",
       "      <td>protein</td>\n",
       "      <td>0.287170</td>\n",
       "      <td>0.073910</td>\n",
       "      <td>0.135859</td>\n",
       "    </tr>\n",
       "    <tr>\n",
       "      <th>4</th>\n",
       "      <td>L-Asparagine</td>\n",
       "      <td>protein</td>\n",
       "      <td>0.234029</td>\n",
       "      <td>0.065170</td>\n",
       "      <td>0.123789</td>\n",
       "    </tr>\n",
       "  </tbody>\n",
       "</table>\n",
       "</div>"
      ],
      "text/plain": [
       "                        name        category  B. subtilis coefficient  \\\n",
       "0  10-Formyltetrahydrofolate  carbon carrier                 0.000216   \n",
       "1                  L-Alanine         protein                 0.498716   \n",
       "2    S-Adenosyl-L-methionine  carbon carrier                 0.000216   \n",
       "3                 L-Arginine         protein                 0.287170   \n",
       "4               L-Asparagine         protein                 0.234029   \n",
       "\n",
       "   R.opacus glucose coefficient  R.opacus phenol coefficient  \n",
       "0                      0.000216                     0.000216  \n",
       "1                      0.275310                     0.452450  \n",
       "2                      0.000216                     0.000216  \n",
       "3                      0.073910                     0.135859  \n",
       "4                      0.065170                     0.123789  "
      ]
     },
     "execution_count": 17,
     "metadata": {},
     "output_type": "execute_result"
    }
   ],
   "source": [
    "# only get metabolite name and B. subtilis coefficient columns\n",
    "summary_df = b_subtilis_biomass_df.copy()[['name', 'category', 'coefficient']]\n",
    "\n",
    "# # rename B. subtilis coefficient column\n",
    "summary_df['B. subtilis coefficient'] = -1*summary_df['coefficient']\n",
    "summary_df.drop('coefficient', axis=1, inplace=True)\n",
    "\n",
    "# add phenol and glucose coefficient columns\n",
    "summary_df['R.opacus glucose coefficient'] = glucose_metabolite_coefficients.values()\n",
    "summary_df['R.opacus phenol coefficient'] = phenol_metabolite_coefficients.values()\n",
    "\n",
    "# make all reactant coefficients positive\n",
    "summary_df['R.opacus glucose coefficient'] = -1*summary_df['R.opacus glucose coefficient']\n",
    "summary_df['R.opacus phenol coefficient'] = -1*summary_df['R.opacus phenol coefficient']\n",
    "\n",
    "summary_df.head()"
   ]
  },
  {
   "cell_type": "markdown",
   "id": "0afc7a2f-9e36-46dc-aafb-f15dd07f1608",
   "metadata": {},
   "source": [
    "Save summary dataframe as .csv file"
   ]
  },
  {
   "cell_type": "code",
   "execution_count": 18,
   "id": "82b57358-a442-4dde-940e-7bfb4c5eda53",
   "metadata": {},
   "outputs": [],
   "source": [
    "summary_df.to_csv('../data/biomass_composition/r_opacus_biomass_data.csv', index=False)"
   ]
  }
 ],
 "metadata": {
  "kernelspec": {
   "display_name": "biodesign_3.7",
   "language": "python",
   "name": "biod_3.7"
  },
  "language_info": {
   "codemirror_mode": {
    "name": "ipython",
    "version": 3
   },
   "file_extension": ".py",
   "mimetype": "text/x-python",
   "name": "python",
   "nbconvert_exporter": "python",
   "pygments_lexer": "ipython3",
   "version": "3.7.4"
  }
 },
 "nbformat": 4,
 "nbformat_minor": 5
}

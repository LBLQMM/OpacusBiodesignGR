{
 "cells": [
  {
   "cell_type": "markdown",
   "id": "40ba20aa-1810-4ac5-81e8-616552455158",
   "metadata": {},
   "source": [
    "# BacDive Check\n",
    "This notebook checks that the model is able to grow with the carbon sources listed on [BacDive](https://bacdive.dsmz.de/strain/11009). These carbon sources are glucose, mannitol, ribose, xylose, lactose, and maltose."
   ]
  },
  {
   "cell_type": "markdown",
   "id": "d2c9f372-48fc-4dbe-a623-1dc247b729f6",
   "metadata": {},
   "source": [
    "### Set up imports and load the model"
   ]
  },
  {
   "cell_type": "code",
   "execution_count": 1,
   "id": "8e8a8f97-2227-467f-85b3-71cf9e918b5b",
   "metadata": {},
   "outputs": [
    {
     "data": {
      "text/html": [
       "\n",
       "        <table>\n",
       "            <tr>\n",
       "                <td><strong>Name</strong></td>\n",
       "                <td>r_opacus_annotated_curated</td>\n",
       "            </tr><tr>\n",
       "                <td><strong>Memory address</strong></td>\n",
       "                <td>0x07f8e4a2926d0</td>\n",
       "            </tr><tr>\n",
       "                <td><strong>Number of metabolites</strong></td>\n",
       "                <td>1956</td>\n",
       "            </tr><tr>\n",
       "                <td><strong>Number of reactions</strong></td>\n",
       "                <td>3025</td>\n",
       "            </tr><tr>\n",
       "                <td><strong>Number of groups</strong></td>\n",
       "                <td>0</td>\n",
       "            </tr><tr>\n",
       "                <td><strong>Objective expression</strong></td>\n",
       "                <td>1.0*Growth - 1.0*Growth_reverse_699ae</td>\n",
       "            </tr><tr>\n",
       "                <td><strong>Compartments</strong></td>\n",
       "                <td>cytosol, periplasm, extracellular space</td>\n",
       "            </tr>\n",
       "          </table>"
      ],
      "text/plain": [
       "<Model r_opacus_annotated_curated at 0x7f8e4a2926d0>"
      ]
     },
     "execution_count": 1,
     "metadata": {},
     "output_type": "execute_result"
    }
   ],
   "source": [
    "import cobra\n",
    "\n",
    "model = cobra.io.read_sbml_model(\"../models/r_opacus_annotated_curated.xml\")\n",
    "model"
   ]
  },
  {
   "cell_type": "markdown",
   "id": "45d8ffb1-8291-48fb-be1c-00e4b2c11814",
   "metadata": {},
   "source": [
    "### Define a function to check biomass growth for each carbon source "
   ]
  },
  {
   "cell_type": "code",
   "execution_count": 2,
   "id": "63b9ed1e-f8ae-4e40-810d-e4427fdbf2b0",
   "metadata": {},
   "outputs": [],
   "source": [
    "def get_biomass_growth(uptake_reaction_id, carbon_source, mmols):\n",
    "    # define the base medium (no carbon source present)\n",
    "    model.medium = {\n",
    "     'EX_h2o_e': 1000.0,\n",
    "     'EX_h_e': 1000.0,\n",
    "     'EX_cl_e': 1000.0,\n",
    "     'EX_pi_e': 1000.0,\n",
    "     'EX_nh4_e': 1000.0,\n",
    "     'EX_fe3_e': 1000.0,\n",
    "     'EX_k_e': 1000.0,\n",
    "     'EX_ca2_e': 1000.0,\n",
    "     'EX_mg2_e': 1000.0,\n",
    "     'EX_mn2_e': 1000.0,\n",
    "     'EX_cobalt2_e': 1000.0,\n",
    "     'EX_zn2_e': 1000.0,\n",
    "     'EX_cu2_e': 1000.0,\n",
    "     'EX_o2_e': 1000.0,\n",
    "     'EX_fe2_e': 1000.0,\n",
    "     'EX_mobd_e': 1000.0,\n",
    "     'EX_so4_e': 1000.0,\n",
    "    }\n",
    "    \n",
    "    \n",
    "    with model:\n",
    "        # update the model to use the specified carbon source\n",
    "        medium = model.medium\n",
    "        medium[uptake_reaction_id] = mmols\n",
    "        model.medium = medium\n",
    "        [print(model.medium[m], m) for m in model.medium]\n",
    "        \n",
    "        # calculate how much biomass can be made (note: glucose biomass equation was chosen arbitrarily)\n",
    "        model.objective = 'Growth_Glucose'\n",
    "        solution = model.optimize()\n",
    "\n",
    "        print(f'{mmols} mmol of {carbon_source} can make {solution.objective_value:.3f} g of biomass\\n')"
   ]
  },
  {
   "cell_type": "markdown",
   "id": "5feb4e9a-7f9f-4390-a84b-730838100209",
   "metadata": {},
   "source": [
    "### Define a dictionary of uptake reactions"
   ]
  },
  {
   "cell_type": "code",
   "execution_count": 3,
   "id": "335b0873-d879-4c3f-bfe3-c7b314ffd7c5",
   "metadata": {},
   "outputs": [],
   "source": [
    "# define a dictionary of uptake reactions from carbon sources from BacDive()\n",
    "uptake_metabolites_and_reactions = {\n",
    "    'glucose': 'EX_glc__D_e',\n",
    "    'mannitol': 'EX_mnl_e',\n",
    "    'ribose': 'EX_rib__D_e',\n",
    "    'xylose': 'EX_xyl__D_e',\n",
    "    'lactose': 'EX_lcts_e',\n",
    "    'maltose': 'EX_malt_e',\n",
    "}"
   ]
  },
  {
   "cell_type": "markdown",
   "id": "5d16629c-f35a-46af-a468-4b4d70e23649",
   "metadata": {},
   "source": [
    "### Check each carbon source"
   ]
  },
  {
   "cell_type": "code",
   "execution_count": 4,
   "id": "7cbc0159-0217-4f6c-b46a-69003238d780",
   "metadata": {},
   "outputs": [
    {
     "name": "stdout",
     "output_type": "stream",
     "text": [
      "1000.0 EX_ca2_e\n",
      "1000.0 EX_cl_e\n",
      "1000.0 EX_cobalt2_e\n",
      "1000.0 EX_cu2_e\n",
      "1000.0 EX_fe2_e\n",
      "1000.0 EX_fe3_e\n",
      "10.0 EX_glc__D_e\n",
      "1000.0 EX_h2o_e\n",
      "1000.0 EX_h_e\n",
      "1000.0 EX_k_e\n",
      "1000.0 EX_mg2_e\n",
      "1000.0 EX_mn2_e\n",
      "1000.0 EX_mobd_e\n",
      "1000.0 EX_nh4_e\n",
      "1000.0 EX_o2_e\n",
      "1000.0 EX_pi_e\n",
      "1000.0 EX_so4_e\n",
      "1000.0 EX_zn2_e\n",
      "10.0 mmol of glucose can make 1.352 g of biomass\n",
      "\n",
      "1000.0 EX_ca2_e\n",
      "1000.0 EX_cl_e\n",
      "1000.0 EX_cobalt2_e\n",
      "1000.0 EX_cu2_e\n",
      "1000.0 EX_fe2_e\n",
      "1000.0 EX_fe3_e\n",
      "1000.0 EX_h2o_e\n",
      "1000.0 EX_h_e\n",
      "1000.0 EX_k_e\n",
      "1000.0 EX_mg2_e\n",
      "1000.0 EX_mn2_e\n",
      "10.0 EX_mnl_e\n",
      "1000.0 EX_mobd_e\n",
      "1000.0 EX_nh4_e\n",
      "1000.0 EX_o2_e\n",
      "1000.0 EX_pi_e\n",
      "1000.0 EX_so4_e\n",
      "1000.0 EX_zn2_e\n",
      "10.0 mmol of mannitol can make 1.432 g of biomass\n",
      "\n",
      "1000.0 EX_ca2_e\n",
      "1000.0 EX_cl_e\n",
      "1000.0 EX_cobalt2_e\n",
      "1000.0 EX_cu2_e\n",
      "1000.0 EX_fe2_e\n",
      "1000.0 EX_fe3_e\n",
      "1000.0 EX_h2o_e\n",
      "1000.0 EX_h_e\n",
      "1000.0 EX_k_e\n",
      "1000.0 EX_mg2_e\n",
      "1000.0 EX_mn2_e\n",
      "1000.0 EX_mobd_e\n",
      "1000.0 EX_nh4_e\n",
      "1000.0 EX_o2_e\n",
      "1000.0 EX_pi_e\n",
      "10.0 EX_rib__D_e\n",
      "1000.0 EX_so4_e\n",
      "1000.0 EX_zn2_e\n",
      "10.0 mmol of ribose can make 1.091 g of biomass\n",
      "\n",
      "1000.0 EX_ca2_e\n",
      "1000.0 EX_cl_e\n",
      "1000.0 EX_cobalt2_e\n",
      "1000.0 EX_cu2_e\n",
      "1000.0 EX_fe2_e\n",
      "1000.0 EX_fe3_e\n",
      "1000.0 EX_h2o_e\n",
      "1000.0 EX_h_e\n",
      "1000.0 EX_k_e\n",
      "1000.0 EX_mg2_e\n",
      "1000.0 EX_mn2_e\n",
      "1000.0 EX_mobd_e\n",
      "1000.0 EX_nh4_e\n",
      "1000.0 EX_o2_e\n",
      "1000.0 EX_pi_e\n",
      "1000.0 EX_so4_e\n",
      "10.0 EX_xyl__D_e\n",
      "1000.0 EX_zn2_e\n",
      "10.0 mmol of xylose can make 1.127 g of biomass\n",
      "\n",
      "1000.0 EX_ca2_e\n",
      "1000.0 EX_cl_e\n",
      "1000.0 EX_cobalt2_e\n",
      "1000.0 EX_cu2_e\n",
      "1000.0 EX_fe2_e\n",
      "1000.0 EX_fe3_e\n",
      "1000.0 EX_h2o_e\n",
      "1000.0 EX_h_e\n",
      "1000.0 EX_k_e\n",
      "10.0 EX_lcts_e\n",
      "1000.0 EX_mg2_e\n",
      "1000.0 EX_mn2_e\n",
      "1000.0 EX_mobd_e\n",
      "1000.0 EX_nh4_e\n",
      "1000.0 EX_o2_e\n",
      "1000.0 EX_pi_e\n",
      "1000.0 EX_so4_e\n",
      "1000.0 EX_zn2_e\n",
      "10.0 mmol of lactose can make 2.637 g of biomass\n",
      "\n",
      "1000.0 EX_ca2_e\n",
      "1000.0 EX_cl_e\n",
      "1000.0 EX_cobalt2_e\n",
      "1000.0 EX_cu2_e\n",
      "1000.0 EX_fe2_e\n",
      "1000.0 EX_fe3_e\n",
      "1000.0 EX_h2o_e\n",
      "1000.0 EX_h_e\n",
      "1000.0 EX_k_e\n",
      "10.0 EX_malt_e\n",
      "1000.0 EX_mg2_e\n",
      "1000.0 EX_mn2_e\n",
      "1000.0 EX_mobd_e\n",
      "1000.0 EX_nh4_e\n",
      "1000.0 EX_o2_e\n",
      "1000.0 EX_pi_e\n",
      "1000.0 EX_so4_e\n",
      "1000.0 EX_zn2_e\n",
      "10.0 mmol of maltose can make 2.704 g of biomass\n",
      "\n"
     ]
    }
   ],
   "source": [
    "for carbon_source, uptake_reaction_id in uptake_metabolites_and_reactions.items():\n",
    "    get_biomass_growth(uptake_reaction_id, carbon_source, 10.0)"
   ]
  }
 ],
 "metadata": {
  "kernelspec": {
   "display_name": "biodesign_3.7",
   "language": "python",
   "name": "biod_3.7"
  },
  "language_info": {
   "codemirror_mode": {
    "name": "ipython",
    "version": 3
   },
   "file_extension": ".py",
   "mimetype": "text/x-python",
   "name": "python",
   "nbconvert_exporter": "python",
   "pygments_lexer": "ipython3",
   "version": "3.7.4"
  }
 },
 "nbformat": 4,
 "nbformat_minor": 5
}

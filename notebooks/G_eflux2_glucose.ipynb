{
 "cells": [
  {
   "cell_type": "markdown",
   "id": "7563604a-2ba5-4e5d-b9e0-309615df0b5b",
   "metadata": {
    "tags": []
   },
   "source": [
    "## **Notebook to make predictions with reprocessed Yoneda data and EFLUX2** \n",
    "\n",
    "By Christina Schenk and Garrett Roell\n",
    "\n",
    "Tested on biodesign_3.7 kernel on jprime"
   ]
  },
  {
   "cell_type": "markdown",
   "id": "8edc3c57-de26-4407-a568-88c6e6d99f02",
   "metadata": {
    "tags": []
   },
   "source": [
    "### EFLUX2 predictions and evaluations\n",
    "This notebook predicts fluxes for R. opacus cultures growing with glucose.\n",
    "\n",
    "#### **Data Labels**:\n",
    "\n",
    "#### Henson transcriptomics data: \n",
    "* WT 1.0 g/L Glucose (**WT-G**) (3 trials at 2 timepoints, 6 total trials)\n",
    "\n",
    "#### Combined with Rhiannon 2018 metabolomics and OD data:\n",
    "* Metabolomics and OD data for WT Glucose (**WT-G**)\n",
    "                                               \n",
    "\n",
    "### Method: \n",
    "<ol>\n",
    "<li>Predict fluxes with EFLUX2</li>\n",
    "<li>Compare predictions with 13CMFA: Scatter plots and flux maps</li>\n",
    "<li>Load file with observed growth rates (Notebook E)</li>\n",
    "<li>Save growth rate predictions to csv file</li>\n",
    "</ol>\n",
    "\n"
   ]
  },
  {
   "cell_type": "markdown",
   "id": "5a6edbe7-d3d0-49ac-9d13-8f43882945f0",
   "metadata": {},
   "source": [
    "#### **Set up imports**"
   ]
  },
  {
   "cell_type": "code",
   "execution_count": 1,
   "id": "5e37f811-1a95-45e0-932f-962edb144307",
   "metadata": {},
   "outputs": [],
   "source": [
    "import os\n",
    "import sys\n",
    "import pandas as pd\n",
    "import numpy as np\n",
    "import cobra\n",
    "import scipy.stats\n",
    "#import cplex\n",
    "%matplotlib inline\n",
    "\n",
    "import matplotlib\n",
    "from matplotlib import pyplot as plt\n",
    "from matplotlib.offsetbox import (TextArea, DrawingArea, OffsetImage,\n",
    "                                  AnnotationBbox)\n",
    "from matplotlib.cbook import get_sample_data\n",
    "import matplotlib.image as mpimg\n",
    "import matplotlib.cm as cm\n",
    "\n",
    "from edd_utils import login, export_study, export_metadata\n",
    "\n",
    "from sklearn.metrics import r2_score\n",
    "\n",
    "output_dir = '../plots/'\n",
    "source_dir = '../src'\n",
    "sys.path.append(source_dir)\n",
    "from ensemblemethods import *\n",
    "\n",
    "\n",
    "from plot import *\n",
    "from utils import *"
   ]
  },
  {
   "cell_type": "markdown",
   "id": "7850ac80-728b-49eb-900a-5659cc911a91",
   "metadata": {},
   "source": [
    "#### **Load Genome Scale Model**"
   ]
  },
  {
   "cell_type": "code",
   "execution_count": 2,
   "id": "8cc0da32-8dc2-4a05-bd21-b80111c052c4",
   "metadata": {},
   "outputs": [],
   "source": [
    "model = cobra.io.read_sbml_model(\"../models/Ropacus_annotated.xml\")"
   ]
  },
  {
   "cell_type": "markdown",
   "id": "6f82e5fc-f0f3-48d3-a3bf-deafed7ba743",
   "metadata": {},
   "source": [
    "#### **Load Transcript Data**"
   ]
  },
  {
   "cell_type": "code",
   "execution_count": 3,
   "id": "2d85d52a-ed94-4246-86f7-66272bfebe34",
   "metadata": {},
   "outputs": [
    {
     "data": {
      "text/html": [
       "<div>\n",
       "<style scoped>\n",
       "    .dataframe tbody tr th:only-of-type {\n",
       "        vertical-align: middle;\n",
       "    }\n",
       "\n",
       "    .dataframe tbody tr th {\n",
       "        vertical-align: top;\n",
       "    }\n",
       "\n",
       "    .dataframe thead th {\n",
       "        text-align: right;\n",
       "    }\n",
       "</style>\n",
       "<table border=\"1\" class=\"dataframe\">\n",
       "  <thead>\n",
       "    <tr style=\"text-align: right;\">\n",
       "      <th></th>\n",
       "      <th>Line Name</th>\n",
       "      <th>Measurement Type</th>\n",
       "      <th>Time</th>\n",
       "      <th>Count</th>\n",
       "      <th>Units</th>\n",
       "    </tr>\n",
       "  </thead>\n",
       "  <tbody>\n",
       "    <tr>\n",
       "      <th>6</th>\n",
       "      <td>WT-Glu-R1</td>\n",
       "      <td>WP_005263480_1</td>\n",
       "      <td>10</td>\n",
       "      <td>27.446117</td>\n",
       "      <td>CPM</td>\n",
       "    </tr>\n",
       "    <tr>\n",
       "      <th>7</th>\n",
       "      <td>WT-Glu-R2</td>\n",
       "      <td>WP_005263480_1</td>\n",
       "      <td>10</td>\n",
       "      <td>27.543845</td>\n",
       "      <td>CPM</td>\n",
       "    </tr>\n",
       "    <tr>\n",
       "      <th>8</th>\n",
       "      <td>WT-Glu-R3</td>\n",
       "      <td>WP_005263480_1</td>\n",
       "      <td>10</td>\n",
       "      <td>26.797758</td>\n",
       "      <td>CPM</td>\n",
       "    </tr>\n",
       "    <tr>\n",
       "      <th>60</th>\n",
       "      <td>WT-Glu-R1</td>\n",
       "      <td>WP_005249107_1</td>\n",
       "      <td>10</td>\n",
       "      <td>355.352526</td>\n",
       "      <td>CPM</td>\n",
       "    </tr>\n",
       "    <tr>\n",
       "      <th>61</th>\n",
       "      <td>WT-Glu-R2</td>\n",
       "      <td>WP_005249107_1</td>\n",
       "      <td>10</td>\n",
       "      <td>349.533393</td>\n",
       "      <td>CPM</td>\n",
       "    </tr>\n",
       "  </tbody>\n",
       "</table>\n",
       "</div>"
      ],
      "text/plain": [
       "    Line Name Measurement Type  Time       Count Units\n",
       "6   WT-Glu-R1   WP_005263480_1    10   27.446117   CPM\n",
       "7   WT-Glu-R2   WP_005263480_1    10   27.543845   CPM\n",
       "8   WT-Glu-R3   WP_005263480_1    10   26.797758   CPM\n",
       "60  WT-Glu-R1   WP_005249107_1    10  355.352526   CPM\n",
       "61  WT-Glu-R2   WP_005249107_1    10  349.533393   CPM"
      ]
     },
     "metadata": {},
     "output_type": "display_data"
    },
    {
     "data": {
      "text/html": [
       "<div>\n",
       "<style scoped>\n",
       "    .dataframe tbody tr th:only-of-type {\n",
       "        vertical-align: middle;\n",
       "    }\n",
       "\n",
       "    .dataframe tbody tr th {\n",
       "        vertical-align: top;\n",
       "    }\n",
       "\n",
       "    .dataframe thead th {\n",
       "        text-align: right;\n",
       "    }\n",
       "</style>\n",
       "<table border=\"1\" class=\"dataframe\">\n",
       "  <thead>\n",
       "    <tr style=\"text-align: right;\">\n",
       "      <th></th>\n",
       "      <th>Line Name</th>\n",
       "      <th>Measurement Type</th>\n",
       "      <th>Time</th>\n",
       "      <th>Count</th>\n",
       "      <th>Units</th>\n",
       "    </tr>\n",
       "  </thead>\n",
       "  <tbody>\n",
       "    <tr>\n",
       "      <th>9</th>\n",
       "      <td>WT-Glu-R1</td>\n",
       "      <td>WP_005263480_1</td>\n",
       "      <td>13</td>\n",
       "      <td>15.584245</td>\n",
       "      <td>CPM</td>\n",
       "    </tr>\n",
       "    <tr>\n",
       "      <th>10</th>\n",
       "      <td>WT-Glu-R2</td>\n",
       "      <td>WP_005263480_1</td>\n",
       "      <td>13</td>\n",
       "      <td>22.444427</td>\n",
       "      <td>CPM</td>\n",
       "    </tr>\n",
       "    <tr>\n",
       "      <th>11</th>\n",
       "      <td>WT-Glu-R3</td>\n",
       "      <td>WP_005263480_1</td>\n",
       "      <td>13</td>\n",
       "      <td>20.433310</td>\n",
       "      <td>CPM</td>\n",
       "    </tr>\n",
       "    <tr>\n",
       "      <th>63</th>\n",
       "      <td>WT-Glu-R1</td>\n",
       "      <td>WP_005249107_1</td>\n",
       "      <td>13</td>\n",
       "      <td>219.798570</td>\n",
       "      <td>CPM</td>\n",
       "    </tr>\n",
       "    <tr>\n",
       "      <th>64</th>\n",
       "      <td>WT-Glu-R2</td>\n",
       "      <td>WP_005249107_1</td>\n",
       "      <td>13</td>\n",
       "      <td>328.518773</td>\n",
       "      <td>CPM</td>\n",
       "    </tr>\n",
       "  </tbody>\n",
       "</table>\n",
       "</div>"
      ],
      "text/plain": [
       "    Line Name Measurement Type  Time       Count Units\n",
       "9   WT-Glu-R1   WP_005263480_1    13   15.584245   CPM\n",
       "10  WT-Glu-R2   WP_005263480_1    13   22.444427   CPM\n",
       "11  WT-Glu-R3   WP_005263480_1    13   20.433310   CPM\n",
       "63  WT-Glu-R1   WP_005249107_1    13  219.798570   CPM\n",
       "64  WT-Glu-R2   WP_005249107_1    13  328.518773   CPM"
      ]
     },
     "metadata": {},
     "output_type": "display_data"
    }
   ],
   "source": [
    "transcript_df = pd.read_csv('../data/transcripts/csv/henson_CPM_melted.csv')\n",
    "\n",
    "# isolate wildtype glucose data\n",
    "transcript_df = transcript_df[transcript_df['Line Name'].str.contains(\"WT-Glu\")]\n",
    "\n",
    "# separate data from different time points\n",
    "transcript_df_T1 = transcript_df[transcript_df['Time'] == 10]\n",
    "transcript_df_T2 = transcript_df[transcript_df['Time'] == 13]\n",
    "\n",
    "# preview data\n",
    "display(transcript_df_T1.head())\n",
    "display(transcript_df_T2.head())"
   ]
  },
  {
   "cell_type": "markdown",
   "id": "19a8726c-0406-42a8-be21-1562544502d3",
   "metadata": {},
   "source": [
    "#### **Run EFlux2 for Each Condition**"
   ]
  },
  {
   "cell_type": "code",
   "execution_count": 4,
   "id": "bd8797c3-f74c-4507-8d25-42f1ec098717",
   "metadata": {},
   "outputs": [
    {
     "name": "stdout",
     "output_type": "stream",
     "text": [
      "glucose_eflux_t1_1\n",
      "FBA status optimal\n",
      "FBA solution 4.486259051815459\n"
     ]
    },
    {
     "data": {
      "text/plain": [
       "<optlang.cplex_interface.Objective at 0x7fa3c8557410>"
      ]
     },
     "metadata": {},
     "output_type": "display_data"
    },
    {
     "data": {
      "text/plain": [
       "{'EX_ca2_e': 1000.0,\n",
       " 'EX_cl_e': 1000.0,\n",
       " 'EX_cobalt2_e': 1000.0,\n",
       " 'EX_cu2_e': 1000.0,\n",
       " 'EX_fe2_e': 1000.0,\n",
       " 'EX_fe3_e': 1000.0,\n",
       " 'EX_glc__D_e': 1000.0,\n",
       " 'EX_h2o_e': 1000.0,\n",
       " 'EX_h_e': 1000.0,\n",
       " 'EX_k_e': 1000.0,\n",
       " 'EX_mg2_e': 1000.0,\n",
       " 'EX_mn2_e': 1000.0,\n",
       " 'EX_mobd_e': 1000.0,\n",
       " 'EX_nh4_e': 1000.0,\n",
       " 'EX_o2_e': 1000.0,\n",
       " 'EX_pi_e': 1000.0,\n",
       " 'EX_so4_e': 1000.0,\n",
       " 'EX_zn2_e': 1000.0}"
      ]
     },
     "metadata": {},
     "output_type": "display_data"
    },
    {
     "name": "stderr",
     "output_type": "stream",
     "text": [
      "cobra/util/solver.py:416 \u001b[1;31mUserWarning\u001b[0m: solver status is 'infeasible'\n"
     ]
    },
    {
     "name": "stdout",
     "output_type": "stream",
     "text": [
      "EFlux2 status infeasible\n",
      "EFlux2 solution 2118327.1302549117\n",
      "glucose_eflux_t1_2\n",
      "FBA status optimal\n",
      "FBA solution 5.659970353495425\n"
     ]
    },
    {
     "data": {
      "text/plain": [
       "<optlang.cplex_interface.Objective at 0x7fa3be299d10>"
      ]
     },
     "metadata": {},
     "output_type": "display_data"
    },
    {
     "data": {
      "text/plain": [
       "{'EX_ca2_e': 1000.0,\n",
       " 'EX_cl_e': 1000.0,\n",
       " 'EX_cobalt2_e': 1000.0,\n",
       " 'EX_cu2_e': 1000.0,\n",
       " 'EX_fe2_e': 1000.0,\n",
       " 'EX_fe3_e': 1000.0,\n",
       " 'EX_glc__D_e': 1000.0,\n",
       " 'EX_h2o_e': 1000.0,\n",
       " 'EX_h_e': 1000.0,\n",
       " 'EX_k_e': 1000.0,\n",
       " 'EX_mg2_e': 1000.0,\n",
       " 'EX_mn2_e': 1000.0,\n",
       " 'EX_mobd_e': 1000.0,\n",
       " 'EX_nh4_e': 1000.0,\n",
       " 'EX_o2_e': 1000.0,\n",
       " 'EX_pi_e': 1000.0,\n",
       " 'EX_so4_e': 1000.0,\n",
       " 'EX_zn2_e': 1000.0}"
      ]
     },
     "metadata": {},
     "output_type": "display_data"
    },
    {
     "name": "stdout",
     "output_type": "stream",
     "text": [
      "EFlux2 status infeasible\n",
      "EFlux2 solution 5225758.379350671\n",
      "glucose_eflux_t1_3\n",
      "FBA status optimal\n",
      "FBA solution 4.773732727995189\n"
     ]
    },
    {
     "data": {
      "text/plain": [
       "<optlang.cplex_interface.Objective at 0x7fa3affaf6d0>"
      ]
     },
     "metadata": {},
     "output_type": "display_data"
    },
    {
     "data": {
      "text/plain": [
       "{'EX_ca2_e': 1000.0,\n",
       " 'EX_cl_e': 1000.0,\n",
       " 'EX_cobalt2_e': 1000.0,\n",
       " 'EX_cu2_e': 1000.0,\n",
       " 'EX_fe2_e': 1000.0,\n",
       " 'EX_fe3_e': 1000.0,\n",
       " 'EX_glc__D_e': 1000.0,\n",
       " 'EX_h2o_e': 1000.0,\n",
       " 'EX_h_e': 1000.0,\n",
       " 'EX_k_e': 1000.0,\n",
       " 'EX_mg2_e': 1000.0,\n",
       " 'EX_mn2_e': 1000.0,\n",
       " 'EX_mobd_e': 1000.0,\n",
       " 'EX_nh4_e': 1000.0,\n",
       " 'EX_o2_e': 1000.0,\n",
       " 'EX_pi_e': 1000.0,\n",
       " 'EX_so4_e': 1000.0,\n",
       " 'EX_zn2_e': 1000.0}"
      ]
     },
     "metadata": {},
     "output_type": "display_data"
    },
    {
     "name": "stdout",
     "output_type": "stream",
     "text": [
      "EFlux2 status optimal\n",
      "EFlux2 solution 2156997.8698322186\n",
      "glucose_eflux_t2_1\n",
      "FBA status optimal\n",
      "FBA solution 5.449962846220861\n"
     ]
    },
    {
     "data": {
      "text/plain": [
       "<optlang.cplex_interface.Objective at 0x7fa3aa57ef90>"
      ]
     },
     "metadata": {},
     "output_type": "display_data"
    },
    {
     "data": {
      "text/plain": [
       "{'EX_ca2_e': 1000.0,\n",
       " 'EX_cl_e': 1000.0,\n",
       " 'EX_cobalt2_e': 1000.0,\n",
       " 'EX_cu2_e': 1000.0,\n",
       " 'EX_fe2_e': 1000.0,\n",
       " 'EX_fe3_e': 1000.0,\n",
       " 'EX_glc__D_e': 1000.0,\n",
       " 'EX_h2o_e': 1000.0,\n",
       " 'EX_h_e': 1000.0,\n",
       " 'EX_k_e': 1000.0,\n",
       " 'EX_mg2_e': 1000.0,\n",
       " 'EX_mn2_e': 1000.0,\n",
       " 'EX_mobd_e': 1000.0,\n",
       " 'EX_nh4_e': 1000.0,\n",
       " 'EX_o2_e': 1000.0,\n",
       " 'EX_pi_e': 1000.0,\n",
       " 'EX_so4_e': 1000.0,\n",
       " 'EX_zn2_e': 1000.0}"
      ]
     },
     "metadata": {},
     "output_type": "display_data"
    },
    {
     "name": "stdout",
     "output_type": "stream",
     "text": [
      "EFlux2 status infeasible\n",
      "EFlux2 solution 4686564.305391339\n",
      "glucose_eflux_t2_2\n",
      "FBA status optimal\n",
      "FBA solution 5.863649535600088\n"
     ]
    },
    {
     "data": {
      "text/plain": [
       "<optlang.cplex_interface.Objective at 0x7fa3af909110>"
      ]
     },
     "metadata": {},
     "output_type": "display_data"
    },
    {
     "data": {
      "text/plain": [
       "{'EX_ca2_e': 1000.0,\n",
       " 'EX_cl_e': 1000.0,\n",
       " 'EX_cobalt2_e': 1000.0,\n",
       " 'EX_cu2_e': 1000.0,\n",
       " 'EX_fe2_e': 1000.0,\n",
       " 'EX_fe3_e': 1000.0,\n",
       " 'EX_glc__D_e': 1000.0,\n",
       " 'EX_h2o_e': 1000.0,\n",
       " 'EX_h_e': 1000.0,\n",
       " 'EX_k_e': 1000.0,\n",
       " 'EX_mg2_e': 1000.0,\n",
       " 'EX_mn2_e': 1000.0,\n",
       " 'EX_mobd_e': 1000.0,\n",
       " 'EX_nh4_e': 1000.0,\n",
       " 'EX_o2_e': 1000.0,\n",
       " 'EX_pi_e': 1000.0,\n",
       " 'EX_so4_e': 1000.0,\n",
       " 'EX_zn2_e': 1000.0}"
      ]
     },
     "metadata": {},
     "output_type": "display_data"
    },
    {
     "name": "stdout",
     "output_type": "stream",
     "text": [
      "EFlux2 status optimal\n",
      "EFlux2 solution 3472726.738958462\n",
      "glucose_eflux_t2_3\n",
      "FBA status optimal\n",
      "FBA solution 7.160901262016411\n"
     ]
    },
    {
     "data": {
      "text/plain": [
       "<optlang.cplex_interface.Objective at 0x7fa3964fb950>"
      ]
     },
     "metadata": {},
     "output_type": "display_data"
    },
    {
     "data": {
      "text/plain": [
       "{'EX_ca2_e': 1000.0,\n",
       " 'EX_cl_e': 1000.0,\n",
       " 'EX_cobalt2_e': 1000.0,\n",
       " 'EX_cu2_e': 1000.0,\n",
       " 'EX_fe2_e': 1000.0,\n",
       " 'EX_fe3_e': 1000.0,\n",
       " 'EX_glc__D_e': 1000.0,\n",
       " 'EX_h2o_e': 1000.0,\n",
       " 'EX_h_e': 1000.0,\n",
       " 'EX_k_e': 1000.0,\n",
       " 'EX_mg2_e': 1000.0,\n",
       " 'EX_mn2_e': 1000.0,\n",
       " 'EX_mobd_e': 1000.0,\n",
       " 'EX_nh4_e': 1000.0,\n",
       " 'EX_o2_e': 1000.0,\n",
       " 'EX_pi_e': 1000.0,\n",
       " 'EX_so4_e': 1000.0,\n",
       " 'EX_zn2_e': 1000.0}"
      ]
     },
     "metadata": {},
     "output_type": "display_data"
    },
    {
     "name": "stdout",
     "output_type": "stream",
     "text": [
      "EFlux2 status optimal\n",
      "EFlux2 solution 5838880.895318156\n"
     ]
    }
   ],
   "source": [
    "# create dictionary to hold eflux solutions\n",
    "eflux_solutions = {}\n",
    "\n",
    "# loop over trials\n",
    "for time in ['T1', 'T2']:\n",
    "    for trial in ['WT-Glu-R1', 'WT-Glu-R2','WT-Glu-R3']:\n",
    "        \n",
    "        # display trial name\n",
    "        trial_number = trial.split('-R')[1]\n",
    "        trial_name = f'glucose_eflux_{time.lower()}_{trial_number}'\n",
    "        print(trial_name)\n",
    "        \n",
    "        # get the data for that trial\n",
    "        transcriptomics = []\n",
    "        if time == 'T1':\n",
    "            transcriptomics = transcript_df_T1[transcript_df_T1['Line Name'] == trial]\n",
    "        else:\n",
    "            transcriptomics = transcript_df_T2[transcript_df_T2['Line Name'] == trial]\n",
    "\n",
    "        # map the transcripts to genome scale reactions\n",
    "        trans_data = construct_trans_df(transcriptomics, trial)\n",
    "        \n",
    "        # run eflux to get genome scale fluxes\n",
    "        eflux2_sol = eflux2_pred(model, trans_data, trial, 'glucose', sub_uptake_rate=100)\n",
    "        \n",
    "        # add eflux solution to dictionary\n",
    "        eflux_solutions[trial_name] = eflux2_sol"
   ]
  },
  {
   "cell_type": "markdown",
   "id": "f0ee673b-8e0c-4078-b520-94a21715db1c",
   "metadata": {},
   "source": [
    "#### **Save Glucose E-Flux2 Genome Scale Fluxes**"
   ]
  },
  {
   "cell_type": "code",
   "execution_count": 5,
   "id": "a1434928-6dfc-44dd-8835-bed80302583c",
   "metadata": {},
   "outputs": [
    {
     "data": {
      "text/html": [
       "<div>\n",
       "<style scoped>\n",
       "    .dataframe tbody tr th:only-of-type {\n",
       "        vertical-align: middle;\n",
       "    }\n",
       "\n",
       "    .dataframe tbody tr th {\n",
       "        vertical-align: top;\n",
       "    }\n",
       "\n",
       "    .dataframe thead th {\n",
       "        text-align: right;\n",
       "    }\n",
       "</style>\n",
       "<table border=\"1\" class=\"dataframe\">\n",
       "  <thead>\n",
       "    <tr style=\"text-align: right;\">\n",
       "      <th></th>\n",
       "      <th>reaction_id</th>\n",
       "      <th>reaction_name</th>\n",
       "      <th>reaction_reaction</th>\n",
       "      <th>flux</th>\n",
       "    </tr>\n",
       "  </thead>\n",
       "  <tbody>\n",
       "    <tr>\n",
       "      <th>0</th>\n",
       "      <td>12DGR140tipp</td>\n",
       "      <td>1,2 diacylglycerol transport via flipping (per...</td>\n",
       "      <td>12dgr140_p --&gt; 12dgr140_c</td>\n",
       "      <td>0.0</td>\n",
       "    </tr>\n",
       "    <tr>\n",
       "      <th>1</th>\n",
       "      <td>13PPDH</td>\n",
       "      <td>1,3-propanediol dehydrogenase</td>\n",
       "      <td>3hppnl_c + h_c + nadh_c &lt;=&gt; 13ppd_c + nad_c</td>\n",
       "      <td>0.0</td>\n",
       "    </tr>\n",
       "    <tr>\n",
       "      <th>2</th>\n",
       "      <td>1P2CBXLCYCL</td>\n",
       "      <td>1 Pyrroline 2 carboxylate cyclation</td>\n",
       "      <td>5a2opntn_c &lt;=&gt; 1p2cbxl_c + h2o_c + h_c</td>\n",
       "      <td>0.0</td>\n",
       "    </tr>\n",
       "    <tr>\n",
       "      <th>3</th>\n",
       "      <td>1P2CBXLR</td>\n",
       "      <td>Delta1 piperideine 2 carboxylate reductase</td>\n",
       "      <td>1p2cbxl_c + 2.0 h_c + nadph_c --&gt; nadp_c + pro...</td>\n",
       "      <td>0.0</td>\n",
       "    </tr>\n",
       "    <tr>\n",
       "      <th>4</th>\n",
       "      <td>23CTI1</td>\n",
       "      <td>Decenyl coa cis trans isomerization  cis dec 3...</td>\n",
       "      <td>decoa_c --&gt; dc2coa_c + h_c</td>\n",
       "      <td>0.0</td>\n",
       "    </tr>\n",
       "  </tbody>\n",
       "</table>\n",
       "</div>"
      ],
      "text/plain": [
       "    reaction_id                                      reaction_name  \\\n",
       "0  12DGR140tipp  1,2 diacylglycerol transport via flipping (per...   \n",
       "1        13PPDH                      1,3-propanediol dehydrogenase   \n",
       "2   1P2CBXLCYCL                1 Pyrroline 2 carboxylate cyclation   \n",
       "3      1P2CBXLR         Delta1 piperideine 2 carboxylate reductase   \n",
       "4        23CTI1  Decenyl coa cis trans isomerization  cis dec 3...   \n",
       "\n",
       "                                   reaction_reaction  flux  \n",
       "0                          12dgr140_p --> 12dgr140_c   0.0  \n",
       "1        3hppnl_c + h_c + nadh_c <=> 13ppd_c + nad_c   0.0  \n",
       "2             5a2opntn_c <=> 1p2cbxl_c + h2o_c + h_c   0.0  \n",
       "3  1p2cbxl_c + 2.0 h_c + nadph_c --> nadp_c + pro...   0.0  \n",
       "4                         decoa_c --> dc2coa_c + h_c   0.0  "
      ]
     },
     "metadata": {},
     "output_type": "display_data"
    },
    {
     "data": {
      "text/html": [
       "<div>\n",
       "<style scoped>\n",
       "    .dataframe tbody tr th:only-of-type {\n",
       "        vertical-align: middle;\n",
       "    }\n",
       "\n",
       "    .dataframe tbody tr th {\n",
       "        vertical-align: top;\n",
       "    }\n",
       "\n",
       "    .dataframe thead th {\n",
       "        text-align: right;\n",
       "    }\n",
       "</style>\n",
       "<table border=\"1\" class=\"dataframe\">\n",
       "  <thead>\n",
       "    <tr style=\"text-align: right;\">\n",
       "      <th></th>\n",
       "      <th>reaction_id</th>\n",
       "      <th>reaction_name</th>\n",
       "      <th>reaction_reaction</th>\n",
       "      <th>flux</th>\n",
       "    </tr>\n",
       "  </thead>\n",
       "  <tbody>\n",
       "    <tr>\n",
       "      <th>0</th>\n",
       "      <td>12DGR140tipp</td>\n",
       "      <td>1,2 diacylglycerol transport via flipping (per...</td>\n",
       "      <td>12dgr140_p --&gt; 12dgr140_c</td>\n",
       "      <td>0.0</td>\n",
       "    </tr>\n",
       "    <tr>\n",
       "      <th>1</th>\n",
       "      <td>13PPDH</td>\n",
       "      <td>1,3-propanediol dehydrogenase</td>\n",
       "      <td>3hppnl_c + h_c + nadh_c &lt;=&gt; 13ppd_c + nad_c</td>\n",
       "      <td>0.0</td>\n",
       "    </tr>\n",
       "    <tr>\n",
       "      <th>2</th>\n",
       "      <td>1P2CBXLCYCL</td>\n",
       "      <td>1 Pyrroline 2 carboxylate cyclation</td>\n",
       "      <td>5a2opntn_c &lt;=&gt; 1p2cbxl_c + h2o_c + h_c</td>\n",
       "      <td>0.0</td>\n",
       "    </tr>\n",
       "    <tr>\n",
       "      <th>3</th>\n",
       "      <td>1P2CBXLR</td>\n",
       "      <td>Delta1 piperideine 2 carboxylate reductase</td>\n",
       "      <td>1p2cbxl_c + 2.0 h_c + nadph_c --&gt; nadp_c + pro...</td>\n",
       "      <td>0.0</td>\n",
       "    </tr>\n",
       "    <tr>\n",
       "      <th>4</th>\n",
       "      <td>23CTI1</td>\n",
       "      <td>Decenyl coa cis trans isomerization  cis dec 3...</td>\n",
       "      <td>decoa_c --&gt; dc2coa_c + h_c</td>\n",
       "      <td>0.0</td>\n",
       "    </tr>\n",
       "  </tbody>\n",
       "</table>\n",
       "</div>"
      ],
      "text/plain": [
       "    reaction_id                                      reaction_name  \\\n",
       "0  12DGR140tipp  1,2 diacylglycerol transport via flipping (per...   \n",
       "1        13PPDH                      1,3-propanediol dehydrogenase   \n",
       "2   1P2CBXLCYCL                1 Pyrroline 2 carboxylate cyclation   \n",
       "3      1P2CBXLR         Delta1 piperideine 2 carboxylate reductase   \n",
       "4        23CTI1  Decenyl coa cis trans isomerization  cis dec 3...   \n",
       "\n",
       "                                   reaction_reaction  flux  \n",
       "0                          12dgr140_p --> 12dgr140_c   0.0  \n",
       "1        3hppnl_c + h_c + nadh_c <=> 13ppd_c + nad_c   0.0  \n",
       "2             5a2opntn_c <=> 1p2cbxl_c + h2o_c + h_c   0.0  \n",
       "3  1p2cbxl_c + 2.0 h_c + nadph_c --> nadp_c + pro...   0.0  \n",
       "4                         decoa_c --> dc2coa_c + h_c   0.0  "
      ]
     },
     "metadata": {},
     "output_type": "display_data"
    },
    {
     "data": {
      "text/html": [
       "<div>\n",
       "<style scoped>\n",
       "    .dataframe tbody tr th:only-of-type {\n",
       "        vertical-align: middle;\n",
       "    }\n",
       "\n",
       "    .dataframe tbody tr th {\n",
       "        vertical-align: top;\n",
       "    }\n",
       "\n",
       "    .dataframe thead th {\n",
       "        text-align: right;\n",
       "    }\n",
       "</style>\n",
       "<table border=\"1\" class=\"dataframe\">\n",
       "  <thead>\n",
       "    <tr style=\"text-align: right;\">\n",
       "      <th></th>\n",
       "      <th>reaction_id</th>\n",
       "      <th>reaction_name</th>\n",
       "      <th>reaction_reaction</th>\n",
       "      <th>flux</th>\n",
       "    </tr>\n",
       "  </thead>\n",
       "  <tbody>\n",
       "    <tr>\n",
       "      <th>0</th>\n",
       "      <td>12DGR140tipp</td>\n",
       "      <td>1,2 diacylglycerol transport via flipping (per...</td>\n",
       "      <td>12dgr140_p --&gt; 12dgr140_c</td>\n",
       "      <td>0.0</td>\n",
       "    </tr>\n",
       "    <tr>\n",
       "      <th>1</th>\n",
       "      <td>13PPDH</td>\n",
       "      <td>1,3-propanediol dehydrogenase</td>\n",
       "      <td>3hppnl_c + h_c + nadh_c &lt;=&gt; 13ppd_c + nad_c</td>\n",
       "      <td>0.0</td>\n",
       "    </tr>\n",
       "    <tr>\n",
       "      <th>2</th>\n",
       "      <td>1P2CBXLCYCL</td>\n",
       "      <td>1 Pyrroline 2 carboxylate cyclation</td>\n",
       "      <td>5a2opntn_c &lt;=&gt; 1p2cbxl_c + h2o_c + h_c</td>\n",
       "      <td>0.0</td>\n",
       "    </tr>\n",
       "    <tr>\n",
       "      <th>3</th>\n",
       "      <td>1P2CBXLR</td>\n",
       "      <td>Delta1 piperideine 2 carboxylate reductase</td>\n",
       "      <td>1p2cbxl_c + 2.0 h_c + nadph_c --&gt; nadp_c + pro...</td>\n",
       "      <td>0.0</td>\n",
       "    </tr>\n",
       "    <tr>\n",
       "      <th>4</th>\n",
       "      <td>23CTI1</td>\n",
       "      <td>Decenyl coa cis trans isomerization  cis dec 3...</td>\n",
       "      <td>decoa_c --&gt; dc2coa_c + h_c</td>\n",
       "      <td>0.0</td>\n",
       "    </tr>\n",
       "  </tbody>\n",
       "</table>\n",
       "</div>"
      ],
      "text/plain": [
       "    reaction_id                                      reaction_name  \\\n",
       "0  12DGR140tipp  1,2 diacylglycerol transport via flipping (per...   \n",
       "1        13PPDH                      1,3-propanediol dehydrogenase   \n",
       "2   1P2CBXLCYCL                1 Pyrroline 2 carboxylate cyclation   \n",
       "3      1P2CBXLR         Delta1 piperideine 2 carboxylate reductase   \n",
       "4        23CTI1  Decenyl coa cis trans isomerization  cis dec 3...   \n",
       "\n",
       "                                   reaction_reaction  flux  \n",
       "0                          12dgr140_p --> 12dgr140_c   0.0  \n",
       "1        3hppnl_c + h_c + nadh_c <=> 13ppd_c + nad_c   0.0  \n",
       "2             5a2opntn_c <=> 1p2cbxl_c + h2o_c + h_c   0.0  \n",
       "3  1p2cbxl_c + 2.0 h_c + nadph_c --> nadp_c + pro...   0.0  \n",
       "4                         decoa_c --> dc2coa_c + h_c   0.0  "
      ]
     },
     "metadata": {},
     "output_type": "display_data"
    },
    {
     "data": {
      "text/html": [
       "<div>\n",
       "<style scoped>\n",
       "    .dataframe tbody tr th:only-of-type {\n",
       "        vertical-align: middle;\n",
       "    }\n",
       "\n",
       "    .dataframe tbody tr th {\n",
       "        vertical-align: top;\n",
       "    }\n",
       "\n",
       "    .dataframe thead th {\n",
       "        text-align: right;\n",
       "    }\n",
       "</style>\n",
       "<table border=\"1\" class=\"dataframe\">\n",
       "  <thead>\n",
       "    <tr style=\"text-align: right;\">\n",
       "      <th></th>\n",
       "      <th>reaction_id</th>\n",
       "      <th>reaction_name</th>\n",
       "      <th>reaction_reaction</th>\n",
       "      <th>flux</th>\n",
       "    </tr>\n",
       "  </thead>\n",
       "  <tbody>\n",
       "    <tr>\n",
       "      <th>0</th>\n",
       "      <td>12DGR140tipp</td>\n",
       "      <td>1,2 diacylglycerol transport via flipping (per...</td>\n",
       "      <td>12dgr140_p --&gt; 12dgr140_c</td>\n",
       "      <td>0.00000</td>\n",
       "    </tr>\n",
       "    <tr>\n",
       "      <th>1</th>\n",
       "      <td>13PPDH</td>\n",
       "      <td>1,3-propanediol dehydrogenase</td>\n",
       "      <td>3hppnl_c + h_c + nadh_c &lt;=&gt; 13ppd_c + nad_c</td>\n",
       "      <td>0.00000</td>\n",
       "    </tr>\n",
       "    <tr>\n",
       "      <th>2</th>\n",
       "      <td>1P2CBXLCYCL</td>\n",
       "      <td>1 Pyrroline 2 carboxylate cyclation</td>\n",
       "      <td>5a2opntn_c &lt;=&gt; 1p2cbxl_c + h2o_c + h_c</td>\n",
       "      <td>0.00000</td>\n",
       "    </tr>\n",
       "    <tr>\n",
       "      <th>3</th>\n",
       "      <td>1P2CBXLR</td>\n",
       "      <td>Delta1 piperideine 2 carboxylate reductase</td>\n",
       "      <td>1p2cbxl_c + 2.0 h_c + nadph_c --&gt; nadp_c + pro...</td>\n",
       "      <td>1.41675</td>\n",
       "    </tr>\n",
       "    <tr>\n",
       "      <th>4</th>\n",
       "      <td>23CTI1</td>\n",
       "      <td>Decenyl coa cis trans isomerization  cis dec 3...</td>\n",
       "      <td>decoa_c --&gt; dc2coa_c + h_c</td>\n",
       "      <td>0.00000</td>\n",
       "    </tr>\n",
       "  </tbody>\n",
       "</table>\n",
       "</div>"
      ],
      "text/plain": [
       "    reaction_id                                      reaction_name  \\\n",
       "0  12DGR140tipp  1,2 diacylglycerol transport via flipping (per...   \n",
       "1        13PPDH                      1,3-propanediol dehydrogenase   \n",
       "2   1P2CBXLCYCL                1 Pyrroline 2 carboxylate cyclation   \n",
       "3      1P2CBXLR         Delta1 piperideine 2 carboxylate reductase   \n",
       "4        23CTI1  Decenyl coa cis trans isomerization  cis dec 3...   \n",
       "\n",
       "                                   reaction_reaction     flux  \n",
       "0                          12dgr140_p --> 12dgr140_c  0.00000  \n",
       "1        3hppnl_c + h_c + nadh_c <=> 13ppd_c + nad_c  0.00000  \n",
       "2             5a2opntn_c <=> 1p2cbxl_c + h2o_c + h_c  0.00000  \n",
       "3  1p2cbxl_c + 2.0 h_c + nadph_c --> nadp_c + pro...  1.41675  \n",
       "4                         decoa_c --> dc2coa_c + h_c  0.00000  "
      ]
     },
     "metadata": {},
     "output_type": "display_data"
    },
    {
     "data": {
      "text/html": [
       "<div>\n",
       "<style scoped>\n",
       "    .dataframe tbody tr th:only-of-type {\n",
       "        vertical-align: middle;\n",
       "    }\n",
       "\n",
       "    .dataframe tbody tr th {\n",
       "        vertical-align: top;\n",
       "    }\n",
       "\n",
       "    .dataframe thead th {\n",
       "        text-align: right;\n",
       "    }\n",
       "</style>\n",
       "<table border=\"1\" class=\"dataframe\">\n",
       "  <thead>\n",
       "    <tr style=\"text-align: right;\">\n",
       "      <th></th>\n",
       "      <th>reaction_id</th>\n",
       "      <th>reaction_name</th>\n",
       "      <th>reaction_reaction</th>\n",
       "      <th>flux</th>\n",
       "    </tr>\n",
       "  </thead>\n",
       "  <tbody>\n",
       "    <tr>\n",
       "      <th>0</th>\n",
       "      <td>12DGR140tipp</td>\n",
       "      <td>1,2 diacylglycerol transport via flipping (per...</td>\n",
       "      <td>12dgr140_p --&gt; 12dgr140_c</td>\n",
       "      <td>0.0</td>\n",
       "    </tr>\n",
       "    <tr>\n",
       "      <th>1</th>\n",
       "      <td>13PPDH</td>\n",
       "      <td>1,3-propanediol dehydrogenase</td>\n",
       "      <td>3hppnl_c + h_c + nadh_c &lt;=&gt; 13ppd_c + nad_c</td>\n",
       "      <td>0.0</td>\n",
       "    </tr>\n",
       "    <tr>\n",
       "      <th>2</th>\n",
       "      <td>1P2CBXLCYCL</td>\n",
       "      <td>1 Pyrroline 2 carboxylate cyclation</td>\n",
       "      <td>5a2opntn_c &lt;=&gt; 1p2cbxl_c + h2o_c + h_c</td>\n",
       "      <td>0.0</td>\n",
       "    </tr>\n",
       "    <tr>\n",
       "      <th>3</th>\n",
       "      <td>1P2CBXLR</td>\n",
       "      <td>Delta1 piperideine 2 carboxylate reductase</td>\n",
       "      <td>1p2cbxl_c + 2.0 h_c + nadph_c --&gt; nadp_c + pro...</td>\n",
       "      <td>0.0</td>\n",
       "    </tr>\n",
       "    <tr>\n",
       "      <th>4</th>\n",
       "      <td>23CTI1</td>\n",
       "      <td>Decenyl coa cis trans isomerization  cis dec 3...</td>\n",
       "      <td>decoa_c --&gt; dc2coa_c + h_c</td>\n",
       "      <td>0.0</td>\n",
       "    </tr>\n",
       "  </tbody>\n",
       "</table>\n",
       "</div>"
      ],
      "text/plain": [
       "    reaction_id                                      reaction_name  \\\n",
       "0  12DGR140tipp  1,2 diacylglycerol transport via flipping (per...   \n",
       "1        13PPDH                      1,3-propanediol dehydrogenase   \n",
       "2   1P2CBXLCYCL                1 Pyrroline 2 carboxylate cyclation   \n",
       "3      1P2CBXLR         Delta1 piperideine 2 carboxylate reductase   \n",
       "4        23CTI1  Decenyl coa cis trans isomerization  cis dec 3...   \n",
       "\n",
       "                                   reaction_reaction  flux  \n",
       "0                          12dgr140_p --> 12dgr140_c   0.0  \n",
       "1        3hppnl_c + h_c + nadh_c <=> 13ppd_c + nad_c   0.0  \n",
       "2             5a2opntn_c <=> 1p2cbxl_c + h2o_c + h_c   0.0  \n",
       "3  1p2cbxl_c + 2.0 h_c + nadph_c --> nadp_c + pro...   0.0  \n",
       "4                         decoa_c --> dc2coa_c + h_c   0.0  "
      ]
     },
     "metadata": {},
     "output_type": "display_data"
    },
    {
     "data": {
      "text/html": [
       "<div>\n",
       "<style scoped>\n",
       "    .dataframe tbody tr th:only-of-type {\n",
       "        vertical-align: middle;\n",
       "    }\n",
       "\n",
       "    .dataframe tbody tr th {\n",
       "        vertical-align: top;\n",
       "    }\n",
       "\n",
       "    .dataframe thead th {\n",
       "        text-align: right;\n",
       "    }\n",
       "</style>\n",
       "<table border=\"1\" class=\"dataframe\">\n",
       "  <thead>\n",
       "    <tr style=\"text-align: right;\">\n",
       "      <th></th>\n",
       "      <th>reaction_id</th>\n",
       "      <th>reaction_name</th>\n",
       "      <th>reaction_reaction</th>\n",
       "      <th>flux</th>\n",
       "    </tr>\n",
       "  </thead>\n",
       "  <tbody>\n",
       "    <tr>\n",
       "      <th>0</th>\n",
       "      <td>12DGR140tipp</td>\n",
       "      <td>1,2 diacylglycerol transport via flipping (per...</td>\n",
       "      <td>12dgr140_p --&gt; 12dgr140_c</td>\n",
       "      <td>0.0</td>\n",
       "    </tr>\n",
       "    <tr>\n",
       "      <th>1</th>\n",
       "      <td>13PPDH</td>\n",
       "      <td>1,3-propanediol dehydrogenase</td>\n",
       "      <td>3hppnl_c + h_c + nadh_c &lt;=&gt; 13ppd_c + nad_c</td>\n",
       "      <td>0.0</td>\n",
       "    </tr>\n",
       "    <tr>\n",
       "      <th>2</th>\n",
       "      <td>1P2CBXLCYCL</td>\n",
       "      <td>1 Pyrroline 2 carboxylate cyclation</td>\n",
       "      <td>5a2opntn_c &lt;=&gt; 1p2cbxl_c + h2o_c + h_c</td>\n",
       "      <td>0.0</td>\n",
       "    </tr>\n",
       "    <tr>\n",
       "      <th>3</th>\n",
       "      <td>1P2CBXLR</td>\n",
       "      <td>Delta1 piperideine 2 carboxylate reductase</td>\n",
       "      <td>1p2cbxl_c + 2.0 h_c + nadph_c --&gt; nadp_c + pro...</td>\n",
       "      <td>0.0</td>\n",
       "    </tr>\n",
       "    <tr>\n",
       "      <th>4</th>\n",
       "      <td>23CTI1</td>\n",
       "      <td>Decenyl coa cis trans isomerization  cis dec 3...</td>\n",
       "      <td>decoa_c --&gt; dc2coa_c + h_c</td>\n",
       "      <td>0.0</td>\n",
       "    </tr>\n",
       "  </tbody>\n",
       "</table>\n",
       "</div>"
      ],
      "text/plain": [
       "    reaction_id                                      reaction_name  \\\n",
       "0  12DGR140tipp  1,2 diacylglycerol transport via flipping (per...   \n",
       "1        13PPDH                      1,3-propanediol dehydrogenase   \n",
       "2   1P2CBXLCYCL                1 Pyrroline 2 carboxylate cyclation   \n",
       "3      1P2CBXLR         Delta1 piperideine 2 carboxylate reductase   \n",
       "4        23CTI1  Decenyl coa cis trans isomerization  cis dec 3...   \n",
       "\n",
       "                                   reaction_reaction  flux  \n",
       "0                          12dgr140_p --> 12dgr140_c   0.0  \n",
       "1        3hppnl_c + h_c + nadh_c <=> 13ppd_c + nad_c   0.0  \n",
       "2             5a2opntn_c <=> 1p2cbxl_c + h2o_c + h_c   0.0  \n",
       "3  1p2cbxl_c + 2.0 h_c + nadph_c --> nadp_c + pro...   0.0  \n",
       "4                         decoa_c --> dc2coa_c + h_c   0.0  "
      ]
     },
     "metadata": {},
     "output_type": "display_data"
    }
   ],
   "source": [
    "# loop over solution dictionary. Convert the flux solutions to \n",
    "for trial_name, flux_solution in eflux_solutions.items():\n",
    "\n",
    "    flux_df = flux_solution_to_df(model, flux_solution)\n",
    "    flux_df.to_csv(f'../data/genome_scale_fluxes/{trial_name}.csv', index=False)\n",
    "\n",
    "    display(flux_df.head(5))"
   ]
  },
  {
   "cell_type": "markdown",
   "id": "e00a0144-8d64-4b44-b6fb-06b9759c903b",
   "metadata": {},
   "source": [
    "#### **Get average and standard deviation of genome scale fluxes**"
   ]
  },
  {
   "cell_type": "code",
   "execution_count": 37,
   "id": "f4b41677-a514-4264-99ce-9c8919546264",
   "metadata": {},
   "outputs": [
    {
     "data": {
      "text/html": [
       "<div>\n",
       "<style scoped>\n",
       "    .dataframe tbody tr th:only-of-type {\n",
       "        vertical-align: middle;\n",
       "    }\n",
       "\n",
       "    .dataframe tbody tr th {\n",
       "        vertical-align: top;\n",
       "    }\n",
       "\n",
       "    .dataframe thead th {\n",
       "        text-align: right;\n",
       "    }\n",
       "</style>\n",
       "<table border=\"1\" class=\"dataframe\">\n",
       "  <thead>\n",
       "    <tr style=\"text-align: right;\">\n",
       "      <th></th>\n",
       "      <th>fluxes</th>\n",
       "    </tr>\n",
       "  </thead>\n",
       "  <tbody>\n",
       "    <tr>\n",
       "      <th>12DGR140tipp</th>\n",
       "      <td>0.000000</td>\n",
       "    </tr>\n",
       "    <tr>\n",
       "      <th>13PPDH</th>\n",
       "      <td>0.000000</td>\n",
       "    </tr>\n",
       "    <tr>\n",
       "      <th>1P2CBXLCYCL</th>\n",
       "      <td>0.000000</td>\n",
       "    </tr>\n",
       "    <tr>\n",
       "      <th>1P2CBXLR</th>\n",
       "      <td>0.236125</td>\n",
       "    </tr>\n",
       "    <tr>\n",
       "      <th>23CTI1</th>\n",
       "      <td>0.000000</td>\n",
       "    </tr>\n",
       "  </tbody>\n",
       "</table>\n",
       "</div>"
      ],
      "text/plain": [
       "                fluxes\n",
       "12DGR140tipp  0.000000\n",
       "13PPDH        0.000000\n",
       "1P2CBXLCYCL   0.000000\n",
       "1P2CBXLR      0.236125\n",
       "23CTI1        0.000000"
      ]
     },
     "execution_count": 37,
     "metadata": {},
     "output_type": "execute_result"
    }
   ],
   "source": [
    "# can curate trials to use\n",
    "relevant_trials = [\n",
    "    'glucose_eflux_t1_1', \n",
    "    'glucose_eflux_t1_2', \n",
    "    'glucose_eflux_t1_3',\n",
    "    'glucose_eflux_t2_1', \n",
    "    'glucose_eflux_t2_2', \n",
    "    'glucose_eflux_t2_3'\n",
    "]\n",
    "\n",
    "# get list of relevant flux vectors\n",
    "flux_vectors = [eflux_solutions[trial_name].fluxes for trial_name in relevant_trials]\n",
    "\n",
    "# combine into a single dataframe\n",
    "all_eflux_solutions = pd.concat(fluxes_list, axis=1)\n",
    "\n",
    "# calculate average and standard deviation of flux vectors\n",
    "average_eflux_solution = pd.DataFrame(all_eflux_solutions.mean(axis=1), columns=['fluxes'])\n",
    "std_eflux_solution = eflux2sol_all.std(axis=1)\n",
    "\n",
    "average_eflux_solution.head()"
   ]
  },
  {
   "cell_type": "markdown",
   "id": "a5878e73-2eb9-4038-b2d0-e66fa751042d",
   "metadata": {},
   "source": [
    "#### **Load Glucose 13C MFA Data**"
   ]
  },
  {
   "cell_type": "code",
   "execution_count": 7,
   "id": "d8f3a74a-c6de-4877-96c4-744324e35d8c",
   "metadata": {},
   "outputs": [
    {
     "name": "stdout",
     "output_type": "stream",
     "text": [
      "There are 44 fluxes that can be compared between the MFA and FBA\n"
     ]
    },
    {
     "data": {
      "text/html": [
       "<div>\n",
       "<style scoped>\n",
       "    .dataframe tbody tr th:only-of-type {\n",
       "        vertical-align: middle;\n",
       "    }\n",
       "\n",
       "    .dataframe tbody tr th {\n",
       "        vertical-align: top;\n",
       "    }\n",
       "\n",
       "    .dataframe thead th {\n",
       "        text-align: right;\n",
       "    }\n",
       "</style>\n",
       "<table border=\"1\" class=\"dataframe\">\n",
       "  <thead>\n",
       "    <tr style=\"text-align: right;\">\n",
       "      <th></th>\n",
       "      <th>Pathway</th>\n",
       "      <th>Forward Reactions</th>\n",
       "      <th>Reaction</th>\n",
       "      <th>Location on map</th>\n",
       "      <th>Flux</th>\n",
       "      <th>90% Confidence Lower Bound</th>\n",
       "      <th>90% Confidence Upper Bound</th>\n",
       "    </tr>\n",
       "  </thead>\n",
       "  <tbody>\n",
       "    <tr>\n",
       "      <th>0</th>\n",
       "      <td>Substrate Uptake</td>\n",
       "      <td>reverse_EX_glc__D_e</td>\n",
       "      <td>Gluc.ext + ATP -&gt; G6P</td>\n",
       "      <td>(50, 460)</td>\n",
       "      <td>100.00</td>\n",
       "      <td>100.00</td>\n",
       "      <td>100.00</td>\n",
       "    </tr>\n",
       "    <tr>\n",
       "      <th>1</th>\n",
       "      <td>EMP Pathway</td>\n",
       "      <td>PGI</td>\n",
       "      <td>G6P &lt;-&gt; F6P</td>\n",
       "      <td>(-150, 430)</td>\n",
       "      <td>-1.61</td>\n",
       "      <td>-2.09</td>\n",
       "      <td>1.42</td>\n",
       "    </tr>\n",
       "    <tr>\n",
       "      <th>2</th>\n",
       "      <td>EMP Pathway</td>\n",
       "      <td>PFK or reverse_FBP</td>\n",
       "      <td>F6P + ATP -&gt; FBP</td>\n",
       "      <td>(-220, 195)</td>\n",
       "      <td>0.00</td>\n",
       "      <td>0.00</td>\n",
       "      <td>1.91</td>\n",
       "    </tr>\n",
       "    <tr>\n",
       "      <th>3</th>\n",
       "      <td>EMP Pathway</td>\n",
       "      <td>FBA</td>\n",
       "      <td>FBP &lt;-&gt; DHAP + GAP</td>\n",
       "      <td>(-140, 115)</td>\n",
       "      <td>0.00</td>\n",
       "      <td>0.00</td>\n",
       "      <td>1.91</td>\n",
       "    </tr>\n",
       "    <tr>\n",
       "      <th>4</th>\n",
       "      <td>EMP Pathway</td>\n",
       "      <td>TPI</td>\n",
       "      <td>DHAP &lt;-&gt; GAP</td>\n",
       "      <td>(-270, 150)</td>\n",
       "      <td>0.00</td>\n",
       "      <td>0.00</td>\n",
       "      <td>1.91</td>\n",
       "    </tr>\n",
       "  </tbody>\n",
       "</table>\n",
       "</div>"
      ],
      "text/plain": [
       "            Pathway    Forward Reactions               Reaction  \\\n",
       "0  Substrate Uptake  reverse_EX_glc__D_e  Gluc.ext + ATP -> G6P   \n",
       "1       EMP Pathway                  PGI            G6P <-> F6P   \n",
       "2       EMP Pathway   PFK or reverse_FBP       F6P + ATP -> FBP   \n",
       "3       EMP Pathway                  FBA     FBP <-> DHAP + GAP   \n",
       "4       EMP Pathway                  TPI           DHAP <-> GAP   \n",
       "\n",
       "  Location on map    Flux  90% Confidence Lower Bound  \\\n",
       "0       (50, 460)  100.00                      100.00   \n",
       "1     (-150, 430)   -1.61                       -2.09   \n",
       "2     (-220, 195)    0.00                        0.00   \n",
       "3     (-140, 115)    0.00                        0.00   \n",
       "4     (-270, 150)    0.00                        0.00   \n",
       "\n",
       "   90% Confidence Upper Bound  \n",
       "0                      100.00  \n",
       "1                        1.42  \n",
       "2                        1.91  \n",
       "3                        1.91  \n",
       "4                        1.91  "
      ]
     },
     "execution_count": 7,
     "metadata": {},
     "output_type": "execute_result"
    }
   ],
   "source": [
    "glucose_fluxes = pd.read_csv('../data/central_fluxes/glucose_13C.csv')\n",
    "\n",
    "# # Remove rows that do not have a mapping to the GSM\n",
    "glucose_fluxes.dropna(subset = [\"Forward Reactions\"], inplace=True)\n",
    "print(f'There are {len(glucose_fluxes)} fluxes that can be compared between the MFA and FBA')\n",
    "\n",
    "glucose_fluxes.head()"
   ]
  },
  {
   "cell_type": "markdown",
   "id": "8b1e98ef-8abb-45d5-9ee6-c64f630b80df",
   "metadata": {},
   "source": [
    "#### **Map Glucose E-Flux2 fluxes to 13C MFA Reactions**"
   ]
  },
  {
   "cell_type": "code",
   "execution_count": 38,
   "id": "5fd2ed3b-eba1-4ed7-95bf-da01be52b2b7",
   "metadata": {},
   "outputs": [
    {
     "ename": "AttributeError",
     "evalue": "'Series' object has no attribute 'stds'",
     "output_type": "error",
     "traceback": [
      "\u001b[0;31m---------------------------------------------------------------------------\u001b[0m",
      "\u001b[0;31mAttributeError\u001b[0m                            Traceback (most recent call last)",
      "\u001b[0;32m<ipython-input-38-0e5f0c4ebcd0>\u001b[0m in \u001b[0;36m<module>\u001b[0;34m\u001b[0m\n\u001b[1;32m      3\u001b[0m \u001b[0;34m\u001b[0m\u001b[0m\n\u001b[1;32m      4\u001b[0m \u001b[0;34m\u001b[0m\u001b[0m\n\u001b[0;32m----> 5\u001b[0;31m \u001b[0mglucose_fluxes\u001b[0m \u001b[0;34m=\u001b[0m \u001b[0madd_pred_fluxes_to_13c_df\u001b[0m\u001b[0;34m(\u001b[0m\u001b[0mglucose_fluxes\u001b[0m\u001b[0;34m,\u001b[0m \u001b[0maverage_eflux_solution\u001b[0m\u001b[0;34m,\u001b[0m \u001b[0mstd_eflux_solution\u001b[0m \u001b[0;34m,\u001b[0m \u001b[0;34m'glucose'\u001b[0m\u001b[0;34m,\u001b[0m \u001b[0;34m'E-Flux2'\u001b[0m\u001b[0;34m,\u001b[0m \u001b[0;34m'WT'\u001b[0m\u001b[0;34m)\u001b[0m\u001b[0;34m\u001b[0m\u001b[0;34m\u001b[0m\u001b[0m\n\u001b[0m\u001b[1;32m      6\u001b[0m \u001b[0;31m# glucose_fluxes = add_pred_fluxes_to_13c_df_without_std(glucose_fluxes, glucose_fba_solution, 'FBA', 'WT')\u001b[0m\u001b[0;34m\u001b[0m\u001b[0;34m\u001b[0m\u001b[0;34m\u001b[0m\u001b[0m\n\u001b[1;32m      7\u001b[0m \u001b[0;34m\u001b[0m\u001b[0m\n",
      "\u001b[0;32m/scratch/garrettroell/OpacusBiodesign/src/utils.py\u001b[0m in \u001b[0;36madd_pred_fluxes_to_13c_df\u001b[0;34m(observed_fluxes, predictions, stdpredictions, substrate, method, strain)\u001b[0m\n\u001b[1;32m    410\u001b[0m             \u001b[0mand_split\u001b[0m \u001b[0;34m=\u001b[0m \u001b[0;34m[\u001b[0m\u001b[0my\u001b[0m\u001b[0;34m.\u001b[0m\u001b[0mstrip\u001b[0m\u001b[0;34m(\u001b[0m\u001b[0;34m'() '\u001b[0m\u001b[0;34m)\u001b[0m \u001b[0;32mfor\u001b[0m \u001b[0my\u001b[0m \u001b[0;32min\u001b[0m \u001b[0mx\u001b[0m\u001b[0;34m.\u001b[0m\u001b[0msplit\u001b[0m\u001b[0;34m(\u001b[0m\u001b[0;34m' and '\u001b[0m\u001b[0;34m)\u001b[0m\u001b[0;34m]\u001b[0m\u001b[0;34m\u001b[0m\u001b[0;34m\u001b[0m\u001b[0m\n\u001b[1;32m    411\u001b[0m             \u001b[0mflux_value_pred\u001b[0m \u001b[0;34m+=\u001b[0m \u001b[0mmin\u001b[0m\u001b[0;34m(\u001b[0m\u001b[0;34m[\u001b[0m\u001b[0mget_flux_value\u001b[0m\u001b[0;34m(\u001b[0m\u001b[0mv\u001b[0m\u001b[0;34m,\u001b[0m \u001b[0mscalepred_fluxes\u001b[0m\u001b[0;34m)\u001b[0m \u001b[0;32mfor\u001b[0m \u001b[0mv\u001b[0m \u001b[0;32min\u001b[0m \u001b[0mand_split\u001b[0m\u001b[0;34m]\u001b[0m\u001b[0;34m)\u001b[0m\u001b[0;34m\u001b[0m\u001b[0;34m\u001b[0m\u001b[0m\n\u001b[0;32m--> 412\u001b[0;31m             \u001b[0mstd_value_pred\u001b[0m \u001b[0;34m+=\u001b[0m \u001b[0mmin\u001b[0m\u001b[0;34m(\u001b[0m\u001b[0;34m[\u001b[0m\u001b[0mget_std_value\u001b[0m\u001b[0;34m(\u001b[0m\u001b[0mv\u001b[0m\u001b[0;34m,\u001b[0m\u001b[0mscalepred_stds\u001b[0m\u001b[0;34m)\u001b[0m \u001b[0;32mfor\u001b[0m \u001b[0mv\u001b[0m \u001b[0;32min\u001b[0m \u001b[0mand_split\u001b[0m\u001b[0;34m]\u001b[0m\u001b[0;34m)\u001b[0m\u001b[0;34m\u001b[0m\u001b[0;34m\u001b[0m\u001b[0m\n\u001b[0m\u001b[1;32m    413\u001b[0m         \u001b[0mpredicted_fluxes\u001b[0m\u001b[0;34m.\u001b[0m\u001b[0mappend\u001b[0m\u001b[0;34m(\u001b[0m\u001b[0mflux_value_pred\u001b[0m\u001b[0;34m)\u001b[0m\u001b[0;34m\u001b[0m\u001b[0;34m\u001b[0m\u001b[0m\n\u001b[1;32m    414\u001b[0m         \u001b[0mpredicted_stds\u001b[0m\u001b[0;34m.\u001b[0m\u001b[0mappend\u001b[0m\u001b[0;34m(\u001b[0m\u001b[0mstd_value_pred\u001b[0m\u001b[0;34m)\u001b[0m\u001b[0;34m\u001b[0m\u001b[0;34m\u001b[0m\u001b[0m\n",
      "\u001b[0;32m/scratch/garrettroell/OpacusBiodesign/src/utils.py\u001b[0m in \u001b[0;36m<listcomp>\u001b[0;34m(.0)\u001b[0m\n\u001b[1;32m    410\u001b[0m             \u001b[0mand_split\u001b[0m \u001b[0;34m=\u001b[0m \u001b[0;34m[\u001b[0m\u001b[0my\u001b[0m\u001b[0;34m.\u001b[0m\u001b[0mstrip\u001b[0m\u001b[0;34m(\u001b[0m\u001b[0;34m'() '\u001b[0m\u001b[0;34m)\u001b[0m \u001b[0;32mfor\u001b[0m \u001b[0my\u001b[0m \u001b[0;32min\u001b[0m \u001b[0mx\u001b[0m\u001b[0;34m.\u001b[0m\u001b[0msplit\u001b[0m\u001b[0;34m(\u001b[0m\u001b[0;34m' and '\u001b[0m\u001b[0;34m)\u001b[0m\u001b[0;34m]\u001b[0m\u001b[0;34m\u001b[0m\u001b[0;34m\u001b[0m\u001b[0m\n\u001b[1;32m    411\u001b[0m             \u001b[0mflux_value_pred\u001b[0m \u001b[0;34m+=\u001b[0m \u001b[0mmin\u001b[0m\u001b[0;34m(\u001b[0m\u001b[0;34m[\u001b[0m\u001b[0mget_flux_value\u001b[0m\u001b[0;34m(\u001b[0m\u001b[0mv\u001b[0m\u001b[0;34m,\u001b[0m \u001b[0mscalepred_fluxes\u001b[0m\u001b[0;34m)\u001b[0m \u001b[0;32mfor\u001b[0m \u001b[0mv\u001b[0m \u001b[0;32min\u001b[0m \u001b[0mand_split\u001b[0m\u001b[0;34m]\u001b[0m\u001b[0;34m)\u001b[0m\u001b[0;34m\u001b[0m\u001b[0;34m\u001b[0m\u001b[0m\n\u001b[0;32m--> 412\u001b[0;31m             \u001b[0mstd_value_pred\u001b[0m \u001b[0;34m+=\u001b[0m \u001b[0mmin\u001b[0m\u001b[0;34m(\u001b[0m\u001b[0;34m[\u001b[0m\u001b[0mget_std_value\u001b[0m\u001b[0;34m(\u001b[0m\u001b[0mv\u001b[0m\u001b[0;34m,\u001b[0m\u001b[0mscalepred_stds\u001b[0m\u001b[0;34m)\u001b[0m \u001b[0;32mfor\u001b[0m \u001b[0mv\u001b[0m \u001b[0;32min\u001b[0m \u001b[0mand_split\u001b[0m\u001b[0;34m]\u001b[0m\u001b[0;34m)\u001b[0m\u001b[0;34m\u001b[0m\u001b[0;34m\u001b[0m\u001b[0m\n\u001b[0m\u001b[1;32m    413\u001b[0m         \u001b[0mpredicted_fluxes\u001b[0m\u001b[0;34m.\u001b[0m\u001b[0mappend\u001b[0m\u001b[0;34m(\u001b[0m\u001b[0mflux_value_pred\u001b[0m\u001b[0;34m)\u001b[0m\u001b[0;34m\u001b[0m\u001b[0;34m\u001b[0m\u001b[0m\n\u001b[1;32m    414\u001b[0m         \u001b[0mpredicted_stds\u001b[0m\u001b[0;34m.\u001b[0m\u001b[0mappend\u001b[0m\u001b[0;34m(\u001b[0m\u001b[0mstd_value_pred\u001b[0m\u001b[0;34m)\u001b[0m\u001b[0;34m\u001b[0m\u001b[0;34m\u001b[0m\u001b[0m\n",
      "\u001b[0;32m/scratch/garrettroell/OpacusBiodesign/src/utils.py\u001b[0m in \u001b[0;36mget_std_value\u001b[0;34m(reaction_id, solution)\u001b[0m\n\u001b[1;32m    295\u001b[0m     \u001b[0;32mif\u001b[0m \u001b[0mreaction_id\u001b[0m\u001b[0;34m.\u001b[0m\u001b[0mstartswith\u001b[0m\u001b[0;34m(\u001b[0m\u001b[0;34m'reverse_'\u001b[0m\u001b[0;34m)\u001b[0m\u001b[0;34m:\u001b[0m\u001b[0;34m\u001b[0m\u001b[0;34m\u001b[0m\u001b[0m\n\u001b[1;32m    296\u001b[0m         \u001b[0mreaction_id\u001b[0m \u001b[0;34m=\u001b[0m \u001b[0mreaction_id\u001b[0m\u001b[0;34m.\u001b[0m\u001b[0msplit\u001b[0m\u001b[0;34m(\u001b[0m\u001b[0;34m'reverse_'\u001b[0m\u001b[0;34m)\u001b[0m\u001b[0;34m[\u001b[0m\u001b[0;36m1\u001b[0m\u001b[0;34m]\u001b[0m\u001b[0;34m\u001b[0m\u001b[0;34m\u001b[0m\u001b[0m\n\u001b[0;32m--> 297\u001b[0;31m     \u001b[0;32mreturn\u001b[0m \u001b[0msolution\u001b[0m\u001b[0;34m.\u001b[0m\u001b[0mstds\u001b[0m\u001b[0;34m[\u001b[0m\u001b[0mreaction_id\u001b[0m\u001b[0;34m]\u001b[0m\u001b[0;34m\u001b[0m\u001b[0;34m\u001b[0m\u001b[0m\n\u001b[0m\u001b[1;32m    298\u001b[0m \u001b[0;34m\u001b[0m\u001b[0m\n\u001b[1;32m    299\u001b[0m \u001b[0;32mdef\u001b[0m \u001b[0mscale_predictions\u001b[0m\u001b[0;34m(\u001b[0m\u001b[0mobserved_fluxes\u001b[0m\u001b[0;34m,\u001b[0m \u001b[0mpredictions\u001b[0m\u001b[0;34m,\u001b[0m \u001b[0mstdpredictions\u001b[0m\u001b[0;34m,\u001b[0m \u001b[0msubstrate\u001b[0m\u001b[0;34m,\u001b[0m \u001b[0mmethod\u001b[0m\u001b[0;34m)\u001b[0m\u001b[0;34m:\u001b[0m\u001b[0;34m\u001b[0m\u001b[0;34m\u001b[0m\u001b[0m\n",
      "\u001b[0;32m/usr/local/share/jupyteruser/.pyenv/versions/biod_3.7/lib/python3.7/site-packages/pandas/core/generic.py\u001b[0m in \u001b[0;36m__getattr__\u001b[0;34m(self, name)\u001b[0m\n\u001b[1;32m   5178\u001b[0m             \u001b[0;32mif\u001b[0m \u001b[0mself\u001b[0m\u001b[0;34m.\u001b[0m\u001b[0m_info_axis\u001b[0m\u001b[0;34m.\u001b[0m\u001b[0m_can_hold_identifiers_and_holds_name\u001b[0m\u001b[0;34m(\u001b[0m\u001b[0mname\u001b[0m\u001b[0;34m)\u001b[0m\u001b[0;34m:\u001b[0m\u001b[0;34m\u001b[0m\u001b[0;34m\u001b[0m\u001b[0m\n\u001b[1;32m   5179\u001b[0m                 \u001b[0;32mreturn\u001b[0m \u001b[0mself\u001b[0m\u001b[0;34m[\u001b[0m\u001b[0mname\u001b[0m\u001b[0;34m]\u001b[0m\u001b[0;34m\u001b[0m\u001b[0;34m\u001b[0m\u001b[0m\n\u001b[0;32m-> 5180\u001b[0;31m             \u001b[0;32mreturn\u001b[0m \u001b[0mobject\u001b[0m\u001b[0;34m.\u001b[0m\u001b[0m__getattribute__\u001b[0m\u001b[0;34m(\u001b[0m\u001b[0mself\u001b[0m\u001b[0;34m,\u001b[0m \u001b[0mname\u001b[0m\u001b[0;34m)\u001b[0m\u001b[0;34m\u001b[0m\u001b[0;34m\u001b[0m\u001b[0m\n\u001b[0m\u001b[1;32m   5181\u001b[0m \u001b[0;34m\u001b[0m\u001b[0m\n\u001b[1;32m   5182\u001b[0m     \u001b[0;32mdef\u001b[0m \u001b[0m__setattr__\u001b[0m\u001b[0;34m(\u001b[0m\u001b[0mself\u001b[0m\u001b[0;34m,\u001b[0m \u001b[0mname\u001b[0m\u001b[0;34m,\u001b[0m \u001b[0mvalue\u001b[0m\u001b[0;34m)\u001b[0m\u001b[0;34m:\u001b[0m\u001b[0;34m\u001b[0m\u001b[0;34m\u001b[0m\u001b[0m\n",
      "\u001b[0;31mAttributeError\u001b[0m: 'Series' object has no attribute 'stds'"
     ]
    }
   ],
   "source": [
    "# probably need to get average and std dev for each genome scale model reaction\n",
    "#EFLUX2 calculations:\n",
    "\n",
    "\n",
    "glucose_fluxes = add_pred_fluxes_to_13c_df(glucose_fluxes, average_eflux_solution, std_eflux_solution , 'glucose', 'E-Flux2', 'WT')\n",
    "# glucose_fluxes = add_pred_fluxes_to_13c_df_without_std(glucose_fluxes, glucose_fba_solution, 'FBA', 'WT')\n",
    "\n",
    "glucose_fluxes.head()"
   ]
  },
  {
   "cell_type": "markdown",
   "id": "704e9edf-edeb-4537-ba89-8594d2d095e0",
   "metadata": {},
   "source": [
    "#### **Save Glucose E-Flux2 Central Flux Predictions**"
   ]
  },
  {
   "cell_type": "code",
   "execution_count": null,
   "id": "593da6eb-5bc4-4abf-b900-c3616b8e60e5",
   "metadata": {},
   "outputs": [],
   "source": [
    "glucose_fluxes.to_csv('../data/central_fluxes/glucose_FBA_pFBA.csv', index=False)"
   ]
  },
  {
   "cell_type": "markdown",
   "id": "410242c9-31e8-4bd2-9f60-03c19671c4ea",
   "metadata": {},
   "source": [
    "#### **Plot Glucose FBA Fluxes vs 13C MFA Fluxes**"
   ]
  },
  {
   "cell_type": "code",
   "execution_count": null,
   "id": "f2a4ac20-8958-4e80-9e5a-8bf29da0b7b8",
   "metadata": {},
   "outputs": [],
   "source": [
    "obs_vs_pred_scatter_plot_with_std(glucose_fluxes, substrate='glucose', method='FBA', strain='WT', output_dir=output_dir)"
   ]
  },
  {
   "cell_type": "markdown",
   "id": "5acdea2b-c993-4b2a-937f-f365bfe8ce7c",
   "metadata": {},
   "source": [
    "#### **Display Glucose E-Flux2 Flux Map**"
   ]
  },
  {
   "cell_type": "code",
   "execution_count": null,
   "id": "8c95f15a-d177-4cd2-a7d1-e476a93364fe",
   "metadata": {},
   "outputs": [],
   "source": [
    "generate_flux_map(glucose_fluxes, 'Flux', substrate='glucose', method='13C_MFA', output_dir=output_dir)"
   ]
  },
  {
   "cell_type": "markdown",
   "id": "aa00645e-e85c-48cb-8be5-0d4f811df336",
   "metadata": {},
   "source": [
    "#### **Load experimental growth parameters from Notebook E**"
   ]
  },
  {
   "cell_type": "code",
   "execution_count": null,
   "id": "6fabe635-37ac-4020-b567-c004ca7f75d2",
   "metadata": {},
   "outputs": [],
   "source": [
    "consumption_and_growth_data = pd.read_csv('../data/growth_rates/experimental_growth_parameters.csv', index_col=0)\n",
    "consumption_and_growth_data"
   ]
  },
  {
   "cell_type": "markdown",
   "id": "f836e7ee-ca14-4448-bdb4-a8651420d9ef",
   "metadata": {},
   "source": [
    "#### **Calculate FBA and pFBA growth rates and add to data frame**"
   ]
  },
  {
   "cell_type": "code",
   "execution_count": null,
   "id": "b34517e3-5f11-4f55-9ce5-4f167bf86633",
   "metadata": {},
   "outputs": [],
   "source": [
    "fba_growth_rates = []\n",
    "pfba_growth_rates = []\n",
    "\n",
    "# loop over strains\n",
    "for strain in ['WT-P', 'PVHG-P', 'WT-G']:\n",
    "    \n",
    "    # get the growth rate per 100 mmol of substrate uptake \n",
    "    if '-P' in strain:\n",
    "        fba_growth_per_100 = phenol_fba_solution['Growth_Phenol']\n",
    "        pfba_growth_per_100 = phenol_pfba_solution['Growth_Phenol']\n",
    "    elif '-G' in strain:\n",
    "        fba_growth_per_100 = glucose_fba_solution['Growth_Glucose']\n",
    "        pfba_growth_per_100 = glucose_pfba_solution['Growth_Glucose']\n",
    "        \n",
    "    # get the experimental uptake rate\n",
    "    uptake_rate = consumption_and_growth_data.loc[strain,'substrate consumption rate']\n",
    "        \n",
    "    # calculate the growth rate adjusted for substrate uptake rate\n",
    "    fba_growth_rate = (fba_growth_per_100 / 100) * uptake_rate\n",
    "    pfba_growth_rate = (pfba_growth_per_100 / 100) * uptake_rate\n",
    "    \n",
    "    fba_growth_rates.append(fba_growth_rate)\n",
    "    pfba_growth_rates.append(fba_growth_rate)\n",
    "    \n",
    "# add \n",
    "consumption_and_growth_data['FBA growth rate'] = fba_growth_rates\n",
    "consumption_and_growth_data['pFBA growth rate'] = pfba_growth_rates\n",
    "\n",
    "consumption_and_growth_data"
   ]
  },
  {
   "cell_type": "code",
   "execution_count": null,
   "id": "e8face77-b77c-40be-bddd-aa7d58745905",
   "metadata": {},
   "outputs": [],
   "source": [
    "#### **Save FBA and pFBA Growth Rates**"
   ]
  },
  {
   "cell_type": "code",
   "execution_count": null,
   "id": "e299991b-8dfb-4fe3-88a3-8597d3bb0b6b",
   "metadata": {},
   "outputs": [],
   "source": [
    "consumption_and_growth_data.to_csv('../data/growth_rates/fba_pfba_growth_rates.csv', index=True, header= True)"
   ]
  },
  {
   "cell_type": "code",
   "execution_count": null,
   "id": "d26d8e25-3003-4881-a274-f6600ad9fb50",
   "metadata": {},
   "outputs": [],
   "source": [
    "#### **Plot FBA Growth Rates**"
   ]
  },
  {
   "cell_type": "code",
   "execution_count": null,
   "id": "f045a058-0e26-4a30-8aba-be92f169da86",
   "metadata": {},
   "outputs": [],
   "source": [
    "selectedlist = ['WT-P', 'PVHG-P', 'WT-G']\n",
    "comparison_scatter_plot(\n",
    "    consumption_and_growth_data.loc[selectedlist, 'growth rate'], \n",
    "    consumption_and_growth_data.loc[selectedlist, 'FBA growth rate'], \n",
    "    selectedlist, \n",
    "    'FBA',\n",
    "    output_dir=output_dir\n",
    ")"
   ]
  }
 ],
 "metadata": {
  "kernelspec": {
   "display_name": "biodesign_3.7",
   "language": "python",
   "name": "biod_3.7"
  },
  "language_info": {
   "codemirror_mode": {
    "name": "ipython",
    "version": 3
   },
   "file_extension": ".py",
   "mimetype": "text/x-python",
   "name": "python",
   "nbconvert_exporter": "python",
   "pygments_lexer": "ipython3",
   "version": "3.7.4"
  }
 },
 "nbformat": 4,
 "nbformat_minor": 5
}

{
 "cells": [
  {
   "cell_type": "markdown",
   "id": "74106e8b-2450-4614-b2fc-4ca997fa2be6",
   "metadata": {},
   "source": [
    "# Transcripts per reaction\n",
    "\n",
    "By Garrett Roell and Christina Schenk\n",
    "\n",
    "Tested on biodesign_3.7 kernel on jprime\n",
    "\n",
    "This notebook determines the number of transcripts per reaction for a given transc\n",
    "\n",
    "### Method: \n",
    "<ol>\n",
    "<li>Setup imports</li>\n",
    "<li>Load model and relevant data</li>\n",
    "<li>Isolate wildtype phenol and glucose parameters</li>\n",
    "    \n",
    "<li>Run phenol FBA with many levels of ATP maintenance flux</li>\n",
    "<li>Plot phenol growth rate vs. ATP maintenance flux</li>\n",
    "<li>Run FVA to calculate phenol ATP maintenance flux value</li>\n",
    "    \n",
    "<li>Run glucose FBA with many levels of ATP maintenance flux</li>\n",
    "<li>Plot glucose growth rate vs. ATP maintenance flux</li>\n",
    "<li>Run FVA to calculate glucose ATP maintenance flux value</li>\n",
    "</ol>"
   ]
  },
  {
   "cell_type": "markdown",
   "id": "bdbea344-fe2d-4331-8a00-b3a6eda40d8e",
   "metadata": {},
   "source": [
    "### 1. Setup imports"
   ]
  },
  {
   "cell_type": "code",
   "execution_count": null,
   "id": "78e19351-7c38-4d5e-9cc7-30b43a03ca4e",
   "metadata": {},
   "outputs": [],
   "source": [
    "import cobra\n",
    "\n",
    "import sys\n",
    "source_dir = '../src'\n",
    "sys.path.append(source_dir)\n",
    "\n",
    "from t_to_f_functions import *"
   ]
  },
  {
   "cell_type": "markdown",
   "id": "cf367d79-2615-4d0d-8d69-3b0b6e7cb6b1",
   "metadata": {},
   "source": [
    "### 2. Load model and relevant data"
   ]
  },
  {
   "cell_type": "code",
   "execution_count": null,
   "id": "fcef7ca7-e080-489b-a566-c72c7a93e01c",
   "metadata": {},
   "outputs": [],
   "source": [
    "model = cobra.io.read_sbml_model(\"../models/r_opacus_annotated_curated.xml\")\n",
    "\n",
    "# load transcript data\n",
    "transcript_df = pd.read_csv('../data/transcript_data/henson_CPM_melted.csv')\n",
    "\n",
    "# isolate wt glucose data\n",
    "glucose_transcript_df = transcript_df[transcript_df['Line Name'].str.contains(\"WT-Glu\")]\n",
    "glucose_transcript_df = glucose_transcript_df[glucose_transcript_df['Time'] == 10]\n",
    "\n",
    "# isolate wt phenol data\n",
    "phenol_wt_transcript_df = transcript_df[transcript_df['Line Name'].str.contains(\"WT-P\")]\n",
    "\n",
    "# isolate pvhg6 phenol data\n",
    "phenol_pvhg6_transcript_df = transcript_df[transcript_df['Line Name'].str.contains(\"PVHG-P\")]"
   ]
  },
  {
   "cell_type": "markdown",
   "id": "4e95a91c-de8d-4088-a89c-623185ff15f2",
   "metadata": {},
   "source": [
    "### 3. "
   ]
  },
  {
   "cell_type": "code",
   "execution_count": 8,
   "id": "8d1aa17a-06ce-44eb-a565-38cc909d008d",
   "metadata": {},
   "outputs": [
    {
     "data": {
      "text/html": [
       "<div>\n",
       "<style scoped>\n",
       "    .dataframe tbody tr th:only-of-type {\n",
       "        vertical-align: middle;\n",
       "    }\n",
       "\n",
       "    .dataframe tbody tr th {\n",
       "        vertical-align: top;\n",
       "    }\n",
       "\n",
       "    .dataframe thead th {\n",
       "        text-align: right;\n",
       "    }\n",
       "</style>\n",
       "<table border=\"1\" class=\"dataframe\">\n",
       "  <thead>\n",
       "    <tr style=\"text-align: right;\">\n",
       "      <th></th>\n",
       "      <th>Count</th>\n",
       "    </tr>\n",
       "    <tr>\n",
       "      <th>Measurement Type</th>\n",
       "      <th></th>\n",
       "    </tr>\n",
       "  </thead>\n",
       "  <tbody>\n",
       "    <tr>\n",
       "      <th>WP_005263480_1</th>\n",
       "      <td>27.446117</td>\n",
       "    </tr>\n",
       "    <tr>\n",
       "      <th>WP_005249107_1</th>\n",
       "      <td>355.352526</td>\n",
       "    </tr>\n",
       "    <tr>\n",
       "      <th>WP_005249106_1</th>\n",
       "      <td>131.395949</td>\n",
       "    </tr>\n",
       "    <tr>\n",
       "      <th>WP_005249105_1</th>\n",
       "      <td>64.507709</td>\n",
       "    </tr>\n",
       "    <tr>\n",
       "      <th>WP_005249104_1</th>\n",
       "      <td>42.802872</td>\n",
       "    </tr>\n",
       "  </tbody>\n",
       "</table>\n",
       "</div>"
      ],
      "text/plain": [
       "                       Count\n",
       "Measurement Type            \n",
       "WP_005263480_1     27.446117\n",
       "WP_005249107_1    355.352526\n",
       "WP_005249106_1    131.395949\n",
       "WP_005249105_1     64.507709\n",
       "WP_005249104_1     42.802872"
      ]
     },
     "execution_count": 8,
     "metadata": {},
     "output_type": "execute_result"
    }
   ],
   "source": [
    "# for trial in ['WT-Glu-R1', 'WT-Glu-R2','WT-Glu-R3']:\n",
    "trial = 'WT-Glu-R1'\n",
    "transcript_df = transcript_df_T1[transcript_df_T1['Line Name'] == trial]\n",
    "\n",
    "# remove unneeded columns\n",
    "transcript_df = transcript_df.filter(['Count', 'Measurement Type'])\n",
    "\n",
    "# set index of dataframe to be gene names\n",
    "transcript_df = transcript_df.set_index('Measurement Type')\n",
    "\n",
    "transcript_df.head()"
   ]
  },
  {
   "cell_type": "code",
   "execution_count": 13,
   "id": "985d6958-9978-4eb5-b30a-2dcc38377f38",
   "metadata": {},
   "outputs": [],
   "source": [
    "eflux2_model = model.copy()\n",
    "eflux2_model.tolerance = 1e-9\n",
    "\n",
    "transcipt_bounds = []\n",
    "\n",
    "# set the flux bounds for each reaction using the transcriptomics data    \n",
    "for rxn in eflux2_model.reactions:\n",
    "    if 'EX_' not in str(rxn.id):\n",
    "        if rxn.gene_reaction_rule:\n",
    "            if rxn.lower_bound < 0.0:\n",
    "                rxn.lower_bound = -transcript_value_for_rxn(model, transcript_df, rxn)\n",
    "            else:\n",
    "                pass\n",
    "            if rxn.upper_bound > 0.0:\n",
    "                rxn.upper_bound = transcript_value_for_rxn(model, transcript_df, rxn)\n",
    "            else:\n",
    "                pass\n",
    "\n",
    "\n",
    "        else:\n",
    "            \"\"\"When there is no GPR, the arbitrary bounds are removed. \n",
    "            Common arbitrary bound value of 1000 for E.coli, might be different depending on the model, e.g., 99999.0 for iMM904 yeast model in BiGG\"\"\"\n",
    "            if rxn.lower_bound <= -1000:\n",
    "                rxn.lower_bound = -np.Inf\n",
    "            if rxn.upper_bound >= 1000:\n",
    "                rxn.upper_bound = np.Inf \n",
    "                \n",
    "    transcipt_bounds.append({\n",
    "        \"reaction\": rxn.id,\n",
    "        \"lower_bound\": rxn.lower_bound,\n",
    "        \"upper_bound\": rxn.upper_bound\n",
    "    })\n",
    "#     print(rxn.id, rxn.lower_bound, rxn.upper_bound)"
   ]
  },
  {
   "cell_type": "code",
   "execution_count": 15,
   "id": "1620ce11-4b4b-446d-94f9-06d1adde9659",
   "metadata": {},
   "outputs": [
    {
     "data": {
      "text/html": [
       "<div>\n",
       "<style scoped>\n",
       "    .dataframe tbody tr th:only-of-type {\n",
       "        vertical-align: middle;\n",
       "    }\n",
       "\n",
       "    .dataframe tbody tr th {\n",
       "        vertical-align: top;\n",
       "    }\n",
       "\n",
       "    .dataframe thead th {\n",
       "        text-align: right;\n",
       "    }\n",
       "</style>\n",
       "<table border=\"1\" class=\"dataframe\">\n",
       "  <thead>\n",
       "    <tr style=\"text-align: right;\">\n",
       "      <th></th>\n",
       "      <th>reaction</th>\n",
       "      <th>lower_bound</th>\n",
       "      <th>upper_bound</th>\n",
       "    </tr>\n",
       "  </thead>\n",
       "  <tbody>\n",
       "    <tr>\n",
       "      <th>0</th>\n",
       "      <td>12DGR140tipp</td>\n",
       "      <td>0.000000</td>\n",
       "      <td>inf</td>\n",
       "    </tr>\n",
       "    <tr>\n",
       "      <th>1</th>\n",
       "      <td>13PPDH</td>\n",
       "      <td>-38.415228</td>\n",
       "      <td>38.415228</td>\n",
       "    </tr>\n",
       "    <tr>\n",
       "      <th>2</th>\n",
       "      <td>1P2CBXLCYCL</td>\n",
       "      <td>-inf</td>\n",
       "      <td>inf</td>\n",
       "    </tr>\n",
       "    <tr>\n",
       "      <th>3</th>\n",
       "      <td>1P2CBXLR</td>\n",
       "      <td>0.000000</td>\n",
       "      <td>0.840187</td>\n",
       "    </tr>\n",
       "    <tr>\n",
       "      <th>4</th>\n",
       "      <td>23CTI1</td>\n",
       "      <td>0.000000</td>\n",
       "      <td>23.058472</td>\n",
       "    </tr>\n",
       "  </tbody>\n",
       "</table>\n",
       "</div>"
      ],
      "text/plain": [
       "       reaction  lower_bound  upper_bound\n",
       "0  12DGR140tipp     0.000000          inf\n",
       "1        13PPDH   -38.415228    38.415228\n",
       "2   1P2CBXLCYCL         -inf          inf\n",
       "3      1P2CBXLR     0.000000     0.840187\n",
       "4        23CTI1     0.000000    23.058472"
      ]
     },
     "execution_count": 15,
     "metadata": {},
     "output_type": "execute_result"
    }
   ],
   "source": [
    "transcript_bounds_df = pd.DataFrame(transcipt_bounds)\n",
    "transcript_bounds_df.head()"
   ]
  },
  {
   "cell_type": "code",
   "execution_count": 17,
   "id": "ea93b7bf-ca1f-4bfe-876d-51ee385ee308",
   "metadata": {},
   "outputs": [],
   "source": [
    "trial_name = 'glucose_transcripts_per_reaction_1'\n",
    "transcript_bounds_df.to_csv(f'../data/transcript_data/{trial_name}.csv', index=False)"
   ]
  },
  {
   "cell_type": "code",
   "execution_count": 18,
   "id": "91ce14c4-3f98-44c3-9415-e2925b882202",
   "metadata": {},
   "outputs": [
    {
     "data": {
      "text/html": [
       "\n",
       "        <table>\n",
       "            <tr>\n",
       "                <td><strong>Reaction identifier</strong></td><td>CYANST</td>\n",
       "            </tr><tr>\n",
       "                <td><strong>Name</strong></td><td>Cyanide sulfurtransferase</td>\n",
       "            </tr><tr>\n",
       "                <td><strong>Memory address</strong></td>\n",
       "                <td>0x07fad5c8a9450</td>\n",
       "            </tr><tr>\n",
       "                <td><strong>Stoichiometry</strong></td>\n",
       "                <td>\n",
       "                    <p style='text-align:right'>cyan_c + tsul_c --> h_c + so3_c + tcynt_c</p>\n",
       "                    <p style='text-align:right'>Hydrogen cyanide + Thiosulfate --> H+ + Sulfite + Thiocyanate</p>\n",
       "                </td>\n",
       "            </tr><tr>\n",
       "                <td><strong>GPR</strong></td><td>WP_005238137_1 or WP_005239980_1 or WP_005244352_1 or WP_005251647_1</td>\n",
       "            </tr><tr>\n",
       "                <td><strong>Lower bound</strong></td><td>0.0</td>\n",
       "            </tr><tr>\n",
       "                <td><strong>Upper bound</strong></td><td>1000.0</td>\n",
       "            </tr>\n",
       "        </table>\n",
       "        "
      ],
      "text/plain": [
       "<Reaction CYANST at 0x7fad5c8a9450>"
      ]
     },
     "execution_count": 18,
     "metadata": {},
     "output_type": "execute_result"
    }
   ],
   "source": [
    "model.reactions.get_by_id('CYANST')"
   ]
  },
  {
   "cell_type": "code",
   "execution_count": null,
   "id": "abae9f07-c594-4e87-9d41-33175eabc76a",
   "metadata": {},
   "outputs": [],
   "source": []
  }
 ],
 "metadata": {
  "kernelspec": {
   "display_name": "biodesign_3.7",
   "language": "python",
   "name": "biod_3.7"
  },
  "language_info": {
   "codemirror_mode": {
    "name": "ipython",
    "version": 3
   },
   "file_extension": ".py",
   "mimetype": "text/x-python",
   "name": "python",
   "nbconvert_exporter": "python",
   "pygments_lexer": "ipython3",
   "version": "3.7.4"
  }
 },
 "nbformat": 4,
 "nbformat_minor": 5
}

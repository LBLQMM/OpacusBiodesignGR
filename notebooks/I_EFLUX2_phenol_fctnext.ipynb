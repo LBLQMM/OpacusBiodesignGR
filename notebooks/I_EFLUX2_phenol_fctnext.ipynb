{
 "cells": [
  {
   "cell_type": "markdown",
   "id": "7563604a-2ba5-4e5d-b9e0-309615df0b5b",
   "metadata": {
    "tags": []
   },
   "source": [
    "## **Notebook to make predictions with reprocessed Yoneda data and EFLUX2** \n",
    "\n",
    "By Christina Schenk and Garrett Roell\n",
    "\n",
    "Tested on biodesign_3.7 kernel on jprime"
   ]
  },
  {
   "cell_type": "markdown",
   "id": "8edc3c57-de26-4407-a568-88c6e6d99f02",
   "metadata": {
    "tags": []
   },
   "source": [
    "### EFLUX2 predictions and evaluations\n",
    "This notebook predicts fluxes for R. opacus cultures growing with phenol. The data was published in [Henson (2018)](https://www.sciencedirect.com/science/article/pii/S1096717618300910).\n",
    "\n",
    "#### **Data Labels:**\n",
    "                                                 \n",
    "#### Henson:\n",
    "* WT 0.5g/L Phenol \t\t(**WT-P**)\n",
    "* PVHG6 0.5g/L  Phenol \t(**PVHG-P**)\n",
    "                                               \n",
    "\n",
    "### Method: \n",
    "<ol>\n",
    "<li>Predict fluxes with EFLUX2</li>\n",
    "<li>Compare predictions with 13CMFA: Scatter plots and flux maps</li>\n",
    "<li>Load file with observed growth rates (Notebook E)</li>\n",
    "<li>Save growth rate predictions to csv file</li>\n",
    "</ol>\n",
    "\n"
   ]
  },
  {
   "cell_type": "markdown",
   "id": "5a6edbe7-d3d0-49ac-9d13-8f43882945f0",
   "metadata": {},
   "source": [
    "##### **Import python packages**"
   ]
  },
  {
   "cell_type": "code",
   "execution_count": 1,
   "id": "5e37f811-1a95-45e0-932f-962edb144307",
   "metadata": {},
   "outputs": [],
   "source": [
    "import os\n",
    "import sys\n",
    "import pandas as pd\n",
    "import numpy as np\n",
    "import cobra\n",
    "import scipy.stats\n",
    "#import cplex\n",
    "%matplotlib inline\n",
    "\n",
    "import matplotlib\n",
    "from matplotlib import pyplot as plt\n",
    "from matplotlib.offsetbox import (TextArea, DrawingArea, OffsetImage,\n",
    "                                  AnnotationBbox)\n",
    "from matplotlib.cbook import get_sample_data\n",
    "import matplotlib.image as mpimg\n",
    "import matplotlib.cm as cm\n",
    "\n",
    "from edd_utils import login, export_study, export_metadata\n",
    "\n",
    "from sklearn.metrics import r2_score\n",
    "\n",
    "SourceDir = '../src'\n",
    "sys.path.append(SourceDir)\n",
    "from ensemblemethods import EFlux2\n",
    "from utils import *\n",
    "\n",
    "output_dir = '../plots/CPM/'\n",
    "from plot import *"
   ]
  },
  {
   "cell_type": "markdown",
   "id": "244d4ba7-9d90-4f21-8de8-18a77f1a87dd",
   "metadata": {},
   "source": [
    "##### **Load data**"
   ]
  },
  {
   "cell_type": "code",
   "execution_count": 2,
   "id": "e8232d35-b2bf-4b51-9625-3a12a76661f3",
   "metadata": {},
   "outputs": [],
   "source": [
    "# # Study to Download\n",
    "# study_slug = 'biodesign_yoneda_set3_reprocessed'\n",
    "# # EDD server\n",
    "# edd_server = 'public-edd.jbei.org'\n",
    "# user       = 'schenkch'"
   ]
  },
  {
   "cell_type": "code",
   "execution_count": 3,
   "id": "b2b03dbf-95d3-49f6-b272-3e35cd07705a",
   "metadata": {},
   "outputs": [],
   "source": [
    "# session = login(edd_server=edd_server, user=user)\n",
    "\n",
    "# df = export_study(session, study_slug, edd_server=edd_server)\n",
    "# #df.head()"
   ]
  },
  {
   "cell_type": "markdown",
   "id": "2f51c4cc-b55f-44ab-8b2c-374350327f29",
   "metadata": {},
   "source": [
    "##### **Filter transcriptomics data from all EDD data into different dataframes**"
   ]
  },
  {
   "cell_type": "code",
   "execution_count": 4,
   "id": "9b399ad9-6558-4eaa-aac6-f57a2c3690dc",
   "metadata": {},
   "outputs": [],
   "source": [
    "# df_Trans = df[df['Protocol'].str.contains('Transcriptomics')]\n",
    "# df_Trans.head()"
   ]
  },
  {
   "cell_type": "code",
   "execution_count": 5,
   "id": "2d85d52a-ed94-4246-86f7-66272bfebe34",
   "metadata": {},
   "outputs": [
    {
     "data": {
      "text/html": [
       "<div>\n",
       "<style scoped>\n",
       "    .dataframe tbody tr th:only-of-type {\n",
       "        vertical-align: middle;\n",
       "    }\n",
       "\n",
       "    .dataframe tbody tr th {\n",
       "        vertical-align: top;\n",
       "    }\n",
       "\n",
       "    .dataframe thead th {\n",
       "        text-align: right;\n",
       "    }\n",
       "</style>\n",
       "<table border=\"1\" class=\"dataframe\">\n",
       "  <thead>\n",
       "    <tr style=\"text-align: right;\">\n",
       "      <th></th>\n",
       "      <th>Line Name</th>\n",
       "      <th>Measurement Type</th>\n",
       "      <th>Time</th>\n",
       "      <th>Count</th>\n",
       "      <th>Units</th>\n",
       "    </tr>\n",
       "  </thead>\n",
       "  <tbody>\n",
       "    <tr>\n",
       "      <th>0</th>\n",
       "      <td>WT-M-R1</td>\n",
       "      <td>WP_005263480_1</td>\n",
       "      <td>20</td>\n",
       "      <td>19.003420</td>\n",
       "      <td>CPM</td>\n",
       "    </tr>\n",
       "    <tr>\n",
       "      <th>1</th>\n",
       "      <td>WT-M-R2</td>\n",
       "      <td>WP_005263480_1</td>\n",
       "      <td>20</td>\n",
       "      <td>16.800668</td>\n",
       "      <td>CPM</td>\n",
       "    </tr>\n",
       "    <tr>\n",
       "      <th>2</th>\n",
       "      <td>WT-M-R3</td>\n",
       "      <td>WP_005263480_1</td>\n",
       "      <td>20</td>\n",
       "      <td>12.955220</td>\n",
       "      <td>CPM</td>\n",
       "    </tr>\n",
       "    <tr>\n",
       "      <th>3</th>\n",
       "      <td>WT-M-R1</td>\n",
       "      <td>WP_005263480_1</td>\n",
       "      <td>32</td>\n",
       "      <td>10.984975</td>\n",
       "      <td>CPM</td>\n",
       "    </tr>\n",
       "    <tr>\n",
       "      <th>4</th>\n",
       "      <td>WT-M-R2</td>\n",
       "      <td>WP_005263480_1</td>\n",
       "      <td>32</td>\n",
       "      <td>9.520107</td>\n",
       "      <td>CPM</td>\n",
       "    </tr>\n",
       "  </tbody>\n",
       "</table>\n",
       "</div>"
      ],
      "text/plain": [
       "  Line Name Measurement Type  Time      Count Units\n",
       "0   WT-M-R1   WP_005263480_1    20  19.003420   CPM\n",
       "1   WT-M-R2   WP_005263480_1    20  16.800668   CPM\n",
       "2   WT-M-R3   WP_005263480_1    20  12.955220   CPM\n",
       "3   WT-M-R1   WP_005263480_1    32  10.984975   CPM\n",
       "4   WT-M-R2   WP_005263480_1    32   9.520107   CPM"
      ]
     },
     "execution_count": 5,
     "metadata": {},
     "output_type": "execute_result"
    }
   ],
   "source": [
    "df_trans = pd.read_csv('../transcript_data/csv/henson_CPM_melted.csv')\n",
    "df_trans.head()"
   ]
  },
  {
   "cell_type": "code",
   "execution_count": 6,
   "id": "bca4ac45-6cb6-4172-9ada-1b4f2e662bfe",
   "metadata": {},
   "outputs": [
    {
     "data": {
      "text/html": [
       "<div>\n",
       "<style scoped>\n",
       "    .dataframe tbody tr th:only-of-type {\n",
       "        vertical-align: middle;\n",
       "    }\n",
       "\n",
       "    .dataframe tbody tr th {\n",
       "        vertical-align: top;\n",
       "    }\n",
       "\n",
       "    .dataframe thead th {\n",
       "        text-align: right;\n",
       "    }\n",
       "</style>\n",
       "<table border=\"1\" class=\"dataframe\">\n",
       "  <thead>\n",
       "    <tr style=\"text-align: right;\">\n",
       "      <th></th>\n",
       "      <th>Line Name</th>\n",
       "      <th>Measurement Type</th>\n",
       "      <th>Time</th>\n",
       "      <th>Count</th>\n",
       "      <th>Units</th>\n",
       "    </tr>\n",
       "  </thead>\n",
       "  <tbody>\n",
       "    <tr>\n",
       "      <th>38</th>\n",
       "      <td>PVHG-P-R1</td>\n",
       "      <td>WP_005263480_1</td>\n",
       "      <td>21</td>\n",
       "      <td>14.662250</td>\n",
       "      <td>CPM</td>\n",
       "    </tr>\n",
       "    <tr>\n",
       "      <th>39</th>\n",
       "      <td>PVHG-P-R2</td>\n",
       "      <td>WP_005263480_1</td>\n",
       "      <td>21</td>\n",
       "      <td>17.618488</td>\n",
       "      <td>CPM</td>\n",
       "    </tr>\n",
       "    <tr>\n",
       "      <th>40</th>\n",
       "      <td>PVHG-P-R3</td>\n",
       "      <td>WP_005263480_1</td>\n",
       "      <td>21</td>\n",
       "      <td>19.200195</td>\n",
       "      <td>CPM</td>\n",
       "    </tr>\n",
       "    <tr>\n",
       "      <th>92</th>\n",
       "      <td>PVHG-P-R1</td>\n",
       "      <td>WP_005249107_1</td>\n",
       "      <td>21</td>\n",
       "      <td>312.418712</td>\n",
       "      <td>CPM</td>\n",
       "    </tr>\n",
       "    <tr>\n",
       "      <th>93</th>\n",
       "      <td>PVHG-P-R2</td>\n",
       "      <td>WP_005249107_1</td>\n",
       "      <td>21</td>\n",
       "      <td>293.171633</td>\n",
       "      <td>CPM</td>\n",
       "    </tr>\n",
       "  </tbody>\n",
       "</table>\n",
       "</div>"
      ],
      "text/plain": [
       "    Line Name Measurement Type  Time       Count Units\n",
       "38  PVHG-P-R1   WP_005263480_1    21   14.662250   CPM\n",
       "39  PVHG-P-R2   WP_005263480_1    21   17.618488   CPM\n",
       "40  PVHG-P-R3   WP_005263480_1    21   19.200195   CPM\n",
       "92  PVHG-P-R1   WP_005249107_1    21  312.418712   CPM\n",
       "93  PVHG-P-R2   WP_005249107_1    21  293.171633   CPM"
      ]
     },
     "execution_count": 6,
     "metadata": {},
     "output_type": "execute_result"
    }
   ],
   "source": [
    "# time could be 21 or 24\n",
    "df_trans = df_trans[df_trans['Time'] == 21 ]\n",
    "df_trans.head()"
   ]
  },
  {
   "cell_type": "markdown",
   "id": "c7252a93-7cea-4b7c-8375-c03a194a9524",
   "metadata": {},
   "source": [
    "##### **Load Genome Scale Model**"
   ]
  },
  {
   "cell_type": "code",
   "execution_count": 7,
   "id": "6f6b96da-3aaf-49fd-9dec-b674a678d243",
   "metadata": {},
   "outputs": [],
   "source": [
    "model = cobra.io.read_sbml_model(\"../GSMs/Ropacus_annotated.xml\")"
   ]
  },
  {
   "cell_type": "markdown",
   "id": "bf840d01-0772-4d45-b846-06e7d2348652",
   "metadata": {
    "tags": []
   },
   "source": [
    "#### **1. EFLUX2 Predictions for Wild type**"
   ]
  },
  {
   "cell_type": "code",
   "execution_count": 8,
   "id": "968f1478-cee2-4db7-9ff6-106c84370994",
   "metadata": {},
   "outputs": [
    {
     "name": "stdout",
     "output_type": "stream",
     "text": [
      "running first replicate\n",
      "FBA status optimal\n",
      "FBA solution 0.0\n"
     ]
    },
    {
     "data": {
      "text/plain": [
       "<optlang.cplex_interface.Objective at 0x7f18e931b250>"
      ]
     },
     "metadata": {},
     "output_type": "display_data"
    },
    {
     "data": {
      "text/plain": [
       "{'EX_ca2_e': 1000.0,\n",
       " 'EX_cl_e': 1000.0,\n",
       " 'EX_cobalt2_e': 1000.0,\n",
       " 'EX_cu2_e': 1000.0,\n",
       " 'EX_fe2_e': 1000.0,\n",
       " 'EX_fe3_e': 1000.0,\n",
       " 'EX_h2o_e': 1000.0,\n",
       " 'EX_h_e': 1000.0,\n",
       " 'EX_k_e': 1000.0,\n",
       " 'EX_mg2_e': 1000.0,\n",
       " 'EX_mn2_e': 1000.0,\n",
       " 'EX_mobd_e': 1000.0,\n",
       " 'EX_nh4_e': 1000.0,\n",
       " 'EX_o2_e': 1000.0,\n",
       " 'EX_pi_e': 1000.0,\n",
       " 'EX_so4_e': 1000.0,\n",
       " 'EX_zn2_e': 1000.0}"
      ]
     },
     "metadata": {},
     "output_type": "display_data"
    },
    {
     "name": "stdout",
     "output_type": "stream",
     "text": [
      "EFlux2 status optimal\n",
      "EFlux2 solution 0.0\n",
      "running second replicate\n",
      "FBA status optimal\n",
      "FBA solution 0.0\n"
     ]
    },
    {
     "data": {
      "text/plain": [
       "<optlang.cplex_interface.Objective at 0x7f18d913f110>"
      ]
     },
     "metadata": {},
     "output_type": "display_data"
    },
    {
     "data": {
      "text/plain": [
       "{'EX_ca2_e': 1000.0,\n",
       " 'EX_cl_e': 1000.0,\n",
       " 'EX_cobalt2_e': 1000.0,\n",
       " 'EX_cu2_e': 1000.0,\n",
       " 'EX_fe2_e': 1000.0,\n",
       " 'EX_fe3_e': 1000.0,\n",
       " 'EX_h2o_e': 1000.0,\n",
       " 'EX_h_e': 1000.0,\n",
       " 'EX_k_e': 1000.0,\n",
       " 'EX_mg2_e': 1000.0,\n",
       " 'EX_mn2_e': 1000.0,\n",
       " 'EX_mobd_e': 1000.0,\n",
       " 'EX_nh4_e': 1000.0,\n",
       " 'EX_o2_e': 1000.0,\n",
       " 'EX_pi_e': 1000.0,\n",
       " 'EX_so4_e': 1000.0,\n",
       " 'EX_zn2_e': 1000.0}"
      ]
     },
     "metadata": {},
     "output_type": "display_data"
    },
    {
     "name": "stdout",
     "output_type": "stream",
     "text": [
      "EFlux2 status optimal\n",
      "EFlux2 solution 0.0\n",
      "running third replicate\n",
      "FBA status optimal\n",
      "FBA solution 0.0\n"
     ]
    },
    {
     "data": {
      "text/plain": [
       "<optlang.cplex_interface.Objective at 0x7f18d11cb190>"
      ]
     },
     "metadata": {},
     "output_type": "display_data"
    },
    {
     "data": {
      "text/plain": [
       "{'EX_ca2_e': 1000.0,\n",
       " 'EX_cl_e': 1000.0,\n",
       " 'EX_cobalt2_e': 1000.0,\n",
       " 'EX_cu2_e': 1000.0,\n",
       " 'EX_fe2_e': 1000.0,\n",
       " 'EX_fe3_e': 1000.0,\n",
       " 'EX_h2o_e': 1000.0,\n",
       " 'EX_h_e': 1000.0,\n",
       " 'EX_k_e': 1000.0,\n",
       " 'EX_mg2_e': 1000.0,\n",
       " 'EX_mn2_e': 1000.0,\n",
       " 'EX_mobd_e': 1000.0,\n",
       " 'EX_nh4_e': 1000.0,\n",
       " 'EX_o2_e': 1000.0,\n",
       " 'EX_pi_e': 1000.0,\n",
       " 'EX_so4_e': 1000.0,\n",
       " 'EX_zn2_e': 1000.0}"
      ]
     },
     "metadata": {},
     "output_type": "display_data"
    },
    {
     "name": "stdout",
     "output_type": "stream",
     "text": [
      "EFlux2 status optimal\n",
      "EFlux2 solution 0.0\n"
     ]
    }
   ],
   "source": [
    "eflux2sol, eflux2sol_std = eflux2_pred_for_three_reps(model, df_trans, 'WT-P-R1', 'WT-P-R2','WT-P-R3', 'phenol')"
   ]
  },
  {
   "cell_type": "markdown",
   "id": "8c8642a5-0674-49b5-abcf-550bcef3e26b",
   "metadata": {
    "tags": []
   },
   "source": [
    "##### **Save solution to data frame**"
   ]
  },
  {
   "cell_type": "code",
   "execution_count": 9,
   "id": "bb9986b1-aa25-41f2-a345-2212a9dcfcdd",
   "metadata": {},
   "outputs": [],
   "source": [
    "eflux2soldf = pd.DataFrame(eflux2sol, columns=['fluxes'])\n",
    "eflux2solstddf = pd.DataFrame(eflux2sol_std, columns=['stds'])"
   ]
  },
  {
   "cell_type": "markdown",
   "id": "f2b56330-bf60-462c-b28d-fe23d7d5a536",
   "metadata": {
    "tags": []
   },
   "source": [
    "#### **2. Plot solutions: Comparison of EFLUX2 WT predictions and 13c measurements**"
   ]
  },
  {
   "cell_type": "markdown",
   "id": "2d24cffa-b3b2-4993-babf-1250438387cc",
   "metadata": {
    "tags": []
   },
   "source": [
    "##### **Load 13cdata**"
   ]
  },
  {
   "cell_type": "markdown",
   "id": "88a386ea-554f-465a-9294-139810642178",
   "metadata": {
    "tags": []
   },
   "source": [
    "#####  **Get 13C MFA measured fluxes for phenol**"
   ]
  },
  {
   "cell_type": "code",
   "execution_count": 10,
   "id": "6c11dda6-c5ed-4cb1-843b-c492e7a2d818",
   "metadata": {},
   "outputs": [
    {
     "name": "stdout",
     "output_type": "stream",
     "text": [
      "There are 44 fluxes that can be compared between the MFA and FBA\n"
     ]
    },
    {
     "data": {
      "text/html": [
       "<div>\n",
       "<style scoped>\n",
       "    .dataframe tbody tr th:only-of-type {\n",
       "        vertical-align: middle;\n",
       "    }\n",
       "\n",
       "    .dataframe tbody tr th {\n",
       "        vertical-align: top;\n",
       "    }\n",
       "\n",
       "    .dataframe thead th {\n",
       "        text-align: right;\n",
       "    }\n",
       "</style>\n",
       "<table border=\"1\" class=\"dataframe\">\n",
       "  <thead>\n",
       "    <tr style=\"text-align: right;\">\n",
       "      <th></th>\n",
       "      <th>Pathway</th>\n",
       "      <th>Forward Reactions</th>\n",
       "      <th>Reaction</th>\n",
       "      <th>Location on map</th>\n",
       "      <th>Flux</th>\n",
       "      <th>90% Confidence Lower Bound</th>\n",
       "      <th>90% Confidence Upper Bound</th>\n",
       "    </tr>\n",
       "  </thead>\n",
       "  <tbody>\n",
       "    <tr>\n",
       "      <th>0</th>\n",
       "      <td>Substrate Uptake</td>\n",
       "      <td>PHEMOX</td>\n",
       "      <td>Phenol.ext -&gt; AcCoA + SucCoA</td>\n",
       "      <td>( 80, -450)</td>\n",
       "      <td>1.000000e+02</td>\n",
       "      <td>1.000000e+02</td>\n",
       "      <td>100.0000</td>\n",
       "    </tr>\n",
       "    <tr>\n",
       "      <th>1</th>\n",
       "      <td>EMP Pathway</td>\n",
       "      <td>PGI</td>\n",
       "      <td>G6P &lt;-&gt; F6P</td>\n",
       "      <td>(-150, 430)</td>\n",
       "      <td>-4.793000e-01</td>\n",
       "      <td>-1.421900e+00</td>\n",
       "      <td>0.9306</td>\n",
       "    </tr>\n",
       "    <tr>\n",
       "      <th>2</th>\n",
       "      <td>EMP Pathway</td>\n",
       "      <td>PFK or reverse_FBP</td>\n",
       "      <td>F6P + ATP -&gt; FBP</td>\n",
       "      <td>(-220, 195)</td>\n",
       "      <td>-2.000000e+00</td>\n",
       "      <td>-2.000000e+00</td>\n",
       "      <td>-0.7683</td>\n",
       "    </tr>\n",
       "    <tr>\n",
       "      <th>3</th>\n",
       "      <td>EMP Pathway</td>\n",
       "      <td>FBA</td>\n",
       "      <td>FBP &lt;-&gt; DHAP + GAP</td>\n",
       "      <td>(-140, 115)</td>\n",
       "      <td>-2.000000e+00</td>\n",
       "      <td>-2.000000e+00</td>\n",
       "      <td>-0.7683</td>\n",
       "    </tr>\n",
       "    <tr>\n",
       "      <th>4</th>\n",
       "      <td>EMP Pathway</td>\n",
       "      <td>TPI</td>\n",
       "      <td>DHAP &lt;-&gt; GAP</td>\n",
       "      <td>(-270, 150)</td>\n",
       "      <td>-2.000000e+00</td>\n",
       "      <td>-2.000000e+00</td>\n",
       "      <td>-0.7683</td>\n",
       "    </tr>\n",
       "    <tr>\n",
       "      <th>5</th>\n",
       "      <td>EMP Pathway</td>\n",
       "      <td>GAPD or reverse_GAPDi_nadp</td>\n",
       "      <td>GAP &lt;-&gt; G1,3P</td>\n",
       "      <td>(-220, 30)</td>\n",
       "      <td>-1.079070e+01</td>\n",
       "      <td>-1.122350e+01</td>\n",
       "      <td>-9.1040</td>\n",
       "    </tr>\n",
       "    <tr>\n",
       "      <th>6</th>\n",
       "      <td>EMP Pathway</td>\n",
       "      <td>reverse_PGK</td>\n",
       "      <td>G1,3P &lt;-&gt; 3PG + ATP + NADH</td>\n",
       "      <td>(-220, -55)</td>\n",
       "      <td>-1.079070e+01</td>\n",
       "      <td>-1.122350e+01</td>\n",
       "      <td>-9.1040</td>\n",
       "    </tr>\n",
       "    <tr>\n",
       "      <th>7</th>\n",
       "      <td>EMP Pathway</td>\n",
       "      <td>reverse_PGM</td>\n",
       "      <td>3PG &lt;-&gt; 2PG</td>\n",
       "      <td>(-220, -135)</td>\n",
       "      <td>-1.625380e+01</td>\n",
       "      <td>-1.695560e+01</td>\n",
       "      <td>-13.6034</td>\n",
       "    </tr>\n",
       "    <tr>\n",
       "      <th>8</th>\n",
       "      <td>EMP Pathway</td>\n",
       "      <td>ENO</td>\n",
       "      <td>2PG &lt;-&gt; PEP</td>\n",
       "      <td>(-220, -215)</td>\n",
       "      <td>-1.625380e+01</td>\n",
       "      <td>-1.695560e+01</td>\n",
       "      <td>-13.6034</td>\n",
       "    </tr>\n",
       "    <tr>\n",
       "      <th>9</th>\n",
       "      <td>EMP Pathway</td>\n",
       "      <td>ACMANApts or reverse_PPS or PYK or FRUptspp or...</td>\n",
       "      <td>PEP &lt;-&gt; Pyr + ATP</td>\n",
       "      <td>(-220, -295)</td>\n",
       "      <td>2.999990e+01</td>\n",
       "      <td>0.000000e+00</td>\n",
       "      <td>30.0000</td>\n",
       "    </tr>\n",
       "    <tr>\n",
       "      <th>10</th>\n",
       "      <td>Pentose Phosphate Pathway</td>\n",
       "      <td>GND</td>\n",
       "      <td>6PG &lt;-&gt; Ru5P + CO2 + NADPH</td>\n",
       "      <td>(275, 350)</td>\n",
       "      <td>4.646000e-01</td>\n",
       "      <td>-1.659900e+00</td>\n",
       "      <td>1.8755</td>\n",
       "    </tr>\n",
       "    <tr>\n",
       "      <th>11</th>\n",
       "      <td>Pentose Phosphate Pathway</td>\n",
       "      <td>RPE</td>\n",
       "      <td>Ru5P &lt;-&gt; X5P</td>\n",
       "      <td>(380, 190)</td>\n",
       "      <td>-1.187400e+00</td>\n",
       "      <td>-2.611500e+00</td>\n",
       "      <td>-0.2468</td>\n",
       "    </tr>\n",
       "    <tr>\n",
       "      <th>12</th>\n",
       "      <td>Pentose Phosphate Pathway</td>\n",
       "      <td>reverse_RPI</td>\n",
       "      <td>Ru5P &lt;-&gt; R5P</td>\n",
       "      <td>(270, 230)</td>\n",
       "      <td>1.652100e+00</td>\n",
       "      <td>9.081000e-01</td>\n",
       "      <td>2.1385</td>\n",
       "    </tr>\n",
       "    <tr>\n",
       "      <th>13</th>\n",
       "      <td>Pentose Phosphate Pathway</td>\n",
       "      <td>TKT2</td>\n",
       "      <td>X5P &lt;-&gt; TKC2 + GAP</td>\n",
       "      <td>(270, 100)</td>\n",
       "      <td>-1.187400e+00</td>\n",
       "      <td>-2.611500e+00</td>\n",
       "      <td>-0.2468</td>\n",
       "    </tr>\n",
       "    <tr>\n",
       "      <th>14</th>\n",
       "      <td>Pentose Phosphate Pathway</td>\n",
       "      <td>TKT2</td>\n",
       "      <td>TKC2 + E4P &lt;-&gt; F6P</td>\n",
       "      <td>(10, 280)</td>\n",
       "      <td>-1.187400e+00</td>\n",
       "      <td>-1.909000e+00</td>\n",
       "      <td>-0.7099</td>\n",
       "    </tr>\n",
       "    <tr>\n",
       "      <th>15</th>\n",
       "      <td>Pentose Phosphate Pathway</td>\n",
       "      <td>TKT1</td>\n",
       "      <td>TKC2 + R5P &lt;-&gt; S7P</td>\n",
       "      <td>(120, 230)</td>\n",
       "      <td>2.130000e-14</td>\n",
       "      <td>-7.076000e-01</td>\n",
       "      <td>0.4698</td>\n",
       "    </tr>\n",
       "    <tr>\n",
       "      <th>16</th>\n",
       "      <td>Pentose Phosphate Pathway</td>\n",
       "      <td>TALA</td>\n",
       "      <td>TAC3 + GAP &lt;-&gt; F6P</td>\n",
       "      <td>(-70, 190)</td>\n",
       "      <td>7.110000e-15</td>\n",
       "      <td>-7.076000e-01</td>\n",
       "      <td>0.4698</td>\n",
       "    </tr>\n",
       "    <tr>\n",
       "      <th>17</th>\n",
       "      <td>Pentose Phosphate Pathway</td>\n",
       "      <td>TALA</td>\n",
       "      <td>S7P &lt;-&gt; TAC3 + E4P</td>\n",
       "      <td>(50, 230)</td>\n",
       "      <td>8.530000e-14</td>\n",
       "      <td>-7.076000e-01</td>\n",
       "      <td>0.4698</td>\n",
       "    </tr>\n",
       "    <tr>\n",
       "      <th>18</th>\n",
       "      <td>ED Pathway</td>\n",
       "      <td>G6PDH2r and PGL</td>\n",
       "      <td>G6P &lt;-&gt; 6PG + NADPH</td>\n",
       "      <td>(50, 380)</td>\n",
       "      <td>-5.767000e-01</td>\n",
       "      <td>-2.018100e+00</td>\n",
       "      <td>0.3824</td>\n",
       "    </tr>\n",
       "    <tr>\n",
       "      <th>19</th>\n",
       "      <td>ED Pathway</td>\n",
       "      <td>EDD</td>\n",
       "      <td>6PG &lt;-&gt; KDPG</td>\n",
       "      <td>(-300, 350)</td>\n",
       "      <td>-1.041300e+00</td>\n",
       "      <td>-2.524300e+00</td>\n",
       "      <td>0.2447</td>\n",
       "    </tr>\n",
       "    <tr>\n",
       "      <th>20</th>\n",
       "      <td>ED Pathway</td>\n",
       "      <td>EDA</td>\n",
       "      <td>KDPG &lt;-&gt; Pyr + GAP</td>\n",
       "      <td>(-300, 50)</td>\n",
       "      <td>-1.041300e+00</td>\n",
       "      <td>-2.524300e+00</td>\n",
       "      <td>0.2447</td>\n",
       "    </tr>\n",
       "    <tr>\n",
       "      <th>21</th>\n",
       "      <td>TCA Cycle</td>\n",
       "      <td>PDH</td>\n",
       "      <td>Pyr &lt;-&gt; AcCoA + CO2 + NADH</td>\n",
       "      <td>(-220, -370)</td>\n",
       "      <td>5.923270e+01</td>\n",
       "      <td>5.668260e+01</td>\n",
       "      <td>62.0459</td>\n",
       "    </tr>\n",
       "    <tr>\n",
       "      <th>22</th>\n",
       "      <td>TCA Cycle</td>\n",
       "      <td>CS or reverse_CITL</td>\n",
       "      <td>OAC + AcCoA &lt;-&gt; Cit</td>\n",
       "      <td>(-55, -340)</td>\n",
       "      <td>1.144391e+02</td>\n",
       "      <td>1.102766e+02</td>\n",
       "      <td>118.4800</td>\n",
       "    </tr>\n",
       "    <tr>\n",
       "      <th>23</th>\n",
       "      <td>TCA Cycle</td>\n",
       "      <td>ACONT or ( ACONTa and ACONTb)</td>\n",
       "      <td>Cit &lt;-&gt; ICit</td>\n",
       "      <td>(145, -310)</td>\n",
       "      <td>1.144391e+02</td>\n",
       "      <td>1.102766e+02</td>\n",
       "      <td>118.4800</td>\n",
       "    </tr>\n",
       "    <tr>\n",
       "      <th>24</th>\n",
       "      <td>TCA Cycle</td>\n",
       "      <td>ICDHx or ICDHyr</td>\n",
       "      <td>ICit &lt;-&gt; AKG + CO2 + NADPH</td>\n",
       "      <td>(290, -310)</td>\n",
       "      <td>1.134677e+02</td>\n",
       "      <td>1.068011e+02</td>\n",
       "      <td>118.4800</td>\n",
       "    </tr>\n",
       "    <tr>\n",
       "      <th>25</th>\n",
       "      <td>TCA Cycle</td>\n",
       "      <td>AKGDH or reverse_KGD2</td>\n",
       "      <td>AKG &lt;-&gt; SucCoA + CO2 + NADH</td>\n",
       "      <td>(290, -195)</td>\n",
       "      <td>1.086053e+02</td>\n",
       "      <td>1.017297e+02</td>\n",
       "      <td>113.8305</td>\n",
       "    </tr>\n",
       "    <tr>\n",
       "      <th>26</th>\n",
       "      <td>TCA Cycle</td>\n",
       "      <td>SUCBZT2 or OCOAT1 or SUCBZT1 or reverse_SUCOAS...</td>\n",
       "      <td>SucCoA &lt;-&gt; Suc + ATP</td>\n",
       "      <td>(290, -55)</td>\n",
       "      <td>2.074789e+02</td>\n",
       "      <td>2.005620e+02</td>\n",
       "      <td>212.7536</td>\n",
       "    </tr>\n",
       "    <tr>\n",
       "      <th>27</th>\n",
       "      <td>TCA Cycle</td>\n",
       "      <td>reverse_FRD3 or reverse_FRD2 or reverse_ASPO5 ...</td>\n",
       "      <td>Suc &lt;-&gt; Fum + FADH2</td>\n",
       "      <td>(160, -55)</td>\n",
       "      <td>2.085767e+02</td>\n",
       "      <td>2.032666e+02</td>\n",
       "      <td>212.8305</td>\n",
       "    </tr>\n",
       "    <tr>\n",
       "      <th>28</th>\n",
       "      <td>TCA Cycle</td>\n",
       "      <td>FUM</td>\n",
       "      <td>Fum &lt;-&gt; Mal</td>\n",
       "      <td>(10, -55)</td>\n",
       "      <td>2.096703e+02</td>\n",
       "      <td>2.043514e+02</td>\n",
       "      <td>213.8762</td>\n",
       "    </tr>\n",
       "    <tr>\n",
       "      <th>29</th>\n",
       "      <td>TCA Cycle</td>\n",
       "      <td>MDH or MDH2 or MDH3 or MDH3_1 or DMALRED</td>\n",
       "      <td>Mal &lt;-&gt; OAC + NADH</td>\n",
       "      <td>(-60, -180)</td>\n",
       "      <td>1.710231e+02</td>\n",
       "      <td>1.292999e+02</td>\n",
       "      <td>174.5648</td>\n",
       "    </tr>\n",
       "    <tr>\n",
       "      <th>30</th>\n",
       "      <td>Glyoxylate Shunt</td>\n",
       "      <td>ICL</td>\n",
       "      <td>ICit -&gt; Glyox + Suc</td>\n",
       "      <td>(180, -140)</td>\n",
       "      <td>9.714000e-01</td>\n",
       "      <td>7.110000e-15</td>\n",
       "      <td>4.5567</td>\n",
       "    </tr>\n",
       "    <tr>\n",
       "      <th>31</th>\n",
       "      <td>Glyoxylate Shunt</td>\n",
       "      <td>MALS</td>\n",
       "      <td>Glyox + AcCoA -&gt; Mal</td>\n",
       "      <td>(90, -140)</td>\n",
       "      <td>9.714000e-01</td>\n",
       "      <td>0.000000e+00</td>\n",
       "      <td>4.5567</td>\n",
       "    </tr>\n",
       "    <tr>\n",
       "      <th>32</th>\n",
       "      <td>Anaplerotic Reactions</td>\n",
       "      <td>PC or reverse_OAADC</td>\n",
       "      <td>Pyr + CO2 + ATP -&gt; OAC</td>\n",
       "      <td>NaN</td>\n",
       "      <td>1.000000e-07</td>\n",
       "      <td>0.000000e+00</td>\n",
       "      <td>44.8577</td>\n",
       "    </tr>\n",
       "    <tr>\n",
       "      <th>33</th>\n",
       "      <td>Anaplerotic Reactions</td>\n",
       "      <td>ME1 or ME2</td>\n",
       "      <td>Mal -&gt; Pyr + CO2 + NADH</td>\n",
       "      <td>NaN</td>\n",
       "      <td>3.961870e+01</td>\n",
       "      <td>3.704340e+01</td>\n",
       "      <td>100.0000</td>\n",
       "    </tr>\n",
       "    <tr>\n",
       "      <th>34</th>\n",
       "      <td>Anaplerotic Reactions</td>\n",
       "      <td>PPC or reverse_PEPCK_re</td>\n",
       "      <td>PEP + CO2 -&gt; OAC</td>\n",
       "      <td>NaN</td>\n",
       "      <td>4.890390e+01</td>\n",
       "      <td>0.000000e+00</td>\n",
       "      <td>59.1635</td>\n",
       "    </tr>\n",
       "    <tr>\n",
       "      <th>35</th>\n",
       "      <td>Anaplerotic Reactions</td>\n",
       "      <td>PEPCK_re</td>\n",
       "      <td>OAC + ATP -&gt; PEP + CO2</td>\n",
       "      <td>NaN</td>\n",
       "      <td>9.777180e+01</td>\n",
       "      <td>1.292690e+01</td>\n",
       "      <td>100.0000</td>\n",
       "    </tr>\n",
       "    <tr>\n",
       "      <th>36</th>\n",
       "      <td>Acetate Formation</td>\n",
       "      <td>BUTCT or A4HBCT or ACOXT or reverse_ACS or rev...</td>\n",
       "      <td>AcCoA &lt;-&gt; Ac + ATP</td>\n",
       "      <td>NaN</td>\n",
       "      <td>-1.234400e+00</td>\n",
       "      <td>-1.295100e+00</td>\n",
       "      <td>-1.1565</td>\n",
       "    </tr>\n",
       "    <tr>\n",
       "      <th>64</th>\n",
       "      <td>Energy Reactions</td>\n",
       "      <td>reverse_NADTRHD</td>\n",
       "      <td>NADH &lt;-&gt; NADPH</td>\n",
       "      <td>NaN</td>\n",
       "      <td>1.443160e+01</td>\n",
       "      <td>1.108700e+00</td>\n",
       "      <td>27.2447</td>\n",
       "    </tr>\n",
       "    <tr>\n",
       "      <th>65</th>\n",
       "      <td>Energy Reactions</td>\n",
       "      <td>ATPM</td>\n",
       "      <td>ATP -&gt; ATP.ext</td>\n",
       "      <td>NaN</td>\n",
       "      <td>6.800864e+02</td>\n",
       "      <td>6.131475e+02</td>\n",
       "      <td>787.5166</td>\n",
       "    </tr>\n",
       "    <tr>\n",
       "      <th>66</th>\n",
       "      <td>Transport</td>\n",
       "      <td>EX_co2_e</td>\n",
       "      <td>CO2 -&gt; CO2.ext</td>\n",
       "      <td>NaN</td>\n",
       "      <td>3.764570e+02</td>\n",
       "      <td>3.650427e+02</td>\n",
       "      <td>386.6854</td>\n",
       "    </tr>\n",
       "    <tr>\n",
       "      <th>67</th>\n",
       "      <td>Transport</td>\n",
       "      <td>reverse_EX_o2_e</td>\n",
       "      <td>O2.ext -&gt; O2</td>\n",
       "      <td>NaN</td>\n",
       "      <td>4.336956e+02</td>\n",
       "      <td>4.207564e+02</td>\n",
       "      <td>445.9396</td>\n",
       "    </tr>\n",
       "    <tr>\n",
       "      <th>68</th>\n",
       "      <td>Transport</td>\n",
       "      <td>reverse_EX_so4_e</td>\n",
       "      <td>NH3.ext -&gt; NH3</td>\n",
       "      <td>NaN</td>\n",
       "      <td>2.575270e+01</td>\n",
       "      <td>2.412740e+01</td>\n",
       "      <td>27.0206</td>\n",
       "    </tr>\n",
       "    <tr>\n",
       "      <th>69</th>\n",
       "      <td>Transport</td>\n",
       "      <td>SO4t2</td>\n",
       "      <td>SO4.ext -&gt; SO4</td>\n",
       "      <td>NaN</td>\n",
       "      <td>4.177000e-01</td>\n",
       "      <td>3.913000e-01</td>\n",
       "      <td>0.4383</td>\n",
       "    </tr>\n",
       "    <tr>\n",
       "      <th>71</th>\n",
       "      <td>Biomass Equation</td>\n",
       "      <td>Growth or Growth_Phenol or Growth_Glucose</td>\n",
       "      <td>0.515*Ala + 0.174*Arg + 0.153*Asn + 0.439*Asp ...</td>\n",
       "      <td>NaN</td>\n",
       "      <td>4.693400e+00</td>\n",
       "      <td>4.397200e+00</td>\n",
       "      <td>4.9245</td>\n",
       "    </tr>\n",
       "  </tbody>\n",
       "</table>\n",
       "</div>"
      ],
      "text/plain": [
       "                      Pathway  \\\n",
       "0            Substrate Uptake   \n",
       "1                 EMP Pathway   \n",
       "2                 EMP Pathway   \n",
       "3                 EMP Pathway   \n",
       "4                 EMP Pathway   \n",
       "5                 EMP Pathway   \n",
       "6                 EMP Pathway   \n",
       "7                 EMP Pathway   \n",
       "8                 EMP Pathway   \n",
       "9                 EMP Pathway   \n",
       "10  Pentose Phosphate Pathway   \n",
       "11  Pentose Phosphate Pathway   \n",
       "12  Pentose Phosphate Pathway   \n",
       "13  Pentose Phosphate Pathway   \n",
       "14  Pentose Phosphate Pathway   \n",
       "15  Pentose Phosphate Pathway   \n",
       "16  Pentose Phosphate Pathway   \n",
       "17  Pentose Phosphate Pathway   \n",
       "18                 ED Pathway   \n",
       "19                 ED Pathway   \n",
       "20                 ED Pathway   \n",
       "21                  TCA Cycle   \n",
       "22                  TCA Cycle   \n",
       "23                  TCA Cycle   \n",
       "24                  TCA Cycle   \n",
       "25                  TCA Cycle   \n",
       "26                  TCA Cycle   \n",
       "27                  TCA Cycle   \n",
       "28                  TCA Cycle   \n",
       "29                  TCA Cycle   \n",
       "30           Glyoxylate Shunt   \n",
       "31           Glyoxylate Shunt   \n",
       "32      Anaplerotic Reactions   \n",
       "33      Anaplerotic Reactions   \n",
       "34      Anaplerotic Reactions   \n",
       "35      Anaplerotic Reactions   \n",
       "36          Acetate Formation   \n",
       "64           Energy Reactions   \n",
       "65           Energy Reactions   \n",
       "66                  Transport   \n",
       "67                  Transport   \n",
       "68                  Transport   \n",
       "69                  Transport   \n",
       "71           Biomass Equation   \n",
       "\n",
       "                                    Forward Reactions  \\\n",
       "0                                              PHEMOX   \n",
       "1                                                 PGI   \n",
       "2                                  PFK or reverse_FBP   \n",
       "3                                                 FBA   \n",
       "4                                                 TPI   \n",
       "5                          GAPD or reverse_GAPDi_nadp   \n",
       "6                                         reverse_PGK   \n",
       "7                                         reverse_PGM   \n",
       "8                                                 ENO   \n",
       "9   ACMANApts or reverse_PPS or PYK or FRUptspp or...   \n",
       "10                                                GND   \n",
       "11                                                RPE   \n",
       "12                                        reverse_RPI   \n",
       "13                                               TKT2   \n",
       "14                                               TKT2   \n",
       "15                                               TKT1   \n",
       "16                                               TALA   \n",
       "17                                               TALA   \n",
       "18                                    G6PDH2r and PGL   \n",
       "19                                                EDD   \n",
       "20                                                EDA   \n",
       "21                                                PDH   \n",
       "22                                 CS or reverse_CITL   \n",
       "23                      ACONT or ( ACONTa and ACONTb)   \n",
       "24                                    ICDHx or ICDHyr   \n",
       "25                              AKGDH or reverse_KGD2   \n",
       "26  SUCBZT2 or OCOAT1 or SUCBZT1 or reverse_SUCOAS...   \n",
       "27  reverse_FRD3 or reverse_FRD2 or reverse_ASPO5 ...   \n",
       "28                                                FUM   \n",
       "29           MDH or MDH2 or MDH3 or MDH3_1 or DMALRED   \n",
       "30                                                ICL   \n",
       "31                                               MALS   \n",
       "32                                PC or reverse_OAADC   \n",
       "33                                         ME1 or ME2   \n",
       "34                            PPC or reverse_PEPCK_re   \n",
       "35                                           PEPCK_re   \n",
       "36  BUTCT or A4HBCT or ACOXT or reverse_ACS or rev...   \n",
       "64                                    reverse_NADTRHD   \n",
       "65                                               ATPM   \n",
       "66                                           EX_co2_e   \n",
       "67                                    reverse_EX_o2_e   \n",
       "68                                   reverse_EX_so4_e   \n",
       "69                                              SO4t2   \n",
       "71          Growth or Growth_Phenol or Growth_Glucose   \n",
       "\n",
       "                                             Reaction Location on map  \\\n",
       "0                        Phenol.ext -> AcCoA + SucCoA     ( 80, -450)   \n",
       "1                                         G6P <-> F6P     (-150, 430)   \n",
       "2                                    F6P + ATP -> FBP     (-220, 195)   \n",
       "3                                  FBP <-> DHAP + GAP     (-140, 115)   \n",
       "4                                        DHAP <-> GAP     (-270, 150)   \n",
       "5                                       GAP <-> G1,3P      (-220, 30)   \n",
       "6                          G1,3P <-> 3PG + ATP + NADH     (-220, -55)   \n",
       "7                                         3PG <-> 2PG    (-220, -135)   \n",
       "8                                         2PG <-> PEP    (-220, -215)   \n",
       "9                                   PEP <-> Pyr + ATP    (-220, -295)   \n",
       "10                         6PG <-> Ru5P + CO2 + NADPH      (275, 350)   \n",
       "11                                       Ru5P <-> X5P      (380, 190)   \n",
       "12                                       Ru5P <-> R5P      (270, 230)   \n",
       "13                                 X5P <-> TKC2 + GAP      (270, 100)   \n",
       "14                                 TKC2 + E4P <-> F6P       (10, 280)   \n",
       "15                                 TKC2 + R5P <-> S7P      (120, 230)   \n",
       "16                                 TAC3 + GAP <-> F6P      (-70, 190)   \n",
       "17                                 S7P <-> TAC3 + E4P       (50, 230)   \n",
       "18                                G6P <-> 6PG + NADPH       (50, 380)   \n",
       "19                                       6PG <-> KDPG     (-300, 350)   \n",
       "20                                 KDPG <-> Pyr + GAP      (-300, 50)   \n",
       "21                         Pyr <-> AcCoA + CO2 + NADH    (-220, -370)   \n",
       "22                                OAC + AcCoA <-> Cit     (-55, -340)   \n",
       "23                                       Cit <-> ICit     (145, -310)   \n",
       "24                         ICit <-> AKG + CO2 + NADPH     (290, -310)   \n",
       "25                        AKG <-> SucCoA + CO2 + NADH     (290, -195)   \n",
       "26                               SucCoA <-> Suc + ATP      (290, -55)   \n",
       "27                                Suc <-> Fum + FADH2      (160, -55)   \n",
       "28                                        Fum <-> Mal       (10, -55)   \n",
       "29                                 Mal <-> OAC + NADH     (-60, -180)   \n",
       "30                                ICit -> Glyox + Suc     (180, -140)   \n",
       "31                               Glyox + AcCoA -> Mal      (90, -140)   \n",
       "32                             Pyr + CO2 + ATP -> OAC             NaN   \n",
       "33                            Mal -> Pyr + CO2 + NADH             NaN   \n",
       "34                                   PEP + CO2 -> OAC             NaN   \n",
       "35                             OAC + ATP -> PEP + CO2             NaN   \n",
       "36                                 AcCoA <-> Ac + ATP             NaN   \n",
       "64                                     NADH <-> NADPH             NaN   \n",
       "65                                     ATP -> ATP.ext             NaN   \n",
       "66                                     CO2 -> CO2.ext             NaN   \n",
       "67                                       O2.ext -> O2             NaN   \n",
       "68                                     NH3.ext -> NH3             NaN   \n",
       "69                                     SO4.ext -> SO4             NaN   \n",
       "71  0.515*Ala + 0.174*Arg + 0.153*Asn + 0.439*Asp ...             NaN   \n",
       "\n",
       "            Flux  90% Confidence Lower Bound  90% Confidence Upper Bound  \n",
       "0   1.000000e+02                1.000000e+02                    100.0000  \n",
       "1  -4.793000e-01               -1.421900e+00                      0.9306  \n",
       "2  -2.000000e+00               -2.000000e+00                     -0.7683  \n",
       "3  -2.000000e+00               -2.000000e+00                     -0.7683  \n",
       "4  -2.000000e+00               -2.000000e+00                     -0.7683  \n",
       "5  -1.079070e+01               -1.122350e+01                     -9.1040  \n",
       "6  -1.079070e+01               -1.122350e+01                     -9.1040  \n",
       "7  -1.625380e+01               -1.695560e+01                    -13.6034  \n",
       "8  -1.625380e+01               -1.695560e+01                    -13.6034  \n",
       "9   2.999990e+01                0.000000e+00                     30.0000  \n",
       "10  4.646000e-01               -1.659900e+00                      1.8755  \n",
       "11 -1.187400e+00               -2.611500e+00                     -0.2468  \n",
       "12  1.652100e+00                9.081000e-01                      2.1385  \n",
       "13 -1.187400e+00               -2.611500e+00                     -0.2468  \n",
       "14 -1.187400e+00               -1.909000e+00                     -0.7099  \n",
       "15  2.130000e-14               -7.076000e-01                      0.4698  \n",
       "16  7.110000e-15               -7.076000e-01                      0.4698  \n",
       "17  8.530000e-14               -7.076000e-01                      0.4698  \n",
       "18 -5.767000e-01               -2.018100e+00                      0.3824  \n",
       "19 -1.041300e+00               -2.524300e+00                      0.2447  \n",
       "20 -1.041300e+00               -2.524300e+00                      0.2447  \n",
       "21  5.923270e+01                5.668260e+01                     62.0459  \n",
       "22  1.144391e+02                1.102766e+02                    118.4800  \n",
       "23  1.144391e+02                1.102766e+02                    118.4800  \n",
       "24  1.134677e+02                1.068011e+02                    118.4800  \n",
       "25  1.086053e+02                1.017297e+02                    113.8305  \n",
       "26  2.074789e+02                2.005620e+02                    212.7536  \n",
       "27  2.085767e+02                2.032666e+02                    212.8305  \n",
       "28  2.096703e+02                2.043514e+02                    213.8762  \n",
       "29  1.710231e+02                1.292999e+02                    174.5648  \n",
       "30  9.714000e-01                7.110000e-15                      4.5567  \n",
       "31  9.714000e-01                0.000000e+00                      4.5567  \n",
       "32  1.000000e-07                0.000000e+00                     44.8577  \n",
       "33  3.961870e+01                3.704340e+01                    100.0000  \n",
       "34  4.890390e+01                0.000000e+00                     59.1635  \n",
       "35  9.777180e+01                1.292690e+01                    100.0000  \n",
       "36 -1.234400e+00               -1.295100e+00                     -1.1565  \n",
       "64  1.443160e+01                1.108700e+00                     27.2447  \n",
       "65  6.800864e+02                6.131475e+02                    787.5166  \n",
       "66  3.764570e+02                3.650427e+02                    386.6854  \n",
       "67  4.336956e+02                4.207564e+02                    445.9396  \n",
       "68  2.575270e+01                2.412740e+01                     27.0206  \n",
       "69  4.177000e-01                3.913000e-01                      0.4383  \n",
       "71  4.693400e+00                4.397200e+00                      4.9245  "
      ]
     },
     "execution_count": 10,
     "metadata": {},
     "output_type": "execute_result"
    }
   ],
   "source": [
    "phenol_fluxes = pd.read_csv('../13C_flux_data/13C_phenol_flux_data.csv')\n",
    "\n",
    "# Remove rows that do not have a mapping to the GSM\n",
    "phenol_fluxes.dropna(subset = [\"Forward Reactions\"], inplace=True)\n",
    "print(f'There are {len(phenol_fluxes)} fluxes that can be compared between the MFA and FBA')\n",
    "phenol_fluxes"
   ]
  },
  {
   "cell_type": "markdown",
   "id": "318b0c67-f202-4eea-b49f-d8c5cb9c99ec",
   "metadata": {
    "tags": []
   },
   "source": [
    "##### **Add Phenol EFLUX2 flux values to phenol fluxes dataframe**"
   ]
  },
  {
   "cell_type": "code",
   "execution_count": 11,
   "id": "c2aa3558-60d8-446c-8990-2d8c62cfdb88",
   "metadata": {},
   "outputs": [
    {
     "data": {
      "text/html": [
       "<div>\n",
       "<style scoped>\n",
       "    .dataframe tbody tr th:only-of-type {\n",
       "        vertical-align: middle;\n",
       "    }\n",
       "\n",
       "    .dataframe tbody tr th {\n",
       "        vertical-align: top;\n",
       "    }\n",
       "\n",
       "    .dataframe thead th {\n",
       "        text-align: right;\n",
       "    }\n",
       "</style>\n",
       "<table border=\"1\" class=\"dataframe\">\n",
       "  <thead>\n",
       "    <tr style=\"text-align: right;\">\n",
       "      <th></th>\n",
       "      <th>Pathway</th>\n",
       "      <th>Forward Reactions</th>\n",
       "      <th>Reaction</th>\n",
       "      <th>Location on map</th>\n",
       "      <th>Flux</th>\n",
       "      <th>90% Confidence Lower Bound</th>\n",
       "      <th>90% Confidence Upper Bound</th>\n",
       "      <th>E-Flux2 WT Value</th>\n",
       "      <th>E-Flux2 WT std Value</th>\n",
       "    </tr>\n",
       "  </thead>\n",
       "  <tbody>\n",
       "    <tr>\n",
       "      <th>0</th>\n",
       "      <td>Substrate Uptake</td>\n",
       "      <td>PHEMOX</td>\n",
       "      <td>Phenol.ext -&gt; AcCoA + SucCoA</td>\n",
       "      <td>( 80, -450)</td>\n",
       "      <td>100.0000</td>\n",
       "      <td>100.0000</td>\n",
       "      <td>100.0000</td>\n",
       "      <td>NaN</td>\n",
       "      <td>NaN</td>\n",
       "    </tr>\n",
       "    <tr>\n",
       "      <th>1</th>\n",
       "      <td>EMP Pathway</td>\n",
       "      <td>PGI</td>\n",
       "      <td>G6P &lt;-&gt; F6P</td>\n",
       "      <td>(-150, 430)</td>\n",
       "      <td>-0.4793</td>\n",
       "      <td>-1.4219</td>\n",
       "      <td>0.9306</td>\n",
       "      <td>NaN</td>\n",
       "      <td>NaN</td>\n",
       "    </tr>\n",
       "    <tr>\n",
       "      <th>2</th>\n",
       "      <td>EMP Pathway</td>\n",
       "      <td>PFK or reverse_FBP</td>\n",
       "      <td>F6P + ATP -&gt; FBP</td>\n",
       "      <td>(-220, 195)</td>\n",
       "      <td>-2.0000</td>\n",
       "      <td>-2.0000</td>\n",
       "      <td>-0.7683</td>\n",
       "      <td>NaN</td>\n",
       "      <td>NaN</td>\n",
       "    </tr>\n",
       "    <tr>\n",
       "      <th>3</th>\n",
       "      <td>EMP Pathway</td>\n",
       "      <td>FBA</td>\n",
       "      <td>FBP &lt;-&gt; DHAP + GAP</td>\n",
       "      <td>(-140, 115)</td>\n",
       "      <td>-2.0000</td>\n",
       "      <td>-2.0000</td>\n",
       "      <td>-0.7683</td>\n",
       "      <td>NaN</td>\n",
       "      <td>NaN</td>\n",
       "    </tr>\n",
       "    <tr>\n",
       "      <th>4</th>\n",
       "      <td>EMP Pathway</td>\n",
       "      <td>TPI</td>\n",
       "      <td>DHAP &lt;-&gt; GAP</td>\n",
       "      <td>(-270, 150)</td>\n",
       "      <td>-2.0000</td>\n",
       "      <td>-2.0000</td>\n",
       "      <td>-0.7683</td>\n",
       "      <td>NaN</td>\n",
       "      <td>NaN</td>\n",
       "    </tr>\n",
       "  </tbody>\n",
       "</table>\n",
       "</div>"
      ],
      "text/plain": [
       "            Pathway   Forward Reactions                      Reaction  \\\n",
       "0  Substrate Uptake              PHEMOX  Phenol.ext -> AcCoA + SucCoA   \n",
       "1       EMP Pathway                 PGI                   G6P <-> F6P   \n",
       "2       EMP Pathway  PFK or reverse_FBP              F6P + ATP -> FBP   \n",
       "3       EMP Pathway                 FBA            FBP <-> DHAP + GAP   \n",
       "4       EMP Pathway                 TPI                  DHAP <-> GAP   \n",
       "\n",
       "  Location on map      Flux  90% Confidence Lower Bound  \\\n",
       "0     ( 80, -450)  100.0000                    100.0000   \n",
       "1     (-150, 430)   -0.4793                     -1.4219   \n",
       "2     (-220, 195)   -2.0000                     -2.0000   \n",
       "3     (-140, 115)   -2.0000                     -2.0000   \n",
       "4     (-270, 150)   -2.0000                     -2.0000   \n",
       "\n",
       "   90% Confidence Upper Bound  E-Flux2 WT Value  E-Flux2 WT std Value  \n",
       "0                    100.0000               NaN                   NaN  \n",
       "1                      0.9306               NaN                   NaN  \n",
       "2                     -0.7683               NaN                   NaN  \n",
       "3                     -0.7683               NaN                   NaN  \n",
       "4                     -0.7683               NaN                   NaN  "
      ]
     },
     "execution_count": 11,
     "metadata": {},
     "output_type": "execute_result"
    }
   ],
   "source": [
    "obspred_fluxes = add_pred_fluxes_to_13c_df(phenol_fluxes, eflux2soldf, eflux2solstddf, 'phenol', 'E-Flux2', 'WT')\n",
    "obspred_fluxes.to_csv('../13C_flux_data/obspredfluxes_phenol_EFLUX2_CPM.csv', index=True, header= True)\n",
    "obspred_fluxes.head()"
   ]
  },
  {
   "cell_type": "markdown",
   "id": "cfc42f0a-79a1-43ae-93af-76517dd05864",
   "metadata": {
    "tags": []
   },
   "source": [
    "### **Plot EFLUX2 vs 13C MFA**"
   ]
  },
  {
   "cell_type": "markdown",
   "id": "d7fbdae0-bcc6-4010-8b24-46b498f2b9bc",
   "metadata": {},
   "source": [
    "##### **Plot 13C MFA observations vs. EFLUX2 predictions**"
   ]
  },
  {
   "cell_type": "markdown",
   "id": "5a63b79e-7390-405d-bc08-1a017d1bcafc",
   "metadata": {
    "tags": []
   },
   "source": [
    "##### Scatter plot: 13CMFA vs. EFLUX2"
   ]
  },
  {
   "cell_type": "code",
   "execution_count": 12,
   "id": "7981aa93-aff8-44b5-b400-768378e1674d",
   "metadata": {},
   "outputs": [],
   "source": [
    "# scatterplotcomp_obs_vs_pred(obspred_fluxes, substrate='phenol', method='E-Flux2', strain='WT')"
   ]
  },
  {
   "cell_type": "markdown",
   "id": "93adc7e9-8db8-4f5e-8216-b0133d0d972e",
   "metadata": {
    "jp-MarkdownHeadingCollapsed": true,
    "tags": []
   },
   "source": [
    "##### **Plot 13C MFA observations vs. EFLUX2 predictions with confidence intervals**"
   ]
  },
  {
   "cell_type": "markdown",
   "id": "77582c94-b742-47ef-a7b2-27be43becba1",
   "metadata": {
    "tags": []
   },
   "source": [
    "##### Scatter plot with standard deviations: 13CMFA vs. EFLUX2"
   ]
  },
  {
   "cell_type": "code",
   "execution_count": 13,
   "id": "5c5cfa60-bd4e-4ae6-b1cc-634e2d7456ec",
   "metadata": {},
   "outputs": [
    {
     "ename": "ValueError",
     "evalue": "Input contains NaN, infinity or a value too large for dtype('float64').",
     "output_type": "error",
     "traceback": [
      "\u001b[0;31m---------------------------------------------------------------------------\u001b[0m",
      "\u001b[0;31mValueError\u001b[0m                                Traceback (most recent call last)",
      "\u001b[0;32m<ipython-input-13-78fab1cee22a>\u001b[0m in \u001b[0;36m<module>\u001b[0;34m\u001b[0m\n\u001b[0;32m----> 1\u001b[0;31m \u001b[0mscatterplotcomp_obs_vs_pred_withstd\u001b[0m\u001b[0;34m(\u001b[0m\u001b[0mobspred_fluxes\u001b[0m\u001b[0;34m,\u001b[0m \u001b[0msubstrate\u001b[0m\u001b[0;34m=\u001b[0m\u001b[0;34m'phenol'\u001b[0m\u001b[0;34m,\u001b[0m \u001b[0mmethod\u001b[0m\u001b[0;34m=\u001b[0m\u001b[0;34m'E-Flux2'\u001b[0m\u001b[0;34m,\u001b[0m \u001b[0mstrain\u001b[0m\u001b[0;34m=\u001b[0m\u001b[0;34m'WT'\u001b[0m\u001b[0;34m)\u001b[0m\u001b[0;34m\u001b[0m\u001b[0;34m\u001b[0m\u001b[0m\n\u001b[0m",
      "\u001b[0;32m/scratch/garrettroell/OpacusBiodesign/src/plot.py\u001b[0m in \u001b[0;36mscatterplotcomp_obs_vs_pred_withstd\u001b[0;34m(obspred_fluxes, substrate, method, strain, output_dir)\u001b[0m\n\u001b[1;32m    158\u001b[0m     \u001b[0mobserved2\u001b[0m \u001b[0;34m=\u001b[0m  \u001b[0mobspred_fluxes\u001b[0m\u001b[0;34m.\u001b[0m\u001b[0mloc\u001b[0m\u001b[0;34m[\u001b[0m\u001b[0;34m:\u001b[0m\u001b[0;34m,\u001b[0m\u001b[0;34m'Flux'\u001b[0m\u001b[0;34m]\u001b[0m\u001b[0;34m\u001b[0m\u001b[0;34m\u001b[0m\u001b[0m\n\u001b[1;32m    159\u001b[0m \u001b[0;34m\u001b[0m\u001b[0m\n\u001b[0;32m--> 160\u001b[0;31m     \u001b[0mr2_scikit_1\u001b[0m \u001b[0;34m=\u001b[0m \u001b[0mr2_score\u001b[0m\u001b[0;34m(\u001b[0m\u001b[0mobserved1\u001b[0m\u001b[0;34m,\u001b[0m\u001b[0mpredicted1\u001b[0m\u001b[0;34m)\u001b[0m\u001b[0;34m\u001b[0m\u001b[0;34m\u001b[0m\u001b[0m\n\u001b[0m\u001b[1;32m    161\u001b[0m     \u001b[0mr2_scikit_2\u001b[0m \u001b[0;34m=\u001b[0m \u001b[0mr2_score\u001b[0m\u001b[0;34m(\u001b[0m\u001b[0mobserved2\u001b[0m\u001b[0;34m,\u001b[0m\u001b[0mpredicted2\u001b[0m\u001b[0;34m)\u001b[0m\u001b[0;34m\u001b[0m\u001b[0;34m\u001b[0m\u001b[0m\n\u001b[1;32m    162\u001b[0m \u001b[0;34m\u001b[0m\u001b[0m\n",
      "\u001b[0;32m/usr/local/share/jupyteruser/.pyenv/versions/biod_3.7/lib/python3.7/site-packages/sklearn/metrics/regression.py\u001b[0m in \u001b[0;36mr2_score\u001b[0;34m(y_true, y_pred, sample_weight, multioutput)\u001b[0m\n\u001b[1;32m    536\u001b[0m     \"\"\"\n\u001b[1;32m    537\u001b[0m     y_type, y_true, y_pred, multioutput = _check_reg_targets(\n\u001b[0;32m--> 538\u001b[0;31m         y_true, y_pred, multioutput)\n\u001b[0m\u001b[1;32m    539\u001b[0m     \u001b[0mcheck_consistent_length\u001b[0m\u001b[0;34m(\u001b[0m\u001b[0my_true\u001b[0m\u001b[0;34m,\u001b[0m \u001b[0my_pred\u001b[0m\u001b[0;34m,\u001b[0m \u001b[0msample_weight\u001b[0m\u001b[0;34m)\u001b[0m\u001b[0;34m\u001b[0m\u001b[0;34m\u001b[0m\u001b[0m\n\u001b[1;32m    540\u001b[0m \u001b[0;34m\u001b[0m\u001b[0m\n",
      "\u001b[0;32m/usr/local/share/jupyteruser/.pyenv/versions/biod_3.7/lib/python3.7/site-packages/sklearn/metrics/regression.py\u001b[0m in \u001b[0;36m_check_reg_targets\u001b[0;34m(y_true, y_pred, multioutput)\u001b[0m\n\u001b[1;32m     77\u001b[0m     \u001b[0mcheck_consistent_length\u001b[0m\u001b[0;34m(\u001b[0m\u001b[0my_true\u001b[0m\u001b[0;34m,\u001b[0m \u001b[0my_pred\u001b[0m\u001b[0;34m)\u001b[0m\u001b[0;34m\u001b[0m\u001b[0;34m\u001b[0m\u001b[0m\n\u001b[1;32m     78\u001b[0m     \u001b[0my_true\u001b[0m \u001b[0;34m=\u001b[0m \u001b[0mcheck_array\u001b[0m\u001b[0;34m(\u001b[0m\u001b[0my_true\u001b[0m\u001b[0;34m,\u001b[0m \u001b[0mensure_2d\u001b[0m\u001b[0;34m=\u001b[0m\u001b[0;32mFalse\u001b[0m\u001b[0;34m)\u001b[0m\u001b[0;34m\u001b[0m\u001b[0;34m\u001b[0m\u001b[0m\n\u001b[0;32m---> 79\u001b[0;31m     \u001b[0my_pred\u001b[0m \u001b[0;34m=\u001b[0m \u001b[0mcheck_array\u001b[0m\u001b[0;34m(\u001b[0m\u001b[0my_pred\u001b[0m\u001b[0;34m,\u001b[0m \u001b[0mensure_2d\u001b[0m\u001b[0;34m=\u001b[0m\u001b[0;32mFalse\u001b[0m\u001b[0;34m)\u001b[0m\u001b[0;34m\u001b[0m\u001b[0;34m\u001b[0m\u001b[0m\n\u001b[0m\u001b[1;32m     80\u001b[0m \u001b[0;34m\u001b[0m\u001b[0m\n\u001b[1;32m     81\u001b[0m     \u001b[0;32mif\u001b[0m \u001b[0my_true\u001b[0m\u001b[0;34m.\u001b[0m\u001b[0mndim\u001b[0m \u001b[0;34m==\u001b[0m \u001b[0;36m1\u001b[0m\u001b[0;34m:\u001b[0m\u001b[0;34m\u001b[0m\u001b[0;34m\u001b[0m\u001b[0m\n",
      "\u001b[0;32m/usr/local/share/jupyteruser/.pyenv/versions/biod_3.7/lib/python3.7/site-packages/sklearn/utils/validation.py\u001b[0m in \u001b[0;36mcheck_array\u001b[0;34m(array, accept_sparse, accept_large_sparse, dtype, order, copy, force_all_finite, ensure_2d, allow_nd, ensure_min_samples, ensure_min_features, warn_on_dtype, estimator)\u001b[0m\n\u001b[1;32m    540\u001b[0m         \u001b[0;32mif\u001b[0m \u001b[0mforce_all_finite\u001b[0m\u001b[0;34m:\u001b[0m\u001b[0;34m\u001b[0m\u001b[0;34m\u001b[0m\u001b[0m\n\u001b[1;32m    541\u001b[0m             _assert_all_finite(array,\n\u001b[0;32m--> 542\u001b[0;31m                                allow_nan=force_all_finite == 'allow-nan')\n\u001b[0m\u001b[1;32m    543\u001b[0m \u001b[0;34m\u001b[0m\u001b[0m\n\u001b[1;32m    544\u001b[0m     \u001b[0;32mif\u001b[0m \u001b[0mensure_min_samples\u001b[0m \u001b[0;34m>\u001b[0m \u001b[0;36m0\u001b[0m\u001b[0;34m:\u001b[0m\u001b[0;34m\u001b[0m\u001b[0;34m\u001b[0m\u001b[0m\n",
      "\u001b[0;32m/usr/local/share/jupyteruser/.pyenv/versions/biod_3.7/lib/python3.7/site-packages/sklearn/utils/validation.py\u001b[0m in \u001b[0;36m_assert_all_finite\u001b[0;34m(X, allow_nan)\u001b[0m\n\u001b[1;32m     54\u001b[0m                 not allow_nan and not np.isfinite(X).all()):\n\u001b[1;32m     55\u001b[0m             \u001b[0mtype_err\u001b[0m \u001b[0;34m=\u001b[0m \u001b[0;34m'infinity'\u001b[0m \u001b[0;32mif\u001b[0m \u001b[0mallow_nan\u001b[0m \u001b[0;32melse\u001b[0m \u001b[0;34m'NaN, infinity'\u001b[0m\u001b[0;34m\u001b[0m\u001b[0;34m\u001b[0m\u001b[0m\n\u001b[0;32m---> 56\u001b[0;31m             \u001b[0;32mraise\u001b[0m \u001b[0mValueError\u001b[0m\u001b[0;34m(\u001b[0m\u001b[0mmsg_err\u001b[0m\u001b[0;34m.\u001b[0m\u001b[0mformat\u001b[0m\u001b[0;34m(\u001b[0m\u001b[0mtype_err\u001b[0m\u001b[0;34m,\u001b[0m \u001b[0mX\u001b[0m\u001b[0;34m.\u001b[0m\u001b[0mdtype\u001b[0m\u001b[0;34m)\u001b[0m\u001b[0;34m)\u001b[0m\u001b[0;34m\u001b[0m\u001b[0;34m\u001b[0m\u001b[0m\n\u001b[0m\u001b[1;32m     57\u001b[0m     \u001b[0;31m# for object dtype data, we only check for NaNs (GH-13254)\u001b[0m\u001b[0;34m\u001b[0m\u001b[0;34m\u001b[0m\u001b[0;34m\u001b[0m\u001b[0m\n\u001b[1;32m     58\u001b[0m     \u001b[0;32melif\u001b[0m \u001b[0mX\u001b[0m\u001b[0;34m.\u001b[0m\u001b[0mdtype\u001b[0m \u001b[0;34m==\u001b[0m \u001b[0mnp\u001b[0m\u001b[0;34m.\u001b[0m\u001b[0mdtype\u001b[0m\u001b[0;34m(\u001b[0m\u001b[0;34m'object'\u001b[0m\u001b[0;34m)\u001b[0m \u001b[0;32mand\u001b[0m \u001b[0;32mnot\u001b[0m \u001b[0mallow_nan\u001b[0m\u001b[0;34m:\u001b[0m\u001b[0;34m\u001b[0m\u001b[0;34m\u001b[0m\u001b[0m\n",
      "\u001b[0;31mValueError\u001b[0m: Input contains NaN, infinity or a value too large for dtype('float64')."
     ]
    },
    {
     "data": {
      "image/png": "[encoded data removed]",
      "text/plain": [
       "<Figure size 576x576 with 1 Axes>"
      ]
     },
     "metadata": {
      "needs_background": "light"
     },
     "output_type": "display_data"
    }
   ],
   "source": [
    "scatterplotcomp_obs_vs_pred_withstd(obspred_fluxes, substrate='phenol', method='E-Flux2', strain='WT')"
   ]
  },
  {
   "cell_type": "markdown",
   "id": "7a6840f6-764a-489d-bdf0-3b1994a2f8d4",
   "metadata": {
    "tags": []
   },
   "source": [
    "#### **Phenol EFlux2 WT Flux Map**"
   ]
  },
  {
   "cell_type": "code",
   "execution_count": null,
   "id": "077613be-02f9-469d-92d0-a35496ab6a0d",
   "metadata": {},
   "outputs": [],
   "source": [
    "map_flux_results(obspred_fluxes, 'E-Flux2 WT Value')"
   ]
  },
  {
   "cell_type": "markdown",
   "id": "b32ff85d-ad70-4d37-936b-5be00dad769b",
   "metadata": {},
   "source": [
    "### **3. Load File with observed growth rates**"
   ]
  },
  {
   "cell_type": "markdown",
   "id": "2a05d89b-6425-4164-bc13-d6918968c1d2",
   "metadata": {},
   "source": [
    "##### **Load observed growth rates and plot glucose and phenol growth rates**"
   ]
  },
  {
   "cell_type": "code",
   "execution_count": null,
   "id": "e17a85b8-aa3a-4b67-a5d4-b983e8c5c8c7",
   "metadata": {},
   "outputs": [],
   "source": [
    "consumption_and_growth_data = pd.read_csv('../consumption_and_growth_data/consumption_and_growth_data.csv', index_col=0)\n",
    "consumption_and_growth_data"
   ]
  },
  {
   "cell_type": "markdown",
   "id": "a0ba2408-7249-4036-a93f-85195968af2b",
   "metadata": {},
   "source": [
    "##### **For comparison of predicted and observed growth rates: scale predicted growth rate by multiplying with (observed substrate uptake / predicted substrate uptake)**"
   ]
  },
  {
   "cell_type": "code",
   "execution_count": null,
   "id": "9f966e9d-30bf-467e-b441-6cdda31fb2c8",
   "metadata": {},
   "outputs": [],
   "source": [
    "scaledgrowthrate_wtp = scale_growth_to_sub(\n",
    "    eflux2soldf.loc['Growth_Phenol',:].values[0], \n",
    "    eflux2soldf.loc['EX_phenol_e',:].values[0],\n",
    "    consumption_and_growth_data.loc['WT-P', 'substrate consumption rate']\n",
    ")\n",
    "\n",
    "scaledgrowthrate_pvhgp = scale_growth_to_sub(\n",
    "    eflux2soldf_PVHG.loc['Growth_Phenol',:].values[0], \n",
    "    eflux2soldf_PVHG.loc['EX_phenol_e',:].values[0],\n",
    "    consumption_and_growth_data.loc['PVHG-P', 'substrate consumption rate']\n",
    ")"
   ]
  },
  {
   "cell_type": "markdown",
   "id": "2e5fe909-1989-4bf5-8a46-e2a296599286",
   "metadata": {},
   "source": [
    "##### **Create data frame for all growth rates and save new predictions and previously computed glucose predictions in same data frame** "
   ]
  },
  {
   "cell_type": "code",
   "execution_count": null,
   "id": "6296cd05-dbf3-4e39-9a49-866d6b01cb26",
   "metadata": {},
   "outputs": [],
   "source": [
    "allgrowthrates=pd.DataFrame(index=['WT-P', 'PVHG-P', 'WT-G'], columns=['Growth_EFLUX2'], dtype=float)"
   ]
  },
  {
   "cell_type": "markdown",
   "id": "ef05b8f5-c062-4cbd-8398-bc61b69f9214",
   "metadata": {},
   "source": [
    "##### **Load Glucose growth rates to compare in same plot**"
   ]
  },
  {
   "cell_type": "code",
   "execution_count": null,
   "id": "d9e7501b-49b5-42ea-a230-878a8539f8f1",
   "metadata": {},
   "outputs": [],
   "source": [
    "allgrowthratesglucose = pd.read_csv('../consumption_and_growth_data/allgrowthratesGlucoseEFLUX2_CPM.csv', index_col=0)"
   ]
  },
  {
   "cell_type": "code",
   "execution_count": null,
   "id": "c37f1693-b37c-4cf2-85cc-c31f89f27365",
   "metadata": {},
   "outputs": [],
   "source": [
    "allgrowthrates.at['WT-P','Growth_EFLUX2'] = scaledgrowthrate_wtp\n",
    "allgrowthrates.at['PVHG-P','Growth_EFLUX2'] = scaledgrowthrate_pvhgp"
   ]
  },
  {
   "cell_type": "code",
   "execution_count": null,
   "id": "cef05ac1-bbd9-4e18-b4c2-3cbfec60bf94",
   "metadata": {},
   "outputs": [],
   "source": [
    "allgrowthrates.at['WT-LN-G','Growth_EFLUX2'] = allgrowthratesglucose.loc['WT-LN-G','Growth_Glucose_EFLUX2']\n",
    "allgrowthrates\n"
   ]
  },
  {
   "cell_type": "markdown",
   "id": "1a03716d-490a-4d30-b8ea-e5bf45e08113",
   "metadata": {},
   "source": [
    "### **4. Compare growth rate predictions with growth rate observations**"
   ]
  },
  {
   "cell_type": "code",
   "execution_count": null,
   "id": "c328d98b-c6ff-4782-b933-39a1f304c8c2",
   "metadata": {},
   "outputs": [],
   "source": [
    "allindices=[str(row) for row in allgrowthrates.index]\n",
    "scatter_plot_compare(consumption_and_growth_data.loc[allindices, 'growth rate'], allgrowthrates.loc[allindices,'Growth_EFLUX2'], allindices, 'E-Flux2')"
   ]
  },
  {
   "cell_type": "markdown",
   "id": "fd072f76-397c-4eb5-9cec-a6c022fa7b8a",
   "metadata": {},
   "source": [
    "### **4. Save growth rate predictions to csv file**"
   ]
  },
  {
   "cell_type": "markdown",
   "id": "a5fb7b4a-5c78-4f99-a639-cec8edf57281",
   "metadata": {
    "tags": []
   },
   "source": [
    "##### **Save growth rates as csv file**"
   ]
  },
  {
   "cell_type": "code",
   "execution_count": null,
   "id": "c4c2463c-132e-482b-adf6-9b147b9bf35c",
   "metadata": {},
   "outputs": [],
   "source": [
    "allgrowthrates.to_csv('../consumption_and_growth_data/allgrowthratesEFLUX2_CPM.csv', index=True, header= True)"
   ]
  },
  {
   "cell_type": "code",
   "execution_count": null,
   "id": "4423a076-6edf-4f46-b521-fbd463e6e9f9",
   "metadata": {},
   "outputs": [],
   "source": []
  }
 ],
 "metadata": {
  "kernelspec": {
   "display_name": "biodesign_3.7",
   "language": "python",
   "name": "biod_3.7"
  },
  "language_info": {
   "codemirror_mode": {
    "name": "ipython",
    "version": 3
   },
   "file_extension": ".py",
   "mimetype": "text/x-python",
   "name": "python",
   "nbconvert_exporter": "python",
   "pygments_lexer": "ipython3",
   "version": "3.7.4"
  }
 },
 "nbformat": 4,
 "nbformat_minor": 5
}

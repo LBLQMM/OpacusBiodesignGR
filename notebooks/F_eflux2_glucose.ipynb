{
 "cells": [
  {
   "cell_type": "markdown",
   "id": "7563604a-2ba5-4e5d-b9e0-309615df0b5b",
   "metadata": {
    "tags": []
   },
   "source": [
    "## **Notebook to make predictions with reprocessed Yoneda data and E-Flux2** \n",
    "\n",
    "By Christina Schenk and Garrett Roell\n",
    "\n",
    "Tested on biodesign_3.7 kernel on jprime"
   ]
  },
  {
   "cell_type": "markdown",
   "id": "8edc3c57-de26-4407-a568-88c6e6d99f02",
   "metadata": {
    "tags": []
   },
   "source": [
    "### E-Flux2 predictions and evaluations\n",
    "This notebook predicts fluxes for R. opacus cultures growing with glucose.\n",
    "\n",
    "#### **Data Labels**:\n",
    "\n",
    "#### Henson transcriptomics data: \n",
    "* WT 1.0 g/L Glucose (**WT-G**) (3 trials at 2 timepoints, 6 total trials)\n",
    "\n",
    "#### Combined with Rhiannon 2018 metabolomics and OD data:\n",
    "* Metabolomics and OD data for WT Glucose (**WT-G**)\n",
    "                                               \n",
    "\n",
    "### Method: \n",
    "<ol>\n",
    "<li>Predict fluxes with E-Flux2</li>\n",
    "<li>Compare predictions with 13CMFA: Scatter plots and flux maps</li>\n",
    "<li>Load file with observed growth rates (Notebook E)</li>\n",
    "<li>Save growth rate predictions to csv file</li>\n",
    "</ol>\n",
    "\n"
   ]
  },
  {
   "cell_type": "markdown",
   "id": "5a6edbe7-d3d0-49ac-9d13-8f43882945f0",
   "metadata": {},
   "source": [
    "#### **Set up imports**"
   ]
  },
  {
   "cell_type": "code",
   "execution_count": 1,
   "id": "5e37f811-1a95-45e0-932f-962edb144307",
   "metadata": {},
   "outputs": [],
   "source": [
    "import os\n",
    "import sys\n",
    "import pandas as pd\n",
    "import numpy as np\n",
    "import cobra\n",
    "import scipy.stats\n",
    "#import cplex\n",
    "%matplotlib inline\n",
    "\n",
    "import matplotlib\n",
    "from matplotlib import pyplot as plt\n",
    "from matplotlib.offsetbox import (TextArea, DrawingArea, OffsetImage,\n",
    "                                  AnnotationBbox)\n",
    "from matplotlib.cbook import get_sample_data\n",
    "import matplotlib.image as mpimg\n",
    "import matplotlib.cm as cm\n",
    "\n",
    "from edd_utils import login, export_study, export_metadata\n",
    "\n",
    "from sklearn.metrics import r2_score\n",
    "\n",
    "output_dir = '../plots/'\n",
    "source_dir = '../src'\n",
    "sys.path.append(source_dir)\n",
    "from ensemblemethods import *\n",
    "\n",
    "\n",
    "from plot import *\n",
    "from utils import *"
   ]
  },
  {
   "cell_type": "markdown",
   "id": "7850ac80-728b-49eb-900a-5659cc911a91",
   "metadata": {},
   "source": [
    "#### **Load Genome Scale Model**"
   ]
  },
  {
   "cell_type": "code",
   "execution_count": 2,
   "id": "8cc0da32-8dc2-4a05-bd21-b80111c052c4",
   "metadata": {},
   "outputs": [],
   "source": [
    "model = cobra.io.read_sbml_model(\"../models/Ropacus_annotated_curated.xml\")"
   ]
  },
  {
   "cell_type": "markdown",
   "id": "6f82e5fc-f0f3-48d3-a3bf-deafed7ba743",
   "metadata": {},
   "source": [
    "#### **Load Transcript Data**"
   ]
  },
  {
   "cell_type": "code",
   "execution_count": 3,
   "id": "2d85d52a-ed94-4246-86f7-66272bfebe34",
   "metadata": {},
   "outputs": [
    {
     "data": {
      "text/html": [
       "<div>\n",
       "<style scoped>\n",
       "    .dataframe tbody tr th:only-of-type {\n",
       "        vertical-align: middle;\n",
       "    }\n",
       "\n",
       "    .dataframe tbody tr th {\n",
       "        vertical-align: top;\n",
       "    }\n",
       "\n",
       "    .dataframe thead th {\n",
       "        text-align: right;\n",
       "    }\n",
       "</style>\n",
       "<table border=\"1\" class=\"dataframe\">\n",
       "  <thead>\n",
       "    <tr style=\"text-align: right;\">\n",
       "      <th></th>\n",
       "      <th>Line Name</th>\n",
       "      <th>Measurement Type</th>\n",
       "      <th>Time</th>\n",
       "      <th>Count</th>\n",
       "      <th>Units</th>\n",
       "    </tr>\n",
       "  </thead>\n",
       "  <tbody>\n",
       "    <tr>\n",
       "      <th>6</th>\n",
       "      <td>WT-Glu-R1</td>\n",
       "      <td>WP_005263480_1</td>\n",
       "      <td>10</td>\n",
       "      <td>27.446117</td>\n",
       "      <td>CPM</td>\n",
       "    </tr>\n",
       "    <tr>\n",
       "      <th>7</th>\n",
       "      <td>WT-Glu-R2</td>\n",
       "      <td>WP_005263480_1</td>\n",
       "      <td>10</td>\n",
       "      <td>27.543845</td>\n",
       "      <td>CPM</td>\n",
       "    </tr>\n",
       "    <tr>\n",
       "      <th>8</th>\n",
       "      <td>WT-Glu-R3</td>\n",
       "      <td>WP_005263480_1</td>\n",
       "      <td>10</td>\n",
       "      <td>26.797758</td>\n",
       "      <td>CPM</td>\n",
       "    </tr>\n",
       "    <tr>\n",
       "      <th>60</th>\n",
       "      <td>WT-Glu-R1</td>\n",
       "      <td>WP_005249107_1</td>\n",
       "      <td>10</td>\n",
       "      <td>355.352526</td>\n",
       "      <td>CPM</td>\n",
       "    </tr>\n",
       "    <tr>\n",
       "      <th>61</th>\n",
       "      <td>WT-Glu-R2</td>\n",
       "      <td>WP_005249107_1</td>\n",
       "      <td>10</td>\n",
       "      <td>349.533393</td>\n",
       "      <td>CPM</td>\n",
       "    </tr>\n",
       "  </tbody>\n",
       "</table>\n",
       "</div>"
      ],
      "text/plain": [
       "    Line Name Measurement Type  Time       Count Units\n",
       "6   WT-Glu-R1   WP_005263480_1    10   27.446117   CPM\n",
       "7   WT-Glu-R2   WP_005263480_1    10   27.543845   CPM\n",
       "8   WT-Glu-R3   WP_005263480_1    10   26.797758   CPM\n",
       "60  WT-Glu-R1   WP_005249107_1    10  355.352526   CPM\n",
       "61  WT-Glu-R2   WP_005249107_1    10  349.533393   CPM"
      ]
     },
     "metadata": {},
     "output_type": "display_data"
    },
    {
     "data": {
      "text/html": [
       "<div>\n",
       "<style scoped>\n",
       "    .dataframe tbody tr th:only-of-type {\n",
       "        vertical-align: middle;\n",
       "    }\n",
       "\n",
       "    .dataframe tbody tr th {\n",
       "        vertical-align: top;\n",
       "    }\n",
       "\n",
       "    .dataframe thead th {\n",
       "        text-align: right;\n",
       "    }\n",
       "</style>\n",
       "<table border=\"1\" class=\"dataframe\">\n",
       "  <thead>\n",
       "    <tr style=\"text-align: right;\">\n",
       "      <th></th>\n",
       "      <th>Line Name</th>\n",
       "      <th>Measurement Type</th>\n",
       "      <th>Time</th>\n",
       "      <th>Count</th>\n",
       "      <th>Units</th>\n",
       "    </tr>\n",
       "  </thead>\n",
       "  <tbody>\n",
       "    <tr>\n",
       "      <th>9</th>\n",
       "      <td>WT-Glu-R1</td>\n",
       "      <td>WP_005263480_1</td>\n",
       "      <td>13</td>\n",
       "      <td>15.584245</td>\n",
       "      <td>CPM</td>\n",
       "    </tr>\n",
       "    <tr>\n",
       "      <th>10</th>\n",
       "      <td>WT-Glu-R2</td>\n",
       "      <td>WP_005263480_1</td>\n",
       "      <td>13</td>\n",
       "      <td>22.444427</td>\n",
       "      <td>CPM</td>\n",
       "    </tr>\n",
       "    <tr>\n",
       "      <th>11</th>\n",
       "      <td>WT-Glu-R3</td>\n",
       "      <td>WP_005263480_1</td>\n",
       "      <td>13</td>\n",
       "      <td>20.433310</td>\n",
       "      <td>CPM</td>\n",
       "    </tr>\n",
       "    <tr>\n",
       "      <th>63</th>\n",
       "      <td>WT-Glu-R1</td>\n",
       "      <td>WP_005249107_1</td>\n",
       "      <td>13</td>\n",
       "      <td>219.798570</td>\n",
       "      <td>CPM</td>\n",
       "    </tr>\n",
       "    <tr>\n",
       "      <th>64</th>\n",
       "      <td>WT-Glu-R2</td>\n",
       "      <td>WP_005249107_1</td>\n",
       "      <td>13</td>\n",
       "      <td>328.518773</td>\n",
       "      <td>CPM</td>\n",
       "    </tr>\n",
       "  </tbody>\n",
       "</table>\n",
       "</div>"
      ],
      "text/plain": [
       "    Line Name Measurement Type  Time       Count Units\n",
       "9   WT-Glu-R1   WP_005263480_1    13   15.584245   CPM\n",
       "10  WT-Glu-R2   WP_005263480_1    13   22.444427   CPM\n",
       "11  WT-Glu-R3   WP_005263480_1    13   20.433310   CPM\n",
       "63  WT-Glu-R1   WP_005249107_1    13  219.798570   CPM\n",
       "64  WT-Glu-R2   WP_005249107_1    13  328.518773   CPM"
      ]
     },
     "metadata": {},
     "output_type": "display_data"
    }
   ],
   "source": [
    "# read transcripts and isolate wildtype glucose data\n",
    "transcript_df = pd.read_csv('../data/transcripts/csv/henson_CPM_melted.csv')\n",
    "transcript_df = transcript_df[transcript_df['Line Name'].str.contains(\"WT-Glu\")]\n",
    "\n",
    "# separate data from different time points\n",
    "transcript_df_T1 = transcript_df[transcript_df['Time'] == 10]\n",
    "transcript_df_T2 = transcript_df[transcript_df['Time'] == 13]\n",
    "\n",
    "# preview data\n",
    "display(transcript_df_T1.head())\n",
    "display(transcript_df_T2.head())"
   ]
  },
  {
   "cell_type": "markdown",
   "id": "19a8726c-0406-42a8-be21-1562544502d3",
   "metadata": {},
   "source": [
    "#### **Run E-Flux2 for Each Condition**"
   ]
  },
  {
   "cell_type": "code",
   "execution_count": 4,
   "id": "bd8797c3-f74c-4507-8d25-42f1ec098717",
   "metadata": {},
   "outputs": [
    {
     "name": "stdout",
     "output_type": "stream",
     "text": [
      "glucose_eflux_t1_1\n",
      "FBA status optimal\n",
      "FBA solution 17.786452712551018\n"
     ]
    },
    {
     "data": {
      "text/plain": [
       "<optlang.cplex_interface.Objective at 0x7f8703579f50>"
      ]
     },
     "metadata": {},
     "output_type": "display_data"
    },
    {
     "data": {
      "text/plain": [
       "{'EX_ca2_e': 1000.0,\n",
       " 'EX_cl_e': 1000.0,\n",
       " 'EX_cobalt2_e': 1000.0,\n",
       " 'EX_cu2_e': 1000.0,\n",
       " 'EX_fe2_e': 1000.0,\n",
       " 'EX_fe3_e': 1000.0,\n",
       " 'EX_glc__D_e': 1000.0,\n",
       " 'EX_h2o_e': 1000.0,\n",
       " 'EX_h_e': 1000.0,\n",
       " 'EX_k_e': 1000.0,\n",
       " 'EX_mg2_e': 1000.0,\n",
       " 'EX_mn2_e': 1000.0,\n",
       " 'EX_mobd_e': 1000.0,\n",
       " 'EX_nh4_e': 1000.0,\n",
       " 'EX_o2_e': 1000.0,\n",
       " 'EX_pi_e': 1000.0,\n",
       " 'EX_so4_e': 1000.0,\n",
       " 'EX_zn2_e': 1000.0}"
      ]
     },
     "metadata": {},
     "output_type": "display_data"
    },
    {
     "name": "stderr",
     "output_type": "stream",
     "text": [
      "cobra/util/solver.py:416 \u001b[1;31mUserWarning\u001b[0m: solver status is 'infeasible'\n"
     ]
    },
    {
     "name": "stdout",
     "output_type": "stream",
     "text": [
      "EFlux2 status infeasible\n",
      "EFlux2 solution 4456495.91401118\n",
      "The glucose uptake rate is -141.57155032104697\n",
      "glucose_eflux_t1_2\n",
      "FBA status optimal\n",
      "FBA solution 20.701424843985844\n"
     ]
    },
    {
     "data": {
      "text/plain": [
       "<optlang.cplex_interface.Objective at 0x7f86f9033e10>"
      ]
     },
     "metadata": {},
     "output_type": "display_data"
    },
    {
     "data": {
      "text/plain": [
       "{'EX_ca2_e': 1000.0,\n",
       " 'EX_cl_e': 1000.0,\n",
       " 'EX_cobalt2_e': 1000.0,\n",
       " 'EX_cu2_e': 1000.0,\n",
       " 'EX_fe2_e': 1000.0,\n",
       " 'EX_fe3_e': 1000.0,\n",
       " 'EX_glc__D_e': 1000.0,\n",
       " 'EX_h2o_e': 1000.0,\n",
       " 'EX_h_e': 1000.0,\n",
       " 'EX_k_e': 1000.0,\n",
       " 'EX_mg2_e': 1000.0,\n",
       " 'EX_mn2_e': 1000.0,\n",
       " 'EX_mobd_e': 1000.0,\n",
       " 'EX_nh4_e': 1000.0,\n",
       " 'EX_o2_e': 1000.0,\n",
       " 'EX_pi_e': 1000.0,\n",
       " 'EX_so4_e': 1000.0,\n",
       " 'EX_zn2_e': 1000.0}"
      ]
     },
     "metadata": {},
     "output_type": "display_data"
    },
    {
     "name": "stdout",
     "output_type": "stream",
     "text": [
      "EFlux2 status infeasible\n",
      "EFlux2 solution 6267077.880028009\n",
      "The glucose uptake rate is -165.4631459192241\n",
      "glucose_eflux_t1_3\n",
      "FBA status optimal\n",
      "FBA solution 19.6006532588346\n"
     ]
    },
    {
     "data": {
      "text/plain": [
       "<optlang.cplex_interface.Objective at 0x7f86ecf5b2d0>"
      ]
     },
     "metadata": {},
     "output_type": "display_data"
    },
    {
     "data": {
      "text/plain": [
       "{'EX_ca2_e': 1000.0,\n",
       " 'EX_cl_e': 1000.0,\n",
       " 'EX_cobalt2_e': 1000.0,\n",
       " 'EX_cu2_e': 1000.0,\n",
       " 'EX_fe2_e': 1000.0,\n",
       " 'EX_fe3_e': 1000.0,\n",
       " 'EX_glc__D_e': 1000.0,\n",
       " 'EX_h2o_e': 1000.0,\n",
       " 'EX_h_e': 1000.0,\n",
       " 'EX_k_e': 1000.0,\n",
       " 'EX_mg2_e': 1000.0,\n",
       " 'EX_mn2_e': 1000.0,\n",
       " 'EX_mobd_e': 1000.0,\n",
       " 'EX_nh4_e': 1000.0,\n",
       " 'EX_o2_e': 1000.0,\n",
       " 'EX_pi_e': 1000.0,\n",
       " 'EX_so4_e': 1000.0,\n",
       " 'EX_zn2_e': 1000.0}"
      ]
     },
     "metadata": {},
     "output_type": "display_data"
    },
    {
     "name": "stdout",
     "output_type": "stream",
     "text": [
      "EFlux2 status infeasible\n",
      "EFlux2 solution 5735223.68611601\n",
      "The glucose uptake rate is -156.3814382794709\n",
      "glucose_eflux_t2_1\n",
      "FBA status optimal\n",
      "FBA solution 24.446676426898204\n"
     ]
    },
    {
     "data": {
      "text/plain": [
       "<optlang.cplex_interface.Objective at 0x7f86e30e1bd0>"
      ]
     },
     "metadata": {},
     "output_type": "display_data"
    },
    {
     "data": {
      "text/plain": [
       "{'EX_ca2_e': 1000.0,\n",
       " 'EX_cl_e': 1000.0,\n",
       " 'EX_cobalt2_e': 1000.0,\n",
       " 'EX_cu2_e': 1000.0,\n",
       " 'EX_fe2_e': 1000.0,\n",
       " 'EX_fe3_e': 1000.0,\n",
       " 'EX_glc__D_e': 1000.0,\n",
       " 'EX_h2o_e': 1000.0,\n",
       " 'EX_h_e': 1000.0,\n",
       " 'EX_k_e': 1000.0,\n",
       " 'EX_mg2_e': 1000.0,\n",
       " 'EX_mn2_e': 1000.0,\n",
       " 'EX_mobd_e': 1000.0,\n",
       " 'EX_nh4_e': 1000.0,\n",
       " 'EX_o2_e': 1000.0,\n",
       " 'EX_pi_e': 1000.0,\n",
       " 'EX_so4_e': 1000.0,\n",
       " 'EX_zn2_e': 1000.0}"
      ]
     },
     "metadata": {},
     "output_type": "display_data"
    },
    {
     "name": "stdout",
     "output_type": "stream",
     "text": [
      "EFlux2 status optimal\n",
      "EFlux2 solution 7559719.755237073\n",
      "The glucose uptake rate is -215.4269648535484\n",
      "glucose_eflux_t2_2\n",
      "FBA status optimal\n",
      "FBA solution 24.77948372562568\n"
     ]
    },
    {
     "data": {
      "text/plain": [
       "<optlang.cplex_interface.Objective at 0x7f86dd272350>"
      ]
     },
     "metadata": {},
     "output_type": "display_data"
    },
    {
     "data": {
      "text/plain": [
       "{'EX_ca2_e': 1000.0,\n",
       " 'EX_cl_e': 1000.0,\n",
       " 'EX_cobalt2_e': 1000.0,\n",
       " 'EX_cu2_e': 1000.0,\n",
       " 'EX_fe2_e': 1000.0,\n",
       " 'EX_fe3_e': 1000.0,\n",
       " 'EX_glc__D_e': 1000.0,\n",
       " 'EX_h2o_e': 1000.0,\n",
       " 'EX_h_e': 1000.0,\n",
       " 'EX_k_e': 1000.0,\n",
       " 'EX_mg2_e': 1000.0,\n",
       " 'EX_mn2_e': 1000.0,\n",
       " 'EX_mobd_e': 1000.0,\n",
       " 'EX_nh4_e': 1000.0,\n",
       " 'EX_o2_e': 1000.0,\n",
       " 'EX_pi_e': 1000.0,\n",
       " 'EX_so4_e': 1000.0,\n",
       " 'EX_zn2_e': 1000.0}"
      ]
     },
     "metadata": {},
     "output_type": "display_data"
    },
    {
     "name": "stdout",
     "output_type": "stream",
     "text": [
      "EFlux2 status optimal\n",
      "EFlux2 solution 8233234.32159505\n",
      "The glucose uptake rate is -209.8912640005305\n",
      "glucose_eflux_t2_3\n",
      "FBA status optimal\n",
      "FBA solution 20.03970456204593\n"
     ]
    },
    {
     "data": {
      "text/plain": [
       "<optlang.cplex_interface.Objective at 0x7f86d33f7bd0>"
      ]
     },
     "metadata": {},
     "output_type": "display_data"
    },
    {
     "data": {
      "text/plain": [
       "{'EX_ca2_e': 1000.0,\n",
       " 'EX_cl_e': 1000.0,\n",
       " 'EX_cobalt2_e': 1000.0,\n",
       " 'EX_cu2_e': 1000.0,\n",
       " 'EX_fe2_e': 1000.0,\n",
       " 'EX_fe3_e': 1000.0,\n",
       " 'EX_glc__D_e': 1000.0,\n",
       " 'EX_h2o_e': 1000.0,\n",
       " 'EX_h_e': 1000.0,\n",
       " 'EX_k_e': 1000.0,\n",
       " 'EX_mg2_e': 1000.0,\n",
       " 'EX_mn2_e': 1000.0,\n",
       " 'EX_mobd_e': 1000.0,\n",
       " 'EX_nh4_e': 1000.0,\n",
       " 'EX_o2_e': 1000.0,\n",
       " 'EX_pi_e': 1000.0,\n",
       " 'EX_so4_e': 1000.0,\n",
       " 'EX_zn2_e': 1000.0}"
      ]
     },
     "metadata": {},
     "output_type": "display_data"
    },
    {
     "name": "stdout",
     "output_type": "stream",
     "text": [
      "EFlux2 status optimal\n",
      "EFlux2 solution 4740190.6398873385\n",
      "The glucose uptake rate is -187.30477581322214\n"
     ]
    }
   ],
   "source": [
    "# create dictionary to hold eflux solutions\n",
    "eflux_solutions = {}\n",
    "\n",
    "# loop over trials\n",
    "for time in ['T1', 'T2']:\n",
    "    for trial in ['WT-Glu-R1', 'WT-Glu-R2','WT-Glu-R3']:\n",
    "        \n",
    "        # display trial name\n",
    "        trial_number = trial.split('-R')[1]\n",
    "        trial_name = f'glucose_eflux_{time.lower()}_{trial_number}'\n",
    "        print(trial_name)\n",
    "        \n",
    "        # get the data for that trial\n",
    "        transcriptomics = []\n",
    "        if time == 'T1':\n",
    "            transcriptomics = transcript_df_T1[transcript_df_T1['Line Name'] == trial]\n",
    "        else:\n",
    "            transcriptomics = transcript_df_T2[transcript_df_T2['Line Name'] == trial]\n",
    "\n",
    "        # map the transcripts to genome scale reactions\n",
    "        trans_data = construct_trans_df(transcriptomics, trial)\n",
    "        \n",
    "        # run eflux to get genome scale fluxes\n",
    "        eflux2_sol = eflux2_pred(model, trans_data, trial, 'glucose', sub_uptake_rate=100)\n",
    "        \n",
    "        print(f\"The glucose uptake rate is {eflux2_sol['EX_glc__D_e']}\")\n",
    "        \n",
    "        # add eflux solution to dictionary\n",
    "        eflux_solutions[trial_name] = eflux2_sol"
   ]
  },
  {
   "cell_type": "code",
   "execution_count": 5,
   "id": "ebee3f08-239a-442a-b15a-86d8fdc2707b",
   "metadata": {},
   "outputs": [
    {
     "data": {
      "text/plain": [
       "-141.57155032104697"
      ]
     },
     "execution_count": 5,
     "metadata": {},
     "output_type": "execute_result"
    }
   ],
   "source": [
    "eflux_solutions['glucose_eflux_t1_1']['EX_glc__D_e']"
   ]
  },
  {
   "cell_type": "markdown",
   "id": "f0ee673b-8e0c-4078-b520-94a21715db1c",
   "metadata": {},
   "source": [
    "#### **Save Glucose E-Flux2 Genome Scale Fluxes**"
   ]
  },
  {
   "cell_type": "code",
   "execution_count": 6,
   "id": "8a3c7561-1ca3-4c7c-af98-154dbabc88e1",
   "metadata": {},
   "outputs": [
    {
     "name": "stdout",
     "output_type": "stream",
     "text": [
      "12DGR140tipp        0.000000\n",
      "13PPDH              0.000000\n",
      "1P2CBXLCYCL         0.000000\n",
      "1P2CBXLR            0.000000\n",
      "23CTI1              0.000000\n",
      "                     ...    \n",
      "Growth_Glucose     17.786453\n",
      "CBFC2pp           556.059830\n",
      "NDH1_4pp          556.059830\n",
      "CYO1bpp_syn       556.059830\n",
      "CYTBDpp            28.630596\n",
      "Name: fluxes, Length: 3025, dtype: float64\n",
      "12DGR140tipp        0.000000\n",
      "13PPDH              0.000000\n",
      "1P2CBXLCYCL         0.000000\n",
      "1P2CBXLR            0.000000\n",
      "23CTI1              0.000000\n",
      "                     ...    \n",
      "Growth_Glucose     20.701425\n",
      "CBFC2pp           664.814192\n",
      "NDH1_4pp          664.814192\n",
      "CYO1bpp_syn       664.814192\n",
      "CYTBDpp            24.873138\n",
      "Name: fluxes, Length: 3025, dtype: float64\n",
      "12DGR140tipp        0.000000\n",
      "13PPDH              0.000000\n",
      "1P2CBXLCYCL         0.000000\n",
      "1P2CBXLR            0.000000\n",
      "23CTI1              0.000000\n",
      "                     ...    \n",
      "Growth_Glucose     19.600653\n",
      "CBFC2pp           633.114230\n",
      "NDH1_4pp          633.114230\n",
      "CYO1bpp_syn       633.114230\n",
      "CYTBDpp            29.897422\n",
      "Name: fluxes, Length: 3025, dtype: float64\n",
      "12DGR140tipp        0.000000\n",
      "13PPDH              0.000000\n",
      "1P2CBXLCYCL         0.000000\n",
      "1P2CBXLR            0.000000\n",
      "23CTI1              0.000000\n",
      "                     ...    \n",
      "Growth_Glucose     24.446676\n",
      "CBFC2pp           696.906415\n",
      "NDH1_4pp          696.906415\n",
      "CYO1bpp_syn       696.906415\n",
      "CYTBDpp            60.051045\n",
      "Name: fluxes, Length: 3025, dtype: float64\n",
      "12DGR140tipp        0.000000\n",
      "13PPDH              0.000000\n",
      "1P2CBXLCYCL         0.000000\n",
      "1P2CBXLR            0.000000\n",
      "23CTI1              0.000000\n",
      "                     ...    \n",
      "Growth_Glucose     24.779484\n",
      "CBFC2pp           760.033012\n",
      "NDH1_4pp          760.033012\n",
      "CYO1bpp_syn       760.033012\n",
      "CYTBDpp             0.000000\n",
      "Name: fluxes, Length: 3025, dtype: float64\n",
      "12DGR140tipp        0.000000\n",
      "13PPDH              0.000000\n",
      "1P2CBXLCYCL         0.000000\n",
      "1P2CBXLR            0.000000\n",
      "23CTI1              0.000000\n",
      "                     ...    \n",
      "Growth_Glucose     20.039705\n",
      "CBFC2pp           542.756696\n",
      "NDH1_4pp          542.756696\n",
      "CYO1bpp_syn       542.756696\n",
      "CYTBDpp            38.682258\n",
      "Name: fluxes, Length: 3025, dtype: float64\n"
     ]
    }
   ],
   "source": [
    "for trial_name, flux_solution in eflux_solutions.items():\n",
    "    print(flux_solution.fluxes)"
   ]
  },
  {
   "cell_type": "code",
   "execution_count": 8,
   "id": "a1434928-6dfc-44dd-8835-bed80302583c",
   "metadata": {},
   "outputs": [
    {
     "data": {
      "text/html": [
       "<div>\n",
       "<style scoped>\n",
       "    .dataframe tbody tr th:only-of-type {\n",
       "        vertical-align: middle;\n",
       "    }\n",
       "\n",
       "    .dataframe tbody tr th {\n",
       "        vertical-align: top;\n",
       "    }\n",
       "\n",
       "    .dataframe thead th {\n",
       "        text-align: right;\n",
       "    }\n",
       "</style>\n",
       "<table border=\"1\" class=\"dataframe\">\n",
       "  <thead>\n",
       "    <tr style=\"text-align: right;\">\n",
       "      <th></th>\n",
       "      <th>reaction_id</th>\n",
       "      <th>reaction_name</th>\n",
       "      <th>reaction_reaction</th>\n",
       "      <th>flux</th>\n",
       "    </tr>\n",
       "  </thead>\n",
       "  <tbody>\n",
       "    <tr>\n",
       "      <th>3020</th>\n",
       "      <td>Growth_Glucose</td>\n",
       "      <td>Glucose biomass reaction</td>\n",
       "      <td>0.000216 10fthf_c + 0.182767992209545 ala__L_c...</td>\n",
       "      <td>17.786453</td>\n",
       "    </tr>\n",
       "    <tr>\n",
       "      <th>3021</th>\n",
       "      <td>CBFC2pp</td>\n",
       "      <td>Cytochrome b6/f complex periplasm</td>\n",
       "      <td>2.0 ficytc6_p + 2.0 h_c + pqh2_p --&gt; 2.0 focyt...</td>\n",
       "      <td>556.059830</td>\n",
       "    </tr>\n",
       "    <tr>\n",
       "      <th>3022</th>\n",
       "      <td>NDH1_4pp</td>\n",
       "      <td>Active co2 transporter facilitator (periplasm)</td>\n",
       "      <td>co2_p + h2o_c + 3.0 h_c + nadph_c + pq_p --&gt; 3...</td>\n",
       "      <td>556.059830</td>\n",
       "    </tr>\n",
       "    <tr>\n",
       "      <th>3023</th>\n",
       "      <td>CYO1bpp_syn</td>\n",
       "      <td>Cytochrome c oxidase, synechocystis (2 protons)</td>\n",
       "      <td>2.0 focytc6_p + 4.0 h_c + 0.5 o2_p --&gt; 2.0 fic...</td>\n",
       "      <td>556.059830</td>\n",
       "    </tr>\n",
       "    <tr>\n",
       "      <th>3024</th>\n",
       "      <td>CYTBDpp</td>\n",
       "      <td>Cytochrome oxidase bd (ubiquinol-8: 2 protons)...</td>\n",
       "      <td>2.0 h_c + 0.5 o2_c + q8h2_c --&gt; h2o_c + 2.0 h_...</td>\n",
       "      <td>28.630596</td>\n",
       "    </tr>\n",
       "  </tbody>\n",
       "</table>\n",
       "</div>"
      ],
      "text/plain": [
       "         reaction_id                                      reaction_name  \\\n",
       "3020  Growth_Glucose                           Glucose biomass reaction   \n",
       "3021         CBFC2pp                  Cytochrome b6/f complex periplasm   \n",
       "3022        NDH1_4pp    Active co2 transporter facilitator (periplasm)    \n",
       "3023     CYO1bpp_syn    Cytochrome c oxidase, synechocystis (2 protons)   \n",
       "3024         CYTBDpp  Cytochrome oxidase bd (ubiquinol-8: 2 protons)...   \n",
       "\n",
       "                                      reaction_reaction        flux  \n",
       "3020  0.000216 10fthf_c + 0.182767992209545 ala__L_c...   17.786453  \n",
       "3021  2.0 ficytc6_p + 2.0 h_c + pqh2_p --> 2.0 focyt...  556.059830  \n",
       "3022  co2_p + h2o_c + 3.0 h_c + nadph_c + pq_p --> 3...  556.059830  \n",
       "3023  2.0 focytc6_p + 4.0 h_c + 0.5 o2_p --> 2.0 fic...  556.059830  \n",
       "3024  2.0 h_c + 0.5 o2_c + q8h2_c --> h2o_c + 2.0 h_...   28.630596  "
      ]
     },
     "metadata": {},
     "output_type": "display_data"
    },
    {
     "data": {
      "text/html": [
       "<div>\n",
       "<style scoped>\n",
       "    .dataframe tbody tr th:only-of-type {\n",
       "        vertical-align: middle;\n",
       "    }\n",
       "\n",
       "    .dataframe tbody tr th {\n",
       "        vertical-align: top;\n",
       "    }\n",
       "\n",
       "    .dataframe thead th {\n",
       "        text-align: right;\n",
       "    }\n",
       "</style>\n",
       "<table border=\"1\" class=\"dataframe\">\n",
       "  <thead>\n",
       "    <tr style=\"text-align: right;\">\n",
       "      <th></th>\n",
       "      <th>reaction_id</th>\n",
       "      <th>reaction_name</th>\n",
       "      <th>reaction_reaction</th>\n",
       "      <th>flux</th>\n",
       "    </tr>\n",
       "  </thead>\n",
       "  <tbody>\n",
       "    <tr>\n",
       "      <th>3020</th>\n",
       "      <td>Growth_Glucose</td>\n",
       "      <td>Glucose biomass reaction</td>\n",
       "      <td>0.000216 10fthf_c + 0.182767992209545 ala__L_c...</td>\n",
       "      <td>20.701425</td>\n",
       "    </tr>\n",
       "    <tr>\n",
       "      <th>3021</th>\n",
       "      <td>CBFC2pp</td>\n",
       "      <td>Cytochrome b6/f complex periplasm</td>\n",
       "      <td>2.0 ficytc6_p + 2.0 h_c + pqh2_p --&gt; 2.0 focyt...</td>\n",
       "      <td>664.814192</td>\n",
       "    </tr>\n",
       "    <tr>\n",
       "      <th>3022</th>\n",
       "      <td>NDH1_4pp</td>\n",
       "      <td>Active co2 transporter facilitator (periplasm)</td>\n",
       "      <td>co2_p + h2o_c + 3.0 h_c + nadph_c + pq_p --&gt; 3...</td>\n",
       "      <td>664.814192</td>\n",
       "    </tr>\n",
       "    <tr>\n",
       "      <th>3023</th>\n",
       "      <td>CYO1bpp_syn</td>\n",
       "      <td>Cytochrome c oxidase, synechocystis (2 protons)</td>\n",
       "      <td>2.0 focytc6_p + 4.0 h_c + 0.5 o2_p --&gt; 2.0 fic...</td>\n",
       "      <td>664.814192</td>\n",
       "    </tr>\n",
       "    <tr>\n",
       "      <th>3024</th>\n",
       "      <td>CYTBDpp</td>\n",
       "      <td>Cytochrome oxidase bd (ubiquinol-8: 2 protons)...</td>\n",
       "      <td>2.0 h_c + 0.5 o2_c + q8h2_c --&gt; h2o_c + 2.0 h_...</td>\n",
       "      <td>24.873138</td>\n",
       "    </tr>\n",
       "  </tbody>\n",
       "</table>\n",
       "</div>"
      ],
      "text/plain": [
       "         reaction_id                                      reaction_name  \\\n",
       "3020  Growth_Glucose                           Glucose biomass reaction   \n",
       "3021         CBFC2pp                  Cytochrome b6/f complex periplasm   \n",
       "3022        NDH1_4pp    Active co2 transporter facilitator (periplasm)    \n",
       "3023     CYO1bpp_syn    Cytochrome c oxidase, synechocystis (2 protons)   \n",
       "3024         CYTBDpp  Cytochrome oxidase bd (ubiquinol-8: 2 protons)...   \n",
       "\n",
       "                                      reaction_reaction        flux  \n",
       "3020  0.000216 10fthf_c + 0.182767992209545 ala__L_c...   20.701425  \n",
       "3021  2.0 ficytc6_p + 2.0 h_c + pqh2_p --> 2.0 focyt...  664.814192  \n",
       "3022  co2_p + h2o_c + 3.0 h_c + nadph_c + pq_p --> 3...  664.814192  \n",
       "3023  2.0 focytc6_p + 4.0 h_c + 0.5 o2_p --> 2.0 fic...  664.814192  \n",
       "3024  2.0 h_c + 0.5 o2_c + q8h2_c --> h2o_c + 2.0 h_...   24.873138  "
      ]
     },
     "metadata": {},
     "output_type": "display_data"
    },
    {
     "data": {
      "text/html": [
       "<div>\n",
       "<style scoped>\n",
       "    .dataframe tbody tr th:only-of-type {\n",
       "        vertical-align: middle;\n",
       "    }\n",
       "\n",
       "    .dataframe tbody tr th {\n",
       "        vertical-align: top;\n",
       "    }\n",
       "\n",
       "    .dataframe thead th {\n",
       "        text-align: right;\n",
       "    }\n",
       "</style>\n",
       "<table border=\"1\" class=\"dataframe\">\n",
       "  <thead>\n",
       "    <tr style=\"text-align: right;\">\n",
       "      <th></th>\n",
       "      <th>reaction_id</th>\n",
       "      <th>reaction_name</th>\n",
       "      <th>reaction_reaction</th>\n",
       "      <th>flux</th>\n",
       "    </tr>\n",
       "  </thead>\n",
       "  <tbody>\n",
       "    <tr>\n",
       "      <th>3020</th>\n",
       "      <td>Growth_Glucose</td>\n",
       "      <td>Glucose biomass reaction</td>\n",
       "      <td>0.000216 10fthf_c + 0.182767992209545 ala__L_c...</td>\n",
       "      <td>19.600653</td>\n",
       "    </tr>\n",
       "    <tr>\n",
       "      <th>3021</th>\n",
       "      <td>CBFC2pp</td>\n",
       "      <td>Cytochrome b6/f complex periplasm</td>\n",
       "      <td>2.0 ficytc6_p + 2.0 h_c + pqh2_p --&gt; 2.0 focyt...</td>\n",
       "      <td>633.114230</td>\n",
       "    </tr>\n",
       "    <tr>\n",
       "      <th>3022</th>\n",
       "      <td>NDH1_4pp</td>\n",
       "      <td>Active co2 transporter facilitator (periplasm)</td>\n",
       "      <td>co2_p + h2o_c + 3.0 h_c + nadph_c + pq_p --&gt; 3...</td>\n",
       "      <td>633.114230</td>\n",
       "    </tr>\n",
       "    <tr>\n",
       "      <th>3023</th>\n",
       "      <td>CYO1bpp_syn</td>\n",
       "      <td>Cytochrome c oxidase, synechocystis (2 protons)</td>\n",
       "      <td>2.0 focytc6_p + 4.0 h_c + 0.5 o2_p --&gt; 2.0 fic...</td>\n",
       "      <td>633.114230</td>\n",
       "    </tr>\n",
       "    <tr>\n",
       "      <th>3024</th>\n",
       "      <td>CYTBDpp</td>\n",
       "      <td>Cytochrome oxidase bd (ubiquinol-8: 2 protons)...</td>\n",
       "      <td>2.0 h_c + 0.5 o2_c + q8h2_c --&gt; h2o_c + 2.0 h_...</td>\n",
       "      <td>29.897422</td>\n",
       "    </tr>\n",
       "  </tbody>\n",
       "</table>\n",
       "</div>"
      ],
      "text/plain": [
       "         reaction_id                                      reaction_name  \\\n",
       "3020  Growth_Glucose                           Glucose biomass reaction   \n",
       "3021         CBFC2pp                  Cytochrome b6/f complex periplasm   \n",
       "3022        NDH1_4pp    Active co2 transporter facilitator (periplasm)    \n",
       "3023     CYO1bpp_syn    Cytochrome c oxidase, synechocystis (2 protons)   \n",
       "3024         CYTBDpp  Cytochrome oxidase bd (ubiquinol-8: 2 protons)...   \n",
       "\n",
       "                                      reaction_reaction        flux  \n",
       "3020  0.000216 10fthf_c + 0.182767992209545 ala__L_c...   19.600653  \n",
       "3021  2.0 ficytc6_p + 2.0 h_c + pqh2_p --> 2.0 focyt...  633.114230  \n",
       "3022  co2_p + h2o_c + 3.0 h_c + nadph_c + pq_p --> 3...  633.114230  \n",
       "3023  2.0 focytc6_p + 4.0 h_c + 0.5 o2_p --> 2.0 fic...  633.114230  \n",
       "3024  2.0 h_c + 0.5 o2_c + q8h2_c --> h2o_c + 2.0 h_...   29.897422  "
      ]
     },
     "metadata": {},
     "output_type": "display_data"
    },
    {
     "data": {
      "text/html": [
       "<div>\n",
       "<style scoped>\n",
       "    .dataframe tbody tr th:only-of-type {\n",
       "        vertical-align: middle;\n",
       "    }\n",
       "\n",
       "    .dataframe tbody tr th {\n",
       "        vertical-align: top;\n",
       "    }\n",
       "\n",
       "    .dataframe thead th {\n",
       "        text-align: right;\n",
       "    }\n",
       "</style>\n",
       "<table border=\"1\" class=\"dataframe\">\n",
       "  <thead>\n",
       "    <tr style=\"text-align: right;\">\n",
       "      <th></th>\n",
       "      <th>reaction_id</th>\n",
       "      <th>reaction_name</th>\n",
       "      <th>reaction_reaction</th>\n",
       "      <th>flux</th>\n",
       "    </tr>\n",
       "  </thead>\n",
       "  <tbody>\n",
       "    <tr>\n",
       "      <th>3020</th>\n",
       "      <td>Growth_Glucose</td>\n",
       "      <td>Glucose biomass reaction</td>\n",
       "      <td>0.000216 10fthf_c + 0.182767992209545 ala__L_c...</td>\n",
       "      <td>24.446676</td>\n",
       "    </tr>\n",
       "    <tr>\n",
       "      <th>3021</th>\n",
       "      <td>CBFC2pp</td>\n",
       "      <td>Cytochrome b6/f complex periplasm</td>\n",
       "      <td>2.0 ficytc6_p + 2.0 h_c + pqh2_p --&gt; 2.0 focyt...</td>\n",
       "      <td>696.906415</td>\n",
       "    </tr>\n",
       "    <tr>\n",
       "      <th>3022</th>\n",
       "      <td>NDH1_4pp</td>\n",
       "      <td>Active co2 transporter facilitator (periplasm)</td>\n",
       "      <td>co2_p + h2o_c + 3.0 h_c + nadph_c + pq_p --&gt; 3...</td>\n",
       "      <td>696.906415</td>\n",
       "    </tr>\n",
       "    <tr>\n",
       "      <th>3023</th>\n",
       "      <td>CYO1bpp_syn</td>\n",
       "      <td>Cytochrome c oxidase, synechocystis (2 protons)</td>\n",
       "      <td>2.0 focytc6_p + 4.0 h_c + 0.5 o2_p --&gt; 2.0 fic...</td>\n",
       "      <td>696.906415</td>\n",
       "    </tr>\n",
       "    <tr>\n",
       "      <th>3024</th>\n",
       "      <td>CYTBDpp</td>\n",
       "      <td>Cytochrome oxidase bd (ubiquinol-8: 2 protons)...</td>\n",
       "      <td>2.0 h_c + 0.5 o2_c + q8h2_c --&gt; h2o_c + 2.0 h_...</td>\n",
       "      <td>60.051045</td>\n",
       "    </tr>\n",
       "  </tbody>\n",
       "</table>\n",
       "</div>"
      ],
      "text/plain": [
       "         reaction_id                                      reaction_name  \\\n",
       "3020  Growth_Glucose                           Glucose biomass reaction   \n",
       "3021         CBFC2pp                  Cytochrome b6/f complex periplasm   \n",
       "3022        NDH1_4pp    Active co2 transporter facilitator (periplasm)    \n",
       "3023     CYO1bpp_syn    Cytochrome c oxidase, synechocystis (2 protons)   \n",
       "3024         CYTBDpp  Cytochrome oxidase bd (ubiquinol-8: 2 protons)...   \n",
       "\n",
       "                                      reaction_reaction        flux  \n",
       "3020  0.000216 10fthf_c + 0.182767992209545 ala__L_c...   24.446676  \n",
       "3021  2.0 ficytc6_p + 2.0 h_c + pqh2_p --> 2.0 focyt...  696.906415  \n",
       "3022  co2_p + h2o_c + 3.0 h_c + nadph_c + pq_p --> 3...  696.906415  \n",
       "3023  2.0 focytc6_p + 4.0 h_c + 0.5 o2_p --> 2.0 fic...  696.906415  \n",
       "3024  2.0 h_c + 0.5 o2_c + q8h2_c --> h2o_c + 2.0 h_...   60.051045  "
      ]
     },
     "metadata": {},
     "output_type": "display_data"
    },
    {
     "data": {
      "text/html": [
       "<div>\n",
       "<style scoped>\n",
       "    .dataframe tbody tr th:only-of-type {\n",
       "        vertical-align: middle;\n",
       "    }\n",
       "\n",
       "    .dataframe tbody tr th {\n",
       "        vertical-align: top;\n",
       "    }\n",
       "\n",
       "    .dataframe thead th {\n",
       "        text-align: right;\n",
       "    }\n",
       "</style>\n",
       "<table border=\"1\" class=\"dataframe\">\n",
       "  <thead>\n",
       "    <tr style=\"text-align: right;\">\n",
       "      <th></th>\n",
       "      <th>reaction_id</th>\n",
       "      <th>reaction_name</th>\n",
       "      <th>reaction_reaction</th>\n",
       "      <th>flux</th>\n",
       "    </tr>\n",
       "  </thead>\n",
       "  <tbody>\n",
       "    <tr>\n",
       "      <th>3020</th>\n",
       "      <td>Growth_Glucose</td>\n",
       "      <td>Glucose biomass reaction</td>\n",
       "      <td>0.000216 10fthf_c + 0.182767992209545 ala__L_c...</td>\n",
       "      <td>24.779484</td>\n",
       "    </tr>\n",
       "    <tr>\n",
       "      <th>3021</th>\n",
       "      <td>CBFC2pp</td>\n",
       "      <td>Cytochrome b6/f complex periplasm</td>\n",
       "      <td>2.0 ficytc6_p + 2.0 h_c + pqh2_p --&gt; 2.0 focyt...</td>\n",
       "      <td>760.033012</td>\n",
       "    </tr>\n",
       "    <tr>\n",
       "      <th>3022</th>\n",
       "      <td>NDH1_4pp</td>\n",
       "      <td>Active co2 transporter facilitator (periplasm)</td>\n",
       "      <td>co2_p + h2o_c + 3.0 h_c + nadph_c + pq_p --&gt; 3...</td>\n",
       "      <td>760.033012</td>\n",
       "    </tr>\n",
       "    <tr>\n",
       "      <th>3023</th>\n",
       "      <td>CYO1bpp_syn</td>\n",
       "      <td>Cytochrome c oxidase, synechocystis (2 protons)</td>\n",
       "      <td>2.0 focytc6_p + 4.0 h_c + 0.5 o2_p --&gt; 2.0 fic...</td>\n",
       "      <td>760.033012</td>\n",
       "    </tr>\n",
       "    <tr>\n",
       "      <th>3024</th>\n",
       "      <td>CYTBDpp</td>\n",
       "      <td>Cytochrome oxidase bd (ubiquinol-8: 2 protons)...</td>\n",
       "      <td>2.0 h_c + 0.5 o2_c + q8h2_c --&gt; h2o_c + 2.0 h_...</td>\n",
       "      <td>0.000000</td>\n",
       "    </tr>\n",
       "  </tbody>\n",
       "</table>\n",
       "</div>"
      ],
      "text/plain": [
       "         reaction_id                                      reaction_name  \\\n",
       "3020  Growth_Glucose                           Glucose biomass reaction   \n",
       "3021         CBFC2pp                  Cytochrome b6/f complex periplasm   \n",
       "3022        NDH1_4pp    Active co2 transporter facilitator (periplasm)    \n",
       "3023     CYO1bpp_syn    Cytochrome c oxidase, synechocystis (2 protons)   \n",
       "3024         CYTBDpp  Cytochrome oxidase bd (ubiquinol-8: 2 protons)...   \n",
       "\n",
       "                                      reaction_reaction        flux  \n",
       "3020  0.000216 10fthf_c + 0.182767992209545 ala__L_c...   24.779484  \n",
       "3021  2.0 ficytc6_p + 2.0 h_c + pqh2_p --> 2.0 focyt...  760.033012  \n",
       "3022  co2_p + h2o_c + 3.0 h_c + nadph_c + pq_p --> 3...  760.033012  \n",
       "3023  2.0 focytc6_p + 4.0 h_c + 0.5 o2_p --> 2.0 fic...  760.033012  \n",
       "3024  2.0 h_c + 0.5 o2_c + q8h2_c --> h2o_c + 2.0 h_...    0.000000  "
      ]
     },
     "metadata": {},
     "output_type": "display_data"
    },
    {
     "data": {
      "text/html": [
       "<div>\n",
       "<style scoped>\n",
       "    .dataframe tbody tr th:only-of-type {\n",
       "        vertical-align: middle;\n",
       "    }\n",
       "\n",
       "    .dataframe tbody tr th {\n",
       "        vertical-align: top;\n",
       "    }\n",
       "\n",
       "    .dataframe thead th {\n",
       "        text-align: right;\n",
       "    }\n",
       "</style>\n",
       "<table border=\"1\" class=\"dataframe\">\n",
       "  <thead>\n",
       "    <tr style=\"text-align: right;\">\n",
       "      <th></th>\n",
       "      <th>reaction_id</th>\n",
       "      <th>reaction_name</th>\n",
       "      <th>reaction_reaction</th>\n",
       "      <th>flux</th>\n",
       "    </tr>\n",
       "  </thead>\n",
       "  <tbody>\n",
       "    <tr>\n",
       "      <th>3020</th>\n",
       "      <td>Growth_Glucose</td>\n",
       "      <td>Glucose biomass reaction</td>\n",
       "      <td>0.000216 10fthf_c + 0.182767992209545 ala__L_c...</td>\n",
       "      <td>20.039705</td>\n",
       "    </tr>\n",
       "    <tr>\n",
       "      <th>3021</th>\n",
       "      <td>CBFC2pp</td>\n",
       "      <td>Cytochrome b6/f complex periplasm</td>\n",
       "      <td>2.0 ficytc6_p + 2.0 h_c + pqh2_p --&gt; 2.0 focyt...</td>\n",
       "      <td>542.756696</td>\n",
       "    </tr>\n",
       "    <tr>\n",
       "      <th>3022</th>\n",
       "      <td>NDH1_4pp</td>\n",
       "      <td>Active co2 transporter facilitator (periplasm)</td>\n",
       "      <td>co2_p + h2o_c + 3.0 h_c + nadph_c + pq_p --&gt; 3...</td>\n",
       "      <td>542.756696</td>\n",
       "    </tr>\n",
       "    <tr>\n",
       "      <th>3023</th>\n",
       "      <td>CYO1bpp_syn</td>\n",
       "      <td>Cytochrome c oxidase, synechocystis (2 protons)</td>\n",
       "      <td>2.0 focytc6_p + 4.0 h_c + 0.5 o2_p --&gt; 2.0 fic...</td>\n",
       "      <td>542.756696</td>\n",
       "    </tr>\n",
       "    <tr>\n",
       "      <th>3024</th>\n",
       "      <td>CYTBDpp</td>\n",
       "      <td>Cytochrome oxidase bd (ubiquinol-8: 2 protons)...</td>\n",
       "      <td>2.0 h_c + 0.5 o2_c + q8h2_c --&gt; h2o_c + 2.0 h_...</td>\n",
       "      <td>38.682258</td>\n",
       "    </tr>\n",
       "  </tbody>\n",
       "</table>\n",
       "</div>"
      ],
      "text/plain": [
       "         reaction_id                                      reaction_name  \\\n",
       "3020  Growth_Glucose                           Glucose biomass reaction   \n",
       "3021         CBFC2pp                  Cytochrome b6/f complex periplasm   \n",
       "3022        NDH1_4pp    Active co2 transporter facilitator (periplasm)    \n",
       "3023     CYO1bpp_syn    Cytochrome c oxidase, synechocystis (2 protons)   \n",
       "3024         CYTBDpp  Cytochrome oxidase bd (ubiquinol-8: 2 protons)...   \n",
       "\n",
       "                                      reaction_reaction        flux  \n",
       "3020  0.000216 10fthf_c + 0.182767992209545 ala__L_c...   20.039705  \n",
       "3021  2.0 ficytc6_p + 2.0 h_c + pqh2_p --> 2.0 focyt...  542.756696  \n",
       "3022  co2_p + h2o_c + 3.0 h_c + nadph_c + pq_p --> 3...  542.756696  \n",
       "3023  2.0 focytc6_p + 4.0 h_c + 0.5 o2_p --> 2.0 fic...  542.756696  \n",
       "3024  2.0 h_c + 0.5 o2_c + q8h2_c --> h2o_c + 2.0 h_...   38.682258  "
      ]
     },
     "metadata": {},
     "output_type": "display_data"
    }
   ],
   "source": [
    "# loop over solution dictionary. Convert the flux solutions to \n",
    "for trial_name, flux_solution in eflux_solutions.items():\n",
    "\n",
    "    flux_df = eflux_solution_to_df(model, flux_solution)\n",
    "    flux_df.to_csv(f'../data/genome_scale_fluxes/{trial_name}.csv', index=False)\n",
    "\n",
    "    display(flux_df.tail(5))"
   ]
  },
  {
   "cell_type": "markdown",
   "id": "e00a0144-8d64-4b44-b6fb-06b9759c903b",
   "metadata": {},
   "source": [
    "#### **Get Average and Standard Deviation of Genome Scale Fluxes**"
   ]
  },
  {
   "cell_type": "code",
   "execution_count": 31,
   "id": "f4b41677-a514-4264-99ce-9c8919546264",
   "metadata": {},
   "outputs": [
    {
     "data": {
      "text/html": [
       "<div>\n",
       "<style scoped>\n",
       "    .dataframe tbody tr th:only-of-type {\n",
       "        vertical-align: middle;\n",
       "    }\n",
       "\n",
       "    .dataframe tbody tr th {\n",
       "        vertical-align: top;\n",
       "    }\n",
       "\n",
       "    .dataframe thead th {\n",
       "        text-align: right;\n",
       "    }\n",
       "</style>\n",
       "<table border=\"1\" class=\"dataframe\">\n",
       "  <thead>\n",
       "    <tr style=\"text-align: right;\">\n",
       "      <th></th>\n",
       "      <th>fluxes</th>\n",
       "    </tr>\n",
       "  </thead>\n",
       "  <tbody>\n",
       "    <tr>\n",
       "      <th>Growth_Glucose</th>\n",
       "      <td>11.910252</td>\n",
       "    </tr>\n",
       "    <tr>\n",
       "      <th>CBFC2pp</th>\n",
       "      <td>362.466497</td>\n",
       "    </tr>\n",
       "    <tr>\n",
       "      <th>NDH1_4pp</th>\n",
       "      <td>362.466497</td>\n",
       "    </tr>\n",
       "    <tr>\n",
       "      <th>CYO1bpp_syn</th>\n",
       "      <td>362.466497</td>\n",
       "    </tr>\n",
       "    <tr>\n",
       "      <th>CYTBDpp</th>\n",
       "      <td>17.150252</td>\n",
       "    </tr>\n",
       "  </tbody>\n",
       "</table>\n",
       "</div>"
      ],
      "text/plain": [
       "                    fluxes\n",
       "Growth_Glucose   11.910252\n",
       "CBFC2pp         362.466497\n",
       "NDH1_4pp        362.466497\n",
       "CYO1bpp_syn     362.466497\n",
       "CYTBDpp          17.150252"
      ]
     },
     "metadata": {},
     "output_type": "display_data"
    },
    {
     "data": {
      "text/html": [
       "<div>\n",
       "<style scoped>\n",
       "    .dataframe tbody tr th:only-of-type {\n",
       "        vertical-align: middle;\n",
       "    }\n",
       "\n",
       "    .dataframe tbody tr th {\n",
       "        vertical-align: top;\n",
       "    }\n",
       "\n",
       "    .dataframe thead th {\n",
       "        text-align: right;\n",
       "    }\n",
       "</style>\n",
       "<table border=\"1\" class=\"dataframe\">\n",
       "  <thead>\n",
       "    <tr style=\"text-align: right;\">\n",
       "      <th></th>\n",
       "      <th>stds</th>\n",
       "    </tr>\n",
       "  </thead>\n",
       "  <tbody>\n",
       "    <tr>\n",
       "      <th>Growth_Glucose</th>\n",
       "      <td>0.770852</td>\n",
       "    </tr>\n",
       "    <tr>\n",
       "      <th>CBFC2pp</th>\n",
       "      <td>47.041709</td>\n",
       "    </tr>\n",
       "    <tr>\n",
       "      <th>NDH1_4pp</th>\n",
       "      <td>47.041709</td>\n",
       "    </tr>\n",
       "    <tr>\n",
       "      <th>CYO1bpp_syn</th>\n",
       "      <td>47.041709</td>\n",
       "    </tr>\n",
       "    <tr>\n",
       "      <th>CYTBDpp</th>\n",
       "      <td>9.372558</td>\n",
       "    </tr>\n",
       "  </tbody>\n",
       "</table>\n",
       "</div>"
      ],
      "text/plain": [
       "                     stds\n",
       "Growth_Glucose   0.770852\n",
       "CBFC2pp         47.041709\n",
       "NDH1_4pp        47.041709\n",
       "CYO1bpp_syn     47.041709\n",
       "CYTBDpp          9.372558"
      ]
     },
     "metadata": {},
     "output_type": "display_data"
    }
   ],
   "source": [
    "# can curate trials to use\n",
    "relevant_trials = [\n",
    "    'glucose_eflux_t1_1', \n",
    "    'glucose_eflux_t1_2', \n",
    "    'glucose_eflux_t1_3',\n",
    "    'glucose_eflux_t2_1', \n",
    "    'glucose_eflux_t2_2', \n",
    "    'glucose_eflux_t2_3'\n",
    "]\n",
    "\n",
    "# define constants to use below\n",
    "uptake_reaction = 'EX_glc__D_e'\n",
    "normalized_uptake_rate = -100\n",
    "\n",
    "# get list of relevant flux vectors\n",
    "flux_vectors = [eflux_solutions[trial_name].fluxes for trial_name in relevant_trials]\n",
    "\n",
    "# combine into a single dataframe, and name columns\n",
    "all_flux_vector_df = pd.concat(flux_vectors, axis=1)\n",
    "all_flux_vector_df.columns = relevant_trials\n",
    "\n",
    "# scale columns so that all have the same uptake rate\n",
    "for trial in relevant_trials:\n",
    "    # get the uptake rate for the trial\n",
    "    current_uptake_rate = all_flux_vector_df[trial][uptake_reaction]\n",
    "    \n",
    "    # calculate the scale factor to get the ratio of the current uptake rate to the normalized uptake value\n",
    "    scale_factor = normalized_uptake_rate / all_flux_vector_df[trial][uptake_reaction]\n",
    "\n",
    "    # update the fluxes in the dataframe with scaled fluxes\n",
    "    all_flux_vector_df[trial] = scale_factor * all_flux_vector_df[trial]\n",
    "\n",
    "# calculate average and standard deviation of flux vectors\n",
    "average_eflux_solution = pd.DataFrame(all_flux_vector_df.mean(axis=1), columns=['fluxes'])\n",
    "std_eflux_solution =  pd.DataFrame(all_flux_vector_df.std(axis=1), columns=['stds'])\n",
    "\n",
    "# # save average flux vector\n",
    "average_eflux_solution.to_csv('../data/genome_scale_fluxes/glucose_eflux.csv')\n",
    "\n",
    "display(average_eflux_solution.tail())\n",
    "display(std_eflux_solution.tail())"
   ]
  },
  {
   "cell_type": "markdown",
   "id": "a5878e73-2eb9-4038-b2d0-e66fa751042d",
   "metadata": {},
   "source": [
    "#### **Load Glucose 13C MFA Data**"
   ]
  },
  {
   "cell_type": "code",
   "execution_count": 32,
   "id": "d8f3a74a-c6de-4877-96c4-744324e35d8c",
   "metadata": {},
   "outputs": [
    {
     "name": "stdout",
     "output_type": "stream",
     "text": [
      "There are 44 fluxes that can be compared between the MFA and E-Flux2\n"
     ]
    },
    {
     "data": {
      "text/html": [
       "<div>\n",
       "<style scoped>\n",
       "    .dataframe tbody tr th:only-of-type {\n",
       "        vertical-align: middle;\n",
       "    }\n",
       "\n",
       "    .dataframe tbody tr th {\n",
       "        vertical-align: top;\n",
       "    }\n",
       "\n",
       "    .dataframe thead th {\n",
       "        text-align: right;\n",
       "    }\n",
       "</style>\n",
       "<table border=\"1\" class=\"dataframe\">\n",
       "  <thead>\n",
       "    <tr style=\"text-align: right;\">\n",
       "      <th></th>\n",
       "      <th>Pathway</th>\n",
       "      <th>Forward Reactions</th>\n",
       "      <th>Reaction</th>\n",
       "      <th>Location on map</th>\n",
       "      <th>Flux</th>\n",
       "      <th>90% Confidence Lower Bound</th>\n",
       "      <th>90% Confidence Upper Bound</th>\n",
       "    </tr>\n",
       "  </thead>\n",
       "  <tbody>\n",
       "    <tr>\n",
       "      <th>0</th>\n",
       "      <td>Substrate Uptake</td>\n",
       "      <td>reverse_EX_glc__D_e</td>\n",
       "      <td>Gluc.ext + ATP -&gt; G6P</td>\n",
       "      <td>(50, 460)</td>\n",
       "      <td>100.00</td>\n",
       "      <td>100.00</td>\n",
       "      <td>100.00</td>\n",
       "    </tr>\n",
       "    <tr>\n",
       "      <th>1</th>\n",
       "      <td>EMP Pathway</td>\n",
       "      <td>PGI</td>\n",
       "      <td>G6P &lt;-&gt; F6P</td>\n",
       "      <td>(-150, 430)</td>\n",
       "      <td>-1.61</td>\n",
       "      <td>-2.09</td>\n",
       "      <td>1.42</td>\n",
       "    </tr>\n",
       "    <tr>\n",
       "      <th>2</th>\n",
       "      <td>EMP Pathway</td>\n",
       "      <td>PFK or reverse_FBP</td>\n",
       "      <td>F6P + ATP -&gt; FBP</td>\n",
       "      <td>(-220, 195)</td>\n",
       "      <td>0.00</td>\n",
       "      <td>0.00</td>\n",
       "      <td>1.91</td>\n",
       "    </tr>\n",
       "    <tr>\n",
       "      <th>3</th>\n",
       "      <td>EMP Pathway</td>\n",
       "      <td>FBA</td>\n",
       "      <td>FBP &lt;-&gt; DHAP + GAP</td>\n",
       "      <td>(-140, 115)</td>\n",
       "      <td>0.00</td>\n",
       "      <td>0.00</td>\n",
       "      <td>1.91</td>\n",
       "    </tr>\n",
       "    <tr>\n",
       "      <th>4</th>\n",
       "      <td>EMP Pathway</td>\n",
       "      <td>TPI</td>\n",
       "      <td>DHAP &lt;-&gt; GAP</td>\n",
       "      <td>(-270, 150)</td>\n",
       "      <td>0.00</td>\n",
       "      <td>0.00</td>\n",
       "      <td>1.91</td>\n",
       "    </tr>\n",
       "  </tbody>\n",
       "</table>\n",
       "</div>"
      ],
      "text/plain": [
       "            Pathway    Forward Reactions               Reaction  \\\n",
       "0  Substrate Uptake  reverse_EX_glc__D_e  Gluc.ext + ATP -> G6P   \n",
       "1       EMP Pathway                  PGI            G6P <-> F6P   \n",
       "2       EMP Pathway   PFK or reverse_FBP       F6P + ATP -> FBP   \n",
       "3       EMP Pathway                  FBA     FBP <-> DHAP + GAP   \n",
       "4       EMP Pathway                  TPI           DHAP <-> GAP   \n",
       "\n",
       "  Location on map    Flux  90% Confidence Lower Bound  \\\n",
       "0       (50, 460)  100.00                      100.00   \n",
       "1     (-150, 430)   -1.61                       -2.09   \n",
       "2     (-220, 195)    0.00                        0.00   \n",
       "3     (-140, 115)    0.00                        0.00   \n",
       "4     (-270, 150)    0.00                        0.00   \n",
       "\n",
       "   90% Confidence Upper Bound  \n",
       "0                      100.00  \n",
       "1                        1.42  \n",
       "2                        1.91  \n",
       "3                        1.91  \n",
       "4                        1.91  "
      ]
     },
     "execution_count": 32,
     "metadata": {},
     "output_type": "execute_result"
    }
   ],
   "source": [
    "glucose_fluxes = pd.read_csv('../data/central_fluxes/glucose_13C.csv')\n",
    "\n",
    "# # Remove rows that do not have a mapping to the GSM\n",
    "glucose_fluxes.dropna(subset = [\"Forward Reactions\"], inplace=True)\n",
    "print(f'There are {len(glucose_fluxes)} fluxes that can be compared between the MFA and E-Flux2')\n",
    "\n",
    "glucose_fluxes.head()"
   ]
  },
  {
   "cell_type": "markdown",
   "id": "8b1e98ef-8abb-45d5-9ee6-c64f630b80df",
   "metadata": {},
   "source": [
    "#### **Map Glucose E-Flux2 fluxes to 13C MFA Reactions**"
   ]
  },
  {
   "cell_type": "code",
   "execution_count": 33,
   "id": "5fd2ed3b-eba1-4ed7-95bf-da01be52b2b7",
   "metadata": {},
   "outputs": [
    {
     "name": "stdout",
     "output_type": "stream",
     "text": [
      "scale_factor fluxes    1.0\n",
      "Name: EX_glc__D_e, dtype: float64\n"
     ]
    },
    {
     "data": {
      "text/html": [
       "<div>\n",
       "<style scoped>\n",
       "    .dataframe tbody tr th:only-of-type {\n",
       "        vertical-align: middle;\n",
       "    }\n",
       "\n",
       "    .dataframe tbody tr th {\n",
       "        vertical-align: top;\n",
       "    }\n",
       "\n",
       "    .dataframe thead th {\n",
       "        text-align: right;\n",
       "    }\n",
       "</style>\n",
       "<table border=\"1\" class=\"dataframe\">\n",
       "  <thead>\n",
       "    <tr style=\"text-align: right;\">\n",
       "      <th></th>\n",
       "      <th>Pathway</th>\n",
       "      <th>Forward Reactions</th>\n",
       "      <th>Reaction</th>\n",
       "      <th>Location on map</th>\n",
       "      <th>Flux</th>\n",
       "      <th>90% Confidence Lower Bound</th>\n",
       "      <th>90% Confidence Upper Bound</th>\n",
       "      <th>E-Flux2 WT Value</th>\n",
       "      <th>E-Flux2 WT std Value</th>\n",
       "    </tr>\n",
       "  </thead>\n",
       "  <tbody>\n",
       "    <tr>\n",
       "      <th>0</th>\n",
       "      <td>Substrate Uptake</td>\n",
       "      <td>reverse_EX_glc__D_e</td>\n",
       "      <td>Gluc.ext + ATP -&gt; G6P</td>\n",
       "      <td>(50, 460)</td>\n",
       "      <td>100.00</td>\n",
       "      <td>100.00</td>\n",
       "      <td>100.00</td>\n",
       "      <td>100.000000</td>\n",
       "      <td>6.355287e-15</td>\n",
       "    </tr>\n",
       "    <tr>\n",
       "      <th>1</th>\n",
       "      <td>EMP Pathway</td>\n",
       "      <td>PGI</td>\n",
       "      <td>G6P &lt;-&gt; F6P</td>\n",
       "      <td>(-150, 430)</td>\n",
       "      <td>-1.61</td>\n",
       "      <td>-2.09</td>\n",
       "      <td>1.42</td>\n",
       "      <td>51.210936</td>\n",
       "      <td>3.338848e+01</td>\n",
       "    </tr>\n",
       "    <tr>\n",
       "      <th>2</th>\n",
       "      <td>EMP Pathway</td>\n",
       "      <td>PFK or reverse_FBP</td>\n",
       "      <td>F6P + ATP -&gt; FBP</td>\n",
       "      <td>(-220, 195)</td>\n",
       "      <td>0.00</td>\n",
       "      <td>0.00</td>\n",
       "      <td>1.91</td>\n",
       "      <td>37.567611</td>\n",
       "      <td>6.358788e+00</td>\n",
       "    </tr>\n",
       "    <tr>\n",
       "      <th>3</th>\n",
       "      <td>EMP Pathway</td>\n",
       "      <td>FBA</td>\n",
       "      <td>FBP &lt;-&gt; DHAP + GAP</td>\n",
       "      <td>(-140, 115)</td>\n",
       "      <td>0.00</td>\n",
       "      <td>0.00</td>\n",
       "      <td>1.91</td>\n",
       "      <td>37.567611</td>\n",
       "      <td>6.358788e+00</td>\n",
       "    </tr>\n",
       "    <tr>\n",
       "      <th>4</th>\n",
       "      <td>EMP Pathway</td>\n",
       "      <td>TPI</td>\n",
       "      <td>DHAP &lt;-&gt; GAP</td>\n",
       "      <td>(-270, 150)</td>\n",
       "      <td>0.00</td>\n",
       "      <td>0.00</td>\n",
       "      <td>1.91</td>\n",
       "      <td>13.288824</td>\n",
       "      <td>3.450657e+00</td>\n",
       "    </tr>\n",
       "  </tbody>\n",
       "</table>\n",
       "</div>"
      ],
      "text/plain": [
       "            Pathway    Forward Reactions               Reaction  \\\n",
       "0  Substrate Uptake  reverse_EX_glc__D_e  Gluc.ext + ATP -> G6P   \n",
       "1       EMP Pathway                  PGI            G6P <-> F6P   \n",
       "2       EMP Pathway   PFK or reverse_FBP       F6P + ATP -> FBP   \n",
       "3       EMP Pathway                  FBA     FBP <-> DHAP + GAP   \n",
       "4       EMP Pathway                  TPI           DHAP <-> GAP   \n",
       "\n",
       "  Location on map    Flux  90% Confidence Lower Bound  \\\n",
       "0       (50, 460)  100.00                      100.00   \n",
       "1     (-150, 430)   -1.61                       -2.09   \n",
       "2     (-220, 195)    0.00                        0.00   \n",
       "3     (-140, 115)    0.00                        0.00   \n",
       "4     (-270, 150)    0.00                        0.00   \n",
       "\n",
       "   90% Confidence Upper Bound  E-Flux2 WT Value  E-Flux2 WT std Value  \n",
       "0                      100.00        100.000000          6.355287e-15  \n",
       "1                        1.42         51.210936          3.338848e+01  \n",
       "2                        1.91         37.567611          6.358788e+00  \n",
       "3                        1.91         37.567611          6.358788e+00  \n",
       "4                        1.91         13.288824          3.450657e+00  "
      ]
     },
     "execution_count": 33,
     "metadata": {},
     "output_type": "execute_result"
    }
   ],
   "source": [
    "glucose_fluxes = add_pred_fluxes_to_13c_df(glucose_fluxes, average_eflux_solution, std_eflux_solution , 'glucose', 'E-Flux2', 'WT')\n",
    "glucose_fluxes.head()"
   ]
  },
  {
   "cell_type": "markdown",
   "id": "704e9edf-edeb-4537-ba89-8594d2d095e0",
   "metadata": {},
   "source": [
    "#### **Save Glucose E-Flux2 Central Flux Predictions**"
   ]
  },
  {
   "cell_type": "code",
   "execution_count": 34,
   "id": "593da6eb-5bc4-4abf-b900-c3616b8e60e5",
   "metadata": {},
   "outputs": [],
   "source": [
    "glucose_fluxes.to_csv('../data/central_fluxes/glucose_eflux.csv', index=False)"
   ]
  },
  {
   "cell_type": "markdown",
   "id": "410242c9-31e8-4bd2-9f60-03c19671c4ea",
   "metadata": {
    "tags": []
   },
   "source": [
    "#### **Plot Glucose E-Flux2 Fluxes vs 13C MFA Fluxes**"
   ]
  },
  {
   "cell_type": "code",
   "execution_count": 35,
   "id": "f2a4ac20-8958-4e80-9e5a-8bf29da0b7b8",
   "metadata": {},
   "outputs": [
    {
     "data": {
      "image/png": "[encoded data removed]",
      "text/plain": [
       "<Figure size 576x576 with 1 Axes>"
      ]
     },
     "metadata": {
      "needs_background": "light"
     },
     "output_type": "display_data"
    }
   ],
   "source": [
    "obs_vs_pred_scatter_plot_with_std(glucose_fluxes, substrate='glucose', method='E-Flux2', strain='WT', output_dir=output_dir)"
   ]
  },
  {
   "cell_type": "markdown",
   "id": "5acdea2b-c993-4b2a-937f-f365bfe8ce7c",
   "metadata": {},
   "source": [
    "#### **Display Glucose E-Flux2 Flux Map**"
   ]
  },
  {
   "cell_type": "code",
   "execution_count": 36,
   "id": "8c95f15a-d177-4cd2-a7d1-e476a93364fe",
   "metadata": {},
   "outputs": [
    {
     "data": {
      "image/png": "[encoded data removed]",
      "text/plain": [
       "<Figure size 750x1000 with 1 Axes>"
      ]
     },
     "metadata": {},
     "output_type": "display_data"
    }
   ],
   "source": [
    "generate_flux_map(glucose_fluxes, 'E-Flux2 WT Value', substrate='glucose', method='E-Flux2', strain='WT', output_dir=output_dir)"
   ]
  },
  {
   "cell_type": "markdown",
   "id": "aa00645e-e85c-48cb-8be5-0d4f811df336",
   "metadata": {},
   "source": [
    "#### **Load experimental growth parameters from Notebook E**"
   ]
  },
  {
   "cell_type": "code",
   "execution_count": 37,
   "id": "6fabe635-37ac-4020-b567-c004ca7f75d2",
   "metadata": {},
   "outputs": [
    {
     "data": {
      "text/html": [
       "<div>\n",
       "<style scoped>\n",
       "    .dataframe tbody tr th:only-of-type {\n",
       "        vertical-align: middle;\n",
       "    }\n",
       "\n",
       "    .dataframe tbody tr th {\n",
       "        vertical-align: top;\n",
       "    }\n",
       "\n",
       "    .dataframe thead th {\n",
       "        text-align: right;\n",
       "    }\n",
       "</style>\n",
       "<table border=\"1\" class=\"dataframe\">\n",
       "  <thead>\n",
       "    <tr style=\"text-align: right;\">\n",
       "      <th></th>\n",
       "      <th>growth rate</th>\n",
       "      <th>yield coefficient</th>\n",
       "      <th>substrate consumption rate</th>\n",
       "      <th>growth rate std dev</th>\n",
       "      <th>yield coefficient std dev</th>\n",
       "      <th>substrate consumption rate std dev</th>\n",
       "    </tr>\n",
       "  </thead>\n",
       "  <tbody>\n",
       "    <tr>\n",
       "      <th>WT-P</th>\n",
       "      <td>0.065488</td>\n",
       "      <td>0.048868</td>\n",
       "      <td>1.352072</td>\n",
       "      <td>0.001345</td>\n",
       "      <td>0.004836</td>\n",
       "      <td>0.122279</td>\n",
       "    </tr>\n",
       "    <tr>\n",
       "      <th>PVHG-P</th>\n",
       "      <td>0.080331</td>\n",
       "      <td>0.040848</td>\n",
       "      <td>1.967485</td>\n",
       "      <td>0.002672</td>\n",
       "      <td>0.001757</td>\n",
       "      <td>0.021785</td>\n",
       "    </tr>\n",
       "    <tr>\n",
       "      <th>WT-G</th>\n",
       "      <td>0.260195</td>\n",
       "      <td>0.072789</td>\n",
       "      <td>3.582471</td>\n",
       "      <td>0.004749</td>\n",
       "      <td>0.004117</td>\n",
       "      <td>0.141675</td>\n",
       "    </tr>\n",
       "  </tbody>\n",
       "</table>\n",
       "</div>"
      ],
      "text/plain": [
       "        growth rate  yield coefficient  substrate consumption rate  \\\n",
       "WT-P       0.065488           0.048868                    1.352072   \n",
       "PVHG-P     0.080331           0.040848                    1.967485   \n",
       "WT-G       0.260195           0.072789                    3.582471   \n",
       "\n",
       "        growth rate std dev  yield coefficient std dev  \\\n",
       "WT-P               0.001345                   0.004836   \n",
       "PVHG-P             0.002672                   0.001757   \n",
       "WT-G               0.004749                   0.004117   \n",
       "\n",
       "        substrate consumption rate std dev  \n",
       "WT-P                              0.122279  \n",
       "PVHG-P                            0.021785  \n",
       "WT-G                              0.141675  "
      ]
     },
     "execution_count": 37,
     "metadata": {},
     "output_type": "execute_result"
    }
   ],
   "source": [
    "consumption_and_growth_data = pd.read_csv('../data/growth_rates/experimental_growth_parameters.csv', index_col=0)\n",
    "consumption_and_growth_data"
   ]
  },
  {
   "cell_type": "markdown",
   "id": "f836e7ee-ca14-4448-bdb4-a8651420d9ef",
   "metadata": {},
   "source": [
    "#### **Calculate E-Flux2 Glucose Growth Rate**"
   ]
  },
  {
   "cell_type": "code",
   "execution_count": 38,
   "id": "faa73cb8-d5c5-4a24-9ebb-3a0dab6d90a2",
   "metadata": {},
   "outputs": [
    {
     "name": "stdout",
     "output_type": "stream",
     "text": [
      "3.582470920816068\n",
      "11.910252233726965\n",
      "average uptake rate -100.0\n"
     ]
    }
   ],
   "source": [
    "# get experimental uptake rate from table\n",
    "exp_uptake_rate = consumption_and_growth_data.loc['WT-G', 'substrate consumption rate']\n",
    "\n",
    "# get average and standard deviation of growth rate from dataframes\n",
    "average_growth_rate = average_eflux_solution.loc['Growth_Glucose',:].values[0] \n",
    "std_growth_rate = std_eflux_solution.loc['Growth_Glucose',:].values[0] \n",
    "\n",
    "# get average and standard deviation of uptake rate from dataframes\n",
    "average_uptake_rate = average_eflux_solution.loc['EX_glc__D_e',:].values[0] \n",
    "std_uptake_rate = std_eflux_solution.loc['EX_glc__D_e',:].values[0] \n",
    "\n",
    "# normalize growth rate to experimental uptake rate\n",
    "eflux_growth_rate = -1 * exp_uptake_rate * (average_growth_rate / average_uptake_rate)\n",
    "eflux_growth_rate_std = -1 * exp_uptake_rate * (std_growth_rate / average_uptake_rate)\n",
    "\n",
    "# Delete later\n",
    "print(exp_uptake_rate)\n",
    "print(average_growth_rate)\n",
    "print('average uptake rate', average_uptake_rate)"
   ]
  },
  {
   "cell_type": "markdown",
   "id": "e4731a6e-7bc6-4ae9-9d5f-f8b62c65c30e",
   "metadata": {},
   "source": [
    "#### **Add E-Flux2 Glucose Data to Growth Rate Data**"
   ]
  },
  {
   "cell_type": "code",
   "execution_count": 39,
   "id": "4e400fb1-23ba-48b3-9ce9-abff3840ea0d",
   "metadata": {},
   "outputs": [
    {
     "data": {
      "text/html": [
       "<div>\n",
       "<style scoped>\n",
       "    .dataframe tbody tr th:only-of-type {\n",
       "        vertical-align: middle;\n",
       "    }\n",
       "\n",
       "    .dataframe tbody tr th {\n",
       "        vertical-align: top;\n",
       "    }\n",
       "\n",
       "    .dataframe thead th {\n",
       "        text-align: right;\n",
       "    }\n",
       "</style>\n",
       "<table border=\"1\" class=\"dataframe\">\n",
       "  <thead>\n",
       "    <tr style=\"text-align: right;\">\n",
       "      <th></th>\n",
       "      <th>growth rate</th>\n",
       "      <th>yield coefficient</th>\n",
       "      <th>substrate consumption rate</th>\n",
       "      <th>growth rate std dev</th>\n",
       "      <th>yield coefficient std dev</th>\n",
       "      <th>substrate consumption rate std dev</th>\n",
       "      <th>E-Flux2 growth rate</th>\n",
       "      <th>E-Flux2 growth std</th>\n",
       "    </tr>\n",
       "  </thead>\n",
       "  <tbody>\n",
       "    <tr>\n",
       "      <th>WT-P</th>\n",
       "      <td>0.065488</td>\n",
       "      <td>0.048868</td>\n",
       "      <td>1.352072</td>\n",
       "      <td>0.001345</td>\n",
       "      <td>0.004836</td>\n",
       "      <td>0.122279</td>\n",
       "      <td>NaN</td>\n",
       "      <td>NaN</td>\n",
       "    </tr>\n",
       "    <tr>\n",
       "      <th>PVHG-P</th>\n",
       "      <td>0.080331</td>\n",
       "      <td>0.040848</td>\n",
       "      <td>1.967485</td>\n",
       "      <td>0.002672</td>\n",
       "      <td>0.001757</td>\n",
       "      <td>0.021785</td>\n",
       "      <td>NaN</td>\n",
       "      <td>NaN</td>\n",
       "    </tr>\n",
       "    <tr>\n",
       "      <th>WT-G</th>\n",
       "      <td>0.260195</td>\n",
       "      <td>0.072789</td>\n",
       "      <td>3.582471</td>\n",
       "      <td>0.004749</td>\n",
       "      <td>0.004117</td>\n",
       "      <td>0.141675</td>\n",
       "      <td>0.426681</td>\n",
       "      <td>0.027616</td>\n",
       "    </tr>\n",
       "  </tbody>\n",
       "</table>\n",
       "</div>"
      ],
      "text/plain": [
       "        growth rate  yield coefficient  substrate consumption rate  \\\n",
       "WT-P       0.065488           0.048868                    1.352072   \n",
       "PVHG-P     0.080331           0.040848                    1.967485   \n",
       "WT-G       0.260195           0.072789                    3.582471   \n",
       "\n",
       "        growth rate std dev  yield coefficient std dev  \\\n",
       "WT-P               0.001345                   0.004836   \n",
       "PVHG-P             0.002672                   0.001757   \n",
       "WT-G               0.004749                   0.004117   \n",
       "\n",
       "        substrate consumption rate std dev  E-Flux2 growth rate  \\\n",
       "WT-P                              0.122279                  NaN   \n",
       "PVHG-P                            0.021785                  NaN   \n",
       "WT-G                              0.141675             0.426681   \n",
       "\n",
       "        E-Flux2 growth std  \n",
       "WT-P                   NaN  \n",
       "PVHG-P                 NaN  \n",
       "WT-G              0.027616  "
      ]
     },
     "execution_count": 39,
     "metadata": {},
     "output_type": "execute_result"
    }
   ],
   "source": [
    "consumption_and_growth_data['E-Flux2 growth rate'] = [np.nan, np.nan, eflux_growth_rate]\n",
    "consumption_and_growth_data['E-Flux2 growth std'] = [np.nan, np.nan, eflux_growth_rate_std]\n",
    "consumption_and_growth_data"
   ]
  },
  {
   "cell_type": "markdown",
   "id": "e8d90f30-5dea-432d-bed6-c3130c173ad4",
   "metadata": {},
   "source": [
    "#### **Save E-Flux2 Growth Rates**"
   ]
  },
  {
   "cell_type": "code",
   "execution_count": 40,
   "id": "e299991b-8dfb-4fe3-88a3-8597d3bb0b6b",
   "metadata": {},
   "outputs": [],
   "source": [
    "consumption_and_growth_data.to_csv('../data/growth_rates/eflux2_growth_rates.csv', index=True, header=True)"
   ]
  },
  {
   "cell_type": "code",
   "execution_count": null,
   "id": "bc17808d-ac39-4d62-880b-e9780d3ecc62",
   "metadata": {},
   "outputs": [],
   "source": []
  }
 ],
 "metadata": {
  "kernelspec": {
   "display_name": "biodesign_3.7",
   "language": "python",
   "name": "biod_3.7"
  },
  "language_info": {
   "codemirror_mode": {
    "name": "ipython",
    "version": 3
   },
   "file_extension": ".py",
   "mimetype": "text/x-python",
   "name": "python",
   "nbconvert_exporter": "python",
   "pygments_lexer": "ipython3",
   "version": "3.7.4"
  }
 },
 "nbformat": 4,
 "nbformat_minor": 5
}

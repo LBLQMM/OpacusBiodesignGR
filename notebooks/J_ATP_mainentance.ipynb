{
 "cells": [
  {
   "cell_type": "markdown",
   "id": "533e598e-7035-43c2-ad97-a54c98c08a99",
   "metadata": {
    "tags": []
   },
   "source": [
    "# ATP Maintenance Investigation\n",
    "\n",
    "By Garrett Roell and Christina Schenk\n",
    "\n",
    "Tested on biodesign_3.7 kernel on jprime\n",
    "\n",
    "This notebook determines ATP maintenance flux in two ways. First, it plots the curve of the max growth rate vs. ATP flux, and determines where that line intersects the growth rate. Then it calculates the intersection point using flux variability analysis (FVA).\n",
    "\n",
    "### Method: \n",
    "<ol>\n",
    "<li>Setup imports</li>\n",
    "<li>Load model and relevant data</li>\n",
    "<li>Isolate wildtype phenol and glucose parameters</li>\n",
    "    \n",
    "<li>Run phenol FBA with many levels of ATP maintenance flux</li>\n",
    "<li>Plot phenol growth rate vs. ATP maintenance flux</li>\n",
    "<li>Run FVA to calculate phenol ATP maintenance flux value</li>\n",
    "    \n",
    "<li>Run glucose FBA with many levels of ATP maintenance flux</li>\n",
    "<li>Plot glucose growth rate vs. ATP maintenance flux</li>\n",
    "<li>Run FVA to calculate glucose ATP maintenance flux value</li>\n",
    "</ol>"
   ]
  },
  {
   "cell_type": "markdown",
   "id": "c0616995-33eb-4a82-9bec-16457ee8812c",
   "metadata": {},
   "source": [
    "### 1. Setup imports"
   ]
  },
  {
   "cell_type": "code",
   "execution_count": 1,
   "id": "412ba6d9-e08c-4fea-8adf-a0332a2d43be",
   "metadata": {},
   "outputs": [],
   "source": [
    "import pandas as pd\n",
    "import sys\n",
    "import matplotlib\n",
    "from matplotlib import pyplot as plt\n",
    "import cobra\n",
    "\n",
    "SourceDir = '../src'\n",
    "sys.path.append(SourceDir)\n",
    "from cobra_functions import get_FBA_solution"
   ]
  },
  {
   "cell_type": "markdown",
   "id": "63518295-3afe-4f99-82f1-19713503dda0",
   "metadata": {},
   "source": [
    "### 2. Load model and relevant data"
   ]
  },
  {
   "cell_type": "code",
   "execution_count": 2,
   "id": "733d4583-d7b9-4d02-9718-3311febe7914",
   "metadata": {},
   "outputs": [
    {
     "data": {
      "text/html": [
       "<div>\n",
       "<style scoped>\n",
       "    .dataframe tbody tr th:only-of-type {\n",
       "        vertical-align: middle;\n",
       "    }\n",
       "\n",
       "    .dataframe tbody tr th {\n",
       "        vertical-align: top;\n",
       "    }\n",
       "\n",
       "    .dataframe thead th {\n",
       "        text-align: right;\n",
       "    }\n",
       "</style>\n",
       "<table border=\"1\" class=\"dataframe\">\n",
       "  <thead>\n",
       "    <tr style=\"text-align: right;\">\n",
       "      <th></th>\n",
       "      <th>growth rate</th>\n",
       "      <th>yield coefficient</th>\n",
       "      <th>substrate consumption rate</th>\n",
       "      <th>growth rate std dev</th>\n",
       "      <th>yield coefficient std dev</th>\n",
       "      <th>substrate consumption rate std dev</th>\n",
       "    </tr>\n",
       "  </thead>\n",
       "  <tbody>\n",
       "    <tr>\n",
       "      <th>WT-P</th>\n",
       "      <td>0.065488</td>\n",
       "      <td>0.048868</td>\n",
       "      <td>1.352072</td>\n",
       "      <td>0.001345</td>\n",
       "      <td>0.004836</td>\n",
       "      <td>0.122279</td>\n",
       "    </tr>\n",
       "    <tr>\n",
       "      <th>PVHG-P</th>\n",
       "      <td>0.080331</td>\n",
       "      <td>0.040848</td>\n",
       "      <td>1.967485</td>\n",
       "      <td>0.002672</td>\n",
       "      <td>0.001757</td>\n",
       "      <td>0.021785</td>\n",
       "    </tr>\n",
       "    <tr>\n",
       "      <th>WT-G</th>\n",
       "      <td>0.260195</td>\n",
       "      <td>0.072789</td>\n",
       "      <td>3.582471</td>\n",
       "      <td>0.004749</td>\n",
       "      <td>0.004117</td>\n",
       "      <td>0.141675</td>\n",
       "    </tr>\n",
       "  </tbody>\n",
       "</table>\n",
       "</div>"
      ],
      "text/plain": [
       "        growth rate  yield coefficient  substrate consumption rate  \\\n",
       "WT-P       0.065488           0.048868                    1.352072   \n",
       "PVHG-P     0.080331           0.040848                    1.967485   \n",
       "WT-G       0.260195           0.072789                    3.582471   \n",
       "\n",
       "        growth rate std dev  yield coefficient std dev  \\\n",
       "WT-P               0.001345                   0.004836   \n",
       "PVHG-P             0.002672                   0.001757   \n",
       "WT-G               0.004749                   0.004117   \n",
       "\n",
       "        substrate consumption rate std dev  \n",
       "WT-P                              0.122279  \n",
       "PVHG-P                            0.021785  \n",
       "WT-G                              0.141675  "
      ]
     },
     "execution_count": 2,
     "metadata": {},
     "output_type": "execute_result"
    }
   ],
   "source": [
    "# load model\n",
    "model = cobra.io.read_sbml_model('../models/r_opacus_annotated_curated.xml')\n",
    "\n",
    "# load growth parameters\n",
    "growth_parameters = pd.read_csv('../data/growth_parameters/experimental_growth_parameters.csv', index_col=0)\n",
    "\n",
    "growth_parameters"
   ]
  },
  {
   "cell_type": "markdown",
   "id": "de451157-8e7c-441e-9c98-8d7ce4b70ef6",
   "metadata": {},
   "source": [
    "### 3. Isolate wildtype phenol and glucose parameters"
   ]
  },
  {
   "cell_type": "code",
   "execution_count": 3,
   "id": "e26f25db-2012-4350-b391-f13e2ea30463",
   "metadata": {},
   "outputs": [],
   "source": [
    "phenol_uptake_rate = growth_parameters.loc['WT-P', 'substrate consumption rate']\n",
    "phenol_growth_rate = growth_parameters.loc['WT-P', 'growth rate']\n",
    "\n",
    "glucose_uptake_rate = growth_parameters.loc['WT-G', 'substrate consumption rate']\n",
    "glucose_growth_rate = growth_parameters.loc['WT-G', 'growth rate']"
   ]
  },
  {
   "cell_type": "markdown",
   "id": "d5dca8f2-bb89-407c-98d5-1d81bdb74827",
   "metadata": {},
   "source": [
    "### 4. Run phenol FBA with many levels of ATP maintenance flux"
   ]
  },
  {
   "cell_type": "code",
   "execution_count": 4,
   "id": "60f5a3c1-61fa-4e13-8a76-2149bd89bdf8",
   "metadata": {},
   "outputs": [
    {
     "name": "stdout",
     "output_type": "stream",
     "text": [
      "{0: 0.15278812242970205, 5: 0.13426011491702106, 10: 0.11556103138890017, 15: 0.09686194786077942, 20: 0.07816286433265848, 25: 0.05946378080453746, 30: 0.04076469727641601, 35: 0.022065613748295014, 40: 0.0033665302201742213}\n"
     ]
    }
   ],
   "source": [
    "atp_growth_data = {}\n",
    "\n",
    "# try every flux from 0 to 100 with a step of 10\n",
    "for atp_maintenance_flux in range(0, 45, 5):\n",
    "    # fix atp maintenance flux\n",
    "    model.reactions.get_by_id('ATPM').lower_bound = atp_maintenance_flux\n",
    "    model.reactions.get_by_id('ATPM').upper_bound = atp_maintenance_flux\n",
    "    \n",
    "    # run FBA\n",
    "    phenol_fba_solution = get_FBA_solution(model, 'phenol', substrate_uptake_rate=phenol_uptake_rate, verbose=False) \n",
    "    \n",
    "    # save data pair of atp maintenance flux and growth rate\n",
    "    atp_growth_data[atp_maintenance_flux] = phenol_fba_solution.objective_value\n",
    "    \n",
    "print(atp_growth_data)"
   ]
  },
  {
   "cell_type": "markdown",
   "id": "35e7e767-900f-4da8-addf-af1caa2293c5",
   "metadata": {},
   "source": [
    "### 5. Plot phenol growth rate vs. ATP maintenance flux"
   ]
  },
  {
   "cell_type": "code",
   "execution_count": 5,
   "id": "ac6f6544-8d3f-4f88-9d03-d3199331b286",
   "metadata": {},
   "outputs": [
    {
     "data": {
      "image/png": "[encoded data removed]",
      "text/plain": [
       "<Figure size 432x288 with 1 Axes>"
      ]
     },
     "metadata": {
      "needs_background": "light"
     },
     "output_type": "display_data"
    }
   ],
   "source": [
    "plt.plot(list(atp_growth_data.keys()), list(atp_growth_data.values()))\n",
    "plt.plot([0, 40], [phenol_growth_rate, phenol_growth_rate])\n",
    "plt.title('ATP + water --> ADP + H + pi\\n\\nATP Maintenance Flux vs Phenol Growth Rate')\n",
    "plt.ylabel('Phenol Growth Rate (hr-1)')\n",
    "plt.xlabel('ATP Maintenance Flux (mmol ATPM/g DCW/hr)')\n",
    "plt.show()"
   ]
  },
  {
   "cell_type": "markdown",
   "id": "d40461b6-afd8-43c0-8a5d-d6ecdd3c852b",
   "metadata": {},
   "source": [
    "### 6. Run FVA to calculate phenol ATP maintenance flux value"
   ]
  },
  {
   "cell_type": "code",
   "execution_count": 6,
   "id": "44258a22-0960-4713-883c-91209d4f4604",
   "metadata": {},
   "outputs": [
    {
     "data": {
      "text/plain": [
       "{'EX_ca2_e': 1000.0,\n",
       " 'EX_cl_e': 1000.0,\n",
       " 'EX_cobalt2_e': 1000.0,\n",
       " 'EX_cu2_e': 1000.0,\n",
       " 'EX_fe2_e': 1000.0,\n",
       " 'EX_fe3_e': 1000.0,\n",
       " 'EX_h2o_e': 1000.0,\n",
       " 'EX_h_e': 1000.0,\n",
       " 'EX_k_e': 1000.0,\n",
       " 'EX_mg2_e': 1000.0,\n",
       " 'EX_mn2_e': 1000.0,\n",
       " 'EX_mobd_e': 1000.0,\n",
       " 'EX_nh4_e': 1000.0,\n",
       " 'EX_o2_e': 1000.0,\n",
       " 'EX_pi_e': 1000.0,\n",
       " 'EX_so4_e': 1000.0,\n",
       " 'EX_zn2_e': 1000.0,\n",
       " 'EX_phenol_e': 1.3520722607432194}"
      ]
     },
     "metadata": {},
     "output_type": "display_data"
    },
    {
     "data": {
      "text/html": [
       "<div>\n",
       "<style scoped>\n",
       "    .dataframe tbody tr th:only-of-type {\n",
       "        vertical-align: middle;\n",
       "    }\n",
       "\n",
       "    .dataframe tbody tr th {\n",
       "        vertical-align: top;\n",
       "    }\n",
       "\n",
       "    .dataframe thead th {\n",
       "        text-align: right;\n",
       "    }\n",
       "</style>\n",
       "<table border=\"1\" class=\"dataframe\">\n",
       "  <thead>\n",
       "    <tr style=\"text-align: right;\">\n",
       "      <th></th>\n",
       "      <th>minimum</th>\n",
       "      <th>maximum</th>\n",
       "    </tr>\n",
       "  </thead>\n",
       "  <tbody>\n",
       "    <tr>\n",
       "      <th>ATPM</th>\n",
       "      <td>0.0</td>\n",
       "      <td>23.389117</td>\n",
       "    </tr>\n",
       "  </tbody>\n",
       "</table>\n",
       "</div>"
      ],
      "text/plain": [
       "      minimum    maximum\n",
       "ATPM      0.0  23.389117"
      ]
     },
     "metadata": {},
     "output_type": "display_data"
    }
   ],
   "source": [
    "with model:\n",
    "    # reset atm maintenance bounds\n",
    "    model.reactions.get_by_id('ATPM').lower_bound = 0\n",
    "    model.reactions.get_by_id('ATPM').upper_bound = 1000\n",
    "    \n",
    "    # set up objective function\n",
    "    model.objective = 'Growth_Phenol'\n",
    "    model.reactions.get_by_id('Growth_Phenol').upper_bound = phenol_growth_rate\n",
    "\n",
    "    # set up medium\n",
    "    medium = model.medium \n",
    "    medium = {key:1000 for (key,value) in model.medium.items()}\n",
    "    model.reactions.get_by_id('Growth_Glucose').upper_bound = 0\n",
    "    model.reactions.get_by_id('Growth_Glucose').lower_bound = 0\n",
    "    model.reactions.get_by_id('Growth').upper_bound = 0\n",
    "    model.reactions.get_by_id('Growth').lower_bound = 0\n",
    "\n",
    "    #remove all non-phenol carbon sources:\n",
    "    medium[\"EX_glc__D_e\"] = 0\n",
    "    medium['EX_guaiacol_e'] = 0\n",
    "    medium['EX_vanlt_e'] = 0\n",
    "    medium['EX_tag'] = 0\n",
    "    medium[\"EX_phenol_e\"] = phenol_uptake_rate\n",
    "\n",
    "    model.medium = medium    \n",
    "    display(model.medium)\n",
    "    \n",
    "    results = cobra.flux_analysis.flux_variability_analysis(model, ['ATPM'], fraction_of_optimum=1)\n",
    "    display(results)"
   ]
  },
  {
   "cell_type": "markdown",
   "id": "f0a69bb6-9a8d-4e00-aeb2-712b381c78cf",
   "metadata": {},
   "source": [
    "### 7. Run glucose FBA with many levels of ATP maintenance flux"
   ]
  },
  {
   "cell_type": "code",
   "execution_count": 7,
   "id": "1edeee7c-315a-41c3-adff-9e3538e01803",
   "metadata": {},
   "outputs": [
    {
     "name": "stdout",
     "output_type": "stream",
     "text": [
      "{0: 0.4843789336573, 5: 0.46658839979762873, 10: 0.4487978659379577, 15: 0.43100733207828656, 20: 0.4132167982186153, 25: 0.3954262643589441, 30: 0.37763573049927296, 35: 0.3598451966396014, 40: 0.3420546627799305, 45: 0.3242641289202591, 50: 0.3064735950605883, 55: 0.28868306120091686, 60: 0.27089252734124525, 65: 0.2531019934815752, 70: 0.2353114596219037, 75: 0.21752092576223217, 80: 0.19973039190256048, 85: 0.1819398580428906, 90: 0.164149324183219, 95: 0.14635879032354734, 100: 0.12856825646387582, 105: 0.11077772260420424, 110: 0.09298718874453432, 115: 0.07519665488486102, 120: 0.05740612102518945, 125: 0.03961558716551955, 130: 0.02182505330584788, 135: 0.004034519446176322}\n"
     ]
    }
   ],
   "source": [
    "atp_growth_data = {}\n",
    "\n",
    "# try every flux from 0 to 100 with a step of 10\n",
    "for atp_maintenance_flux in range(0, 140, 5):\n",
    "    # fix atp maintenance flux\n",
    "    model.reactions.get_by_id('ATPM').lower_bound = atp_maintenance_flux\n",
    "    model.reactions.get_by_id('ATPM').upper_bound = atp_maintenance_flux\n",
    "    \n",
    "    # run FBA\n",
    "    glucose_fba_solution = get_FBA_solution(model, 'glucose', substrate_uptake_rate=glucose_uptake_rate, verbose=False) \n",
    "    \n",
    "    # save data pair of atp maintenance flux and growth rate\n",
    "    atp_growth_data[atp_maintenance_flux] = glucose_fba_solution.objective_value\n",
    "    \n",
    "print(atp_growth_data)"
   ]
  },
  {
   "cell_type": "markdown",
   "id": "8be5bed0-0271-4156-bf25-677b8a418634",
   "metadata": {},
   "source": [
    "### 8. Plot glucose growth rate vs. ATP maintenance flux"
   ]
  },
  {
   "cell_type": "code",
   "execution_count": 8,
   "id": "659353d7-e946-4154-9b95-983036779d84",
   "metadata": {},
   "outputs": [
    {
     "data": {
      "image/png": "[encoded data removed]",
      "text/plain": [
       "<Figure size 432x288 with 1 Axes>"
      ]
     },
     "metadata": {
      "needs_background": "light"
     },
     "output_type": "display_data"
    }
   ],
   "source": [
    "plt.plot(list(atp_growth_data.keys()), list(atp_growth_data.values()))\n",
    "plt.plot([0, 140], [glucose_growth_rate, glucose_growth_rate])\n",
    "plt.title('ATP + water --> ADP + H + pi\\n\\nATP Maintenance Flux vs Glucose Growth Rate')\n",
    "plt.ylabel('Glucose Growth Rate (hr-1)')\n",
    "plt.xlabel('ATP Maintenance Flux (mmol ATPM/g DCW/hr)')\n",
    "plt.show()"
   ]
  },
  {
   "cell_type": "markdown",
   "id": "08ac56be-b229-4d36-9893-0d744b819e4c",
   "metadata": {},
   "source": [
    "### 9. Run FVA to calculate glucose ATP maintenance flux value"
   ]
  },
  {
   "cell_type": "code",
   "execution_count": 9,
   "id": "1deda67b-5599-4836-9075-e0a3844797e3",
   "metadata": {},
   "outputs": [
    {
     "data": {
      "text/plain": [
       "{'EX_ca2_e': 1000.0,\n",
       " 'EX_cl_e': 1000.0,\n",
       " 'EX_cobalt2_e': 1000.0,\n",
       " 'EX_cu2_e': 1000.0,\n",
       " 'EX_fe2_e': 1000.0,\n",
       " 'EX_fe3_e': 1000.0,\n",
       " 'EX_glc__D_e': 3.582470920816068,\n",
       " 'EX_h2o_e': 1000.0,\n",
       " 'EX_h_e': 1000.0,\n",
       " 'EX_k_e': 1000.0,\n",
       " 'EX_mg2_e': 1000.0,\n",
       " 'EX_mn2_e': 1000.0,\n",
       " 'EX_mobd_e': 1000.0,\n",
       " 'EX_nh4_e': 1000.0,\n",
       " 'EX_o2_e': 1000.0,\n",
       " 'EX_pi_e': 1000.0,\n",
       " 'EX_so4_e': 1000.0,\n",
       " 'EX_zn2_e': 1000.0}"
      ]
     },
     "metadata": {},
     "output_type": "display_data"
    },
    {
     "data": {
      "text/html": [
       "<div>\n",
       "<style scoped>\n",
       "    .dataframe tbody tr th:only-of-type {\n",
       "        vertical-align: middle;\n",
       "    }\n",
       "\n",
       "    .dataframe tbody tr th {\n",
       "        vertical-align: top;\n",
       "    }\n",
       "\n",
       "    .dataframe thead th {\n",
       "        text-align: right;\n",
       "    }\n",
       "</style>\n",
       "<table border=\"1\" class=\"dataframe\">\n",
       "  <thead>\n",
       "    <tr style=\"text-align: right;\">\n",
       "      <th></th>\n",
       "      <th>minimum</th>\n",
       "      <th>maximum</th>\n",
       "    </tr>\n",
       "  </thead>\n",
       "  <tbody>\n",
       "    <tr>\n",
       "      <th>ATPM</th>\n",
       "      <td>0.0</td>\n",
       "      <td>63.006595</td>\n",
       "    </tr>\n",
       "  </tbody>\n",
       "</table>\n",
       "</div>"
      ],
      "text/plain": [
       "      minimum    maximum\n",
       "ATPM      0.0  63.006595"
      ]
     },
     "metadata": {},
     "output_type": "display_data"
    }
   ],
   "source": [
    "with model:\n",
    "    # reset atm maintenance bounds\n",
    "    model.reactions.get_by_id('ATPM').lower_bound = 0\n",
    "    model.reactions.get_by_id('ATPM').upper_bound = 1000\n",
    "    \n",
    "    # set up objective function\n",
    "    model.objective = 'Growth_Glucose'\n",
    "    model.reactions.get_by_id('Growth_Glucose').upper_bound = glucose_growth_rate\n",
    "\n",
    "    # set up medium\n",
    "    medium = model.medium \n",
    "    medium = {key:1000 for (key,value) in model.medium.items()}\n",
    "    model.reactions.get_by_id('Growth_Phenol').upper_bound = 0\n",
    "    model.reactions.get_by_id('Growth_Phenol').lower_bound = 0\n",
    "    model.reactions.get_by_id('Growth').upper_bound = 0\n",
    "    model.reactions.get_by_id('Growth').lower_bound = 0\n",
    "\n",
    "    #remove all non-glucose carbon sources:\n",
    "    medium[\"EX_glc__D_e\"] = glucose_uptake_rate\n",
    "    medium['EX_guaiacol_e'] = 0\n",
    "    medium['EX_vanlt_e'] = 0\n",
    "    medium['EX_tag'] = 0\n",
    "    medium[\"EX_phenol_e\"] = 0\n",
    "\n",
    "    model.medium = medium    \n",
    "    display(model.medium)\n",
    "    \n",
    "    results = cobra.flux_analysis.flux_variability_analysis(model, ['ATPM'], fraction_of_optimum=1)\n",
    "    display(results)"
   ]
  }
 ],
 "metadata": {
  "kernelspec": {
   "display_name": "biodesign_3.7",
   "language": "python",
   "name": "biod_3.7"
  },
  "language_info": {
   "codemirror_mode": {
    "name": "ipython",
    "version": 3
   },
   "file_extension": ".py",
   "mimetype": "text/x-python",
   "name": "python",
   "nbconvert_exporter": "python",
   "pygments_lexer": "ipython3",
   "version": "3.7.4"
  }
 },
 "nbformat": 4,
 "nbformat_minor": 5
}

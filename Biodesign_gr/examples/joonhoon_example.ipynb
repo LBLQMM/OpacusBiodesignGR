{
 "cells": [
  {
   "cell_type": "code",
   "execution_count": 1,
   "metadata": {},
   "outputs": [],
   "source": [
    "%matplotlib inline\n",
    "from matplotlib import pyplot as plt\n",
    "import numpy as np\n",
    "import pandas as pd\n",
    "import json\n",
    "import urllib\n",
    "import cobra"
   ]
  },
  {
   "cell_type": "code",
   "execution_count": null,
   "metadata": {},
   "outputs": [],
   "source": [
    "#bigg_universal = cobra.io.load_json_model(urllib.request.urlopen('http://bigg.ucsd.edu/static/namespace/universal_model.json'))\n",
    "#cobra.io.save_json_model(bigg_universal, \"/Users/kimj972/Documents/Research/Rhodosporidium_toruloides/Metabolic_model/BiGG_universal.json\")"
   ]
  },
  {
   "cell_type": "code",
   "execution_count": null,
   "metadata": {},
   "outputs": [],
   "source": [
    "# bigg_universal = cobra.io.load_json_model(\"/Users/kimj972/Documents/Research/Rhodosporidium_toruloides/Metabolic_model/BiGG_universal.json\")\n",
    "bigg_universal = cobra.io.load_json_model(\"GSMs/universal_model.json\")"
   ]
  },
  {
   "cell_type": "code",
   "execution_count": null,
   "metadata": {},
   "outputs": [],
   "source": [
    "# model = cobra.io.load_json_model(\"/Users/kimj972/Documents/Research/Rhodosporidium_toruloides/Metabolic_model/IFO0880_GPR_2e.json\")\n",
    "model = cobra.io.read_sbml_model(\"carveme/Ropacus_carveme_raw.xml\")"
   ]
  },
  {
   "cell_type": "markdown",
   "metadata": {},
   "source": [
    "Joonhoon's version had no output<br>\n",
    "sorted function seems unneccesary\n",
    "\n",
    "First check that all genes have at least one reaction.<br>\n",
    "Then check that all metabolites have at least one reaction.<br>\n",
    "Orphan gene/metabolite check"
   ]
  },
  {
   "cell_type": "code",
   "execution_count": null,
   "metadata": {},
   "outputs": [],
   "source": [
    "print(len(model.genes))\n",
    "print(model.genes[0])\n",
    "print(model.genes[0].reactions)"
   ]
  },
  {
   "cell_type": "code",
   "execution_count": null,
   "metadata": {},
   "outputs": [],
   "source": [
    "for x in sorted(model.genes, key=lambda x: x.id):\n",
    "    if not x.reactions:\n",
    "        print(x)\n",
    "print()\n",
    "for x in sorted(model.metabolites, key=lambda x: x.id):\n",
    "    if not x.reactions:\n",
    "        print(x)"
   ]
  },
  {
   "cell_type": "markdown",
   "metadata": {},
   "source": [
    "# Metabolite annotation"
   ]
  },
  {
   "cell_type": "markdown",
   "metadata": {},
   "source": [
    "JH's version printed the notes for all metabolites"
   ]
  },
  {
   "cell_type": "code",
   "execution_count": null,
   "metadata": {},
   "outputs": [],
   "source": [
    "for m in model.metabolites[:25]:\n",
    "    if m.notes:\n",
    "        print(m, m.notes)"
   ]
  },
  {
   "cell_type": "markdown",
   "metadata": {},
   "source": [
    "My model: Metabolite notes contain formula, and occassionally SEED Compound, UniPathway Compound, and KEGG Compound is included.<br>\n",
    "JH's model: Every metabolite has 'original_bigg_ids' information"
   ]
  },
  {
   "cell_type": "markdown",
   "metadata": {},
   "source": [
    "check original_bigg_ids for met and rxn"
   ]
  },
  {
   "cell_type": "code",
   "execution_count": null,
   "metadata": {},
   "outputs": [],
   "source": [
    "for m in model.metabolites[:25]:\n",
    "    if m.annotation:\n",
    "        print(m, m.annotation)"
   ]
  },
  {
   "cell_type": "markdown",
   "metadata": {},
   "source": [
    "My model doesn't return anything here <br>\n",
    "JH's model returns annotation for 6 out of all of the metabolites"
   ]
  },
  {
   "cell_type": "code",
   "execution_count": null,
   "metadata": {},
   "outputs": [],
   "source": [
    "set(sum([list(m.annotation.keys()) for m in model.metabolites],[]))"
   ]
  },
  {
   "cell_type": "markdown",
   "metadata": {},
   "source": [
    "This function gives the set of all the keys found in the notes dictionary of model metabolites <br>\n",
    "JH's output: <br> {'bigg.metabolite',\n",
    " 'biocyc',\n",
    " 'chebi',\n",
    " 'envipath',\n",
    " 'hmdb',\n",
    " 'inchi_key',\n",
    " 'kegg.compound',\n",
    " 'kegg.drug',\n",
    " 'metanetx.chemical',\n",
    " 'reactome.compound',\n",
    " 'sabiork',\n",
    " 'sbo',\n",
    " 'seed.compound'} <br>\n",
    " "
   ]
  },
  {
   "cell_type": "code",
   "execution_count": null,
   "metadata": {},
   "outputs": [],
   "source": [
    "bigg_universal.metabolites.get_by_id('glc__D_c').annotation"
   ]
  },
  {
   "cell_type": "markdown",
   "metadata": {},
   "source": [
    "Example of universal model annotation. <br>\n",
    "One problem is that there are multiple annotations for a single field"
   ]
  },
  {
   "cell_type": "code",
   "execution_count": null,
   "metadata": {},
   "outputs": [],
   "source": [
    "print(type(     bigg_universal.metabolites.get_by_id('glc__D_c').annotation))\n",
    "print(type(dict(bigg_universal.metabolites.get_by_id('glc__D_c').annotation)))"
   ]
  },
  {
   "cell_type": "markdown",
   "metadata": {},
   "source": [
    "this problem is solved if you cast the list of lists to a dict"
   ]
  },
  {
   "cell_type": "code",
   "execution_count": null,
   "metadata": {},
   "outputs": [],
   "source": [
    "set(sum([[x[0] for x in m.annotation] for m in bigg_universal.metabolites],[]))"
   ]
  },
  {
   "cell_type": "markdown",
   "metadata": {},
   "source": [
    "Get the set of all keys used in metabolite annotations from the bigg universal model"
   ]
  },
  {
   "cell_type": "code",
   "execution_count": null,
   "metadata": {},
   "outputs": [],
   "source": [
    "for m in model.metabolites:\n",
    "    if m.id in bigg_universal.metabolites:\n",
    "        #m.notes.update(dict(bigg_universal.metabolites.get_by_id(m.id).notes))\n",
    "        #m.annotation.update(dict(bigg_universal.metabolites.get_by_id(m.id).annotation))\n",
    "        m.annotation = dict(bigg_universal.metabolites.get_by_id(m.id).annotation)"
   ]
  },
  {
   "cell_type": "markdown",
   "metadata": {},
   "source": [
    "This is the proper way to annotate metabolites using the universal model so that MEMOTE will be happy"
   ]
  },
  {
   "cell_type": "code",
   "execution_count": null,
   "metadata": {},
   "outputs": [],
   "source": [
    "m_annotation = dict({'BioCyc': 'biocyc',\n",
    "                     'CHEBI': 'chebi',\n",
    "                     'Human Metabolome Database': 'hmdb',\n",
    "                     'InChI Key': 'inchikey',\n",
    "                     'KEGG Compound': 'kegg.compound',\n",
    "                     'KEGG Drug': 'kegg.drug',\n",
    "                     'KEGG Glycan': 'kegg.glycan',\n",
    "                     'LipidMaps': 'lipidmaps',\n",
    "                     'MetaNetX (MNX) Chemical': 'metanetx.chemical',\n",
    "                     'Reactome Compound': 'reactome',\n",
    "                     'SEED Compound': 'seed.compound'})"
   ]
  },
  {
   "cell_type": "markdown",
   "metadata": {},
   "source": [
    "We still need to use the proper key names as provided in this dictionary"
   ]
  },
  {
   "cell_type": "code",
   "execution_count": null,
   "metadata": {},
   "outputs": [],
   "source": [
    "for m in model.metabolites:\n",
    "    if m.annotation:\n",
    "        m.annotation = dict((m_annotation[k], v.rsplit('/',1)[-1]) for k, v in m.annotation.items())\n",
    "    m.annotation['bigg.metabolite'] = m.id"
   ]
  },
  {
   "cell_type": "markdown",
   "metadata": {},
   "source": [
    "Loop through metabolites: <br>\n",
    ">if the metabolite has an annotation: <br>\n",
    "        >>then set the annotation using the following:<br>\n",
    "        a dictionary that is populated by a list comprehension that loop over the current dictionary's items<br>\n",
    "        each time the key and value from the current dictionary are return as k,v <br>\n",
    "        the new dictionary's key is returned using the m_annotation dictionary <br>\n",
    "        the new dictionary's value is returned by spliting the url from the existing dictionary's value at all '/' characters<br>\n",
    "        and returning the last one\n"
   ]
  },
  {
   "cell_type": "code",
   "execution_count": null,
   "metadata": {},
   "outputs": [],
   "source": [
    "for m in model.metabolites:\n",
    "    m.annotation['sbo'] = 'SBO:0000247'"
   ]
  },
  {
   "cell_type": "markdown",
   "metadata": {},
   "source": [
    "All metabolites are given the [systems biology ontology id 247](https://www.ebi.ac.uk/sbo/main/SBO:0000247), indicating that they are simple chemicals"
   ]
  },
  {
   "cell_type": "code",
   "execution_count": null,
   "metadata": {},
   "outputs": [],
   "source": [
    "model.metabolites.get_by_id('glc__D_c').annotation"
   ]
  },
  {
   "cell_type": "markdown",
   "metadata": {},
   "source": [
    "check annotation dictionary for an arbitrary metabolite"
   ]
  },
  {
   "cell_type": "code",
   "execution_count": null,
   "metadata": {},
   "outputs": [],
   "source": [
    "model.metabolites.get_by_id('12dgr120_c').annotation"
   ]
  },
  {
   "cell_type": "code",
   "execution_count": null,
   "metadata": {},
   "outputs": [],
   "source": [
    "model.metabolites.get_by_id('12dgr120_c').name"
   ]
  },
  {
   "cell_type": "code",
   "execution_count": null,
   "metadata": {},
   "outputs": [],
   "source": []
  },
  {
   "cell_type": "code",
   "execution_count": null,
   "metadata": {},
   "outputs": [],
   "source": []
  },
  {
   "cell_type": "markdown",
   "metadata": {},
   "source": [
    "# Reaction annotation"
   ]
  },
  {
   "cell_type": "code",
   "execution_count": null,
   "metadata": {},
   "outputs": [],
   "source": [
    "for r in sorted(model.reactions[:100], key=lambda x: x.id):\n",
    "    if r.notes:\n",
    "        print(r, r.notes)"
   ]
  },
  {
   "cell_type": "markdown",
   "metadata": {},
   "source": [
    "My model has some kegg and some biopath reaction annotations\n",
    "JH's model has 'original bigg ids' reaction annotation"
   ]
  },
  {
   "cell_type": "code",
   "execution_count": null,
   "metadata": {},
   "outputs": [],
   "source": [
    "for r in sorted(model.reactions, key=lambda x: x.id):\n",
    "    if r.annotation:\n",
    "        print(r, r.annotation)"
   ]
  },
  {
   "cell_type": "markdown",
   "metadata": {},
   "source": [
    "Both mine and JH's models originally have no reaction annotations"
   ]
  },
  {
   "cell_type": "code",
   "execution_count": null,
   "metadata": {},
   "outputs": [],
   "source": [
    "for r in sorted(model.reactions, key=lambda x: x.id):\n",
    "    r.annotation = {}"
   ]
  },
  {
   "cell_type": "markdown",
   "metadata": {},
   "source": [
    "Ensure that all reactions have blank annotations"
   ]
  },
  {
   "cell_type": "code",
   "execution_count": null,
   "metadata": {},
   "outputs": [],
   "source": [
    "for r in model.reactions:\n",
    "    if r.boundary:\n",
    "        if r.id.startswith('DM_') or r.id.startswith('SRC_'):\n",
    "            r.annotation = {'SBO': 'SBO:0000628'}\n",
    "        elif r.id.startswith('EX_'):\n",
    "            r.annotation = {'SBO': 'SBO:0000627'}\n",
    "        elif r.id.startswith('SK_'):\n",
    "            r.annotation = {'SBO': 'SBO:0000632'}"
   ]
  },
  {
   "cell_type": "markdown",
   "metadata": {},
   "source": [
    "r.boundary is a boolean that returns true when a reaction is transport related<br>\n",
    "\n",
    "Systems biology ontology definitions:<br>\n",
    "SBO:0000628 : [demand reaction](http://www.ebi.ac.uk/sbo/main/SBO:0000628) <br>\n",
    "SBO:0000627 : [exchange reaction](http://www.ebi.ac.uk/sbo/main/SBO:0000627) <br>\n",
    "SBO:0000632 : [sink reaction](http://www.ebi.ac.uk/sbo/main/SBO:0000632) <br>\n"
   ]
  },
  {
   "cell_type": "code",
   "execution_count": null,
   "metadata": {},
   "outputs": [],
   "source": [
    "for r in model.reactions[:10]:\n",
    "    if 'C_e' in r.compartments:\n",
    "        print(r, r.compartments)"
   ]
  },
  {
   "cell_type": "markdown",
   "metadata": {},
   "source": [
    "r.compartments returns a set of compartments labeled <br>\n",
    "cytoplasm: 'C_c' <br>\n",
    "periplasm: 'C_p' <br>\n",
    "extracellular: 'C_e' <br>"
   ]
  },
  {
   "cell_type": "code",
   "execution_count": null,
   "metadata": {},
   "outputs": [],
   "source": [
    "for r in model.reactions[:100]:\n",
    "    if len(r.compartments) > 1 and 't' in r.id:\n",
    "        print(r)"
   ]
  },
  {
   "cell_type": "markdown",
   "metadata": {},
   "source": [
    "Not sure why the 't' in id portion is included\n",
    "Prints all reactions that take place between compartments"
   ]
  },
  {
   "cell_type": "code",
   "execution_count": null,
   "metadata": {},
   "outputs": [],
   "source": [
    "for r in sorted(model.reactions[:500], key=lambda x: x.id):\n",
    "    if (len(r.compartments) > 1 \n",
    "        and not 't' in r.id \n",
    "        and not 'd' in r.compartments \n",
    "        and not any(x in [m.id for m in r.metabolites] for x in ['focytc_m','q9_m','fadh2_m','dolmanp_r','pc_RT_r'])):\n",
    "        print(r)"
   ]
  },
  {
   "cell_type": "markdown",
   "metadata": {},
   "source": [
    "Prints reactions that take place in at least 2 compartments , not including any reaction in compartment d. <br>\n",
    "Also excludes reactions that contain these metabolites: 'focytc_m','q9_m','fadh2_m','dolmanp_r','pc_RT_r' <br>\n",
    "\n",
    "Not sure where that metabolite list comes from\n"
   ]
  },
  {
   "cell_type": "code",
   "execution_count": null,
   "metadata": {},
   "outputs": [],
   "source": [
    "for r in model.reactions:\n",
    "    if len(r.compartments) > 1 and 't' in r.id:\n",
    "        r.annotation['SBO'] = 'SBO:0000655'\n",
    "    if (len(r.compartments) > 1 and not 't' in r.id and not ('d' in r.compartments or\n",
    "        any(x in [m.id for m in r.metabolites] for x in ['focytc_m','q9_m','fadh2_m','dolmanp_r','pc_RT_r']))):\n",
    "        r.annotation['SBO'] = 'SBO:0000655'"
   ]
  },
  {
   "cell_type": "markdown",
   "metadata": {},
   "source": [
    "Systems biology ontology definitions:<br>\n",
    "SBO:0000655 : [transport reaction, definition: The movement of an entity/entities across a biological membrane mediated by a transporter protein.](http://www.ebi.ac.uk/sbo/main/SBO:0000655) <br>"
   ]
  },
  {
   "cell_type": "code",
   "execution_count": null,
   "metadata": {},
   "outputs": [],
   "source": [
    "for r in model.reactions:\n",
    "    if len(r.compartments) == 1 and not r.boundary:\n",
    "        r.annotation['SBO'] = 'SBO:0000176'\n",
    "    if (len(r.compartments) > 1 and not 't' in r.id and ('d' in r.compartments or\n",
    "        any(x in [m.id for m in r.metabolites] for x in ['focytc_m','q9_m','fadh2_m','dolmanp_r','pc_RT_r']))):\n",
    "        r.annotation['SBO'] = 'SBO:0000176'"
   ]
  },
  {
   "cell_type": "markdown",
   "metadata": {},
   "source": [
    "Systems biology ontology definitions:<br>\n",
    "SBO:0000176 : [biochemical reaction, definition: An event involving one or more chemical entities that modifies the electrochemical structure of at least one of the participants.](http://www.ebi.ac.uk/sbo/main/SBO:0000176) <br>"
   ]
  },
  {
   "cell_type": "code",
   "execution_count": null,
   "metadata": {},
   "outputs": [],
   "source": [
    "model.reactions.get_by_id('Growth').annotation['SBO'] = 'SBO:0000629'"
   ]
  },
  {
   "cell_type": "markdown",
   "metadata": {},
   "source": [
    "Systems biology ontology definitions:<br>\n",
    "SBO:0000629 : [biomass production](http://www.ebi.ac.uk/sbo/main/SBO:0000629) <br>"
   ]
  },
  {
   "cell_type": "code",
   "execution_count": null,
   "metadata": {},
   "outputs": [],
   "source": [
    "set(sum([list(r.annotation.keys()) for r in model.reactions],[]))"
   ]
  },
  {
   "cell_type": "markdown",
   "metadata": {},
   "source": [
    "JH and my model both only have 'SBO'"
   ]
  },
  {
   "cell_type": "code",
   "execution_count": null,
   "metadata": {},
   "outputs": [],
   "source": [
    "for r in model.reactions:\n",
    "    if r.id in bigg_universal.reactions:\n",
    "        #r.notes.update(dict(bigg_universal.reactions.get_by_id(r.id).notes))\n",
    "        r.annotation.update(dict(bigg_universal.reactions.get_by_id(r.id).annotation))"
   ]
  },
  {
   "cell_type": "code",
   "execution_count": null,
   "metadata": {},
   "outputs": [],
   "source": []
  },
  {
   "cell_type": "code",
   "execution_count": null,
   "metadata": {},
   "outputs": [],
   "source": []
  },
  {
   "cell_type": "code",
   "execution_count": null,
   "metadata": {},
   "outputs": [],
   "source": [
    "set(sum([list(r.annotation.keys()) for r in model.reactions],[]))"
   ]
  },
  {
   "cell_type": "markdown",
   "metadata": {},
   "source": [
    "JH also has: {'BioCyc',\n",
    " 'EC Number',\n",
    " 'KEGG Reaction',\n",
    " 'MetaNetX (MNX) Equation',\n",
    " 'RHEA',\n",
    " 'Reactome Reaction',\n",
    " 'SBO',\n",
    " 'SEED Reaction'}"
   ]
  },
  {
   "cell_type": "code",
   "execution_count": null,
   "metadata": {},
   "outputs": [],
   "source": [
    "model.reactions.get_by_id('PGI').annotation"
   ]
  },
  {
   "cell_type": "markdown",
   "metadata": {},
   "source": [
    "An arbitrarily chosen reaction's annotation"
   ]
  },
  {
   "cell_type": "code",
   "execution_count": null,
   "metadata": {},
   "outputs": [],
   "source": [
    "# Reformat to memote style\n",
    "r_annotation = dict({'BioCyc': 'biocyc',\n",
    "                     'EC Number': 'ec-code',\n",
    "                     'KEGG Reaction': 'kegg.reaction',\n",
    "                     'MetaNetX (MNX) Equation': 'metanetx.reaction',\n",
    "                     'RHEA': 'rhea',\n",
    "                     'Reactome Reaction': 'reactome',\n",
    "                     'SBO': 'sbo',\n",
    "                     'SEED Reaction': 'seed.reaction'})"
   ]
  },
  {
   "cell_type": "code",
   "execution_count": null,
   "metadata": {},
   "outputs": [],
   "source": []
  },
  {
   "cell_type": "code",
   "execution_count": null,
   "metadata": {},
   "outputs": [],
   "source": []
  },
  {
   "cell_type": "markdown",
   "metadata": {},
   "source": [
    "Proper dictionary keys to annotate a reaction according to MEMOTE"
   ]
  },
  {
   "cell_type": "code",
   "execution_count": null,
   "metadata": {},
   "outputs": [],
   "source": [
    "for r in model.reactions:\n",
    "    if r.annotation:\n",
    "        r.annotation = dict((r_annotation[k], v.rsplit('/',1)[-1]) for k, v in r.annotation.items())\n",
    "    r.annotation['bigg.reaction'] = r.id"
   ]
  },
  {
   "cell_type": "code",
   "execution_count": null,
   "metadata": {},
   "outputs": [],
   "source": []
  },
  {
   "cell_type": "code",
   "execution_count": null,
   "metadata": {},
   "outputs": [],
   "source": []
  },
  {
   "cell_type": "code",
   "execution_count": null,
   "metadata": {},
   "outputs": [],
   "source": [
    "model.reactions.get_by_id('PGI').annotation"
   ]
  },
  {
   "cell_type": "code",
   "execution_count": null,
   "metadata": {},
   "outputs": [],
   "source": [
    "set(r.subsystem for r in model.reactions)"
   ]
  },
  {
   "cell_type": "markdown",
   "metadata": {},
   "source": [
    "JH has long list of subsystems here: the ones on kegg: <br>\n",
    "{'',\n",
    " 'Alanine and Aspartate Metabolism',\n",
    " 'Alanine and aspartate metabolism',\n",
    " 'Aldehyde degradation',\n",
    " 'Alkaloid biosynthesis II',\n",
    " 'Alternate Carbon Metabolism',\n",
    " 'Amino sugar and nucleotide sugar metabolism',\n",
    " 'Aminosugar Metabolism',\n",
    " 'Anaplerotic Reactions',\n",
    " 'Arginine and Proline Metabolism',\n",
    " 'Arginine and proline metabolism',\n",
    " 'Ascorbate metabolism',\n",
    " 'B-Ketoadipate pathway',\n",
    " 'Bile Acid Biosynthesis',\n",
    " 'Biomass and maintenance functions',\n",
    " 'Biosynthesis of steroids',\n",
    " 'Biosynthesis of steroids: Terpenoid backbone synthesis',\n",
    " 'Biosynthesis of steroids: Ubiquinone/Terpenoid-quinone biosynthesis',\n",
    " 'Biosynthesis of unsaturated fatty acids',\n",
    " 'Biotin Metabolism',\n",
    " 'Butanoate Metabolism',\n",
    " 'Butanoate metabolism',\n",
    " 'Calvin cycle/Pentose phosphate pathway',\n",
    " 'Carbon fixation',\n",
    " 'Carbon fixation;Glutamate metabolism;Alanine and aspartate metabolism',\n",
    " 'Carnitine shuttle',\n",
    " 'Cell Envelope Biosynthesis',\n",
    " 'Cholesterol Metabolism',\n",
    " 'Citric Acid Cycle',\n",
    " 'Cofactor and Prosthetic Group Biosynthesis',\n",
    " 'Cofactor biosynthesis: Carnitine biosynthesis',\n",
    " 'Cofactor recycling',\n",
    " 'Cysteine Metabolism',\n",
    " 'Cysteine and methionine metabolism',\n",
    " 'Cysteine metabolism',\n",
    " 'Drug metabolism - other enzymes',\n",
    " 'Eicosanoid Metabolism',\n",
    " 'Extracellular exchange',\n",
    " 'Fatty Acid Metabolism',\n",
    " 'Fatty acid activation',\n",
    " 'Fatty acid elongation',\n",
    " 'Fatty acid elongation in mitochondria',\n",
    " 'Fatty acid metabolism',\n",
    " 'Fatty acid oxidation',\n",
    " 'Fatty acid oxidation, peroxisome',\n",
    " 'Fatty acid synthesis',\n",
    " 'Folate Metabolism',\n",
    " 'Folate biosynthesis',\n",
    " 'Fructose and Mannose Metabolism',\n",
    " 'Galactose metabolism',\n",
    " 'Glutamate Metabolism',\n",
    " 'Glutamate metabolism',\n",
    " 'Glutathione Metabolism',\n",
    " 'Glycerolipid metabolism',\n",
    " 'Glycerophospholipid Metabolism',\n",
    " 'Glycerophospholipid metabolism',\n",
    " 'Glycine and Serine Metabolism',\n",
    " 'Glycine, Serine and threonine metabolism',\n",
    " 'Glycine, Serine, and Threonine Metabolism',\n",
    " 'Glycine, serine and threonine metabolism',\n",
    " 'Glycine, serine, alanine, and threonine metabolism',\n",
    " 'Glycolysis',\n",
    " 'Glycolysis / Gluconeogenesis',\n",
    " 'Glycolysis/Gluconeogenesis',\n",
    " 'Glyoxylate Metabolism',\n",
    " 'Glyoxylate and Dicarboxylate Metabolism',\n",
    " 'Glyoxylate metabolism',\n",
    " 'High-mannose type N-glycan biosynthesis',\n",
    " 'Histidine Metabolism',\n",
    " 'Histidine metabolism',\n",
    " 'Homogentisate Pathway',\n",
    " 'Inorganic Ion Transport and Metabolism',\n",
    " 'Inositol Phosphate Metabolism',\n",
    " 'Inositol phosphate metabolism',\n",
    " 'Intracellular demand',\n",
    " 'Lipopolysaccharide Biosynthesis / Recycling',\n",
    " 'Lysine Metabolism',\n",
    " 'Lysine biosynthesis',\n",
    " 'Membrane Lipid Metabolism',\n",
    " 'Metabolite Repair',\n",
    " 'Methionine Metabolism',\n",
    " 'Methionine and cysteine metabolism',\n",
    " 'Methionine metabolism',\n",
    " 'Methylglyoxal Metabolism',\n",
    " 'Murein Recycling',\n",
    " 'N-Glycan Biosynthesis',\n",
    " 'N-Glycan Degradation',\n",
    " 'N-Glycan biosynthesis',\n",
    " 'NAD Metabolism',\n",
    " 'Nicotinate and nicotinamide metabolism',\n",
    " 'Nitrogen Metabolism',\n",
    " 'Nitrogen metabolism',\n",
    " 'Nucleotide Salvage Pathway',\n",
    " 'Nucleotide Sugar Metabolism',\n",
    " 'Nucleotide interconversion',\n",
    " 'Nucleotides',\n",
    " 'One carbon pool by folate',\n",
    " 'Oxidative Phosphorylation',\n",
    " 'Oxidative phosphorylation',\n",
    " 'Pantothenate and CoA biosynthesis',\n",
    " 'Pentose Phosphate Pathway',\n",
    " 'Pentose and Glucuronate Interconversions',\n",
    " 'Pentose phosphate pathway',\n",
    " 'Phenylalanine metabolism',\n",
    " 'Polyamine metabolism',\n",
    " 'Porphyrin and Chlorophyll Metabolism',\n",
    " 'Porphyrin and chlorophyll metabolism',\n",
    " 'Propanoate Metabolism',\n",
    " 'Propanoate metabolism',\n",
    " 'Purine Catabolism',\n",
    " 'Purine Metabolism',\n",
    " 'Purine and Pyrimidine Biosynthesis',\n",
    " 'Purine metabolism',\n",
    " 'Pyrimidine Catabolism',\n",
    " 'Pyrimidine metabolism',\n",
    " 'Pyruvate Metabolism',\n",
    " 'Pyruvate metabolism',\n",
    " 'ROS Detoxification',\n",
    " 'Riboflavin Metabolism',\n",
    " 'S_Alanine_and_Aspartate_Metabolism',\n",
    " 'S_Alternate_Carbon_Metabolism',\n",
    " 'S_Anaplerotic_reactions',\n",
    " 'S_Arabinose_Metabolism',\n",
    " 'S_Arginine_and_Proline_Metabolism',\n",
    " 'S_Asparagine_metabolism',\n",
    " 'S_Carbohydrates_and_related_molecules',\n",
    " 'S_Citric_Acid_Cycle',\n",
    " 'S_Complex_Alcohol_Metabolism',\n",
    " 'S_Cysteine_Metabolism',\n",
    " 'S_Fatty_Acid_Degradation',\n",
    " 'S_Fatty_Acid_Metabolism',\n",
    " 'S_Fatty_Acid__Biosynthesis',\n",
    " 'S_Folate_Metabolism',\n",
    " 'S_Fructose_and_Mannose_Metabolism',\n",
    " 'S_Galactose_metabolism',\n",
    " 'S_Glutamate_metabolism',\n",
    " 'S_Glutamine_Metabolism',\n",
    " 'S_Glycerolipid_Metabolism',\n",
    " 'S_Glycine_and_Serine_Metabolism',\n",
    " 'S_GlycolysisGluconeogenesis',\n",
    " 'S_Glycoprotein_Metabolism',\n",
    " 'S_Histidine_Metabolism',\n",
    " 'S_Methane_Metabolism',\n",
    " 'S_Methionine_Metabolism',\n",
    " 'S_NAD_Biosynthesis',\n",
    " 'S_Nitrogen_Metabolism',\n",
    " 'S_Nucleotide_Salvage_Pathway',\n",
    " 'S_Other',\n",
    " 'S_Other_Amino_Acid_Metabolism',\n",
    " 'S_Oxidative_Phosphorylation',\n",
    " 'S_Pantothenate_and_CoA_Biosynthesis',\n",
    " 'S_Pentose_Phosphate_Pathway',\n",
    " 'S_Phospholipid_Biosynthesis',\n",
    " 'S_Phospholipid_Metabolism',\n",
    " 'S_Porphyrin_and_Chlorophyll_Metabolism',\n",
    " 'S_Purine_and_Pyrimidine_Biosynthesis',\n",
    " 'S_Pyridoxine_Metabolism',\n",
    " 'S_Pyruvate_Metabolism',\n",
    " 'S_Quinone_Biosynthesis',\n",
    " 'S_Riboflavin_Metabolism',\n",
    " 'S_Sphingolipid_Metabolism',\n",
    " 'S_Starch_and_Sucrose_Metabolism',\n",
    " 'S_Sterol_Metabolism',\n",
    " 'S_Thiamine_Metabolism',\n",
    " 'S_Threonine_and_Lysine_Metabolism',\n",
    " 'S_Transport__Endoplasmic_Reticular',\n",
    " 'S_Transport__Extracellular',\n",
    " 'S_Transport__Golgi_Apparatus',\n",
    " 'S_Transport__Mitochondrial',\n",
    " 'S_Transport__Nuclear',\n",
    " 'S_Transport__Peroxisomal',\n",
    " 'S_Transport__Vacuolar',\n",
    " 'S_Tyrosine__Tryptophan__and_Phenylalanine_Metabolism',\n",
    " 'S_Valine__Leucine__and_Isoleucine_Metabolism',\n",
    " 'S_Xylose_Metabolism',\n",
    " 'S_tRNA_charging',\n",
    " 'Selenoamino acid metabolism',\n",
    " 'Starch and Sucrose Metabolism',\n",
    " 'Starch and sucrose metabolism',\n",
    " 'Steroid Metabolism',\n",
    " 'Sulfur Metabolism',\n",
    " 'Sulfur metabolism',\n",
    " 'TCA cycle;Carbon fixation;CO2 fixation',\n",
    " 'Taurine and hypotaurine metabolism',\n",
    " 'Terpenoid backbone biosynthesis',\n",
    " 'Tetrahydrobiopterin',\n",
    " 'Threonine and Lysine Metabolism',\n",
    " 'Transport',\n",
    " 'Transport, Endoplasmic Reticular',\n",
    " 'Transport, Extracellular',\n",
    " 'Transport, Golgi Apparatus',\n",
    " 'Transport, Inner Membrane',\n",
    " 'Transport, Mitochondrial',\n",
    " 'Transport, Nuclear',\n",
    " 'Transport, Outer Membrane Porin',\n",
    " 'Transport, Peroxisomal',\n",
    " 'Transport, endoplasmic reticular',\n",
    " 'Transport, extracellular',\n",
    " 'Transport, glyoxysome',\n",
    " 'Transport, mitochondria',\n",
    " 'Transport, mitochondrial',\n",
    " 'Transport, nuclear',\n",
    " 'Transport, nucleus',\n",
    " 'Transport, peroxisomal',\n",
    " 'Tryptophan metabolism',\n",
    " 'Tyrosine metabolism',\n",
    " 'Tyrosine, Tryptophan, and Phenylalanine Metabolism',\n",
    " 'Ubiquinone synthesis',\n",
    " 'Unassigned',\n",
    " 'Urea cycle/amino group metabolism',\n",
    " 'Valine, Leucine, and Isoleucine Metabolism',\n",
    " 'Valine, leucine and isoleucine degradation',\n",
    " 'Valine, leucine, and isoleucine metabolism',\n",
    " 'Vitamin B2 metabolism',\n",
    " 'Vitamin B6 Metabolism',\n",
    " 'Vitamin B6 metabolism',\n",
    " 'beta-Alanine metabolism',\n",
    " 'beta-Alanine metabolism;Pyrimidine metabolism',\n",
    " 'tRNA Charging'}"
   ]
  },
  {
   "cell_type": "code",
   "execution_count": null,
   "metadata": {},
   "outputs": [],
   "source": [
    "for r in model.reactions:\n",
    "    if r.subsystem.startswith('S_'):\n",
    "        r.subsystem = r.subsystem.replace('S_','').replace('__',', ').replace('_',' ')\n",
    "    r.subsystem = r.subsystem.replace('Glycolysis / Gluconeogenesis','Glycolysis/Gluconeogenesis')\n",
    "    r.subsystem = r.subsystem.replace('GlycolysisGluconeogenesis','Glycolysis/Gluconeogenesis')\n",
    "    r.subsystem = r.subsystem.replace('metabolism','Metabolism')\n",
    "    r.subsystem = r.subsystem.replace('aspartate','Aspartate')\n",
    "    r.subsystem = r.subsystem.replace('reactions','Reactions')\n",
    "    r.subsystem = r.subsystem.replace('proline','Proline')\n",
    "    r.subsystem = r.subsystem.replace('serine','Serine')\n",
    "    r.subsystem = r.subsystem.replace('Serine and threonine','Serine, and Threonine')\n",
    "    r.subsystem = r.subsystem.replace(', alanine',', Alanine')\n",
    "    r.subsystem = r.subsystem.replace('phosphate','Phosphate')\n",
    "    r.subsystem = r.subsystem.replace('pathway','Pathway')\n",
    "    r.subsystem = r.subsystem.replace('biosynthesis','Biosynthesis')\n",
    "    r.subsystem = r.subsystem.replace('chlorophyll','Chlorophyll')\n",
    "    r.subsystem = r.subsystem.replace('sucrose','Sucrose')\n",
    "    r.subsystem = r.subsystem.replace('endoplasmic reticular','Endoplasmic Reticular')\n",
    "    r.subsystem = r.subsystem.replace('extracellular','Extracellular')\n",
    "    r.subsystem = r.subsystem.replace('Transport, mitochondria','Transport, Mitochondrial')\n",
    "    r.subsystem = r.subsystem.replace('Transport, mitochondrial','Transport, Mitochondrial')\n",
    "    r.subsystem = r.subsystem.replace('peroxisomal','Peroxisomal')\n",
    "    r.subsystem = r.subsystem.replace('leucine and isoleucine','Leucine, and Isoleucine')\n",
    "    r.subsystem = r.subsystem.replace('leucine, and isoleucine','Leucine, and Isoleucine')\n",
    "    r.subsystem = r.subsystem.replace('charging','Charging')\n",
    "    r.subsystem = r.subsystem.replace('phosphorylation','Phosphorylation')\n",
    "    r.subsystem = r.subsystem.replace('degradation','Degradation')"
   ]
  },
  {
   "cell_type": "markdown",
   "metadata": {},
   "source": [
    "acceptable formatting for subsystems"
   ]
  },
  {
   "cell_type": "code",
   "execution_count": null,
   "metadata": {},
   "outputs": [],
   "source": [
    "temp = [r.subsystem for r in model.reactions]\n",
    "for k in sorted(set(temp)):\n",
    "    print(k, temp.count(k))"
   ]
  },
  {
   "cell_type": "markdown",
   "metadata": {},
   "source": [
    "Prints the name of each subsystem in the model and the number of times it is used"
   ]
  },
  {
   "cell_type": "code",
   "execution_count": null,
   "metadata": {},
   "outputs": [],
   "source": [
    "for r in sorted(model.reactions[:5], key=lambda x: x.id):\n",
    "    if not r.subsystem:\n",
    "        print(r)\n",
    "        for m in r.metabolites:\n",
    "            if len(m.reactions) < 7:\n",
    "                print([(r2.id, r2.subsystem) for r2 in m.reactions if r2 is not r])"
   ]
  },
  {
   "cell_type": "markdown",
   "metadata": {},
   "source": [
    "If a reaction does not have a subsystem, then go through metabolites. <br>\n",
    "If the metabolite is involved in less than 7 reactions, then print the reaction id and subsystem for reactions that are not the one in question"
   ]
  },
  {
   "cell_type": "code",
   "execution_count": null,
   "metadata": {},
   "outputs": [],
   "source": [
    "model.reactions.get_by_id('34DHPHAMT').subsystem = 'Tyrosine Metabolism'\n",
    "model.reactions.get_by_id('3DSPHRer').subsystem = 'Sphingolipid Metabolism'\n",
    "model.reactions.get_by_id('42A12BOOX').subsystem = 'Tyrosine Metabolism'\n",
    "model.reactions.get_by_id('ABUTD').subsystem = 'Arginine and Proline Metabolism'\n",
    "model.reactions.get_by_id('ACACT4m').subsystem = 'Fatty acid elongation in mitochondria'\n",
    "model.reactions.get_by_id('ACACT6m').subsystem = 'Fatty acid elongation in mitochondria'\n",
    "model.reactions.get_by_id('ACACT7m').subsystem = 'Fatty acid elongation in mitochondria'\n",
    "model.reactions.get_by_id('ACOAH').subsystem = 'Pyruvate metabolism'\n",
    "model.reactions.get_by_id('ACONTam').subsystem = 'Citric Acid Cycle'\n",
    "model.reactions.get_by_id('ACONTbm').subsystem = 'Citric Acid Cycle'\n",
    "model.reactions.get_by_id('ALDD20x').subsystem = 'Tyrosine, Tryptophan, and Phenylalanine Metabolism'\n",
    "model.reactions.get_by_id('AMAOTrm').subsystem = 'Pantothenate and CoA Biosynthesis'\n",
    "model.reactions.get_by_id('AMETt2').subsystem = 'Transport, Extracellular'\n",
    "model.reactions.get_by_id('ASP1DC').subsystem = 'beta-Alanine Metabolism'\n",
    "model.reactions.get_by_id('LEUTRSm').subsystem = 'Valine, Leucine, and Isoleucine Metabolism'\n",
    "model.reactions.get_by_id('PYDXO_1').subsystem = 'Vitamin B6 Metabolism'"
   ]
  },
  {
   "cell_type": "markdown",
   "metadata": {},
   "source": [
    "manually add subsystems to reactions"
   ]
  },
  {
   "cell_type": "markdown",
   "metadata": {},
   "source": [
    "# Gene Annotation"
   ]
  },
  {
   "cell_type": "code",
   "execution_count": null,
   "metadata": {},
   "outputs": [],
   "source": [
    "for g in sorted(model.genes, key=lambda x: x.id):\n",
    "    if g.annotation:\n",
    "        print(g)"
   ]
  },
  {
   "cell_type": "code",
   "execution_count": null,
   "metadata": {},
   "outputs": [],
   "source": [
    "for g in sorted(model.genes[:10], key=lambda x: x.id):\n",
    "    if g.name:\n",
    "        print(g, g.name, g.reactions)"
   ]
  },
  {
   "cell_type": "markdown",
   "metadata": {},
   "source": [
    "print gene, gene name, and reactions associated with gene"
   ]
  },
  {
   "cell_type": "code",
   "execution_count": null,
   "metadata": {},
   "outputs": [],
   "source": [
    "Uniprot = pd.read_csv('/Users/kimj972/Documents/Research/Rhodosporidium_toruloides/Metabolic_model/IFO0880_4_Uniprot.txt',\n",
    "                      sep='\\t', index_col=0)\n",
    "Uniprot.index = Uniprot.index.map(str)\n",
    "Uniprot"
   ]
  },
  {
   "cell_type": "markdown",
   "metadata": {},
   "source": [
    "output should look something like this: <br>\n",
    "    \tUniProt\n",
    "RTO4_ID\t<br>\n",
    "10632\tB3TQJ2<br>\n",
    "10637\tB3TQJ2<br>\n",
    "10640\tB3TQJ2<br>\n",
    "15931\tA0A2T0A585<br>\n",
    "15937\tA0A2T0A585<br>"
   ]
  },
  {
   "cell_type": "markdown",
   "metadata": {},
   "source": [
    "uniprot is a dataframe with index that comes from mapping the original index through the str() function"
   ]
  },
  {
   "cell_type": "code",
   "execution_count": null,
   "metadata": {},
   "outputs": [],
   "source": [
    "for g in model.genes:\n",
    "    if g.id not in Uniprot.index:\n",
    "        print(g)"
   ]
  },
  {
   "cell_type": "markdown",
   "metadata": {},
   "source": [
    "JH has about 12 genes that are not in uniprot"
   ]
  },
  {
   "cell_type": "code",
   "execution_count": null,
   "metadata": {},
   "outputs": [],
   "source": [
    "for g in model.genes:\n",
    "    if g.id in Uniprot.index:\n",
    "        g.annotation['uniprot'] = Uniprot.loc[g.id,'UniProt']\n",
    "        g.annotation['jgi'] = 'Rhoto_IFO0880_4_'+g.id\n",
    "        g.annotation['ncbiprotein'] = 'AAT19DRAFT_'+g.id\n",
    "        g.name = 'jgi|Rhoto_IFO0880_4|'+g.id     "
   ]
  },
  {
   "cell_type": "markdown",
   "metadata": {},
   "source": [
    "if the gene is in uniprot, then update the gene annotation and name with the uniprot id"
   ]
  },
  {
   "cell_type": "code",
   "execution_count": null,
   "metadata": {},
   "outputs": [],
   "source": [
    "for g in model.genes:\n",
    "    g.annotation['sbo'] = 'SBO:0000243'"
   ]
  },
  {
   "cell_type": "markdown",
   "metadata": {},
   "source": [
    "Systems biology ontology definitions:<br>\n",
    "SBO:0000243 : [gene](http://www.ebi.ac.uk/sbo/main/SBO:0000243) <br>"
   ]
  },
  {
   "cell_type": "code",
   "execution_count": null,
   "metadata": {},
   "outputs": [],
   "source": [
    "for x in sorted(model.genes, key=lambda x: x.id):\n",
    "    if not x.reactions:\n",
    "        print(x)\n",
    "print()\n",
    "for x in sorted(model.metabolites, key=lambda x: x.id):\n",
    "    if not x.reactions:\n",
    "        print(x)"
   ]
  },
  {
   "cell_type": "code",
   "execution_count": null,
   "metadata": {},
   "outputs": [],
   "source": [
    "cobra.manipulation.remove_genes(model, [x for x in model.genes if not x.reactions])\n",
    "model.remove_metabolites([x for x in model.metabolites if not x.reactions])"
   ]
  },
  {
   "cell_type": "markdown",
   "metadata": {},
   "source": [
    "remove genes and metabolites that are not in reactions"
   ]
  },
  {
   "cell_type": "code",
   "execution_count": null,
   "metadata": {},
   "outputs": [],
   "source": [
    "for r in sorted(model.reactions, key=lambda x: x.id):\n",
    "    if not r.boundary and sum(abs(x) for x in r.check_mass_balance().values()) > 1e-12:\n",
    "        print(r, r.gene_reaction_rule, r.check_mass_balance())"
   ]
  },
  {
   "cell_type": "markdown",
   "metadata": {},
   "source": [
    "print reaction, gpr, and check mass balance if a reaction is not a boundry and the mass balance value is greater than 1e-12"
   ]
  },
  {
   "cell_type": "code",
   "execution_count": null,
   "metadata": {},
   "outputs": [],
   "source": [
    "print(len(model.genes))\n",
    "print(len(model.reactions))\n",
    "print(len(model.metabolites))\n",
    "print(len(set([m.id.rsplit('_',1)[0] for m in model.metabolites])))\n",
    "print(len(model.compartments))\n",
    "model"
   ]
  },
  {
   "cell_type": "code",
   "execution_count": null,
   "metadata": {},
   "outputs": [],
   "source": [
    "model.id = 'Rt_IFO0880'\n",
    "model.name = 'Rt_IFO0880'\n",
    "model.description = 'R. toruloides IFO0880'"
   ]
  },
  {
   "cell_type": "markdown",
   "metadata": {},
   "source": [
    "update model meta info"
   ]
  },
  {
   "cell_type": "code",
   "execution_count": null,
   "metadata": {},
   "outputs": [],
   "source": [
    "model"
   ]
  },
  {
   "cell_type": "code",
   "execution_count": null,
   "metadata": {},
   "outputs": [],
   "source": [
    "cobra.io.save_json_model(model, \"/Users/kimj972/Documents/Research/Rhodosporidium_toruloides/Metabolic_model/Rt_IFO0880.json\")"
   ]
  },
  {
   "cell_type": "code",
   "execution_count": null,
   "metadata": {},
   "outputs": [],
   "source": [
    "cobra.io.write_sbml_model(model, \"/Users/kimj972/Documents/Research/Rhodosporidium_toruloides/Metabolic_model/Rt_IFO0880.xml\")"
   ]
  },
  {
   "cell_type": "code",
   "execution_count": null,
   "metadata": {},
   "outputs": [],
   "source": [
    "cobra.io.save_matlab_model(model, \"/Users/kimj972/Documents/Research/Rhodosporidium_toruloides/Metabolic_model/Rt_IFO0880.mat\")"
   ]
  },
  {
   "cell_type": "markdown",
   "metadata": {},
   "source": [
    "Save model as json, sbml and matlab"
   ]
  },
  {
   "cell_type": "code",
   "execution_count": null,
   "metadata": {},
   "outputs": [],
   "source": [
    "%%bash\n",
    "source activate python3_cobrapy\n",
    "cd /Users/kimj972/Documents/Research/Rhodosporidium_toruloides/Metabolic_model\n",
    "memote report snapshot --solver cplex Rt_IFO0880.xml\n",
    "mv index.html Rt_IFO0880.html"
   ]
  },
  {
   "cell_type": "markdown",
   "metadata": {},
   "source": [
    "open bash terminal <br>\n",
    "activate virtual environment <br>\n",
    "change directory <br>\n",
    "run memote using cplex on annotated model <br>\n",
    "change name of output to more appropriate name\n"
   ]
  },
  {
   "cell_type": "code",
   "execution_count": null,
   "metadata": {},
   "outputs": [],
   "source": []
  },
  {
   "cell_type": "code",
   "execution_count": null,
   "metadata": {},
   "outputs": [],
   "source": []
  }
 ],
 "metadata": {
  "kernelspec": {
   "display_name": "biodesign_3.7",
   "language": "python",
   "name": "biod_3.7"
  },
  "language_info": {
   "codemirror_mode": {
    "name": "ipython",
    "version": 3
   },
   "file_extension": ".py",
   "mimetype": "text/x-python",
   "name": "python",
   "nbconvert_exporter": "python",
   "pygments_lexer": "ipython3",
   "version": "3.7.4"
  }
 },
 "nbformat": 4,
 "nbformat_minor": 4
}

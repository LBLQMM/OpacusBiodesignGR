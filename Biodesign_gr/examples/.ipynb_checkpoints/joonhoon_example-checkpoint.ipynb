{
 "cells": [
  {
   "cell_type": "code",
   "execution_count": 4,
   "metadata": {},
   "outputs": [],
   "source": [
    "%matplotlib inline\n",
    "from matplotlib import pyplot as plt\n",
    "import numpy as np\n",
    "import pandas as pd\n",
    "import json\n",
    "import urllib\n",
    "import cobra"
   ]
  },
  {
   "cell_type": "code",
   "execution_count": null,
   "metadata": {},
   "outputs": [],
   "source": [
    "#bigg_universal = cobra.io.load_json_model(urllib.request.urlopen('http://bigg.ucsd.edu/static/namespace/universal_model.json'))\n",
    "#cobra.io.save_json_model(bigg_universal, \"/Users/kimj972/Documents/Research/Rhodosporidium_toruloides/Metabolic_model/BiGG_universal.json\")"
   ]
  },
  {
   "cell_type": "code",
   "execution_count": 6,
   "metadata": {},
   "outputs": [],
   "source": [
    "# bigg_universal = cobra.io.load_json_model(\"/Users/kimj972/Documents/Research/Rhodosporidium_toruloides/Metabolic_model/BiGG_universal.json\")\n",
    "bigg_universal = cobra.io.load_json_model(\"GSMs/universal_model.json\")"
   ]
  },
  {
   "cell_type": "code",
   "execution_count": 7,
   "metadata": {},
   "outputs": [],
   "source": [
    "# model = cobra.io.load_json_model(\"/Users/kimj972/Documents/Research/Rhodosporidium_toruloides/Metabolic_model/IFO0880_GPR_2e.json\")\n",
    "model = cobra.io.read_sbml_model(\"carveme/Ropacus_carveme_raw.xml\")"
   ]
  },
  {
   "cell_type": "markdown",
   "metadata": {},
   "source": [
    "Joonhoon's version had no output<br>\n",
    "sorted function seems unneccesary\n",
    "\n",
    "First check that all genes have at least one reaction.<br>\n",
    "Then check that all metabolites have at least one reaction.<br>\n",
    "Orphan gene/metabolite check"
   ]
  },
  {
   "cell_type": "code",
   "execution_count": 10,
   "metadata": {},
   "outputs": [
    {
     "name": "stdout",
     "output_type": "stream",
     "text": [
      "1578\n",
      "WP_187300246_1\n",
      "frozenset({<Reaction GLYALDt at 0x7f29a9083a50>, <Reaction 12PPDt at 0x7f29a716c7d0>, <Reaction 12PPDStpp at 0x7f29a716c890>, <Reaction GLYCt at 0x7f29a91200d0>, <Reaction UREAt at 0x7f29ab23b9d0>})\n"
     ]
    }
   ],
   "source": [
    "print(len(model.genes))\n",
    "print(model.genes[0])\n",
    "print(model.genes[0].reactions)"
   ]
  },
  {
   "cell_type": "code",
   "execution_count": 8,
   "metadata": {},
   "outputs": [
    {
     "name": "stdout",
     "output_type": "stream",
     "text": [
      "\n"
     ]
    }
   ],
   "source": [
    "for x in sorted(model.genes, key=lambda x: x.id):\n",
    "    if not x.reactions:\n",
    "        print(x)\n",
    "print()\n",
    "for x in sorted(model.metabolites, key=lambda x: x.id):\n",
    "    if not x.reactions:\n",
    "        print(x)"
   ]
  },
  {
   "cell_type": "markdown",
   "metadata": {},
   "source": [
    "# Metabolite annotation"
   ]
  },
  {
   "cell_type": "markdown",
   "metadata": {},
   "source": [
    "JH's version printed the notes for all metabolites"
   ]
  },
  {
   "cell_type": "code",
   "execution_count": 12,
   "metadata": {},
   "outputs": [
    {
     "name": "stdout",
     "output_type": "stream",
     "text": [
      "10fthf_c {'FORMULA': 'C20H21N7O7', 'SEED Compound': 'cpd00201', 'UniPathway Compound': 'UPC00234', 'KEGG Compound': 'C00234'}\n",
      "adp_c {'FORMULA': 'C10H12N5O10P2', 'SEED Compound': 'cpd00008', 'UniPathway Compound': 'UPC00008'}\n",
      "atp_c {'FORMULA': 'C10H12N5O13P3', 'SEED Compound': 'cpd00002', 'UniPathway Compound': 'UPC00002'}\n",
      "glu__L_c {'FORMULA': 'C5H8NO4', 'SEED Compound': 'cpd00023', 'UniPathway Compound': 'UPC00025'}\n",
      "pi_c {'SEED Compound': 'cpd00009', 'UniPathway Compound': 'UPC00009'}\n",
      "12dgr120_c {'FORMULA': 'C27H52O5'}\n",
      "12dgr120_p {'FORMULA': 'C27H52O5'}\n",
      "12dgr140_c {'FORMULA': 'C31H60O5'}\n",
      "12dgr140_p {'FORMULA': 'C31H60O5'}\n",
      "12dgr141_c {'FORMULA': 'C31H56O5'}\n",
      "12dgr141_p {'FORMULA': 'C31H56O5'}\n",
      "12dgr160_c {'FORMULA': 'C35H68O5', 'SEED Compound': 'cpd15309'}\n",
      "12dgr161_c {'FORMULA': 'C35H64O5'}\n",
      "12dgr161_p {'FORMULA': 'C35H64O5'}\n",
      "12dgr180_c {'FORMULA': 'C39H76O5'}\n",
      "12dgr180_p {'FORMULA': 'C39H76O5'}\n",
      "12dgr181_c {'FORMULA': 'C39H72O5'}\n",
      "12dgr181_p {'FORMULA': 'C39H72O5'}\n",
      "12ppd__R_c {'FORMULA': 'C3H8O2', 'KEGG Compound': 'C02912', 'SEED Compound': 'cpd01861'}\n",
      "h2o_c {'FORMULA': 'H2O'}\n",
      "ppal_c {'FORMULA': 'C3H6O', 'SEED Compound': 'cpd00371', 'KEGG Compound': 'C00479'}\n",
      "12ppd__S_e {'FORMULA': 'C3H8O2', 'KEGG Compound': 'C02917'}\n",
      "12ppd__S_p {'FORMULA': 'C3H8O2', 'KEGG Compound': 'C02917'}\n",
      "12ppd__S_c {'FORMULA': 'C3H8O2', 'KEGG Compound': 'C02917'}\n",
      "glc__D_c {'FORMULA': 'C6H12O6', 'UniPathway Compound': 'UPC00031'}\n"
     ]
    }
   ],
   "source": [
    "for m in model.metabolites[:25]:\n",
    "    if m.notes:\n",
    "        print(m, m.notes)"
   ]
  },
  {
   "cell_type": "markdown",
   "metadata": {},
   "source": [
    "My model: Metabolite notes contain formula, and occassionally SEED Compound, UniPathway Compound, and KEGG Compound is included.<br>\n",
    "JH's model: Every metabolite has 'original_bigg_ids' information"
   ]
  },
  {
   "cell_type": "markdown",
   "metadata": {},
   "source": [
    "check original_bigg_ids for met and rxn"
   ]
  },
  {
   "cell_type": "code",
   "execution_count": 13,
   "metadata": {},
   "outputs": [],
   "source": [
    "for m in model.metabolites[:25]:\n",
    "    if m.annotation:\n",
    "        print(m, m.annotation)"
   ]
  },
  {
   "cell_type": "markdown",
   "metadata": {},
   "source": [
    "My model doesn't return anything here <br>\n",
    "JH's model returns annotation for 6 out of all of the metabolites"
   ]
  },
  {
   "cell_type": "code",
   "execution_count": 14,
   "metadata": {},
   "outputs": [
    {
     "data": {
      "text/plain": [
       "set()"
      ]
     },
     "execution_count": 14,
     "metadata": {},
     "output_type": "execute_result"
    }
   ],
   "source": [
    "set(sum([list(m.annotation.keys()) for m in model.metabolites],[]))"
   ]
  },
  {
   "cell_type": "markdown",
   "metadata": {},
   "source": [
    "This function gives the set of all the keys found in the notes dictionary of model metabolites <br>\n",
    "JH's output: <br> {'bigg.metabolite',\n",
    " 'biocyc',\n",
    " 'chebi',\n",
    " 'envipath',\n",
    " 'hmdb',\n",
    " 'inchi_key',\n",
    " 'kegg.compound',\n",
    " 'kegg.drug',\n",
    " 'metanetx.chemical',\n",
    " 'reactome.compound',\n",
    " 'sabiork',\n",
    " 'sbo',\n",
    " 'seed.compound'} <br>\n",
    " "
   ]
  },
  {
   "cell_type": "code",
   "execution_count": 15,
   "metadata": {},
   "outputs": [
    {
     "data": {
      "text/plain": [
       "[['KEGG Compound', 'http://identifiers.org/kegg.compound/C00031'],\n",
       " ['CHEBI', 'http://identifiers.org/chebi/CHEBI:12965'],\n",
       " ['CHEBI', 'http://identifiers.org/chebi/CHEBI:17634'],\n",
       " ['CHEBI', 'http://identifiers.org/chebi/CHEBI:20999'],\n",
       " ['CHEBI', 'http://identifiers.org/chebi/CHEBI:4167'],\n",
       " ['KEGG Drug', 'http://identifiers.org/kegg.drug/D00009'],\n",
       " ['Human Metabolome Database', 'http://identifiers.org/hmdb/HMDB00122'],\n",
       " ['Human Metabolome Database', 'http://identifiers.org/hmdb/HMDB06564'],\n",
       " ['BioCyc', 'http://identifiers.org/biocyc/META:Glucopyranose'],\n",
       " ['MetaNetX (MNX) Chemical',\n",
       "  'http://identifiers.org/metanetx.chemical/MNXM41'],\n",
       " ['InChI Key', 'https://identifiers.org/inchikey/WQZGKKKJIJFFOK-GASJEMHNSA-N'],\n",
       " ['SEED Compound', 'http://identifiers.org/seed.compound/cpd00027'],\n",
       " ['SEED Compound', 'http://identifiers.org/seed.compound/cpd26821']]"
      ]
     },
     "execution_count": 15,
     "metadata": {},
     "output_type": "execute_result"
    }
   ],
   "source": [
    "bigg_universal.metabolites.get_by_id('glc__D_c').annotation"
   ]
  },
  {
   "cell_type": "markdown",
   "metadata": {},
   "source": [
    "Example of universal model annotation. <br>\n",
    "One problem is that there are multiple annotations for a single field"
   ]
  },
  {
   "cell_type": "code",
   "execution_count": 16,
   "metadata": {},
   "outputs": [
    {
     "data": {
      "text/plain": [
       "{'KEGG Compound': 'http://identifiers.org/kegg.compound/C00031',\n",
       " 'CHEBI': 'http://identifiers.org/chebi/CHEBI:4167',\n",
       " 'KEGG Drug': 'http://identifiers.org/kegg.drug/D00009',\n",
       " 'Human Metabolome Database': 'http://identifiers.org/hmdb/HMDB06564',\n",
       " 'BioCyc': 'http://identifiers.org/biocyc/META:Glucopyranose',\n",
       " 'MetaNetX (MNX) Chemical': 'http://identifiers.org/metanetx.chemical/MNXM41',\n",
       " 'InChI Key': 'https://identifiers.org/inchikey/WQZGKKKJIJFFOK-GASJEMHNSA-N',\n",
       " 'SEED Compound': 'http://identifiers.org/seed.compound/cpd26821'}"
      ]
     },
     "execution_count": 16,
     "metadata": {},
     "output_type": "execute_result"
    }
   ],
   "source": [
    "# How to deal with multiple annotations for the same field?\n",
    "dict(bigg_universal.metabolites.get_by_id('glc__D_c').annotation)"
   ]
  },
  {
   "cell_type": "code",
   "execution_count": 18,
   "metadata": {},
   "outputs": [
    {
     "name": "stdout",
     "output_type": "stream",
     "text": [
      "<class 'list'>\n",
      "<class 'dict'>\n"
     ]
    }
   ],
   "source": [
    "print(type(     bigg_universal.metabolites.get_by_id('glc__D_c').annotation))\n",
    "print(type(dict(bigg_universal.metabolites.get_by_id('glc__D_c').annotation)))"
   ]
  },
  {
   "cell_type": "markdown",
   "metadata": {},
   "source": [
    "this problem is solved if you cast the list of lists to a dict"
   ]
  },
  {
   "cell_type": "code",
   "execution_count": 19,
   "metadata": {},
   "outputs": [
    {
     "data": {
      "text/plain": [
       "{'BioCyc',\n",
       " 'CHEBI',\n",
       " 'Human Metabolome Database',\n",
       " 'InChI Key',\n",
       " 'KEGG Compound',\n",
       " 'KEGG Drug',\n",
       " 'KEGG Glycan',\n",
       " 'LipidMaps',\n",
       " 'MetaNetX (MNX) Chemical',\n",
       " 'Reactome Compound',\n",
       " 'SEED Compound'}"
      ]
     },
     "execution_count": 19,
     "metadata": {},
     "output_type": "execute_result"
    }
   ],
   "source": [
    "set(sum([[x[0] for x in m.annotation] for m in bigg_universal.metabolites],[]))"
   ]
  },
  {
   "cell_type": "markdown",
   "metadata": {},
   "source": [
    "Get the set of all keys used in metabolite annotations from the bigg universal model"
   ]
  },
  {
   "cell_type": "code",
   "execution_count": 20,
   "metadata": {},
   "outputs": [],
   "source": [
    "for m in model.metabolites:\n",
    "    if m.id in bigg_universal.metabolites:\n",
    "        #m.notes.update(dict(bigg_universal.metabolites.get_by_id(m.id).notes))\n",
    "        #m.annotation.update(dict(bigg_universal.metabolites.get_by_id(m.id).annotation))\n",
    "        m.annotation = dict(bigg_universal.metabolites.get_by_id(m.id).annotation)"
   ]
  },
  {
   "cell_type": "markdown",
   "metadata": {},
   "source": [
    "This is the proper way to annotate metabolites using the universal model so that MEMOTE will be happy"
   ]
  },
  {
   "cell_type": "code",
   "execution_count": 22,
   "metadata": {},
   "outputs": [],
   "source": [
    "m_annotation = dict({'BioCyc': 'biocyc',\n",
    "                     'CHEBI': 'chebi',\n",
    "                     'Human Metabolome Database': 'hmdb',\n",
    "                     'InChI Key': 'inchikey',\n",
    "                     'KEGG Compound': 'kegg.compound',\n",
    "                     'KEGG Drug': 'kegg.drug',\n",
    "                     'KEGG Glycan': 'kegg.glycan',\n",
    "                     'LipidMaps': 'lipidmaps',\n",
    "                     'MetaNetX (MNX) Chemical': 'metanetx.chemical',\n",
    "                     'Reactome Compound': 'reactome',\n",
    "                     'SEED Compound': 'seed.compound'})"
   ]
  },
  {
   "cell_type": "markdown",
   "metadata": {},
   "source": [
    "We still need to use the proper key names as provided in this dictionary"
   ]
  },
  {
   "cell_type": "code",
   "execution_count": 23,
   "metadata": {},
   "outputs": [],
   "source": [
    "for m in model.metabolites:\n",
    "    if m.annotation:\n",
    "        m.annotation = dict((m_annotation[k], v.rsplit('/',1)[-1]) for k, v in m.annotation.items())\n",
    "    m.annotation['bigg.metabolite'] = m.id"
   ]
  },
  {
   "cell_type": "markdown",
   "metadata": {},
   "source": [
    "Loop through metabolites: <br>\n",
    ">if the metabolite has an annotation: <br>\n",
    "        >>then set the annotation using the following:<br>\n",
    "        a dictionary that is populated by a list comprehension that loop over the current dictionary's items<br>\n",
    "        each time the key and value from the current dictionary are return as k,v <br>\n",
    "        the new dictionary's key is returned using the m_annotation dictionary <br>\n",
    "        the new dictionary's value is returned by spliting the url from the existing dictionary's value at all '/' characters<br>\n",
    "        and returning the last one\n"
   ]
  },
  {
   "cell_type": "code",
   "execution_count": 24,
   "metadata": {},
   "outputs": [],
   "source": [
    "for m in model.metabolites:\n",
    "    m.annotation['sbo'] = 'SBO:0000247'"
   ]
  },
  {
   "cell_type": "markdown",
   "metadata": {},
   "source": [
    "All metabolites are given the [systems biology ontology id 247](https://www.ebi.ac.uk/sbo/main/SBO:0000247), indicating that they are simple chemicals"
   ]
  },
  {
   "cell_type": "code",
   "execution_count": 25,
   "metadata": {},
   "outputs": [
    {
     "data": {
      "text/plain": [
       "{'kegg.compound': 'C00031',\n",
       " 'chebi': 'CHEBI:4167',\n",
       " 'kegg.drug': 'D00009',\n",
       " 'hmdb': 'HMDB06564',\n",
       " 'biocyc': 'META:Glucopyranose',\n",
       " 'metanetx.chemical': 'MNXM41',\n",
       " 'inchikey': 'WQZGKKKJIJFFOK-GASJEMHNSA-N',\n",
       " 'seed.compound': 'cpd26821',\n",
       " 'bigg.metabolite': 'glc__D_c',\n",
       " 'sbo': 'SBO:0000247'}"
      ]
     },
     "execution_count": 25,
     "metadata": {},
     "output_type": "execute_result"
    }
   ],
   "source": [
    "model.metabolites.get_by_id('glc__D_c').annotation"
   ]
  },
  {
   "cell_type": "markdown",
   "metadata": {},
   "source": [
    "check annotation dictionary for an arbitrary metabolite"
   ]
  },
  {
   "cell_type": "markdown",
   "metadata": {},
   "source": [
    "# Reaction annotation"
   ]
  },
  {
   "cell_type": "code",
   "execution_count": 28,
   "metadata": {},
   "outputs": [
    {
     "name": "stdout",
     "output_type": "stream",
     "text": [
      "2DHGLCK: 2dhglcn_c + atp_c + 2.0 h_c --> 6p2dhglcn_c + adp_c {'KEGG Reaction': 'R02658'}\n",
      "3HAD100: 3hdecACP_c --> h2o_c + tdec2eACP_c {'KEGG Reaction': 'R04535'}\n",
      "3HAD120: 3hddecACP_c --> h2o_c + tddec2eACP_c {'KEGG Reaction': 'R04965'}\n",
      "3HAD140: 3hmrsACP_c --> h2o_c + tmrs2eACP_c {'KEGG Reaction': 'R04568'}\n",
      "3HAD160: 3hpalmACP_c --> h2o_c + tpalm2eACP_c {'KEGG Reaction': 'R04544'}\n",
      "3HAD60: 3hhexACP_c --> h2o_c + thex2eACP_c {'KEGG Reaction': 'R04954'}\n",
      "3HAD80: 3hoctACP_c --> h2o_c + toct2eACP_c {'KEGG Reaction': 'R04537'}\n",
      "3HCINNMH: 3hcinnm_c + h_c + nadh_c + o2_c --> dhcinnm_c + h2o_c + nad_c {'KEGG Reaction': 'R06787'}\n",
      "3HPAOX: 3hoxpac_c + h_c + nadh_c + o2_c --> 34dhpha_c + h2o_c + nad_c {'KEGG Reaction': 'R03299'}\n",
      "3HPPPNH: 3hpppn_c + h_c + nadh_c + o2_c --> dhpppn_c + h2o_c + nad_c {'KEGG Reaction': 'R06786'}\n",
      "3MBZALDH: 3mbzalc_c + nad_c --> 3mbzald_c + h_c + nadh_c {'KEGG Reaction': 'R05347'}\n",
      "3MCAT23DOX: 3mcat_c + o2_c --> cchoxod_c + h_c {'KEGG Reaction': 'R04089'}\n",
      "3OADPCOAT: 3oxoadp_c + succoa_c --> oxadpcoa_c + succ_c {'BioPath Reaction': 'RXN01488', 'KEGG Reaction': 'R02990'}\n",
      "3OAR100: 3odecACP_c + h_c + nadph_c <=> 3hdecACP_c + nadp_c {'KEGG Reaction': 'R04534'}\n",
      "3OAR120: 3oddecACP_c + h_c + nadph_c <=> 3hddecACP_c + nadp_c {'KEGG Reaction': 'R04964'}\n",
      "3OAR140: 3omrsACP_c + h_c + nadph_c <=> 3hmrsACP_c + nadp_c {'KEGG Reaction': 'R04566'}\n",
      "3OAR160: 3opalmACP_c + h_c + nadph_c <=> 3hpalmACP_c + nadp_c {'KEGG Reaction': 'R04543'}\n",
      "3OAR60: 3ohexACP_c + h_c + nadph_c <=> 3hhexACP_c + nadp_c {'KEGG Reaction': 'R04953'}\n",
      "3OAR80: 3ooctACP_c + h_c + nadph_c <=> 3hoctACP_c + nadp_c {'KEGG Reaction': 'R04536'}\n",
      "3OAS100: h_c + malACP_c + ocACP_c --> 3odecACP_c + ACP_c + co2_c {'KEGG Reaction': 'R04960'}\n",
      "3OAS120: dcaACP_c + h_c + malACP_c --> 3oddecACP_c + ACP_c + co2_c {'KEGG Reaction': 'R04963'}\n",
      "3OAS140: ddcaACP_c + h_c + malACP_c --> 3omrsACP_c + ACP_c + co2_c {'KEGG Reaction': 'R04726'}\n",
      "3OAS160: h_c + malACP_c + myrsACP_c --> 3opalmACP_c + ACP_c + co2_c {'KEGG Reaction': 'R04968'}\n",
      "3OAS60: butACP_c + h_c + malACP_c --> 3ohexACP_c + ACP_c + co2_c {'KEGG Reaction': 'R04952'}\n",
      "3OAS80: h_c + hexACP_c + malACP_c --> 3ooctACP_c + ACP_c + co2_c {'KEGG Reaction': 'R04957'}\n",
      "3OXCOAT: coa_c + oxadpcoa_c --> accoa_c + succoa_c {'BioPath Reaction': 'RXN00946', 'KEGG Reaction': 'R00829'}\n"
     ]
    }
   ],
   "source": [
    "for r in sorted(model.reactions[:100], key=lambda x: x.id):\n",
    "    if r.notes:\n",
    "        print(r, r.notes)"
   ]
  },
  {
   "cell_type": "markdown",
   "metadata": {},
   "source": [
    "My model has some kegg and some biopath reaction annotations\n",
    "JH's model has 'original bigg ids' reaction annotation"
   ]
  },
  {
   "cell_type": "code",
   "execution_count": 29,
   "metadata": {},
   "outputs": [],
   "source": [
    "for r in sorted(model.reactions, key=lambda x: x.id):\n",
    "    if r.annotation:\n",
    "        print(r, r.annotation)"
   ]
  },
  {
   "cell_type": "markdown",
   "metadata": {},
   "source": [
    "Both mine and JH's models originally have no reaction annotations"
   ]
  },
  {
   "cell_type": "code",
   "execution_count": 30,
   "metadata": {},
   "outputs": [],
   "source": [
    "for r in sorted(model.reactions, key=lambda x: x.id):\n",
    "    r.annotation = {}"
   ]
  },
  {
   "cell_type": "markdown",
   "metadata": {},
   "source": [
    "Ensure that all reactions have blank annotations"
   ]
  },
  {
   "cell_type": "code",
   "execution_count": 38,
   "metadata": {},
   "outputs": [],
   "source": [
    "for r in model.reactions:\n",
    "    if r.boundary:\n",
    "        if r.id.startswith('DM_') or r.id.startswith('SRC_'):\n",
    "            r.annotation = {'SBO': 'SBO:0000628'}\n",
    "        elif r.id.startswith('EX_'):\n",
    "            r.annotation = {'SBO': 'SBO:0000627'}\n",
    "        elif r.id.startswith('SK_'):\n",
    "            r.annotation = {'SBO': 'SBO:0000632'}"
   ]
  },
  {
   "cell_type": "markdown",
   "metadata": {},
   "source": [
    "r.boundary is a boolean that returns true when a reaction is transport related<br>\n",
    "\n",
    "Systems biology ontology definitions:<br>\n",
    "SBO:0000628 : [demand reaction](http://www.ebi.ac.uk/sbo/main/SBO:0000628) <br>\n",
    "SBO:0000627 : [exchange reaction](http://www.ebi.ac.uk/sbo/main/SBO:0000627) <br>\n",
    "SBO:0000632 : [sink reaction](http://www.ebi.ac.uk/sbo/main/SBO:0000632) <br>\n"
   ]
  },
  {
   "cell_type": "code",
   "execution_count": 45,
   "metadata": {},
   "outputs": [
    {
     "name": "stdout",
     "output_type": "stream",
     "text": [
      "12PPDt: 12ppd__S_e <=> 12ppd__S_c {'C_e', 'C_c'}\n",
      "14GLUCANtexi: 14glucan_e --> 14glucan_p {'C_e', 'C_p'}\n"
     ]
    }
   ],
   "source": [
    "for r in model.reactions[:10]:\n",
    "    if 'C_e' in r.compartments:\n",
    "        print(r, r.compartments)"
   ]
  },
  {
   "cell_type": "markdown",
   "metadata": {},
   "source": [
    "r.compartments returns a set of compartments labeled <br>\n",
    "cytoplasm: 'C_c' <br>\n",
    "periplasm: 'C_p' <br>\n",
    "extracellular: 'C_e' <br>"
   ]
  },
  {
   "cell_type": "code",
   "execution_count": 46,
   "metadata": {},
   "outputs": [
    {
     "name": "stdout",
     "output_type": "stream",
     "text": [
      "12DGR120tipp: 12dgr120_p --> 12dgr120_c\n",
      "12DGR140tipp: 12dgr140_p --> 12dgr140_c\n",
      "12DGR141tipp: 12dgr141_p --> 12dgr141_c\n",
      "12DGR161tipp: 12dgr161_p --> 12dgr161_c\n",
      "12DGR180tipp: 12dgr180_p --> 12dgr180_c\n",
      "12DGR181tipp: 12dgr181_p --> 12dgr181_c\n",
      "12PPDStpp: 12ppd__S_p <=> 12ppd__S_c\n",
      "12PPDt: 12ppd__S_e <=> 12ppd__S_c\n",
      "14GLUCANtexi: 14glucan_e --> 14glucan_p\n",
      "2AGPE120tipp: 2agpe120_p --> 2agpe120_c\n",
      "2AGPE140tipp: 2agpe140_p --> 2agpe140_c\n",
      "2AGPE141tipp: 2agpe141_p --> 2agpe141_c\n",
      "2AGPE160tipp: 2agpe160_p --> 2agpe160_c\n",
      "2AGPE161tipp: 2agpe161_p --> 2agpe161_c\n",
      "2AGPE180tipp: 2agpe180_p --> 2agpe180_c\n",
      "2AGPE181tipp: 2agpe181_p --> 2agpe181_c\n",
      "2AGPG120tipp: 2agpg120_p --> 2agpg120_c\n",
      "2AGPG140tipp: 2agpg140_p --> 2agpg140_c\n",
      "2AGPG141tipp: 2agpg141_p --> 2agpg141_c\n",
      "2AGPG160tipp: 2agpg160_p --> 2agpg160_c\n",
      "2AGPG161tipp: 2agpg161_p --> 2agpg161_c\n",
      "2AGPG180tipp: 2agpg180_p --> 2agpg180_c\n",
      "2AGPG181tipp: 2agpg181_p --> 2agpg181_c\n",
      "2DHGLCNkt_tpp: 2dhglcn_p + h_p --> 2dhglcn_c + h_c\n",
      "2HXMPt6: 2hxmp_e + h_e <=> 2hxmp_c + h_c\n",
      "2PGLYCt6: 2pglyc_e + h_e <=> 2pglyc_c + h_c\n",
      "3_4DHBZ1t_pp: 34dhbz_p + h_p <=> 34dhbz_c + h_c\n",
      "34DHCINMtex: 34dhcinm_e <=> 34dhcinm_p\n",
      "34DHCINMtpp: 34dhcinm_p <=> 34dhcinm_c\n",
      "3HOXPACt2pp: 3hoxpac_p + h_p --> 3hoxpac_c + h_c\n",
      "3hoxpactex: 3hoxpac_e <=> 3hoxpac_p\n",
      "3MBt2pp: 3mb_p + h_p --> 3mb_c + h_c\n",
      "3MBt4pp: 3mb_p + na1_p --> 3mb_c + na1_c\n",
      "3MBtex: 3mb_e <=> 3mb_p\n",
      "3OXOADPt_pp: 3oxoadp_p + h_p <=> 3oxoadp_c + h_c\n"
     ]
    }
   ],
   "source": [
    "for r in model.reactions[:100]:\n",
    "    if len(r.compartments) > 1 and 't' in r.id:\n",
    "        print(r)"
   ]
  },
  {
   "cell_type": "markdown",
   "metadata": {},
   "source": [
    "Not sure why the 't' in id portion is included\n",
    "Prints all reactions that take place between compartments"
   ]
  },
  {
   "cell_type": "code",
   "execution_count": 52,
   "metadata": {},
   "outputs": [
    {
     "name": "stdout",
     "output_type": "stream",
     "text": [
      "14GLUCANabcpp: 14glucan_p + atp_c + h2o_c --> 14glucan_c + adp_c + h_c + pi_c\n",
      "3PEPTabcpp: LalaDgluMdap_p + atp_c + h2o_c --> LalaDgluMdap_c + adp_c + h_c + pi_c\n",
      "4PEPTabcpp: LalaDgluMdapDala_p + atp_c + h2o_c --> LalaDgluMdapDala_c + adp_c + h_c + pi_c\n",
      "ACTNabc: actn__R_e + atp_c + h2o_c --> actn__R_c + adp_c + h_c + pi_c\n",
      "ACTNabc1: actn__R_c + atp_c + h2o_c --> actn__R_e + adp_c + h_c + pi_c\n",
      "AKGMAL: akg_c + mal__L_e <=> akg_e + mal__L_c\n",
      "ALAALAabcpp: alaala_p + atp_c + h2o_c --> adp_c + alaala_c + h_c + pi_c\n",
      "ALAabc: ala__L_e + atp_c + h2o_c --> adp_c + ala__L_c + h_c + pi_c\n",
      "ALAabcpp: ala__L_p + atp_c + h2o_c --> adp_c + ala__L_c + h_c + pi_c\n",
      "ARBabc: arab__L_e + atp_c + h2o_c --> adp_c + arab__L_c + h_c + pi_c\n",
      "ARBabcpp: arab__L_p + atp_c + h2o_c --> adp_c + arab__L_c + h_c + pi_c\n",
      "ARGabc: arg__L_e + atp_c + h2o_c --> adp_c + arg__L_c + h_c + pi_c\n",
      "ARGabcpp: arg__L_p + atp_c + h2o_c --> adp_c + arg__L_c + h_c + pi_c\n",
      "ASPabc: asp__L_e + atp_c + h2o_c --> adp_c + asp__L_c + h_c + pi_c\n",
      "ASPabcpp: asp__L_p + atp_c + h2o_c --> adp_c + asp__L_c + h_c + pi_c\n",
      "ATPS4rpp: adp_c + 4.0 h_p + pi_c --> atp_c + h2o_c + 3.0 h_c\n",
      "BCT1_syn: atp_c + h2o_c + hco3_p --> adp_c + h_c + hco3_c + pi_c\n",
      "BUTSO3abcpp: atp_c + butso3_p + h2o_c --> adp_c + butso3_c + h_c + pi_c\n",
      "BUTSabc: atp_c + buts_e + h2o_c --> adp_c + buts_c + h_c + pi_c\n",
      "CA2abc: atp_c + ca2_e + h2o_c --> adp_c + ca2_c + h_c + pi_c\n",
      "CA2abc1: atp_c + ca2_c + h2o_c --> adp_c + ca2_e + h_c + pi_c\n",
      "CA2abcpp: atp_c + ca2_p + h2o_c --> adp_c + ca2_c + h_c + pi_c\n",
      "CAATPS: atp_c + 2.0 ca2_c + h2o_c --> adp_c + 2.0 ca2_e + h_e + pi_c\n",
      "CBFC2pp: 2.0 ficytc6_p + 2.0 h_c + pqh2_p --> 2.0 focytc6_p + 4.0 h_p + pq_p\n",
      "CGLYabcpp: atp_c + cgly_p + h2o_c --> adp_c + cgly_c + h_c + pi_c\n",
      "CHLabc: atp_c + chol_e + h2o_c --> adp_c + chol_c + h_c + pi_c\n",
      "CHLabcpp: atp_c + chol_p + h2o_c --> adp_c + chol_c + h_c + pi_c\n",
      "CHOLSabc_1: atp_c + chols_e + h2o_c --> adp_c + chols_c + h_c + pi_c\n",
      "COabc: atp_c + cobalt2_e + h2o_c --> adp_c + cobalt2_c + h_c + pi_c\n"
     ]
    }
   ],
   "source": [
    "for r in sorted(model.reactions[:500], key=lambda x: x.id):\n",
    "    if (len(r.compartments) > 1 \n",
    "        and not 't' in r.id \n",
    "        and not 'd' in r.compartments \n",
    "        and not any(x in [m.id for m in r.metabolites] for x in ['focytc_m','q9_m','fadh2_m','dolmanp_r','pc_RT_r'])):\n",
    "        print(r)"
   ]
  },
  {
   "cell_type": "markdown",
   "metadata": {},
   "source": [
    "Prints reactions that take place in at least 2 compartments , not including any reaction in compartment d. <br>\n",
    "Also excludes reactions that contain these metabolites: 'focytc_m','q9_m','fadh2_m','dolmanp_r','pc_RT_r' <br>\n",
    "\n",
    "Not sure where that metabolite list comes from\n"
   ]
  },
  {
   "cell_type": "code",
   "execution_count": 53,
   "metadata": {},
   "outputs": [],
   "source": [
    "for r in model.reactions:\n",
    "    if len(r.compartments) > 1 and 't' in r.id:\n",
    "        r.annotation['SBO'] = 'SBO:0000655'\n",
    "    if (len(r.compartments) > 1 and not 't' in r.id and not ('d' in r.compartments or\n",
    "        any(x in [m.id for m in r.metabolites] for x in ['focytc_m','q9_m','fadh2_m','dolmanp_r','pc_RT_r']))):\n",
    "        r.annotation['SBO'] = 'SBO:0000655'"
   ]
  },
  {
   "cell_type": "markdown",
   "metadata": {},
   "source": [
    "Systems biology ontology definitions:<br>\n",
    "SBO:0000655 : [transport reaction, definition: The movement of an entity/entities across a biological membrane mediated by a transporter protein.](http://www.ebi.ac.uk/sbo/main/SBO:0000655) <br>"
   ]
  },
  {
   "cell_type": "code",
   "execution_count": 54,
   "metadata": {},
   "outputs": [],
   "source": [
    "for r in model.reactions:\n",
    "    if len(r.compartments) == 1 and not r.boundary:\n",
    "        r.annotation['SBO'] = 'SBO:0000176'\n",
    "    if (len(r.compartments) > 1 and not 't' in r.id and ('d' in r.compartments or\n",
    "        any(x in [m.id for m in r.metabolites] for x in ['focytc_m','q9_m','fadh2_m','dolmanp_r','pc_RT_r']))):\n",
    "        r.annotation['SBO'] = 'SBO:0000176'"
   ]
  },
  {
   "cell_type": "markdown",
   "metadata": {},
   "source": [
    "Systems biology ontology definitions:<br>\n",
    "SBO:0000176 : [biochemical reaction, definition: An event involving one or more chemical entities that modifies the electrochemical structure of at least one of the participants.](http://www.ebi.ac.uk/sbo/main/SBO:0000176) <br>"
   ]
  },
  {
   "cell_type": "code",
   "execution_count": 56,
   "metadata": {},
   "outputs": [
    {
     "ename": "KeyError",
     "evalue": "'growth'",
     "output_type": "error",
     "traceback": [
      "\u001b[0;31m---------------------------------------------------------------------------\u001b[0m",
      "\u001b[0;31mKeyError\u001b[0m                                  Traceback (most recent call last)",
      "\u001b[0;32m<ipython-input-56-4af7de66bf83>\u001b[0m in \u001b[0;36m<module>\u001b[0;34m\u001b[0m\n\u001b[0;32m----> 1\u001b[0;31m \u001b[0mmodel\u001b[0m\u001b[0;34m.\u001b[0m\u001b[0mreactions\u001b[0m\u001b[0;34m.\u001b[0m\u001b[0mget_by_id\u001b[0m\u001b[0;34m(\u001b[0m\u001b[0;34m'growth'\u001b[0m\u001b[0;34m)\u001b[0m\u001b[0;34m.\u001b[0m\u001b[0mannotation\u001b[0m\u001b[0;34m[\u001b[0m\u001b[0;34m'SBO'\u001b[0m\u001b[0;34m]\u001b[0m \u001b[0;34m=\u001b[0m \u001b[0;34m'SBO:0000629'\u001b[0m\u001b[0;34m\u001b[0m\u001b[0;34m\u001b[0m\u001b[0m\n\u001b[0m",
      "\u001b[0;32m/usr/local/share/jupyteruser/.pyenv/versions/biod_3.7/lib/python3.7/site-packages/cobra/core/dictlist.py\u001b[0m in \u001b[0;36mget_by_id\u001b[0;34m(self, id)\u001b[0m\n\u001b[1;32m     56\u001b[0m     \u001b[0;32mdef\u001b[0m \u001b[0mget_by_id\u001b[0m\u001b[0;34m(\u001b[0m\u001b[0mself\u001b[0m\u001b[0;34m,\u001b[0m \u001b[0mid\u001b[0m\u001b[0;34m)\u001b[0m\u001b[0;34m:\u001b[0m\u001b[0;34m\u001b[0m\u001b[0;34m\u001b[0m\u001b[0m\n\u001b[1;32m     57\u001b[0m         \u001b[0;34m\"\"\"return the element with a matching id\"\"\"\u001b[0m\u001b[0;34m\u001b[0m\u001b[0;34m\u001b[0m\u001b[0m\n\u001b[0;32m---> 58\u001b[0;31m         \u001b[0;32mreturn\u001b[0m \u001b[0mlist\u001b[0m\u001b[0;34m.\u001b[0m\u001b[0m__getitem__\u001b[0m\u001b[0;34m(\u001b[0m\u001b[0mself\u001b[0m\u001b[0;34m,\u001b[0m \u001b[0mself\u001b[0m\u001b[0;34m.\u001b[0m\u001b[0m_dict\u001b[0m\u001b[0;34m[\u001b[0m\u001b[0mid\u001b[0m\u001b[0;34m]\u001b[0m\u001b[0;34m)\u001b[0m\u001b[0;34m\u001b[0m\u001b[0;34m\u001b[0m\u001b[0m\n\u001b[0m\u001b[1;32m     59\u001b[0m \u001b[0;34m\u001b[0m\u001b[0m\n\u001b[1;32m     60\u001b[0m     \u001b[0;32mdef\u001b[0m \u001b[0mlist_attr\u001b[0m\u001b[0;34m(\u001b[0m\u001b[0mself\u001b[0m\u001b[0;34m,\u001b[0m \u001b[0mattribute\u001b[0m\u001b[0;34m)\u001b[0m\u001b[0;34m:\u001b[0m\u001b[0;34m\u001b[0m\u001b[0;34m\u001b[0m\u001b[0m\n",
      "\u001b[0;31mKeyError\u001b[0m: 'growth'"
     ]
    }
   ],
   "source": [
    "model.reactions.get_by_id('growth').annotation['SBO'] = 'SBO:0000629'"
   ]
  },
  {
   "cell_type": "markdown",
   "metadata": {},
   "source": [
    "Systems biology ontology definitions:<br>\n",
    "SBO:0000629 : [biomass production](http://www.ebi.ac.uk/sbo/main/SBO:0000629) <br>"
   ]
  },
  {
   "cell_type": "code",
   "execution_count": 57,
   "metadata": {},
   "outputs": [
    {
     "data": {
      "text/plain": [
       "{'SBO'}"
      ]
     },
     "execution_count": 57,
     "metadata": {},
     "output_type": "execute_result"
    }
   ],
   "source": [
    "set(sum([list(r.annotation.keys()) for r in model.reactions],[]))"
   ]
  },
  {
   "cell_type": "markdown",
   "metadata": {},
   "source": [
    "JH and my model both only have 'SBO'"
   ]
  },
  {
   "cell_type": "code",
   "execution_count": 58,
   "metadata": {},
   "outputs": [],
   "source": [
    "for r in model.reactions:\n",
    "    if r.id in bigg_universal.reactions:\n",
    "        #r.notes.update(dict(bigg_universal.reactions.get_by_id(r.id).notes))\n",
    "        r.annotation.update(dict(bigg_universal.reactions.get_by_id(r.id).annotation))"
   ]
  },
  {
   "cell_type": "code",
   "execution_count": 59,
   "metadata": {},
   "outputs": [
    {
     "data": {
      "text/plain": [
       "{'BioCyc',\n",
       " 'EC Number',\n",
       " 'KEGG Reaction',\n",
       " 'MetaNetX (MNX) Equation',\n",
       " 'RHEA',\n",
       " 'Reactome Reaction',\n",
       " 'SBO',\n",
       " 'SEED Reaction'}"
      ]
     },
     "execution_count": 59,
     "metadata": {},
     "output_type": "execute_result"
    }
   ],
   "source": [
    "set(sum([list(r.annotation.keys()) for r in model.reactions],[]))"
   ]
  },
  {
   "cell_type": "markdown",
   "metadata": {},
   "source": [
    "JH also has: {'BioCyc',\n",
    " 'EC Number',\n",
    " 'KEGG Reaction',\n",
    " 'MetaNetX (MNX) Equation',\n",
    " 'RHEA',\n",
    " 'Reactome Reaction',\n",
    " 'SBO',\n",
    " 'SEED Reaction'}"
   ]
  },
  {
   "cell_type": "code",
   "execution_count": 60,
   "metadata": {},
   "outputs": [
    {
     "data": {
      "text/plain": [
       "{'SBO': 'SBO:0000176',\n",
       " 'EC Number': 'http://identifiers.org/ec-code/5.3.1.9',\n",
       " 'BioCyc': 'http://identifiers.org/biocyc/META:PGLUCISOM-RXN',\n",
       " 'MetaNetX (MNX) Equation': 'http://identifiers.org/metanetx.reaction/MNXR102535'}"
      ]
     },
     "execution_count": 60,
     "metadata": {},
     "output_type": "execute_result"
    }
   ],
   "source": [
    "model.reactions.get_by_id('PGI').annotation"
   ]
  },
  {
   "cell_type": "markdown",
   "metadata": {},
   "source": [
    "An arbitrarily chosen reaction's annotation"
   ]
  },
  {
   "cell_type": "code",
   "execution_count": 62,
   "metadata": {},
   "outputs": [],
   "source": [
    "# Reformat to memote style\n",
    "r_annotation = dict({'BioCyc': 'biocyc',\n",
    "                     'EC Number': 'ec-code',\n",
    "                     'KEGG Reaction': 'kegg.reaction',\n",
    "                     'MetaNetX (MNX) Equation': 'metanetx.reaction',\n",
    "                     'RHEA': 'rhea',\n",
    "                     'Reactome Reaction': 'reactome',\n",
    "                     'SBO': 'sbo',\n",
    "                     'SEED Reaction': 'seed.reaction'})"
   ]
  },
  {
   "cell_type": "markdown",
   "metadata": {},
   "source": [
    "Proper dictionary keys to annotate a reaction according to MEMOTE"
   ]
  },
  {
   "cell_type": "code",
   "execution_count": 63,
   "metadata": {},
   "outputs": [],
   "source": [
    "for r in model.reactions:\n",
    "    if r.annotation:\n",
    "        r.annotation = dict((r_annotation[k], v.rsplit('/',1)[-1]) for k, v in r.annotation.items())\n",
    "    r.annotation['bigg.reaction'] = r.id"
   ]
  },
  {
   "cell_type": "code",
   "execution_count": 64,
   "metadata": {},
   "outputs": [
    {
     "data": {
      "text/plain": [
       "{'sbo': 'SBO:0000176',\n",
       " 'ec-code': '5.3.1.9',\n",
       " 'biocyc': 'META:PGLUCISOM-RXN',\n",
       " 'metanetx.reaction': 'MNXR102535',\n",
       " 'bigg.reaction': 'PGI'}"
      ]
     },
     "execution_count": 64,
     "metadata": {},
     "output_type": "execute_result"
    }
   ],
   "source": [
    "model.reactions.get_by_id('PGI').annotation"
   ]
  },
  {
   "cell_type": "code",
   "execution_count": 65,
   "metadata": {},
   "outputs": [
    {
     "data": {
      "text/plain": [
       "{''}"
      ]
     },
     "execution_count": 65,
     "metadata": {},
     "output_type": "execute_result"
    }
   ],
   "source": [
    "set(r.subsystem for r in model.reactions)"
   ]
  },
  {
   "cell_type": "markdown",
   "metadata": {},
   "source": [
    "JH has long list of subsystems here: the ones on kegg: <br>\n",
    "{'',\n",
    " 'Alanine and Aspartate Metabolism',\n",
    " 'Alanine and aspartate metabolism',\n",
    " 'Aldehyde degradation',\n",
    " 'Alkaloid biosynthesis II',\n",
    " 'Alternate Carbon Metabolism',\n",
    " 'Amino sugar and nucleotide sugar metabolism',\n",
    " 'Aminosugar Metabolism',\n",
    " 'Anaplerotic Reactions',\n",
    " 'Arginine and Proline Metabolism',\n",
    " 'Arginine and proline metabolism',\n",
    " 'Ascorbate metabolism',\n",
    " 'B-Ketoadipate pathway',\n",
    " 'Bile Acid Biosynthesis',\n",
    " 'Biomass and maintenance functions',\n",
    " 'Biosynthesis of steroids',\n",
    " 'Biosynthesis of steroids: Terpenoid backbone synthesis',\n",
    " 'Biosynthesis of steroids: Ubiquinone/Terpenoid-quinone biosynthesis',\n",
    " 'Biosynthesis of unsaturated fatty acids',\n",
    " 'Biotin Metabolism',\n",
    " 'Butanoate Metabolism',\n",
    " 'Butanoate metabolism',\n",
    " 'Calvin cycle/Pentose phosphate pathway',\n",
    " 'Carbon fixation',\n",
    " 'Carbon fixation;Glutamate metabolism;Alanine and aspartate metabolism',\n",
    " 'Carnitine shuttle',\n",
    " 'Cell Envelope Biosynthesis',\n",
    " 'Cholesterol Metabolism',\n",
    " 'Citric Acid Cycle',\n",
    " 'Cofactor and Prosthetic Group Biosynthesis',\n",
    " 'Cofactor biosynthesis: Carnitine biosynthesis',\n",
    " 'Cofactor recycling',\n",
    " 'Cysteine Metabolism',\n",
    " 'Cysteine and methionine metabolism',\n",
    " 'Cysteine metabolism',\n",
    " 'Drug metabolism - other enzymes',\n",
    " 'Eicosanoid Metabolism',\n",
    " 'Extracellular exchange',\n",
    " 'Fatty Acid Metabolism',\n",
    " 'Fatty acid activation',\n",
    " 'Fatty acid elongation',\n",
    " 'Fatty acid elongation in mitochondria',\n",
    " 'Fatty acid metabolism',\n",
    " 'Fatty acid oxidation',\n",
    " 'Fatty acid oxidation, peroxisome',\n",
    " 'Fatty acid synthesis',\n",
    " 'Folate Metabolism',\n",
    " 'Folate biosynthesis',\n",
    " 'Fructose and Mannose Metabolism',\n",
    " 'Galactose metabolism',\n",
    " 'Glutamate Metabolism',\n",
    " 'Glutamate metabolism',\n",
    " 'Glutathione Metabolism',\n",
    " 'Glycerolipid metabolism',\n",
    " 'Glycerophospholipid Metabolism',\n",
    " 'Glycerophospholipid metabolism',\n",
    " 'Glycine and Serine Metabolism',\n",
    " 'Glycine, Serine and threonine metabolism',\n",
    " 'Glycine, Serine, and Threonine Metabolism',\n",
    " 'Glycine, serine and threonine metabolism',\n",
    " 'Glycine, serine, alanine, and threonine metabolism',\n",
    " 'Glycolysis',\n",
    " 'Glycolysis / Gluconeogenesis',\n",
    " 'Glycolysis/Gluconeogenesis',\n",
    " 'Glyoxylate Metabolism',\n",
    " 'Glyoxylate and Dicarboxylate Metabolism',\n",
    " 'Glyoxylate metabolism',\n",
    " 'High-mannose type N-glycan biosynthesis',\n",
    " 'Histidine Metabolism',\n",
    " 'Histidine metabolism',\n",
    " 'Homogentisate Pathway',\n",
    " 'Inorganic Ion Transport and Metabolism',\n",
    " 'Inositol Phosphate Metabolism',\n",
    " 'Inositol phosphate metabolism',\n",
    " 'Intracellular demand',\n",
    " 'Lipopolysaccharide Biosynthesis / Recycling',\n",
    " 'Lysine Metabolism',\n",
    " 'Lysine biosynthesis',\n",
    " 'Membrane Lipid Metabolism',\n",
    " 'Metabolite Repair',\n",
    " 'Methionine Metabolism',\n",
    " 'Methionine and cysteine metabolism',\n",
    " 'Methionine metabolism',\n",
    " 'Methylglyoxal Metabolism',\n",
    " 'Murein Recycling',\n",
    " 'N-Glycan Biosynthesis',\n",
    " 'N-Glycan Degradation',\n",
    " 'N-Glycan biosynthesis',\n",
    " 'NAD Metabolism',\n",
    " 'Nicotinate and nicotinamide metabolism',\n",
    " 'Nitrogen Metabolism',\n",
    " 'Nitrogen metabolism',\n",
    " 'Nucleotide Salvage Pathway',\n",
    " 'Nucleotide Sugar Metabolism',\n",
    " 'Nucleotide interconversion',\n",
    " 'Nucleotides',\n",
    " 'One carbon pool by folate',\n",
    " 'Oxidative Phosphorylation',\n",
    " 'Oxidative phosphorylation',\n",
    " 'Pantothenate and CoA biosynthesis',\n",
    " 'Pentose Phosphate Pathway',\n",
    " 'Pentose and Glucuronate Interconversions',\n",
    " 'Pentose phosphate pathway',\n",
    " 'Phenylalanine metabolism',\n",
    " 'Polyamine metabolism',\n",
    " 'Porphyrin and Chlorophyll Metabolism',\n",
    " 'Porphyrin and chlorophyll metabolism',\n",
    " 'Propanoate Metabolism',\n",
    " 'Propanoate metabolism',\n",
    " 'Purine Catabolism',\n",
    " 'Purine Metabolism',\n",
    " 'Purine and Pyrimidine Biosynthesis',\n",
    " 'Purine metabolism',\n",
    " 'Pyrimidine Catabolism',\n",
    " 'Pyrimidine metabolism',\n",
    " 'Pyruvate Metabolism',\n",
    " 'Pyruvate metabolism',\n",
    " 'ROS Detoxification',\n",
    " 'Riboflavin Metabolism',\n",
    " 'S_Alanine_and_Aspartate_Metabolism',\n",
    " 'S_Alternate_Carbon_Metabolism',\n",
    " 'S_Anaplerotic_reactions',\n",
    " 'S_Arabinose_Metabolism',\n",
    " 'S_Arginine_and_Proline_Metabolism',\n",
    " 'S_Asparagine_metabolism',\n",
    " 'S_Carbohydrates_and_related_molecules',\n",
    " 'S_Citric_Acid_Cycle',\n",
    " 'S_Complex_Alcohol_Metabolism',\n",
    " 'S_Cysteine_Metabolism',\n",
    " 'S_Fatty_Acid_Degradation',\n",
    " 'S_Fatty_Acid_Metabolism',\n",
    " 'S_Fatty_Acid__Biosynthesis',\n",
    " 'S_Folate_Metabolism',\n",
    " 'S_Fructose_and_Mannose_Metabolism',\n",
    " 'S_Galactose_metabolism',\n",
    " 'S_Glutamate_metabolism',\n",
    " 'S_Glutamine_Metabolism',\n",
    " 'S_Glycerolipid_Metabolism',\n",
    " 'S_Glycine_and_Serine_Metabolism',\n",
    " 'S_GlycolysisGluconeogenesis',\n",
    " 'S_Glycoprotein_Metabolism',\n",
    " 'S_Histidine_Metabolism',\n",
    " 'S_Methane_Metabolism',\n",
    " 'S_Methionine_Metabolism',\n",
    " 'S_NAD_Biosynthesis',\n",
    " 'S_Nitrogen_Metabolism',\n",
    " 'S_Nucleotide_Salvage_Pathway',\n",
    " 'S_Other',\n",
    " 'S_Other_Amino_Acid_Metabolism',\n",
    " 'S_Oxidative_Phosphorylation',\n",
    " 'S_Pantothenate_and_CoA_Biosynthesis',\n",
    " 'S_Pentose_Phosphate_Pathway',\n",
    " 'S_Phospholipid_Biosynthesis',\n",
    " 'S_Phospholipid_Metabolism',\n",
    " 'S_Porphyrin_and_Chlorophyll_Metabolism',\n",
    " 'S_Purine_and_Pyrimidine_Biosynthesis',\n",
    " 'S_Pyridoxine_Metabolism',\n",
    " 'S_Pyruvate_Metabolism',\n",
    " 'S_Quinone_Biosynthesis',\n",
    " 'S_Riboflavin_Metabolism',\n",
    " 'S_Sphingolipid_Metabolism',\n",
    " 'S_Starch_and_Sucrose_Metabolism',\n",
    " 'S_Sterol_Metabolism',\n",
    " 'S_Thiamine_Metabolism',\n",
    " 'S_Threonine_and_Lysine_Metabolism',\n",
    " 'S_Transport__Endoplasmic_Reticular',\n",
    " 'S_Transport__Extracellular',\n",
    " 'S_Transport__Golgi_Apparatus',\n",
    " 'S_Transport__Mitochondrial',\n",
    " 'S_Transport__Nuclear',\n",
    " 'S_Transport__Peroxisomal',\n",
    " 'S_Transport__Vacuolar',\n",
    " 'S_Tyrosine__Tryptophan__and_Phenylalanine_Metabolism',\n",
    " 'S_Valine__Leucine__and_Isoleucine_Metabolism',\n",
    " 'S_Xylose_Metabolism',\n",
    " 'S_tRNA_charging',\n",
    " 'Selenoamino acid metabolism',\n",
    " 'Starch and Sucrose Metabolism',\n",
    " 'Starch and sucrose metabolism',\n",
    " 'Steroid Metabolism',\n",
    " 'Sulfur Metabolism',\n",
    " 'Sulfur metabolism',\n",
    " 'TCA cycle;Carbon fixation;CO2 fixation',\n",
    " 'Taurine and hypotaurine metabolism',\n",
    " 'Terpenoid backbone biosynthesis',\n",
    " 'Tetrahydrobiopterin',\n",
    " 'Threonine and Lysine Metabolism',\n",
    " 'Transport',\n",
    " 'Transport, Endoplasmic Reticular',\n",
    " 'Transport, Extracellular',\n",
    " 'Transport, Golgi Apparatus',\n",
    " 'Transport, Inner Membrane',\n",
    " 'Transport, Mitochondrial',\n",
    " 'Transport, Nuclear',\n",
    " 'Transport, Outer Membrane Porin',\n",
    " 'Transport, Peroxisomal',\n",
    " 'Transport, endoplasmic reticular',\n",
    " 'Transport, extracellular',\n",
    " 'Transport, glyoxysome',\n",
    " 'Transport, mitochondria',\n",
    " 'Transport, mitochondrial',\n",
    " 'Transport, nuclear',\n",
    " 'Transport, nucleus',\n",
    " 'Transport, peroxisomal',\n",
    " 'Tryptophan metabolism',\n",
    " 'Tyrosine metabolism',\n",
    " 'Tyrosine, Tryptophan, and Phenylalanine Metabolism',\n",
    " 'Ubiquinone synthesis',\n",
    " 'Unassigned',\n",
    " 'Urea cycle/amino group metabolism',\n",
    " 'Valine, Leucine, and Isoleucine Metabolism',\n",
    " 'Valine, leucine and isoleucine degradation',\n",
    " 'Valine, leucine, and isoleucine metabolism',\n",
    " 'Vitamin B2 metabolism',\n",
    " 'Vitamin B6 Metabolism',\n",
    " 'Vitamin B6 metabolism',\n",
    " 'beta-Alanine metabolism',\n",
    " 'beta-Alanine metabolism;Pyrimidine metabolism',\n",
    " 'tRNA Charging'}"
   ]
  },
  {
   "cell_type": "code",
   "execution_count": 66,
   "metadata": {},
   "outputs": [],
   "source": [
    "for r in model.reactions:\n",
    "    if r.subsystem.startswith('S_'):\n",
    "        r.subsystem = r.subsystem.replace('S_','').replace('__',', ').replace('_',' ')\n",
    "    r.subsystem = r.subsystem.replace('Glycolysis / Gluconeogenesis','Glycolysis/Gluconeogenesis')\n",
    "    r.subsystem = r.subsystem.replace('GlycolysisGluconeogenesis','Glycolysis/Gluconeogenesis')\n",
    "    r.subsystem = r.subsystem.replace('metabolism','Metabolism')\n",
    "    r.subsystem = r.subsystem.replace('aspartate','Aspartate')\n",
    "    r.subsystem = r.subsystem.replace('reactions','Reactions')\n",
    "    r.subsystem = r.subsystem.replace('proline','Proline')\n",
    "    r.subsystem = r.subsystem.replace('serine','Serine')\n",
    "    r.subsystem = r.subsystem.replace('Serine and threonine','Serine, and Threonine')\n",
    "    r.subsystem = r.subsystem.replace(', alanine',', Alanine')\n",
    "    r.subsystem = r.subsystem.replace('phosphate','Phosphate')\n",
    "    r.subsystem = r.subsystem.replace('pathway','Pathway')\n",
    "    r.subsystem = r.subsystem.replace('biosynthesis','Biosynthesis')\n",
    "    r.subsystem = r.subsystem.replace('chlorophyll','Chlorophyll')\n",
    "    r.subsystem = r.subsystem.replace('sucrose','Sucrose')\n",
    "    r.subsystem = r.subsystem.replace('endoplasmic reticular','Endoplasmic Reticular')\n",
    "    r.subsystem = r.subsystem.replace('extracellular','Extracellular')\n",
    "    r.subsystem = r.subsystem.replace('Transport, mitochondria','Transport, Mitochondrial')\n",
    "    r.subsystem = r.subsystem.replace('Transport, mitochondrial','Transport, Mitochondrial')\n",
    "    r.subsystem = r.subsystem.replace('peroxisomal','Peroxisomal')\n",
    "    r.subsystem = r.subsystem.replace('leucine and isoleucine','Leucine, and Isoleucine')\n",
    "    r.subsystem = r.subsystem.replace('leucine, and isoleucine','Leucine, and Isoleucine')\n",
    "    r.subsystem = r.subsystem.replace('charging','Charging')\n",
    "    r.subsystem = r.subsystem.replace('phosphorylation','Phosphorylation')\n",
    "    r.subsystem = r.subsystem.replace('degradation','Degradation')"
   ]
  },
  {
   "cell_type": "markdown",
   "metadata": {},
   "source": [
    "acceptable formatting for subsystems"
   ]
  },
  {
   "cell_type": "code",
   "execution_count": 67,
   "metadata": {},
   "outputs": [
    {
     "name": "stdout",
     "output_type": "stream",
     "text": [
      " 2389\n"
     ]
    }
   ],
   "source": [
    "temp = [r.subsystem for r in model.reactions]\n",
    "for k in sorted(set(temp)):\n",
    "    print(k, temp.count(k))"
   ]
  },
  {
   "cell_type": "markdown",
   "metadata": {},
   "source": [
    "Prints the name of each subsystem in the model and the number of times it is used"
   ]
  },
  {
   "cell_type": "code",
   "execution_count": 69,
   "metadata": {},
   "outputs": [
    {
     "name": "stdout",
     "output_type": "stream",
     "text": [
      "12DGR120tipp: 12dgr120_p --> 12dgr120_c\n",
      "[('PAPA120pp', '')]\n",
      "[('DAGK120', '')]\n",
      "12DGR140tipp: 12dgr140_p --> 12dgr140_c\n",
      "[('PAPA140pp', '')]\n",
      "[('DAGK140', '')]\n",
      "12DGR141tipp: 12dgr141_p --> 12dgr141_c\n",
      "[('PAPA141pp', '')]\n",
      "[('DAGK141', '')]\n",
      "12DGR161tipp: 12dgr161_p --> 12dgr161_c\n",
      "[('PAPA161pp', '')]\n",
      "[('DAGK161', '')]\n",
      "12DGR180tipp: 12dgr180_p --> 12dgr180_c\n",
      "[('PAPA180pp', '')]\n",
      "[('DAGK180', '')]\n"
     ]
    }
   ],
   "source": [
    "for r in sorted(model.reactions[:5], key=lambda x: x.id):\n",
    "    if not r.subsystem:\n",
    "        print(r)\n",
    "        for m in r.metabolites:\n",
    "            if len(m.reactions) < 7:\n",
    "                print([(r2.id, r2.subsystem) for r2 in m.reactions if r2 is not r])"
   ]
  },
  {
   "cell_type": "markdown",
   "metadata": {},
   "source": [
    "If a reaction does not have a subsystem, then go through metabolites. <br>\n",
    "If the metabolite is involved in less than 7 reactions, then print the reaction id and subsystem for reactions that are not the one in question"
   ]
  },
  {
   "cell_type": "code",
   "execution_count": null,
   "metadata": {},
   "outputs": [],
   "source": [
    "model.reactions.get_by_id('34DHPHAMT').subsystem = 'Tyrosine Metabolism'\n",
    "model.reactions.get_by_id('3DSPHRer').subsystem = 'Sphingolipid Metabolism'\n",
    "model.reactions.get_by_id('42A12BOOX').subsystem = 'Tyrosine Metabolism'\n",
    "model.reactions.get_by_id('ABUTD').subsystem = 'Arginine and Proline Metabolism'\n",
    "model.reactions.get_by_id('ACACT4m').subsystem = 'Fatty acid elongation in mitochondria'\n",
    "model.reactions.get_by_id('ACACT6m').subsystem = 'Fatty acid elongation in mitochondria'\n",
    "model.reactions.get_by_id('ACACT7m').subsystem = 'Fatty acid elongation in mitochondria'\n",
    "model.reactions.get_by_id('ACOAH').subsystem = 'Pyruvate metabolism'\n",
    "model.reactions.get_by_id('ACONTam').subsystem = 'Citric Acid Cycle'\n",
    "model.reactions.get_by_id('ACONTbm').subsystem = 'Citric Acid Cycle'\n",
    "model.reactions.get_by_id('ALDD20x').subsystem = 'Tyrosine, Tryptophan, and Phenylalanine Metabolism'\n",
    "model.reactions.get_by_id('AMAOTrm').subsystem = 'Pantothenate and CoA Biosynthesis'\n",
    "model.reactions.get_by_id('AMETt2').subsystem = 'Transport, Extracellular'\n",
    "model.reactions.get_by_id('ASP1DC').subsystem = 'beta-Alanine Metabolism'\n",
    "model.reactions.get_by_id('LEUTRSm').subsystem = 'Valine, Leucine, and Isoleucine Metabolism'\n",
    "model.reactions.get_by_id('PYDXO_1').subsystem = 'Vitamin B6 Metabolism'"
   ]
  },
  {
   "cell_type": "markdown",
   "metadata": {},
   "source": [
    "manually add subsystems to reactions"
   ]
  },
  {
   "cell_type": "markdown",
   "metadata": {},
   "source": [
    "# Gene Annotation"
   ]
  },
  {
   "cell_type": "code",
   "execution_count": 70,
   "metadata": {},
   "outputs": [],
   "source": [
    "for g in sorted(model.genes, key=lambda x: x.id):\n",
    "    if g.annotation:\n",
    "        print(g)"
   ]
  },
  {
   "cell_type": "code",
   "execution_count": 73,
   "metadata": {},
   "outputs": [
    {
     "name": "stdout",
     "output_type": "stream",
     "text": [
      "WP_005244822_1 G_WP_005244822_1 frozenset({<Reaction 2HH24DDH at 0x7f29a71c5b90>, <Reaction OP4ENH at 0x7f29aa38ba10>, <Reaction 2HH24DDH1 at 0x7f29a7220250>, <Reaction OHEDH at 0x7f29aa348b50>})\n",
      "WP_005246696_1 G_WP_005246696_1 frozenset({<Reaction 2DHGLCNkt_tpp at 0x7f29a7220710>})\n",
      "WP_005248578_1 G_WP_005248578_1 frozenset({<Reaction MALTHXabcpp at 0x7f29a9bc1810>, <Reaction MALTabc at 0x7f29a9bda4d0>, <Reaction 14GLUCANabcpp at 0x7f29a716c2d0>, <Reaction MALTTTRabc at 0x7f29a9bff110>, <Reaction MALTabcpp at 0x7f29a9bc1f50>, <Reaction MALTPTabc at 0x7f29a9bc1d50>, <Reaction MALTTRabc at 0x7f29a9ba8b50>, <Reaction MALTHXabc at 0x7f29a9bc17d0>})\n",
      "WP_005248999_1 G_WP_005248999_1 frozenset({<Reaction 2AGPEAT160 at 0x7f29a71a0c10>, <Reaction AACPS3 at 0x7f29a74d9410>, <Reaction AACPS2 at 0x7f29a746c050>, <Reaction 2AGPGAT161 at 0x7f29a72490d0>, <Reaction AACPS5 at 0x7f29a74d90d0>, <Reaction AACPS8 at 0x7f29a74c20d0>, <Reaction 2AGPGAT181 at 0x7f29a72494d0>, <Reaction 2AGPEAT141 at 0x7f29a71a0910>, <Reaction AACPS9 at 0x7f29a74c2190>, <Reaction 2AGPEAT140 at 0x7f29a71c5d90>, <Reaction 2AGPGAT141 at 0x7f29a72499d0>, <Reaction 2AGPGAT160 at 0x7f29a7249e10>, <Reaction 2AGPEAT161 at 0x7f29a71a0250>, <Reaction 2AGPEAT120 at 0x7f29a71c5250>, <Reaction AACPS6 at 0x7f29a74d9250>, <Reaction 2AGPEAT181 at 0x7f29a71a0290>, <Reaction 2AGPGAT140 at 0x7f29a71f2290>, <Reaction AACPS4 at 0x7f29a74d9b90>, <Reaction AACPS1 at 0x7f29a746ce90>, <Reaction AACPS7 at 0x7f29a74d9ad0>, <Reaction 2AGPEAT180 at 0x7f29a71a0350>, <Reaction 2AGPGAT180 at 0x7f29a7249390>, <Reaction 2AGPGAT120 at 0x7f29a71f23d0>})\n",
      "WP_005249637_1 G_WP_005249637_1 frozenset({<Reaction MALTabcpp at 0x7f29a9bc1f50>, <Reaction MALTHXabcpp at 0x7f29a9bc1810>, <Reaction 14GLUCANabcpp at 0x7f29a716c2d0>})\n",
      "WP_005252000_1 G_WP_005252000_1 frozenset({<Reaction 34HPPOR at 0x7f29a72849d0>})\n",
      "WP_025432775_1 G_WP_025432775_1 frozenset({<Reaction GLYC3Pabc at 0x7f29a90b1a10>, <Reaction MALTHXabc at 0x7f29a9bc17d0>, <Reaction MALTHXabcpp at 0x7f29a9bc1810>, <Reaction GLYC3Pabcpp at 0x7f29a90b1690>, <Reaction INSTabc at 0x7f29a9607c90>, <Reaction 14GLUCANabcpp at 0x7f29a716c2d0>, <Reaction MALTabc at 0x7f29a9bda4d0>, <Reaction G3PEabcpp at 0x7f29a8cfe510>, <Reaction G3PGabcpp at 0x7f29a8cfe310>, <Reaction MALTTTRabc at 0x7f29a9bff110>, <Reaction MALTabcpp at 0x7f29a9bc1f50>, <Reaction MALTPTabc at 0x7f29a9bc1d50>, <Reaction MALTTRabc at 0x7f29a9ba8b50>, <Reaction GLCabcpp at 0x7f29a8eda5d0>})\n",
      "WP_025433301_1 G_WP_025433301_1 frozenset({<Reaction DDGLK at 0x7f29a82f7110>, <Reaction 2DHGLCK at 0x7f29a72492d0>})\n",
      "WP_025433613_1 G_WP_025433613_1 frozenset({<Reaction MALTHXabcpp at 0x7f29a9bc1810>, <Reaction SPMDabc at 0x7f29aae663d0>, <Reaction PTRCabc at 0x7f29aaac1650>, <Reaction MALTabcpp at 0x7f29a9bc1f50>, <Reaction SPMDabcpp at 0x7f29aae66f90>, <Reaction 14GLUCANabcpp at 0x7f29a716c2d0>, <Reaction PTRCabcpp at 0x7f29aab16390>})\n",
      "WP_187300246_1 G_WP_187300246_1 frozenset({<Reaction GLYALDt at 0x7f29a9083a50>, <Reaction 12PPDt at 0x7f29a716c7d0>, <Reaction 12PPDStpp at 0x7f29a716c890>, <Reaction GLYCt at 0x7f29a91200d0>, <Reaction UREAt at 0x7f29ab23b9d0>})\n"
     ]
    }
   ],
   "source": [
    "for g in sorted(model.genes[:10], key=lambda x: x.id):\n",
    "    if g.name:\n",
    "        print(g, g.name, g.reactions)"
   ]
  },
  {
   "cell_type": "markdown",
   "metadata": {},
   "source": [
    "print gene, gene name, and reactions associated with gene"
   ]
  },
  {
   "cell_type": "code",
   "execution_count": null,
   "metadata": {},
   "outputs": [],
   "source": [
    "Uniprot = pd.read_csv('/Users/kimj972/Documents/Research/Rhodosporidium_toruloides/Metabolic_model/IFO0880_4_Uniprot.txt',\n",
    "                      sep='\\t', index_col=0)\n",
    "Uniprot.index = Uniprot.index.map(str)\n",
    "Uniprot"
   ]
  },
  {
   "cell_type": "markdown",
   "metadata": {},
   "source": [
    "output should look something like this: <br>\n",
    "    \tUniProt\n",
    "RTO4_ID\t<br>\n",
    "10632\tB3TQJ2<br>\n",
    "10637\tB3TQJ2<br>\n",
    "10640\tB3TQJ2<br>\n",
    "15931\tA0A2T0A585<br>\n",
    "15937\tA0A2T0A585<br>"
   ]
  },
  {
   "cell_type": "markdown",
   "metadata": {},
   "source": [
    "uniprot is a dataframe with index that comes from mapping the original index through the str() function"
   ]
  },
  {
   "cell_type": "code",
   "execution_count": 74,
   "metadata": {},
   "outputs": [
    {
     "ename": "NameError",
     "evalue": "name 'Uniprot' is not defined",
     "output_type": "error",
     "traceback": [
      "\u001b[0;31m---------------------------------------------------------------------------\u001b[0m",
      "\u001b[0;31mNameError\u001b[0m                                 Traceback (most recent call last)",
      "\u001b[0;32m<ipython-input-74-a961ecadd7ee>\u001b[0m in \u001b[0;36m<module>\u001b[0;34m\u001b[0m\n\u001b[1;32m      1\u001b[0m \u001b[0;32mfor\u001b[0m \u001b[0mg\u001b[0m \u001b[0;32min\u001b[0m \u001b[0mmodel\u001b[0m\u001b[0;34m.\u001b[0m\u001b[0mgenes\u001b[0m\u001b[0;34m:\u001b[0m\u001b[0;34m\u001b[0m\u001b[0;34m\u001b[0m\u001b[0m\n\u001b[0;32m----> 2\u001b[0;31m     \u001b[0;32mif\u001b[0m \u001b[0mg\u001b[0m\u001b[0;34m.\u001b[0m\u001b[0mid\u001b[0m \u001b[0;32mnot\u001b[0m \u001b[0;32min\u001b[0m \u001b[0mUniprot\u001b[0m\u001b[0;34m.\u001b[0m\u001b[0mindex\u001b[0m\u001b[0;34m:\u001b[0m\u001b[0;34m\u001b[0m\u001b[0;34m\u001b[0m\u001b[0m\n\u001b[0m\u001b[1;32m      3\u001b[0m         \u001b[0mprint\u001b[0m\u001b[0;34m(\u001b[0m\u001b[0mg\u001b[0m\u001b[0;34m)\u001b[0m\u001b[0;34m\u001b[0m\u001b[0;34m\u001b[0m\u001b[0m\n",
      "\u001b[0;31mNameError\u001b[0m: name 'Uniprot' is not defined"
     ]
    }
   ],
   "source": [
    "for g in model.genes:\n",
    "    if g.id not in Uniprot.index:\n",
    "        print(g)"
   ]
  },
  {
   "cell_type": "markdown",
   "metadata": {},
   "source": [
    "JH has about 12 genes that are not in uniprot"
   ]
  },
  {
   "cell_type": "code",
   "execution_count": null,
   "metadata": {},
   "outputs": [],
   "source": [
    "for g in model.genes:\n",
    "    if g.id in Uniprot.index:\n",
    "        g.annotation['uniprot'] = Uniprot.loc[g.id,'UniProt']\n",
    "        g.annotation['jgi'] = 'Rhoto_IFO0880_4_'+g.id\n",
    "        g.annotation['ncbiprotein'] = 'AAT19DRAFT_'+g.id\n",
    "        g.name = 'jgi|Rhoto_IFO0880_4|'+g.id     "
   ]
  },
  {
   "cell_type": "markdown",
   "metadata": {},
   "source": [
    "if the gene is in uniprot, then update the gene annotation and name with the uniprot id"
   ]
  },
  {
   "cell_type": "code",
   "execution_count": null,
   "metadata": {},
   "outputs": [],
   "source": [
    "for g in model.genes:\n",
    "    g.annotation['sbo'] = 'SBO:0000243'"
   ]
  },
  {
   "cell_type": "markdown",
   "metadata": {},
   "source": [
    "Systems biology ontology definitions:<br>\n",
    "SBO:0000243 : [gene](http://www.ebi.ac.uk/sbo/main/SBO:0000243) <br>"
   ]
  },
  {
   "cell_type": "code",
   "execution_count": 75,
   "metadata": {},
   "outputs": [
    {
     "name": "stdout",
     "output_type": "stream",
     "text": [
      "\n"
     ]
    }
   ],
   "source": [
    "for x in sorted(model.genes, key=lambda x: x.id):\n",
    "    if not x.reactions:\n",
    "        print(x)\n",
    "print()\n",
    "for x in sorted(model.metabolites, key=lambda x: x.id):\n",
    "    if not x.reactions:\n",
    "        print(x)"
   ]
  },
  {
   "cell_type": "code",
   "execution_count": null,
   "metadata": {},
   "outputs": [],
   "source": [
    "cobra.manipulation.remove_genes(model, [x for x in model.genes if not x.reactions])\n",
    "model.remove_metabolites([x for x in model.metabolites if not x.reactions])"
   ]
  },
  {
   "cell_type": "markdown",
   "metadata": {},
   "source": [
    "remove genes and metabolites that are not in reactions"
   ]
  },
  {
   "cell_type": "code",
   "execution_count": null,
   "metadata": {},
   "outputs": [],
   "source": [
    "for r in sorted(model.reactions, key=lambda x: x.id):\n",
    "    if not r.boundary and sum(abs(x) for x in r.check_mass_balance().values()) > 1e-12:\n",
    "        print(r, r.gene_reaction_rule, r.check_mass_balance())"
   ]
  },
  {
   "cell_type": "markdown",
   "metadata": {},
   "source": [
    "print reaction, gpr, and check mass balance if a reaction is not a boundry and the mass balance value is greater than 1e-12"
   ]
  },
  {
   "cell_type": "code",
   "execution_count": 76,
   "metadata": {},
   "outputs": [
    {
     "name": "stdout",
     "output_type": "stream",
     "text": [
      "1578\n",
      "2389\n",
      "1574\n",
      "1109\n",
      "3\n"
     ]
    },
    {
     "data": {
      "text/html": [
       "\n",
       "        <table>\n",
       "            <tr>\n",
       "                <td><strong>Name</strong></td>\n",
       "                <td>Ropacus_carveme_raw</td>\n",
       "            </tr><tr>\n",
       "                <td><strong>Memory address</strong></td>\n",
       "                <td>0x07f290ceda950</td>\n",
       "            </tr><tr>\n",
       "                <td><strong>Number of metabolites</strong></td>\n",
       "                <td>1574</td>\n",
       "            </tr><tr>\n",
       "                <td><strong>Number of reactions</strong></td>\n",
       "                <td>2389</td>\n",
       "            </tr><tr>\n",
       "                <td><strong>Number of groups</strong></td>\n",
       "                <td>0</td>\n",
       "            </tr><tr>\n",
       "                <td><strong>Objective expression</strong></td>\n",
       "                <td>1.0*Growth - 1.0*Growth_reverse_699ae</td>\n",
       "            </tr><tr>\n",
       "                <td><strong>Compartments</strong></td>\n",
       "                <td>cytosol, periplasm, extracellular space</td>\n",
       "            </tr>\n",
       "          </table>"
      ],
      "text/plain": [
       "<Model Ropacus_carveme_raw at 0x7f290ceda950>"
      ]
     },
     "execution_count": 76,
     "metadata": {},
     "output_type": "execute_result"
    }
   ],
   "source": [
    "print(len(model.genes))\n",
    "print(len(model.reactions))\n",
    "print(len(model.metabolites))\n",
    "print(len(set([m.id.rsplit('_',1)[0] for m in model.metabolites])))\n",
    "print(len(model.compartments))\n",
    "model"
   ]
  },
  {
   "cell_type": "code",
   "execution_count": 77,
   "metadata": {},
   "outputs": [],
   "source": [
    "model.id = 'Rt_IFO0880'\n",
    "model.name = 'Rt_IFO0880'\n",
    "model.description = 'R. toruloides IFO0880'"
   ]
  },
  {
   "cell_type": "markdown",
   "metadata": {},
   "source": [
    "update model meta info"
   ]
  },
  {
   "cell_type": "code",
   "execution_count": 78,
   "metadata": {},
   "outputs": [
    {
     "data": {
      "text/html": [
       "\n",
       "        <table>\n",
       "            <tr>\n",
       "                <td><strong>Name</strong></td>\n",
       "                <td>Rt_IFO0880</td>\n",
       "            </tr><tr>\n",
       "                <td><strong>Memory address</strong></td>\n",
       "                <td>0x07f290ceda950</td>\n",
       "            </tr><tr>\n",
       "                <td><strong>Number of metabolites</strong></td>\n",
       "                <td>1574</td>\n",
       "            </tr><tr>\n",
       "                <td><strong>Number of reactions</strong></td>\n",
       "                <td>2389</td>\n",
       "            </tr><tr>\n",
       "                <td><strong>Number of groups</strong></td>\n",
       "                <td>0</td>\n",
       "            </tr><tr>\n",
       "                <td><strong>Objective expression</strong></td>\n",
       "                <td>1.0*Growth - 1.0*Growth_reverse_699ae</td>\n",
       "            </tr><tr>\n",
       "                <td><strong>Compartments</strong></td>\n",
       "                <td>cytosol, periplasm, extracellular space</td>\n",
       "            </tr>\n",
       "          </table>"
      ],
      "text/plain": [
       "<Model Rt_IFO0880 at 0x7f290ceda950>"
      ]
     },
     "execution_count": 78,
     "metadata": {},
     "output_type": "execute_result"
    }
   ],
   "source": [
    "model"
   ]
  },
  {
   "cell_type": "code",
   "execution_count": null,
   "metadata": {},
   "outputs": [],
   "source": [
    "cobra.io.save_json_model(model, \"/Users/kimj972/Documents/Research/Rhodosporidium_toruloides/Metabolic_model/Rt_IFO0880.json\")"
   ]
  },
  {
   "cell_type": "code",
   "execution_count": null,
   "metadata": {},
   "outputs": [],
   "source": [
    "cobra.io.write_sbml_model(model, \"/Users/kimj972/Documents/Research/Rhodosporidium_toruloides/Metabolic_model/Rt_IFO0880.xml\")"
   ]
  },
  {
   "cell_type": "code",
   "execution_count": null,
   "metadata": {},
   "outputs": [],
   "source": [
    "cobra.io.save_matlab_model(model, \"/Users/kimj972/Documents/Research/Rhodosporidium_toruloides/Metabolic_model/Rt_IFO0880.mat\")"
   ]
  },
  {
   "cell_type": "markdown",
   "metadata": {},
   "source": [
    "Save model as json, sbml and matlab"
   ]
  },
  {
   "cell_type": "code",
   "execution_count": 80,
   "metadata": {},
   "outputs": [],
   "source": [
    "%%bash\n",
    "source activate python3_cobrapy\n",
    "cd /Users/kimj972/Documents/Research/Rhodosporidium_toruloides/Metabolic_model\n",
    "memote report snapshot --solver cplex Rt_IFO0880.xml\n",
    "mv index.html Rt_IFO0880.html"
   ]
  },
  {
   "cell_type": "markdown",
   "metadata": {},
   "source": [
    "open bash terminal <br>\n",
    "activate virtual environment <br>\n",
    "change directory <br>\n",
    "run memote using cplex on annotated model <br>\n",
    "change name of output to more appropriate name\n"
   ]
  },
  {
   "cell_type": "code",
   "execution_count": null,
   "metadata": {},
   "outputs": [],
   "source": []
  }
 ],
 "metadata": {
  "kernelspec": {
   "display_name": "biodesign_3.7",
   "language": "python",
   "name": "biod_3.7"
  },
  "language_info": {
   "codemirror_mode": {
    "name": "ipython",
    "version": 3
   },
   "file_extension": ".py",
   "mimetype": "text/x-python",
   "name": "python",
   "nbconvert_exporter": "python",
   "pygments_lexer": "ipython3",
   "version": "3.7.4"
  }
 },
 "nbformat": 4,
 "nbformat_minor": 4
}

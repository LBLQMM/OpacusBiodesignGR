{
 "cells": [
  {
   "cell_type": "markdown",
   "metadata": {},
   "source": [
    "## Flux comparions\n",
    "This notebook compares the predictions of the R. opacus PD630 GSM with the fluxes from 13C-metabolic flux analysis (13C-MFA)\n",
    "\n",
    "### Methods: \n",
    "<ol>\n",
    "<li></li>\n",
    "<li></li>\n",
    "</ol>"
   ]
  },
  {
   "cell_type": "markdown",
   "metadata": {},
   "source": [
    "### Imports"
   ]
  },
  {
   "cell_type": "code",
   "execution_count": 39,
   "metadata": {},
   "outputs": [],
   "source": [
    "%matplotlib inline\n",
    "from matplotlib import pyplot as plt\n",
    "import cobra\n",
    "import pandas as pd\n",
    "import numpy as np\n",
    "from edd_utils import login, export_study, export_metadata"
   ]
  },
  {
   "cell_type": "markdown",
   "metadata": {},
   "source": [
    "### Load model "
   ]
  },
  {
   "cell_type": "code",
   "execution_count": 2,
   "metadata": {},
   "outputs": [
    {
     "data": {
      "text/html": [
       "\n",
       "        <table>\n",
       "            <tr>\n",
       "                <td><strong>Name</strong></td>\n",
       "                <td>ropacus_annotated_curated</td>\n",
       "            </tr><tr>\n",
       "                <td><strong>Memory address</strong></td>\n",
       "                <td>0x07f2cbb3ca5d0</td>\n",
       "            </tr><tr>\n",
       "                <td><strong>Number of metabolites</strong></td>\n",
       "                <td>1583</td>\n",
       "            </tr><tr>\n",
       "                <td><strong>Number of reactions</strong></td>\n",
       "                <td>2385</td>\n",
       "            </tr><tr>\n",
       "                <td><strong>Number of groups</strong></td>\n",
       "                <td>0</td>\n",
       "            </tr><tr>\n",
       "                <td><strong>Objective expression</strong></td>\n",
       "                <td>1.0*Growth - 1.0*Growth_reverse_699ae</td>\n",
       "            </tr><tr>\n",
       "                <td><strong>Compartments</strong></td>\n",
       "                <td>cytosol, periplasm, extracellular space</td>\n",
       "            </tr>\n",
       "          </table>"
      ],
      "text/plain": [
       "<Model ropacus_annotated_curated at 0x7f2cbb3ca5d0>"
      ]
     },
     "execution_count": 2,
     "metadata": {},
     "output_type": "execute_result"
    }
   ],
   "source": [
    "model = cobra.io.read_sbml_model(\"../GSMs/Ropacus_annotated_curated_with_phenol_custom_biomass.xml\")\n",
    "model"
   ]
  },
  {
   "cell_type": "code",
   "execution_count": 3,
   "metadata": {},
   "outputs": [],
   "source": [
    "# edd_study_slug = 'input-test-study'\n",
    "# edd_server = 'public-edd.agilebiofoundry.org'\n",
    "# user= 'garrettroell'\n",
    "# session = login(edd_server=edd_server, user=user)\n",
    "# # df = utils.load_study(edd_study_slug=edd_study_slug,edd_server=edd_server,\n",
    "# #   default_to_system_user=False)"
   ]
  },
  {
   "cell_type": "code",
   "execution_count": 4,
   "metadata": {},
   "outputs": [],
   "source": [
    "# df = export_study(session, edd_study_slug, edd_server=edd_server)\n",
    "# df"
   ]
  },
  {
   "cell_type": "markdown",
   "metadata": {},
   "source": [
    "### Get 13C MFA measured fluxes for phenol"
   ]
  },
  {
   "cell_type": "code",
   "execution_count": 40,
   "metadata": {},
   "outputs": [
    {
     "data": {
      "text/html": [
       "<div>\n",
       "<style scoped>\n",
       "    .dataframe tbody tr th:only-of-type {\n",
       "        vertical-align: middle;\n",
       "    }\n",
       "\n",
       "    .dataframe tbody tr th {\n",
       "        vertical-align: top;\n",
       "    }\n",
       "\n",
       "    .dataframe thead th {\n",
       "        text-align: right;\n",
       "    }\n",
       "</style>\n",
       "<table border=\"1\" class=\"dataframe\">\n",
       "  <thead>\n",
       "    <tr style=\"text-align: right;\">\n",
       "      <th></th>\n",
       "      <th>Pathway</th>\n",
       "      <th>Forward Reactions</th>\n",
       "      <th>Reverse Reactions</th>\n",
       "      <th>Reversed?</th>\n",
       "      <th>Reaction</th>\n",
       "      <th>Flux</th>\n",
       "      <th>90% Confidence Lower Bound</th>\n",
       "      <th>90% Confidence Upper Bound</th>\n",
       "    </tr>\n",
       "  </thead>\n",
       "  <tbody>\n",
       "    <tr>\n",
       "      <th>0</th>\n",
       "      <td>Glucose Uptake</td>\n",
       "      <td>GLCpts</td>\n",
       "      <td>EX_glc__D_e_reverse_af641</td>\n",
       "      <td>NaN</td>\n",
       "      <td>Gluc.ext + ATP -&gt; G6P</td>\n",
       "      <td>100.00</td>\n",
       "      <td>100.00</td>\n",
       "      <td>100.00</td>\n",
       "    </tr>\n",
       "    <tr>\n",
       "      <th>1</th>\n",
       "      <td>Glycolysis</td>\n",
       "      <td>PGI</td>\n",
       "      <td>PPGKr or HEX1_reverse_25efa</td>\n",
       "      <td>False</td>\n",
       "      <td>G6P &lt;-&gt; F6P</td>\n",
       "      <td>-1.61</td>\n",
       "      <td>-2.09</td>\n",
       "      <td>1.42</td>\n",
       "    </tr>\n",
       "    <tr>\n",
       "      <th>2</th>\n",
       "      <td>Glycolysis</td>\n",
       "      <td>F6PA and DHAK</td>\n",
       "      <td>FBP_reverse_bf2c9 or PFK</td>\n",
       "      <td>NaN</td>\n",
       "      <td>F6P + ATP -&gt; FBP</td>\n",
       "      <td>0.00</td>\n",
       "      <td>0.00</td>\n",
       "      <td>1.91</td>\n",
       "    </tr>\n",
       "    <tr>\n",
       "      <th>3</th>\n",
       "      <td>Glycolysis</td>\n",
       "      <td>F6PA and DHAK</td>\n",
       "      <td>FBA_reverse_84806</td>\n",
       "      <td>False</td>\n",
       "      <td>FBP &lt;-&gt; DHAP + GAP</td>\n",
       "      <td>0.00</td>\n",
       "      <td>0.00</td>\n",
       "      <td>1.91</td>\n",
       "    </tr>\n",
       "    <tr>\n",
       "      <th>4</th>\n",
       "      <td>Glycolysis</td>\n",
       "      <td>TPI</td>\n",
       "      <td>TPI_reverse_c2c3b</td>\n",
       "      <td>False</td>\n",
       "      <td>DHAP &lt;-&gt; GAP</td>\n",
       "      <td>0.00</td>\n",
       "      <td>0.00</td>\n",
       "      <td>1.91</td>\n",
       "    </tr>\n",
       "    <tr>\n",
       "      <th>5</th>\n",
       "      <td>Glycolysis</td>\n",
       "      <td>GAPD and -1*PGK</td>\n",
       "      <td>GAPD_reverse_459c1 and PGK</td>\n",
       "      <td>NaN</td>\n",
       "      <td>GAP &lt;-&gt; 3PG + ATP + NADH</td>\n",
       "      <td>86.56</td>\n",
       "      <td>82.61</td>\n",
       "      <td>88.84</td>\n",
       "    </tr>\n",
       "    <tr>\n",
       "      <th>6</th>\n",
       "      <td>Glycolysis</td>\n",
       "      <td>( -1*PGM or PGM_1 ) and ENO</td>\n",
       "      <td>( PGM or PGM_1_reverse_02963 ) and ENO_reverse...</td>\n",
       "      <td>NaN</td>\n",
       "      <td>3PG &lt;-&gt; PEP</td>\n",
       "      <td>78.52</td>\n",
       "      <td>71.65</td>\n",
       "      <td>81.26</td>\n",
       "    </tr>\n",
       "    <tr>\n",
       "      <th>7</th>\n",
       "      <td>Glycolysis</td>\n",
       "      <td>-1*PPS or FRUpts2pp or SBTpts or MNLpts or ACG...</td>\n",
       "      <td>FRUpts2pp_reverse_55dac or SBTpts_reverse_74ed...</td>\n",
       "      <td>NaN</td>\n",
       "      <td>PEP &lt;-&gt; Pyr + ATP</td>\n",
       "      <td>19.02</td>\n",
       "      <td>-10.89</td>\n",
       "      <td>75.15</td>\n",
       "    </tr>\n",
       "  </tbody>\n",
       "</table>\n",
       "</div>"
      ],
      "text/plain": [
       "          Pathway                                  Forward Reactions  \\\n",
       "0  Glucose Uptake                                             GLCpts   \n",
       "1      Glycolysis                                                PGI   \n",
       "2      Glycolysis                                     F6PA and DHAK    \n",
       "3      Glycolysis                                     F6PA and DHAK    \n",
       "4      Glycolysis                                                TPI   \n",
       "5      Glycolysis                                    GAPD and -1*PGK   \n",
       "6      Glycolysis                        ( -1*PGM or PGM_1 ) and ENO   \n",
       "7      Glycolysis  -1*PPS or FRUpts2pp or SBTpts or MNLpts or ACG...   \n",
       "\n",
       "                                   Reverse Reactions Reversed?  \\\n",
       "0                          EX_glc__D_e_reverse_af641       NaN   \n",
       "1                        PPGKr or HEX1_reverse_25efa     False   \n",
       "2                           FBP_reverse_bf2c9 or PFK       NaN   \n",
       "3                                  FBA_reverse_84806     False   \n",
       "4                                  TPI_reverse_c2c3b     False   \n",
       "5                         GAPD_reverse_459c1 and PGK       NaN   \n",
       "6  ( PGM or PGM_1_reverse_02963 ) and ENO_reverse...       NaN   \n",
       "7  FRUpts2pp_reverse_55dac or SBTpts_reverse_74ed...       NaN   \n",
       "\n",
       "                   Reaction    Flux  90% Confidence Lower Bound  \\\n",
       "0     Gluc.ext + ATP -> G6P  100.00                      100.00   \n",
       "1               G6P <-> F6P   -1.61                       -2.09   \n",
       "2          F6P + ATP -> FBP    0.00                        0.00   \n",
       "3        FBP <-> DHAP + GAP    0.00                        0.00   \n",
       "4              DHAP <-> GAP    0.00                        0.00   \n",
       "5  GAP <-> 3PG + ATP + NADH   86.56                       82.61   \n",
       "6               3PG <-> PEP   78.52                       71.65   \n",
       "7         PEP <-> Pyr + ATP   19.02                      -10.89   \n",
       "\n",
       "   90% Confidence Upper Bound  \n",
       "0                      100.00  \n",
       "1                        1.42  \n",
       "2                        1.91  \n",
       "3                        1.91  \n",
       "4                        1.91  \n",
       "5                       88.84  \n",
       "6                       81.26  \n",
       "7                       75.15  "
      ]
     },
     "execution_count": 40,
     "metadata": {},
     "output_type": "execute_result"
    }
   ],
   "source": [
    "glucose_fluxes = pd.read_csv('../13C_flux_data/13C_glucose_flux_data_2.csv')\n",
    "test_df = glucose_fluxes[(glucose_fluxes['Pathway'] == 'Glucose Uptake') | (glucose_fluxes['Pathway'] == 'Glycolysis')]\n",
    "test_df"
   ]
  },
  {
   "cell_type": "markdown",
   "metadata": {},
   "source": [
    "### Run glucose flux FBA"
   ]
  },
  {
   "cell_type": "code",
   "execution_count": 55,
   "metadata": {},
   "outputs": [
    {
     "name": "stdout",
     "output_type": "stream",
     "text": [
      "<Solution 11.824 at 0x7f2d6fb9b610>\n"
     ]
    }
   ],
   "source": [
    "with model:\n",
    "    model.objective = 'Growth_Glucose'\n",
    "    medium = model.medium\n",
    "    medium = {key:1000 for (key,value) in model.medium.items()}\n",
    "    medium[\"EX_glc__D_e\"] = 100.0\n",
    "    medium[\"EX_phenol_e\"] = 0.0\n",
    "    model.medium = medium\n",
    "    solution = model.optimize()\n",
    "    \n",
    "print(solution)"
   ]
  },
  {
   "cell_type": "markdown",
   "metadata": {},
   "source": [
    "Define a function to get fluxes and adjust for if flux value should have sign change"
   ]
  },
  {
   "cell_type": "code",
   "execution_count": 63,
   "metadata": {},
   "outputs": [],
   "source": [
    "def get_flux_value(reaction_id, solution):\n",
    "    if reaction_id.startswith('-1*'):\n",
    "        reaction_id = reaction_id.split('-1*')[1]\n",
    "        return -1*solution.fluxes[reaction_id]\n",
    "    else:\n",
    "        return solution.fluxes[reaction_id]"
   ]
  },
  {
   "cell_type": "markdown",
   "metadata": {},
   "source": [
    "### Add Glucose FBA flux values to test_df \n",
    "\n",
    "###  Method\n",
    "For each reaction in the metabolic flux analysis find the corresponding genome scale flux. Or relations = parallel reactions. And reactions = sequential reactions.\n",
    "<ol>\n",
    "    <li>Split 'or' relations that can be summed together</li>\n",
    "    <li>For each 'and' relation find the minimum of the reactions and add that to the reaction flux</li>\n",
    "    <li>Append the summed flux value to the FBA_flux list</li>\n",
    "</ol>"
   ]
  },
  {
   "cell_type": "code",
   "execution_count": 65,
   "metadata": {},
   "outputs": [
    {
     "data": {
      "text/plain": [
       "[100.0,\n",
       " 96.74776287517679,\n",
       " 51.793544395534326,\n",
       " 51.793544395534326,\n",
       " 73.55886468395364,\n",
       " 152.4643564024877,\n",
       " 138.98979192547355,\n",
       " 131.8661196405389]"
      ]
     },
     "execution_count": 65,
     "metadata": {},
     "output_type": "execute_result"
    }
   ],
   "source": [
    "FBA_fluxes = []\n",
    "for _, row in test_df.iterrows():\n",
    "    reactions = row['Forward Reactions']\n",
    "    flux_value = 0\n",
    "    for x in [x.strip('() ') for x in reactions.split(' or ')]:\n",
    "        and_split = [y.strip('() ') for y in x.split(' and ')]\n",
    "#         print(and_split)\n",
    "#         fluxes = [get_flux_value(v, solution) for v in and_split]\n",
    "#         min_flux = min(fluxes)\n",
    "#         print(flux)\n",
    "#         print('min_flux:', min_flux)\n",
    "        flux_value += min([get_flux_value(v, solution) for v in and_split])\n",
    "    FBA_fluxes.append(flux_value)\n",
    "    \n",
    "FBA_fluxes\n",
    "\n",
    "# test_df['FBA Value'] = FBA_fluxes\n",
    "\n",
    "# test_df\n",
    "        \n",
    "        \n",
    "# temp.add(frozenset(y.strip('() ') for y in x.split(' and ')))\n",
    "\n",
    "\n",
    "#     for y in or_split:\n",
    "#         print([y.strip('() ') for y in or_split.split(' and ')])\n",
    "    \n",
    "#     print(row['Forward Reactions'])\n",
    "#     print(solution.fluxes[reaction_id])"
   ]
  },
  {
   "cell_type": "code",
   "execution_count": 66,
   "metadata": {},
   "outputs": [
    {
     "name": "stderr",
     "output_type": "stream",
     "text": [
      "/usr/local/share/jupyteruser/.pyenv/versions/biod_3.7/lib/python3.7/site-packages/ipykernel_launcher.py:1 \u001b[1;31mSettingWithCopyWarning\u001b[0m: \n",
      "A value is trying to be set on a copy of a slice from a DataFrame.\n",
      "Try using .loc[row_indexer,col_indexer] = value instead\n",
      "\n",
      "See the caveats in the documentation: http://pandas.pydata.org/pandas-docs/stable/user_guide/indexing.html#returning-a-view-versus-a-copy\n"
     ]
    },
    {
     "data": {
      "text/html": [
       "<div>\n",
       "<style scoped>\n",
       "    .dataframe tbody tr th:only-of-type {\n",
       "        vertical-align: middle;\n",
       "    }\n",
       "\n",
       "    .dataframe tbody tr th {\n",
       "        vertical-align: top;\n",
       "    }\n",
       "\n",
       "    .dataframe thead th {\n",
       "        text-align: right;\n",
       "    }\n",
       "</style>\n",
       "<table border=\"1\" class=\"dataframe\">\n",
       "  <thead>\n",
       "    <tr style=\"text-align: right;\">\n",
       "      <th></th>\n",
       "      <th>Pathway</th>\n",
       "      <th>Forward Reactions</th>\n",
       "      <th>Reverse Reactions</th>\n",
       "      <th>Reversed?</th>\n",
       "      <th>Reaction</th>\n",
       "      <th>Flux</th>\n",
       "      <th>90% Confidence Lower Bound</th>\n",
       "      <th>90% Confidence Upper Bound</th>\n",
       "      <th>FBA Value</th>\n",
       "    </tr>\n",
       "  </thead>\n",
       "  <tbody>\n",
       "    <tr>\n",
       "      <th>0</th>\n",
       "      <td>Glucose Uptake</td>\n",
       "      <td>GLCpts</td>\n",
       "      <td>EX_glc__D_e_reverse_af641</td>\n",
       "      <td>NaN</td>\n",
       "      <td>Gluc.ext + ATP -&gt; G6P</td>\n",
       "      <td>100.00</td>\n",
       "      <td>100.00</td>\n",
       "      <td>100.00</td>\n",
       "      <td>100.000000</td>\n",
       "    </tr>\n",
       "    <tr>\n",
       "      <th>1</th>\n",
       "      <td>Glycolysis</td>\n",
       "      <td>PGI</td>\n",
       "      <td>PPGKr or HEX1_reverse_25efa</td>\n",
       "      <td>False</td>\n",
       "      <td>G6P &lt;-&gt; F6P</td>\n",
       "      <td>-1.61</td>\n",
       "      <td>-2.09</td>\n",
       "      <td>1.42</td>\n",
       "      <td>96.747763</td>\n",
       "    </tr>\n",
       "    <tr>\n",
       "      <th>2</th>\n",
       "      <td>Glycolysis</td>\n",
       "      <td>F6PA and DHAK</td>\n",
       "      <td>FBP_reverse_bf2c9 or PFK</td>\n",
       "      <td>NaN</td>\n",
       "      <td>F6P + ATP -&gt; FBP</td>\n",
       "      <td>0.00</td>\n",
       "      <td>0.00</td>\n",
       "      <td>1.91</td>\n",
       "      <td>51.793544</td>\n",
       "    </tr>\n",
       "    <tr>\n",
       "      <th>3</th>\n",
       "      <td>Glycolysis</td>\n",
       "      <td>F6PA and DHAK</td>\n",
       "      <td>FBA_reverse_84806</td>\n",
       "      <td>False</td>\n",
       "      <td>FBP &lt;-&gt; DHAP + GAP</td>\n",
       "      <td>0.00</td>\n",
       "      <td>0.00</td>\n",
       "      <td>1.91</td>\n",
       "      <td>51.793544</td>\n",
       "    </tr>\n",
       "    <tr>\n",
       "      <th>4</th>\n",
       "      <td>Glycolysis</td>\n",
       "      <td>TPI</td>\n",
       "      <td>TPI_reverse_c2c3b</td>\n",
       "      <td>False</td>\n",
       "      <td>DHAP &lt;-&gt; GAP</td>\n",
       "      <td>0.00</td>\n",
       "      <td>0.00</td>\n",
       "      <td>1.91</td>\n",
       "      <td>73.558865</td>\n",
       "    </tr>\n",
       "    <tr>\n",
       "      <th>5</th>\n",
       "      <td>Glycolysis</td>\n",
       "      <td>GAPD and -1*PGK</td>\n",
       "      <td>GAPD_reverse_459c1 and PGK</td>\n",
       "      <td>NaN</td>\n",
       "      <td>GAP &lt;-&gt; 3PG + ATP + NADH</td>\n",
       "      <td>86.56</td>\n",
       "      <td>82.61</td>\n",
       "      <td>88.84</td>\n",
       "      <td>152.464356</td>\n",
       "    </tr>\n",
       "    <tr>\n",
       "      <th>6</th>\n",
       "      <td>Glycolysis</td>\n",
       "      <td>( -1*PGM or PGM_1 ) and ENO</td>\n",
       "      <td>( PGM or PGM_1_reverse_02963 ) and ENO_reverse...</td>\n",
       "      <td>NaN</td>\n",
       "      <td>3PG &lt;-&gt; PEP</td>\n",
       "      <td>78.52</td>\n",
       "      <td>71.65</td>\n",
       "      <td>81.26</td>\n",
       "      <td>138.989792</td>\n",
       "    </tr>\n",
       "    <tr>\n",
       "      <th>7</th>\n",
       "      <td>Glycolysis</td>\n",
       "      <td>-1*PPS or FRUpts2pp or SBTpts or MNLpts or ACG...</td>\n",
       "      <td>FRUpts2pp_reverse_55dac or SBTpts_reverse_74ed...</td>\n",
       "      <td>NaN</td>\n",
       "      <td>PEP &lt;-&gt; Pyr + ATP</td>\n",
       "      <td>19.02</td>\n",
       "      <td>-10.89</td>\n",
       "      <td>75.15</td>\n",
       "      <td>131.866120</td>\n",
       "    </tr>\n",
       "  </tbody>\n",
       "</table>\n",
       "</div>"
      ],
      "text/plain": [
       "          Pathway                                  Forward Reactions  \\\n",
       "0  Glucose Uptake                                             GLCpts   \n",
       "1      Glycolysis                                                PGI   \n",
       "2      Glycolysis                                     F6PA and DHAK    \n",
       "3      Glycolysis                                     F6PA and DHAK    \n",
       "4      Glycolysis                                                TPI   \n",
       "5      Glycolysis                                    GAPD and -1*PGK   \n",
       "6      Glycolysis                        ( -1*PGM or PGM_1 ) and ENO   \n",
       "7      Glycolysis  -1*PPS or FRUpts2pp or SBTpts or MNLpts or ACG...   \n",
       "\n",
       "                                   Reverse Reactions Reversed?  \\\n",
       "0                          EX_glc__D_e_reverse_af641       NaN   \n",
       "1                        PPGKr or HEX1_reverse_25efa     False   \n",
       "2                           FBP_reverse_bf2c9 or PFK       NaN   \n",
       "3                                  FBA_reverse_84806     False   \n",
       "4                                  TPI_reverse_c2c3b     False   \n",
       "5                         GAPD_reverse_459c1 and PGK       NaN   \n",
       "6  ( PGM or PGM_1_reverse_02963 ) and ENO_reverse...       NaN   \n",
       "7  FRUpts2pp_reverse_55dac or SBTpts_reverse_74ed...       NaN   \n",
       "\n",
       "                   Reaction    Flux  90% Confidence Lower Bound  \\\n",
       "0     Gluc.ext + ATP -> G6P  100.00                      100.00   \n",
       "1               G6P <-> F6P   -1.61                       -2.09   \n",
       "2          F6P + ATP -> FBP    0.00                        0.00   \n",
       "3        FBP <-> DHAP + GAP    0.00                        0.00   \n",
       "4              DHAP <-> GAP    0.00                        0.00   \n",
       "5  GAP <-> 3PG + ATP + NADH   86.56                       82.61   \n",
       "6               3PG <-> PEP   78.52                       71.65   \n",
       "7         PEP <-> Pyr + ATP   19.02                      -10.89   \n",
       "\n",
       "   90% Confidence Upper Bound   FBA Value  \n",
       "0                      100.00  100.000000  \n",
       "1                        1.42   96.747763  \n",
       "2                        1.91   51.793544  \n",
       "3                        1.91   51.793544  \n",
       "4                        1.91   73.558865  \n",
       "5                       88.84  152.464356  \n",
       "6                       81.26  138.989792  \n",
       "7                       75.15  131.866120  "
      ]
     },
     "execution_count": 66,
     "metadata": {},
     "output_type": "execute_result"
    }
   ],
   "source": [
    "test_df['FBA Value'] = FBA_fluxes\n",
    "test_df"
   ]
  },
  {
   "cell_type": "code",
   "execution_count": null,
   "metadata": {},
   "outputs": [],
   "source": []
  },
  {
   "cell_type": "code",
   "execution_count": null,
   "metadata": {},
   "outputs": [],
   "source": []
  },
  {
   "cell_type": "code",
   "execution_count": null,
   "metadata": {},
   "outputs": [],
   "source": []
  },
  {
   "cell_type": "code",
   "execution_count": null,
   "metadata": {},
   "outputs": [],
   "source": []
  },
  {
   "cell_type": "code",
   "execution_count": null,
   "metadata": {},
   "outputs": [],
   "source": []
  },
  {
   "cell_type": "code",
   "execution_count": null,
   "metadata": {},
   "outputs": [],
   "source": []
  },
  {
   "cell_type": "markdown",
   "metadata": {},
   "source": [
    "### Get 13C MFA measured fluxes"
   ]
  },
  {
   "cell_type": "code",
   "execution_count": null,
   "metadata": {},
   "outputs": [],
   "source": [
    "glucose_flux_path = \"../13C_flux_data/13C_glucose_flux_data.csv\"\n",
    "measured_glucose_df = pd.read_csv(glucose_flux_path)\n",
    "measured_glucose_df"
   ]
  },
  {
   "cell_type": "markdown",
   "metadata": {},
   "source": [
    "Eliminate all rows that do not have a defined reactionID"
   ]
  },
  {
   "cell_type": "code",
   "execution_count": null,
   "metadata": {},
   "outputs": [],
   "source": [
    "measured_glucose_df = measured_glucose_df[~pd.isnull(measured_glucose_df['Reaction ID'])]\n",
    "measured_glucose_df"
   ]
  },
  {
   "cell_type": "code",
   "execution_count": null,
   "metadata": {},
   "outputs": [],
   "source": [
    "measured_flux_dict = {}\n",
    "measured_reaction_ids = list(measured_glucose_df['Reaction ID'])\n",
    "for reaction_id in measured_reaction_ids:\n",
    "#     print(measured_glucose_df[measured_glucose_df['Reaction ID'] == reaction_id]['Reversed?'].values[0])\n",
    "    measured_flux = measured_glucose_df[measured_glucose_df['Reaction ID'] == reaction_id]['Flux'].values[0] / 10\n",
    "#     if measured_glucose_df[measured_glucose_df['Reaction ID'] == reaction_id]['Reversed?'].values[0]:\n",
    "#         measured_flux = -1 * measured_flux\n",
    "    measured_flux_dict[reaction_id] = measured_flux\n",
    "measured_flux_dict"
   ]
  },
  {
   "cell_type": "markdown",
   "metadata": {},
   "source": [
    "### Get FBA simulated fluxes"
   ]
  },
  {
   "cell_type": "code",
   "execution_count": null,
   "metadata": {},
   "outputs": [],
   "source": [
    "simulated_flux_dict = {}\n",
    "measured_reaction_ids = list(measured_glucose_df['Reaction ID'])\n",
    "for reaction_id in measured_reaction_ids:\n",
    "    simulated_flux_dict[reaction_id] = solution.fluxes[reaction_id]\n",
    "\n",
    "simulated_flux_dict"
   ]
  },
  {
   "cell_type": "markdown",
   "metadata": {},
   "source": [
    "### Plot FBA vs measured fluxes"
   ]
  },
  {
   "cell_type": "code",
   "execution_count": null,
   "metadata": {},
   "outputs": [],
   "source": [
    "measured_flux_list = list(measured_flux_dict.values())\n",
    "simulated_flux_list = list(simulated_flux_dict.values())\n",
    "labels = list(measured_flux_dict.keys())\n",
    "\n",
    "fig, ax = plt.subplots(figsize=(8, 8))\n",
    "ax.scatter(measured_flux_list, simulated_flux_list)\n",
    "# ax.plot(ax.get_xlim(), ax.get_ylim(), ls=\"--\", c=\".3\")\n",
    "x = np.linspace(*ax.get_xlim())\n",
    "ax.plot(x, x, ls=\"--\", c=\".3\")\n",
    "for i in range(len(labels)):\n",
    "    xy = (measured_flux_list[i]+.1,simulated_flux_list[i]+.1)\n",
    "    ax.annotate(labels[i],xy)\n",
    "plt.title(r'R. opacus 13C MFA vs FBA Fluxes', fontSize=20)\n",
    "plt.xlabel(r'13C MFA flux measurement (mmol/gDW/h)')\n",
    "plt.ylabel(r'FBA flux prediction (mmol/gDW/h)')\n",
    "plt.show()"
   ]
  },
  {
   "cell_type": "markdown",
   "metadata": {},
   "source": [
    "### Simulate with pfba"
   ]
  },
  {
   "cell_type": "code",
   "execution_count": null,
   "metadata": {},
   "outputs": [],
   "source": [
    "pfba_solution = cobra.flux_analysis.pfba(model)\n",
    "len(pfba_solution.fluxes)"
   ]
  },
  {
   "cell_type": "code",
   "execution_count": null,
   "metadata": {},
   "outputs": [],
   "source": [
    "pfba_flux_dict = {}\n",
    "measured_reaction_ids = list(measured_glucose_df['Reaction ID'])\n",
    "for reaction_id in measured_reaction_ids:\n",
    "    pfba_flux_dict[reaction_id] = pfba_solution.fluxes[reaction_id]\n",
    "\n",
    "pfba_flux_dict"
   ]
  },
  {
   "cell_type": "code",
   "execution_count": null,
   "metadata": {},
   "outputs": [],
   "source": [
    "measured_flux_list = list(measured_flux_dict.values())\n",
    "simulated_flux_list = list(pfba_flux_dict.values())\n",
    "labels = list(measured_flux_dict.keys())\n",
    "\n",
    "fig, ax = plt.subplots(figsize=(8, 8))\n",
    "ax.scatter(measured_flux_list, simulated_flux_list)\n",
    "x = np.linspace(*ax.get_xlim())\n",
    "ax.plot(x, x, ls=\"--\", c=\".3\")\n",
    "for i in range(len(labels)):\n",
    "    xy = (measured_flux_list[i]+.1,simulated_flux_list[i]+.1)\n",
    "    ax.annotate(labels[i],xy)\n",
    "plt.title(r'R. opacus 13C MFA vs FBA Fluxes', fontSize=20)\n",
    "plt.xlabel(r'13C MFA flux measurement (mmol/gDW/h)')\n",
    "plt.ylabel(r'pFBA flux prediction (mmol/gDW/h)')\n",
    "plt.show()"
   ]
  },
  {
   "cell_type": "markdown",
   "metadata": {},
   "source": [
    "### Simulate with geometric FBA"
   ]
  },
  {
   "cell_type": "code",
   "execution_count": null,
   "metadata": {},
   "outputs": [],
   "source": [
    "# geometric_fba_sol = cobra.flux_analysis.geometric_fba(model)\n",
    "# len(geometric_fba_sol.fluxes)"
   ]
  },
  {
   "cell_type": "code",
   "execution_count": null,
   "metadata": {},
   "outputs": [],
   "source": [
    "for r in model.metabolites.get_by_id('mal__L_c').reactions:\n",
    "    print(r.name, r)"
   ]
  },
  {
   "cell_type": "code",
   "execution_count": null,
   "metadata": {},
   "outputs": [],
   "source": []
  },
  {
   "cell_type": "code",
   "execution_count": null,
   "metadata": {},
   "outputs": [],
   "source": []
  }
 ],
 "metadata": {
  "kernelspec": {
   "display_name": "biodesign_3.7",
   "language": "python",
   "name": "biod_3.7"
  },
  "language_info": {
   "codemirror_mode": {
    "name": "ipython",
    "version": 3
   },
   "file_extension": ".py",
   "mimetype": "text/x-python",
   "name": "python",
   "nbconvert_exporter": "python",
   "pygments_lexer": "ipython3",
   "version": "3.7.4"
  }
 },
 "nbformat": 4,
 "nbformat_minor": 4
}

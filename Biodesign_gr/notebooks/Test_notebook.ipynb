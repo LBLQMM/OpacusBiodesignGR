{
 "cells": [
  {
   "cell_type": "code",
   "execution_count": 1,
   "id": "fresh-utilization",
   "metadata": {},
   "outputs": [],
   "source": [
    "import cobra\n",
    "import pandas as pd"
   ]
  },
  {
   "cell_type": "code",
   "execution_count": 11,
   "id": "great-prerequisite",
   "metadata": {},
   "outputs": [],
   "source": [
    "model = cobra.io.read_sbml_model(\"../GSMs/Ropacus_annotated_curated_with_phenol_custom_biomass.xml\")"
   ]
  },
  {
   "cell_type": "code",
   "execution_count": 3,
   "id": "clinical-trance",
   "metadata": {},
   "outputs": [
    {
     "output_type": "execute_result",
     "data": {
      "text/plain": [
       "<Model ropacus_annotated_curated at 0x133256550>"
      ],
      "text/html": "\n        <table>\n            <tr>\n                <td><strong>Name</strong></td>\n                <td>ropacus_annotated_curated</td>\n            </tr><tr>\n                <td><strong>Memory address</strong></td>\n                <td>0x0133256550</td>\n            </tr><tr>\n                <td><strong>Number of metabolites</strong></td>\n                <td>1583</td>\n            </tr><tr>\n                <td><strong>Number of reactions</strong></td>\n                <td>2383</td>\n            </tr><tr>\n                <td><strong>Number of groups</strong></td>\n                <td>0</td>\n            </tr><tr>\n                <td><strong>Objective expression</strong></td>\n                <td>1.0*Growth - 1.0*Growth_reverse_699ae</td>\n            </tr><tr>\n                <td><strong>Compartments</strong></td>\n                <td>cytosol, periplasm, extracellular space</td>\n            </tr>\n          </table>"
     },
     "metadata": {},
     "execution_count": 3
    }
   ],
   "source": [
    "model"
   ]
  },
  {
   "cell_type": "code",
   "execution_count": 4,
   "metadata": {},
   "outputs": [
    {
     "output_type": "execute_result",
     "data": {
      "text/plain": [
       "      Pathway                                  Forward Reactions  \\\n",
       "1  Glycolysis                        PPGKr_reverse_3b2cc or HEX1   \n",
       "2  Glycolysis                           FBP or PFK_reverse_d24a6   \n",
       "3  Glycolysis                                                FBA   \n",
       "4  Glycolysis                                                TPI   \n",
       "5  Glycolysis                         GAPD and PGK_reverse_02696   \n",
       "6  Glycolysis             ( PGM_1 or PGM_reverse_fc9af ) and ENO   \n",
       "7  Glycolysis  FRUpts2pp or SBTpts or MNLpts or ACGApts or FR...   \n",
       "\n",
       "                                   Reverse Reactions Reversed?  \\\n",
       "1                        PPGKr or HEX1_reverse_25efa     False   \n",
       "2                           FBP_reverse_bf2c9 or PFK       NaN   \n",
       "3                                  FBA_reverse_84806     False   \n",
       "4                                  TPI_reverse_c2c3b     False   \n",
       "5                         GAPD_reverse_459c1 and PGK       NaN   \n",
       "6  ( PGM or PGM_1_reverse_02963 ) and ENO_reverse...       NaN   \n",
       "7  FRUpts2pp_reverse_55dac or SBTpts_reverse_74ed...       NaN   \n",
       "\n",
       "                   Reaction   Flux  90% Confidence Lower Bound  \\\n",
       "1               G6P <-> F6P  -1.61                       -2.09   \n",
       "2          F6P + ATP -> FBP   0.00                        0.00   \n",
       "3        FBP <-> DHAP + GAP   0.00                        0.00   \n",
       "4              DHAP <-> GAP   0.00                        0.00   \n",
       "5  GAP <-> 3PG + ATP + NADH  86.56                       82.61   \n",
       "6               3PG <-> PEP  78.52                       71.65   \n",
       "7         PEP <-> Pyr + ATP  19.02                      -10.89   \n",
       "\n",
       "   90% Confidence Upper Bound   \\  \n",
       "1                        1.42 NaN  \n",
       "2                        1.91 NaN  \n",
       "3                        1.91 NaN  \n",
       "4                        1.91 NaN  \n",
       "5                       88.84 NaN  \n",
       "6                       81.26 NaN  \n",
       "7                       75.15 NaN  "
      ],
      "text/html": "<div>\n<style scoped>\n    .dataframe tbody tr th:only-of-type {\n        vertical-align: middle;\n    }\n\n    .dataframe tbody tr th {\n        vertical-align: top;\n    }\n\n    .dataframe thead th {\n        text-align: right;\n    }\n</style>\n<table border=\"1\" class=\"dataframe\">\n  <thead>\n    <tr style=\"text-align: right;\">\n      <th></th>\n      <th>Pathway</th>\n      <th>Forward Reactions</th>\n      <th>Reverse Reactions</th>\n      <th>Reversed?</th>\n      <th>Reaction</th>\n      <th>Flux</th>\n      <th>90% Confidence Lower Bound</th>\n      <th>90% Confidence Upper Bound</th>\n      <th>\\</th>\n    </tr>\n  </thead>\n  <tbody>\n    <tr>\n      <th>1</th>\n      <td>Glycolysis</td>\n      <td>PPGKr_reverse_3b2cc or HEX1</td>\n      <td>PPGKr or HEX1_reverse_25efa</td>\n      <td>False</td>\n      <td>G6P &lt;-&gt; F6P</td>\n      <td>-1.61</td>\n      <td>-2.09</td>\n      <td>1.42</td>\n      <td>NaN</td>\n    </tr>\n    <tr>\n      <th>2</th>\n      <td>Glycolysis</td>\n      <td>FBP or PFK_reverse_d24a6</td>\n      <td>FBP_reverse_bf2c9 or PFK</td>\n      <td>NaN</td>\n      <td>F6P + ATP -&gt; FBP</td>\n      <td>0.00</td>\n      <td>0.00</td>\n      <td>1.91</td>\n      <td>NaN</td>\n    </tr>\n    <tr>\n      <th>3</th>\n      <td>Glycolysis</td>\n      <td>FBA</td>\n      <td>FBA_reverse_84806</td>\n      <td>False</td>\n      <td>FBP &lt;-&gt; DHAP + GAP</td>\n      <td>0.00</td>\n      <td>0.00</td>\n      <td>1.91</td>\n      <td>NaN</td>\n    </tr>\n    <tr>\n      <th>4</th>\n      <td>Glycolysis</td>\n      <td>TPI</td>\n      <td>TPI_reverse_c2c3b</td>\n      <td>False</td>\n      <td>DHAP &lt;-&gt; GAP</td>\n      <td>0.00</td>\n      <td>0.00</td>\n      <td>1.91</td>\n      <td>NaN</td>\n    </tr>\n    <tr>\n      <th>5</th>\n      <td>Glycolysis</td>\n      <td>GAPD and PGK_reverse_02696</td>\n      <td>GAPD_reverse_459c1 and PGK</td>\n      <td>NaN</td>\n      <td>GAP &lt;-&gt; 3PG + ATP + NADH</td>\n      <td>86.56</td>\n      <td>82.61</td>\n      <td>88.84</td>\n      <td>NaN</td>\n    </tr>\n    <tr>\n      <th>6</th>\n      <td>Glycolysis</td>\n      <td>( PGM_1 or PGM_reverse_fc9af ) and ENO</td>\n      <td>( PGM or PGM_1_reverse_02963 ) and ENO_reverse...</td>\n      <td>NaN</td>\n      <td>3PG &lt;-&gt; PEP</td>\n      <td>78.52</td>\n      <td>71.65</td>\n      <td>81.26</td>\n      <td>NaN</td>\n    </tr>\n    <tr>\n      <th>7</th>\n      <td>Glycolysis</td>\n      <td>FRUpts2pp or SBTpts or MNLpts or ACGApts or FR...</td>\n      <td>FRUpts2pp_reverse_55dac or SBTpts_reverse_74ed...</td>\n      <td>NaN</td>\n      <td>PEP &lt;-&gt; Pyr + ATP</td>\n      <td>19.02</td>\n      <td>-10.89</td>\n      <td>75.15</td>\n      <td>NaN</td>\n    </tr>\n  </tbody>\n</table>\n</div>"
     },
     "metadata": {},
     "execution_count": 4
    }
   ],
   "source": [
    "glucose_fluxes = pd.read_csv('../13C_flux_data/13C_glucose_flux_data.csv')\n",
    "glycolysis_fluxes = glucose_fluxes[glucose_fluxes['Pathway'] == 'Glycolysis']\n",
    "glycolysis_fluxes"
   ]
  },
  {
   "cell_type": "code",
   "execution_count": 7,
   "metadata": {},
   "outputs": [
    {
     "output_type": "execute_result",
     "data": {
      "text/plain": [
       "frozenset({<Reaction BG_CELLB at 0x133ccb810>,\n",
       "           <Reaction BG_MADG at 0x133cd2410>,\n",
       "           <Reaction BG_MBDG at 0x133cd9ad0>,\n",
       "           <Reaction EX_glc__D_e at 0x134c43890>,\n",
       "           <Reaction GLCabc at 0x134212e10>,\n",
       "           <Reaction GLCpts at 0x134220d50>,\n",
       "           <Reaction GLCtex at 0x134232b10>})"
      ]
     },
     "metadata": {},
     "execution_count": 7
    }
   ],
   "source": [
    "model.metabolites.get_by_id('glc__D_e').reactions\n",
    "\n",
    "# print(met_1)\n",
    "\n",
    "# for r in model.metabolites.get_by_id('glc__D_e').reactions:\n",
    "#     print(r)"
   ]
  },
  {
   "cell_type": "code",
   "execution_count": 12,
   "metadata": {},
   "outputs": [
    {
     "output_type": "stream",
     "name": "stdout",
     "text": [
      "<Solution 0.793 at 0x139ab6290>\n"
     ]
    }
   ],
   "source": [
    "with model:\n",
    "    model.objective = 'Growth_Glucose'\n",
    "    medium = model.medium\n",
    "    medium[\"EX_glc__D_e\"] = 10.0\n",
    "    model.medium = medium\n",
    "    solution = model.optimize()\n",
    "    \n",
    "print(solution)"
   ]
  },
  {
   "cell_type": "code",
   "execution_count": 13,
   "metadata": {},
   "outputs": [
    {
     "output_type": "stream",
     "name": "stdout",
     "text": [
      "0.0 BG_MADG: h2o_e + madg_e --> glc__D_e + meoh_e\n10.0 GLCpts: glc__D_e + pep_c --> g6p_c + pyr_c\n0.0 BG_MBDG: h2o_e + mbdg_e --> glc__D_e + meoh_e\n0.0 GLCabc: atp_c + glc__D_e + h2o_c --> adp_c + glc__D_c + h_c + pi_c\n0.0 GLCtex: glc__D_e <=> glc__D_p\n0.0 BG_CELLB: cellb_e + h2o_e --> 2.0 glc__D_e\n-10.0 EX_glc__D_e: glc__D_e <=> \n"
     ]
    }
   ],
   "source": [
    "for r in model.metabolites.get_by_id('glc__D_e').reactions:\n",
    "    print(f'{solution.fluxes[r.id]:.2f}', r)"
   ]
  },
  {
   "cell_type": "code",
   "execution_count": 14,
   "metadata": {},
   "outputs": [
    {
     "output_type": "stream",
     "name": "stdout",
     "text": [
      "0.0 AB6PGH: arbt6p_c + h2o_c --> g6p_c + hqn_c\n9.781806902332953 PGI: g6p_c <=> f6p_c\n0.0 PPGKr: glc__D_c + pi_c <-- g6p_c + h2o_c\n10.0 GLCpts: glc__D_e + pep_c --> g6p_c + pyr_c\n0.0 FFSD: h2o_c + suc6p_c --> fru_c + g6p_c\n0.0 MI1PS: g6p_c --> mi1p__D_c\n0.0 TRE6PS: g6p_c + udpg_c --> h_c + tre6p_c + udp_c\n0.0 G6PDH2r: g6p_c + nadp_c <=> 6pgl_c + h_c + nadph_c\n-0.2181930976670478 PGMT: g1p_c <=> g6p_c\n0.0 S6PG: h2o_c + salcn6p_c --> 2hxmp_c + g6p_c\n0.0 HEX1: atp_c + glc__D_c --> adp_c + g6p_c + h_c\n0.0 MAL6PG: h2o_c + malt6p_c --> g6p_c + glc__D_c\n0.0 GLCptspp: glc__D_p + pep_c --> g6p_c + pyr_c\n"
     ]
    }
   ],
   "source": [
    "for r in model.metabolites.get_by_id('g6p_c').reactions:\n",
    "    print(f'{solution.fluxes[r.id]:.2f}', r)"
   ]
  },
  {
   "cell_type": "code",
   "execution_count": 15,
   "metadata": {},
   "outputs": [
    {
     "output_type": "stream",
     "name": "stdout",
     "text": [
      "0.368716341469047 GF6PTA: f6p_c + gln__L_c --> gam6p_c + glu__L_c\n0.0 MAN6PI: man6p_c <=> f6p_c\n9.781806902332953 PGI: g6p_c <=> f6p_c\n0.0 M1PD: mnl1p_c + nad_c <=> f6p_c + h_c + nadh_c\n0.0 FBP: fdp_c + h2o_c --> f6p_c + pi_c\n0.0 FRUpts2pp: fru_p + pep_c --> f6p_c + pyr_c\n-0.34486579108111914 TKT2: e4p_c + xu5p__D_c <=> f6p_c + g3p_c\n0.0 G6PDA: gam6p_c + h2o_c --> f6p_c + nh4_c\n0.0 PFK: atp_c + f6p_c --> adp_c + fdp_c + h_c\n0.0 SBTPD: nad_c + sbt6p_c <=> f6p_c + h_c + nadh_c\n-0.16450046680266062 TALA: g3p_c + s7p_c <=> e4p_c + f6p_c\n8.903724302980127 F6PA: f6p_c <=> dha_c + g3p_c\n0.0 FRUpts2: fru_e + pep_c --> f6p_c + pyr_c\n0.0 HEX7: atp_c + fru_c --> adp_c + f6p_c + h_c\n"
     ]
    }
   ],
   "source": [
    "for r in model.metabolites.get_by_id('f6p_c').reactions:\n",
    "    print(f'{solution.fluxes[r.id]:.2f}', r)"
   ]
  },
  {
   "cell_type": "code",
   "execution_count": 16,
   "metadata": {},
   "outputs": [
    {
     "output_type": "stream",
     "name": "stdout",
     "text": [
      "0.0 DHAPT: dha_c + pep_c --> dhap_c + pyr_c\n8.903724302980127 DHAK: atp_c + dha_c --> adp_c + dhap_c + h_c\n8.903724302980127 F6PA: f6p_c <=> dha_c + g3p_c\n"
     ]
    }
   ],
   "source": [
    "for r in model.metabolites.get_by_id('dha_c').reactions:\n",
    "    print(f'{solution.fluxes[r.id]:.2f}', r)"
   ]
  },
  {
   "cell_type": "code",
   "execution_count": 17,
   "metadata": {},
   "outputs": [
    {
     "output_type": "stream",
     "name": "stdout",
     "text": [
      "-0.6759094244970617 G3PD1: glyc3p_c + nad_c <=> dhap_c + h_c + nadh_c\n8.226060093709998 TPI: dhap_c <=> g3p_c\n0.0 FBA3: s17bp_c <=> dhap_c + e4p_c\n0.0 RMPA: rml1p_c <=> dhap_c + lald__L_c\n0.0 DHAPT: dha_c + pep_c --> dhap_c + pyr_c\n0.0 FBA2: f1p_c <=> dhap_c + glyald_c\n0.0 FBA: fdp_c <=> dhap_c + g3p_c\n0.0017547847730654406 QULNS: dhap_c + iasp_c --> 2.0 h2o_c + pi_c + quln_c\n0.0 TGBPA: tagdp__D_c <=> dhap_c + g3p_c\n0.0 MGSA: dhap_c --> mthgxl_c + pi_c\n8.903724302980127 DHAK: atp_c + dha_c --> adp_c + dhap_c + h_c\n0.0 INSCR: 2ins_c + atp_c --> adp_c + dhap_c + 2.0 h_c + msa_c\n"
     ]
    }
   ],
   "source": [
    "for r in model.metabolites.get_by_id('dhap_c').reactions:\n",
    "    print(f'{solution.fluxes[r.id]:.2f}', r)"
   ]
  },
  {
   "cell_type": "code",
   "execution_count": 18,
   "metadata": {},
   "outputs": [
    {
     "output_type": "stream",
     "name": "stdout",
     "text": [
      "0.0 DRPA: 2dr5p_c --> acald_c + g3p_c\n0.0 TRPS3: 3ig3p_c --> g3p_c + indole_c\n0.0007869559199277294 DXPS: g3p_c + h_c + pyr_c --> co2_c + dxyl5p_c\n16.81082623189666 GAPD: g3p_c + nad_c + pi_c <=> 13dpg_c + h_c + nadh_c\n-0.16450046680266062 TKT1: r5p_c + xu5p__D_c <=> g3p_c + s7p_c\n8.226060093709998 TPI: dhap_c <=> g3p_c\n0.00017135330514555394 PLPS: g3p_c + gln__L_c + r5p_c --> glu__L_c + 3.0 h2o_c + h_c + pi_c + pydx5p_c\n-0.34486579108111914 TKT2: e4p_c + xu5p__D_c <=> f6p_c + g3p_c\n0.0 FBA: fdp_c <=> dhap_c + g3p_c\n0.0 EDA: 2ddg6p_c --> g3p_c + pyr_c\n-0.16450046680266062 TALA: g3p_c + s7p_c <=> e4p_c + f6p_c\n0.0 TGBPA: tagdp__D_c <=> dhap_c + g3p_c\n0.02686593551272348 TRPS1: 3ig3p_c + ser__L_c --> g3p_c + h2o_c + trp__L_c\n8.903724302980127 F6PA: f6p_c <=> dha_c + g3p_c\n0.0 DDPGALA: 2dh3dgal6p_c <=> g3p_c + pyr_c\n"
     ]
    }
   ],
   "source": [
    "for r in model.metabolites.get_by_id('g3p_c').reactions:\n",
    "    print(f'{solution.fluxes[r.id]:.2f}', r)"
   ]
  },
  {
   "cell_type": "code",
   "execution_count": 20,
   "metadata": {},
   "outputs": [
    {
     "output_type": "stream",
     "name": "stdout",
     "text": [
      "16.81082623189666 GAPD: g3p_c + nad_c + pi_c <=> 13dpg_c + h_c + nadh_c\n-16.81082623189666 PGK: 3pg_c + atp_c <=> 13dpg_c + adp_c\n"
     ]
    }
   ],
   "source": [
    "for r in model.metabolites.get_by_id('13dpg_c').reactions:\n",
    "    print(f'{solution.fluxes[r.id]:.2f}', r)"
   ]
  },
  {
   "cell_type": "code",
   "execution_count": 21,
   "metadata": {},
   "outputs": [
    {
     "output_type": "stream",
     "name": "stdout",
     "text": [
      "0.9040106394806502 PGCD: 3pg_c + nad_c --> 3php_c + h_c + nadh_c\n-15.90681559241601 PGM: 2pg_c <=> 3pg_c\n-16.81082623189666 PGK: 3pg_c + atp_c <=> 13dpg_c + adp_c\n0.0 PGM_1: 3pg_c <=> 2pg_c\n0.0 GLYCK: atp_c + glyc__R_c --> 3pg_c + adp_c + h_c\n"
     ]
    }
   ],
   "source": [
    "for r in model.metabolites.get_by_id('3pg_c').reactions:\n",
    "    print(f'{solution.fluxes[r.id]:.2f}', r)"
   ]
  },
  {
   "cell_type": "code",
   "execution_count": 27,
   "metadata": {},
   "outputs": [
    {
     "output_type": "stream",
     "name": "stdout",
     "text": [
      "15.91 ENO: 2pg_c <=> h2o_c + pep_c\n0.00 PGM_1: 3pg_c <=> 2pg_c\n-15.91 PGM: 2pg_c <=> 3pg_c\n0.00 GLYCK2: atp_c + glyc__R_c --> 2pg_c + adp_c + h_c\n"
     ]
    }
   ],
   "source": [
    "for r in model.metabolites.get_by_id('2pg_c').reactions:\n",
    "    print(f'{solution.fluxes[r.id]:.2f}', r)"
   ]
  },
  {
   "cell_type": "code",
   "execution_count": 23,
   "metadata": {},
   "outputs": [
    {
     "output_type": "stream",
     "name": "stdout",
     "text": [
      "0.0 TREpts: pep_c + tre_e --> pyr_c + tre6p_c\n0.0 FRUpts2: fru_e + pep_c --> f6p_c + pyr_c\n0.0 TREptspp: pep_c + tre_p --> pyr_c + tre6p_c\n0.0 MALTptspp: malt_p + pep_c --> malt6p_c + pyr_c\n3.445691484186008 PYK: adp_c + h_c + pep_c --> atp_c + pyr_c\n0.0 FRUpts2pp: fru_p + pep_c --> f6p_c + pyr_c\n0.0 MNLpts: mnl_e + pep_c --> mnl1p_c + pyr_c\n0.0 FRUptspp: fru_p + pep_c --> f1p_c + pyr_c\n0.0 KDOPS: ara5p_c + h2o_c + pep_c --> kdo8p_c + pi_c\n0.0 MALTpts: malt_e + pep_c --> malt6p_c + pyr_c\n0.0 MANpts: man_e + pep_c --> man6p_c + pyr_c\n0.18036532427845853 DDPA: e4p_c + h2o_c + pep_c --> 2dda7p_c + pi_c\n0.0 GLCptspp: glc__D_p + pep_c --> g6p_c + pyr_c\n0.0 SUCptspp: pep_c + sucr_p --> pyr_c + suc6p_c\n1.9831958198062956 PPC: co2_c + h2o_c + pep_c --> h_c + oaa_c + pi_c\n0.0 PPS: atp_c + h2o_c + pyr_c --> amp_c + 2.0 h_c + pep_c + pi_c\n0.0 SUCpts: pep_c + sucr_e --> pyr_c + suc6p_c\n0.11719763986678855 UAGCVT: pep_c + uacgam_c --> pi_c + uaccg_c\n0.0 SBTpts: pep_c + sbt__D_e --> pyr_c + sbt6p_c\n0.0 ACMANApts: acmana_e + pep_c --> acmanap_c + pyr_c\n0.0 ACGApts: acgam_e + pep_c --> acgam6p_c + pyr_c\n0.0 DHAPT: dha_c + pep_c --> dhap_c + pyr_c\n0.0 SALCpts: pep_c + salcn_e --> pyr_c + salcn6p_c\n0.0 GALTpts: galt_e + pep_c --> galt1p_c + pyr_c\n0.0 PEPCK_re: gtp_c + oaa_c --> co2_c + gdp_c + pep_c\n15.90681559241601 ENO: 2pg_c <=> h2o_c + pep_c\n0.0 ACGAptspp: acgam_p + pep_c --> acgam6p_c + pyr_c\n0.0 PPCK: atp_c + oaa_c --> adp_c + co2_c + pep_c\n0.18036532427845853 PSCVT: pep_c + skm5p_c <=> 3psme_c + pi_c\n10.0 GLCpts: glc__D_e + pep_c --> g6p_c + pyr_c\n0.0 ARBTpts: arbt_e + pep_c --> arbt6p_c + pyr_c\n0.0 GAMpts: gam_e + pep_c --> gam6p_c + pyr_c\n0.0 SALCptspp: pep_c + salcn_p --> pyr_c + salcn6p_c\n0.0 FRUpts: fru_e + pep_c --> f1p_c + pyr_c\n"
     ]
    }
   ],
   "source": [
    "for r in model.metabolites.get_by_id('pep_c').reactions:\n",
    "    print(f'{solution.fluxes[r.id]:.2f}', r)"
   ]
  },
  {
   "cell_type": "code",
   "execution_count": 24,
   "metadata": {},
   "outputs": [
    {
     "output_type": "stream",
     "name": "stdout",
     "text": [
      "0.0 ALAD_L: ala__L_c + h2o_c + nad_c --> h_c + nadh_c + nh4_c + pyr_c\n0.0 SERD_D: ser__D_c --> nh4_c + pyr_c\n0.0 FRUpts2: fru_e + pep_c --> f6p_c + pyr_c\n0.0 L_LACD2: lac__L_c + q8_c --> pyr_c + q8h2_c\n0.0 FRUpts2pp: fru_p + pep_c --> f6p_c + pyr_c\n0.0 MANpts: man_e + pep_c --> man6p_c + pyr_c\n0.0 PYRt4pp: na1_p + pyr_p --> na1_c + pyr_c\n7.695032684777191e-05 SHCHCS: ichor_c + sucsal_c --> 2shchc_c + pyr_c\n0.0 GLCptspp: glc__D_p + pep_c --> g6p_c + pyr_c\n0.0 SUCptspp: pep_c + sucr_p --> pyr_c + suc6p_c\n-0.8869395575110752 ALATA_L: akg_c + ala__L_c <=> glu__L_c + pyr_c\n0.0 PFOR: coa_c + fldox_c + h_c + pyr_c --> accoa_c + co2_c + fldrd_c\n0.0 SUCpts: pep_c + sucr_e --> pyr_c + suc6p_c\n0.0 CYSTL: cyst__L_c + h2o_c --> hcys__L_c + nh4_c + pyr_c\n0.0 SBTpts: pep_c + sbt__D_e --> pyr_c + sbt6p_c\n0.0 SHCHCS2: ichor_c + ssaltpp_c --> 2shchc_c + pyr_c + thmpp_c\n0.0 ACGApts: acgam_e + pep_c --> acgam6p_c + pyr_c\n0.0 4H2KPILY: 4h2kpi_c --> pyr_c + sucsal_c\n0.0 DHAPT: dha_c + pep_c --> dhap_c + pyr_c\n0.0 SALCpts: pep_c + salcn_e --> pyr_c + salcn6p_c\n0.0 ACNML: acnam_c --> acmana_c + pyr_c\n0.0 EDA: 2ddg6p_c --> g3p_c + pyr_c\n0.0 ACGAptspp: acgam_p + pep_c --> acgam6p_c + pyr_c\n0.0 DAAD: ala__D_c + fad_c + h2o_c --> fadh2_c + nh4_c + pyr_c\n0.02686593551272348 ANS: chor_c + gln__L_c --> anth_c + glu__L_c + h_c + pyr_c\n0.0 ME2: mal__L_c + nadp_c --> co2_c + nadph_c + pyr_c\n0.0 LACD: dhlplarg_c + mql8_c + 2.0 pyr_c <=> 2.0 lac__D_c + lplarg_c + mqn8_c\n0.0 DHEDAA: 24dhhed_c --> pyr_c + sucsal_c\n0.0 ARBTpts: arbt_e + pep_c --> arbt6p_c + pyr_c\n0.0 L_LACD3: lac__L_c + mqn8_c --> mql8_c + pyr_c\n0.15907065016828875 ACHBS: 2obut_c + h_c + pyr_c --> 2ahbut_c + co2_c\n0.0 GLCRAL_1: 5d4dglcr_c --> 2h3opp_c + pyr_c\n0.0 HOPNTAL3: 4h2opntn_c --> acald_c + pyr_c\n0.0 LDH_D: lac__D_c + nad_c <=> h_c + nadh_c + pyr_c\n0.0 OAADC: h_c + oaa_c --> co2_c + pyr_c\n0.0 TREpts: pep_c + tre_e --> pyr_c + tre6p_c\n0.0007869559199277294 DXPS: g3p_c + h_c + pyr_c --> co2_c + dxyl5p_c\n0.0 TREptspp: pep_c + tre_p --> pyr_c + tre6p_c\n0.0 ALATA_L2: ala__L_c + pydx5p_c --> pyam5p_c + pyr_c\n0.0 MALTptspp: malt_p + pep_c --> malt6p_c + pyr_c\n0.0 PDHa: h_c + lpam_c + pyr_c --> adhlam_c + co2_c\n0.0 TRPAS1: cys__L_c + h2o_c --> h2s_c + nh4_c + pyr_c\n3.445691484186008 PYK: adp_c + h_c + pep_c --> atp_c + pyr_c\n0.0 GLCRAL: 5dh4dglc_c --> 2h3oppan_c + pyr_c\n0.0 ICHORT: h2o_c + ichor_c --> 23ddhb_c + pyr_c\n0.0 LDH_L: lac__L_c + nad_c <=> h_c + nadh_c + pyr_c\n0.0 MCITL2: micit_c <=> pyr_c + succ_c\n1.111479584933243 ACLS: h_c + 2.0 pyr_c --> alac__S_c + co2_c\n0.0 FRUptspp: fru_p + pep_c --> f1p_c + pyr_c\n0.0 MNLpts: mnl_e + pep_c --> mnl1p_c + pyr_c\n0.0 MALTpts: malt_e + pep_c --> malt6p_c + pyr_c\n0.0 PYRDC: h_c + pyr_c --> acald_c + co2_c\n0.0 DDPGALA: 2dh3dgal6p_c <=> g3p_c + pyr_c\n0.0 PPS: atp_c + h2o_c + pyr_c --> amp_c + 2.0 h_c + pep_c + pi_c\n0.0 ACMANApts: acmana_e + pep_c --> acmanap_c + pyr_c\n0.0005140599154366476 ADCL: 4adcho_c --> 4abz_c + h_c + pyr_c\n0.0 SERD_L: ser__L_c --> nh4_c + pyr_c\n10.041202386339553 PDH: coa_c + nad_c + pyr_c --> accoa_c + co2_c + nadh_c\n0.2793873500024739 DHDPS: aspsa_c + pyr_c --> 23dhdp_c + 2.0 h2o_c + h_c\n0.0 GALTpts: galt_e + pep_c --> galt1p_c + pyr_c\n0.0 SALCptspp: pep_c + salcn_p --> pyr_c + salcn6p_c\n0.0 HOPNTAL: 4h2opntn_c --> acald_c + pyr_c\n0.0 PYRt2rpp: h_p + pyr_p <=> h_c + pyr_c\n0.0 ME1: mal__L_c + nad_c --> co2_c + nadh_c + pyr_c\n0.0 ARUH: arg__L_c + pyr_c <=> 5g2oxpt_c + ala__L_c\n10.0 GLCpts: glc__D_e + pep_c --> g6p_c + pyr_c\n0.0 PC: atp_c + hco3_c + pyr_c --> adp_c + h_c + oaa_c + pi_c\n0.0 POX: h2o_c + pyr_c + q8_c --> ac_c + co2_c + q8h2_c\n0.11719763986678855 ALATA_D: akg_c + ala__D_c <=> glu__D_c + pyr_c\n0.0 GAMpts: gam_e + pep_c --> gam6p_c + pyr_c\n0.0 HOPNTAL2: 4hoxoh_c --> ppal_c + pyr_c\n0.0 DALAOX: ala__D_c + h2o_c + o2_c --> h2o2_c + nh4_c + pyr_c\n0.0 L_LACD: 2.0 ficytc_c + lac__L_c --> 2.0 focytc_c + pyr_c\n0.0 MALDDH: mal__D_c + nad_c --> co2_c + nadh_c + pyr_c\n0.0 FRUpts: fru_e + pep_c --> f1p_c + pyr_c\n"
     ]
    }
   ],
   "source": [
    "for r in model.metabolites.get_by_id('pyr_c').reactions:\n",
    "    print(f'{solution.fluxes[r.id]:.2f}', r)"
   ]
  },
  {
   "cell_type": "code",
   "execution_count": 26,
   "metadata": {},
   "outputs": [
    {
     "output_type": "stream",
     "name": "stdout",
     "text": [
      "3.96 ACACT1r: 2.0 accoa_c <=> aacoa_c + coa_c\n0.00 DHPACCOAHIT: 2dhphaccoa_c + coa_c + 2.0 h2o_c --> 3hadpcoa_c + accoa_c + h2_c + h_c\n0.00 KAT6: 3otdcoa_c + coa_c --> accoa_c + ddcacoa_c\n0.37 G1PACT: accoa_c + gam1p_c --> acgam1p_c + coa_c + h_c\n-0.00 ACACT8r: 3ohodcoa_c + coa_c <=> accoa_c + pmtcoa_c\n0.00 ACS: ac_c + atp_c + coa_c --> accoa_c + amp_c + ppi_c\n0.00 FAO2: atp_c + 8.0 coa_c + 7.0 fad_c + 7.0 h2o_c + hdca_c + 7.0 nad_c --> 8.0 accoa_c + amp_c + 7.0 fadh2_c + 7.0 h_c + 7.0 nadh_c + ppi_c\n0.00 ACGS: accoa_c + glu__L_c --> acglu_c + coa_c + h_c\n0.00 MALS: accoa_c + glx_c + h2o_c --> coa_c + h_c + mal__L_c\n0.00 MSHS: accoa_c + cigam_c --> coa_c + msh_c\n0.00 KAT7: 3ohdcoa_c + coa_c --> accoa_c + tdcoa_c\n0.00 KAS8: accoa_c + 20.0 h_c + 7.0 malcoa_c + 14.0 nadph_c --> 7.0 co2_c + 8.0 coa_c + 6.0 h2o_c + hdca_c + 14.0 nadp_c\n0.00 FAO3: atp_c + 9.0 coa_c + 8.0 fad_c + 8.0 h2o_c + 8.0 nad_c + ocdca_c --> 9.0 accoa_c + amp_c + 8.0 fadh2_c + 8.0 h_c + 8.0 nadh_c + ppi_c\n0.00 MACCOAT: 2maacoa_c + coa_c --> accoa_c + ppcoa_c\n0.00 OACT: accoa_c + udcpo4_c --> coa_c + udcpo5_c\n0.00 FAS80_L: accoa_c + 8.0 h_c + 3.0 malcoa_c + 6.0 nadph_c --> 3.0 co2_c + 4.0 coa_c + 2.0 h2o_c + 6.0 nadp_c + octa_c\n0.01 ACACT7r: accoa_c + tdcoa_c <=> 3ohdcoa_c + coa_c\n0.00 ACTD2: actn__R_c + coa_c + nad_c --> acald_c + accoa_c + h_c + nadh_c\n0.00 KAT3: 3oocoa_c + coa_c --> accoa_c + hxcoa_c\n0.00 KAT4: 3odcoa_c + coa_c --> accoa_c + occoa_c\n0.01 ACACT2r: accoa_c + btcoa_c <=> 3ohcoa_c + coa_c\n0.61 CS: accoa_c + h2o_c + oaa_c --> cit_c + coa_c + h_c\n0.01 ACACT5r_1: accoa_c + dccoa_c <=> 3oddcoa_c + coa_c\n0.00 OXDHCOAT: 3oxdhscoa_c + coa_c --> 23dhacoa_c + accoa_c\n0.91 IPPS: 3mob_c + accoa_c + h2o_c --> 3c3hmp_c + coa_c + h_c\n0.00 ACALD: acald_c + coa_c + nad_c <=> accoa_c + h_c + nadh_c\n0.00 KAS17: accoa_c + 22.0 h_c + 8.0 malcoa_c + 15.0 nadph_c --> 8.0 co2_c + 9.0 coa_c + 7.0 h2o_c + 15.0 nadp_c + ocdcea_c\n0.00 PDHbr: adhlam_c + coa_c <=> accoa_c + dhlam_c\n0.00 PFOR: coa_c + fldox_c + h_c + pyr_c --> accoa_c + co2_c + fldrd_c\n0.19 ACCOAC: accoa_c + atp_c + hco3_c --> adp_c + h_c + malcoa_c + pi_c\n0.00 KAT1: aacoa_c + coa_c --> 2.0 accoa_c\n3.95 HMGL: hmgcoa_c --> acac_c + accoa_c\n0.00 HXCT: accoa_c + hxa_c --> ac_c + hxcoa_c\n0.00 3OXCOAT: coa_c + oxadpcoa_c --> accoa_c + succoa_c\n0.00 BUTCT: accoa_c + but_c --> ac_c + btcoa_c\n0.00 MMSAD3: coa_c + msa_c + nad_c --> accoa_c + co2_c + nadh_c\n10.04 PDH: coa_c + nad_c + pyr_c --> accoa_c + co2_c + nadh_c\n0.00 ACOATA: ACP_c + accoa_c <=> acACP_c + coa_c\n0.00 ACACT6r: accoa_c + ddcacoa_c <=> 3otdcoa_c + coa_c\n0.00 ACACCT: acac_c + accoa_c --> aacoa_c + ac_c\n0.00 FAO10: atp_c + 9.0 coa_c + 7.0 fad_c + 8.0 h2o_c + 8.0 nad_c + ocdcea_c --> 9.0 accoa_c + amp_c + 7.0 fadh2_c + 8.0 h_c + 8.0 nadh_c + ppi_c\n0.00 CACOAHA: caffcoa_c + h2o_c --> 34dhbald_c + accoa_c\n0.00 FCOAHA: ferulcoa_c + h2o_c --> accoa_c + vanln_c\n0.01 ACACT6r_1: accoa_c + ddcoa_c <=> 3otdcoa_c + coa_c\n0.00 PTAr: accoa_c + pi_c <=> actp_c + coa_c\n0.00 SERAT: accoa_c + ser__L_c <=> acser_c + coa_c\n0.01 ACACT3r: accoa_c + hxcoa_c <=> 3oocoa_c + coa_c\n0.00 ACACT5r: accoa_c + dcacoa_c <-- 3oddcoa_c + coa_c\n0.00 GLYAT: accoa_c + gly_c <=> 2aobut_c + coa_c\n0.00 KAS2: accoa_c + 17.0 h_c + 6.0 malcoa_c + 12.0 nadph_c --> 6.0 co2_c + 7.0 coa_c + 5.0 h2o_c + 12.0 nadp_c + ttdca_c\n0.00 KAS15: accoa_c + h_c + malACP_c --> actACP_c + co2_c + coa_c\n0.00 KAT5: 3oddcoa_c + coa_c --> accoa_c + dcacoa_c\n0.01 ACACT4r: accoa_c + occoa_c <=> 3odcoa_c + coa_c\n0.00 KAS7: accoa_c + 19.0 h_c + 7.0 malcoa_c + 13.0 nadph_c --> 7.0 co2_c + 8.0 coa_c + 6.0 h2o_c + hdcea_c + 13.0 nadp_c\n3.95 HMGCOASi: aacoa_c + accoa_c + h2o_c --> coa_c + h_c + hmgcoa_c\n0.00 KAS13: accoa_c + 23.0 h_c + 8.0 malcoa_c + 16.0 nadph_c --> 8.0 co2_c + 9.0 coa_c + 7.0 h2o_c + 16.0 nadp_c + ocdca_c\n0.00 HSERTA: accoa_c + hom__L_c <=> achms_c + coa_c\n0.00 KAT2: 3ohcoa_c + coa_c --> accoa_c + btcoa_c\n0.00 FAO11: atp_c + 8.0 coa_c + 6.0 fad_c + 7.0 h2o_c + hdcea_c + 7.0 nad_c --> 8.0 accoa_c + amp_c + 6.0 fadh2_c + 7.0 h_c + 7.0 nadh_c + ppi_c\n0.00 FAO1: atp_c + 7.0 coa_c + 6.0 fad_c + 6.0 h2o_c + 6.0 nad_c + ttdca_c --> 7.0 accoa_c + amp_c + 6.0 fadh2_c + 6.0 h_c + 6.0 nadh_c + ppi_c\n"
     ]
    }
   ],
   "source": [
    "for r in model.metabolites.get_by_id('accoa_c').reactions:\n",
    "    print(f'{solution.fluxes[r.id]:.2f}', r)"
   ]
  },
  {
   "source": [
    "### TCA Cycle"
   ],
   "cell_type": "markdown",
   "metadata": {}
  },
  {
   "cell_type": "code",
   "execution_count": 28,
   "metadata": {},
   "outputs": [
    {
     "output_type": "stream",
     "name": "stdout",
     "text": [
      "0.0 CITL: cit_c --> ac_c + oaa_c\n0.0 CITt2r: cit_e + h_e --> cit_c + h_c\n0.0 FE3DCITabcpp: atp_c + fe3dcit_p + h2o_c --> adp_c + 2.0 cit_c + fe3_c + h_c + pi_c\n0.0 CITt7: cit_e + succ_c --> cit_c + succ_e\n0.0 CITACt: ac_c + cit_e --> ac_e + cit_c\n0.0 FEDCabc: atp_c + 2.0 cit_e + fe3_e + h2o_c --> adp_c + 2.0 cit_c + fe3_c + h_c + pi_c\n0.6107483029774257 ACONTa: cit_c <=> acon_C_c + h2o_c\n0.0 ACONT: cit_c <=> icit_c\n0.0 CITt14: ca2_e + cit_e + h_e --> ca2_c + cit_c + h_c\n0.0 CITt_kt: cit_p + h_p --> cit_c + h_c\n0.6107483029774257 CS: accoa_c + h2o_c + oaa_c --> cit_c + coa_c + h_c\n0.0 CITt7pp: cit_p + succ_c --> cit_c + succ_p\n"
     ]
    }
   ],
   "source": [
    "for r in model.metabolites.get_by_id('cit_c').reactions:\n",
    "    print(solution.fluxes[r.id], r)"
   ]
  },
  {
   "cell_type": "code",
   "execution_count": 29,
   "metadata": {},
   "outputs": [
    {
     "output_type": "stream",
     "name": "stdout",
     "text": [
      "0.6107483029774257 ACONTb: acon_C_c + h2o_c <=> icit_c\n0.6107483029774257 ACONTa: cit_c <=> acon_C_c + h2o_c\n"
     ]
    }
   ],
   "source": [
    "for r in model.metabolites.get_by_id('acon_C_c').reactions:\n",
    "    print(solution.fluxes[r.id], r)"
   ]
  },
  {
   "cell_type": "code",
   "execution_count": 30,
   "metadata": {},
   "outputs": [
    {
     "output_type": "stream",
     "name": "stdout",
     "text": [
      "0.0 ICDHx: icit_c + nad_c <=> akg_c + co2_c + nadh_c\n0.0 ICL: icit_c --> glx_c + succ_c\n0.6107483029774257 ICDHyr: icit_c + nadp_c <=> akg_c + co2_c + nadph_c\n0.0 ACONT: cit_c <=> icit_c\n0.6107483029774257 ACONTb: acon_C_c + h2o_c <=> icit_c\n0.0 ICITt_kt: h_p + icit_p <=> h_c + icit_c\n"
     ]
    }
   ],
   "source": [
    "for r in model.metabolites.get_by_id('icit_c').reactions:\n",
    "    print(solution.fluxes[r.id], r)"
   ]
  },
  {
   "cell_type": "code",
   "execution_count": 31,
   "metadata": {},
   "outputs": [
    {
     "output_type": "stream",
     "name": "stdout",
     "text": [
      "0.6107483029774257 ICDHyr: icit_c + nadp_c <=> akg_c + co2_c + nadph_c\n0.0 VALTA: akg_c + val__L_c <=> 3mob_c + glu__L_c\n-1.8025924639935995 ASPTA: akg_c + asp__L_c <=> glu__L_c + oaa_c\n0.0 LEUTAi: 4mop_c + glu__L_c --> akg_c + leu__L_c\n0.0 UACGAMOAT: glu__L_c + uacgamo_c <=> akg_c + uacgnn_c\n0.0 UDPKAAT: glu__L_c + udpLa4o_c <=> akg_c + udpLa4n_c\n-0.06534556384226307 TYRTA: akg_c + tyr__L_c <=> 34hpp_c + glu__L_c\n-0.13980159281681606 ACOTA: acorn_c + akg_c <=> acg5sa_c + glu__L_c\n0.0 AKGDa: akg_c + h_c + lpam_c <=> co2_c + sdhlam_c\n-0.08756281468118755 PHETA1: akg_c + phe__L_c <=> glu__L_c + phpyr_c\n0.0 OHPBAT: glu__L_c + ohpb_c <=> akg_c + phthr_c\n0.9040106394806502 PSERT: 3php_c + glu__L_c --> akg_c + pser__L_c\n0.0 ABTA: 4abut_c + akg_c --> glu__L_c + sucsal_c\n0.0 AKGMAL: akg_c + mal__L_e <=> akg_e + mal__L_c\n-0.8869395575110752 ALATA_L: akg_c + ala__L_c <=> glu__L_c + pyr_c\n0.0 ORNTA_1: akg_c + orn__L_c --> glu5sa_c + glu__L_c\n0.0 AKGDH: akg_c + coa_c + nad_c --> co2_c + nadh_c + succoa_c\n0.0 GLUSx: akg_c + gln__L_c + h_c + nadh_c --> 2.0 glu__L_c + nad_c\n0.0 TAUDO: akg_c + o2_c + taur_c --> aacald_c + co2_c + so3_c + succ_c\n-4.841280796118894 GLUDy: glu__L_c + h2o_c + nadp_c <=> akg_c + h_c + nadph_c + nh4_c\n0.0 GLUSy: akg_c + gln__L_c + h_c + nadph_c --> 2.0 glu__L_c + nadp_c\n0.0 OOR3r: akg_c + coa_c + fdxox_c --> co2_c + fdxrd_c + h_c + succoa_c\n0.0 ORNTA: akg_c + orn_c --> glu5sa_c + glu__L_c\n0.0 OXGDC2: akg_c + h_c + thmpp_c --> co2_c + ssaltpp_c\n0.0 APTNAT: 5aptn_c + akg_c <=> glu__L_c + oxptn_c\n0.0 GLMS_syn: akg_c + 2.0 fdxrd_c + gln__L_c + 2.0 h_c --> 2.0 fdxo_2_2_c + 2.0 glu__L_c\n-0.2793873500024739 SDPTA: akg_c + sl26da_c <=> glu__L_c + sl2a6o_c\n-0.13731391604245208 ILETA: akg_c + ile__L_c <=> 3mop_c + glu__L_c\n0.0 LEUTA: akg_c + leu__L_c <=> 4mop_c + glu__L_c\n0.0 UNK3: 2kmb_c + glu__L_c --> akg_c + met__L_c\n0.0 AKGt2r: akg_e + h_e <=> akg_c + h_c\n0.0 OXGDC: akg_c + h_c --> co2_c + sucsal_c\n0.0 PTRCTA: akg_c + ptrc_c --> 4abutn_c + glu__L_c\n0.0 TRPTA: akg_c + trp__L_c <=> glu__L_c + indpyr_c\n0.11719763986678855 ALATA_D: akg_c + ala__D_c <=> glu__D_c + pyr_c\n0.0 ICDHx: icit_c + nad_c <=> akg_c + co2_c + nadh_c\n0.0 AKGt2rpp: akg_p + h_p <=> akg_c + h_c\n0.0 GLUDxi: glu__L_c + h2o_c + nad_c --> akg_c + h_c + nadh_c + nh4_c\n0.04477623463773884 HSTPT: glu__L_c + imacp_c --> akg_c + hisp_c\n"
     ]
    }
   ],
   "source": [
    "for r in model.metabolites.get_by_id('akg_c').reactions:\n",
    "    print(solution.fluxes[r.id], r)"
   ]
  },
  {
   "cell_type": "code",
   "execution_count": 32,
   "metadata": {},
   "outputs": [
    {
     "output_type": "stream",
     "name": "stdout",
     "text": [
      "0.0 AKGDH: akg_c + coa_c + nad_c --> co2_c + nadh_c + succoa_c\n0.0 3OADPCOAT: 3oxoadp_c + succoa_c --> oxadpcoa_c + succ_c\n0.0 3OXCOAT: coa_c + oxadpcoa_c --> accoa_c + succoa_c\n0.0 OOR3r: akg_c + coa_c + fdxox_c --> co2_c + fdxrd_c + h_c + succoa_c\n0.231879244333642 HSST: hom__L_c + succoa_c --> coa_c + suchms_c\n0.2793873500024739 THDPS: h2o_c + succoa_c + thdp_c --> coa_c + sl2a6o_c\n7.695032684777191e-05 SSCOARy: h_c + nadph_c + succoa_c <=> coa_c + nadp_c + sucsal_c\n0.0 OCOAT3r: ghb_c + succoa_c <=> 4hbutcoa_c + succ_c\n0.0 AKGDb: coa_c + sdhlam_c --> dhlam_c + succoa_c\n0.0 MMM2: succoa_c --> mmcoa__R_c\n0.0 SUCBZT1: bz_c + 4.0 h_c + succoa_c <=> benzcoa_c + succ_c\n0.0 SUCBZT2: 4hbz_c + succoa_c <=> 4hbzcoa_c + succ_c\n0.0 BSCT: coa_c + 4.0 h_c + sbzcoa_c <=> benzcoa_c + succoa_c\n0.0 BZSCT: bzsucc_c + succoa_c <=> bzsuccoa_c + succ_c\n0.0 OCOAT2r: 3mb_c + succoa_c <=> ivcoa_c + succ_c\n0.0 OCOAT1: acac_c + succoa_c --> aacoa_c + succ_c\n0.5113435446629636 SUCOAS: atp_c + coa_c + succ_c <=> adp_c + pi_c + succoa_c\n"
     ]
    }
   ],
   "source": [
    "for r in model.metabolites.get_by_id('succoa_c').reactions:\n",
    "    print(solution.fluxes[r.id], r)"
   ]
  },
  {
   "cell_type": "code",
   "execution_count": 62,
   "metadata": {},
   "outputs": [
    {
     "output_type": "stream",
     "name": "stdout",
     "text": [
      "0.0 SUCDi: q8_c + succ_c --> fum_c + q8h2_c\n0.2546936823310454 FRD2: fum_c + mql8_c --> mqn8_c + succ_c\n0.0006854132205822015 FRD3: 2dmmql8_c + fum_c --> 2dmmq8_c + succ_c\n0.0 FRD5: fum_c + mql6_c --> mqn6_c + succ_c\n0.0 SUCD1: fad_c + succ_c <-- fadh2_c + fum_c\n0.0 FRD: fadh2_c + fum_c --> fad_c + succ_c\n0.0017547847730654406 ASPO5: asp__L_c + fum_c --> h_c + iasp_c + succ_c\n"
     ]
    }
   ],
   "source": [
    "met_1 = model.metabolites.get_by_id('succ_c')\n",
    "met_2 = model.metabolites.get_by_id('fum_c')\n",
    "\n",
    "for r in met_1.reactions:\n",
    "    if met_2 in r.metabolites:\n",
    "        print(solution.fluxes[r.id], r)"
   ]
  },
  {
   "cell_type": "code",
   "execution_count": 63,
   "metadata": {},
   "outputs": [
    {
     "output_type": "stream",
     "name": "stdout",
     "text": [
      "0.4294595339441475 FUM: fum_c + h2o_c <=> mal__L_c\n"
     ]
    }
   ],
   "source": [
    "met_1 = model.metabolites.get_by_id('fum_c')\n",
    "met_2 = model.metabolites.get_by_id('mal__L_c')\n",
    "\n",
    "for r in met_1.reactions:\n",
    "    if met_2 in r.metabolites:\n",
    "        print(solution.fluxes[r.id], r)"
   ]
  },
  {
   "cell_type": "code",
   "execution_count": 35,
   "metadata": {},
   "outputs": [
    {
     "output_type": "stream",
     "name": "stdout",
     "text": [
      "0.0 AKGMAL: akg_c + mal__L_e <=> akg_e + mal__L_c\n0.0 MALt2_2pp: 2.0 h_p + mal__L_p --> 2.0 h_c + mal__L_c\n0.0 MALtpp: h_p + mal__L_p <=> h_c + mal__L_c\n0.0 ME1: mal__L_c + nad_c --> co2_c + nadh_c + pyr_c\n0.4301449471647297 MDH: mal__L_c + nad_c <=> h_c + nadh_c + oaa_c\n0.0 MDH3: mal__L_c + mqn8_c --> mql8_c + oaa_c\n0.4294595339441475 FUM: fum_c + h2o_c <=> mal__L_c\n0.0 MDH2: mal__L_c + q8_c --> oaa_c + q8h2_c\n0.0006854132205822015 MALS: accoa_c + glx_c + h2o_c --> coa_c + h_c + mal__L_c\n0.0 ME2: mal__L_c + nadp_c --> co2_c + nadph_c + pyr_c\n0.0 MALt2_2: 2.0 h_e + mal__L_e --> 2.0 h_c + mal__L_c\n0.0 MALt2r: h_e + mal__L_e <=> h_c + mal__L_c\n0.0 DMALRED: fad_c + mal__L_c --> fadh2_c + oaa_c\n"
     ]
    }
   ],
   "source": [
    "for r in model.metabolites.get_by_id('mal__L_c').reactions:\n",
    "    print(solution.fluxes[r.id], r)"
   ]
  },
  {
   "cell_type": "code",
   "execution_count": 64,
   "metadata": {},
   "outputs": [
    {
     "output_type": "stream",
     "name": "stdout",
     "text": [
      "0.4301449471647297 MDH: mal__L_c + nad_c <=> h_c + nadh_c + oaa_c\n0.0 MDH3: mal__L_c + mqn8_c --> mql8_c + oaa_c\n0.0 MDH2: mal__L_c + q8_c --> oaa_c + q8h2_c\n0.0 DMALRED: fad_c + mal__L_c --> fadh2_c + oaa_c\n"
     ]
    }
   ],
   "source": [
    "met_1 = model.metabolites.get_by_id('mal__L_c')\n",
    "met_2 = model.metabolites.get_by_id('oaa_c')\n",
    "\n",
    "for r in met_1.reactions:\n",
    "    if met_2 in r.metabolites:\n",
    "        print(solution.fluxes[r.id], r)"
   ]
  },
  {
   "cell_type": "code",
   "execution_count": 36,
   "metadata": {},
   "outputs": [
    {
     "output_type": "stream",
     "name": "stdout",
     "text": [
      "0.0 DTARTD: tartr__D_c --> h2o_c + oaa_c\n0.0 OAAt2_2pp: 2.0 h_p + oaa_p --> 2.0 h_c + oaa_c\n1.9831958198062956 PPC: co2_c + h2o_c + pep_c --> h_c + oaa_c + pi_c\n0.0 CITL: cit_c --> ac_c + oaa_c\n0.4301449471647297 MDH: mal__L_c + nad_c <=> h_c + nadh_c + oaa_c\n0.0 MDH3: mal__L_c + mqn8_c --> mql8_c + oaa_c\n0.0 PC: atp_c + hco3_c + pyr_c --> adp_c + h_c + oaa_c + pi_c\n0.0 MDH2: mal__L_c + q8_c --> oaa_c + q8h2_c\n0.0 OAADC: h_c + oaa_c --> co2_c + pyr_c\n0.0 PPCK: atp_c + oaa_c --> adp_c + co2_c + pep_c\n0.0 ASPO1: asp__L_c + h2o_c + o2_c --> h2o2_c + nh4_c + oaa_c\n0.6107483029774257 CS: accoa_c + h2o_c + oaa_c --> cit_c + coa_c + h_c\n0.0 PEPCK_re: gtp_c + oaa_c --> co2_c + gdp_c + pep_c\n-1.8025924639935995 ASPTA: akg_c + asp__L_c <=> glu__L_c + oaa_c\n0.0 DMALRED: fad_c + mal__L_c --> fadh2_c + oaa_c\n"
     ]
    }
   ],
   "source": [
    "for r in model.metabolites.get_by_id('oaa_c').reactions:\n",
    "    print(solution.fluxes[r.id], r)"
   ]
  },
  {
   "source": [
    "### Pentose Phosphate"
   ],
   "cell_type": "markdown",
   "metadata": {}
  },
  {
   "cell_type": "code",
   "execution_count": 37,
   "metadata": {},
   "outputs": [
    {
     "output_type": "stream",
     "name": "stdout",
     "text": [
      "0.0 AB6PGH: arbt6p_c + h2o_c --> g6p_c + hqn_c\n9.781806902332953 PGI: g6p_c <=> f6p_c\n0.0 PPGKr: glc__D_c + pi_c <-- g6p_c + h2o_c\n10.0 GLCpts: glc__D_e + pep_c --> g6p_c + pyr_c\n0.0 FFSD: h2o_c + suc6p_c --> fru_c + g6p_c\n0.0 MI1PS: g6p_c --> mi1p__D_c\n0.0 TRE6PS: g6p_c + udpg_c --> h_c + tre6p_c + udp_c\n0.0 G6PDH2r: g6p_c + nadp_c <=> 6pgl_c + h_c + nadph_c\n-0.2181930976670478 PGMT: g1p_c <=> g6p_c\n0.0 S6PG: h2o_c + salcn6p_c --> 2hxmp_c + g6p_c\n0.0 HEX1: atp_c + glc__D_c --> adp_c + g6p_c + h_c\n0.0 MAL6PG: h2o_c + malt6p_c --> g6p_c + glc__D_c\n0.0 GLCptspp: glc__D_p + pep_c --> g6p_c + pyr_c\n"
     ]
    }
   ],
   "source": [
    "for r in model.metabolites.get_by_id('g6p_c').reactions:\n",
    "    print(solution.fluxes[r.id], r)"
   ]
  },
  {
   "cell_type": "code",
   "execution_count": 65,
   "metadata": {},
   "outputs": [
    {
     "output_type": "stream",
     "name": "stdout",
     "text": [
      "0.0 G6PDH2r: g6p_c + nadp_c <=> 6pgl_c + h_c + nadph_c\n"
     ]
    }
   ],
   "source": [
    "met_1 = model.metabolites.get_by_id('g6p_c')\n",
    "met_2 = model.metabolites.get_by_id('6pgl_c')\n",
    "\n",
    "for r in met_1.reactions:\n",
    "    if met_2 in r.metabolites:\n",
    "        print(solution.fluxes[r.id], r)"
   ]
  },
  {
   "cell_type": "code",
   "execution_count": 38,
   "metadata": {},
   "outputs": [
    {
     "output_type": "stream",
     "name": "stdout",
     "text": [
      "0.0 PGL: 6pgl_c + h2o_c --> 6pgc_c + h_c\n0.0 G6PDH2r: g6p_c + nadp_c <=> 6pgl_c + h_c + nadph_c\n0.0 G6PBDH: g6p_B_c + nadp_c --> 6pgl_c + h_c + nadph_c\n"
     ]
    }
   ],
   "source": [
    "# 6 phosphogluconolactone\n",
    "for r in model.metabolites.get_by_id('6pgl_c').reactions:\n",
    "    print(solution.fluxes[r.id], r)"
   ]
  },
  {
   "cell_type": "code",
   "execution_count": 66,
   "metadata": {},
   "outputs": [
    {
     "output_type": "stream",
     "name": "stdout",
     "text": [
      "0.0 PGL: 6pgl_c + h2o_c --> 6pgc_c + h_c\n"
     ]
    }
   ],
   "source": [
    "met_1 = model.metabolites.get_by_id('6pgl_c')\n",
    "met_2 = model.metabolites.get_by_id('6pgc_c')\n",
    "\n",
    "for r in met_1.reactions:\n",
    "    if met_2 in r.metabolites:\n",
    "        print(solution.fluxes[r.id], r)"
   ]
  },
  {
   "cell_type": "code",
   "execution_count": 41,
   "metadata": {},
   "outputs": [
    {
     "output_type": "stream",
     "name": "stdout",
     "text": [
      "0.0 PGLCNDH: 6p2dhglcn_c + nadph_c <=> 6pgc_c + 2.0 h_c + nadp_c\n0.0 GNK: atp_c + glcn_c --> 6pgc_c + adp_c + h_c\n0.0 EDD: 6pgc_c --> 2ddg6p_c + h2o_c\n0.0 PGL: 6pgl_c + h2o_c --> 6pgc_c + h_c\n0.0 GND: 6pgc_c + nadp_c --> co2_c + nadph_c + ru5p__D_c\n"
     ]
    }
   ],
   "source": [
    "# 6 phosphogluconate\n",
    "for r in model.metabolites.get_by_id('6pgc_c').reactions:\n",
    "    print(solution.fluxes[r.id], r)"
   ]
  },
  {
   "cell_type": "code",
   "execution_count": 67,
   "metadata": {},
   "outputs": [
    {
     "output_type": "stream",
     "name": "stdout",
     "text": [
      "0.0 GND: 6pgc_c + nadp_c --> co2_c + nadph_c + ru5p__D_c\n"
     ]
    }
   ],
   "source": [
    "met_1 = model.metabolites.get_by_id('6pgc_c')\n",
    "met_2 = model.metabolites.get_by_id('ru5p__D_c')\n",
    "\n",
    "for r in met_1.reactions:\n",
    "    if met_2 in r.metabolites:\n",
    "        print(solution.fluxes[r.id], r)"
   ]
  },
  {
   "cell_type": "code",
   "execution_count": 42,
   "metadata": {},
   "outputs": [
    {
     "output_type": "stream",
     "name": "stdout",
     "text": [
      "0.0006854132205822173 DB4PS: ru5p__D_c --> db4p_c + for_c + h_c\n-0.5093662578837798 RPE: ru5p__D_c <=> xu5p__D_c\n-0.5086808446631975 RPI: r5p_c <=> ru5p__D_c\n0.0 A5PISO: ru5p__D_c <=> ara5p_c\n0.0 GND: 6pgc_c + nadp_c --> co2_c + nadph_c + ru5p__D_c\n"
     ]
    }
   ],
   "source": [
    "# ribulose 5 phosphate\n",
    "for r in model.metabolites.get_by_id('ru5p__D_c').reactions:\n",
    "    print(solution.fluxes[r.id], r)"
   ]
  },
  {
   "cell_type": "code",
   "execution_count": 68,
   "metadata": {},
   "outputs": [
    {
     "output_type": "stream",
     "name": "stdout",
     "text": [
      "-0.5093662578837798 RPE: ru5p__D_c <=> xu5p__D_c\n"
     ]
    }
   ],
   "source": [
    "met_1 = model.metabolites.get_by_id('ru5p__D_c')\n",
    "met_2 = model.metabolites.get_by_id('xu5p__D_c')\n",
    "\n",
    "for r in met_1.reactions:\n",
    "    if met_2 in r.metabolites:\n",
    "        print(solution.fluxes[r.id], r)"
   ]
  },
  {
   "cell_type": "code",
   "execution_count": 70,
   "metadata": {},
   "outputs": [
    {
     "output_type": "stream",
     "name": "stdout",
     "text": [
      "-0.5086808446631975 RPI: r5p_c <=> ru5p__D_c\n"
     ]
    }
   ],
   "source": [
    "met_1 = model.metabolites.get_by_id('ru5p__D_c')\n",
    "met_2 = model.metabolites.get_by_id('r5p_c')\n",
    "\n",
    "for r in met_1.reactions:\n",
    "    if met_2 in r.metabolites:\n",
    "        print(solution.fluxes[r.id], r)"
   ]
  },
  {
   "cell_type": "code",
   "execution_count": 43,
   "metadata": {},
   "outputs": [
    {
     "output_type": "stream",
     "name": "stdout",
     "text": [
      "0.6730099581607125 PRPPS: atp_c + r5p_c <=> amp_c + h_c + prpp_c\n0.0 NMNN: h2o_c + nmn_c --> h_c + ncam_c + r5p_c\n0.0 RBK: atp_c + rib__D_c --> adp_c + h_c + r5p_c\n0.00017135330514555394 PLPS: g3p_c + gln__L_c + r5p_c --> glu__L_c + 3.0 h2o_c + h_c + pi_c + pydx5p_c\n-0.5086808446631975 RPI: r5p_c <=> ru5p__D_c\n0.0 ADPRDP: adprib_c + h2o_c --> amp_c + 2.0 h_c + r5p_c\n-0.16450046680266062 TKT1: r5p_c + xu5p__D_c <=> g3p_c + s7p_c\n"
     ]
    }
   ],
   "source": [
    "# ribose 5 phosphate\n",
    "for r in model.metabolites.get_by_id('r5p_c').reactions:\n",
    "    print(solution.fluxes[r.id], r)"
   ]
  },
  {
   "cell_type": "code",
   "execution_count": 44,
   "metadata": {},
   "outputs": [
    {
     "output_type": "stream",
     "name": "stdout",
     "text": [
      "0.0 RBP4E: ru5p__L_c <=> xu5p__D_c\n-0.5093662578837798 RPE: ru5p__D_c <=> xu5p__D_c\n0.0 XYLK: atp_c + xylu__D_c --> adp_c + h_c + xu5p__D_c\n-0.16450046680266062 TKT1: r5p_c + xu5p__D_c <=> g3p_c + s7p_c\n-0.34486579108111914 TKT2: e4p_c + xu5p__D_c <=> f6p_c + g3p_c\n"
     ]
    }
   ],
   "source": [
    "# xyulose 5 phosphate\n",
    "for r in model.metabolites.get_by_id('xu5p__D_c').reactions:\n",
    "    print(solution.fluxes[r.id], r)"
   ]
  },
  {
   "cell_type": "code",
   "execution_count": 71,
   "metadata": {},
   "outputs": [
    {
     "output_type": "stream",
     "name": "stdout",
     "text": [
      "-0.16450046680266062 TKT1: r5p_c + xu5p__D_c <=> g3p_c + s7p_c\n-0.34486579108111914 TKT2: e4p_c + xu5p__D_c <=> f6p_c + g3p_c\n"
     ]
    }
   ],
   "source": [
    "met_1 = model.metabolites.get_by_id('xu5p__D_c')\n",
    "met_2 = model.metabolites.get_by_id('g3p_c')\n",
    "\n",
    "for r in met_1.reactions:\n",
    "    if met_2 in r.metabolites:\n",
    "        print(solution.fluxes[r.id], r)"
   ]
  },
  {
   "cell_type": "code",
   "execution_count": 45,
   "metadata": {},
   "outputs": [
    {
     "output_type": "stream",
     "name": "stdout",
     "text": [
      "0.0 DRPA: 2dr5p_c --> acald_c + g3p_c\n0.0 TRPS3: 3ig3p_c --> g3p_c + indole_c\n0.0007869559199277294 DXPS: g3p_c + h_c + pyr_c --> co2_c + dxyl5p_c\n16.81082623189666 GAPD: g3p_c + nad_c + pi_c <=> 13dpg_c + h_c + nadh_c\n-0.16450046680266062 TKT1: r5p_c + xu5p__D_c <=> g3p_c + s7p_c\n8.226060093709998 TPI: dhap_c <=> g3p_c\n0.00017135330514555394 PLPS: g3p_c + gln__L_c + r5p_c --> glu__L_c + 3.0 h2o_c + h_c + pi_c + pydx5p_c\n-0.34486579108111914 TKT2: e4p_c + xu5p__D_c <=> f6p_c + g3p_c\n0.0 FBA: fdp_c <=> dhap_c + g3p_c\n0.0 EDA: 2ddg6p_c --> g3p_c + pyr_c\n-0.16450046680266062 TALA: g3p_c + s7p_c <=> e4p_c + f6p_c\n0.0 TGBPA: tagdp__D_c <=> dhap_c + g3p_c\n0.02686593551272348 TRPS1: 3ig3p_c + ser__L_c --> g3p_c + h2o_c + trp__L_c\n8.903724302980127 F6PA: f6p_c <=> dha_c + g3p_c\n0.0 DDPGALA: 2dh3dgal6p_c <=> g3p_c + pyr_c\n"
     ]
    }
   ],
   "source": [
    "for r in model.metabolites.get_by_id('g3p_c').reactions:\n",
    "    print(solution.fluxes[r.id], r)"
   ]
  },
  {
   "cell_type": "code",
   "execution_count": 46,
   "metadata": {},
   "outputs": [
    {
     "output_type": "stream",
     "name": "stdout",
     "text": [
      "-0.16450046680266062 TKT1: r5p_c + xu5p__D_c <=> g3p_c + s7p_c\n-0.16450046680266062 TALA: g3p_c + s7p_c <=> e4p_c + f6p_c\n0.0 S7PI: s7p_c --> gmhep7p_c\n"
     ]
    }
   ],
   "source": [
    "for r in model.metabolites.get_by_id('s7p_c').reactions:\n",
    "    print(solution.fluxes[r.id], r)"
   ]
  },
  {
   "cell_type": "code",
   "execution_count": 47,
   "metadata": {},
   "outputs": [
    {
     "output_type": "stream",
     "name": "stdout",
     "text": [
      "0.368716341469047 GF6PTA: f6p_c + gln__L_c --> gam6p_c + glu__L_c\n0.0 MAN6PI: man6p_c <=> f6p_c\n9.781806902332953 PGI: g6p_c <=> f6p_c\n0.0 M1PD: mnl1p_c + nad_c <=> f6p_c + h_c + nadh_c\n0.0 FBP: fdp_c + h2o_c --> f6p_c + pi_c\n0.0 FRUpts2pp: fru_p + pep_c --> f6p_c + pyr_c\n-0.34486579108111914 TKT2: e4p_c + xu5p__D_c <=> f6p_c + g3p_c\n0.0 G6PDA: gam6p_c + h2o_c --> f6p_c + nh4_c\n0.0 PFK: atp_c + f6p_c --> adp_c + fdp_c + h_c\n0.0 SBTPD: nad_c + sbt6p_c <=> f6p_c + h_c + nadh_c\n-0.16450046680266062 TALA: g3p_c + s7p_c <=> e4p_c + f6p_c\n8.903724302980127 F6PA: f6p_c <=> dha_c + g3p_c\n0.0 FRUpts2: fru_e + pep_c --> f6p_c + pyr_c\n0.0 HEX7: atp_c + fru_c --> adp_c + f6p_c + h_c\n"
     ]
    }
   ],
   "source": [
    "for r in model.metabolites.get_by_id('f6p_c').reactions:\n",
    "    print(solution.fluxes[r.id], r)"
   ]
  },
  {
   "cell_type": "code",
   "execution_count": 48,
   "metadata": {},
   "outputs": [
    {
     "output_type": "stream",
     "name": "stdout",
     "text": [
      "-0.16450046680266062 TALA: g3p_c + s7p_c <=> e4p_c + f6p_c\n0.18036532427845853 DDPA: e4p_c + h2o_c + pep_c --> 2dda7p_c + pi_c\n0.0 E4PD: e4p_c + h2o_c + nad_c <=> 4per_c + 2.0 h_c + nadh_c\n0.0 FBA3: s17bp_c <=> dhap_c + e4p_c\n-0.34486579108111914 TKT2: e4p_c + xu5p__D_c <=> f6p_c + g3p_c\n"
     ]
    }
   ],
   "source": [
    "for r in model.metabolites.get_by_id('e4p_c').reactions:\n",
    "    print(solution.fluxes[r.id], r)"
   ]
  },
  {
   "source": [
    "### ED Pathway"
   ],
   "cell_type": "markdown",
   "metadata": {}
  },
  {
   "cell_type": "code",
   "execution_count": 49,
   "metadata": {},
   "outputs": [
    {
     "output_type": "execute_result",
     "data": {
      "text/plain": [
       "<Reaction EDA at 0x13b1d2550>"
      ],
      "text/html": "\n        <table>\n            <tr>\n                <td><strong>Reaction identifier</strong></td><td>EDA</td>\n            </tr><tr>\n                <td><strong>Name</strong></td><td>2-dehydro-3-deoxy-phosphogluconate aldolase</td>\n            </tr><tr>\n                <td><strong>Memory address</strong></td>\n                <td>0x013b1d2550</td>\n            </tr><tr>\n                <td><strong>Stoichiometry</strong></td>\n                <td>\n                    <p style='text-align:right'>2ddg6p_c --> g3p_c + pyr_c</p>\n                    <p style='text-align:right'>2-Dehydro-3-deoxy-D-gluconate 6-phosphate --> Glyceraldehyde 3-phosphate + Pyruvate</p>\n                </td>\n            </tr><tr>\n                <td><strong>GPR</strong></td><td>WP_005250926_1 or WP_005251224_1 or WP_005251401_1</td>\n            </tr><tr>\n                <td><strong>Lower bound</strong></td><td>0.0</td>\n            </tr><tr>\n                <td><strong>Upper bound</strong></td><td>1000.0</td>\n            </tr>\n        </table>\n        "
     },
     "metadata": {},
     "execution_count": 49
    }
   ],
   "source": [
    "model.reactions.get_by_id('EDA')"
   ]
  },
  {
   "cell_type": "code",
   "execution_count": 51,
   "metadata": {},
   "outputs": [
    {
     "output_type": "stream",
     "name": "stdout",
     "text": [
      "0.0 PGLCNDH: 6p2dhglcn_c + nadph_c <=> 6pgc_c + 2.0 h_c + nadp_c\n0.0 GNK: atp_c + glcn_c --> 6pgc_c + adp_c + h_c\n0.0 EDD: 6pgc_c --> 2ddg6p_c + h2o_c\n0.0 PGL: 6pgl_c + h2o_c --> 6pgc_c + h_c\n0.0 GND: 6pgc_c + nadp_c --> co2_c + nadph_c + ru5p__D_c\n"
     ]
    }
   ],
   "source": [
    "for r in model.metabolites.get_by_id('6pgc_c').reactions:\n",
    "    print(solution.fluxes[r.id], r)"
   ]
  },
  {
   "cell_type": "code",
   "execution_count": 50,
   "metadata": {},
   "outputs": [
    {
     "output_type": "stream",
     "name": "stdout",
     "text": [
      "0.0 EDD: 6pgc_c --> 2ddg6p_c + h2o_c\n0.0 EDA: 2ddg6p_c --> g3p_c + pyr_c\n0.0 DDGLK: 2ddglcn_c + atp_c --> 2ddg6p_c + adp_c + h_c\n"
     ]
    }
   ],
   "source": [
    "# KDPG\n",
    "for r in model.metabolites.get_by_id('2ddg6p_c').reactions:\n",
    "    print(solution.fluxes[r.id], r)"
   ]
  },
  {
   "cell_type": "code",
   "execution_count": 74,
   "metadata": {},
   "outputs": [
    {
     "output_type": "stream",
     "name": "stdout",
     "text": [
      "0.0 MNNH: mana_c --> 2ddglcn_c + h2o_c\n0.0 DDGLK: 2ddglcn_c + atp_c --> 2ddg6p_c + adp_c + h_c\n"
     ]
    }
   ],
   "source": [
    "# KDPG\n",
    "for r in model.metabolites.get_by_id('2ddglcn_c').reactions:\n",
    "    print(solution.fluxes[r.id], r)"
   ]
  },
  {
   "cell_type": "code",
   "execution_count": 72,
   "metadata": {},
   "outputs": [
    {
     "output_type": "execute_result",
     "data": {
      "text/plain": [
       "<Metabolite 2ddglcn_c at 0x13a213810>"
      ],
      "text/html": "\n        <table>\n            <tr>\n                <td><strong>Metabolite identifier</strong></td><td>2ddglcn_c</td>\n            </tr><tr>\n                <td><strong>Name</strong></td><td>2-Dehydro-3-deoxy-D-gluconate</td>\n            </tr><tr>\n                <td><strong>Memory address</strong></td>\n                <td>0x013a213810</td>\n            </tr><tr>\n                <td><strong>Formula</strong></td><td>C6H9O6</td>\n            </tr><tr>\n                <td><strong>Compartment</strong></td><td>C_c</td>\n            </tr><tr>\n                <td><strong>In 2 reaction(s)</strong></td><td>\n                    MNNH, DDGLK</td>\n            </tr>\n        </table>"
     },
     "metadata": {},
     "execution_count": 72
    }
   ],
   "source": [
    "model.metabolites.get_by_id('2ddglcn_c')"
   ]
  },
  {
   "cell_type": "code",
   "execution_count": 73,
   "metadata": {},
   "outputs": [
    {
     "output_type": "execute_result",
     "data": {
      "text/plain": [
       "<Metabolite 2ddg6p_c at 0x13a4f8090>"
      ],
      "text/html": "\n        <table>\n            <tr>\n                <td><strong>Metabolite identifier</strong></td><td>2ddg6p_c</td>\n            </tr><tr>\n                <td><strong>Name</strong></td><td>2-Dehydro-3-deoxy-D-gluconate 6-phosphate</td>\n            </tr><tr>\n                <td><strong>Memory address</strong></td>\n                <td>0x013a4f8090</td>\n            </tr><tr>\n                <td><strong>Formula</strong></td><td>C6H8O9P</td>\n            </tr><tr>\n                <td><strong>Compartment</strong></td><td>C_c</td>\n            </tr><tr>\n                <td><strong>In 3 reaction(s)</strong></td><td>\n                    EDD, EDA, DDGLK</td>\n            </tr>\n        </table>"
     },
     "metadata": {},
     "execution_count": 73
    }
   ],
   "source": [
    "model.metabolites.get_by_id('2ddg6p_c')"
   ]
  },
  {
   "cell_type": "code",
   "execution_count": 75,
   "metadata": {},
   "outputs": [
    {
     "output_type": "execute_result",
     "data": {
      "text/plain": [
       "<Metabolite mana_c at 0x13a7af850>"
      ],
      "text/html": "\n        <table>\n            <tr>\n                <td><strong>Metabolite identifier</strong></td><td>mana_c</td>\n            </tr><tr>\n                <td><strong>Name</strong></td><td>D-Mannonate</td>\n            </tr><tr>\n                <td><strong>Memory address</strong></td>\n                <td>0x013a7af850</td>\n            </tr><tr>\n                <td><strong>Formula</strong></td><td>C6H11O7</td>\n            </tr><tr>\n                <td><strong>Compartment</strong></td><td>C_c</td>\n            </tr><tr>\n                <td><strong>In 2 reaction(s)</strong></td><td>\n                    MNNH, MANAO</td>\n            </tr>\n        </table>"
     },
     "metadata": {},
     "execution_count": 75
    }
   ],
   "source": [
    "model.metabolites.get_by_id('mana_c')\n"
   ]
  },
  {
   "source": [
    "### Glyoxylate Shunt"
   ],
   "cell_type": "markdown",
   "metadata": {}
  },
  {
   "cell_type": "code",
   "execution_count": 53,
   "metadata": {},
   "outputs": [
    {
     "output_type": "stream",
     "name": "stdout",
     "text": [
      "0.0 ICDHx: icit_c + nad_c <=> akg_c + co2_c + nadh_c\n0.0 ICL: icit_c --> glx_c + succ_c\n0.6107483029774257 ICDHyr: icit_c + nadp_c <=> akg_c + co2_c + nadph_c\n0.0 ACONT: cit_c <=> icit_c\n0.6107483029774257 ACONTb: acon_C_c + h2o_c <=> icit_c\n0.0 ICITt_kt: h_p + icit_p <=> h_c + icit_c\n"
     ]
    }
   ],
   "source": [
    "for r in model.metabolites.get_by_id('icit_c').reactions:\n",
    "    print(solution.fluxes[r.id], r)"
   ]
  },
  {
   "cell_type": "code",
   "execution_count": 76,
   "metadata": {},
   "outputs": [
    {
     "output_type": "stream",
     "name": "stdout",
     "text": [
      "0.0 ICL: icit_c --> glx_c + succ_c\n"
     ]
    }
   ],
   "source": [
    "met_1 = model.metabolites.get_by_id('icit_c')\n",
    "met_2 = model.metabolites.get_by_id('glx_c')\n",
    "\n",
    "for r in met_1.reactions:\n",
    "    if met_2 in r.metabolites:\n",
    "        print(solution.fluxes[r.id], r)"
   ]
  },
  {
   "cell_type": "code",
   "execution_count": 54,
   "metadata": {},
   "outputs": [
    {
     "output_type": "stream",
     "name": "stdout",
     "text": [
      "0.0 GLXCL: 2.0 glx_c + h_c --> 2h3oppan_c + co2_c\n0.0 GLYCTO1: glyclt_c + o2_c --> glx_c + h2o2_c\n0.0 GLYCTO2: glyclt_c + q8_c --> glx_c + q8h2_c\n0.0006854132205822015 GLYCTO4: 2dmmq8_c + glyclt_c --> 2dmmql8_c + glx_c\n0.0 GLYO1: gly_c + h2o_c + o2_c --> glx_c + h2o2_c + nh4_c\n0.0 GLYCLTDx: glx_c + h_c + nadh_c --> glyclt_c + nad_c\n0.0 UGLYCH: h2o_c + 2.0 h_c + urdglyc_c --> co2_c + glx_c + 2.0 nh4_c\n0.0 GLXO1: glx_c + h2o_c + nad_c --> 2.0 h_c + nadh_c + oxa_c\n0.0 GLYCTO3: glyclt_c + mqn8_c --> glx_c + mql8_c\n0.0006854132205822015 MALS: accoa_c + glx_c + h2o_c --> coa_c + h_c + mal__L_c\n0.0 ICL: icit_c --> glx_c + succ_c\n0.0 FDMO6: fmnh2_c + o2_c + sulfac_c --> fmn_c + glx_c + h2o_c + h_c + so3_c\n0.0 FDMO5_1: fmnRD_c + o2_c + sula_c --> fmn_c + glx_c + h2o_c + h_c + so3_c\n"
     ]
    }
   ],
   "source": [
    "for r in model.metabolites.get_by_id('glx_c').reactions:\n",
    "    print(solution.fluxes[r.id], r)"
   ]
  },
  {
   "cell_type": "code",
   "execution_count": 77,
   "metadata": {},
   "outputs": [
    {
     "output_type": "stream",
     "name": "stdout",
     "text": [
      "0.0006854132205822015 MALS: accoa_c + glx_c + h2o_c --> coa_c + h_c + mal__L_c\n"
     ]
    }
   ],
   "source": [
    "met_1 = model.metabolites.get_by_id('glx_c')\n",
    "met_2 = model.metabolites.get_by_id('mal__L_c')\n",
    "\n",
    "for r in met_1.reactions:\n",
    "    if met_2 in r.metabolites:\n",
    "        print(solution.fluxes[r.id], r)"
   ]
  },
  {
   "cell_type": "code",
   "execution_count": 56,
   "metadata": {},
   "outputs": [
    {
     "output_type": "stream",
     "name": "stdout",
     "text": [
      "0.0 AKGMAL: akg_c + mal__L_e <=> akg_e + mal__L_c\n0.0 MALt2_2pp: 2.0 h_p + mal__L_p --> 2.0 h_c + mal__L_c\n0.0 MALtpp: h_p + mal__L_p <=> h_c + mal__L_c\n0.0 ME1: mal__L_c + nad_c --> co2_c + nadh_c + pyr_c\n0.4301449471647297 MDH: mal__L_c + nad_c <=> h_c + nadh_c + oaa_c\n0.0 MDH3: mal__L_c + mqn8_c --> mql8_c + oaa_c\n0.4294595339441475 FUM: fum_c + h2o_c <=> mal__L_c\n0.0 MDH2: mal__L_c + q8_c --> oaa_c + q8h2_c\n0.0006854132205822015 MALS: accoa_c + glx_c + h2o_c --> coa_c + h_c + mal__L_c\n0.0 ME2: mal__L_c + nadp_c --> co2_c + nadph_c + pyr_c\n0.0 MALt2_2: 2.0 h_e + mal__L_e --> 2.0 h_c + mal__L_c\n0.0 MALt2r: h_e + mal__L_e <=> h_c + mal__L_c\n0.0 DMALRED: fad_c + mal__L_c --> fadh2_c + oaa_c\n"
     ]
    }
   ],
   "source": [
    "for r in model.metabolites.get_by_id('mal__L_c').reactions:\n",
    "    print(solution.fluxes[r.id], r)"
   ]
  },
  {
   "source": [
    "### Anaplerotic Pathways"
   ],
   "cell_type": "markdown",
   "metadata": {}
  },
  {
   "cell_type": "code",
   "execution_count": 58,
   "metadata": {},
   "outputs": [
    {
     "output_type": "stream",
     "name": "stdout",
     "text": [
      "0.0 ALAD_L: ala__L_c + h2o_c + nad_c --> h_c + nadh_c + nh4_c + pyr_c\n0.0 SERD_D: ser__D_c --> nh4_c + pyr_c\n0.0 FRUpts2: fru_e + pep_c --> f6p_c + pyr_c\n0.0 L_LACD2: lac__L_c + q8_c --> pyr_c + q8h2_c\n0.0 FRUpts2pp: fru_p + pep_c --> f6p_c + pyr_c\n0.0 MANpts: man_e + pep_c --> man6p_c + pyr_c\n0.0 PYRt4pp: na1_p + pyr_p --> na1_c + pyr_c\n7.695032684777191e-05 SHCHCS: ichor_c + sucsal_c --> 2shchc_c + pyr_c\n0.0 GLCptspp: glc__D_p + pep_c --> g6p_c + pyr_c\n0.0 SUCptspp: pep_c + sucr_p --> pyr_c + suc6p_c\n-0.8869395575110752 ALATA_L: akg_c + ala__L_c <=> glu__L_c + pyr_c\n0.0 PFOR: coa_c + fldox_c + h_c + pyr_c --> accoa_c + co2_c + fldrd_c\n0.0 SUCpts: pep_c + sucr_e --> pyr_c + suc6p_c\n0.0 CYSTL: cyst__L_c + h2o_c --> hcys__L_c + nh4_c + pyr_c\n0.0 SBTpts: pep_c + sbt__D_e --> pyr_c + sbt6p_c\n0.0 SHCHCS2: ichor_c + ssaltpp_c --> 2shchc_c + pyr_c + thmpp_c\n0.0 ACGApts: acgam_e + pep_c --> acgam6p_c + pyr_c\n0.0 4H2KPILY: 4h2kpi_c --> pyr_c + sucsal_c\n0.0 DHAPT: dha_c + pep_c --> dhap_c + pyr_c\n0.0 SALCpts: pep_c + salcn_e --> pyr_c + salcn6p_c\n0.0 ACNML: acnam_c --> acmana_c + pyr_c\n0.0 EDA: 2ddg6p_c --> g3p_c + pyr_c\n0.0 ACGAptspp: acgam_p + pep_c --> acgam6p_c + pyr_c\n0.0 DAAD: ala__D_c + fad_c + h2o_c --> fadh2_c + nh4_c + pyr_c\n0.02686593551272348 ANS: chor_c + gln__L_c --> anth_c + glu__L_c + h_c + pyr_c\n0.0 ME2: mal__L_c + nadp_c --> co2_c + nadph_c + pyr_c\n0.0 LACD: dhlplarg_c + mql8_c + 2.0 pyr_c <=> 2.0 lac__D_c + lplarg_c + mqn8_c\n0.0 DHEDAA: 24dhhed_c --> pyr_c + sucsal_c\n0.0 ARBTpts: arbt_e + pep_c --> arbt6p_c + pyr_c\n0.0 L_LACD3: lac__L_c + mqn8_c --> mql8_c + pyr_c\n0.15907065016828875 ACHBS: 2obut_c + h_c + pyr_c --> 2ahbut_c + co2_c\n0.0 GLCRAL_1: 5d4dglcr_c --> 2h3opp_c + pyr_c\n0.0 HOPNTAL3: 4h2opntn_c --> acald_c + pyr_c\n0.0 LDH_D: lac__D_c + nad_c <=> h_c + nadh_c + pyr_c\n0.0 OAADC: h_c + oaa_c --> co2_c + pyr_c\n0.0 TREpts: pep_c + tre_e --> pyr_c + tre6p_c\n0.0007869559199277294 DXPS: g3p_c + h_c + pyr_c --> co2_c + dxyl5p_c\n0.0 TREptspp: pep_c + tre_p --> pyr_c + tre6p_c\n0.0 ALATA_L2: ala__L_c + pydx5p_c --> pyam5p_c + pyr_c\n0.0 MALTptspp: malt_p + pep_c --> malt6p_c + pyr_c\n0.0 PDHa: h_c + lpam_c + pyr_c --> adhlam_c + co2_c\n0.0 TRPAS1: cys__L_c + h2o_c --> h2s_c + nh4_c + pyr_c\n3.445691484186008 PYK: adp_c + h_c + pep_c --> atp_c + pyr_c\n0.0 GLCRAL: 5dh4dglc_c --> 2h3oppan_c + pyr_c\n0.0 ICHORT: h2o_c + ichor_c --> 23ddhb_c + pyr_c\n0.0 LDH_L: lac__L_c + nad_c <=> h_c + nadh_c + pyr_c\n0.0 MCITL2: micit_c <=> pyr_c + succ_c\n1.111479584933243 ACLS: h_c + 2.0 pyr_c --> alac__S_c + co2_c\n0.0 FRUptspp: fru_p + pep_c --> f1p_c + pyr_c\n0.0 MNLpts: mnl_e + pep_c --> mnl1p_c + pyr_c\n0.0 MALTpts: malt_e + pep_c --> malt6p_c + pyr_c\n0.0 PYRDC: h_c + pyr_c --> acald_c + co2_c\n0.0 DDPGALA: 2dh3dgal6p_c <=> g3p_c + pyr_c\n0.0 PPS: atp_c + h2o_c + pyr_c --> amp_c + 2.0 h_c + pep_c + pi_c\n0.0 ACMANApts: acmana_e + pep_c --> acmanap_c + pyr_c\n0.0005140599154366476 ADCL: 4adcho_c --> 4abz_c + h_c + pyr_c\n0.0 SERD_L: ser__L_c --> nh4_c + pyr_c\n10.041202386339553 PDH: coa_c + nad_c + pyr_c --> accoa_c + co2_c + nadh_c\n0.2793873500024739 DHDPS: aspsa_c + pyr_c --> 23dhdp_c + 2.0 h2o_c + h_c\n0.0 GALTpts: galt_e + pep_c --> galt1p_c + pyr_c\n0.0 SALCptspp: pep_c + salcn_p --> pyr_c + salcn6p_c\n0.0 HOPNTAL: 4h2opntn_c --> acald_c + pyr_c\n0.0 PYRt2rpp: h_p + pyr_p <=> h_c + pyr_c\n0.0 ME1: mal__L_c + nad_c --> co2_c + nadh_c + pyr_c\n0.0 ARUH: arg__L_c + pyr_c <=> 5g2oxpt_c + ala__L_c\n10.0 GLCpts: glc__D_e + pep_c --> g6p_c + pyr_c\n0.0 PC: atp_c + hco3_c + pyr_c --> adp_c + h_c + oaa_c + pi_c\n0.0 POX: h2o_c + pyr_c + q8_c --> ac_c + co2_c + q8h2_c\n0.11719763986678855 ALATA_D: akg_c + ala__D_c <=> glu__D_c + pyr_c\n0.0 GAMpts: gam_e + pep_c --> gam6p_c + pyr_c\n0.0 HOPNTAL2: 4hoxoh_c --> ppal_c + pyr_c\n0.0 DALAOX: ala__D_c + h2o_c + o2_c --> h2o2_c + nh4_c + pyr_c\n0.0 L_LACD: 2.0 ficytc_c + lac__L_c --> 2.0 focytc_c + pyr_c\n0.0 MALDDH: mal__D_c + nad_c --> co2_c + nadh_c + pyr_c\n0.0 FRUpts: fru_e + pep_c --> f1p_c + pyr_c\n"
     ]
    }
   ],
   "source": [
    "for r in model.metabolites.get_by_id('pyr_c').reactions:\n",
    "    print(solution.fluxes[r.id], r)"
   ]
  },
  {
   "cell_type": "code",
   "execution_count": 78,
   "metadata": {},
   "outputs": [
    {
     "output_type": "stream",
     "name": "stdout",
     "text": [
      "0.0 OAADC: h_c + oaa_c --> co2_c + pyr_c\n0.0 PC: atp_c + hco3_c + pyr_c --> adp_c + h_c + oaa_c + pi_c\n"
     ]
    }
   ],
   "source": [
    "met_1 = model.metabolites.get_by_id('pyr_c')\n",
    "met_2 = model.metabolites.get_by_id('oaa_c')\n",
    "\n",
    "for r in met_1.reactions:\n",
    "    if met_2 in r.metabolites:\n",
    "        print(solution.fluxes[r.id], r)"
   ]
  },
  {
   "cell_type": "code",
   "execution_count": 57,
   "metadata": {},
   "outputs": [
    {
     "output_type": "stream",
     "name": "stdout",
     "text": [
      "0.0 DTARTD: tartr__D_c --> h2o_c + oaa_c\n0.0 OAAt2_2pp: 2.0 h_p + oaa_p --> 2.0 h_c + oaa_c\n1.9831958198062956 PPC: co2_c + h2o_c + pep_c --> h_c + oaa_c + pi_c\n0.0 CITL: cit_c --> ac_c + oaa_c\n0.4301449471647297 MDH: mal__L_c + nad_c <=> h_c + nadh_c + oaa_c\n0.0 MDH3: mal__L_c + mqn8_c --> mql8_c + oaa_c\n0.0 PC: atp_c + hco3_c + pyr_c --> adp_c + h_c + oaa_c + pi_c\n0.0 MDH2: mal__L_c + q8_c --> oaa_c + q8h2_c\n0.0 OAADC: h_c + oaa_c --> co2_c + pyr_c\n0.0 PPCK: atp_c + oaa_c --> adp_c + co2_c + pep_c\n0.0 ASPO1: asp__L_c + h2o_c + o2_c --> h2o2_c + nh4_c + oaa_c\n0.6107483029774257 CS: accoa_c + h2o_c + oaa_c --> cit_c + coa_c + h_c\n0.0 PEPCK_re: gtp_c + oaa_c --> co2_c + gdp_c + pep_c\n-1.8025924639935995 ASPTA: akg_c + asp__L_c <=> glu__L_c + oaa_c\n0.0 DMALRED: fad_c + mal__L_c --> fadh2_c + oaa_c\n"
     ]
    }
   ],
   "source": [
    "for r in model.metabolites.get_by_id('oaa_c').reactions:\n",
    "    print(solution.fluxes[r.id], r)"
   ]
  },
  {
   "cell_type": "code",
   "execution_count": 79,
   "metadata": {},
   "outputs": [
    {
     "output_type": "stream",
     "name": "stdout",
     "text": [
      "0.0 ME2: mal__L_c + nadp_c --> co2_c + nadph_c + pyr_c\n0.0 ME1: mal__L_c + nad_c --> co2_c + nadh_c + pyr_c\n"
     ]
    }
   ],
   "source": [
    "met_1 = model.metabolites.get_by_id('pyr_c')\n",
    "met_2 = model.metabolites.get_by_id('mal__L_c')\n",
    "\n",
    "for r in met_1.reactions:\n",
    "    if met_2 in r.metabolites:\n",
    "        print(solution.fluxes[r.id], r)"
   ]
  },
  {
   "cell_type": "code",
   "execution_count": 59,
   "metadata": {},
   "outputs": [
    {
     "output_type": "stream",
     "name": "stdout",
     "text": [
      "0.0 TREpts: pep_c + tre_e --> pyr_c + tre6p_c\n0.0 FRUpts2: fru_e + pep_c --> f6p_c + pyr_c\n0.0 TREptspp: pep_c + tre_p --> pyr_c + tre6p_c\n0.0 MALTptspp: malt_p + pep_c --> malt6p_c + pyr_c\n3.445691484186008 PYK: adp_c + h_c + pep_c --> atp_c + pyr_c\n0.0 FRUpts2pp: fru_p + pep_c --> f6p_c + pyr_c\n0.0 MNLpts: mnl_e + pep_c --> mnl1p_c + pyr_c\n0.0 FRUptspp: fru_p + pep_c --> f1p_c + pyr_c\n0.0 KDOPS: ara5p_c + h2o_c + pep_c --> kdo8p_c + pi_c\n0.0 MALTpts: malt_e + pep_c --> malt6p_c + pyr_c\n0.0 MANpts: man_e + pep_c --> man6p_c + pyr_c\n0.18036532427845853 DDPA: e4p_c + h2o_c + pep_c --> 2dda7p_c + pi_c\n0.0 GLCptspp: glc__D_p + pep_c --> g6p_c + pyr_c\n0.0 SUCptspp: pep_c + sucr_p --> pyr_c + suc6p_c\n1.9831958198062956 PPC: co2_c + h2o_c + pep_c --> h_c + oaa_c + pi_c\n0.0 PPS: atp_c + h2o_c + pyr_c --> amp_c + 2.0 h_c + pep_c + pi_c\n0.0 SUCpts: pep_c + sucr_e --> pyr_c + suc6p_c\n0.11719763986678855 UAGCVT: pep_c + uacgam_c --> pi_c + uaccg_c\n0.0 SBTpts: pep_c + sbt__D_e --> pyr_c + sbt6p_c\n0.0 ACMANApts: acmana_e + pep_c --> acmanap_c + pyr_c\n0.0 ACGApts: acgam_e + pep_c --> acgam6p_c + pyr_c\n0.0 DHAPT: dha_c + pep_c --> dhap_c + pyr_c\n0.0 SALCpts: pep_c + salcn_e --> pyr_c + salcn6p_c\n0.0 GALTpts: galt_e + pep_c --> galt1p_c + pyr_c\n0.0 PEPCK_re: gtp_c + oaa_c --> co2_c + gdp_c + pep_c\n15.90681559241601 ENO: 2pg_c <=> h2o_c + pep_c\n0.0 ACGAptspp: acgam_p + pep_c --> acgam6p_c + pyr_c\n0.0 PPCK: atp_c + oaa_c --> adp_c + co2_c + pep_c\n0.18036532427845853 PSCVT: pep_c + skm5p_c <=> 3psme_c + pi_c\n10.0 GLCpts: glc__D_e + pep_c --> g6p_c + pyr_c\n0.0 ARBTpts: arbt_e + pep_c --> arbt6p_c + pyr_c\n0.0 GAMpts: gam_e + pep_c --> gam6p_c + pyr_c\n0.0 SALCptspp: pep_c + salcn_p --> pyr_c + salcn6p_c\n0.0 FRUpts: fru_e + pep_c --> f1p_c + pyr_c\n"
     ]
    }
   ],
   "source": [
    "for r in model.metabolites.get_by_id('pep_c').reactions:\n",
    "    print(solution.fluxes[r.id], r)"
   ]
  },
  {
   "cell_type": "code",
   "execution_count": 80,
   "metadata": {},
   "outputs": [
    {
     "output_type": "stream",
     "name": "stdout",
     "text": [
      "1.9831958198062956 PPC: co2_c + h2o_c + pep_c --> h_c + oaa_c + pi_c\n0.0 PEPCK_re: gtp_c + oaa_c --> co2_c + gdp_c + pep_c\n0.0 PPCK: atp_c + oaa_c --> adp_c + co2_c + pep_c\n"
     ]
    }
   ],
   "source": [
    "met_1 = model.metabolites.get_by_id('pep_c')\n",
    "met_2 = model.metabolites.get_by_id('oaa_c')\n",
    "\n",
    "for r in met_1.reactions:\n",
    "    if met_2 in r.metabolites:\n",
    "        print(solution.fluxes[r.id], r)"
   ]
  },
  {
   "source": [
    "### Acetate Formation"
   ],
   "cell_type": "markdown",
   "metadata": {}
  },
  {
   "cell_type": "code",
   "execution_count": 82,
   "metadata": {},
   "outputs": [
    {
     "output_type": "stream",
     "name": "stdout",
     "text": [
      "0.0 ACS: ac_c + atp_c + coa_c --> accoa_c + amp_c + ppi_c\n0.0 HXCT: accoa_c + hxa_c --> ac_c + hxcoa_c\n0.0 BUTCT: accoa_c + but_c --> ac_c + btcoa_c\n0.0 ACACCT: acac_c + accoa_c --> aacoa_c + ac_c\n"
     ]
    }
   ],
   "source": [
    "met_1 = model.metabolites.get_by_id('accoa_c')\n",
    "met_2 = model.metabolites.get_by_id('ac_c')\n",
    "\n",
    "for r in met_1.reactions:\n",
    "    if met_2 in r.metabolites:\n",
    "        print(solution.fluxes[r.id], r)"
   ]
  },
  {
   "source": [
    "### 1-Carbon metabolism"
   ],
   "cell_type": "markdown",
   "metadata": {}
  },
  {
   "cell_type": "code",
   "execution_count": null,
   "metadata": {},
   "outputs": [],
   "source": []
  },
  {
   "cell_type": "code",
   "execution_count": null,
   "metadata": {},
   "outputs": [],
   "source": []
  },
  {
   "source": [
    "### Oxidative Phosphorylation"
   ],
   "cell_type": "markdown",
   "metadata": {}
  },
  {
   "cell_type": "code",
   "execution_count": 60,
   "metadata": {},
   "outputs": [
    {
     "output_type": "stream",
     "name": "stdout",
     "text": [
      "0.0 FADRx: fad_c + h_c + nadh_c --> fadh2_c + nad_c\n0.0 UACGAMDH: nad_c + uacgam_c <=> h_c + nadh_c + uacgamo_c\n0.0 LCARS: h_c + lald__L_c + nadh_c <=> 12ppd__S_c + nad_c\n0.0 MMSAD2: coa_c + nad_c + ppal_c <=> h_c + nadh_c + ppcoa_c\n0.0 GLYCL: gly_c + nad_c + thf_c --> co2_c + mlthf_c + nadh_c + nh4_c\n0.0 ALDD3: h2o_c + nad_c + ppal_c --> 2.0 h_c + nadh_c + ppa_c\n0.0 MTHFR2_1: 2.0 h_c + mlthf_c + nadh_c --> 5mthf_c + nad_c\n0.0 ALDD31_1: amacald_c + h2o_c + nad_c --> gly_c + h_c + nadh_c\n0.0 EAR140x: h_c + nadh_c + tmrs2eACP_c --> myrsACP_c + nad_c\n0.0 XMO: h_c + nadh_c + o2_c + tol_c --> bzalc_c + h2o_c + nad_c\n0.0 HACD7i: 3hhdcoa_c + nad_c --> 3ohdcoa_c + h_c + nadh_c\n0.0 MTHFR2: 2.0 h_c + mlthf_c + nadh_c --> 5mthf_c + nad_c\n0.0 EAR80x: h_c + nadh_c + toct2eACP_c --> nad_c + ocACP_c\n0.0 MTHFD2i: mlthf_c + nad_c --> methf_c + nadh_c\n0.0 ALDD2x: acald_c + h2o_c + nad_c --> ac_c + 2.0 h_c + nadh_c\n0.0 GLUSx: akg_c + gln__L_c + h_c + nadh_c --> 2.0 glu__L_c + nad_c\n0.0 OXPTNDH: h2o_c + nad_c + oxptn_c --> glutar_c + 2.0 h_c + nadh_c\n0.0 EAR120x: h_c + nadh_c + tddec2eACP_c --> ddcaACP_c + nad_c\n0.0 Growth: 0.000216499790822049 10fthf_c + 0.498715520392769 ala__L_c + 0.000216499790822049 amet_c + 0.287169982631549 arg__L_c + 0.234028507069996 asn__L_c + 0.234028507069996 asp__L_c + 52.5471506268106 atp_c + 0.00505327987098101 ca2_c + 0.00505327987098101 cl_c + 0.000559210222033633 coa_c + 9.70851079919502e-05 cobalt2_c + 0.129616385977893 ctp_c + 0.000688333415662927 cu2_c + 0.088910541899028 cys__L_c + 0.0254032893571737 datp_c + 0.0262294836261852 dctp_c + 0.0262294836261852 dgtp_c + 0.0254032893571737 dttp_c + 0.000216499790822049 fad_c + 0.00651926500165946 fe2_c + 0.00758040523201147 fe3_c + 0.255489170191616 gln__L_c + 0.255489170191616 glu__L_c + 0.594780263899724 gly_c + 0.000970851079919502 gtca1_45_BS_c + 0.000970851079919502 gtca2_45_BS_c + 0.000970851079919502 gtca3_45_BS_c + 0.208826183886365 gtp_c + 47.1848449736869 h2o_c + 0.0919764896094138 his__L_c + 0.282060393397933 ile__L_c + 0.189503334842727 k_c + 0.437398507887213 leu__L_c + 4.85425539959751e-05 lipo1_24_BS_c + 4.85425539959751e-05 lipo2_24_BS_c + 4.85425539959751e-05 lipo3_24_BS_c + 4.85425539959751e-05 lipo4_24_BS_c + 0.333158227436256 lys__L_c + 0.149206219068509 met__L_c + 0.00842213311830168 mg2_c + 0.000216499790822049 mlthf_c + 0.000670858096224376 mn2_c + 9.70851079919502e-05 mql8_c + 0.00177762832733261 nad_c + 0.000433970432724018 nadp_c + 0.00970851079919502 peptido_BS_c + 0.179864725321287 phe__L_c + 0.214611485471606 pro__L_c + 0.000216499790822049 pydx5p_c + 0.000216499790822049 ribflv_c + 0.209501896237989 ser__L_c + 0.0042115519846908 so4_c + 0.000216499790822049 thf_c + 0.000216499790822049 thmpp_c + 0.246292297911539 thr__L_c + 0.0551860879358643 trp__L_c + 0.13387648051658 tyr__L_c + 0.13990352402072 utp_c + 0.410827284680896 val__L_c + 0.00033106021825255 zn2_c --> 52.3774157616572 adp_c + 52.3774157616572 h_c + 52.3732042096725 pi_c + 0.751344563302943 ppi_c\n0.9040106394806502 PGCD: 3pg_c + nad_c --> 3php_c + h_c + nadh_c\n0.0 NTRIR2x: 5.0 h_c + 3.0 nadh_c + no2_c --> 2.0 h2o_c + 3.0 nad_c + nh4_c\n0.09685866279949029 GCCc: dhlpro_c + nad_c --> h_c + lpro_c + nadh_c\n0.0 EAR60x: h_c + nadh_c + thex2eACP_c --> hexACP_c + nad_c\n0.0 LCARR: h_c + lald__D_c + nadh_c <=> 12ppd__R_c + nad_c\n0.0 PERD: 4per_c + nad_c <=> h_c + nadh_c + ohpb_c\n-0.006825642078693854 ACOAD4_1: dccoa_c + nad_c <=> dc2coa_c + h_c + nadh_c\n0.0 BZALDH: bzalc_c + nad_c <=> bzal_c + h_c + nadh_c\n0.0 LIPOS: 4fe4s_c + 2.0 amet_c + h_c + nad_c + octapb_c --> 2fe2s_c + 2.0 dad_5_c + 2.0 fe2_c + lipopb_c + 2.0 met__L_c + nadh_c\n0.1873264477340064 IMPD: h2o_c + imp_c + nad_c --> h_c + nadh_c + xmp_c\n0.0 COALDDH: conialdh_c + h2o_c + nad_c --> fer_c + 2.0 h_c + nadh_c\n0.0 ILEDHr: h2o_c + ile__L_c + nad_c <=> 2o3mpt_c + h_c + nadh_c + nh4_c\n0.0 BZDH: bzal_c + h2o_c + nad_c --> bz_c + 2.0 h_c + nadh_c\n0.0 E4PD: e4p_c + h2o_c + nad_c <=> 4per_c + 2.0 h_c + nadh_c\n0.0 LDH_D: lac__D_c + nad_c <=> h_c + nadh_c + pyr_c\n0.0 P5CD: 1pyr5c_c + 2.0 h2o_c + nad_c --> glu__L_c + h_c + nadh_c\n0.0 FAO2: atp_c + 8.0 coa_c + 7.0 fad_c + 7.0 h2o_c + hdca_c + 7.0 nad_c --> 8.0 accoa_c + amp_c + 7.0 fadh2_c + 7.0 h_c + 7.0 nadh_c + ppi_c\n0.0 MALDDH: mal__D_c + nad_c --> co2_c + nadh_c + pyr_c\n0.0 NADH2r: h_c + nadh_c + q_c --> nad_c + qh2_c\n0.0 4MBZDH: 4mbzald_c + h2o_c + nad_c --> 2.0 h_c + nadh_c + p_tol_c\n0.04477623463773884 HISTD: h2o_c + histd_c + 2.0 nad_c --> 3.0 h_c + his__L_c + 2.0 nadh_c\n0.0 XAND: h2o_c + nad_c + xan_c --> h_c + nadh_c + urate_c\n0.7933023386368239 Growth_Glucose: 0.000216 10fthf_c + 0.306046641802482 ala__L_c + 0.000216 amet_c + 0.176227380165102 arg__L_c + 0.143616385947901 asn__L_c + 0.143616385947901 asp__L_c + 52.547151 atp_c + 0.005053 ca2_c + 0.005053 cl_c + 0.000559 coa_c + 9.7e-05 cobalt2_c + 0.129616 ctp_c + 0.000688 cu2_c + 0.054561941003097 cys__L_c + 0.025403 datp_c + 0.026229 dctp_c + 0.026229 dgtp_c + 0.025403 dttp_c + 0.000216 fad_c + 0.006519 fe2_c + 0.00758 fe3_c + 0.156785726681066 gln__L_c + 0.156785726681066 glu__L_c + 0.364998158493573 gly_c + 0.00133204211710234 gtca1_45_BS_c + 0.00133204211710234 gtca2_45_BS_c + 0.00133204211710234 gtca3_45_BS_c + 0.208826 gtp_c + 47.184845 h2o_c + 0.0564428370584163 his__L_c + 0.173091530624259 ile__L_c + 0.189503 k_c + 0.268418288319934 leu__L_c + 6.7219427124629e-05 lipo1_24_BS_c + 6.7219427124629e-05 lipo2_24_BS_c + 6.7219427124629e-05 lipo3_24_BS_c + 6.7219427124629e-05 lipo4_24_BS_c + 0.20444879869431 lys__L_c + 0.0915631245774774 met__L_c + 0.008422 mg2_c + 0.000216 mlthf_c + 0.000671 mn2_c + 9.7e-05 mql8_c + 0.001778 nad_c + 0.000434 nadp_c + 0.147733889286367 peptido_BS_c + 0.110377608153345 phe__L_c + 0.1317001576927 pro__L_c + 0.000216 pydx5p_c + 0.000216 ribflv_c + 0.128564921821044 ser__L_c + 0.004212 so4_c + 0.000216 thf_c + 0.000216 thmpp_c + 0.151141811176736 thr__L_c + 0.0338659477027242 trp__L_c + 0.0821555759549506 tyr__L_c + 0.139904 utp_c + 0.252111870707554 val__L_c + 0.000331 zn2_c --> 52.37741576 adp_c + 52.37741576 h_c + 52.37320421 pi_c + 0.751344563 ppi_c\n0.0 ALCD19: glyald_c + h_c + nadh_c <=> glyc_c + nad_c\n0.0 HACD5i: 3hddcoa_c + nad_c --> 3oddcoa_c + h_c + nadh_c\n0.0 HPA3MO: 4hphac_c + h_c + nadh_c + o2_c --> 34dhpha_c + h2o_c + nad_c\n0.02175673412583666 OIVD3: 3mop_c + coa_c + nad_c --> 2mbcoa_c + co2_c + nadh_c\n0.0 EAR40x: but2eACP_c + h_c + nadh_c --> butACP_c + nad_c\n0.011518271007795879 OIVD1r: 4mop_c + coa_c + nad_c --> co2_c + ivcoa_c + nadh_c\n0.0 RDXR: nadh_c + 2.0 rdxo_c --> h_c + nad_c + 2.0 rdxr_c\n0.0 ACOAD2: h_c + hx2coa_c + nadh_c --> hxcoa_c + nad_c\n0.0 EAR160x: h_c + nadh_c + tpalm2eACP_c --> nad_c + palmACP_c\n-0.006825642078693854 ACOAD5_1: ddcoa_c + nad_c <=> h_c + nadh_c + trans_dd2coa_c\n0.0 GLYCLTDx: glx_c + h_c + nadh_c --> glyclt_c + nad_c\n0.0 NHFRBO: h_c + nadh_c + 2.0 no_c --> h2o_c + n2o_c + nad_c\n0.0 SBTD_D2: nad_c + sbt__D_c --> fru_c + h_c + nadh_c\n0.0 FALDH2: hmgth_c + nad_c <=> Sfglutth_c + h_c + nadh_c\n0.0 HIBDkt: 3hmp_c + nad_c --> h_c + mmtsa_c + nadh_c\n0.0 LDH_L: lac__L_c + nad_c <=> h_c + nadh_c + pyr_c\n0.0 HACD1i: 3hbcoa_c + nad_c --> aacoa_c + h_c + nadh_c\n0.0 GDBTALDH: gdbtal_c + h2o_c + nad_c --> 4gudbutn_c + 2.0 h_c + nadh_c\n0.0 GLYALDDr: glyald_c + h2o_c + nad_c --> glyc__R_c + 2.0 h_c + nadh_c\n0.0 LALDO: gthrd_c + lald__D_c + nad_c <=> h_c + lgt__S_c + nadh_c\n0.0025596157795101954 OIVD2: 3mob_c + coa_c + nad_c --> co2_c + ibcoa_c + nadh_c\n0.0 ALR4x: acetol_c + h_c + nadh_c --> 12ppd__R_c + nad_c\n0.0 BZ12DOX: bz_c + h_c + nadh_c + o2_c --> bz12diol_c + nad_c\n0.0 GALCTLO: galctn__L_c + nad_c --> h_c + nadh_c + tagur_c\n0.0055458341889387565 HACD7: 3ohdcoa_c + h_c + nadh_c <=> 3hhdcoa_c + nad_c\n0.0 AKGDH: akg_c + coa_c + nad_c --> co2_c + nadh_c + succoa_c\n0.0 DMPPS: h2mb4p_c + h_c + nadh_c --> dmpp_c + h2o_c + nad_c\n0.0 MXMO: h_c + m_xyl_c + nadh_c + o2_c --> 3mbzalc_c + h2o_c + nad_c\n0.0 SHCHD2: dscl_c + nad_c --> h_c + nadh_c + scl_c\n0.0 VNDH_2: 4hbald_c + h2o_c + nad_c --> 4hbz_c + 2.0 h_c + nadh_c\n-27.597669234865453 HSDx: hom__L_c + nad_c <=> aspsa_c + h_c + nadh_c\n0.0 PDHcr: dhlam_c + nad_c --> h_c + lpam_c + nadh_c\n0.06534556384226307 PPND: nad_c + pphn_c --> 34hpp_c + co2_c + nadh_c\n0.0 ALDD31: aacald_c + h2o_c + nad_c --> gly_c + 2.0 h_c + nadh_c\n0.0 GLTPD: galt1p_c + nad_c <=> h_c + nadh_c + tag6p__D_c\n0.0 HACD8i: 3hodcoa_c + nad_c --> 3ohodcoa_c + h_c + nadh_c\n0.0 IDOND: 5dglcn_c + h_c + nadh_c <=> idon__L_c + nad_c\n0.0 ABUTD: 4abutn_c + h2o_c + nad_c --> 4abut_c + 2.0 h_c + nadh_c\n0.0 CDP4D6DGLCRx: cdp4dh6doglc_c + h_c + nadh_c --> cdp4dh36ddglc_c + h2o_c + nad_c\n0.0 HACD6i: 3htdcoa_c + nad_c --> 3otdcoa_c + h_c + nadh_c\n0.0 INS2D: inost_c + nad_c --> 2ins_c + h_c + nadh_c\n0.0012798078897550977 HACD8: 3ohodcoa_c + h_c + nadh_c <=> 3hodcoa_c + nad_c\n0.0 LCADi: h2o_c + lald__L_c + nad_c --> 2.0 h_c + lac__L_c + nadh_c\n0.0 NADDP: h2o_c + nad_c --> amp_c + 2.0 h_c + nmn_c\n0.0 FRNDPR2r: fdxr_42_c + h_c + nadh_c + 2.0 nadp_c --> fdxo_42_c + nad_c + 2.0 nadph_c\n0.0 HADPCOADH3: 3hadpcoa_c + nad_c <=> h_c + nadh_c + oxadpcoa_c\n0.0 VNTDM: h_c + nadh_c + o2_c + vanlt_c --> 34dhbz_c + fald_c + h2o_c + nad_c\n0.0 BZDIOLDH: bz12diol_c + nad_c --> catechol_c + co2_c + nadh_c\n0.0 CDPABEQS: cdp4dh36ddglc_c + h_c + nadh_c --> cdpabeq_c + nad_c\n0.0 HPYRRx: h_c + hpyr_c + nadh_c --> glyc__R_c + nad_c\n0.0 LPD5: dhlplarg_c + nad_c --> h_c + lplarg_c + nadh_c\n-0.03412821039346927 NADFADOR: fadh2_c + fdxr_42_c + 2.0 nad_c <=> fad_c + fdxo_42_c + 2.0 nadh_c\n0.0 NTRIRx: 4.0 h_c + 3.0 nadh_c + no2_c --> h2o_c + 3.0 nad_c + nh4oh_c\n0.0 SSALx: h2o_c + nad_c + sucsal_c --> 2.0 h_c + nadh_c + succ_c\n0.0 PHEMOX: h_c + nadh_c + o2_c + phenol_c --> catechol_c + h2o_c + nad_c\n0.0 HACD9: 3hmbcoa_c + nad_c <=> 2maacoa_c + h_c + nadh_c\n0.4301449471647297 MDH: mal__L_c + nad_c <=> h_c + nadh_c + oaa_c\n0.0 NOX: h_c + nadh_c + o2_c --> h2o2_c + nad_c\n0.0 Growth_Phenol: 0.000216 10fthf_c + 0.10703270532983 ala__L_c + 0.000216 amet_c + 0.0616314335003635 arg__L_c + 0.0502264956320527 asn__L_c + 0.0502264956320527 asp__L_c + 52.547151 atp_c + 0.005053 ca2_c + 0.005053 cl_c + 0.000559 coa_c + 9.7e-05 cobalt2_c + 0.129616 ctp_c + 0.000688 cu2_c + 0.0190817717169301 cys__L_c + 0.025403 datp_c + 0.026229 dctp_c + 0.026229 dgtp_c + 0.025403 dttp_c + 0.000216 fad_c + 0.006519 fe2_c + 0.00758 fe3_c + 0.0548321667081323 gln__L_c + 0.0548321667081323 glu__L_c + 0.127649629199938 gly_c + 0.00215210132397067 gtca1_45_BS_c + 0.00215210132397067 gtca2_45_BS_c + 0.00215210132397067 gtca3_45_BS_c + 0.208826 gtp_c + 47.184845 h2o_c + 0.0197395714302658 his__L_c + 0.0605347429505607 ile__L_c + 0.189503 k_c + 0.0938730625818347 leu__L_c + 0.000108602435504184 lipo1_24_BS_c + 0.000108602435504184 lipo2_24_BS_c + 0.000108602435504184 lipo3_24_BS_c + 0.000108602435504184 lipo4_24_BS_c + 0.0715012192154964 lys__L_c + 0.0320220763549648 met__L_c + 0.008422 mg2_c + 0.000216 mlthf_c + 0.000671 mn2_c + 9.7e-05 mql8_c + 0.001778 nad_c + 0.000434 nadp_c + 0.17366804881273 peptido_BS_c + 0.0386020050372354 phe__L_c + 0.0460590715428022 pro__L_c + 0.000216 pydx5p_c + 0.000216 ribflv_c + 0.0449625956095454 ser__L_c + 0.004212 so4_c + 0.000216 thf_c + 0.000216 thmpp_c + 0.0528583383350333 thr__L_c + 0.0118438287047779 trp__L_c + 0.0287320047055565 tyr__L_c + 0.139904 utp_c + 0.0881702717228604 val__L_c + 0.000331 zn2_c --> 52.37741576 adp_c + 52.37741576 h_c + 52.37320421 pi_c + 0.751344563 ppi_c\n0.0006156026147821753 IPDPS: h2mb4p_c + h_c + nadh_c --> h2o_c + ipdp_c + nad_c\n0.0 N2OR: h_c + n2o_c + nadh_c --> h2o_c + n2_c + nad_c\n0.0 CHOLD: chol_c + nad_c --> betald_c + h_c + nadh_c\n0.0 FAO11: atp_c + 8.0 coa_c + 6.0 fad_c + 7.0 h2o_c + hdcea_c + 7.0 nad_c --> 8.0 accoa_c + amp_c + 6.0 fadh2_c + 7.0 h_c + 7.0 nadh_c + ppi_c\n0.0 COALCDH: confrl_c + nad_c --> conialdh_c + h_c + nadh_c\n0.0 ME1: mal__L_c + nad_c --> co2_c + nadh_c + pyr_c\n0.0 SHCHD3: dscl_c + nad_c --> 2.0 h_c + nadh_c + scl2_c\n0.0 EAR100x: h_c + nadh_c + tdec2eACP_c --> dcaACP_c + nad_c\n0.0006854132205822015 GCALDD: gcald_c + h2o_c + nad_c --> glyclt_c + 2.0 h_c + nadh_c\n-0.20000093663040713 VALDHr: h2o_c + nad_c + val__L_c <=> 3mob_c + h_c + nadh_c + nh4_c\n0.0 M1PD: mnl1p_c + nad_c <=> f6p_c + h_c + nadh_c\n0.0 ALAD_L: ala__L_c + h2o_c + nad_c --> h_c + nadh_c + nh4_c + pyr_c\n0.0 ALCD4: btoh_c + nad_c <=> btal_c + h_c + nadh_c\n0.0 DKMPPD3: dkmpp_c + 3.0 h2o_c + 2.0 nad_c --> 2kmb_c + for_c + 4.0 h_c + 2.0 nadh_c + pi_c\n0.0 HACD3i: 3hocoa_c + nad_c --> 3oocoa_c + h_c + nadh_c\n0.0 TRSARr: 2h3oppan_c + h_c + nadh_c <=> glyc__R_c + nad_c\n0.006825642078693854 HACD1: aacoa_c + h_c + nadh_c <=> 3hbcoa_c + nad_c\n0.0 EAR181x: h_c + nadh_c + t3c11vaceACP_c --> nad_c + octeACP_c\n0.0 ACTD2: actn__R_c + coa_c + nad_c --> acald_c + accoa_c + h_c + nadh_c\n0.0 NADH10: h_c + mqn8_c + nadh_c --> mql8_c + nad_c\n0.0003442932149685938 NADK: atp_c + nad_c --> adp_c + h_c + nadp_c\n0.0 3HPPPNH: 3hpppn_c + h_c + nadh_c + o2_c --> dhpppn_c + h2o_c + nad_c\n0.0 HACD4i: 3hdcoa_c + nad_c --> 3odcoa_c + h_c + nadh_c\n0.0 HACD1_2: aacoa_c + h_c + nadh_c <=> 3hbycoa_c + nad_c\n0.0 HACD2i: 3hhcoa_c + nad_c --> 3ohcoa_c + h_c + nadh_c\n0.0 ALCD2ir: acald_c + h_c + nadh_c --> etoh_c + nad_c\n0.0 ALCD1: meoh_c + nad_c <=> fald_c + h_c + nadh_c\n0.0 MANAO: mana_c + nad_c <=> fruur_c + h_c + nadh_c\n0.0 G5SD2: glu5p_c + h_c + nadh_c --> glu5sa_c + nad_c + pi_c\n0.0 DH3MCHCDH: dh3mchc_c + nad_c --> 3mcat_c + co2_c + nadh_c\n0.006825642078693854 HACD6: 3otdcoa_c + h_c + nadh_c <=> 3htdcoa_c + nad_c\n0.0 EAR141x: h_c + nadh_c + t3c7mrseACP_c --> nad_c + tdeACP_c\n0.0 NADH6: 4.5 h_c + nadh_c + q8_c --> 3.5 h_e + nad_c + q8h2_c\n0.0 PTOLDOX: h_c + nadh_c + o2_c + p_tol_c --> dh4mchc_c + nad_c\n0.0 4MBZALDH: 4mbzalc_c + nad_c --> 4mbzald_c + h_c + nadh_c\n0.0 HXAND: h2o_c + hxan_c + nad_c --> h_c + nadh_c + xan_c\n-0.6759094244970617 G3PD1: glyc3p_c + nad_c <=> dhap_c + h_c + nadh_c\n0.0 PDX5PS: dxyl5p_c + nad_c + phthr_c --> co2_c + 2.0 h2o_c + h_c + nadh_c + pdx5p_c + pi_c\n0.0 PXMO: h_c + nadh_c + o2_c + p_xyl_c --> 4mbzalc_c + h2o_c + nad_c\n0.0 3MBZDH: 3mbzald_c + h2o_c + nad_c --> 2.0 h_c + m_tol_c + nadh_c\n0.0 ALDD6: h2o_c + hxal_c + nad_c --> 2.0 h_c + hxa_c + nadh_c\n0.0 GLUDxi: glu__L_c + h2o_c + nad_c --> akg_c + h_c + nadh_c + nh4_c\n0.0 3HCINNMH: 3hcinnm_c + h_c + nadh_c + o2_c --> dhcinnm_c + h2o_c + nad_c\n0.0 EAR161x: h_c + nadh_c + t3c9palmeACP_c --> hdeACP_c + nad_c\n0.0 3HPAOX: 3hoxpac_c + nadh_c + o2_c --> 34dhpha_c + h2o_c + nad_c\n0.0 NADH8: 2dmmq8_c + 3.8 h_c + nadh_c --> 2dmmql8_c + 2.8 h_e + nad_c\n0.0 NADH7: 3.0 h_c + mqn8_c + nadh_c --> 2.0 h_e + mql8_c + nad_c\n0.006825642078693854 HACD3: 3oocoa_c + h_c + nadh_c <=> 3hocoa_c + nad_c\n0.0 GLYCL_2: co2_c + mlthf_c + nadh_c + nh4_c --> gly_c + nad_c + thf_c\n0.0 BETALDHx: betald_c + h2o_c + nad_c --> glyb_c + 2.0 h_c + nadh_c\n0.0 DHBD: 23ddhb_c + nad_c <=> 23dhb_c + h_c + nadh_c\n0.10447804309645739 P5CRx: 1pyr5c_c + 2.0 h_c + nadh_c --> nad_c + pro__L_c\n0.006825642078693854 HACD2: 3ohcoa_c + h_c + nadh_c <=> 3hhcoa_c + nad_c\n0.0 ALCD3: nad_c + ppoh_c <=> h_c + nadh_c + ppal_c\n0.0 SBTPD: nad_c + sbt6p_c <=> f6p_c + h_c + nadh_c\n0.03412821039346927 RNF: fdxr_42_c + 3.0 h_c + nad_c --> fdxo_42_c + 2.0 h_e + nadh_c\n10.041202386339553 PDH: coa_c + nad_c + pyr_c --> accoa_c + co2_c + nadh_c\n0.0 FAO3: atp_c + 9.0 coa_c + 8.0 fad_c + 8.0 h2o_c + 8.0 nad_c + ocdca_c --> 9.0 accoa_c + amp_c + 8.0 fadh2_c + 8.0 h_c + 8.0 nadh_c + ppi_c\n0.0 OBDHc: 2obut_c + coa_c + nad_c --> co2_c + nadh_c + ppcoa_c\n0.0 QUINDH: nad_c + quin_c <=> 3dhq_c + 2.0 h_c + nadh_c\n0.006825642078693854 HACD5: 3oddcoa_c + h_c + nadh_c <=> 3hddcoa_c + nad_c\n0.0 PYROX: h_c + nadh_c + o2_c + ura_c --> nad_c + uracp_c\n0.0 EAR180x: h_c + nadh_c + toctd2eACP_c --> nad_c + ocdcaACP_c\n0.0006156026147821753 MECDPDH2: 2mecdp_c + nadh_c --> h2mb4p_c + h2o_c + nad_c\n0.0 VNDH_3: 34dhbald_c + h2o_c + nad_c --> 34dhbz_c + 2.0 h_c + nadh_c\n0.0 NADH4: h_c + mqn7_c + nadh_c --> mql7_c + nad_c\n0.0 ALDD19xr: h2o_c + nad_c + pacald_c <=> 2.0 h_c + nadh_c + pac_c\n0.0 BTDD_RR: btd_RR_c + nad_c <=> actn__R_c + h_c + nadh_c\n0.0015421797463099735 FDH: for_c + nad_c --> co2_c + nadh_c\n0.0 FMNRx: fmn_c + h_c + nadh_c --> fmnh2_c + nad_c\n0.0 VNDH: h2o_c + nad_c + vanln_c --> 2.0 h_c + nadh_c + vanlt_c\n0.0 FAO4: btcoa_c + fad_c + h2o_c + nad_c --> aacoa_c + fadh2_c + h_c + nadh_c\n0.0 EAR121x: h_c + nadh_c + t3c5ddeceACP_c --> cddec5eACP_c + nad_c\n0.0 GLXO1: glx_c + h2o_c + nad_c --> 2.0 h_c + nadh_c + oxa_c\n0.0 ALCD2x: etoh_c + nad_c <=> acald_c + h_c + nadh_c\n0.0 NADTRHD: nad_c + nadph_c --> nadh_c + nadp_c\n0.0 UDPGDC: nad_c + udpglcur_c --> co2_c + nadh_c + udpLa4o_c\n0.0 ACALD: acald_c + coa_c + nad_c <=> accoa_c + h_c + nadh_c\n0.006825642078693854 HACD4: 3odcoa_c + h_c + nadh_c <=> 3hdcoa_c + nad_c\n0.0 NADH9: 2dmmq8_c + h_c + nadh_c --> 2dmmql8_c + nad_c\n0.0 ALDD4: btal_c + h2o_c + nad_c --> but_c + 2.0 h_c + nadh_c\n0.0 NODOx: nadh_c + 2.0 no_c + 2.0 o2_c --> h_c + nad_c + 2.0 no3_c\n0.0 POAACR: nadh_c + poaac_c --> 3amac_c + h2o_c + nad_c\n0.0 ALDD1: fald_c + h2o_c + nad_c --> for_c + 2.0 h_c + nadh_c\n0.0 MMSAD3: coa_c + msa_c + nad_c --> accoa_c + co2_c + nadh_c\n0.0 PUTA3: glu5sa_c + h2o_c + nad_c --> glu__L_c + 2.0 h_c + nadh_c\n0.0 FLNDPR2r: 2.0 flxr_c + h_c + nadh_c + 2.0 nadp_c <=> 2.0 flxso_c + nad_c + 2.0 nadph_c\n0.9084755765160278 IPMD: 3c2hmp_c + nad_c --> 3c4mop_c + h_c + nadh_c\n0.0 3MBZALDH: 3mbzalc_c + nad_c --> 3mbzald_c + h_c + nadh_c\n0.0 ACTD: actn__R_c + nad_c --> diact_c + h_c + nadh_c\n0.0 DH4MCHCDH: dh4mchc_c + nad_c --> 4mcat_c + co2_c + nadh_c\n0.0 FAO10: atp_c + 9.0 coa_c + 7.0 fad_c + 8.0 h2o_c + 8.0 nad_c + ocdcea_c --> 9.0 accoa_c + amp_c + 7.0 fadh2_c + 8.0 h_c + 8.0 nadh_c + ppi_c\n0.0 HMPSCD: hmpscoa_c + nad_c <=> h_c + nadh_c + sbzcoa_c\n0.0 HOXPRx: glyc__R_c + nad_c <=> 2h3opp_c + h_c + nadh_c\n0.0 MOADSUx: iscssh_c + moadamp_c + nadh_c --> amp_c + iscs_c + moadcosh_c + nad_c\n0.0 UDPGD: h2o_c + 2.0 nad_c + udpg_c --> 3.0 h_c + 2.0 nadh_c + udpglcur_c\n0.0 CMCMSAD: 5cmhmsa_c + h2o_c + nad_c --> 5cmhm_c + 2.0 h_c + nadh_c\n0.0 HMSD: 2hmcnsad_c + h2o_c + nad_c --> 2hmc_c + 3.0 h_c + nadh_c\n0.0 HMSD2: h2o_c + hmccms_c + nad_c --> 2.0 h_c + hmccm_c + nadh_c\n0.0 MMTSAO: coa_c + mmtsa_c + nad_c --> co2_c + nadh_c + ppcoa_c\n0.0 THRD: nad_c + thr__L_c --> 2aobut_c + h_c + nadh_c\n0.0 ACOAD1: b2coa_c + h_c + nadh_c --> btcoa_c + nad_c\n0.0 MTOLDOX: h_c + m_tol_c + nadh_c + o2_c --> dh3mchc_c + nad_c\n0.0 NADN: h2o_c + nad_c --> adprib_c + h_c + ncam_c\n0.0 NADH5: h_c + nadh_c + q8_c --> nad_c + q8h2_c\n0.0 ICDHx: icit_c + nad_c <=> akg_c + co2_c + nadh_c\n-0.8969573055082319 LLEUDr: h2o_c + leu__L_c + nad_c <=> 4mop_c + h_c + nadh_c + nh4_c\n0.0017547847730654406 NADS1: atp_c + dnad_c + nh4_c --> amp_c + h_c + nad_c + ppi_c\n16.81082623189666 GAPD: g3p_c + nad_c + pi_c <=> 13dpg_c + h_c + nadh_c\n0.0 FAO1: atp_c + 7.0 coa_c + 6.0 fad_c + 6.0 h2o_c + 6.0 nad_c + ttdca_c --> 7.0 accoa_c + amp_c + 6.0 fadh2_c + 6.0 h_c + 6.0 nadh_c + ppi_c\n"
     ]
    }
   ],
   "source": [
    "for r in model.metabolites.get_by_id('nad_c').reactions:\n",
    "    print(solution.fluxes[r.id], r)"
   ]
  },
  {
   "cell_type": "code",
   "execution_count": 83,
   "metadata": {},
   "outputs": [
    {
     "output_type": "stream",
     "name": "stdout",
     "text": [
      "0.0 FAO2: atp_c + 8.0 coa_c + 7.0 fad_c + 7.0 h2o_c + hdca_c + 7.0 nad_c --> 8.0 accoa_c + amp_c + 7.0 fadh2_c + 7.0 h_c + 7.0 nadh_c + ppi_c\n0.0 FAO11: atp_c + 8.0 coa_c + 6.0 fad_c + 7.0 h2o_c + hdcea_c + 7.0 nad_c --> 8.0 accoa_c + amp_c + 6.0 fadh2_c + 7.0 h_c + 7.0 nadh_c + ppi_c\n0.0 FAO3: atp_c + 9.0 coa_c + 8.0 fad_c + 8.0 h2o_c + 8.0 nad_c + ocdca_c --> 9.0 accoa_c + amp_c + 8.0 fadh2_c + 8.0 h_c + 8.0 nadh_c + ppi_c\n0.0 FAO10: atp_c + 9.0 coa_c + 7.0 fad_c + 8.0 h2o_c + 8.0 nad_c + ocdcea_c --> 9.0 accoa_c + amp_c + 7.0 fadh2_c + 8.0 h_c + 8.0 nadh_c + ppi_c\n0.0 FAO1: atp_c + 7.0 coa_c + 6.0 fad_c + 6.0 h2o_c + 6.0 nad_c + ttdca_c --> 7.0 accoa_c + amp_c + 6.0 fadh2_c + 6.0 h_c + 6.0 nadh_c + ppi_c\n"
     ]
    }
   ],
   "source": [
    "met_1 = model.metabolites.get_by_id('nadh_c')\n",
    "met_2 = model.metabolites.get_by_id('atp_c')\n",
    "\n",
    "for r in met_1.reactions:\n",
    "    if met_2 in r.metabolites:\n",
    "        print(solution.fluxes[r.id], r)"
   ]
  },
  {
   "cell_type": "code",
   "execution_count": 61,
   "metadata": {},
   "outputs": [
    {
     "output_type": "stream",
     "name": "stdout",
     "text": [
      "-0.006825642078693854 ACOAD6f: fad_c + tdcoa_c <=> fadh2_c + td2coa_c\n0.0 CHOLD2: chol_c + fad_c --> betald_c + fadh2_c\n0.0 FADRx: fad_c + h_c + nadh_c --> fadh2_c + nad_c\n0.0 PROD2: fad_c + pro__L_c --> 1pyr5c_c + fadh2_c + h_c\n0.0 FAO2: atp_c + 8.0 coa_c + 7.0 fad_c + 7.0 h2o_c + hdca_c + 7.0 nad_c --> 8.0 accoa_c + amp_c + 7.0 fadh2_c + 7.0 h_c + 7.0 nadh_c + ppi_c\n0.0 FADRx2: fad_c + h_c + nadph_c --> fadh2_c + nadp_c\n0.0 BZSCD: bzsuccoa_c + fad_c <-- fadh2_c + phitcoa_c\n0.0 S2FE2SS2: atp_c + fadh2_c + 2.0 fe2_c + h2o_c + sufbcd_2fe2s_c + 2.0 sufsesh_c --> adp_c + fad_c + 7.0 h_c + pi_c + sufbcd_2fe2s2_c + 2.0 sufse_c\n0.0 FAO3: atp_c + 9.0 coa_c + 8.0 fad_c + 8.0 h2o_c + 8.0 nad_c + ocdca_c --> 9.0 accoa_c + amp_c + 8.0 fadh2_c + 8.0 h_c + 8.0 nadh_c + ppi_c\n0.0 SUCD3: fadh2_c + q_c --> fad_c + qh2_c\n0.0 ACOAD4f: dcacoa_c + fad_c <=> dc2coa_c + fadh2_c\n-0.006825642078693854 ACOAD2f: fad_c + hxcoa_c <=> fadh2_c + hx2coa_c\n-0.006825642078693854 ACOAD1f: btcoa_c + fad_c <=> b2coa_c + fadh2_c\n0.0 SUCD1: fad_c + succ_c <-- fadh2_c + fum_c\n0.0 FAO4: btcoa_c + fad_c + h2o_c + nad_c --> aacoa_c + fadh2_c + h_c + nadh_c\n-0.0012798078897550977 ACOAD8f: fad_c + stcoa_c <=> fadh2_c + od2coa_c\n0.0 PPPGO4: 3.0 fad_c + pppg9_c --> 3.0 fadh2_c + ppp9_c\n-0.006825642078693854 ACOAD3f: fad_c + occoa_c <=> fadh2_c + oc2coa_c\n0.0 FADMQOR: fadh2_c + mqn8_c --> fad_c + mql8_c\n0.0 FRD: fadh2_c + fum_c --> fad_c + succ_c\n0.0 GADktpp: fad_c + glcn_p <=> 2dhglcn_p + fadh2_c\n0.0 FAO10: atp_c + 9.0 coa_c + 7.0 fad_c + 8.0 h2o_c + 8.0 nad_c + ocdcea_c --> 9.0 accoa_c + amp_c + 7.0 fadh2_c + 8.0 h_c + 8.0 nadh_c + ppi_c\n0.0 DMALRED: fad_c + mal__L_c --> fadh2_c + oaa_c\n0.0 DAAD: ala__D_c + fad_c + h2o_c --> fadh2_c + nh4_c + pyr_c\n0.0 GLUTCOADHc: fad_c + glutcoa_c + h_c --> b2coa_c + co2_c + fadh2_c\n0.0 S4FE4SR: fadh2_c + 2.0 h_c + sufbcd_2fe2s2_c --> fad_c + sufbcd_4fe4s_c\n-0.0055458341889387565 ACOAD7f: fad_c + pmtcoa_c <=> fadh2_c + hdd2coa_c\n0.0 I2FE2SS2: fadh2_c + 2.0 fe2_c + 2.0 iscssh_c + iscu_2fe2s_c --> fad_c + 6.0 h_c + 2.0 iscs_c + iscu_2fe2s2_c\n-0.03412821039346927 NADFADOR: fadh2_c + fdxr_42_c + 2.0 nad_c <=> fad_c + fdxo_42_c + 2.0 nadh_c\n0.0 4HOXPACMOF: 4hphac_c + fadh2_c + o2_c --> 34dhpha_c + fad_c + h2o_c\n0.0 ACOAD5f: ddcacoa_c + fad_c --> dd2coa_c + fadh2_c\n0.0 I4FE4SR: fadh2_c + 2.0 h_c + iscu_2fe2s2_c --> fad_c + iscu_4fe4s_c\n0.0 FAO11: atp_c + 8.0 coa_c + 6.0 fad_c + 7.0 h2o_c + hdcea_c + 7.0 nad_c --> 8.0 accoa_c + amp_c + 6.0 fadh2_c + 7.0 h_c + 7.0 nadh_c + ppi_c\n0.0 FAO1: atp_c + 7.0 coa_c + 6.0 fad_c + 6.0 h2o_c + 6.0 nad_c + ttdca_c --> 7.0 accoa_c + amp_c + 6.0 fadh2_c + 6.0 h_c + 6.0 nadh_c + ppi_c\n"
     ]
    }
   ],
   "source": [
    "for r in model.metabolites.get_by_id('fadh2_c').reactions:\n",
    "    print(solution.fluxes[r.id], r)"
   ]
  },
  {
   "cell_type": "code",
   "execution_count": 84,
   "metadata": {
    "tags": [
     "outputPrepend"
    ]
   },
   "outputs": [
    {
     "output_type": "stream",
     "name": "stdout",
     "text": [
      "840890466177 UMPK: atp_c + ump_c <=> adp_c + udp_c\n0.0 PHEMEabcpp: atp_c + h2o_c + pheme_c --> adp_c + h_c + pheme_p + pi_c\n0.0 CYTK2: atp_c + dcmp_c <=> adp_c + dcdp_c\n0.0 ILEabcpp: atp_c + h2o_c + ile__L_p --> adp_c + h_c + ile__L_c + pi_c\n0.0 NDPK9: atp_c + idp_c --> adp_c + itp_c\n0.0 OXACOAL: atp_c + coa_c + oxa_c --> amp_c + oxalcoa_c + ppi_c\n0.0 PGP180abcpp: atp_c + h2o_c + pgp180_c --> adp_c + h_c + pgp180_p + pi_c\n0.0 PFK_2: atp_c + tag6p__D_c --> adp_c + h_c + tagdp__D_c\n0.0 2AGPGAT160: 2agpg160_c + atp_c + hdca_c --> amp_c + pg160_c + ppi_c\n0.0 PGP160abcpp: atp_c + h2o_c + pgp160_c --> adp_c + h_c + pgp160_p + pi_c\n0.344671017274146 PRASCSi: 5aizc_c + asp__L_c + atp_c --> 25aics_c + adp_c + h_c + pi_c\n0.0 INSTabc: atp_c + h2o_c + inost_e --> adp_c + h_c + inost_c + pi_c\n0.0 Kabc: atp_c + h2o_c + k_e --> adp_c + h_c + k_c + pi_c\n0.00017135330514555394 TMPK: atp_c + thmmp_c --> adp_c + thmpp_c\n0.0 XYLK: atp_c + xylu__D_c --> adp_c + h_c + xu5p__D_c\n0.04477623463773884 ATPPRT: atp_c + prpp_c --> ppi_c + prbatp_c\n0.0 LCTSabc: atp_c + h2o_c + lcts_e --> adp_c + h_c + lcts_c + pi_c\n0.0 SULabc: atp_c + h2o_c + so4_e --> adp_c + h_c + pi_c + so4_c\n0.0 GLYabc: atp_c + gly_e + h2o_c --> adp_c + gly_c + h_c + pi_c\n0.0 CRNabc: atp_c + crn_e + h2o_c --> adp_c + crn_c + h_c + pi_c\n0.6551948956159256 CYTK1: atp_c + cmp_c <=> adp_c + cdp_c\n0.0 ARBabcpp: arab__L_p + atp_c + h2o_c --> adp_c + arab__L_c + h_c + pi_c\n0.02080752704010525 NDPK7: atp_c + dcdp_c <=> adp_c + dctp_c\n0.0 NI2uabcpp: atp_c + h2o_c + ni2_p --> adp_c + h_c + ni2_c + pi_c\n0.6730099581607125 PRPPS: atp_c + r5p_c <=> amp_c + h_c + prpp_c\n0.0 PA180abcpp: atp_c + h2o_c + pa180_c --> adp_c + h_c + pa180_p + pi_c\n0.0 SULAabc: atp_c + h2o_c + sula_e --> adp_c + h_c + pi_c + sula_c\n0.0 CBLAT: atp_c + cbl1_c + h_c <=> adocbl_c + pppi_c\n0.0 AP4AS: 2.0 atp_c + h_c --> ap4a_c + ppi_c\n0.0 ASO3t8pp: aso3_c + atp_c + h2o_c --> adp_c + aso3_p + h_c + pi_c\n0.0010567121266600323 TECA2S45: 45.0 ala__D_c + 45.0 atp_c + 45.0 cdpglyc_c + 45.0 h2o_c + uacgam_c + uacmam_c --> 45.0 amp_c + 45.0 cmp_c + gtca2_45_BS_c + 91.0 h_c + 45.0 ppi_c + udp_c + ump_c\n0.0 PROGLYabcpp: atp_c + h2o_c + progly_p --> adp_c + h_c + pi_c + progly_c\n0.0 4PEPTabcpp: LalaDgluMdapDala_p + atp_c + h2o_c --> LalaDgluMdapDala_c + adp_c + h_c + pi_c\n0.0 2AGPGAT141: 2agpg141_c + atp_c + ttdcea_c --> amp_c + pg141_c + ppi_c\n0.0 MALTHXabc: atp_c + h2o_c + malthx_e --> adp_c + h_c + malthx_c + pi_c\n0.0 BCT1_syn: atp_c + h2o_c + hco3_p --> adp_c + h_c + hco3_c + pi_c\n0.0 TDSKN: atp_c + lipidAdsn_c --> adp_c + h_c + lipidAn_c\n0.0002625830740887887 ZNabc: atp_c + h2o_c + zn2_e --> adp_c + h_c + pi_c + zn2_c\n0.18036532427845853 SHKK: atp_c + skm_c --> adp_c + h_c + skm5p_c\n0.11990115227230991 HSK: atp_c + hom__L_c --> adp_c + h_c + phom_c\n0.0 GM2LIPAabctex: atp_c + gm2lipa_p + h2o_c --> adp_c + gm2lipa_e + h_c + pi_c\n0.0 MPTAT: atp_c + h_c + mpt_c --> mptamp_c + ppi_c\n0.11719763986678855 UAAGDS: 26dap__M_c + atp_c + uamag_c --> adp_c + h_c + pi_c + ugmd_c\n-16.81082623189666 PGK: 3pg_c + atp_c <=> 13dpg_c + adp_c\n0.0 BUTSabc: atp_c + buts_e + h2o_c --> adp_c + buts_c + h_c + pi_c\n0.0 CIGAMS: atp_c + cys__L_c + igam_c --> amp_c + cigam_c + 2.0 h_c + ppi_c\n0.0 DURIK1: atp_c + duri_c --> adp_c + dump_c + h_c\n0.0 FE3abc: atp_c + fe3_e + h2o_c --> adp_c + fe3_c + h_c + pi_c\n0.0 FEENTER2tpp: atp_c + enter_c + h2o_c --> adp_c + enter_p + h_c + pi_c\n0.0 LEUabcpp: atp_c + h2o_c + leu__L_p --> adp_c + h_c + leu__L_c + pi_c\n0.0 GMHEPK: atp_c + gmhep7p_c --> adp_c + gmhep17bp_c + h_c\n0.0005140599154366476 DHFS: atp_c + dhpt_c + glu__L_c --> adp_c + dhf_c + h_c + pi_c\n0.00017135330514555467 RBFK: atp_c + ribflv_c --> adp_c + fmn_c + h_c\n0.020152259308391235 DTMPK: atp_c + dtmp_c <=> adp_c + dtdp_c\n0.0 Growth: 0.000216499790822049 10fthf_c + 0.498715520392769 ala__L_c + 0.000216499790822049 amet_c + 0.287169982631549 arg__L_c + 0.234028507069996 asn__L_c + 0.234028507069996 asp__L_c + 52.5471506268106 atp_c + 0.00505327987098101 ca2_c + 0.00505327987098101 cl_c + 0.000559210222033633 coa_c + 9.70851079919502e-05 cobalt2_c + 0.129616385977893 ctp_c + 0.000688333415662927 cu2_c + 0.088910541899028 cys__L_c + 0.0254032893571737 datp_c + 0.0262294836261852 dctp_c + 0.0262294836261852 dgtp_c + 0.0254032893571737 dttp_c + 0.000216499790822049 fad_c + 0.00651926500165946 fe2_c + 0.00758040523201147 fe3_c + 0.255489170191616 gln__L_c + 0.255489170191616 glu__L_c + 0.594780263899724 gly_c + 0.000970851079919502 gtca1_45_BS_c + 0.000970851079919502 gtca2_45_BS_c + 0.000970851079919502 gtca3_45_BS_c + 0.208826183886365 gtp_c + 47.1848449736869 h2o_c + 0.0919764896094138 his__L_c + 0.282060393397933 ile__L_c + 0.189503334842727 k_c + 0.437398507887213 leu__L_c + 4.85425539959751e-05 lipo1_24_BS_c + 4.85425539959751e-05 lipo2_24_BS_c + 4.85425539959751e-05 lipo3_24_BS_c + 4.85425539959751e-05 lipo4_24_BS_c + 0.333158227436256 lys__L_c + 0.149206219068509 met__L_c + 0.00842213311830168 mg2_c + 0.000216499790822049 mlthf_c + 0.000670858096224376 mn2_c + 9.70851079919502e-05 mql8_c + 0.00177762832733261 nad_c + 0.000433970432724018 nadp_c + 0.00970851079919502 peptido_BS_c + 0.179864725321287 phe__L_c + 0.214611485471606 pro__L_c + 0.000216499790822049 pydx5p_c + 0.000216499790822049 ribflv_c + 0.209501896237989 ser__L_c + 0.0042115519846908 so4_c + 0.000216499790822049 thf_c + 0.000216499790822049 thmpp_c + 0.246292297911539 thr__L_c + 0.0551860879358643 trp__L_c + 0.13387648051658 tyr__L_c + 0.13990352402072 utp_c + 0.410827284680896 val__L_c + 0.00033106021825255 zn2_c --> 52.3774157616572 adp_c + 52.3774157616572 h_c + 52.3732042096725 pi_c + 0.751344563302943 ppi_c\n0.0 G3PGabcpp: atp_c + g3pg_p + h2o_c --> adp_c + g3pg_c + h_c + pi_c\n0.0 RMNabc: atp_c + h2o_c + rmn_e --> adp_c + h_c + pi_c + rmn_c\n0.0 SPMDabc: atp_c + h2o_c + spmd_e --> adp_c + h_c + pi_c + spmd_c\n0.0 BUTSO3abcpp: atp_c + butso3_p + h2o_c --> adp_c + butso3_c + h_c + pi_c\n0.0 ADADir: atp_c + dcyt_c --> adp_c + dcmp_c + h_c\n0.0 GALabc: atp_c + gal_e + h2o_c --> adp_c + gal_c + h_c + pi_c\n0.0 AACPS6: ACP_c + atp_c + ocdca_c --> amp_c + ocdcaACP_c + ppi_c\n0.0 ADNCYC: atp_c --> camp_c + ppi_c\n0.0 MOBDabc: atp_c + h2o_c + mobd_e --> adp_c + h_c + mobd_c + pi_c\n0.0 ACCOAL: atp_c + coa_c + ppa_c --> adp_c + pi_c + ppcoa_c\n0.0 FTHFCL: 5fthf_c + atp_c --> adp_c + methf_c + pi_c\n0.0 ATPM: atp_c + h2o_c --> adp_c + h_c + pi_c\n0.0 CGLYabcpp: atp_c + cgly_p + h2o_c --> adp_c + cgly_c + h_c + pi_c\n0.0 AACPS7: ACP_c + atp_c + ddca_c --> amp_c + ddcaACP_c + ppi_c\n0.0 AACPS1: ACP_c + atp_c + ttdca_c --> amp_c + myrsACP_c + ppi_c\n0.0 PGP120abcpp: atp_c + h2o_c + pgp120_c --> adp_c + h_c + pgp120_p + pi_c\n0.0 ADNK1: adn_c + atp_c --> adp_c + amp_c + h_c\n0.0 CHLabcpp: atp_c + chol_p + h2o_c --> adp_c + chol_c + h_c + pi_c\n0.0 PRFGS: atp_c + fgam_c + gln__L_c + h2o_c --> adp_c + fpram_c + glu__L_c + h_c + pi_c\n0.0 ACKr: ac_c + atp_c <=> actp_c + adp_c\n0.0 DRBK: atp_c + drib_c --> 2dr5p_c + adp_c + h_c\n0.0 CRO4abcpp: atp_c + cro4_p + h2o_c --> adp_c + cro4_c + h_c + pi_c\n0.0 PG181abcpp: atp_c + h2o_c + pg181_c --> adp_c + h_c + pg181_p + pi_c\n0.0 AACPS2: ACP_c + atp_c + ttdcea_c --> amp_c + ppi_c + tdeACP_c\n8.903724302980127 DHAK: atp_c + dha_c --> adp_c + dhap_c + h_c\n0.7933023386368239 Growth_Glucose: 0.000216 10fthf_c + 0.306046641802482 ala__L_c + 0.000216 amet_c + 0.176227380165102 arg__L_c + 0.143616385947901 asn__L_c + 0.143616385947901 asp__L_c + 52.547151 atp_c + 0.005053 ca2_c + 0.005053 cl_c + 0.000559 coa_c + 9.7e-05 cobalt2_c + 0.129616 ctp_c + 0.000688 cu2_c + 0.054561941003097 cys__L_c + 0.025403 datp_c + 0.026229 dctp_c + 0.026229 dgtp_c + 0.025403 dttp_c + 0.000216 fad_c + 0.006519 fe2_c + 0.00758 fe3_c + 0.156785726681066 gln__L_c + 0.156785726681066 glu__L_c + 0.364998158493573 gly_c + 0.00133204211710234 gtca1_45_BS_c + 0.00133204211710234 gtca2_45_BS_c + 0.00133204211710234 gtca3_45_BS_c + 0.208826 gtp_c + 47.184845 h2o_c + 0.0564428370584163 his__L_c + 0.173091530624259 ile__L_c + 0.189503 k_c + 0.268418288319934 leu__L_c + 6.7219427124629e-05 lipo1_24_BS_c + 6.7219427124629e-05 lipo2_24_BS_c + 6.7219427124629e-05 lipo3_24_BS_c + 6.7219427124629e-05 lipo4_24_BS_c + 0.20444879869431 lys__L_c + 0.0915631245774774 met__L_c + 0.008422 mg2_c + 0.000216 mlthf_c + 0.000671 mn2_c + 9.7e-05 mql8_c + 0.001778 nad_c + 0.000434 nadp_c + 0.147733889286367 peptido_BS_c + 0.110377608153345 phe__L_c + 0.1317001576927 pro__L_c + 0.000216 pydx5p_c + 0.000216 ribflv_c + 0.128564921821044 ser__L_c + 0.004212 so4_c + 0.000216 thf_c + 0.000216 thmpp_c + 0.151141811176736 thr__L_c + 0.0338659477027242 trp__L_c + 0.0821555759549506 tyr__L_c + 0.139904 utp_c + 0.252111870707554 val__L_c + 0.000331 zn2_c --> 52.37741576 adp_c + 52.37741576 h_c + 52.37320421 pi_c + 0.751344563 ppi_c\n0.0 S2FE2SR: 2fe1s_c + atp_c + h2o_c + sufbcd_c + sufsesh_c --> adp_c + 5.0 h_c + pi_c + sufbcd_2fe2s_c + sufse_c\n0.0 RIBabc: atp_c + h2o_c + rib__D_e --> adp_c + h_c + pi_c + rib__D_c\n0.0 GALabcpp: atp_c + gal_p + h2o_c --> adp_c + gal_c + h_c + pi_c\n0.0 NO3abcpp: atp_c + h2o_c + no3_p --> adp_c + h_c + no3_c + pi_c\n0.0 DRIBabc: atp_c + drib_e + h2o_c --> adp_c + drib_c + h_c + pi_c\n0.0 AMANK: acmana_c + atp_c --> acmanap_c + adp_c + h_c\n0.005171537945573454 FE2abc: atp_c + fe2_e + h2o_c --> adp_c + fe2_c + h_c + pi_c\n0.13980159281681606 ARGSS: asp__L_c + atp_c + citr__L_c --> amp_c + argsuc_c + h_c + ppi_c\n0.0 XYL3abc: atp_c + h2o_c + xyl3_e --> adp_c + h_c + pi_c + xyl3_c\n0.0 14GLUCANabcpp: 14glucan_p + atp_c + h2o_c --> 14glucan_c + adp_c + h_c + pi_c\n0.0 ACGAMK: acgam_c + atp_c --> acgam6p_c + adp_c + h_c\n0.0 PG180abcpp: atp_c + h2o_c + pg180_c --> adp_c + h_c + pg180_p + pi_c\n0.0006156026147821753 CDPMEK: 4c2me_c + atp_c --> 2p4c2me_c + adp_c + h_c\n0.19154458083334627 ACCOAC: accoa_c + atp_c + hco3_c --> adp_c + h_c + malcoa_c + pi_c\n0.0 ARGabcpp: arg__L_p + atp_c + h2o_c --> adp_c + arg__L_c + h_c + pi_c\n0.0 FRUK: atp_c + f1p_c --> adp_c + fdp_c + h_c\n0.0 HKtpp: atp_c + h2o_c + k_p --> adp_c + h_p + k_c + pi_c\n0.0 NAabcO: atp_c + h2o_c + na1_c --> adp_c + h_c + na1_e + pi_c\n0.0 FE2abcpp: atp_c + fe2_p + h2o_c --> adp_c + fe2_c + h_c + pi_c\n0.0 PG120abcpp: atp_c + h2o_c + pg120_c --> adp_c + h_c + pg120_p + pi_c\n0.0 PE181abcpp: atp_c + h2o_c + pe181_c --> adp_c + h_c + pe181_p + pi_c\n0.0 LYSabc: atp_c + h2o_c + lys__L_e --> adp_c + h_c + lys__L_c + pi_c\n0.11719763986678855 UAMAGS: atp_c + glu__D_c + uama_c --> adp_c + h_c + pi_c + uamag_c\n0.0 GLUabcpp: atp_c + glu__L_p + h2o_c --> adp_c + glu__L_c + h_c + pi_c\n0.34484237057929157 PRFGS_1: atp_c + fgam_c + gln__L_c + h2o_c --> adp_c + fpram_c + glu__L_c + h_c + pi_c\n0.0 RMK: atp_c + rml_c --> adp_c + h_c + rml1p_c\n0.0 PGP141abcpp: atp_c + h2o_c + pgp141_c --> adp_c + h_c + pgp141_p + pi_c\n0.0 PA160abcpp: atp_c + h2o_c + pa160_c --> adp_c + h_c + pa160_p + pi_c\n0.13980159281681606 ACGK: acglu_c + atp_c --> acg5p_c + adp_c\n0.0 GLGC: atp_c + g1p_c + h_c --> adpglc_c + ppi_c\n0.0 PPCK: atp_c + oaa_c --> adp_c + co2_c + pep_c\n0.0 RBK_L1: atp_c + rbl__L_c --> adp_c + h_c + ru5p__L_c\n0.0 FEENTERabcpp: atp_c + feenter_p + h2o_c --> adp_c + feenter_c + h_c + pi_c\n0.0 PA140abcpp: atp_c + h2o_c + pa140_c --> adp_c + h_c + pa140_p + pi_c\n0.0 SUCRabcpp_syn: atp_c + h2o_c + sucr_p --> adp_c + h_c + pi_c + sucr_c\n0.0 Growth_Phenol: 0.000216 10fthf_c + 0.10703270532983 ala__L_c + 0.000216 amet_c + 0.0616314335003635 arg__L_c + 0.0502264956320527 asn__L_c + 0.0502264956320527 asp__L_c + 52.547151 atp_c + 0.005053 ca2_c + 0.005053 cl_c + 0.000559 coa_c + 9.7e-05 cobalt2_c + 0.129616 ctp_c + 0.000688 cu2_c + 0.0190817717169301 cys__L_c + 0.025403 datp_c + 0.026229 dctp_c + 0.026229 dgtp_c + 0.025403 dttp_c + 0.000216 fad_c + 0.006519 fe2_c + 0.00758 fe3_c + 0.0548321667081323 gln__L_c + 0.0548321667081323 glu__L_c + 0.127649629199938 gly_c + 0.00215210132397067 gtca1_45_BS_c + 0.00215210132397067 gtca2_45_BS_c + 0.00215210132397067 gtca3_45_BS_c + 0.208826 gtp_c + 47.184845 h2o_c + 0.0197395714302658 his__L_c + 0.0605347429505607 ile__L_c + 0.189503 k_c + 0.0938730625818347 leu__L_c + 0.000108602435504184 lipo1_24_BS_c + 0.000108602435504184 lipo2_24_BS_c + 0.000108602435504184 lipo3_24_BS_c + 0.000108602435504184 lipo4_24_BS_c + 0.0715012192154964 lys__L_c + 0.0320220763549648 met__L_c + 0.008422 mg2_c + 0.000216 mlthf_c + 0.000671 mn2_c + 9.7e-05 mql8_c + 0.001778 nad_c + 0.000434 nadp_c + 0.17366804881273 peptido_BS_c + 0.0386020050372354 phe__L_c + 0.0460590715428022 pro__L_c + 0.000216 pydx5p_c + 0.000216 ribflv_c + 0.0449625956095454 ser__L_c + 0.004212 so4_c + 0.000216 thf_c + 0.000216 thmpp_c + 0.0528583383350333 thr__L_c + 0.0118438287047779 trp__L_c + 0.0287320047055565 tyr__L_c + 0.139904 utp_c + 0.0881702717228604 val__L_c + 0.000331 zn2_c --> 52.37741576 adp_c + 52.37741576 h_c + 52.37320421 pi_c + 0.751344563 ppi_c\n0.0 ACTNabc1: actn__R_c + atp_c + h2o_c --> actn__R_e + adp_c + h_c + pi_c\n0.0 METabc: atp_c + h2o_c + met__L_e --> adp_c + h_c + met__L_c + pi_c\n0.0 DAGK181: 12dgr181_c + atp_c --> adp_c + h_c + pa181_c\n0.0 PG140abcpp: atp_c + h2o_c + pg140_c --> adp_c + h_c + pg140_p + pi_c\n0.0 PGP140abcpp: atp_c + h2o_c + pgp140_c --> adp_c + h_c + pgp140_p + pi_c\n0.5113435446629636 SUCOAS: atp_c + coa_c + succ_c <=> adp_c + pi_c + succoa_c\n0.0 SERASr: atp_c + h_c + ser__L_c <=> ppi_c + seramp_c\n0.841680071793988 NDPK2: atp_c + udp_c <=> adp_c + utp_c\n0.0 FACOAL180: atp_c + coa_c + ocdca_c --> amp_c + ppi_c + stcoa_c\n0.0 2AGPEAT180: 2agpe180_c + atp_c + ocdca_c --> amp_c + pe180_c + ppi_c\n0.12363220296485583 CTPS1: atp_c + nh4_c + utp_c --> adp_c + ctp_c + 2.0 h_c + pi_c\n0.1873264477340064 GMPS: atp_c + nh4_c + xmp_c --> amp_c + gmp_c + 2.0 h_c + ppi_c\n0.0 S2FE2SS2: atp_c + fadh2_c + 2.0 fe2_c + h2o_c + sufbcd_2fe2s_c + 2.0 sufsesh_c --> adp_c + fad_c + 7.0 h_c + pi_c + sufbcd_2fe2s2_c + 2.0 sufse_c\n0.0 CBIAT: atp_c + cbi_c + h_c <=> adocbi_c + pppi_c\n0.0 GLUCANabc: atp_c + glucan4_e + h2o_c --> adp_c + glucan4_c + h_c + pi_c\n0.0 MNabc_1: atp_c + h2o_c + mn2_p --> adp_c + h_c + mn2_c + pi_c\n0.0 2DHGLCK: 2dhglcn_c + atp_c + 2.0 h_c --> 6p2dhglcn_c + adp_c\n0.0 CAATPS: atp_c + 2.0 ca2_c + h2o_c --> adp_c + 2.0 ca2_e + h_e + pi_c\n0.0 LMN2abc: atp_c + h2o_c + lmn2_e --> adp_c + h_c + lmn2_c + pi_c\n0.0 GTHRDabcpp: atp_c + gthrd_p + h2o_c --> adp_c + gthrd_c + h_c + pi_c\n0.0 PPCOAC: atp_c + hco3_c + ppcoa_c --> adp_c + h_c + mmcoa__S_c + pi_c\n0.0 PA141abcpp: atp_c + h2o_c + pa141_c --> adp_c + h_c + pa141_p + pi_c\n0.0 FERULCOAS: atp_c + coa_c + fer_c --> amp_c + ferulcoa_c + ppi_c\n0.0 RBK: atp_c + rib__D_c --> adp_c + h_c + r5p_c\n0.0 DHBSr: 23dhb_c + atp_c + h_c --> 23dhba_c + ppi_c\n0.0 CUabcpp: atp_c + cu2_p + h2o_c --> adp_c + cu2_c + h_c + pi_c\n0.0 FACOAL160t2pp: atp_c + coa_c + h_p + hdca_p --> amp_c + h_c + pmtcoa_c + ppi_c\n0.0 BCOALIG2: 4hbz_c + atp_c + coa_c --> 4hbzcoa_c + amp_c + ppi_c\n0.0021330131495918294 FACOAL160_ISO: atp_c + coa_c + fa6_c --> amp_c + fa6coa_c + ppi_c\n0.0 GTHRDabc2pp: atp_c + gthrd_c + h2o_c --> adp_c + gthrd_p + h_c + pi_c\n0.0 PPK2r: atp_c + ppi_c --> adp_c + pppi_c\n0.0 GLUCYS: atp_c + cys__L_c + glu__L_c --> adp_c + glucys_c + h_c + pi_c\n0.0 CHLabc: atp_c + chol_e + h2o_c --> adp_c + chol_c + h_c + pi_c\n0.0 GLYC3Pabcpp: atp_c + glyc3p_p + h2o_c --> adp_c + glyc3p_c + h_c + pi_c\n0.0 MALTTTRabc: atp_c + h2o_c + maltttr_e --> adp_c + h_c + maltttr_c + pi_c\n0.0 THRabcpp: atp_c + h2o_c + thr__L_p --> adp_c + h_c + pi_c + thr__L_c\n0.0 CYSabcpp: atp_c + cys__L_p + h2o_c --> adp_c + cys__L_c + h_c + pi_c\n0.0 TSULabcpp: atp_c + h2o_c + tsul_p --> adp_c + h_c + pi_c + tsul_c\n0.0 GLYK: atp_c + glyc_c --> adp_c + glyc3p_c + h_c\n0.0 MNabc: atp_c + h2o_c + mn2_e --> adp_c + h_c + mn2_c + pi_c\n0.0 GTHS: atp_c + glucys_c + gly_c --> adp_c + gthrd_c + h_c + pi_c\n0.0 2AGPEAT141: 2agpe141_c + atp_c + ttdcea_c --> amp_c + pe141_c + ppi_c\n0.00017135330514555394 PMPK: 4ampm_c + atp_c --> 2mahmp_c + adp_c\n0.11719763986678855 UAMAS: ala__L_c + atp_c + uamr_c --> adp_c + h_c + pi_c + uama_c\n0.0 2AGPEAT160: 2agpe160_c + atp_c + hdca_c --> amp_c + pe160_c + ppi_c\n0.0 2AGPEAT161: 2agpe161_c + atp_c + hdcea_c --> amp_c + pe161_c + ppi_c\n0.0 CYTDK1: atp_c + cytd_c --> adp_c + cmp_c + h_c\n0.0 ACTNabc: actn__R_e + atp_c + h2o_c --> actn__R_c + adp_c + h_c + pi_c\n0.0 GALKr: atp_c + gal_c <=> adp_c + gal1p_c + h_c\n0.0029862184094285615 FACOAL170_ISO: atp_c + coa_c + fa11_c --> amp_c + fa11coa_c + ppi_c\n0.0 LYSabcpp: atp_c + h2o_c + lys__L_p --> adp_c + h_c + lys__L_c + pi_c\n0.0 ASPabcpp: asp__L_p + atp_c + h2o_c --> adp_c + asp__L_c + h_c + pi_c\n0.0 ARGabc: arg__L_e + atp_c + h2o_c --> adp_c + arg__L_c + h_c + pi_c\n0.00725224470861222 FACOAL170_anteiso: atp_c + coa_c + fa12_c --> amp_c + fa12coa_c + ppi_c\n2.037515546733768 ADK1: amp_c + atp_c <=> 2.0 adp_c\n0.0 GTPDPK: atp_c + gtp_c --> amp_c + gdptp_c + h_c\n0.0 TREabc: atp_c + h2o_c + tre_e --> adp_c + h_c + pi_c + tre_c\n0.0 SULabcpp: atp_c + h2o_c + so4_p --> adp_c + h_c + pi_c + so4_c\n0.0 METSRabc: atp_c + h2o_c + metox__R_e --> adp_c + h_c + metox__R_c + pi_c\n0.0 PPNCL3: 4ppan_c + atp_c + cys__L_c --> 4ppcys_c + amp_c + h_c + ppi_c\n0.0 CHOLSabc_1: atp_c + chols_e + h2o_c --> adp_c + chols_c + h_c + pi_c\n0.0 NTPP6: atp_c + h2o_c --> amp_c + h_c + ppi_c\n3.445691484186008 PYK: adp_c + h_c + pep_c --> atp_c + pyr_c\n0.0 FEDCabc: atp_c + 2.0 cit_e + fe3_e + h2o_c --> adp_c + 2.0 cit_c + fe3_c + h_c + pi_c\n0.00017135330514555467 FMNAT: atp_c + fmn_c + h_c --> fad_c + ppi_c\n0.6348308245831182 NDPK3: atp_c + cdp_c <=> adp_c + ctp_c\n0.6311677466084258 ASPK: asp__L_c + atp_c <=> 4pasp_c + adp_c\n0.0 CA2abcpp: atp_c + ca2_p + h2o_c --> adp_c + ca2_c + h_c + pi_c\n0.0004434560072978776 DPCOAK: atp_c + dpcoa_c --> adp_c + coa_c + h_c\n0.0 ALAabc: ala__L_e + atp_c + h2o_c --> adp_c + ala__L_c + h_c + pi_c\n0.0 ANHMK: anhm_c + atp_c + h2o_c --> acmum6p_c + adp_c + h_c\n0.0 FACOAL161t2pp: atp_c + coa_c + h_p + hdcea_p --> amp_c + h_c + hdcoa_c + ppi_c\n0.00024830363199332406 METAT: atp_c + h2o_c + met__L_c --> amet_c + pi_c + ppi_c\n0.0 FACOAL181: atp_c + coa_c + ocdcea_c --> amp_c + odecoa_c + ppi_c\n0.0 SO3abcpp: atp_c + h2o_c + so3_p --> adp_c + h_c + pi_c + so3_c\n0.0 DDGALK: 2dh3dgal_c + atp_c --> 2dh3dgal6p_c + adp_c + h_c\n0.0 GLUTRS: atp_c + glu__L_c + trnaglu_c --> amp_c + glutrna_c + ppi_c\n0.0 MPTSS: atp_c + h_c + moadcoo_c --> moadamp_c + ppi_c\n0.0 PPKr: atp_c + pi_c --> adp_c + ppi_c\n0.0 RNMK: atp_c + rnam_c --> adp_c + h_c + nmn_c\n0.0 MSO3abc: atp_c + h2o_c + mso3_e --> adp_c + h_c + mso3_c + pi_c\n0.0 PTRCabc: atp_c + h2o_c + ptrc_e --> adp_c + h_c + pi_c + ptrc_c\n0.0 FE3DHBZSabcpp: atp_c + fe3dhbzs_p + h2o_c --> adp_c + fe3dhbzs_c + h_c + pi_c\n0.020152259308391235 NDPK4: atp_c + dtdp_c <=> adp_c + dttp_c\n0.0004434560072978776 PNTK: atp_c + pnto__R_c --> 4ppan_c + adp_c + h_c\n0.0 SERabcpp: atp_c + h2o_c + ser__L_p --> adp_c + h_c + pi_c + ser__L_c\n0.11393121483903855 ASNS2: asp__L_c + atp_c + nh4_c --> amp_c + asn__L_c + h_c + ppi_c\n0.0 CTPS2: atp_c + gln__L_c + h2o_c + utp_c --> adp_c + ctp_c + glu__L_c + 2.0 h_c + pi_c\n0.0 RNTR1c2: atp_c + 2.0 flxr_c + 2.0 h_c --> datp_c + 2.0 flxso_c + h2o_c\n0.0 GLUCAN2abc: atp_c + glucan6_e + h2o_c --> adp_c + glucan6_c + h_c + pi_c\n0.020152259308391235 RNTR1c: atp_c + fldrd_c --> datp_c + fldox_c + h2o_c\n0.0 FACOAL180t2pp: atp_c + coa_c + h_p + ocdca_p --> amp_c + h_c + ppi_c + stcoa_c\n0.0 FAO10: atp_c + 9.0 coa_c + 7.0 fad_c + 8.0 h2o_c + 8.0 nad_c + ocdcea_c --> 9.0 accoa_c + amp_c + 7.0 fadh2_c + 8.0 h_c + 8.0 nadh_c + ppi_c\n0.0 PA120abcpp: atp_c + h2o_c + pa120_c --> adp_c + h_c + pa120_p + pi_c\n0.0 UREAabcpp: atp_c + h2o_c + urea_p --> adp_c + h_c + pi_c + urea_c\n0.0 XYLabc: atp_c + h2o_c + xyl__D_e --> adp_c + h_c + pi_c + xyl__D_c\n0.0 ALAabcpp: ala__L_p + atp_c + h2o_c --> adp_c + ala__L_c + h_c + pi_c\n0.0017547847730654406 NADS1: atp_c + dnad_c + nh4_c --> amp_c + h_c + nad_c + ppi_c\n0.0 SERabc: atp_c + h2o_c + ser__L_e --> adp_c + h_c + pi_c + ser__L_c\n0.0 FAO1: atp_c + 7.0 coa_c + 6.0 fad_c + 6.0 h2o_c + 6.0 nad_c + ttdca_c --> 7.0 accoa_c + amp_c + 6.0 fadh2_c + 6.0 h_c + 6.0 nadh_c + ppi_c\n"
     ]
    }
   ],
   "source": [
    "for r in model.metabolites.get_by_id('atp_c').reactions:\n",
    "    print(solution.fluxes[r.id], r)"
   ]
  },
  {
   "cell_type": "code",
   "execution_count": 85,
   "metadata": {},
   "outputs": [],
   "source": [
    "met_1 = model.metabolites.get_by_id('o2_c')\n",
    "met_2 = model.metabolites.get_by_id('atp_c')\n",
    "\n",
    "for r in met_1.reactions:\n",
    "    if met_2 in r.metabolites:\n",
    "        print(solution.fluxes[r.id], r)"
   ]
  },
  {
   "cell_type": "code",
   "execution_count": 86,
   "metadata": {},
   "outputs": [
    {
     "output_type": "execute_result",
     "data": {
      "text/plain": [
       "<Metabolite o2_c at 0x139e2f290>"
      ],
      "text/html": "\n        <table>\n            <tr>\n                <td><strong>Metabolite identifier</strong></td><td>o2_c</td>\n            </tr><tr>\n                <td><strong>Name</strong></td><td>O2</td>\n            </tr><tr>\n                <td><strong>Memory address</strong></td>\n                <td>0x0139e2f290</td>\n            </tr><tr>\n                <td><strong>Formula</strong></td><td>O2</td>\n            </tr><tr>\n                <td><strong>Compartment</strong></td><td>C_c</td>\n            </tr><tr>\n                <td><strong>In 73 reaction(s)</strong></td><td>\n                    HGNTOR, 3HPPPNH, DESAT18, FAS181, ASPO1, LYSMO, XMO, NODOy, CYO1b, FDMO2_1, FDMO6, TAUDO, FDMO4_1, FDMOtau, CPPPGO, FDMO_1, PTOLDOX, FAS161, 4HOXPACMOF, 4MCAT23DOX, PXMO, PYDXO, PYDXNO, 3HCINNMH,...</td>\n            </tr>\n        </table>"
     },
     "metadata": {},
     "execution_count": 86
    }
   ],
   "source": [
    "model.metabolites.get_by_id('o2_c')"
   ]
  },
  {
   "source": [
    "### Transhydrogenation"
   ],
   "cell_type": "markdown",
   "metadata": {}
  },
  {
   "cell_type": "code",
   "execution_count": 87,
   "metadata": {},
   "outputs": [
    {
     "output_type": "stream",
     "name": "stdout",
     "text": [
      "0.0 FRNDPR2r: fdxr_42_c + h_c + nadh_c + 2.0 nadp_c --> fdxo_42_c + nad_c + 2.0 nadph_c\n0.0 NADTRHD: nad_c + nadph_c --> nadh_c + nadp_c\n0.0 FLNDPR2r: 2.0 flxr_c + h_c + nadh_c + 2.0 nadp_c <=> 2.0 flxso_c + nad_c + 2.0 nadph_c\n"
     ]
    }
   ],
   "source": [
    "met_1 = model.metabolites.get_by_id('nadh_c')\n",
    "met_2 = model.metabolites.get_by_id('nadph_c')\n",
    "\n",
    "for r in met_1.reactions:\n",
    "    if met_2 in r.metabolites:\n",
    "        print(solution.fluxes[r.id], r)"
   ]
  },
  {
   "source": [
    "### ATP Maintenance"
   ],
   "cell_type": "markdown",
   "metadata": {}
  },
  {
   "cell_type": "code",
   "execution_count": 88,
   "metadata": {},
   "outputs": [
    {
     "output_type": "execute_result",
     "data": {
      "text/plain": [
       "<Reaction ATPM at 0x1380ba710>"
      ],
      "text/html": "\n        <table>\n            <tr>\n                <td><strong>Reaction identifier</strong></td><td>ATPM</td>\n            </tr><tr>\n                <td><strong>Name</strong></td><td>R_ATPM</td>\n            </tr><tr>\n                <td><strong>Memory address</strong></td>\n                <td>0x01380ba710</td>\n            </tr><tr>\n                <td><strong>Stoichiometry</strong></td>\n                <td>\n                    <p style='text-align:right'>atp_c + h2o_c --> adp_c + h_c + pi_c</p>\n                    <p style='text-align:right'>ATP + H2O --> ADP + H+ + Phosphate</p>\n                </td>\n            </tr><tr>\n                <td><strong>GPR</strong></td><td>spontaneous</td>\n            </tr><tr>\n                <td><strong>Lower bound</strong></td><td>0.0</td>\n            </tr><tr>\n                <td><strong>Upper bound</strong></td><td>1000.0</td>\n            </tr>\n        </table>\n        "
     },
     "metadata": {},
     "execution_count": 88
    }
   ],
   "source": [
    "model.reactions.get_by_id('ATPM')"
   ]
  },
  {
   "source": [
    "### Transport"
   ],
   "cell_type": "markdown",
   "metadata": {}
  },
  {
   "cell_type": "code",
   "execution_count": 89,
   "metadata": {},
   "outputs": [
    {
     "output_type": "stream",
     "name": "stdout",
     "text": [
      "0.0 HGNTOR: hgentis_c + o2_c --> 4mlacac_c + h_c\n0.0 3HPPPNH: 3hpppn_c + h_c + nadh_c + o2_c --> dhpppn_c + h2o_c + nad_c\n0.0 DESAT18: h_c + nadph_c + o2_c + stcoa_c --> 2.0 h2o_c + nadp_c + odecoa_c\n0.0 FAS181: 4.0 h_c + hdca_c + malcoa_c + 3.0 nadph_c + o2_c --> co2_c + coa_c + 3.0 h2o_c + 3.0 nadp_c + ocdcea_c\n0.0 ASPO1: asp__L_c + h2o_c + o2_c --> h2o2_c + nh4_c + oaa_c\n0.0 LYSMO: lys__L_c + o2_c --> 5apentam_c + co2_c + h2o_c + h_c\n0.0 XMO: h_c + nadh_c + o2_c + tol_c --> bzalc_c + h2o_c + nad_c\n0.0 NODOy: nadph_c + 2.0 no_c + 2.0 o2_c --> h_c + nadp_c + 2.0 no3_c\n0.0 CYO1b: 2.0 focytc_c + 0.5 o2_c --> 2.0 ficytc_c + h2o_c\n0.0 FDMO2_1: buts_c + fmnRD_c + o2_c --> btal_c + fmn_c + h2o_c + h_c + so3_c\n0.0 FDMO6: fmnh2_c + o2_c + sulfac_c --> fmn_c + glx_c + h2o_c + h_c + so3_c\n0.0 TAUDO: akg_c + o2_c + taur_c --> aacald_c + co2_c + so3_c + succ_c\n0.0 FDMO4_1: fmnRD_c + o2_c + taur_c --> amacald_c + fmn_c + h2o_c + h_c + so3_c\n0.0 FDMOtau: fmnh2_c + o2_c + taur_c --> aacald_c + fmn_c + h2o_c + so3_c\n0.0 CPPPGO: cpppg3_c + 2.0 h_c + o2_c --> 2.0 co2_c + 2.0 h2o_c + pppg9_c\n0.0 FDMO_1: fmnRD_c + mso3_c + o2_c --> fald_c + fmn_c + h2o_c + h_c + so3_c\n0.0 PTOLDOX: h_c + nadh_c + o2_c + p_tol_c --> dh4mchc_c + nad_c\n0.0 FAS161: 4.0 h_c + malcoa_c + 3.0 nadph_c + o2_c + ttdca_c --> co2_c + coa_c + 3.0 h2o_c + hdcea_c + 3.0 nadp_c\n0.0 4HOXPACMOF: 4hphac_c + fadh2_c + o2_c --> 34dhpha_c + fad_c + h2o_c\n0.0 4MCAT23DOX: 4mcat_c + o2_c --> h_c + hmccms_c\n0.0 PXMO: h_c + nadh_c + o2_c + p_xyl_c --> 4mbzalc_c + h2o_c + nad_c\n0.0 PYDXO: 2.0 h2o_c + nh4_c + 0.5 o2_c + pydx_c <-- 2.0 h2o2_c + pydam_c\n0.0 PYDXNO: o2_c + pydxn_c --> h2o2_c + pydx_c\n0.0 3HCINNMH: 3hcinnm_c + h_c + nadh_c + o2_c --> dhcinnm_c + h2o_c + nad_c\n0.0 FDMO3_1: fmnRD_c + hexs_c + o2_c --> fmn_c + h2o_c + h_c + hxal_c + so3_c\n0.0 GLYCTO1: glyclt_c + o2_c --> glx_c + h2o2_c\n0.0 3HPAOX: 3hoxpac_c + nadh_c + o2_c --> 34dhpha_c + h2o_c + nad_c\n0.0 MEHLER: h_c + nadph_c + 0.5 o2_c --> h2o_c + nadp_c\n0.0 4HBHYOX: 4hbz_c + h_c + nadph_c + o2_c --> 34dhbz_c + h2o_c + nadp_c\n0.0 FDMO4: butso3_c + fmnh2_c + o2_c --> btal_c + fmn_c + h2o_c + h_c + so3_c\n0.0 PACCOAE: h_c + nadph_c + o2_c + phaccoa_c --> h2o_c + nadp_c + rephaccoa_c\n0.0 CYTBDpp: 2.0 h_c + 0.5 o2_c + q8h2_c --> h2o_c + 2.0 h_p + q8_c\n0.0 URIC: 2.0 h2o_c + o2_c + urate_c --> alltn_c + co2_c + h2o2_c\n0.0 CATDOX: catechol_c + o2_c --> ccmuac_c + 2.0 h_c\n0.0 OPHHX: 2oph_c + 0.5 o2_c --> 2ohph_c\n0.0 34HPPOR: 34hpp_c + o2_c --> co2_c + hgentis_c\n0.0 ACOAD20: 2.0 2mbcoa_c + o2_c --> 2.0 2mb2coa_c + 2.0 h2o_c\n0.0 CYTBD2: 2.0 h_c + mql8_c + 0.5 o2_c --> h2o_c + 2.0 h_e + mqn8_c\n0.0 DESAT16: h_c + nadph_c + o2_c + pmtcoa_c --> 2.0 h2o_c + hdcoa_c + nadp_c\n0.0 DHCINDO: dhcinnm_c + o2_c --> h_c + hkntd_c\n0.0 HPPPNDO: dhpppn_c + o2_c --> h_c + hkndd_c\n0.0 FDMO3: ethso3_c + fmnh2_c + o2_c --> acald_c + fmn_c + h2o_c + h_c + so3_c\n0.0 FDMO5_1: fmnRD_c + o2_c + sula_c --> fmn_c + glx_c + h2o_c + h_c + so3_c\n0.0 HPA3MO: 4hphac_c + h_c + nadh_c + o2_c --> 34dhpha_c + h2o_c + nad_c\n0.0 PHACOAOR: h2_c + o2_c + phaccoa_c --> 2dhphaccoa_c\n0.0 PYROX: h_c + nadh_c + o2_c + ura_c --> nad_c + uracp_c\n0.0 3MCAT23DOX: 3mcat_c + o2_c --> cchoxod_c + h_c\n0.0 FDMO1: eths_c + fmnRD_c + o2_c --> acald_c + fmn_c + h2o_c + h_c + so3_c\n0.0 GGPTRCO: ggptrc_c + h2o_c + o2_c --> ggbutal_c + h2o2_c + nh4_c\n0.0 CYTBD2pp: 2.0 h_c + mql8_c + 0.5 o2_c --> h2o_c + 2.0 h_p + mqn8_c\n0.0 ROO: 4.0 h_c + o2_c + 4.0 rdxr_c --> 2.0 h2o_c + 4.0 rdxo_c\n-10.0 O2tpp: o2_p <=> o2_c\n0.0 BZ12DOX: bz_c + h_c + nadh_c + o2_c --> bz12diol_c + nad_c\n0.0 MXMO: h_c + m_xyl_c + nadh_c + o2_c --> 3mbzalc_c + h2o_c + nad_c\n0.0 NODOx: nadh_c + 2.0 no_c + 2.0 o2_c --> h_c + nad_c + 2.0 no3_c\n0.0 PYAM5PO: h2o_c + o2_c + pyam5p_c --> h2o2_c + nh4_c + pydx5p_c\n0.0 ACOADH2: 2.0 ibcoa_c + o2_c --> 2.0 2mp2coa_c + 2.0 h2o_c\n0.0 CAT23DOX: catechol_c + o2_c --> 2hmcnsad_c\n0.0 DHPDO: 34dhpha_c + o2_c --> 5cmhmsa_c + h_c\n0.0 PPPGO: 1.5 o2_c + pppg9_c --> 3.0 h2o_c + ppp9_c\n0.0 VNTDM: h_c + nadh_c + o2_c + vanlt_c --> 34dhbz_c + fald_c + h2o_c + nad_c\n0.0 CYTBD: 2.0 h_c + 0.5 o2_c + q8h2_c --> h2o_c + 2.0 h_e + q8_c\n0.0 PHEMOX: h_c + nadh_c + o2_c + phenol_c --> catechol_c + h2o_c + nad_c\n0.0 FDMO: fmnh2_c + isetac_c + o2_c --> fmn_c + gcald_c + h2o_c + h_c + so3_c\n0.0 FDMO6_1: fmnRD_c + istnt_c + o2_c --> fmn_c + gcald_c + h2o_c + h_c + so3_c\n0.0 GLYO1: gly_c + h2o_c + o2_c --> glx_c + h2o2_c + nh4_c\n0.0 MTOLDOX: h_c + m_tol_c + nadh_c + o2_c --> dh3mchc_c + nad_c\n0.0 NOX: h_c + nadh_c + o2_c --> h2o2_c + nad_c\n0.0 FDMO2: fmnh2_c + mso3_c + o2_c --> fald_c + fmn_c + h2o_c + h_c + so3_c\n0.0 PCADYOX: 34dhbz_c + o2_c --> CCbuttc_c + 2.0 h_c\n0.0 PDX5POi: o2_c + pdx5p_c --> h2o2_c + pydx5p_c\n0.0 DALAOX: ala__D_c + h2o_c + o2_c --> h2o2_c + nh4_c + pyr_c\n10.0 O2t: o2_e <=> o2_c\n"
     ]
    }
   ],
   "source": [
    "for r in model.metabolites.get_by_id('o2_c').reactions:\n",
    "    print(solution.fluxes[r.id], r)"
   ]
  },
  {
   "cell_type": "code",
   "execution_count": 90,
   "metadata": {},
   "outputs": [
    {
     "output_type": "execute_result",
     "data": {
      "text/plain": [
       "<Reaction O2tpp at 0x13d1a7b90>"
      ],
      "text/html": "\n        <table>\n            <tr>\n                <td><strong>Reaction identifier</strong></td><td>O2tpp</td>\n            </tr><tr>\n                <td><strong>Name</strong></td><td>O2 transport via diffusion (periplasm)</td>\n            </tr><tr>\n                <td><strong>Memory address</strong></td>\n                <td>0x013d1a7b90</td>\n            </tr><tr>\n                <td><strong>Stoichiometry</strong></td>\n                <td>\n                    <p style='text-align:right'>o2_p <=> o2_c</p>\n                    <p style='text-align:right'>O2 <=> O2</p>\n                </td>\n            </tr><tr>\n                <td><strong>GPR</strong></td><td>spontaneous</td>\n            </tr><tr>\n                <td><strong>Lower bound</strong></td><td>-1000.0</td>\n            </tr><tr>\n                <td><strong>Upper bound</strong></td><td>1000.0</td>\n            </tr>\n        </table>\n        "
     },
     "metadata": {},
     "execution_count": 90
    }
   ],
   "source": [
    "model.reactions.get_by_id('O2tpp')"
   ]
  },
  {
   "cell_type": "code",
   "execution_count": 93,
   "metadata": {},
   "outputs": [
    {
     "output_type": "stream",
     "name": "stdout",
     "text": [
      "0.6107483029774257 ICDHyr: icit_c + nadp_c <=> akg_c + co2_c + nadph_c\n0.0 FASm240: 3.0 h_c + mbhn_c + mmcoa__S_c + 2.0 nadph_c --> co2_c + coa_c + dmlgnc_c + h2o_c + 2.0 nadp_c\n0.0 FAS140: ddca_c + 3.0 h_c + malcoa_c + 2.0 nadph_c --> co2_c + coa_c + h2o_c + 2.0 nadp_c + ttdca_c\n0.01450448941722444 KAS4: 2mbcoa_c + 14.0 h_c + 5.0 malcoa_c + 10.0 nadph_c --> 5.0 co2_c + 6.0 coa_c + fa4_c + 4.0 h2o_c + 10.0 nadp_c\n0.0 GLYCL: gly_c + nad_c + thf_c --> co2_c + mlthf_c + nadh_c + nh4_c\n0.00725224470861222 KAS12: 2mbcoa_c + 17.0 h_c + 6.0 malcoa_c + 12.0 nadph_c --> 6.0 co2_c + 7.0 coa_c + fa12_c + 5.0 h2o_c + 12.0 nadp_c\n0.008532052598367318 KAS3: 14.0 h_c + ivcoa_c + 5.0 malcoa_c + 10.0 nadph_c --> 5.0 co2_c + 6.0 coa_c + fa3_c + 4.0 h2o_c + 10.0 nadp_c\n0.0021330131495918294 KAS6: 17.0 h_c + ibcoa_c + 6.0 malcoa_c + 12.0 nadph_c --> 6.0 co2_c + 7.0 coa_c + fa6_c + 5.0 h2o_c + 12.0 nadp_c\n0.0 LYSMO: lys__L_c + o2_c --> 5apentam_c + co2_c + h2o_c + h_c\n0.00017135330514555394 THZPSN: atp_c + cys__L_c + dxyl5p_c + tyr__L_c --> 4hba_c + 4mpetz_c + ala__L_c + amp_c + co2_c + h2o_c + h_c + ppi_c\n0.0 CMLDC: 4cml_c + h_c --> 5odhf2a_c + co2_c\n0.0 GND: 6pgc_c + nadp_c --> co2_c + nadph_c + ru5p__D_c\n0.0 KAS17: accoa_c + 22.0 h_c + 8.0 malcoa_c + 15.0 nadph_c --> 8.0 co2_c + 9.0 coa_c + 7.0 h2o_c + 15.0 nadp_c + ocdcea_c\n0.0 PFOR: coa_c + fldox_c + h_c + pyr_c --> accoa_c + co2_c + fldrd_c\n0.0 4OD: h_c + oxalc_c --> co2_c + op4en_c\n0.0 PSD160: h_c + ps160_c --> co2_c + pe160_c\n0.0 4OD2: 2omcm_c + h_c --> 2hchd_c + co2_c\n0.0 FASC141ACP: ddcaACP_c + 2.0 h_c + malACP_c + nadph_c --> ACP_c + co2_c + h2o_c + nadp_c + tdeACP_c\n0.0 PSD120: h_c + ps120_c --> co2_c + pe120_c\n0.0 OOR3r: akg_c + coa_c + fdxox_c --> co2_c + fdxrd_c + h_c + succoa_c\n0.0 3OAS141: cddec5eACP_c + h_c + malACP_c --> 3ocmrs7eACP_c + ACP_c + co2_c\n0.0 C161SN: actACP_c + 19.0 h_c + 6.0 malACP_c + 13.0 nadph_c --> 6.0 ACP_c + 6.0 co2_c + 7.0 h2o_c + hdeACP_c + 13.0 nadp_c\n0.0 OXGDC2: akg_c + h_c + thmpp_c --> co2_c + ssaltpp_c\n0.0 PEPCK_re: gtp_c + oaa_c --> co2_c + gdp_c + pep_c\n0.0 ADMDC: amet_c + h_c --> ametam_c + co2_c\n0.0 3OAS160: h_c + malACP_c + myrsACP_c --> 3opalmACP_c + ACP_c + co2_c\n0.0 GLUTCOADHc: fad_c + glutcoa_c + h_c --> b2coa_c + co2_c + fadh2_c\n0.0 ME2: mal__L_c + nadp_c --> co2_c + nadph_c + pyr_c\n0.0 C120SN: actACP_c + 14.0 h_c + 4.0 malACP_c + 10.0 nadph_c --> 4.0 ACP_c + 4.0 co2_c + ddcaACP_c + 5.0 h2o_c + 10.0 nadp_c\n0.15907065016828875 ACHBS: 2obut_c + h_c + pyr_c --> 2ahbut_c + co2_c\n0.0 3OAS181: h_c + hdeACP_c + malACP_c --> 3ocvac11eACP_c + ACP_c + co2_c\n0.0 KAS13: accoa_c + 23.0 h_c + 8.0 malcoa_c + 16.0 nadph_c --> 8.0 co2_c + 9.0 coa_c + 7.0 h2o_c + 16.0 nadp_c + ocdca_c\n0.0 C140SN: actACP_c + 17.0 h_c + 5.0 malACP_c + 12.0 nadph_c --> 5.0 ACP_c + 5.0 co2_c + 6.0 h2o_c + myrsACP_c + 12.0 nadp_c\n0.0 UGLYCH: h2o_c + 2.0 h_c + urdglyc_c --> co2_c + glx_c + 2.0 nh4_c\n0.0 C100SN: actACP_c + 11.0 h_c + 3.0 malACP_c + 8.0 nadph_c --> 3.0 ACP_c + 3.0 co2_c + dcaACP_c + 4.0 h2o_c + 8.0 nadp_c\n0.0 MALDDH: mal__D_c + nad_c --> co2_c + nadh_c + pyr_c\n0.0017547847730654406 NNDPR: 2.0 h_c + prpp_c + quln_c --> co2_c + nicrnt_c + ppi_c\n0.0 OAADC: h_c + oaa_c --> co2_c + pyr_c\n0.0 34HPPOR: 34hpp_c + o2_c --> co2_c + hgentis_c\n0.0 KAS8: accoa_c + 20.0 h_c + 7.0 malcoa_c + 14.0 nadph_c --> 7.0 co2_c + 8.0 coa_c + 6.0 h2o_c + hdca_c + 14.0 nadp_c\n0.0 UPPDC1: 4.0 h_c + uppg3_c --> 4.0 co2_c + cpppg3_c\n0.0007869559199277294 DXPS: g3p_c + h_c + pyr_c --> co2_c + dxyl5p_c\n0.02175673412583666 OIVD3: 3mop_c + coa_c + nad_c --> 2mbcoa_c + co2_c + nadh_c\n0.0 OPHBDC: 3ophb_c + h_c --> 2oph_c + co2_c\n0.011518271007795879 OIVD1r: 4mop_c + coa_c + nad_c --> co2_c + ivcoa_c + nadh_c\n0.0 PDHa: h_c + lpam_c + pyr_c --> adhlam_c + co2_c\n0.0 CODH2r: co_c + 2.0 fdox_c + h2o_c --> co2_c + 2.0 fdred_c + 2.0 h_c\n0.0 FAS120: dca_c + 3.0 h_c + malcoa_c + 2.0 nadph_c --> co2_c + coa_c + ddca_c + h2o_c + 2.0 nadp_c\n0.16218971013568537 DAPDC: 26dap__M_c + h_c --> co2_c + lys__L_c\n0.0004434560072978776 ASP1DC: asp__L_c + h_c --> ala_B_c + co2_c\n0.0 PREPTHS: arachACP_c + 14.0 h_c + 2.0 malcoa_c + 2.0 mmcoa__S_c + 10.0 nadph_c --> 2.0 co2_c + 4.0 coa_c + 5.0 h2o_c + 10.0 nadp_c + prephthACP_c\n0.0 FAS180: 3.0 h_c + hdca_c + malcoa_c + 2.0 nadph_c --> co2_c + coa_c + h2o_c + 2.0 nadp_c + ocdca_c\n0.09685866279949029 GCCa: gly_c + h_c + lpro_c --> alpro_c + co2_c\n0.0 KAS_HP2: 2.0 h_c + malACP_c + nadph_c + palmACP_c --> 3hoctaACP_c + ACP_c + co2_c + nadp_c\n0.0025596157795101954 OIVD2: 3mob_c + coa_c + nad_c --> co2_c + ibcoa_c + nadh_c\n0.0 FASC200ACP: 3.0 h_c + malACP_c + 2.0 nadph_c + ocdcaACP_c --> ACP_c + arachACP_c + co2_c + h2o_c + 2.0 nadp_c\n-19.41388319369194 HCO3E: co2_c + h2o_c <=> h_c + hco3_c\n0.0 AKGDH: akg_c + coa_c + nad_c --> co2_c + nadh_c + succoa_c\n0.0 C180SN: actACP_c + 23.0 h_c + 7.0 malACP_c + 16.0 nadph_c --> 7.0 ACP_c + 7.0 co2_c + 8.0 h2o_c + 16.0 nadp_c + ocdcaACP_c\n0.0 3OAS140: ddcaACP_c + h_c + malACP_c --> 3omrsACP_c + ACP_c + co2_c\n0.0 KAS14: acACP_c + h_c + malACP_c --> ACP_c + actACP_c + co2_c\n0.0 KAS_HP: 2.0 h_c + malACP_c + myrsACP_c + nadph_c --> 3hpalmACP_c + ACP_c + co2_c + nadp_c\n0.0 FAS200: 3.0 h_c + malcoa_c + 2.0 nadph_c + ocdca_c --> arach_c + co2_c + coa_c + h2o_c + 2.0 nadp_c\n0.0029862184094285615 KAS11: 17.0 h_c + ivcoa_c + 6.0 malcoa_c + 12.0 nadph_c --> 6.0 co2_c + 7.0 coa_c + fa11_c + 5.0 h2o_c + 12.0 nadp_c\n0.06534556384226307 PPND: nad_c + pphn_c --> 34hpp_c + co2_c + nadh_c\n10.041202386339553 PDH: coa_c + nad_c + pyr_c --> accoa_c + co2_c + nadh_c\n0.08756281468118755 PPNDH: h_c + pphn_c --> co2_c + h2o_c + phpyr_c\n0.0 C160SN: actACP_c + 20.0 h_c + 6.0 malACP_c + 14.0 nadph_c --> 6.0 ACP_c + 6.0 co2_c + 7.0 h2o_c + 14.0 nadp_c + palmACP_c\n-10.843184515007664 CO2t: co2_e <=> co2_c\n0.0 PPCK: atp_c + oaa_c --> adp_c + co2_c + pep_c\n0.0 3OAS120: dcaACP_c + h_c + malACP_c --> 3oddecACP_c + ACP_c + co2_c\n0.0 BZDIOLDH: bz12diol_c + nad_c --> catechol_c + co2_c + nadh_c\n0.0 CBMD: cbm_c + 2.0 h_c --> co2_c + nh4_c\n0.0 PSD180: h_c + ps180_c --> co2_c + pe180_c\n0.0 KAS2: accoa_c + 17.0 h_c + 6.0 malcoa_c + 12.0 nadph_c --> 6.0 co2_c + 7.0 coa_c + 5.0 h2o_c + 12.0 nadp_c + ttdca_c\n0.9084755765160278 OMCDC: 3c4mop_c + h_c --> 4mop_c + co2_c\n0.0 FASm260: dmlgnc_c + 3.0 h_c + mmcoa__S_c + 2.0 nadph_c --> co2_c + coa_c + h2o_c + 2.0 nadp_c + tmhexc_c\n0.0 KAS15: accoa_c + h_c + malACP_c --> actACP_c + co2_c + coa_c\n0.0 KAS16: ddcaACP_c + 2.0 h_c + malACP_c + nadph_c --> 3hmrsACP_c + ACP_c + co2_c + nadp_c\n0.2547706326578932 OMPDC: h_c + orot5p_c --> co2_c + ump_c\n0.0 KAS7: accoa_c + 19.0 h_c + 7.0 malcoa_c + 13.0 nadph_c --> 7.0 co2_c + 8.0 coa_c + 6.0 h2o_c + hdcea_c + 13.0 nadp_c\n0.0 OXGDC: akg_c + h_c --> co2_c + sucsal_c\n0.0004434560072978776 PPCDC: 4ppcys_c + h_c --> co2_c + pan4p_c\n0.0 SALADC2: Lcyst_c --> co2_c + taur_c\n0.0 PSD181: h_c + ps181_c --> co2_c + pe181_c\n0.0 C141SN: actACP_c + 16.0 h_c + 5.0 malACP_c + 11.0 nadph_c --> 5.0 ACP_c + 5.0 co2_c + 6.0 h2o_c + 11.0 nadp_c + tdeACP_c\n0.0 PREPTHS2: 14.0 h_c + 2.0 malcoa_c + 2.0 mmcoa__S_c + 10.0 nadph_c + phdcaACP_c --> 2.0 co2_c + 4.0 coa_c + 5.0 h2o_c + 10.0 nadp_c + prepphthACP_c\n0.0 TARTDC: h_c + tartr__L_c --> co2_c + glyc__R_c\n0.0 AKGDa: akg_c + h_c + lpam_c <=> co2_c + sdhlam_c\n-20.0 CO2tpp: co2_p <=> co2_c\n0.0 C181SN: actACP_c + 22.0 h_c + 7.0 malACP_c + 15.0 nadph_c --> 7.0 ACP_c + 7.0 co2_c + 8.0 h2o_c + 15.0 nadp_c + octeACP_c\n0.0 ME1: mal__L_c + nad_c --> co2_c + nadh_c + pyr_c\n0.0 FASC181ACP: 2.0 h_c + malACP_c + nadph_c + palmACP_c --> ACP_c + co2_c + h2o_c + nadp_c + octeACP_c\n0.0 3OAS121: cdec3eACP_c + h_c + malACP_c --> 3ocddec5eACP_c + ACP_c + co2_c\n0.0 PSD161: h_c + ps161_c --> co2_c + pe161_c\n0.0 OARGDC: 5g2oxpt_c + h_c --> co2_c + gdbtal_c\n0.0 PHTHDLS2: h_c + prepphth_c --> co2_c + pphthdl_c\n0.0 FAS181: 4.0 h_c + hdca_c + malcoa_c + 3.0 nadph_c + o2_c --> co2_c + coa_c + 3.0 h2o_c + 3.0 nadp_c + ocdcea_c\n0.0 3OAS180: h_c + malACP_c + palmACP_c --> 3ooctdACP_c + ACP_c + co2_c\n0.0 3OAS161: h_c + malACP_c + tdeACP_c --> 3ocpalm9eACP_c + ACP_c + co2_c\n0.0 FASC120ACP: dcaACP_c + 3.0 h_c + malACP_c + 2.0 nadph_c --> ACP_c + co2_c + ddcaACP_c + h2o_c + 2.0 nadp_c\n0.0 TAUDO: akg_c + o2_c + taur_c --> aacald_c + co2_c + so3_c + succ_c\n0.0 DH3MCHCDH: dh3mchc_c + nad_c --> 3mcat_c + co2_c + nadh_c\n0.0 FAS100: 3.0 h_c + malcoa_c + 2.0 nadph_c + octa_c --> co2_c + coa_c + dca_c + h2o_c + 2.0 nadp_c\n0.0 OPTCCL: 5cohe_c + h_c --> 2hh24dd_c + co2_c\n0.0 CPPPGO: cpppg3_c + 2.0 h_c + o2_c --> 2.0 co2_c + 2.0 h2o_c + pppg9_c\n0.0 FAS161: 4.0 h_c + malcoa_c + 3.0 nadph_c + o2_c + ttdca_c --> co2_c + coa_c + 3.0 h2o_c + hdcea_c + 3.0 nadp_c\n0.0 FASm220: arach_c + 3.0 h_c + mmcoa__S_c + 2.0 nadph_c --> co2_c + coa_c + h2o_c + mbhn_c + 2.0 nadp_c\n0.0 PDX5PS: dxyl5p_c + nad_c + phthr_c --> co2_c + 2.0 h2o_c + h_c + nadh_c + pdx5p_c + pi_c\n0.0 FASC180ACP: 3.0 h_c + malACP_c + 2.0 nadph_c + palmACP_c --> ACP_c + co2_c + h2o_c + 2.0 nadp_c + ocdcaACP_c\n0.0 OXADC: h_c + oxa_c --> co2_c + for_c\n0.0 FASC161ACP: 2.0 h_c + malACP_c + myrsACP_c + nadph_c --> ACP_c + co2_c + h2o_c + hdeACP_c + nadp_c\n0.0 GLXCL: 2.0 glx_c + h_c --> 2h3oppan_c + co2_c\n0.0 3OAS60: butACP_c + h_c + malACP_c --> 3ohexACP_c + ACP_c + co2_c\n0.0 GLYCL_2: co2_c + mlthf_c + nadh_c + nh4_c --> gly_c + nad_c + thf_c\n0.0 H2CO3D: co2_c + h2o_c <=> h2co3_c\n0.0 FASC160ACP: 3.0 h_c + malACP_c + myrsACP_c + 2.0 nadph_c --> ACP_c + co2_c + h2o_c + 2.0 nadp_c + palmACP_c\n0.0 URIC: 2.0 h2o_c + o2_c + urate_c --> alltn_c + co2_c + h2o2_c\n0.0 4CMLCL_kt: 4cml_c + h_c --> 5odhf2a_c + co2_c\n0.0 CYNTAH: cynt_c + 3.0 h_c + hco3_c --> 2.0 co2_c + nh4_c\n0.344671017274146 AIRCr: air_c + co2_c <=> 5aizc_c + h_c\n0.0 OBDHc: 2obut_c + coa_c + nad_c --> co2_c + nadh_c + ppcoa_c\n0.0 PHTHDLS: h_c + prephth_c --> co2_c + phthdl_c\n0.0 FAS80_L: accoa_c + 8.0 h_c + 3.0 malcoa_c + 6.0 nadph_c --> 3.0 co2_c + 4.0 coa_c + 2.0 h2o_c + 6.0 nadp_c + octa_c\n0.0 FDH7: co2_c + fdxr_42_c + h_c --> fdxo_42_c + for_c\n0.0015421797463099735 FDH: for_c + nad_c --> co2_c + nadh_c\n0.0 3OAS100: h_c + malACP_c + ocACP_c --> 3odecACP_c + ACP_c + co2_c\n1.111479584933243 ACLS: h_c + 2.0 pyr_c --> alac__S_c + co2_c\n0.0 GLUDC: glu__L_c + h_c --> 4abut_c + co2_c\n0.0 3OAS80: h_c + hexACP_c + malACP_c --> 3ooctACP_c + ACP_c + co2_c\n0.0 PYRDC: h_c + pyr_c --> acald_c + co2_c\n0.0 UDPGDC: nad_c + udpglcur_c --> co2_c + nadh_c + udpLa4o_c\n0.0 UREA: h2o_c + 2.0 h_c + urea_c --> co2_c + 2.0 nh4_c\n1.9831958198062956 PPC: co2_c + h2o_c + pep_c --> h_c + oaa_c + pi_c\n0.0 PSD141: h_c + ps141_c --> co2_c + pe141_c\n0.0 MMSAD3: coa_c + msa_c + nad_c --> accoa_c + co2_c + nadh_c\n0.0 FASC140ACP: ddcaACP_c + 3.0 h_c + malACP_c + 2.0 nadph_c --> ACP_c + co2_c + h2o_c + myrsACP_c + 2.0 nadp_c\n0.0 DH4MCHCDH: dh4mchc_c + nad_c --> 4mcat_c + co2_c + nadh_c\n0.0 MACPD: h_c + malACP_c --> acACP_c + co2_c\n0.0 PSD140: h_c + ps140_c --> co2_c + pe140_c\n0.02686593551272348 IGPS: 2cpr5p_c + h_c --> 3ig3p_c + co2_c + h2o_c\n0.0004266026299183659 KAS1: 14.0 h_c + ibcoa_c + 5.0 malcoa_c + 10.0 nadph_c --> 5.0 co2_c + 6.0 coa_c + fa1_c + 4.0 h2o_c + 10.0 nadp_c\n0.0 ALLTAMH: alltt_c + 2.0 h2o_c + 2.0 h_c --> co2_c + 2.0 nh4_c + urdglyc_c\n0.0 MMTSAO: coa_c + mmtsa_c + nad_c --> co2_c + nadh_c + ppcoa_c\n0.0 POX: h2o_c + pyr_c + q8_c --> ac_c + co2_c + q8h2_c\n0.0 FASm280: 3.0 h_c + mmcoa__S_c + 2.0 nadph_c + tmhexc_c --> co2_c + coa_c + h2o_c + 2.0 nadp_c + tamocta_c\n0.0 ICDHx: icit_c + nad_c <=> akg_c + co2_c + nadh_c\n0.0 FAS160: 3.0 h_c + malcoa_c + 2.0 nadph_c + ttdca_c --> co2_c + coa_c + h2o_c + hdca_c + 2.0 nadp_c\n7.695032684777191e-05 DHNAOT: dhna_c + octdp_c --> 2dmmq8_c + co2_c + h_c + ppi_c\n"
     ]
    }
   ],
   "source": [
    "for r in model.metabolites.get_by_id('co2_c').reactions:\n",
    "    print(solution.fluxes[r.id], r)"
   ]
  },
  {
   "cell_type": "code",
   "execution_count": 95,
   "metadata": {},
   "outputs": [
    {
     "output_type": "stream",
     "name": "stdout",
     "text": [
      "-10.843184515007664 CO2t: co2_e <=> co2_c\n10.843184515007664 EX_co2_e: co2_e --> \n"
     ]
    }
   ],
   "source": [
    "for r in model.metabolites.get_by_id('co2_e').reactions:\n",
    "    print(solution.fluxes[r.id], r)"
   ]
  },
  {
   "cell_type": "code",
   "execution_count": 101,
   "metadata": {},
   "outputs": [
    {
     "output_type": "stream",
     "name": "stdout",
     "text": [
      "0.0 NH4tex: nh4_e <=> nh4_p\n7.758291044104775 NH4t: nh4_e <=> nh4_c\n-7.758291044104775 EX_nh4_e: nh4_e <=> \n"
     ]
    }
   ],
   "source": [
    "for r in model.metabolites.get_by_id('nh4_e').reactions:\n",
    "    print(solution.fluxes[r.id], r)"
   ]
  },
  {
   "cell_type": "code",
   "execution_count": 99,
   "metadata": {},
   "outputs": [
    {
     "output_type": "stream",
     "name": "stdout",
     "text": [
      "0.1200489083264562 SO4t2: h_e + so4_e --> h_c + so4_c\n-0.1200489083264562 EX_so4_e: so4_e <=> \n0.0 SULabc: atp_c + h2o_c + so4_e --> adp_c + h_c + pi_c + so4_c\n0.0 SO4tex: so4_e <=> so4_p\n"
     ]
    }
   ],
   "source": [
    "for r in model.metabolites.get_by_id('so4_e').reactions:\n",
    "    print(solution.fluxes[r.id], r)"
   ]
  },
  {
   "source": [
    "### Biomass Equation"
   ],
   "cell_type": "markdown",
   "metadata": {}
  },
  {
   "cell_type": "code",
   "execution_count": 92,
   "metadata": {},
   "outputs": [
    {
     "output_type": "stream",
     "name": "stdout",
     "text": [
      "0.0 Growth\n0.0 Growth_Phenol\n0.7933023386368239 Growth_Glucose\n"
     ]
    }
   ],
   "source": [
    "for r in model.reactions:\n",
    "    if 'Growth' in r.id:\n",
    "        print(solution.fluxes[r.id], r.id)"
   ]
  },
  {
   "cell_type": "code",
   "execution_count": null,
   "metadata": {},
   "outputs": [],
   "source": []
  },
  {
   "cell_type": "code",
   "execution_count": 100,
   "metadata": {},
   "outputs": [
    {
     "output_type": "execute_result",
     "data": {
      "text/plain": [
       "{'EX_glc__D_e': 10.0,\n",
       " 'EX_h2o_e': 10.0,\n",
       " 'EX_h_e': 10.0,\n",
       " 'EX_cl_e': 10.0,\n",
       " 'EX_pi_e': 10.0,\n",
       " 'EX_nh4_e': 10.0,\n",
       " 'EX_fe3_e': 10.0,\n",
       " 'EX_k_e': 10.0,\n",
       " 'EX_ca2_e': 10.0,\n",
       " 'EX_mg2_e': 10.0,\n",
       " 'EX_mn2_e': 10.0,\n",
       " 'EX_cobalt2_e': 10.0,\n",
       " 'EX_zn2_e': 10.0,\n",
       " 'EX_cu2_e': 10.0,\n",
       " 'EX_o2_e': 10.0,\n",
       " 'EX_fe2_e': 10.0,\n",
       " 'EX_mobd_e': 10.0,\n",
       " 'EX_so4_e': 10.0,\n",
       " 'EX_phenol_e': 1000.0}"
      ]
     },
     "metadata": {},
     "execution_count": 100
    }
   ],
   "source": [
    "model.medium"
   ]
  },
  {
   "cell_type": "code",
   "execution_count": 14,
   "metadata": {
    "tags": [
     "outputPrepend"
    ]
   },
   "outputs": [
    {
     "output_type": "stream",
     "name": "stdout",
     "text": [
      "idylglycerol (ditetradecanoyl, n-C14:0)\n",
      "1,2-ditetradec-7-enoyl-sn-glycerol 3-phosphate\n",
      "Phosphatidylglycerol (ditetradec-7-enoyl, n-C14:1)\n",
      "1,2-dihexadecanoyl-sn-glycerol 3-phosphate\n",
      "1,2-dihexadec-9-enoyl-sn-glycerol 3-phosphate\n",
      "Phosphatidylglycerol (dihexadec-9-enoyl, n-C16:1)\n",
      "1,2-dioctadecanoyl-sn-glycerol 3-phosphate\n",
      "Phosphatidylglycerol (dioctadecanoyl, n-C18:0)\n",
      "1,2-dioctadec-11-enoyl-sn-glycerol 3-phosphate\n",
      "Phosphatidylglycerol (dioctadec-11-enoyl, n-C18:1)\n",
      "Fe3+\n",
      "Cytosine\n",
      "CMP\n",
      "CMP\n",
      "CO2\n",
      "Coniferol\n",
      "Coniferyl aldehyde\n",
      "Ferulate\n",
      "Co2+\n",
      "Ferredoxin (oxidized) 2[4Fe-4S]\n",
      "Ferredoxin (reduced) 2[4Fe-4S]\n",
      "Undecaprenyl phosphate\n",
      "Coniferol\n",
      "Coniferol\n",
      "Carbon monoxide\n",
      "Cyclic pyranopterin monophosphate\n",
      "Coproporphyrinogen III\n",
      "Protoporphyrinogen IX\n",
      "P-Cresol\n",
      "P-Cresol\n",
      "L-Carnitine\n",
      "L-Carnitine\n",
      "L-Carnitinyl-CoA\n",
      "Gamma-butyrobetaine\n",
      "Crotonobetaine\n",
      "Crotonobetainyl-CoA\n",
      "D-Carnitine\n",
      "D-Carnitine\n",
      "Gamma-butyrobetaine\n",
      "Chromate\n",
      "Chromate\n",
      "Uracil\n",
      "Cytosine\n",
      "Spermidine\n",
      "Crotonobetaine\n",
      "Crotonobetaine\n",
      "Tetradecenoyl-CoA (n-C14:1CoA)\n",
      "UTP\n",
      "Cu+\n",
      "Cu2+\n",
      "Cu2+\n",
      "Cu+\n",
      "Sulfite\n",
      "Thiosulfate\n",
      "Cyanate\n",
      "Cyanate\n",
      "Ferrocytochrome c C42H53FeN8O6S2\n",
      "Ferricytochrome c C42H52FeN8O6S2\n",
      "Ubiquinone\n",
      "Ubiquinol\n",
      "Ferricytochrome c\n",
      "Ferrocytochrome C\n",
      "Menaquinone 7 C46H64O2\n",
      "L-Cysteine\n",
      "O2\n",
      "L-Cystathionine\n",
      "L-Glutamate\n",
      "Cytidine\n",
      "DCDP\n",
      "DCTP\n",
      "5-Methylcytosine\n",
      "5 Dehydro 4 deoxy D glucarate C6H6O7\n",
      "Diacetyl\n",
      "Deoxyadenosine\n",
      "Deoxyinosine\n",
      "Deoxyadenosine\n",
      "Deoxyinosine\n",
      "Deoxyadenosine\n",
      "1 2 diacylglycerol C3436H6672O500\n",
      "DAMP\n",
      "DAMP\n",
      "Meso-2,6-Diaminoheptanedioate\n",
      "D Arabinose C5H10O5\n",
      "DITP\n",
      "3,4-dihydroxy-2-butanone 4-phosphate\n",
      "Nicotinate D-ribonucleotide\n",
      "Decanoate (n-C10:0)\n",
      "Decanoate (n-C10:0)\n",
      "DUMP\n",
      "DCMP\n",
      "DCMP\n",
      "(E,E,E,E,E,E,E,Z,Z) Decaprenyl diphosphate\n",
      "Farnesyl diphosphate\n",
      "Isopentenyl diphosphate\n",
      "DUTP\n",
      "Deoxyuridine\n",
      "Deoxycytidine\n",
      "Deoxycytidine\n",
      "Dodecanoate (n-C12:0)\n",
      "2-Dehydro-3-deoxy-D-galactonate\n",
      "2-Dehydro-3-deoxy-D-galactonate 6-phosphate\n",
      "2-Dehydro-3-deoxy-D-gluconate 6-phosphate\n",
      "Glyceraldehyde 3-phosphate\n",
      "All trans Decaprenyl diphosphate\n",
      "Oxidized ferredoxin\n",
      "D-Galactose\n",
      "DGMP\n",
      "DGMP\n",
      "DGMP\n",
      "Deoxyguanosine\n",
      "Deoxyguanosine\n",
      "Deoxyguanosine\n",
      "1,2-Dihydroxy-3-methylcyclohexa-3,5-dienecarboxylate\n",
      "Cis-1,2-Dihydroxy-4-methylcyclohexa-3,5-diene-1-carboxylate\n",
      "2,3-dehydroadipyl-CoA\n",
      "(3S)-3-Hydroxyadipyl-CoA\n",
      " R  2 Oxo 3 methylpentanoate C6H9O3\n",
      "2,3-Dihydro-2,3-dihydroxybenzoate\n",
      "2,3-Dihydroxybenzoate\n",
      "(2,3-Dihydroxybenzoyl)adenylate\n",
      "2,3-dihydroxybenzoylserine\n",
      "2-3-dihydroxybenzoylserine dimer\n",
      "2-3-dihydroxybenzoylserine trimer\n",
      "2-hydroxy-6-ketononatrienedioate\n",
      "7,8-Dihydrofolate\n",
      "Folate\n",
      "Dihydropteroate\n",
      "1,4-Dihydroxy-2-naphthoate\n",
      "All-trans-Octaprenyl diphosphate\n",
      "1,4-dihydroxy-2-napthoyl-CoA\n",
      "2 Amino 4 hydroxy 6 hydroxymethyl 7 8 dihydropteridine C7H9N5O2\n",
      "6-hydroxymethyl dihydropterin\n",
      "(S)-Dihydroorotate\n",
      "Orotate\n",
      "1,2-Dihydroxy-1,2-dihydrophenylacetyl-CoA\n",
      "Dihydroneopterin monophosphate\n",
      "2 5 Diamino 6 hydroxy 4  5  phosphoribosylamino  pyrimidine C9H14N5O8P\n",
      "2,5-Diamino-6-(ribosylamino)-4-(3H)-pyrimidinone 5'-phosphate\n",
      "5,10-Methylenetetrahydrofolate\n",
      "6-hydroxymethyl-dihydropterin pyrophosphate\n",
      "3-Dehydroquinate\n",
      "3-Dehydroshikimate\n",
      "DIMP\n",
      "Deoxyinosine\n",
      "D-Fructose 1,6-bisphosphate\n",
      "D-Lactate\n",
      "Dimethylallyl diphosphate\n",
      "Geranyl diphosphate\n",
      "4-(1-D-Ribitylamino)-5-aminouracil\n",
      "1-hydroxy-2-methyl-2-(E)-butenyl 4-diphosphate\n",
      "Deamino-NAD+\n",
      "DUDP\n",
      "DTTP\n",
      "C10:0-Medium-chain length Polyhydroxyalkanoate.\n",
      "Medium-chain length Polyhydroxyalkanoate growing.\n",
      "C12:0-Medium-chain length Polyhydroxyalkanoate.\n",
      "C12:1-Medium-chain length Polyhydroxyalkanoate.\n",
      "C14:0-Medium-chain length Polyhydroxyalkanoate.\n",
      "C14:1-Medium-chain length Polyhydroxyalkanoate.\n",
      "C6:0-Medium-chain length Polyhydroxyalkanoate\n",
      "C8:0-Medium-chain length Polyhydroxyalkanoate.\n",
      "(R)-Pantoate\n",
      "2-Deoxy-D-ribose 5-phosphate\n",
      "Deoxyribose C5H10O4\n",
      "Reduced glutathione\n",
      "Dihydrosirohydrochlorin\n",
      "2-Aminomalonate semialdehyde\n",
      "D-Serine\n",
      "D-Serine\n",
      "D-Serine\n",
      "D-tartrate\n",
      "DTMP\n",
      "DTMP\n",
      "DTMP\n",
      "Thymine\n",
      "Deoxyuridine\n",
      "Deoxyuridine\n",
      "2-C-methyl-D-erythritol 4-phosphate\n",
      "1-deoxy-D-xylulose 5-phosphate\n",
      "4-Phospho-D-erythronate\n",
      "Undecaprenyl diphosphate\n",
      "(S)-3-Hydroxybutanoyl-CoA\n",
      " S  3 Hydroxybutyryl CoA C25H38N7O18P3S\n",
      "(S)-3-Hydroxyhexanoyl-CoA\n",
      "(S)-3-Hydroxyoctanoyl-CoA\n",
      "(S)-3-Hydroxyhexadecanoyl-CoA\n",
      "(S)-3-Hydroxy-2-methylbutyryl-CoA\n",
      "KDO(2)-lipid IV(A) with laurate (glucosediaminyl)\n",
      "kdo2lipid4Ln_c\n",
      "KDO(2)-lipid IV(A) (glucosediaminyl)\n",
      "kdo2lipid4n_c\n",
      "KDO(2)-lipid (A) (glucosediaminyl)\n",
      "lipan_c\n",
      "Enterochelin\n",
      "L-seryl-AMP\n",
      "Fe-enterobactin\n",
      "Enterobactin monoglycosylated\n",
      "Salmochelin-S4\n",
      "Enterochelin\n",
      "D-Galacturonate\n",
      "L-Tryptophan\n",
      "L-Valine\n",
      "L-Tyrosine\n",
      "Ethanolamine\n",
      "Ethanolamine\n",
      "Ethanesulfonate C2H5O3S\n",
      "Ethanesulfonate C2H5O3S\n",
      "Ethanesulfonate\n",
      "Ethanesulfonate\n",
      "Ethanesulfonate\n",
      "H2\n",
      "D-Fructose\n",
      "Fatty acid (Iso-C14:0)\n",
      "Tetradecanoate (n-C14:0)\n",
      "Tetradecenoate (n-C14:1)\n",
      "Fatty acid (Anteiso-C15:0)\n",
      "Fatty acid (Iso-C15:0)\n",
      "Fatty acid (iso-C16:0)\n",
      "Hexadecanoate (n-C16:0)\n",
      "Hexadecenoate (n-C16:1)\n",
      "Fatty acid (Anteiso-C17:0)\n",
      "Fatty acid (Iso-C17:0)\n",
      "Octadecanoate (n-C18:0)\n",
      "Octadecenoate (n-C18:1)\n",
      "Hexanoate (n-C6:0)\n",
      "Octanoate (n-C8:0)\n",
      "Phenol palmitic acid\n",
      "Phenol palmitic coenzyme A\n",
      "Phthiocerol precursor bound coenzyme A\n",
      "Phthiocerol precursor\n",
      "S-Formylglutathione\n",
      "Hydroxymethylglutathione\n",
      "(S)-Methylmalonyl-CoA\n",
      "Methyl behenic acid\n",
      "Dimethyl lignoceric acid\n",
      "Tri-methyl hexacosanoate\n",
      "Tetra-methyl octacosanoate\n",
      "Phenol palmitic acid ACP\n",
      "D-Fructose 1-phosphate\n",
      "Sedoheptulose 1,7-bisphosphate\n",
      "Protoheme\n",
      "Protoporphyrin\n",
      "Formyl-CoA\n",
      "Feruloyl-CoA\n",
      "Vanillin\n",
      "Isethionic acid\n",
      "Flavin mononucleotide reduced C17H21N4O9P\n",
      "Methanesulfonate\n",
      "Hexanesulfonate C6H13O3S\n",
      "Taurine\n",
      "Sulfoacetate C2H2O5S\n",
      "Sulfoacetate\n",
      "Isethionate C2H5O4S\n",
      "Fe2+\n",
      "Fe2+\n",
      "Fe3+\n",
      "Fe(III)dicitrate\n",
      "Fe(III)dicitrate\n",
      "Ferric 2,3-dihydroxybenzoylserine\n",
      "Ferric 2,3-dihydroxybenzoylserine\n",
      "Ferric 2,3-dihydroxybenzoylserine\n",
      "Fe-enterobactin\n",
      "Enterochelin\n",
      "Fe-enterobactin\n",
      "[4Fe-4S] iron-sulfur cluster\n",
      "Nitrous oxide\n",
      "Nitric oxide\n",
      "Alpha,alpha'-Trehalose 6-phosphate\n",
      "N-Formimidoyl-L-glutamate\n",
      "Formamide\n",
      "Flavodoxin (oxidized) - obsolete\n",
      "Flavodoxin (reduced) - obsolete\n",
      "2 Amino 4 hydroxy 6 hydroxymethyl 7 8 dihydropteridine diphosphate C7H8N5O8P2\n",
      "Folate\n",
      "5,10-Methenyltetrahydrofolate\n",
      "Oxalyl-CoA\n",
      "D-Fructose\n",
      "D-Fructose\n",
      "D-Fructuronate\n",
      "4 Fumarylacetoacetate C8H6O6\n",
      "Fumarate\n",
      "Fumarate\n",
      "D-Glucosamine 1-phosphate\n",
      "D-Glucose\n",
      "DTDPglucose\n",
      "dtdpglu_c\n",
      "L-Glutamate 1-semialdehyde\n",
      "CDPglycerol\n",
      "Sn-Glycero-3-phosphoethanolamine\n",
      "Sn-Glycero-3-phosphoethanolamine\n",
      "Glycerophosphoglycerol\n",
      "Glycerophosphoglycerol\n",
      "Glycerophosphoglycerol\n",
      "1-Pyrroline-5-carboxylate\n",
      "L-Glutamate 5-semialdehyde\n",
      "L-Glutamate 5-phosphate\n",
      "Beta D glucose 6 phosphate C6H11O9P\n",
      "g6p_B_c\n",
      "D-Gluconate\n",
      "D-Galactose\n",
      "D-Galactose\n",
      "5-Dehydro-4-deoxy-D-glucarate\n",
      "D-Galactarate\n",
      "L-Galactonate\n",
      "D-Tagaturonate\n",
      "D-Galactonate\n",
      "L-Galactonate\n",
      "L-Galactonate\n",
      "D-Galactonate\n",
      "D-Galactonate\n",
      "D-Galactarate\n",
      "Alpha-D-Galactose 1-phosphate\n",
      "Melibiose\n",
      "Galactitol 1-phosphate\n",
      "Galactitol\n",
      "D-Galacturonate\n",
      "D-Galacturonate\n",
      "D-Glucosamine\n",
      "N2-Formyl-N1-(5-phospho-D-ribosyl)glycinamide\n",
      "N1-(5-Phospho-D-ribosyl)glycinamide\n",
      "Glycogen\n",
      "Glycolate\n",
      "S Aminomethyldihydrolipoylprotein CH6NS2X\n",
      "Lipoylprotein S2X\n",
      "Dihydrolipolprotein H2S2X\n",
      "4-Guanidinobutanal\n",
      "Guanosine 3',5'-bis(diphosphate)\n",
      "Guanosine 3'-diphosphate 5'-triphosphate\n",
      "Gamma-glutamyl-gamma aminobutyric acid\n",
      "Gamma-glutamyl-gamma-butyraldehyde\n",
      "5 L Glutamyl L alanine C8H13N2O5\n",
      "Gamma-glutamyl-putrescine\n",
      "Gamma-hydroxybutyrate\n",
      "Branching glycogen\n",
      "D-Glucuronate\n",
      "D-Gluconate\n",
      "Glutarate\n",
      "Glutaryl-CoA\n",
      "2-Hydroxy-3-oxopropanoate\n",
      "2 Hydroxy 3 oxopropanoate C3H3O4\n",
      "D-Glucarate\n",
      "D-Glucarate\n",
      "Glucosyl-heptosyl-heptosyl-kdo2-lipidA (glucosediamine)\n",
      "ghhlipan_c\n",
      "Heptosyl-heptosyl-kdo2-lipidA (glucosediaminyl)\n",
      "hhlipan_c\n",
      "Xylotetraose\n",
      "Xylan (4 backbone units, 1 glcur side chain)\n",
      "D-Glucuronate\n",
      "D-Glucuronate\n",
      "L-Glutamine\n",
      "Undecaprenyl-diphospho-N-acetylmuramoyl-(N-acetylglucosamine)-L-ala-D-glu-meso-2,6-diaminopimeloyl-D-ala-D-ala\n",
      "Beta-1,3/1,4-glucan (Barley, n=4, Glc beta1->3,4 Glc)\n",
      "Beta-1,3/1,4-glucan (Barley, n=6, Glc beta1->3,4 Glc)\n",
      "Beta-1,3/1,4-glucan (Barley, n=6, Glc beta1->3,4 Glc)\n",
      "Beta-1,3/1,4-glucan (Barley, n=4, Glc beta1->3,4 Glc)\n",
      "L-Glutamate\n",
      "Gamma-L-Glutamyl-L-cysteine\n",
      "5-Phospho-beta-D-ribosylamine\n",
      "L-Glutamyl-tRNA(Glu)\n",
      "TRNA (Glu)\n",
      "Glycerol 3-phosphate\n",
      "Glycine\n",
      "D-Glyceraldehyde\n",
      "Glycine betaine\n",
      "Glycine betaine\n",
      "Glycerol 3-phosphate\n",
      "(R)-Glycerate\n",
      "Glycolate\n",
      "Hydroxypyruvate\n",
      "Glycerol\n",
      "(R)-S-Lactoylglutathione\n",
      "Heptosyl-glucosyl-heptosyl-heptosyl-kdo2-lipidA (glucosediamine)\n",
      "hghhlipan_c\n",
      "Heptosyl-glucosyl-heptosyl-heptosyl-kdo2-lipidA (glucosediamine)\n",
      "hghhlipan_p\n",
      "4-Amino-4-deoxy-L-arabinose modified core oligosaccharide lipid A (G. metallireducens, variant 2)\n",
      "4-Amino-4-deoxy-L-arabinose modified core oligosaccharide lipid A (G. metallireducens, variant 2)\n",
      "D-Glycero-D-manno-heptose 1-phosphate\n",
      "D-Glycero-D-manno-heptose 1,7-bisphosphate\n",
      "D-Glycero-D-manno-heptose 7-phosphate\n",
      "Xanthosine 5'-phosphate\n",
      "GMP\n",
      "GMP\n",
      "Guanine\n",
      "L-Serine\n",
      "Glutaredoxin (oxidized)\n",
      "Glutaredoxin (reduced)\n",
      "Guanosine\n",
      "XTP\n",
      "Xanthine\n",
      "Guanine\n",
      "Carbonic acid\n",
      "Hydrogen sulfide\n",
      "2-Methyl-3-acetoacetyl-CoA\n",
      "3-Octaprenyl-4-hydroxybenzoate\n",
      "3-hydroxycinnamic acid\n",
      "3-hydroxycinnamic acid\n",
      "L-Histidinol\n",
      "Dihydrolipoyl carrier protein LarG\n",
      "Lipoyl carrier protein LarG\n",
      "Protoheme\n",
      "Heptosyl-kdo2-lipidA (glucosediaminyl)\n",
      "hlipan_c\n",
      "4-Methyl-5-(2-phosphoethyl)-thiazole\n",
      "Hexanesulfonate C6H13O3S\n",
      "Hg2+\n",
      "Hg2+\n",
      "Hg2+\n",
      "4 Maleylacetoacetate C8H6O6\n",
      "2-Oxohept-3-ene-1,7-dioate\n",
      "(S)-Methylmalonate semialdehyde\n",
      "L-Histidine\n",
      "L-Histidine\n",
      "Urocanate\n",
      "2-Hydroxy-6-oxonona-2,4-diene-1,9-dioate\n",
      "Hydroxymethylbilane\n",
      "Porphobilinogen\n",
      "Hydroxymethylglutaryl CoA C27H39N7O20P3S\n",
      "(Hydroxymethylphenyl)succinyl-CoA\n",
      "L-Homoserine\n",
      "4-Hydroxy-2-oxopentanoate\n",
      "4-Hydroxy-2-oxohexanoic acid\n",
      "4-Hydroxyphenylacetate\n",
      "3-(3-hydroxy-phenyl)propionate\n",
      "3-(3-hydroxy-phenyl)propionate\n",
      "Hydroquinone\n",
      "O-Phospho-L-homoserine\n",
      "O-Succinyl-L-homoserine\n",
      "Hypoxanthine\n",
      "Pyridoxamine\n",
      "Taurine\n",
      "IscS sulfur acceptor protein\n",
      "IscS with bound sulfur\n",
      "IscU scaffold protein\n",
      "IscU with bound [2Fe-2S] cluster\n",
      "IscU with two bound [2Fe-2S] clusters\n",
      "IscU with bound [4Fe-4S] cluster\n",
      "1D-myo-Inositol 1-phosphate\n",
      "Isocitrate\n",
      "D-erythro-1-(Imidazol-4-yl)glycerol 3-phosphate\n",
      "5-[(5-phospho-1-deoxyribulos-1-ylamino)methylideneamino]-1-(5-phosphoribosyl)imidazole-4-carboxamide\n",
      "1-(2-Carboxyphenylamino)-1-deoxy-D-ribulose 5-phosphate\n",
      "C'-(3-Indolyl)-glycerol 3-phosphate\n",
      "L-Isoleucine\n",
      "L-Isoleucine\n",
      "2-Isopropylmaleate\n",
      "IMP\n",
      "IMP\n",
      "Indole\n",
      "Indolepyruvate C11H8NO3\n",
      "Inosine\n",
      "Myo-Inositol\n",
      "Phenylpyruvate\n",
      "Isethionic acid\n",
      "Isethionic acid\n",
      "Isethionate C2H5O4S\n",
      "CMP-3-deoxy-D-manno-octulosonate\n",
      "3-Deoxy-D-manno-2-octulosonate\n",
      "3-Deoxy-D-manno-octulosonate 8-phosphate\n",
      "Undecaprenyl phosphate-4-amino-4-deoxy-L-arabinose\n",
      "Lactose\n",
      "Lactose\n",
      "Lactose\n",
      "L-Cysteate\n",
      "L-Leucine\n",
      "Lipoate (protein bound)\n",
      "Diglucosyl 1 2 diacylglycerol C4636H8672O1500\n",
      "Lipoteichoic acid  n24   linked  glucose substituted C26236H47072O25500P2400\n",
      "lipo1_24_BS_c\n",
      "Lipoteichoic acid  n24   linked  N acetyl D glucosamine C31036H54272N2400O25500P2400\n",
      "Lipoteichoic acid  n24   linked  D alanine substituted C19036H39872N2400O18300P2400\n",
      "Lipoteichoic acid  n24   linked  unsubstituted C11836H23072O13500P2400\n",
      "Octanoate (protein bound)\n",
      "L-Lactate\n",
      "Laminaribiose\n",
      "Laminaribiose\n",
      "Laminarin (n=30 repeat units, beta -1,3 glc)\n",
      "Lipid A Disaccharide (glucosediaminyl)\n",
      "lipidAdsn_c\n",
      "2,3-Bis(3-hydroxytetradecanoyl)-beta-D-glucosediamine 1-phosphate\n",
      "lipidXn_c\n",
      "UDP-2,3-bis(3-hydroxytetradecanoyl)glucosediamine\n",
      "u23gn_c\n",
      "1-hexadecanoyl-sn-glycerol 3-phosphate\n",
      "1-Acyl-sn-glycero-3-phosphoethanolamine (n-C16:0)\n",
      "D-Mannitol 1-phosphate\n",
      "Maltose 6'-phosphate\n",
      "D-Malate\n",
      "D-Malate\n",
      "D-Malate\n",
      "L-Malate\n",
      "Maltose\n",
      "Maltoheptaose\n",
      "Maltohexaose\n",
      "Maltopentaose\n",
      "Maltotetraose\n",
      "D-Mannose 6-phosphate\n",
      "D-Mannose\n",
      "D-Mannonate\n",
      "Methylisocitrate\n",
      "Cis-2-Methylaconitate\n",
      "Two linked disacharide pentapeptide murein units (uncrosslinked, middle of chain)\n",
      "Two disacharide linked murein units, pentapeptide crosslinked tetrapeptide (A2pm->D-ala) (middle of chain)\n",
      "Two disacharide linked murein units, pentapeptide corsslinked tripeptide (A2pm->A2pm) (middle of chain)\n",
      "Three linked disacharide pentapeptide murein units (uncrosslinked, middle of chain)\n",
      "Three disacharide linked murein units (pentapeptide crosslinked tetrapeptide (A2pm->D-ala) tetrapeptide corsslinked tetrapeptide (A2pm->D-ala)) (middle of chain)\n",
      "Two disacharide linked murein units, tetrapeptide corsslinked tetrapeptide (A2pm->D-ala) (middle of chain)\n",
      "Three disacharide linked murein units (tetrapeptide crosslinked tetrapeptide (A2pm->D-ala) & tetrapeptide corsslinked tetrapeptide (A2pm->D-ala)) (middle of chain)\n",
      "Two linked disacharide pentapeptide and tetrapeptide murein units (uncrosslinked, middle of chain)\n",
      "Two linked disacharide tetrapeptide murein units (uncrosslinked, middle of chain)\n",
      "Two linked disacharide tetrapeptide and tripeptide murein units (uncrosslinked, middle of chain)\n",
      "Two linked disacharide pentapeptide and tripeptide murein units (uncrosslinked, middle of chain)\n",
      "Three disacharide linked murein units (tetrapeptide crosslinked tetrapeptide (A2pm->D-ala), one uncrosslinked tetrapaptide) (middle of chain)\n",
      "5-Methylthio-5-deoxy-D-ribulose 1-phosphate\n",
      "2-C-methyl-D-erythritol 2,4-cyclodiphosphate\n",
      "Melibiose\n",
      "D-Sorbitol\n",
      "L-Methionine\n",
      "L-Methionine Sulfoxide\n",
      "L-methionine-R-sulfoxide\n",
      "L Methionine S oxide C5H11NO3S\n",
      "L Methionine S oxide C5H11NO3S\n",
      "L methionine R oxide C5H11NO3S\n",
      "L methionine R oxide C5H11NO3S\n",
      "Magnesium\n",
      "Two linked disacharide tripeptide murein units (uncrosslinked, middle of chain)\n",
      "(R)-Methylmalonyl-CoA\n",
      "Mn2+\n",
      "D-Mannitol\n",
      "MoaD Protein with bound AMP\n",
      "MoaD Protein with thiocarboxylate\n",
      "KDO-lipid IV(A) (glucosediaminyl)\n",
      "kdolipid4n_c\n",
      "2,3,2'3'-Tetrakis(beta-hydroxymyristoyl)-D-glucosaminyl-1,6-beta-D-glucosediaminyl 1,4'-bisphosphate\n",
      "lipidAn_c\n",
      "Molybdate\n",
      "Molybdate\n",
      "Maltooligosyltrehalose\n",
      "Maltosyltrehalose\n",
      "Beta D Glucose 1 phosphate C6H11O9P\n",
      "Molybdopterin\n",
      "Undecaprenyl-diphospho-N-acetylmuramoyl-(N-acetylglucosamine)-L-ala-D-glu-meso-2,6-diaminopimeloyl-D-ala-D-ala\n",
      "MoaD Protein with carboxylate\n",
      "Methanesulfonate\n",
      "5-Methylthio-5-deoxy-D-ribose 1-phosphate\n",
      "Mucolactone\n",
      "Cis,cis-Butadiene-1,2,4-tricarboxylate\n",
      "M-Xylene\n",
      "M-Xylene\n",
      "M-Xylene\n",
      "Mycothiol (oxidized - dimer)\n",
      "Nitrogen\n",
      "Nicotinate\n",
      "Nicotinamide\n",
      "Nitrite\n",
      "Nitrite\n",
      "Nitrate\n",
      "UMP\n",
      "Ammonium hydroxide\n",
      "Nickel\n",
      "N Ribosylnicotinamide C11H15N2O5\n",
      "Quinolinate\n",
      "Nitrite\n",
      "Nitrate\n",
      "Nitrate\n",
      "Nitric oxide\n",
      "Rubredoxin oxidized\n",
      "Rubredoxin reduced\n",
      "Alpha-D-Ribose 1-phosphate\n",
      "Xanthosine\n",
      "Xanthosine 5'-phosphate\n",
      "Xanthosine\n",
      "Uridine\n",
      "UMP\n",
      "Thymidine\n",
      "Thymidine\n",
      "Periplasmic cytochromes c type oxidized\n",
      "Periplasmic cytochromes c type - reduced\n",
      "DTDP-L-rhamnose\n",
      "Undecaprenyl diphosphate galactose-rhamnose-mannose-abequose-acetyl\n",
      "Oxaloacetate\n",
      "Oxaloacetate\n",
      "Undecaprenyl diphosphate galactose-rhamnose-mannose-abequose\n",
      "Undecaprenyl diphosphate galactose-rhamnose-mannose-abequose-acetyl\n",
      "Undecaprenyl-diphosphate-galactose-rhamnose-mannose\n",
      "Undecaprenyl diphosphate galactose-rhamnose-mannose-abequose-acetyl\n",
      "Octanoate (n-C8:0)\n",
      "Undecaprenyl-diphosphate-galactose\n",
      "2-Oxo-3-hydroxy-4-phosphobutanoate\n",
      "2-Octaprenyl-6-hydroxyphenol\n",
      "Undecaprenyl-diphosphate-galactose-rhamnose\n",
      "Orotidine 5'-phosphate\n",
      "2-Octaprenylphenol\n",
      "Orotate\n",
      "Orotate\n",
      "2-oxepin-2(3H)-ylideneacetyl-CoA\n",
      "3-oxo-5,6-dehydrosuberyl-CoA\n",
      "Succinate semialdehyde-thiamin diphosphate anion\n",
      "Ring 1,2-epoxyphenylacetyl-CoA\n",
      "Phenylacetic acid\n",
      "Phenylacetic acid\n",
      "(R)-Pantothenate\n",
      "Undecaprenyl-diphospho-N-acetylmuramoyl-L-alanyl-D-glutamyl-meso-2,6-diaminopimeloyl-D-alanyl-D-alanine\n",
      "UDP-N-acetylmuramoyl-L-alanyl-D-glutamyl-meso-2,6-diaminopimeloyl-D-alanyl-D-alanine\n",
      "S-Acetyldihydrolipoamide\n",
      "Phthiocerol A\n",
      "Phthiocerol dimycocerosate A (Mtb)\n",
      "Phthiocerol dimycocerosate A (Mtb)\n",
      "Pyridoxine 5'-phosphate\n",
      "Pyridoxine\n",
      "Phosphatidylethanolamine (didodecanoyl, n-C12:0)\n",
      "Phosphatidylethanolamine (ditetradecanoyl, n-C14:0)\n",
      "Phosphatidylethanolamine (ditetradec-7-enoyl, n-C14:1)\n",
      "Phosphatidylethanolamine (dihexadec-9enoyl, n-C16:1)\n",
      "Phosphatidylethanolamine (dioctadecanoyl, n-C18:0)\n",
      "Phosphatidylethanolamine (dioctadec-11-enoyl, n-C18:1)\n",
      "D-Tagatose 1,6-biphosphate\n",
      "Sedoheptulose 7-phosphate\n",
      "3-Phosphohydroxypyruvate\n",
      "Phosphatidylglycerophosphate (didodecanoyl, n-C12:0)\n",
      "Phosphatidylglycerophosphate (didodecanoyl, n-C12:0)\n",
      "Phosphatidylglycerophosphate (ditetradecanoyl, n-C14:0)\n",
      "Phosphatidylglycerophosphate (ditetradecanoyl, n-C14:0)\n",
      "Phosphatidylglycerophosphate (ditetradec-7-enoyl, n-C14:1)\n",
      "Phosphatidylglycerophosphate (ditetradec-7-enoyl, n-C14:1)\n",
      "Phosphatidylglycerophosphate (dihexadecanoyl, n-C16:0)\n",
      "Phosphatidylglycerophosphate (dihexadecanoyl, n-C16:0)\n",
      "Phosphatidylglycerophosphate (dihexadec-9-enoyl, n-C16:1)\n",
      "Phosphatidylglycerophosphate (dihexadec-9-enoyl, n-C16:1)\n",
      "Phosphatidylglycerophosphate (dioctadecanoyl, n-C18:0)\n",
      "Phosphatidylglycerophosphate (dioctadecanoyl, n-C18:0)\n",
      "Phosphatidylglycerophosphate (dioctadec-11-enoyl, n-C18:1)\n",
      "Phosphatidylglycerophosphate (dioctadec-11-enoyl, n-C18:1)\n",
      "Phenol palmitic acid\n",
      "Protoheme\n",
      "L-Phenylalanine\n",
      "Phthiodolone\n",
      "Phenolic phthiocerol precursor\n",
      "Phenolic phthiodiolone\n",
      "Phenolphtiocerol\n",
      "(R)-Pantothenate\n",
      "D-4'-Phosphopantothenate\n",
      "Peroxyaminoacrylate\n",
      "Propionate (n-C3:0)\n",
      "Propionate (n-C3:0)\n",
      "Phenol phthiocerol dimycocerosate (Mtb)\n",
      "Phenol phthiocerol dimycocerosate (Mtb)\n",
      "Peptidoglycan subunit of Bacillus subtilis C40H62N8O21\n",
      "2-(Formamido)-N1-(5-phospho-D-ribosyl)acetamidine\n",
      "1-(5-Phosphoribosyl)-AMP\n",
      "1-(5-Phosphoribosyl)-5-[(5-phosphoribosylamino)methylideneamino]imidazole-4-carboxamide\n",
      "Phthiocerol precursor bound ACP\n",
      "Phenolic phthiocerol precursor bound ACP\n",
      "L-Proline\n",
      "L-Prolinylglycine\n",
      "L-Prolinylglycine\n",
      "Phosphatidylserine (didodecanoyl, n-C12:0)\n",
      "Phosphatidylserine (ditetradecanoyl, n-C14:0)\n",
      "Phosphatidylserine (ditetradec-7-enoyl, n-C14:1)\n",
      "Phosphatidylserine (dihexadecanoyl, n-C16:0)\n",
      "Phosphatidylserine (dihexadec-9-enoyl, n-C16:1)\n",
      "Phosphatidylserine (dioctadecanoyl, n-C18:0)\n",
      "Phosphatidylserine (dioctadec-11-enoyl, n-C18:1)\n",
      "Shikimate 5-phosphate\n",
      "O-Phospho-L-serine\n",
      "L-Threonine\n",
      "Putrescine\n",
      "P-methyltoluene\n",
      "P-methyltoluene\n",
      "P-methyltoluene\n",
      "Pyridoxamine\n",
      "Pyridoxamine\n",
      "Pyridoxal\n",
      "Ureidoacrylate peracid\n",
      "Quinate\n",
      "Sulfate\n",
      "Urate\n",
      "L-Tryptophan\n",
      "L-Tyrosine\n",
      "L-Valine\n",
      "D-Ribose\n",
      "Raffinose C18H32O16\n",
      "Raffinose C18H32O16\n",
      "6,7-Dimethyl-8-(1-D-ribityl)lumazine\n",
      "L-Ribulose 5-phosphate\n",
      "D-Xylulose 5-phosphate\n",
      "Spermidine\n",
      "Urea\n",
      "D-Ribose\n",
      "L-Rhamnulose\n",
      "L-Rhamnose\n",
      "L-Rhamnulose 1-phosphate\n",
      "L-Rhamnose\n",
      "SufBCD scaffold complex\n",
      "SufBCD with bound [2Fe-2S] cluster\n",
      "SufSE sulfur acceptor complex\n",
      "SufSE with bound sulfur\n",
      "SufBCD with two bound [2Fe-2S] clusters\n",
      "SufBCD with bound [4Fe-4S] cluster\n",
      "Salmochelin-S4\n",
      "Salmochelin-S4-Fe-III\n",
      "Salmochelin-S4-Fe-III\n",
      "Salmochelin-S4-Fe-III\n",
      "Salmochelin-S4\n",
      "Salicin\n",
      "Salicin\n",
      "D-Sorbitol 6-phosphate\n",
      "D-Sorbitol\n",
      "N-Succinyl-LL-2,6-diaminoheptanedioate\n",
      "N-Succinyl-2-L-amino-6-oxoheptanedioate\n",
      "Sirohydrochlorin\n",
      "Sirohydrochlorin 2\n",
      "Siroheme\n",
      "Shikimate\n",
      "Shikimate\n",
      "Shikimate\n",
      "Sulfite\n",
      "Sulfate\n",
      "Spermidine\n",
      "Sulfur\n",
      "O-Succinylbenzoate\n",
      "Sucrose\n",
      "Sucrose\n",
      "D-tartrate\n",
      "Sulfoacetate C2H2O5S\n",
      "Sulfoacetate\n",
      "Sulfoacetate\n",
      "L-tartrate\n",
      "D-tartrate\n",
      "L-tartrate\n",
      "L-tartrate\n",
      "Thiamin monophosphate\n",
      "DTDP-4-dehydro-6-deoxy-D-glucose\n",
      "dtdp4d6dg_c\n",
      "DTDP-4-dehydro-6-deoxy-L-mannose\n",
      "UDP-N-acetyl-D-mannosamine\n",
      "Glycerol teichoic acid  n45   unlinked  unsubstituted C151H297N2O238P46\n",
      "Glycerol teichoic acid  n45   unlinked  D ala substituted C286H612N47O328P46\n",
      "Glycerol teichoic acid  n45   unlinked  glucose substituted C421H749N2O464P46\n",
      "gtca3_45_BS_c\n",
      "Thymidine\n",
      "4-Hydroxy-benzyl alcohol\n",
      "Trehalose\n",
      "Trehalose\n",
      "L-Tryptophan\n",
      "Thiosulfate\n",
      "L-Tyrosine\n",
      "UDP-3-N-(3-hydroxytetradecanoyl)-glucose-2,3-diamine\n",
      "u3hgn_c\n",
      "UDP-N-acetylmuramoyl-L-alanyl-D-glutamate\n",
      "UDP-N-acetylmuramoyl-L-alanyl-D-gamma-glutamyl-meso-2,6-diaminopimelate\n",
      "UDP-2-acetamido-2-deoxy-alpha-D-ribo-hexopyranos-3-ulose\n",
      "UDP-2-N-acetylglucose-2,3-diamine\n",
      "uacgnn_c\n",
      "UDP-3-N-(3-hydroxytetradecanoyl)-2-N-acetylglucosediamine\n",
      "u3agn_c\n",
      "UDP-N-acetyl-3-O-(1-carboxyvinyl)-D-glucosamine\n",
      "UDP-N-acetylmuramoyl-L-alanine\n",
      "UDP-N-acetylmuramate\n",
      "UDP-4-keto-pyranose\n",
      "Uridine 5''-diphospho-{beta}-4-deoxy-4-amino-L-arabinose\n",
      "Uridine 5''-diphospho-{beta}-4-deoxy-4-formamido-L-arabinose\n",
      "Undecaprenyl phosphate-4-amino-4-deoxy-L-arabinose\n",
      "Undecaprenyl phosphate-4-amino-4-formyl-L-arabinose\n",
      "Uroporphyrinogen III\n",
      "Uracil\n",
      "Uracil\n",
      "Urea\n",
      "L-Valine\n",
      "Vanillate\n",
      "Vanillate\n",
      "Vanillin\n",
      "Xanthine\n",
      "Xanthosine 5'-phosphate\n",
      "Xanthosine\n",
      "D-Xylose\n",
      "Xylan (4 backbone units, 1 glcur side chain)\n",
      "Xylotriose\n",
      "Xylotriose\n",
      "D-Xylose\n",
      "D-Xylose\n",
      "Xylobiose\n",
      "Xylobiose\n",
      "Zinc\n",
      "phenol\n",
      "phenol\n"
     ]
    }
   ],
   "source": [
    "for m in model.metabolites:\n",
    "    print(m.name)\n",
    "    if 'glucose' in m.name:\n",
    "        print(m)"
   ]
  },
  {
   "cell_type": "code",
   "execution_count": 21,
   "metadata": {},
   "outputs": [
    {
     "output_type": "execute_result",
     "data": {
      "text/plain": [
       "{<Metabolite g6p_c at 0x139060c50>: -1.0,\n",
       " <Metabolite f6p_c at 0x1390f4110>: 1.0}"
      ]
     },
     "metadata": {},
     "execution_count": 21
    }
   ],
   "source": [
    "model.reactions.get_by_id('PGI').metabolites"
   ]
  },
  {
   "cell_type": "code",
   "execution_count": 67,
   "metadata": {},
   "outputs": [
    {
     "output_type": "stream",
     "name": "stdout",
     "text": [
      "ENO: 2pg_c <=> h2o_c + pep_c\nPGM: 2pg_c <=> 3pg_c\nPGM_1: 3pg_c <=> 2pg_c\nGLYCK2: atp_c + glyc__R_c --> 2pg_c + adp_c + h_c\n"
     ]
    }
   ],
   "source": [
    "for r in model.metabolites.get_by_id('2pg_c').reactions:\n",
    "    print(r)"
   ]
  },
  {
   "cell_type": "code",
   "execution_count": 80,
   "metadata": {},
   "outputs": [
    {
     "output_type": "stream",
     "name": "stdout",
     "text": [
      "FRUpts2pp or SBTpts or MNLpts or ACGApts or FRUpts2 or MANpts or FRUpts or ARBTpts or PYK or GALTpts or SUCpts or TREptspp or TREpts or GLCptspp or PPS_reverse_1c319 or ACGAptspp or SALCptspp or MALTptspp or FRUptspp or SUCptspp or DHAPT or MALTpts or ACMANApts or GAMpts or SALCpts or GLCpts or \n"
     ]
    }
   ],
   "source": [
    "met_1 = model.metabolites.get_by_id('pep_c')\n",
    "met_2 = model.metabolites.get_by_id('pyr_c')\n",
    "\n",
    "forward_string = ''\n",
    "reverse_string = ''\n",
    "for r in met_1.reactions:\n",
    "    if met_2 in r.metabolites:\n",
    "        if met_1 in r.reactants:\n",
    "            forward_string += r.id + ' or '\n",
    "            reverse_string += r.reverse_id + ' or '\n",
    "            # print(r)\n",
    "        else:\n",
    "            forward_string += r.reverse_id + ' or '\n",
    "            reverse_string += r.id + ' or '\n",
    "\n",
    "print(forward_string)\n",
    "    # for m in r.metabolites:\n",
    "    #     print(m.name)\n",
    "        # if m.name == 'g6p_c':\n",
    "        # # print(m)\n",
    "        #     print(r.metabolites)\n",
    "        #     print()"
   ]
  },
  {
   "cell_type": "code",
   "execution_count": 68,
   "metadata": {},
   "outputs": [
    {
     "output_type": "execute_result",
     "data": {
      "text/plain": [
       "'ENO_reverse_40eea'"
      ]
     },
     "metadata": {},
     "execution_count": 68
    }
   ],
   "source": [
    "model.reactions.get_by_id('ENO').reverse_id"
   ]
  },
  {
   "cell_type": "code",
   "execution_count": null,
   "metadata": {},
   "outputs": [],
   "source": [
    "metabolite_name = ''\n",
    "reactions = [r for r in model.reactions if "
   ]
  },
  {
   "cell_type": "code",
   "execution_count": null,
   "metadata": {},
   "outputs": [],
   "source": []
  },
  {
   "cell_type": "code",
   "execution_count": null,
   "metadata": {},
   "outputs": [],
   "source": []
  },
  {
   "cell_type": "code",
   "execution_count": null,
   "metadata": {},
   "outputs": [],
   "source": []
  },
  {
   "cell_type": "code",
   "execution_count": null,
   "metadata": {},
   "outputs": [],
   "source": []
  },
  {
   "cell_type": "code",
   "execution_count": null,
   "metadata": {},
   "outputs": [],
   "source": []
  },
  {
   "cell_type": "code",
   "execution_count": null,
   "metadata": {},
   "outputs": [],
   "source": []
  }
 ],
 "metadata": {
  "kernelspec": {
   "name": "python379jvsc74a57bd007c33af70b0cdfbca3d7997f0ed2ad57cdf92a3531004def442b773d8df8650a",
   "display_name": "Python 3.7.9 64-bit ('3.7.9': pyenv)"
  },
  "language_info": {
   "codemirror_mode": {
    "name": "ipython",
    "version": 3
   },
   "file_extension": ".py",
   "mimetype": "text/x-python",
   "name": "python",
   "nbconvert_exporter": "python",
   "pygments_lexer": "ipython3",
   "version": "3.7.9"
  }
 },
 "nbformat": 4,
 "nbformat_minor": 5
}
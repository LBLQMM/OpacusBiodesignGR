{
 "cells": [
  {
   "cell_type": "markdown",
   "id": "7563604a-2ba5-4e5d-b9e0-309615df0b5b",
   "metadata": {},
   "source": [
    "### **Notebook to make predictions with reprocessed Henson data and EFLUX2 and SPOT** "
   ]
  },
  {
   "cell_type": "markdown",
   "id": "5a6edbe7-d3d0-49ac-9d13-8f43882945f0",
   "metadata": {},
   "source": [
    "##### **Import python packages**"
   ]
  },
  {
   "cell_type": "code",
   "execution_count": 4,
   "id": "5e37f811-1a95-45e0-932f-962edb144307",
   "metadata": {},
   "outputs": [],
   "source": [
    "import os\n",
    "import sys\n",
    "import pandas as pd\n",
    "import numpy as np\n",
    "import cobra\n",
    "import scipy.stats\n",
    "#import cplex\n",
    "%matplotlib inline\n",
    "\n",
    "import matplotlib\n",
    "from matplotlib import pyplot as plt\n",
    "from matplotlib.offsetbox import (TextArea, DrawingArea, OffsetImage,\n",
    "                                  AnnotationBbox)\n",
    "from matplotlib.cbook import get_sample_data\n",
    "import matplotlib.image as mpimg\n",
    "\n",
    "from edd_utils import login, export_study, export_metadata"
   ]
  },
  {
   "cell_type": "markdown",
   "id": "244d4ba7-9d90-4f21-8de8-18a77f1a87dd",
   "metadata": {},
   "source": [
    "##### **Load data**"
   ]
  },
  {
   "cell_type": "code",
   "execution_count": 5,
   "id": "e8232d35-b2bf-4b51-9625-3a12a76661f3",
   "metadata": {},
   "outputs": [],
   "source": [
    "# Study to Download\n",
    "study_slug = 'biodesign_henson2018_reprocessed'\n",
    "# EDD server\n",
    "edd_server = 'public-edd.jbei.org'\n",
    "user       = 'schenkch'"
   ]
  },
  {
   "cell_type": "code",
   "execution_count": 7,
   "id": "b2b03dbf-95d3-49f6-b272-3e35cd07705a",
   "metadata": {
    "tags": []
   },
   "outputs": [
    {
     "name": "stdin",
     "output_type": "stream",
     "text": [
      "Password for schenkch:  ···············\n"
     ]
    },
    {
     "data": {
      "application/vnd.jupyter.widget-view+json": {
       "model_id": "b266a662d43e49dda2170df7ead2a690",
       "version_major": 2,
       "version_minor": 0
      },
      "text/plain": [
       "HBox(children=(FloatProgress(value=0.0, max=440493.0), HTML(value='')))"
      ]
     },
     "metadata": {},
     "output_type": "display_data"
    },
    {
     "name": "stdout",
     "output_type": "stream",
     "text": [
      "\n"
     ]
    }
   ],
   "source": [
    "session = login(edd_server=edd_server, user=user)\n",
    "\n",
    "df = export_study(session, study_slug, edd_server=edd_server)\n",
    "#df.head()"
   ]
  },
  {
   "cell_type": "markdown",
   "id": "2f51c4cc-b55f-44ab-8b2c-374350327f29",
   "metadata": {},
   "source": [
    "##### **Filter transcriptomics data from all EDD data into different dataframes**"
   ]
  },
  {
   "cell_type": "code",
   "execution_count": 8,
   "id": "9b399ad9-6558-4eaa-aac6-f57a2c3690dc",
   "metadata": {},
   "outputs": [
    {
     "data": {
      "text/html": [
       "<div>\n",
       "<style scoped>\n",
       "    .dataframe tbody tr th:only-of-type {\n",
       "        vertical-align: middle;\n",
       "    }\n",
       "\n",
       "    .dataframe tbody tr th {\n",
       "        vertical-align: top;\n",
       "    }\n",
       "\n",
       "    .dataframe thead th {\n",
       "        text-align: right;\n",
       "    }\n",
       "</style>\n",
       "<table border=\"1\" class=\"dataframe\">\n",
       "  <thead>\n",
       "    <tr style=\"text-align: right;\">\n",
       "      <th></th>\n",
       "      <th>Study ID</th>\n",
       "      <th>Study Name</th>\n",
       "      <th>Line ID</th>\n",
       "      <th>Line Name</th>\n",
       "      <th>Line Description</th>\n",
       "      <th>Protocol</th>\n",
       "      <th>Assay ID</th>\n",
       "      <th>Assay Name</th>\n",
       "      <th>Formal Type</th>\n",
       "      <th>Measurement Type</th>\n",
       "      <th>Compartment</th>\n",
       "      <th>Units</th>\n",
       "      <th>Value</th>\n",
       "      <th>Hours</th>\n",
       "    </tr>\n",
       "  </thead>\n",
       "  <tbody>\n",
       "    <tr>\n",
       "      <th>0</th>\n",
       "      <td>14409</td>\n",
       "      <td>Biodesign_Henson2018_reprocessed</td>\n",
       "      <td>14905</td>\n",
       "      <td>WT-M-R1</td>\n",
       "      <td>R. Opacus wild type strain with Mixture of all...</td>\n",
       "      <td>Transcriptomics</td>\n",
       "      <td>14948</td>\n",
       "      <td>WT-M-R1</td>\n",
       "      <td>NaN</td>\n",
       "      <td>WP_000104864_1</td>\n",
       "      <td>0</td>\n",
       "      <td>FPKM</td>\n",
       "      <td>0.0</td>\n",
       "      <td>20.0</td>\n",
       "    </tr>\n",
       "    <tr>\n",
       "      <th>1</th>\n",
       "      <td>14409</td>\n",
       "      <td>Biodesign_Henson2018_reprocessed</td>\n",
       "      <td>14905</td>\n",
       "      <td>WT-M-R1</td>\n",
       "      <td>R. Opacus wild type strain with Mixture of all...</td>\n",
       "      <td>Transcriptomics</td>\n",
       "      <td>14948</td>\n",
       "      <td>WT-M-R1</td>\n",
       "      <td>NaN</td>\n",
       "      <td>WP_000104864_1</td>\n",
       "      <td>0</td>\n",
       "      <td>FPKM</td>\n",
       "      <td>0.0</td>\n",
       "      <td>32.0</td>\n",
       "    </tr>\n",
       "    <tr>\n",
       "      <th>2</th>\n",
       "      <td>14409</td>\n",
       "      <td>Biodesign_Henson2018_reprocessed</td>\n",
       "      <td>14906</td>\n",
       "      <td>WT-M-R2</td>\n",
       "      <td>R. Opacus wild type strain with Mixture of all...</td>\n",
       "      <td>Transcriptomics</td>\n",
       "      <td>14949</td>\n",
       "      <td>WT-M-R2</td>\n",
       "      <td>NaN</td>\n",
       "      <td>WP_000104864_1</td>\n",
       "      <td>0</td>\n",
       "      <td>FPKM</td>\n",
       "      <td>0.0</td>\n",
       "      <td>20.0</td>\n",
       "    </tr>\n",
       "    <tr>\n",
       "      <th>3</th>\n",
       "      <td>14409</td>\n",
       "      <td>Biodesign_Henson2018_reprocessed</td>\n",
       "      <td>14906</td>\n",
       "      <td>WT-M-R2</td>\n",
       "      <td>R. Opacus wild type strain with Mixture of all...</td>\n",
       "      <td>Transcriptomics</td>\n",
       "      <td>14949</td>\n",
       "      <td>WT-M-R2</td>\n",
       "      <td>NaN</td>\n",
       "      <td>WP_000104864_1</td>\n",
       "      <td>0</td>\n",
       "      <td>FPKM</td>\n",
       "      <td>0.0</td>\n",
       "      <td>32.0</td>\n",
       "    </tr>\n",
       "    <tr>\n",
       "      <th>4</th>\n",
       "      <td>14409</td>\n",
       "      <td>Biodesign_Henson2018_reprocessed</td>\n",
       "      <td>14907</td>\n",
       "      <td>WT-M-R3</td>\n",
       "      <td>R. Opacus wild type strain with Mixture of all...</td>\n",
       "      <td>Transcriptomics</td>\n",
       "      <td>14950</td>\n",
       "      <td>WT-M-R3</td>\n",
       "      <td>NaN</td>\n",
       "      <td>WP_000104864_1</td>\n",
       "      <td>0</td>\n",
       "      <td>FPKM</td>\n",
       "      <td>0.0</td>\n",
       "      <td>20.0</td>\n",
       "    </tr>\n",
       "  </tbody>\n",
       "</table>\n",
       "</div>"
      ],
      "text/plain": [
       "   Study ID                        Study Name  Line ID Line Name  \\\n",
       "0     14409  Biodesign_Henson2018_reprocessed    14905   WT-M-R1   \n",
       "1     14409  Biodesign_Henson2018_reprocessed    14905   WT-M-R1   \n",
       "2     14409  Biodesign_Henson2018_reprocessed    14906   WT-M-R2   \n",
       "3     14409  Biodesign_Henson2018_reprocessed    14906   WT-M-R2   \n",
       "4     14409  Biodesign_Henson2018_reprocessed    14907   WT-M-R3   \n",
       "\n",
       "                                    Line Description         Protocol  \\\n",
       "0  R. Opacus wild type strain with Mixture of all...  Transcriptomics   \n",
       "1  R. Opacus wild type strain with Mixture of all...  Transcriptomics   \n",
       "2  R. Opacus wild type strain with Mixture of all...  Transcriptomics   \n",
       "3  R. Opacus wild type strain with Mixture of all...  Transcriptomics   \n",
       "4  R. Opacus wild type strain with Mixture of all...  Transcriptomics   \n",
       "\n",
       "   Assay ID Assay Name Formal Type Measurement Type  Compartment Units  Value  \\\n",
       "0     14948    WT-M-R1         NaN   WP_000104864_1            0  FPKM    0.0   \n",
       "1     14948    WT-M-R1         NaN   WP_000104864_1            0  FPKM    0.0   \n",
       "2     14949    WT-M-R2         NaN   WP_000104864_1            0  FPKM    0.0   \n",
       "3     14949    WT-M-R2         NaN   WP_000104864_1            0  FPKM    0.0   \n",
       "4     14950    WT-M-R3         NaN   WP_000104864_1            0  FPKM    0.0   \n",
       "\n",
       "   Hours  \n",
       "0   20.0  \n",
       "1   32.0  \n",
       "2   20.0  \n",
       "3   32.0  \n",
       "4   20.0  "
      ]
     },
     "execution_count": 8,
     "metadata": {},
     "output_type": "execute_result"
    }
   ],
   "source": [
    "df_Trans = df[df['Protocol'].str.contains('Transcriptomics')]\n",
    "df_Trans.head()"
   ]
  },
  {
   "cell_type": "markdown",
   "id": "c7252a93-7cea-4b7c-8375-c03a194a9524",
   "metadata": {},
   "source": [
    "##### **Load Genome Scale Model**"
   ]
  },
  {
   "cell_type": "code",
   "execution_count": 9,
   "id": "6f6b96da-3aaf-49fd-9dec-b674a678d243",
   "metadata": {},
   "outputs": [],
   "source": [
    "file_name =  '../GSMs/Ropacus_annotated_curated_with_phenol_custom_biomass.xml'\n",
    "model = cobra.io.read_sbml_model(file_name)"
   ]
  },
  {
   "cell_type": "markdown",
   "id": "1e20d0fe-15c8-4248-b6be-aa65f868fc95",
   "metadata": {},
   "source": [
    "##### **Import EFLUX2 and SPOT Code**"
   ]
  },
  {
   "cell_type": "code",
   "execution_count": 70,
   "id": "faf7a9d4-095c-42c6-a32b-5b5fd19ffca8",
   "metadata": {},
   "outputs": [],
   "source": [
    "OptlangDir = '../EFLUX2_SPOT'\n",
    "sys.path.append(OptlangDir)\n",
    "from ensemblemethods import EFlux2,SPOT"
   ]
  },
  {
   "cell_type": "markdown",
   "id": "4d29a769-3932-4cbc-9572-4300ab175dc2",
   "metadata": {},
   "source": [
    "##### **Transform data to dataframe with just index as gene identifiers and one column for values**\n",
    "##### !!!!TODO: Generalize for multiple time points\n"
   ]
  },
  {
   "cell_type": "code",
   "execution_count": 71,
   "id": "af363ea6-7fa6-4c83-9644-af57a1e79e66",
   "metadata": {},
   "outputs": [],
   "source": [
    "#Function to construct df from EFLUX2 and SPOT functions: Needs to be modified for multiple time points!!!!!\n",
    "def constructTransdffrompred(transdata, linename, conditionstring):\n",
    "    transdataPhe = transdata[transdata['Line Description'].str.contains(conditionstring)]\n",
    "    transdataWTPR1 = transdataPhe[transdataPhe['Line Name']==linename]\n",
    "    transdataWTPR1new = transdataWTPR1.filter(['Value', 'Measurement Type'])#pd.DataFrame(data=df_TransWTPR1.loc[:,'Value'], index=df_TransWTPR1['Measurement Type'])\n",
    "    transdataWTPR1new2 = transdataWTPR1new.set_index('Measurement Type')\n",
    "    return transdataWTPR1new2"
   ]
  },
  {
   "cell_type": "markdown",
   "id": "0ecdd789-7d08-4e19-8e86-70134bca2c5a",
   "metadata": {},
   "source": [
    "#### Load observed growth rates and plot glucose growth rates"
   ]
  },
  {
   "cell_type": "code",
   "execution_count": 72,
   "id": "a157861d-c53f-4113-82ed-0a87dfacda4f",
   "metadata": {},
   "outputs": [],
   "source": [
    "growthandsubstrdata = pd.read_csv('growthandsubstratedata.csv')"
   ]
  },
  {
   "cell_type": "code",
   "execution_count": 73,
   "id": "83c071fb-2e9f-42ec-97e8-efa52e461c98",
   "metadata": {},
   "outputs": [
    {
     "data": {
      "text/html": [
       "<div>\n",
       "<style scoped>\n",
       "    .dataframe tbody tr th:only-of-type {\n",
       "        vertical-align: middle;\n",
       "    }\n",
       "\n",
       "    .dataframe tbody tr th {\n",
       "        vertical-align: top;\n",
       "    }\n",
       "\n",
       "    .dataframe thead th {\n",
       "        text-align: right;\n",
       "    }\n",
       "</style>\n",
       "<table border=\"1\" class=\"dataframe\">\n",
       "  <thead>\n",
       "    <tr style=\"text-align: right;\">\n",
       "      <th></th>\n",
       "      <th>growth_rate</th>\n",
       "      <th>yield_coeff</th>\n",
       "      <th>substrate_consumption_rate</th>\n",
       "      <th>growth_rate_std</th>\n",
       "      <th>yield_coeff_std</th>\n",
       "      <th>substr_cons_rate_std</th>\n",
       "      <th>substrate_consumption_rate_R1</th>\n",
       "      <th>substrate_consumption_rate_R2</th>\n",
       "      <th>substrate_consumption_rate_R3</th>\n",
       "      <th>FBA_growth_rate</th>\n",
       "      <th>pFBA_growth_rate</th>\n",
       "      <th>FBA_growth_rate_std</th>\n",
       "      <th>pFBA_growth_rate_std</th>\n",
       "    </tr>\n",
       "    <tr>\n",
       "      <th>Unnamed: 0</th>\n",
       "      <th></th>\n",
       "      <th></th>\n",
       "      <th></th>\n",
       "      <th></th>\n",
       "      <th></th>\n",
       "      <th></th>\n",
       "      <th></th>\n",
       "      <th></th>\n",
       "      <th></th>\n",
       "      <th></th>\n",
       "      <th></th>\n",
       "      <th></th>\n",
       "      <th></th>\n",
       "    </tr>\n",
       "  </thead>\n",
       "  <tbody>\n",
       "    <tr>\n",
       "      <th>WT-HN-HP</th>\n",
       "      <td>0.018808</td>\n",
       "      <td>0.028287</td>\n",
       "      <td>0.668193</td>\n",
       "      <td>0.001096</td>\n",
       "      <td>0.002990</td>\n",
       "      <td>0.031269</td>\n",
       "      <td>0.671011</td>\n",
       "      <td>0.705003</td>\n",
       "      <td>0.628566</td>\n",
       "      <td>0.063811</td>\n",
       "      <td>0.063811</td>\n",
       "      <td>0.002986</td>\n",
       "      <td>0.002986</td>\n",
       "    </tr>\n",
       "    <tr>\n",
       "      <th>EVOL33-HN-HP</th>\n",
       "      <td>0.033546</td>\n",
       "      <td>0.034836</td>\n",
       "      <td>0.964149</td>\n",
       "      <td>0.001738</td>\n",
       "      <td>0.002366</td>\n",
       "      <td>0.020354</td>\n",
       "      <td>0.992792</td>\n",
       "      <td>0.952304</td>\n",
       "      <td>0.947352</td>\n",
       "      <td>0.092074</td>\n",
       "      <td>0.092074</td>\n",
       "      <td>0.001944</td>\n",
       "      <td>0.001944</td>\n",
       "    </tr>\n",
       "    <tr>\n",
       "      <th>EVOL40-HN-HP</th>\n",
       "      <td>0.034101</td>\n",
       "      <td>0.038085</td>\n",
       "      <td>0.897184</td>\n",
       "      <td>0.001198</td>\n",
       "      <td>0.002455</td>\n",
       "      <td>0.028558</td>\n",
       "      <td>0.928911</td>\n",
       "      <td>0.902962</td>\n",
       "      <td>0.859679</td>\n",
       "      <td>0.085679</td>\n",
       "      <td>0.085679</td>\n",
       "      <td>0.002727</td>\n",
       "      <td>0.002727</td>\n",
       "    </tr>\n",
       "    <tr>\n",
       "      <th>WT-HN-G</th>\n",
       "      <td>0.031509</td>\n",
       "      <td>1.209217</td>\n",
       "      <td>0.026057</td>\n",
       "      <td>0.000000</td>\n",
       "      <td>0.000000</td>\n",
       "      <td>0.000000</td>\n",
       "      <td>NaN</td>\n",
       "      <td>NaN</td>\n",
       "      <td>NaN</td>\n",
       "      <td>0.227566</td>\n",
       "      <td>0.227566</td>\n",
       "      <td>0.000000</td>\n",
       "      <td>0.000000</td>\n",
       "    </tr>\n",
       "    <tr>\n",
       "      <th>EVOL33-HN-G</th>\n",
       "      <td>0.031149</td>\n",
       "      <td>1.183217</td>\n",
       "      <td>0.026325</td>\n",
       "      <td>0.000000</td>\n",
       "      <td>0.000000</td>\n",
       "      <td>0.000000</td>\n",
       "      <td>NaN</td>\n",
       "      <td>NaN</td>\n",
       "      <td>NaN</td>\n",
       "      <td>0.227591</td>\n",
       "      <td>0.227591</td>\n",
       "      <td>0.000000</td>\n",
       "      <td>0.000000</td>\n",
       "    </tr>\n",
       "    <tr>\n",
       "      <th>EVOL40-HN-G</th>\n",
       "      <td>0.031263</td>\n",
       "      <td>-0.525735</td>\n",
       "      <td>-0.059465</td>\n",
       "      <td>0.000000</td>\n",
       "      <td>0.000000</td>\n",
       "      <td>0.000000</td>\n",
       "      <td>NaN</td>\n",
       "      <td>NaN</td>\n",
       "      <td>NaN</td>\n",
       "      <td>0.059465</td>\n",
       "      <td>0.227591</td>\n",
       "      <td>0.000000</td>\n",
       "      <td>0.000000</td>\n",
       "    </tr>\n",
       "    <tr>\n",
       "      <th>WT-LN-G</th>\n",
       "      <td>0.039004</td>\n",
       "      <td>1.928182</td>\n",
       "      <td>0.020229</td>\n",
       "      <td>0.000000</td>\n",
       "      <td>0.000000</td>\n",
       "      <td>0.000000</td>\n",
       "      <td>NaN</td>\n",
       "      <td>NaN</td>\n",
       "      <td>NaN</td>\n",
       "      <td>0.227030</td>\n",
       "      <td>0.227030</td>\n",
       "      <td>0.000000</td>\n",
       "      <td>0.000000</td>\n",
       "    </tr>\n",
       "    <tr>\n",
       "      <th>EVOL33-LN-G</th>\n",
       "      <td>0.032741</td>\n",
       "      <td>1.057788</td>\n",
       "      <td>0.030953</td>\n",
       "      <td>0.000000</td>\n",
       "      <td>0.000000</td>\n",
       "      <td>0.000000</td>\n",
       "      <td>NaN</td>\n",
       "      <td>NaN</td>\n",
       "      <td>NaN</td>\n",
       "      <td>0.228017</td>\n",
       "      <td>0.228017</td>\n",
       "      <td>0.000000</td>\n",
       "      <td>0.000000</td>\n",
       "    </tr>\n",
       "    <tr>\n",
       "      <th>EVOL40-LN-G</th>\n",
       "      <td>0.034156</td>\n",
       "      <td>2.133006</td>\n",
       "      <td>0.016013</td>\n",
       "      <td>0.000000</td>\n",
       "      <td>0.000000</td>\n",
       "      <td>0.000000</td>\n",
       "      <td>NaN</td>\n",
       "      <td>NaN</td>\n",
       "      <td>NaN</td>\n",
       "      <td>0.226643</td>\n",
       "      <td>0.226643</td>\n",
       "      <td>0.000000</td>\n",
       "      <td>0.000000</td>\n",
       "    </tr>\n",
       "    <tr>\n",
       "      <th>WT-P</th>\n",
       "      <td>0.040445</td>\n",
       "      <td>0.023297</td>\n",
       "      <td>1.761236</td>\n",
       "      <td>0.013432</td>\n",
       "      <td>0.008491</td>\n",
       "      <td>0.110481</td>\n",
       "      <td>1.816594</td>\n",
       "      <td>1.607023</td>\n",
       "      <td>1.860090</td>\n",
       "      <td>0.168193</td>\n",
       "      <td>0.168193</td>\n",
       "      <td>0.010551</td>\n",
       "      <td>0.010551</td>\n",
       "    </tr>\n",
       "    <tr>\n",
       "      <th>PVHG-P</th>\n",
       "      <td>0.050769</td>\n",
       "      <td>0.022988</td>\n",
       "      <td>2.215915</td>\n",
       "      <td>0.016277</td>\n",
       "      <td>0.007529</td>\n",
       "      <td>0.028063</td>\n",
       "      <td>2.246569</td>\n",
       "      <td>2.178759</td>\n",
       "      <td>2.222417</td>\n",
       "      <td>0.211614</td>\n",
       "      <td>0.211614</td>\n",
       "      <td>0.002680</td>\n",
       "      <td>0.002680</td>\n",
       "    </tr>\n",
       "  </tbody>\n",
       "</table>\n",
       "</div>"
      ],
      "text/plain": [
       "              growth_rate  yield_coeff  substrate_consumption_rate  \\\n",
       "Unnamed: 0                                                           \n",
       "WT-HN-HP         0.018808     0.028287                    0.668193   \n",
       "EVOL33-HN-HP     0.033546     0.034836                    0.964149   \n",
       "EVOL40-HN-HP     0.034101     0.038085                    0.897184   \n",
       "WT-HN-G          0.031509     1.209217                    0.026057   \n",
       "EVOL33-HN-G      0.031149     1.183217                    0.026325   \n",
       "EVOL40-HN-G      0.031263    -0.525735                   -0.059465   \n",
       "WT-LN-G          0.039004     1.928182                    0.020229   \n",
       "EVOL33-LN-G      0.032741     1.057788                    0.030953   \n",
       "EVOL40-LN-G      0.034156     2.133006                    0.016013   \n",
       "WT-P             0.040445     0.023297                    1.761236   \n",
       "PVHG-P           0.050769     0.022988                    2.215915   \n",
       "\n",
       "              growth_rate_std  yield_coeff_std  substr_cons_rate_std  \\\n",
       "Unnamed: 0                                                             \n",
       "WT-HN-HP             0.001096         0.002990              0.031269   \n",
       "EVOL33-HN-HP         0.001738         0.002366              0.020354   \n",
       "EVOL40-HN-HP         0.001198         0.002455              0.028558   \n",
       "WT-HN-G              0.000000         0.000000              0.000000   \n",
       "EVOL33-HN-G          0.000000         0.000000              0.000000   \n",
       "EVOL40-HN-G          0.000000         0.000000              0.000000   \n",
       "WT-LN-G              0.000000         0.000000              0.000000   \n",
       "EVOL33-LN-G          0.000000         0.000000              0.000000   \n",
       "EVOL40-LN-G          0.000000         0.000000              0.000000   \n",
       "WT-P                 0.013432         0.008491              0.110481   \n",
       "PVHG-P               0.016277         0.007529              0.028063   \n",
       "\n",
       "              substrate_consumption_rate_R1  substrate_consumption_rate_R2  \\\n",
       "Unnamed: 0                                                                   \n",
       "WT-HN-HP                           0.671011                       0.705003   \n",
       "EVOL33-HN-HP                       0.992792                       0.952304   \n",
       "EVOL40-HN-HP                       0.928911                       0.902962   \n",
       "WT-HN-G                                 NaN                            NaN   \n",
       "EVOL33-HN-G                             NaN                            NaN   \n",
       "EVOL40-HN-G                             NaN                            NaN   \n",
       "WT-LN-G                                 NaN                            NaN   \n",
       "EVOL33-LN-G                             NaN                            NaN   \n",
       "EVOL40-LN-G                             NaN                            NaN   \n",
       "WT-P                               1.816594                       1.607023   \n",
       "PVHG-P                             2.246569                       2.178759   \n",
       "\n",
       "              substrate_consumption_rate_R3  FBA_growth_rate  \\\n",
       "Unnamed: 0                                                     \n",
       "WT-HN-HP                           0.628566         0.063811   \n",
       "EVOL33-HN-HP                       0.947352         0.092074   \n",
       "EVOL40-HN-HP                       0.859679         0.085679   \n",
       "WT-HN-G                                 NaN         0.227566   \n",
       "EVOL33-HN-G                             NaN         0.227591   \n",
       "EVOL40-HN-G                             NaN         0.059465   \n",
       "WT-LN-G                                 NaN         0.227030   \n",
       "EVOL33-LN-G                             NaN         0.228017   \n",
       "EVOL40-LN-G                             NaN         0.226643   \n",
       "WT-P                               1.860090         0.168193   \n",
       "PVHG-P                             2.222417         0.211614   \n",
       "\n",
       "              pFBA_growth_rate  FBA_growth_rate_std  pFBA_growth_rate_std  \n",
       "Unnamed: 0                                                                 \n",
       "WT-HN-HP              0.063811             0.002986              0.002986  \n",
       "EVOL33-HN-HP          0.092074             0.001944              0.001944  \n",
       "EVOL40-HN-HP          0.085679             0.002727              0.002727  \n",
       "WT-HN-G               0.227566             0.000000              0.000000  \n",
       "EVOL33-HN-G           0.227591             0.000000              0.000000  \n",
       "EVOL40-HN-G           0.227591             0.000000              0.000000  \n",
       "WT-LN-G               0.227030             0.000000              0.000000  \n",
       "EVOL33-LN-G           0.228017             0.000000              0.000000  \n",
       "EVOL40-LN-G           0.226643             0.000000              0.000000  \n",
       "WT-P                  0.168193             0.010551              0.010551  \n",
       "PVHG-P                0.211614             0.002680              0.002680  "
      ]
     },
     "execution_count": 73,
     "metadata": {},
     "output_type": "execute_result"
    }
   ],
   "source": [
    "growthandsubstrdata\n",
    "growthandsubstrdata.index = growthandsubstrdata['Unnamed: 0']\n",
    "growthandsubstrdata.drop(['Unnamed: 0'], axis=1)"
   ]
  },
  {
   "cell_type": "markdown",
   "id": "c050bfe4-28bd-42d3-a42d-7eb33402d132",
   "metadata": {
    "tags": []
   },
   "source": [
    "#### **EFLUX2 Predictions**"
   ]
  },
  {
   "cell_type": "code",
   "execution_count": 14,
   "id": "4b03e122-286f-486a-a0a2-d8c671586cff",
   "metadata": {},
   "outputs": [],
   "source": [
    "#Function for EFLUX2 and SPOT Predictions:\n",
    "def eflux2pred(model, transcriptdf, linename, substrate, sub_uptake_rate, conditionstring):    \n",
    "    with model:\n",
    "        medium = model.medium\n",
    "        if substrate=='phenol':\n",
    "            model.objective = 'Growth_Phenol'\n",
    "            medium = {key:np.inf for (key,value) in model.medium.items()}\n",
    "            model.reactions.get_by_id('Growth_Glucose').upper_bound = 0\n",
    "            model.reactions.get_by_id('Growth_Glucose').lower_bound = 0\n",
    "            medium[\"EX_glc__D_e\"] = 0\n",
    "            medium[\"EX_phenol_e\"] = sub_uptake_rate\n",
    "            model.reactions.get_by_id('EX_phenol_e').upper_bound = -sub_uptake_rate\n",
    "            model.reactions.get_by_id('EX_phenol_e').lower_bound = -sub_uptake_rate\n",
    "            model.reactions.get_by_id('EX_glc__D_e').upper_bound = 0\n",
    "            model.reactions.get_by_id('EX_glc__D_e').lower_bound = 0\n",
    "            #medium[\"EX_phenol_e\"] = 100.0#sub_uptake_rate\n",
    "        elif substrate=='glucose':\n",
    "            model.objective = 'Growth_Glucose'\n",
    "            medium = {key:np.inf for (key,value) in model.medium.items()}\n",
    "            model.reactions.get_by_id('Growth_Phenol').upper_bound = 0\n",
    "            model.reactions.get_by_id('Growth_Phenol').lower_bound = 0\n",
    "            medium[\"EX_glc__D_e\"] = sub_uptake_rate\n",
    "            medium[\"EX_phenol_e\"] = 0\n",
    "            model.reactions.get_by_id('EX_glc__D_e').upper_bound = -sub_uptake_rate\n",
    "            model.reactions.get_by_id('EX_glc__D_e').lower_bound = -sub_uptake_rate\n",
    "            model.reactions.get_by_id('EX_phenol_e').upper_bound = 0\n",
    "            model.reactions.get_by_id('EX_phenol_e').lower_bound = 0\n",
    "        else:\n",
    "            print('Unknown substrate: Please choose among phenol and glucose')\n",
    "        model.medium = medium\n",
    "        eflux2sol = EFlux2(model, transcriptdf)\n",
    "        display(model.medium)  \n",
    "    return eflux2sol"
   ]
  },
  {
   "cell_type": "code",
   "execution_count": 15,
   "id": "1926f37d-f7a6-4548-bb1f-24b32c44bbab",
   "metadata": {},
   "outputs": [],
   "source": [
    "#Function for predictions for three replicates and averaging the solutions and calculating the standard deviation:\n",
    "def eflux2predthreereps(model, transcriptdf, linename1, linename2, linename3, substrate, sub_uptake_rate, conditionstring):\n",
    "    #call prediction functions for individual EFLUX2 predictions for all 3 replicates:\n",
    "    transdata_R1 = constructTransdffrompred(transcriptdf, linename1, conditionstring)\n",
    "    transdata_R2 = constructTransdffrompred(transcriptdf, linename2, conditionstring)\n",
    "    transdata_R3 = constructTransdffrompred(transcriptdf, linename3, conditionstring)\n",
    " \n",
    "    eflux2sol_R1 = eflux2pred(model, transdata_R1, linename1, substrate, sub_uptake_rate, conditionstring)\n",
    "    eflux2sol_R2 = eflux2pred(model, transdata_R2, linename2, substrate, sub_uptake_rate, conditionstring)\n",
    "    eflux2sol_R3 = eflux2pred(model, transdata_R3, linename3, substrate, sub_uptake_rate, conditionstring)\n",
    "    \n",
    "    #EFLUX2 calculations:\n",
    "    eflux2sol_R1_df = pd.DataFrame(eflux2sol_R1.fluxes, columns=['fluxes'])\n",
    "    eflux2sol_R2_df = pd.DataFrame(eflux2sol_R2.fluxes, columns=['fluxes'])\n",
    "    eflux2sol_R3_df = pd.DataFrame(eflux2sol_R3.fluxes, columns=['fluxes'])\n",
    "    eflux2sol_all = pd.concat([eflux2sol_R1_df, eflux2sol_R2_df, eflux2sol_R3_df], axis=1)\n",
    "\n",
    "    eflux2sol = pd.DataFrame(eflux2sol_all.mean(axis=1), columns=['fluxes'])\n",
    "    eflux2sol_std = eflux2sol_all.std(axis=1)\n",
    "    \n",
    "    return eflux2sol, eflux2sol_std"
   ]
  },
  {
   "cell_type": "markdown",
   "id": "7dc964ba-3044-46e4-9beb-1ddf94e35c7a",
   "metadata": {},
   "source": [
    "##### **Wild Type**"
   ]
  },
  {
   "cell_type": "code",
   "execution_count": 16,
   "id": "b28de9a6-0ed2-436a-8188-3cbc06f91b25",
   "metadata": {},
   "outputs": [
    {
     "name": "stdout",
     "output_type": "stream",
     "text": [
      "FBA status optimal\n",
      "FBA solution 0.15657942280347778\n"
     ]
    },
    {
     "data": {
      "text/plain": [
       "<optlang.cplex_interface.Objective at 0x7f1420db58d0>"
      ]
     },
     "metadata": {},
     "output_type": "display_data"
    },
    {
     "name": "stdout",
     "output_type": "stream",
     "text": [
      "EFlux2 status optimal\n",
      "EFlux2 solution 509.2418036997766\n"
     ]
    },
    {
     "data": {
      "text/plain": [
       "{'EX_h2o_e': inf,\n",
       " 'EX_h_e': inf,\n",
       " 'EX_cl_e': inf,\n",
       " 'EX_pi_e': inf,\n",
       " 'EX_nh4_e': inf,\n",
       " 'EX_fe3_e': inf,\n",
       " 'EX_k_e': inf,\n",
       " 'EX_ca2_e': inf,\n",
       " 'EX_mg2_e': inf,\n",
       " 'EX_mn2_e': inf,\n",
       " 'EX_cobalt2_e': inf,\n",
       " 'EX_zn2_e': inf,\n",
       " 'EX_cu2_e': inf,\n",
       " 'EX_o2_e': inf,\n",
       " 'EX_fe2_e': inf,\n",
       " 'EX_mobd_e': inf,\n",
       " 'EX_so4_e': inf,\n",
       " 'EX_phenol_e': 1.7612356731609438}"
      ]
     },
     "metadata": {},
     "output_type": "display_data"
    },
    {
     "name": "stdout",
     "output_type": "stream",
     "text": [
      "FBA status optimal\n",
      "FBA solution 0.15589416780463336\n"
     ]
    },
    {
     "data": {
      "text/plain": [
       "<optlang.cplex_interface.Objective at 0x7f140ee39b90>"
      ]
     },
     "metadata": {},
     "output_type": "display_data"
    },
    {
     "name": "stdout",
     "output_type": "stream",
     "text": [
      "EFlux2 status optimal\n",
      "EFlux2 solution 505.8419731639463\n"
     ]
    },
    {
     "data": {
      "text/plain": [
       "{'EX_h2o_e': inf,\n",
       " 'EX_h_e': inf,\n",
       " 'EX_cl_e': inf,\n",
       " 'EX_pi_e': inf,\n",
       " 'EX_nh4_e': inf,\n",
       " 'EX_fe3_e': inf,\n",
       " 'EX_k_e': inf,\n",
       " 'EX_ca2_e': inf,\n",
       " 'EX_mg2_e': inf,\n",
       " 'EX_mn2_e': inf,\n",
       " 'EX_cobalt2_e': inf,\n",
       " 'EX_zn2_e': inf,\n",
       " 'EX_cu2_e': inf,\n",
       " 'EX_o2_e': inf,\n",
       " 'EX_fe2_e': inf,\n",
       " 'EX_mobd_e': inf,\n",
       " 'EX_so4_e': inf,\n",
       " 'EX_phenol_e': 1.7612356731609438}"
      ]
     },
     "metadata": {},
     "output_type": "display_data"
    },
    {
     "name": "stdout",
     "output_type": "stream",
     "text": [
      "FBA status optimal\n",
      "FBA solution 0.14872429455139746\n"
     ]
    },
    {
     "data": {
      "text/plain": [
       "<optlang.cplex_interface.Objective at 0x7f140543a7d0>"
      ]
     },
     "metadata": {},
     "output_type": "display_data"
    },
    {
     "name": "stdout",
     "output_type": "stream",
     "text": [
      "EFlux2 status optimal\n",
      "EFlux2 solution 476.7455773592348\n"
     ]
    },
    {
     "data": {
      "text/plain": [
       "{'EX_h2o_e': inf,\n",
       " 'EX_h_e': inf,\n",
       " 'EX_cl_e': inf,\n",
       " 'EX_pi_e': inf,\n",
       " 'EX_nh4_e': inf,\n",
       " 'EX_fe3_e': inf,\n",
       " 'EX_k_e': inf,\n",
       " 'EX_ca2_e': inf,\n",
       " 'EX_mg2_e': inf,\n",
       " 'EX_mn2_e': inf,\n",
       " 'EX_cobalt2_e': inf,\n",
       " 'EX_zn2_e': inf,\n",
       " 'EX_cu2_e': inf,\n",
       " 'EX_o2_e': inf,\n",
       " 'EX_fe2_e': inf,\n",
       " 'EX_mobd_e': inf,\n",
       " 'EX_so4_e': inf,\n",
       " 'EX_phenol_e': 1.7612356731609438}"
      ]
     },
     "metadata": {},
     "output_type": "display_data"
    }
   ],
   "source": [
    "eflux2sol, eflux2sol_std = eflux2predthreereps(model, df_Trans, 'WT-P-R1', 'WT-P-R2','WT-P-R3', 'phenol', growthandsubstrdata.loc['WT-P', 'substrate_consumption_rate'], '0.5 g/l PHE as carbon source')#eflux2sol, eflux2sol_std = eflux2spotpredthreereps(model, df_Trans2, 'WT-P-R1', 'WT-P-R2','WT-P-R3', 'phenol', 100)"
   ]
  },
  {
   "cell_type": "markdown",
   "id": "8c8642a5-0674-49b5-abcf-550bcef3e26b",
   "metadata": {},
   "source": [
    "##### **Save solution to data frame**"
   ]
  },
  {
   "cell_type": "code",
   "execution_count": 17,
   "id": "bdcffeee-5349-4d20-aca6-746e4bf279f7",
   "metadata": {},
   "outputs": [],
   "source": [
    "eflux2soldf = pd.DataFrame(eflux2sol, columns=['fluxes'])\n",
    "eflux2solstddf = pd.DataFrame(eflux2sol_std, columns=['stds'])"
   ]
  },
  {
   "cell_type": "markdown",
   "id": "22d2eca5-1208-4073-b39d-1fa078613d61",
   "metadata": {},
   "source": [
    "##### **Check External Metabolites solution**"
   ]
  },
  {
   "cell_type": "code",
   "execution_count": 19,
   "id": "5923a0bb-a5ab-4db2-984a-8a57357eedea",
   "metadata": {},
   "outputs": [],
   "source": [
    "exchange_list = []\n",
    "for ind in eflux2soldf.index:\n",
    "    if 'EX_' in str(ind):\n",
    "        exchange_list.append(ind)"
   ]
  },
  {
   "cell_type": "code",
   "execution_count": 20,
   "id": "25e7249c-775b-400b-9acf-e4e154b50a0c",
   "metadata": {},
   "outputs": [
    {
     "data": {
      "text/plain": [
       "fluxes    3.954051\n",
       "Name: EX_h2o_e, dtype: float64"
      ]
     },
     "metadata": {},
     "output_type": "display_data"
    },
    {
     "data": {
      "text/plain": [
       "fluxes    0.712634\n",
       "Name: EX_h_e, dtype: float64"
      ]
     },
     "metadata": {},
     "output_type": "display_data"
    },
    {
     "data": {
      "text/plain": [
       "fluxes   -0.000777\n",
       "Name: EX_cl_e, dtype: float64"
      ]
     },
     "metadata": {},
     "output_type": "display_data"
    },
    {
     "data": {
      "text/plain": [
       "fluxes   -0.323261\n",
       "Name: EX_pi_e, dtype: float64"
      ]
     },
     "metadata": {},
     "output_type": "display_data"
    },
    {
     "data": {
      "text/plain": [
       "fluxes   -1.003231\n",
       "Name: EX_nh4_e, dtype: float64"
      ]
     },
     "metadata": {},
     "output_type": "display_data"
    },
    {
     "data": {
      "text/plain": [
       "fluxes   -0.001165\n",
       "Name: EX_fe3_e, dtype: float64"
      ]
     },
     "metadata": {},
     "output_type": "display_data"
    },
    {
     "data": {
      "text/plain": [
       "fluxes   -0.029133\n",
       "Name: EX_k_e, dtype: float64"
      ]
     },
     "metadata": {},
     "output_type": "display_data"
    },
    {
     "data": {
      "text/plain": [
       "fluxes   -0.000777\n",
       "Name: EX_ca2_e, dtype: float64"
      ]
     },
     "metadata": {},
     "output_type": "display_data"
    },
    {
     "data": {
      "text/plain": [
       "fluxes   -0.001295\n",
       "Name: EX_mg2_e, dtype: float64"
      ]
     },
     "metadata": {},
     "output_type": "display_data"
    },
    {
     "data": {
      "text/plain": [
       "fluxes   -0.000103\n",
       "Name: EX_mn2_e, dtype: float64"
      ]
     },
     "metadata": {},
     "output_type": "display_data"
    },
    {
     "data": {
      "text/plain": [
       "fluxes    5.798726\n",
       "Name: EX_co2_e, dtype: float64"
      ]
     },
     "metadata": {},
     "output_type": "display_data"
    },
    {
     "data": {
      "text/plain": [
       "fluxes   -0.000106\n",
       "Name: EX_cu2_e, dtype: float64"
      ]
     },
     "metadata": {},
     "output_type": "display_data"
    },
    {
     "data": {
      "text/plain": [
       "fluxes   -7.580176\n",
       "Name: EX_o2_e, dtype: float64"
      ]
     },
     "metadata": {},
     "output_type": "display_data"
    },
    {
     "data": {
      "text/plain": [
       "fluxes   -0.001002\n",
       "Name: EX_fe2_e, dtype: float64"
      ]
     },
     "metadata": {},
     "output_type": "display_data"
    },
    {
     "data": {
      "text/plain": [
       "fluxes   -0.008656\n",
       "Name: EX_so4_e, dtype: float64"
      ]
     },
     "metadata": {},
     "output_type": "display_data"
    },
    {
     "data": {
      "text/plain": [
       "fluxes   -1.761236\n",
       "Name: EX_phenol_e, dtype: float64"
      ]
     },
     "metadata": {},
     "output_type": "display_data"
    }
   ],
   "source": [
    "eflux2soldf.loc[exchange_list,:]\n",
    "for i in exchange_list:\n",
    "    if abs(eflux2soldf.loc[i,:].values)>=0.0001:\n",
    "        display(eflux2soldf.loc[i,:])"
   ]
  },
  {
   "cell_type": "markdown",
   "id": "a2af2302-ba7b-4222-acde-3e1d10bc0394",
   "metadata": {},
   "source": [
    "##### **Check FBA solution**"
   ]
  },
  {
   "cell_type": "code",
   "execution_count": 21,
   "id": "5026d2fc-3d50-4240-a629-3aeb6db4bd96",
   "metadata": {},
   "outputs": [
    {
     "name": "stdout",
     "output_type": "stream",
     "text": [
      "Unbounded FBA status optimal\n",
      "Unbounded FBA solution 0.23577895481228953\n"
     ]
    }
   ],
   "source": [
    "with model:\n",
    "    medium = model.medium\n",
    "    model.objective = 'Growth_Phenol'\n",
    "    model.reactions.get_by_id('Growth_Glucose').upper_bound = 0\n",
    "    model.reactions.get_by_id('Growth_Glucose').lower_bound = 0\n",
    "    medium[\"EX_glc__D_e\"] = 0.0\n",
    "    #medium[\"EX_phenol_e\"] = sub_uptake_rate\n",
    "    model.medium = medium\n",
    "    # solve FBA to calculate the maximum biomass\n",
    "    boundedfba_sol = model.optimize()\n",
    "    print('Unbounded FBA status', boundedfba_sol.status)\n",
    "    print('Unbounded FBA solution', boundedfba_sol.objective_value)"
   ]
  },
  {
   "cell_type": "markdown",
   "id": "2d24cffa-b3b2-4993-babf-1250438387cc",
   "metadata": {},
   "source": [
    "##### **Load 13cdata**"
   ]
  },
  {
   "cell_type": "markdown",
   "id": "88a386ea-554f-465a-9294-139810642178",
   "metadata": {},
   "source": [
    "#####  **Get 13C MFA measured fluxes for phenol**"
   ]
  },
  {
   "cell_type": "code",
   "execution_count": 22,
   "id": "6c11dda6-c5ed-4cb1-843b-c492e7a2d818",
   "metadata": {},
   "outputs": [
    {
     "name": "stdout",
     "output_type": "stream",
     "text": [
      "There are 43 fluxes that can be compared between the MFA and FBA\n"
     ]
    },
    {
     "data": {
      "text/html": [
       "<div>\n",
       "<style scoped>\n",
       "    .dataframe tbody tr th:only-of-type {\n",
       "        vertical-align: middle;\n",
       "    }\n",
       "\n",
       "    .dataframe tbody tr th {\n",
       "        vertical-align: top;\n",
       "    }\n",
       "\n",
       "    .dataframe thead th {\n",
       "        text-align: right;\n",
       "    }\n",
       "</style>\n",
       "<table border=\"1\" class=\"dataframe\">\n",
       "  <thead>\n",
       "    <tr style=\"text-align: right;\">\n",
       "      <th></th>\n",
       "      <th>Pathway</th>\n",
       "      <th>Forward Reactions</th>\n",
       "      <th>Reaction</th>\n",
       "      <th>Location on map</th>\n",
       "      <th>Flux</th>\n",
       "      <th>90% Confidence Lower Bound</th>\n",
       "      <th>90% Confidence Upper Bound</th>\n",
       "    </tr>\n",
       "  </thead>\n",
       "  <tbody>\n",
       "    <tr>\n",
       "      <th>0</th>\n",
       "      <td>Phenol Uptake</td>\n",
       "      <td>PHEMOX</td>\n",
       "      <td>Phenol.ext -&gt; AcCoA + SucCoA</td>\n",
       "      <td>( 80, -450)</td>\n",
       "      <td>1.000000e+02</td>\n",
       "      <td>1.000000e+02</td>\n",
       "      <td>100.0000</td>\n",
       "    </tr>\n",
       "    <tr>\n",
       "      <th>1</th>\n",
       "      <td>EMP Pathway</td>\n",
       "      <td>PGI</td>\n",
       "      <td>G6P &lt;-&gt; F6P</td>\n",
       "      <td>(-150, 430)</td>\n",
       "      <td>-4.793000e-01</td>\n",
       "      <td>-1.421900e+00</td>\n",
       "      <td>0.9306</td>\n",
       "    </tr>\n",
       "    <tr>\n",
       "      <th>2</th>\n",
       "      <td>EMP Pathway</td>\n",
       "      <td>PFK or reverse_FBP</td>\n",
       "      <td>F6P + ATP -&gt; FBP</td>\n",
       "      <td>(-220, 195)</td>\n",
       "      <td>-2.000000e+00</td>\n",
       "      <td>-2.000000e+00</td>\n",
       "      <td>-0.7683</td>\n",
       "    </tr>\n",
       "    <tr>\n",
       "      <th>3</th>\n",
       "      <td>EMP Pathway</td>\n",
       "      <td>FBA</td>\n",
       "      <td>FBP &lt;-&gt; DHAP + GAP</td>\n",
       "      <td>(-140, 115)</td>\n",
       "      <td>-2.000000e+00</td>\n",
       "      <td>-2.000000e+00</td>\n",
       "      <td>-0.7683</td>\n",
       "    </tr>\n",
       "    <tr>\n",
       "      <th>4</th>\n",
       "      <td>EMP Pathway</td>\n",
       "      <td>TPI</td>\n",
       "      <td>DHAP &lt;-&gt; GAP</td>\n",
       "      <td>(-270, 150)</td>\n",
       "      <td>-2.000000e+00</td>\n",
       "      <td>-2.000000e+00</td>\n",
       "      <td>-0.7683</td>\n",
       "    </tr>\n",
       "    <tr>\n",
       "      <th>5</th>\n",
       "      <td>EMP Pathway</td>\n",
       "      <td>GAPD</td>\n",
       "      <td>GAP &lt;-&gt; G1,3P</td>\n",
       "      <td>(-220, 30)</td>\n",
       "      <td>-1.079070e+01</td>\n",
       "      <td>-1.122350e+01</td>\n",
       "      <td>-9.1040</td>\n",
       "    </tr>\n",
       "    <tr>\n",
       "      <th>6</th>\n",
       "      <td>EMP Pathway</td>\n",
       "      <td>reverse_PGK</td>\n",
       "      <td>G1,3P &lt;-&gt; 3PG + ATP + NADH</td>\n",
       "      <td>(-220, -55)</td>\n",
       "      <td>-1.079070e+01</td>\n",
       "      <td>-1.122350e+01</td>\n",
       "      <td>-9.1040</td>\n",
       "    </tr>\n",
       "    <tr>\n",
       "      <th>7</th>\n",
       "      <td>EMP Pathway</td>\n",
       "      <td>PGM_1 or reverse_PGM</td>\n",
       "      <td>3PG &lt;-&gt; 2PG</td>\n",
       "      <td>(-220, -135)</td>\n",
       "      <td>-1.625380e+01</td>\n",
       "      <td>-1.695560e+01</td>\n",
       "      <td>-13.6034</td>\n",
       "    </tr>\n",
       "    <tr>\n",
       "      <th>8</th>\n",
       "      <td>EMP Pathway</td>\n",
       "      <td>ENO</td>\n",
       "      <td>2PG &lt;-&gt; PEP</td>\n",
       "      <td>(-220, -215)</td>\n",
       "      <td>-1.625380e+01</td>\n",
       "      <td>-1.695560e+01</td>\n",
       "      <td>-13.6034</td>\n",
       "    </tr>\n",
       "    <tr>\n",
       "      <th>9</th>\n",
       "      <td>EMP Pathway</td>\n",
       "      <td>PPS or reverse_FRUpts2pp or reverse_SBTpts or ...</td>\n",
       "      <td>PEP &lt;-&gt; Pyr + ATP</td>\n",
       "      <td>(-220, -295)</td>\n",
       "      <td>2.999990e+01</td>\n",
       "      <td>0.000000e+00</td>\n",
       "      <td>30.0000</td>\n",
       "    </tr>\n",
       "    <tr>\n",
       "      <th>10</th>\n",
       "      <td>Pentose Phosphate Pathway</td>\n",
       "      <td>G6PDH2r and PGL</td>\n",
       "      <td>G6P &lt;-&gt; 6PG + NADPH</td>\n",
       "      <td>(50, 380)</td>\n",
       "      <td>-5.767000e-01</td>\n",
       "      <td>-2.018100e+00</td>\n",
       "      <td>0.3824</td>\n",
       "    </tr>\n",
       "    <tr>\n",
       "      <th>11</th>\n",
       "      <td>Pentose Phosphate Pathway</td>\n",
       "      <td>GND</td>\n",
       "      <td>6PG &lt;-&gt; Ru5P + CO2 + NADPH</td>\n",
       "      <td>(275, 350)</td>\n",
       "      <td>4.646000e-01</td>\n",
       "      <td>-1.659900e+00</td>\n",
       "      <td>1.8755</td>\n",
       "    </tr>\n",
       "    <tr>\n",
       "      <th>12</th>\n",
       "      <td>Pentose Phosphate Pathway</td>\n",
       "      <td>RPE</td>\n",
       "      <td>Ru5P &lt;-&gt; X5P</td>\n",
       "      <td>(380, 190)</td>\n",
       "      <td>-1.187400e+00</td>\n",
       "      <td>-2.611500e+00</td>\n",
       "      <td>-0.2468</td>\n",
       "    </tr>\n",
       "    <tr>\n",
       "      <th>13</th>\n",
       "      <td>Pentose Phosphate Pathway</td>\n",
       "      <td>reverse_RPI</td>\n",
       "      <td>Ru5P &lt;-&gt; R5P</td>\n",
       "      <td>(270, 230)</td>\n",
       "      <td>1.652100e+00</td>\n",
       "      <td>9.081000e-01</td>\n",
       "      <td>2.1385</td>\n",
       "    </tr>\n",
       "    <tr>\n",
       "      <th>14</th>\n",
       "      <td>Pentose Phosphate Pathway</td>\n",
       "      <td>TKT2</td>\n",
       "      <td>X5P &lt;-&gt; TKC2 + GAP</td>\n",
       "      <td>(270, 100)</td>\n",
       "      <td>-1.187400e+00</td>\n",
       "      <td>-2.611500e+00</td>\n",
       "      <td>-0.2468</td>\n",
       "    </tr>\n",
       "    <tr>\n",
       "      <th>15</th>\n",
       "      <td>Pentose Phosphate Pathway</td>\n",
       "      <td>TKT2</td>\n",
       "      <td>TKC2 + E4P &lt;-&gt; F6P</td>\n",
       "      <td>(10, 280)</td>\n",
       "      <td>-1.187400e+00</td>\n",
       "      <td>-1.909000e+00</td>\n",
       "      <td>-0.7099</td>\n",
       "    </tr>\n",
       "    <tr>\n",
       "      <th>16</th>\n",
       "      <td>Pentose Phosphate Pathway</td>\n",
       "      <td>TKT1</td>\n",
       "      <td>TKC2 + R5P &lt;-&gt; S7P</td>\n",
       "      <td>(120, 230)</td>\n",
       "      <td>2.130000e-14</td>\n",
       "      <td>-7.076000e-01</td>\n",
       "      <td>0.4698</td>\n",
       "    </tr>\n",
       "    <tr>\n",
       "      <th>17</th>\n",
       "      <td>Pentose Phosphate Pathway</td>\n",
       "      <td>TALA</td>\n",
       "      <td>TAC3 + GAP &lt;-&gt; F6P</td>\n",
       "      <td>(-70, 190)</td>\n",
       "      <td>7.110000e-15</td>\n",
       "      <td>-7.076000e-01</td>\n",
       "      <td>0.4698</td>\n",
       "    </tr>\n",
       "    <tr>\n",
       "      <th>18</th>\n",
       "      <td>Pentose Phosphate Pathway</td>\n",
       "      <td>reverse_TALA</td>\n",
       "      <td>S7P &lt;-&gt; TAC3 + E4P</td>\n",
       "      <td>(50, 230)</td>\n",
       "      <td>8.530000e-14</td>\n",
       "      <td>-7.076000e-01</td>\n",
       "      <td>0.4698</td>\n",
       "    </tr>\n",
       "    <tr>\n",
       "      <th>19</th>\n",
       "      <td>ED Pathway</td>\n",
       "      <td>EDA</td>\n",
       "      <td>6PG &lt;-&gt; KDPG</td>\n",
       "      <td>(-300, 350)</td>\n",
       "      <td>-1.041300e+00</td>\n",
       "      <td>-2.524300e+00</td>\n",
       "      <td>0.2447</td>\n",
       "    </tr>\n",
       "    <tr>\n",
       "      <th>20</th>\n",
       "      <td>ED Pathway</td>\n",
       "      <td>EDD</td>\n",
       "      <td>KDPG &lt;-&gt; Pyr + GAP</td>\n",
       "      <td>(-300, 50)</td>\n",
       "      <td>-1.041300e+00</td>\n",
       "      <td>-2.524300e+00</td>\n",
       "      <td>0.2447</td>\n",
       "    </tr>\n",
       "    <tr>\n",
       "      <th>21</th>\n",
       "      <td>TCA Cycle</td>\n",
       "      <td>PDH</td>\n",
       "      <td>Pyr &lt;-&gt; AcCoA + CO2 + NADH</td>\n",
       "      <td>(-220, -370)</td>\n",
       "      <td>5.923270e+01</td>\n",
       "      <td>5.668260e+01</td>\n",
       "      <td>62.0459</td>\n",
       "    </tr>\n",
       "    <tr>\n",
       "      <th>22</th>\n",
       "      <td>TCA Cycle</td>\n",
       "      <td>CS or reverse_CITL</td>\n",
       "      <td>OAC + AcCoA -&gt; Cit</td>\n",
       "      <td>(-55, -340)</td>\n",
       "      <td>1.144391e+02</td>\n",
       "      <td>1.102766e+02</td>\n",
       "      <td>118.4800</td>\n",
       "    </tr>\n",
       "    <tr>\n",
       "      <th>23</th>\n",
       "      <td>TCA Cycle</td>\n",
       "      <td>ACONT or ( ACONTa and ACONTb)</td>\n",
       "      <td>Cit -&gt; ICit</td>\n",
       "      <td>(145, -310)</td>\n",
       "      <td>1.144391e+02</td>\n",
       "      <td>1.102766e+02</td>\n",
       "      <td>118.4800</td>\n",
       "    </tr>\n",
       "    <tr>\n",
       "      <th>24</th>\n",
       "      <td>TCA Cycle</td>\n",
       "      <td>ICDHx or ICDHyr</td>\n",
       "      <td>ICit -&gt; AKG + CO2 + NADPH</td>\n",
       "      <td>(290, -310)</td>\n",
       "      <td>1.134677e+02</td>\n",
       "      <td>1.068011e+02</td>\n",
       "      <td>118.4800</td>\n",
       "    </tr>\n",
       "    <tr>\n",
       "      <th>25</th>\n",
       "      <td>TCA Cycle</td>\n",
       "      <td>AKGDH or OOR3r</td>\n",
       "      <td>AKG -&gt; SucCoA + CO2 + NADH</td>\n",
       "      <td>(290, -195)</td>\n",
       "      <td>1.086053e+02</td>\n",
       "      <td>1.017297e+02</td>\n",
       "      <td>113.8305</td>\n",
       "    </tr>\n",
       "    <tr>\n",
       "      <th>26</th>\n",
       "      <td>TCA Cycle</td>\n",
       "      <td>3OADPCOAT or OCOAT3r or SUCBZT1 or SUCBZT2 or ...</td>\n",
       "      <td>SucCoA -&gt; Suc + ATP</td>\n",
       "      <td>(290, -55)</td>\n",
       "      <td>2.074789e+02</td>\n",
       "      <td>2.005620e+02</td>\n",
       "      <td>212.7536</td>\n",
       "    </tr>\n",
       "    <tr>\n",
       "      <th>27</th>\n",
       "      <td>TCA Cycle</td>\n",
       "      <td>SUCDi or reverse_FRD2 or reverse_FRD3 or rever...</td>\n",
       "      <td>Suc -&gt; Fum + FADH2</td>\n",
       "      <td>(160, -55)</td>\n",
       "      <td>2.085767e+02</td>\n",
       "      <td>2.032666e+02</td>\n",
       "      <td>212.8305</td>\n",
       "    </tr>\n",
       "    <tr>\n",
       "      <th>28</th>\n",
       "      <td>TCA Cycle</td>\n",
       "      <td>FUM</td>\n",
       "      <td>Fum -&gt; Mal</td>\n",
       "      <td>(10, -55)</td>\n",
       "      <td>2.096703e+02</td>\n",
       "      <td>2.043514e+02</td>\n",
       "      <td>213.8762</td>\n",
       "    </tr>\n",
       "    <tr>\n",
       "      <th>29</th>\n",
       "      <td>TCA Cycle</td>\n",
       "      <td>MDH or MDH3 or MDH2 or DMALRED</td>\n",
       "      <td>Mal -&gt; OAC + NADH</td>\n",
       "      <td>(-60, -180)</td>\n",
       "      <td>1.710231e+02</td>\n",
       "      <td>1.292999e+02</td>\n",
       "      <td>174.5648</td>\n",
       "    </tr>\n",
       "    <tr>\n",
       "      <th>30</th>\n",
       "      <td>Glyoxylate Shunt</td>\n",
       "      <td>ICL</td>\n",
       "      <td>ICit -&gt; Glyox + Suc</td>\n",
       "      <td>(180, -140)</td>\n",
       "      <td>9.714000e-01</td>\n",
       "      <td>7.110000e-15</td>\n",
       "      <td>4.5567</td>\n",
       "    </tr>\n",
       "    <tr>\n",
       "      <th>31</th>\n",
       "      <td>Glyoxylate Shunt</td>\n",
       "      <td>MALS</td>\n",
       "      <td>Glyox + AcCoA -&gt; Mal</td>\n",
       "      <td>(90, -140)</td>\n",
       "      <td>9.714000e-01</td>\n",
       "      <td>0.000000e+00</td>\n",
       "      <td>4.5567</td>\n",
       "    </tr>\n",
       "    <tr>\n",
       "      <th>32</th>\n",
       "      <td>Anaplerotic Reactions</td>\n",
       "      <td>PEPCK_re or PPCK</td>\n",
       "      <td>OAC + ATP -&gt; PEP + CO2</td>\n",
       "      <td>NaN</td>\n",
       "      <td>9.777180e+01</td>\n",
       "      <td>1.292690e+01</td>\n",
       "      <td>100.0000</td>\n",
       "    </tr>\n",
       "    <tr>\n",
       "      <th>33</th>\n",
       "      <td>Anaplerotic Reactions</td>\n",
       "      <td>PPC</td>\n",
       "      <td>PEP + CO2 -&gt; OAC</td>\n",
       "      <td>NaN</td>\n",
       "      <td>4.890390e+01</td>\n",
       "      <td>0.000000e+00</td>\n",
       "      <td>59.1635</td>\n",
       "    </tr>\n",
       "    <tr>\n",
       "      <th>34</th>\n",
       "      <td>Anaplerotic Reactions</td>\n",
       "      <td>PC</td>\n",
       "      <td>Pyr + CO2 + ATP -&gt; OAC</td>\n",
       "      <td>NaN</td>\n",
       "      <td>1.000000e-07</td>\n",
       "      <td>0.000000e+00</td>\n",
       "      <td>44.8577</td>\n",
       "    </tr>\n",
       "    <tr>\n",
       "      <th>35</th>\n",
       "      <td>Anaplerotic Reactions</td>\n",
       "      <td>ME1 or ME2</td>\n",
       "      <td>Mal &lt;-&gt; Pyr + CO2 + NADH</td>\n",
       "      <td>NaN</td>\n",
       "      <td>3.961870e+01</td>\n",
       "      <td>3.704340e+01</td>\n",
       "      <td>100.0000</td>\n",
       "    </tr>\n",
       "    <tr>\n",
       "      <th>64</th>\n",
       "      <td>Transhydrogenation</td>\n",
       "      <td>FRNDPR2r or FLNDPR2r or reverse_NADTRHD</td>\n",
       "      <td>NADH &lt;-&gt; NADPH</td>\n",
       "      <td>NaN</td>\n",
       "      <td>1.443160e+01</td>\n",
       "      <td>1.108700e+00</td>\n",
       "      <td>27.2447</td>\n",
       "    </tr>\n",
       "    <tr>\n",
       "      <th>65</th>\n",
       "      <td>Transport</td>\n",
       "      <td>ATPM</td>\n",
       "      <td>ATP -&gt; ATP.ext</td>\n",
       "      <td>NaN</td>\n",
       "      <td>6.800864e+02</td>\n",
       "      <td>6.131475e+02</td>\n",
       "      <td>787.5166</td>\n",
       "    </tr>\n",
       "    <tr>\n",
       "      <th>66</th>\n",
       "      <td>Transport</td>\n",
       "      <td>reverse_CO2t</td>\n",
       "      <td>CO2 -&gt; CO2.ext</td>\n",
       "      <td>NaN</td>\n",
       "      <td>3.764570e+02</td>\n",
       "      <td>3.650427e+02</td>\n",
       "      <td>386.6854</td>\n",
       "    </tr>\n",
       "    <tr>\n",
       "      <th>68</th>\n",
       "      <td>Transport</td>\n",
       "      <td>O2t</td>\n",
       "      <td>O2.ext -&gt; O2</td>\n",
       "      <td>NaN</td>\n",
       "      <td>4.336956e+02</td>\n",
       "      <td>4.207564e+02</td>\n",
       "      <td>445.9396</td>\n",
       "    </tr>\n",
       "    <tr>\n",
       "      <th>69</th>\n",
       "      <td>Transport</td>\n",
       "      <td>NH4t</td>\n",
       "      <td>NH3.ext -&gt; NH3</td>\n",
       "      <td>NaN</td>\n",
       "      <td>2.575270e+01</td>\n",
       "      <td>2.412740e+01</td>\n",
       "      <td>27.0206</td>\n",
       "    </tr>\n",
       "    <tr>\n",
       "      <th>70</th>\n",
       "      <td>Transport</td>\n",
       "      <td>SO4t2</td>\n",
       "      <td>SO4.ext -&gt; SO4</td>\n",
       "      <td>NaN</td>\n",
       "      <td>4.177000e-01</td>\n",
       "      <td>3.913000e-01</td>\n",
       "      <td>0.4383</td>\n",
       "    </tr>\n",
       "    <tr>\n",
       "      <th>71</th>\n",
       "      <td>Biomass Equation</td>\n",
       "      <td>Growth or Growth_Phenol or Growth_Glucose</td>\n",
       "      <td>0.515*Ala + 0.174*Arg + 0.153*Asn + 0.439*Asp ...</td>\n",
       "      <td>NaN</td>\n",
       "      <td>4.693400e+00</td>\n",
       "      <td>4.397200e+00</td>\n",
       "      <td>4.9245</td>\n",
       "    </tr>\n",
       "  </tbody>\n",
       "</table>\n",
       "</div>"
      ],
      "text/plain": [
       "                      Pathway  \\\n",
       "0               Phenol Uptake   \n",
       "1                 EMP Pathway   \n",
       "2                 EMP Pathway   \n",
       "3                 EMP Pathway   \n",
       "4                 EMP Pathway   \n",
       "5                 EMP Pathway   \n",
       "6                 EMP Pathway   \n",
       "7                 EMP Pathway   \n",
       "8                 EMP Pathway   \n",
       "9                 EMP Pathway   \n",
       "10  Pentose Phosphate Pathway   \n",
       "11  Pentose Phosphate Pathway   \n",
       "12  Pentose Phosphate Pathway   \n",
       "13  Pentose Phosphate Pathway   \n",
       "14  Pentose Phosphate Pathway   \n",
       "15  Pentose Phosphate Pathway   \n",
       "16  Pentose Phosphate Pathway   \n",
       "17  Pentose Phosphate Pathway   \n",
       "18  Pentose Phosphate Pathway   \n",
       "19                 ED Pathway   \n",
       "20                 ED Pathway   \n",
       "21                  TCA Cycle   \n",
       "22                  TCA Cycle   \n",
       "23                  TCA Cycle   \n",
       "24                  TCA Cycle   \n",
       "25                  TCA Cycle   \n",
       "26                  TCA Cycle   \n",
       "27                  TCA Cycle   \n",
       "28                  TCA Cycle   \n",
       "29                  TCA Cycle   \n",
       "30           Glyoxylate Shunt   \n",
       "31           Glyoxylate Shunt   \n",
       "32      Anaplerotic Reactions   \n",
       "33      Anaplerotic Reactions   \n",
       "34      Anaplerotic Reactions   \n",
       "35      Anaplerotic Reactions   \n",
       "64         Transhydrogenation   \n",
       "65                  Transport   \n",
       "66                  Transport   \n",
       "68                  Transport   \n",
       "69                  Transport   \n",
       "70                  Transport   \n",
       "71           Biomass Equation   \n",
       "\n",
       "                                    Forward Reactions  \\\n",
       "0                                              PHEMOX   \n",
       "1                                                 PGI   \n",
       "2                                  PFK or reverse_FBP   \n",
       "3                                                 FBA   \n",
       "4                                                 TPI   \n",
       "5                                                GAPD   \n",
       "6                                         reverse_PGK   \n",
       "7                                PGM_1 or reverse_PGM   \n",
       "8                                                 ENO   \n",
       "9   PPS or reverse_FRUpts2pp or reverse_SBTpts or ...   \n",
       "10                                    G6PDH2r and PGL   \n",
       "11                                                GND   \n",
       "12                                                RPE   \n",
       "13                                        reverse_RPI   \n",
       "14                                               TKT2   \n",
       "15                                               TKT2   \n",
       "16                                               TKT1   \n",
       "17                                               TALA   \n",
       "18                                       reverse_TALA   \n",
       "19                                                EDA   \n",
       "20                                                EDD   \n",
       "21                                                PDH   \n",
       "22                                 CS or reverse_CITL   \n",
       "23                      ACONT or ( ACONTa and ACONTb)   \n",
       "24                                    ICDHx or ICDHyr   \n",
       "25                                     AKGDH or OOR3r   \n",
       "26  3OADPCOAT or OCOAT3r or SUCBZT1 or SUCBZT2 or ...   \n",
       "27  SUCDi or reverse_FRD2 or reverse_FRD3 or rever...   \n",
       "28                                                FUM   \n",
       "29                     MDH or MDH3 or MDH2 or DMALRED   \n",
       "30                                                ICL   \n",
       "31                                               MALS   \n",
       "32                                   PEPCK_re or PPCK   \n",
       "33                                                PPC   \n",
       "34                                                 PC   \n",
       "35                                         ME1 or ME2   \n",
       "64            FRNDPR2r or FLNDPR2r or reverse_NADTRHD   \n",
       "65                                               ATPM   \n",
       "66                                       reverse_CO2t   \n",
       "68                                                O2t   \n",
       "69                                               NH4t   \n",
       "70                                              SO4t2   \n",
       "71          Growth or Growth_Phenol or Growth_Glucose   \n",
       "\n",
       "                                             Reaction Location on map  \\\n",
       "0                        Phenol.ext -> AcCoA + SucCoA     ( 80, -450)   \n",
       "1                                         G6P <-> F6P     (-150, 430)   \n",
       "2                                    F6P + ATP -> FBP     (-220, 195)   \n",
       "3                                  FBP <-> DHAP + GAP     (-140, 115)   \n",
       "4                                        DHAP <-> GAP     (-270, 150)   \n",
       "5                                       GAP <-> G1,3P      (-220, 30)   \n",
       "6                          G1,3P <-> 3PG + ATP + NADH     (-220, -55)   \n",
       "7                                         3PG <-> 2PG    (-220, -135)   \n",
       "8                                         2PG <-> PEP    (-220, -215)   \n",
       "9                                   PEP <-> Pyr + ATP    (-220, -295)   \n",
       "10                                G6P <-> 6PG + NADPH       (50, 380)   \n",
       "11                         6PG <-> Ru5P + CO2 + NADPH      (275, 350)   \n",
       "12                                       Ru5P <-> X5P      (380, 190)   \n",
       "13                                       Ru5P <-> R5P      (270, 230)   \n",
       "14                                 X5P <-> TKC2 + GAP      (270, 100)   \n",
       "15                                 TKC2 + E4P <-> F6P       (10, 280)   \n",
       "16                                 TKC2 + R5P <-> S7P      (120, 230)   \n",
       "17                                 TAC3 + GAP <-> F6P      (-70, 190)   \n",
       "18                                 S7P <-> TAC3 + E4P       (50, 230)   \n",
       "19                                       6PG <-> KDPG     (-300, 350)   \n",
       "20                                 KDPG <-> Pyr + GAP      (-300, 50)   \n",
       "21                         Pyr <-> AcCoA + CO2 + NADH    (-220, -370)   \n",
       "22                                 OAC + AcCoA -> Cit     (-55, -340)   \n",
       "23                                        Cit -> ICit     (145, -310)   \n",
       "24                          ICit -> AKG + CO2 + NADPH     (290, -310)   \n",
       "25                         AKG -> SucCoA + CO2 + NADH     (290, -195)   \n",
       "26                                SucCoA -> Suc + ATP      (290, -55)   \n",
       "27                                 Suc -> Fum + FADH2      (160, -55)   \n",
       "28                                         Fum -> Mal       (10, -55)   \n",
       "29                                  Mal -> OAC + NADH     (-60, -180)   \n",
       "30                                ICit -> Glyox + Suc     (180, -140)   \n",
       "31                               Glyox + AcCoA -> Mal      (90, -140)   \n",
       "32                             OAC + ATP -> PEP + CO2             NaN   \n",
       "33                                   PEP + CO2 -> OAC             NaN   \n",
       "34                             Pyr + CO2 + ATP -> OAC             NaN   \n",
       "35                           Mal <-> Pyr + CO2 + NADH             NaN   \n",
       "64                                     NADH <-> NADPH             NaN   \n",
       "65                                     ATP -> ATP.ext             NaN   \n",
       "66                                     CO2 -> CO2.ext             NaN   \n",
       "68                                       O2.ext -> O2             NaN   \n",
       "69                                     NH3.ext -> NH3             NaN   \n",
       "70                                     SO4.ext -> SO4             NaN   \n",
       "71  0.515*Ala + 0.174*Arg + 0.153*Asn + 0.439*Asp ...             NaN   \n",
       "\n",
       "            Flux  90% Confidence Lower Bound  90% Confidence Upper Bound  \n",
       "0   1.000000e+02                1.000000e+02                    100.0000  \n",
       "1  -4.793000e-01               -1.421900e+00                      0.9306  \n",
       "2  -2.000000e+00               -2.000000e+00                     -0.7683  \n",
       "3  -2.000000e+00               -2.000000e+00                     -0.7683  \n",
       "4  -2.000000e+00               -2.000000e+00                     -0.7683  \n",
       "5  -1.079070e+01               -1.122350e+01                     -9.1040  \n",
       "6  -1.079070e+01               -1.122350e+01                     -9.1040  \n",
       "7  -1.625380e+01               -1.695560e+01                    -13.6034  \n",
       "8  -1.625380e+01               -1.695560e+01                    -13.6034  \n",
       "9   2.999990e+01                0.000000e+00                     30.0000  \n",
       "10 -5.767000e-01               -2.018100e+00                      0.3824  \n",
       "11  4.646000e-01               -1.659900e+00                      1.8755  \n",
       "12 -1.187400e+00               -2.611500e+00                     -0.2468  \n",
       "13  1.652100e+00                9.081000e-01                      2.1385  \n",
       "14 -1.187400e+00               -2.611500e+00                     -0.2468  \n",
       "15 -1.187400e+00               -1.909000e+00                     -0.7099  \n",
       "16  2.130000e-14               -7.076000e-01                      0.4698  \n",
       "17  7.110000e-15               -7.076000e-01                      0.4698  \n",
       "18  8.530000e-14               -7.076000e-01                      0.4698  \n",
       "19 -1.041300e+00               -2.524300e+00                      0.2447  \n",
       "20 -1.041300e+00               -2.524300e+00                      0.2447  \n",
       "21  5.923270e+01                5.668260e+01                     62.0459  \n",
       "22  1.144391e+02                1.102766e+02                    118.4800  \n",
       "23  1.144391e+02                1.102766e+02                    118.4800  \n",
       "24  1.134677e+02                1.068011e+02                    118.4800  \n",
       "25  1.086053e+02                1.017297e+02                    113.8305  \n",
       "26  2.074789e+02                2.005620e+02                    212.7536  \n",
       "27  2.085767e+02                2.032666e+02                    212.8305  \n",
       "28  2.096703e+02                2.043514e+02                    213.8762  \n",
       "29  1.710231e+02                1.292999e+02                    174.5648  \n",
       "30  9.714000e-01                7.110000e-15                      4.5567  \n",
       "31  9.714000e-01                0.000000e+00                      4.5567  \n",
       "32  9.777180e+01                1.292690e+01                    100.0000  \n",
       "33  4.890390e+01                0.000000e+00                     59.1635  \n",
       "34  1.000000e-07                0.000000e+00                     44.8577  \n",
       "35  3.961870e+01                3.704340e+01                    100.0000  \n",
       "64  1.443160e+01                1.108700e+00                     27.2447  \n",
       "65  6.800864e+02                6.131475e+02                    787.5166  \n",
       "66  3.764570e+02                3.650427e+02                    386.6854  \n",
       "68  4.336956e+02                4.207564e+02                    445.9396  \n",
       "69  2.575270e+01                2.412740e+01                     27.0206  \n",
       "70  4.177000e-01                3.913000e-01                      0.4383  \n",
       "71  4.693400e+00                4.397200e+00                      4.9245  "
      ]
     },
     "execution_count": 22,
     "metadata": {},
     "output_type": "execute_result"
    }
   ],
   "source": [
    "phenol_fluxes = pd.read_csv('../13C_flux_data/13C_phenol_flux_data.csv')\n",
    "\n",
    "# Remove rows that do not have a mapping to the GSM\n",
    "phenol_fluxes.dropna(subset = [\"Forward Reactions\"], inplace=True)\n",
    "print(f'There are {len(phenol_fluxes)} fluxes that can be compared between the MFA and FBA')\n",
    "phenol_fluxes"
   ]
  },
  {
   "cell_type": "markdown",
   "id": "172b3576-51e6-47d6-bc47-f19fa4ea53bb",
   "metadata": {},
   "source": [
    "#### **Plot solutions: Comparison of EFLUX2 predictions and 13c measurements**"
   ]
  },
  {
   "cell_type": "markdown",
   "id": "318b0c67-f202-4eea-b49f-d8c5cb9c99ec",
   "metadata": {},
   "source": [
    "##### **Add Phenol EFLUX2 and SPOT flux values to phenol fluxes dataframe**"
   ]
  },
  {
   "cell_type": "code",
   "execution_count": 23,
   "id": "47b76645-58db-4bfc-87f3-a51650748b91",
   "metadata": {},
   "outputs": [],
   "source": [
    "def get_flux_value(reaction_id, solution):\n",
    "    if reaction_id.startswith('reverse_'):\n",
    "        reaction_id = reaction_id.split('reverse_')[1]\n",
    "        return -1*solution.fluxes[reaction_id]\n",
    "    else:\n",
    "        return solution.fluxes[reaction_id]\n",
    "def get_std_value(reaction_id, solution):\n",
    "    if reaction_id.startswith('reverse_'):\n",
    "        reaction_id = reaction_id.split('reverse_')[1]\n",
    "        return -1*solution.stds[reaction_id]\n",
    "    else:\n",
    "        return solution.stds[reaction_id]"
   ]
  },
  {
   "cell_type": "markdown",
   "id": "d487fd0e-fc83-4d0e-aab8-3a7707f97683",
   "metadata": {},
   "source": [
    "##### **Scale up solution to compare with 13C MFA measurements**"
   ]
  },
  {
   "cell_type": "code",
   "execution_count": 24,
   "id": "6e928f80-b2c0-4f3a-96df-3a4f7ad56044",
   "metadata": {},
   "outputs": [],
   "source": [
    "def scalepredictions(observed_fluxes, predictions, stdpredictions, substrate, method):\n",
    "    scalepred_stds = pd.DataFrame(index=stdpredictions.index, columns= ['stds'])\n",
    "    if substrate == 'phenol':\n",
    "        phenoluptakerow = observed_fluxes[observed_fluxes['Pathway']=='Phenol Uptake']\n",
    "        sourceuptake = float(phenoluptakerow['Flux'])\n",
    "        scalepred_fluxes = predictions*(sourceuptake/(-1*predictions.loc['EX_phenol_e']))\n",
    "        display('factor', sourceuptake/(-1*predictions.loc['EX_phenol_e']))\n",
    "    elif substrate == 'glucose':\n",
    "        glucoseuptakerow = observed_fluxes[observed_fluxes['Pathway']=='Glucose Uptake']\n",
    "        sourceuptake = float(glucoseuptakerow['Flux'])\n",
    "        scalepred_fluxes = predictions*(sourceuptake/(-1*predictions.loc['EX_glc__D_e']))\n",
    "        display('factor', sourceuptake/(-1*predictions.loc['EX_glc__D_e']))\n",
    "    else:\n",
    "        print('Unknown Substrate')\n",
    "    for ind in stdpredictions.index:\n",
    "        if abs(stdpredictions.loc[ind,'stds'])<1e-5:\n",
    "            scalepred_stds.loc[ind,'stds'] = stdpredictions.loc[ind,'stds']\n",
    "        else:\n",
    "            scalepred_stds.loc[ind,'stds'] = (stdpredictions.loc[ind,'stds']/predictions.loc[ind,'fluxes'])*scalepred_fluxes.loc[ind, 'fluxes']\n",
    "    return scalepred_fluxes, scalepred_stds"
   ]
  },
  {
   "cell_type": "markdown",
   "id": "4d7bcf95-0766-4332-97bb-6c60e5238889",
   "metadata": {},
   "source": [
    "##### **Add predictions to 13c data frame**"
   ]
  },
  {
   "cell_type": "code",
   "execution_count": 25,
   "id": "2f9cd489-bb20-4798-8e42-af9291fd8caf",
   "metadata": {},
   "outputs": [],
   "source": [
    "def addpredfluxes_to13cdf(observed_fluxes, predictions, stdpredictions, substrate, method):\n",
    "    predicted_fluxes = []\n",
    "    predicted_stds = []\n",
    "    scalepred_fluxes, scalepred_stds = scalepredictions(observed_fluxes, predictions, stdpredictions, substrate, method)\n",
    "    for _, row in observed_fluxes.iterrows():\n",
    "        reactions = row['Forward Reactions']\n",
    "        flux_value_pred = 0\n",
    "        std_value_pred = 0\n",
    "        for x in [x.strip('() ') for x in reactions.split(' or ')]:\n",
    "            and_split = [y.strip('() ') for y in x.split(' and ')]\n",
    "            flux_value_pred += min([get_flux_value(v, scalepred_fluxes) for v in and_split])\n",
    "            std_value_pred += min([get_std_value(v,scalepred_stds) for v in and_split])\n",
    "        predicted_fluxes.append(flux_value_pred)\n",
    "        predicted_stds.append(std_value_pred)\n",
    "\n",
    "    observed_fluxes[str(method) + ' Value'] = predicted_fluxes\n",
    "    observed_fluxes[str(method) + ' std Value'] = predicted_stds\n",
    "    \n",
    "    return observed_fluxes"
   ]
  },
  {
   "cell_type": "code",
   "execution_count": 26,
   "id": "c2aa3558-60d8-446c-8990-2d8c62cfdb88",
   "metadata": {},
   "outputs": [
    {
     "data": {
      "text/plain": [
       "'factor'"
      ]
     },
     "metadata": {},
     "output_type": "display_data"
    },
    {
     "data": {
      "text/plain": [
       "fluxes    56.778318\n",
       "Name: EX_phenol_e, dtype: float64"
      ]
     },
     "metadata": {},
     "output_type": "display_data"
    }
   ],
   "source": [
    "obspred_fluxes = addpredfluxes_to13cdf(phenol_fluxes, eflux2soldf, eflux2solstddf, 'phenol', 'EFLUX2')"
   ]
  },
  {
   "cell_type": "code",
   "execution_count": 27,
   "id": "3a272dbb-1588-45eb-9efb-0b4a04f4fba7",
   "metadata": {},
   "outputs": [
    {
     "data": {
      "text/html": [
       "<div>\n",
       "<style scoped>\n",
       "    .dataframe tbody tr th:only-of-type {\n",
       "        vertical-align: middle;\n",
       "    }\n",
       "\n",
       "    .dataframe tbody tr th {\n",
       "        vertical-align: top;\n",
       "    }\n",
       "\n",
       "    .dataframe thead th {\n",
       "        text-align: right;\n",
       "    }\n",
       "</style>\n",
       "<table border=\"1\" class=\"dataframe\">\n",
       "  <thead>\n",
       "    <tr style=\"text-align: right;\">\n",
       "      <th></th>\n",
       "      <th>Pathway</th>\n",
       "      <th>Forward Reactions</th>\n",
       "      <th>Reaction</th>\n",
       "      <th>Location on map</th>\n",
       "      <th>Flux</th>\n",
       "      <th>90% Confidence Lower Bound</th>\n",
       "      <th>90% Confidence Upper Bound</th>\n",
       "      <th>EFLUX2 Value</th>\n",
       "      <th>EFLUX2 std Value</th>\n",
       "    </tr>\n",
       "  </thead>\n",
       "  <tbody>\n",
       "    <tr>\n",
       "      <th>0</th>\n",
       "      <td>Phenol Uptake</td>\n",
       "      <td>PHEMOX</td>\n",
       "      <td>Phenol.ext -&gt; AcCoA + SucCoA</td>\n",
       "      <td>( 80, -450)</td>\n",
       "      <td>1.000000e+02</td>\n",
       "      <td>1.000000e+02</td>\n",
       "      <td>100.0000</td>\n",
       "      <td>1.000000e+02</td>\n",
       "      <td>0.000000e+00</td>\n",
       "    </tr>\n",
       "    <tr>\n",
       "      <th>1</th>\n",
       "      <td>EMP Pathway</td>\n",
       "      <td>PGI</td>\n",
       "      <td>G6P &lt;-&gt; F6P</td>\n",
       "      <td>(-150, 430)</td>\n",
       "      <td>-4.793000e-01</td>\n",
       "      <td>-1.421900e+00</td>\n",
       "      <td>0.9306</td>\n",
       "      <td>-3.878784e+00</td>\n",
       "      <td>1.097752e-01</td>\n",
       "    </tr>\n",
       "    <tr>\n",
       "      <th>2</th>\n",
       "      <td>EMP Pathway</td>\n",
       "      <td>PFK or reverse_FBP</td>\n",
       "      <td>F6P + ATP -&gt; FBP</td>\n",
       "      <td>(-220, 195)</td>\n",
       "      <td>-2.000000e+00</td>\n",
       "      <td>-2.000000e+00</td>\n",
       "      <td>-0.7683</td>\n",
       "      <td>-1.413221e+01</td>\n",
       "      <td>-3.999619e-01</td>\n",
       "    </tr>\n",
       "    <tr>\n",
       "      <th>3</th>\n",
       "      <td>EMP Pathway</td>\n",
       "      <td>FBA</td>\n",
       "      <td>FBP &lt;-&gt; DHAP + GAP</td>\n",
       "      <td>(-140, 115)</td>\n",
       "      <td>-2.000000e+00</td>\n",
       "      <td>-2.000000e+00</td>\n",
       "      <td>-0.7683</td>\n",
       "      <td>-1.413221e+01</td>\n",
       "      <td>3.999619e-01</td>\n",
       "    </tr>\n",
       "    <tr>\n",
       "      <th>4</th>\n",
       "      <td>EMP Pathway</td>\n",
       "      <td>TPI</td>\n",
       "      <td>DHAP &lt;-&gt; GAP</td>\n",
       "      <td>(-270, 150)</td>\n",
       "      <td>-2.000000e+00</td>\n",
       "      <td>-2.000000e+00</td>\n",
       "      <td>-0.7683</td>\n",
       "      <td>-2.616705e+01</td>\n",
       "      <td>7.405654e-01</td>\n",
       "    </tr>\n",
       "    <tr>\n",
       "      <th>5</th>\n",
       "      <td>EMP Pathway</td>\n",
       "      <td>GAPD</td>\n",
       "      <td>GAP &lt;-&gt; G1,3P</td>\n",
       "      <td>(-220, 30)</td>\n",
       "      <td>-1.079070e+01</td>\n",
       "      <td>-1.122350e+01</td>\n",
       "      <td>-9.1040</td>\n",
       "      <td>-4.297403e+01</td>\n",
       "      <td>1.216227e+00</td>\n",
       "    </tr>\n",
       "    <tr>\n",
       "      <th>6</th>\n",
       "      <td>EMP Pathway</td>\n",
       "      <td>reverse_PGK</td>\n",
       "      <td>G1,3P &lt;-&gt; 3PG + ATP + NADH</td>\n",
       "      <td>(-220, -55)</td>\n",
       "      <td>-1.079070e+01</td>\n",
       "      <td>-1.122350e+01</td>\n",
       "      <td>-9.1040</td>\n",
       "      <td>-4.297403e+01</td>\n",
       "      <td>-1.216227e+00</td>\n",
       "    </tr>\n",
       "    <tr>\n",
       "      <th>7</th>\n",
       "      <td>EMP Pathway</td>\n",
       "      <td>PGM_1 or reverse_PGM</td>\n",
       "      <td>3PG &lt;-&gt; 2PG</td>\n",
       "      <td>(-220, -135)</td>\n",
       "      <td>-1.625380e+01</td>\n",
       "      <td>-1.695560e+01</td>\n",
       "      <td>-13.6034</td>\n",
       "      <td>-4.954770e+01</td>\n",
       "      <td>-3.637646e-13</td>\n",
       "    </tr>\n",
       "    <tr>\n",
       "      <th>8</th>\n",
       "      <td>EMP Pathway</td>\n",
       "      <td>ENO</td>\n",
       "      <td>2PG &lt;-&gt; PEP</td>\n",
       "      <td>(-220, -215)</td>\n",
       "      <td>-1.625380e+01</td>\n",
       "      <td>-1.695560e+01</td>\n",
       "      <td>-13.6034</td>\n",
       "      <td>-4.954770e+01</td>\n",
       "      <td>8.244905e-01</td>\n",
       "    </tr>\n",
       "    <tr>\n",
       "      <th>9</th>\n",
       "      <td>EMP Pathway</td>\n",
       "      <td>PPS or reverse_FRUpts2pp or reverse_SBTpts or ...</td>\n",
       "      <td>PEP &lt;-&gt; Pyr + ATP</td>\n",
       "      <td>(-220, -295)</td>\n",
       "      <td>2.999990e+01</td>\n",
       "      <td>0.000000e+00</td>\n",
       "      <td>30.0000</td>\n",
       "      <td>0.000000e+00</td>\n",
       "      <td>0.000000e+00</td>\n",
       "    </tr>\n",
       "    <tr>\n",
       "      <th>10</th>\n",
       "      <td>Pentose Phosphate Pathway</td>\n",
       "      <td>G6PDH2r and PGL</td>\n",
       "      <td>G6P &lt;-&gt; 6PG + NADPH</td>\n",
       "      <td>(50, 380)</td>\n",
       "      <td>-5.767000e-01</td>\n",
       "      <td>-2.018100e+00</td>\n",
       "      <td>0.3824</td>\n",
       "      <td>0.000000e+00</td>\n",
       "      <td>0.000000e+00</td>\n",
       "    </tr>\n",
       "    <tr>\n",
       "      <th>11</th>\n",
       "      <td>Pentose Phosphate Pathway</td>\n",
       "      <td>GND</td>\n",
       "      <td>6PG &lt;-&gt; Ru5P + CO2 + NADPH</td>\n",
       "      <td>(275, 350)</td>\n",
       "      <td>4.646000e-01</td>\n",
       "      <td>-1.659900e+00</td>\n",
       "      <td>1.8755</td>\n",
       "      <td>0.000000e+00</td>\n",
       "      <td>0.000000e+00</td>\n",
       "    </tr>\n",
       "    <tr>\n",
       "      <th>12</th>\n",
       "      <td>Pentose Phosphate Pathway</td>\n",
       "      <td>RPE</td>\n",
       "      <td>Ru5P &lt;-&gt; X5P</td>\n",
       "      <td>(380, 190)</td>\n",
       "      <td>-1.187400e+00</td>\n",
       "      <td>-2.611500e+00</td>\n",
       "      <td>-0.2468</td>\n",
       "      <td>-4.833833e+00</td>\n",
       "      <td>1.368045e-01</td>\n",
       "    </tr>\n",
       "    <tr>\n",
       "      <th>13</th>\n",
       "      <td>Pentose Phosphate Pathway</td>\n",
       "      <td>reverse_RPI</td>\n",
       "      <td>Ru5P &lt;-&gt; R5P</td>\n",
       "      <td>(270, 230)</td>\n",
       "      <td>1.652100e+00</td>\n",
       "      <td>9.081000e-01</td>\n",
       "      <td>2.1385</td>\n",
       "      <td>4.826291e+00</td>\n",
       "      <td>-1.365910e-01</td>\n",
       "    </tr>\n",
       "    <tr>\n",
       "      <th>14</th>\n",
       "      <td>Pentose Phosphate Pathway</td>\n",
       "      <td>TKT2</td>\n",
       "      <td>X5P &lt;-&gt; TKC2 + GAP</td>\n",
       "      <td>(270, 100)</td>\n",
       "      <td>-1.187400e+00</td>\n",
       "      <td>-2.611500e+00</td>\n",
       "      <td>-0.2468</td>\n",
       "      <td>-2.767612e+00</td>\n",
       "      <td>7.832744e-02</td>\n",
       "    </tr>\n",
       "    <tr>\n",
       "      <th>15</th>\n",
       "      <td>Pentose Phosphate Pathway</td>\n",
       "      <td>TKT2</td>\n",
       "      <td>TKC2 + E4P &lt;-&gt; F6P</td>\n",
       "      <td>(10, 280)</td>\n",
       "      <td>-1.187400e+00</td>\n",
       "      <td>-1.909000e+00</td>\n",
       "      <td>-0.7099</td>\n",
       "      <td>-2.767612e+00</td>\n",
       "      <td>7.832744e-02</td>\n",
       "    </tr>\n",
       "    <tr>\n",
       "      <th>16</th>\n",
       "      <td>Pentose Phosphate Pathway</td>\n",
       "      <td>TKT1</td>\n",
       "      <td>TKC2 + R5P &lt;-&gt; S7P</td>\n",
       "      <td>(120, 230)</td>\n",
       "      <td>2.130000e-14</td>\n",
       "      <td>-7.076000e-01</td>\n",
       "      <td>0.4698</td>\n",
       "      <td>-2.066221e+00</td>\n",
       "      <td>5.847704e-02</td>\n",
       "    </tr>\n",
       "    <tr>\n",
       "      <th>17</th>\n",
       "      <td>Pentose Phosphate Pathway</td>\n",
       "      <td>TALA</td>\n",
       "      <td>TAC3 + GAP &lt;-&gt; F6P</td>\n",
       "      <td>(-70, 190)</td>\n",
       "      <td>7.110000e-15</td>\n",
       "      <td>-7.076000e-01</td>\n",
       "      <td>0.4698</td>\n",
       "      <td>-2.066221e+00</td>\n",
       "      <td>5.847704e-02</td>\n",
       "    </tr>\n",
       "    <tr>\n",
       "      <th>18</th>\n",
       "      <td>Pentose Phosphate Pathway</td>\n",
       "      <td>reverse_TALA</td>\n",
       "      <td>S7P &lt;-&gt; TAC3 + E4P</td>\n",
       "      <td>(50, 230)</td>\n",
       "      <td>8.530000e-14</td>\n",
       "      <td>-7.076000e-01</td>\n",
       "      <td>0.4698</td>\n",
       "      <td>2.066221e+00</td>\n",
       "      <td>-5.847704e-02</td>\n",
       "    </tr>\n",
       "    <tr>\n",
       "      <th>19</th>\n",
       "      <td>ED Pathway</td>\n",
       "      <td>EDA</td>\n",
       "      <td>6PG &lt;-&gt; KDPG</td>\n",
       "      <td>(-300, 350)</td>\n",
       "      <td>-1.041300e+00</td>\n",
       "      <td>-2.524300e+00</td>\n",
       "      <td>0.2447</td>\n",
       "      <td>0.000000e+00</td>\n",
       "      <td>0.000000e+00</td>\n",
       "    </tr>\n",
       "    <tr>\n",
       "      <th>20</th>\n",
       "      <td>ED Pathway</td>\n",
       "      <td>EDD</td>\n",
       "      <td>KDPG &lt;-&gt; Pyr + GAP</td>\n",
       "      <td>(-300, 50)</td>\n",
       "      <td>-1.041300e+00</td>\n",
       "      <td>-2.524300e+00</td>\n",
       "      <td>0.2447</td>\n",
       "      <td>0.000000e+00</td>\n",
       "      <td>0.000000e+00</td>\n",
       "    </tr>\n",
       "    <tr>\n",
       "      <th>21</th>\n",
       "      <td>TCA Cycle</td>\n",
       "      <td>PDH</td>\n",
       "      <td>Pyr &lt;-&gt; AcCoA + CO2 + NADH</td>\n",
       "      <td>(-220, -370)</td>\n",
       "      <td>5.923270e+01</td>\n",
       "      <td>5.668260e+01</td>\n",
       "      <td>62.0459</td>\n",
       "      <td>1.724002e+01</td>\n",
       "      <td>1.466093e+00</td>\n",
       "    </tr>\n",
       "    <tr>\n",
       "      <th>22</th>\n",
       "      <td>TCA Cycle</td>\n",
       "      <td>CS or reverse_CITL</td>\n",
       "      <td>OAC + AcCoA -&gt; Cit</td>\n",
       "      <td>(-55, -340)</td>\n",
       "      <td>1.144391e+02</td>\n",
       "      <td>1.102766e+02</td>\n",
       "      <td>118.4800</td>\n",
       "      <td>1.105515e+02</td>\n",
       "      <td>1.953511e+00</td>\n",
       "    </tr>\n",
       "    <tr>\n",
       "      <th>23</th>\n",
       "      <td>TCA Cycle</td>\n",
       "      <td>ACONT or ( ACONTa and ACONTb)</td>\n",
       "      <td>Cit -&gt; ICit</td>\n",
       "      <td>(145, -310)</td>\n",
       "      <td>1.144391e+02</td>\n",
       "      <td>1.102766e+02</td>\n",
       "      <td>118.4800</td>\n",
       "      <td>1.105515e+02</td>\n",
       "      <td>1.953511e+00</td>\n",
       "    </tr>\n",
       "    <tr>\n",
       "      <th>24</th>\n",
       "      <td>TCA Cycle</td>\n",
       "      <td>ICDHx or ICDHyr</td>\n",
       "      <td>ICit -&gt; AKG + CO2 + NADPH</td>\n",
       "      <td>(290, -310)</td>\n",
       "      <td>1.134677e+02</td>\n",
       "      <td>1.068011e+02</td>\n",
       "      <td>118.4800</td>\n",
       "      <td>1.105515e+02</td>\n",
       "      <td>4.607751e+00</td>\n",
       "    </tr>\n",
       "    <tr>\n",
       "      <th>25</th>\n",
       "      <td>TCA Cycle</td>\n",
       "      <td>AKGDH or OOR3r</td>\n",
       "      <td>AKG -&gt; SucCoA + CO2 + NADH</td>\n",
       "      <td>(290, -195)</td>\n",
       "      <td>1.086053e+02</td>\n",
       "      <td>1.017297e+02</td>\n",
       "      <td>113.8305</td>\n",
       "      <td>5.665524e+01</td>\n",
       "      <td>3.778977e+00</td>\n",
       "    </tr>\n",
       "    <tr>\n",
       "      <th>26</th>\n",
       "      <td>TCA Cycle</td>\n",
       "      <td>3OADPCOAT or OCOAT3r or SUCBZT1 or SUCBZT2 or ...</td>\n",
       "      <td>SucCoA -&gt; Suc + ATP</td>\n",
       "      <td>(290, -55)</td>\n",
       "      <td>2.074789e+02</td>\n",
       "      <td>2.005620e+02</td>\n",
       "      <td>212.7536</td>\n",
       "      <td>1.671722e+02</td>\n",
       "      <td>-9.289577e-01</td>\n",
       "    </tr>\n",
       "    <tr>\n",
       "      <th>27</th>\n",
       "      <td>TCA Cycle</td>\n",
       "      <td>SUCDi or reverse_FRD2 or reverse_FRD3 or rever...</td>\n",
       "      <td>Suc -&gt; Fum + FADH2</td>\n",
       "      <td>(160, -55)</td>\n",
       "      <td>2.085767e+02</td>\n",
       "      <td>2.032666e+02</td>\n",
       "      <td>212.8305</td>\n",
       "      <td>1.705088e+02</td>\n",
       "      <td>8.340884e-01</td>\n",
       "    </tr>\n",
       "    <tr>\n",
       "      <th>28</th>\n",
       "      <td>TCA Cycle</td>\n",
       "      <td>FUM</td>\n",
       "      <td>Fum -&gt; Mal</td>\n",
       "      <td>(10, -55)</td>\n",
       "      <td>2.096703e+02</td>\n",
       "      <td>2.043514e+02</td>\n",
       "      <td>213.8762</td>\n",
       "      <td>1.767427e+02</td>\n",
       "      <td>6.582154e-01</td>\n",
       "    </tr>\n",
       "    <tr>\n",
       "      <th>29</th>\n",
       "      <td>TCA Cycle</td>\n",
       "      <td>MDH or MDH3 or MDH2 or DMALRED</td>\n",
       "      <td>Mal -&gt; OAC + NADH</td>\n",
       "      <td>(-60, -180)</td>\n",
       "      <td>1.710231e+02</td>\n",
       "      <td>1.292999e+02</td>\n",
       "      <td>174.5648</td>\n",
       "      <td>1.767502e+02</td>\n",
       "      <td>6.580020e-01</td>\n",
       "    </tr>\n",
       "    <tr>\n",
       "      <th>30</th>\n",
       "      <td>Glyoxylate Shunt</td>\n",
       "      <td>ICL</td>\n",
       "      <td>ICit -&gt; Glyox + Suc</td>\n",
       "      <td>(180, -140)</td>\n",
       "      <td>9.714000e-01</td>\n",
       "      <td>7.110000e-15</td>\n",
       "      <td>4.5567</td>\n",
       "      <td>0.000000e+00</td>\n",
       "      <td>0.000000e+00</td>\n",
       "    </tr>\n",
       "    <tr>\n",
       "      <th>31</th>\n",
       "      <td>Glyoxylate Shunt</td>\n",
       "      <td>MALS</td>\n",
       "      <td>Glyox + AcCoA -&gt; Mal</td>\n",
       "      <td>(90, -140)</td>\n",
       "      <td>9.714000e-01</td>\n",
       "      <td>0.000000e+00</td>\n",
       "      <td>4.5567</td>\n",
       "      <td>7.541580e-03</td>\n",
       "      <td>3.759140e-06</td>\n",
       "    </tr>\n",
       "    <tr>\n",
       "      <th>32</th>\n",
       "      <td>Anaplerotic Reactions</td>\n",
       "      <td>PEPCK_re or PPCK</td>\n",
       "      <td>OAC + ATP -&gt; PEP + CO2</td>\n",
       "      <td>NaN</td>\n",
       "      <td>9.777180e+01</td>\n",
       "      <td>1.292690e+01</td>\n",
       "      <td>100.0000</td>\n",
       "      <td>5.246261e+01</td>\n",
       "      <td>9.069576e-01</td>\n",
       "    </tr>\n",
       "    <tr>\n",
       "      <th>33</th>\n",
       "      <td>Anaplerotic Reactions</td>\n",
       "      <td>PPC</td>\n",
       "      <td>PEP + CO2 -&gt; OAC</td>\n",
       "      <td>NaN</td>\n",
       "      <td>4.890390e+01</td>\n",
       "      <td>0.000000e+00</td>\n",
       "      <td>59.1635</td>\n",
       "      <td>0.000000e+00</td>\n",
       "      <td>0.000000e+00</td>\n",
       "    </tr>\n",
       "    <tr>\n",
       "      <th>34</th>\n",
       "      <td>Anaplerotic Reactions</td>\n",
       "      <td>PC</td>\n",
       "      <td>Pyr + CO2 + ATP -&gt; OAC</td>\n",
       "      <td>NaN</td>\n",
       "      <td>1.000000e-07</td>\n",
       "      <td>0.000000e+00</td>\n",
       "      <td>44.8577</td>\n",
       "      <td>2.064284e-07</td>\n",
       "      <td>6.903117e-09</td>\n",
       "    </tr>\n",
       "    <tr>\n",
       "      <th>35</th>\n",
       "      <td>Anaplerotic Reactions</td>\n",
       "      <td>ME1 or ME2</td>\n",
       "      <td>Mal &lt;-&gt; Pyr + CO2 + NADH</td>\n",
       "      <td>NaN</td>\n",
       "      <td>3.961870e+01</td>\n",
       "      <td>3.704340e+01</td>\n",
       "      <td>100.0000</td>\n",
       "      <td>0.000000e+00</td>\n",
       "      <td>0.000000e+00</td>\n",
       "    </tr>\n",
       "    <tr>\n",
       "      <th>64</th>\n",
       "      <td>Transhydrogenation</td>\n",
       "      <td>FRNDPR2r or FLNDPR2r or reverse_NADTRHD</td>\n",
       "      <td>NADH &lt;-&gt; NADPH</td>\n",
       "      <td>NaN</td>\n",
       "      <td>1.443160e+01</td>\n",
       "      <td>1.108700e+00</td>\n",
       "      <td>27.2447</td>\n",
       "      <td>0.000000e+00</td>\n",
       "      <td>0.000000e+00</td>\n",
       "    </tr>\n",
       "    <tr>\n",
       "      <th>65</th>\n",
       "      <td>Transport</td>\n",
       "      <td>ATPM</td>\n",
       "      <td>ATP -&gt; ATP.ext</td>\n",
       "      <td>NaN</td>\n",
       "      <td>6.800864e+02</td>\n",
       "      <td>6.131475e+02</td>\n",
       "      <td>787.5166</td>\n",
       "      <td>0.000000e+00</td>\n",
       "      <td>0.000000e+00</td>\n",
       "    </tr>\n",
       "    <tr>\n",
       "      <th>66</th>\n",
       "      <td>Transport</td>\n",
       "      <td>reverse_CO2t</td>\n",
       "      <td>CO2 -&gt; CO2.ext</td>\n",
       "      <td>NaN</td>\n",
       "      <td>3.764570e+02</td>\n",
       "      <td>3.650427e+02</td>\n",
       "      <td>386.6854</td>\n",
       "      <td>3.292419e+02</td>\n",
       "      <td>-7.662846e+00</td>\n",
       "    </tr>\n",
       "    <tr>\n",
       "      <th>68</th>\n",
       "      <td>Transport</td>\n",
       "      <td>O2t</td>\n",
       "      <td>O2.ext -&gt; O2</td>\n",
       "      <td>NaN</td>\n",
       "      <td>4.336956e+02</td>\n",
       "      <td>4.207564e+02</td>\n",
       "      <td>445.9396</td>\n",
       "      <td>4.303897e+02</td>\n",
       "      <td>7.630363e+00</td>\n",
       "    </tr>\n",
       "    <tr>\n",
       "      <th>69</th>\n",
       "      <td>Transport</td>\n",
       "      <td>NH4t</td>\n",
       "      <td>NH3.ext -&gt; NH3</td>\n",
       "      <td>NaN</td>\n",
       "      <td>2.575270e+01</td>\n",
       "      <td>2.412740e+01</td>\n",
       "      <td>27.0206</td>\n",
       "      <td>3.797450e+01</td>\n",
       "      <td>1.074733e+00</td>\n",
       "    </tr>\n",
       "    <tr>\n",
       "      <th>70</th>\n",
       "      <td>Transport</td>\n",
       "      <td>SO4t2</td>\n",
       "      <td>SO4.ext -&gt; SO4</td>\n",
       "      <td>NaN</td>\n",
       "      <td>4.177000e-01</td>\n",
       "      <td>3.913000e-01</td>\n",
       "      <td>0.4383</td>\n",
       "      <td>4.914845e-01</td>\n",
       "      <td>1.390972e-02</td>\n",
       "    </tr>\n",
       "    <tr>\n",
       "      <th>71</th>\n",
       "      <td>Biomass Equation</td>\n",
       "      <td>Growth or Growth_Phenol or Growth_Glucose</td>\n",
       "      <td>0.515*Ala + 0.174*Arg + 0.153*Asn + 0.439*Asp ...</td>\n",
       "      <td>NaN</td>\n",
       "      <td>4.693400e+00</td>\n",
       "      <td>4.397200e+00</td>\n",
       "      <td>4.9245</td>\n",
       "      <td>8.728680e+00</td>\n",
       "      <td>2.470343e-01</td>\n",
       "    </tr>\n",
       "  </tbody>\n",
       "</table>\n",
       "</div>"
      ],
      "text/plain": [
       "                      Pathway  \\\n",
       "0               Phenol Uptake   \n",
       "1                 EMP Pathway   \n",
       "2                 EMP Pathway   \n",
       "3                 EMP Pathway   \n",
       "4                 EMP Pathway   \n",
       "5                 EMP Pathway   \n",
       "6                 EMP Pathway   \n",
       "7                 EMP Pathway   \n",
       "8                 EMP Pathway   \n",
       "9                 EMP Pathway   \n",
       "10  Pentose Phosphate Pathway   \n",
       "11  Pentose Phosphate Pathway   \n",
       "12  Pentose Phosphate Pathway   \n",
       "13  Pentose Phosphate Pathway   \n",
       "14  Pentose Phosphate Pathway   \n",
       "15  Pentose Phosphate Pathway   \n",
       "16  Pentose Phosphate Pathway   \n",
       "17  Pentose Phosphate Pathway   \n",
       "18  Pentose Phosphate Pathway   \n",
       "19                 ED Pathway   \n",
       "20                 ED Pathway   \n",
       "21                  TCA Cycle   \n",
       "22                  TCA Cycle   \n",
       "23                  TCA Cycle   \n",
       "24                  TCA Cycle   \n",
       "25                  TCA Cycle   \n",
       "26                  TCA Cycle   \n",
       "27                  TCA Cycle   \n",
       "28                  TCA Cycle   \n",
       "29                  TCA Cycle   \n",
       "30           Glyoxylate Shunt   \n",
       "31           Glyoxylate Shunt   \n",
       "32      Anaplerotic Reactions   \n",
       "33      Anaplerotic Reactions   \n",
       "34      Anaplerotic Reactions   \n",
       "35      Anaplerotic Reactions   \n",
       "64         Transhydrogenation   \n",
       "65                  Transport   \n",
       "66                  Transport   \n",
       "68                  Transport   \n",
       "69                  Transport   \n",
       "70                  Transport   \n",
       "71           Biomass Equation   \n",
       "\n",
       "                                    Forward Reactions  \\\n",
       "0                                              PHEMOX   \n",
       "1                                                 PGI   \n",
       "2                                  PFK or reverse_FBP   \n",
       "3                                                 FBA   \n",
       "4                                                 TPI   \n",
       "5                                                GAPD   \n",
       "6                                         reverse_PGK   \n",
       "7                                PGM_1 or reverse_PGM   \n",
       "8                                                 ENO   \n",
       "9   PPS or reverse_FRUpts2pp or reverse_SBTpts or ...   \n",
       "10                                    G6PDH2r and PGL   \n",
       "11                                                GND   \n",
       "12                                                RPE   \n",
       "13                                        reverse_RPI   \n",
       "14                                               TKT2   \n",
       "15                                               TKT2   \n",
       "16                                               TKT1   \n",
       "17                                               TALA   \n",
       "18                                       reverse_TALA   \n",
       "19                                                EDA   \n",
       "20                                                EDD   \n",
       "21                                                PDH   \n",
       "22                                 CS or reverse_CITL   \n",
       "23                      ACONT or ( ACONTa and ACONTb)   \n",
       "24                                    ICDHx or ICDHyr   \n",
       "25                                     AKGDH or OOR3r   \n",
       "26  3OADPCOAT or OCOAT3r or SUCBZT1 or SUCBZT2 or ...   \n",
       "27  SUCDi or reverse_FRD2 or reverse_FRD3 or rever...   \n",
       "28                                                FUM   \n",
       "29                     MDH or MDH3 or MDH2 or DMALRED   \n",
       "30                                                ICL   \n",
       "31                                               MALS   \n",
       "32                                   PEPCK_re or PPCK   \n",
       "33                                                PPC   \n",
       "34                                                 PC   \n",
       "35                                         ME1 or ME2   \n",
       "64            FRNDPR2r or FLNDPR2r or reverse_NADTRHD   \n",
       "65                                               ATPM   \n",
       "66                                       reverse_CO2t   \n",
       "68                                                O2t   \n",
       "69                                               NH4t   \n",
       "70                                              SO4t2   \n",
       "71          Growth or Growth_Phenol or Growth_Glucose   \n",
       "\n",
       "                                             Reaction Location on map  \\\n",
       "0                        Phenol.ext -> AcCoA + SucCoA     ( 80, -450)   \n",
       "1                                         G6P <-> F6P     (-150, 430)   \n",
       "2                                    F6P + ATP -> FBP     (-220, 195)   \n",
       "3                                  FBP <-> DHAP + GAP     (-140, 115)   \n",
       "4                                        DHAP <-> GAP     (-270, 150)   \n",
       "5                                       GAP <-> G1,3P      (-220, 30)   \n",
       "6                          G1,3P <-> 3PG + ATP + NADH     (-220, -55)   \n",
       "7                                         3PG <-> 2PG    (-220, -135)   \n",
       "8                                         2PG <-> PEP    (-220, -215)   \n",
       "9                                   PEP <-> Pyr + ATP    (-220, -295)   \n",
       "10                                G6P <-> 6PG + NADPH       (50, 380)   \n",
       "11                         6PG <-> Ru5P + CO2 + NADPH      (275, 350)   \n",
       "12                                       Ru5P <-> X5P      (380, 190)   \n",
       "13                                       Ru5P <-> R5P      (270, 230)   \n",
       "14                                 X5P <-> TKC2 + GAP      (270, 100)   \n",
       "15                                 TKC2 + E4P <-> F6P       (10, 280)   \n",
       "16                                 TKC2 + R5P <-> S7P      (120, 230)   \n",
       "17                                 TAC3 + GAP <-> F6P      (-70, 190)   \n",
       "18                                 S7P <-> TAC3 + E4P       (50, 230)   \n",
       "19                                       6PG <-> KDPG     (-300, 350)   \n",
       "20                                 KDPG <-> Pyr + GAP      (-300, 50)   \n",
       "21                         Pyr <-> AcCoA + CO2 + NADH    (-220, -370)   \n",
       "22                                 OAC + AcCoA -> Cit     (-55, -340)   \n",
       "23                                        Cit -> ICit     (145, -310)   \n",
       "24                          ICit -> AKG + CO2 + NADPH     (290, -310)   \n",
       "25                         AKG -> SucCoA + CO2 + NADH     (290, -195)   \n",
       "26                                SucCoA -> Suc + ATP      (290, -55)   \n",
       "27                                 Suc -> Fum + FADH2      (160, -55)   \n",
       "28                                         Fum -> Mal       (10, -55)   \n",
       "29                                  Mal -> OAC + NADH     (-60, -180)   \n",
       "30                                ICit -> Glyox + Suc     (180, -140)   \n",
       "31                               Glyox + AcCoA -> Mal      (90, -140)   \n",
       "32                             OAC + ATP -> PEP + CO2             NaN   \n",
       "33                                   PEP + CO2 -> OAC             NaN   \n",
       "34                             Pyr + CO2 + ATP -> OAC             NaN   \n",
       "35                           Mal <-> Pyr + CO2 + NADH             NaN   \n",
       "64                                     NADH <-> NADPH             NaN   \n",
       "65                                     ATP -> ATP.ext             NaN   \n",
       "66                                     CO2 -> CO2.ext             NaN   \n",
       "68                                       O2.ext -> O2             NaN   \n",
       "69                                     NH3.ext -> NH3             NaN   \n",
       "70                                     SO4.ext -> SO4             NaN   \n",
       "71  0.515*Ala + 0.174*Arg + 0.153*Asn + 0.439*Asp ...             NaN   \n",
       "\n",
       "            Flux  90% Confidence Lower Bound  90% Confidence Upper Bound  \\\n",
       "0   1.000000e+02                1.000000e+02                    100.0000   \n",
       "1  -4.793000e-01               -1.421900e+00                      0.9306   \n",
       "2  -2.000000e+00               -2.000000e+00                     -0.7683   \n",
       "3  -2.000000e+00               -2.000000e+00                     -0.7683   \n",
       "4  -2.000000e+00               -2.000000e+00                     -0.7683   \n",
       "5  -1.079070e+01               -1.122350e+01                     -9.1040   \n",
       "6  -1.079070e+01               -1.122350e+01                     -9.1040   \n",
       "7  -1.625380e+01               -1.695560e+01                    -13.6034   \n",
       "8  -1.625380e+01               -1.695560e+01                    -13.6034   \n",
       "9   2.999990e+01                0.000000e+00                     30.0000   \n",
       "10 -5.767000e-01               -2.018100e+00                      0.3824   \n",
       "11  4.646000e-01               -1.659900e+00                      1.8755   \n",
       "12 -1.187400e+00               -2.611500e+00                     -0.2468   \n",
       "13  1.652100e+00                9.081000e-01                      2.1385   \n",
       "14 -1.187400e+00               -2.611500e+00                     -0.2468   \n",
       "15 -1.187400e+00               -1.909000e+00                     -0.7099   \n",
       "16  2.130000e-14               -7.076000e-01                      0.4698   \n",
       "17  7.110000e-15               -7.076000e-01                      0.4698   \n",
       "18  8.530000e-14               -7.076000e-01                      0.4698   \n",
       "19 -1.041300e+00               -2.524300e+00                      0.2447   \n",
       "20 -1.041300e+00               -2.524300e+00                      0.2447   \n",
       "21  5.923270e+01                5.668260e+01                     62.0459   \n",
       "22  1.144391e+02                1.102766e+02                    118.4800   \n",
       "23  1.144391e+02                1.102766e+02                    118.4800   \n",
       "24  1.134677e+02                1.068011e+02                    118.4800   \n",
       "25  1.086053e+02                1.017297e+02                    113.8305   \n",
       "26  2.074789e+02                2.005620e+02                    212.7536   \n",
       "27  2.085767e+02                2.032666e+02                    212.8305   \n",
       "28  2.096703e+02                2.043514e+02                    213.8762   \n",
       "29  1.710231e+02                1.292999e+02                    174.5648   \n",
       "30  9.714000e-01                7.110000e-15                      4.5567   \n",
       "31  9.714000e-01                0.000000e+00                      4.5567   \n",
       "32  9.777180e+01                1.292690e+01                    100.0000   \n",
       "33  4.890390e+01                0.000000e+00                     59.1635   \n",
       "34  1.000000e-07                0.000000e+00                     44.8577   \n",
       "35  3.961870e+01                3.704340e+01                    100.0000   \n",
       "64  1.443160e+01                1.108700e+00                     27.2447   \n",
       "65  6.800864e+02                6.131475e+02                    787.5166   \n",
       "66  3.764570e+02                3.650427e+02                    386.6854   \n",
       "68  4.336956e+02                4.207564e+02                    445.9396   \n",
       "69  2.575270e+01                2.412740e+01                     27.0206   \n",
       "70  4.177000e-01                3.913000e-01                      0.4383   \n",
       "71  4.693400e+00                4.397200e+00                      4.9245   \n",
       "\n",
       "    EFLUX2 Value  EFLUX2 std Value  \n",
       "0   1.000000e+02      0.000000e+00  \n",
       "1  -3.878784e+00      1.097752e-01  \n",
       "2  -1.413221e+01     -3.999619e-01  \n",
       "3  -1.413221e+01      3.999619e-01  \n",
       "4  -2.616705e+01      7.405654e-01  \n",
       "5  -4.297403e+01      1.216227e+00  \n",
       "6  -4.297403e+01     -1.216227e+00  \n",
       "7  -4.954770e+01     -3.637646e-13  \n",
       "8  -4.954770e+01      8.244905e-01  \n",
       "9   0.000000e+00      0.000000e+00  \n",
       "10  0.000000e+00      0.000000e+00  \n",
       "11  0.000000e+00      0.000000e+00  \n",
       "12 -4.833833e+00      1.368045e-01  \n",
       "13  4.826291e+00     -1.365910e-01  \n",
       "14 -2.767612e+00      7.832744e-02  \n",
       "15 -2.767612e+00      7.832744e-02  \n",
       "16 -2.066221e+00      5.847704e-02  \n",
       "17 -2.066221e+00      5.847704e-02  \n",
       "18  2.066221e+00     -5.847704e-02  \n",
       "19  0.000000e+00      0.000000e+00  \n",
       "20  0.000000e+00      0.000000e+00  \n",
       "21  1.724002e+01      1.466093e+00  \n",
       "22  1.105515e+02      1.953511e+00  \n",
       "23  1.105515e+02      1.953511e+00  \n",
       "24  1.105515e+02      4.607751e+00  \n",
       "25  5.665524e+01      3.778977e+00  \n",
       "26  1.671722e+02     -9.289577e-01  \n",
       "27  1.705088e+02      8.340884e-01  \n",
       "28  1.767427e+02      6.582154e-01  \n",
       "29  1.767502e+02      6.580020e-01  \n",
       "30  0.000000e+00      0.000000e+00  \n",
       "31  7.541580e-03      3.759140e-06  \n",
       "32  5.246261e+01      9.069576e-01  \n",
       "33  0.000000e+00      0.000000e+00  \n",
       "34  2.064284e-07      6.903117e-09  \n",
       "35  0.000000e+00      0.000000e+00  \n",
       "64  0.000000e+00      0.000000e+00  \n",
       "65  0.000000e+00      0.000000e+00  \n",
       "66  3.292419e+02     -7.662846e+00  \n",
       "68  4.303897e+02      7.630363e+00  \n",
       "69  3.797450e+01      1.074733e+00  \n",
       "70  4.914845e-01      1.390972e-02  \n",
       "71  8.728680e+00      2.470343e-01  "
      ]
     },
     "execution_count": 27,
     "metadata": {},
     "output_type": "execute_result"
    }
   ],
   "source": [
    "obspred_fluxes"
   ]
  },
  {
   "cell_type": "markdown",
   "id": "cfc42f0a-79a1-43ae-93af-76517dd05864",
   "metadata": {},
   "source": [
    "#### **Plot EFLUX2 vs 13C MFA**"
   ]
  },
  {
   "cell_type": "markdown",
   "id": "d7fbdae0-bcc6-4010-8b24-46b498f2b9bc",
   "metadata": {},
   "source": [
    "##### **Plot observations vs. predictions**"
   ]
  },
  {
   "cell_type": "code",
   "execution_count": 28,
   "id": "d9b595aa-981f-4904-8681-7a54f286dfdf",
   "metadata": {},
   "outputs": [],
   "source": [
    "def scatterplotcomp_obs_vs_pred(obspred_fluxes, substrate, method, linename):\n",
    "    fig, ax = plt.subplots(figsize=(8, 8))\n",
    "    ax.plot(ax.get_xlim(), ax.get_ylim(), ls=\"--\", c=\".3\")\n",
    "\n",
    "    for pathway in list(set(obspred_fluxes['Pathway'])):\n",
    "        pathway_df = obspred_fluxes[obspred_fluxes['Pathway'] == pathway]\n",
    "\n",
    "        measured_flux_list = list(pathway_df['Flux'])\n",
    "        simulated_flux_list = list(pathway_df[str(method) + ' Value'])\n",
    "\n",
    "        ax.scatter(measured_flux_list, simulated_flux_list, label=pathway)\n",
    "\n",
    "\n",
    "    # Dashed line\n",
    "    x = np.linspace(*ax.get_xlim())\n",
    "    ax.plot(x, x, ls=\"--\", c=\".3\")\n",
    "    if substrate=='phenol':\n",
    "        sub = 'Phenol'\n",
    "    elif substrate=='glucose':\n",
    "        sub = 'Glucose'\n",
    "    else:\n",
    "        print(\"Unknown substrate\")\n",
    "    plt.title(r''+str(sub)+  ' 13C MFA vs. '+ str(method) + ' Fluxes for ' +linename, fontSize=20)\n",
    "    plt.xlabel(r'13C MFA flux (per 100 mmol '+str(sub)+  ' uptake)')\n",
    "    plt.ylabel(r''+ str(method) + ' flux (per 100 mmol of '+str(sub)+  ' uptake)')\n",
    "    plt.legend()\n",
    "    plt.show()"
   ]
  },
  {
   "cell_type": "code",
   "execution_count": 29,
   "id": "7981aa93-aff8-44b5-b400-768378e1674d",
   "metadata": {},
   "outputs": [
    {
     "data": {
      "image/png": "[encoded data removed]",
      "text/plain": [
       "<Figure size 576x576 with 1 Axes>"
      ]
     },
     "metadata": {
      "needs_background": "light"
     },
     "output_type": "display_data"
    }
   ],
   "source": [
    "scatterplotcomp_obs_vs_pred(obspred_fluxes, substrate='phenol', method='EFLUX2', linename='WT-P')"
   ]
  },
  {
   "cell_type": "markdown",
   "id": "93adc7e9-8db8-4f5e-8216-b0133d0d972e",
   "metadata": {},
   "source": [
    "##### **Plot observations vs. predictions with confidence intervals**"
   ]
  },
  {
   "cell_type": "code",
   "execution_count": 30,
   "id": "1cefe2e6-4607-4d75-bf8e-16abeca4f17d",
   "metadata": {},
   "outputs": [],
   "source": [
    "import matplotlib\n",
    "import matplotlib.cm as cm\n",
    "def scatterplotcomp_obs_vs_pred_withstd(obspred_fluxes, substrate, method, linename):\n",
    "    fig, ax = plt.subplots(figsize=(8, 8))\n",
    "    ax.plot(ax.get_xlim(), ax.get_ylim(), ls=\"--\", c=\".3\")\n",
    "\n",
    "    for pathway in list(set(obspred_fluxes['Pathway'])):\n",
    "        pathway_df = obspred_fluxes[obspred_fluxes['Pathway'] == pathway]\n",
    "        \n",
    "        measured_flux_list = list(pathway_df['Flux'])\n",
    "        simulated_flux_list = list(pathway_df[str(method) + ' Value'])\n",
    "        simulated_std_list = list(pathway_df[str(method) + ' std Value'])\n",
    "        measured_std_list = list(pathway_df['90% Confidence Upper Bound']-pathway_df['Flux'])\n",
    "        \n",
    "        \n",
    "        sc = ax.scatter(measured_flux_list, simulated_flux_list, label=pathway)\n",
    "        ax.errorbar(\n",
    "                measured_flux_list, simulated_flux_list, xerr=[std1 for std1 in measured_std_list], yerr=[1.9*std for std in simulated_std_list],\n",
    "                    ecolor=\"gray\", ls='none',\n",
    "                    alpha=0.8)\n",
    "\n",
    "    # Dashed line\n",
    "    x = np.linspace(*ax.get_xlim())\n",
    "    ax.plot(x, x, ls=\"--\", c=\".3\")\n",
    "    if substrate=='phenol':\n",
    "        sub = 'Phenol'\n",
    "    elif substrate=='glucose':\n",
    "        sub = 'Glucose'\n",
    "    else:\n",
    "        print(\"Unknown substrate\")\n",
    "    plt.title(r''+str(sub)+  ' 13C MFA vs. '+ str(method) + ' Fluxes for ' +linename, fontSize=20)\n",
    "    plt.xlabel(r'13C MFA flux (per 100 mmol '+str(sub)+  ' uptake)')\n",
    "    plt.ylabel(r''+ str(method) + ' flux (per 100 mmol of '+str(sub)+  ' uptake)')\n",
    "    plt.legend()\n",
    "    plt.show()"
   ]
  },
  {
   "cell_type": "code",
   "execution_count": 31,
   "id": "5c5cfa60-bd4e-4ae6-b1cc-634e2d7456ec",
   "metadata": {},
   "outputs": [
    {
     "data": {
      "image/png": "[encoded data removed]",
      "text/plain": [
       "<Figure size 576x576 with 1 Axes>"
      ]
     },
     "metadata": {
      "needs_background": "light"
     },
     "output_type": "display_data"
    }
   ],
   "source": [
    "scatterplotcomp_obs_vs_pred_withstd(obspred_fluxes, substrate='phenol', method='EFLUX2', linename='WT-P')"
   ]
  },
  {
   "cell_type": "markdown",
   "id": "5a1f94c6-ef82-4efe-85a2-26f15f30f158",
   "metadata": {},
   "source": [
    "##### **PVHG-P**"
   ]
  },
  {
   "cell_type": "code",
   "execution_count": 32,
   "id": "777fc0bf-a9dd-4167-b8f5-6e729ef2286d",
   "metadata": {},
   "outputs": [
    {
     "name": "stdout",
     "output_type": "stream",
     "text": [
      "FBA status optimal\n",
      "FBA solution 0.21161392734407572\n"
     ]
    },
    {
     "data": {
      "text/plain": [
       "<optlang.cplex_interface.Objective at 0x7f12e45c5e90>"
      ]
     },
     "metadata": {},
     "output_type": "display_data"
    },
    {
     "name": "stdout",
     "output_type": "stream",
     "text": [
      "EFlux2 status optimal\n",
      "EFlux2 solution 886.1624398900477\n"
     ]
    },
    {
     "data": {
      "text/plain": [
       "{'EX_h2o_e': inf,\n",
       " 'EX_h_e': inf,\n",
       " 'EX_cl_e': inf,\n",
       " 'EX_pi_e': inf,\n",
       " 'EX_nh4_e': inf,\n",
       " 'EX_fe3_e': inf,\n",
       " 'EX_k_e': inf,\n",
       " 'EX_ca2_e': inf,\n",
       " 'EX_mg2_e': inf,\n",
       " 'EX_mn2_e': inf,\n",
       " 'EX_cobalt2_e': inf,\n",
       " 'EX_zn2_e': inf,\n",
       " 'EX_cu2_e': inf,\n",
       " 'EX_o2_e': inf,\n",
       " 'EX_fe2_e': inf,\n",
       " 'EX_mobd_e': inf,\n",
       " 'EX_so4_e': inf,\n",
       " 'EX_phenol_e': 2.2159149894081693}"
      ]
     },
     "metadata": {},
     "output_type": "display_data"
    },
    {
     "name": "stdout",
     "output_type": "stream",
     "text": [
      "FBA status optimal\n",
      "FBA solution 0.21161392734407572\n"
     ]
    },
    {
     "data": {
      "text/plain": [
       "<optlang.cplex_interface.Objective at 0x7f12daf38710>"
      ]
     },
     "metadata": {},
     "output_type": "display_data"
    },
    {
     "name": "stdout",
     "output_type": "stream",
     "text": [
      "EFlux2 status optimal\n",
      "EFlux2 solution 886.1624398900477\n"
     ]
    },
    {
     "data": {
      "text/plain": [
       "{'EX_h2o_e': inf,\n",
       " 'EX_h_e': inf,\n",
       " 'EX_cl_e': inf,\n",
       " 'EX_pi_e': inf,\n",
       " 'EX_nh4_e': inf,\n",
       " 'EX_fe3_e': inf,\n",
       " 'EX_k_e': inf,\n",
       " 'EX_ca2_e': inf,\n",
       " 'EX_mg2_e': inf,\n",
       " 'EX_mn2_e': inf,\n",
       " 'EX_cobalt2_e': inf,\n",
       " 'EX_zn2_e': inf,\n",
       " 'EX_cu2_e': inf,\n",
       " 'EX_o2_e': inf,\n",
       " 'EX_fe2_e': inf,\n",
       " 'EX_mobd_e': inf,\n",
       " 'EX_so4_e': inf,\n",
       " 'EX_phenol_e': 2.2159149894081693}"
      ]
     },
     "metadata": {},
     "output_type": "display_data"
    },
    {
     "name": "stdout",
     "output_type": "stream",
     "text": [
      "FBA status optimal\n",
      "FBA solution 0.21161392734407572\n"
     ]
    },
    {
     "data": {
      "text/plain": [
       "<optlang.cplex_interface.Objective at 0x7f12d96ccdd0>"
      ]
     },
     "metadata": {},
     "output_type": "display_data"
    },
    {
     "name": "stdout",
     "output_type": "stream",
     "text": [
      "EFlux2 status optimal\n",
      "EFlux2 solution 886.1624398900477\n"
     ]
    },
    {
     "data": {
      "text/plain": [
       "{'EX_h2o_e': inf,\n",
       " 'EX_h_e': inf,\n",
       " 'EX_cl_e': inf,\n",
       " 'EX_pi_e': inf,\n",
       " 'EX_nh4_e': inf,\n",
       " 'EX_fe3_e': inf,\n",
       " 'EX_k_e': inf,\n",
       " 'EX_ca2_e': inf,\n",
       " 'EX_mg2_e': inf,\n",
       " 'EX_mn2_e': inf,\n",
       " 'EX_cobalt2_e': inf,\n",
       " 'EX_zn2_e': inf,\n",
       " 'EX_cu2_e': inf,\n",
       " 'EX_o2_e': inf,\n",
       " 'EX_fe2_e': inf,\n",
       " 'EX_mobd_e': inf,\n",
       " 'EX_so4_e': inf,\n",
       " 'EX_phenol_e': 2.2159149894081693}"
      ]
     },
     "metadata": {},
     "output_type": "display_data"
    }
   ],
   "source": [
    "eflux2sol_PVHG, eflux2sol_std_PVHG = eflux2predthreereps(model, df_Trans, 'PVHG-P-R1', 'PVHG-P-R2','PVHG-P-R3', 'phenol', growthandsubstrdata.loc['PVHG-P', 'substrate_consumption_rate'], '0.5 g/l PHE as carbon source')#eflux2sol, eflux2sol_std = eflux2spotpredthreereps(model, df_Trans2, 'WT-P-R1', 'WT-P-R2','WT-P-R3', 'phenol', 100)"
   ]
  },
  {
   "cell_type": "markdown",
   "id": "ba5d21eb-0654-408f-92ab-e93054ae0817",
   "metadata": {},
   "source": [
    "##### **Save solution to data frame**"
   ]
  },
  {
   "cell_type": "code",
   "execution_count": 33,
   "id": "36d76206-2ebb-499e-b437-89319069df0c",
   "metadata": {},
   "outputs": [],
   "source": [
    "eflux2soldf_PVHG = pd.DataFrame(eflux2sol_PVHG, columns=['fluxes'])\n",
    "eflux2solstddf_PVHG = pd.DataFrame(eflux2sol_std_PVHG, columns=['stds'])"
   ]
  },
  {
   "cell_type": "markdown",
   "id": "460c8217-add6-4044-81ef-9d7d55efd6d6",
   "metadata": {},
   "source": [
    "##### **Check External Metabolites solution**"
   ]
  },
  {
   "cell_type": "code",
   "execution_count": 34,
   "id": "2b0aada0-f161-4554-8909-4fa41848494d",
   "metadata": {},
   "outputs": [],
   "source": [
    "exchange_list = []\n",
    "for ind in eflux2soldf.index:\n",
    "    if 'EX_' in str(ind):\n",
    "        exchange_list.append(ind)"
   ]
  },
  {
   "cell_type": "code",
   "execution_count": 35,
   "id": "603eed6e-1392-483d-ab77-0afc7745082a",
   "metadata": {},
   "outputs": [
    {
     "data": {
      "text/plain": [
       "fluxes    3.954051\n",
       "Name: EX_h2o_e, dtype: float64"
      ]
     },
     "metadata": {},
     "output_type": "display_data"
    },
    {
     "data": {
      "text/plain": [
       "fluxes    0.712634\n",
       "Name: EX_h_e, dtype: float64"
      ]
     },
     "metadata": {},
     "output_type": "display_data"
    },
    {
     "data": {
      "text/plain": [
       "fluxes   -0.000777\n",
       "Name: EX_cl_e, dtype: float64"
      ]
     },
     "metadata": {},
     "output_type": "display_data"
    },
    {
     "data": {
      "text/plain": [
       "fluxes   -0.323261\n",
       "Name: EX_pi_e, dtype: float64"
      ]
     },
     "metadata": {},
     "output_type": "display_data"
    },
    {
     "data": {
      "text/plain": [
       "fluxes   -1.003231\n",
       "Name: EX_nh4_e, dtype: float64"
      ]
     },
     "metadata": {},
     "output_type": "display_data"
    },
    {
     "data": {
      "text/plain": [
       "fluxes   -0.001165\n",
       "Name: EX_fe3_e, dtype: float64"
      ]
     },
     "metadata": {},
     "output_type": "display_data"
    },
    {
     "data": {
      "text/plain": [
       "fluxes   -0.029133\n",
       "Name: EX_k_e, dtype: float64"
      ]
     },
     "metadata": {},
     "output_type": "display_data"
    },
    {
     "data": {
      "text/plain": [
       "fluxes   -0.000777\n",
       "Name: EX_ca2_e, dtype: float64"
      ]
     },
     "metadata": {},
     "output_type": "display_data"
    },
    {
     "data": {
      "text/plain": [
       "fluxes   -0.001295\n",
       "Name: EX_mg2_e, dtype: float64"
      ]
     },
     "metadata": {},
     "output_type": "display_data"
    },
    {
     "data": {
      "text/plain": [
       "fluxes   -0.000103\n",
       "Name: EX_mn2_e, dtype: float64"
      ]
     },
     "metadata": {},
     "output_type": "display_data"
    },
    {
     "data": {
      "text/plain": [
       "fluxes    5.798726\n",
       "Name: EX_co2_e, dtype: float64"
      ]
     },
     "metadata": {},
     "output_type": "display_data"
    },
    {
     "data": {
      "text/plain": [
       "fluxes   -0.000106\n",
       "Name: EX_cu2_e, dtype: float64"
      ]
     },
     "metadata": {},
     "output_type": "display_data"
    },
    {
     "data": {
      "text/plain": [
       "fluxes   -7.580176\n",
       "Name: EX_o2_e, dtype: float64"
      ]
     },
     "metadata": {},
     "output_type": "display_data"
    },
    {
     "data": {
      "text/plain": [
       "fluxes   -0.001002\n",
       "Name: EX_fe2_e, dtype: float64"
      ]
     },
     "metadata": {},
     "output_type": "display_data"
    },
    {
     "data": {
      "text/plain": [
       "fluxes   -0.008656\n",
       "Name: EX_so4_e, dtype: float64"
      ]
     },
     "metadata": {},
     "output_type": "display_data"
    },
    {
     "data": {
      "text/plain": [
       "fluxes   -1.761236\n",
       "Name: EX_phenol_e, dtype: float64"
      ]
     },
     "metadata": {},
     "output_type": "display_data"
    }
   ],
   "source": [
    "eflux2soldf.loc[exchange_list,:]\n",
    "for i in exchange_list:\n",
    "    if abs(eflux2soldf.loc[i,:].values)>=0.0001:\n",
    "        display(eflux2soldf.loc[i,:])"
   ]
  },
  {
   "cell_type": "markdown",
   "id": "48d26397-9e8d-42e2-8b8a-d4588e126da7",
   "metadata": {},
   "source": [
    "##### **Check FBA solution**"
   ]
  },
  {
   "cell_type": "code",
   "execution_count": 36,
   "id": "42f5a5e3-4af6-4284-b820-2cdde6fe4d38",
   "metadata": {},
   "outputs": [
    {
     "name": "stdout",
     "output_type": "stream",
     "text": [
      "Unbounded FBA status optimal\n",
      "Unbounded FBA solution 0.801735654966415\n"
     ]
    }
   ],
   "source": [
    "with model:\n",
    "    medium = model.medium\n",
    "    model.objective = 'Growth_Phenol'\n",
    "    model.reactions.get_by_id('Growth_Glucose').upper_bound = 0\n",
    "    model.reactions.get_by_id('Growth_Glucose').lower_bound = 0\n",
    "    #sub_uptake_rate = 1.76124#just copied value to test it\n",
    "    #medium[\"EX_phenol_e\"] = sub_uptake_rate\n",
    "    model.medium = medium\n",
    "    # solve FBA to calculate the maximum biomass\n",
    "    boundedfba_sol = model.optimize()\n",
    "    print('Unbounded FBA status', boundedfba_sol.status)\n",
    "    print('Unbounded FBA solution', boundedfba_sol.objective_value)"
   ]
  },
  {
   "cell_type": "markdown",
   "id": "e64efce7-6d07-4488-bef0-35c60bf67d7a",
   "metadata": {},
   "source": [
    "##### **Add  Phenol PVHG EFLUX2 and SPOT flux values to phenol fluxes dataframe**"
   ]
  },
  {
   "cell_type": "code",
   "execution_count": 37,
   "id": "e2423063-4b88-4f85-b8a1-358b507f8fdc",
   "metadata": {},
   "outputs": [
    {
     "data": {
      "text/plain": [
       "'factor'"
      ]
     },
     "metadata": {},
     "output_type": "display_data"
    },
    {
     "data": {
      "text/plain": [
       "fluxes    45.128085\n",
       "Name: EX_phenol_e, dtype: float64"
      ]
     },
     "metadata": {},
     "output_type": "display_data"
    }
   ],
   "source": [
    "obspred_fluxes2 = addpredfluxes_to13cdf(obspred_fluxes, eflux2soldf_PVHG, eflux2solstddf_PVHG, 'phenol', 'EFLUX2')"
   ]
  },
  {
   "cell_type": "code",
   "execution_count": 38,
   "id": "6bc5abd9-c0a0-4f57-bf89-b9a923af0300",
   "metadata": {},
   "outputs": [
    {
     "data": {
      "text/html": [
       "<div>\n",
       "<style scoped>\n",
       "    .dataframe tbody tr th:only-of-type {\n",
       "        vertical-align: middle;\n",
       "    }\n",
       "\n",
       "    .dataframe tbody tr th {\n",
       "        vertical-align: top;\n",
       "    }\n",
       "\n",
       "    .dataframe thead th {\n",
       "        text-align: right;\n",
       "    }\n",
       "</style>\n",
       "<table border=\"1\" class=\"dataframe\">\n",
       "  <thead>\n",
       "    <tr style=\"text-align: right;\">\n",
       "      <th></th>\n",
       "      <th>Pathway</th>\n",
       "      <th>Forward Reactions</th>\n",
       "      <th>Reaction</th>\n",
       "      <th>Location on map</th>\n",
       "      <th>Flux</th>\n",
       "      <th>90% Confidence Lower Bound</th>\n",
       "      <th>90% Confidence Upper Bound</th>\n",
       "      <th>EFLUX2 Value</th>\n",
       "      <th>EFLUX2 std Value</th>\n",
       "    </tr>\n",
       "  </thead>\n",
       "  <tbody>\n",
       "    <tr>\n",
       "      <th>0</th>\n",
       "      <td>Phenol Uptake</td>\n",
       "      <td>PHEMOX</td>\n",
       "      <td>Phenol.ext -&gt; AcCoA + SucCoA</td>\n",
       "      <td>( 80, -450)</td>\n",
       "      <td>1.000000e+02</td>\n",
       "      <td>1.000000e+02</td>\n",
       "      <td>100.0000</td>\n",
       "      <td>100.000000</td>\n",
       "      <td>0.000000e+00</td>\n",
       "    </tr>\n",
       "    <tr>\n",
       "      <th>1</th>\n",
       "      <td>EMP Pathway</td>\n",
       "      <td>PGI</td>\n",
       "      <td>G6P &lt;-&gt; F6P</td>\n",
       "      <td>(-150, 430)</td>\n",
       "      <td>-4.793000e-01</td>\n",
       "      <td>-1.421900e+00</td>\n",
       "      <td>0.9306</td>\n",
       "      <td>-4.243637</td>\n",
       "      <td>1.699675e-17</td>\n",
       "    </tr>\n",
       "    <tr>\n",
       "      <th>2</th>\n",
       "      <td>EMP Pathway</td>\n",
       "      <td>PFK or reverse_FBP</td>\n",
       "      <td>F6P + ATP -&gt; FBP</td>\n",
       "      <td>(-220, 195)</td>\n",
       "      <td>-2.000000e+00</td>\n",
       "      <td>-2.000000e+00</td>\n",
       "      <td>-0.7683</td>\n",
       "      <td>-15.462221</td>\n",
       "      <td>0.000000e+00</td>\n",
       "    </tr>\n",
       "    <tr>\n",
       "      <th>3</th>\n",
       "      <td>EMP Pathway</td>\n",
       "      <td>FBA</td>\n",
       "      <td>FBP &lt;-&gt; DHAP + GAP</td>\n",
       "      <td>(-140, 115)</td>\n",
       "      <td>-2.000000e+00</td>\n",
       "      <td>-2.000000e+00</td>\n",
       "      <td>-0.7683</td>\n",
       "      <td>-15.462221</td>\n",
       "      <td>0.000000e+00</td>\n",
       "    </tr>\n",
       "    <tr>\n",
       "      <th>4</th>\n",
       "      <td>EMP Pathway</td>\n",
       "      <td>TPI</td>\n",
       "      <td>DHAP &lt;-&gt; GAP</td>\n",
       "      <td>(-270, 150)</td>\n",
       "      <td>-2.000000e+00</td>\n",
       "      <td>-2.000000e+00</td>\n",
       "      <td>-0.7683</td>\n",
       "      <td>-28.629104</td>\n",
       "      <td>0.000000e+00</td>\n",
       "    </tr>\n",
       "    <tr>\n",
       "      <th>5</th>\n",
       "      <td>EMP Pathway</td>\n",
       "      <td>GAPD</td>\n",
       "      <td>GAP &lt;-&gt; G1,3P</td>\n",
       "      <td>(-220, 30)</td>\n",
       "      <td>-1.079070e+01</td>\n",
       "      <td>-1.122350e+01</td>\n",
       "      <td>-9.1040</td>\n",
       "      <td>-47.017012</td>\n",
       "      <td>0.000000e+00</td>\n",
       "    </tr>\n",
       "    <tr>\n",
       "      <th>6</th>\n",
       "      <td>EMP Pathway</td>\n",
       "      <td>reverse_PGK</td>\n",
       "      <td>G1,3P &lt;-&gt; 3PG + ATP + NADH</td>\n",
       "      <td>(-220, -55)</td>\n",
       "      <td>-1.079070e+01</td>\n",
       "      <td>-1.122350e+01</td>\n",
       "      <td>-9.1040</td>\n",
       "      <td>-47.017012</td>\n",
       "      <td>0.000000e+00</td>\n",
       "    </tr>\n",
       "    <tr>\n",
       "      <th>7</th>\n",
       "      <td>EMP Pathway</td>\n",
       "      <td>PGM_1 or reverse_PGM</td>\n",
       "      <td>3PG &lt;-&gt; 2PG</td>\n",
       "      <td>(-220, -135)</td>\n",
       "      <td>-1.625380e+01</td>\n",
       "      <td>-1.695560e+01</td>\n",
       "      <td>-13.6034</td>\n",
       "      <td>-54.959072</td>\n",
       "      <td>0.000000e+00</td>\n",
       "    </tr>\n",
       "    <tr>\n",
       "      <th>8</th>\n",
       "      <td>EMP Pathway</td>\n",
       "      <td>ENO</td>\n",
       "      <td>2PG &lt;-&gt; PEP</td>\n",
       "      <td>(-220, -215)</td>\n",
       "      <td>-1.625380e+01</td>\n",
       "      <td>-1.695560e+01</td>\n",
       "      <td>-13.6034</td>\n",
       "      <td>-54.959072</td>\n",
       "      <td>0.000000e+00</td>\n",
       "    </tr>\n",
       "    <tr>\n",
       "      <th>9</th>\n",
       "      <td>EMP Pathway</td>\n",
       "      <td>PPS or reverse_FRUpts2pp or reverse_SBTpts or ...</td>\n",
       "      <td>PEP &lt;-&gt; Pyr + ATP</td>\n",
       "      <td>(-220, -295)</td>\n",
       "      <td>2.999990e+01</td>\n",
       "      <td>0.000000e+00</td>\n",
       "      <td>30.0000</td>\n",
       "      <td>0.000000</td>\n",
       "      <td>0.000000e+00</td>\n",
       "    </tr>\n",
       "    <tr>\n",
       "      <th>10</th>\n",
       "      <td>Pentose Phosphate Pathway</td>\n",
       "      <td>G6PDH2r and PGL</td>\n",
       "      <td>G6P &lt;-&gt; 6PG + NADPH</td>\n",
       "      <td>(50, 380)</td>\n",
       "      <td>-5.767000e-01</td>\n",
       "      <td>-2.018100e+00</td>\n",
       "      <td>0.3824</td>\n",
       "      <td>0.000000</td>\n",
       "      <td>0.000000e+00</td>\n",
       "    </tr>\n",
       "    <tr>\n",
       "      <th>11</th>\n",
       "      <td>Pentose Phosphate Pathway</td>\n",
       "      <td>GND</td>\n",
       "      <td>6PG &lt;-&gt; Ru5P + CO2 + NADPH</td>\n",
       "      <td>(275, 350)</td>\n",
       "      <td>4.646000e-01</td>\n",
       "      <td>-1.659900e+00</td>\n",
       "      <td>1.8755</td>\n",
       "      <td>0.000000</td>\n",
       "      <td>0.000000e+00</td>\n",
       "    </tr>\n",
       "    <tr>\n",
       "      <th>12</th>\n",
       "      <td>Pentose Phosphate Pathway</td>\n",
       "      <td>RPE</td>\n",
       "      <td>Ru5P &lt;-&gt; X5P</td>\n",
       "      <td>(380, 190)</td>\n",
       "      <td>-1.187400e+00</td>\n",
       "      <td>-2.611500e+00</td>\n",
       "      <td>-0.2468</td>\n",
       "      <td>-5.289208</td>\n",
       "      <td>0.000000e+00</td>\n",
       "    </tr>\n",
       "    <tr>\n",
       "      <th>13</th>\n",
       "      <td>Pentose Phosphate Pathway</td>\n",
       "      <td>reverse_RPI</td>\n",
       "      <td>Ru5P &lt;-&gt; R5P</td>\n",
       "      <td>(270, 230)</td>\n",
       "      <td>1.652100e+00</td>\n",
       "      <td>9.081000e-01</td>\n",
       "      <td>2.1385</td>\n",
       "      <td>5.280957</td>\n",
       "      <td>0.000000e+00</td>\n",
       "    </tr>\n",
       "    <tr>\n",
       "      <th>14</th>\n",
       "      <td>Pentose Phosphate Pathway</td>\n",
       "      <td>TKT2</td>\n",
       "      <td>X5P &lt;-&gt; TKC2 + GAP</td>\n",
       "      <td>(270, 100)</td>\n",
       "      <td>-1.187400e+00</td>\n",
       "      <td>-2.611500e+00</td>\n",
       "      <td>-0.2468</td>\n",
       "      <td>-3.027256</td>\n",
       "      <td>0.000000e+00</td>\n",
       "    </tr>\n",
       "    <tr>\n",
       "      <th>15</th>\n",
       "      <td>Pentose Phosphate Pathway</td>\n",
       "      <td>TKT2</td>\n",
       "      <td>TKC2 + E4P &lt;-&gt; F6P</td>\n",
       "      <td>(10, 280)</td>\n",
       "      <td>-1.187400e+00</td>\n",
       "      <td>-1.909000e+00</td>\n",
       "      <td>-0.7099</td>\n",
       "      <td>-3.027256</td>\n",
       "      <td>0.000000e+00</td>\n",
       "    </tr>\n",
       "    <tr>\n",
       "      <th>16</th>\n",
       "      <td>Pentose Phosphate Pathway</td>\n",
       "      <td>TKT1</td>\n",
       "      <td>TKC2 + R5P &lt;-&gt; S7P</td>\n",
       "      <td>(120, 230)</td>\n",
       "      <td>2.130000e-14</td>\n",
       "      <td>-7.076000e-01</td>\n",
       "      <td>0.4698</td>\n",
       "      <td>-2.261952</td>\n",
       "      <td>8.498375e-18</td>\n",
       "    </tr>\n",
       "    <tr>\n",
       "      <th>17</th>\n",
       "      <td>Pentose Phosphate Pathway</td>\n",
       "      <td>TALA</td>\n",
       "      <td>TAC3 + GAP &lt;-&gt; F6P</td>\n",
       "      <td>(-70, 190)</td>\n",
       "      <td>7.110000e-15</td>\n",
       "      <td>-7.076000e-01</td>\n",
       "      <td>0.4698</td>\n",
       "      <td>-2.261952</td>\n",
       "      <td>8.498375e-18</td>\n",
       "    </tr>\n",
       "    <tr>\n",
       "      <th>18</th>\n",
       "      <td>Pentose Phosphate Pathway</td>\n",
       "      <td>reverse_TALA</td>\n",
       "      <td>S7P &lt;-&gt; TAC3 + E4P</td>\n",
       "      <td>(50, 230)</td>\n",
       "      <td>8.530000e-14</td>\n",
       "      <td>-7.076000e-01</td>\n",
       "      <td>0.4698</td>\n",
       "      <td>2.261952</td>\n",
       "      <td>-8.498375e-18</td>\n",
       "    </tr>\n",
       "    <tr>\n",
       "      <th>19</th>\n",
       "      <td>ED Pathway</td>\n",
       "      <td>EDA</td>\n",
       "      <td>6PG &lt;-&gt; KDPG</td>\n",
       "      <td>(-300, 350)</td>\n",
       "      <td>-1.041300e+00</td>\n",
       "      <td>-2.524300e+00</td>\n",
       "      <td>0.2447</td>\n",
       "      <td>0.000000</td>\n",
       "      <td>0.000000e+00</td>\n",
       "    </tr>\n",
       "    <tr>\n",
       "      <th>20</th>\n",
       "      <td>ED Pathway</td>\n",
       "      <td>EDD</td>\n",
       "      <td>KDPG &lt;-&gt; Pyr + GAP</td>\n",
       "      <td>(-300, 50)</td>\n",
       "      <td>-1.041300e+00</td>\n",
       "      <td>-2.524300e+00</td>\n",
       "      <td>0.2447</td>\n",
       "      <td>0.000000</td>\n",
       "      <td>0.000000e+00</td>\n",
       "    </tr>\n",
       "    <tr>\n",
       "      <th>21</th>\n",
       "      <td>TCA Cycle</td>\n",
       "      <td>PDH</td>\n",
       "      <td>Pyr &lt;-&gt; AcCoA + CO2 + NADH</td>\n",
       "      <td>(-220, -370)</td>\n",
       "      <td>5.923270e+01</td>\n",
       "      <td>5.668260e+01</td>\n",
       "      <td>62.0459</td>\n",
       "      <td>9.462404</td>\n",
       "      <td>3.399350e-17</td>\n",
       "    </tr>\n",
       "    <tr>\n",
       "      <th>22</th>\n",
       "      <td>TCA Cycle</td>\n",
       "      <td>CS or reverse_CITL</td>\n",
       "      <td>OAC + AcCoA -&gt; Cit</td>\n",
       "      <td>(-55, -340)</td>\n",
       "      <td>1.144391e+02</td>\n",
       "      <td>1.102766e+02</td>\n",
       "      <td>118.4800</td>\n",
       "      <td>101.389017</td>\n",
       "      <td>0.000000e+00</td>\n",
       "    </tr>\n",
       "    <tr>\n",
       "      <th>23</th>\n",
       "      <td>TCA Cycle</td>\n",
       "      <td>ACONT or ( ACONTa and ACONTb)</td>\n",
       "      <td>Cit -&gt; ICit</td>\n",
       "      <td>(145, -310)</td>\n",
       "      <td>1.144391e+02</td>\n",
       "      <td>1.102766e+02</td>\n",
       "      <td>118.4800</td>\n",
       "      <td>101.389017</td>\n",
       "      <td>0.000000e+00</td>\n",
       "    </tr>\n",
       "    <tr>\n",
       "      <th>24</th>\n",
       "      <td>TCA Cycle</td>\n",
       "      <td>ICDHx or ICDHyr</td>\n",
       "      <td>ICit -&gt; AKG + CO2 + NADPH</td>\n",
       "      <td>(290, -310)</td>\n",
       "      <td>1.134677e+02</td>\n",
       "      <td>1.068011e+02</td>\n",
       "      <td>118.4800</td>\n",
       "      <td>101.389017</td>\n",
       "      <td>0.000000e+00</td>\n",
       "    </tr>\n",
       "    <tr>\n",
       "      <th>25</th>\n",
       "      <td>TCA Cycle</td>\n",
       "      <td>AKGDH or OOR3r</td>\n",
       "      <td>AKG -&gt; SucCoA + CO2 + NADH</td>\n",
       "      <td>(290, -195)</td>\n",
       "      <td>1.086053e+02</td>\n",
       "      <td>1.017297e+02</td>\n",
       "      <td>113.8305</td>\n",
       "      <td>47.210352</td>\n",
       "      <td>1.359740e-16</td>\n",
       "    </tr>\n",
       "    <tr>\n",
       "      <th>26</th>\n",
       "      <td>TCA Cycle</td>\n",
       "      <td>3OADPCOAT or OCOAT3r or SUCBZT1 or SUCBZT2 or ...</td>\n",
       "      <td>SucCoA -&gt; Suc + ATP</td>\n",
       "      <td>(290, -55)</td>\n",
       "      <td>2.074789e+02</td>\n",
       "      <td>2.005620e+02</td>\n",
       "      <td>212.7536</td>\n",
       "      <td>93.997336</td>\n",
       "      <td>0.000000e+00</td>\n",
       "    </tr>\n",
       "    <tr>\n",
       "      <th>27</th>\n",
       "      <td>TCA Cycle</td>\n",
       "      <td>SUCDi or reverse_FRD2 or reverse_FRD3 or rever...</td>\n",
       "      <td>Suc -&gt; Fum + FADH2</td>\n",
       "      <td>(160, -55)</td>\n",
       "      <td>2.085767e+02</td>\n",
       "      <td>2.032666e+02</td>\n",
       "      <td>212.8305</td>\n",
       "      <td>97.647739</td>\n",
       "      <td>0.000000e+00</td>\n",
       "    </tr>\n",
       "    <tr>\n",
       "      <th>28</th>\n",
       "      <td>TCA Cycle</td>\n",
       "      <td>FUM</td>\n",
       "      <td>Fum -&gt; Mal</td>\n",
       "      <td>(10, -55)</td>\n",
       "      <td>2.096703e+02</td>\n",
       "      <td>2.043514e+02</td>\n",
       "      <td>213.8762</td>\n",
       "      <td>104.468047</td>\n",
       "      <td>0.000000e+00</td>\n",
       "    </tr>\n",
       "    <tr>\n",
       "      <th>29</th>\n",
       "      <td>TCA Cycle</td>\n",
       "      <td>MDH or MDH3 or MDH2 or DMALRED</td>\n",
       "      <td>Mal -&gt; OAC + NADH</td>\n",
       "      <td>(-60, -180)</td>\n",
       "      <td>1.710231e+02</td>\n",
       "      <td>1.292999e+02</td>\n",
       "      <td>174.5648</td>\n",
       "      <td>104.476298</td>\n",
       "      <td>0.000000e+00</td>\n",
       "    </tr>\n",
       "    <tr>\n",
       "      <th>30</th>\n",
       "      <td>Glyoxylate Shunt</td>\n",
       "      <td>ICL</td>\n",
       "      <td>ICit -&gt; Glyox + Suc</td>\n",
       "      <td>(180, -140)</td>\n",
       "      <td>9.714000e-01</td>\n",
       "      <td>7.110000e-15</td>\n",
       "      <td>4.5567</td>\n",
       "      <td>0.000000</td>\n",
       "      <td>0.000000e+00</td>\n",
       "    </tr>\n",
       "    <tr>\n",
       "      <th>31</th>\n",
       "      <td>Glyoxylate Shunt</td>\n",
       "      <td>MALS</td>\n",
       "      <td>Glyox + AcCoA -&gt; Mal</td>\n",
       "      <td>(90, -140)</td>\n",
       "      <td>9.714000e-01</td>\n",
       "      <td>0.000000e+00</td>\n",
       "      <td>4.5567</td>\n",
       "      <td>0.008251</td>\n",
       "      <td>3.319678e-20</td>\n",
       "    </tr>\n",
       "    <tr>\n",
       "      <th>32</th>\n",
       "      <td>Anaplerotic Reactions</td>\n",
       "      <td>PEPCK_re or PPCK</td>\n",
       "      <td>OAC + ATP -&gt; PEP + CO2</td>\n",
       "      <td>NaN</td>\n",
       "      <td>9.777180e+01</td>\n",
       "      <td>1.292690e+01</td>\n",
       "      <td>100.0000</td>\n",
       "      <td>58.148164</td>\n",
       "      <td>0.000000e+00</td>\n",
       "    </tr>\n",
       "    <tr>\n",
       "      <th>33</th>\n",
       "      <td>Anaplerotic Reactions</td>\n",
       "      <td>PPC</td>\n",
       "      <td>PEP + CO2 -&gt; OAC</td>\n",
       "      <td>NaN</td>\n",
       "      <td>4.890390e+01</td>\n",
       "      <td>0.000000e+00</td>\n",
       "      <td>59.1635</td>\n",
       "      <td>0.000000</td>\n",
       "      <td>0.000000e+00</td>\n",
       "    </tr>\n",
       "    <tr>\n",
       "      <th>34</th>\n",
       "      <td>Anaplerotic Reactions</td>\n",
       "      <td>PC</td>\n",
       "      <td>Pyr + CO2 + ATP -&gt; OAC</td>\n",
       "      <td>NaN</td>\n",
       "      <td>1.000000e-07</td>\n",
       "      <td>0.000000e+00</td>\n",
       "      <td>44.8577</td>\n",
       "      <td>70.089053</td>\n",
       "      <td>0.000000e+00</td>\n",
       "    </tr>\n",
       "    <tr>\n",
       "      <th>35</th>\n",
       "      <td>Anaplerotic Reactions</td>\n",
       "      <td>ME1 or ME2</td>\n",
       "      <td>Mal &lt;-&gt; Pyr + CO2 + NADH</td>\n",
       "      <td>NaN</td>\n",
       "      <td>3.961870e+01</td>\n",
       "      <td>3.704340e+01</td>\n",
       "      <td>100.0000</td>\n",
       "      <td>0.000000</td>\n",
       "      <td>0.000000e+00</td>\n",
       "    </tr>\n",
       "    <tr>\n",
       "      <th>64</th>\n",
       "      <td>Transhydrogenation</td>\n",
       "      <td>FRNDPR2r or FLNDPR2r or reverse_NADTRHD</td>\n",
       "      <td>NADH &lt;-&gt; NADPH</td>\n",
       "      <td>NaN</td>\n",
       "      <td>1.443160e+01</td>\n",
       "      <td>1.108700e+00</td>\n",
       "      <td>27.2447</td>\n",
       "      <td>0.000000</td>\n",
       "      <td>0.000000e+00</td>\n",
       "    </tr>\n",
       "    <tr>\n",
       "      <th>65</th>\n",
       "      <td>Transport</td>\n",
       "      <td>ATPM</td>\n",
       "      <td>ATP -&gt; ATP.ext</td>\n",
       "      <td>NaN</td>\n",
       "      <td>6.800864e+02</td>\n",
       "      <td>6.131475e+02</td>\n",
       "      <td>787.5166</td>\n",
       "      <td>0.000000</td>\n",
       "      <td>0.000000e+00</td>\n",
       "    </tr>\n",
       "    <tr>\n",
       "      <th>66</th>\n",
       "      <td>Transport</td>\n",
       "      <td>reverse_CO2t</td>\n",
       "      <td>CO2 -&gt; CO2.ext</td>\n",
       "      <td>NaN</td>\n",
       "      <td>3.764570e+02</td>\n",
       "      <td>3.650427e+02</td>\n",
       "      <td>386.6854</td>\n",
       "      <td>303.773425</td>\n",
       "      <td>0.000000e+00</td>\n",
       "    </tr>\n",
       "    <tr>\n",
       "      <th>68</th>\n",
       "      <td>Transport</td>\n",
       "      <td>O2t</td>\n",
       "      <td>O2.ext -&gt; O2</td>\n",
       "      <td>NaN</td>\n",
       "      <td>4.336956e+02</td>\n",
       "      <td>4.207564e+02</td>\n",
       "      <td>445.9396</td>\n",
       "      <td>405.029149</td>\n",
       "      <td>0.000000e+00</td>\n",
       "    </tr>\n",
       "    <tr>\n",
       "      <th>69</th>\n",
       "      <td>Transport</td>\n",
       "      <td>NH4t</td>\n",
       "      <td>NH3.ext -&gt; NH3</td>\n",
       "      <td>NaN</td>\n",
       "      <td>2.575270e+01</td>\n",
       "      <td>2.412740e+01</td>\n",
       "      <td>27.0206</td>\n",
       "      <td>41.546515</td>\n",
       "      <td>0.000000e+00</td>\n",
       "    </tr>\n",
       "    <tr>\n",
       "      <th>70</th>\n",
       "      <td>Transport</td>\n",
       "      <td>SO4t2</td>\n",
       "      <td>SO4.ext -&gt; SO4</td>\n",
       "      <td>NaN</td>\n",
       "      <td>4.177000e-01</td>\n",
       "      <td>3.913000e-01</td>\n",
       "      <td>0.4383</td>\n",
       "      <td>0.537715</td>\n",
       "      <td>0.000000e+00</td>\n",
       "    </tr>\n",
       "    <tr>\n",
       "      <th>71</th>\n",
       "      <td>Biomass Equation</td>\n",
       "      <td>Growth or Growth_Phenol or Growth_Glucose</td>\n",
       "      <td>0.515*Ala + 0.174*Arg + 0.153*Asn + 0.439*Asp ...</td>\n",
       "      <td>NaN</td>\n",
       "      <td>4.693400e+00</td>\n",
       "      <td>4.397200e+00</td>\n",
       "      <td>4.9245</td>\n",
       "      <td>9.549731</td>\n",
       "      <td>0.000000e+00</td>\n",
       "    </tr>\n",
       "  </tbody>\n",
       "</table>\n",
       "</div>"
      ],
      "text/plain": [
       "                      Pathway  \\\n",
       "0               Phenol Uptake   \n",
       "1                 EMP Pathway   \n",
       "2                 EMP Pathway   \n",
       "3                 EMP Pathway   \n",
       "4                 EMP Pathway   \n",
       "5                 EMP Pathway   \n",
       "6                 EMP Pathway   \n",
       "7                 EMP Pathway   \n",
       "8                 EMP Pathway   \n",
       "9                 EMP Pathway   \n",
       "10  Pentose Phosphate Pathway   \n",
       "11  Pentose Phosphate Pathway   \n",
       "12  Pentose Phosphate Pathway   \n",
       "13  Pentose Phosphate Pathway   \n",
       "14  Pentose Phosphate Pathway   \n",
       "15  Pentose Phosphate Pathway   \n",
       "16  Pentose Phosphate Pathway   \n",
       "17  Pentose Phosphate Pathway   \n",
       "18  Pentose Phosphate Pathway   \n",
       "19                 ED Pathway   \n",
       "20                 ED Pathway   \n",
       "21                  TCA Cycle   \n",
       "22                  TCA Cycle   \n",
       "23                  TCA Cycle   \n",
       "24                  TCA Cycle   \n",
       "25                  TCA Cycle   \n",
       "26                  TCA Cycle   \n",
       "27                  TCA Cycle   \n",
       "28                  TCA Cycle   \n",
       "29                  TCA Cycle   \n",
       "30           Glyoxylate Shunt   \n",
       "31           Glyoxylate Shunt   \n",
       "32      Anaplerotic Reactions   \n",
       "33      Anaplerotic Reactions   \n",
       "34      Anaplerotic Reactions   \n",
       "35      Anaplerotic Reactions   \n",
       "64         Transhydrogenation   \n",
       "65                  Transport   \n",
       "66                  Transport   \n",
       "68                  Transport   \n",
       "69                  Transport   \n",
       "70                  Transport   \n",
       "71           Biomass Equation   \n",
       "\n",
       "                                    Forward Reactions  \\\n",
       "0                                              PHEMOX   \n",
       "1                                                 PGI   \n",
       "2                                  PFK or reverse_FBP   \n",
       "3                                                 FBA   \n",
       "4                                                 TPI   \n",
       "5                                                GAPD   \n",
       "6                                         reverse_PGK   \n",
       "7                                PGM_1 or reverse_PGM   \n",
       "8                                                 ENO   \n",
       "9   PPS or reverse_FRUpts2pp or reverse_SBTpts or ...   \n",
       "10                                    G6PDH2r and PGL   \n",
       "11                                                GND   \n",
       "12                                                RPE   \n",
       "13                                        reverse_RPI   \n",
       "14                                               TKT2   \n",
       "15                                               TKT2   \n",
       "16                                               TKT1   \n",
       "17                                               TALA   \n",
       "18                                       reverse_TALA   \n",
       "19                                                EDA   \n",
       "20                                                EDD   \n",
       "21                                                PDH   \n",
       "22                                 CS or reverse_CITL   \n",
       "23                      ACONT or ( ACONTa and ACONTb)   \n",
       "24                                    ICDHx or ICDHyr   \n",
       "25                                     AKGDH or OOR3r   \n",
       "26  3OADPCOAT or OCOAT3r or SUCBZT1 or SUCBZT2 or ...   \n",
       "27  SUCDi or reverse_FRD2 or reverse_FRD3 or rever...   \n",
       "28                                                FUM   \n",
       "29                     MDH or MDH3 or MDH2 or DMALRED   \n",
       "30                                                ICL   \n",
       "31                                               MALS   \n",
       "32                                   PEPCK_re or PPCK   \n",
       "33                                                PPC   \n",
       "34                                                 PC   \n",
       "35                                         ME1 or ME2   \n",
       "64            FRNDPR2r or FLNDPR2r or reverse_NADTRHD   \n",
       "65                                               ATPM   \n",
       "66                                       reverse_CO2t   \n",
       "68                                                O2t   \n",
       "69                                               NH4t   \n",
       "70                                              SO4t2   \n",
       "71          Growth or Growth_Phenol or Growth_Glucose   \n",
       "\n",
       "                                             Reaction Location on map  \\\n",
       "0                        Phenol.ext -> AcCoA + SucCoA     ( 80, -450)   \n",
       "1                                         G6P <-> F6P     (-150, 430)   \n",
       "2                                    F6P + ATP -> FBP     (-220, 195)   \n",
       "3                                  FBP <-> DHAP + GAP     (-140, 115)   \n",
       "4                                        DHAP <-> GAP     (-270, 150)   \n",
       "5                                       GAP <-> G1,3P      (-220, 30)   \n",
       "6                          G1,3P <-> 3PG + ATP + NADH     (-220, -55)   \n",
       "7                                         3PG <-> 2PG    (-220, -135)   \n",
       "8                                         2PG <-> PEP    (-220, -215)   \n",
       "9                                   PEP <-> Pyr + ATP    (-220, -295)   \n",
       "10                                G6P <-> 6PG + NADPH       (50, 380)   \n",
       "11                         6PG <-> Ru5P + CO2 + NADPH      (275, 350)   \n",
       "12                                       Ru5P <-> X5P      (380, 190)   \n",
       "13                                       Ru5P <-> R5P      (270, 230)   \n",
       "14                                 X5P <-> TKC2 + GAP      (270, 100)   \n",
       "15                                 TKC2 + E4P <-> F6P       (10, 280)   \n",
       "16                                 TKC2 + R5P <-> S7P      (120, 230)   \n",
       "17                                 TAC3 + GAP <-> F6P      (-70, 190)   \n",
       "18                                 S7P <-> TAC3 + E4P       (50, 230)   \n",
       "19                                       6PG <-> KDPG     (-300, 350)   \n",
       "20                                 KDPG <-> Pyr + GAP      (-300, 50)   \n",
       "21                         Pyr <-> AcCoA + CO2 + NADH    (-220, -370)   \n",
       "22                                 OAC + AcCoA -> Cit     (-55, -340)   \n",
       "23                                        Cit -> ICit     (145, -310)   \n",
       "24                          ICit -> AKG + CO2 + NADPH     (290, -310)   \n",
       "25                         AKG -> SucCoA + CO2 + NADH     (290, -195)   \n",
       "26                                SucCoA -> Suc + ATP      (290, -55)   \n",
       "27                                 Suc -> Fum + FADH2      (160, -55)   \n",
       "28                                         Fum -> Mal       (10, -55)   \n",
       "29                                  Mal -> OAC + NADH     (-60, -180)   \n",
       "30                                ICit -> Glyox + Suc     (180, -140)   \n",
       "31                               Glyox + AcCoA -> Mal      (90, -140)   \n",
       "32                             OAC + ATP -> PEP + CO2             NaN   \n",
       "33                                   PEP + CO2 -> OAC             NaN   \n",
       "34                             Pyr + CO2 + ATP -> OAC             NaN   \n",
       "35                           Mal <-> Pyr + CO2 + NADH             NaN   \n",
       "64                                     NADH <-> NADPH             NaN   \n",
       "65                                     ATP -> ATP.ext             NaN   \n",
       "66                                     CO2 -> CO2.ext             NaN   \n",
       "68                                       O2.ext -> O2             NaN   \n",
       "69                                     NH3.ext -> NH3             NaN   \n",
       "70                                     SO4.ext -> SO4             NaN   \n",
       "71  0.515*Ala + 0.174*Arg + 0.153*Asn + 0.439*Asp ...             NaN   \n",
       "\n",
       "            Flux  90% Confidence Lower Bound  90% Confidence Upper Bound  \\\n",
       "0   1.000000e+02                1.000000e+02                    100.0000   \n",
       "1  -4.793000e-01               -1.421900e+00                      0.9306   \n",
       "2  -2.000000e+00               -2.000000e+00                     -0.7683   \n",
       "3  -2.000000e+00               -2.000000e+00                     -0.7683   \n",
       "4  -2.000000e+00               -2.000000e+00                     -0.7683   \n",
       "5  -1.079070e+01               -1.122350e+01                     -9.1040   \n",
       "6  -1.079070e+01               -1.122350e+01                     -9.1040   \n",
       "7  -1.625380e+01               -1.695560e+01                    -13.6034   \n",
       "8  -1.625380e+01               -1.695560e+01                    -13.6034   \n",
       "9   2.999990e+01                0.000000e+00                     30.0000   \n",
       "10 -5.767000e-01               -2.018100e+00                      0.3824   \n",
       "11  4.646000e-01               -1.659900e+00                      1.8755   \n",
       "12 -1.187400e+00               -2.611500e+00                     -0.2468   \n",
       "13  1.652100e+00                9.081000e-01                      2.1385   \n",
       "14 -1.187400e+00               -2.611500e+00                     -0.2468   \n",
       "15 -1.187400e+00               -1.909000e+00                     -0.7099   \n",
       "16  2.130000e-14               -7.076000e-01                      0.4698   \n",
       "17  7.110000e-15               -7.076000e-01                      0.4698   \n",
       "18  8.530000e-14               -7.076000e-01                      0.4698   \n",
       "19 -1.041300e+00               -2.524300e+00                      0.2447   \n",
       "20 -1.041300e+00               -2.524300e+00                      0.2447   \n",
       "21  5.923270e+01                5.668260e+01                     62.0459   \n",
       "22  1.144391e+02                1.102766e+02                    118.4800   \n",
       "23  1.144391e+02                1.102766e+02                    118.4800   \n",
       "24  1.134677e+02                1.068011e+02                    118.4800   \n",
       "25  1.086053e+02                1.017297e+02                    113.8305   \n",
       "26  2.074789e+02                2.005620e+02                    212.7536   \n",
       "27  2.085767e+02                2.032666e+02                    212.8305   \n",
       "28  2.096703e+02                2.043514e+02                    213.8762   \n",
       "29  1.710231e+02                1.292999e+02                    174.5648   \n",
       "30  9.714000e-01                7.110000e-15                      4.5567   \n",
       "31  9.714000e-01                0.000000e+00                      4.5567   \n",
       "32  9.777180e+01                1.292690e+01                    100.0000   \n",
       "33  4.890390e+01                0.000000e+00                     59.1635   \n",
       "34  1.000000e-07                0.000000e+00                     44.8577   \n",
       "35  3.961870e+01                3.704340e+01                    100.0000   \n",
       "64  1.443160e+01                1.108700e+00                     27.2447   \n",
       "65  6.800864e+02                6.131475e+02                    787.5166   \n",
       "66  3.764570e+02                3.650427e+02                    386.6854   \n",
       "68  4.336956e+02                4.207564e+02                    445.9396   \n",
       "69  2.575270e+01                2.412740e+01                     27.0206   \n",
       "70  4.177000e-01                3.913000e-01                      0.4383   \n",
       "71  4.693400e+00                4.397200e+00                      4.9245   \n",
       "\n",
       "    EFLUX2 Value  EFLUX2 std Value  \n",
       "0     100.000000      0.000000e+00  \n",
       "1      -4.243637      1.699675e-17  \n",
       "2     -15.462221      0.000000e+00  \n",
       "3     -15.462221      0.000000e+00  \n",
       "4     -28.629104      0.000000e+00  \n",
       "5     -47.017012      0.000000e+00  \n",
       "6     -47.017012      0.000000e+00  \n",
       "7     -54.959072      0.000000e+00  \n",
       "8     -54.959072      0.000000e+00  \n",
       "9       0.000000      0.000000e+00  \n",
       "10      0.000000      0.000000e+00  \n",
       "11      0.000000      0.000000e+00  \n",
       "12     -5.289208      0.000000e+00  \n",
       "13      5.280957      0.000000e+00  \n",
       "14     -3.027256      0.000000e+00  \n",
       "15     -3.027256      0.000000e+00  \n",
       "16     -2.261952      8.498375e-18  \n",
       "17     -2.261952      8.498375e-18  \n",
       "18      2.261952     -8.498375e-18  \n",
       "19      0.000000      0.000000e+00  \n",
       "20      0.000000      0.000000e+00  \n",
       "21      9.462404      3.399350e-17  \n",
       "22    101.389017      0.000000e+00  \n",
       "23    101.389017      0.000000e+00  \n",
       "24    101.389017      0.000000e+00  \n",
       "25     47.210352      1.359740e-16  \n",
       "26     93.997336      0.000000e+00  \n",
       "27     97.647739      0.000000e+00  \n",
       "28    104.468047      0.000000e+00  \n",
       "29    104.476298      0.000000e+00  \n",
       "30      0.000000      0.000000e+00  \n",
       "31      0.008251      3.319678e-20  \n",
       "32     58.148164      0.000000e+00  \n",
       "33      0.000000      0.000000e+00  \n",
       "34     70.089053      0.000000e+00  \n",
       "35      0.000000      0.000000e+00  \n",
       "64      0.000000      0.000000e+00  \n",
       "65      0.000000      0.000000e+00  \n",
       "66    303.773425      0.000000e+00  \n",
       "68    405.029149      0.000000e+00  \n",
       "69     41.546515      0.000000e+00  \n",
       "70      0.537715      0.000000e+00  \n",
       "71      9.549731      0.000000e+00  "
      ]
     },
     "execution_count": 38,
     "metadata": {},
     "output_type": "execute_result"
    }
   ],
   "source": [
    "obspred_fluxes2"
   ]
  },
  {
   "cell_type": "markdown",
   "id": "2ecba625-9397-4210-9598-3702402a5bc7",
   "metadata": {},
   "source": [
    "#### Plot EFLUX2 vs 13C MFA"
   ]
  },
  {
   "cell_type": "code",
   "execution_count": 39,
   "id": "e22b22fd-e5fe-46d9-a4de-210a1b95743d",
   "metadata": {},
   "outputs": [
    {
     "data": {
      "image/png": "[encoded data removed]",
      "text/plain": [
       "<Figure size 576x576 with 1 Axes>"
      ]
     },
     "metadata": {
      "needs_background": "light"
     },
     "output_type": "display_data"
    }
   ],
   "source": [
    "scatterplotcomp_obs_vs_pred(obspred_fluxes2, substrate='phenol', method='EFLUX2', linename='PVHG-P')"
   ]
  },
  {
   "cell_type": "code",
   "execution_count": 40,
   "id": "723ba661-25da-4024-90dd-c2548b0dfbfa",
   "metadata": {},
   "outputs": [
    {
     "data": {
      "image/png": "[encoded data removed]",
      "text/plain": [
       "<Figure size 576x576 with 1 Axes>"
      ]
     },
     "metadata": {
      "needs_background": "light"
     },
     "output_type": "display_data"
    }
   ],
   "source": [
    "scatterplotcomp_obs_vs_pred_withstd(obspred_fluxes2, substrate='phenol', method='EFLUX2',linename='PVHG-P')"
   ]
  },
  {
   "cell_type": "markdown",
   "id": "7a6840f6-764a-489d-bdf0-3b1994a2f8d4",
   "metadata": {
    "tags": []
   },
   "source": [
    "## Phenol EFlux Flux Map"
   ]
  },
  {
   "cell_type": "markdown",
   "id": "df9213bd-3565-45b6-9edc-fbdc26441cce",
   "metadata": {},
   "source": [
    "Define a function to convert a predicted flux data frame column to a flux map"
   ]
  },
  {
   "cell_type": "code",
   "execution_count": 41,
   "id": "6d9b0cab-b709-4d25-8250-54c14b7d1877",
   "metadata": {},
   "outputs": [],
   "source": [
    "def map_flux_results(data_df, flux_column):\n",
    "    fig, ax = plt.subplots(figsize=(15, 20), dpi=50)\n",
    "    xy = (0.5, 0.5)\n",
    "    arr_img = plt.imread('./unlabeled_flux_map.png')\n",
    "    imagebox = OffsetImage(arr_img)\n",
    "    imagebox.image.axes = ax\n",
    "    ab = AnnotationBbox(imagebox, xy)\n",
    "    ax.add_artist(ab)\n",
    "\n",
    "    for _, row in data_df.iterrows():\n",
    "        if not pd.isnull(row['Location on map']):\n",
    "            location =  row['Location on map'].replace('(', '').replace(')', '')\n",
    "            location_list = location.split(',')\n",
    "            location_tuple = tuple((int(location_list[0]), int(location_list[1])))\n",
    "\n",
    "            offsetbox = TextArea(f'{row[flux_column]:.1f}',textprops=dict(fontsize=22))\n",
    "            ab = AnnotationBbox(offsetbox, xy,\n",
    "                                xybox=location_tuple,\n",
    "                                xycoords='data',\n",
    "                                boxcoords=\"offset points\",\n",
    "                                frameon=False)\n",
    "            ax.add_artist(ab)\n",
    "\n",
    "    # Fix the display limits to see everything\n",
    "    ax.set_xlim(0, 1)\n",
    "    ax.set_ylim(0, 1)\n",
    "    ax.set_xticks([])\n",
    "    ax.set_yticks([])\n",
    "\n",
    "    plt.show()"
   ]
  },
  {
   "cell_type": "code",
   "execution_count": 42,
   "id": "077613be-02f9-469d-92d0-a35496ab6a0d",
   "metadata": {},
   "outputs": [
    {
     "data": {
      "image/png": "[encoded data removed]",
      "text/plain": [
       "<Figure size 750x1000 with 1 Axes>"
      ]
     },
     "metadata": {},
     "output_type": "display_data"
    }
   ],
   "source": [
    "map_flux_results(obspred_fluxes, 'EFLUX2 Value')"
   ]
  },
  {
   "cell_type": "markdown",
   "id": "99b6d784-08a4-4d20-8802-c050606b764d",
   "metadata": {
    "tags": []
   },
   "source": [
    "#### **SPOT Predictions**"
   ]
  },
  {
   "cell_type": "code",
   "execution_count": 111,
   "id": "3ea2087b-f77d-4eab-91cc-ffee8f013b89",
   "metadata": {},
   "outputs": [],
   "source": [
    "#Function for EFLUX2 and SPOT Predictions:\n",
    "def spotpred(model, transcriptdf, linename, substrate, sub_uptake_rate, conditionstring):    \n",
    "    with model:\n",
    "        medium = model.medium\n",
    "        if substrate=='phenol':\n",
    "            model.objective = 'Growth_Phenol'\n",
    "            #medium = {key:np.inf for (key,value) in model.medium.items()}\n",
    "            model.reactions.get_by_id('Growth_Glucose').upper_bound = 0.0\n",
    "            model.reactions.get_by_id('Growth_Glucose').lower_bound = 0.0\n",
    "            #medium[\"EX_glc__D_e\"] = 0.0\n",
    "            #medium[\"EX_phenol_e\"] = sub_uptake_rate\n",
    "            model.reactions.get_by_id('EX_phenol_e').upper_bound = -sub_uptake_rate\n",
    "            model.reactions.get_by_id('EX_phenol_e').lower_bound = -sub_uptake_rate\n",
    "            display(model.reactions.get_by_id('EX_phenol_e').upper_bound, model.reactions.get_by_id('EX_phenol_e').lower_bound)\n",
    "            #model.reactions.get_by_id('EX_glc__D_e').upper_bound = 0.0\n",
    "            #model.reactions.get_by_id('EX_glc__D_e').lower_bound = 0.0\n",
    "        elif substrate=='glucose':\n",
    "            model.objective = 'Growth_Glucose'\n",
    "            medium = {key:1000 for (key,value) in model.medium.items()}\n",
    "            model.reactions.get_by_id('Growth_Phenol').upper_bound = 0.0\n",
    "            model.reactions.get_by_id('Growth_Phenol').lower_bound = 0.0\n",
    "            medium[\"EX_glc__D_e\"] = sub_uptake_rate\n",
    "            medium[\"EX_phenol_e\"] = 0.0\n",
    "            model.reactions.get_by_id('EX_glc__D_c').upper_bound = -sub_uptake_rate\n",
    "            model.reactions.get_by_id('EX_glc__D_c').lower_bound = -sub_uptake_rate\n",
    "            model.reactions.get_by_id('EX_phenol_e').upper_bound = 0.0\n",
    "            model.reactions.get_by_id('EX_phenol_e').lower_bound = 0.0\n",
    "        else:\n",
    "            print('Unknown substrate: Please choose among phenol and glucose')\n",
    "        model.medium = medium\n",
    "        spotsol = SPOT(model, transcriptdf)\n",
    "        display(model.medium)\n",
    "    return spotsol"
   ]
  },
  {
   "cell_type": "code",
   "execution_count": 112,
   "id": "634976f9-338d-4f5e-9adf-b3d93ef435d4",
   "metadata": {},
   "outputs": [],
   "source": [
    "# #Function for EFLUX2 and SPOT Predictions:\n",
    "# def spotpred(model, transcriptdf, linename, substrate, sub_uptake_rate, conditionstring):    \n",
    "#     with model:\n",
    "#         medium = model.medium\n",
    "#         if substrate=='phenol':\n",
    "#             model.objective = 'Growth_Phenol'\n",
    "#             model.reactions.get_by_id('Growth_Glucose').upper_bound = 0\n",
    "#             model.reactions.get_by_id('Growth_Glucose').lower_bound = 0\n",
    "#             medium = {key:np.inf for (key,value) in model.medium.items()}\n",
    "#             medium[\"EX_glc__D_e\"] = 0.0\n",
    "#             #medium[\"EX_phenol_e\"] = sub_uptake_rate\n",
    "#         elif substrate=='glucose':\n",
    "#             model.objective = 'Growth_Glucose'\n",
    "#             model.reactions.get_by_id('Growth_Phenol').upper_bound = 0\n",
    "#             model.reactions.get_by_id('Growth_Phenol').lower_bound = 0\n",
    "#             medium = {key:np.inf for (key,value) in model.medium.items()}\n",
    "#             #medium[\"EX_glc__D_e\"] = sub_uptake_rate\n",
    "#             medium[\"EX_phenol_e\"] = 0.0\n",
    "#         else:\n",
    "#             print('Unknown substrate: Please choose among phenol and glucose')\n",
    "#         model.medium = medium\n",
    "#         spotsol = SPOT(model, transcriptdf)\n",
    "#         display(model.medium)\n",
    "#     return spotsol"
   ]
  },
  {
   "cell_type": "code",
   "execution_count": 113,
   "id": "38b4f7d3-4530-4d72-8e5b-9f0527393571",
   "metadata": {},
   "outputs": [],
   "source": [
    "#Function for predictions for three replicates and averaging the solutions and calculating the standard deviation:\n",
    "def spotpredthreereps(model, transcriptdf, linename1, linename2, linename3, substrate, sub_uptake_rate, conditionstring):\n",
    "    #call prediction functions for individual spot predictions for all 3 replicates:\n",
    "    transdata_R1 = constructTransdffrompred(transcriptdf, linename1, conditionstring)\n",
    "    transdata_R2 = constructTransdffrompred(transcriptdf, linename2, conditionstring)\n",
    "    transdata_R3 = constructTransdffrompred(transcriptdf, linename3, conditionstring)\n",
    " \n",
    "    spotsol_R1 = spotpred(model, transdata_R1, linename1, substrate, sub_uptake_rate, conditionstring)\n",
    "    spotsol_R2 = spotpred(model, transdata_R2, linename2, substrate, sub_uptake_rate, conditionstring)\n",
    "    spotsol_R3 = spotpred(model, transdata_R3, linename3, substrate, sub_uptake_rate, conditionstring)\n",
    "    \n",
    "    #spot calculations:\n",
    "    spotsol_R1_df = pd.DataFrame(spotsol_R1, columns=['fluxes'])\n",
    "    spotsol_R2_df = pd.DataFrame(spotsol_R2, columns=['fluxes'])\n",
    "    spotsol_R3_df = pd.DataFrame(spotsol_R3, columns=['fluxes'])\n",
    "    spotsol_all = pd.concat([spotsol_R1_df, spotsol_R2_df, spotsol_R3_df], axis=1)\n",
    "    \n",
    "    spotsol = pd.DataFrame(spotsol_all.mean(axis=1), columns=['fluxes'])\n",
    "    spotsol_std = spotsol_all.std(axis=1)\n",
    "    \n",
    "    return spotsol, spotsol_std"
   ]
  },
  {
   "cell_type": "code",
   "execution_count": 114,
   "id": "f8cd23a9-38cc-4830-bd96-665a8f4b6694",
   "metadata": {},
   "outputs": [
    {
     "data": {
      "text/plain": [
       "EX_glc__D_e     10.000000\n",
       "EX_cl_e          0.004000\n",
       "EX_pi_e          1.079111\n",
       "EX_nh4_e         8.275885\n",
       "EX_fe3_e         0.006001\n",
       "EX_k_e           0.150015\n",
       "EX_ca2_e         0.004000\n",
       "EX_mg2_e         0.006667\n",
       "EX_mn2_e         0.000531\n",
       "EX_cobalt2_e     0.000077\n",
       "EX_zn2_e         0.000262\n",
       "EX_cu2_e         0.000545\n",
       "EX_o2_e         10.000000\n",
       "EX_fe2_e         0.005161\n",
       "EX_so4_e         0.192618\n",
       "dtype: float64"
      ]
     },
     "execution_count": 114,
     "metadata": {},
     "output_type": "execute_result"
    }
   ],
   "source": [
    "from cobra.medium import minimal_medium\n",
    "\n",
    "max_growth = model.slim_optimize()\n",
    "minimal_medium(model, max_growth)"
   ]
  },
  {
   "cell_type": "code",
   "execution_count": 115,
   "id": "d4ac7fcf-a346-4134-bafe-da04ae70eeca",
   "metadata": {},
   "outputs": [
    {
     "data": {
      "text/plain": [
       "-1.7612356731609438"
      ]
     },
     "metadata": {},
     "output_type": "display_data"
    },
    {
     "data": {
      "text/plain": [
       "-1.7612356731609438"
      ]
     },
     "metadata": {},
     "output_type": "display_data"
    },
    {
     "data": {
      "text/plain": [
       "<cplex.Cplex at 0x7f1404c9fcd0>"
      ]
     },
     "metadata": {},
     "output_type": "display_data"
    },
    {
     "name": "stderr",
     "output_type": "stream",
     "text": [
      "CPLEX Error  1217: No solution exists.\n"
     ]
    },
    {
     "ename": "CplexSolverError",
     "evalue": "CPLEX Error  1217: No solution exists.",
     "output_type": "error",
     "traceback": [
      "\u001b[0;31m---------------------------------------------------------------------------\u001b[0m",
      "\u001b[0;31mCplexSolverError\u001b[0m                          Traceback (most recent call last)",
      "\u001b[0;32m<ipython-input-115-b8524d379110>\u001b[0m in \u001b[0;36m<module>\u001b[0;34m\u001b[0m\n\u001b[0;32m----> 1\u001b[0;31m \u001b[0mspotsol\u001b[0m\u001b[0;34m,\u001b[0m \u001b[0mspotsol_std\u001b[0m \u001b[0;34m=\u001b[0m \u001b[0mspotpredthreereps\u001b[0m\u001b[0;34m(\u001b[0m\u001b[0mmodel\u001b[0m\u001b[0;34m,\u001b[0m \u001b[0mdf_Trans\u001b[0m\u001b[0;34m,\u001b[0m \u001b[0;34m'WT-P-R1'\u001b[0m\u001b[0;34m,\u001b[0m \u001b[0;34m'WT-P-R2'\u001b[0m\u001b[0;34m,\u001b[0m\u001b[0;34m'WT-P-R3'\u001b[0m\u001b[0;34m,\u001b[0m \u001b[0;34m'phenol'\u001b[0m\u001b[0;34m,\u001b[0m \u001b[0mgrowthandsubstrdata\u001b[0m\u001b[0;34m.\u001b[0m\u001b[0mloc\u001b[0m\u001b[0;34m[\u001b[0m\u001b[0;34m'WT-P'\u001b[0m\u001b[0;34m,\u001b[0m \u001b[0;34m'substrate_consumption_rate'\u001b[0m\u001b[0;34m]\u001b[0m\u001b[0;34m,\u001b[0m \u001b[0;34m'0.5 g/l PHE as carbon source'\u001b[0m\u001b[0;34m)\u001b[0m\u001b[0;34m\u001b[0m\u001b[0;34m\u001b[0m\u001b[0m\n\u001b[0m",
      "\u001b[0;32m<ipython-input-113-b986a2dabb20>\u001b[0m in \u001b[0;36mspotpredthreereps\u001b[0;34m(model, transcriptdf, linename1, linename2, linename3, substrate, sub_uptake_rate, conditionstring)\u001b[0m\n\u001b[1;32m      6\u001b[0m     \u001b[0mtransdata_R3\u001b[0m \u001b[0;34m=\u001b[0m \u001b[0mconstructTransdffrompred\u001b[0m\u001b[0;34m(\u001b[0m\u001b[0mtranscriptdf\u001b[0m\u001b[0;34m,\u001b[0m \u001b[0mlinename3\u001b[0m\u001b[0;34m,\u001b[0m \u001b[0mconditionstring\u001b[0m\u001b[0;34m)\u001b[0m\u001b[0;34m\u001b[0m\u001b[0;34m\u001b[0m\u001b[0m\n\u001b[1;32m      7\u001b[0m \u001b[0;34m\u001b[0m\u001b[0m\n\u001b[0;32m----> 8\u001b[0;31m     \u001b[0mspotsol_R1\u001b[0m \u001b[0;34m=\u001b[0m \u001b[0mspotpred\u001b[0m\u001b[0;34m(\u001b[0m\u001b[0mmodel\u001b[0m\u001b[0;34m,\u001b[0m \u001b[0mtransdata_R1\u001b[0m\u001b[0;34m,\u001b[0m \u001b[0mlinename1\u001b[0m\u001b[0;34m,\u001b[0m \u001b[0msubstrate\u001b[0m\u001b[0;34m,\u001b[0m \u001b[0msub_uptake_rate\u001b[0m\u001b[0;34m,\u001b[0m \u001b[0mconditionstring\u001b[0m\u001b[0;34m)\u001b[0m\u001b[0;34m\u001b[0m\u001b[0;34m\u001b[0m\u001b[0m\n\u001b[0m\u001b[1;32m      9\u001b[0m     \u001b[0mspotsol_R2\u001b[0m \u001b[0;34m=\u001b[0m \u001b[0mspotpred\u001b[0m\u001b[0;34m(\u001b[0m\u001b[0mmodel\u001b[0m\u001b[0;34m,\u001b[0m \u001b[0mtransdata_R2\u001b[0m\u001b[0;34m,\u001b[0m \u001b[0mlinename2\u001b[0m\u001b[0;34m,\u001b[0m \u001b[0msubstrate\u001b[0m\u001b[0;34m,\u001b[0m \u001b[0msub_uptake_rate\u001b[0m\u001b[0;34m,\u001b[0m \u001b[0mconditionstring\u001b[0m\u001b[0;34m)\u001b[0m\u001b[0;34m\u001b[0m\u001b[0;34m\u001b[0m\u001b[0m\n\u001b[1;32m     10\u001b[0m     \u001b[0mspotsol_R3\u001b[0m \u001b[0;34m=\u001b[0m \u001b[0mspotpred\u001b[0m\u001b[0;34m(\u001b[0m\u001b[0mmodel\u001b[0m\u001b[0;34m,\u001b[0m \u001b[0mtransdata_R3\u001b[0m\u001b[0;34m,\u001b[0m \u001b[0mlinename3\u001b[0m\u001b[0;34m,\u001b[0m \u001b[0msubstrate\u001b[0m\u001b[0;34m,\u001b[0m \u001b[0msub_uptake_rate\u001b[0m\u001b[0;34m,\u001b[0m \u001b[0mconditionstring\u001b[0m\u001b[0;34m)\u001b[0m\u001b[0;34m\u001b[0m\u001b[0;34m\u001b[0m\u001b[0m\n",
      "\u001b[0;32m<ipython-input-111-8d899f9f764f>\u001b[0m in \u001b[0;36mspotpred\u001b[0;34m(model, transcriptdf, linename, substrate, sub_uptake_rate, conditionstring)\u001b[0m\n\u001b[1;32m     29\u001b[0m             \u001b[0mprint\u001b[0m\u001b[0;34m(\u001b[0m\u001b[0;34m'Unknown substrate: Please choose among phenol and glucose'\u001b[0m\u001b[0;34m)\u001b[0m\u001b[0;34m\u001b[0m\u001b[0;34m\u001b[0m\u001b[0m\n\u001b[1;32m     30\u001b[0m         \u001b[0mmodel\u001b[0m\u001b[0;34m.\u001b[0m\u001b[0mmedium\u001b[0m \u001b[0;34m=\u001b[0m \u001b[0mmedium\u001b[0m\u001b[0;34m\u001b[0m\u001b[0;34m\u001b[0m\u001b[0m\n\u001b[0;32m---> 31\u001b[0;31m         \u001b[0mspotsol\u001b[0m \u001b[0;34m=\u001b[0m \u001b[0mSPOT\u001b[0m\u001b[0;34m(\u001b[0m\u001b[0mmodel\u001b[0m\u001b[0;34m,\u001b[0m \u001b[0mtranscriptdf\u001b[0m\u001b[0;34m)\u001b[0m\u001b[0;34m\u001b[0m\u001b[0;34m\u001b[0m\u001b[0m\n\u001b[0m\u001b[1;32m     32\u001b[0m         \u001b[0mdisplay\u001b[0m\u001b[0;34m(\u001b[0m\u001b[0mmodel\u001b[0m\u001b[0;34m.\u001b[0m\u001b[0mmedium\u001b[0m\u001b[0;34m)\u001b[0m\u001b[0;34m\u001b[0m\u001b[0;34m\u001b[0m\u001b[0m\n\u001b[1;32m     33\u001b[0m     \u001b[0;32mreturn\u001b[0m \u001b[0mspotsol\u001b[0m\u001b[0;34m\u001b[0m\u001b[0;34m\u001b[0m\u001b[0m\n",
      "\u001b[0;32m/scratch/schenkch/OpacusBiodesign/Biodesign_gr/EFLUX2_SPOT/ensemblemethods.py\u001b[0m in \u001b[0;36mSPOT\u001b[0;34m(model, Transcriptomics)\u001b[0m\n\u001b[1;32m    268\u001b[0m     \u001b[0mSPOT\u001b[0m\u001b[0;34m.\u001b[0m\u001b[0mobjective\u001b[0m\u001b[0;34m.\u001b[0m\u001b[0mset_sense\u001b[0m\u001b[0;34m(\u001b[0m\u001b[0mSPOT\u001b[0m\u001b[0;34m.\u001b[0m\u001b[0mobjective\u001b[0m\u001b[0;34m.\u001b[0m\u001b[0msense\u001b[0m\u001b[0;34m.\u001b[0m\u001b[0mmaximize\u001b[0m\u001b[0;34m)\u001b[0m\u001b[0;34m\u001b[0m\u001b[0;34m\u001b[0m\u001b[0m\n\u001b[1;32m    269\u001b[0m     \u001b[0mdisplay\u001b[0m\u001b[0;34m(\u001b[0m\u001b[0mSPOT\u001b[0m\u001b[0;34m)\u001b[0m\u001b[0;34m\u001b[0m\u001b[0;34m\u001b[0m\u001b[0m\n\u001b[0;32m--> 270\u001b[0;31m     \u001b[0mSPOT\u001b[0m\u001b[0;34m.\u001b[0m\u001b[0msolve\u001b[0m\u001b[0;34m(\u001b[0m\u001b[0;34m)\u001b[0m\u001b[0;34m\u001b[0m\u001b[0;34m\u001b[0m\u001b[0m\n\u001b[0m\u001b[1;32m    271\u001b[0m     \u001b[0mSPOT_sol\u001b[0m \u001b[0;34m=\u001b[0m \u001b[0mSPOT\u001b[0m\u001b[0;34m.\u001b[0m\u001b[0msolution\u001b[0m\u001b[0;34m.\u001b[0m\u001b[0mget_objective_value\u001b[0m\u001b[0;34m(\u001b[0m\u001b[0;34m)\u001b[0m\u001b[0;34m\u001b[0m\u001b[0;34m\u001b[0m\u001b[0m\n\u001b[1;32m    272\u001b[0m \u001b[0;34m\u001b[0m\u001b[0m\n",
      "\u001b[0;32m/usr/local/share/jupyteruser/.pyenv/versions/biod_3.7/lib/python3.7/site-packages/cplex/_internal/_subinterfaces.py\u001b[0m in \u001b[0;36mget_objective_value\u001b[0;34m(self)\u001b[0m\n\u001b[1;32m   7573\u001b[0m         \u001b[0;34m-\u001b[0m\u001b[0;36m202.5\u001b[0m\u001b[0;34m\u001b[0m\u001b[0;34m\u001b[0m\u001b[0m\n\u001b[1;32m   7574\u001b[0m         \"\"\"\n\u001b[0;32m-> 7575\u001b[0;31m         \u001b[0;32mreturn\u001b[0m \u001b[0mCPX_PROC\u001b[0m\u001b[0;34m.\u001b[0m\u001b[0mgetobjval\u001b[0m\u001b[0;34m(\u001b[0m\u001b[0mself\u001b[0m\u001b[0;34m.\u001b[0m\u001b[0m_env\u001b[0m\u001b[0;34m.\u001b[0m\u001b[0m_e\u001b[0m\u001b[0;34m,\u001b[0m \u001b[0mself\u001b[0m\u001b[0;34m.\u001b[0m\u001b[0m_cplex\u001b[0m\u001b[0;34m.\u001b[0m\u001b[0m_lp\u001b[0m\u001b[0;34m)\u001b[0m\u001b[0;34m\u001b[0m\u001b[0;34m\u001b[0m\u001b[0m\n\u001b[0m\u001b[1;32m   7576\u001b[0m \u001b[0;34m\u001b[0m\u001b[0m\n\u001b[1;32m   7577\u001b[0m     \u001b[0;32mdef\u001b[0m \u001b[0mget_values\u001b[0m\u001b[0;34m(\u001b[0m\u001b[0mself\u001b[0m\u001b[0;34m,\u001b[0m \u001b[0;34m*\u001b[0m\u001b[0margs\u001b[0m\u001b[0;34m)\u001b[0m\u001b[0;34m:\u001b[0m\u001b[0;34m\u001b[0m\u001b[0;34m\u001b[0m\u001b[0m\n",
      "\u001b[0;32m/usr/local/share/jupyteruser/.pyenv/versions/biod_3.7/lib/python3.7/site-packages/cplex/_internal/_procedural.py\u001b[0m in \u001b[0;36mgetobjval\u001b[0;34m(env, lp)\u001b[0m\n\u001b[1;32m   2033\u001b[0m     \u001b[0mobjval\u001b[0m \u001b[0;34m=\u001b[0m \u001b[0mCR\u001b[0m\u001b[0;34m.\u001b[0m\u001b[0mdoublePtr\u001b[0m\u001b[0;34m(\u001b[0m\u001b[0;34m)\u001b[0m\u001b[0;34m\u001b[0m\u001b[0;34m\u001b[0m\u001b[0m\n\u001b[1;32m   2034\u001b[0m     \u001b[0mstatus\u001b[0m \u001b[0;34m=\u001b[0m \u001b[0mCR\u001b[0m\u001b[0;34m.\u001b[0m\u001b[0mCPXXgetobjval\u001b[0m\u001b[0;34m(\u001b[0m\u001b[0menv\u001b[0m\u001b[0;34m,\u001b[0m \u001b[0mlp\u001b[0m\u001b[0;34m,\u001b[0m \u001b[0mobjval\u001b[0m\u001b[0;34m)\u001b[0m\u001b[0;34m\u001b[0m\u001b[0;34m\u001b[0m\u001b[0m\n\u001b[0;32m-> 2035\u001b[0;31m     \u001b[0mcheck_status\u001b[0m\u001b[0;34m(\u001b[0m\u001b[0menv\u001b[0m\u001b[0;34m,\u001b[0m \u001b[0mstatus\u001b[0m\u001b[0;34m)\u001b[0m\u001b[0;34m\u001b[0m\u001b[0;34m\u001b[0m\u001b[0m\n\u001b[0m\u001b[1;32m   2036\u001b[0m     \u001b[0;32mreturn\u001b[0m \u001b[0mobjval\u001b[0m\u001b[0;34m.\u001b[0m\u001b[0mvalue\u001b[0m\u001b[0;34m(\u001b[0m\u001b[0;34m)\u001b[0m\u001b[0;34m\u001b[0m\u001b[0;34m\u001b[0m\u001b[0m\n\u001b[1;32m   2037\u001b[0m \u001b[0;34m\u001b[0m\u001b[0m\n",
      "\u001b[0;32m/usr/local/share/jupyteruser/.pyenv/versions/biod_3.7/lib/python3.7/site-packages/cplex/_internal/_procedural.py\u001b[0m in \u001b[0;36m__call__\u001b[0;34m(self, env, status, from_cb)\u001b[0m\n\u001b[1;32m    301\u001b[0m                 \u001b[0;32melse\u001b[0m\u001b[0;34m:\u001b[0m\u001b[0;34m\u001b[0m\u001b[0;34m\u001b[0m\u001b[0m\n\u001b[1;32m    302\u001b[0m                     \u001b[0merror_string\u001b[0m \u001b[0;34m=\u001b[0m \u001b[0mgeterrorstring\u001b[0m\u001b[0;34m(\u001b[0m\u001b[0menv\u001b[0m\u001b[0;34m,\u001b[0m \u001b[0mstatus\u001b[0m\u001b[0;34m)\u001b[0m\u001b[0;34m\u001b[0m\u001b[0;34m\u001b[0m\u001b[0m\n\u001b[0;32m--> 303\u001b[0;31m             \u001b[0;32mraise\u001b[0m \u001b[0mCplexSolverError\u001b[0m\u001b[0;34m(\u001b[0m\u001b[0merror_string\u001b[0m\u001b[0;34m,\u001b[0m \u001b[0menv\u001b[0m\u001b[0;34m,\u001b[0m \u001b[0mstatus\u001b[0m\u001b[0;34m)\u001b[0m\u001b[0;34m\u001b[0m\u001b[0;34m\u001b[0m\u001b[0m\n\u001b[0m\u001b[1;32m    304\u001b[0m \u001b[0;34m\u001b[0m\u001b[0m\n\u001b[1;32m    305\u001b[0m \u001b[0;34m\u001b[0m\u001b[0m\n",
      "\u001b[0;31mCplexSolverError\u001b[0m: CPLEX Error  1217: No solution exists."
     ]
    }
   ],
   "source": [
    "spotsol, spotsol_std = spotpredthreereps(model, df_Trans, 'WT-P-R1', 'WT-P-R2','WT-P-R3', 'phenol', growthandsubstrdata.loc['WT-P', 'substrate_consumption_rate'], '0.5 g/l PHE as carbon source')"
   ]
  },
  {
   "cell_type": "code",
   "execution_count": 108,
   "id": "b48e049e-0ca5-41a6-9147-2c14564f970e",
   "metadata": {},
   "outputs": [
    {
     "data": {
      "text/plain": [
       "1.7612356731609438"
      ]
     },
     "execution_count": 108,
     "metadata": {},
     "output_type": "execute_result"
    }
   ],
   "source": [
    "growthandsubstrdata.loc['WT-P', 'substrate_consumption_rate']"
   ]
  },
  {
   "cell_type": "markdown",
   "id": "d5aa324c-72f5-47f7-ac2f-ee0a869c19fe",
   "metadata": {},
   "source": [
    "##### **Save solution to data frame**"
   ]
  },
  {
   "cell_type": "code",
   "execution_count": 109,
   "id": "9097bda8-39f5-4f94-8af8-3377f589d93f",
   "metadata": {},
   "outputs": [],
   "source": [
    "spotsoldf = pd.DataFrame(spotsol, columns=['fluxes'])\n",
    "spotsolstddf = pd.DataFrame(spotsol_std, columns=['stds'])"
   ]
  },
  {
   "cell_type": "code",
   "execution_count": 110,
   "id": "c216904b-0a2b-4308-8f56-f3b7fccdb7f3",
   "metadata": {},
   "outputs": [
    {
     "data": {
      "text/plain": [
       "fluxes   -0.072949\n",
       "Name: EX_phenol_e, dtype: float64"
      ]
     },
     "execution_count": 110,
     "metadata": {},
     "output_type": "execute_result"
    }
   ],
   "source": [
    "spotsoldf.loc['EX_phenol_e']"
   ]
  },
  {
   "cell_type": "markdown",
   "id": "1b33ad06-8746-4321-86ba-343dd59dbc27",
   "metadata": {},
   "source": [
    "##### **Check External Metabolites solution**"
   ]
  },
  {
   "cell_type": "code",
   "execution_count": null,
   "id": "22b15791-a8ca-4470-8c26-8a446cc08cb1",
   "metadata": {},
   "outputs": [],
   "source": [
    "exchange_list = []\n",
    "for ind in spotsoldf.index:\n",
    "    if 'EX_' in str(ind):\n",
    "        exchange_list.append(ind)"
   ]
  },
  {
   "cell_type": "code",
   "execution_count": null,
   "id": "ce2993f9-6d63-419e-a40d-f5ca3c2ed5a5",
   "metadata": {},
   "outputs": [],
   "source": [
    "spotsoldf.loc[exchange_list,:]\n",
    "for i in exchange_list:\n",
    "    if abs(spotsoldf.loc[i,:].values)>=0.0001:\n",
    "        display(spotsoldf.loc[i,:])\n",
    "    "
   ]
  },
  {
   "cell_type": "code",
   "execution_count": null,
   "id": "9654d03e-1643-49db-9a74-a4b4a65e6084",
   "metadata": {},
   "outputs": [],
   "source": [
    "display(model.reactions.get_by_id('EX_h_e').lower_bound)\n",
    "display(model.reactions.get_by_id('EX_h_e').upper_bound)"
   ]
  },
  {
   "cell_type": "markdown",
   "id": "99ac2088-bf11-43fc-87b2-fc072018481d",
   "metadata": {},
   "source": [
    "##### **Check FBA solution**"
   ]
  },
  {
   "cell_type": "code",
   "execution_count": null,
   "id": "4e63a0ef-8804-4328-a6b1-dd1385255069",
   "metadata": {},
   "outputs": [],
   "source": [
    "with model:\n",
    "    medium = model.medium\n",
    "    model.objective = 'Growth_Phenol'\n",
    "    model.reactions.get_by_id('Growth_Glucose').upper_bound = 0\n",
    "    model.reactions.get_by_id('Growth_Glucose').lower_bound = 0\n",
    "    #sub_uptake_rate = 1.76124# just copied value to test it\n",
    "    medium[\"EX_glc__D_e\"] = 0.0\n",
    "    #medium[\"EX_phenol_e\"] = sub_uptake_rate\n",
    "    model.medium = medium\n",
    "    # solve FBA to calculate the maximum biomass\n",
    "    boundedfba_sol = model.optimize()\n",
    "    print('Unbounded FBA status', boundedfba_sol.status)\n",
    "    print('Unbounded FBA solution', boundedfba_sol.objective_value)"
   ]
  },
  {
   "cell_type": "markdown",
   "id": "2b8aa3d3-8991-4086-958b-157470bada5d",
   "metadata": {},
   "source": [
    "##### **Add Phenol EFLUX2 and SPOT flux values to phenol fluxes dataframe**"
   ]
  },
  {
   "cell_type": "code",
   "execution_count": null,
   "id": "4abf8362-addf-4f9a-8723-a982eafb6a7d",
   "metadata": {},
   "outputs": [],
   "source": [
    "obspred_fluxesnew = addpredfluxes_to13cdf(obspred_fluxes, spotsoldf, spotsolstddf, 'phenol', 'SPOT')"
   ]
  },
  {
   "cell_type": "code",
   "execution_count": null,
   "id": "f0e77451-14e3-4479-bb5e-1841b2b2ea49",
   "metadata": {},
   "outputs": [],
   "source": [
    "obspred_fluxesnew"
   ]
  },
  {
   "cell_type": "markdown",
   "id": "3405a23c-f218-4801-a279-46677c3ba169",
   "metadata": {},
   "source": [
    "### Plot SPOT vs 13C MFA"
   ]
  },
  {
   "cell_type": "code",
   "execution_count": null,
   "id": "816e8418-e77c-4ecd-a9f7-397d3381a1e0",
   "metadata": {},
   "outputs": [],
   "source": [
    "scatterplotcomp_obs_vs_pred(obspred_fluxesnew, substrate='phenol', method='SPOT', linename='WT-P')"
   ]
  },
  {
   "cell_type": "code",
   "execution_count": null,
   "id": "a1ef9ede-7052-4082-97e9-f68531ce8c85",
   "metadata": {},
   "outputs": [],
   "source": [
    "scatterplotcomp_obs_vs_pred_withstd(obspred_fluxesnew, substrate='phenol', method='SPOT', linename='WT-P')"
   ]
  },
  {
   "cell_type": "markdown",
   "id": "90627970-e111-4a47-962f-836b8aa265e3",
   "metadata": {},
   "source": [
    "##### **PVHG**"
   ]
  },
  {
   "cell_type": "code",
   "execution_count": null,
   "id": "4c92ff97-e179-4710-b7f6-cb27650bd1c1",
   "metadata": {},
   "outputs": [],
   "source": [
    "spotsol_PVHG, spotsol_std_PVHG = spotpredthreereps(model, df_Trans, 'PVHG-P-R1', 'PVHG-P-R2','PVHG-P-R3', 'phenol', growthandsubstrdata.loc['PVHG-P', 'substrate_consumption_rate'], '0.5 g/l phenol as carbon source')"
   ]
  },
  {
   "cell_type": "markdown",
   "id": "d92488db-b08b-4004-a9f5-9410fed287f4",
   "metadata": {},
   "source": [
    "##### **Save solution to data frame**"
   ]
  },
  {
   "cell_type": "code",
   "execution_count": null,
   "id": "57f86a24-84db-4044-8572-23f33bdb5f0a",
   "metadata": {},
   "outputs": [],
   "source": [
    "spotsoldf_PVHG = pd.DataFrame(spotsol_PVHG, columns=['fluxes'])\n",
    "spotsolstddf_PVHG = pd.DataFrame(spotsol_std_PVHG, columns=['stds'])"
   ]
  },
  {
   "cell_type": "markdown",
   "id": "f42d47ab-5843-4cf4-a47c-b97c81393d11",
   "metadata": {},
   "source": [
    "##### **Add Phenol PVHG EFLUX2 and SPOT flux values to phenol fluxes dataframe**"
   ]
  },
  {
   "cell_type": "code",
   "execution_count": null,
   "id": "4689017a-a88d-4772-92f6-a9f61bcacdf9",
   "metadata": {},
   "outputs": [],
   "source": [
    "obspred_fluxesnew2 = addpredfluxes_to13cdf(obspred_fluxes, spotsoldf_PVHG, spotsolstddf_PVHG, 'phenol', 'SPOT')"
   ]
  },
  {
   "cell_type": "code",
   "execution_count": null,
   "id": "37f7d248-56dc-4339-a449-19488f5cc59b",
   "metadata": {},
   "outputs": [],
   "source": [
    "obspred_fluxesnew2"
   ]
  },
  {
   "cell_type": "markdown",
   "id": "a21e0ff9-0210-4962-b44c-a7e6b7480b5a",
   "metadata": {},
   "source": [
    "#### Plot SPOT vs 13C MFA"
   ]
  },
  {
   "cell_type": "code",
   "execution_count": null,
   "id": "98458e0c-76f7-48d5-a668-92fc60c75901",
   "metadata": {},
   "outputs": [],
   "source": [
    "scatterplotcomp_obs_vs_pred(obspred_fluxesnew2, substrate='phenol', method='SPOT', linename='PVHG-P')"
   ]
  },
  {
   "cell_type": "code",
   "execution_count": null,
   "id": "016a3e07-1f3c-401f-98dd-19f59fe63df4",
   "metadata": {},
   "outputs": [],
   "source": [
    "scatterplotcomp_obs_vs_pred_withstd(obspred_fluxesnew2, substrate='phenol', method='SPOT',linename='PVHG-P')"
   ]
  },
  {
   "cell_type": "markdown",
   "id": "2aa9818f-866c-4a45-a3b8-f992a4f04c04",
   "metadata": {},
   "source": [
    "### Map phenol SPOT fluxes"
   ]
  },
  {
   "cell_type": "code",
   "execution_count": null,
   "id": "73e3b9ca-a6a3-4c29-ba49-1d19f07b6a62",
   "metadata": {},
   "outputs": [],
   "source": [
    "map_flux_results(obspred_fluxes, 'SPOT Value')"
   ]
  },
  {
   "cell_type": "markdown",
   "id": "54ee4e1e-f8f6-4a85-994b-5e69bd3440ea",
   "metadata": {},
   "source": [
    "### Run phenol flux FBA"
   ]
  },
  {
   "cell_type": "code",
   "execution_count": null,
   "id": "0cad78bc-203a-4cc0-a318-23ca191e583d",
   "metadata": {},
   "outputs": [],
   "source": [
    "with model:\n",
    "    model.objective = 'Growth_Phenol'\n",
    "    mediumphe = model.medium\n",
    "    \n",
    "    # This is to prevent medium components other than phenol from being growth limitations\n",
    "    mediumphe = {key:1000 for (key,value) in model.medium.items()}\n",
    "    \n",
    "    mediumphe[\"EX_glc__D_e\"] = 0.0\n",
    "    mediumphe[\"EX_phenol_e\"] = 100.0\n",
    "    \n",
    "    model.medium = mediumphe\n",
    "    solutionphe = model.optimize()\n",
    "    \n",
    "print(solutionphe)"
   ]
  },
  {
   "cell_type": "code",
   "execution_count": null,
   "id": "8ddfe1b0-fe27-4f0e-9d83-f382da620bf7",
   "metadata": {},
   "outputs": [],
   "source": [
    "for r in model.metabolites.get_by_id('phenol_e').reactions:\n",
    "    print(solutionphe.fluxes[r.id], r)\n",
    "for r in model.metabolites.get_by_id('phenol_c').reactions:\n",
    "    print(solutionphe.fluxes[r.id], r)"
   ]
  },
  {
   "cell_type": "markdown",
   "id": "fd60fe5b-c02f-43d3-96b7-85a8a7e6e825",
   "metadata": {},
   "source": [
    "### Add Phenol FBA flux values to test_df "
   ]
  },
  {
   "cell_type": "code",
   "execution_count": null,
   "id": "8c9a08eb-03c7-4c4d-9aac-e17143f44aa9",
   "metadata": {},
   "outputs": [],
   "source": [
    "FBA_fluxes_phe = []\n",
    "for _, row in phenol_fluxes.iterrows():\n",
    "    reactions = row['Forward Reactions']\n",
    "    flux_value_phe = 0\n",
    "    for x in [x.strip('() ') for x in reactions.split(' or ')]:\n",
    "        and_split = [y.strip('() ') for y in x.split(' and ')]\n",
    "        flux_value_phe += min([get_flux_value(v, solutionphe) for v in and_split])\n",
    "    FBA_fluxes_phe.append(flux_value_phe)\n",
    "    \n",
    "phenol_fluxes['FBA Value'] = FBA_fluxes_phe\n",
    "phenol_fluxes"
   ]
  },
  {
   "cell_type": "markdown",
   "id": "bcf53bfe-0f5f-44a9-86bc-46e6de4b877c",
   "metadata": {},
   "source": [
    "### Get r<sup>2</sup>  values "
   ]
  },
  {
   "cell_type": "code",
   "execution_count": null,
   "id": "4ec01696-6ef3-4747-95c8-9ea998da214b",
   "metadata": {},
   "outputs": [],
   "source": [
    "# remove Energy molecule reactions as they are outliers\n",
    "r_squared_df = phenol_fluxes[~phenol_fluxes['Reaction'].isin(['ATP -> ATP.ext', 'NADH <-> NADPH'])]\n",
    "\n",
    "\n",
    "_, _, EFlux_r, _, _ = scipy.stats.linregress(r_squared_df['Flux'], r_squared_df['EFLUX2 Value'])\n",
    "_, _, FBA_r,   _, _  = scipy.stats.linregress(r_squared_df['Flux'], r_squared_df['FBA Value'])\n",
    "\n",
    "print(f'E-Flux2 vs 13C-MFA r-squared: {EFlux_r**2:.4F}')\n",
    "print(f'FBA vs 13C-MFA r-squared: {FBA_r**2:.4F}')"
   ]
  },
  {
   "cell_type": "code",
   "execution_count": null,
   "id": "d331a008-83a1-4093-a06f-6568f8df98fc",
   "metadata": {},
   "outputs": [],
   "source": [
    "r_squared_df"
   ]
  },
  {
   "cell_type": "code",
   "execution_count": null,
   "id": "63320dec-f713-4014-a475-3d14dc0a76a0",
   "metadata": {},
   "outputs": [],
   "source": [
    "r_squared_df"
   ]
  },
  {
   "cell_type": "markdown",
   "id": "8016de80-cb9d-4745-836d-ffa07cc9a9b9",
   "metadata": {},
   "source": [
    "### Plot FBA vs 13C MFA"
   ]
  },
  {
   "cell_type": "markdown",
   "id": "3366b524-047c-45b7-8571-37f15a8f9683",
   "metadata": {},
   "source": [
    "!!!To Do: Change functions to integrate no std situation!!!"
   ]
  },
  {
   "cell_type": "markdown",
   "id": "e9f4e951-3b86-49fe-9c56-77c03a74ea75",
   "metadata": {},
   "source": [
    "#### WT-P"
   ]
  },
  {
   "cell_type": "code",
   "execution_count": null,
   "id": "9cee13e6-37fd-4513-8599-f42afddd87f4",
   "metadata": {},
   "outputs": [],
   "source": [
    "matplotlib.rcParams.update({'font.size': 12})\n",
    "fig, ax = plt.subplots(figsize=(8, 8))\n",
    "ax.plot(ax.get_xlim(), ax.get_ylim(), ls=\"--\", c=\".3\")\n",
    "\n",
    "for pathway in list(set(phenol_fluxes['Pathway'])):\n",
    "    pathway_df = phenol_fluxes[phenol_fluxes['Pathway'] == pathway]\n",
    "    \n",
    "    measured_flux_list = list(pathway_df['Flux'])\n",
    "    simulated_flux_list = list(pathway_df['FBA Value'])\n",
    "    \n",
    "    ax.scatter(measured_flux_list, simulated_flux_list, label=pathway)\n",
    "\n",
    "\n",
    "# Dashed line\n",
    "x = np.linspace(*ax.get_xlim())\n",
    "ax.plot(x, x, ls=\"--\", c=\".3\")\n",
    "\n",
    "plt.title(r'Phenol 13C MFA vs FBA Fluxes', fontSize=20)\n",
    "plt.xlabel(r'13C MFA flux (per 100 mmol of Phenol uptake)')\n",
    "plt.ylabel(r'FBA flux (per 100 mmol of Phenol uptake)')\n",
    "plt.legend()\n",
    "plt.show()"
   ]
  },
  {
   "cell_type": "markdown",
   "id": "dccd84d1-f877-4fd2-84d3-d8c2c3097a64",
   "metadata": {},
   "source": [
    "### Map FBA Fluxes"
   ]
  },
  {
   "cell_type": "code",
   "execution_count": null,
   "id": "3ef1caf4-9757-4261-a522-228e53b82595",
   "metadata": {},
   "outputs": [],
   "source": [
    "map_flux_results(obspred_fluxes, 'FBA Value')"
   ]
  },
  {
   "cell_type": "markdown",
   "id": "7e3e3512-2e19-40b1-b21d-64802cd44740",
   "metadata": {},
   "source": [
    "### Map 13C MFA Fluxes"
   ]
  },
  {
   "cell_type": "code",
   "execution_count": null,
   "id": "689f85c5-be28-4474-83e3-99c105c04851",
   "metadata": {},
   "outputs": [],
   "source": [
    "map_flux_results(obspred_fluxes, 'Flux')"
   ]
  },
  {
   "cell_type": "markdown",
   "id": "ae0b7b31-256b-4056-883a-e449a7fdbe02",
   "metadata": {},
   "source": [
    "#### Load observed growth rates and plot glucose and phenol growth rates"
   ]
  },
  {
   "cell_type": "code",
   "execution_count": null,
   "id": "a5882b16-557b-431d-a338-2f5e32466c35",
   "metadata": {},
   "outputs": [],
   "source": [
    "growthandsubstrdata = pd.read_csv('growthandsubstratedata.csv')"
   ]
  },
  {
   "cell_type": "code",
   "execution_count": null,
   "id": "0f117e9e-fd00-429b-bb95-efca7ac7cd96",
   "metadata": {},
   "outputs": [],
   "source": [
    "#Scatterplot of solutions\n",
    "import matplotlib\n",
    "import matplotlib.pyplot as plt\n",
    "from matplotlib import cm\n",
    "from scipy.stats import linregress\n",
    "\n",
    "def maefunc(y_predict, y_actual):\n",
    "    \"\"\"Mean Absolute Error.\n",
    "    Multioutput case included.\"\"\"\n",
    "\n",
    "    if y_actual.ndim == 1:\n",
    "        return np.mean(np.abs([y_a - y_p for y_a, y_p in zip(y_actual, y_predict)]))\n",
    "    else:\n",
    "        return [\n",
    "            np.mean(\n",
    "                np.abs([y_a - y_p for y_a, y_p in zip(y_actual[:, i], y_predict[:, i])])\n",
    "            )\n",
    "            for i in range(y_actual.shape[1])\n",
    "        ]\n",
    "    \n",
    "def scatterplotcompare(observed, predicted, labels, strtitle):\n",
    "    fig, ax = plt.subplots(figsize=(8, 8))\n",
    "    #res = stats.linregress(observed.to_numpy().astype(float), predicted.to_numpy())\n",
    "    #print(res.rvalue**2)\n",
    "    lims = [\n",
    "                np.min([observed, predicted]),  # min of both axes\n",
    "                np.max([observed, predicted]),  # max of both axes\n",
    "            ]\n",
    "    ax.set_xlim(lims)\n",
    "    #ax.plot([0.0, 0.5], [0.0, 0.5], 'k',  c='0.55')\n",
    "    # Plot Diagonal Dashed Line\n",
    "    ax.plot(lims, lims, ls=\"--\", color=\".8\", zorder=0)\n",
    "    for i in range(0, len(observed)):\n",
    "        ax.scatter(observed[i], predicted[i])\n",
    "        ax.annotate(str(labels[i]),(observed[i],predicted[i]))\n",
    "    #ax.annotate(\"r-squared = {:.3f}\".format(round(r2_score(observed, predicted))), (0, 1))\n",
    "    #plt.plot(observed, res.intercept + res.slope*observed, 'k', label='fitted line')\n",
    "    rss = np.sum((predicted - observed) ** 2)\n",
    "    tss = np.sum((predicted - predicted.mean()) ** 2)\n",
    "    display(tss)\n",
    "    r2_1 = 1 - rss / tss\n",
    "    res = scipy.stats.linregress(observed.to_numpy(), predicted.to_numpy())\n",
    "    r2_2 = res.rvalue**2\n",
    "    #display(r2_1)\n",
    "    #r2 = round(r2_score(observed, predicted),2)\n",
    "    mse = np.round(1/len(observed) * rss,2) \n",
    "    rmse = np.round(np.sqrt(1/len(observed) * rss),2)\n",
    "    #adjgrowth_r = 1 - (1- res.rvalue**2)*(len(observed)-1)/(len(observed)-2-1) \n",
    "    #display('adjusted_r', adjgrowth_r)\n",
    "    #display(rmse)\n",
    "    #display(r2_score(observed, predicted))\n",
    "    mae_score = round(maefunc(observed, predicted),2)\n",
    "    plt.xlabel(r'Observed growth rates [$mmol/gDW/hr$]')\n",
    "    plt.ylabel(r'Predicted growth rates [$mmol/gDW/hr$]')\n",
    "    plt.title(r'Growth rates: Observed vs. Predicted ('+strtitle+'), \\n' + f\"$R^2$={r2_2:.2F}, MAE={mae_score}, MSE = {mse}, RMSE={rmse}\", fontsize=18)\n",
    "    plt.show()"
   ]
  },
  {
   "cell_type": "code",
   "execution_count": null,
   "id": "059bd321-6020-496c-b9b0-85a0eff315e1",
   "metadata": {},
   "outputs": [],
   "source": [
    "growthandsubstrdata.index = growthandsubstrdata['Unnamed: 0']\n",
    "growthandsubstrdata.drop(['Unnamed: 0'], axis=1)"
   ]
  },
  {
   "cell_type": "code",
   "execution_count": null,
   "id": "c64fd554-c8bd-45f3-96fb-16c8e4aeb9cf",
   "metadata": {},
   "outputs": [],
   "source": [
    "growthandsubstrdata.index\n",
    "growthandsubstrdata.loc['WT-P', 'growth_rate']"
   ]
  },
  {
   "cell_type": "code",
   "execution_count": null,
   "id": "2af6522d-ab13-47d4-a482-dd803d4d651d",
   "metadata": {},
   "outputs": [],
   "source": [
    "allgrowthratesglucose = pd.read_csv('allgrowthratesGlucose.csv')\n",
    "allgrowthratesglucose"
   ]
  },
  {
   "cell_type": "code",
   "execution_count": null,
   "id": "6ee49fb0-5880-47fc-b6e1-a7b979f4635a",
   "metadata": {},
   "outputs": [],
   "source": [
    "allgrowthrates=pd.DataFrame(index=['WT-P', 'PVHG-P', 'WT-LN-G', 'EVOL33-LN-G', 'EVOL40-LN-G'], columns=['Growth_SPOT', 'Growth_EFLUX2'], dtype=float)"
   ]
  },
  {
   "cell_type": "code",
   "execution_count": null,
   "id": "202555da-15a2-48ca-8b41-69648336eca8",
   "metadata": {},
   "outputs": [],
   "source": [
    "def scalegrowthtosub(solgrowth, soluptake, sub_uptake_2comp):\n",
    "    factor = abs(sub_uptake_2comp)/abs(soluptake)\n",
    "    display(abs(soluptake), abs(sub_uptake_2comp), factor)\n",
    "    solgrowthnew = solgrowth*factor\n",
    "    return solgrowthnew\n",
    "scaledgrowthratespot_wtp = scalegrowthtosub(spotsoldf.loc['Growth_Phenol',:].values[0], spotsoldf.loc['EX_phenol_e',:].values[0],growthandsubstrdata.loc['WT-P', 'substrate_consumption_rate'])\n",
    "scaledgrowthratespot_pvhgp = scalegrowthtosub(spotsoldf_PVHG.loc['Growth_Phenol',:].values[0], spotsoldf_PVHG.loc['EX_phenol_e',:].values[0],growthandsubstrdata.loc['PVHG-P', 'substrate_consumption_rate'])\n",
    "scaledgrowthrate_wtp = scalegrowthtosub(eflux2soldf.loc['Growth_Phenol',:].values[0], eflux2soldf.loc['EX_phenol_e',:].values[0],growthandsubstrdata.loc['WT-P', 'substrate_consumption_rate'])\n",
    "scaledgrowthrate_pvhgp = scalegrowthtosub(eflux2soldf_PVHG.loc['Growth_Phenol',:].values[0], eflux2soldf_PVHG.loc['EX_phenol_e',:].values[0],growthandsubstrdata.loc['PVHG-P', 'substrate_consumption_rate'])"
   ]
  },
  {
   "cell_type": "code",
   "execution_count": null,
   "id": "3e8b9685-aab5-41a3-b94e-63456e59742a",
   "metadata": {},
   "outputs": [],
   "source": [
    "allgrowthrates.at['WT-P','Growth_SPOT'] = scaledgrowthratespot_wtp#spotsoldf.loc['Growth_Glucose',:].values[0]\n",
    "allgrowthrates.at['PVHG-P','Growth_SPOT'] = scaledgrowthratespot_pvhgp#spotsoldf_evol33.loc['Growth_Glucose',:].values[0]\n",
    "allgrowthrates.at['WT-P','Growth_EFLUX2'] = scaledgrowthrate_wtp#eflux2soldf.loc['Growth_Glucose',:].values[0]#/366.324066\n",
    "allgrowthrates.at['PVHG-P','Growth_EFLUX2'] = scaledgrowthrate_pvhgp#eflux2soldf_evol33.loc['Growth_Glucose',:].values[0]\n",
    "allgrowthrates"
   ]
  },
  {
   "cell_type": "code",
   "execution_count": null,
   "id": "63aca2bb-2e4b-4b7d-b557-4230da5d7bec",
   "metadata": {},
   "outputs": [],
   "source": [
    "# allgrowthrates.at['WT-P','Growth_SPOT'] = spotsoldf.loc['Growth_Phenol',:].values[0]\n",
    "# allgrowthrates.at['PVHG-P','Growth_SPOT'] = spotsoldf_PVHG.loc['Growth_Phenol',:].values[0]\n",
    "# allgrowthrates.at['WT-P','Growth_EFLUX2'] = eflux2soldf.loc['Growth_Phenol',:].values[0]\n",
    "# allgrowthrates.at['PVHG-P','Growth_EFLUX2'] = eflux2soldf_PVHG.loc['Growth_Phenol',:].values[0]\n",
    "allgrowthrates.at['WT-LN-G','Growth_SPOT'] = allgrowthratesglucose.loc[0,'Growth_Glucose_EFLUX2']\n",
    "allgrowthrates.at['EVOL33-LN-G','Growth_SPOT'] = allgrowthratesglucose.loc[1,'Growth_Glucose_EFLUX2']\n",
    "allgrowthrates.at['EVOL40-LN-G','Growth_SPOT'] = allgrowthratesglucose.loc[2,'Growth_Glucose_EFLUX2']\n",
    "allgrowthrates.at['WT-LN-G','Growth_EFLUX2'] = allgrowthratesglucose.loc[0,'Growth_Glucose_SPOT']\n",
    "allgrowthrates.at['EVOL33-LN-G','Growth_EFLUX2'] = allgrowthratesglucose.loc[1,'Growth_Glucose_SPOT']\n",
    "allgrowthrates.at['EVOL40-LN-G','Growth_EFLUX2'] = allgrowthratesglucose.loc[2,'Growth_Glucose_SPOT']\n",
    "allgrowthrates\n"
   ]
  },
  {
   "cell_type": "code",
   "execution_count": null,
   "id": "5c61efeb-7c4a-4e6c-a9a0-f470b2ee2feb",
   "metadata": {},
   "outputs": [],
   "source": [
    "growthrow = obspred_fluxes[obspred_fluxes['Pathway']=='Biomass Equation']\n",
    "growthrate_eflux2 = float(growthrow['EFLUX2 Value'])\n",
    "growthrow2 = obspred_fluxes2[obspred_fluxes2['Pathway']=='Biomass Equation']\n",
    "growthrate_eflux22 = float(growthrow2['EFLUX2 Value'])"
   ]
  },
  {
   "cell_type": "code",
   "execution_count": null,
   "id": "5da6d7e7-135f-4968-91a9-2ea4ceb65230",
   "metadata": {},
   "outputs": [],
   "source": [
    "growthrate_eflux2"
   ]
  },
  {
   "cell_type": "code",
   "execution_count": null,
   "id": "03a4711c-7847-445e-9943-5a810c999289",
   "metadata": {},
   "outputs": [],
   "source": [
    "growthrate_eflux22"
   ]
  },
  {
   "cell_type": "code",
   "execution_count": null,
   "id": "e74bea60-0e42-4994-872e-a058d39c92b8",
   "metadata": {},
   "outputs": [],
   "source": [
    "growthrow_spot = obspred_fluxesnew[obspred_fluxesnew['Pathway']=='Biomass Equation']\n",
    "growthrate_spot = float(growthrow_spot['SPOT Value'])\n",
    "growthrow_spot2 = obspred_fluxesnew2[obspred_fluxesnew2['Pathway']=='Biomass Equation']\n",
    "growthrate_spot2 = float(growthrow_spot2['SPOT Value'])"
   ]
  },
  {
   "cell_type": "code",
   "execution_count": null,
   "id": "8cbcfd57-bba3-41a0-895b-72abd4d66e17",
   "metadata": {},
   "outputs": [],
   "source": [
    "growthrate_spot"
   ]
  },
  {
   "cell_type": "code",
   "execution_count": null,
   "id": "a1508c1d-9acd-4ce7-841c-6f84676cb774",
   "metadata": {},
   "outputs": [],
   "source": [
    "growthrate_spot2"
   ]
  },
  {
   "cell_type": "code",
   "execution_count": null,
   "id": "297ea83b-d9cb-4c47-828d-b55ecda7e589",
   "metadata": {},
   "outputs": [],
   "source": [
    "allindices=[str(row) for row in allgrowthrates.index]\n",
    "scatterplotcompare(growthandsubstrdata.loc[['WT-P', 'PVHG-P'], 'growth_rate'], allgrowthrates.loc[['WT-P', 'PVHG-P'],'Growth_SPOT'], ['WT-P', 'PVHG-P'], 'SPOT')\n",
    "scatterplotcompare(growthandsubstrdata.loc[['WT-P', 'PVHG-P'], 'growth_rate'], allgrowthrates.loc[['WT-P', 'PVHG-P'],'Growth_EFLUX2'], ['WT-P', 'PVHG-P'], 'EFLUX2')"
   ]
  },
  {
   "cell_type": "code",
   "execution_count": null,
   "id": "66fe0533-7443-4490-8a68-a1eb433676f5",
   "metadata": {},
   "outputs": [],
   "source": [
    "display(allgrowthrates.index)\n",
    "\n",
    "allindices=[str(row) for row in allgrowthrates.index]\n",
    "#display(growthandsubstrdata.loc[allindices,:])#'growth_rate'] \n",
    "scatterplotcompare(growthandsubstrdata.loc[allindices, 'growth_rate'], allgrowthrates.loc[allindices,'Growth_SPOT'], allindices, 'SPOT')\n",
    "scatterplotcompare(growthandsubstrdata.loc[allindices, 'growth_rate'], allgrowthrates.loc[allindices,'Growth_EFLUX2'], allindices, 'EFLUX2')"
   ]
  },
  {
   "cell_type": "code",
   "execution_count": null,
   "id": "86d81f6c-773c-4d5e-8f5e-94ff16549c2a",
   "metadata": {},
   "outputs": [],
   "source": []
  },
  {
   "cell_type": "code",
   "execution_count": null,
   "id": "ae39c4b8-fae5-43ef-83be-276485aec762",
   "metadata": {},
   "outputs": [],
   "source": []
  },
  {
   "cell_type": "code",
   "execution_count": null,
   "id": "f1a01ba3-58b8-4a03-b642-0bf467b88466",
   "metadata": {},
   "outputs": [],
   "source": []
  }
 ],
 "metadata": {
  "kernelspec": {
   "display_name": "biodesign_3.7",
   "language": "python",
   "name": "biod_3.7"
  },
  "language_info": {
   "codemirror_mode": {
    "name": "ipython",
    "version": 3
   },
   "file_extension": ".py",
   "mimetype": "text/x-python",
   "name": "python",
   "nbconvert_exporter": "python",
   "pygments_lexer": "ipython3",
   "version": "3.7.4"
  }
 },
 "nbformat": 4,
 "nbformat_minor": 5
}

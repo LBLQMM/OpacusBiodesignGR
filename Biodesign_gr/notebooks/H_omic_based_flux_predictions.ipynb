{
 "cells": [
  {
   "cell_type": "markdown",
   "id": "processed-punishment",
   "metadata": {},
   "source": [
    "# Transcriptomic and Proteomic based flux predictions\n",
    "This notebook integrates Transcriptomic measurements into flux profiles"
   ]
  },
  {
   "cell_type": "markdown",
   "id": "active-smell",
   "metadata": {},
   "source": [
    "### Imports"
   ]
  },
  {
   "cell_type": "code",
   "execution_count": 1,
   "id": "offensive-upper",
   "metadata": {},
   "outputs": [],
   "source": [
    "import pandas as pd\n",
    "import cobra"
   ]
  },
  {
   "cell_type": "markdown",
   "id": "double-development",
   "metadata": {},
   "source": [
    "### Load Transcriptomics Data"
   ]
  },
  {
   "cell_type": "code",
   "execution_count": 2,
   "id": "industrial-marking",
   "metadata": {},
   "outputs": [
    {
     "data": {
      "text/html": [
       "<div>\n",
       "<style scoped>\n",
       "    .dataframe tbody tr th:only-of-type {\n",
       "        vertical-align: middle;\n",
       "    }\n",
       "\n",
       "    .dataframe tbody tr th {\n",
       "        vertical-align: top;\n",
       "    }\n",
       "\n",
       "    .dataframe thead th {\n",
       "        text-align: right;\n",
       "    }\n",
       "</style>\n",
       "<table border=\"1\" class=\"dataframe\">\n",
       "  <thead>\n",
       "    <tr style=\"text-align: right;\">\n",
       "      <th></th>\n",
       "      <th>Line Name</th>\n",
       "      <th>Measurement Type</th>\n",
       "      <th>Time</th>\n",
       "      <th>Value</th>\n",
       "      <th>Units</th>\n",
       "    </tr>\n",
       "  </thead>\n",
       "  <tbody>\n",
       "    <tr>\n",
       "      <th>0</th>\n",
       "      <td>WT-G-R1</td>\n",
       "      <td>PD630_LPD06575</td>\n",
       "      <td>14</td>\n",
       "      <td>708</td>\n",
       "      <td>counts</td>\n",
       "    </tr>\n",
       "    <tr>\n",
       "      <th>1</th>\n",
       "      <td>WT-G-R1</td>\n",
       "      <td>PD630_LPD06576</td>\n",
       "      <td>14</td>\n",
       "      <td>6513</td>\n",
       "      <td>counts</td>\n",
       "    </tr>\n",
       "    <tr>\n",
       "      <th>2</th>\n",
       "      <td>WT-G-R1</td>\n",
       "      <td>PD630_LPD00131</td>\n",
       "      <td>14</td>\n",
       "      <td>1015</td>\n",
       "      <td>counts</td>\n",
       "    </tr>\n",
       "    <tr>\n",
       "      <th>3</th>\n",
       "      <td>WT-G-R1</td>\n",
       "      <td>PD630_LPD06740</td>\n",
       "      <td>14</td>\n",
       "      <td>289</td>\n",
       "      <td>counts</td>\n",
       "    </tr>\n",
       "    <tr>\n",
       "      <th>4</th>\n",
       "      <td>WT-G-R1</td>\n",
       "      <td>PD630_LPD06741</td>\n",
       "      <td>14</td>\n",
       "      <td>1159</td>\n",
       "      <td>counts</td>\n",
       "    </tr>\n",
       "  </tbody>\n",
       "</table>\n",
       "</div>"
      ],
      "text/plain": [
       "  Line Name Measurement Type  Time  Value   Units\n",
       "0   WT-G-R1   PD630_LPD06575    14    708  counts\n",
       "1   WT-G-R1   PD630_LPD06576    14   6513  counts\n",
       "2   WT-G-R1   PD630_LPD00131    14   1015  counts\n",
       "3   WT-G-R1   PD630_LPD06740    14    289  counts\n",
       "4   WT-G-R1   PD630_LPD06741    14   1159  counts"
      ]
     },
     "execution_count": 2,
     "metadata": {},
     "output_type": "execute_result"
    }
   ],
   "source": [
    "yoneda_data = pd.read_csv('../../EDD_Yoneda_data/Yoneda_set3_transcriptomics_data.csv')\n",
    "\n",
    "# remove blank columns\n",
    "yoneda_data = yoneda_data[[col for col in yoneda_data.columns if 'Unnamed' not in col]]\n",
    "\n",
    "yoneda_data.head()"
   ]
  },
  {
   "cell_type": "code",
   "execution_count": 3,
   "id": "mature-marijuana",
   "metadata": {},
   "outputs": [
    {
     "name": "stdout",
     "output_type": "stream",
     "text": [
      "There are 15685 genes in the transcriptomics data set (LPD)\n"
     ]
    },
    {
     "data": {
      "text/plain": [
       "['PD630_LPD06236',\n",
       " 'PD630_LPD08532',\n",
       " 'PD630_LPD11098',\n",
       " 'PD630_LPD02859',\n",
       " 'PD630_LPD01602']"
      ]
     },
     "execution_count": 3,
     "metadata": {},
     "output_type": "execute_result"
    }
   ],
   "source": [
    "transcriptomics_genes = list(set(yoneda_data['Measurement Type']))\n",
    "print(f'There are {len(transcriptomics_genes)} genes in the transcriptomics data set (LPD)')\n",
    "transcriptomics_genes[:5]"
   ]
  },
  {
   "cell_type": "markdown",
   "id": "gorgeous-shower",
   "metadata": {},
   "source": [
    "### Load Model Data"
   ]
  },
  {
   "cell_type": "code",
   "execution_count": 4,
   "id": "august-programmer",
   "metadata": {},
   "outputs": [
    {
     "name": "stdout",
     "output_type": "stream",
     "text": [
      "There are 1576 genes in the model (WP)\n"
     ]
    },
    {
     "data": {
      "text/plain": [
       "['WP_187300246_1',\n",
       " 'WP_025432775_1',\n",
       " 'WP_005248578_1',\n",
       " 'WP_025433613_1',\n",
       " 'WP_005249637_1']"
      ]
     },
     "execution_count": 4,
     "metadata": {},
     "output_type": "execute_result"
    }
   ],
   "source": [
    "model = cobra.io.read_sbml_model(\"../GSMs/Ropacus_annotated_curated_with_phenol_custom_biomass.xml\")\n",
    "model_genes = [g.id for g in model.genes]\n",
    "print(f'There are {len(model_genes)} genes in the model (WP)')\n",
    "model_genes[:5]"
   ]
  },
  {
   "cell_type": "markdown",
   "id": "trained-grant",
   "metadata": {},
   "source": [
    "### Load gene mapping data frame"
   ]
  },
  {
   "cell_type": "code",
   "execution_count": 5,
   "id": "thick-rescue",
   "metadata": {},
   "outputs": [
    {
     "name": "stdout",
     "output_type": "stream",
     "text": [
      "There are 7092 mapped genes\n"
     ]
    },
    {
     "data": {
      "text/html": [
       "<div>\n",
       "<style scoped>\n",
       "    .dataframe tbody tr th:only-of-type {\n",
       "        vertical-align: middle;\n",
       "    }\n",
       "\n",
       "    .dataframe tbody tr th {\n",
       "        vertical-align: top;\n",
       "    }\n",
       "\n",
       "    .dataframe thead th {\n",
       "        text-align: right;\n",
       "    }\n",
       "</style>\n",
       "<table border=\"1\" class=\"dataframe\">\n",
       "  <thead>\n",
       "    <tr style=\"text-align: right;\">\n",
       "      <th></th>\n",
       "      <th>Unnamed: 0</th>\n",
       "      <th>Gene ID (RS)</th>\n",
       "      <th>Gene ID (LPD)</th>\n",
       "      <th>Gene ID (WP)</th>\n",
       "      <th>Annotation</th>\n",
       "    </tr>\n",
       "  </thead>\n",
       "  <tbody>\n",
       "    <tr>\n",
       "      <th>0</th>\n",
       "      <td>1</td>\n",
       "      <td>PD630_RS00010</td>\n",
       "      <td>PD630_LPD00002</td>\n",
       "      <td>WP_005569241_1</td>\n",
       "      <td>DNA polymerase III subunit beta</td>\n",
       "    </tr>\n",
       "    <tr>\n",
       "      <th>1</th>\n",
       "      <td>2</td>\n",
       "      <td>PD630_RS00015</td>\n",
       "      <td>PD630_LPD00003</td>\n",
       "      <td>WP_007296166_1</td>\n",
       "      <td>6-phosphogluconate dehydrogenase</td>\n",
       "    </tr>\n",
       "    <tr>\n",
       "      <th>2</th>\n",
       "      <td>3</td>\n",
       "      <td>PD630_RS00020</td>\n",
       "      <td>PD630_LPD00004</td>\n",
       "      <td>WP_005237760_1</td>\n",
       "      <td>DNA replication and repair protein RecF</td>\n",
       "    </tr>\n",
       "    <tr>\n",
       "      <th>3</th>\n",
       "      <td>4</td>\n",
       "      <td>PD630_RS00025</td>\n",
       "      <td>PD630_LPD00005</td>\n",
       "      <td>WP_005237761_1</td>\n",
       "      <td>hypothetical protein</td>\n",
       "    </tr>\n",
       "    <tr>\n",
       "      <th>4</th>\n",
       "      <td>5</td>\n",
       "      <td>PD630_RS00030</td>\n",
       "      <td>PD630_LPD00006</td>\n",
       "      <td>WP_005256534_1</td>\n",
       "      <td>metal-dependent hydrolase</td>\n",
       "    </tr>\n",
       "  </tbody>\n",
       "</table>\n",
       "</div>"
      ],
      "text/plain": [
       "   Unnamed: 0   Gene ID (RS)   Gene ID (LPD)    Gene ID (WP)  \\\n",
       "0           1  PD630_RS00010  PD630_LPD00002  WP_005569241_1   \n",
       "1           2  PD630_RS00015  PD630_LPD00003  WP_007296166_1   \n",
       "2           3  PD630_RS00020  PD630_LPD00004  WP_005237760_1   \n",
       "3           4  PD630_RS00025  PD630_LPD00005  WP_005237761_1   \n",
       "4           5  PD630_RS00030  PD630_LPD00006  WP_005256534_1   \n",
       "\n",
       "                                Annotation  \n",
       "0          DNA polymerase III subunit beta  \n",
       "1         6-phosphogluconate dehydrogenase  \n",
       "2  DNA replication and repair protein RecF  \n",
       "3                     hypothetical protein  \n",
       "4                metal-dependent hydrolase  "
      ]
     },
     "execution_count": 5,
     "metadata": {},
     "output_type": "execute_result"
    }
   ],
   "source": [
    "gene_mapping_df = pd.read_csv('../gene_converter/LPD_RS_WP_gene_mapping.csv')\n",
    "print(f'There are {len(gene_mapping_df)} mapped genes')\n",
    "gene_mapping_df.head()"
   ]
  },
  {
   "cell_type": "markdown",
   "id": "regional-holmes",
   "metadata": {},
   "source": [
    "#### Remove rows that have unknown values for LPD or WP IDs"
   ]
  },
  {
   "cell_type": "markdown",
   "id": "varying-standard",
   "metadata": {},
   "source": [
    "### Make gene mapping dictionary"
   ]
  },
  {
   "cell_type": "code",
   "execution_count": 7,
   "id": "julian-carol",
   "metadata": {},
   "outputs": [
    {
     "name": "stdout",
     "output_type": "stream",
     "text": [
      "There are 6893 mapped genes\n",
      "WP_005569241_1 → PD630_LPD00002\n",
      "WP_007296166_1 → PD630_LPD00003\n",
      "WP_005237760_1 → PD630_LPD00004\n",
      "WP_005237761_1 → PD630_LPD00005\n",
      "WP_005256534_1 → PD630_LPD00006\n"
     ]
    }
   ],
   "source": [
    "WP_to_LPD_dictionary = {row['Gene ID (WP)']:row['Gene ID (LPD)'] for _, row in gene_mapping_df.iterrows()}\n",
    "\n",
    "print(f'There are {len(WP_to_LPD_dictionary)} mapped genes')\n",
    "\n",
    "for k in list(WP_to_LPD_dictionary.keys())[:5]:\n",
    "    print(f'{k} → {WP_to_LPD_dictionary[k]}')"
   ]
  },
  {
   "cell_type": "markdown",
   "id": "political-absence",
   "metadata": {},
   "source": [
    "### Determine how many WP genes in the model have mappings to LPD"
   ]
  },
  {
   "cell_type": "code",
   "execution_count": 8,
   "id": "african-cedar",
   "metadata": {},
   "outputs": [
    {
     "name": "stdout",
     "output_type": "stream",
     "text": [
      "The model has 196 genes that map to LPD genes\n",
      "The model has 1380 genes that do NOT map to LPD genes\n"
     ]
    }
   ],
   "source": [
    "mapped_model_genes = [g for g in model_genes if g in WP_to_LPD_dictionary.keys()]\n",
    "unmapped_model_genes = [g for g in model_genes if g not in WP_to_LPD_dictionary.keys()]\n",
    "\n",
    "print(f'The model has {len(mapped_model_genes)} genes that map to LPD genes')\n",
    "print(f'The model has {len(unmapped_model_genes)} genes that do NOT map to LPD genes')"
   ]
  },
  {
   "cell_type": "code",
   "execution_count": 13,
   "id": "mathematical-tuner",
   "metadata": {},
   "outputs": [
    {
     "name": "stdout",
     "output_type": "stream",
     "text": [
      "The model has 196 genes that map to LPD genes\n"
     ]
    }
   ],
   "source": [
    "transcriptomic_mapped_model_genes = [g for g in mapped_model_genes if g in WP_to_LPD_dictionary.keys()]\n",
    "print(f'The model has {len(transcriptomic_mapped_model_genes)} genes that map to LPD genes')"
   ]
  },
  {
   "cell_type": "code",
   "execution_count": 12,
   "id": "uniform-shepherd",
   "metadata": {},
   "outputs": [],
   "source": [
    "# transcriptomic_mapped_model_genes"
   ]
  },
  {
   "cell_type": "code",
   "execution_count": 16,
   "id": "headed-mouse",
   "metadata": {},
   "outputs": [
    {
     "name": "stdout",
     "output_type": "stream",
     "text": [
      "196\n"
     ]
    }
   ],
   "source": [
    "model_mapped_genes = [g for g in model_genes if g in mapped_model_genes]\n",
    "print(len(model_mapped_genes))"
   ]
  },
  {
   "cell_type": "code",
   "execution_count": 21,
   "id": "mental-default",
   "metadata": {},
   "outputs": [
    {
     "data": {
      "text/plain": [
       "6850"
      ]
     },
     "execution_count": 21,
     "metadata": {},
     "output_type": "execute_result"
    }
   ],
   "source": [
    "transcriptomic_mapped_genes = [g for g in transcriptomics_genes if g in WP_to_LPD_dictionary.values()]\n",
    "len(transcriptomic_mapped_genes)"
   ]
  },
  {
   "cell_type": "code",
   "execution_count": 22,
   "id": "automatic-position",
   "metadata": {},
   "outputs": [
    {
     "data": {
      "text/plain": [
       "242"
      ]
     },
     "execution_count": 22,
     "metadata": {},
     "output_type": "execute_result"
    }
   ],
   "source": [
    "7092-6850"
   ]
  },
  {
   "cell_type": "code",
   "execution_count": 23,
   "id": "attached-compact",
   "metadata": {},
   "outputs": [
    {
     "data": {
      "text/plain": [
       "8835"
      ]
     },
     "execution_count": 23,
     "metadata": {},
     "output_type": "execute_result"
    }
   ],
   "source": [
    "15685-6850"
   ]
  },
  {
   "cell_type": "markdown",
   "id": "satisfied-hypothesis",
   "metadata": {},
   "source": [
    "### Make a dictionary where keys are measured gene names and the values are lists of  measured values and  add measured values to the lists"
   ]
  },
  {
   "cell_type": "code",
   "execution_count": null,
   "id": "mental-cabinet",
   "metadata": {},
   "outputs": [],
   "source": [
    "# Make dictionary of blank lists\n",
    "genes = list(set(yoneda_data['Measurement Type']))\n",
    "print(f'There are {len(genes)} measured genes')\n",
    "gene_dictionary = {gene:[] for gene in genes}\n",
    "\n",
    "# Add measured values to the list\n",
    "conditions = list(set(yoneda_data['Line Name']))\n",
    "for condition in conditions:\n",
    "    print(condition)\n",
    "    condition_df = yoneda_data[yoneda_data['Line Name'] == condition]\n",
    "    for gene in genes:\n",
    "        try:\n",
    "            gene_value = float(condition_df[condition_df['Measurement Type'] == gene]['Value'])\n",
    "            gene_dictionary[gene].append(gene_value)\n",
    "        except:\n",
    "            gene_dictionary[gene].append('none')"
   ]
  },
  {
   "cell_type": "markdown",
   "id": "outstanding-nitrogen",
   "metadata": {},
   "source": [
    "### Remove genes that do have multiple measurements for a single run"
   ]
  },
  {
   "cell_type": "code",
   "execution_count": null,
   "id": "vital-there",
   "metadata": {},
   "outputs": [],
   "source": [
    "new_gene_dictionary = {}\n",
    "for gene, values in gene_dictionary.items():\n",
    "    if len(values) == 8:\n",
    "        new_gene_dictionary[gene] = values\n",
    "    else:\n",
    "        print(len(values), gene, values)"
   ]
  },
  {
   "cell_type": "markdown",
   "id": "tired-lucas",
   "metadata": {},
   "source": [
    "### Convert the gene dictionary to a dataframe"
   ]
  },
  {
   "cell_type": "code",
   "execution_count": null,
   "id": "varied-reynolds",
   "metadata": {},
   "outputs": [],
   "source": [
    "transcriptomic_df = pd.DataFrame.from_dict(new_gene_dictionary, orient='index', columns=conditions)\n",
    "transcriptomic_df.head()"
   ]
  },
  {
   "cell_type": "markdown",
   "id": "minimal-cardiff",
   "metadata": {},
   "source": [
    "### Load LPD to WP mapping"
   ]
  },
  {
   "cell_type": "code",
   "execution_count": null,
   "id": "lasting-radius",
   "metadata": {},
   "outputs": [],
   "source": [
    "gene_mapping_df = pd.read_csv('../gene_converter/LPD_RS_WP_gene_mapping.csv')\n",
    "print(f'There are {len(gene_mapping_df)} mapped genes')\n",
    "\n",
    "# remove blank columns\n",
    "gene_mapping_df = gene_mapping_df[[col for col in gene_mapping_df.columns if 'Unnamed' not in col]]\n",
    "\n",
    "gene_mapping_df.head()"
   ]
  },
  {
   "cell_type": "markdown",
   "id": "metric-product",
   "metadata": {},
   "source": [
    "### Add WP annoation to transcriptomic data"
   ]
  },
  {
   "cell_type": "code",
   "execution_count": null,
   "id": "timely-ferry",
   "metadata": {},
   "outputs": [],
   "source": [
    "# make dicitonary where keys are LPD IDs and values are WP IDs \n",
    "LPD_to_WP_dictionary = {row['Gene ID (LPD)']:row['Gene ID (WP)'] for _, row in gene_mapping_df.iterrows()}\n",
    "\n",
    "\n",
    "not_matched = 0\n",
    "WP_genes = []\n",
    "for index, _ in transcriptomic_df.iterrows():\n",
    "    try:\n",
    "        WP_genes.append(LPD_to_WP_dictionary[index])\n",
    "    except:\n",
    "        WP_genes.append('Unknown')\n",
    "        not_matched += 1\n",
    "\n",
    "transcriptomic_df['WP_gene'] = WP_genes\n",
    "print(f'There are {not_matched} genes that have an LPD measurement without a WP mapping')\n",
    "transcriptomic_df.head()"
   ]
  },
  {
   "cell_type": "markdown",
   "id": "portuguese-transfer",
   "metadata": {},
   "source": [
    "### Check measured values for genes without known WP ids"
   ]
  },
  {
   "cell_type": "code",
   "execution_count": null,
   "id": "private-awareness",
   "metadata": {},
   "outputs": [],
   "source": [
    "unknown_df = transcriptomic_df[transcriptomic_df['WP_gene'] == 'Unknown']\n",
    "unknown_df.head()"
   ]
  },
  {
   "cell_type": "markdown",
   "id": "fluid-access",
   "metadata": {},
   "source": [
    "### Determine how many genes are in the genome scale model and how many of them have known mappings to LPD data"
   ]
  },
  {
   "cell_type": "markdown",
   "id": "baking-husband",
   "metadata": {},
   "source": [
    "### Load model"
   ]
  },
  {
   "cell_type": "code",
   "execution_count": null,
   "id": "familiar-adjustment",
   "metadata": {},
   "outputs": [],
   "source": [
    "model = cobra.io.read_sbml_model(\"../GSMs/Ropacus_annotated_curated_with_phenol_custom_biomass.xml\")\n",
    "model"
   ]
  },
  {
   "cell_type": "markdown",
   "id": "cognitive-formation",
   "metadata": {},
   "source": [
    "### Get list of genes"
   ]
  },
  {
   "cell_type": "code",
   "execution_count": null,
   "id": "floating-projection",
   "metadata": {},
   "outputs": [],
   "source": [
    "model_genes = [g.id for g in model.genes]\n",
    "print(f'The genome scale model has {len(model_genes)} genes')"
   ]
  },
  {
   "cell_type": "markdown",
   "id": "through-amplifier",
   "metadata": {},
   "source": [
    "### Determine how many genes have known LPD numbers"
   ]
  },
  {
   "cell_type": "code",
   "execution_count": null,
   "id": "cubic-legislation",
   "metadata": {},
   "outputs": [],
   "source": [
    "WP_to_LPD_dictionary = {v.replace('.', '_'):k for k,v in LPD_to_WP_dictionary.items()}\n",
    "\n",
    "for k,v in list(WP_to_LPD_dictionary.items())[:5]:\n",
    "    print(k, v)"
   ]
  },
  {
   "cell_type": "code",
   "execution_count": null,
   "id": "minimal-pitch",
   "metadata": {},
   "outputs": [],
   "source": [
    "model_genes[:10]"
   ]
  },
  {
   "cell_type": "code",
   "execution_count": null,
   "id": "negative-cancer",
   "metadata": {},
   "outputs": [],
   "source": []
  },
  {
   "cell_type": "code",
   "execution_count": null,
   "id": "capable-david",
   "metadata": {},
   "outputs": [],
   "source": [
    "# Switch keys and values of the mapping dictionary\n",
    "WP_to_LPD_dictionary = {v:k for k,v in LPD_to_WP_dictionary.items()}\n",
    "\n",
    "\n",
    "mapped_model_genes = 0\n",
    "for g in model_genes:\n",
    "    try:\n",
    "        WP_to_LPD_dictionary[g]\n",
    "    except:\n",
    "        mapped_model_genes += 1\n",
    "        \n",
    "print(mapped_model_genes)\n",
    "#     print(WP_to_LPD_dictionary[g])\n",
    "# known_LPD \n",
    "# for g in model.genes:\n",
    "    "
   ]
  },
  {
   "cell_type": "code",
   "execution_count": null,
   "id": "starting-arena",
   "metadata": {},
   "outputs": [],
   "source": []
  },
  {
   "cell_type": "code",
   "execution_count": null,
   "id": "animal-lincoln",
   "metadata": {},
   "outputs": [],
   "source": []
  },
  {
   "cell_type": "code",
   "execution_count": null,
   "id": "sexual-trance",
   "metadata": {},
   "outputs": [],
   "source": [
    "print(len([gene for gene in list(transcriptomic_df.index) if gene not in list(LPD_to_WP_dictionary.keys())]))"
   ]
  },
  {
   "cell_type": "code",
   "execution_count": null,
   "id": "vocal-dressing",
   "metadata": {},
   "outputs": [],
   "source": [
    "yoneda_ids = list(transcriptomic_df.index)\n",
    "mapping_ids = list(LPD_to_WP_dictionary.keys())\n",
    "\n",
    "print(yoneda_ids[:20])\n",
    "print(mapping_ids[:20])"
   ]
  },
  {
   "cell_type": "code",
   "execution_count": null,
   "id": "twenty-quarterly",
   "metadata": {},
   "outputs": [],
   "source": []
  },
  {
   "cell_type": "code",
   "execution_count": null,
   "id": "right-shakespeare",
   "metadata": {},
   "outputs": [],
   "source": [
    "test = list(LPD_to_WP_dictionary.keys())\n",
    "test.sort(reverse=True)\n",
    "test"
   ]
  },
  {
   "cell_type": "code",
   "execution_count": null,
   "id": "soviet-titanium",
   "metadata": {},
   "outputs": [],
   "source": [
    "transcriptomic_df"
   ]
  },
  {
   "cell_type": "code",
   "execution_count": null,
   "id": "filled-texture",
   "metadata": {},
   "outputs": [],
   "source": []
  },
  {
   "cell_type": "code",
   "execution_count": null,
   "id": "heated-solomon",
   "metadata": {},
   "outputs": [],
   "source": []
  },
  {
   "cell_type": "code",
   "execution_count": null,
   "id": "french-funeral",
   "metadata": {},
   "outputs": [],
   "source": []
  },
  {
   "cell_type": "code",
   "execution_count": null,
   "id": "italian-jamaica",
   "metadata": {},
   "outputs": [],
   "source": []
  },
  {
   "cell_type": "markdown",
   "id": "laden-valve",
   "metadata": {},
   "source": [
    "### This is a rewrite of the above code that is more succinct, but takes a lot longer to run"
   ]
  },
  {
   "cell_type": "code",
   "execution_count": null,
   "id": "romance-vessel",
   "metadata": {},
   "outputs": [],
   "source": [
    "# gene_dictionary_2 = {}\n",
    "\n",
    "# for x, gene in enumerate(genes):\n",
    "#     if x % 100 == 0:\n",
    "#         print(x)\n",
    "        \n",
    "#     values = []\n",
    "#     for condition in conditions:\n",
    "        \n",
    "#         row = yoneda_data[(yoneda_data['Measurement Type'] == gene) & (yoneda_data['Line Name']==condition)]\n",
    "#         try:\n",
    "#             values.append(float(row.Value[0]))\n",
    "#         except:\n",
    "#             values.append('no measurement')\n",
    "            \n",
    "            \n",
    "            \n",
    "# #             print(row.Value[0])\n",
    "# #         print(row)\n",
    "# #         print(yoneda_data[\n",
    "# #                 (yoneda_data['Measurement Type'] == gene & yoneda_data['Line Name'] == condition)]['Value'])\n",
    "        \n",
    "# #     print()"
   ]
  },
  {
   "cell_type": "code",
   "execution_count": null,
   "id": "pointed-ballet",
   "metadata": {},
   "outputs": [],
   "source": []
  },
  {
   "cell_type": "code",
   "execution_count": null,
   "id": "preceding-stanley",
   "metadata": {},
   "outputs": [],
   "source": []
  },
  {
   "cell_type": "code",
   "execution_count": null,
   "id": "similar-taylor",
   "metadata": {},
   "outputs": [],
   "source": []
  },
  {
   "cell_type": "code",
   "execution_count": null,
   "id": "photographic-ownership",
   "metadata": {},
   "outputs": [],
   "source": []
  }
 ],
 "metadata": {
  "kernelspec": {
   "display_name": "biodesign_3.7",
   "language": "python",
   "name": "biod_3.7"
  },
  "language_info": {
   "codemirror_mode": {
    "name": "ipython",
    "version": 3
   },
   "file_extension": ".py",
   "mimetype": "text/x-python",
   "name": "python",
   "nbconvert_exporter": "python",
   "pygments_lexer": "ipython3",
   "version": "3.7.4"
  }
 },
 "nbformat": 4,
 "nbformat_minor": 5
}

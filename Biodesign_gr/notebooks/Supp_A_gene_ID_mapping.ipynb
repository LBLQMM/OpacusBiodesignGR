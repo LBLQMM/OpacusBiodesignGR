{
 "cells": [
  {
   "cell_type": "markdown",
   "id": "simplified-gravity",
   "metadata": {},
   "source": [
    "# LPD to RS to WP Mapping\n",
    "\n",
    "### Methods\n",
    "<ol>\n",
    "    <li>Load LPD to RS mapping as it is found in Henson et al 2018 supplementary information </li>\n",
    "    <li>Load text file that contains gene infomation about the Broad Institute's R. opacus genome assembly</li>\n",
    "    <li>Create dictionary with RS gene ID's as keys and WP gene ID's as values</li>\n",
    "    <li>Add WP gene ids to gene mapping data frame</li>\n",
    "    <li>Save data frame as .csv</li>\n",
    "</ol>"
   ]
  },
  {
   "cell_type": "markdown",
   "id": "unique-password",
   "metadata": {},
   "source": [
    "### Imports"
   ]
  },
  {
   "cell_type": "code",
   "execution_count": 1,
   "id": "welcome-syracuse",
   "metadata": {},
   "outputs": [],
   "source": [
    "import pandas as pd"
   ]
  },
  {
   "cell_type": "markdown",
   "id": "federal-lunch",
   "metadata": {},
   "source": [
    "### Load LPD to RS data from the supplement of Henson et al (2018)\n",
    "[Multi-omic elucidation of aromatic catabolism in adaptively evolved Rhodococcus opacus](https://www.sciencedirect.com/science/article/pii/S1096717618300910?via%3Dihub)"
   ]
  },
  {
   "cell_type": "code",
   "execution_count": 2,
   "id": "recent-minneapolis",
   "metadata": {},
   "outputs": [
    {
     "name": "stdout",
     "output_type": "stream",
     "text": [
      "There are 8390 genes in the Henson 2018 supplement.\n"
     ]
    },
    {
     "data": {
      "text/html": [
       "<div>\n",
       "<style scoped>\n",
       "    .dataframe tbody tr th:only-of-type {\n",
       "        vertical-align: middle;\n",
       "    }\n",
       "\n",
       "    .dataframe tbody tr th {\n",
       "        vertical-align: top;\n",
       "    }\n",
       "\n",
       "    .dataframe thead th {\n",
       "        text-align: right;\n",
       "    }\n",
       "</style>\n",
       "<table border=\"1\" class=\"dataframe\">\n",
       "  <thead>\n",
       "    <tr style=\"text-align: right;\">\n",
       "      <th></th>\n",
       "      <th>Gene ID (RS)</th>\n",
       "      <th>Gene ID (LPD)</th>\n",
       "      <th>Annotation</th>\n",
       "    </tr>\n",
       "  </thead>\n",
       "  <tbody>\n",
       "    <tr>\n",
       "      <th>0</th>\n",
       "      <td>PD630_RS00005</td>\n",
       "      <td>PD630_LPD00001</td>\n",
       "      <td>chromosomal replication initiator protein DnaA</td>\n",
       "    </tr>\n",
       "    <tr>\n",
       "      <th>1</th>\n",
       "      <td>PD630_RS00010</td>\n",
       "      <td>PD630_LPD00002</td>\n",
       "      <td>DNA polymerase III subunit beta</td>\n",
       "    </tr>\n",
       "    <tr>\n",
       "      <th>2</th>\n",
       "      <td>PD630_RS00015</td>\n",
       "      <td>PD630_LPD00003</td>\n",
       "      <td>6-phosphogluconate dehydrogenase</td>\n",
       "    </tr>\n",
       "    <tr>\n",
       "      <th>3</th>\n",
       "      <td>PD630_RS00020</td>\n",
       "      <td>PD630_LPD00004</td>\n",
       "      <td>DNA replication and repair protein RecF</td>\n",
       "    </tr>\n",
       "    <tr>\n",
       "      <th>4</th>\n",
       "      <td>PD630_RS00025</td>\n",
       "      <td>PD630_LPD00005</td>\n",
       "      <td>hypothetical protein</td>\n",
       "    </tr>\n",
       "  </tbody>\n",
       "</table>\n",
       "</div>"
      ],
      "text/plain": [
       "    Gene ID (RS)   Gene ID (LPD)  \\\n",
       "0  PD630_RS00005  PD630_LPD00001   \n",
       "1  PD630_RS00010  PD630_LPD00002   \n",
       "2  PD630_RS00015  PD630_LPD00003   \n",
       "3  PD630_RS00020  PD630_LPD00004   \n",
       "4  PD630_RS00025  PD630_LPD00005   \n",
       "\n",
       "                                       Annotation  \n",
       "0  chromosomal replication initiator protein DnaA  \n",
       "1                 DNA polymerase III subunit beta  \n",
       "2                6-phosphogluconate dehydrogenase  \n",
       "3         DNA replication and repair protein RecF  \n",
       "4                            hypothetical protein  "
      ]
     },
     "execution_count": 2,
     "metadata": {},
     "output_type": "execute_result"
    }
   ],
   "source": [
    "LPD_to_RS_df = pd.read_csv('LPD_to_RS_gene_mappping.csv')\n",
    "# Remove the unneed '\\t' from the end of LPD genes\n",
    "LPD_to_RS_df['Gene ID (LPD)'] = [val.split('\\t')[0] for val in LPD_to_RS_df['Gene ID (LPD)']]\n",
    "\n",
    "# Remove the unneed '\\t' from the end of LPD genes\n",
    "LPD_to_RS_df['Gene ID (LPD)'] = [val.replace('Pd', 'PD') for val in LPD_to_RS_df['Gene ID (LPD)']]\n",
    "print(f'There are {len(LPD_to_RS_df)} genes in the Henson 2018 supplement.')\n",
    "LPD_to_RS_df.head()"
   ]
  },
  {
   "cell_type": "markdown",
   "id": "legitimate-brook",
   "metadata": {},
   "source": [
    "### Load the R. opacus PD630 gtf file as txt file\n",
    "The gtf file can be downloaded from the [R. opacus ncbi assembly page](https://www.ncbi.nlm.nih.gov/assembly/GCF_000234335.1)."
   ]
  },
  {
   "cell_type": "code",
   "execution_count": 3,
   "id": "photographic-pepper",
   "metadata": {},
   "outputs": [
    {
     "data": {
      "text/plain": [
       "'#gtf-version 2.2\\n#!genome-build ASM23433v1\\n#!genome-build-accession NCBI_Assembly:GCF_000234335.1\\n#!annotation-date 11/08/2020 19:47:09\\n#!annotation-source NCBI RefSeq \\nNZ_JH377097.1\\tRefSeq\\tgene\\t677\\t1252\\t.\\t+\\t.\\tgene_id \"OPAG_RS42320\"; transcript_id \"\"; gbkey \"Gene\"; gene_biotype \"pseudogene\"; locus_tag \"OPAG_RS42320\"; partial \"true\"; pseudo \"true\"; \\nNZ_JH377097.1\\tProtein Homology\\tCDS\\t677\\t1249\\t.\\t+\\t0\\tgene_id \"OPAG_RS42320\"; transcript_id \"unknown_transcript_1\"; gbkey \"CDS\"; inference \"COORDINATES: similar to AA sequence:RefSeq:WP_010843886.1\"; locus_tag \"OPAG_RS42320\"; note \"frameshifted; incomplete; partial in the middle of a contig; missing C-terminus\"; partial \"true\"; product \"alpha/beta hydrolase\"; pseudo \"true\"; transl_table \"11\"; \\nNZ_JH377097.1\\tProtein Homology\\tstart_codon\\t677\\t679\\t.\\t+\\t0\\tgene_id \"OPAG_RS42320\"; transcript_id \"unknown_transcript_1\"; gbkey \"CDS\"; inference \"COORDINATES: similar to AA sequence:RefSeq:WP_010843886.1\"; locus_tag \"OPAG_RS42320\"; note \"frameshifted; incompl'"
      ]
     },
     "execution_count": 3,
     "metadata": {},
     "output_type": "execute_result"
    }
   ],
   "source": [
    "f = open(\"rhodococcus_opacus_pd630_gtf.txt\", \"r\")\n",
    "full_text = f.read()\n",
    "full_text[:1000]"
   ]
  },
  {
   "cell_type": "markdown",
   "id": "together-poker",
   "metadata": {},
   "source": [
    "### Create dictionary to map RS gene IDs to WP gene IDs"
   ]
  },
  {
   "cell_type": "code",
   "execution_count": 4,
   "id": "constitutional-restriction",
   "metadata": {},
   "outputs": [
    {
     "name": "stdout",
     "output_type": "stream",
     "text": [
      "The dictionary from the .gtf file has 8030 genes\n"
     ]
    }
   ],
   "source": [
    "gene_list = full_text.split('gene_id')\n",
    "gene_dictionary = {}\n",
    "for gene in gene_list:\n",
    "    if 'OPAG_RS' in gene and 'RefSeq:WP_' in gene:\n",
    "        RS_name = 'PD630_' + gene.split('OPAG_')[1].split('\"')[0]\n",
    "        WP_name = gene.split('RefSeq:')[1].split('\"')[0]\n",
    "        WP_name = WP_name.replace('.', '_')\n",
    "        gene_dictionary[RS_name] = WP_name\n",
    "print(f'The dictionary from the .gtf file has {len(gene_dictionary)} genes')"
   ]
  },
  {
   "cell_type": "markdown",
   "id": "bigger-seeking",
   "metadata": {},
   "source": [
    "### Add WP Annotations to the gene mapping dataframe"
   ]
  },
  {
   "cell_type": "code",
   "execution_count": 5,
   "id": "cooked-munich",
   "metadata": {},
   "outputs": [
    {
     "name": "stdout",
     "output_type": "stream",
     "text": [
      "There are 7092 genes that map from LPD to WP.\n"
     ]
    },
    {
     "data": {
      "text/html": [
       "<div>\n",
       "<style scoped>\n",
       "    .dataframe tbody tr th:only-of-type {\n",
       "        vertical-align: middle;\n",
       "    }\n",
       "\n",
       "    .dataframe tbody tr th {\n",
       "        vertical-align: top;\n",
       "    }\n",
       "\n",
       "    .dataframe thead th {\n",
       "        text-align: right;\n",
       "    }\n",
       "</style>\n",
       "<table border=\"1\" class=\"dataframe\">\n",
       "  <thead>\n",
       "    <tr style=\"text-align: right;\">\n",
       "      <th></th>\n",
       "      <th>Gene ID (RS)</th>\n",
       "      <th>Gene ID (LPD)</th>\n",
       "      <th>Gene ID (WP)</th>\n",
       "      <th>Annotation</th>\n",
       "    </tr>\n",
       "  </thead>\n",
       "  <tbody>\n",
       "    <tr>\n",
       "      <th>1</th>\n",
       "      <td>PD630_RS00010</td>\n",
       "      <td>PD630_LPD00002</td>\n",
       "      <td>WP_005569241_1</td>\n",
       "      <td>DNA polymerase III subunit beta</td>\n",
       "    </tr>\n",
       "    <tr>\n",
       "      <th>2</th>\n",
       "      <td>PD630_RS00015</td>\n",
       "      <td>PD630_LPD00003</td>\n",
       "      <td>WP_007296166_1</td>\n",
       "      <td>6-phosphogluconate dehydrogenase</td>\n",
       "    </tr>\n",
       "    <tr>\n",
       "      <th>3</th>\n",
       "      <td>PD630_RS00020</td>\n",
       "      <td>PD630_LPD00004</td>\n",
       "      <td>WP_005237760_1</td>\n",
       "      <td>DNA replication and repair protein RecF</td>\n",
       "    </tr>\n",
       "    <tr>\n",
       "      <th>4</th>\n",
       "      <td>PD630_RS00025</td>\n",
       "      <td>PD630_LPD00005</td>\n",
       "      <td>WP_005237761_1</td>\n",
       "      <td>hypothetical protein</td>\n",
       "    </tr>\n",
       "    <tr>\n",
       "      <th>5</th>\n",
       "      <td>PD630_RS00030</td>\n",
       "      <td>PD630_LPD00006</td>\n",
       "      <td>WP_005256534_1</td>\n",
       "      <td>metal-dependent hydrolase</td>\n",
       "    </tr>\n",
       "  </tbody>\n",
       "</table>\n",
       "</div>"
      ],
      "text/plain": [
       "    Gene ID (RS)   Gene ID (LPD)    Gene ID (WP)  \\\n",
       "1  PD630_RS00010  PD630_LPD00002  WP_005569241_1   \n",
       "2  PD630_RS00015  PD630_LPD00003  WP_007296166_1   \n",
       "3  PD630_RS00020  PD630_LPD00004  WP_005237760_1   \n",
       "4  PD630_RS00025  PD630_LPD00005  WP_005237761_1   \n",
       "5  PD630_RS00030  PD630_LPD00006  WP_005256534_1   \n",
       "\n",
       "                                Annotation  \n",
       "1          DNA polymerase III subunit beta  \n",
       "2         6-phosphogluconate dehydrogenase  \n",
       "3  DNA replication and repair protein RecF  \n",
       "4                     hypothetical protein  \n",
       "5                metal-dependent hydrolase  "
      ]
     },
     "execution_count": 5,
     "metadata": {},
     "output_type": "execute_result"
    }
   ],
   "source": [
    "WP_annotations = [gene_dictionary[RS_name] if RS_name in gene_dictionary.keys() else 'none' for RS_name in LPD_to_RS_df['Gene ID (RS)']]\n",
    "LPD_to_RS_df.insert(2, 'Gene ID (WP)', WP_annotations)\n",
    "\n",
    "# Remove the genes that do not have a mapping\n",
    "LPD_to_RS_df = LPD_to_RS_df[LPD_to_RS_df['Gene ID (LPD)'] != 'none']\n",
    "LPD_to_RS_df = LPD_to_RS_df[LPD_to_RS_df['Gene ID (WP)'] != 'none']\n",
    "\n",
    "print(f'There are {len(LPD_to_RS_df)} genes that map from LPD to WP.')\n",
    "LPD_to_RS_df.head()"
   ]
  },
  {
   "cell_type": "markdown",
   "id": "dense-brazil",
   "metadata": {},
   "source": [
    "### Save gene mapping dataframe as a csv"
   ]
  },
  {
   "cell_type": "code",
   "execution_count": 6,
   "id": "appreciated-berlin",
   "metadata": {},
   "outputs": [],
   "source": [
    "LPD_to_RS_df.to_csv('LPD_RS_WP_gene_mapping.csv')"
   ]
  }
 ],
 "metadata": {
  "kernelspec": {
   "display_name": "biodesign_3.7",
   "language": "python",
   "name": "biod_3.7"
  },
  "language_info": {
   "codemirror_mode": {
    "name": "ipython",
    "version": 3
   },
   "file_extension": ".py",
   "mimetype": "text/x-python",
   "name": "python",
   "nbconvert_exporter": "python",
   "pygments_lexer": "ipython3",
   "version": "3.7.4"
  }
 },
 "nbformat": 4,
 "nbformat_minor": 5
}

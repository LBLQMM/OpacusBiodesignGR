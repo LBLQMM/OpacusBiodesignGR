{
 "cells": [
  {
   "cell_type": "markdown",
   "id": "geographic-facing",
   "metadata": {},
   "source": [
    "# LPD to RS to WP Mapping\n",
    "\n",
    "### Methods\n",
    "<ol>\n",
    "    <li>Load LPD to RS mapping as it is found in Henson et al 2018 supplementary information </li>\n",
    "    <li>Load text file that contains gene infomation about the Broad Institute's R. opacus genome assembly</li>\n",
    "    <li>Create dictionary with RS gene ID's as keys and WP gene ID's as values</li>\n",
    "    <li>Add WP gene ids to gene mapping data frame</li>\n",
    "    <li>Save data frame as .csv</li>\n",
    "</ol>"
   ]
  },
  {
   "cell_type": "markdown",
   "id": "russian-dairy",
   "metadata": {},
   "source": [
    "### Imports"
   ]
  },
  {
   "cell_type": "code",
   "execution_count": null,
   "id": "overhead-europe",
   "metadata": {},
   "outputs": [],
   "source": [
    "import pandas as pd"
   ]
  },
  {
   "cell_type": "markdown",
   "id": "consistent-african",
   "metadata": {},
   "source": [
    "### Load LPD to RS data from the supplement of Henson et al (2018)\n",
    "[Multi-omic elucidation of aromatic catabolism in adaptively evolved Rhodococcus opacus](https://www.sciencedirect.com/science/article/pii/S1096717618300910?via%3Dihub)"
   ]
  },
  {
   "cell_type": "code",
   "execution_count": null,
   "id": "computational-disability",
   "metadata": {},
   "outputs": [],
   "source": [
    "LPD_to_RS_df = pd.read_csv('LPD_to_RS_gene_mappping.csv')\n",
    "# Remove the unneed '\\t' from the end of LPD genes\n",
    "LPD_to_RS_df['Gene ID (LPD)'] = [val.split('\\t')[0] for val in LPD_to_RS_df['Gene ID (LPD)']]\n",
    "LPD_to_RS_df.head()\n"
   ]
  },
  {
   "cell_type": "markdown",
   "id": "collectible-aaron",
   "metadata": {},
   "source": [
    "### Load the R. opacus PD630 gtf file as txt file\n",
    "The gtf file can be downloaded from the [R. opacus ncbi assembly page](https://www.ncbi.nlm.nih.gov/assembly/GCF_000234335.1)."
   ]
  },
  {
   "cell_type": "code",
   "execution_count": null,
   "id": "working-builder",
   "metadata": {},
   "outputs": [],
   "source": [
    "f = open(\"rhodococcus_opacus_pd630_gtf.txt\", \"r\")\n",
    "full_text = f.read()\n",
    "full_text[:1000]"
   ]
  },
  {
   "cell_type": "markdown",
   "id": "virtual-whole",
   "metadata": {},
   "source": [
    "### Create dictionary to map RS gene IDs to WP gene IDs"
   ]
  },
  {
   "cell_type": "code",
   "execution_count": null,
   "id": "indie-tumor",
   "metadata": {},
   "outputs": [],
   "source": [
    "gene_list = full_text.split('gene_id')\n",
    "gene_dictionary = {}\n",
    "for gene in gene_list:\n",
    "    if 'OPAG_RS' in gene and 'RefSeq:WP_' in gene:\n",
    "        RS_name = 'PD630_' + gene.split('OPAG_')[1].split('\"')[0]\n",
    "        WP_name = gene.split('RefSeq:')[1].split('\"')[0]\n",
    "        gene_dictionary[RS_name] = WP_name"
   ]
  },
  {
   "cell_type": "markdown",
   "id": "incorporate-observation",
   "metadata": {},
   "source": [
    "### Add WP Annotations to the gene mapping dataframe"
   ]
  },
  {
   "cell_type": "code",
   "execution_count": null,
   "id": "chief-guinea",
   "metadata": {},
   "outputs": [],
   "source": [
    "WP_annotations = [gene_dictionary[RS_name] if RS_name in gene_dictionary.keys() else 'none' for RS_name in LPD_to_RS_df['Gene ID (RS)']]\n",
    "LPD_to_RS_df.insert(2, 'Gene ID (WP)', WP_annotations)\n",
    "\n",
    "LPD_to_RS_df"
   ]
  },
  {
   "cell_type": "markdown",
   "id": "previous-wilson",
   "metadata": {},
   "source": [
    "### Save gene mapping dataframe as a csv"
   ]
  },
  {
   "cell_type": "code",
   "execution_count": null,
   "id": "center-thong",
   "metadata": {},
   "outputs": [],
   "source": [
    "LPD_to_RS_df.to_csv('LPD_RS_WP_gene_mapping.csv')"
   ]
  }
 ],
 "metadata": {
  "kernelspec": {
   "display_name": "biodesign_3.7",
   "language": "python",
   "name": "biod_3.7"
  },
  "language_info": {
   "codemirror_mode": {
    "name": "ipython",
    "version": 3
   },
   "file_extension": ".py",
   "mimetype": "text/x-python",
   "name": "python",
   "nbconvert_exporter": "python",
   "pygments_lexer": "ipython3",
   "version": "3.7.4"
  }
 },
 "nbformat": 4,
 "nbformat_minor": 5
}

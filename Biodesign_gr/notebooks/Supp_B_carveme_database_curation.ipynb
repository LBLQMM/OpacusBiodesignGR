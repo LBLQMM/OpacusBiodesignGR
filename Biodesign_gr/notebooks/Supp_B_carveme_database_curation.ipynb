{
 "cells": [
  {
   "cell_type": "markdown",
   "metadata": {},
   "source": [
    "# Carveme Model Curation\n",
    "\n",
    "This notebook applies the curation method from notebook B to 5587 bacterial genome scale models that were generated with CarveMe. "
   ]
  },
  {
   "cell_type": "markdown",
   "metadata": {},
   "source": [
    "Imports"
   ]
  },
  {
   "cell_type": "code",
   "execution_count": null,
   "metadata": {},
   "outputs": [],
   "source": [
    "import pandas as pd\n",
    "import os\n",
    "from string import ascii_lowercase\n",
    "import gzip\n",
    "import cobra\n",
    "import matplotlib.pyplot as plt\n",
    "import numpy as np\n",
    "from scipy.stats import gaussian_kde\n",
    "\n",
    "from xml.dom.minidom import parse, parseString\n",
    "from xml.dom import minidom \n",
    "import xml.etree.ElementTree as ET\n",
    "\n",
    "from functions.curation import curate "
   ]
  },
  {
   "cell_type": "markdown",
   "metadata": {},
   "source": [
    "# Get improvement measurements from after curation function\n",
    "Define functions for this section"
   ]
  },
  {
   "cell_type": "code",
   "execution_count": null,
   "metadata": {},
   "outputs": [],
   "source": [
    "def get_smbl_model(model_path):\n",
    "    \n",
    "    input_file = gzip.open(model_path)\n",
    "    unzipped_content = input_file.read()\n",
    "\n",
    "    unzipped_content_string = str(unzipped_content, 'utf-8')\n",
    "    \n",
    "    temp_file = open(\"temp_model.xml\", \"w\")\n",
    "    temp_file.write(unzipped_content_string)\n",
    "    \n",
    "    model = cobra.io.read_sbml_model(\"temp_model.xml\")\n",
    "    return model\n",
    "\n",
    "def should_be_balanced(r):\n",
    "    unbalanced_from_name = (r.id.startswith('EX_') or r.id.startswith('sink_') or r.id.startswith('Growth'))\n",
    "    return not unbalanced_from_name\n",
    "    \n",
    "def number_unbalanced_reactions(model):\n",
    "    return len([r for r in model.reactions if should_be_balanced(r) and r.check_mass_balance() != {}])\n",
    "    \n",
    "def number_undefined_metabolites(model):\n",
    "    return len([m for m in model.metabolites if ';' in m.formula])\n",
    "\n",
    "def get_model_stats(model):\n",
    "    return number_unbalanced_reactions(model), number_undefined_metabolites(model)\n",
    "\n",
    "def get_model_stats_from_path(model_path):\n",
    "    model = get_smbl_model(model_path)\n",
    "    return number_unbalanced_reactions(model), number_undefined_metabolites(model)\n",
    "\n",
    "def get_smbl_model_from_path(model_path):\n",
    "    \n",
    "    input_file = gzip.open(model_path)\n",
    "    unzipped_content = input_file.read()\n",
    "\n",
    "    unzipped_content_string = str(unzipped_content, 'utf-8')\n",
    "    \n",
    "    temp_file = open(\"temp_model.xml\", \"w\")\n",
    "    temp_file.write(unzipped_content_string)\n",
    "    \n",
    "    model = cobra.io.read_sbml_model(\"temp_model.xml\")\n",
    "    return model\n",
    "\n",
    "def curate_from_path(model_path):\n",
    "    model = get_smbl_model(model_path)\n",
    "    return curate(model)"
   ]
  },
  {
   "cell_type": "markdown",
   "metadata": {},
   "source": [
    "Get number of models in this directory"
   ]
  },
  {
   "cell_type": "code",
   "execution_count": null,
   "metadata": {},
   "outputs": [],
   "source": [
    "num_genus = 0\n",
    "num_model = 0\n",
    "\n",
    "for char in ascii_lowercase:\n",
    "    for species in os.listdir(os.path.join(f'models/{char}')):\n",
    "        num_genus += 1\n",
    "        for model_filename in os.listdir(os.path.join(f'models/{char}', species)):\n",
    "            num_model += 1\n",
    "        \n",
    "print(f'There are {num_model} models {num_genus} representing genera (plural of genus)')"
   ]
  },
  {
   "cell_type": "markdown",
   "metadata": {},
   "source": [
    "Get all unbalanced reactions and undefined metabolites before and after curation"
   ]
  },
  {
   "cell_type": "code",
   "execution_count": null,
   "metadata": {},
   "outputs": [],
   "source": [
    "%%time\n",
    "model_data = {}\n",
    "\n",
    "# for char in ascii_lowercase:\n",
    "for char in ['a']:\n",
    "    print(char)\n",
    "    for species in os.listdir(os.path.join(f'models/{char}')):\n",
    "        print(species)\n",
    "        for model_filename in os.listdir(os.path.join(f'models/{char}', species)):\n",
    "            print(model_filename)\n",
    "\n",
    "            # get model and curated model\n",
    "            model_path = os.path.join(f'models/{char}', species, model_filename)\n",
    "            model = get_smbl_model_from_path(model_path)\n",
    "            curated_model = curate_from_path(model_path)\n",
    "\n",
    "            unbalanced_original, undefined_original = get_model_stats(model)\n",
    "            unbalanced_curated, undefined_curated = get_model_stats(curated_model)\n",
    "\n",
    "\n",
    "            model_data[model.id] = [unbalanced_original, unbalanced_curated, undefined_original, undefined_curated]\n",
    "\n",
    "columns = ['old unbalanced reactions', 'new unbalanced reactions', 'old undefined metabolites', 'new undefined metabolites']\n",
    "model_data_df=pd.DataFrame.from_dict(model_data, orient='index', columns=columns)\n",
    "model_data_df"
   ]
  },
  {
   "cell_type": "code",
   "execution_count": null,
   "metadata": {},
   "outputs": [],
   "source": [
    "model_data_df"
   ]
  },
  {
   "cell_type": "markdown",
   "metadata": {},
   "source": [
    "Print output summary of above table"
   ]
  },
  {
   "cell_type": "code",
   "execution_count": null,
   "metadata": {},
   "outputs": [],
   "source": [
    "print(f\"The original model had on average {model_data_df['old unbalanced reactions'].mean()} unbalanced reactions\")\n",
    "print(f\"The curated models had on average {model_data_df['new unbalanced reactions'].mean()} unbalanced reactions\")"
   ]
  },
  {
   "cell_type": "markdown",
   "metadata": {},
   "source": [
    "### Plot density curves"
   ]
  },
  {
   "cell_type": "code",
   "execution_count": null,
   "metadata": {},
   "outputs": [],
   "source": [
    "old_data = list(model_data_df['old unbalanced reactions'])\n",
    "new_data = list(model_data_df['new unbalanced reactions'])\n",
    "\n",
    "max(old_data)\n",
    "max(new_data)\n",
    "\n",
    "old_density = gaussian_kde(old_data)\n",
    "new_density = gaussian_kde(new_data)\n",
    "\n",
    "xs = np.linspace(0,100,2000)\n",
    "\n",
    "old_density.covariance_factor = lambda : .25\n",
    "new_density.covariance_factor = lambda : .25\n",
    "\n",
    "old_density._compute_covariance()\n",
    "new_density._compute_covariance()\n",
    "\n",
    "fig, ax = plt.subplots(figsize=(10,5)) \n",
    "\n",
    "ax.plot(xs,old_density(xs), label='Before Curation')\n",
    "ax.plot(xs,new_density(xs), label='After Curation')\n",
    "ax.set_title('Unbalanced Reactions in 5587 GSMs Before and After Curation') \n",
    "ax.set_ylabel('Relative Frequency') \n",
    "ax.set_xlabel('Number of Unbalanced Reactions') \n",
    "ax.legend()\n",
    "\n",
    "plt.savefig(\"Unbalanced_reaction_distribution.png\", dpi=150)\n",
    "plt.show()"
   ]
  },
  {
   "cell_type": "markdown",
   "metadata": {},
   "source": [
    "### Plot Scatter Plot"
   ]
  },
  {
   "cell_type": "code",
   "execution_count": null,
   "metadata": {},
   "outputs": [],
   "source": [
    "old_data = list(model_data_df['old unbalanced reactions'])\n",
    "new_data = list(model_data_df['new unbalanced reactions'])\n",
    "\n",
    "fig, ax = plt.subplots(figsize=(7,7)) \n",
    "\n",
    "minimum = min(old_data, new_data)\n",
    "maximum = max(old_data, new_data)\n",
    "\n",
    "ax.scatter(old_data, new_data)\n",
    "ax.plot([minimum, maximum], [minimum, maximum], 'r')\n",
    "# ax.plot(xs,new_density(xs), label='After Curation')\n",
    "ax.set_title('Unbalanced Reactions in 5587 GSMs Before and After Curation') \n",
    "ax.set_ylabel('Number of Unbalanced Reactions After Curation') \n",
    "ax.set_xlabel('Number of Unbalanced Reactions Before Curation') \n",
    "\n",
    "plt.savefig(\"Unbalanced_reaction_scatter.png\", dpi=150)\n",
    "plt.show()"
   ]
  },
  {
   "cell_type": "code",
   "execution_count": null,
   "metadata": {},
   "outputs": [],
   "source": []
  },
  {
   "cell_type": "code",
   "execution_count": null,
   "metadata": {},
   "outputs": [],
   "source": []
  },
  {
   "cell_type": "code",
   "execution_count": null,
   "metadata": {},
   "outputs": [],
   "source": []
  },
  {
   "cell_type": "code",
   "execution_count": null,
   "metadata": {},
   "outputs": [],
   "source": []
  },
  {
   "cell_type": "code",
   "execution_count": null,
   "metadata": {},
   "outputs": [],
   "source": []
  },
  {
   "cell_type": "markdown",
   "metadata": {},
   "source": [
    "# Can probably delete everything below this "
   ]
  },
  {
   "cell_type": "markdown",
   "metadata": {},
   "source": [
    "Test if models really have no undefined metabolites"
   ]
  },
  {
   "cell_type": "code",
   "execution_count": null,
   "metadata": {},
   "outputs": [],
   "source": [
    "model = get_smbl_model('models/r/rhodococcus/Rhodococcus_jostii_RHA1.xml.gz')"
   ]
  },
  {
   "cell_type": "code",
   "execution_count": null,
   "metadata": {},
   "outputs": [],
   "source": [
    "for r in [r for r in model.reactions if r.check_mass_balance() != {}]:\n",
    "    print(r)\n",
    "    print(r.check_mass_balance())\n",
    "    for m in r.metabolites:\n",
    "        print(m.formula)\n",
    "    print()\n",
    "    "
   ]
  },
  {
   "cell_type": "code",
   "execution_count": null,
   "metadata": {},
   "outputs": [],
   "source": [
    "model = cobra.io.read_sbml_model(\"Ropacus_carveme_grampos.xml\")\n",
    "model"
   ]
  },
  {
   "cell_type": "code",
   "execution_count": null,
   "metadata": {},
   "outputs": [],
   "source": [
    "number_unbalanced_reactions(model)"
   ]
  },
  {
   "cell_type": "code",
   "execution_count": null,
   "metadata": {},
   "outputs": [],
   "source": [
    "number_undefined_metabolites(model)"
   ]
  },
  {
   "cell_type": "code",
   "execution_count": null,
   "metadata": {},
   "outputs": [],
   "source": [
    "New_model = curate(model)"
   ]
  },
  {
   "cell_type": "code",
   "execution_count": null,
   "metadata": {},
   "outputs": [],
   "source": [
    "number_unbalanced_reactions(New_model)"
   ]
  },
  {
   "cell_type": "code",
   "execution_count": null,
   "metadata": {},
   "outputs": [],
   "source": [
    "number_undefined_metabolites(New_model)"
   ]
  },
  {
   "cell_type": "code",
   "execution_count": null,
   "metadata": {},
   "outputs": [],
   "source": [
    "model.id = 'ropacus_curated_by_curation_py_version_1'\n",
    "model.name = 'Rhodococcus opacus PD630 draft curation.py'\n",
    "model.description = 'Rhodococcus opacus PD630 model curated by python function'\n",
    "\n",
    "cobra.io.write_sbml_model(New_model, \"Ropacus_curated_by_function_1.xml\")"
   ]
  },
  {
   "cell_type": "code",
   "execution_count": null,
   "metadata": {},
   "outputs": [],
   "source": []
  },
  {
   "cell_type": "code",
   "execution_count": null,
   "metadata": {},
   "outputs": [],
   "source": [
    "len([r for r in model.reactions if should_be_balanced(r) and r.check_mass_balance != {}])"
   ]
  },
  {
   "cell_type": "code",
   "execution_count": null,
   "metadata": {},
   "outputs": [],
   "source": [
    "should_be_balanced(model.reactions.get_by_id('Growth'))"
   ]
  },
  {
   "cell_type": "markdown",
   "metadata": {},
   "source": [
    "Loop over all models which are sorted alphabetically and by genus"
   ]
  },
  {
   "cell_type": "code",
   "execution_count": null,
   "metadata": {},
   "outputs": [],
   "source": [
    "a_model_folders = os.listdir('models/a')\n",
    "model_data = {}\n",
    "\n",
    "for species in a_model_folders:\n",
    "#     print(species)\n",
    "    for model_filename in os.listdir(os.path.join('models/a', species)):\n",
    "        model_path = os.path.join('models/a', species, model_filename)\n",
    "        \n",
    "        model = get_smbl_model(model_path)\n",
    "        model_unbalanced = number_unbalanced_reactions(model)\n",
    "        model_undefined = number_undefined_metabolites(model)\n",
    "        \n",
    "        curated_model = curate(model)\n",
    "        \n",
    "        curated_unbalanced = number_unbalanced_reactions(curated_model)\n",
    "        curated_undefined = number_undefined_metabolites(curated_model)\n",
    "        model_data[model.id] = [model_unbalanced, curated_unbalanced, model_undefined, curated_undefined]\n",
    "#         print(model.id)\n",
    "#     print()\n",
    "\n",
    "df=pd.DataFrame.from_dict(model_data)\n",
    "df"
   ]
  },
  {
   "cell_type": "code",
   "execution_count": null,
   "metadata": {},
   "outputs": [],
   "source": [
    "columns = ['old unbalanced reactions', 'new unbalanced reactions', 'old undefined metabolites', 'new undefined metabolites']\n",
    "df=pd.DataFrame.from_dict(model_data,orient='index', columns=columns)\n",
    "df"
   ]
  },
  {
   "cell_type": "markdown",
   "metadata": {},
   "source": [
    "### Use models/a/acidibacillus/Acidibacillus_ferrooxidans_SLC66.xml.gz as a test file for curate function"
   ]
  },
  {
   "cell_type": "code",
   "execution_count": null,
   "metadata": {},
   "outputs": [],
   "source": [
    "model_path = 'models/a/acidibacillus/Acidibacillus_ferrooxidans_SLC66.xml.gz'\n",
    "\n",
    "infile = gzip.open(model_path)\n",
    "unzipped_content = infile.read()\n",
    "\n",
    "unzipped_content_string = str(unzipped_content, 'utf-8')\n",
    "\n",
    "# print(unzipped_content_string)\n",
    "\n",
    "# parse xml file content\n",
    "# dom = minidom.parseString(unzipped_content)\n",
    "\n",
    "# unzipped_content_string = ET.tostring(unzipped_content)\n",
    "# unzipped_content_string = 'Test4'\n",
    "\n",
    "# data = ET.tostring(data)\n",
    "myfile = open(\"test_model.xml\", \"w\")\n",
    "myfile.write(unzipped_content_string)"
   ]
  },
  {
   "cell_type": "code",
   "execution_count": null,
   "metadata": {},
   "outputs": [],
   "source": [
    "def get_smbl_model(model_path):\n",
    "    \n",
    "    input_file = gzip.open(model_path)\n",
    "    unzipped_content = input_file.read()\n",
    "\n",
    "    unzipped_content_string = str(unzipped_content, 'utf-8')\n",
    "    \n",
    "    temp_file = open(\"temp_model.xml\", \"w\")\n",
    "    temp_file.write(unzipped_content_string)\n",
    "    \n",
    "    model = cobra.io.read_sbml_model(\"temp_model.xml\")\n",
    "    return model\n",
    "    \n",
    "    \n",
    "#     myfile = open(\"test_model.xml\", \"w\")\n",
    "#     myfile.write(unzipped_content_string)"
   ]
  },
  {
   "cell_type": "code",
   "execution_count": null,
   "metadata": {},
   "outputs": [],
   "source": [
    "model_path = 'models/a/acidibacillus/Acidibacillus_ferrooxidans_SLC66.xml.gz'\n",
    "model = get_smbl_model(model_path)\n",
    "model"
   ]
  },
  {
   "cell_type": "code",
   "execution_count": null,
   "metadata": {},
   "outputs": [],
   "source": []
  },
  {
   "cell_type": "code",
   "execution_count": null,
   "metadata": {},
   "outputs": [],
   "source": []
  },
  {
   "cell_type": "code",
   "execution_count": null,
   "metadata": {},
   "outputs": [],
   "source": []
  },
  {
   "cell_type": "code",
   "execution_count": null,
   "metadata": {},
   "outputs": [],
   "source": [
    "file_name = 'models/a/acidibacillus/Acidibacillus_ferrooxidans_SLC66.xml.gz'\n"
   ]
  },
  {
   "cell_type": "code",
   "execution_count": null,
   "metadata": {},
   "outputs": [],
   "source": [
    "curate()"
   ]
  },
  {
   "cell_type": "markdown",
   "metadata": {},
   "source": [
    "Loop over all files in models folder"
   ]
  },
  {
   "cell_type": "code",
   "execution_count": null,
   "metadata": {},
   "outputs": [],
   "source": [
    "# for letter in ascii_lowercase:\n",
    "#     print(letter)"
   ]
  },
  {
   "cell_type": "code",
   "execution_count": null,
   "metadata": {},
   "outputs": [],
   "source": [
    "a_model_folders = os.listdir('models/a')\n",
    "\n",
    "for species in a_model_folders[:10]:\n",
    "    print(species)\n",
    "    print(len(os.listdir(os.path.join('models/a', species))))\n",
    "    for model_filename in os.listdir(os.path.join('models/a', species)):\n",
    "        model_path = os.path.join('models/a', species, model_filename)\n",
    "        print(model_path)\n",
    "    print()"
   ]
  },
  {
   "cell_type": "code",
   "execution_count": null,
   "metadata": {},
   "outputs": [],
   "source": []
  },
  {
   "cell_type": "code",
   "execution_count": null,
   "metadata": {},
   "outputs": [],
   "source": []
  },
  {
   "cell_type": "code",
   "execution_count": null,
   "metadata": {},
   "outputs": [],
   "source": [
    "os.listdir(\"models/a/acidibacillus\")[0]"
   ]
  },
  {
   "cell_type": "code",
   "execution_count": null,
   "metadata": {},
   "outputs": [],
   "source": [
    "'carveme/Ropacus_5_reaction_deletions.xml'"
   ]
  },
  {
   "cell_type": "code",
   "execution_count": null,
   "metadata": {},
   "outputs": [],
   "source": [
    "with gzip.open(\"models/a/acidibacillus/Acidibacillus_ferrooxidans_SLC66.xml.gz\", 'rb') as f:\n",
    "    file_content = f.read()[2:]\n",
    "    \n",
    "#     print(file_content)\n",
    "#     model = cobra.io.read_sbml_model(file_content)\n",
    "#     model\n",
    "    "
   ]
  },
  {
   "cell_type": "code",
   "execution_count": null,
   "metadata": {},
   "outputs": [],
   "source": [
    "unzipped_xml = gzip.open(\"models/a/acidibacillus/Acidibacillus_ferrooxidans_SLC66.xml.gz\")"
   ]
  },
  {
   "cell_type": "code",
   "execution_count": null,
   "metadata": {},
   "outputs": [],
   "source": [
    "unzipped_xml"
   ]
  },
  {
   "cell_type": "code",
   "execution_count": null,
   "metadata": {},
   "outputs": [],
   "source": [
    "# model = cobra.io.read_sbml_model(unzipped_xml)\n",
    "# model"
   ]
  },
  {
   "cell_type": "code",
   "execution_count": null,
   "metadata": {},
   "outputs": [],
   "source": [
    "directory = r'C:\\Users\\admin'\n",
    "for filename in os.listdir(directory):\n",
    "    if filename.endswith(\".jpg\") or filename.endswith(\".png\"):\n",
    "        print(os.path.join(directory, filename))\n",
    "    else:\n",
    "        continue"
   ]
  }
 ],
 "metadata": {
  "kernelspec": {
   "display_name": "biodesign_3.7",
   "language": "python",
   "name": "biod_3.7"
  },
  "language_info": {
   "codemirror_mode": {
    "name": "ipython",
    "version": 3
   },
   "file_extension": ".py",
   "mimetype": "text/x-python",
   "name": "python",
   "nbconvert_exporter": "python",
   "pygments_lexer": "ipython3",
   "version": "3.7.4"
  }
 },
 "nbformat": 4,
 "nbformat_minor": 4
}

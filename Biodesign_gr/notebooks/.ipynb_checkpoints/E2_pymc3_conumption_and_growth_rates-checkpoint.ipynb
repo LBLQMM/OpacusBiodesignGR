{
 "cells": [
  {
   "cell_type": "markdown",
   "metadata": {},
   "source": [
    "# Consumption and growth rates\n",
    "The goal of this notebook is to calculate experimental growth rate and experimental substrate uptake rate<br>\n",
    "\n",
    "\n",
    "<br>\n",
    "Input: time vs. substrate data and time vs. biomass data\n",
    "<br>\n",
    "Output: consumption rate with unit $\\frac{mmol substrate consumed}{g biomass*hr}$  and the growth rate with unit hr$^-$$^1$."
   ]
  },
  {
   "cell_type": "markdown",
   "metadata": {},
   "source": [
    "### Setup"
   ]
  },
  {
   "cell_type": "code",
   "execution_count": null,
   "metadata": {},
   "outputs": [],
   "source": [
    "import pandas as pd\n",
    "import numpy as np\n",
    "import sys\n",
    "import matplotlib.pyplot as plt\n",
    "import math\n",
    "from scipy.stats import linregress\n",
    "from scipy import mean\n",
    "import pymc3 as pm\n",
    "\n",
    "GRAMS_BIOMASS_PER_LITER_PER_OD = 0.35 # 1 OD = 0.35 g/L of biomass"
   ]
  },
  {
   "cell_type": "markdown",
   "metadata": {},
   "source": [
    "### pymc3 exercises"
   ]
  },
  {
   "cell_type": "code",
   "execution_count": null,
   "metadata": {},
   "outputs": [],
   "source": [
    "obs_y = np.random.normal(0.5, 0.4, 10)"
   ]
  },
  {
   "cell_type": "code",
   "execution_count": null,
   "metadata": {},
   "outputs": [],
   "source": [
    "with pm.Model() as excercise1:\n",
    "    stdev = pm.HalfNormal('stdev', tau=1)\n",
    "    mu = pm.Normal('mu', mu=0.0, sd=1)\n",
    "    \n",
    "    y = pm.Normal('y', mu=mu, sd=stdev, observed=obs_y)\n",
    "    \n",
    "    trace = pm.sample(1000)\n",
    "    \n",
    "    pm.traceplot(trace, ['mu', 'stdev'])\n",
    "    plt.show()\n",
    "    "
   ]
  },
  {
   "cell_type": "markdown",
   "metadata": {},
   "source": [
    "### Linear regression Exercise 2"
   ]
  },
  {
   "cell_type": "code",
   "execution_count": null,
   "metadata": {},
   "outputs": [],
   "source": [
    "N = 10000\n",
    "\n",
    "noise = np.random.normal(0.0, 0.1, N)\n",
    "# noise = np.random.normal(0.0, 0.1, N)\n",
    "X = np.random.normal(1.0, 0.1, N)\n",
    "obs_y = (0.65 * X) + noise\n",
    "\n",
    "with pm.Model() as exercise2:\n",
    "    \n",
    "    stdev = pm.HalfNormal('stdev', sd=1.)\n",
    "    intercept = pm.Normal('intercept', mu=0.0, sd=2.)\n",
    "    coeff = pm.Normal('beta', mu=0.5, sd=2.)\n",
    "    \n",
    "    expected_value = (X * coeff) + intercept\n",
    "    y = pm.Normal('y', mu=expected_value, sd=stdev, observed=obs_y)  #how is x being passed in here?\n",
    "    \n",
    "    trace = pm.sample(1000, tune=4000)\n",
    "    \n",
    "    pm.traceplot(trace, ['beta', 'stdev', 'intercept'])\n",
    "    plt.show()"
   ]
  },
  {
   "cell_type": "markdown",
   "metadata": {},
   "source": [
    "How to predict data"
   ]
  },
  {
   "cell_type": "code",
   "execution_count": null,
   "metadata": {},
   "outputs": [],
   "source": [
    "with exercise2:\n",
    "#     posterior predictive check\n",
    "    ppc = pm.sample_ppc(trace, samples=1000)\n",
    "    y_preds = ppc['y'] \n",
    "    \n",
    "    # y_preds has shape 1000 by 10000\n",
    "    print(y_preds.shape)\n",
    "    #for each sample of the posterior (1000 total) predict all y values (10000 in total)\n",
    "    \n",
    "    # Taking the mean, you find the mean of the 1000 samples for all values of y\n",
    "    # resulting thing is a vector with shape 1 by 10000\n",
    "    expected_y_pred = np.reshape(np.mean(y_preds, axis=0), [-1])\n",
    "    \n",
    "    plt.scatter(X, expected_y_pred, c='g')\n",
    "    plt.scatter(X, obs_y, c='b', alpha=0.1)\n",
    "    plt.title('Relationship between X and predicted Y')"
   ]
  },
  {
   "cell_type": "markdown",
   "metadata": {},
   "source": [
    "### Exercise 3: Logistic regression"
   ]
  },
  {
   "cell_type": "code",
   "execution_count": null,
   "metadata": {},
   "outputs": [],
   "source": []
  },
  {
   "cell_type": "code",
   "execution_count": null,
   "metadata": {},
   "outputs": [],
   "source": []
  },
  {
   "cell_type": "code",
   "execution_count": null,
   "metadata": {},
   "outputs": [],
   "source": []
  },
  {
   "cell_type": "code",
   "execution_count": null,
   "metadata": {},
   "outputs": [],
   "source": []
  },
  {
   "cell_type": "code",
   "execution_count": null,
   "metadata": {},
   "outputs": [],
   "source": []
  },
  {
   "cell_type": "code",
   "execution_count": null,
   "metadata": {},
   "outputs": [],
   "source": []
  },
  {
   "cell_type": "code",
   "execution_count": null,
   "metadata": {},
   "outputs": [],
   "source": []
  },
  {
   "cell_type": "code",
   "execution_count": null,
   "metadata": {},
   "outputs": [],
   "source": []
  },
  {
   "cell_type": "code",
   "execution_count": null,
   "metadata": {},
   "outputs": [],
   "source": []
  },
  {
   "cell_type": "code",
   "execution_count": null,
   "metadata": {},
   "outputs": [],
   "source": []
  },
  {
   "cell_type": "code",
   "execution_count": null,
   "metadata": {},
   "outputs": [],
   "source": []
  },
  {
   "cell_type": "code",
   "execution_count": null,
   "metadata": {},
   "outputs": [],
   "source": []
  },
  {
   "cell_type": "code",
   "execution_count": null,
   "metadata": {},
   "outputs": [],
   "source": []
  },
  {
   "cell_type": "code",
   "execution_count": null,
   "metadata": {},
   "outputs": [],
   "source": []
  },
  {
   "cell_type": "code",
   "execution_count": null,
   "metadata": {},
   "outputs": [],
   "source": []
  },
  {
   "cell_type": "code",
   "execution_count": null,
   "metadata": {},
   "outputs": [],
   "source": []
  },
  {
   "cell_type": "code",
   "execution_count": null,
   "metadata": {},
   "outputs": [],
   "source": []
  },
  {
   "cell_type": "code",
   "execution_count": null,
   "metadata": {},
   "outputs": [],
   "source": []
  },
  {
   "cell_type": "code",
   "execution_count": null,
   "metadata": {},
   "outputs": [],
   "source": []
  },
  {
   "cell_type": "code",
   "execution_count": null,
   "metadata": {},
   "outputs": [],
   "source": []
  },
  {
   "cell_type": "code",
   "execution_count": null,
   "metadata": {},
   "outputs": [],
   "source": []
  },
  {
   "cell_type": "code",
   "execution_count": null,
   "metadata": {},
   "outputs": [],
   "source": []
  },
  {
   "cell_type": "code",
   "execution_count": null,
   "metadata": {},
   "outputs": [],
   "source": []
  },
  {
   "cell_type": "code",
   "execution_count": null,
   "metadata": {},
   "outputs": [],
   "source": []
  },
  {
   "cell_type": "code",
   "execution_count": null,
   "metadata": {},
   "outputs": [],
   "source": []
  },
  {
   "cell_type": "code",
   "execution_count": null,
   "metadata": {},
   "outputs": [],
   "source": []
  },
  {
   "cell_type": "code",
   "execution_count": null,
   "metadata": {},
   "outputs": [],
   "source": []
  },
  {
   "cell_type": "code",
   "execution_count": null,
   "metadata": {},
   "outputs": [],
   "source": []
  },
  {
   "cell_type": "code",
   "execution_count": null,
   "metadata": {},
   "outputs": [],
   "source": []
  },
  {
   "cell_type": "markdown",
   "metadata": {},
   "source": [
    "### Yoneda et al. growth curves\n",
    "Load OD and substrate concentration curves"
   ]
  },
  {
   "cell_type": "code",
   "execution_count": null,
   "metadata": {},
   "outputs": [],
   "source": [
    "od_filename = '../../EDD_Yoneda_data/Yoneda_set2_ODD_data.csv'\n",
    "substrate_filename = '../../EDD_Yoneda_data/Yoneda_set2_Metabolomics_data.csv'\n",
    "\n",
    "od_df = pd.read_csv(od_filename)\n",
    "sub_df = pd.read_csv(substrate_filename)\n",
    "\n",
    "od_df['Biomass Conc'] = GRAMS_BIOMASS_PER_LITER_PER_OD*od_df['Value']\n",
    "\n",
    "print(f'substrate data has {len(sub_df)} lines')\n",
    "print(f'OD data has {len(od_df)} lines')"
   ]
  },
  {
   "cell_type": "markdown",
   "metadata": {},
   "source": [
    "### Define function that takes in a single trial and returns growth rate and substrate yield"
   ]
  },
  {
   "cell_type": "code",
   "execution_count": null,
   "metadata": {},
   "outputs": [],
   "source": [
    "def stats_for_trial(growth_data, substrate_data, molar_mass, display=False):\n",
    "    \n",
    "    biomass_values = growth_data['Biomass Conc']\n",
    "    biomass_times = growth_data['Time']\n",
    "    biomass_init = list(biomass_values)[0]\n",
    "\n",
    "    substrate_values = substrate_data['Value']*1000/molar_mass\n",
    "    substrate_times = substrate_data['Time']\n",
    "    substrate_init = list(substrate_values)[0]\n",
    "    \n",
    "    # growth is the slope of log(biomass) vs. time\n",
    "    growth_rate, _, _, _, _ = linregress(biomass_times, [math.log(val) for val in biomass_values])\n",
    "    \n",
    "    # biomass X = X0*e^(μ*t)\n",
    "    biomass_sim = [biomass_init*math.exp(growth_rate*time) for time in biomass_times]\n",
    "    \n",
    "    # actual consumption = S0 - S\n",
    "    sub_consumed = [substrate_init - sub_value for sub_value in substrate_values]\n",
    "    \n",
    "    # new biomass X = X0 - X\n",
    "    biomass_sim_growth = [sim_value - biomass_init for sim_value in biomass_sim ]\n",
    "    \n",
    "    # yield is the amount of biomass that can be made from a mmol of substrate\n",
    "    yield_coeff, _, _, _, _ = linregress(sub_consumed, biomass_sim_growth)\n",
    "\n",
    "    # S = S0 - (1/yield)*X\n",
    "    substrate_sim = [substrate_init - 1/yield_coeff*val for val in biomass_sim_growth]\n",
    "    \n",
    "    # units work out to mmol substrate consumed / (g biomass * hr)\n",
    "    substrate_consumption_rate = (1/yield_coeff) * growth_rate\n",
    "\n",
    "    fig, axes = plt.subplots(nrows=1, ncols=2, figsize=(8, 5))\n",
    "    axes[0].plot(biomass_times, biomass_values, 'o', color='black')\n",
    "    axes[0].plot(biomass_times, biomass_sim, '-', color='black')\n",
    "    axes[1].plot(substrate_times, substrate_values, 'o', color='blue')\n",
    "    axes[1].plot(substrate_times, substrate_sim, '-', color='blue')\n",
    "    axes[0].set_title('Biomass growth')\n",
    "    axes[1].set_title('Phenol consumption')\n",
    "    axes[0].set_xlabel('Time (hr)')\n",
    "    axes[1].set_xlabel('Time (hr)')\n",
    "    axes[0].set_ylabel('Biomass (g/L)')\n",
    "    axes[1].set_ylabel('Phenol (mmol/L)')\n",
    "    fig.tight_layout()\n",
    "    \n",
    "    if display:\n",
    "        print(f'growth_rate = {growth_rate:.3f} hr-1')\n",
    "        print(f'yield coefficient = {yield_coeff:.3f} g biomass / mmol substrate')\n",
    "        print(f'substrate consumption rate = {substrate_consumption_rate:.3f} mmol substrate/gram biomass * hr')\n",
    "    else:\n",
    "        return growth_rate, yield_coeff, substrate_consumption_rate"
   ]
  },
  {
   "cell_type": "markdown",
   "metadata": {},
   "source": [
    "### Define function to calculate growth_rate, yield coefficient, and substrate consumption for a given condition\n",
    "take in 3 trial names and molar mass, and output growth rate, yield coefficients, and substrate consumption rate"
   ]
  },
  {
   "cell_type": "code",
   "execution_count": null,
   "metadata": {},
   "outputs": [],
   "source": [
    "def stats_for_condtion(od_df, sub_df, trial_1, trial_2, trial_3, molar_mass, max_time=0):\n",
    "    \n",
    "    if max_time != 0:\n",
    "        od_df = od_df[od_df['Time'] < max_time]\n",
    "        sub_df = sub_df[sub_df['Time'] < max_time]\n",
    "        \n",
    "    od_1 = od_df[od_df['Line Name'] == trial_1]\n",
    "    sub_1 = sub_df[sub_df['Line Name'] == trial_1]\n",
    "\n",
    "    od_2 = od_df[od_df['Line Name'] == trial_2]\n",
    "    sub_2 = sub_df[sub_df['Line Name'] == trial_2]\n",
    "\n",
    "    od_3 = od_df[od_df['Line Name'] == trial_3]\n",
    "    sub_3 = sub_df[sub_df['Line Name'] == trial_3]\n",
    "\n",
    "    gr_1, yc_1, scr_1 = stats_for_trial(od_1, sub_1, molar_mass)\n",
    "    gr_2, yc_2, scr_2 = stats_for_trial(od_2, sub_2, molar_mass)\n",
    "    gr_3, yc_3, scr_3 = stats_for_trial(od_3, sub_3, molar_mass)\n",
    "\n",
    "    print(f'growth_rate = {np.average([gr_1, gr_2, gr_3]):.3f} ± {np.std([gr_1, gr_2, gr_3]):.3f} hr-1')\n",
    "    print(f'yield coefficient = {np.average([yc_1, yc_2, yc_3]):.3f} ± {np.std([yc_1, yc_2, yc_3]):.3f} g biomass / mmol substrate')\n",
    "    print(f'substrate consumption rate = {np.average([scr_1, scr_2, scr_3]):.3f} ± {np.std([scr_1, scr_2, scr_3]):.3f} mmol substrate/gram biomass * hr')"
   ]
  },
  {
   "cell_type": "markdown",
   "metadata": {},
   "source": [
    "### Stats for WT phenol condition"
   ]
  },
  {
   "cell_type": "code",
   "execution_count": null,
   "metadata": {},
   "outputs": [],
   "source": [
    "stats_for_condtion(od_df, sub_df, 'WT-R1', 'WT-R2', 'WT-R3', 94.11)"
   ]
  },
  {
   "cell_type": "markdown",
   "metadata": {},
   "source": [
    "### Stats for Evol33 phenol condition"
   ]
  },
  {
   "cell_type": "code",
   "execution_count": null,
   "metadata": {},
   "outputs": [],
   "source": [
    "stats_for_condtion(od_df, sub_df, 'EVOL33-R1', 'EVOL33-R2', 'EVOL33-R3', 94.11, max_time=60)"
   ]
  },
  {
   "cell_type": "markdown",
   "metadata": {},
   "source": [
    "### Stats for Evol40 phenol condition"
   ]
  },
  {
   "cell_type": "code",
   "execution_count": null,
   "metadata": {},
   "outputs": [],
   "source": [
    "stats_for_condtion(od_df, sub_df, 'EVOL40-R1', 'EVOL40-R2', 'EVOL40-R3', 94.11,  max_time=60)"
   ]
  },
  {
   "cell_type": "markdown",
   "metadata": {},
   "source": [
    "### Glucose data looks wrong. \n",
    "Why is starting concentration ~0.05 g/L? This is much too low to be reasonable"
   ]
  },
  {
   "cell_type": "markdown",
   "metadata": {},
   "source": [
    "### Stats for WT glucose condition"
   ]
  },
  {
   "cell_type": "code",
   "execution_count": null,
   "metadata": {},
   "outputs": [],
   "source": [
    "od_1 = od_df[od_df['Line Name'] == 'WT-G']\n",
    "sub_1 = sub_df[sub_df['Line Name'] == 'WT-G']\n",
    "\n",
    "stats_for_trial(od_1, sub_1, 180.16, display=True)"
   ]
  },
  {
   "cell_type": "markdown",
   "metadata": {},
   "source": [
    "### Stats for Evol33 glucose condition"
   ]
  },
  {
   "cell_type": "code",
   "execution_count": null,
   "metadata": {},
   "outputs": [],
   "source": [
    "od_1 = od_df[od_df['Line Name'] == 'EVOL33-G']\n",
    "sub_1 = sub_df[sub_df['Line Name'] == 'EVOL33-G']\n",
    "stats_for_trial(od_1, sub_1, 180.16, display=True)"
   ]
  },
  {
   "cell_type": "markdown",
   "metadata": {},
   "source": [
    "### Stats for Evol40 glucose condition"
   ]
  },
  {
   "cell_type": "code",
   "execution_count": null,
   "metadata": {},
   "outputs": [],
   "source": [
    "od_1 = od_df[od_df['Line Name'] == 'EVOL40-G']\n",
    "sub_1 = sub_df[sub_df['Line Name'] == 'EVOL40-G']\n",
    "stats_for_trial(od_1, sub_1, 180.16, display=True)"
   ]
  },
  {
   "cell_type": "markdown",
   "metadata": {},
   "source": [
    "### Stats for low N WT glucose condition"
   ]
  },
  {
   "cell_type": "code",
   "execution_count": null,
   "metadata": {},
   "outputs": [],
   "source": [
    "od_1 = od_df[od_df['Line Name'] == 'WT-G-N']\n",
    "sub_1 = sub_df[sub_df['Line Name'] == 'WT-G-N']\n",
    "stats_for_trial(od_1, sub_1, 180.16, display=True)"
   ]
  },
  {
   "cell_type": "markdown",
   "metadata": {},
   "source": [
    "### Stats for low N Evol33 glucose condition"
   ]
  },
  {
   "cell_type": "code",
   "execution_count": null,
   "metadata": {},
   "outputs": [],
   "source": [
    "od_1 = od_df[od_df['Line Name'] == 'EVOL33-G-N']\n",
    "sub_1 = sub_df[sub_df['Line Name'] == 'EVOL33-G-N']\n",
    "stats_for_trial(od_1, sub_1, 180.16, display=True)"
   ]
  },
  {
   "cell_type": "markdown",
   "metadata": {},
   "source": [
    "### Stats for low N Evol40 glucose condition"
   ]
  },
  {
   "cell_type": "code",
   "execution_count": null,
   "metadata": {},
   "outputs": [],
   "source": [
    "od_1 = od_df[od_df['Line Name'] == 'EVOL40-G-N']\n",
    "sub_1 = sub_df[sub_df['Line Name'] == 'EVOL40-G-N']\n",
    "stats_for_trial(od_1, sub_1, 180.16, display=True)"
   ]
  },
  {
   "cell_type": "markdown",
   "metadata": {},
   "source": [
    "## Henson Data\n",
    "Load OD and substrate concentration curves"
   ]
  },
  {
   "cell_type": "code",
   "execution_count": null,
   "metadata": {},
   "outputs": [],
   "source": [
    "od_filename = '../../EDD_Henson_data/Henson_ODD_data.csv'\n",
    "substrate_filename = '../../EDD_Henson_data/Henson_metabolomics_data.csv'\n",
    "\n",
    "od_df = pd.read_csv(od_filename)\n",
    "sub_df = pd.read_csv(substrate_filename)\n",
    "\n",
    "od_df['Biomass Conc'] = GRAMS_BIOMASS_PER_LITER_PER_OD*od_df['Value']\n",
    "\n",
    "print(f'substrate data has {len(sub_df)} lines')\n",
    "print(f'OD data has {len(od_df)} lines')"
   ]
  },
  {
   "cell_type": "code",
   "execution_count": null,
   "metadata": {},
   "outputs": [],
   "source": [
    "def stats_for_trial(growth_data, substrate_data, molar_mass, display=False, max_time=0):\n",
    "    \n",
    "    biomass_values = growth_data['Biomass Conc']\n",
    "    biomass_times = growth_data['Time']\n",
    "    biomass_init = list(biomass_values)[0]\n",
    "\n",
    "    substrate_values = substrate_data['Value']*1000/molar_mass\n",
    "    substrate_times = substrate_data['Time']\n",
    "    substrate_init = list(substrate_values)[0]\n",
    "    \n",
    "    # growth is the slope of log(biomass) vs. time\n",
    "    growth_rate, _, _, _, _ = linregress(biomass_times, [math.log(val) for val in biomass_values])\n",
    "    \n",
    "    # biomass X = X0*e^(μ*t)\n",
    "    # This is different from above to ensure that there is a biomass value for every substrate measurement\n",
    "    biomass_sim = [biomass_init*math.exp(growth_rate*time) for time in substrate_times]\n",
    "    \n",
    "    # actual consumption = S0 - S\n",
    "    sub_consumed = [substrate_init - sub_value for sub_value in substrate_values]\n",
    "    \n",
    "    # new biomass X = X0 - X\n",
    "    biomass_sim_growth = [sim_value - biomass_init for sim_value in biomass_sim ]\n",
    "    \n",
    "    # yield is the amount of biomass that can be made from a mmol of substrate\n",
    "    yield_coeff, _, _, _, _ = linregress(sub_consumed, biomass_sim_growth)\n",
    "\n",
    "    # S = S0 - (1/yield)*X\n",
    "    substrate_sim = [substrate_init - 1/yield_coeff*val for val in biomass_sim_growth]\n",
    "    \n",
    "    substrate_consumption_rate = (1/yield_coeff) * growth_rate\n",
    "\n",
    "    fig, axes = plt.subplots(nrows=1, ncols=2, figsize=(8, 5))\n",
    "    axes[0].plot(biomass_times, biomass_values, 'o', color='black')\n",
    "    axes[0].plot(substrate_times, biomass_sim, '-', color='black')\n",
    "    axes[1].plot(substrate_times, substrate_values, 'o', color='blue')\n",
    "    axes[1].plot(substrate_times, substrate_sim, '-', color='blue')\n",
    "    axes[0].set_title('Biomass growth')\n",
    "    axes[1].set_title('Phenol consumption')\n",
    "    axes[0].set_xlabel('Time (hr)')\n",
    "    axes[1].set_xlabel('Time (hr)')\n",
    "    axes[0].set_ylabel('Biomass (g/L)')\n",
    "    axes[1].set_ylabel('Phenol (mmol/L)')\n",
    "    fig.tight_layout()\n",
    "    \n",
    "    if display:\n",
    "        print(f'growth_rate = {growth_rate:.3f} hr-1')\n",
    "        print(f'yield coefficient = {yield_coeff:.3f} g biomass / mmol substrate')\n",
    "        print(f'substrate consumption rate = {substrate_consumption_rate:.3f} mmol substrate/gram biomass * hr')\n",
    "    else:\n",
    "        return growth_rate, yield_coeff, substrate_consumption_rate"
   ]
  },
  {
   "cell_type": "code",
   "execution_count": null,
   "metadata": {},
   "outputs": [],
   "source": [
    "stats_for_condtion(od_df, sub_df,'WT-P-R1', 'WT-P-R2', 'WT-P-R3', 94.11, max_time = 40)"
   ]
  },
  {
   "cell_type": "code",
   "execution_count": null,
   "metadata": {},
   "outputs": [],
   "source": [
    "stats_for_condtion(od_df, sub_df, 'PVHG6-P-R1', 'PVHG6-P-R2', 'PVHG6-P-R3', 94.11, max_time=40)"
   ]
  },
  {
   "cell_type": "code",
   "execution_count": null,
   "metadata": {},
   "outputs": [],
   "source": []
  },
  {
   "cell_type": "code",
   "execution_count": null,
   "metadata": {},
   "outputs": [],
   "source": []
  },
  {
   "cell_type": "code",
   "execution_count": null,
   "metadata": {},
   "outputs": [],
   "source": []
  }
 ],
 "metadata": {
  "kernelspec": {
   "display_name": "ART_v3.6",
   "language": "python",
   "name": "art_v3.6"
  },
  "language_info": {
   "codemirror_mode": {
    "name": "ipython",
    "version": 3
   },
   "file_extension": ".py",
   "mimetype": "text/x-python",
   "name": "python",
   "nbconvert_exporter": "python",
   "pygments_lexer": "ipython3",
   "version": "3.6.5"
  }
 },
 "nbformat": 4,
 "nbformat_minor": 4
}

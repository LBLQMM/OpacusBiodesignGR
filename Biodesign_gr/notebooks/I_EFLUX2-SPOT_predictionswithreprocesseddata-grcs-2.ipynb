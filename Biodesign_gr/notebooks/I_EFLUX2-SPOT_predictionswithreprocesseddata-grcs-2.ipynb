{
 "cells": [
  {
   "cell_type": "markdown",
   "id": "7563604a-2ba5-4e5d-b9e0-309615df0b5b",
   "metadata": {},
   "source": [
    "# **Notebook to make predictions with reprocessed Yoneda and Henson data and EFLUX2 and SPOT** "
   ]
  },
  {
   "cell_type": "markdown",
   "id": "5a6edbe7-d3d0-49ac-9d13-8f43882945f0",
   "metadata": {},
   "source": [
    "### **Import python packages**"
   ]
  },
  {
   "cell_type": "code",
   "execution_count": 1,
   "id": "5e37f811-1a95-45e0-932f-962edb144307",
   "metadata": {},
   "outputs": [],
   "source": [
    "import os\n",
    "import sys\n",
    "import pandas as pd\n",
    "import numpy as np\n",
    "import cobra\n",
    "from statistics import mean, median\n",
    "%matplotlib inline\n",
    "from matplotlib import pyplot as plt\n",
    "from edd_utils import login, export_study, export_metadata"
   ]
  },
  {
   "cell_type": "markdown",
   "id": "1e20d0fe-15c8-4248-b6be-aa65f868fc95",
   "metadata": {},
   "source": [
    "### **Import Joonhoons Code**"
   ]
  },
  {
   "cell_type": "code",
   "execution_count": 2,
   "id": "faf7a9d4-095c-42c6-a32b-5b5fd19ffca8",
   "metadata": {},
   "outputs": [],
   "source": [
    "# OptlangDir = '../EFLUX2_SPOT'\n",
    "# sys.path.append(OptlangDir)\n",
    "# from spot_cplex import SPOT #spot not working yet because quadratic constraints not supported yet"
   ]
  },
  {
   "cell_type": "markdown",
   "id": "244d4ba7-9d90-4f21-8de8-18a77f1a87dd",
   "metadata": {},
   "source": [
    "### **Sign into EDD**"
   ]
  },
  {
   "cell_type": "code",
   "execution_count": 5,
   "id": "e8232d35-b2bf-4b51-9625-3a12a76661f3",
   "metadata": {},
   "outputs": [
    {
     "name": "stdin",
     "output_type": "stream",
     "text": [
      "Password for garrettroell:  ················\n"
     ]
    }
   ],
   "source": [
    "study_slug = 'biodesign_henson2018_reprocessed'\n",
    "edd_server = 'public-edd.jbei.org'\n",
    "user = 'garrettroell' # 'schenkch'\n",
    "session = login(edd_server=edd_server, user=user)"
   ]
  },
  {
   "cell_type": "markdown",
   "id": "c8bfde81-2fb8-4b07-9273-4070bc5fea43",
   "metadata": {},
   "source": [
    "### **Get transcriptomic data from [EDD](https://public-edd.jbei.org/s/biodesign_henson2018_reprocessed/)**"
   ]
  },
  {
   "cell_type": "code",
   "execution_count": 6,
   "id": "f177a0d5-a877-4bd0-af30-304b0badbc93",
   "metadata": {},
   "outputs": [
    {
     "data": {
      "application/vnd.jupyter.widget-view+json": {
       "model_id": "a38864e51da64a59acb4cbccf829c88f",
       "version_major": 2,
       "version_minor": 0
      },
      "text/plain": [
       "HBox(children=(FloatProgress(value=0.0, max=440493.0), HTML(value='')))"
      ]
     },
     "metadata": {},
     "output_type": "display_data"
    },
    {
     "name": "stdout",
     "output_type": "stream",
     "text": [
      "\n"
     ]
    },
    {
     "data": {
      "text/html": [
       "<div>\n",
       "<style scoped>\n",
       "    .dataframe tbody tr th:only-of-type {\n",
       "        vertical-align: middle;\n",
       "    }\n",
       "\n",
       "    .dataframe tbody tr th {\n",
       "        vertical-align: top;\n",
       "    }\n",
       "\n",
       "    .dataframe thead th {\n",
       "        text-align: right;\n",
       "    }\n",
       "</style>\n",
       "<table border=\"1\" class=\"dataframe\">\n",
       "  <thead>\n",
       "    <tr style=\"text-align: right;\">\n",
       "      <th></th>\n",
       "      <th>Study ID</th>\n",
       "      <th>Study Name</th>\n",
       "      <th>Line ID</th>\n",
       "      <th>Line Name</th>\n",
       "      <th>Line Description</th>\n",
       "      <th>Protocol</th>\n",
       "      <th>Assay ID</th>\n",
       "      <th>Assay Name</th>\n",
       "      <th>Formal Type</th>\n",
       "      <th>Measurement Type</th>\n",
       "      <th>Compartment</th>\n",
       "      <th>Units</th>\n",
       "      <th>Value</th>\n",
       "      <th>Hours</th>\n",
       "    </tr>\n",
       "  </thead>\n",
       "  <tbody>\n",
       "    <tr>\n",
       "      <th>0</th>\n",
       "      <td>14409</td>\n",
       "      <td>Biodesign_Henson2018_reprocessed</td>\n",
       "      <td>14905</td>\n",
       "      <td>WT-M-R1</td>\n",
       "      <td>R. Opacus wild type strain with Mixture of all...</td>\n",
       "      <td>Transcriptomics</td>\n",
       "      <td>14948</td>\n",
       "      <td>WT-M-R1</td>\n",
       "      <td>NaN</td>\n",
       "      <td>WP_000104864_1</td>\n",
       "      <td>0</td>\n",
       "      <td>FPKM</td>\n",
       "      <td>0.0</td>\n",
       "      <td>20.0</td>\n",
       "    </tr>\n",
       "    <tr>\n",
       "      <th>1</th>\n",
       "      <td>14409</td>\n",
       "      <td>Biodesign_Henson2018_reprocessed</td>\n",
       "      <td>14905</td>\n",
       "      <td>WT-M-R1</td>\n",
       "      <td>R. Opacus wild type strain with Mixture of all...</td>\n",
       "      <td>Transcriptomics</td>\n",
       "      <td>14948</td>\n",
       "      <td>WT-M-R1</td>\n",
       "      <td>NaN</td>\n",
       "      <td>WP_000104864_1</td>\n",
       "      <td>0</td>\n",
       "      <td>FPKM</td>\n",
       "      <td>0.0</td>\n",
       "      <td>32.0</td>\n",
       "    </tr>\n",
       "    <tr>\n",
       "      <th>2</th>\n",
       "      <td>14409</td>\n",
       "      <td>Biodesign_Henson2018_reprocessed</td>\n",
       "      <td>14906</td>\n",
       "      <td>WT-M-R2</td>\n",
       "      <td>R. Opacus wild type strain with Mixture of all...</td>\n",
       "      <td>Transcriptomics</td>\n",
       "      <td>14949</td>\n",
       "      <td>WT-M-R2</td>\n",
       "      <td>NaN</td>\n",
       "      <td>WP_000104864_1</td>\n",
       "      <td>0</td>\n",
       "      <td>FPKM</td>\n",
       "      <td>0.0</td>\n",
       "      <td>20.0</td>\n",
       "    </tr>\n",
       "    <tr>\n",
       "      <th>3</th>\n",
       "      <td>14409</td>\n",
       "      <td>Biodesign_Henson2018_reprocessed</td>\n",
       "      <td>14906</td>\n",
       "      <td>WT-M-R2</td>\n",
       "      <td>R. Opacus wild type strain with Mixture of all...</td>\n",
       "      <td>Transcriptomics</td>\n",
       "      <td>14949</td>\n",
       "      <td>WT-M-R2</td>\n",
       "      <td>NaN</td>\n",
       "      <td>WP_000104864_1</td>\n",
       "      <td>0</td>\n",
       "      <td>FPKM</td>\n",
       "      <td>0.0</td>\n",
       "      <td>32.0</td>\n",
       "    </tr>\n",
       "    <tr>\n",
       "      <th>4</th>\n",
       "      <td>14409</td>\n",
       "      <td>Biodesign_Henson2018_reprocessed</td>\n",
       "      <td>14907</td>\n",
       "      <td>WT-M-R3</td>\n",
       "      <td>R. Opacus wild type strain with Mixture of all...</td>\n",
       "      <td>Transcriptomics</td>\n",
       "      <td>14950</td>\n",
       "      <td>WT-M-R3</td>\n",
       "      <td>NaN</td>\n",
       "      <td>WP_000104864_1</td>\n",
       "      <td>0</td>\n",
       "      <td>FPKM</td>\n",
       "      <td>0.0</td>\n",
       "      <td>20.0</td>\n",
       "    </tr>\n",
       "  </tbody>\n",
       "</table>\n",
       "</div>"
      ],
      "text/plain": [
       "   Study ID                        Study Name  Line ID Line Name  \\\n",
       "0     14409  Biodesign_Henson2018_reprocessed    14905   WT-M-R1   \n",
       "1     14409  Biodesign_Henson2018_reprocessed    14905   WT-M-R1   \n",
       "2     14409  Biodesign_Henson2018_reprocessed    14906   WT-M-R2   \n",
       "3     14409  Biodesign_Henson2018_reprocessed    14906   WT-M-R2   \n",
       "4     14409  Biodesign_Henson2018_reprocessed    14907   WT-M-R3   \n",
       "\n",
       "                                    Line Description         Protocol  \\\n",
       "0  R. Opacus wild type strain with Mixture of all...  Transcriptomics   \n",
       "1  R. Opacus wild type strain with Mixture of all...  Transcriptomics   \n",
       "2  R. Opacus wild type strain with Mixture of all...  Transcriptomics   \n",
       "3  R. Opacus wild type strain with Mixture of all...  Transcriptomics   \n",
       "4  R. Opacus wild type strain with Mixture of all...  Transcriptomics   \n",
       "\n",
       "   Assay ID Assay Name Formal Type Measurement Type  Compartment Units  Value  \\\n",
       "0     14948    WT-M-R1         NaN   WP_000104864_1            0  FPKM    0.0   \n",
       "1     14948    WT-M-R1         NaN   WP_000104864_1            0  FPKM    0.0   \n",
       "2     14949    WT-M-R2         NaN   WP_000104864_1            0  FPKM    0.0   \n",
       "3     14949    WT-M-R2         NaN   WP_000104864_1            0  FPKM    0.0   \n",
       "4     14950    WT-M-R3         NaN   WP_000104864_1            0  FPKM    0.0   \n",
       "\n",
       "   Hours  \n",
       "0   20.0  \n",
       "1   32.0  \n",
       "2   20.0  \n",
       "3   32.0  \n",
       "4   20.0  "
      ]
     },
     "execution_count": 6,
     "metadata": {},
     "output_type": "execute_result"
    }
   ],
   "source": [
    "df = export_study(session, study_slug, edd_server=edd_server)\n",
    "trans_df = df[df['Protocol'].str.contains('Transcriptomics')]\n",
    "trans_df.head()"
   ]
  },
  {
   "cell_type": "markdown",
   "id": "c7252a93-7cea-4b7c-8375-c03a194a9524",
   "metadata": {},
   "source": [
    "### **Load Genome Scale Model**"
   ]
  },
  {
   "cell_type": "code",
   "execution_count": 7,
   "id": "6f6b96da-3aaf-49fd-9dec-b674a678d243",
   "metadata": {},
   "outputs": [],
   "source": [
    "file_name =  '../GSMs/Ropacus_annotated_curated_with_phenol_custom_biomass.xml'\n",
    "model = cobra.io.read_sbml_model(file_name)"
   ]
  },
  {
   "cell_type": "markdown",
   "id": "c050bfe4-28bd-42d3-a42d-7eb33402d132",
   "metadata": {},
   "source": [
    "### **Define functions used in main EFlux function**"
   ]
  },
  {
   "cell_type": "markdown",
   "id": "f157a170-aa60-403a-9d41-903bb8b454d4",
   "metadata": {},
   "source": [
    "Define function to plot histogram from list of numbers. Will be used for transcriptomic measurements and flux bounds"
   ]
  },
  {
   "cell_type": "code",
   "execution_count": 8,
   "id": "b39e769d-8315-4adb-b033-7b5dbc6a8cff",
   "metadata": {},
   "outputs": [],
   "source": [
    "def plot_histogram(data, title):\n",
    "\n",
    "    bins = np.arange(0, 400, 5) # x axis goes from 0 to 40 with bars of width 5\n",
    "    plt.hist(data, bins=bins, alpha=0.5) \n",
    "    plt.title(f'{title}\\nmean = {mean(data):.3f}, median={median(data):.3f} max={max(data):.3f}')\n",
    "    plt.xlabel('Transcriptomics value')\n",
    "    plt.ylabel('count')\n",
    "    plt.show()"
   ]
  },
  {
   "cell_type": "markdown",
   "id": "a779be49-3fc2-4cf7-a1e2-00df3b5ddb89",
   "metadata": {},
   "source": [
    "Define a function to find the transcriptomic value for a given reaction id. The function takes into account genes that are required in parallel and in series."
   ]
  },
  {
   "cell_type": "code",
   "execution_count": 9,
   "id": "e82e91bd-a148-4bdd-a4d3-fb4a1fc5bc60",
   "metadata": {},
   "outputs": [],
   "source": [
    "def rxn_id_to_upper_bound(model, trans_df, rxn_id):\n",
    "    associated_genes = model.reactions.get_by_id(rxn_id).gene_reaction_rule\n",
    "    parallel_transcript_values = []\n",
    "    \n",
    "    if associated_genes:\n",
    "        for parallel_gene_string in associated_genes.split(' or '):\n",
    "            parallel_gene_string = parallel_gene_string.strip('() ')\n",
    "            \n",
    "            series_transcript_values = []\n",
    "            for gene_name in parallel_gene_string.split(' and '):\n",
    "                gene_name = gene_name.strip('() ')\n",
    "                if gene_name == 'spontaneous':\n",
    "                    series_transcript_values.append(np.Inf) # A spontaneous reaction should not require transcripts\n",
    "                else:\n",
    "                    transcript_value = float(trans_df[trans_df['Measurement Type'] == gene_name].Value)\n",
    "                    series_transcript_values.append(transcript_value)\n",
    "            \n",
    "            parallel_transcript_values.append(min(series_transcript_values))\n",
    "            \n",
    "        return sum(parallel_transcript_values)\n",
    "    else:\n",
    "        return np.Inf # Reactions without transcript measurements shouldn't be constrained"
   ]
  },
  {
   "cell_type": "markdown",
   "id": "32f10d13-e30e-4d78-bc3c-3e386c47a181",
   "metadata": {},
   "source": [
    "### **Main EFlux function**"
   ]
  },
  {
   "cell_type": "code",
   "execution_count": 14,
   "id": "f38895b6-054a-404e-a293-56847f42a1f3",
   "metadata": {},
   "outputs": [],
   "source": [
    "from optlang.symbolics import add\n",
    "\n",
    "def EFlux2test(model, edd_df, line_name, min_bound = 10):\n",
    "    \n",
    "    # get transcriptomics measurement for a single experiment and plot values\n",
    "    trans_df = edd_df[edd_df['Line Name'] == line_name]\n",
    "    plot_histogram(trans_df['Value'], 'Transcriptomic values by genes')\n",
    "    \n",
    "    # make a dataframe mapping reaction to transcript levels using cobrapy's gene_reaction_rule\n",
    "    reaction_transcript_df = pd.DataFrame()\n",
    "    reaction_transcript_df['reaction_id'] = [rxn.id for rxn in model.reactions]\n",
    "    reaction_transcript_df['transcipt_level'] = [rxn_id_to_upper_bound(model, trans_df, rxn_id) for rxn_id in reaction_transcript_df.reaction_id]\n",
    "    plot_histogram(reaction_transcript_df['transcipt_level'], 'Transcriptomic values by reactions')\n",
    "    display(reaction_transcript_df.head(3))\n",
    "    \n",
    "    with model:        \n",
    "        # Ensure that medium is correct, and the carbon source is the only limiting substrate\n",
    "        medium = {key:np.Inf for (key,value) in model.medium.items()}\n",
    "        medium[\"EX_glc__D_e\"] = 0.0\n",
    "        medium[\"EX_phenol_e\"] = 100.0 # 1.76124\n",
    "        model.medium = medium\n",
    "\n",
    "        # calculate maximum biomass yield without constraints\n",
    "        model.tolerance = 1e-9\n",
    "        unbounded_sol = model.optimize()\n",
    "        print(f'\\nWithout constraints, flux balance analysis found that {unbounded_sol.objective_value:.3f} grams of biomass could be made.\\n')\n",
    "\n",
    "        # boundry reactions should also not be given infinite bounds/leads to media problems.\n",
    "        # TODO: Need to add phenol uptake reactions to this list too.\n",
    "        reactions_to_exclude = [rxn.id for rxn in model.boundary]\n",
    "        \n",
    "        # calculate maximum biomass yield with constraints\n",
    "        bounded_model = model.copy()\n",
    "        with bounded_model:\n",
    "            for rxn_id in reaction_transcript_df['reaction_id']:\n",
    "                if rxn_id in reactions_to_exclude:\n",
    "                    pass\n",
    "                else:\n",
    "                    bound = rxn_id_to_upper_bound(bounded_model, trans_df, rxn_id) # can replace with a dataframe method to access data in reaction_transcript_df\n",
    "                    bound = max(bound, min_bound) # min_bound is a parameter of this function\n",
    "                    bounded_model.reactions.get_by_id(rxn_id).upper_bound = bound\n",
    "                    bounded_model.reactions.get_by_id(rxn_id).lower_bound = -bound\n",
    "                    \n",
    "            medium = {key:np.Inf for (key,value) in bounded_model.medium.items()}\n",
    "            medium[\"EX_glc__D_e\"] = 0.0\n",
    "            medium[\"EX_phenol_e\"] = 100.0 # 1.76124\n",
    "            bounded_model.medium = medium\n",
    "            print(bounded_model.medium)\n",
    "\n",
    "            bounded_sol = bounded_model.optimize()\n",
    "            print(f'\\nGiven the bounds from transcriptmics and a minimum absolute bound of {min_bound}, flux balance analysis found that {bounded_sol.objective_value:.3f} grams of biomass could be made.\\n')\n",
    "\n",
    "#         # Constrain the biomass to the optimal value\n",
    "#             print('FBA status', bounded_sol.status)\n",
    "#             print('FBA solution', bounded_sol.objective_value)\n",
    "#             display(bounded_model.objective)\n",
    "#             # Constrain the biomass to the optimal value\n",
    "#             for rxn_id in bounded_model.reactions:\n",
    "#                 if rxn_id.objective_coefficient:\n",
    "#                     rxn_id.lower_bound = bounded_sol.objective_value\n",
    "#             # minimize the sum of squared flux values\n",
    "#             bounded_model.objective = bounded_model.problem.Objective(add([rxn_id.flux_expression**2 for rxn_id in bounded_model.reactions]), direction='min')\n",
    "#             display(bounded_model.problem.Objective)\n",
    "#             eflux2_sol = bounded_model.optimize()\n",
    "#             print('EFlux2 status', eflux2_sol.status)\n",
    "#             print('EFlux2 solution', eflux2_sol.objective_value)\n",
    "#     return eflux2_sol"
   ]
  },
  {
   "cell_type": "markdown",
   "id": "0f441bd3-e7cf-469c-a0a2-db836dd8818f",
   "metadata": {},
   "source": [
    "### **Main EFlux function test**"
   ]
  },
  {
   "cell_type": "code",
   "execution_count": 15,
   "id": "1ca8506a-4510-4ddc-b388-b1e3c1ec68b6",
   "metadata": {},
   "outputs": [
    {
     "data": {
      "image/png": "[encoded data removed]",
      "text/plain": [
       "<Figure size 432x288 with 1 Axes>"
      ]
     },
     "metadata": {
      "needs_background": "light"
     },
     "output_type": "display_data"
    },
    {
     "data": {
      "image/png": "[encoded data removed]",
      "text/plain": [
       "<Figure size 432x288 with 1 Axes>"
      ]
     },
     "metadata": {
      "needs_background": "light"
     },
     "output_type": "display_data"
    },
    {
     "data": {
      "text/html": [
       "<div>\n",
       "<style scoped>\n",
       "    .dataframe tbody tr th:only-of-type {\n",
       "        vertical-align: middle;\n",
       "    }\n",
       "\n",
       "    .dataframe tbody tr th {\n",
       "        vertical-align: top;\n",
       "    }\n",
       "\n",
       "    .dataframe thead th {\n",
       "        text-align: right;\n",
       "    }\n",
       "</style>\n",
       "<table border=\"1\" class=\"dataframe\">\n",
       "  <thead>\n",
       "    <tr style=\"text-align: right;\">\n",
       "      <th></th>\n",
       "      <th>reaction_id</th>\n",
       "      <th>transcipt_level</th>\n",
       "    </tr>\n",
       "  </thead>\n",
       "  <tbody>\n",
       "    <tr>\n",
       "      <th>0</th>\n",
       "      <td>12DGR120tipp</td>\n",
       "      <td>inf</td>\n",
       "    </tr>\n",
       "    <tr>\n",
       "      <th>1</th>\n",
       "      <td>12DGR140tipp</td>\n",
       "      <td>inf</td>\n",
       "    </tr>\n",
       "    <tr>\n",
       "      <th>2</th>\n",
       "      <td>12DGR141tipp</td>\n",
       "      <td>inf</td>\n",
       "    </tr>\n",
       "  </tbody>\n",
       "</table>\n",
       "</div>"
      ],
      "text/plain": [
       "    reaction_id  transcipt_level\n",
       "0  12DGR120tipp              inf\n",
       "1  12DGR140tipp              inf\n",
       "2  12DGR141tipp              inf"
      ]
     },
     "metadata": {},
     "output_type": "display_data"
    },
    {
     "name": "stdout",
     "output_type": "stream",
     "text": [
      "\n",
      "Without constraints, flux balance analysis found that 8.402 grams of biomass could be made.\n",
      "\n",
      "{'EX_h2o_e': inf, 'EX_h_e': inf, 'EX_cl_e': inf, 'EX_pi_e': inf, 'EX_nh4_e': inf, 'EX_fe3_e': inf, 'EX_k_e': inf, 'EX_ca2_e': inf, 'EX_mg2_e': inf, 'EX_mn2_e': inf, 'EX_cobalt2_e': inf, 'EX_zn2_e': inf, 'EX_cu2_e': inf, 'EX_o2_e': inf, 'EX_fe2_e': inf, 'EX_mobd_e': inf, 'EX_so4_e': inf, 'EX_phenol_e': 10.0}\n",
      "\n",
      "Given the bounds from transcriptmics and a minimum absolute bound of 30, flux balance analysis found that 1576.369 grams of biomass could be made.\n",
      "\n"
     ]
    }
   ],
   "source": [
    "sol_WTPR1 = EFlux2test(model, trans_df, 'WT-P-R1', min_bound = 30)"
   ]
  },
  {
   "cell_type": "markdown",
   "id": "20978510-4343-48aa-bd76-cae4e38a8f01",
   "metadata": {},
   "source": [
    "Unused code used for reference"
   ]
  },
  {
   "cell_type": "code",
   "execution_count": null,
   "id": "5c70e3fb-7997-4935-b6af-7a18e443a7fa",
   "metadata": {},
   "outputs": [],
   "source": [
    "# def rxn_to_GPR(model, rxn):\n",
    "#     parallel_gene_sets = set()\n",
    "#     if rxn.gene_reaction_rule:\n",
    "#         for parallel_gene_string in rxn.gene_reaction_rule.split(' or '):\n",
    "#             parallel_gene_string = parallel_gene_string.strip('() ')\n",
    "#             parallel_gene_list = []\n",
    "            \n",
    "#             for gene_name in parallel_gene_string.split(' and '):\n",
    "#                 gene_name = gene_name.strip('() ')\n",
    "#                 parallel_gene_list.append(gene_name)\n",
    "            \n",
    "#             parallel_gene_sets.add(frozenset(parallel_gene_list))\n",
    "            \n",
    "#     return parallel_gene_sets\n",
    "            \n",
    "# Orginal code\n",
    "#     if r.gene_reaction_rule:\n",
    "#         for x in [x.strip('() ') for x in r.gene_reaction_rule.split(' or ')]:\n",
    "#             temp.add(frozenset(y.strip('() ') for y in x.split(' and ')))\n",
    "#         return temp\n",
    "#     else:\n",
    "#         return {}\n",
    "    \n",
    "# Christina's version\n",
    "#     if r.gene_reaction_rule:\n",
    "#         t2 = 0\n",
    "#         #If a reaction R1 has the GPR of 'A and B', it would be parsed to { {A, B} } in gpr_dict['R1']. Then t for R1 would be sum( [ min(A, B) ] ) = min(A, B).\n",
    "#         #If a reaction R1 has the GPR of 'A or B', it would be parsed to { {A}, {B} } in gpr_dict['R1']. Then t for R1 would be sum( [ min(A), min(B) ] ) = sum( [A, B] ).\n",
    "#         #If a reaction R1 has the GPR of '(A and B) or (C and D)', it would be parsed to { {A, B}, {C, D} } in gpr_dict['R1']. Then t for R1 would be sum( [ min(A, B), min(C, D) ] ).\n",
    "#         for p in gpr_dict[r.id]:\n",
    "#             xg = []\n",
    "#             for g in p:\n",
    "#                 if g in transcriptomics_dict.keys():\n",
    "#                     print(transcriptomics_dict.get(g))\n",
    "#                     xg.append(transcriptomics_dict.get(g))\n",
    "#                 else:\n",
    "#                     xg.append(np.Inf)\n",
    "#                 t1 = np.min(xg)\n",
    "#             t2 = t2 + t1"
   ]
  },
  {
   "cell_type": "code",
   "execution_count": null,
   "id": "61a35c08-977d-4a61-acb5-4868b5e22b9b",
   "metadata": {},
   "outputs": [],
   "source": [
    "# _ = [print(rxn, rxn.upper_bound) for rxn in model.reactions if rxn.upper_bound != 1000] \n",
    "# print()\n",
    "# _ = [print(rxn, rxn.lower_bound) for rxn in model.reactions if ( rxn.lower_bound != -1000 and rxn.lower_bound != 0)] "
   ]
  },
  {
   "cell_type": "code",
   "execution_count": null,
   "id": "e3a84421-52c3-4620-95c9-dea6ed91b142",
   "metadata": {},
   "outputs": [],
   "source": [
    "eflux2sol_WTPR1_df = pd.DataFrame(sol_WTPR1.fluxes, columns=['fluxes'])\n",
    "eflux2sol_WTPR1_df"
   ]
  },
  {
   "cell_type": "code",
   "execution_count": null,
   "id": "b93e9bf6-7128-4a3d-bb1e-a45fd3ce49e8",
   "metadata": {},
   "outputs": [],
   "source": []
  },
  {
   "cell_type": "code",
   "execution_count": null,
   "id": "c6d92333-13e8-43a4-bf5c-4fb31fd006c1",
   "metadata": {},
   "outputs": [],
   "source": []
  },
  {
   "cell_type": "markdown",
   "id": "99fefd29-1e17-4bd1-92f3-b06e4d0b1d1c",
   "metadata": {},
   "source": [
    "##### Just linear scale up to solution to see how it compares:"
   ]
  },
  {
   "cell_type": "code",
   "execution_count": null,
   "id": "a2a49529-2838-471e-9f6c-206ddaa49cc3",
   "metadata": {},
   "outputs": [],
   "source": [
    "testscaleeflux2 = eflux2sol_WTPR1_df*(100/1.76124)"
   ]
  },
  {
   "cell_type": "code",
   "execution_count": null,
   "id": "999610be-d11c-4525-9c73-c93059ae8622",
   "metadata": {},
   "outputs": [],
   "source": [
    "plt.scatter(testscaleeflux2.index,testscaleeflux2.fluxes)\n",
    "plt.show()"
   ]
  },
  {
   "cell_type": "markdown",
   "id": "45c23b85-c646-4b05-8297-7b085fac11d9",
   "metadata": {},
   "source": [
    "Old efflux code saved as reference material"
   ]
  },
  {
   "cell_type": "code",
   "execution_count": null,
   "id": "171abbc4-d08e-4695-81db-8f43c51d9562",
   "metadata": {},
   "outputs": [],
   "source": [
    "# def EFlux2test(model, edd_df, line_name, min_bound = 10):\n",
    "    # covert transcriptomic df to dictionary of genes and transcript values\n",
    "#     transcriptomics_dict = {row['Measurement Type']:row['Value'] for _, row in trans_df.iterrows()}\n",
    "    \n",
    "#     # plot histogram of transcriptomic measurements\n",
    "#     plot_histogram(transcriptomics_dict.values(), 'Transcriptomic values')\n",
    "    \n",
    "#     # convert model into dictionary of genes and their associated GPRs\n",
    "#     gpr_dict = model_to_GPR_dictionary(model)\n",
    "    \n",
    "#     with model:        \n",
    "#         # Ensure that medium is correct, and the carbon source is the only limiting substrate\n",
    "#         medium = {key:np.Inf for (key,value) in model.medium.items()}\n",
    "#         medium[\"EX_glc__D_e\"] = 0.0\n",
    "#         medium[\"EX_phenol_e\"] = 1.76124#100.0\n",
    "#         model.medium = medium\n",
    "#         print(model.medium) # print the media to prevent inivisible errors\n",
    "        \n",
    "#         # calculate maximum biomass yield without constraints\n",
    "#         model.tolerance = 1e-9\n",
    "#         unbounded_sol = model.optimize()\n",
    "#         print(f'\\nWithout constraints, flux balance analysis found that {unbounded_sol.objective_value:.3f} grams of biomass could be made.\\n')\n",
    "\n",
    "#         # calculate maximum biomass yield without constraints\n",
    "#         bounds = []\n",
    "#         bounded_model = model.copy()\n",
    "#         with bounded_model:\n",
    "#             for rxn_id in list(gpr_dict.keys()):\n",
    "#                 #exclude phenol related rxns from transcript bounds for now:\n",
    "# #                 if bounded_model.reactions.get_by_id(rxn_id).upper_bound != 1000:\n",
    "# #                     display('Phenol related rxns excluded from transcript bounds',rxn_id)\n",
    "# #                     continue\n",
    "#                 bound = 0\n",
    "#                 for genes_in_series in gpr_dict[rxn_id]:\n",
    "#                     bound += min([transcriptomics_dict[gene] if gene in transcriptomics_dict.keys() else 0 for gene in genes_in_series ])\n",
    "\n",
    "#                 bound = max(bound, min_bound) # min_bound is a parameter of this function\n",
    "#                 bounds.append(bound)\n",
    "\n",
    "#                 if bounded_model.reactions.get_by_id(rxn_id).upper_bound > 0:\n",
    "#                     bounded_model.reactions.get_by_id(rxn_id).upper_bound = bound\n",
    "\n",
    "#                 elif bounded_model.reactions.get_by_id(rxn_id).lower_bound < 0:\n",
    "#                     bounded_model.reactions.get_by_id(rxn_id).lower_bound = -1*bound\n",
    "                    \n",
    "#         #Alternative to external function:\n",
    "#         # I think this is more readable than the nested loops. \n",
    "#         #         xg = []\n",
    "#         #         t2 = 0\n",
    "#         #         for r in model.reactions:\n",
    "#         #             if r.gene_reaction_rule:\n",
    "#         #                 t2 = 0\n",
    "#         #                 #If a reaction R1 has the GPR of 'A and B', it would be parsed to { {A, B} } in gpr_dict['R1']. Then t for R1 would be sum( [ min(A, B) ] ) = min(A, B).\n",
    "#         #                 #If a reaction R1 has the GPR of 'A or B', it would be parsed to { {A}, {B} } in gpr_dict['R1']. Then t for R1 would be sum( [ min(A), min(B) ] ) = sum( [A, B] ).\n",
    "#         #                 #If a reaction R1 has the GPR of '(A and B) or (C and D)', it would be parsed to { {A, B}, {C, D} } in gpr_dict['R1']. Then t for R1 would be sum( [ min(A, B), min(C, D) ] ).\n",
    "#         #                 for p in gpr_dict[r.id]:\n",
    "#         #                     xg = []\n",
    "#         #                     for g in p:\n",
    "#         #                         if g in transcriptomics_dict.keys():\n",
    "#         #                             print(transcriptomics_dict.get(g))\n",
    "#         #                             xg.append(transcriptomics_dict.get(g))\n",
    "#         #                         else:\n",
    "#         #                             xg.append(np.Inf)\n",
    "#         #                         t1 = np.min(xg)\n",
    "#         #                     t2 = t2 + t1\n",
    "\n",
    "#             # plot histogram of absolute value of bounds inforced\n",
    "#             plot_histogram(bounds, 'Absolute value of bounds')\n",
    "\n",
    "#             bounded_sol = bounded_model.optimize()\n",
    "#             print(f'\\nGiven the bounds from transcriptmics and a minimum absolute bound of {min_bound}, flux balance analysis found that {bounded_sol.objective_value:.3f} grams of biomass could be made.\\n')\n",
    "\n",
    "#         # Constrain the biomass to the optimal value\n",
    "#             print('FBA status', bounded_sol.status)\n",
    "#             print('FBA solution', bounded_sol.objective_value)\n",
    "#             display(bounded_model.objective)\n",
    "#             # Constrain the biomass to the optimal value\n",
    "#             for rxn_id in bounded_model.reactions:\n",
    "#                 if rxn_id.objective_coefficient:\n",
    "#                     rxn_id.lower_bound = bounded_sol.objective_value\n",
    "#             # minimize the sum of squared flux values\n",
    "#             bounded_model.objective = bounded_model.problem.Objective(add([rxn_id.flux_expression**2 for rxn_id in bounded_model.reactions]), direction='min')\n",
    "#             display(bounded_model.problem.Objective)\n",
    "#             eflux2_sol = bounded_model.optimize()\n",
    "#             print('EFlux2 status', eflux2_sol.status)\n",
    "#             print('EFlux2 solution', eflux2_sol.objective_value)\n",
    "#     return eflux2_sol"
   ]
  },
  {
   "cell_type": "markdown",
   "id": "f4f678b3-8c1c-4444-9e30-97c812e5fe7c",
   "metadata": {},
   "source": [
    "#### **Plot solutions: Comparison of SPOT and EFLUX2 solution**"
   ]
  },
  {
   "cell_type": "markdown",
   "id": "b4f7d0ac-a223-4e43-a666-f75507694c95",
   "metadata": {},
   "source": [
    "##### **Load 13cdata**"
   ]
  },
  {
   "cell_type": "markdown",
   "id": "1bbd32f4-f440-47d7-bf5f-f669e93204ba",
   "metadata": {},
   "source": [
    "####  **Get 13C MFA measured fluxes for phenol**"
   ]
  },
  {
   "cell_type": "code",
   "execution_count": null,
   "id": "ae1c076f-74cd-44e5-82a9-adeb0f9c0726",
   "metadata": {},
   "outputs": [],
   "source": [
    "phenol_fluxes = pd.read_csv('../13C_flux_data/13C_phenol_flux_data.csv')\n",
    "phenol_fluxes.dropna(inplace=True)\n",
    "print(f'There are {len(phenol_fluxes)} fluxes that can be compared between the MFA and FBA')\n",
    "phenol_fluxes"
   ]
  },
  {
   "cell_type": "markdown",
   "id": "9408c4ea-55a7-4859-838a-4ada1879d93f",
   "metadata": {},
   "source": [
    "### Add Phenol EFLUX2 and SPOT flux values to phenol fluxes dataframe"
   ]
  },
  {
   "cell_type": "code",
   "execution_count": null,
   "id": "5864b3e7-3e48-4d32-b096-4d88a74f7c4b",
   "metadata": {},
   "outputs": [],
   "source": [
    "def get_flux_value(reaction_id, solution):\n",
    "    if reaction_id.startswith('reverse_'):\n",
    "        reaction_id = reaction_id.split('reverse_')[1]\n",
    "        return -1*solution.fluxes[reaction_id]\n",
    "    else:\n",
    "        return solution.fluxes[reaction_id]"
   ]
  },
  {
   "cell_type": "code",
   "execution_count": null,
   "id": "df0f84d6-4bfe-400b-8071-da8337ac9b95",
   "metadata": {},
   "outputs": [],
   "source": [
    "EFLUX2_fluxes = []\n",
    "#SPOT_fluxes = []\n",
    "for _, row in phenol_fluxes.iterrows():\n",
    "    reactions = row['Forward Reactions']\n",
    "    flux_value_eflux2 = 0\n",
    "    #flux_value_spot = 0\n",
    "    for x in [x.strip('() ') for x in reactions.split(' or ')]:\n",
    "        and_split = [y.strip('() ') for y in x.split(' and ')]\n",
    "        flux_value_eflux2 += min([get_flux_value(v, testscaleeflux2) for v in and_split])\n",
    "        #flux_value_spot += min([get_flux_value(v,spotsoldf) for v in and_split])\n",
    "    EFLUX2_fluxes.append(flux_value_eflux2)\n",
    "    #SPOT_fluxes.append(flux_value_spot)\n",
    "    \n",
    "phenol_fluxes['EFLUX2 Value'] = EFLUX2_fluxes\n",
    "#phenol_fluxes['SPOT Value'] = SPOT_fluxes\n",
    "phenol_fluxes"
   ]
  },
  {
   "cell_type": "markdown",
   "id": "3c48b766-9871-40fd-8b05-afba0f5877b9",
   "metadata": {},
   "source": [
    "### Plot EFLUX2 vs 13C MFA"
   ]
  },
  {
   "cell_type": "code",
   "execution_count": null,
   "id": "2bb88ab1-a3c2-4d9c-a132-238fef787cba",
   "metadata": {},
   "outputs": [],
   "source": [
    "fig, ax = plt.subplots(figsize=(8, 8))\n",
    "ax.plot(ax.get_xlim(), ax.get_ylim(), ls=\"--\", c=\".3\")\n",
    "\n",
    "for pathway in list(set(phenol_fluxes['Pathway'])):\n",
    "    pathway_df = phenol_fluxes[phenol_fluxes['Pathway'] == pathway]\n",
    "    \n",
    "    measured_flux_list = list(pathway_df['Flux'])\n",
    "    simulated_flux_list = list(pathway_df['EFLUX2 Value'])\n",
    "    \n",
    "    ax.scatter(measured_flux_list, simulated_flux_list, label=pathway)\n",
    "\n",
    "\n",
    "# Dashed line\n",
    "x = np.linspace(*ax.get_xlim())\n",
    "ax.plot(x, x, ls=\"--\", c=\".3\")\n",
    "\n",
    "plt.title(r'Phenol 13C MFA vs. EFLUX2 Fluxes', fontSize=20)\n",
    "plt.xlabel(r'13C MFA flux (per 100 mmol of phenol uptake)')\n",
    "plt.ylabel(r'EFLUX2 flux (per 100 mmol of phenol uptake)')\n",
    "plt.legend()\n",
    "plt.show()"
   ]
  },
  {
   "cell_type": "markdown",
   "id": "c1970487-c86c-450c-94c9-07d133446f92",
   "metadata": {},
   "source": [
    "-- Stopping here --"
   ]
  },
  {
   "cell_type": "code",
   "execution_count": null,
   "id": "64e2eebd-f0a6-4fd9-afb9-d0ead616d55c",
   "metadata": {},
   "outputs": [],
   "source": []
  },
  {
   "cell_type": "code",
   "execution_count": null,
   "id": "565aadd8-ae1c-48fc-a175-d4476368b31e",
   "metadata": {},
   "outputs": [],
   "source": []
  },
  {
   "cell_type": "code",
   "execution_count": null,
   "id": "17a82a57-e872-4726-88e9-b52500318e0e",
   "metadata": {},
   "outputs": [],
   "source": []
  },
  {
   "cell_type": "code",
   "execution_count": null,
   "id": "3510a539-0186-4bb5-8cf7-f94d9b9cb6e7",
   "metadata": {},
   "outputs": [],
   "source": []
  },
  {
   "cell_type": "code",
   "execution_count": null,
   "id": "3f5b67a1-3478-4b65-b7bd-ec3a9e8b4c97",
   "metadata": {},
   "outputs": [],
   "source": [
    "from optlang.symbolics import add\n",
    "\"\"\"\n",
    "    Provides EFLUX2 predictions as explained in Machado et. al (2014) \n",
    "    \n",
    "        Parameters\n",
    "        ----------\n",
    "        model : cobrapy model.\n",
    "        Transcriptomics : pandas dataframe with transcriptomics data.\n",
    "        \n",
    "        Returns\n",
    "        -------\n",
    "        eflux2_sol as output from eflux2_model.optimize().\n",
    "        \n",
    "\"\"\"\n",
    "#Code only works for GPRs written in disjunctive normal form (DNF). Majority of models have them in DNF but there are some exceptions. \n",
    "\n",
    "def EFlux2test(model, df_trans):\n",
    "    # Convert EDD style dataframe to dictionary\n",
    "    transcriptomics = {row['Measurement Type']:row['Value'] for _, row in df_trans.iterrows()}\n",
    "    print(list(transcriptomics.keys())[:5])\n",
    "    with model:\n",
    "        \n",
    "        # Parse GPR into a dict containing isozymes (separated by 'or')\n",
    "        # Each isozyme has a set of subunits (separated by 'and')\n",
    "        #'and' and 'or' can occur at the same time, or can occur by itself.\n",
    "        gpr_dict = dict()\n",
    "        for r in model.reactions:\n",
    "            if r.gene_reaction_rule:\n",
    "                temp = set()\n",
    "                for x in [x.strip('() ') for x in r.gene_reaction_rule.split(' or ')]:\n",
    "                    temp.add(frozenset(y.strip('() ') for y in x.split(' and ')))\n",
    "                gpr_dict[r.id] = temp\n",
    "                \n",
    "        # define a variable to hold all bounds\n",
    "        all_bounds = []\n",
    "                \n",
    "        # Set the bounds using the transcriptomics data\n",
    "        for r in model.reactions:\n",
    "            if r.gene_reaction_rule:\n",
    "                \n",
    "                #If a reaction R1 has the GPR of 'A and B', it would be parsed to { {A, B} } in gpr_dict['R1']. Then t for R1 would be sum( [ min(A, B) ] ) = min(A, B).\n",
    "                #If a reaction R1 has the GPR of 'A or B', it would be parsed to { {A}, {B} } in gpr_dict['R1']. Then t for R1 would be sum( [ min(A), min(B) ] ) = sum( [A, B] ).\n",
    "                #If a reaction R1 has the GPR of '(A and B) or (C and D)', it would be parsed to { {A, B}, {C, D} } in gpr_dict['R1']. Then t for R1 would be sum( [ min(A, B), min(C, D) ] ).\n",
    "                \n",
    "#                 t = np.sum([np.min([Transcriptomics.loc[g] if g in Transcriptomics.index\n",
    "#                                     else np.array([np.Inf]) for g in p])\n",
    "#                             for p in gpr_dict[r.id]])\n",
    "                t = np.sum([np.min([transcriptomics[g] if g in transcriptomics.keys()\n",
    "                                    else np.array([np.Inf]) for g in p])\n",
    "                            for p in gpr_dict[r.id]])\n",
    "                \n",
    "                # add bound to the list\n",
    "                if t != np.Inf:\n",
    "                    all_bounds.append(t)\n",
    "                \n",
    "                # Enforce transcriptomic bound\n",
    "                if r.lower_bound < 0.0:\n",
    "                    r.lower_bound = -t\n",
    "                if r.upper_bound > 0.0:\n",
    "                    r.upper_bound = t\n",
    "            else:\n",
    "                #When there is no GPR, the arbitrary bounds are removed. \n",
    "                #Common arbitrary bound value of 1000 for E.coli, might be different depending on the model, e.g., 99999.0 for iMM904 yeast model in BiGG\n",
    "                if r.lower_bound <= -1000.0:\n",
    "                    r.lower_bound = -np.Inf\n",
    "                if r.upper_bound >= 1000.0:\n",
    "                    r.upper_bound = np.Inf\n",
    "              \n",
    "        # These statements can help with scaling bounds to reasonable limits\n",
    "        print(all_bounds[:20])\n",
    "        print(len(all_bounds))\n",
    "        print(f'The average bound was {sum(all_bounds) / len(all_bounds)}')\n",
    "        print(f'The max bound was {max(all_bounds)}')\n",
    "        \n",
    "        # print the media to prevent inivisible errors\n",
    "        display(model.medium)\n",
    "        \n",
    "        # solve FBA with transcriptomic enforced bounds to calculate the maximum biomass\n",
    "        model.tolerance = 1e-9\n",
    "        fba_sol = model.optimize()\n",
    "        \n",
    "        print(f'The FBA solution was {fba_sol.status}.' )\n",
    "        print(f'Given the bounds from transcriptomics, flux balance analysis found that{fba_sol.objective_value:.3f} grams of biomass could be made.\\n')\n",
    "        \n",
    "        # Constrain the biomass to the optimal value\n",
    "        for r in model.reactions:\n",
    "            if r.objective_coefficient:\n",
    "                r.lower_bound = fba_sol.objective_value\n",
    "                \n",
    "        # minimize the sum of squared flux values\n",
    "        model.objective = model.problem.Objective(add([r.flux_expression**2 for r in model.reactions]), direction='min')\n",
    "        eflux2_sol = model.optimize()\n",
    "        \n",
    "        print(f'The EFLUX2 solution was {eflux2_sol.status}.' )\n",
    "        print(f'The minimum sum of squared fluxes to make {fba_sol.objective_value:.3f} grams of biomass given the bounds from transcriptomics is {eflux2_sol.objective_value:.1f}.\\n')\n",
    "\n",
    "    return eflux2_sol"
   ]
  },
  {
   "cell_type": "code",
   "execution_count": null,
   "id": "6dbde7cf-10d7-4adb-ba13-230142c780ae",
   "metadata": {},
   "outputs": [],
   "source": []
  },
  {
   "cell_type": "code",
   "execution_count": null,
   "id": "91390bb8-99d6-4895-a78a-2f79c9806f10",
   "metadata": {},
   "outputs": [],
   "source": []
  },
  {
   "cell_type": "code",
   "execution_count": null,
   "id": "fcc4dc6c-620b-4c1b-89bc-b657aa0ed3aa",
   "metadata": {},
   "outputs": [],
   "source": [
    "# eflux2sol_WTPR1, spotsol_WTPR1 = eflux2spotpred(model, df_Trans2, 'WT-P-R1', 'phenol', 100)\n",
    "# eflux2sol_WTPR2, spotsol_WTPR2 = eflux2spotpred(model, df_Trans2, 'WT-P-R2', 'phenol', 100)\n",
    "# eflux2sol_WTPR3, spotsol_WTPR3 = eflux2spotpred(model, df_Trans2, 'WT-P-R3', 'phenol', 100)"
   ]
  },
  {
   "cell_type": "code",
   "execution_count": null,
   "id": "edab2d08-2018-4ae7-a59f-f09441feba72",
   "metadata": {},
   "outputs": [],
   "source": [
    "# eflux2sol_WTPR1.fluxes"
   ]
  },
  {
   "cell_type": "code",
   "execution_count": null,
   "id": "3d8d0611-3d4c-4027-9c3d-d527dc6c001d",
   "metadata": {},
   "outputs": [],
   "source": [
    "# eflux2sol_WTPR1_df = pd.DataFrame(eflux2sol_WTPR1.fluxes, columns=['fluxes'])\n",
    "# eflux2sol_WTPR2_df = pd.DataFrame(eflux2sol_WTPR2.fluxes, columns=['fluxes'])\n",
    "# eflux2sol_WTPR3_df = pd.DataFrame(eflux2sol_WTPR3.fluxes, columns=['fluxes'])\n",
    "# eflux2sol_WTPR = pd.concat([eflux2sol_WTPR1_df, eflux2sol_WTPR2_df, eflux2sol_WTPR3_df], axis=1)\n",
    "# eflux2sol_WTPR.rename(columns = {'fluxes':'R1', 'fluxes':'R2','fluxes':'R3'}, inplace=False)\n",
    "# eflux2sol_WTPR.mean(axis=1)\n",
    "# eflux2sol_WTPR.std(axis=1)\n"
   ]
  },
  {
   "cell_type": "code",
   "execution_count": null,
   "id": "fb8788d4-faa3-4075-9926-4559bfe9e5cd",
   "metadata": {},
   "outputs": [],
   "source": [
    "# eflux2sol_WTPR"
   ]
  },
  {
   "cell_type": "markdown",
   "id": "abb2c28f-530e-415e-ab92-03fdc08091f5",
   "metadata": {},
   "source": [
    "##### **Modularized way**"
   ]
  },
  {
   "cell_type": "code",
   "execution_count": null,
   "id": "e44e04e9-5d89-4c5d-a80c-ca5f60b6ffa3",
   "metadata": {},
   "outputs": [],
   "source": [
    "#Function for EFLUX2 and SPOT Predictions:\n",
    "def eflux2spotpred(model, transcript_df, line_name, substrate, sub_uptake_rate):    \n",
    "    with model:\n",
    "        \n",
    "        # This is to prevent medium components other than glucose from being growth limitations\n",
    "        medium = model.medium\n",
    "        medium = {key:1000 for (key,value) in model.medium.items()}\n",
    "    \n",
    "        if substrate == 'phenol':\n",
    "            model.objective = 'Growth_Phenol'\n",
    "            model.reactions.get_by_id('Growth_Glucose').upper_bound = 0\n",
    "            model.reactions.get_by_id('Growth_Glucose').lower_bound = 0\n",
    "            medium[\"EX_glc__D_e\"] = 0.0\n",
    "            medium[\"EX_phenol_e\"] = sub_uptake_rate\n",
    "            \n",
    "        elif substrate == 'glucose':\n",
    "            model.objective = 'Growth_Glucose'\n",
    "            model.reactions.get_by_id('Growth_Phenol').upper_bound = 0\n",
    "            model.reactions.get_by_id('Growth_Phenol').lower_bound = 0\n",
    "            medium[\"EX_glc__D_e\"] = sub_uptake_rate\n",
    "            medium[\"EX_phenol_e\"] = 0.0\n",
    "            \n",
    "        else:\n",
    "            print('Unknown substrate: Please choose among phenol and glucose')\n",
    "            \n",
    "        model.medium = medium\n",
    "        \n",
    "        eflux2sol = EFlux2test(model, transcript_df[transcript_df['Line Name'] == line_name])\n",
    "        spotsol = SPOT(model, transcript_df[transcript_df['Line Name'] == line_name])\n",
    "    return eflux2sol, spotsol"
   ]
  },
  {
   "cell_type": "code",
   "execution_count": null,
   "id": "2cfa2911-aa1d-4f50-9da0-3ac46efa1883",
   "metadata": {},
   "outputs": [],
   "source": [
    "eflux2sol_WTPR1, spotsol_WTPR1 = eflux2spotpred(model, df_trans, 'WT-P-R1', 'phenol', 100)"
   ]
  },
  {
   "cell_type": "code",
   "execution_count": null,
   "id": "391ad0d3-c426-4b20-97ac-13d3108ceada",
   "metadata": {},
   "outputs": [],
   "source": [
    "#display(eflux2sol_WTPR1.fluxes['Growth_Phenol'])"
   ]
  },
  {
   "cell_type": "code",
   "execution_count": null,
   "id": "3c6c4753-aba5-460e-a3f9-a4491b686e8f",
   "metadata": {},
   "outputs": [],
   "source": [
    "#spotsol_WTPR1df =pd.DataFrame(spotsol_WTPR1, columns=['fluxes'])\n",
    "#spotsol_WTPR1df"
   ]
  },
  {
   "cell_type": "code",
   "execution_count": null,
   "id": "212e000a-362e-4ae7-87da-ca33b132d891",
   "metadata": {},
   "outputs": [],
   "source": [
    "#Function for predictions for three replicates and averaging the solutions and calculating the standard deviation:\n",
    "def eflux2spotpredthreereps(model, transcript_df, line_name1, line_name2, line_name3, substrate, sub_uptake_rate):\n",
    "    \n",
    "    #call prediction functions for individual EFLUX2 predictions for all 3 replicates:\n",
    "    eflux2sol_R1, spotsol_R1 = eflux2spotpred(model, transcript_df, line_name1, substrate, sub_uptake_rate)\n",
    "    eflux2sol_R2, spotsol_R2 = eflux2spotpred(model, transcript_df, line_name2, substrate, sub_uptake_rate)\n",
    "    eflux2sol_R3, spotsol_R3 = eflux2spotpred(model, transcript_df, line_name3, substrate, sub_uptake_rate)\n",
    "    \n",
    "    #EFLUX2 calculations:\n",
    "    eflux2sol_R1_df = pd.DataFrame(eflux2sol_R1.fluxes, columns=['fluxes'])\n",
    "    eflux2sol_R2_df = pd.DataFrame(eflux2sol_R2.fluxes, columns=['fluxes'])\n",
    "    eflux2sol_R3_df = pd.DataFrame(eflux2sol_R3.fluxes, columns=['fluxes'])\n",
    "    eflux2sol_all = pd.concat([eflux2sol_R1_df, eflux2sol_R2_df, eflux2sol_R3_df], axis=1)\n",
    "\n",
    "    eflux2sol = pd.DataFrame(eflux2sol_all.mean(axis=1), columns=['fluxes'])\n",
    "    eflux2sol_std = eflux2sol_all.std(axis=1)\n",
    "    \n",
    "    #SPOT calculations:\n",
    "    spotsol_R1_df = pd.DataFrame(spotsol_R1, columns=['fluxes'])\n",
    "    spotsol_R2_df = pd.DataFrame(spotsol_R2, columns=['fluxes'])\n",
    "    spotsol_R3_df = pd.DataFrame(spotsol_R3, columns=['fluxes'])\n",
    "    spotsol_all = pd.concat([spotsol_R1_df, spotsol_R2_df, spotsol_R3_df], axis=1)\n",
    "    \n",
    "    spotsol = spotsol_all.mean(axis=1)\n",
    "    spotsol_std = spotsol_all.std(axis=1)\n",
    "    \n",
    "    return eflux2sol, eflux2sol_std, spotsol, spotsol_std"
   ]
  },
  {
   "cell_type": "code",
   "execution_count": null,
   "id": "3fbb0754-d6a2-4a38-b1da-bc449a52816d",
   "metadata": {},
   "outputs": [],
   "source": [
    "eflux2sol, eflux2sol_std, spotsol, spotsol_std = eflux2spotpredthreereps(model, df_trans, 'WT-P-R1', 'WT-P-R2','WT-P-R3', 'phenol', 100)\n",
    "#eflux2sol, eflux2sol_std = eflux2spotpredthreereps(model, df_Trans2, 'WT-P-R1', 'WT-P-R2','WT-P-R3', 'phenol', 100)"
   ]
  },
  {
   "cell_type": "code",
   "execution_count": null,
   "id": "267b9c37-7c79-475a-98dc-f529bfe19658",
   "metadata": {},
   "outputs": [],
   "source": [
    "eflux2soldf = pd.DataFrame(eflux2sol, columns=['fluxes'])\n",
    "eflux2solstddf = pd.DataFrame(eflux2sol_std, columns=['fluxes'])\n",
    "spotsoldf = pd.DataFrame(spotsol, columns=['fluxes'])\n",
    "spotsolstddf = pd.DataFrame(spotsol_std, columns=['fluxes'])"
   ]
  },
  {
   "cell_type": "markdown",
   "id": "9759f638-53ff-4067-a6ff-09cbf08b90c6",
   "metadata": {},
   "source": [
    "#### **Plot solutions: Comparison of SPOT and EFLUX2 solution**"
   ]
  },
  {
   "cell_type": "markdown",
   "id": "0782d2e4-632a-4d5b-ad87-0643d4611df7",
   "metadata": {},
   "source": [
    "##### **Load 13cdata**"
   ]
  },
  {
   "cell_type": "markdown",
   "id": "a9c82e93-eb7d-4b72-91c6-4a27927b2fcd",
   "metadata": {},
   "source": [
    "####  **Get 13C MFA measured fluxes for phenol**"
   ]
  },
  {
   "cell_type": "code",
   "execution_count": null,
   "id": "b7807b73-d258-4fec-9c26-652535e22262",
   "metadata": {},
   "outputs": [],
   "source": [
    "phenol_fluxes = pd.read_csv('../13C_flux_data/13C_phenol_flux_data.csv')\n",
    "phenol_fluxes.dropna(inplace=True)\n",
    "print(f'There are {len(phenol_fluxes)} fluxes that can be compared between the MFA and FBA')\n",
    "phenol_fluxes"
   ]
  },
  {
   "cell_type": "markdown",
   "id": "7992430a-5aee-4f12-9727-236620de1f0f",
   "metadata": {},
   "source": [
    "### Add Phenol EFLUX2 and SPOT flux values to phenol fluxes dataframe"
   ]
  },
  {
   "cell_type": "code",
   "execution_count": null,
   "id": "95187395-9c83-44d3-b7b8-b14ae4e31142",
   "metadata": {},
   "outputs": [],
   "source": [
    "def get_flux_value(reaction_id, solution):\n",
    "    if reaction_id.startswith('reverse_'):\n",
    "        reaction_id = reaction_id.split('reverse_')[1]\n",
    "        return -1*solution.fluxes[reaction_id]\n",
    "    else:\n",
    "        return solution.fluxes[reaction_id]"
   ]
  },
  {
   "cell_type": "code",
   "execution_count": null,
   "id": "7c49f728-3eb0-4cd9-aa59-84a593543913",
   "metadata": {},
   "outputs": [],
   "source": [
    "EFLUX2_fluxes = []\n",
    "SPOT_fluxes = []\n",
    "for _, row in phenol_fluxes.iterrows():\n",
    "    reactions = row['Forward Reactions']\n",
    "    flux_value_eflux2 = 0\n",
    "    flux_value_spot = 0\n",
    "    for x in [x.strip('() ') for x in reactions.split(' or ')]:\n",
    "        and_split = [y.strip('() ') for y in x.split(' and ')]\n",
    "        flux_value_eflux2 += min([get_flux_value(v, eflux2soldf) for v in and_split])\n",
    "        flux_value_spot += min([get_flux_value(v,spotsoldf) for v in and_split])\n",
    "    EFLUX2_fluxes.append(flux_value_eflux2)\n",
    "    SPOT_fluxes.append(flux_value_spot)\n",
    "    \n",
    "phenol_fluxes['EFLUX2 Value'] = EFLUX2_fluxes\n",
    "phenol_fluxes['SPOT Value'] = SPOT_fluxes\n",
    "phenol_fluxes"
   ]
  },
  {
   "cell_type": "markdown",
   "id": "e59f7309-6a75-43af-9490-dd865315e675",
   "metadata": {},
   "source": [
    "### Plot EFLUX2 vs 13C MFA"
   ]
  },
  {
   "cell_type": "code",
   "execution_count": null,
   "id": "259d24b2-2bfd-46d3-ac7f-5461ee13a559",
   "metadata": {},
   "outputs": [],
   "source": [
    "fig, ax = plt.subplots(figsize=(8, 8))\n",
    "ax.plot(ax.get_xlim(), ax.get_ylim(), ls=\"--\", c=\".3\")\n",
    "\n",
    "for pathway in list(set(phenol_fluxes['Pathway'])):\n",
    "    pathway_df = phenol_fluxes[phenol_fluxes['Pathway'] == pathway]\n",
    "    \n",
    "    measured_flux_list = list(pathway_df['Flux'])\n",
    "    simulated_flux_list = list(pathway_df['EFLUX2 Value'])\n",
    "    \n",
    "    ax.scatter(measured_flux_list, simulated_flux_list, label=pathway)\n",
    "\n",
    "\n",
    "# Dashed line\n",
    "x = np.linspace(*ax.get_xlim())\n",
    "ax.plot(x, x, ls=\"--\", c=\".3\")\n",
    "\n",
    "plt.title(r'Phenol 13C MFA vs. EFLUX2 Fluxes', fontSize=20)\n",
    "plt.xlabel(r'13C MFA flux (per 100 mmol of phenol uptake)')\n",
    "plt.ylabel(r'EFLUX2 flux (per 100 mmol of phenol uptake)')\n",
    "plt.legend()\n",
    "plt.show()"
   ]
  },
  {
   "cell_type": "markdown",
   "id": "01734cb6-69c9-4952-81e3-13c754d2bd38",
   "metadata": {},
   "source": [
    "### Plot SPOT vs 13C MFA"
   ]
  },
  {
   "cell_type": "code",
   "execution_count": null,
   "id": "a761d23a-ae2e-4566-88db-63f0bc558078",
   "metadata": {},
   "outputs": [],
   "source": [
    "fig, ax = plt.subplots(figsize=(8, 8))\n",
    "ax.plot(ax.get_xlim(), ax.get_ylim(), ls=\"--\", c=\".3\")\n",
    "\n",
    "for pathway in list(set(phenol_fluxes['Pathway'])):\n",
    "    pathway_df = phenol_fluxes[phenol_fluxes['Pathway'] == pathway]\n",
    "    \n",
    "    measured_flux_list = list(pathway_df['Flux'])\n",
    "    simulatedspot_flux_list = list(pathway_df['SPOT Value'])\n",
    "    \n",
    "    ax.scatter(measured_flux_list, simulatedspot_flux_list, label=pathway)\n",
    "\n",
    "\n",
    "# Dashed line\n",
    "x = np.linspace(*ax.get_xlim())\n",
    "ax.plot(x, x, ls=\"--\", c=\".3\")\n",
    "\n",
    "plt.title(r'Phenol 13C MFA vs. SPOT Fluxes', fontSize=20)\n",
    "plt.xlabel(r'13C MFA flux (per 100 mmol of phenol uptake)')\n",
    "plt.ylabel(r'SPOT flux (per 100 mmol of phenol uptake)')\n",
    "plt.legend()\n",
    "plt.show()"
   ]
  },
  {
   "cell_type": "code",
   "execution_count": null,
   "id": "e89a67cb-b755-40a8-b3cf-9611298e9ef7",
   "metadata": {},
   "outputs": [],
   "source": [
    "rxns = [r.id for r in model.reactions]\n",
    "# #EFlux2_fluxdict = dict(zip(rxns,EFlux2_min.solution.get_values()))\n",
    "# EFlux2_fluxdict = dict(zip(rxns,eflux2solfluxes.to_numpy()))#replace previous .get_values()\n",
    "# SPOT_fluxdict = dict(zip(rxns,spotsolWTPR1.to_numpy()))#replace previous .get_values()\n",
    "# #display(SPOT_fluxdict)"
   ]
  },
  {
   "cell_type": "code",
   "execution_count": null,
   "id": "97cabe14-623a-45fa-a4d7-913e86973ede",
   "metadata": {},
   "outputs": [],
   "source": [
    "#Scatterplot of solutions\n",
    "import matplotlib\n",
    "import matplotlib.pyplot as plt\n",
    "from matplotlib import cm\n",
    "\n",
    "def maefunc(y_predict, y_actual):\n",
    "    \"\"\"Mean Absolute Error.\n",
    "    Multioutput case included.\"\"\"\n",
    "\n",
    "    if y_actual.ndim == 1:\n",
    "        return np.mean(np.abs([y_a - y_p for y_a, y_p in zip(y_actual, y_predict)]))\n",
    "    else:\n",
    "        return [\n",
    "            np.mean(\n",
    "                np.abs([y_a - y_p for y_a, y_p in zip(y_actual[:, i], y_predict[:, i])])\n",
    "            )\n",
    "            for i in range(y_actual.shape[1])\n",
    "        ]\n",
    "    \n",
    "def scatterplotcompare(observed, predicted, labels, strtitle):\n",
    "    fig, ax = plt.subplots(figsize=(8, 8))\n",
    "    #res = stats.linregress(observed.to_numpy().astype(float), predicted.to_numpy())\n",
    "    #print(res.rvalue**2)\n",
    "    lims = [\n",
    "                np.min([observed, predicted]),  # min of both axes\n",
    "                np.max([observed, predicted]),  # max of both axes\n",
    "            ]\n",
    "    ax.set_xlim(lims)\n",
    "    #ax.plot([0.0, 0.2], [0.0, 0.2], 'k',  c='0.55')\n",
    "    # Plot Diagonal Dashed Line\n",
    "    ax.plot(lims, lims, ls=\"--\", color=\".8\", zorder=0)\n",
    "    for i in range(0, len(observed)):\n",
    "        ax.scatter(observed[i], predicted[i])\n",
    "        #ax.annotate(str(labels[i]),(observed[i],predicted[i]))\n",
    "    #ax.annotate(\"r-squared = {:.3f}\".format(round(r2_score(observed, predicted))), (0, 1))\n",
    "    #plt.plot(observed, res.intercept + res.slope*observed, 'k', label='fitted line')\n",
    "    rss = np.sum((predicted - observed) ** 2)\n",
    "    tss = np.sum((predicted - predicted.mean()) ** 2)\n",
    "    r2_1 = np.round(1 - rss / tss,2)\n",
    "    #display(r2_1)\n",
    "    #r2 = round(r2_score(observed, predicted),2)\n",
    "    mse = np.round(1/len(observed) * rss,2) \n",
    "    rmse = np.round(np.sqrt(1/len(observed) * rss),2)\n",
    "    #display(rmse)\n",
    "    #display(r2_score(observed, predicted))\n",
    "    mae_score = np.round(maefunc(observed, predicted),2)\n",
    "    plt.xlabel(r'EFLUX2')#Observed growth rates [$mmol/gDW/hr$]')\n",
    "    plt.ylabel(r'SPOT')#Predicted growth rates [$mmol/gDW/hr$]')\n",
    "    #plt.title(r'Growth rates: Observed vs. Predicted ('+strtitle+'), \\n' + f\"$R^2$={r2_1}, MAE={mae_score}, MSE = {mse}, RMSE={rmse}\", fontsize=18)\n",
    "    plt.title(r'EFLUX2 vs. SPOT ('+strtitle+'), \\n' + f\"$R^2$={r2_1}, MAE={mae_score}, MSE = {mse}, RMSE={rmse}\", fontsize=18)\n",
    "    plt.show()"
   ]
  },
  {
   "cell_type": "code",
   "execution_count": null,
   "id": "0537a8eb-489b-4d5a-a409-f94185068f80",
   "metadata": {},
   "outputs": [],
   "source": [
    "scatterplotcompare(eflux2soldf.to_numpy(), spotsoldf.to_numpy(), labels='', strtitle='')"
   ]
  },
  {
   "cell_type": "code",
   "execution_count": null,
   "id": "5cdf2f9a-363e-4b17-acbe-b9f9db7f4e86",
   "metadata": {},
   "outputs": [],
   "source": [
    "scatterplotcompare(eflux2soldf.loc['Growth_Phenol',:], spotsoldf.loc['Growth_Phenol',:], labels='Growth', strtitle='')"
   ]
  },
  {
   "cell_type": "code",
   "execution_count": null,
   "id": "a0a15513-f561-4e16-825c-2caf0b75e264",
   "metadata": {},
   "outputs": [],
   "source": []
  },
  {
   "cell_type": "code",
   "execution_count": null,
   "id": "9c2a0376-c9c9-45ae-b02b-3d0c51f0cd7a",
   "metadata": {},
   "outputs": [],
   "source": [
    "from optlang.symbolics import add\n",
    "\"\"\"\n",
    "    Provides EFLUX2 predictions as explained in Machado et. al (2014) \n",
    "    \n",
    "        Parameters\n",
    "        ----------\n",
    "        model : cobrapy model.\n",
    "        Transcriptomics : pandas dataframe with transcriptomics data.\n",
    "        \n",
    "        Returns\n",
    "        -------\n",
    "        eflux2_sol as output from eflux2_model.optimize().\n",
    "        \n",
    "\"\"\"\n",
    "#Code only works for GPRs written in disjunctive normal form (DNF). Majority of models have them in DNF but there are some exceptions. \n",
    "\n",
    "def EFlux2test(model, Transcriptomics):\n",
    "    #with model as eflux2_model:\n",
    "    eflux2_model = model.copy()\n",
    "    # Parse GPR into a dict containing isozymes (separated by 'or')\n",
    "    # Each isozyme has a set of subunits (separated by 'and')\n",
    "    #'and' and 'or' can occur at the same time, or can occur by itself.\n",
    "    gpr_dict = dict()\n",
    "    for r in eflux2_model.reactions:\n",
    "        if r.gene_reaction_rule:\n",
    "            temp = set()\n",
    "            for x in [x.strip('() ') for x in r.gene_reaction_rule.split(' or ')]:\n",
    "                temp.add(frozenset(y.strip('() ') for y in x.split(' and ')))\n",
    "            gpr_dict[r.id] = temp\n",
    "    #display(gpr_dict)\n",
    "    # Set the bounds using the transcriptomics data\n",
    "    for r in eflux2_model.reactions:\n",
    "        t2=0\n",
    "        if r.gene_reaction_rule:\n",
    "            #If a reaction R1 has the GPR of 'A and B', it would be parsed to { {A, B} } in gpr_dict['R1']. Then t for R1 would be sum( [ min(A, B) ] ) = min(A, B).\n",
    "            #If a reaction R1 has the GPR of 'A or B', it would be parsed to { {A}, {B} } in gpr_dict['R1']. Then t for R1 would be sum( [ min(A), min(B) ] ) = sum( [A, B] ).\n",
    "            #If a reaction R1 has the GPR of '(A and B) or (C and D)', it would be parsed to { {A, B}, {C, D} } in gpr_dict['R1']. Then t for R1 would be sum( [ min(A, B), min(C, D) ] ).\n",
    "            t = np.sum([np.min([Transcriptomics.loc[g].values if g in Transcriptomics.index\n",
    "                                else np.array([np.Inf]) for g in p])\n",
    "                        for p in gpr_dict[r.id]])\n",
    "            for p in gpr_dict[r.id]:\n",
    "                xg=[]\n",
    "                for g in p:\n",
    "                    if g in Transcriptomics.index:\n",
    "                        xg.append(Transcriptomics.loc[g].values)\n",
    "                    else:\n",
    "                        xg.append(np.array([np.Inf]))\n",
    "                    t2=np.min(xg)\n",
    "                t2+=t2\n",
    "            if t2!=t:\n",
    "                display('difference',t2, t)\n",
    "            if t != np.inf:\n",
    "                display(t)\n",
    "            if r.lower_bound < 0.0:\n",
    "                r.lower_bound = -t\n",
    "            else:\n",
    "                pass\n",
    "            if r.upper_bound > 0.0:\n",
    "                r.upper_bound = t\n",
    "            else:\n",
    "                pass\n",
    "        else:\n",
    "            #When there is no GPR, the arbitrary bounds are removed. \n",
    "            #Common arbitrary bound value of 1000 for E.coli, might be different depending on the model, e.g., 99999.0 for iMM904 yeast model in BiGG\n",
    "            if r.lower_bound < -99999:\n",
    "                r.lower_bound = -np.Inf\n",
    "            if r.upper_bound > 99999:\n",
    "                r.upper_bound = np.Inf \n",
    "            if r.lower_bound >= 0:\n",
    "                r.lower_bound = 0\n",
    "            if r.upper_bound <= 0:\n",
    "                r.upper_bound = 0\n",
    "\n",
    "#             if r.lower_bound < 0.0 and r.lower_bound > -1000.0:\n",
    "#                 print(r.id, r.lower_bound, r.upper_bound)\n",
    "#                 r.lower_bound = -1000.0\n",
    "#             elif r.lower_bound > 0.0:\n",
    "#                 print(r.id, r.lower_bound, r.upper_bound)\n",
    "#                 r.lower_bound = 0.0\n",
    "#             if r.upper_bound > 0.0 and r.upper_bound < 1000.0:\n",
    "#                 print(r.id, r.lower_bound, r.upper_bound)\n",
    "#                 r.upper_bound = 1000.0\n",
    "#             elif r.upper_bound < 0.0:\n",
    "#                 print(r.id, r.lower_bound, r.upper_bound)\n",
    "#                 r.upper_bound = 0.0\n",
    "#             if r.lower_bound == -1000.0:\n",
    "#                 r.lower_bound = -np.Inf\n",
    "#             if r.upper_bound == 1000.0:\n",
    "#                 r.upper_bound = np.Inf\n",
    "\n",
    "#             if r.lower_bound < 0.0:\n",
    "#                 r.lower_bound = -np.Inf\n",
    "#             elif r.lower_bound >= 0.0:\n",
    "#                 r.lower_bound = 0.0\n",
    "#             elif r.upper_bound > 0.0:\n",
    "#                 r.upper_bound = np.Inf\n",
    "#             elif r.upper_bound <= 0.0:\n",
    "                r.upper_bound = 0.0\n",
    "#                 if r=='Phenol_e':\n",
    "#                     display(r)\n",
    "#                     r.lower_bound = -100\n",
    "#                     r.upper_bound = 0\n",
    "    display(eflux2_model.medium)\n",
    "    # solve FBA to calculate the maximum biomass\n",
    "    eflux2_model.tolerance = 1e-9\n",
    "    fba_sol = eflux2_model.optimize()\n",
    "    print('FBA status', fba_sol.status)\n",
    "    print('FBA solution', fba_sol.objective_value)\n",
    "    display(eflux2_model.objective)\n",
    "    # Constrain the biomass to the optimal value\n",
    "    for r in eflux2_model.reactions:\n",
    "        if r.objective_coefficient:\n",
    "            r.lower_bound = fba_sol.objective_value\n",
    "    # minimize the sum of squared flux values\n",
    "    eflux2_model.objective = eflux2_model.problem.Objective(add([r.flux_expression**2 for r in eflux2_model.reactions]), direction='min')\n",
    "    display(eflux2_model.problem.Objective)\n",
    "    eflux2_sol = eflux2_model.optimize()\n",
    "    print('EFlux2 status', eflux2_sol.status)\n",
    "    print('EFlux2 solution', eflux2_sol.objective_value)\n",
    "    # return eflux2 solution\n",
    "    return eflux2_sol"
   ]
  }
 ],
 "metadata": {
  "kernelspec": {
   "display_name": "biodesign_3.7",
   "language": "python",
   "name": "biod_3.7"
  },
  "language_info": {
   "codemirror_mode": {
    "name": "ipython",
    "version": 3
   },
   "file_extension": ".py",
   "mimetype": "text/x-python",
   "name": "python",
   "nbconvert_exporter": "python",
   "pygments_lexer": "ipython3",
   "version": "3.7.4"
  }
 },
 "nbformat": 4,
 "nbformat_minor": 5
}

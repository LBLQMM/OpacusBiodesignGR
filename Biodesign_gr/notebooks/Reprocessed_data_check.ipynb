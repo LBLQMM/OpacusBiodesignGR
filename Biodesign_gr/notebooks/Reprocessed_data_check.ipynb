{
 "cells": [
  {
   "cell_type": "markdown",
   "id": "oriental-small",
   "metadata": {},
   "source": [
    "# Notebook to inspect the reprocessed 4/30/21"
   ]
  },
  {
   "cell_type": "markdown",
   "id": "inappropriate-relay",
   "metadata": {},
   "source": [
    "### Imports"
   ]
  },
  {
   "cell_type": "code",
   "execution_count": 2,
   "id": "decent-majority",
   "metadata": {},
   "outputs": [],
   "source": [
    "import cobra\n",
    "import pandas as pd"
   ]
  },
  {
   "cell_type": "markdown",
   "id": "painful-crash",
   "metadata": {},
   "source": [
    "### Load model"
   ]
  },
  {
   "cell_type": "code",
   "execution_count": 3,
   "id": "mechanical-accent",
   "metadata": {},
   "outputs": [
    {
     "name": "stdout",
     "output_type": "stream",
     "text": [
      "There are 1576 genes in the model (WP)\n"
     ]
    },
    {
     "data": {
      "text/plain": [
       "['WP_187300246_1',\n",
       " 'WP_025432775_1',\n",
       " 'WP_005248578_1',\n",
       " 'WP_025433613_1',\n",
       " 'WP_005249637_1']"
      ]
     },
     "execution_count": 3,
     "metadata": {},
     "output_type": "execute_result"
    }
   ],
   "source": [
    "model = cobra.io.read_sbml_model(\"../GSMs/Ropacus_annotated_curated_with_phenol_custom_biomass.xml\")\n",
    "model_genes = [g.id for g in model.genes]\n",
    "print(f'There are {len(model_genes)} genes in the model (WP)')\n",
    "model_genes[:5]"
   ]
  },
  {
   "cell_type": "markdown",
   "id": "least-access",
   "metadata": {},
   "source": [
    "### Load Yoneda reprocessed transcriptomic data"
   ]
  },
  {
   "cell_type": "code",
   "execution_count": 10,
   "id": "charitable-partnership",
   "metadata": {},
   "outputs": [
    {
     "data": {
      "text/html": [
       "<div>\n",
       "<style scoped>\n",
       "    .dataframe tbody tr th:only-of-type {\n",
       "        vertical-align: middle;\n",
       "    }\n",
       "\n",
       "    .dataframe tbody tr th {\n",
       "        vertical-align: top;\n",
       "    }\n",
       "\n",
       "    .dataframe thead th {\n",
       "        text-align: right;\n",
       "    }\n",
       "</style>\n",
       "<table border=\"1\" class=\"dataframe\">\n",
       "  <thead>\n",
       "    <tr style=\"text-align: right;\">\n",
       "      <th></th>\n",
       "      <th>Strain</th>\n",
       "      <th>variable</th>\n",
       "      <th>Condition</th>\n",
       "      <th>Replicate</th>\n",
       "      <th>value</th>\n",
       "      <th>Units</th>\n",
       "    </tr>\n",
       "  </thead>\n",
       "  <tbody>\n",
       "    <tr>\n",
       "      <th>1</th>\n",
       "      <td>3A</td>\n",
       "      <td>WP_000104864.1</td>\n",
       "      <td>1g/L_glucose</td>\n",
       "      <td>1</td>\n",
       "      <td>0.0</td>\n",
       "      <td>CPM</td>\n",
       "    </tr>\n",
       "    <tr>\n",
       "      <th>2</th>\n",
       "      <td>3A</td>\n",
       "      <td>WP_000104864.1</td>\n",
       "      <td>1g/L_glucose</td>\n",
       "      <td>2</td>\n",
       "      <td>0.0</td>\n",
       "      <td>CPM</td>\n",
       "    </tr>\n",
       "    <tr>\n",
       "      <th>3</th>\n",
       "      <td>3A</td>\n",
       "      <td>WP_000104864.1</td>\n",
       "      <td>1g/L_glucose</td>\n",
       "      <td>3</td>\n",
       "      <td>0.0</td>\n",
       "      <td>CPM</td>\n",
       "    </tr>\n",
       "    <tr>\n",
       "      <th>4</th>\n",
       "      <td>3B</td>\n",
       "      <td>WP_000104864.1</td>\n",
       "      <td>0.75g/L_phenol</td>\n",
       "      <td>1</td>\n",
       "      <td>0.0</td>\n",
       "      <td>CPM</td>\n",
       "    </tr>\n",
       "    <tr>\n",
       "      <th>5</th>\n",
       "      <td>3B</td>\n",
       "      <td>WP_000104864.1</td>\n",
       "      <td>0.75g/L_phenol</td>\n",
       "      <td>2</td>\n",
       "      <td>0.0</td>\n",
       "      <td>CPM</td>\n",
       "    </tr>\n",
       "  </tbody>\n",
       "</table>\n",
       "</div>"
      ],
      "text/plain": [
       "  Strain        variable       Condition  Replicate  value Units\n",
       "1     3A  WP_000104864.1    1g/L_glucose          1    0.0   CPM\n",
       "2     3A  WP_000104864.1    1g/L_glucose          2    0.0   CPM\n",
       "3     3A  WP_000104864.1    1g/L_glucose          3    0.0   CPM\n",
       "4     3B  WP_000104864.1  0.75g/L_phenol          1    0.0   CPM\n",
       "5     3B  WP_000104864.1  0.75g/L_phenol          2    0.0   CPM"
      ]
     },
     "execution_count": 10,
     "metadata": {},
     "output_type": "execute_result"
    }
   ],
   "source": [
    "df = pd.read_table('../winston_data/yoneda/yoneda_reprocess_CPM_melted.txt', delim_whitespace=True)\n",
    "df.head()\n",
    "# print(len(df))"
   ]
  },
  {
   "cell_type": "code",
   "execution_count": 14,
   "id": "atomic-brief",
   "metadata": {},
   "outputs": [
    {
     "name": "stdout",
     "output_type": "stream",
     "text": [
      "3362 of 192168 transcriptomic measurements have value 0\n"
     ]
    },
    {
     "data": {
      "text/html": [
       "<div>\n",
       "<style scoped>\n",
       "    .dataframe tbody tr th:only-of-type {\n",
       "        vertical-align: middle;\n",
       "    }\n",
       "\n",
       "    .dataframe tbody tr th {\n",
       "        vertical-align: top;\n",
       "    }\n",
       "\n",
       "    .dataframe thead th {\n",
       "        text-align: right;\n",
       "    }\n",
       "</style>\n",
       "<table border=\"1\" class=\"dataframe\">\n",
       "  <thead>\n",
       "    <tr style=\"text-align: right;\">\n",
       "      <th></th>\n",
       "      <th>Strain</th>\n",
       "      <th>variable</th>\n",
       "      <th>Condition</th>\n",
       "      <th>Replicate</th>\n",
       "      <th>value</th>\n",
       "      <th>Units</th>\n",
       "    </tr>\n",
       "  </thead>\n",
       "  <tbody>\n",
       "    <tr>\n",
       "      <th>1</th>\n",
       "      <td>3A</td>\n",
       "      <td>WP_000104864.1</td>\n",
       "      <td>1g/L_glucose</td>\n",
       "      <td>1</td>\n",
       "      <td>0.0</td>\n",
       "      <td>CPM</td>\n",
       "    </tr>\n",
       "    <tr>\n",
       "      <th>2</th>\n",
       "      <td>3A</td>\n",
       "      <td>WP_000104864.1</td>\n",
       "      <td>1g/L_glucose</td>\n",
       "      <td>2</td>\n",
       "      <td>0.0</td>\n",
       "      <td>CPM</td>\n",
       "    </tr>\n",
       "    <tr>\n",
       "      <th>3</th>\n",
       "      <td>3A</td>\n",
       "      <td>WP_000104864.1</td>\n",
       "      <td>1g/L_glucose</td>\n",
       "      <td>3</td>\n",
       "      <td>0.0</td>\n",
       "      <td>CPM</td>\n",
       "    </tr>\n",
       "    <tr>\n",
       "      <th>4</th>\n",
       "      <td>3B</td>\n",
       "      <td>WP_000104864.1</td>\n",
       "      <td>0.75g/L_phenol</td>\n",
       "      <td>1</td>\n",
       "      <td>0.0</td>\n",
       "      <td>CPM</td>\n",
       "    </tr>\n",
       "    <tr>\n",
       "      <th>5</th>\n",
       "      <td>3B</td>\n",
       "      <td>WP_000104864.1</td>\n",
       "      <td>0.75g/L_phenol</td>\n",
       "      <td>2</td>\n",
       "      <td>0.0</td>\n",
       "      <td>CPM</td>\n",
       "    </tr>\n",
       "  </tbody>\n",
       "</table>\n",
       "</div>"
      ],
      "text/plain": [
       "  Strain        variable       Condition  Replicate  value Units\n",
       "1     3A  WP_000104864.1    1g/L_glucose          1    0.0   CPM\n",
       "2     3A  WP_000104864.1    1g/L_glucose          2    0.0   CPM\n",
       "3     3A  WP_000104864.1    1g/L_glucose          3    0.0   CPM\n",
       "4     3B  WP_000104864.1  0.75g/L_phenol          1    0.0   CPM\n",
       "5     3B  WP_000104864.1  0.75g/L_phenol          2    0.0   CPM"
      ]
     },
     "execution_count": 14,
     "metadata": {},
     "output_type": "execute_result"
    }
   ],
   "source": [
    "value_0_df = df[df['value'] == 0.0]\n",
    "print(f'{len(value_0_df)} of {len(df)} transcriptomic measurements have value 0')\n",
    "value_0_df.head()"
   ]
  },
  {
   "cell_type": "code",
   "execution_count": 51,
   "id": "operating-spectrum",
   "metadata": {},
   "outputs": [
    {
     "name": "stdout",
     "output_type": "stream",
     "text": [
      "There are 8007 genes in the transcriptomic data set\n"
     ]
    },
    {
     "data": {
      "text/plain": [
       "['WP_025432362_1',\n",
       " 'WP_025432132_1',\n",
       " 'WP_005246623_1',\n",
       " 'WP_005250821_1',\n",
       " 'WP_037182412_1']"
      ]
     },
     "execution_count": 51,
     "metadata": {},
     "output_type": "execute_result"
    }
   ],
   "source": [
    "transcriptomic_genes = set([gene.replace('.', '_') for gene in df.variable])\n",
    "print(f'There are {len(transcriptomic_genes)} genes in the transcriptomic data set')\n",
    "list(transcriptomic_genes)[:5]"
   ]
  },
  {
   "cell_type": "markdown",
   "id": "homeless-queue",
   "metadata": {},
   "source": [
    "### Find number of  genes in model AND transcriptomic data set"
   ]
  },
  {
   "cell_type": "code",
   "execution_count": 52,
   "id": "opposed-helicopter",
   "metadata": {},
   "outputs": [
    {
     "name": "stdout",
     "output_type": "stream",
     "text": [
      "There are 1575 genes in both data sets\n"
     ]
    }
   ],
   "source": [
    "overlapping_genes = [g for g in model_genes if g in transcriptomic_genes]\n",
    "print(f'There are {len(overlapping_genes)} genes in both data sets')"
   ]
  },
  {
   "cell_type": "markdown",
   "id": "boxed-capacity",
   "metadata": {},
   "source": [
    "### Check the one gene that is not in both data sets"
   ]
  },
  {
   "cell_type": "code",
   "execution_count": 41,
   "id": "contrary-brake",
   "metadata": {},
   "outputs": [
    {
     "name": "stdout",
     "output_type": "stream",
     "text": [
      "spontaneous\n"
     ]
    }
   ],
   "source": [
    "for g in model_genes:\n",
    "    if g not in transcriptomic_genes:\n",
    "        print(g)"
   ]
  },
  {
   "cell_type": "markdown",
   "id": "precise-today",
   "metadata": {},
   "source": [
    "### Load Henson Data"
   ]
  },
  {
   "cell_type": "code",
   "execution_count": 1,
   "id": "nominated-andorra",
   "metadata": {},
   "outputs": [
    {
     "ename": "NameError",
     "evalue": "name 'pd' is not defined",
     "output_type": "error",
     "traceback": [
      "\u001b[0;31m---------------------------------------------------------------------------\u001b[0m",
      "\u001b[0;31mNameError\u001b[0m                                 Traceback (most recent call last)",
      "\u001b[0;32m<ipython-input-1-d4994c44bf3a>\u001b[0m in \u001b[0;36m<module>\u001b[0;34m\u001b[0m\n\u001b[0;32m----> 1\u001b[0;31m \u001b[0mdf\u001b[0m \u001b[0;34m=\u001b[0m \u001b[0mpd\u001b[0m\u001b[0;34m.\u001b[0m\u001b[0mread_table\u001b[0m\u001b[0;34m(\u001b[0m\u001b[0;34m'../winston_data/henson/henson_reprocess_CPM_melted.txt'\u001b[0m\u001b[0;34m,\u001b[0m \u001b[0mdelim_whitespace\u001b[0m\u001b[0;34m=\u001b[0m\u001b[0;32mTrue\u001b[0m\u001b[0;34m)\u001b[0m\u001b[0;34m\u001b[0m\u001b[0;34m\u001b[0m\u001b[0m\n\u001b[0m\u001b[1;32m      2\u001b[0m \u001b[0mdf\u001b[0m\u001b[0;34m.\u001b[0m\u001b[0mhead\u001b[0m\u001b[0;34m(\u001b[0m\u001b[0;36m50\u001b[0m\u001b[0;34m)\u001b[0m\u001b[0;34m\u001b[0m\u001b[0;34m\u001b[0m\u001b[0m\n",
      "\u001b[0;31mNameError\u001b[0m: name 'pd' is not defined"
     ]
    }
   ],
   "source": [
    "df = pd.read_table('../winston_data/henson/henson_reprocess_CPM_melted.txt', delim_whitespace=True)\n",
    "df.head(50)"
   ]
  },
  {
   "cell_type": "markdown",
   "id": "amber-locking",
   "metadata": {},
   "source": [
    "### Get transcriptomics genes"
   ]
  },
  {
   "cell_type": "code",
   "execution_count": 54,
   "id": "little-gambling",
   "metadata": {},
   "outputs": [
    {
     "name": "stdout",
     "output_type": "stream",
     "text": [
      "There are 8007 genes in the transcriptomic data set\n"
     ]
    },
    {
     "data": {
      "text/plain": [
       "['WP_025432362_1',\n",
       " 'WP_025432132_1',\n",
       " 'WP_005246623_1',\n",
       " 'WP_005250821_1',\n",
       " 'WP_037182412_1']"
      ]
     },
     "execution_count": 54,
     "metadata": {},
     "output_type": "execute_result"
    }
   ],
   "source": [
    "transcriptomic_genes = set([gene.replace('.', '_') for gene in df.variable])\n",
    "print(f'There are {len(transcriptomic_genes)} genes in the transcriptomic data set')\n",
    "list(transcriptomic_genes)[:5]"
   ]
  },
  {
   "cell_type": "markdown",
   "id": "southwest-secret",
   "metadata": {},
   "source": [
    "### Find overlapping genes"
   ]
  },
  {
   "cell_type": "code",
   "execution_count": 55,
   "id": "royal-alabama",
   "metadata": {},
   "outputs": [
    {
     "name": "stdout",
     "output_type": "stream",
     "text": [
      "There are 1575 genes in both data sets\n"
     ]
    }
   ],
   "source": [
    "overlapping_genes = [g for g in model_genes if g in transcriptomic_genes]\n",
    "print(f'There are {len(overlapping_genes)} genes in both data sets')"
   ]
  },
  {
   "cell_type": "code",
   "execution_count": null,
   "id": "grand-still",
   "metadata": {},
   "outputs": [],
   "source": []
  }
 ],
 "metadata": {
  "kernelspec": {
   "display_name": "biodesign_3.7",
   "language": "python",
   "name": "biod_3.7"
  },
  "language_info": {
   "codemirror_mode": {
    "name": "ipython",
    "version": 3
   },
   "file_extension": ".py",
   "mimetype": "text/x-python",
   "name": "python",
   "nbconvert_exporter": "python",
   "pygments_lexer": "ipython3",
   "version": "3.7.4"
  }
 },
 "nbformat": 4,
 "nbformat_minor": 5
}

{
 "cells": [
  {
   "cell_type": "markdown",
   "id": "behavioral-excerpt",
   "metadata": {},
   "source": [
    "# The conversion of files from Winston's format to EDD format\n",
    "This notebook first analyzes the proper EDD format and the format of the transcriptomics data that Winston sent. <br>\n",
    "Then it goes through in high detail how to convert the CPM .txt file into a properly formatted EDD .csv file <br>\n",
    "Last it runs the other three .txt files (FPKM, MR, and TMM) through the same pipeline"
   ]
  },
  {
   "cell_type": "code",
   "execution_count": 1,
   "id": "annual-humanity",
   "metadata": {},
   "outputs": [],
   "source": [
    "import pandas as pd"
   ]
  },
  {
   "cell_type": "markdown",
   "id": "closing-float",
   "metadata": {},
   "source": [
    "### Proper EDD Format Example"
   ]
  },
  {
   "cell_type": "code",
   "execution_count": 2,
   "id": "atomic-robinson",
   "metadata": {},
   "outputs": [
    {
     "name": "stdout",
     "output_type": "stream",
     "text": [
      "The Yoneda data frame in EDD has 71501 rows\n"
     ]
    },
    {
     "data": {
      "text/html": [
       "<div>\n",
       "<style scoped>\n",
       "    .dataframe tbody tr th:only-of-type {\n",
       "        vertical-align: middle;\n",
       "    }\n",
       "\n",
       "    .dataframe tbody tr th {\n",
       "        vertical-align: top;\n",
       "    }\n",
       "\n",
       "    .dataframe thead th {\n",
       "        text-align: right;\n",
       "    }\n",
       "</style>\n",
       "<table border=\"1\" class=\"dataframe\">\n",
       "  <thead>\n",
       "    <tr style=\"text-align: right;\">\n",
       "      <th></th>\n",
       "      <th>Line Name</th>\n",
       "      <th>Measurement Type</th>\n",
       "      <th>Time</th>\n",
       "      <th>Value</th>\n",
       "      <th>Units</th>\n",
       "      <th>Unnamed: 5</th>\n",
       "      <th>Unnamed: 6</th>\n",
       "      <th>Unnamed: 7</th>\n",
       "      <th>Unnamed: 8</th>\n",
       "    </tr>\n",
       "  </thead>\n",
       "  <tbody>\n",
       "    <tr>\n",
       "      <th>0</th>\n",
       "      <td>WT-G-R1</td>\n",
       "      <td>PD630_LPD06575</td>\n",
       "      <td>14</td>\n",
       "      <td>708</td>\n",
       "      <td>counts</td>\n",
       "      <td>NaN</td>\n",
       "      <td>NaN</td>\n",
       "      <td>NaN</td>\n",
       "      <td>NaN</td>\n",
       "    </tr>\n",
       "    <tr>\n",
       "      <th>1</th>\n",
       "      <td>WT-G-R1</td>\n",
       "      <td>PD630_LPD06576</td>\n",
       "      <td>14</td>\n",
       "      <td>6513</td>\n",
       "      <td>counts</td>\n",
       "      <td>NaN</td>\n",
       "      <td>NaN</td>\n",
       "      <td>NaN</td>\n",
       "      <td>NaN</td>\n",
       "    </tr>\n",
       "    <tr>\n",
       "      <th>2</th>\n",
       "      <td>WT-G-R1</td>\n",
       "      <td>PD630_LPD00131</td>\n",
       "      <td>14</td>\n",
       "      <td>1015</td>\n",
       "      <td>counts</td>\n",
       "      <td>NaN</td>\n",
       "      <td>NaN</td>\n",
       "      <td>NaN</td>\n",
       "      <td>NaN</td>\n",
       "    </tr>\n",
       "    <tr>\n",
       "      <th>3</th>\n",
       "      <td>WT-G-R1</td>\n",
       "      <td>PD630_LPD06740</td>\n",
       "      <td>14</td>\n",
       "      <td>289</td>\n",
       "      <td>counts</td>\n",
       "      <td>NaN</td>\n",
       "      <td>NaN</td>\n",
       "      <td>NaN</td>\n",
       "      <td>NaN</td>\n",
       "    </tr>\n",
       "    <tr>\n",
       "      <th>4</th>\n",
       "      <td>WT-G-R1</td>\n",
       "      <td>PD630_LPD06741</td>\n",
       "      <td>14</td>\n",
       "      <td>1159</td>\n",
       "      <td>counts</td>\n",
       "      <td>NaN</td>\n",
       "      <td>NaN</td>\n",
       "      <td>NaN</td>\n",
       "      <td>NaN</td>\n",
       "    </tr>\n",
       "  </tbody>\n",
       "</table>\n",
       "</div>"
      ],
      "text/plain": [
       "  Line Name Measurement Type  Time  Value   Units  Unnamed: 5  Unnamed: 6  \\\n",
       "0   WT-G-R1   PD630_LPD06575    14    708  counts         NaN         NaN   \n",
       "1   WT-G-R1   PD630_LPD06576    14   6513  counts         NaN         NaN   \n",
       "2   WT-G-R1   PD630_LPD00131    14   1015  counts         NaN         NaN   \n",
       "3   WT-G-R1   PD630_LPD06740    14    289  counts         NaN         NaN   \n",
       "4   WT-G-R1   PD630_LPD06741    14   1159  counts         NaN         NaN   \n",
       "\n",
       "   Unnamed: 7  Unnamed: 8  \n",
       "0         NaN         NaN  \n",
       "1         NaN         NaN  \n",
       "2         NaN         NaN  \n",
       "3         NaN         NaN  \n",
       "4         NaN         NaN  "
      ]
     },
     "execution_count": 2,
     "metadata": {},
     "output_type": "execute_result"
    }
   ],
   "source": [
    "old_edd_yoneda_data = pd.read_csv('../../EDD_Yoneda_data/Yoneda_set3_transcriptomics_data.csv')\n",
    "print(f'The Yoneda data frame in EDD has {len(old_edd_yoneda_data)} rows')\n",
    "old_edd_yoneda_data.head()"
   ]
  },
  {
   "cell_type": "code",
   "execution_count": 3,
   "id": "tracked-worthy",
   "metadata": {},
   "outputs": [
    {
     "name": "stdout",
     "output_type": "stream",
     "text": [
      "The set of line names in Yoneda data already in EDD is:\n",
      "EVOL33-G-R1\n",
      "EVOL33-L-R1\n",
      "EVOL40-G-R1\n",
      "EVOL40-H-R1\n",
      "WT-G-R1\n",
      "EVOL40-L-R1\n",
      "EVOL33-H-R1\n",
      "WT-L-R1\n"
     ]
    }
   ],
   "source": [
    "print('The set of line names in Yoneda data already in EDD is:')\n",
    "_ = [print(line_name) for line_name in set(old_edd_yoneda_data[\"Line Name\"])]"
   ]
  },
  {
   "cell_type": "markdown",
   "id": "productive-recorder",
   "metadata": {},
   "source": [
    "Define a function to find the set of times used for each line name"
   ]
  },
  {
   "cell_type": "code",
   "execution_count": 4,
   "id": "proved-victoria",
   "metadata": {},
   "outputs": [],
   "source": [
    "def line_name_to_set_of_times(line_name):\n",
    "    return set(old_edd_yoneda_data[old_edd_yoneda_data['Line Name'] == line_name].Time)"
   ]
  },
  {
   "cell_type": "code",
   "execution_count": 5,
   "id": "golden-pearl",
   "metadata": {},
   "outputs": [
    {
     "name": "stdout",
     "output_type": "stream",
     "text": [
      "The set of times used for each line name in the Yoneda data already in EDD is:\n",
      "EVOL33-G-R1 {14}\n",
      "EVOL33-L-R1 {24}\n",
      "EVOL40-G-R1 {14}\n",
      "EVOL40-H-R1 {32}\n",
      "WT-G-R1 {14}\n",
      "EVOL40-L-R1 {24}\n",
      "EVOL33-H-R1 {32}\n",
      "WT-L-R1 {24}\n"
     ]
    }
   ],
   "source": [
    "print('The set of times used for each line name in the Yoneda data already in EDD is:')\n",
    "_ = [print(line_name, line_name_to_set_of_times(line_name)) for line_name in set(old_edd_yoneda_data[\"Line Name\"])]"
   ]
  },
  {
   "cell_type": "markdown",
   "id": "rough-subsection",
   "metadata": {},
   "source": [
    "There is a pattern where all 'G' lines have time 24, all 'L' lines have time 24 and all 'H' lines have time 32"
   ]
  },
  {
   "cell_type": "markdown",
   "id": "intermediate-mobility",
   "metadata": {},
   "source": [
    "### Characterization of Yoneda data from Winston"
   ]
  },
  {
   "cell_type": "code",
   "execution_count": 7,
   "id": "supported-brave",
   "metadata": {},
   "outputs": [
    {
     "name": "stdout",
     "output_type": "stream",
     "text": [
      "There are 192168 lines in data Winston recently sent\n"
     ]
    },
    {
     "data": {
      "text/html": [
       "<div>\n",
       "<style scoped>\n",
       "    .dataframe tbody tr th:only-of-type {\n",
       "        vertical-align: middle;\n",
       "    }\n",
       "\n",
       "    .dataframe tbody tr th {\n",
       "        vertical-align: top;\n",
       "    }\n",
       "\n",
       "    .dataframe thead th {\n",
       "        text-align: right;\n",
       "    }\n",
       "</style>\n",
       "<table border=\"1\" class=\"dataframe\">\n",
       "  <thead>\n",
       "    <tr style=\"text-align: right;\">\n",
       "      <th></th>\n",
       "      <th>Strain</th>\n",
       "      <th>variable</th>\n",
       "      <th>Condition</th>\n",
       "      <th>Replicate</th>\n",
       "      <th>value</th>\n",
       "      <th>Units</th>\n",
       "    </tr>\n",
       "  </thead>\n",
       "  <tbody>\n",
       "    <tr>\n",
       "      <th>1</th>\n",
       "      <td>3A</td>\n",
       "      <td>WP_000104864.1</td>\n",
       "      <td>1g/L_glucose</td>\n",
       "      <td>1</td>\n",
       "      <td>0.0</td>\n",
       "      <td>FKPM</td>\n",
       "    </tr>\n",
       "    <tr>\n",
       "      <th>2</th>\n",
       "      <td>3A</td>\n",
       "      <td>WP_000104864.1</td>\n",
       "      <td>1g/L_glucose</td>\n",
       "      <td>2</td>\n",
       "      <td>0.0</td>\n",
       "      <td>FKPM</td>\n",
       "    </tr>\n",
       "    <tr>\n",
       "      <th>3</th>\n",
       "      <td>3A</td>\n",
       "      <td>WP_000104864.1</td>\n",
       "      <td>1g/L_glucose</td>\n",
       "      <td>3</td>\n",
       "      <td>0.0</td>\n",
       "      <td>FKPM</td>\n",
       "    </tr>\n",
       "    <tr>\n",
       "      <th>4</th>\n",
       "      <td>3B</td>\n",
       "      <td>WP_000104864.1</td>\n",
       "      <td>0.75g/L_phenol</td>\n",
       "      <td>1</td>\n",
       "      <td>0.0</td>\n",
       "      <td>FKPM</td>\n",
       "    </tr>\n",
       "    <tr>\n",
       "      <th>5</th>\n",
       "      <td>3B</td>\n",
       "      <td>WP_000104864.1</td>\n",
       "      <td>0.75g/L_phenol</td>\n",
       "      <td>2</td>\n",
       "      <td>0.0</td>\n",
       "      <td>FKPM</td>\n",
       "    </tr>\n",
       "  </tbody>\n",
       "</table>\n",
       "</div>"
      ],
      "text/plain": [
       "  Strain        variable       Condition  Replicate  value Units\n",
       "1     3A  WP_000104864.1    1g/L_glucose          1    0.0  FKPM\n",
       "2     3A  WP_000104864.1    1g/L_glucose          2    0.0  FKPM\n",
       "3     3A  WP_000104864.1    1g/L_glucose          3    0.0  FKPM\n",
       "4     3B  WP_000104864.1  0.75g/L_phenol          1    0.0  FKPM\n",
       "5     3B  WP_000104864.1  0.75g/L_phenol          2    0.0  FKPM"
      ]
     },
     "execution_count": 7,
     "metadata": {},
     "output_type": "execute_result"
    }
   ],
   "source": [
    "yoneda_data = pd.read_table('../winston_data/yoneda/yoneda_reprocess_FKPM_melted.txt', delim_whitespace=True)\n",
    "print(f'There are {len(yoneda_data)} lines in data Winston recently sent')\n",
    "yoneda_data.head()"
   ]
  },
  {
   "cell_type": "markdown",
   "id": "naked-berry",
   "metadata": {},
   "source": [
    "There are roughly 3 times as many data points in the new data winston sent indicating the original version was missing replicates"
   ]
  },
  {
   "cell_type": "code",
   "execution_count": 8,
   "id": "casual-chemical",
   "metadata": {},
   "outputs": [
    {
     "name": "stdout",
     "output_type": "stream",
     "text": [
      "The set of strains in Yoneda data Winston sent are {'3B', '4A', '4B', '4C', 'WA', 'WB', '3A', '3C'}\n",
      "The set of conditions in Yoneda data Winston sent are {'0.75g/L_phenol', '1.5g/L_phenol', '1g/L_glucose'}\n",
      "The set of replicates in Yoneda data Winston sent are {1, 2, 3}\n"
     ]
    }
   ],
   "source": [
    "print(f'The set of strains in Yoneda data Winston sent are {set(yoneda_data.Strain)}')\n",
    "print(f'The set of conditions in Yoneda data Winston sent are {set(yoneda_data.Condition)}')\n",
    "print(f'The set of replicates in Yoneda data Winston sent are {set(yoneda_data.Replicate)}')"
   ]
  },
  {
   "cell_type": "markdown",
   "id": "pregnant-california",
   "metadata": {},
   "source": [
    "Define a function to find the set of conditions used for each strain"
   ]
  },
  {
   "cell_type": "code",
   "execution_count": 9,
   "id": "frequent-ticket",
   "metadata": {},
   "outputs": [],
   "source": [
    "def strain_to_condition_set(strain):\n",
    "    return set(yoneda_data[yoneda_data['Strain'] == strain].Condition)"
   ]
  },
  {
   "cell_type": "code",
   "execution_count": 10,
   "id": "parliamentary-decision",
   "metadata": {},
   "outputs": [
    {
     "name": "stdout",
     "output_type": "stream",
     "text": [
      "The set of conditions for each strain in the data winston sent is:\n",
      "3B {'0.75g/L_phenol'}\n",
      "4A {'1g/L_glucose'}\n",
      "4B {'0.75g/L_phenol'}\n",
      "4C {'1.5g/L_phenol'}\n",
      "WA {'1g/L_glucose'}\n",
      "WB {'0.75g/L_phenol'}\n",
      "3A {'1g/L_glucose'}\n",
      "3C {'1.5g/L_phenol'}\n"
     ]
    }
   ],
   "source": [
    "print('The set of conditions for each strain in the data winston sent is:')\n",
    "_ = [print(strain, strain_to_condition_set(strain)) for strain in set(yoneda_data.Strain)]"
   ]
  },
  {
   "cell_type": "markdown",
   "id": "fresh-dutch",
   "metadata": {},
   "source": [
    "There is a pattern that A = 1g/L_glucose, B = 0.75g/L_phenol, and C = 1.5g/L_phenol"
   ]
  },
  {
   "cell_type": "markdown",
   "id": "objective-chick",
   "metadata": {},
   "source": [
    "W = wild type, 3 = evol33, and 4 = evol40"
   ]
  },
  {
   "cell_type": "markdown",
   "id": "smaller-calcium",
   "metadata": {},
   "source": [
    "# Creation of EDD formatted dataframe"
   ]
  },
  {
   "cell_type": "markdown",
   "id": "furnished-fraction",
   "metadata": {},
   "source": [
    "The column names of the data should be Line Name, Measurement Type, Time, Value, Units\n",
    "\n",
    "| Column Name        | Information                                  | \n",
    "| -----------        | -----------                                  |\n",
    "| Line name          | {Strain}-{carbon source}-R{replicate number} |\n",
    "| Measurement Type   | gene annotation                              |\n",
    "| Time               | measurement time in hours                    |\n",
    "| Value              | measurement value                            |\n",
    "| Units              | Unit name                                    |"
   ]
  },
  {
   "cell_type": "markdown",
   "id": "choice-advancement",
   "metadata": {},
   "source": [
    "Define a function to define the line name based on the information in a row of the data Winston sent"
   ]
  },
  {
   "cell_type": "code",
   "execution_count": 13,
   "id": "proved-zambia",
   "metadata": {},
   "outputs": [],
   "source": [
    "def row_to_line_name(row):\n",
    "    if row.Strain.startswith('W'):\n",
    "        line_name = 'WT-LN'\n",
    "    if row.Strain.startswith('3'):\n",
    "        line_name = 'EVOL33-LN'\n",
    "    if row.Strain.startswith('4'):\n",
    "        line_name = 'EVOL40-LN'\n",
    "    \n",
    "    if row.Condition == '1g/L_glucose':\n",
    "        line_name += '-G-R'\n",
    "    if row.Condition == '0.75g/L_phenol':\n",
    "        line_name += '-LP-R'\n",
    "    if row.Condition == '1.5g/L_phenol':\n",
    "        line_name += '-HP-R'\n",
    "        \n",
    "    line_name += str(row.Replicate)\n",
    "    \n",
    "    return line_name"
   ]
  },
  {
   "cell_type": "markdown",
   "id": "modified-liability",
   "metadata": {},
   "source": [
    "Add line names to data winston sent"
   ]
  },
  {
   "cell_type": "code",
   "execution_count": 14,
   "id": "geographic-disclosure",
   "metadata": {},
   "outputs": [
    {
     "data": {
      "text/html": [
       "<div>\n",
       "<style scoped>\n",
       "    .dataframe tbody tr th:only-of-type {\n",
       "        vertical-align: middle;\n",
       "    }\n",
       "\n",
       "    .dataframe tbody tr th {\n",
       "        vertical-align: top;\n",
       "    }\n",
       "\n",
       "    .dataframe thead th {\n",
       "        text-align: right;\n",
       "    }\n",
       "</style>\n",
       "<table border=\"1\" class=\"dataframe\">\n",
       "  <thead>\n",
       "    <tr style=\"text-align: right;\">\n",
       "      <th></th>\n",
       "      <th>Strain</th>\n",
       "      <th>variable</th>\n",
       "      <th>Condition</th>\n",
       "      <th>Replicate</th>\n",
       "      <th>value</th>\n",
       "      <th>Units</th>\n",
       "      <th>Line Name</th>\n",
       "    </tr>\n",
       "  </thead>\n",
       "  <tbody>\n",
       "    <tr>\n",
       "      <th>1</th>\n",
       "      <td>3A</td>\n",
       "      <td>WP_000104864.1</td>\n",
       "      <td>1g/L_glucose</td>\n",
       "      <td>1</td>\n",
       "      <td>0.0</td>\n",
       "      <td>FKPM</td>\n",
       "      <td>EVOL33-LN-G-R1</td>\n",
       "    </tr>\n",
       "    <tr>\n",
       "      <th>2</th>\n",
       "      <td>3A</td>\n",
       "      <td>WP_000104864.1</td>\n",
       "      <td>1g/L_glucose</td>\n",
       "      <td>2</td>\n",
       "      <td>0.0</td>\n",
       "      <td>FKPM</td>\n",
       "      <td>EVOL33-LN-G-R2</td>\n",
       "    </tr>\n",
       "    <tr>\n",
       "      <th>3</th>\n",
       "      <td>3A</td>\n",
       "      <td>WP_000104864.1</td>\n",
       "      <td>1g/L_glucose</td>\n",
       "      <td>3</td>\n",
       "      <td>0.0</td>\n",
       "      <td>FKPM</td>\n",
       "      <td>EVOL33-LN-G-R3</td>\n",
       "    </tr>\n",
       "    <tr>\n",
       "      <th>4</th>\n",
       "      <td>3B</td>\n",
       "      <td>WP_000104864.1</td>\n",
       "      <td>0.75g/L_phenol</td>\n",
       "      <td>1</td>\n",
       "      <td>0.0</td>\n",
       "      <td>FKPM</td>\n",
       "      <td>EVOL33-LN-LP-R1</td>\n",
       "    </tr>\n",
       "    <tr>\n",
       "      <th>5</th>\n",
       "      <td>3B</td>\n",
       "      <td>WP_000104864.1</td>\n",
       "      <td>0.75g/L_phenol</td>\n",
       "      <td>2</td>\n",
       "      <td>0.0</td>\n",
       "      <td>FKPM</td>\n",
       "      <td>EVOL33-LN-LP-R2</td>\n",
       "    </tr>\n",
       "  </tbody>\n",
       "</table>\n",
       "</div>"
      ],
      "text/plain": [
       "  Strain        variable       Condition  Replicate  value Units  \\\n",
       "1     3A  WP_000104864.1    1g/L_glucose          1    0.0  FKPM   \n",
       "2     3A  WP_000104864.1    1g/L_glucose          2    0.0  FKPM   \n",
       "3     3A  WP_000104864.1    1g/L_glucose          3    0.0  FKPM   \n",
       "4     3B  WP_000104864.1  0.75g/L_phenol          1    0.0  FKPM   \n",
       "5     3B  WP_000104864.1  0.75g/L_phenol          2    0.0  FKPM   \n",
       "\n",
       "         Line Name  \n",
       "1   EVOL33-LN-G-R1  \n",
       "2   EVOL33-LN-G-R2  \n",
       "3   EVOL33-LN-G-R3  \n",
       "4  EVOL33-LN-LP-R1  \n",
       "5  EVOL33-LN-LP-R2  "
      ]
     },
     "execution_count": 14,
     "metadata": {},
     "output_type": "execute_result"
    }
   ],
   "source": [
    "yoneda_data['Line Name'] = [row_to_line_name(row) for _, row in yoneda_data.iterrows()]\n",
    "yoneda_data.head()"
   ]
  },
  {
   "cell_type": "markdown",
   "id": "organizational-spine",
   "metadata": {},
   "source": [
    "Add measurement types to the data Winston sent"
   ]
  },
  {
   "cell_type": "code",
   "execution_count": 15,
   "id": "designed-jersey",
   "metadata": {},
   "outputs": [
    {
     "data": {
      "text/html": [
       "<div>\n",
       "<style scoped>\n",
       "    .dataframe tbody tr th:only-of-type {\n",
       "        vertical-align: middle;\n",
       "    }\n",
       "\n",
       "    .dataframe tbody tr th {\n",
       "        vertical-align: top;\n",
       "    }\n",
       "\n",
       "    .dataframe thead th {\n",
       "        text-align: right;\n",
       "    }\n",
       "</style>\n",
       "<table border=\"1\" class=\"dataframe\">\n",
       "  <thead>\n",
       "    <tr style=\"text-align: right;\">\n",
       "      <th></th>\n",
       "      <th>Strain</th>\n",
       "      <th>variable</th>\n",
       "      <th>Condition</th>\n",
       "      <th>Replicate</th>\n",
       "      <th>value</th>\n",
       "      <th>Units</th>\n",
       "      <th>Line Name</th>\n",
       "      <th>Measurement Type</th>\n",
       "    </tr>\n",
       "  </thead>\n",
       "  <tbody>\n",
       "    <tr>\n",
       "      <th>1</th>\n",
       "      <td>3A</td>\n",
       "      <td>WP_000104864.1</td>\n",
       "      <td>1g/L_glucose</td>\n",
       "      <td>1</td>\n",
       "      <td>0.0</td>\n",
       "      <td>FKPM</td>\n",
       "      <td>EVOL33-LN-G-R1</td>\n",
       "      <td>WP_000104864_1</td>\n",
       "    </tr>\n",
       "    <tr>\n",
       "      <th>2</th>\n",
       "      <td>3A</td>\n",
       "      <td>WP_000104864.1</td>\n",
       "      <td>1g/L_glucose</td>\n",
       "      <td>2</td>\n",
       "      <td>0.0</td>\n",
       "      <td>FKPM</td>\n",
       "      <td>EVOL33-LN-G-R2</td>\n",
       "      <td>WP_000104864_1</td>\n",
       "    </tr>\n",
       "    <tr>\n",
       "      <th>3</th>\n",
       "      <td>3A</td>\n",
       "      <td>WP_000104864.1</td>\n",
       "      <td>1g/L_glucose</td>\n",
       "      <td>3</td>\n",
       "      <td>0.0</td>\n",
       "      <td>FKPM</td>\n",
       "      <td>EVOL33-LN-G-R3</td>\n",
       "      <td>WP_000104864_1</td>\n",
       "    </tr>\n",
       "    <tr>\n",
       "      <th>4</th>\n",
       "      <td>3B</td>\n",
       "      <td>WP_000104864.1</td>\n",
       "      <td>0.75g/L_phenol</td>\n",
       "      <td>1</td>\n",
       "      <td>0.0</td>\n",
       "      <td>FKPM</td>\n",
       "      <td>EVOL33-LN-LP-R1</td>\n",
       "      <td>WP_000104864_1</td>\n",
       "    </tr>\n",
       "    <tr>\n",
       "      <th>5</th>\n",
       "      <td>3B</td>\n",
       "      <td>WP_000104864.1</td>\n",
       "      <td>0.75g/L_phenol</td>\n",
       "      <td>2</td>\n",
       "      <td>0.0</td>\n",
       "      <td>FKPM</td>\n",
       "      <td>EVOL33-LN-LP-R2</td>\n",
       "      <td>WP_000104864_1</td>\n",
       "    </tr>\n",
       "  </tbody>\n",
       "</table>\n",
       "</div>"
      ],
      "text/plain": [
       "  Strain        variable       Condition  Replicate  value Units  \\\n",
       "1     3A  WP_000104864.1    1g/L_glucose          1    0.0  FKPM   \n",
       "2     3A  WP_000104864.1    1g/L_glucose          2    0.0  FKPM   \n",
       "3     3A  WP_000104864.1    1g/L_glucose          3    0.0  FKPM   \n",
       "4     3B  WP_000104864.1  0.75g/L_phenol          1    0.0  FKPM   \n",
       "5     3B  WP_000104864.1  0.75g/L_phenol          2    0.0  FKPM   \n",
       "\n",
       "         Line Name Measurement Type  \n",
       "1   EVOL33-LN-G-R1   WP_000104864_1  \n",
       "2   EVOL33-LN-G-R2   WP_000104864_1  \n",
       "3   EVOL33-LN-G-R3   WP_000104864_1  \n",
       "4  EVOL33-LN-LP-R1   WP_000104864_1  \n",
       "5  EVOL33-LN-LP-R2   WP_000104864_1  "
      ]
     },
     "execution_count": 15,
     "metadata": {},
     "output_type": "execute_result"
    }
   ],
   "source": [
    "yoneda_data['Measurement Type'] = [row.variable.replace('.', '_') for _, row in yoneda_data.iterrows()]\n",
    "yoneda_data.head()"
   ]
  },
  {
   "cell_type": "markdown",
   "id": "moral-snapshot",
   "metadata": {},
   "source": [
    "Define a function to return the proper time based on the line name"
   ]
  },
  {
   "cell_type": "code",
   "execution_count": 16,
   "id": "signed-alloy",
   "metadata": {},
   "outputs": [],
   "source": [
    "def line_name_to_time(line_name):\n",
    "    if '-G-' in line_name:\n",
    "        return 14\n",
    "    if '-LP-' in line_name:\n",
    "        return 24\n",
    "    if '-HP-' in line_name:\n",
    "        return 32"
   ]
  },
  {
   "cell_type": "markdown",
   "id": "local-summer",
   "metadata": {},
   "source": [
    "Add Time to the dataframe"
   ]
  },
  {
   "cell_type": "code",
   "execution_count": 17,
   "id": "forty-nicaragua",
   "metadata": {},
   "outputs": [
    {
     "data": {
      "text/html": [
       "<div>\n",
       "<style scoped>\n",
       "    .dataframe tbody tr th:only-of-type {\n",
       "        vertical-align: middle;\n",
       "    }\n",
       "\n",
       "    .dataframe tbody tr th {\n",
       "        vertical-align: top;\n",
       "    }\n",
       "\n",
       "    .dataframe thead th {\n",
       "        text-align: right;\n",
       "    }\n",
       "</style>\n",
       "<table border=\"1\" class=\"dataframe\">\n",
       "  <thead>\n",
       "    <tr style=\"text-align: right;\">\n",
       "      <th></th>\n",
       "      <th>Strain</th>\n",
       "      <th>variable</th>\n",
       "      <th>Condition</th>\n",
       "      <th>Replicate</th>\n",
       "      <th>value</th>\n",
       "      <th>Units</th>\n",
       "      <th>Line Name</th>\n",
       "      <th>Measurement Type</th>\n",
       "      <th>Time</th>\n",
       "    </tr>\n",
       "  </thead>\n",
       "  <tbody>\n",
       "    <tr>\n",
       "      <th>1</th>\n",
       "      <td>3A</td>\n",
       "      <td>WP_000104864.1</td>\n",
       "      <td>1g/L_glucose</td>\n",
       "      <td>1</td>\n",
       "      <td>0.0</td>\n",
       "      <td>FKPM</td>\n",
       "      <td>EVOL33-LN-G-R1</td>\n",
       "      <td>WP_000104864_1</td>\n",
       "      <td>14</td>\n",
       "    </tr>\n",
       "    <tr>\n",
       "      <th>2</th>\n",
       "      <td>3A</td>\n",
       "      <td>WP_000104864.1</td>\n",
       "      <td>1g/L_glucose</td>\n",
       "      <td>2</td>\n",
       "      <td>0.0</td>\n",
       "      <td>FKPM</td>\n",
       "      <td>EVOL33-LN-G-R2</td>\n",
       "      <td>WP_000104864_1</td>\n",
       "      <td>14</td>\n",
       "    </tr>\n",
       "    <tr>\n",
       "      <th>3</th>\n",
       "      <td>3A</td>\n",
       "      <td>WP_000104864.1</td>\n",
       "      <td>1g/L_glucose</td>\n",
       "      <td>3</td>\n",
       "      <td>0.0</td>\n",
       "      <td>FKPM</td>\n",
       "      <td>EVOL33-LN-G-R3</td>\n",
       "      <td>WP_000104864_1</td>\n",
       "      <td>14</td>\n",
       "    </tr>\n",
       "    <tr>\n",
       "      <th>4</th>\n",
       "      <td>3B</td>\n",
       "      <td>WP_000104864.1</td>\n",
       "      <td>0.75g/L_phenol</td>\n",
       "      <td>1</td>\n",
       "      <td>0.0</td>\n",
       "      <td>FKPM</td>\n",
       "      <td>EVOL33-LN-LP-R1</td>\n",
       "      <td>WP_000104864_1</td>\n",
       "      <td>24</td>\n",
       "    </tr>\n",
       "    <tr>\n",
       "      <th>5</th>\n",
       "      <td>3B</td>\n",
       "      <td>WP_000104864.1</td>\n",
       "      <td>0.75g/L_phenol</td>\n",
       "      <td>2</td>\n",
       "      <td>0.0</td>\n",
       "      <td>FKPM</td>\n",
       "      <td>EVOL33-LN-LP-R2</td>\n",
       "      <td>WP_000104864_1</td>\n",
       "      <td>24</td>\n",
       "    </tr>\n",
       "  </tbody>\n",
       "</table>\n",
       "</div>"
      ],
      "text/plain": [
       "  Strain        variable       Condition  Replicate  value Units  \\\n",
       "1     3A  WP_000104864.1    1g/L_glucose          1    0.0  FKPM   \n",
       "2     3A  WP_000104864.1    1g/L_glucose          2    0.0  FKPM   \n",
       "3     3A  WP_000104864.1    1g/L_glucose          3    0.0  FKPM   \n",
       "4     3B  WP_000104864.1  0.75g/L_phenol          1    0.0  FKPM   \n",
       "5     3B  WP_000104864.1  0.75g/L_phenol          2    0.0  FKPM   \n",
       "\n",
       "         Line Name Measurement Type  Time  \n",
       "1   EVOL33-LN-G-R1   WP_000104864_1    14  \n",
       "2   EVOL33-LN-G-R2   WP_000104864_1    14  \n",
       "3   EVOL33-LN-G-R3   WP_000104864_1    14  \n",
       "4  EVOL33-LN-LP-R1   WP_000104864_1    24  \n",
       "5  EVOL33-LN-LP-R2   WP_000104864_1    24  "
      ]
     },
     "execution_count": 17,
     "metadata": {},
     "output_type": "execute_result"
    }
   ],
   "source": [
    "yoneda_data['Time'] = [line_name_to_time(row['Line Name']) for _, row in yoneda_data.iterrows()]\n",
    "yoneda_data.head()"
   ]
  },
  {
   "cell_type": "markdown",
   "id": "requested-platform",
   "metadata": {},
   "source": [
    "Add capitalized value to the dataframe"
   ]
  },
  {
   "cell_type": "code",
   "execution_count": 18,
   "id": "verbal-puzzle",
   "metadata": {},
   "outputs": [
    {
     "data": {
      "text/html": [
       "<div>\n",
       "<style scoped>\n",
       "    .dataframe tbody tr th:only-of-type {\n",
       "        vertical-align: middle;\n",
       "    }\n",
       "\n",
       "    .dataframe tbody tr th {\n",
       "        vertical-align: top;\n",
       "    }\n",
       "\n",
       "    .dataframe thead th {\n",
       "        text-align: right;\n",
       "    }\n",
       "</style>\n",
       "<table border=\"1\" class=\"dataframe\">\n",
       "  <thead>\n",
       "    <tr style=\"text-align: right;\">\n",
       "      <th></th>\n",
       "      <th>Strain</th>\n",
       "      <th>variable</th>\n",
       "      <th>Condition</th>\n",
       "      <th>Replicate</th>\n",
       "      <th>value</th>\n",
       "      <th>Units</th>\n",
       "      <th>Line Name</th>\n",
       "      <th>Measurement Type</th>\n",
       "      <th>Time</th>\n",
       "      <th>Value</th>\n",
       "    </tr>\n",
       "  </thead>\n",
       "  <tbody>\n",
       "    <tr>\n",
       "      <th>1</th>\n",
       "      <td>3A</td>\n",
       "      <td>WP_000104864.1</td>\n",
       "      <td>1g/L_glucose</td>\n",
       "      <td>1</td>\n",
       "      <td>0.0</td>\n",
       "      <td>FKPM</td>\n",
       "      <td>EVOL33-LN-G-R1</td>\n",
       "      <td>WP_000104864_1</td>\n",
       "      <td>14</td>\n",
       "      <td>0.0</td>\n",
       "    </tr>\n",
       "    <tr>\n",
       "      <th>2</th>\n",
       "      <td>3A</td>\n",
       "      <td>WP_000104864.1</td>\n",
       "      <td>1g/L_glucose</td>\n",
       "      <td>2</td>\n",
       "      <td>0.0</td>\n",
       "      <td>FKPM</td>\n",
       "      <td>EVOL33-LN-G-R2</td>\n",
       "      <td>WP_000104864_1</td>\n",
       "      <td>14</td>\n",
       "      <td>0.0</td>\n",
       "    </tr>\n",
       "    <tr>\n",
       "      <th>3</th>\n",
       "      <td>3A</td>\n",
       "      <td>WP_000104864.1</td>\n",
       "      <td>1g/L_glucose</td>\n",
       "      <td>3</td>\n",
       "      <td>0.0</td>\n",
       "      <td>FKPM</td>\n",
       "      <td>EVOL33-LN-G-R3</td>\n",
       "      <td>WP_000104864_1</td>\n",
       "      <td>14</td>\n",
       "      <td>0.0</td>\n",
       "    </tr>\n",
       "    <tr>\n",
       "      <th>4</th>\n",
       "      <td>3B</td>\n",
       "      <td>WP_000104864.1</td>\n",
       "      <td>0.75g/L_phenol</td>\n",
       "      <td>1</td>\n",
       "      <td>0.0</td>\n",
       "      <td>FKPM</td>\n",
       "      <td>EVOL33-LN-LP-R1</td>\n",
       "      <td>WP_000104864_1</td>\n",
       "      <td>24</td>\n",
       "      <td>0.0</td>\n",
       "    </tr>\n",
       "    <tr>\n",
       "      <th>5</th>\n",
       "      <td>3B</td>\n",
       "      <td>WP_000104864.1</td>\n",
       "      <td>0.75g/L_phenol</td>\n",
       "      <td>2</td>\n",
       "      <td>0.0</td>\n",
       "      <td>FKPM</td>\n",
       "      <td>EVOL33-LN-LP-R2</td>\n",
       "      <td>WP_000104864_1</td>\n",
       "      <td>24</td>\n",
       "      <td>0.0</td>\n",
       "    </tr>\n",
       "  </tbody>\n",
       "</table>\n",
       "</div>"
      ],
      "text/plain": [
       "  Strain        variable       Condition  Replicate  value Units  \\\n",
       "1     3A  WP_000104864.1    1g/L_glucose          1    0.0  FKPM   \n",
       "2     3A  WP_000104864.1    1g/L_glucose          2    0.0  FKPM   \n",
       "3     3A  WP_000104864.1    1g/L_glucose          3    0.0  FKPM   \n",
       "4     3B  WP_000104864.1  0.75g/L_phenol          1    0.0  FKPM   \n",
       "5     3B  WP_000104864.1  0.75g/L_phenol          2    0.0  FKPM   \n",
       "\n",
       "         Line Name Measurement Type  Time  Value  \n",
       "1   EVOL33-LN-G-R1   WP_000104864_1    14    0.0  \n",
       "2   EVOL33-LN-G-R2   WP_000104864_1    14    0.0  \n",
       "3   EVOL33-LN-G-R3   WP_000104864_1    14    0.0  \n",
       "4  EVOL33-LN-LP-R1   WP_000104864_1    24    0.0  \n",
       "5  EVOL33-LN-LP-R2   WP_000104864_1    24    0.0  "
      ]
     },
     "execution_count": 18,
     "metadata": {},
     "output_type": "execute_result"
    }
   ],
   "source": [
    "yoneda_data['Value'] = [row['value'] for _, row in yoneda_data.iterrows()]\n",
    "yoneda_data.head()"
   ]
  },
  {
   "cell_type": "markdown",
   "id": "numerical-maple",
   "metadata": {},
   "source": [
    "### Properly organize columns"
   ]
  },
  {
   "cell_type": "code",
   "execution_count": 19,
   "id": "democratic-satin",
   "metadata": {},
   "outputs": [
    {
     "data": {
      "text/html": [
       "<div>\n",
       "<style scoped>\n",
       "    .dataframe tbody tr th:only-of-type {\n",
       "        vertical-align: middle;\n",
       "    }\n",
       "\n",
       "    .dataframe tbody tr th {\n",
       "        vertical-align: top;\n",
       "    }\n",
       "\n",
       "    .dataframe thead th {\n",
       "        text-align: right;\n",
       "    }\n",
       "</style>\n",
       "<table border=\"1\" class=\"dataframe\">\n",
       "  <thead>\n",
       "    <tr style=\"text-align: right;\">\n",
       "      <th></th>\n",
       "      <th>Line Name</th>\n",
       "      <th>Measurement Type</th>\n",
       "      <th>Time</th>\n",
       "      <th>Value</th>\n",
       "      <th>Units</th>\n",
       "    </tr>\n",
       "  </thead>\n",
       "  <tbody>\n",
       "    <tr>\n",
       "      <th>1</th>\n",
       "      <td>EVOL33-LN-G-R1</td>\n",
       "      <td>WP_000104864_1</td>\n",
       "      <td>14</td>\n",
       "      <td>0.0</td>\n",
       "      <td>FKPM</td>\n",
       "    </tr>\n",
       "    <tr>\n",
       "      <th>2</th>\n",
       "      <td>EVOL33-LN-G-R2</td>\n",
       "      <td>WP_000104864_1</td>\n",
       "      <td>14</td>\n",
       "      <td>0.0</td>\n",
       "      <td>FKPM</td>\n",
       "    </tr>\n",
       "    <tr>\n",
       "      <th>3</th>\n",
       "      <td>EVOL33-LN-G-R3</td>\n",
       "      <td>WP_000104864_1</td>\n",
       "      <td>14</td>\n",
       "      <td>0.0</td>\n",
       "      <td>FKPM</td>\n",
       "    </tr>\n",
       "    <tr>\n",
       "      <th>4</th>\n",
       "      <td>EVOL33-LN-LP-R1</td>\n",
       "      <td>WP_000104864_1</td>\n",
       "      <td>24</td>\n",
       "      <td>0.0</td>\n",
       "      <td>FKPM</td>\n",
       "    </tr>\n",
       "    <tr>\n",
       "      <th>5</th>\n",
       "      <td>EVOL33-LN-LP-R2</td>\n",
       "      <td>WP_000104864_1</td>\n",
       "      <td>24</td>\n",
       "      <td>0.0</td>\n",
       "      <td>FKPM</td>\n",
       "    </tr>\n",
       "  </tbody>\n",
       "</table>\n",
       "</div>"
      ],
      "text/plain": [
       "         Line Name Measurement Type  Time  Value Units\n",
       "1   EVOL33-LN-G-R1   WP_000104864_1    14    0.0  FKPM\n",
       "2   EVOL33-LN-G-R2   WP_000104864_1    14    0.0  FKPM\n",
       "3   EVOL33-LN-G-R3   WP_000104864_1    14    0.0  FKPM\n",
       "4  EVOL33-LN-LP-R1   WP_000104864_1    24    0.0  FKPM\n",
       "5  EVOL33-LN-LP-R2   WP_000104864_1    24    0.0  FKPM"
      ]
     },
     "execution_count": 19,
     "metadata": {},
     "output_type": "execute_result"
    }
   ],
   "source": [
    "yoneda_data.drop(['Strain','variable', 'Condition', 'Replicate'], axis=1, inplace=True)\n",
    "yoneda_data = yoneda_data[['Line Name', 'Measurement Type', 'Time', 'Value', 'Units']]\n",
    "yoneda_data.head()"
   ]
  },
  {
   "cell_type": "code",
   "execution_count": 22,
   "id": "588cde72-08fd-4b28-b575-6078f881d765",
   "metadata": {},
   "outputs": [],
   "source": [
    "yoneda_data.to_csv('../winston_data/yoneda/yoneda_trans_edd_formatted_FPKM.csv', index=False)"
   ]
  },
  {
   "cell_type": "markdown",
   "id": "leading-elimination",
   "metadata": {},
   "source": [
    "# Define function to convert all 4 versions of Yoneda data to EDD compatible csvs"
   ]
  },
  {
   "cell_type": "code",
   "execution_count": 17,
   "id": "tamil-window",
   "metadata": {},
   "outputs": [],
   "source": [
    "def winston_yoneda_txt_file_to_EDD_csv(input_file_name, output_file_name):\n",
    "    yoneda_data = pd.read_table(input_file_name, delim_whitespace=True)\n",
    "    \n",
    "    yoneda_data['Line Name'] = [row_to_line_name(row) for _, row in yoneda_data.iterrows()]\n",
    "    yoneda_data['Measurement Type'] = [row.variable.replace('.', '_') for _, row in yoneda_data.iterrows()]\n",
    "    yoneda_data['Time'] = [line_name_to_time(row['Line Name']) for _, row in yoneda_data.iterrows()]\n",
    "    yoneda_data['Value'] = [row['value'] for _, row in yoneda_data.iterrows()]\n",
    "    \n",
    "    yoneda_data.drop(['Strain','variable', 'Condition', 'Replicate'], axis=1, inplace=True)\n",
    "    EDD_data = yoneda_data[['Line Name', 'Measurement Type', 'Time', 'Value', 'Units']]\n",
    "    \n",
    "    EDD_data.to_csv(output_file_name, index=False)\n"
   ]
  },
  {
   "cell_type": "markdown",
   "id": "written-custody",
   "metadata": {},
   "source": [
    "### Run the function 4 times to convert the text files to EDD formatted csv files"
   ]
  },
  {
   "cell_type": "code",
   "execution_count": 18,
   "id": "quarterly-composite",
   "metadata": {},
   "outputs": [],
   "source": [
    "winston_yoneda_txt_file_to_EDD_csv('../winston_data/yoneda/yoneda_reprocess_CPM_melted.txt', '../winston_data/yoneda/yoneda_reprocess_CPM_melted.csv')"
   ]
  },
  {
   "cell_type": "code",
   "execution_count": 19,
   "id": "historic-payday",
   "metadata": {},
   "outputs": [],
   "source": [
    "winston_yoneda_txt_file_to_EDD_csv('../winston_data/yoneda/yoneda_reprocess_FKPM_melted.txt', '../winston_data/yoneda/yoneda_reprocess_FPKM_melted.csv')"
   ]
  },
  {
   "cell_type": "code",
   "execution_count": 20,
   "id": "velvet-mongolia",
   "metadata": {},
   "outputs": [],
   "source": [
    "winston_yoneda_txt_file_to_EDD_csv('../winston_data/yoneda/yoneda_reprocess_MR_melted.txt', '../winston_data/yoneda/yoneda_reprocess_MR_melted.csv')"
   ]
  },
  {
   "cell_type": "code",
   "execution_count": 21,
   "id": "governing-dairy",
   "metadata": {},
   "outputs": [],
   "source": [
    "winston_yoneda_txt_file_to_EDD_csv('../winston_data/yoneda/yoneda_reprocess_TMM_melted.txt', '../winston_data/yoneda/yoneda_reprocess_TMM_melted.csv')"
   ]
  }
 ],
 "metadata": {
  "kernelspec": {
   "display_name": "biodesign_3.7",
   "language": "python",
   "name": "biod_3.7"
  },
  "language_info": {
   "codemirror_mode": {
    "name": "ipython",
    "version": 3
   },
   "file_extension": ".py",
   "mimetype": "text/x-python",
   "name": "python",
   "nbconvert_exporter": "python",
   "pygments_lexer": "ipython3",
   "version": "3.7.4"
  }
 },
 "nbformat": 4,
 "nbformat_minor": 5
}

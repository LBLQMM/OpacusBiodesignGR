{
 "cells": [
  {
   "cell_type": "code",
   "execution_count": 43,
   "metadata": {},
   "outputs": [],
   "source": [
    "from bs4 import BeautifulSoup\n",
    "import requests\n",
    "import cobra\n"
   ]
  },
  {
   "cell_type": "code",
   "execution_count": 41,
   "metadata": {},
   "outputs": [],
   "source": [
    "# protein_product has form 'WP_187300246_1'\n",
    "def get_gene_id(protein_product):\n",
    "    url = f'https://www.ncbi.nlm.nih.gov/protein/{protein_product}'\n",
    "    r = requests.get(url)\n",
    "    soup = BeautifulSoup(r.text, 'html.parser')\n",
    "\n",
    "    for meta_tag in soup.find_all('meta'):\n",
    "        if 'ncbi_uidlist' in str(meta_tag):\n",
    "            possible_ids = str(meta_tag).split('\"')\n",
    "            for possible_id in possible_ids:\n",
    "                try:\n",
    "                    int(possible_id)\n",
    "                    return possible_id\n",
    "                except:\n",
    "                    pass"
   ]
  },
  {
   "cell_type": "code",
   "execution_count": 44,
   "metadata": {},
   "outputs": [],
   "source": [
    "model = cobra.io.read_sbml_model(\"Ropacus_carveme_grampos.xml\")"
   ]
  },
  {
   "cell_type": "markdown",
   "metadata": {},
   "source": [
    "This cell seemingly randomly stops due to remote connection being lost. Uncomment to create gene Ids."
   ]
  },
  {
   "cell_type": "code",
   "execution_count": 1,
   "metadata": {},
   "outputs": [],
   "source": [
    "# gene_ids = {}\n",
    "# counter = 0\n",
    "# for g in model.genes:\n",
    "#     gene_ids[g.id] = get_gene_id(g.id)\n",
    "\n",
    "#     counter += 1\n",
    "#     if counter % 10 == 0:\n",
    "#         print(counter)"
   ]
  },
  {
   "cell_type": "code",
   "execution_count": 54,
   "metadata": {},
   "outputs": [
    {
     "data": {
      "text/plain": [
       "{'WP_187300246_1': '1897646059',\n",
       " 'WP_025432775_1': '645061497',\n",
       " 'WP_005248578_1': '491390707',\n",
       " 'WP_025433613_1': '645062335',\n",
       " 'WP_005249637_1': '491391773',\n",
       " 'WP_005248999_1': '491391131',\n",
       " 'WP_025433301_1': '645062023',\n",
       " 'WP_005246696_1': '491388823',\n",
       " 'WP_005244822_1': '491386945',\n",
       " 'WP_005250095_1': '491392232',\n",
       " 'WP_005252000_1': '491394138',\n",
       " 'WP_005245250_1': '491387376',\n",
       " 'WP_005239747_1': '491381865',\n",
       " 'WP_005241234_1': '491383353',\n",
       " 'WP_005239921_1': '491382039',\n",
       " 'WP_005237913_1': '491380030',\n",
       " 'WP_005248143_1': '491390270',\n",
       " 'WP_025433549_1': '645062271',\n",
       " 'WP_025433337_1': '645062059',\n",
       " 'WP_005251125_1': '491393263',\n",
       " 'WP_025433317_1': '645062039',\n",
       " 'WP_005250914_1': '491393052',\n",
       " 'WP_005243991_1': '491386110',\n",
       " 'WP_005237880_1': '491379996',\n",
       " 'WP_005244597_1': '491386718',\n",
       " 'WP_025433919_1': '645062641',\n",
       " 'WP_005248537_1': '491390665',\n",
       " 'WP_005246520_1': '491388647',\n",
       " 'WP_005248746_1': '491390876',\n",
       " 'WP_005241305_1': '491383424',\n",
       " 'WP_005252932_1': '491395070',\n",
       " 'WP_005245262_1': '491387388',\n",
       " 'WP_005246169_1': '491388296',\n",
       " 'WP_005251119_1': '491393257',\n",
       " 'WP_005250766_1': '491392903',\n",
       " 'WP_005241413_1': '491383532',\n",
       " 'WP_005238098_1': '491380215',\n",
       " 'WP_005237762_1': '491379877',\n",
       " 'WP_005248478_1': '491390606',\n",
       " 'WP_005237763_1': '491379878',\n",
       " 'WP_005243360_1': '491385479',\n",
       " 'WP_080578199_1': '1171028059',\n",
       " 'WP_025432619_1': '645061341',\n",
       " 'WP_005239499_1': '491381617',\n",
       " 'WP_025433264_1': '645061986',\n",
       " 'WP_025432001_1': '645060723',\n",
       " 'WP_005243411_1': '491385530',\n",
       " 'WP_025433939_1': '645062661',\n",
       " 'WP_005251081_1': '491393219',\n",
       " 'WP_005250106_1': '491392243',\n",
       " 'WP_025431770_1': '645060492',\n",
       " 'WP_025433439_1': '645062161',\n",
       " 'WP_005242497_1': '491384616',\n",
       " 'WP_025432012_1': '645060734',\n",
       " 'WP_005243329_1': '491385448',\n",
       " 'WP_005252945_1': '491395084',\n",
       " 'WP_005238985_1': '491381103',\n",
       " 'WP_005245383_1': '491387509',\n",
       " 'WP_005250033_1': '491392170',\n",
       " 'WP_080578204_1': '1171028064',\n",
       " 'WP_005238605_1': '491380722',\n",
       " 'WP_005239956_1': '491382074',\n",
       " 'WP_005245861_1': '491387987',\n",
       " 'WP_005244800_1': '491386922',\n",
       " 'WP_005238606_1': '491380723',\n",
       " 'WP_005251153_1': '491393291'}"
      ]
     },
     "execution_count": 54,
     "metadata": {},
     "output_type": "execute_result"
    }
   ],
   "source": [
    "gene_ids"
   ]
  },
  {
   "cell_type": "code",
   "execution_count": null,
   "metadata": {},
   "outputs": [],
   "source": []
  }
 ],
 "metadata": {
  "kernelspec": {
   "display_name": "Python 3",
   "language": "python",
   "name": "python3"
  },
  "language_info": {
   "codemirror_mode": {
    "name": "ipython",
    "version": 3
   },
   "file_extension": ".py",
   "mimetype": "text/x-python",
   "name": "python",
   "nbconvert_exporter": "python",
   "pygments_lexer": "ipython3",
   "version": "3.5.3"
  }
 },
 "nbformat": 4,
 "nbformat_minor": 4
}

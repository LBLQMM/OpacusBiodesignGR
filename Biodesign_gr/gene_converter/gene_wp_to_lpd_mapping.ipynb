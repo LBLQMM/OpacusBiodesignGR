{
 "cells": [
  {
   "cell_type": "markdown",
   "metadata": {},
   "source": [
    "# Gene Mapping\n",
    "The goal of this notebook is to find a way to map rhodococcus genes from ncbi format (WP#######) to LPD format (LPD######)<br>\n",
    "The purpose is that the genes in the genome scale model are WP#### and the transcriptomic and proteomic data is in LPD######"
   ]
  },
  {
   "cell_type": "code",
   "execution_count": 16,
   "metadata": {},
   "outputs": [],
   "source": [
    "%matplotlib inline\n",
    "from matplotlib import pyplot as plt\n",
    "from IPython.display import IFrame\n",
    "import numpy as np\n",
    "import pandas as pd\n",
    "import json\n",
    "import urllib\n",
    "import cobra\n",
    "import cplex\n",
    "import os\n",
    "import requests\n",
    "import collections\n",
    "import itertools\n",
    "import requests\n",
    "\n",
    "import cobra.test\n",
    "from cobra.flux_analysis import gapfill"
   ]
  },
  {
   "cell_type": "markdown",
   "metadata": {},
   "source": [
    "Upload transcriptomics data from Yoneda et al."
   ]
  },
  {
   "cell_type": "code",
   "execution_count": 5,
   "metadata": {},
   "outputs": [],
   "source": [
    "yoneda_transcriptomics = pd.read_csv('../../EDD_Yoneda_data/Yoneda_set3_transcriptomics_data.csv')\n",
    "\n",
    "# OpacusBiodesign/EDD_Yoneda_data/Yoneda_set3_transcriptomics_data.csv"
   ]
  },
  {
   "cell_type": "code",
   "execution_count": 11,
   "metadata": {},
   "outputs": [
    {
     "name": "stdout",
     "output_type": "stream",
     "text": [
      "There are 15685 genes measured in Yoneda et al.\n"
     ]
    }
   ],
   "source": [
    "measured_genes = list(set(yoneda_transcriptomics['Measurement Type']))\n",
    "print(f'There are {len(measured_genes)} genes measured in Yoneda et al.')"
   ]
  },
  {
   "cell_type": "code",
   "execution_count": 21,
   "metadata": {},
   "outputs": [
    {
     "name": "stdout",
     "output_type": "stream",
     "text": [
      "['PD630_LPD17030', 'PD630_LPD17031', 'PD630_LPD17032', 'PD630_LPD17033', 'PD630_LPD17034', 'PD630_LPD17035', 'PD630_LPD17036', 'PD630_LPD17037', 'PD630_LPD17038', 'PD630_LPD17039']\n"
     ]
    }
   ],
   "source": [
    "measured_genes.sort()\n",
    "print(measured_genes[-10:])"
   ]
  },
  {
   "cell_type": "code",
   "execution_count": 18,
   "metadata": {},
   "outputs": [],
   "source": [
    "kegg_base_url = 'https://www.kegg.jp/dbget-bin/www_bget?roa:'"
   ]
  },
  {
   "cell_type": "code",
   "execution_count": 19,
   "metadata": {},
   "outputs": [
    {
     "name": "stdout",
     "output_type": "stream",
     "text": [
      "https://www.kegg.jp/dbget-bin/www_bget?roa:PD630_LPD00001\n",
      "https://www.kegg.jp/dbget-bin/www_bget?roa:PD630_LPD00002\n",
      "https://www.kegg.jp/dbget-bin/www_bget?roa:PD630_LPD00003\n",
      "https://www.kegg.jp/dbget-bin/www_bget?roa:PD630_LPD00004\n",
      "https://www.kegg.jp/dbget-bin/www_bget?roa:PD630_LPD00005\n",
      "https://www.kegg.jp/dbget-bin/www_bget?roa:PD630_LPD00006\n",
      "https://www.kegg.jp/dbget-bin/www_bget?roa:PD630_LPD00007\n",
      "https://www.kegg.jp/dbget-bin/www_bget?roa:PD630_LPD00008\n",
      "https://www.kegg.jp/dbget-bin/www_bget?roa:PD630_LPD00009\n",
      "https://www.kegg.jp/dbget-bin/www_bget?roa:PD630_LPD00010\n"
     ]
    }
   ],
   "source": [
    "for gene in measured_genes[:10]:\n",
    "    kegg_url = kegg_base_url + gene\n",
    "    print(kegg_url)"
   ]
  },
  {
   "cell_type": "code",
   "execution_count": null,
   "metadata": {},
   "outputs": [],
   "source": []
  }
 ],
 "metadata": {
  "kernelspec": {
   "display_name": "biodesign_3.7",
   "language": "python",
   "name": "biod_3.7"
  },
  "language_info": {
   "codemirror_mode": {
    "name": "ipython",
    "version": 3
   },
   "file_extension": ".py",
   "mimetype": "text/x-python",
   "name": "python",
   "nbconvert_exporter": "python",
   "pygments_lexer": "ipython3",
   "version": "3.7.4"
  }
 },
 "nbformat": 4,
 "nbformat_minor": 4
}
